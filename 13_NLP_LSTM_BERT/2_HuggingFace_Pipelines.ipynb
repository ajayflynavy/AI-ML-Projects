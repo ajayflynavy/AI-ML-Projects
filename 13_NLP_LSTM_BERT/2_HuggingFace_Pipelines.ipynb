{
  "nbformat": 4,
  "nbformat_minor": 0,
  "metadata": {
    "kernelspec": {
      "display_name": "Python 3",
      "language": "python",
      "name": "python3"
    },
    "language_info": {
      "codemirror_mode": {
        "name": "ipython",
        "version": 3
      },
      "file_extension": ".py",
      "mimetype": "text/x-python",
      "name": "python",
      "nbconvert_exporter": "python",
      "pygments_lexer": "ipython3",
      "version": "3.7.6"
    },
    "pycharm": {
      "stem_cell": {
        "cell_type": "raw",
        "source": [],
        "metadata": {
          "collapsed": false
        }
      }
    },
    "colab": {
      "name": "2. HuggingFace Pipelines.ipynb",
      "private_outputs": true,
      "provenance": []
    },
    "accelerator": "GPU"
  },
  "cells": [
    {
      "cell_type": "markdown",
      "metadata": {
        "pycharm": {
          "name": "#%% md\n"
        },
        "id": "qUU7wy-brl_H"
      },
      "source": [
        "## How can I leverage State-of-the-Art Natural Language Models with only one line of code ?"
      ]
    },
    {
      "cell_type": "markdown",
      "metadata": {
        "pycharm": {
          "name": "#%% md\n"
        },
        "id": "-HLOHXuArl_L"
      },
      "source": [
        "Newly introduced in transformers v2.3.0, **pipelines** provides a high-level, easy to use,\n",
        "API for doing inference over a variety of downstream-tasks, including: \n",
        "\n",
        "- ***Sentence Classification _(Sentiment Analysis)_***: Indicate if the overall sentence is either positive or negative, i.e. *binary classification task* or *logitic regression task*.\n",
        "- ***Token Classification (Named Entity Recognition, Part-of-Speech tagging)***: For each sub-entities _(*tokens*)_ in the input, assign them a label, i.e. classification task.\n",
        "- ***Question-Answering***: Provided a tuple (`question`, `context`) the model should find the span of text in `content` answering the `question`.\n",
        "- ***Mask-Filling***: Suggests possible word(s) to fill the masked input with respect to the provided `context`.\n",
        "- ***Summarization***: Summarizes the ``input`` article to a shorter article.\n",
        "- ***Feature Extraction***: Maps the input to a higher, multi-dimensional space learned from the data.\n",
        "\n",
        "Pipelines encapsulate the overall process of every NLP process:\n",
        " \n",
        " 1. *Tokenization*: Split the initial input into multiple sub-entities with ... properties (i.e. tokens).\n",
        " 2. *Inference*: Maps every tokens into a more meaningful representation. \n",
        " 3. *Decoding*: Use the above representation to generate and/or extract the final output for the underlying task.\n",
        "\n",
        "The overall API is exposed to the end-user through the `pipeline()` method with the following \n",
        "structure:\n",
        "\n",
        "```python\n",
        "from transformers import pipeline\n",
        "\n",
        "# Using default model and tokenizer for the task\n",
        "pipeline(\"<task-name>\")\n",
        "\n",
        "# Using a user-specified model\n",
        "pipeline(\"<task-name>\", model=\"<model_name>\")\n",
        "\n",
        "# Using custom model/tokenizer as str\n",
        "pipeline('<task-name>', model='<model name>', tokenizer='<tokenizer_name>')\n",
        "```\n",
        "\n",
        "Pre-trained models are available at https://huggingface.co/models"
      ]
    },
    {
      "cell_type": "code",
      "metadata": {
        "pycharm": {
          "name": "#%% code\n"
        },
        "id": "4maAknWNrl_N"
      },
      "source": [
        "!pip install -q transformers"
      ],
      "execution_count": null,
      "outputs": []
    },
    {
      "cell_type": "code",
      "metadata": {
        "pycharm": {
          "is_executing": false,
          "name": "#%% code \n"
        },
        "id": "uKaqzCh6rl_V"
      },
      "source": [
        "from transformers import pipeline"
      ],
      "execution_count": null,
      "outputs": []
    },
    {
      "cell_type": "markdown",
      "metadata": {
        "pycharm": {
          "name": "#%% md\n"
        },
        "id": "uDPZ42Uerl_b"
      },
      "source": [
        "## 1. Sentence Classification - Sentiment Analysis"
      ]
    },
    {
      "cell_type": "code",
      "metadata": {
        "pycharm": {
          "is_executing": false,
          "name": "#%% code\n"
        },
        "id": "AMRXHQw9rl_d"
      },
      "source": [
        "#Initialize Sentiment analysis pipeline\n",
        "nlp_sentence_classif = pipeline('sentiment-analysis')"
      ],
      "execution_count": null,
      "outputs": []
    },
    {
      "cell_type": "code",
      "metadata": {
        "id": "Mx7w3XJxLaMN"
      },
      "source": [
        "#Feed the text for classification\n",
        "nlp_sentence_classif('Such a nice weather outside !')"
      ],
      "execution_count": null,
      "outputs": []
    },
    {
      "cell_type": "code",
      "metadata": {
        "id": "gINw2brELlGP"
      },
      "source": [
        "#Feed the text for classification\n",
        "nlp_sentence_classif('That was a beautiful movie.')"
      ],
      "execution_count": null,
      "outputs": []
    },
    {
      "cell_type": "code",
      "metadata": {
        "id": "HovKKEqVLf-5"
      },
      "source": [
        "#Feed the text for classification\n",
        "nlp_sentence_classif('That was not a nice movie')"
      ],
      "execution_count": null,
      "outputs": []
    },
    {
      "cell_type": "markdown",
      "metadata": {
        "pycharm": {
          "name": "#%% md\n"
        },
        "id": "RY8aUJTvrl_k"
      },
      "source": [
        "## 2. Named Entity Recognition"
      ]
    },
    {
      "cell_type": "code",
      "metadata": {
        "pycharm": {
          "is_executing": false,
          "name": "#%% code\n"
        },
        "id": "B3BDRX_Krl_n"
      },
      "source": [
        "#Initialize the pipeline for NER\n",
        "nlp_token_class = pipeline('ner')"
      ],
      "execution_count": null,
      "outputs": []
    },
    {
      "cell_type": "code",
      "metadata": {
        "id": "CSw3DYYR2_Py"
      },
      "source": [
        "#nlp_token_class.model"
      ],
      "execution_count": null,
      "outputs": []
    },
    {
      "cell_type": "code",
      "metadata": {
        "id": "yjPF4XuxL_af"
      },
      "source": [
        "#Feed the text for NER\n",
        "nlp_token_class('Hugging Face is a French company based in New-York.')"
      ],
      "execution_count": null,
      "outputs": []
    },
    {
      "cell_type": "markdown",
      "metadata": {
        "id": "qIvUFEVarl_s"
      },
      "source": [
        "## 3. Question Answering"
      ]
    },
    {
      "cell_type": "code",
      "metadata": {
        "pycharm": {
          "is_executing": false,
          "name": "#%% code\n"
        },
        "id": "ND_8LzQKrl_u"
      },
      "source": [
        "#Initialize pipeline for Question Answering\n",
        "nlp_qa = pipeline('question-answering')"
      ],
      "execution_count": null,
      "outputs": []
    },
    {
      "cell_type": "code",
      "metadata": {
        "id": "pXt5y0p7MqP1"
      },
      "source": [
        "#Feed a Paragraph and ask questions from the same\n",
        "paragraph = 'Hugging Face is a French company based in New-York.'\n",
        "question = 'Where is Hugging Face based?'\n",
        "nlp_qa(context=paragraph, question=question)"
      ],
      "execution_count": null,
      "outputs": []
    },
    {
      "cell_type": "code",
      "metadata": {
        "id": "HzUljfClNNRa"
      },
      "source": [
        "article = \"\"\"Google LLC is an American multinational technology company that specializes in Internet-related \n",
        "            services and products, which include online advertising technologies, search engine, \n",
        "            cloud computing, software, and hardware. It is considered one of the Big Four technology companies, \n",
        "            alongside Amazon, Apple, and Facebook. Google was founded in September 1998 by Larry Page and\n",
        "            Sergey Brin while they were Ph.D. students at Stanford University in California. Together they \n",
        "            own about 14 percent of its shares and control 56 percent of the stockholder voting power \n",
        "            through supervoting stock. They incorporated Google as a California privately held company \n",
        "            on September 4, 1998, in California. Google was then reincorporated in Delaware on October \n",
        "            22, 2002. An initial public offering (IPO) took place on August 19, 2004, and Google moved to \n",
        "            its headquarters in Mountain View, California, nicknamed the Googleplex. In August 2015, \n",
        "            Google announced plans to reorganize its various interests as a conglomerate called Alphabet Inc. \n",
        "            Google is Alphabet's leading subsidiary and will continue to be the umbrella company for Alphabet's \n",
        "            Internet interests. Sundar Pichai was appointed CEO of Google, replacing Larry Page who became \n",
        "            the CEO of Alphabet.\"\"\".replace('\\n','')"
      ],
      "execution_count": null,
      "outputs": []
    },
    {
      "cell_type": "code",
      "metadata": {
        "id": "KnN8lqr9Ni-o"
      },
      "source": [
        "nlp_qa(context=article, question='Who is the CEO of Google?')"
      ],
      "execution_count": null,
      "outputs": []
    },
    {
      "cell_type": "code",
      "metadata": {
        "id": "g8vukbq7NuB1"
      },
      "source": [
        "nlp_qa(context=article, question='When did Google start its operations?')"
      ],
      "execution_count": null,
      "outputs": []
    },
    {
      "cell_type": "code",
      "metadata": {
        "id": "yJtbie9XN1DE"
      },
      "source": [
        "nlp_qa(context=article, question='Who is the founder of Google?')"
      ],
      "execution_count": null,
      "outputs": []
    },
    {
      "cell_type": "code",
      "metadata": {
        "id": "9uFkvsILN_wg"
      },
      "source": [
        "nlp_qa(context=article, question='Where is Google office located?')"
      ],
      "execution_count": null,
      "outputs": []
    },
    {
      "cell_type": "markdown",
      "metadata": {
        "id": "9W_CnP5Zrl_2"
      },
      "source": [
        "## 4. Text Generation - Mask Filling"
      ]
    },
    {
      "cell_type": "code",
      "metadata": {
        "pycharm": {
          "is_executing": false,
          "name": "#%% code\n"
        },
        "id": "zpJQ2HXNrl_4"
      },
      "source": [
        "#Initialize the pipeline\n",
        "nlp_fill = pipeline('fill-mask')"
      ],
      "execution_count": null,
      "outputs": []
    },
    {
      "cell_type": "code",
      "metadata": {
        "id": "DhDJ4zyiObNb"
      },
      "source": [
        "#Provide a text with MASKed words that need to be filled up\n",
        "nlp_fill('Hugging Face is a French company based in ' + nlp_fill.tokenizer.mask_token)"
      ],
      "execution_count": null,
      "outputs": []
    },
    {
      "cell_type": "code",
      "metadata": {
        "id": "lcbxaeyYOnQK"
      },
      "source": [
        "nlp_fill('In Machine Learning, Machine learns ' + nlp_fill.tokenizer.mask_token + ' and biases.')"
      ],
      "execution_count": null,
      "outputs": []
    },
    {
      "cell_type": "markdown",
      "metadata": {
        "id": "Fbs9t1KvrzDy"
      },
      "source": [
        "## 5. Summarization"
      ]
    },
    {
      "cell_type": "code",
      "metadata": {
        "id": "Nnhk4cF7PTJm"
      },
      "source": [
        "#initialize pipeline\n",
        "summarizer = pipeline('summarization')"
      ],
      "execution_count": null,
      "outputs": []
    },
    {
      "cell_type": "code",
      "metadata": {
        "id": "8BaOgzi1u1Yc"
      },
      "source": [
        "LONG_BORING_TENNIS_ARTICLE = \"\"\"\n",
        " Andy Murray  came close to giving himself some extra preparation time for his w\n",
        "edding next week before ensuring that he still has unfinished tennis business to\n",
        " attend to. The world No 4 is into the semi-finals of the Miami Open, but not be\n",
        "fore getting a scare from 21 year-old Austrian Dominic Thiem, who pushed him to \n",
        "4-4 in the second set before going down 3-6 6-4, 6-1 in an hour and three quarte\n",
        "rs. Murray was awaiting the winner from the last eight match between Tomas Berdy\n",
        "ch and Argentina's Juan Monaco. Prior to this tournament Thiem lost in the secon\n",
        "d round of a Challenger event to soon-to-be new Brit Aljaz Bedene. Andy Murray p\n",
        "umps his first after defeating Dominic Thiem to reach the Miami Open semi finals\n",
        " . Muray throws his sweatband into the crowd after completing a 3-6, 6-4, 6-1 vi\n",
        "ctory in Florida . Murray shakes hands with Thiem who he described as a 'strong \n",
        "guy' after the game . And Murray has a fairly simple message for any of his fell\n",
        "ow British tennis players who might be agitated about his imminent arrival into \n",
        "the home ranks: don't complain. Instead the British No 1 believes his colleagues\n",
        " should use the assimilation of the world number 83, originally from Slovenia, a\n",
        "s motivation to better themselves. At present any grumbles are happening in priv\n",
        "ate, and Bedene's present ineligibility for the Davis Cup team has made it less \n",
        "of an issue, although that could change if his appeal to play is allowed by the \n",
        "International Tennis Federation. Murray thinks anyone questioning the move, now \n",
        "it has become official, would be better working on getting their ranking closer \n",
        "to his. 'If he was 500 in the world they wouldn't be that fussed about it but ob\n",
        "viously he threatens their position a bit,' said the 27 year-old Scot. ' and he'\n",
        "s obviously the British number two, comfortably. 'So they can complain but the b\n",
        "est thing to do is use it in the right way and accept it for what it is, and try\n",
        " to use it as motivation whether they agree with it or not. He's British now so \n",
        "they've just got to deal with it. Murray stretches for a return after starting h\n",
        "is quarter final match slowly on the show court . Thiem held nothing back as he \n",
        "raced through the opening set, winning it 6-3 with a single break . The young Au\n",
        "strian is considered to be one of the hottest prospects on the ATP Tour . 'I wou\n",
        "ld hope that all the guys who are below him now like James (Ward) , Kyle (Edmund\n",
        ") , Liam (Broady) they will use it as motivation. If he becomes eligible for Dav\n",
        "is Cup then those guys are going to have to prove themselves. 'It can only be se\n",
        "en as a positive for those guys using it to try to get better. He's a good playe\n",
        "r but so are James and Kyle and Liam has improved. Aljaz is there, he's on the t\n",
        "our every week, the other guys aren't quite there yet.' For the first time Murra\n",
        "y, who has an encyclopaedic knowledge of the top 100, gave his opinion of Bedene\n",
        ": 'He's a good player with a very good serve. He's a legitimate top 100 player, \n",
        "when he plays Challengers he's there or thereabouts, when he plays on the main t\n",
        "our he wins matches, it's not like he turns up and always loses in the first rou\n",
        "nd. Murray's fiancee was once again watching from the stands shaded by a huge br\n",
        "immed hat . Kim Sears flashes her enormous diamond engagement ring while watchin\n",
        "g her beau on court . 'He had a bad injury last year (wrist) but has recovered w\n",
        "ell. I would imagine he would keep moving up the rankings although I don't know \n",
        "exactly how high he can go. I've practised with him a couple of times, I haven't\n",
        " seen him play loads, but when you serve as well as he does it helps. I would im\n",
        "agine he' s going to be comfortably in the top 70 or 80 in the world for a while\n",
        ".' It is understood the Lawn Tennis Association will give background support to \n",
        "his case regarding the Davis Cup but have made it clear that the onus is on him \n",
        "to lead the way. An official statement said: 'To have another player in the men'\n",
        "s top 100 is clearly a positive thing for British tennis and so we very much wel\n",
        "come Aljaz's change in citizenship.' The last comparable switch came twenty year\n",
        "s ago when Greg Rusedski arrived from Canada. It was by no means universally pop\n",
        "ular but, like Bedene, he pledged that he was in for the long haul and, in fairn\n",
        "ess to him, he proved true to his word. Loising the first set shocked Murray int\n",
        "o life as he raced to a commanding lead in the second . The No 3 seed sent over \n",
        "a few glaring looks towards his team before winning the second set .\n",
        "\"\"\".replace('\\n','')"
      ],
      "execution_count": null,
      "outputs": []
    },
    {
      "cell_type": "code",
      "metadata": {
        "id": "GqxZYJVjPYvU"
      },
      "source": [
        "summarizer(LONG_BORING_TENNIS_ARTICLE)"
      ],
      "execution_count": null,
      "outputs": []
    },
    {
      "cell_type": "markdown",
      "metadata": {
        "id": "qPUpg0M8hCtB"
      },
      "source": [
        "## 6. Text Generation"
      ]
    },
    {
      "cell_type": "code",
      "metadata": {
        "id": "5pKfxTxohXuZ"
      },
      "source": [
        "text_generator = pipeline(\"text-generation\")"
      ],
      "execution_count": null,
      "outputs": []
    },
    {
      "cell_type": "code",
      "metadata": {
        "id": "-4FpzqhhQ-UP"
      },
      "source": [
        "output = text_generator(\"Today is a beautiful day and I will\", )\n",
        "print(output[0]['generated_text'])"
      ],
      "execution_count": null,
      "outputs": []
    },
    {
      "cell_type": "markdown",
      "metadata": {
        "id": "Utmldmetrl_9"
      },
      "source": [
        "## 7. Projection - Features Extraction "
      ]
    },
    {
      "cell_type": "code",
      "metadata": {
        "pycharm": {
          "is_executing": false,
          "name": "#%% code\n"
        },
        "id": "O4SjR1QQrl__"
      },
      "source": [
        "import numpy as np\n",
        "nlp_features = pipeline('feature-extraction')\n",
        "output = nlp_features('Hugging Face is a French company based in Paris')\n",
        "np.array(output).shape   # (Samples, Tokens, Vector Size)"
      ],
      "execution_count": null,
      "outputs": []
    }
  ]
}