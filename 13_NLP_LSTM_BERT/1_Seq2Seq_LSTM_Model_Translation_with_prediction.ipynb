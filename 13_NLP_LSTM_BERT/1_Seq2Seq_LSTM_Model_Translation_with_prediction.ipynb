{
  "nbformat": 4,
  "nbformat_minor": 0,
  "metadata": {
    "colab": {
      "name": "1. Seq2Seq LSTM Model - Translation_with_prediction.ipynb",
      "provenance": [],
      "collapsed_sections": [
        "r-IatvBFKXnY",
        "iDZlu731KXob"
      ]
    },
    "language_info": {
      "codemirror_mode": {
        "name": "ipython",
        "version": 3
      },
      "file_extension": ".py",
      "mimetype": "text/x-python",
      "name": "python",
      "nbconvert_exporter": "python",
      "pygments_lexer": "ipython3",
      "version": "3.6.7"
    },
    "kernelspec": {
      "name": "python3",
      "display_name": "Python 3"
    },
    "accelerator": "GPU"
  },
  "cells": [
    {
      "cell_type": "markdown",
      "metadata": {
        "id": "5csO-wPPKXmw"
      },
      "source": [
        "### Load tensorflow"
      ]
    },
    {
      "cell_type": "code",
      "metadata": {
        "id": "W0ttJZT3KXmx"
      },
      "source": [
        "import tensorflow as tf"
      ],
      "execution_count": 2,
      "outputs": []
    },
    {
      "cell_type": "markdown",
      "metadata": {
        "id": "80Pcvzu4KXmz"
      },
      "source": [
        "### Read the data\n",
        "<font size=\"2\">Data for this exercise can be downloaded from http://www.manythings.org/anki/</font>"
      ]
    },
    {
      "cell_type": "code",
      "metadata": {
        "id": "vQBFJRquKXm0"
      },
      "source": [
        "#You can use wget to download the file directly\n",
        "!wget http://www.manythings.org/anki/hin-eng.zip --quiet"
      ],
      "execution_count": 3,
      "outputs": []
    },
    {
      "cell_type": "code",
      "metadata": {
        "id": "E4V6ZdyClsfE",
        "colab": {
          "base_uri": "https://localhost:8080/"
        },
        "outputId": "208f757f-4b21-4699-9ba4-6abf39378bb7"
      },
      "source": [
        "!ls -l"
      ],
      "execution_count": 4,
      "outputs": [
        {
          "output_type": "stream",
          "name": "stdout",
          "text": [
            "total 268\n",
            "-rw-r--r-- 1 root root 133900 Jul 14 01:16 hin-eng.zip\n",
            "-rw-r--r-- 1 root root 133900 Jul 14 01:16 hin-eng.zip.1\n",
            "drwxr-xr-x 1 root root   4096 Sep 30 17:12 sample_data\n"
          ]
        }
      ]
    },
    {
      "cell_type": "code",
      "metadata": {
        "id": "JtMmO7f0aJdg",
        "colab": {
          "base_uri": "https://localhost:8080/"
        },
        "outputId": "ea6c70fe-6800-4661-a05e-1355326e3c29"
      },
      "source": [
        "#Unzip \n",
        "!unzip hin-eng.zip"
      ],
      "execution_count": 5,
      "outputs": [
        {
          "output_type": "stream",
          "name": "stdout",
          "text": [
            "Archive:  hin-eng.zip\n",
            "  inflating: hin.txt                 \n",
            "  inflating: _about.txt              \n"
          ]
        }
      ]
    },
    {
      "cell_type": "code",
      "metadata": {
        "id": "QuTZABCz9qJC",
        "colab": {
          "base_uri": "https://localhost:8080/"
        },
        "outputId": "629e609b-692c-40d7-cbfd-cd4349e49982"
      },
      "source": [
        "!ls -l"
      ],
      "execution_count": 6,
      "outputs": [
        {
          "output_type": "stream",
          "name": "stdout",
          "text": [
            "total 836\n",
            "-rw-r--r-- 1 root root   1441 Jul 14 10:16 _about.txt\n",
            "-rw-r--r-- 1 root root 133900 Jul 14 01:16 hin-eng.zip\n",
            "-rw-r--r-- 1 root root 133900 Jul 14 01:16 hin-eng.zip.1\n",
            "-rw-r--r-- 1 root root 576735 Jul 14 10:16 hin.txt\n",
            "drwxr-xr-x 1 root root   4096 Sep 30 17:12 sample_data\n"
          ]
        }
      ]
    },
    {
      "cell_type": "code",
      "metadata": {
        "id": "jPUrsgVkaPi7",
        "colab": {
          "base_uri": "https://localhost:8080/"
        },
        "outputId": "3fdb5980-15bd-4be3-fa6c-d1350c2ad1db"
      },
      "source": [
        "!cat hin.txt"
      ],
      "execution_count": 7,
      "outputs": [
        {
          "output_type": "stream",
          "name": "stdout",
          "text": [
            "Wow!\tवाह!\tCC-BY 2.0 (France) Attribution: tatoeba.org #52027 (Zifre) & #6179147 (fastrizwaan)\n",
            "Duck!\tझुको!\tCC-BY 2.0 (France) Attribution: tatoeba.org #280158 (CM) & #6179041 (fastrizwaan)\n",
            "Duck!\tबतख़!\tCC-BY 2.0 (France) Attribution: tatoeba.org #280158 (CM) & #6179042 (fastrizwaan)\n",
            "Help!\tबचाओ!\tCC-BY 2.0 (France) Attribution: tatoeba.org #435084 (lukaszpp) & #459377 (minshirui)\n",
            "Jump.\tउछलो.\tCC-BY 2.0 (France) Attribution: tatoeba.org #631038 (Shishir) & #6179121 (fastrizwaan)\n",
            "Jump.\tकूदो.\tCC-BY 2.0 (France) Attribution: tatoeba.org #631038 (Shishir) & #6179122 (fastrizwaan)\n",
            "Jump.\tछलांग.\tCC-BY 2.0 (France) Attribution: tatoeba.org #631038 (Shishir) & #6179123 (fastrizwaan)\n",
            "Hello!\tनमस्ते।\tCC-BY 2.0 (France) Attribution: tatoeba.org #373330 (CK) & #480306 (minshirui)\n",
            "Hello!\tनमस्कार।\tCC-BY 2.0 (France) Attribution: tatoeba.org #373330 (CK) & #480307 (minshirui)\n",
            "Cheers!\tवाह-वाह!\tCC-BY 2.0 (France) Attribution: tatoeba.org #487006 (human600) & #6179113 (fastrizwaan)\n",
            "Cheers!\tचियर्स!\tCC-BY 2.0 (France) Attribution: tatoeba.org #487006 (human600) & #6179114 (fastrizwaan)\n",
            "Got it?\tसमझे कि नहीं?\tCC-BY 2.0 (France) Attribution: tatoeba.org #455353 (CM) & #494183 (minshirui)\n",
            "I'm OK.\tमैं ठीक हूँ।\tCC-BY 2.0 (France) Attribution: tatoeba.org #433763 (CK) & #588502 (minshirui)\n",
            "Thanks!\tधन्यवाद!\tCC-BY 2.0 (France) Attribution: tatoeba.org #448645 (CK) & #509386 (minshirui)\n",
            "We won.\tहम जीते।\tCC-BY 2.0 (France) Attribution: tatoeba.org #2107675 (CK) & #8876364 (simranbansal)\n",
            "Awesome!\tबहुत बढ़िया!\tCC-BY 2.0 (France) Attribution: tatoeba.org #433512 (CK) & #6179061 (fastrizwaan)\n",
            "Come in.\tअंदर आ जाओ।\tCC-BY 2.0 (France) Attribution: tatoeba.org #348091 (Hertz) & #476349 (minshirui)\n",
            "Get out!\tबाहर निकल जाओ!\tCC-BY 2.0 (France) Attribution: tatoeba.org #266790 (CK) & #588488 (minshirui)\n",
            "Go away!\tचले जाओ!\tCC-BY 2.0 (France) Attribution: tatoeba.org #433518 (CK) & #588489 (minshirui)\n",
            "Goodbye!\tख़ुदा हाफ़िज़।\tCC-BY 2.0 (France) Attribution: tatoeba.org #516745 (minshirui) & #516744 (minshirui)\n",
            "Perfect!\tउत्तम!\tCC-BY 2.0 (France) Attribution: tatoeba.org #374568 (blay_paul) & #6179051 (fastrizwaan)\n",
            "Perfect!\tसही!\tCC-BY 2.0 (France) Attribution: tatoeba.org #374568 (blay_paul) & #6179052 (fastrizwaan)\n",
            "We lost.\tहम हार गए।\tCC-BY 2.0 (France) Attribution: tatoeba.org #2107666 (CK) & #8876367 (simranbansal)\n",
            "Welcome.\tआपका स्वागत है।\tCC-BY 2.0 (France) Attribution: tatoeba.org #138919 (CM) & #488703 (minshirui)\n",
            "Welcome.\tस्वागतम्।\tCC-BY 2.0 (France) Attribution: tatoeba.org #138919 (CM) & #488705 (minshirui)\n",
            "Have fun.\tमज़े करना।\tCC-BY 2.0 (France) Attribution: tatoeba.org #21267 (CK) & #588490 (minshirui)\n",
            "Have fun.\tमौज करना।\tCC-BY 2.0 (France) Attribution: tatoeba.org #21267 (CK) & #588491 (minshirui)\n",
            "Have fun.\tमज़े करो।\tCC-BY 2.0 (France) Attribution: tatoeba.org #21267 (CK) & #3539272 (nurendra)\n",
            "I forgot.\tमैं भूल गया।\tCC-BY 2.0 (France) Attribution: tatoeba.org #436603 (lukaszpp) & #475962 (minshirui)\n",
            "I forgot.\tमैं भूल गई।\tCC-BY 2.0 (France) Attribution: tatoeba.org #436603 (lukaszpp) & #475963 (minshirui)\n",
            "I'll pay.\tमैं पैसे दूंगा।\tCC-BY 2.0 (France) Attribution: tatoeba.org #411285 (CK) & #588497 (minshirui)\n",
            "I'm fine.\tमैं ठीक हूँ।\tCC-BY 2.0 (France) Attribution: tatoeba.org #257272 (Eldad) & #588502 (minshirui)\n",
            "I'm full.\tमेरा पेट भर गया है।\tCC-BY 2.0 (France) Attribution: tatoeba.org #433863 (CK) & #588500 (minshirui)\n",
            "Let's go!\tचलो चलें!\tCC-BY 2.0 (France) Attribution: tatoeba.org #241077 (CK) & #588570 (minshirui)\n",
            "Answer me.\tमुझे जवाब दो।\tCC-BY 2.0 (France) Attribution: tatoeba.org #251060 (Eldad) & #518719 (minshirui)\n",
            "Birds fly.\tपंछी उड़ते हैं।\tCC-BY 2.0 (France) Attribution: tatoeba.org #278213 (CK) & #588481 (minshirui)\n",
            "Excuse me.\tमाफ़ कीजिए।\tCC-BY 2.0 (France) Attribution: tatoeba.org #433504 (CK) & #588486 (minshirui)\n",
            "Fantastic!\tबहुत ख़ूब!\tCC-BY 2.0 (France) Attribution: tatoeba.org #433511 (CK) & #6179060 (fastrizwaan)\n",
            "I fainted.\tमैं बेहोश हो गया।\tCC-BY 2.0 (France) Attribution: tatoeba.org #20364 (CK) & #516705 (minshirui)\n",
            "I fear so.\tखेद की बात है, लेकिन वैसा ही है।\tCC-BY 2.0 (France) Attribution: tatoeba.org #245257 (Zifre) & #3216268 (anubhav93)\n",
            "I laughed.\tमैं हँसा।\tCC-BY 2.0 (France) Attribution: tatoeba.org #258713 (CK) & #588494 (minshirui)\n",
            "I'm alone.\tमैं अकेला हूँ ।\tCC-BY 2.0 (France) Attribution: tatoeba.org #2111761 (CK) & #9013252 (simranbansal)\n",
            "I'm alone.\tमैं अकेली हूँ ।\tCC-BY 2.0 (France) Attribution: tatoeba.org #2111761 (CK) & #9013254 (simranbansal)\n",
            "I'm bored.\tमैं बोर हो रहा हूँ।\tCC-BY 2.0 (France) Attribution: tatoeba.org #431539 (Clavain) & #480204 (minshirui)\n",
            "I'm broke.\tमेरा दीवालिया हो चुका है।\tCC-BY 2.0 (France) Attribution: tatoeba.org #18547 (CK) & #505155 (minshirui)\n",
            "I'm tired.\tमैं थक गया हूँ।\tCC-BY 2.0 (France) Attribution: tatoeba.org #1705 (brauliobezerra) & #474799 (minshirui)\n",
            "It's cold.\tठंड हो रही है।\tCC-BY 2.0 (France) Attribution: tatoeba.org #1813 (CK) & #483769 (minshirui)\n",
            "Well done!\tशाबाश!\tCC-BY 2.0 (France) Attribution: tatoeba.org #464478 (lukaszpp) & #6179203 (fastrizwaan)\n",
            "Who knows?\tकौन जाने?\tCC-BY 2.0 (France) Attribution: tatoeba.org #276369 (CK) & #505387 (minshirui)\n",
            "Who knows?\tकिसको पता है?\tCC-BY 2.0 (France) Attribution: tatoeba.org #276369 (CK) & #505388 (minshirui)\n",
            "Who knows?\tकिसे पता है?\tCC-BY 2.0 (France) Attribution: tatoeba.org #276369 (CK) & #505389 (minshirui)\n",
            "Who knows?\tकिसे मालूम है?\tCC-BY 2.0 (France) Attribution: tatoeba.org #276369 (CK) & #505390 (minshirui)\n",
            "Wonderful!\tअद्भुत\tCC-BY 2.0 (France) Attribution: tatoeba.org #433510 (CK) & #6179053 (fastrizwaan)\n",
            "Birds sing.\tपंछी गाते हैं।\tCC-BY 2.0 (France) Attribution: tatoeba.org #278174 (CK) & #588482 (minshirui)\n",
            "Come on in.\tअंदर आ जाओ।\tCC-BY 2.0 (France) Attribution: tatoeba.org #348107 (Zifre) & #476349 (minshirui)\n",
            "Definitely!\tनिश्चित ही\tCC-BY 2.0 (France) Attribution: tatoeba.org #30542 (CM) & #6178948 (fastrizwaan)\n",
            "Don't move.\tहिलो मत।\tCC-BY 2.0 (France) Attribution: tatoeba.org #433502 (CK) & #588484 (minshirui)\n",
            "Fire burns.\tआग जलाती है।\tCC-BY 2.0 (France) Attribution: tatoeba.org #23865 (CM) & #457112 (minshirui)\n",
            "Follow him.\tउसका पीछा करो।\tCC-BY 2.0 (France) Attribution: tatoeba.org #433754 (CK) & #588487 (minshirui)\n",
            "I can swim.\tमुझे तैरना आता है।\tCC-BY 2.0 (France) Attribution: tatoeba.org #256178 (CK) & #3216259 (anubhav93)\n",
            "I can swim.\tमैं तैर सकता हूँ।\tCC-BY 2.0 (France) Attribution: tatoeba.org #256178 (CK) & #3216260 (anubhav93)\n",
            "I love you.\tमैं तुमसे प्यार करती हूँ।\tCC-BY 2.0 (France) Attribution: tatoeba.org #1434 (awael58) & #475911 (minshirui)\n",
            "I love you.\tमैं तुमसे प्यार करता हूँ।\tCC-BY 2.0 (France) Attribution: tatoeba.org #1434 (awael58) & #475912 (minshirui)\n",
            "I love you.\tमैं आपसे प्यार करता हूँ।\tCC-BY 2.0 (France) Attribution: tatoeba.org #1434 (awael58) & #475913 (minshirui)\n",
            "I love you.\tमैं आपसे प्यार करती हूँ।\tCC-BY 2.0 (France) Attribution: tatoeba.org #1434 (awael58) & #475914 (minshirui)\n",
            "I love you.\tमुझे तुमसे प्यार है।\tCC-BY 2.0 (France) Attribution: tatoeba.org #1434 (awael58) & #3223740 (anubhav93)\n",
            "I will try.\tमैं कोशिश करूँगा।\tCC-BY 2.0 (France) Attribution: tatoeba.org #415514 (blay_paul) & #490806 (minshirui)\n",
            "I'm coming.\tमैं आ रहा हूँ।\tCC-BY 2.0 (France) Attribution: tatoeba.org #52081 (CK) & #588498 (minshirui)\n",
            "I'm hungry!\tमुझे भूख लगी है!\tCC-BY 2.0 (France) Attribution: tatoeba.org #404096 (CK) & #510273 (minshirui)\n",
            "I'm hungry!\tमुझे भूख लगी है।\tCC-BY 2.0 (France) Attribution: tatoeba.org #404096 (CK) & #511716 (minshirui)\n",
            "Let him in.\tउसे अंदर भेजो।\tCC-BY 2.0 (France) Attribution: tatoeba.org #464814 (CK) & #589993 (minshirui)\n",
            "Let him in.\tउसे अंगर आने दो।\tCC-BY 2.0 (France) Attribution: tatoeba.org #464814 (CK) & #589994 (minshirui)\n",
            "Let me out!\tमुझे बाहर जाने दो!\tCC-BY 2.0 (France) Attribution: tatoeba.org #266779 (CK) & #484075 (minshirui)\n",
            "Once again.\tऔर एक बार।\tCC-BY 2.0 (France) Attribution: tatoeba.org #433729 (CK) & #485518 (minshirui)\n",
            "Please sit.\tबैठिए।\tCC-BY 2.0 (France) Attribution: tatoeba.org #478180 (CK) & #478184 (minshirui)\n",
            "That a boy!\tशाबाश!\tCC-BY 2.0 (France) Attribution: tatoeba.org #51144 (CK) & #6179203 (fastrizwaan)\n",
            "Tom smiled.\tटॉम मुस्कुराया।\tCC-BY 2.0 (France) Attribution: tatoeba.org #2005184 (CK) & #8876386 (simranbansal)\n",
            "Tom yawned.\tटॉम ने उबासी ली ।\tCC-BY 2.0 (France) Attribution: tatoeba.org #2005186 (CK) & #8876385 (simranbansal)\n",
            "What's new?\tक्या नया है?\tCC-BY 2.0 (France) Attribution: tatoeba.org #25029 (CK) & #505143 (minshirui)\n",
            "What's new?\tनया क्या है?\tCC-BY 2.0 (France) Attribution: tatoeba.org #25029 (CK) & #505144 (minshirui)\n",
            "Who's that?\tवह कौन है?\tCC-BY 2.0 (France) Attribution: tatoeba.org #742806 (rpglover64) & #3214273 (anubhav93)\n",
            "Don't shout.\tचिल्लाओ मत!\tCC-BY 2.0 (France) Attribution: tatoeba.org #279585 (CK) & #450312 (minshirui)\n",
            "Don't shout.\tचिल्लाईए मत।\tCC-BY 2.0 (France) Attribution: tatoeba.org #279585 (CK) & #450313 (minshirui)\n",
            "He stood up.\tवह खड़ा हो गया।\tCC-BY 2.0 (France) Attribution: tatoeba.org #517531 (blay_paul) & #561243 (minshirui)\n",
            "He's strong.\tवह ताकतवर है।\tCC-BY 2.0 (France) Attribution: tatoeba.org #295297 (CK) & #588493 (minshirui)\n",
            "How are you?\tआप कैसे हैं?\tCC-BY 2.0 (France) Attribution: tatoeba.org #373320 (CK) & #475784 (minshirui)\n",
            "How are you?\tतुम कैसे हो?\tCC-BY 2.0 (France) Attribution: tatoeba.org #373320 (CK) & #475785 (minshirui)\n",
            "How are you?\tतुम कैसी हो?\tCC-BY 2.0 (France) Attribution: tatoeba.org #373320 (CK) & #475786 (minshirui)\n",
            "How are you?\tतू कैसा है?\tCC-BY 2.0 (France) Attribution: tatoeba.org #373320 (CK) & #475787 (minshirui)\n",
            "How are you?\tतू कैसी है?\tCC-BY 2.0 (France) Attribution: tatoeba.org #373320 (CK) & #475789 (minshirui)\n",
            "How are you?\tआप कैसी हैं?\tCC-BY 2.0 (France) Attribution: tatoeba.org #373320 (CK) & #475791 (minshirui)\n",
            "How are you?\tआप कैसे हो?\tCC-BY 2.0 (France) Attribution: tatoeba.org #373320 (CK) & #476250 (minshirui)\n",
            "I like both.\tमुझे दोनो पसंद हैं।\tCC-BY 2.0 (France) Attribution: tatoeba.org #255228 (CK) & #485967 (minshirui)\n",
            "I like cake.\tमुझे केक अच्छा लगता है।\tCC-BY 2.0 (France) Attribution: tatoeba.org #253417 (CK) & #485746 (minshirui)\n",
            "I like dogs.\tमुझे कुत्ते अच्छे लगते हैं।\tCC-BY 2.0 (France) Attribution: tatoeba.org #252245 (CK) & #476336 (minshirui)\n",
            "I like math.\tमुझे गणित पसंद है।\tCC-BY 2.0 (France) Attribution: tatoeba.org #435452 (CK) & #459407 (minshirui)\n",
            "I'll attend.\tमैं आऊंगा।\tCC-BY 2.0 (France) Attribution: tatoeba.org #435424 (CK) & #588496 (minshirui)\n",
            "Nobody came.\tकोई नहीं आया।\tCC-BY 2.0 (France) Attribution: tatoeba.org #1690 (Eldad) & #495935 (minshirui)\n",
            "Nobody lied.\tकिसी ने झूठ नहीं बोला।\tCC-BY 2.0 (France) Attribution: tatoeba.org #2093044 (CK) & #8876379 (simranbansal)\n",
            "Was I wrong?\tक्या मैं ग़लत था?\tCC-BY 2.0 (France) Attribution: tatoeba.org #25506 (CK) & #588589 (minshirui)\n",
            "We promised.\tहमने वादा किया।\tCC-BY 2.0 (France) Attribution: tatoeba.org #2107668 (CK) & #8876370 (simranbansal)\n",
            "What's this?\tयह क्या है?\tCC-BY 2.0 (France) Attribution: tatoeba.org #413821 (CK) & #443158 (minshirui)\n",
            "Are you sick?\tक्या तुम बीमार हो?\tCC-BY 2.0 (France) Attribution: tatoeba.org #434252 (lukaszpp) & #518699 (minshirui)\n",
            "Bring him in.\tउसको अंदर ले आओ।\tCC-BY 2.0 (France) Attribution: tatoeba.org #307895 (CK) & #475932 (minshirui)\n",
            "Come with us.\tहमारे साथ आओ।\tCC-BY 2.0 (France) Attribution: tatoeba.org #433696 (CK) & #485546 (minshirui)\n",
            "Happy Easter!\tएसटर मुबारक हो!\tCC-BY 2.0 (France) Attribution: tatoeba.org #66762 (papabear) & #3189572 (pranjal710)\n",
            "Has Tom left?\tटॉम चला गया क्या?\tCC-BY 2.0 (France) Attribution: tatoeba.org #2244563 (CK) & #3216282 (anubhav93)\n",
            "I am at home.\tमैं घर पर हूँ।\tCC-BY 2.0 (France) Attribution: tatoeba.org #29049 (CK) & #505256 (minshirui)\n",
            "I can't move.\tमैं हिल नहीं सकता।\tCC-BY 2.0 (France) Attribution: tatoeba.org #280208 (CK) & #457114 (minshirui)\n",
            "I don't know.\tमुझे नहीं पता।\tCC-BY 2.0 (France) Attribution: tatoeba.org #349064 (fatih) & #609376 (minshirui)\n",
            "I don't know.\tमुझे नहीं मालूम।\tCC-BY 2.0 (France) Attribution: tatoeba.org #349064 (fatih) & #609377 (minshirui)\n",
            "I have a car.\tमेरे पास एक गाड़ी है।\tCC-BY 2.0 (France) Attribution: tatoeba.org #252272 (CK) & #477720 (minshirui)\n",
            "I have a dog.\tमेरे पास एक कुत्ता है।\tCC-BY 2.0 (France) Attribution: tatoeba.org #378502 (CK) & #443037 (minshirui)\n",
            "I understand.\tमैं समझता हूँ।\tCC-BY 2.0 (France) Attribution: tatoeba.org #433468 (CK) & #588495 (minshirui)\n",
            "I'm a doctor.\tमैं डॉक्टर हूँ।\tCC-BY 2.0 (France) Attribution: tatoeba.org #256018 (CK) & #449296 (minshirui)\n",
            "It is a book.\tयह किताब है।\tCC-BY 2.0 (France) Attribution: tatoeba.org #42097 (CK) & #443050 (minshirui)\n",
            "It's snowing.\tबरफ़ गिर रही है।\tCC-BY 2.0 (France) Attribution: tatoeba.org #448963 (CK) & #588625 (minshirui)\n",
            "It's too big.\tबहुत ज़्यादा बड़ा है।\tCC-BY 2.0 (France) Attribution: tatoeba.org #435409 (CK) & #588606 (minshirui)\n",
            "Please leave.\tकृपया जाईये।\tCC-BY 2.0 (France) Attribution: tatoeba.org #516403 (CK) & #588577 (minshirui)\n",
            "Unbelievable!\tअविश्वसनीय!\tCC-BY 2.0 (France) Attribution: tatoeba.org #268828 (CM) & #6179034 (fastrizwaan)\n",
            "We are happy.\tहम खुश हैं।\tCC-BY 2.0 (France) Attribution: tatoeba.org #438940 (CK) & #487266 (minshirui)\n",
            "What is this?\tयह क्या है?\tCC-BY 2.0 (France) Attribution: tatoeba.org #392210 (sysko) & #443158 (minshirui)\n",
            "Are you tired?\tथक गए हो क्या?\tCC-BY 2.0 (France) Attribution: tatoeba.org #317830 (CK) & #588592 (minshirui)\n",
            "Can you drive?\tतुम गाड़ी चला सकते हो क्या?\tCC-BY 2.0 (France) Attribution: tatoeba.org #69237 (CK) & #485531 (minshirui)\n",
            "Do you get it?\tक्या तुम्हें समझ में आया ?\tCC-BY 2.0 (France) Attribution: tatoeba.org #1538886 (CK) & #8876334 (simranbansal)\n",
            "Don't get fat.\tमोटे मत हो जाना।\tCC-BY 2.0 (France) Attribution: tatoeba.org #433667 (CK) & #588581 (minshirui)\n",
            "Don't give in.\tहार मत मान लो।\tCC-BY 2.0 (France) Attribution: tatoeba.org #319434 (CM) & #514105 (minshirui)\n",
            "Drink it down.\tपीकर खतम करदो।\tCC-BY 2.0 (France) Attribution: tatoeba.org #41868 (CM) & #476342 (minshirui)\n",
            "Everyone dies.\tमौत तो सभी की होती है।\tCC-BY 2.0 (France) Attribution: tatoeba.org #435769 (CK) & #588485 (minshirui)\n",
            "Flowers bloom.\tफूल खिलते हैं।\tCC-BY 2.0 (France) Attribution: tatoeba.org #23749 (CK) & #505112 (minshirui)\n",
            "I am who I am.\tमैं हूँ जो हूँ।\tCC-BY 2.0 (France) Attribution: tatoeba.org #1339771 (CM) & #3535948 (nurendra)\n",
            "I know things.\tमुझे चीजों के बारे में पता है ।\tCC-BY 2.0 (France) Attribution: tatoeba.org #2245928 (CK) & #8876343 (simranbansal)\n",
            "I like donuts.\tमुझे डॉनत पसंद है।\tCC-BY 2.0 (France) Attribution: tatoeba.org #6922431 (CK) & #8876359 (simranbansal)\n",
            "I'll take him.\tमैं उसे लेलूँगा।\tCC-BY 2.0 (France) Attribution: tatoeba.org #1566 (CK) & #482447 (minshirui)\n",
            "I'm tired now.\tमैं अब थक गया हूँ।\tCC-BY 2.0 (France) Attribution: tatoeba.org #28936 (CK) & #581299 (minshirui)\n",
            "I'm very busy.\tमैं बहुत व्यस्थ हूँ।\tCC-BY 2.0 (France) Attribution: tatoeba.org #433991 (CK) & #588539 (minshirui)\n",
            "Is that a cat?\tवह बिल्ली है क्या?\tCC-BY 2.0 (France) Attribution: tatoeba.org #67092 (CK) & #611430 (minshirui)\n",
            "It's for free.\tयह मुफ़्त है।\tCC-BY 2.0 (France) Attribution: tatoeba.org #322838 (CK) & #491588 (minshirui)\n",
            "It's for free.\tयह मुफ़्त का है।\tCC-BY 2.0 (France) Attribution: tatoeba.org #322838 (CK) & #491589 (minshirui)\n",
            "Let me try it.\tमुझे दिखाओ।\tCC-BY 2.0 (France) Attribution: tatoeba.org #43212 (CK) & #485985 (minshirui)\n",
            "Let me try it.\tमुझे देखने दो।\tCC-BY 2.0 (France) Attribution: tatoeba.org #43212 (CK) & #485987 (minshirui)\n",
            "Let me try it.\tमुझे ट्राए करने दो।\tCC-BY 2.0 (France) Attribution: tatoeba.org #43212 (CK) & #485989 (minshirui)\n",
            "Let's do that.\tचलो करते हैं।\tCC-BY 2.0 (France) Attribution: tatoeba.org #2007921 (CK) & #8879579 (simranbansal)\n",
            "Make it quick.\tजल्दी कीजिए।\tCC-BY 2.0 (France) Attribution: tatoeba.org #2038397 (Spamster) & #3223733 (anubhav93)\n",
            "May I come in?\tमैं अंदर आ सकता हूँ क्या?\tCC-BY 2.0 (France) Attribution: tatoeba.org #456355 (lukaszpp) & #465646 (minshirui)\n",
            "Open the door.\tदरवाज़ा खोलो।\tCC-BY 2.0 (France) Attribution: tatoeba.org #39002 (Swift) & #484133 (minshirui)\n",
            "Open the door.\tदरवाज़ा खोलिए।\tCC-BY 2.0 (France) Attribution: tatoeba.org #39002 (Swift) & #484134 (minshirui)\n",
            "Please get in.\tकृपया अंदर आईए।\tCC-BY 2.0 (France) Attribution: tatoeba.org #268373 (CK) & #516685 (minshirui)\n",
            "Read it again.\tइसे दोबारा पढ़ें।\tCC-BY 2.0 (France) Attribution: tatoeba.org #2249844 (CK) & #3213670 (anubhav93)\n",
            "Read it aloud.\tपढ़के सुनाओ।\tCC-BY 2.0 (France) Attribution: tatoeba.org #271932 (CK) & #487196 (minshirui)\n",
            "She bent down.\tवह नीचे झुकी।\tCC-BY 2.0 (France) Attribution: tatoeba.org #313646 (CK) & #455243 (minshirui)\n",
            "Some fish fly.\tकुछ मछलियाँ उड़ सकतीं हैं।\tCC-BY 2.0 (France) Attribution: tatoeba.org #317963 (CK) & #498173 (minshirui)\n",
            "This is a map.\tयह नक्शा है।\tCC-BY 2.0 (France) Attribution: tatoeba.org #55509 (CK) & #463402 (minshirui)\n",
            "Tom is my son.\tटॉम मेरा लड़का है।\tCC-BY 2.0 (France) Attribution: tatoeba.org #2273318 (CK) & #3541703 (nurendra)\n",
            "We're in town.\tहम शहर में हैं।\tCC-BY 2.0 (France) Attribution: tatoeba.org #2240597 (CK) & #3216290 (anubhav93)\n",
            "Were you shot?\tक्या तुम्हें गोली लग गई थी?\tCC-BY 2.0 (France) Attribution: tatoeba.org #433616 (CK) & #540236 (minshirui)\n",
            "What about us?\tहमारा क्या?\tCC-BY 2.0 (France) Attribution: tatoeba.org #1542297 (Spamster) & #3535923 (nurendra)\n",
            "Can I help you?\tक्या मैं आपकी सहायता कर सकता हूँ?\tCC-BY 2.0 (France) Attribution: tatoeba.org #25095 (CK) & #518735 (minshirui)\n",
            "Can I help you?\tक्या मैं आपकी मदद कर सकता हूँ?\tCC-BY 2.0 (France) Attribution: tatoeba.org #25095 (CK) & #518736 (minshirui)\n",
            "Clean the room.\tकमरे को साफ़ करो।\tCC-BY 2.0 (France) Attribution: tatoeba.org #378284 (CK) & #487418 (minshirui)\n",
            "Don't touch it.\tउसे छूना मत।\tCC-BY 2.0 (France) Attribution: tatoeba.org #433652 (CK) & #588538 (minshirui)\n",
            "Get out of bed!\tबिस्तर से बाहर निकलो!\tCC-BY 2.0 (France) Attribution: tatoeba.org #33985 (CK) & #476381 (minshirui)\n",
            "Happy New Year!\tनव वर्ष की शुभकामनाएं!\tCC-BY 2.0 (France) Attribution: tatoeba.org #361350 (blay_paul) & #611449 (minshirui)\n",
            "Happy New Year!\tनए साल की बधाईयाँ।\tCC-BY 2.0 (France) Attribution: tatoeba.org #361350 (blay_paul) & #611450 (minshirui)\n",
            "Happy birthday!\tजन्मदिन मुबारक हो!\tCC-BY 2.0 (France) Attribution: tatoeba.org #453219 (CM) & #476471 (minshirui)\n",
            "Happy holidays.\tआपकी छुट्टियाँ मंगलमय हों ।\tCC-BY 2.0 (France) Attribution: tatoeba.org #2044389 (CK) & #8876382 (simranbansal)\n",
            "He has a beard.\tउसके पास दाढ़ी है।\tCC-BY 2.0 (France) Attribution: tatoeba.org #294881 (CK) & #476324 (minshirui)\n",
            "He is an actor.\tवह अभिनेता है।\tCC-BY 2.0 (France) Attribution: tatoeba.org #302398 (CK) & #459406 (minshirui)\n",
            "He needs money.\tउसे पैसों की ज़रूरत है।\tCC-BY 2.0 (France) Attribution: tatoeba.org #382948 (ver) & #461284 (minshirui)\n",
            "He was hard up.\tउसको पैसों की कमी थी।\tCC-BY 2.0 (France) Attribution: tatoeba.org #289457 (Dejo) & #475821 (minshirui)\n",
            "I like history.\tमुझे इतिहास पसंद है।\tCC-BY 2.0 (France) Attribution: tatoeba.org #262257 (CK) & #486345 (minshirui)\n",
            "I like the dog.\tमुझे यह कुत्ता अच्छा लगता है।\tCC-BY 2.0 (France) Attribution: tatoeba.org #48293 (CK) & #491913 (minshirui)\n",
            "I must buy one.\tमुझे एक तो खरीदना ही होगा।\tCC-BY 2.0 (France) Attribution: tatoeba.org #73098 (CK) & #509976 (minshirui)\n",
            "I'll come back.\tमैं वापस आऊँगा।\tCC-BY 2.0 (France) Attribution: tatoeba.org #261982 (CK) & #511744 (minshirui)\n",
            "I'll phone you.\tमैं तुम्हें फ़ोन करूँगा।\tCC-BY 2.0 (France) Attribution: tatoeba.org #480884 (minshirui) & #480879 (minshirui)\n",
            "I'll stay home.\tमैं घर पर ही रहूँगा।\tCC-BY 2.0 (France) Attribution: tatoeba.org #321732 (CK) & #588630 (minshirui)\n",
            "I'm an atheist.\tमैं अनीश्वरवादी हूँ।\tCC-BY 2.0 (France) Attribution: tatoeba.org #379739 (CM) & #486376 (minshirui)\n",
            "I'm an atheist.\tमैं भगवान में यकीन नहीं करता।\tCC-BY 2.0 (France) Attribution: tatoeba.org #379739 (CM) & #506534 (minshirui)\n",
            "I'm very tired.\tमैं बहुत थक गया हूँ।\tCC-BY 2.0 (France) Attribution: tatoeba.org #252193 (CK) & #485933 (minshirui)\n",
            "It's hot today.\tआज मौसम बहुत गरम है।\tCC-BY 2.0 (France) Attribution: tatoeba.org #242881 (CK) & #450939 (minshirui)\n",
            "It's this book.\tयह किताब है।\tCC-BY 2.0 (France) Attribution: tatoeba.org #57102 (CK) & #443050 (minshirui)\n",
            "It's your move.\tतुम्हारी चाल है।\tCC-BY 2.0 (France) Attribution: tatoeba.org #16925 (CK) & #588601 (minshirui)\n",
            "Only God knows.\tभगवान जाने।\tCC-BY 2.0 (France) Attribution: tatoeba.org #269633 (Eldad) & #485923 (minshirui)\n",
            "Summer is over.\tगर्मियाँ खतम हों चुकीं हैं।\tCC-BY 2.0 (France) Attribution: tatoeba.org #394438 (doviende) & #485814 (minshirui)\n",
            "Take your time.\tआराम से आओ।\tCC-BY 2.0 (France) Attribution: tatoeba.org #30121 (CK) & #484095 (minshirui)\n",
            "Think about it.\tसोच लो।\tCC-BY 2.0 (France) Attribution: tatoeba.org #241003 (CK) & #483818 (minshirui)\n",
            "This is a book.\tयह एक किताब है।\tCC-BY 2.0 (France) Attribution: tatoeba.org #55399 (CK) & #443049 (minshirui)\n",
            "This is a book.\tयह किताब है।\tCC-BY 2.0 (France) Attribution: tatoeba.org #55399 (CK) & #443050 (minshirui)\n",
            "This is my bag.\tयह मेरा बस्ता है।\tCC-BY 2.0 (France) Attribution: tatoeba.org #55628 (jakov) & #510232 (minshirui)\n",
            "This is my dog.\tयह मेरा कुत्ता है।\tCC-BY 2.0 (France) Attribution: tatoeba.org #67056 (CK) & #443052 (minshirui)\n",
            "Tom is my idol.\tटॉम मेरा आदर्श है।\tCC-BY 2.0 (France) Attribution: tatoeba.org #2273306 (CK) & #8889365 (simranbansal)\n",
            "Wash your feet.\tअपने पैर धोओ।\tCC-BY 2.0 (France) Attribution: tatoeba.org #274488 (adjusting) & #487194 (minshirui)\n",
            "We study music.\tहम संगीत की पढ़ाई करते हैं।\tCC-BY 2.0 (France) Attribution: tatoeba.org #247742 (CK) & #483830 (minshirui)\n",
            "We'll call you.\tहम आपको फ़ोन करेंगे।\tCC-BY 2.0 (France) Attribution: tatoeba.org #1893668 (CK) & #3216308 (anubhav93)\n",
            "We'll call you.\tहम आपको बुलाएँगे।\tCC-BY 2.0 (France) Attribution: tatoeba.org #1893668 (CK) & #3216309 (anubhav93)\n",
            "Where were you?\tतुम कहाँ थे?\tCC-BY 2.0 (France) Attribution: tatoeba.org #16486 (CK) & #485753 (minshirui)\n",
            "Where were you?\tआप कहाँ थे?\tCC-BY 2.0 (France) Attribution: tatoeba.org #16486 (CK) & #487487 (minshirui)\n",
            "You have to go.\tतुम्हें जाना होगा।\tCC-BY 2.0 (France) Attribution: tatoeba.org #16159 (xtofu80) & #483902 (minshirui)\n",
            "You look tired.\tतुम थके-हारे से लगते हो।\tCC-BY 2.0 (France) Attribution: tatoeba.org #63218 (CK) & #588505 (minshirui)\n",
            "You're kidding!\tमज़ाक कर रहे हो!\tCC-BY 2.0 (France) Attribution: tatoeba.org #433881 (CK) & #588514 (minshirui)\n",
            "A man must work.\tएक आदमी के लिए काम करना ज़रूरी है।\tCC-BY 2.0 (France) Attribution: tatoeba.org #270113 (CM) & #516632 (minshirui)\n",
            "Are you at home?\tतुम घर पे हो क्या?\tCC-BY 2.0 (France) Attribution: tatoeba.org #405500 (CK) & #487232 (minshirui)\n",
            "Are you guys OK?\tक्या आप लोग ठीक हो?\tCC-BY 2.0 (France) Attribution: tatoeba.org #3355618 (CK) & #3534742 (nurendra)\n",
            "Come home early.\tजल्दी घर आजाओ।\tCC-BY 2.0 (France) Attribution: tatoeba.org #274012 (CK) & #484059 (minshirui)\n",
            "Come if you can.\tआ सको तो आना।\tCC-BY 2.0 (France) Attribution: tatoeba.org #450074 (CK) & #491930 (minshirui)\n",
            "Congratulations!\tबधाई हो!\tCC-BY 2.0 (France) Attribution: tatoeba.org #1437 (CK) & #6178943 (fastrizwaan)\n",
            "Congratulations!\tमुबारक हो!\tCC-BY 2.0 (France) Attribution: tatoeba.org #1437 (CK) & #6178945 (fastrizwaan)\n",
            "Did he go there?\tवह वहाँ गया क्या?\tCC-BY 2.0 (France) Attribution: tatoeba.org #290445 (CK) & #484138 (minshirui)\n",
            "Did you miss me?\tमेरी याद आई क्या?\tCC-BY 2.0 (France) Attribution: tatoeba.org #1561 (CK) & #475999 (minshirui)\n",
            "Don't be absurd.\tपागल मत बनो।\tCC-BY 2.0 (France) Attribution: tatoeba.org #35493 (CK) & #498522 (minshirui)\n",
            "Don't open that.\tवह मत खोलिए।\tCC-BY 2.0 (France) Attribution: tatoeba.org #2245363 (CK) & #8876333 (simranbansal)\n",
            "Everyone smiled.\tसब मुस्कुराए।\tCC-BY 2.0 (France) Attribution: tatoeba.org #2094844 (CK) & #8876376 (simranbansal)\n",
            "Everyone waited.\tसभी ने इंतज़ार किया।\tCC-BY 2.0 (France) Attribution: tatoeba.org #2094851 (CK) & #8876378 (simranbansal)\n",
            "He came running.\tवह भागते हुए आया।\tCC-BY 2.0 (France) Attribution: tatoeba.org #300894 (Zifre) & #461285 (minshirui)\n",
            "He can't be ill.\tवह बीमार नहीं हो सकता।\tCC-BY 2.0 (France) Attribution: tatoeba.org #284135 (CK) & #491786 (minshirui)\n",
            "He has a hat on.\tउसने टोपी पहनी हुई है।\tCC-BY 2.0 (France) Attribution: tatoeba.org #303673 (CK) & #457091 (minshirui)\n",
            "He reads Arabic.\tवह अरबी पढ़ सकता है।\tCC-BY 2.0 (France) Attribution: tatoeba.org #434986 (lukaszpp) & #450404 (minshirui)\n",
            "He's my husband.\tयह मेरा पति है।\tCC-BY 2.0 (France) Attribution: tatoeba.org #2237882 (CK) & #3545827 (nurendra)\n",
            "How is everyone?\tसब लोग कैसे हैं?\tCC-BY 2.0 (France) Attribution: tatoeba.org #22110 (CK) & #588508 (minshirui)\n",
            "How is it going?\tकैसा चल रहा है?\tCC-BY 2.0 (France) Attribution: tatoeba.org #38308 (CK) & #475857 (minshirui)\n",
            "How old are you?\tतुम कितने साल के हो?\tCC-BY 2.0 (France) Attribution: tatoeba.org #436243 (lukaszpp) & #488707 (minshirui)\n",
            "How rude of you!\tकितने बदतमीज़ हो तुम!\tCC-BY 2.0 (France) Attribution: tatoeba.org #16444 (CK) & #588547 (minshirui)\n",
            "How rude of you!\tबदतमीज़!\tCC-BY 2.0 (France) Attribution: tatoeba.org #16444 (CK) & #588548 (minshirui)\n",
            "I cooked dinner.\tमैंने रात का खाना पकाया।\tCC-BY 2.0 (France) Attribution: tatoeba.org #246394 (CK) & #514148 (minshirui)\n",
            "I feel nauseous.\tमुझे उल्टी आ रही है।\tCC-BY 2.0 (France) Attribution: tatoeba.org #1887294 (CK) & #452469 (minshirui)\n",
            "I go every year.\tमैं हर साल जाता हूँ।\tCC-BY 2.0 (France) Attribution: tatoeba.org #322472 (CK) & #475852 (minshirui)\n",
            "I heard a noise.\tमुझे कोई आवाज़ सुनाई दी।\tCC-BY 2.0 (France) Attribution: tatoeba.org #1887397 (CK) & #3212888 (anubhav93)\n",
            "I like this one.\tमुझे यह वाला पसंद है।\tCC-BY 2.0 (France) Attribution: tatoeba.org #436761 (lukaszpp) & #457056 (minshirui)\n",
            "I run every day.\tमैं रोज़ दौड़ने जाता हूँ।\tCC-BY 2.0 (France) Attribution: tatoeba.org #261849 (CK) & #588513 (minshirui)\n",
            "I saw her again.\tमैंने उसे फिरसे देखा।\tCC-BY 2.0 (France) Attribution: tatoeba.org #308876 (CK) & #510262 (minshirui)\n",
            "I want a guitar.\tमुझे गिटार चाहिए।\tCC-BY 2.0 (France) Attribution: tatoeba.org #63403 (CK) & #506524 (minshirui)\n",
            "I was assaulted.\tमुझपर हमला किया गया।\tCC-BY 2.0 (France) Attribution: tatoeba.org #2247456 (CK) & #3225304 (anubhav93)\n",
            "I'm a good cook.\tमैं अच्छा रसोइया हूँ।\tCC-BY 2.0 (France) Attribution: tatoeba.org #325794 (CK) & #487507 (minshirui)\n",
            "I'm a good cook.\tमैं अच्छा बावर्ची हूँ।\tCC-BY 2.0 (France) Attribution: tatoeba.org #325794 (CK) & #487508 (minshirui)\n",
            "I'm lucky today.\tआज मेरा नसीब अच्छा है।\tCC-BY 2.0 (France) Attribution: tatoeba.org #242721 (Dejo) & #485972 (minshirui)\n",
            "Is anybody here?\tकोई है क्या?\tCC-BY 2.0 (France) Attribution: tatoeba.org #276105 (CK) & #450956 (minshirui)\n",
            "Is it not black?\tक्या यह काला नहीं है?\tCC-BY 2.0 (France) Attribution: tatoeba.org #42445 (CM) & #540235 (minshirui)\n",
            "Is there a cafe?\tयहाँ कैफ़े है क्या?\tCC-BY 2.0 (France) Attribution: tatoeba.org #63580 (Scott) & #459389 (minshirui)\n",
            "Let's fly kites.\tचलो पतंग उड़ाएँ!\tCC-BY 2.0 (France) Attribution: tatoeba.org #276074 (CK) & #477693 (minshirui)\n",
            "No, I didn't go.\tनहीं, मैं नहीं गया था।\tCC-BY 2.0 (France) Attribution: tatoeba.org #516735 (CK) & #588566 (minshirui)\n",
            "Nobody's around.\tआसपास कोई नहीं है।\tCC-BY 2.0 (France) Attribution: tatoeba.org #2111591 (CK) & #3216498 (anubhav93)\n",
            "Now stop crying.\tबस अब रोना बंद करो।\tCC-BY 2.0 (France) Attribution: tatoeba.org #41072 (CK) & #486301 (minshirui)\n",
            "Please sit down.\tबैठिए।\tCC-BY 2.0 (France) Attribution: tatoeba.org #415594 (CM) & #478184 (minshirui)\n",
            "She is a beauty.\tवह तो हसीना है।\tCC-BY 2.0 (France) Attribution: tatoeba.org #316605 (CK) & #486336 (minshirui)\n",
            "She talks a lot.\tवह बहुत बोलती है।\tCC-BY 2.0 (France) Attribution: tatoeba.org #312397 (CK) & #505149 (minshirui)\n",
            "She talks a lot.\tवह बहुत बक-बक करती है।\tCC-BY 2.0 (France) Attribution: tatoeba.org #312397 (CK) & #505150 (minshirui)\n",
            "That isn't fair.\tयह तो ठीक नहीं है।\tCC-BY 2.0 (France) Attribution: tatoeba.org #442966 (CK) & #588526 (minshirui)\n",
            "That's my fault.\tवह मेरी गलती है।\tCC-BY 2.0 (France) Attribution: tatoeba.org #251307 (CK) & #516785 (minshirui)\n",
            "The dog is mine.\tकुत्ता मेरा है।\tCC-BY 2.0 (France) Attribution: tatoeba.org #493294 (CM) & #506567 (minshirui)\n",
            "The power's out.\tबिजली गई हुई है।\tCC-BY 2.0 (France) Attribution: tatoeba.org #441350 (CM) & #480234 (minshirui)\n",
            "These are birds.\tये चिड़ियाँ हैं।\tCC-BY 2.0 (France) Attribution: tatoeba.org #371010 (saeb) & #457096 (minshirui)\n",
            "This is for you.\tयह तुम्हारे लिए है।\tCC-BY 2.0 (France) Attribution: tatoeba.org #55752 (CK) & #450977 (minshirui)\n",
            "Watch carefully.\tध्यान से देखें।\tCC-BY 2.0 (France) Attribution: tatoeba.org #2107662 (CK) & #8876366 (simranbansal)\n",
            "We lack nothing.\tहमे किसी भी चीज़ की कमी नहीं है।\tCC-BY 2.0 (France) Attribution: tatoeba.org #248471 (CK) & #455252 (minshirui)\n",
            "What time is it?\tअभी कितने बजे हैं?\tCC-BY 2.0 (France) Attribution: tatoeba.org #428402 (laofmoonster) & #450349 (minshirui)\n",
            "What time is it?\tअभी क्या समय हो रहा है?\tCC-BY 2.0 (France) Attribution: tatoeba.org #428402 (laofmoonster) & #450351 (minshirui)\n",
            "What's your age?\tतुम्हारी उम्र क्या है?\tCC-BY 2.0 (France) Attribution: tatoeba.org #435255 (aliene) & #488706 (minshirui)\n",
            "Where's my book?\tमेरी किताब कहाँ है?\tCC-BY 2.0 (France) Attribution: tatoeba.org #251884 (CK) & #498561 (minshirui)\n",
            "You're a person.\tतुम इनसान हो।\tCC-BY 2.0 (France) Attribution: tatoeba.org #433601 (CM) & #588609 (minshirui)\n",
            "Are you a doctor?\tआप डॉक्टर हैं क्या?\tCC-BY 2.0 (France) Attribution: tatoeba.org #502228 (marauder016) & #485943 (minshirui)\n",
            "Can you teach me?\tक्या तुम मुझे सिखा सकते हो?\tCC-BY 2.0 (France) Attribution: tatoeba.org #443088 (minshirui) & #443087 (minshirui)\n",
            "Choose carefully.\tध्यान से चुने।\tCC-BY 2.0 (France) Attribution: tatoeba.org #2047589 (CK) & #8876383 (simranbansal)\n",
            "Climb to the top.\tऊपर तक चढ़ जाओ।\tCC-BY 2.0 (France) Attribution: tatoeba.org #39428 (Eldad) & #515400 (minshirui)\n",
            "Come and join us.\tआओ हमारे साथ बैठो।\tCC-BY 2.0 (France) Attribution: tatoeba.org #34112 (CK) & #484150 (minshirui)\n",
            "Come sit with us.\tआओ हमारे साथ बैठो।\tCC-BY 2.0 (France) Attribution: tatoeba.org #484151 (minshirui) & #484150 (minshirui)\n",
            "Cut the potatoes.\tआलूओं को काटो।\tCC-BY 2.0 (France) Attribution: tatoeba.org #431100 (CM) & #483895 (minshirui)\n",
            "Do you have rice?\tतुम्हारे पास चावल है क्या?\tCC-BY 2.0 (France) Attribution: tatoeba.org #54336 (CK) & #511741 (minshirui)\n",
            "Don't make faces.\tमूँह मत बनाओ।\tCC-BY 2.0 (France) Attribution: tatoeba.org #642496 (minshirui) & #642495 (minshirui)\n",
            "Don't make noise.\tशोर मत मचाओ।\tCC-BY 2.0 (France) Attribution: tatoeba.org #477063 (CK) & #485830 (minshirui)\n",
            "Have a good time.\tमज़े करो।\tCC-BY 2.0 (France) Attribution: tatoeba.org #21269 (CK) & #3539272 (nurendra)\n",
            "Have a nice time.\tमज़े करो।\tCC-BY 2.0 (France) Attribution: tatoeba.org #21268 (CK) & #3539272 (nurendra)\n",
            "He has long legs.\tउसके पैर लम्बे हैं।\tCC-BY 2.0 (France) Attribution: tatoeba.org #287067 (CK) & #509359 (minshirui)\n",
            "He is her friend.\tवह उसका दोस्त है।\tCC-BY 2.0 (France) Attribution: tatoeba.org #528006 (Dany74PL) & #482473 (minshirui)\n",
            "He likes oranges.\tउसे संत्रे अच्छे लगते हैं।\tCC-BY 2.0 (France) Attribution: tatoeba.org #386734 (Mouseneb) & #485945 (minshirui)\n",
            "He likes oranges.\tउसे नारंगी अच्छे लगते हैं।\tCC-BY 2.0 (France) Attribution: tatoeba.org #386734 (Mouseneb) & #485946 (minshirui)\n",
            "He must love you.\tवह तुमसे प्यार करता होगा।\tCC-BY 2.0 (France) Attribution: tatoeba.org #63365 (CK) & #588595 (minshirui)\n",
            "He speaks Arabic.\tवह अरबी बोलता है।\tCC-BY 2.0 (France) Attribution: tatoeba.org #435004 (lukaszpp) & #510245 (minshirui)\n",
            "Here is your bag.\tयह लो, तुम्हारा बस्ता।\tCC-BY 2.0 (France) Attribution: tatoeba.org #17400 (CK) & #588511 (minshirui)\n",
            "I can't remember.\tमुझे याद नहीं।\tCC-BY 2.0 (France) Attribution: tatoeba.org #550246 (CK) & #3213682 (anubhav93)\n",
            "I don't know him.\tमैं उसे नहीं जानता।\tCC-BY 2.0 (France) Attribution: tatoeba.org #2319 (Dorenda) & #482476 (minshirui)\n",
            "I have a problem.\tमैं मुश्किल में हूँ।\tCC-BY 2.0 (France) Attribution: tatoeba.org #370588 (saeb) & #511733 (minshirui)\n",
            "I have to go now.\tमुझे अभी जाना है।\tCC-BY 2.0 (France) Attribution: tatoeba.org #321700 (CK) & #3216312 (anubhav93)\n",
            "I live near here.\tमैं आस-पड़ोस में रहता हूँ।\tCC-BY 2.0 (France) Attribution: tatoeba.org #413831 (CK) & #516783 (minshirui)\n",
            "I love my mother.\tमैं अपनी माँ से प्यार करता हूँ\tCC-BY 2.0 (France) Attribution: tatoeba.org #758900 (CK) & #4907647 (yashtib1995)\n",
            "I must leave now.\tमुझे अब जाना होगा।\tCC-BY 2.0 (France) Attribution: tatoeba.org #31384 (mamat) & #590492 (minshirui)\n",
            "I'm not very old.\tमैं बहुत बूढ़ी नहीं हूँ ।\tCC-BY 2.0 (France) Attribution: tatoeba.org #5856387 (CK) & #8889225 (simranbansal)\n",
            "I'm not very old.\tमैं बहुत बूढ़ा नहीं हूँ ।\tCC-BY 2.0 (France) Attribution: tatoeba.org #5856387 (CK) & #8889227 (simranbansal)\n",
            "I'm really tired.\tमैं बहुत थक गया हूँ।\tCC-BY 2.0 (France) Attribution: tatoeba.org #433727 (CK) & #485933 (minshirui)\n",
            "I'm very thirsty.\tमुझे बहुत प्यास लगी है।\tCC-BY 2.0 (France) Attribution: tatoeba.org #255235 (CK) & #491010 (minshirui)\n",
            "It's April first.\tआज एक अप्रैल है।\tCC-BY 2.0 (France) Attribution: tatoeba.org #245523 (CK) & #475803 (minshirui)\n",
            "It's now my turn.\tअब मेरी बारी है।\tCC-BY 2.0 (France) Attribution: tatoeba.org #54186 (CK) & #485905 (minshirui)\n",
            "Let me try again.\tमै फिर से कोशिश करता हूँ।\tCC-BY 2.0 (France) Attribution: tatoeba.org #3008806 (CK) & #5361257 (dfordivam)\n",
            "Life is a riddle.\tज़िंदगी एक पहेली है ।\tCC-BY 2.0 (France) Attribution: tatoeba.org #9415338 (abracadebby) & #8938156 (simranbansal)\n",
            "Nice to meet you.\tआपसे मिलकर खुशी हुई।\tCC-BY 2.0 (France) Attribution: tatoeba.org #499617 (Shishir) & #506552 (minshirui)\n",
            "No one responded.\tकिसी ने जवाब नहीं दिया।\tCC-BY 2.0 (France) Attribution: tatoeba.org #2249603 (CK) & #8889274 (simranbansal)\n",
            "Please follow me.\tमेरे साथ आईए।\tCC-BY 2.0 (France) Attribution: tatoeba.org #250842 (CK) & #609429 (minshirui)\n",
            "Please sign here.\tयहाँ अपना हस्ताक्षर कीजिए।\tCC-BY 2.0 (France) Attribution: tatoeba.org #476416 (minshirui) & #476415 (minshirui)\n",
            "She betrayed you.\tउसने तुम्हें धोखा दिया।\tCC-BY 2.0 (France) Attribution: tatoeba.org #1112484 (Scott) & #3216563 (anubhav93)\n",
            "Sit down, please.\tबैठिए।\tCC-BY 2.0 (France) Attribution: tatoeba.org #38571 (CK) & #478184 (minshirui)\n",
            "The car is ready.\tगाड़ी तैयार है।\tCC-BY 2.0 (France) Attribution: tatoeba.org #46819 (CK) & #486285 (minshirui)\n",
            "This is your dog.\tयह तुम्हारा कुत्ता है।\tCC-BY 2.0 (France) Attribution: tatoeba.org #461910 (regisb) & #476330 (minshirui)\n",
            "This is your key.\tयह आपकी चाबी है।\tCC-BY 2.0 (France) Attribution: tatoeba.org #449118 (CK) & #588523 (minshirui)\n",
            "This isn't right.\tयह सही नहीं है।\tCC-BY 2.0 (France) Attribution: tatoeba.org #1871885 (CK) & #3085291 (dfordivam)\n",
            "Tom is my friend.\tटॉम मेरा दोस्त है।\tCC-BY 2.0 (France) Attribution: tatoeba.org #406604 (CK) & #588553 (minshirui)\n",
            "We went shopping.\tहम खरीदारी करने गए थे।\tCC-BY 2.0 (France) Attribution: tatoeba.org #2241477 (CK) & #9012817 (simranbansal)\n",
            "We're going home.\tहम घर जा रहें हैं।\tCC-BY 2.0 (France) Attribution: tatoeba.org #430024 (witbrock) & #514077 (minshirui)\n",
            "We're in a hurry.\tहम जल्दी में हैं।\tCC-BY 2.0 (France) Attribution: tatoeba.org #262958 (CK) & #588557 (minshirui)\n",
            "Welcome to Japan.\tजापान में आपका स्वागत है।\tCC-BY 2.0 (France) Attribution: tatoeba.org #281616 (CK) & #485762 (minshirui)\n",
            "What's that bird?\tवह कौनसी चिड़िया है?\tCC-BY 2.0 (France) Attribution: tatoeba.org #67082 (CK) & #475970 (minshirui)\n",
            "What's the story?\tक्या कहानी है?\tCC-BY 2.0 (France) Attribution: tatoeba.org #263648 (CM) & #475942 (minshirui)\n",
            "What's your name?\tआपका नाम क्या है?\tCC-BY 2.0 (France) Attribution: tatoeba.org #408293 (CK) & #443217 (minshirui)\n",
            "Where did you go?\tतुम कहाँ गए थे?\tCC-BY 2.0 (France) Attribution: tatoeba.org #1140034 (CK) & #3539293 (nurendra)\n",
            "Where is the bar?\tशराबख़ाना कहाँ है?\tCC-BY 2.0 (France) Attribution: tatoeba.org #3184122 (sabretou) & #4907683 (yashtib1995)\n",
            "Whose turn is it?\tकिसकी बारी है?\tCC-BY 2.0 (France) Attribution: tatoeba.org #435279 (CK) & #588597 (minshirui)\n",
            "You may be right.\tतुम शायद सही हो।\tCC-BY 2.0 (France) Attribution: tatoeba.org #17224 (saeb) & #480258 (minshirui)\n",
            "Are your eyes bad?\tतुम्हारी आँखे खराब हैं क्या?\tCC-BY 2.0 (France) Attribution: tatoeba.org #68892 (CK) & #483919 (minshirui)\n",
            "Birds build nests.\tपक्षी घोसले बनातें हैं।\tCC-BY 2.0 (France) Attribution: tatoeba.org #278206 (CK) & #486242 (minshirui)\n",
            "Birds build nests.\tचिड़ियाँ घोसले बनातीं हैं।\tCC-BY 2.0 (France) Attribution: tatoeba.org #278206 (CK) & #486243 (minshirui)\n",
            "Boys will be boys.\tलड़के तो लड़के ही रहेंगे।\tCC-BY 2.0 (France) Attribution: tatoeba.org #276817 (blay_paul) & #449358 (minshirui)\n",
            "Can I do anything?\tमैं कुछ कर सकता हूँ क्या?\tCC-BY 2.0 (France) Attribution: tatoeba.org #250046 (CK) & #516645 (minshirui)\n",
            "Didn't you go out?\tआप बाहर नहीं गए थें क्या?\tCC-BY 2.0 (France) Attribution: tatoeba.org #21867 (CK) & #3216263 (anubhav93)\n",
            "Didn't you go out?\tतुम बाहर नहीं गए थे क्या?\tCC-BY 2.0 (France) Attribution: tatoeba.org #21867 (CK) & #3216264 (anubhav93)\n",
            "Didn't you go out?\tतू बाहर नहीं गया था क्या?\tCC-BY 2.0 (France) Attribution: tatoeba.org #21867 (CK) & #3216265 (anubhav93)\n",
            "Do you believe me?\tक्या तुम्हे मुझपर यकीन है?\tCC-BY 2.0 (France) Attribution: tatoeba.org #268823 (CK) & #540232 (minshirui)\n",
            "Do you believe me?\tक्या तुम मुझपर यकीन करते हो?\tCC-BY 2.0 (France) Attribution: tatoeba.org #268823 (CK) & #540233 (minshirui)\n",
            "Do you believe me?\tक्या तुम मेरा यकीन करते हो?\tCC-BY 2.0 (France) Attribution: tatoeba.org #268823 (CK) & #540234 (minshirui)\n",
            "Don't deceive him.\tउसे धोका मत दो।\tCC-BY 2.0 (France) Attribution: tatoeba.org #464995 (Swift) & #491843 (minshirui)\n",
            "Everyone screamed.\tसब चिल्लाए।\tCC-BY 2.0 (France) Attribution: tatoeba.org #2094839 (CK) & #8876375 (simranbansal)\n",
            "He began to shout.\tवह चिल्लाने लगा।\tCC-BY 2.0 (France) Attribution: tatoeba.org #295293 (CK) & #588616 (minshirui)\n",
            "He came to see me.\tवह मुझसे मिलने आया था।\tCC-BY 2.0 (France) Attribution: tatoeba.org #297579 (CK) & #588469 (minshirui)\n",
            "He employs a maid.\tवह नौकरानी रखता है।\tCC-BY 2.0 (France) Attribution: tatoeba.org #476464 (CM) & #484149 (minshirui)\n",
            "He is after a job.\tवह किसी नौकरी के पीछे पड़ा है।\tCC-BY 2.0 (France) Attribution: tatoeba.org #299750 (CM) & #498234 (minshirui)\n",
            "He is walking now.\tवह अब चल रहा है।\tCC-BY 2.0 (France) Attribution: tatoeba.org #241676 (CK) & #484071 (minshirui)\n",
            "He studied abroad.\tउसने विदेश में पढ़ाई करी थी।\tCC-BY 2.0 (France) Attribution: tatoeba.org #294679 (CK) & #494166 (minshirui)\n",
            "He turned traitor.\tवह देशद्रोही बन गया।\tCC-BY 2.0 (France) Attribution: tatoeba.org #304632 (CK) & #515460 (minshirui)\n",
            "He's already left.\tवह जाचुका है।\tCC-BY 2.0 (France) Attribution: tatoeba.org #293066 (CK) & #476368 (minshirui)\n",
            "I can drive a car.\tमैं गाड़ी चला सकता हूँ।\tCC-BY 2.0 (France) Attribution: tatoeba.org #505158 (minshirui) & #505157 (minshirui)\n",
            "I cried all night.\tमैं पूरी रात रोई।\tCC-BY 2.0 (France) Attribution: tatoeba.org #443159 (minshirui) & #443157 (minshirui)\n",
            "I got very sleepy.\tमुझे नींद आ गई।\tCC-BY 2.0 (France) Attribution: tatoeba.org #254909 (CK) & #450423 (minshirui)\n",
            "I have a headache.\tमेरे सिर में दर्द हो रहा है।\tCC-BY 2.0 (France) Attribution: tatoeba.org #1712 (CK) & #588567 (minshirui)\n",
            "I have a headache.\tमुझे सिरदर्द हो रहा है।\tCC-BY 2.0 (France) Attribution: tatoeba.org #1712 (CK) & #588569 (minshirui)\n",
            "I have some money.\tमेरे पास कुछ पैसे हैं।\tCC-BY 2.0 (France) Attribution: tatoeba.org #258649 (CK) & #590041 (minshirui)\n",
            "I haven't met him.\tमेरी उससे मुलाकात नहीं हुई है।\tCC-BY 2.0 (France) Attribution: tatoeba.org #284429 (CK) & #455309 (minshirui)\n",
            "I listen to music.\tमैं संगीत सुनता हूँ।\tCC-BY 2.0 (France) Attribution: tatoeba.org #25404 (CK) & #486252 (minshirui)\n",
            "I saw him running.\tमैंने उसे दौड़ते हुए देखा।\tCC-BY 2.0 (France) Attribution: tatoeba.org #283975 (CK) & #488725 (minshirui)\n",
            "I saw him running.\tमैंने उसे भागते हुए देखा।\tCC-BY 2.0 (France) Attribution: tatoeba.org #283975 (CK) & #488726 (minshirui)\n",
            "I truly loved her.\tमैं उससे सच्चा प्यार करता था।\tCC-BY 2.0 (France) Attribution: tatoeba.org #252351 (jakov) & #459391 (minshirui)\n",
            "I work for a bank.\tमैं बैंक में काम करता हूँ।\tCC-BY 2.0 (France) Attribution: tatoeba.org #256979 (CK) & #588470 (minshirui)\n",
            "I'm getting happy.\tमैं खुश हो रहा हूँ।\tCC-BY 2.0 (France) Attribution: tatoeba.org #66727 (CM) & #510267 (minshirui)\n",
            "I'm not a student.\tमैं विद्यार्थी नहीं हूँ।\tCC-BY 2.0 (France) Attribution: tatoeba.org #258994 (CK) & #588518 (minshirui)\n",
            "I'm not like that.\tमैं वैसा नहीं हूँ।\tCC-BY 2.0 (France) Attribution: tatoeba.org #2275629 (Hybrid) & #3213937 (anubhav93)\n",
            "I'm really hungry.\tमुझे बहुत भूख लगी है।\tCC-BY 2.0 (France) Attribution: tatoeba.org #482432 (minshirui) & #482431 (minshirui)\n",
            "It's not my fault.\tमेरी ग़लती नहीं है।\tCC-BY 2.0 (France) Attribution: tatoeba.org #321324 (CK) & #609869 (minshirui)\n",
            "It's starting now.\tशुरू हो रहा है।\tCC-BY 2.0 (France) Attribution: tatoeba.org #33137 (CK) & #480236 (minshirui)\n",
            "My bag was stolen.\tमेरा बस्ता चोरी हो गया था।\tCC-BY 2.0 (France) Attribution: tatoeba.org #35155 (CK) & #588618 (minshirui)\n",
            "My eyes are tired.\tमेरी आँखें थक गईं हैं।\tCC-BY 2.0 (France) Attribution: tatoeba.org #507513 (CK) & #588532 (minshirui)\n",
            "No one's in sight.\tआसपास कोई नहीं है।\tCC-BY 2.0 (France) Attribution: tatoeba.org #2091110 (CK) & #3216498 (anubhav93)\n",
            "Put your hands up!\tहाथ ऊपर करो!\tCC-BY 2.0 (France) Attribution: tatoeba.org #265926 (CK) & #443082 (minshirui)\n",
            "She began to sing.\tवह गाने लगी।\tCC-BY 2.0 (France) Attribution: tatoeba.org #312881 (CK) & #514032 (minshirui)\n",
            "She has blue eyes.\tउसकी नीली आँखें हैं।\tCC-BY 2.0 (France) Attribution: tatoeba.org #472087 (CK) & #588558 (minshirui)\n",
            "She isn't married.\tवह शादीशुदा नहीं है।\tCC-BY 2.0 (France) Attribution: tatoeba.org #313424 (CK) & #498107 (minshirui)\n",
            "Tell me the truth.\tमुझे सच्चाई बताओ।\tCC-BY 2.0 (France) Attribution: tatoeba.org #321441 (CK) & #505259 (minshirui)\n",
            "The earth rotates.\tपृथ्वी घूमती है।\tCC-BY 2.0 (France) Attribution: tatoeba.org #277131 (CM) & #516620 (minshirui)\n",
            "Tom may invite us.\tटॉम हमें आमंत्रित कर सकता है।\tCC-BY 2.0 (France) Attribution: tatoeba.org #8590150 (CK) & #8889314 (simranbansal)\n",
            "Try it once again.\tएक बार फिरसे कोशिश करो।\tCC-BY 2.0 (France) Attribution: tatoeba.org #31497 (CK) & #505400 (minshirui)\n",
            "Try it once again.\tएक बार और प्रयत्न करो।\tCC-BY 2.0 (France) Attribution: tatoeba.org #31497 (CK) & #505401 (minshirui)\n",
            "Turn on the radio.\tरेडियो को चालू करो।\tCC-BY 2.0 (France) Attribution: tatoeba.org #29763 (CK) & #588613 (minshirui)\n",
            "We don't know her.\tहम उसे नहीं जानते हैं।\tCC-BY 2.0 (France) Attribution: tatoeba.org #439337 (CK) & #483800 (minshirui)\n",
            "We don't know him.\tहम उसे नहीं जानते हैं।\tCC-BY 2.0 (France) Attribution: tatoeba.org #383016 (CK) & #483800 (minshirui)\n",
            "We have good news.\tहमारे पास खुशखबर है।\tCC-BY 2.0 (France) Attribution: tatoeba.org #66695 (CK) & #516840 (minshirui)\n",
            "We're against war.\tहम जंग के ख़िलाफ़ हैं।\tCC-BY 2.0 (France) Attribution: tatoeba.org #8066849 (CK) & #451241 (minshirui)\n",
            "We're against war.\tहम युद्ध का विरोध करते हैं।\tCC-BY 2.0 (France) Attribution: tatoeba.org #8066849 (CK) & #451242 (minshirui)\n",
            "What is happiness?\tखुशी क्या होती है?\tCC-BY 2.0 (France) Attribution: tatoeba.org #404565 (telsfbay) & #505276 (minshirui)\n",
            "What is happiness?\tसुख क्या होता है?\tCC-BY 2.0 (France) Attribution: tatoeba.org #404565 (telsfbay) & #505277 (minshirui)\n",
            "What is your name?\tआपका नाम क्या है?\tCC-BY 2.0 (France) Attribution: tatoeba.org #70623 (sacredceltic) & #443217 (minshirui)\n",
            "What's the matter?\tमुश्किल क्या है?\tCC-BY 2.0 (France) Attribution: tatoeba.org #394894 (Dorenda) & #485557 (minshirui)\n",
            "Where do you live?\tआप कहाँ रहते हैं?\tCC-BY 2.0 (France) Attribution: tatoeba.org #370708 (saeb) & #451337 (minshirui)\n",
            "Where do you live?\tतुम कहाँ रहते हो?\tCC-BY 2.0 (France) Attribution: tatoeba.org #370708 (saeb) & #451338 (minshirui)\n",
            "Where do you live?\tतू कहाँ रहता है?\tCC-BY 2.0 (France) Attribution: tatoeba.org #370708 (saeb) & #451339 (minshirui)\n",
            "Where do you live?\tतुम कहाँ रहती हो?\tCC-BY 2.0 (France) Attribution: tatoeba.org #370708 (saeb) & #451340 (minshirui)\n",
            "Where do you live?\tतू कहाँ रहती है?\tCC-BY 2.0 (France) Attribution: tatoeba.org #370708 (saeb) & #451341 (minshirui)\n",
            "Where is the book?\tवह किताब कहाँ है?\tCC-BY 2.0 (France) Attribution: tatoeba.org #43928 (CK) & #4907692 (yashtib1995)\n",
            "Where's the beach?\tसमुद्र तट कहां है?\tCC-BY 2.0 (France) Attribution: tatoeba.org #5899588 (CK) & #4907679 (yashtib1995)\n",
            "Who made this pie?\tयह पाय किसने बनाई है?\tCC-BY 2.0 (France) Attribution: tatoeba.org #276192 (CK) & #511171 (minshirui)\n",
            "Yes. That's right.\tहाँ। यह सही है।\tCC-BY 2.0 (France) Attribution: tatoeba.org #433817 (CK) & #588551 (minshirui)\n",
            "You have to leave.\tतुम्हें जाना होगा।\tCC-BY 2.0 (France) Attribution: tatoeba.org #454043 (mamat) & #483902 (minshirui)\n",
            "Are you busy today?\tतुम आज बिज़ी हो क्या?\tCC-BY 2.0 (France) Attribution: tatoeba.org #242434 (CK) & #477703 (minshirui)\n",
            "Are you busy today?\tतुम्हारे पास आज समय है क्या?\tCC-BY 2.0 (France) Attribution: tatoeba.org #242434 (CK) & #477704 (minshirui)\n",
            "Can we have a talk?\tहम बात कर सकते हैं क्या?\tCC-BY 2.0 (France) Attribution: tatoeba.org #63863 (CM) & #487402 (minshirui)\n",
            "Come along with us.\tहमारे साथ आओ।\tCC-BY 2.0 (France) Attribution: tatoeba.org #433695 (CK) & #485546 (minshirui)\n",
            "Did you sleep well?\tतुम अच्छे से सोये क्या?\tCC-BY 2.0 (France) Attribution: tatoeba.org #434494 (lukaszpp) & #483777 (minshirui)\n",
            "Do you remember me?\tतुम्हें मैं याद हूँ क्या?\tCC-BY 2.0 (France) Attribution: tatoeba.org #250327 (CK) & #476344 (minshirui)\n",
            "Don't give up hope.\tउम्मीद मत छोड़ो।\tCC-BY 2.0 (France) Attribution: tatoeba.org #20606 (brauliobezerra) & #475989 (minshirui)\n",
            "Don't throw stones.\tपत्थर मत फेंको।\tCC-BY 2.0 (France) Attribution: tatoeba.org #272226 (CK) & #505359 (minshirui)\n",
            "Everyone likes her.\tउसे सब पसंद करते हैं।\tCC-BY 2.0 (France) Attribution: tatoeba.org #430471 (CM) & #451280 (minshirui)\n",
            "Everyone likes him.\tउसे सब पसंद करते हैं।\tCC-BY 2.0 (France) Attribution: tatoeba.org #451282 (minshirui) & #451280 (minshirui)\n",
            "Have you gone nuts?\tतेरी अकल घास चरने गई है क्या?\tCC-BY 2.0 (France) Attribution: tatoeba.org #487626 (minshirui) & #487624 (minshirui)\n",
            "He breathed deeply.\tउसने गहरी साँस ली।\tCC-BY 2.0 (France) Attribution: tatoeba.org #299963 (CK) & #483855 (minshirui)\n",
            "He closed his eyes.\tउसने अपनी आँखें बंद करीं।\tCC-BY 2.0 (France) Attribution: tatoeba.org #304198 (CK) & #488886 (minshirui)\n",
            "He cried and cried.\tवह रोया और और रोया।\tCC-BY 2.0 (France) Attribution: tatoeba.org #295239 (CM) & #484148 (minshirui)\n",
            "He is a simple man.\tवह साधा आदमी है।\tCC-BY 2.0 (France) Attribution: tatoeba.org #2915476 (sabretou) & #3538145 (nurendra)\n",
            "He is sure to come.\tवह ज़रूर आएगा।\tCC-BY 2.0 (France) Attribution: tatoeba.org #289676 (CK) & #486351 (minshirui)\n",
            "He isn't my cousin.\tवह मेरा चचेरा भाई नहीं है।\tCC-BY 2.0 (France) Attribution: tatoeba.org #297738 (CK) & #463380 (minshirui)\n",
            "He isn't my cousin.\tवह मेरा ममेरा भाई नहीं है।\tCC-BY 2.0 (France) Attribution: tatoeba.org #297738 (CK) & #463381 (minshirui)\n",
            "He waited his turn.\tउसने अपनी बारी का इंतेज़ार किया।\tCC-BY 2.0 (France) Attribution: tatoeba.org #298772 (CK) & #506493 (minshirui)\n",
            "He works at a bank.\tवह बैंक में काम करता है।\tCC-BY 2.0 (France) Attribution: tatoeba.org #416365 (phrasemix) & #515396 (minshirui)\n",
            "He's a good person.\tवह अच्छा इनसान है।\tCC-BY 2.0 (France) Attribution: tatoeba.org #2368 (CK) & #588590 (minshirui)\n",
            "I admit my mistake.\tमैं अपनी ग़लती मानता हूँ।\tCC-BY 2.0 (France) Attribution: tatoeba.org #258278 (CK) & #511740 (minshirui)\n",
            "I can read English.\tमैं अंग्रेज़ी पढ़ सकता हूँ।\tCC-BY 2.0 (France) Attribution: tatoeba.org #867128 (verogc) & #449349 (minshirui)\n",
            "I can read English.\tमैं अंग्रेज़ी पढ़ सकती हूँ।\tCC-BY 2.0 (France) Attribution: tatoeba.org #867128 (verogc) & #449350 (minshirui)\n",
            "I can't believe it!\tमुझे विश्वास नहीं होता!\tCC-BY 2.0 (France) Attribution: tatoeba.org #2076 (Swift) & #482442 (minshirui)\n",
            "I do what I'm told.\tमैं वही करता हूं जो मुझे बताया जाता है।\tCC-BY 2.0 (France) Attribution: tatoeba.org #2315148 (CK) & #8889248 (simranbansal)\n",
            "I do what I'm told.\tमैं वही करती हूं जो मुझे बताया जाता है।\tCC-BY 2.0 (France) Attribution: tatoeba.org #2315148 (CK) & #8889249 (simranbansal)\n",
            "I heard him go out.\tमैंने उसके बाहर जाने की आवाज़ सुनी।\tCC-BY 2.0 (France) Attribution: tatoeba.org #283847 (CK) & #506459 (minshirui)\n",
            "I know her address.\tमुझे उसका पता पता है।\tCC-BY 2.0 (France) Attribution: tatoeba.org #309397 (CK) & #483991 (minshirui)\n",
            "I know his address.\tमुझे उसका पता पता है।\tCC-BY 2.0 (France) Attribution: tatoeba.org #260661 (CK) & #483991 (minshirui)\n",
            "I know those women.\tमैं उन औरतों को जानता हूँ।\tCC-BY 2.0 (France) Attribution: tatoeba.org #395050 (CK) & #588628 (minshirui)\n",
            "I know your father.\tमैं तुम्हारे पिताजी को जानता हूँ।\tCC-BY 2.0 (France) Attribution: tatoeba.org #257093 (CK) & #588516 (minshirui)\n",
            "I sort of like him.\tमुझे वह अच्छा सा लगता है।\tCC-BY 2.0 (France) Attribution: tatoeba.org #33013 (CK) & #486312 (minshirui)\n",
            "I still don't know.\tमुझे अभी भी नहीं पता।\tCC-BY 2.0 (France) Attribution: tatoeba.org #952376 (CK) & #446708 (minshirui)\n",
            "I was born in 1960.\tमैं १९६० में पैदा हुआ था।\tCC-BY 2.0 (France) Attribution: tatoeba.org #252429 (CK) & #450024 (minshirui)\n",
            "I was born in 1979.\tमैं १९७९ में पैदा हुआ था।\tCC-BY 2.0 (France) Attribution: tatoeba.org #252438 (CK) & #498196 (minshirui)\n",
            "I was very thirsty.\tमैं बहुत प्यासा था।\tCC-BY 2.0 (France) Attribution: tatoeba.org #5859331 (CK) & #8889230 (simranbansal)\n",
            "I was very thirsty.\tमैं बहुत प्यासा थी।\tCC-BY 2.0 (France) Attribution: tatoeba.org #5859331 (CK) & #8889231 (simranbansal)\n",
            "I watch television.\tमैं टीवी देखता हूँ।\tCC-BY 2.0 (France) Attribution: tatoeba.org #39164 (CK) & #588571 (minshirui)\n",
            "I worked all night.\tमैंने पूरी रात काम किया।\tCC-BY 2.0 (France) Attribution: tatoeba.org #278741 (CK) & #457082 (minshirui)\n",
            "I worked all night.\tमैंने रातभर काम किया।\tCC-BY 2.0 (France) Attribution: tatoeba.org #278741 (CK) & #457083 (minshirui)\n",
            "I'll see you later.\tबाद में मिलेंगे।\tCC-BY 2.0 (France) Attribution: tatoeba.org #32706 (CK) & #450433 (minshirui)\n",
            "I'll see you later.\tफिर मिलेंगे।\tCC-BY 2.0 (France) Attribution: tatoeba.org #32706 (CK) & #450434 (minshirui)\n",
            "I'm as tall as you.\tमैं तुम्हारे जितना लम्बा हूँ।\tCC-BY 2.0 (France) Attribution: tatoeba.org #252720 (CK) & #511756 (minshirui)\n",
            "I'm coming at once.\tमैं अभी आता हूँ।\tCC-BY 2.0 (France) Attribution: tatoeba.org #52187 (CM) & #491800 (minshirui)\n",
            "Is this book yours?\tक्या यह किताब तुम्हारी है?\tCC-BY 2.0 (France) Attribution: tatoeba.org #56970 (CK) & #561269 (minshirui)\n",
            "It is already dark.\tअभी से रात हो गई है।\tCC-BY 2.0 (France) Attribution: tatoeba.org #31530 (CK) & #473767 (minshirui)\n",
            "It looks like snow.\tबरफ़ जैसा दिखता है।\tCC-BY 2.0 (France) Attribution: tatoeba.org #272545 (CK) & #482466 (minshirui)\n",
            "It started to snow.\tबरफ़ गिरनी शुरू गो गई।\tCC-BY 2.0 (France) Attribution: tatoeba.org #397241 (porfiriy) & #480274 (minshirui)\n",
            "It was my suitcase.\tयह मेरा सूटकेस था।\tCC-BY 2.0 (France) Attribution: tatoeba.org #2167389 (CM) & #9013180 (simranbansal)\n",
            "It was sort of fun.\tवो मजेदार था I\tCC-BY 2.0 (France) Attribution: tatoeba.org #3539237 (Hybrid) & #3539270 (nurendra)\n",
            "It's too expensive.\tबहुत महंगा है!\tCC-BY 2.0 (France) Attribution: tatoeba.org #276955 (CK) & #484092 (minshirui)\n",
            "It's too expensive.\tबहुत महंगी है!\tCC-BY 2.0 (France) Attribution: tatoeba.org #276955 (CK) & #484093 (minshirui)\n",
            "It's very hot here.\tयहाँ बहुत गरम है।\tCC-BY 2.0 (France) Attribution: tatoeba.org #61668 (CK) & #455601 (minshirui)\n",
            "Let me handle this.\tयह मुझे संभालने दो।\tCC-BY 2.0 (France) Attribution: tatoeba.org #25537 (CK) & #516773 (minshirui)\n",
            "Let's take a train.\tरेलगाड़ी से चलते हैं।\tCC-BY 2.0 (France) Attribution: tatoeba.org #279178 (CK) & #452262 (minshirui)\n",
            "My car is a Toyota.\tमेरी गाड़ी टोयोटा है।\tCC-BY 2.0 (France) Attribution: tatoeba.org #251073 (CM) & #480215 (minshirui)\n",
            "My family is small.\tमेरा परिवार छोटा है।\tCC-BY 2.0 (France) Attribution: tatoeba.org #250226 (CK) & #491859 (minshirui)\n",
            "My toes are frozen.\tमेरे पाँव जम चुके हैं।\tCC-BY 2.0 (France) Attribution: tatoeba.org #3071602 (sharptoothed) & #8876401 (simranbansal)\n",
            "No one can help me.\tकोई मेरी मदद नहीं कर सकता।\tCC-BY 2.0 (France) Attribution: tatoeba.org #40350 (CK) & #506508 (minshirui)\n",
            "She is very pretty.\tवह बहुत सुंदर है।\tCC-BY 2.0 (France) Attribution: tatoeba.org #311741 (CK) & #457013 (minshirui)\n",
            "She leaped for joy.\tवह खुशी से उछल पड़ी।\tCC-BY 2.0 (France) Attribution: tatoeba.org #317344 (CM) & #465637 (minshirui)\n",
            "She smiled happily.\tउसने खुशी से मुस्कुराया।\tCC-BY 2.0 (France) Attribution: tatoeba.org #310555 (CK) & #494122 (minshirui)\n",
            "She's not a doctor.\tवह डॉक्टर नहीं है।\tCC-BY 2.0 (France) Attribution: tatoeba.org #455281 (CK) & #486378 (minshirui)\n",
            "That guy annoys me.\tमुझे उस आदमी से चिढ़ आती है।\tCC-BY 2.0 (France) Attribution: tatoeba.org #395396 (CK) & #476013 (minshirui)\n",
            "The batter was out.\tबॅटर आऊट हो गया था।\tCC-BY 2.0 (France) Attribution: tatoeba.org #275212 (CM) & #505366 (minshirui)\n",
            "The crow flew away.\tकौआ उड़ गया।\tCC-BY 2.0 (France) Attribution: tatoeba.org #49598 (CK) & #475778 (minshirui)\n",
            "The power went out.\tबिजली चली गई।\tCC-BY 2.0 (France) Attribution: tatoeba.org #480240 (minshirui) & #480239 (minshirui)\n",
            "The thief vanished.\tचोर गायब हो गया।\tCC-BY 2.0 (France) Attribution: tatoeba.org #2845851 (AlanF_US) & #8876400 (simranbansal)\n",
            "These dogs are big.\tये कुत्ते बड़े हैं।\tCC-BY 2.0 (France) Attribution: tatoeba.org #55306 (CK) & #475982 (minshirui)\n",
            "This is Mary's dog.\tयह मेरी का कुत्ता है।\tCC-BY 2.0 (France) Attribution: tatoeba.org #55826 (CK) & #457021 (minshirui)\n",
            "Was his story true?\tउसकी कहानी सच्ची थी क्या?\tCC-BY 2.0 (France) Attribution: tatoeba.org #430439 (FeuDRenais) & #465649 (minshirui)\n",
            "We enjoyed skating.\tहमे स्केटिंग करके मज़ा आया।\tCC-BY 2.0 (France) Attribution: tatoeba.org #248027 (CK) & #509980 (minshirui)\n",
            "We kept on talking.\tहम बात करते रहे।\tCC-BY 2.0 (France) Attribution: tatoeba.org #8306932 (Ergulis) & #8876399 (simranbansal)\n",
            "We were in a hurry.\tहम जल्दी में थे।\tCC-BY 2.0 (France) Attribution: tatoeba.org #248575 (CK) & #506559 (minshirui)\n",
            "We were very tired.\tहम बहुत थक चुके थे।\tCC-BY 2.0 (France) Attribution: tatoeba.org #248234 (CK) & #487220 (minshirui)\n",
            "We're good friends.\tहम अच्छे दोस्त हैं।\tCC-BY 2.0 (France) Attribution: tatoeba.org #2548495 (CK) & #516666 (minshirui)\n",
            "What a big pumpkin!\tकितना बड़ा कद्दू है!\tCC-BY 2.0 (France) Attribution: tatoeba.org #36069 (CK) & #515438 (minshirui)\n",
            "What's the problem?\tमुश्किल क्या है?\tCC-BY 2.0 (France) Attribution: tatoeba.org #485560 (minshirui) & #485557 (minshirui)\n",
            "When does it begin?\tशुरू कब होता है?\tCC-BY 2.0 (France) Attribution: tatoeba.org #42781 (CK) & #581300 (minshirui)\n",
            "Where are the kids?\tबच्चे कहाँ गए?\tCC-BY 2.0 (France) Attribution: tatoeba.org #2548477 (CK) & #3216297 (anubhav93)\n",
            "Which dog is yours?\tतुम्हारा कुत्ता कौनसा है?\tCC-BY 2.0 (France) Attribution: tatoeba.org #37522 (CK) & #486005 (minshirui)\n",
            "Who broke the vase?\tगुलदान को किसने तोड़ दिया?\tCC-BY 2.0 (France) Attribution: tatoeba.org #454441 (CM) & #477712 (minshirui)\n",
            "Who made this cake?\tयह केक किसने बनाया है?\tCC-BY 2.0 (France) Attribution: tatoeba.org #276190 (CK) & #511170 (minshirui)\n",
            "Who's at the wheel?\tगाड़ी कौन चला रहा है?\tCC-BY 2.0 (France) Attribution: tatoeba.org #276293 (Zifre) & #515419 (minshirui)\n",
            "Whose book is this?\tयह किसकी किताब है?\tCC-BY 2.0 (France) Attribution: tatoeba.org #54871 (CK) & #485548 (minshirui)\n",
            "You could say that.\tआप ऐसा कह सकते हैं ।\tCC-BY 2.0 (France) Attribution: tatoeba.org #2647756 (CK) & #8876390 (simranbansal)\n",
            "You may use my pen.\tतुम मेरी कलम इस्तेमाल कर सकते हो।\tCC-BY 2.0 (France) Attribution: tatoeba.org #250396 (CK) & #505115 (minshirui)\n",
            "Answer my questions.\tमेरे सवालों का जवाब दो।\tCC-BY 2.0 (France) Attribution: tatoeba.org #433642 (CK) & #518720 (minshirui)\n",
            "Are they in the gym?\tवे जिमखाने में हैं क्या?\tCC-BY 2.0 (France) Attribution: tatoeba.org #307084 (CK) & #477705 (minshirui)\n",
            "Can you drive a car?\tतुम्हें गाड़ी चलाना आता है क्या?\tCC-BY 2.0 (France) Attribution: tatoeba.org #16020 (CK) & #485530 (minshirui)\n",
            "Can you drive a car?\tतुम गाड़ी चला सकते हो क्या?\tCC-BY 2.0 (France) Attribution: tatoeba.org #16020 (CK) & #485531 (minshirui)\n",
            "Could you sign here?\tयहाँ हस्ताक्षर कर सकते हैं क्या?\tCC-BY 2.0 (France) Attribution: tatoeba.org #61821 (CK) & #485913 (minshirui)\n",
            "Everybody likes her.\tउसे सब पसंद करते हैं।\tCC-BY 2.0 (France) Attribution: tatoeba.org #451284 (minshirui) & #451280 (minshirui)\n",
            "Everybody likes him.\tउसे सब पसंद करते हैं।\tCC-BY 2.0 (France) Attribution: tatoeba.org #451281 (minshirui) & #451280 (minshirui)\n",
            "Excuse me, I'm lost.\tमाफ़ कीजिएगा, मैं खो गई हूँ।\tCC-BY 2.0 (France) Attribution: tatoeba.org #51482 (autuno) & #475836 (minshirui)\n",
            "He called me a taxi.\tउसने मेरे लिए टेक्सी बुलवाई।\tCC-BY 2.0 (France) Attribution: tatoeba.org #416343 (CK) & #455630 (minshirui)\n",
            "He entered the room.\tउसने कमरे में प्रवेश किया।\tCC-BY 2.0 (France) Attribution: tatoeba.org #303396 (CK) & #8889388 (simranbansal)\n",
            "He entered the room.\tवह कमरे में दाखिल हुआ ।\tCC-BY 2.0 (France) Attribution: tatoeba.org #303396 (CK) & #8889390 (simranbansal)\n",
            "He felt very lonely.\tउसे बहुत अकेलापन महसूस हुआ।\tCC-BY 2.0 (France) Attribution: tatoeba.org #301338 (CK) & #475964 (minshirui)\n",
            "He lives next to me.\tवह मेरे पड़ोस में रहता है।\tCC-BY 2.0 (France) Attribution: tatoeba.org #298017 (CK) & #483864 (minshirui)\n",
            "He looks very tired.\tवह बहुत थका-हारा सा लगता है।\tCC-BY 2.0 (France) Attribution: tatoeba.org #292162 (CK) & #487503 (minshirui)\n",
            "He seems to be rich.\tवह दिखने में बहुत अमीर लगता है।\tCC-BY 2.0 (France) Attribution: tatoeba.org #288115 (CK) & #483922 (minshirui)\n",
            "He'll get well soon.\tवह जल्द ही ठीक हो जाएगा।\tCC-BY 2.0 (France) Attribution: tatoeba.org #392170 (CK) & #514099 (minshirui)\n",
            "He's in a bad state.\tउसकी हालत बुरी है।\tCC-BY 2.0 (France) Attribution: tatoeba.org #480264 (minshirui) & #480263 (minshirui)\n",
            "How about the taste?\tऔर स्वाद कैसा है?\tCC-BY 2.0 (France) Attribution: tatoeba.org #322650 (CM) & #509348 (minshirui)\n",
            "How did you make it?\tतुमने कैसे बनाया?\tCC-BY 2.0 (France) Attribution: tatoeba.org #38356 (CK) & #590044 (minshirui)\n",
            "I am not from India.\tमैं भारत से नहीं हूँ।\tCC-BY 2.0 (France) Attribution: tatoeba.org #370942 (saeb) & #487758 (minshirui)\n",
            "I am reading a book.\tमैं किताब पढ़ रही हूँ।\tCC-BY 2.0 (France) Attribution: tatoeba.org #322105 (CK) & #3085284 (dfordivam)\n",
            "I bought an old car.\tमैंने पुरानी गाड़ी खरीदी।\tCC-BY 2.0 (France) Attribution: tatoeba.org #257301 (CK) & #485950 (minshirui)\n",
            "I can teach English.\tमैं अंग्रेज़ी पढ़ा सकता हूँ।\tCC-BY 2.0 (France) Attribution: tatoeba.org #256232 (CK) & #498190 (minshirui)\n",
            "I continued singing.\tमैं गाता चला गया।\tCC-BY 2.0 (France) Attribution: tatoeba.org #410606 (CK) & #485779 (minshirui)\n",
            "I do not understand.\tमैं समझा नहीं।\tCC-BY 2.0 (France) Attribution: tatoeba.org #376610 (CM) & #476009 (minshirui)\n",
            "I don't like summer.\tमुझे गर्मी का मौसम पसंद नहीं है।\tCC-BY 2.0 (France) Attribution: tatoeba.org #252224 (CK) & #511717 (minshirui)\n",
            "I forgot to ask him.\tमैं उससे पूछना भूल गया।\tCC-BY 2.0 (France) Attribution: tatoeba.org #354494 (plover) & #485550 (minshirui)\n",
            "I hate taking risks.\tमुझे जोखिम लेना पसंद नहीं है।\tCC-BY 2.0 (France) Attribution: tatoeba.org #491258 (adjusting) & #498202 (minshirui)\n",
            "I haven't eaten yet.\tमैंने अभी तक नहीं खाया है।\tCC-BY 2.0 (France) Attribution: tatoeba.org #476414 (minshirui) & #476413 (minshirui)\n",
            "I know both of them.\tमैं दोनो को जानता था।\tCC-BY 2.0 (France) Attribution: tatoeba.org #260874 (minshirui) & #450954 (minshirui)\n",
            "I know what that is.\tमुझे पता है कि वह चीज़ क्या है।\tCC-BY 2.0 (France) Attribution: tatoeba.org #253053 (CK) & #3189597 (pranjal710)\n",
            "I tried to tell you.\tमैंने तुम्हे बताने की कोशिश करी थी।\tCC-BY 2.0 (France) Attribution: tatoeba.org #41064 (CK) & #491560 (minshirui)\n",
            "I want to marry her.\tमैं उससे शादी करना चाहता हूँ।\tCC-BY 2.0 (France) Attribution: tatoeba.org #321937 (CK) & #516665 (minshirui)\n",
            "I wanted her to win.\tमैं चाहता था कि वह जीत जाए।\tCC-BY 2.0 (France) Attribution: tatoeba.org #308896 (CK) & #487218 (minshirui)\n",
            "I'd like a city map.\tमुझे शहर का नक्शा चाहिए।\tCC-BY 2.0 (France) Attribution: tatoeba.org #246186 (CK) & #491583 (minshirui)\n",
            "I'd like to see her.\tमैं उसे देखना चाहूँगा।\tCC-BY 2.0 (France) Attribution: tatoeba.org #261169 (CK) & #475943 (minshirui)\n",
            "I'd like to see her.\tमैं उससे मिलना चाहूँगा।\tCC-BY 2.0 (France) Attribution: tatoeba.org #261169 (CK) & #475944 (minshirui)\n",
            "I'll be back at ten.\tमैं दस बजे वापस आऊँगा।\tCC-BY 2.0 (France) Attribution: tatoeba.org #73430 (CK) & #505406 (minshirui)\n",
            "I'll bring the wine.\tमैं शराब लाता हूँ।\tCC-BY 2.0 (France) Attribution: tatoeba.org #2548342 (CK) & #3216286 (anubhav93)\n",
            "I'll bring the wine.\tमैं शराब लाऊँगा।\tCC-BY 2.0 (France) Attribution: tatoeba.org #2548342 (CK) & #3216287 (anubhav93)\n",
            "I'll make you happy.\tमैं तुम्हें खुश करूँगा।\tCC-BY 2.0 (France) Attribution: tatoeba.org #237692 (CK) & #588627 (minshirui)\n",
            "I've already called.\tमैंने फ़ोन कर लिया है।\tCC-BY 2.0 (France) Attribution: tatoeba.org #2248330 (CK) & #3216306 (anubhav93)\n",
            "I've lost my ticket.\tमेरी टिकट खो गई है।\tCC-BY 2.0 (France) Attribution: tatoeba.org #259030 (CK) & #588615 (minshirui)\n",
            "Let's play baseball!\tचलो बेसबॉल खेलतें हैं।\tCC-BY 2.0 (France) Attribution: tatoeba.org #54226 (CK) & #588554 (minshirui)\n",
            "Must I write in ink?\tमुझे स्याही से ही लिखना होगा?\tCC-BY 2.0 (France) Attribution: tatoeba.org #65761 (CM) & #484107 (minshirui)\n",
            "My family loved Tom.\tमेरे परिवार को टॉम पसंद था।\tCC-BY 2.0 (France) Attribution: tatoeba.org #2396296 (CK) & #3225319 (anubhav93)\n",
            "My money was stolen.\tमेरे पैसे चोरी हो गए।\tCC-BY 2.0 (France) Attribution: tatoeba.org #64556 (CK) & #450461 (minshirui)\n",
            "My sister has a job.\tमेरी बहन के पास नौकरी है।\tCC-BY 2.0 (France) Attribution: tatoeba.org #322330 (CK) & #506486 (minshirui)\n",
            "She kept on working.\tवह काम करती रही।\tCC-BY 2.0 (France) Attribution: tatoeba.org #388558 (CK) & #588507 (minshirui)\n",
            "She pulled my shirt.\tउसने मेरी कमीज़ खींची।\tCC-BY 2.0 (France) Attribution: tatoeba.org #314283 (CK) & #516768 (minshirui)\n",
            "That is not a tiger.\tवह बाघ नहीं है।\tCC-BY 2.0 (France) Attribution: tatoeba.org #67094 (CK) & #488684 (minshirui)\n",
            "That was my mistake.\tवह मेरी ग़लती थी।\tCC-BY 2.0 (France) Attribution: tatoeba.org #67057 (CK) & #450969 (minshirui)\n",
            "The skies are clear.\tआसमान साफ़ है।\tCC-BY 2.0 (France) Attribution: tatoeba.org #433660 (CK) & #588506 (minshirui)\n",
            "The trees are green.\tपेड़ हरे हैं।\tCC-BY 2.0 (France) Attribution: tatoeba.org #182196 (TRANG) & #482426 (minshirui)\n",
            "These are our books.\tये हमारी किताबें हैं।\tCC-BY 2.0 (France) Attribution: tatoeba.org #397322 (sysko) & #476452 (minshirui)\n",
            "This is what I need.\tयह वही चीज़ है जिसकी मुझे ज़रूरत है।\tCC-BY 2.0 (France) Attribution: tatoeba.org #56215 (CK) & #476407 (minshirui)\n",
            "Tom is sweating now.\tटॉम को अब पसीने आ रहे हैं ।\tCC-BY 2.0 (France) Attribution: tatoeba.org #2273536 (CK) & #8876354 (simranbansal)\n",
            "Watch your language.\tज़बान सम्भाल के बात करो।\tCC-BY 2.0 (France) Attribution: tatoeba.org #239756 (CM) & #485803 (minshirui)\n",
            "We are good friends.\tहम अच्छे दोस्त हैं।\tCC-BY 2.0 (France) Attribution: tatoeba.org #249493 (CK) & #516666 (minshirui)\n",
            "We have a black dog.\tहमारे पास काला कुत्ता है।\tCC-BY 2.0 (France) Attribution: tatoeba.org #8889193 (LinaTamazight) & #8889219 (simranbansal)\n",
            "We must pay the tax.\tहमें टैक्स भरना पड़ेगा।\tCC-BY 2.0 (France) Attribution: tatoeba.org #248959 (CK) & #476392 (minshirui)\n",
            "What did you answer?\tतुमने क्या जवाब दिया?\tCC-BY 2.0 (France) Attribution: tatoeba.org #1426 (Zifre) & #484124 (minshirui)\n",
            "What is in this box?\tइस डब्बे में क्या है?\tCC-BY 2.0 (France) Attribution: tatoeba.org #57513 (CK) & #480281 (minshirui)\n",
            "What were you doing?\tतुम क्या कर रहे थे?\tCC-BY 2.0 (France) Attribution: tatoeba.org #376075 (megamanenm) & #510284 (minshirui)\n",
            "Where are you going?\tतुम कहाँ जा रहे हो?\tCC-BY 2.0 (France) Attribution: tatoeba.org #416367 (phrasemix) & #588621 (minshirui)\n",
            "Where are you going?\tआप कहाँ जा रहे हैं?\tCC-BY 2.0 (France) Attribution: tatoeba.org #416367 (phrasemix) & #588622 (minshirui)\n",
            "Where's the airport?\tहवाई अड्डा कहाँ पर है?\tCC-BY 2.0 (France) Attribution: tatoeba.org #403053 (Ramses) & #510274 (minshirui)\n",
            "Which book is yours?\tतुम्हारी किताब कौनसी है?\tCC-BY 2.0 (France) Attribution: tatoeba.org #37928 (CK) & #476362 (minshirui)\n",
            "Who is your teacher?\tतुम्हारे टीचर कौन हैं?\tCC-BY 2.0 (France) Attribution: tatoeba.org #17660 (CK) & #486310 (minshirui)\n",
            "Why didn't you come?\tतुम क्यों नहीं आए?\tCC-BY 2.0 (France) Attribution: tatoeba.org #24657 (xtofu80) & #446711 (minshirui)\n",
            "Will you go with us?\tतुम हमारे साथ आओगे क्या?\tCC-BY 2.0 (France) Attribution: tatoeba.org #69291 (CK) & #476361 (minshirui)\n",
            "Winter is coming on.\tसर्दी आ रही है।\tCC-BY 2.0 (France) Attribution: tatoeba.org #279602 (CM) & #505395 (minshirui)\n",
            "You are at it again.\tतुम फिरसे चालू हो गए।\tCC-BY 2.0 (France) Attribution: tatoeba.org #274151 (CM) & #506560 (minshirui)\n",
            "You must forgive me.\tतुम्हे मुझे माफ़ करना होगा।\tCC-BY 2.0 (France) Attribution: tatoeba.org #38489 (shanghainese) & #510280 (minshirui)\n",
            "You must forgive me.\tआपको मुझे क्षमा करना होगा।\tCC-BY 2.0 (France) Attribution: tatoeba.org #38489 (shanghainese) & #510281 (minshirui)\n",
            "You must study hard.\tतुम्हें मन लगाकर पढ़ना होगा।\tCC-BY 2.0 (France) Attribution: tatoeba.org #15864 (CK) & #473754 (minshirui)\n",
            "You're a life saver.\tतुमने मेरी जान बचाली।\tCC-BY 2.0 (France) Attribution: tatoeba.org #71248 (CK) & #491849 (minshirui)\n",
            "Didn't I tell you so?\tमैंने तुम्हें बताया नहीं था?\tCC-BY 2.0 (France) Attribution: tatoeba.org #17555 (CK) & #487474 (minshirui)\n",
            "Do you have a pencil?\tतुम्हारे पास पेनसिल है क्या?\tCC-BY 2.0 (France) Attribution: tatoeba.org #69635 (CK) & #475941 (minshirui)\n",
            "Do you jog every day?\tक्या आप हर दिन जॉगिंग करते हैं?\tCC-BY 2.0 (France) Attribution: tatoeba.org #8859105 (sundown) & #8889257 (simranbansal)\n",
            "Do you jog every day?\tक्या आप रोज़ जॉगिंग करते हैं?\tCC-BY 2.0 (France) Attribution: tatoeba.org #8859105 (sundown) & #8889258 (simranbansal)\n",
            "Do you jog every day?\tक्या आप प्रत्येक दिन जॉगिंग करते हैं?\tCC-BY 2.0 (France) Attribution: tatoeba.org #8859105 (sundown) & #8889259 (simranbansal)\n",
            "Do you live in Tokyo?\tतुम टोक्यो में रहते हो क्या?\tCC-BY 2.0 (France) Attribution: tatoeba.org #279737 (CK) & #455304 (minshirui)\n",
            "Don't open your book.\tअपनी किताब मत खोलो।\tCC-BY 2.0 (France) Attribution: tatoeba.org #453893 (saasmath) & #491015 (minshirui)\n",
            "Don't worry about me.\tमेरी चिंता मत करो।\tCC-BY 2.0 (France) Attribution: tatoeba.org #25528 (CK) & #588572 (minshirui)\n",
            "Don't worry about us.\tहमारी चिंता मत करो।\tCC-BY 2.0 (France) Attribution: tatoeba.org #262593 (CK) & #455301 (minshirui)\n",
            "Fish live in the sea.\tमछलियाँ समुंदर में रहतीं हैं।\tCC-BY 2.0 (France) Attribution: tatoeba.org #19350 (CK) & #487268 (minshirui)\n",
            "Go tell him yourself.\tउसको अपने-आप जाकर बताओ।\tCC-BY 2.0 (France) Attribution: tatoeba.org #264618 (CH) & #487414 (minshirui)\n",
            "Have you been abroad?\tआप विदेश गए हुए हैं क्या?\tCC-BY 2.0 (France) Attribution: tatoeba.org #21932 (CK) & #443154 (minshirui)\n",
            "He got angry with me.\tवह मुझपर गुस्सा हो गया।\tCC-BY 2.0 (France) Attribution: tatoeba.org #302781 (CK) & #485535 (minshirui)\n",
            "He has been to India.\tवह भारत गया हुआ है।\tCC-BY 2.0 (France) Attribution: tatoeba.org #29031 (CK) & #487659 (minshirui)\n",
            "He is angry with you.\tवह तुमसे नाराज़ है।\tCC-BY 2.0 (France) Attribution: tatoeba.org #295630 (CK) & #475981 (minshirui)\n",
            "He is hard to please.\tउसको खुश करना बहुत मुश्किल है।\tCC-BY 2.0 (France) Attribution: tatoeba.org #295084 (CK) & #516766 (minshirui)\n",
            "He is in poor health.\tउसकी हालत बुरी है।\tCC-BY 2.0 (France) Attribution: tatoeba.org #47461 (CK) & #480263 (minshirui)\n",
            "He lent me two books.\tउसने मुझे दो किताबें उधार दीं।\tCC-BY 2.0 (France) Attribution: tatoeba.org #297718 (CK) & #482468 (minshirui)\n",
            "He made up an excuse.\tउसने कोई बहाना बना लिया।\tCC-BY 2.0 (France) Attribution: tatoeba.org #296277 (CK) & #494206 (minshirui)\n",
            "He married for money.\tउसने पैसों के लिए शादी की।\tCC-BY 2.0 (France) Attribution: tatoeba.org #295451 (CK) & #505413 (minshirui)\n",
            "He saw a pretty girl.\tउसने एक सुंदर लड़की को देखा।\tCC-BY 2.0 (France) Attribution: tatoeba.org #289597 (CK) & #505060 (minshirui)\n",
            "He wanted to succeed.\tवह कामयाब होना चाहता था।\tCC-BY 2.0 (France) Attribution: tatoeba.org #300302 (CK) & #476373 (minshirui)\n",
            "How's your job going?\tतुम्हारी नौकरी कैसी चल रही है?\tCC-BY 2.0 (France) Attribution: tatoeba.org #3943856 (sabretou) & #473715 (minshirui)\n",
            "I agree to this plan.\tमैं इस योजना से सहमत हूँ।\tCC-BY 2.0 (France) Attribution: tatoeba.org #253583 (CM) & #450401 (minshirui)\n",
            "I am a stranger here.\tमुझे यहाँ पर अजनबी के जैसा महसूस होता है।\tCC-BY 2.0 (France) Attribution: tatoeba.org #253493 (CK) & #505262 (minshirui)\n",
            "I am counting on you.\tमैं तुमपर भरोसा कर रहा हूँ।\tCC-BY 2.0 (France) Attribution: tatoeba.org #237705 (CK) & #516781 (minshirui)\n",
            "I am eating an apple.\tमैं सेव खा रहा हूँ ।\tCC-BY 2.0 (France) Attribution: tatoeba.org #29612 (CK) & #2078024 (minshirui)\n",
            "I am eating an apple.\tमैं सेव खा रही हूँ ।\tCC-BY 2.0 (France) Attribution: tatoeba.org #29612 (CK) & #2078025 (minshirui)\n",
            "I don't mind waiting.\tमुझे प्रतीक्षा करने में कोई आपत्ती नहीं है।\tCC-BY 2.0 (France) Attribution: tatoeba.org #259301 (CK) & #483820 (minshirui)\n",
            "I expect him to come.\tमुझे लगता है वह आएगा।\tCC-BY 2.0 (France) Attribution: tatoeba.org #282984 (CK) & #3212892 (anubhav93)\n",
            "I feel like vomiting.\tमुझे उल्टी आ रही है।\tCC-BY 2.0 (France) Attribution: tatoeba.org #18952 (CK) & #452469 (minshirui)\n",
            "I had a little fever.\tमुझे थोड़ा बुखार था।\tCC-BY 2.0 (France) Attribution: tatoeba.org #8879537 (CK) & #8879547 (simranbansal)\n",
            "I had a little fever.\tमुझे हल्का बुखार था।\tCC-BY 2.0 (France) Attribution: tatoeba.org #8879537 (CK) & #8879563 (simranbansal)\n",
            "I have a few friends.\tमेरे पास कुछ दोस्त हैं।\tCC-BY 2.0 (France) Attribution: tatoeba.org #262059 (CK) & #487465 (minshirui)\n",
            "I have a stomachache.\tमुझे पेट में दर्द हो रहा है।\tCC-BY 2.0 (France) Attribution: tatoeba.org #64954 (CK) & #495931 (minshirui)\n",
            "I have back problems.\tमुझे पीठ की तकलीफ है I\tCC-BY 2.0 (France) Attribution: tatoeba.org #1887359 (CK) & #3539261 (nurendra)\n",
            "I have caught a cold.\tमुझे ज़ुकाम हो गया है।\tCC-BY 2.0 (France) Attribution: tatoeba.org #257622 (CK) & #505369 (minshirui)\n",
            "I have lunch at noon.\tमैं दोपहर बारह बजे खाना खाती हूँ।\tCC-BY 2.0 (France) Attribution: tatoeba.org #258971 (CK) & #9013270 (simranbansal)\n",
            "I just cut my finger.\tमैंने अपनी ऊँगली काट ली।\tCC-BY 2.0 (France) Attribution: tatoeba.org #246249 (CK) & #511730 (minshirui)\n",
            "I know why he did it.\tमुझे पता है उसने क्यों किया था।\tCC-BY 2.0 (France) Attribution: tatoeba.org #292255 (CK) & #511758 (minshirui)\n",
            "I live in a big city.\tमैं बड़े शहर में रहता हूँ।\tCC-BY 2.0 (France) Attribution: tatoeba.org #259357 (CK) & #514130 (minshirui)\n",
            "I lost consciousness.\tमैं बेहोशी में चला गया।\tCC-BY 2.0 (France) Attribution: tatoeba.org #28205 (CK) & #516704 (minshirui)\n",
            "I lost consciousness.\tमैं बेहोश हो गया।\tCC-BY 2.0 (France) Attribution: tatoeba.org #28205 (CK) & #516705 (minshirui)\n",
            "I meant it as a joke.\tमैंने तो मज़ाक के तौर पर कहा था।\tCC-BY 2.0 (France) Attribution: tatoeba.org #42846 (CK) & #506543 (minshirui)\n",
            "I meant it as a joke.\tमैंने तो मज़ाक समझकर बोला था।\tCC-BY 2.0 (France) Attribution: tatoeba.org #42846 (CK) & #506544 (minshirui)\n",
            "I met Mary yesterday.\tमैं कल मेरी से मिला था।\tCC-BY 2.0 (France) Attribution: tatoeba.org #257749 (CK) & #609864 (minshirui)\n",
            "I think you're right.\tमेरे ख़याल से तुम सही हो।\tCC-BY 2.0 (France) Attribution: tatoeba.org #17212 (CK) & #609866 (minshirui)\n",
            "I want my money back.\tमुझे अपने पैसे वापस चाहिए।\tCC-BY 2.0 (France) Attribution: tatoeba.org #431044 (kazuya00) & #487450 (minshirui)\n",
            "I will come with you.\tमैं तुम्हारे साथ आऊँगा।\tCC-BY 2.0 (France) Attribution: tatoeba.org #71246 (CK) & #484176 (minshirui)\n",
            "I'll admit I'm wrong.\tमैं मानता हूँ कि मैं ग़लत था।\tCC-BY 2.0 (France) Attribution: tatoeba.org #321323 (CK) & #588544 (minshirui)\n",
            "I'll never come back.\tमैं कभी वापस नहीं आऊँगा।\tCC-BY 2.0 (France) Attribution: tatoeba.org #426277 (CM) & #476378 (minshirui)\n",
            "I'm allergic to fish.\tमुझे मछली से एलर्जी है।\tCC-BY 2.0 (France) Attribution: tatoeba.org #19371 (CM) & #475997 (minshirui)\n",
            "I've lost my glasses.\tमेरा चश्मा खो गया है।\tCC-BY 2.0 (France) Attribution: tatoeba.org #20792 (CK) & #506456 (minshirui)\n",
            "I've lost my glasses.\tमेरे चश्मे खो गए हैं।\tCC-BY 2.0 (France) Attribution: tatoeba.org #20792 (CK) & #506457 (minshirui)\n",
            "I've made a decision.\tमैं फ़ैसला कर चुका हूँ।\tCC-BY 2.0 (France) Attribution: tatoeba.org #2359933 (CK) & #444387 (minshirui)\n",
            "Is he reading a book?\tवह किताब पढ़ रहा है क्या?\tCC-BY 2.0 (France) Attribution: tatoeba.org #303799 (CK) & #485775 (minshirui)\n",
            "Is it open on Sunday?\tरविवार को खुला होता है क्या?\tCC-BY 2.0 (France) Attribution: tatoeba.org #281834 (CK) & #491717 (minshirui)\n",
            "Is the phone ringing?\tफ़ोन बज रहा है क्या?\tCC-BY 2.0 (France) Attribution: tatoeba.org #1829631 (marcelostockle) & #3225285 (anubhav93)\n",
            "It is already eleven.\tग्यारह बज चुके हैं।\tCC-BY 2.0 (France) Attribution: tatoeba.org #1618 (CK) & #485565 (minshirui)\n",
            "It is free of charge.\tयह मुफ़्त का है।\tCC-BY 2.0 (France) Attribution: tatoeba.org #3064117 (harshnisar) & #491589 (minshirui)\n",
            "It was really boring.\tयह बहुत उबाऊ था।\tCC-BY 2.0 (France) Attribution: tatoeba.org #8879528 (CK) & #8879568 (simranbansal)\n",
            "It's an easy victory.\tयह जीत तो बहुत आसान थी।\tCC-BY 2.0 (France) Attribution: tatoeba.org #435761 (CK) & #588550 (minshirui)\n",
            "It's windy, isn't it?\tयहाँ हवा चल रही है, है ना?\tCC-BY 2.0 (France) Attribution: tatoeba.org #8879492 (CK) & #8879572 (simranbansal)\n",
            "Let me take you home.\tमुझे तुम्हें घर लेजाने दो।\tCC-BY 2.0 (France) Attribution: tatoeba.org #64245 (CK) & #505386 (minshirui)\n",
            "Lincoln died in 1865.\tलिंकन की मौत १८६५ में हुई थी।\tCC-BY 2.0 (France) Attribution: tatoeba.org #29653 (CK) & #485532 (minshirui)\n",
            "Please do it quickly.\tजल्दी कीजिए।\tCC-BY 2.0 (France) Attribution: tatoeba.org #38491 (CK) & #3223733 (anubhav93)\n",
            "Please shut the door.\tदरवाज़े को बंद कर दीजिए।\tCC-BY 2.0 (France) Attribution: tatoeba.org #495837 (CK) & #588503 (minshirui)\n",
            "She gave him a watch.\tउसने उसे एक घड़ी दी।\tCC-BY 2.0 (France) Attribution: tatoeba.org #316307 (CK) & #473707 (minshirui)\n",
            "She wore a red dress.\tउसने लाल रंग के कपड़े पहने थे।\tCC-BY 2.0 (France) Attribution: tatoeba.org #315402 (CK) & #498100 (minshirui)\n",
            "She wore a red dress.\tउसने लाल ड्रेस पहनी थी।\tCC-BY 2.0 (France) Attribution: tatoeba.org #315402 (CK) & #498101 (minshirui)\n",
            "That's his specialty.\tवह उसकी ख़ासियत है।\tCC-BY 2.0 (France) Attribution: tatoeba.org #42168 (CK) & #473732 (minshirui)\n",
            "The house is haunted.\tइस घर में भूत है।\tCC-BY 2.0 (France) Attribution: tatoeba.org #68547 (CK) & #588632 (minshirui)\n",
            "The house was ablaze.\tघर आग में लिपटा हुआ था।\tCC-BY 2.0 (France) Attribution: tatoeba.org #49333 (CM) & #483884 (minshirui)\n",
            "The man looked at me.\tउस आदमी ने मेरी ओर देखा।\tCC-BY 2.0 (France) Attribution: tatoeba.org #45387 (CK) & #498177 (minshirui)\n",
            "The sheets feel damp.\tचादरें गीलीं लगतीं हैं।\tCC-BY 2.0 (France) Attribution: tatoeba.org #61055 (CK) & #457049 (minshirui)\n",
            "The water pipe burst.\tपानी का पाइप फट गया।\tCC-BY 2.0 (France) Attribution: tatoeba.org #270921 (CK) & #516794 (minshirui)\n",
            "These books are mine.\tये किताबें मेरीं हैं।\tCC-BY 2.0 (France) Attribution: tatoeba.org #55084 (CK) & #611428 (minshirui)\n",
            "These shoes are hers.\tयह जूते उसके हैं।\tCC-BY 2.0 (France) Attribution: tatoeba.org #417351 (CK) & #491587 (minshirui)\n",
            "They went to the zoo.\tवे ज़ू गए थे।\tCC-BY 2.0 (France) Attribution: tatoeba.org #307242 (CK) & #506539 (minshirui)\n",
            "This feels like silk.\tयह रेशम जैसा लगता है।\tCC-BY 2.0 (France) Attribution: tatoeba.org #55920 (CK) & #491837 (minshirui)\n",
            "This watch is broken.\tयह घड़ी टूटी हुई है।\tCC-BY 2.0 (France) Attribution: tatoeba.org #58929 (CK) & #609867 (minshirui)\n",
            "Time goes by quickly.\tसमय तेज़ी से बीतता है।\tCC-BY 2.0 (France) Attribution: tatoeba.org #263904 (CM) & #514115 (minshirui)\n",
            "Tom had another beer.\tटॉम ने एक और बियर पी ली ।\tCC-BY 2.0 (France) Attribution: tatoeba.org #2547597 (CK) & #8938134 (simranbansal)\n",
            "Wash your hands well.\tअपने हाथ अच्छे से धोओ।\tCC-BY 2.0 (France) Attribution: tatoeba.org #265931 (CK) & #484117 (minshirui)\n",
            "What day is it today?\tआज कौनसा वार है?\tCC-BY 2.0 (France) Attribution: tatoeba.org #476431 (minshirui) & #476432 (minshirui)\n",
            "What does it contain?\tइसमें क्या है?\tCC-BY 2.0 (France) Attribution: tatoeba.org #464564 (lukaszpp) & #505261 (minshirui)\n",
            "When did you see her?\tतुमने उसे कब देखा था?\tCC-BY 2.0 (France) Attribution: tatoeba.org #65968 (CK) & #480266 (minshirui)\n",
            "When will you return?\tतुम कब लौट कर आओगे?\tCC-BY 2.0 (France) Attribution: tatoeba.org #707934 (Zifre) & #443033 (minshirui)\n",
            "Where is the problem?\tमुश्किल क्या है?\tCC-BY 2.0 (France) Attribution: tatoeba.org #1431 (Zifre) & #485557 (minshirui)\n",
            "Where is the problem?\tमुश्किल कहाँ है?\tCC-BY 2.0 (France) Attribution: tatoeba.org #1431 (Zifre) & #485558 (minshirui)\n",
            "Where is your father?\tतुम्हारे पिता कहाँ हैं?\tCC-BY 2.0 (France) Attribution: tatoeba.org #467672 (CK) & #465582 (minshirui)\n",
            "Will you go by train?\tतुम रेलगाड़ी से जाओगे क्या?\tCC-BY 2.0 (France) Attribution: tatoeba.org #237647 (CK) & #450338 (minshirui)\n",
            "You can't prove that.\tतुम वह साबित नहीं कर सकते।\tCC-BY 2.0 (France) Attribution: tatoeba.org #402870 (CM) & #498600 (minshirui)\n",
            "You look happy today.\tतुम आज खुश लगते हो।\tCC-BY 2.0 (France) Attribution: tatoeba.org #16127 (xtofu80) & #515444 (minshirui)\n",
            "Your dog is very big.\tतुम्हारा कुत्ता बहुत बड़ा है।\tCC-BY 2.0 (France) Attribution: tatoeba.org #64241 (CK) & #485959 (minshirui)\n",
            "Your dog is very fat.\tतुम्हारा कुत्ता बहुत मोटा है।\tCC-BY 2.0 (France) Attribution: tatoeba.org #485958 (minshirui) & #485957 (minshirui)\n",
            "Can I give you a hand?\tक्या मैं आपकी मदद कर सकता हूँ ?\tCC-BY 2.0 (France) Attribution: tatoeba.org #2646645 (CK) & #9012851 (simranbansal)\n",
            "Can I give you a hand?\tक्या मैं तुम्हारी मदद कर सकता हूँ ?\tCC-BY 2.0 (France) Attribution: tatoeba.org #2646645 (CK) & #9012852 (simranbansal)\n",
            "Can I use your pencil?\tमैं तुम्हारी पेनसिल इस्तेमाल कर सकता हूँ क्या?\tCC-BY 2.0 (France) Attribution: tatoeba.org #17298 (CK) & #485813 (minshirui)\n",
            "Can the rumor be true?\tक्या यह अफ़वाह सच हो सकती है?\tCC-BY 2.0 (France) Attribution: tatoeba.org #27528 (CM) & #517907 (minshirui)\n",
            "Can you keep a secret?\tतुम राज़ रख सकते हो क्या?\tCC-BY 2.0 (France) Attribution: tatoeba.org #9594 (CK) & #483784 (minshirui)\n",
            "Did you see my camera?\tतुमने मेरा कैमरा देखा क्या?\tCC-BY 2.0 (France) Attribution: tatoeba.org #69327 (CK) & #465602 (minshirui)\n",
            "Do you believe in God?\tक्या तुम भगवान में विश्वास करते हो?\tCC-BY 2.0 (France) Attribution: tatoeba.org #15971 (Swift) & #514143 (minshirui)\n",
            "Do you know your size?\tक्या आपको अपना नाप पता है?\tCC-BY 2.0 (France) Attribution: tatoeba.org #54165 (Eldad) & #518701 (minshirui)\n",
            "Do you like this book?\tक्या तुम्हें यह किताब पसंद है ?\tCC-BY 2.0 (France) Attribution: tatoeba.org #1098272 (cntrational) & #2078049 (minshirui)\n",
            "Does he speak English?\tवह अंग्रेज़ी बोलता है क्या?\tCC-BY 2.0 (France) Attribution: tatoeba.org #293951 (CK) & #487239 (minshirui)\n",
            "Don't add annotations.\tपार्श्व-टिप्पणियाँ न जोड़ें।\tCC-BY 2.0 (France) Attribution: tatoeba.org #611377 (CK) & #611457 (minshirui)\n",
            "Don't be disappointed.\tनिराश मत हो।\tCC-BY 2.0 (France) Attribution: tatoeba.org #449072 (CK) & #588510 (minshirui)\n",
            "Fat hens lay few eggs.\tमोटी मुर्गियाँ कम अंडे देतीं हैं।\tCC-BY 2.0 (France) Attribution: tatoeba.org #317873 (CM) & #487412 (minshirui)\n",
            "Has the bell rung yet?\tघंटी बज चुकी है क्या?\tCC-BY 2.0 (France) Attribution: tatoeba.org #268269 (CK) & #480308 (minshirui)\n",
            "He accepted our offer.\tउसने हमारा प्रस्ताव स्वीकार कर लिया।\tCC-BY 2.0 (France) Attribution: tatoeba.org #299973 (CK) & #477716 (minshirui)\n",
            "He became a policeman.\tवह पुलिस अफ़सर बन गया।\tCC-BY 2.0 (France) Attribution: tatoeba.org #400537 (FeuDRenais) & #509966 (minshirui)\n",
            "He became a policeman.\tवह पुलिसवाला बन गया।\tCC-BY 2.0 (France) Attribution: tatoeba.org #400537 (FeuDRenais) & #509968 (minshirui)\n",
            "He climbed the stairs.\tवह सीड़ियों पर चढ़ गया।\tCC-BY 2.0 (France) Attribution: tatoeba.org #530801 (wma) & #588587 (minshirui)\n",
            "He deals in furniture.\tवो फ़र्निचर का व्यापार करता है।\tCC-BY 2.0 (France) Attribution: tatoeba.org #294433 (CK) & #3213902 (anubhav93)\n",
            "He got a lot of money.\tउसे बहुत सारा पैसा मिला।\tCC-BY 2.0 (France) Attribution: tatoeba.org #301274 (lindupindu) & #443199 (minshirui)\n",
            "He has a little money.\tउसके पास थोड़े-बहुत पैसे हैं।\tCC-BY 2.0 (France) Attribution: tatoeba.org #434894 (lukaszpp) & #455230 (minshirui)\n",
            "He has a lot of money.\tवह बहुत पैसेवाला है।\tCC-BY 2.0 (France) Attribution: tatoeba.org #480576 (CK) & #516640 (minshirui)\n",
            "He is a sharp-shooter.\tउसका निशाना बहुत अच्छा है।\tCC-BY 2.0 (France) Attribution: tatoeba.org #300434 (CM) & #498111 (minshirui)\n",
            "He is poor, but happy.\tवह गरीब है, पर खुश है।\tCC-BY 2.0 (France) Attribution: tatoeba.org #486247 (minshirui) & #486245 (minshirui)\n",
            "He is tall and strong.\tवह लम्बा और ताकतवर है।\tCC-BY 2.0 (France) Attribution: tatoeba.org #302409 (CK) & #484127 (minshirui)\n",
            "He knows us very well.\tवह हमको अच्छी तरह से जानता है।\tCC-BY 2.0 (France) Attribution: tatoeba.org #297413 (CK) & #514107 (minshirui)\n",
            "He looks like a horse.\tवह दिखने में घोड़े की तरह लगता है।\tCC-BY 2.0 (France) Attribution: tatoeba.org #302387 (CK) & #487261 (minshirui)\n",
            "He must be over sixty.\tवे कम-से-कम साठ बरस के तो होंगे।\tCC-BY 2.0 (France) Attribution: tatoeba.org #288616 (CK) & #498102 (minshirui)\n",
            "He sang while working.\tउसने गाते गाते काम किया।\tCC-BY 2.0 (France) Attribution: tatoeba.org #294485 (CK) & #450381 (minshirui)\n",
            "He was my dear friend.\tवह मेरा अच्छा दोस्त था।\tCC-BY 2.0 (France) Attribution: tatoeba.org #297917 (CM) & #485810 (minshirui)\n",
            "He was sick last week.\tवह पिछले हफ़्ते बीमार था।\tCC-BY 2.0 (France) Attribution: tatoeba.org #272762 (CK) & #488680 (minshirui)\n",
            "He won the race again.\tउसने प्रतियोगिता फिरसे जीत ली।\tCC-BY 2.0 (France) Attribution: tatoeba.org #283290 (CM) & #505430 (minshirui)\n",
            "How do you feel today?\tतुम्हे आज कैसा लग रहा है?\tCC-BY 2.0 (France) Attribution: tatoeba.org #54489 (CK) & #516691 (minshirui)\n",
            "I am grateful to them.\tमैं उनका आभारी हूँ।\tCC-BY 2.0 (France) Attribution: tatoeba.org #330444 (sugisaki) & #483773 (minshirui)\n",
            "I am poor at swimming.\tमुझे ढंग से तैरना नहीं आता।\tCC-BY 2.0 (France) Attribution: tatoeba.org #258904 (CK) & #465605 (minshirui)\n",
            "I am tired of my work.\tमैं अपने काम से थक चुका हूँ।\tCC-BY 2.0 (France) Attribution: tatoeba.org #258284 (CK) & #459443 (minshirui)\n",
            "I can't let you leave.\tआपको जाने नहीं दे सकता हूँ।\tCC-BY 2.0 (France) Attribution: tatoeba.org #1954596 (CK) & #3213916 (anubhav93)\n",
            "I dove into the river.\tमैंने नदी में छलाँग लगाकर डुबकी ली।\tCC-BY 2.0 (France) Attribution: tatoeba.org #475953 (minshirui) & #475954 (minshirui)\n",
            "I live in Boston, too.\tमैं भी बॉस्टन में ही रहता हूँ।\tCC-BY 2.0 (France) Attribution: tatoeba.org #2377659 (CK) & #3225330 (anubhav93)\n",
            "I made him my servant.\tमैंने उसे अपना नौकर बना लिया।\tCC-BY 2.0 (France) Attribution: tatoeba.org #260930 (CM) & #514131 (minshirui)\n",
            "I never liked biology.\tमुझे जीव विज्ञान कभी भी पसंद नहीं था।\tCC-BY 2.0 (France) Attribution: tatoeba.org #1317 (brauliobezerra) & #485982 (minshirui)\n",
            "I ran away in a hurry.\tमैं हड़बड़ी में दौड़ गया।\tCC-BY 2.0 (France) Attribution: tatoeba.org #253056 (CK) & #3189615 (pranjal710)\n",
            "I want to visit Korea.\tमैं कोरिया जाना चाहता हूँ।\tCC-BY 2.0 (France) Attribution: tatoeba.org #556616 (Pun_intended) & #3225344 (anubhav93)\n",
            "I was waiting for you.\tमैं आपका इंतज़ार कर रहा था\tCC-BY 2.0 (France) Attribution: tatoeba.org #1240844 (Scott) & #10062685 (Priyesh)\n",
            "I'm too tired to walk.\tमैं इतना थक गया हूँ कि मुझसे और चला नहीं जाएगा।\tCC-BY 2.0 (France) Attribution: tatoeba.org #252981 (CK) & #487496 (minshirui)\n",
            "I've made my decision.\tमैं फ़ैसला कर चुका हूँ।\tCC-BY 2.0 (France) Attribution: tatoeba.org #1891194 (CK) & #444387 (minshirui)\n",
            "Is Mary your daughter?\tक्या मैरी तुम्हारी बेटी है?\tCC-BY 2.0 (France) Attribution: tatoeba.org #2869244 (CK) & #3541706 (nurendra)\n",
            "Is your watch correct?\tतुम्हारी घड़ी सही है क्या?\tCC-BY 2.0 (France) Attribution: tatoeba.org #17103 (CK) & #588608 (minshirui)\n",
            "It will snow tomorrow.\tकल बरफ़ पड़ेगी।\tCC-BY 2.0 (France) Attribution: tatoeba.org #425699 (CK) & #463377 (minshirui)\n",
            "Let's start the party.\tपार्टी शुरू करते हैं।\tCC-BY 2.0 (France) Attribution: tatoeba.org #387385 (CK) & #588596 (minshirui)\n",
            "Make yourself at home.\tइसको अपना घर ही समझो।\tCC-BY 2.0 (France) Attribution: tatoeba.org #2378 (CK) & #487513 (minshirui)\n",
            "May I go ahead of you?\tक्या मैं आपसे आगे चला जाऊं?\tCC-BY 2.0 (France) Attribution: tatoeba.org #8158616 (TonyM) & #9012856 (simranbansal)\n",
            "May I go ahead of you?\tक्या मैं आपसे आगे चली जाऊं?\tCC-BY 2.0 (France) Attribution: tatoeba.org #8158616 (TonyM) & #9012857 (simranbansal)\n",
            "May I go ahead of you?\tक्या मैं तुमसे आगे चली जाऊं?\tCC-BY 2.0 (France) Attribution: tatoeba.org #8158616 (TonyM) & #9012858 (simranbansal)\n",
            "May comes after April.\tमई अप्रैल के बाद आता है।\tCC-BY 2.0 (France) Attribution: tatoeba.org #72522 (CM) & #455599 (minshirui)\n",
            "My car is not running.\tमेरी गाड़ी चल नहीं रही है।\tCC-BY 2.0 (France) Attribution: tatoeba.org #251085 (CK) & #510252 (minshirui)\n",
            "My eye has swollen up.\tमेरी आँख सूज गई है।\tCC-BY 2.0 (France) Attribution: tatoeba.org #642489 (minshirui) & #642488 (minshirui)\n",
            "Not all birds can fly.\tसारे पंछी उड़ नहीं सकते।\tCC-BY 2.0 (France) Attribution: tatoeba.org #51700 (saeb) & #459445 (minshirui)\n",
            "Please close the door.\tदरवाज़े को बंद कर दीजिए।\tCC-BY 2.0 (France) Attribution: tatoeba.org #495838 (CK) & #588503 (minshirui)\n",
            "Please leave me alone.\tमुझे अकेला छोड़ दीजिए।\tCC-BY 2.0 (France) Attribution: tatoeba.org #38903 (CK) & #561258 (minshirui)\n",
            "Please throw the ball.\tगेंद फेंकिए।\tCC-BY 2.0 (France) Attribution: tatoeba.org #33628 (CK) & #459402 (minshirui)\n",
            "Put it where you like.\tजहाँ भी डालना है डालदो।\tCC-BY 2.0 (France) Attribution: tatoeba.org #240670 (CK) & #483972 (minshirui)\n",
            "Put it where you like.\tजहाँ भी रखना है रखदो।\tCC-BY 2.0 (France) Attribution: tatoeba.org #240670 (CK) & #483973 (minshirui)\n",
            "Put it where you like.\tजहाँ भी घुसाना है घुसा दो।\tCC-BY 2.0 (France) Attribution: tatoeba.org #240670 (CK) & #483974 (minshirui)\n",
            "She always works hard.\tवह हमेशा मन लगाकर काम करती है।\tCC-BY 2.0 (France) Attribution: tatoeba.org #310399 (CK) & #477721 (minshirui)\n",
            "She asked me for help.\tउसने मुझसे मदद मांगी।\tCC-BY 2.0 (France) Attribution: tatoeba.org #404172 (CK) & #484130 (minshirui)\n",
            "She got me a tiny toy.\tवह मेरे लिए एक नन्हा सा खिलौना खरीद लाई।\tCC-BY 2.0 (France) Attribution: tatoeba.org #314223 (CK) & #561270 (minshirui)\n",
            "She hated her husband.\tवह अपने पति से नफ़रत करती थी।\tCC-BY 2.0 (France) Attribution: tatoeba.org #388374 (CK) & #588552 (minshirui)\n",
            "She is five years old.\tवह पाँच साल की है।\tCC-BY 2.0 (France) Attribution: tatoeba.org #313532 (CK) & #590009 (minshirui)\n",
            "She lived a long life.\tउसने लम्बी ज़िन्दगी जी।\tCC-BY 2.0 (France) Attribution: tatoeba.org #315868 (CK) & #506546 (minshirui)\n",
            "She's a stubborn girl.\tवह एक ज़िद्दी लड़की है।\tCC-BY 2.0 (France) Attribution: tatoeba.org #432804 (aliene) & #486030 (minshirui)\n",
            "Sit wherever you like.\tकहीं भी बैठ जाओ।\tCC-BY 2.0 (France) Attribution: tatoeba.org #64505 (CK) & #588561 (minshirui)\n",
            "Tell me what happened.\tमुझे बताओ क्या हुआ।\tCC-BY 2.0 (France) Attribution: tatoeba.org #2444 (CK) & #450408 (minshirui)\n",
            "The lake is deep here.\tझील यहाँ पर बहुत गहरी है।\tCC-BY 2.0 (France) Attribution: tatoeba.org #239969 (CK) & #483770 (minshirui)\n",
            "The man lost all hope.\tउस आदमी ने सारी उम्मीद छोड़दी।\tCC-BY 2.0 (France) Attribution: tatoeba.org #45361 (CK) & #491897 (minshirui)\n",
            "The station is nearby.\tस्टेशन पास में है।\tCC-BY 2.0 (France) Attribution: tatoeba.org #26044 (CK) & #516717 (minshirui)\n",
            "They hated each other.\tवे एक-दूसरे से नफ़रत करते थे।\tCC-BY 2.0 (France) Attribution: tatoeba.org #280931 (CK) & #511706 (minshirui)\n",
            "They made fun of Mary.\tउन्होंने मेरी का मज़ाक उड़ाया।\tCC-BY 2.0 (France) Attribution: tatoeba.org #293019 (CK) & #486240 (minshirui)\n",
            "They missed the train.\tउनकी ट्रेन छूट गई।\tCC-BY 2.0 (France) Attribution: tatoeba.org #305870 (CK) & #483930 (minshirui)\n",
            "They shouted for help.\tउन्होंने मदद के लिए चिल्लाया।\tCC-BY 2.0 (France) Attribution: tatoeba.org #306856 (CK) & #498210 (minshirui)\n",
            "They shouted for help.\tउन्होंने मदद के लिए आवाज़ लगाई।\tCC-BY 2.0 (France) Attribution: tatoeba.org #306856 (CK) & #498211 (minshirui)\n",
            "This is an apple, too.\tयह भी सेव है।\tCC-BY 2.0 (France) Attribution: tatoeba.org #55330 (Eldad) & #487210 (minshirui)\n",
            "Tom and I are friends.\tटॉम और मैं दोस्त हैं।\tCC-BY 2.0 (France) Attribution: tatoeba.org #37370 (CK) & #457115 (minshirui)\n",
            "Tom can't drive a bus.\tटॉम बस नहीं चला सकता।\tCC-BY 2.0 (France) Attribution: tatoeba.org #1026793 (CK) & #8889370 (simranbansal)\n",
            "We accepted his offer.\tहमने उसके प्रस्ताव को स्वीकार कर लिया।\tCC-BY 2.0 (France) Attribution: tatoeba.org #22735 (CK) & #485554 (minshirui)\n",
            "We are disturbing him.\tहम उनको परेशान कर रहें हैं।\tCC-BY 2.0 (France) Attribution: tatoeba.org #286595 (Plodder) & #516810 (minshirui)\n",
            "We rested for a while.\tहमने थोड़ी देर आराम किया।\tCC-BY 2.0 (France) Attribution: tatoeba.org #248006 (CK) & #491850 (minshirui)\n",
            "Well, I must be going.\tमुझे चलना चाहिए।\tCC-BY 2.0 (France) Attribution: tatoeba.org #43011 (CK) & #491847 (minshirui)\n",
            "What an exciting game!\tकितना रोमांचक खेल है!\tCC-BY 2.0 (France) Attribution: tatoeba.org #36124 (CM) & #8889304 (simranbansal)\n",
            "What is this nonsense?\tयह क्या बकवास है?\tCC-BY 2.0 (France) Attribution: tatoeba.org #482376 (adjusting) & #498214 (minshirui)\n",
            "What're you two doing?\tतुम दोनो क्या कर रहे हो?\tCC-BY 2.0 (France) Attribution: tatoeba.org #2954162 (CK) & #3134882 (pranjal710)\n",
            "What're you two doing?\tतुम दोनो क्या कर रहे थे?\tCC-BY 2.0 (France) Attribution: tatoeba.org #2954162 (CK) & #3134883 (pranjal710)\n",
            "Where is the elevator?\tलिफ़्ट कहाँ पर है?\tCC-BY 2.0 (France) Attribution: tatoeba.org #65239 (CK) & #465625 (minshirui)\n",
            "Whose books are these?\tये क्या किताबें हैं?\tCC-BY 2.0 (France) Attribution: tatoeba.org #55087 (CK) & #588555 (minshirui)\n",
            "Will he come tomorrow?\tवह कल आएगा क्या?\tCC-BY 2.0 (France) Attribution: tatoeba.org #453389 (saasmath) & #3216279 (anubhav93)\n",
            "Will he come tomorrow?\tवे कल आएँगे क्या?\tCC-BY 2.0 (France) Attribution: tatoeba.org #453389 (saasmath) & #3216280 (anubhav93)\n",
            "You didn't understand.\tतुम समझे नहीं।\tCC-BY 2.0 (France) Attribution: tatoeba.org #441344 (CM) & #461275 (minshirui)\n",
            "You reap what you sow.\tजैसी करनी वैसी भरनी।\tCC-BY 2.0 (France) Attribution: tatoeba.org #32882 (Bing05) & #485575 (minshirui)\n",
            "You reap what you sow.\tजैसा बोओगे, वैसा काटोगे।\tCC-BY 2.0 (France) Attribution: tatoeba.org #32882 (Bing05) & #485576 (minshirui)\n",
            "You reap what you sow.\tअच्छा करो, अच्छा पाओ।\tCC-BY 2.0 (France) Attribution: tatoeba.org #32882 (Bing05) & #485577 (minshirui)\n",
            "You reap what you sow.\tकर भला तो हो भला।\tCC-BY 2.0 (France) Attribution: tatoeba.org #32882 (Bing05) & #485579 (minshirui)\n",
            "You reap what you sow.\tजैसा करना वैसा भरना।\tCC-BY 2.0 (France) Attribution: tatoeba.org #32882 (Bing05) & #485580 (minshirui)\n",
            "Your hair is too long.\tतुम्हारे बाल कुछ ज़्यादा ही लम्बे हैं।\tCC-BY 2.0 (France) Attribution: tatoeba.org #16926 (CK) & #485883 (minshirui)\n",
            "\"Who is it?\" \"It's me.\"\t\"कौन है?\" \"मैं हूँ\"\tCC-BY 2.0 (France) Attribution: tatoeba.org #73835 (CK) & #451243 (minshirui)\n",
            "A fox is a wild animal.\tलोमड़ी जंगली जानवर होती है।\tCC-BY 2.0 (France) Attribution: tatoeba.org #63324 (CK) & #581763 (minshirui)\n",
            "But don't get me wrong.\tलेकिन मुझे गलत मत समझिए।\tCC-BY 2.0 (France) Attribution: tatoeba.org #8872531 (CM) & #8879571 (simranbansal)\n",
            "Can anyone believe you?\tक्या कोई तुम्हारा यकीन कर सकता है?\tCC-BY 2.0 (France) Attribution: tatoeba.org #66252 (CK) & #588599 (minshirui)\n",
            "Did you read it at all?\tतुमने पूरा पढ़ लिया क्या?\tCC-BY 2.0 (France) Attribution: tatoeba.org #16308 (CK) & #484001 (minshirui)\n",
            "Do you like this color?\tयह रंग पसंद है क्या?\tCC-BY 2.0 (France) Attribution: tatoeba.org #58382 (CK) & #581866 (minshirui)\n",
            "Don't ask me for money.\tमुझसे पैसे मत माँगो।\tCC-BY 2.0 (France) Attribution: tatoeba.org #249671 (CK) & #486291 (minshirui)\n",
            "Don't lose your temper.\tनाराज़ मत हो जाओ।\tCC-BY 2.0 (France) Attribution: tatoeba.org #319855 (CK) & #505427 (minshirui)\n",
            "Don't make fun of them.\tउनका मज़ाक मत उड़ाओ।\tCC-BY 2.0 (France) Attribution: tatoeba.org #307710 (CK) & #484116 (minshirui)\n",
            "Don't make me slap you.\tमुझे तुम्हें थप्पड़ करने के लिए मजबूर मत करो।\tCC-BY 2.0 (France) Attribution: tatoeba.org #4907416 (DarkHollow) & #4907776 (yashtib1995)\n",
            "Don't say such a thing.\tऐसी बात मत बोलो।\tCC-BY 2.0 (France) Attribution: tatoeba.org #25862 (CK) & #581717 (minshirui)\n",
            "Don't start doing that.\tवह काम शुरु मत करो।\tCC-BY 2.0 (France) Attribution: tatoeba.org #2271340 (CK) & #3213934 (anubhav93)\n",
            "Everyone knew the song.\tवह गाना सभी को पता था।\tCC-BY 2.0 (France) Attribution: tatoeba.org #276529 (CK) & #505103 (minshirui)\n",
            "He can't run very fast.\tवह ज़्यादा तेज़ नहीं भाग सकता।\tCC-BY 2.0 (France) Attribution: tatoeba.org #288821 (CK) & #485568 (minshirui)\n",
            "He earns a good salary.\tवह अच्छा कमा लेता है।\tCC-BY 2.0 (France) Attribution: tatoeba.org #288945 (CK) & #491320 (minshirui)\n",
            "He has three daughters.\tउसकी तीन बेटियाँ हैं।\tCC-BY 2.0 (France) Attribution: tatoeba.org #452768 (CM) & #611438 (minshirui)\n",
            "He knocked at the door.\tउसने दरवाज़े पर खटखटाया।\tCC-BY 2.0 (France) Attribution: tatoeba.org #291912 (CK) & #487205 (minshirui)\n",
            "He learned how to swim.\tउसने तैरना सीखा।\tCC-BY 2.0 (France) Attribution: tatoeba.org #293928 (CK) & #491313 (minshirui)\n",
            "He robbed me of my bag.\tउसने मेरा बस्ता चुरा लिया।\tCC-BY 2.0 (France) Attribution: tatoeba.org #303751 (CM) & #498110 (minshirui)\n",
            "He tore the book apart.\tउसने किताब को फाड़ डाला।\tCC-BY 2.0 (France) Attribution: tatoeba.org #303782 (CK) & #506438 (minshirui)\n",
            "He understands physics.\tवह भौतिक विज्ञान समझता है।\tCC-BY 2.0 (France) Attribution: tatoeba.org #303486 (CK) & #505161 (minshirui)\n",
            "He will soon come back.\tवह बस अभी आता होगा।\tCC-BY 2.0 (France) Attribution: tatoeba.org #293058 (CK) & #488675 (minshirui)\n",
            "He will soon come back.\tवह बस आता ही होगा।\tCC-BY 2.0 (France) Attribution: tatoeba.org #293058 (CK) & #488677 (minshirui)\n",
            "He will soon come back.\tवह थोड़ी देर में वापस आ रहा है।\tCC-BY 2.0 (France) Attribution: tatoeba.org #293058 (CK) & #488678 (minshirui)\n",
            "I asked him to do that.\tमैंने उससे वह करने को कहा था।\tCC-BY 2.0 (France) Attribution: tatoeba.org #284576 (CK) & #476399 (minshirui)\n",
            "I don't agree with you.\tमैं तुमसे सहमत नहीं हूँ।\tCC-BY 2.0 (France) Attribution: tatoeba.org #17423 (CK) & #450336 (minshirui)\n",
            "I don't believe in God.\tमैं भगवान में यकीन नहीं करता।\tCC-BY 2.0 (France) Attribution: tatoeba.org #506536 (Zifre) & #506534 (minshirui)\n",
            "I don't want your pity.\tमुझे तुम्हारी दया नहीं चहिए।\tCC-BY 2.0 (France) Attribution: tatoeba.org #393816 (blay_paul) & #459422 (minshirui)\n",
            "I found the cage empty.\tमुझे पिंजरा खाली मिला।\tCC-BY 2.0 (France) Attribution: tatoeba.org #278155 (CK) & #465655 (minshirui)\n",
            "I go to school on foot.\tमैं स्कूल चल कर जाती हूँ।\tCC-BY 2.0 (France) Attribution: tatoeba.org #261668 (CK) & #459409 (minshirui)\n",
            "I made the woman angry.\tमैंने उस औरत को गस्सा दिलाया।\tCC-BY 2.0 (France) Attribution: tatoeba.org #254628 (CK) & #487439 (minshirui)\n",
            "I prefer coffee to tea.\tमुझे चाय से ज़्यादा कॉफ़ी पसंद है।\tCC-BY 2.0 (France) Attribution: tatoeba.org #29020 (CK) & #484063 (minshirui)\n",
            "I seem to have a fever.\tमुझे बुखार जैसा लगता है।\tCC-BY 2.0 (France) Attribution: tatoeba.org #38381 (CK) & #510279 (minshirui)\n",
            "I still don't know yet.\tमुझे अभी भी नहीं पता।\tCC-BY 2.0 (France) Attribution: tatoeba.org #3944038 (sabretou) & #446708 (minshirui)\n",
            "I wake up at 7 o'clock.\tमैं सात बजे सोकर उठता हूँ।\tCC-BY 2.0 (France) Attribution: tatoeba.org #437009 (lukaszpp) & #457978 (minshirui)\n",
            "I want to do it myself.\tमैं अपने-आप करना चाहता हूँ।\tCC-BY 2.0 (France) Attribution: tatoeba.org #42099 (CK) & #478124 (minshirui)\n",
            "I wasn't fired. I quit.\tमुझे नौकरी से निकाला नहीं गया। मैंने खुद ही नौकरी छोड़ दी।\tCC-BY 2.0 (France) Attribution: tatoeba.org #458878 (nickyeow) & #483842 (minshirui)\n",
            "I will be back by nine.\tमैं नौ बजे से पहले वापस आ जाऊँगा।\tCC-BY 2.0 (France) Attribution: tatoeba.org #72281 (CK) & #487199 (minshirui)\n",
            "I wonder what happened.\tपता नहीं क्या हुआ।\tCC-BY 2.0 (France) Attribution: tatoeba.org #25162 (CK) & #475813 (minshirui)\n",
            "I'd like a Bloody Mary.\tमुझे एक ब्लडी मेरी चाहिए।\tCC-BY 2.0 (France) Attribution: tatoeba.org #34205 (CK) & #486276 (minshirui)\n",
            "I'll make a phone call.\tमैं फ़ोन करता हूँ।\tCC-BY 2.0 (France) Attribution: tatoeba.org #279325 (CK) & #485888 (minshirui)\n",
            "I'm at the airport now.\tमैं अभी हवाईअड्डे में हूँ।\tCC-BY 2.0 (France) Attribution: tatoeba.org #257501 (CK) & #457116 (minshirui)\n",
            "I'm longing to see him.\tमैं उससे मिलने के लिए उत्सुक हूँ।\tCC-BY 2.0 (France) Attribution: tatoeba.org #285001 (CM) & #473768 (minshirui)\n",
            "I'm thinking about you.\tमैं तुम्हारे बारे में सोच रहा हूँ।\tCC-BY 2.0 (France) Attribution: tatoeba.org #257110 (CK) & #561264 (minshirui)\n",
            "Is anyone absent today?\tक्या आज कोई अनुपस्थित है?\tCC-BY 2.0 (France) Attribution: tatoeba.org #242924 (CK) & #588531 (minshirui)\n",
            "Is anyone absent today?\tआज कोई है जो नहीं आया है?\tCC-BY 2.0 (France) Attribution: tatoeba.org #242924 (CK) & #588533 (minshirui)\n",
            "It is difficult for me.\tवह मेरे लिए मुश्किल है।\tCC-BY 2.0 (France) Attribution: tatoeba.org #249735 (CK) & #491887 (minshirui)\n",
            "It's rather cold today.\tआज मौसम काफ़ी ठंडा है।\tCC-BY 2.0 (France) Attribution: tatoeba.org #242893 (CK) & #450948 (minshirui)\n",
            "Mind your own business!\tअपने काम से काम रखो!\tCC-BY 2.0 (France) Attribution: tatoeba.org #16996 (CK) & #505272 (minshirui)\n",
            "My father is very nice.\tमेरे पिता बहुत अच्छे हैं।\tCC-BY 2.0 (France) Attribution: tatoeba.org #250275 (CK) & #483893 (minshirui)\n",
            "My father is very nice.\tमेरे पापा बहुत अच्छे हैं।\tCC-BY 2.0 (France) Attribution: tatoeba.org #250275 (CK) & #483894 (minshirui)\n",
            "My stomach is growling.\tमेरा पेट गुड़गुड़ा रहा है।\tCC-BY 2.0 (France) Attribution: tatoeba.org #64036 (CM) & #516678 (minshirui)\n",
            "New York is a big city.\tन्यू यॉर्क बड़ा शहर है।\tCC-BY 2.0 (France) Attribution: tatoeba.org #35894 (CK) & #4907698 (yashtib1995)\n",
            "School begins in April.\tस्कूल अप्रैल में शुरू होता है।\tCC-BY 2.0 (France) Attribution: tatoeba.org #21520 (CK) & #451297 (minshirui)\n",
            "School is over at 3:30.\tस्कूल साढ़े तीन बजे छूटता है।\tCC-BY 2.0 (France) Attribution: tatoeba.org #2937733 (CK) & #487472 (minshirui)\n",
            "Shall I clean the room?\tमैं कमरे की सफ़ाई करूँ क्या?\tCC-BY 2.0 (France) Attribution: tatoeba.org #319586 (CM) & #450386 (minshirui)\n",
            "She always wears black.\tवह हमेशा काले कपड़े पहनती है।\tCC-BY 2.0 (France) Attribution: tatoeba.org #837413 (Mouseneb) & #518694 (minshirui)\n",
            "She can play the piano.\tवह पियानो बजाना जानती है।\tCC-BY 2.0 (France) Attribution: tatoeba.org #371965 (saeb) & #484006 (minshirui)\n",
            "She has a gentle heart.\tवह नर्म दिल वाली है।\tCC-BY 2.0 (France) Attribution: tatoeba.org #315116 (CM) & #498609 (minshirui)\n",
            "She is a wealthy woman.\tवह बहुत पैसेवाली औरत है।\tCC-BY 2.0 (France) Attribution: tatoeba.org #313315 (CK) & #491846 (minshirui)\n",
            "She is poor, but happy.\tवह गरीब है, पर खुश है।\tCC-BY 2.0 (France) Attribution: tatoeba.org #486246 (minshirui) & #486245 (minshirui)\n",
            "She married a rich man.\tउसने पैसेवाले से शादी की।\tCC-BY 2.0 (France) Attribution: tatoeba.org #310617 (CK) & #450438 (minshirui)\n",
            "She prattles on and on.\tवह बहुत बक-बक करती है।\tCC-BY 2.0 (France) Attribution: tatoeba.org #505151 (minshirui) & #505150 (minshirui)\n",
            "She showed me her room.\tउसने मुझे अपना कमरा दिखाया।\tCC-BY 2.0 (France) Attribution: tatoeba.org #317009 (CK) & #486258 (minshirui)\n",
            "Should I clean my room?\tक्या मैं कमरा साफ़ कर सकती हूँ?\tCC-BY 2.0 (France) Attribution: tatoeba.org #1123326 (Lrdwhyt) & #443073 (minshirui)\n",
            "That is almost correct.\tयह लगभग सही है।\tCC-BY 2.0 (France) Attribution: tatoeba.org #275834 (CK) & #485778 (minshirui)\n",
            "That was cooked in oil.\tवह तेल में पकाया गया है।\tCC-BY 2.0 (France) Attribution: tatoeba.org #42051 (CK) & #609400 (minshirui)\n",
            "That was cooked in oil.\tवह तेल में पका हुआ है।\tCC-BY 2.0 (France) Attribution: tatoeba.org #42051 (CK) & #609402 (minshirui)\n",
            "That's a good question.\tयह एक बहुत अच्छा सवाल है।\tCC-BY 2.0 (France) Attribution: tatoeba.org #435750 (CK) & #588614 (minshirui)\n",
            "That's weird, isn't it?\tये अजीब है, नहीं?\tCC-BY 2.0 (France) Attribution: tatoeba.org #3539241 (Hybrid) & #3539268 (nurendra)\n",
            "The gate was left open.\tगेट को खुला छोड़ दिया गया था।\tCC-BY 2.0 (France) Attribution: tatoeba.org #266849 (CK) & #491695 (minshirui)\n",
            "The girl looked around.\tउस लड़की ने पीछे मुड़कर देखा।\tCC-BY 2.0 (France) Attribution: tatoeba.org #267837 (CK) & #494126 (minshirui)\n",
            "The knife is not sharp.\tयह चाकू तेज़ नहीं है।\tCC-BY 2.0 (France) Attribution: tatoeba.org #60758 (CK) & #588440 (minshirui)\n",
            "The light doesn't work.\tयह बत्ती काम नहीं करती।\tCC-BY 2.0 (France) Attribution: tatoeba.org #279135 (CK) & #506437 (minshirui)\n",
            "The sooner, the better.\tजितना जल्दी उतना अच्छा।\tCC-BY 2.0 (France) Attribution: tatoeba.org #2308 (CK) & #443060 (minshirui)\n",
            "They will be very glad.\tवे बहुत प्रसन्न होंगे।\tCC-BY 2.0 (France) Attribution: tatoeba.org #305944 (CK) & #506487 (minshirui)\n",
            "This book is very thin.\tयह किताब बहुत पतली है।\tCC-BY 2.0 (France) Attribution: tatoeba.org #2915477 (sabretou) & #3538142 (nurendra)\n",
            "This lion is very tame.\tयह शेर बहुत पालतू है।\tCC-BY 2.0 (France) Attribution: tatoeba.org #60370 (CK) & #491605 (minshirui)\n",
            "This silk feels smooth.\tयह रेशम छूने में बहुत नर्म लगता है।\tCC-BY 2.0 (France) Attribution: tatoeba.org #59409 (CK) & #505374 (minshirui)\n",
            "Tom started the engine.\tटॉम ने इंजन को चालू कर दिया।\tCC-BY 2.0 (France) Attribution: tatoeba.org #18968 (CK) & #588456 (minshirui)\n",
            "Try to do it like that.\tवैसे करने की कोशिश कीजिये।\tCC-BY 2.0 (France) Attribution: tatoeba.org #6471000 (LeeSooHa) & #6471002 (MukundChaskar)\n",
            "We often make mistakes.\tहम अक्सर ग़लतियाँ कर बैठते हैं।\tCC-BY 2.0 (France) Attribution: tatoeba.org #248001 (minshirui) & #459444 (minshirui)\n",
            "Were you told to do so?\tतुम्हें यह करने के लिए बताया गया था?\tCC-BY 2.0 (France) Attribution: tatoeba.org #70010 (CK) & #514089 (minshirui)\n",
            "What do you like to do?\tतम्हे क्या करना अच्छा लगता है?\tCC-BY 2.0 (France) Attribution: tatoeba.org #464544 (lukaszpp) & #487416 (minshirui)\n",
            "What do you like to do?\tआपको क्या करना अच्छा लगता है?\tCC-BY 2.0 (France) Attribution: tatoeba.org #464544 (lukaszpp) & #487417 (minshirui)\n",
            "What time does it open?\tकितने बजे खुलता है?\tCC-BY 2.0 (France) Attribution: tatoeba.org #24558 (CK) & #590035 (minshirui)\n",
            "What's the temperature?\tतापमान क्या है?\tCC-BY 2.0 (France) Attribution: tatoeba.org #20349 (CK) & #491827 (minshirui)\n",
            "Who do you think he is?\tतुम्हारे ख़याल से वह कौन है?\tCC-BY 2.0 (France) Attribution: tatoeba.org #69039 (CK) & #457076 (minshirui)\n",
            "Why are you stuttering?\tहकला क्यों रहे हो?\tCC-BY 2.0 (France) Attribution: tatoeba.org #1777173 (Amastan) & #3216303 (anubhav93)\n",
            "Will we arrive in time?\tहम समय में पहुँच जाएँगे क्या?\tCC-BY 2.0 (France) Attribution: tatoeba.org #3943844 (sabretou) & #473708 (minshirui)\n",
            "You had plenty of time.\tतुम्हारे पास काफ़ी समय था।\tCC-BY 2.0 (France) Attribution: tatoeba.org #2037 (Swift) & #480201 (minshirui)\n",
            "You have a good memory.\tतुम्हारी याददाश्त अच्छी है।\tCC-BY 2.0 (France) Attribution: tatoeba.org #69506 (CK) & #455615 (minshirui)\n",
            "You've got to stop Tom.\tतुम्हे टॉम को रोकना ही होगा।\tCC-BY 2.0 (France) Attribution: tatoeba.org #1895547 (CK) & #3134890 (pranjal710)\n",
            "Are there enough chairs?\tकुरसियाँ काफ़ी हैं क्या?\tCC-BY 2.0 (France) Attribution: tatoeba.org #3111393 (pranjal710) & #486274 (minshirui)\n",
            "Are you free on Tuesday?\tतुम मंगलवार को खाली हो क्या?\tCC-BY 2.0 (France) Attribution: tatoeba.org #23779 (CK) & #452520 (minshirui)\n",
            "Can I see your passport?\tमैं आपका पासपोर्ट देख सकता हूँ क्या?\tCC-BY 2.0 (France) Attribution: tatoeba.org #434386 (lukaszpp) & #480216 (minshirui)\n",
            "Can you lend me 500 yen?\tतुम मुझे पाँच सौ येन उधार दे सकते हो क्या?\tCC-BY 2.0 (France) Attribution: tatoeba.org #72565 (CM) & #455244 (minshirui)\n",
            "Can't you speak English?\tतुम अंग्रेज़ी नहीं बोल सकते हो क्या?\tCC-BY 2.0 (France) Attribution: tatoeba.org #483613 (CK) & #483616 (minshirui)\n",
            "Do you watch television?\tआप टीवी देखतें हैं क्या?\tCC-BY 2.0 (France) Attribution: tatoeba.org #69881 (CK) & #476282 (minshirui)\n",
            "Does milk spoil quickly?\tदूध जल्दी से खराब हो जाता है क्या?\tCC-BY 2.0 (France) Attribution: tatoeba.org #394476 (blay_paul) & #609865 (minshirui)\n",
            "Don't bother us anymore.\tअब हमें परेशान मत करो।\tCC-BY 2.0 (France) Attribution: tatoeba.org #6799151 (CK) & #9012800 (simranbansal)\n",
            "Don't bother us anymore.\tअब से हमें परेशान मत करना।\tCC-BY 2.0 (France) Attribution: tatoeba.org #6799151 (CK) & #9012802 (simranbansal)\n",
            "Don't drink any alcohol.\tशराब की एक बूंद भी मत पियो।\tCC-BY 2.0 (France) Attribution: tatoeba.org #67306 (CK) & #511175 (minshirui)\n",
            "Don't forget the ticket.\tटिकट भूलना मत।\tCC-BY 2.0 (France) Attribution: tatoeba.org #2424 (Dorenda) & #3213498 (anubhav93)\n",
            "Glass is made from sand.\tग्लास रेत से बनाया जाता है।\tCC-BY 2.0 (France) Attribution: tatoeba.org #63527 (CK) & #3214205 (anubhav93)\n",
            "He abandoned his family.\tउसने अपने परिवार को छोड़ दिया।\tCC-BY 2.0 (France) Attribution: tatoeba.org #294456 (CK) & #505368 (minshirui)\n",
            "He betrayed his country.\tउसने अपने देश को धोखा दे दिया।\tCC-BY 2.0 (France) Attribution: tatoeba.org #300791 (CK) & #505381 (minshirui)\n",
            "He catches colds easily.\tउसे ज़ुकाम बहुत आसानी से हो जाता है।\tCC-BY 2.0 (France) Attribution: tatoeba.org #473603 (CK) & #498179 (minshirui)\n",
            "He couldn't get the job.\tउसको नौकरी नहीं मिल पायी।\tCC-BY 2.0 (France) Attribution: tatoeba.org #47600 (CK) & #588463 (minshirui)\n",
            "He decided to go abroad.\tउसने विदेश जाने का निर्णय लिया।\tCC-BY 2.0 (France) Attribution: tatoeba.org #294738 (CK) & #588473 (minshirui)\n",
            "He did not get up early.\tवह जल्दी नहीं उठा।\tCC-BY 2.0 (France) Attribution: tatoeba.org #300825 (CK) & #510007 (minshirui)\n",
            "He got lost in the park.\tवह पार्क में खो गया।\tCC-BY 2.0 (France) Attribution: tatoeba.org #47485 (CK) & #491321 (minshirui)\n",
            "He is smelling the soup.\tवह सूप को सूँघ रहा है।\tCC-BY 2.0 (France) Attribution: tatoeba.org #290184 (CK) & #475930 (minshirui)\n",
            "He is used to hard work.\tउसको मेहनत करने की आदत है।\tCC-BY 2.0 (France) Attribution: tatoeba.org #296656 (CK) & #516816 (minshirui)\n",
            "He likes playing soccer.\tउसको फ़ुटबॉल खेलना अच्छा लगता है।\tCC-BY 2.0 (France) Attribution: tatoeba.org #290025 (CK) & #588603 (minshirui)\n",
            "He looked up at the sky.\tउसने आसमान की तरफ़ देखा।\tCC-BY 2.0 (France) Attribution: tatoeba.org #295588 (CK) & #465626 (minshirui)\n",
            "He tends to be arrogant.\tउसको घमण्डी होने की आदत है।\tCC-BY 2.0 (France) Attribution: tatoeba.org #304876 (Dejo) & #505263 (minshirui)\n",
            "He tends to be arrogant.\tउसको अहंकारी होने की आदत है।\tCC-BY 2.0 (France) Attribution: tatoeba.org #304876 (Dejo) & #505264 (minshirui)\n",
            "He tends to be arrogant.\tउसको अभिमानी होने की आदत है।\tCC-BY 2.0 (France) Attribution: tatoeba.org #304876 (Dejo) & #505265 (minshirui)\n",
            "He was accused of theft.\tउसपर चोरी का इलज़ाम लगाया गया।\tCC-BY 2.0 (France) Attribution: tatoeba.org #292330 (CK) & #476289 (minshirui)\n",
            "He was more than a king.\tवह एक राजा से बहुत ज़्यादा था।\tCC-BY 2.0 (France) Attribution: tatoeba.org #294167 (jakov) & #505146 (minshirui)\n",
            "He's always complaining.\tवह हमेशा शिकायत करता रहता है ।\tCC-BY 2.0 (France) Attribution: tatoeba.org #1234211 (mutarjim) & #8876331 (simranbansal)\n",
            "Her story can't be true.\tउसकी कहानी सच्ची नहीं हो सकती।\tCC-BY 2.0 (France) Attribution: tatoeba.org #309730 (CK) & #505328 (minshirui)\n",
            "I do not have much time.\tमेरे पास ज़्यादा समय नहीं है।\tCC-BY 2.0 (France) Attribution: tatoeba.org #67688 (CK) & #611425 (minshirui)\n",
            "I don't have much money.\tमेरे पास ज़्यादा पैसे नहीं हैं।\tCC-BY 2.0 (France) Attribution: tatoeba.org #252973 (CK) & #443058 (minshirui)\n",
            "I feel like throwing up.\tमुझे उल्टी आ रही है।\tCC-BY 2.0 (France) Attribution: tatoeba.org #279379 (CK) & #452469 (minshirui)\n",
            "I fell in love with her.\tमुझे उससे प्यार हो गया।\tCC-BY 2.0 (France) Attribution: tatoeba.org #308938 (Hellerick) & #465601 (minshirui)\n",
            "I found the glass empty.\tमुझे गिलास खाली मिला।\tCC-BY 2.0 (France) Attribution: tatoeba.org #50532 (CK) & #516815 (minshirui)\n",
            "I have little money now.\tअब मेरे पास बहुत थोड़े पैसे हैं।\tCC-BY 2.0 (France) Attribution: tatoeba.org #241561 (CM) & #516791 (minshirui)\n",
            "I have no money with me.\tमेरे पास अभी कोई पैसे नहीं हैं।\tCC-BY 2.0 (France) Attribution: tatoeba.org #249885 (CK) & #473724 (minshirui)\n",
            "I have to see a dentist.\tमुझे दंत चिकित्सक से मिलना है।\tCC-BY 2.0 (France) Attribution: tatoeba.org #3943948 (sabretou) & #452417 (minshirui)\n",
            "I like my job very much.\tमुझे अपना काम बहुत पसंद है।\tCC-BY 2.0 (France) Attribution: tatoeba.org #2007 (brauliobezerra) & #485804 (minshirui)\n",
            "I like studying English.\tमुझे अंग्रेज़ी पढ़ना अच्छा लगता है।\tCC-BY 2.0 (France) Attribution: tatoeba.org #256220 (CK) & #506489 (minshirui)\n",
            "I really like city life.\tमुझे शहर की ज़िन्दगी पसंद है।\tCC-BY 2.0 (France) Attribution: tatoeba.org #259639 (CK) & #515431 (minshirui)\n",
            "I wish I could help you.\tकाश मैं तुम्हारी मदद कर सकता।\tCC-BY 2.0 (France) Attribution: tatoeba.org #63889 (CK) & #491630 (minshirui)\n",
            "I'd rather not meet him.\tहो सके तो मैं उससे मिलना नहीं चाहूँगा।\tCC-BY 2.0 (France) Attribution: tatoeba.org #284648 (CK) & #450419 (minshirui)\n",
            "I'd rather not meet him.\tहो सके तो मैं उससे मिलना नहीं चाहूँगी।\tCC-BY 2.0 (France) Attribution: tatoeba.org #284648 (CK) & #450420 (minshirui)\n",
            "I'll give you a present.\tमैं तुम्हें एक तोहफ़ा दूँगा।\tCC-BY 2.0 (France) Attribution: tatoeba.org #25221 (CK) & #482436 (minshirui)\n",
            "I've quit drinking beer.\tमैंने बीयर पीना छोड़ दिया है।\tCC-BY 2.0 (France) Attribution: tatoeba.org #435193 (CK) & #588591 (minshirui)\n",
            "Is this what you wanted?\tतुम यही चाहते थे ना?\tCC-BY 2.0 (France) Attribution: tatoeba.org #392111 (Dorenda) & #487216 (minshirui)\n",
            "It is almost 12 o'clock.\tबारह बजने वाले हैं।\tCC-BY 2.0 (France) Attribution: tatoeba.org #31305 (CK) & #450304 (minshirui)\n",
            "It's almost six o'clock.\tछः बजने वाले हैं।\tCC-BY 2.0 (France) Attribution: tatoeba.org #41220 (CK) & #609863 (minshirui)\n",
            "It's no concern of mine.\tइससे मेरे कोई लेना-देना नहीं है।\tCC-BY 2.0 (France) Attribution: tatoeba.org #449181 (CM) & #485808 (minshirui)\n",
            "It's not anyone's fault.\tयह किसी की गलती नहीं है।\tCC-BY 2.0 (France) Attribution: tatoeba.org #3824735 (CK) & #8889285 (simranbansal)\n",
            "It's really hot outside.\tबाहर बहुत गर्मी है।\tCC-BY 2.0 (France) Attribution: tatoeba.org #8879387 (CK) & #8879549 (simranbansal)\n",
            "My sister has long legs.\tमेरी बहन की टांगें बहुत लम्बीं हैं।\tCC-BY 2.0 (France) Attribution: tatoeba.org #322341 (CK) & #486302 (minshirui)\n",
            "Shall I get you a chair?\tमैं आपके लिए कुरसी लेआऊँ?\tCC-BY 2.0 (France) Attribution: tatoeba.org #66449 (Zifre) & #457015 (minshirui)\n",
            "She bought a dozen eggs.\tउसने एक दर्जन अंडे खरीदे।\tCC-BY 2.0 (France) Attribution: tatoeba.org #317388 (CK) & #506503 (minshirui)\n",
            "She doesn't speak to me.\tवह मुझसे बात नहीं करती।\tCC-BY 2.0 (France) Attribution: tatoeba.org #314204 (CK) & #485916 (minshirui)\n",
            "She is dressed in white.\tउसने सफ़ेद कपड़े पहने हुएँ हैं।\tCC-BY 2.0 (France) Attribution: tatoeba.org #316164 (CK) & #491840 (minshirui)\n",
            "She was late once again.\tवह एक बार फिर देर से आई।\tCC-BY 2.0 (France) Attribution: tatoeba.org #322503 (CK) & #483929 (minshirui)\n",
            "Show me another example.\tमुझे एक और उदाहरण दो।\tCC-BY 2.0 (France) Attribution: tatoeba.org #320313 (CK) & #561253 (minshirui)\n",
            "Swimming is easy for me.\tमेरे लिए तैरना आसान है।\tCC-BY 2.0 (France) Attribution: tatoeba.org #487827 (CK) & #515442 (minshirui)\n",
            "Take whichever you want.\tकोईसा भी ले लो।\tCC-BY 2.0 (France) Attribution: tatoeba.org #37992 (CK) & #588574 (minshirui)\n",
            "That applies to him too.\tयह उसपर भी लागु होता है।\tCC-BY 2.0 (France) Attribution: tatoeba.org #42177 (CK) & #516672 (minshirui)\n",
            "That man has many debts.\tइस आदमी के पास बहुत सारे कर्ज़ हैं।\tCC-BY 2.0 (France) Attribution: tatoeba.org #397839 (CM) & #477746 (minshirui)\n",
            "The box is made of wood.\tडब्बा लकड़ी का बना है।\tCC-BY 2.0 (France) Attribution: tatoeba.org #44451 (CK) & #450348 (minshirui)\n",
            "The bus hasn't come yet.\tबस अभी तक आई नहीं है।\tCC-BY 2.0 (France) Attribution: tatoeba.org #35310 (CK) & #483971 (minshirui)\n",
            "The house was in flames.\tघर आग में लिपटा हुआ था।\tCC-BY 2.0 (France) Attribution: tatoeba.org #24147 (CK) & #483884 (minshirui)\n",
            "They adopted the orphan.\tउन्होंने अनाथ बच्चे को गोद ले लिया।\tCC-BY 2.0 (France) Attribution: tatoeba.org #305757 (CK) & #491557 (minshirui)\n",
            "They stood face to face.\tवे आमने-सामने खड़े हुए।\tCC-BY 2.0 (France) Attribution: tatoeba.org #306518 (CK) & #459433 (minshirui)\n",
            "They were afraid of you.\tवे तुमसे डरते थे।\tCC-BY 2.0 (France) Attribution: tatoeba.org #449037 (CK) & #483906 (minshirui)\n",
            "They were afraid of you.\tउन्हें तुमसे डर लगता था।\tCC-BY 2.0 (France) Attribution: tatoeba.org #449037 (CK) & #483907 (minshirui)\n",
            "This chair is too small.\tयह कुरसी बहुत छोटी है।\tCC-BY 2.0 (France) Attribution: tatoeba.org #463270 (lukaszpp) & #514140 (minshirui)\n",
            "This is why I came back.\tमैं इसीलिए वापस आया था।\tCC-BY 2.0 (France) Attribution: tatoeba.org #494182 (minshirui) & #494181 (minshirui)\n",
            "This river is beautiful.\tयह नदी बहुत सुन्दर है।\tCC-BY 2.0 (France) Attribution: tatoeba.org #58114 (CK) & #491561 (minshirui)\n",
            "Tom sent a note to Mary.\tटॉम ने मैरी को एक नोट भेजा।\tCC-BY 2.0 (France) Attribution: tatoeba.org #2645289 (CK) & #9013205 (simranbansal)\n",
            "Tomorrow is my birthday.\tकल मेरा जन्मदिन है।\tCC-BY 2.0 (France) Attribution: tatoeba.org #71844 (CK) & #446475 (minshirui)\n",
            "Turn your face this way.\tअपना मूँह इस ओर मोड़ो।\tCC-BY 2.0 (France) Attribution: tatoeba.org #20759 (CK) & #609371 (minshirui)\n",
            "Turn your face this way.\tअपना मूँह इस तरफ़ मोड़ो।\tCC-BY 2.0 (France) Attribution: tatoeba.org #20759 (CK) & #609372 (minshirui)\n",
            "Two plus two makes four.\tदो और दो चार होते हैं।\tCC-BY 2.0 (France) Attribution: tatoeba.org #394885 (Dorenda) & #484106 (minshirui)\n",
            "Water is very important.\tपानी बहुत जरूरी है।\tCC-BY 2.0 (France) Attribution: tatoeba.org #5358554 (dfordivam) & #5358559 (dfordivam)\n",
            "We all stood up at once.\tहम सब एक-साथ खड़े हो गए।\tCC-BY 2.0 (France) Attribution: tatoeba.org #280316 (CK) & #561260 (minshirui)\n",
            "We bought a round table.\tहमने गोल मेज़ खरीदी।\tCC-BY 2.0 (France) Attribution: tatoeba.org #248550 (CK) & #486261 (minshirui)\n",
            "We have no school today.\tहमारी आज स्कूल से छुट्टी है।\tCC-BY 2.0 (France) Attribution: tatoeba.org #247944 (CK) & #452346 (minshirui)\n",
            "We have to go back soon.\tहमें जल्द ही वापिस जाना है ।\tCC-BY 2.0 (France) Attribution: tatoeba.org #6732635 (Eccles17) & #8876350 (simranbansal)\n",
            "We may not win tomorrow.\tहम कल शायद नहीं जीतेंगे।\tCC-BY 2.0 (France) Attribution: tatoeba.org #323289 (CK) & #491922 (minshirui)\n",
            "We put sugar in our tea.\tहम चाय में चीनी डालते हैं।\tCC-BY 2.0 (France) Attribution: tatoeba.org #490842 (CM) & #511722 (minshirui)\n",
            "What do you want it for?\tतुम्हे किसलिए चाहिए?\tCC-BY 2.0 (France) Attribution: tatoeba.org #464558 (lukaszpp) & #505434 (minshirui)\n",
            "What do you want to see?\tतुम क्या देखना चाहते हो?\tCC-BY 2.0 (France) Attribution: tatoeba.org #1956133 (CK) & #8889299 (simranbansal)\n",
            "What do you want to see?\tआप क्या देखना चाहते हैं?\tCC-BY 2.0 (France) Attribution: tatoeba.org #1956133 (CK) & #8889301 (simranbansal)\n",
            "What is his nationality?\tउसकी राष्ट्रीयता क्या है?\tCC-BY 2.0 (France) Attribution: tatoeba.org #286323 (CK) & #480270 (minshirui)\n",
            "When do you play tennis?\tतुम टेनिस कब खेलना चाहते हो?\tCC-BY 2.0 (France) Attribution: tatoeba.org #66219 (CK) & #486335 (minshirui)\n",
            "When it rains, it pours.\tजब बारिश होती है, तो ज़बरदस्त होती है।\tCC-BY 2.0 (France) Attribution: tatoeba.org #26846 (CK) & #483847 (minshirui)\n",
            "Why don't you ever help?\tतुम कभी भी मदद क्यों नहीं करते?\tCC-BY 2.0 (France) Attribution: tatoeba.org #2210617 (CK) & #3214280 (anubhav93)\n",
            "Why don't you ever help?\tतू कभी भी मदद क्यों नहीं करता है?\tCC-BY 2.0 (France) Attribution: tatoeba.org #2210617 (CK) & #3214281 (anubhav93)\n",
            "Will you turn on the TV?\tटीवी चालू करदोगे क्या?\tCC-BY 2.0 (France) Attribution: tatoeba.org #39177 (CK) & #476332 (minshirui)\n",
            "You shouldn't wait here.\tतुम्हें यहाँ इंतेज़ार नहीं करना चाहिए।\tCC-BY 2.0 (France) Attribution: tatoeba.org #405520 (CK) & #485776 (minshirui)\n",
            "Bad news travels quickly.\tबुरी खबर तेज़ी से फैलती है।\tCC-BY 2.0 (France) Attribution: tatoeba.org #473867 (blay_paul) & #487398 (minshirui)\n",
            "Can you keep it a secret?\tक्या तुम इसे राज़ रख सकते हो?\tCC-BY 2.0 (France) Attribution: tatoeba.org #317857 (CK) & #442991 (minshirui)\n",
            "Cheese is made from milk.\tचीज़ दूध से बनता है।\tCC-BY 2.0 (France) Attribution: tatoeba.org #32228 (CK) & #485542 (minshirui)\n",
            "Choose between these two.\tइन दोनों में से किसी एक को चुनो।\tCC-BY 2.0 (France) Attribution: tatoeba.org #57563 (CK) & #485884 (minshirui)\n",
            "Did he tell you anything?\tउसने तुम्हें कुछ बताया क्या?\tCC-BY 2.0 (France) Attribution: tatoeba.org #288740 (CK) & #459416 (minshirui)\n",
            "Did you do your homework?\tतुमने अपना होमवर्क कर लिया क्या?\tCC-BY 2.0 (France) Attribution: tatoeba.org #434484 (lukaszpp) & #3213895 (anubhav93)\n",
            "Did you do your homework?\tहोमवर्क किया क्या?\tCC-BY 2.0 (France) Attribution: tatoeba.org #434484 (lukaszpp) & #3213899 (anubhav93)\n",
            "Do you have a pen on you?\tतुम्हारे पास कलम है क्या?\tCC-BY 2.0 (France) Attribution: tatoeba.org #2301 (CK) & #465647 (minshirui)\n",
            "Do you have any brothers?\tतुम्हारे कोई भाई हैं क्या?\tCC-BY 2.0 (France) Attribution: tatoeba.org #71127 (CK) & #590032 (minshirui)\n",
            "Do you need an ambulance?\tआपको ऐमब्यूलेंस की ज़रूरत है क्या?\tCC-BY 2.0 (France) Attribution: tatoeba.org #19591 (CK) & #611432 (minshirui)\n",
            "Do you see a black horse?\tक्या आप काले घोड़े को देखते हो?\tCC-BY 2.0 (France) Attribution: tatoeba.org #6470372 (CarpeLanam) & #6471028 (MukundChaskar)\n",
            "Don't play with that key!\tउस चाबी के साथतानी मत करो!\tCC-BY 2.0 (France) Attribution: tatoeba.org #48196 (CK) & #498085 (minshirui)\n",
            "Don't you want to go out?\tबाहर नहीं जाना चाहते हो क्या?\tCC-BY 2.0 (France) Attribution: tatoeba.org #266739 (CK) & #491705 (minshirui)\n",
            "Every house had a garden.\tहर घर में बगीचा था।\tCC-BY 2.0 (France) Attribution: tatoeba.org #37543 (CK) & #514037 (minshirui)\n",
            "Have you eaten your food?\tक्या आपने खाना खा लिया ?\tCC-BY 2.0 (France) Attribution: tatoeba.org #9839042 (anushka) & #9738208 (rajneesh1315)\n",
            "He can't be under thirty.\tवह कम-से-कम तीस साल का तो होगा।\tCC-BY 2.0 (France) Attribution: tatoeba.org #282877 (CK) & #473764 (minshirui)\n",
            "He cut the envelope open.\tउसने लिफ़ाफ़े को काटकर खोल दिया।\tCC-BY 2.0 (France) Attribution: tatoeba.org #288026 (CK) & #588459 (minshirui)\n",
            "He did not die of cancer.\tवह कैंसर से नहीं मरा।\tCC-BY 2.0 (France) Attribution: tatoeba.org #289603 (CK) & #611436 (minshirui)\n",
            "He is very fond of music.\tवह संगीत का बहुत शौकीन है।\tCC-BY 2.0 (France) Attribution: tatoeba.org #294187 (CM) & #483039 (minshirui)\n",
            "He knows a lot of people.\tवह बहुत सारे लोगों को जानता है।\tCC-BY 2.0 (France) Attribution: tatoeba.org #294993 (CK) & #516688 (minshirui)\n",
            "He leveled his gun at me.\tउसने अपनी बंदूक का निशाना मुझपर लगाया।\tCC-BY 2.0 (France) Attribution: tatoeba.org #303744 (CK) & #505283 (minshirui)\n",
            "He was accused of murder.\tउसपर कत्ल का इलज़ाम लगाया गया।\tCC-BY 2.0 (France) Attribution: tatoeba.org #296957 (CK) & #491865 (minshirui)\n",
            "He was then a boy of ten.\tवह दस साल का लड़का था।\tCC-BY 2.0 (France) Attribution: tatoeba.org #290940 (CK) & #487272 (minshirui)\n",
            "He will not listen to me.\tवह मेरी बात नहीं सुनेगा।\tCC-BY 2.0 (France) Attribution: tatoeba.org #291954 (CK) & #484013 (minshirui)\n",
            "He's always dissatisfied.\tवह कभी भी संतुष्ट नहीं होता।\tCC-BY 2.0 (France) Attribution: tatoeba.org #424867 (FeuDRenais) & #581748 (minshirui)\n",
            "He's reading a novel now.\tवह अभी एक उपन्यास पढ़ रहा है।\tCC-BY 2.0 (France) Attribution: tatoeba.org #296557 (CK) & #482448 (minshirui)\n",
            "Here, please have a seat.\tयहां, बैठिये।\tCC-BY 2.0 (France) Attribution: tatoeba.org #54270 (CK) & #450397 (minshirui)\n",
            "How long have you waited?\tतुम कितनी देर से प्रतीक्षा कर रहे हो?\tCC-BY 2.0 (France) Attribution: tatoeba.org #37610 (CK) & #516757 (minshirui)\n",
            "How much for half a kilo?\tआधा किलो कितने का है?\tCC-BY 2.0 (France) Attribution: tatoeba.org #474732 (minshirui) & #474745 (minshirui)\n",
            "I am able to drive a car.\tमैं गाड़ी चला सकता हूँ।\tCC-BY 2.0 (France) Attribution: tatoeba.org #258399 (CK) & #505157 (minshirui)\n",
            "I beg to differ with you.\tमाफ़ किजिए, पर मैं आपसे सहमत नहीं हूँ।\tCC-BY 2.0 (France) Attribution: tatoeba.org #264983 (CM) & #450335 (minshirui)\n",
            "I can't live without you.\tमैं तुम्हारे बिना जी नहीं सकता।\tCC-BY 2.0 (France) Attribution: tatoeba.org #237738 (CK) & #485843 (minshirui)\n",
            "I can't live without you.\tमैं तुम्हारे बगैर जी नहीं सकती।\tCC-BY 2.0 (France) Attribution: tatoeba.org #237738 (CK) & #485844 (minshirui)\n",
            "I can't stand it anymore.\tमुझसे और सहन नहीं होगा!\tCC-BY 2.0 (France) Attribution: tatoeba.org #31419 (CK) & #476010 (minshirui)\n",
            "I can't walk any further.\tमैं और नहीं चल सकती।\tCC-BY 2.0 (France) Attribution: tatoeba.org #321623 (CK) & #487428 (minshirui)\n",
            "I can't walk any further.\tमुझसे और नहीं चला जाएगा।\tCC-BY 2.0 (France) Attribution: tatoeba.org #321623 (CK) & #515434 (minshirui)\n",
            "I don't like this jacket.\tमुझे यह जैकेट पसंद नहीं है।\tCC-BY 2.0 (France) Attribution: tatoeba.org #61041 (CK) & #476283 (minshirui)\n",
            "I felt like running away.\tमेरा भाग जाने का मन हुआ।\tCC-BY 2.0 (France) Attribution: tatoeba.org #259697 (CK) & #485825 (minshirui)\n",
            "I go to school by subway.\tमैं मेट्रो लेकर स्कूल जाती हूँ।\tCC-BY 2.0 (France) Attribution: tatoeba.org #259409 (CK) & #459381 (minshirui)\n",
            "I got lost in the forest.\tमैं जंगल में खो गया।\tCC-BY 2.0 (France) Attribution: tatoeba.org #255821 (CK) & #465614 (minshirui)\n",
            "I had two cups of coffee.\tमैंने दो कप कॉफ़ी पी।\tCC-BY 2.0 (France) Attribution: tatoeba.org #253446 (CK) & #3213693 (anubhav93)\n",
            "I have a heart condition.\tमुझे दिल की बीमारी है।\tCC-BY 2.0 (France) Attribution: tatoeba.org #436631 (lukaszpp) & #485845 (minshirui)\n",
            "I have to go to the bank.\tमुझे बैंक जाना है।\tCC-BY 2.0 (France) Attribution: tatoeba.org #256981 (CK) & #485798 (minshirui)\n",
            "I heard someone knocking.\tमुझे किसी के खटखटाने की आवाज़ सुनाई दी।\tCC-BY 2.0 (France) Attribution: tatoeba.org #276124 (CK) & #455625 (minshirui)\n",
            "I like English and music.\tमुझे अंग्रेज़ी और संगीत पसंद हैं।\tCC-BY 2.0 (France) Attribution: tatoeba.org #256206 (CK) & #476292 (minshirui)\n",
            "I like playing the piano.\tमुझे पियानो बजाना पसंद है।\tCC-BY 2.0 (France) Attribution: tatoeba.org #255455 (CK) & #443043 (minshirui)\n",
            "I need coughing medicine.\tमुझे खाँसी की दवाई चाहिए।\tCC-BY 2.0 (France) Attribution: tatoeba.org #436847 (lukaszpp) & #491559 (minshirui)\n",
            "I ran into an old friend.\tमेरी एक पुराने दोस्त से मुलाक़ात हुई।\tCC-BY 2.0 (France) Attribution: tatoeba.org #19512 (CK) & #465603 (minshirui)\n",
            "I think that he is right.\tमुझे लगता है वह सही है।\tCC-BY 2.0 (France) Attribution: tatoeba.org #286060 (CK) & #475976 (minshirui)\n",
            "I was waiting for a taxi.\tमैं टैक्सी का इंतेज़ार कर रहा था।\tCC-BY 2.0 (France) Attribution: tatoeba.org #254932 (CK) & #450383 (minshirui)\n",
            "I was waiting for a taxi.\tमैं टैक्सी की प्रतीक्षा कर रहा था।\tCC-BY 2.0 (France) Attribution: tatoeba.org #254932 (CK) & #450384 (minshirui)\n",
            "I will explain it to her.\tमैं उसको यह बात समझाउँगा।\tCC-BY 2.0 (France) Attribution: tatoeba.org #247031 (CK) & #476270 (minshirui)\n",
            "I will explain it to him.\tमैं उसको यह बात समझाउँगा।\tCC-BY 2.0 (France) Attribution: tatoeba.org #476271 (minshirui) & #476270 (minshirui)\n",
            "I will have to help them.\tमुझे उनकी मदद करनी पड़ेगी।\tCC-BY 2.0 (France) Attribution: tatoeba.org #305221 (CK) & #516802 (minshirui)\n",
            "I will never do it again.\tमैं फिरसे नहीं करूँगा।\tCC-BY 2.0 (France) Attribution: tatoeba.org #259776 (CK) & #487449 (minshirui)\n",
            "I'd like to get a refund.\tमुझे अपने पैसे वापस चाहिए।\tCC-BY 2.0 (France) Attribution: tatoeba.org #319868 (CK) & #487450 (minshirui)\n",
            "I'll call you back later.\tमैं तुम्हें थोड़ी देर में फ़ोन करूँगा।\tCC-BY 2.0 (France) Attribution: tatoeba.org #35772 (CK) & #487259 (minshirui)\n",
            "I'll call you back later.\tमैं आपको थोड़ी देर बाद फ़ोन करूँगा।\tCC-BY 2.0 (France) Attribution: tatoeba.org #35772 (CK) & #487260 (minshirui)\n",
            "I'm going to take a bath.\tमैं नहाने जा रहा हूँ।\tCC-BY 2.0 (France) Attribution: tatoeba.org #2393 (CK) & #739770 (minshirui)\n",
            "I've read the first page.\tमैंने पहला पृष्ठ पढ़ा लिया I\tCC-BY 2.0 (France) Attribution: tatoeba.org #3539000 (calebante) & #3539275 (nurendra)\n",
            "Iron is harder than gold.\tलोहा सोने से सख्त होता है।\tCC-BY 2.0 (France) Attribution: tatoeba.org #278744 (CK) & #485948 (minshirui)\n",
            "Is your father a teacher?\tक्या आपके पिताजी अध्यापक हैं?\tCC-BY 2.0 (France) Attribution: tatoeba.org #70958 (CK) & #3214240 (anubhav93)\n",
            "Is your father a teacher?\tक्या तुम्हारे पिताजी अध्यापक हैं?\tCC-BY 2.0 (France) Attribution: tatoeba.org #70958 (CK) & #3214242 (anubhav93)\n",
            "Is your father a teacher?\tक्या आपके पापा अध्यापक हैं?\tCC-BY 2.0 (France) Attribution: tatoeba.org #70958 (CK) & #3214243 (anubhav93)\n",
            "Is your father a teacher?\tक्या तुम्हारे पापा अध्यापक हैं?\tCC-BY 2.0 (France) Attribution: tatoeba.org #70958 (CK) & #3214244 (anubhav93)\n",
            "Is your father a teacher?\tक्या आपके पिताजी टीचर हैं?\tCC-BY 2.0 (France) Attribution: tatoeba.org #70958 (CK) & #3214246 (anubhav93)\n",
            "Is your father a teacher?\tक्या तुम्हारे पिताजी टीचर हैं?\tCC-BY 2.0 (France) Attribution: tatoeba.org #70958 (CK) & #3214247 (anubhav93)\n",
            "Is your father a teacher?\tक्या आपके पापा टीचर हैं?\tCC-BY 2.0 (France) Attribution: tatoeba.org #70958 (CK) & #3214248 (anubhav93)\n",
            "Is your father a teacher?\tक्या तुम्हारे पापा टीचर हैं?\tCC-BY 2.0 (France) Attribution: tatoeba.org #70958 (CK) & #3214250 (anubhav93)\n",
            "Is your father a teacher?\tतेरा बाप टीचर है क्या?\tCC-BY 2.0 (France) Attribution: tatoeba.org #70958 (CK) & #3214252 (anubhav93)\n",
            "It is almost ten o'clock.\tदस बजने वाले हैं।\tCC-BY 2.0 (France) Attribution: tatoeba.org #31660 (CK) & #480267 (minshirui)\n",
            "It's not healthy for you.\tयह तुम्हारी सेहत के लिए अच्छा नहीं है।\tCC-BY 2.0 (France) Attribution: tatoeba.org #275222 (CK) & #590033 (minshirui)\n",
            "Let me introduce my wife.\tयह मेरी पत्नी है।\tCC-BY 2.0 (France) Attribution: tatoeba.org #250916 (shanghainese) & #476391 (minshirui)\n",
            "Let me know your address.\tमुझे अपना पता बतादेना।\tCC-BY 2.0 (France) Attribution: tatoeba.org #70573 (CK) & #482460 (minshirui)\n",
            "My father died of cancer.\tमेरे पिताजी कैंसर से चल बसे।\tCC-BY 2.0 (France) Attribution: tatoeba.org #251635 (CK) & #486381 (minshirui)\n",
            "Our team isn't very good.\tहमारी टीम बहुत अच्छी नहीं है।\tCC-BY 2.0 (France) Attribution: tatoeba.org #8879291 (CK) & #8879552 (simranbansal)\n",
            "Please wait five minutes.\tकृपया पाँच मिनट ठहरिए।\tCC-BY 2.0 (France) Attribution: tatoeba.org #466728 (Aqn) & #516634 (minshirui)\n",
            "She asked us to be quiet.\tउसने हमें चुप रहने के लिए कहा।\tCC-BY 2.0 (France) Attribution: tatoeba.org #1570523 (fanty) & #9013210 (simranbansal)\n",
            "She is an obstinate girl.\tवह एक ज़िद्दी लड़की है।\tCC-BY 2.0 (France) Attribution: tatoeba.org #312513 (Eldad) & #486030 (minshirui)\n",
            "She left the baby crying.\tउसने बच्चे को रोते हुए छोड़ दिया।\tCC-BY 2.0 (France) Attribution: tatoeba.org #315425 (Dejo) & #476337 (minshirui)\n",
            "She refused to notice me.\tउसने मुझे ध्यान में लेने से इनकार करदिआ।\tCC-BY 2.0 (France) Attribution: tatoeba.org #314197 (CM) & #476366 (minshirui)\n",
            "Ten years is a long time.\tदस साल बहुत लम्बा समय होता है।\tCC-BY 2.0 (France) Attribution: tatoeba.org #73398 (CK) & #590007 (minshirui)\n",
            "The doctor felt my pulse.\tडॉक्टर ने मेरी नब्ज़ ली।\tCC-BY 2.0 (France) Attribution: tatoeba.org #27956 (CK) & #451302 (minshirui)\n",
            "The food is getting cold.\tखाना ठंडा हो रहा है।\tCC-BY 2.0 (France) Attribution: tatoeba.org #268653 (CK) & #483024 (minshirui)\n",
            "The food's not ready yet.\tखाना अभी तक तैयार नहीं हुआ है।\tCC-BY 2.0 (France) Attribution: tatoeba.org #426708 (CM) & #473757 (minshirui)\n",
            "The man committed murder.\tउस आदमी ने कत्ल किया।\tCC-BY 2.0 (France) Attribution: tatoeba.org #45316 (CK) & #491900 (minshirui)\n",
            "The party was successful.\tपार्टी कामयाब रही।\tCC-BY 2.0 (France) Attribution: tatoeba.org #4910153 (yashtib1995) & #2078026 (minshirui)\n",
            "These are very old books.\tये किताबें काफ़ी पुरानी हैं।\tCC-BY 2.0 (France) Attribution: tatoeba.org #55019 (CK) & #3213674 (anubhav93)\n",
            "They gathered in the gym.\tवे सब जिमखाने में मिले।\tCC-BY 2.0 (France) Attribution: tatoeba.org #307085 (CK) & #459438 (minshirui)\n",
            "They're watching a movie.\tवे फ़िल्म देख रहे हैं।\tCC-BY 2.0 (France) Attribution: tatoeba.org #9955770 (CK) & #486323 (minshirui)\n",
            "This amount includes tax.\tइस कीमत में टैक्स शामिल है।\tCC-BY 2.0 (France) Attribution: tatoeba.org #59922 (CK) & #506484 (minshirui)\n",
            "This house has six rooms.\tइस घर में छः कमरे हैं।\tCC-BY 2.0 (France) Attribution: tatoeba.org #60176 (CK) & #486329 (minshirui)\n",
            "This is as large as that.\tयह उसके जितना बड़ा है।\tCC-BY 2.0 (France) Attribution: tatoeba.org #55964 (CK) & #516751 (minshirui)\n",
            "This road is very narrow.\tयह रास्ता बहुत पतला है।\tCC-BY 2.0 (France) Attribution: tatoeba.org #2915478 (sabretou) & #3538141 (nurendra)\n",
            "Tokyo is a very big city.\tटोक्यो बहुत बड़ा शहर है।\tCC-BY 2.0 (France) Attribution: tatoeba.org #279776 (SUZIE) & #4907699 (yashtib1995)\n",
            "Tom didn't have any hair.\tटॉम के बाल नही थे ।\tCC-BY 2.0 (France) Attribution: tatoeba.org #2279353 (CK) & #8876394 (simranbansal)\n",
            "Tom has never trusted me.\tटॉम ने कभी मुझ पर भरोसा नहीं किया।\tCC-BY 2.0 (France) Attribution: tatoeba.org #2956915 (CK) & #8889344 (simranbansal)\n",
            "Tom has never trusted me.\tटॉम ने कभी मुझ पर विश्वास नहीं किया।\tCC-BY 2.0 (France) Attribution: tatoeba.org #2956915 (CK) & #8889345 (simranbansal)\n",
            "Tom is able to swim well.\tटॉम को अच्छे से तैरना आता है।\tCC-BY 2.0 (France) Attribution: tatoeba.org #37089 (CK) & #483810 (minshirui)\n",
            "We had no water to drink.\tहमारे पास पीने के लिए पानी नहीं था।\tCC-BY 2.0 (France) Attribution: tatoeba.org #247342 (CK) & #491684 (minshirui)\n",
            "We import tea from India.\tहम भारत से चाय का आयात करते हैं।\tCC-BY 2.0 (France) Attribution: tatoeba.org #29179 (CK) & #487662 (minshirui)\n",
            "We would die without air.\tहम हवा के बिना मर जाएँगे।\tCC-BY 2.0 (France) Attribution: tatoeba.org #18255 (CK) & #491300 (minshirui)\n",
            "What are you looking for?\tक्या ढूँढ रहे हो?\tCC-BY 2.0 (France) Attribution: tatoeba.org #16255 (CK) & #498185 (minshirui)\n",
            "What happened last night?\tकल रात क्या हुआ?\tCC-BY 2.0 (France) Attribution: tatoeba.org #244775 (CK) & #3216305 (anubhav93)\n",
            "What he lacks is courage.\tउसको बहादुरी की ज़रूरत है।\tCC-BY 2.0 (France) Attribution: tatoeba.org #67984 (CM) & #485805 (minshirui)\n",
            "What school do you go to?\tतुम कौनसे स्कूल में पढ़ते हो?\tCC-BY 2.0 (France) Attribution: tatoeba.org #38113 (CK) & #483772 (minshirui)\n",
            "What time do you go home?\tतुम किस समय घर जाती हो?\tCC-BY 2.0 (France) Attribution: tatoeba.org #70296 (CK) & #581308 (minshirui)\n",
            "What time do you go home?\tतुम कितने बजे घर जाते हो?\tCC-BY 2.0 (France) Attribution: tatoeba.org #70296 (CK) & #581309 (minshirui)\n",
            "When are you coming back?\tतुम वापस कब आओगे?\tCC-BY 2.0 (France) Attribution: tatoeba.org #65965 (CK) & #483850 (minshirui)\n",
            "When did you get married?\tतुम्हारी शादी कब हुई थी?\tCC-BY 2.0 (France) Attribution: tatoeba.org #508809 (kebukebu) & #487217 (minshirui)\n",
            "Will you please go there?\tआप वहाँ जाएँगे क्या?\tCC-BY 2.0 (France) Attribution: tatoeba.org #50869 (CK) & #491750 (minshirui)\n",
            "Yes, I like it very much.\tहाँ, मुझे यह बहुत पसंद है।\tCC-BY 2.0 (France) Attribution: tatoeba.org #35528 (CK) & #611429 (minshirui)\n",
            "You have to wait in line.\tआपको लाईन में लगकर इंतेज़ार करना पड़ेगा।\tCC-BY 2.0 (France) Attribution: tatoeba.org #401361 (CM) & #457044 (minshirui)\n",
            "You made me lose my mind.\tतुमने मुझे पागल कर दिया।\tCC-BY 2.0 (France) Attribution: tatoeba.org #1821 (al_ex_an_der) & #498178 (minshirui)\n",
            "You shouldn't be outside.\tआपको बाहर नहीं होना चाहिए।\tCC-BY 2.0 (France) Attribution: tatoeba.org #8879535 (CK) & #8879566 (simranbansal)\n",
            "You're tired, aren't you?\tतुम थक गए हो, है ना?\tCC-BY 2.0 (France) Attribution: tatoeba.org #2545040 (CK) & #488709 (minshirui)\n",
            "A is 5 times as long as B.\tA B से पाँचगुना लम्बा है।\tCC-BY 2.0 (France) Attribution: tatoeba.org #72256 (CM) & #457020 (minshirui)\n",
            "Apples were on sale today.\tआज सेव सस्ते बिक रहे थे।\tCC-BY 2.0 (France) Attribution: tatoeba.org #242761 (CK) & #483782 (minshirui)\n",
            "At least that part's true.\tकम से कम वह हिस्सा तो सच था ।\tCC-BY 2.0 (France) Attribution: tatoeba.org #5066380 (CK) & #8938124 (simranbansal)\n",
            "Can you come to the party?\tतुम पार्टी में आ सकते हो क्या?\tCC-BY 2.0 (France) Attribution: tatoeba.org #35697 (CK) & #483885 (minshirui)\n",
            "Come to my house at eight.\tमेरे घर आठ बजे आना।\tCC-BY 2.0 (France) Attribution: tatoeba.org #72311 (CK) & #486356 (minshirui)\n",
            "Did the police arrest Tom?\tपुलीस ने टॉम को गिरफ़्तार किया क्या?\tCC-BY 2.0 (France) Attribution: tatoeba.org #1495817 (CK) & #3213919 (anubhav93)\n",
            "Do you believe in fairies?\tतुम परियों में विश्वास करते हो क्या?\tCC-BY 2.0 (France) Attribution: tatoeba.org #324809 (CK) & #451293 (minshirui)\n",
            "Do you believe in fairies?\tतुम परियों में विश्वास करती हो क्या?\tCC-BY 2.0 (France) Attribution: tatoeba.org #324809 (CK) & #451294 (minshirui)\n",
            "Do you have a larger size?\tआपके पास इससे बड़े नाप का है क्या?\tCC-BY 2.0 (France) Attribution: tatoeba.org #30401 (CK) & #476281 (minshirui)\n",
            "Do you want to come along?\tतुम साथ आना चाहते हो क्या?\tCC-BY 2.0 (France) Attribution: tatoeba.org #27693 (CK) & #480304 (minshirui)\n",
            "Don't leave the door open.\tदरवाज़े को खुला मत छोड़ो।\tCC-BY 2.0 (France) Attribution: tatoeba.org #38996 (CK) & #510242 (minshirui)\n",
            "Have you been here before?\tतुम यहाँ पहले आए हुए हो क्या?\tCC-BY 2.0 (France) Attribution: tatoeba.org #267057 (CK) & #518711 (minshirui)\n",
            "He began to learn English.\tउसने अंग्रेज़ी सीखना शुरू किया।\tCC-BY 2.0 (France) Attribution: tatoeba.org #294027 (CK) & #510234 (minshirui)\n",
            "He came back from America.\tवह अमरीका से वापस आ गया।\tCC-BY 2.0 (France) Attribution: tatoeba.org #288830 (CK) & #588467 (minshirui)\n",
            "He couldn't run very fast.\tवह ज़्यादा तेज़ नहीं भाग सकता था।\tCC-BY 2.0 (France) Attribution: tatoeba.org #288822 (CK) & #588477 (minshirui)\n",
            "He doesn't understand you.\tवह तुम्हें समझता नहीं है।\tCC-BY 2.0 (France) Attribution: tatoeba.org #288747 (CK) & #476322 (minshirui)\n",
            "He hammered at the window.\tउसने खिड़की पर ज़ोर लगाकर खटखटाया।\tCC-BY 2.0 (France) Attribution: tatoeba.org #300876 (CM) & #518700 (minshirui)\n",
            "He has many history books.\tउसके पास बहुत सारी इतिहास की किताबें हैं।\tCC-BY 2.0 (France) Attribution: tatoeba.org #495381 (adjusting) & #443036 (minshirui)\n",
            "He hesitated for a moment.\tउसने थोड़ी देर हिचकिचाया।\tCC-BY 2.0 (France) Attribution: tatoeba.org #291749 (CK) & #498578 (minshirui)\n",
            "He is one of my neighbors.\tवह मेरे पड़ोसियों में से एक है।\tCC-BY 2.0 (France) Attribution: tatoeba.org #460639 (blay_paul) & #491884 (minshirui)\n",
            "He likes his school a lot.\tउसे अपना स्कूल बहुत पसंद है।\tCC-BY 2.0 (France) Attribution: tatoeba.org #487222 (minshirui) & #487221 (minshirui)\n",
            "He makes fun of everybody.\tवह सबका मज़ाक उड़ाता है।\tCC-BY 2.0 (France) Attribution: tatoeba.org #2258419 (_undertoad) & #3216521 (anubhav93)\n",
            "He often plays the guitar.\tवह अक्सर गिटार बजाता है।\tCC-BY 2.0 (France) Attribution: tatoeba.org #293244 (CK) & #485966 (minshirui)\n",
            "He taught me how to write.\tउसने मुझे लिखना सिखाया।\tCC-BY 2.0 (France) Attribution: tatoeba.org #297643 (CK) & #510229 (minshirui)\n",
            "He walked along the river.\tहमने नदी के किनारे सैर करी।\tCC-BY 2.0 (France) Attribution: tatoeba.org #300673 (CK) & #487478 (minshirui)\n",
            "He wanted to buy the book.\tवह किताब को खरीदना चाह्ता था।\tCC-BY 2.0 (France) Attribution: tatoeba.org #291289 (CK) & #450332 (minshirui)\n",
            "He was afraid to go there.\tवह वहाँ जाने से डरता था।\tCC-BY 2.0 (France) Attribution: tatoeba.org #290447 (CK) & #455246 (minshirui)\n",
            "He was burning with fever.\tवह बुखार से जल रहा था।\tCC-BY 2.0 (France) Attribution: tatoeba.org #287078 (CM) & #609868 (minshirui)\n",
            "He was looking at the sky.\tवह आसमान की ओर देख रहा था।\tCC-BY 2.0 (France) Attribution: tatoeba.org #295586 (CK) & #475987 (minshirui)\n",
            "He was sentenced to death.\tउसे मौत की सज़ा दे दी गई।\tCC-BY 2.0 (France) Attribution: tatoeba.org #295667 (CK) & #461278 (minshirui)\n",
            "He witnessed the accident.\tउसने दुर्घटना को अपनी आँखों से देखा था।\tCC-BY 2.0 (France) Attribution: tatoeba.org #290921 (CK) & #491018 (minshirui)\n",
            "He witnessed the accident.\tवह उस दुर्घटना का चश्मदीद गवाह था।\tCC-BY 2.0 (France) Attribution: tatoeba.org #290921 (CK) & #491019 (minshirui)\n",
            "He's sleeping like a baby.\tवह बच्चे की तरह सो रहा है।\tCC-BY 2.0 (France) Attribution: tatoeba.org #2089 (CK) & #486037 (minshirui)\n",
            "His story may not be true.\tहो सकता है कि उसकी कहानी सच न हो।\tCC-BY 2.0 (France) Attribution: tatoeba.org #287923 (CK) & #498067 (minshirui)\n",
            "How can I meet this quota?\tमैं इस कोटे तक भला कैसे पहुंच सकता हूँ?\tCC-BY 2.0 (France) Attribution: tatoeba.org #38370 (CM) & #450337 (minshirui)\n",
            "How many bowls do we have?\tहमारे पास कितनी कटोरियाँ हैं?\tCC-BY 2.0 (France) Attribution: tatoeba.org #436149 (lukaszpp) & #450935 (minshirui)\n",
            "How many cars do you have?\tआपके पास कितनी गाड़ियाँ हैं?\tCC-BY 2.0 (France) Attribution: tatoeba.org #265601 (CK) & #561255 (minshirui)\n",
            "Hunger drove him to steal.\tभूख ने उसे चोरी करने पर मजबूर किया।\tCC-BY 2.0 (France) Attribution: tatoeba.org #18161 (papabear) & #459434 (minshirui)\n",
            "I am able to read English.\tमैं अंग्रेज़ी पढ़ सकता हूँ।\tCC-BY 2.0 (France) Attribution: tatoeba.org #256184 (CK) & #449349 (minshirui)\n",
            "I am able to read English.\tमैं अंग्रेज़ी पढ़ सकती हूँ।\tCC-BY 2.0 (France) Attribution: tatoeba.org #256184 (CK) & #449350 (minshirui)\n",
            "I bought a book yesterday.\tमैंने कल एक किताब खरीदी थी।\tCC-BY 2.0 (France) Attribution: tatoeba.org #244674 (CK) & #485797 (minshirui)\n",
            "I can't make it this time.\tमैं इस बार नहीं आ सकता।\tCC-BY 2.0 (France) Attribution: tatoeba.org #241982 (CK) & #477733 (minshirui)\n",
            "I cannot walk any farther.\tमैं और नहीं चल सकती।\tCC-BY 2.0 (France) Attribution: tatoeba.org #55324 (CM) & #487428 (minshirui)\n",
            "I caught a glimpse of her.\tमुझे उसकी झलक दिखाई दी।\tCC-BY 2.0 (France) Attribution: tatoeba.org #261337 (CM) & #459427 (minshirui)\n",
            "I feel like taking a rest.\tमुझे थोड़ा आराम करने का मन है।\tCC-BY 2.0 (France) Attribution: tatoeba.org #40024 (CK) & #590505 (minshirui)\n",
            "I fixed the car yesterday.\tमैंने गाड़ी को कल ठीक किया था।\tCC-BY 2.0 (France) Attribution: tatoeba.org #257724 (CK) & #483833 (minshirui)\n",
            "I found out where she was.\tमुझे पता लगा कि वह कहाँ थी।\tCC-BY 2.0 (France) Attribution: tatoeba.org #308204 (CK) & #485567 (minshirui)\n",
            "I get up at six every day.\tमैं रोज़ छः बजे उठता हूँ।\tCC-BY 2.0 (France) Attribution: tatoeba.org #476418 (minshirui) & #476417 (minshirui)\n",
            "I have a Facebook account.\tमेरे पास फ़ेसबुक खाता है।\tCC-BY 2.0 (France) Attribution: tatoeba.org #436627 (lukaszpp) & #514142 (minshirui)\n",
            "I have no time to see you.\tमेरे पास तुमसे मिलने के लिए समय नहीं है।\tCC-BY 2.0 (France) Attribution: tatoeba.org #63904 (CK) & #449384 (minshirui)\n",
            "I haven't seen Tom lately.\tमैंने टॉम को हाल में नहीं देखा है।\tCC-BY 2.0 (France) Attribution: tatoeba.org #243772 (CK) & #518710 (minshirui)\n",
            "I haven't seen him lately.\tमैंने उसे हाल में नहीं देखा है।\tCC-BY 2.0 (France) Attribution: tatoeba.org #257663 (CK) & #482472 (minshirui)\n",
            "I know how to drive a car.\tमुझे गाड़ी चलाना आता है।\tCC-BY 2.0 (France) Attribution: tatoeba.org #258393 (CK) & #3216499 (anubhav93)\n",
            "I met him at the barber's.\tमैं उससे नाई के यहाँ मिला।\tCC-BY 2.0 (France) Attribution: tatoeba.org #325348 (CK) & #487209 (minshirui)\n",
            "I sold it for ten dollars.\tमैंने उसे दस डॉलर के लिए बेच दिया।\tCC-BY 2.0 (France) Attribution: tatoeba.org #41929 (CK) & #518704 (minshirui)\n",
            "I usually get up at eight.\tमैं आमतौर पर आठ बजे उठा करता हूँ।\tCC-BY 2.0 (France) Attribution: tatoeba.org #261503 (CK) & #505402 (minshirui)\n",
            "I want to see the manager.\tमैं मैनेजर से मिलना चाह्ता हूँ।\tCC-BY 2.0 (France) Attribution: tatoeba.org #246280 (CK) & #451303 (minshirui)\n",
            "I want to see the manager.\tमैं मैनेजर से मिलना चाह्ती हूँ।\tCC-BY 2.0 (France) Attribution: tatoeba.org #246280 (CK) & #451304 (minshirui)\n",
            "I want to travel with you.\tमैं तुम्हारे साथ सफ़र करना चाहता हूँ।\tCC-BY 2.0 (France) Attribution: tatoeba.org #29042 (CK) & #477711 (minshirui)\n",
            "I was afraid he might die.\tमुझे उसके मरने का डर था।\tCC-BY 2.0 (France) Attribution: tatoeba.org #260066 (CK) & #506531 (minshirui)\n",
            "I wish I had this problem.\tकाश ये समस्या मुझे हुई होती।\tCC-BY 2.0 (France) Attribution: tatoeba.org #1135039 (CM) & #3216495 (anubhav93)\n",
            "I wish I had this problem.\tकाश ये मुसीबत मेरे पल्ले पड़ती।\tCC-BY 2.0 (France) Attribution: tatoeba.org #1135039 (CM) & #3216497 (anubhav93)\n",
            "I'll be there at five p.m.\tमैं वहाँ शाम के पाँच बजे पहुँच जाऊँगा।\tCC-BY 2.0 (France) Attribution: tatoeba.org #50767 (CK) & #485965 (minshirui)\n",
            "I'll bring one more towel.\tमैं एक और तौलिया लाती हूँ।\tCC-BY 2.0 (France) Attribution: tatoeba.org #35404 (CK) & #514117 (minshirui)\n",
            "I'm busy with my homework.\tमैं अपने होमवर्क में लगा हुआ हूँ।\tCC-BY 2.0 (France) Attribution: tatoeba.org #258541 (CK) & #514011 (minshirui)\n",
            "I'm disappointed with you.\tमैं तुमसे निराश हूँ।\tCC-BY 2.0 (France) Attribution: tatoeba.org #239324 (CK) & #491911 (minshirui)\n",
            "I'm glad to see you again.\tमैं तुम्हें फिरसे देखकर बहुत खुश हूँ।\tCC-BY 2.0 (France) Attribution: tatoeba.org #252747 (CK) & #505076 (minshirui)\n",
            "I'm interested in history.\tमुझे इतिहास में दिलचस्पी है।\tCC-BY 2.0 (France) Attribution: tatoeba.org #262259 (CK) & #514092 (minshirui)\n",
            "I'm standing in the shade.\tमैं छाया में खड़ा हूँ।\tCC-BY 2.0 (France) Attribution: tatoeba.org #259791 (CK) & #465630 (minshirui)\n",
            "I'm standing in the shade.\tमैं छाँओं में खड़ा हूँ।\tCC-BY 2.0 (France) Attribution: tatoeba.org #259791 (CK) & #465631 (minshirui)\n",
            "I'm waiting for my mother.\tमैं अपनी माँ का इंतेज़ार कर रहा हूँ।\tCC-BY 2.0 (France) Attribution: tatoeba.org #261698 (CK) & #450440 (minshirui)\n",
            "It is a difficult problem.\tयह समस्या बहुत कठिन है।\tCC-BY 2.0 (France) Attribution: tatoeba.org #42198 (CK) & #459448 (minshirui)\n",
            "It is easy to add 5 to 10.\tपाँच से दस को जोड़ना बहुत आसान है।\tCC-BY 2.0 (France) Attribution: tatoeba.org #72570 (CK) & #480303 (minshirui)\n",
            "It's already nine o'clock.\tनौ बज चुकें हैं।\tCC-BY 2.0 (France) Attribution: tatoeba.org #31681 (CK) & #588598 (minshirui)\n",
            "It's for a friend of mine.\tयह मेरे दोस्त के लिए है।\tCC-BY 2.0 (France) Attribution: tatoeba.org #42049 (CK) & #3214268 (anubhav93)\n",
            "It's terribly hot in here.\tयहाँ बहुत गर्म है।\tCC-BY 2.0 (France) Attribution: tatoeba.org #8878956 (CK) & #8879561 (simranbansal)\n",
            "Let's meet this afternoon.\tइस दोपहर को मिलते हैं।\tCC-BY 2.0 (France) Attribution: tatoeba.org #424861 (CM) & #484036 (minshirui)\n",
            "May I ask a few questions?\tक्या मैं चंद सवाल पूछ सकती हूँ?\tCC-BY 2.0 (France) Attribution: tatoeba.org #73014 (Eldad) & #511752 (minshirui)\n",
            "Mother bought me the book.\tमम्मी ने मेरे लिए वह किताब खरीदी।\tCC-BY 2.0 (France) Attribution: tatoeba.org #320742 (CM) & #483803 (minshirui)\n",
            "My brother lives in Tokyo.\tमेरा भाई टोक्यो में रहता है।\tCC-BY 2.0 (France) Attribution: tatoeba.org #250726 (CK) & #505393 (minshirui)\n",
            "My father may be sleeping.\tमेरे पिता शायद सो रहे होंगे।\tCC-BY 2.0 (France) Attribution: tatoeba.org #251739 (CK) & #506497 (minshirui)\n",
            "My father stopped smoking.\tमेरे पिता ने सिगरेट पीना बंद कर दिया।\tCC-BY 2.0 (France) Attribution: tatoeba.org #251662 (CK) & #463396 (minshirui)\n",
            "My right foot is sleeping.\tमेरा दाहिना पैर सो गया है।\tCC-BY 2.0 (France) Attribution: tatoeba.org #27054 (CK) & #476334 (minshirui)\n",
            "My wife really hates cats.\tमेरी बीवी को बिल्लियों से नफ़रत है।\tCC-BY 2.0 (France) Attribution: tatoeba.org #250906 (CK) & #461273 (minshirui)\n",
            "Never speak ill of others.\tदूसरों की बुराई कभी नहीं करनी चाहिए।\tCC-BY 2.0 (France) Attribution: tatoeba.org #238532 (CK) & #475960 (minshirui)\n",
            "One of my bags is missing.\tमेरी एक अटैची ग़ायब है।\tCC-BY 2.0 (France) Attribution: tatoeba.org #35164 (CK) & #449289 (minshirui)\n",
            "One of my bags is missing.\tमुझे अपनी एक अटैची मिल नहीं रही है।\tCC-BY 2.0 (France) Attribution: tatoeba.org #35164 (CK) & #449290 (minshirui)\n",
            "School begins at 8:30 a.m.\tस्कूल साढ़े-आठ बजे शुरू होता है।\tCC-BY 2.0 (France) Attribution: tatoeba.org #266228 (CK) & #487409 (minshirui)\n",
            "She did it all by herself.\tउसने सब कुछ अपने-आप किया।\tCC-BY 2.0 (France) Attribution: tatoeba.org #312253 (CK) & #509365 (minshirui)\n",
            "She has not come here yet.\tवह अभी तक यहाँ नहीं आई है।\tCC-BY 2.0 (France) Attribution: tatoeba.org #312217 (CM) & #485783 (minshirui)\n",
            "She looked at the picture.\tउसने तस्वीर को देखा।\tCC-BY 2.0 (France) Attribution: tatoeba.org #312966 (CK) & #505392 (minshirui)\n",
            "She showed me her new car.\tउसने मुझे अपनी नई गाड़ी दिखाई।\tCC-BY 2.0 (France) Attribution: tatoeba.org #444186 (sacredceltic) & #3216284 (anubhav93)\n",
            "Smog causes plants to die.\tस्मॉग से पेड़-पौधों की मौत होती है।\tCC-BY 2.0 (France) Attribution: tatoeba.org #51414 (CK) & #465648 (minshirui)\n",
            "Some snakes are poisonous.\tकुछ सांप ज़हरीले होते हैं।\tCC-BY 2.0 (France) Attribution: tatoeba.org #33908 (CK) & #581710 (minshirui)\n",
            "Thank you for the present.\tतोहफ़े के लिए धन्यवाद।\tCC-BY 2.0 (France) Attribution: tatoeba.org #274353 (CK) & #482963 (minshirui)\n",
            "The enemy won't get close.\tदुश्मन पास नहीं आ पाएगा।\tCC-BY 2.0 (France) Attribution: tatoeba.org #426617 (blay_paul) & #514027 (minshirui)\n",
            "The king abused his power.\tराजा ने अपनी ताकत का दुरुपयोग किया।\tCC-BY 2.0 (France) Attribution: tatoeba.org #25640 (CK) & #588447 (minshirui)\n",
            "The prisoner was released.\tक़ैदी को रिहा कर दिया गया।\tCC-BY 2.0 (France) Attribution: tatoeba.org #46719 (CK) & #482457 (minshirui)\n",
            "The reason is very simple.\tकारण बहुत सरल है।\tCC-BY 2.0 (France) Attribution: tatoeba.org #3520025 (Objectivesea) & #8876346 (simranbansal)\n",
            "There is no TV in my room.\tमेरे कमरे में टीवी नहीं है।\tCC-BY 2.0 (France) Attribution: tatoeba.org #251760 (CK) & #482470 (minshirui)\n",
            "There must be another way.\tकोई और रास्ता भी होगा।\tCC-BY 2.0 (France) Attribution: tatoeba.org #25033 (CK) & #514057 (minshirui)\n",
            "These are very big apples.\tये सेब बहुत बड़े हैं।\tCC-BY 2.0 (France) Attribution: tatoeba.org #2419833 (CK) & #3216269 (anubhav93)\n",
            "They looked at each other.\tउन्होंने एक-दूसरे को देखा।\tCC-BY 2.0 (France) Attribution: tatoeba.org #305541 (CK) & #491566 (minshirui)\n",
            "This desk is made of wood.\tयह मेज़ लकड़ी की बनी है।\tCC-BY 2.0 (France) Attribution: tatoeba.org #59842 (CK) & #510275 (minshirui)\n",
            "This is my father's house.\tमेरे पापा का घर है।\tCC-BY 2.0 (France) Attribution: tatoeba.org #1200708 (etoile) & #3212909 (anubhav93)\n",
            "Today is Independence Day.\tआज स्वतंत्रता दिवस है।\tCC-BY 2.0 (France) Attribution: tatoeba.org #480228 (minshirui) & #480227 (minshirui)\n",
            "Tom couldn't help but cry.\tटॉम खुद को रोने से रोक न सका।\tCC-BY 2.0 (France) Attribution: tatoeba.org #3161997 (CK) & #3216295 (anubhav93)\n",
            "Tom couldn't help but cry.\tटॉम रो पड़ा।\tCC-BY 2.0 (France) Attribution: tatoeba.org #3161997 (CK) & #3216296 (anubhav93)\n",
            "Twenty families live here.\tयहाँ बीस परिवार बसे हुए हैं।\tCC-BY 2.0 (France) Attribution: tatoeba.org #61801 (CK) & #594865 (minshirui)\n",
            "We all felt sorry for Tom.\tहम सब टॉम के लिए दुःखी थे।\tCC-BY 2.0 (France) Attribution: tatoeba.org #3539246 (Hybrid) & #3539267 (nurendra)\n",
            "We painted the door green.\tहमने दरवाज़े को हरे रंग से पोत दिया।\tCC-BY 2.0 (France) Attribution: tatoeba.org #248217 (CK) & #487467 (minshirui)\n",
            "We walked around the pond.\tहम तालाब के आस-पास टहलें।\tCC-BY 2.0 (France) Attribution: tatoeba.org #249066 (CK) & #3225312 (anubhav93)\n",
            "We're here to protect you.\tआपकी रक्षा करना हमारा काम है।\tCC-BY 2.0 (France) Attribution: tatoeba.org #1779797 (Spamster) & #3216573 (anubhav93)\n",
            "We're here to protect you.\tहम आपकी रक्षा करने के लिए यहाँ आए हैं।\tCC-BY 2.0 (France) Attribution: tatoeba.org #1779797 (Spamster) & #3216575 (anubhav93)\n",
            "What a lucky person he is!\tवह कितना नसीबवाला है!\tCC-BY 2.0 (France) Attribution: tatoeba.org #291570 (CM) & #506527 (minshirui)\n",
            "What did you do yesterday?\tतुमने कल क्या किया?\tCC-BY 2.0 (France) Attribution: tatoeba.org #70131 (CK) & #486001 (minshirui)\n",
            "What do you want me to do?\tतुम मुझसे क्या करवाना चाहते हो?\tCC-BY 2.0 (France) Attribution: tatoeba.org #25106 (CK) & #518696 (minshirui)\n",
            "What's your favorite food?\tतुम्हारा सबसे पसंदीता खाना कौनसा है?\tCC-BY 2.0 (France) Attribution: tatoeba.org #70679 (CK) & #590000 (minshirui)\n",
            "Where's the changing room?\tकपड़े बदलने का कमरा कहाँ पर है?\tCC-BY 2.0 (France) Attribution: tatoeba.org #7712698 (CK) & #475806 (minshirui)\n",
            "Why are you talking to me?\tमुझसे बात क्यों कर रहे हो?\tCC-BY 2.0 (France) Attribution: tatoeba.org #3181295 (CK) & #3216266 (anubhav93)\n",
            "Will you make room for me?\tमेरे लिए थोड़ी जगह बनाओगे क्या?\tCC-BY 2.0 (France) Attribution: tatoeba.org #250354 (CK) & #491845 (minshirui)\n",
            "Would you mind if I smoke?\tमेरे सिगरेट पीने पर आपको आपत्ति तो नहीं होगी?\tCC-BY 2.0 (France) Attribution: tatoeba.org #40629 (CK) & #505280 (minshirui)\n",
            "Yesterday was my birthday.\tकल मेरा जन्मदिन था।\tCC-BY 2.0 (France) Attribution: tatoeba.org #244539 (CK) & #446474 (minshirui)\n",
            "You had better go at once.\tतुम्हे तुरंत जाना चाहिए।\tCC-BY 2.0 (France) Attribution: tatoeba.org #52186 (CK) & #487485 (minshirui)\n",
            "You keep a dog, don't you?\tतुम्हारे पास एक कुत्ता है, है न?\tCC-BY 2.0 (France) Attribution: tatoeba.org #239241 (CK) & #3216267 (anubhav93)\n",
            "A crow is as black as coal.\tकौआ कोयले जैसा काला होता है।\tCC-BY 2.0 (France) Attribution: tatoeba.org #27010 (CM) & #475777 (minshirui)\n",
            "A man appeared at the door.\tदरवाज़े पर एक आदमी दिखाई दिया।\tCC-BY 2.0 (France) Attribution: tatoeba.org #73113 (CK) & #485818 (minshirui)\n",
            "Come see me again tomorrow.\tमुझसे कल फिर आकर मिलना।\tCC-BY 2.0 (France) Attribution: tatoeba.org #323327 (CK) & #487219 (minshirui)\n",
            "Do you have an appointment?\tआपके पास अपौइंटमेंट है क्या?\tCC-BY 2.0 (France) Attribution: tatoeba.org #324736 (CK) & #476405 (minshirui)\n",
            "Do you know Tom personally?\tक्या आप व्यक्तिगत रूप से टॉम को जानते हैं?\tCC-BY 2.0 (France) Attribution: tatoeba.org #1886089 (CK) & #8889302 (simranbansal)\n",
            "Do you know Tom personally?\tक्या तुम व्यक्तिगत रूप से टॉम को जानते हो?\tCC-BY 2.0 (France) Attribution: tatoeba.org #1886089 (CK) & #8889303 (simranbansal)\n",
            "Don't fail to call me back.\tमुझे वापस फ़ोन करना मत भूलना।\tCC-BY 2.0 (France) Attribution: tatoeba.org #318232 (CK) & #465588 (minshirui)\n",
            "Don't say things like that.\tऐसा मत बोलो।\tCC-BY 2.0 (France) Attribution: tatoeba.org #2275296 (CK) & #485765 (minshirui)\n",
            "Each of them has a bicycle.\tउन सभी के पास साईकल है।\tCC-BY 2.0 (France) Attribution: tatoeba.org #306084 (CK) & #475919 (minshirui)\n",
            "Father is watering flowers.\tपापा फूलों को पानी दे रहे हैं।\tCC-BY 2.0 (France) Attribution: tatoeba.org #319089 (CM) & #518738 (minshirui)\n",
            "Have you ever seen a koala?\tतुमने कभी क्वाला देखा है?\tCC-BY 2.0 (France) Attribution: tatoeba.org #520129 (kebukebu) & #3216293 (anubhav93)\n",
            "He asked me for some money.\tउसने मुझसे थोड़े पैसे माँगे।\tCC-BY 2.0 (France) Attribution: tatoeba.org #297597 (CK) & #518716 (minshirui)\n",
            "He became a police officer.\tवह पुलिस अफ़सर बन गया।\tCC-BY 2.0 (France) Attribution: tatoeba.org #509969 (minshirui) & #509966 (minshirui)\n",
            "He believes whatever I say.\tमैं जो भी कहता हूँ वह मेरा यकीन कर लेता है।\tCC-BY 2.0 (France) Attribution: tatoeba.org #297270 (CK) & #491708 (minshirui)\n",
            "He decided to quit smoking.\tउसने सिगरेट पीना छोड़ने का फ़ैसला किया।\tCC-BY 2.0 (France) Attribution: tatoeba.org #291665 (CK) & #446301 (minshirui)\n",
            "He did the work on his own.\tउसने काम अपने-आप किया।\tCC-BY 2.0 (France) Attribution: tatoeba.org #284071 (CK) & #505344 (minshirui)\n",
            "He is engaged to my sister.\tउसकी मेरी बहन के साथ सगाई हो चुकी है।\tCC-BY 2.0 (France) Attribution: tatoeba.org #497284 (blay_paul) & #509335 (minshirui)\n",
            "He occasionally visited me.\tवह कभी-कभार मुझसे मिलने आता था।\tCC-BY 2.0 (France) Attribution: tatoeba.org #298392 (CK) & #457085 (minshirui)\n",
            "He saw a dog near the door.\tउसने दरवाज़े के पास एक कुत्ता देखा।\tCC-BY 2.0 (France) Attribution: tatoeba.org #296065 (CK) & #491762 (minshirui)\n",
            "He usually comes home late.\tवह आमतौर पर घर देर से आता है।\tCC-BY 2.0 (France) Attribution: tatoeba.org #291579 (CK) & #485521 (minshirui)\n",
            "He's always late for class.\tवह क्लास में हमेशा देर से आता है।\tCC-BY 2.0 (France) Attribution: tatoeba.org #289156 (CK) & #484139 (minshirui)\n",
            "His opinions are worthless.\tउसकी राय बेकार है।\tCC-BY 2.0 (France) Attribution: tatoeba.org #435987 (CK) & #476390 (minshirui)\n",
            "Honesty is the best policy.\tईमानदारी सर्वोत्तम नीति है।\tCC-BY 2.0 (France) Attribution: tatoeba.org #271679 (CK) & #487486 (minshirui)\n",
            "How long has she been sick?\tवह कितने दिनों से बीमार है?\tCC-BY 2.0 (France) Attribution: tatoeba.org #310372 (CK) & #486303 (minshirui)\n",
            "How many books do you have?\tतुम्हारे पास कितनी किताबें हैं?\tCC-BY 2.0 (France) Attribution: tatoeba.org #16254 (CK) & #513980 (minshirui)\n",
            "I actually have to do that.\tमुझे वास्तव में ऐसा करना है।\tCC-BY 2.0 (France) Attribution: tatoeba.org #8878907 (CK) & #8879562 (simranbansal)\n",
            "I am interested in English.\tमुझे अंग्रेज़ी में दिलचस्पी है।\tCC-BY 2.0 (France) Attribution: tatoeba.org #256211 (CK) & #475991 (minshirui)\n",
            "I arrived later than usual.\tमैं आमतौर के मुकाबले में देर से आया।\tCC-BY 2.0 (France) Attribution: tatoeba.org #66094 (CK) & #485935 (minshirui)\n",
            "I believe whatever he says.\tवह जो भी कहे, मुझे उस पर यकीन है।\tCC-BY 2.0 (France) Attribution: tatoeba.org #260599 (CK) & #561254 (minshirui)\n",
            "I bought two dozen pencils.\tमैंने दो दर्जन पेनसिलें खरीदीं।\tCC-BY 2.0 (France) Attribution: tatoeba.org #256295 (CK) & #476408 (minshirui)\n",
            "I can't take any more work.\tमुझसे और काम नहीं किया जाएगा।\tCC-BY 2.0 (France) Attribution: tatoeba.org #54892 (CK) & #485955 (minshirui)\n",
            "I cover twenty miles a day.\tमैं रोज़ बीस मील चलता हूँ।\tCC-BY 2.0 (France) Attribution: tatoeba.org #73080 (CM) & #491851 (minshirui)\n",
            "I don't believe him at all.\tमैं उसका बिलकुल भी यकीन नहीं करता।\tCC-BY 2.0 (France) Attribution: tatoeba.org #65842 (CK) & #485837 (minshirui)\n",
            "I don't care what they say.\tवे जो मर्ज़ी कहें मुझे उससे कोई फ़र्क नहीं पड़ता।\tCC-BY 2.0 (France) Attribution: tatoeba.org #72057 (CK) & #487247 (minshirui)\n",
            "I don't know what to study.\tमुझे समझ में नहीं आ रहा कि क्या पढ़ूँ।\tCC-BY 2.0 (France) Attribution: tatoeba.org #256422 (CK) & #581687 (minshirui)\n",
            "I had to decline his offer.\tमुझे उसके प्रस्ताव को अस्वीकार करना पड़ा।\tCC-BY 2.0 (France) Attribution: tatoeba.org #398539 (CK) & #491835 (minshirui)\n",
            "I need the following items.\tमुझे निम्नलिखित वस्तुओं की आवश्यकता है।\tCC-BY 2.0 (France) Attribution: tatoeba.org #249868 (CK) & #9013181 (simranbansal)\n",
            "I need the following items.\tमुझे इन सभी चीजों की आवश्यकता है।\tCC-BY 2.0 (France) Attribution: tatoeba.org #249868 (CK) & #9013183 (simranbansal)\n",
            "I need the following items.\tमुझे इन सभी चीजों की जरूरत है।\tCC-BY 2.0 (France) Attribution: tatoeba.org #249868 (CK) & #9013185 (simranbansal)\n",
            "I need to go get some eggs.\tमुझे कुछ अंडे खरीदने जाना है।\tCC-BY 2.0 (France) Attribution: tatoeba.org #2387637 (CK) & #8876353 (simranbansal)\n",
            "I sat between Tom and John.\tमैं टॉम और जॉन के बीच में बैठा।\tCC-BY 2.0 (France) Attribution: tatoeba.org #255279 (CK) & #491613 (minshirui)\n",
            "I was born on June 4, 1974.\tमैं ४ जून, १९७४ को पैदा हुआ था।\tCC-BY 2.0 (France) Attribution: tatoeba.org #252434 (CK) & #505040 (minshirui)\n",
            "I'd like a map of the city.\tमैं शहर का नक्शा खरीदना चाहता हूँ।\tCC-BY 2.0 (France) Attribution: tatoeba.org #246184 (CK) & #505070 (minshirui)\n",
            "I'm a good-for-nothing bum.\tमैं निकम्मा हूँ।\tCC-BY 2.0 (France) Attribution: tatoeba.org #433739 (CK) & #588536 (minshirui)\n",
            "I'm looking for an old man.\tमैं एक बूढ़े आदमी की तलाश मे हूँ।\tCC-BY 2.0 (France) Attribution: tatoeba.org #253052 (CK) & #3189588 (pranjal710)\n",
            "Is the mouse dead or alive?\tचूहा ज़िन्दा है या मर गया है?\tCC-BY 2.0 (France) Attribution: tatoeba.org #60723 (CK) & #515437 (minshirui)\n",
            "It hardly ever rains there.\tयहाँ पर मुश्किल से कभी बारिश होती है।\tCC-BY 2.0 (France) Attribution: tatoeba.org #50909 (CK) & #486026 (minshirui)\n",
            "It is said that he is sick.\tकहा जाता है कि वह बीमार है।\tCC-BY 2.0 (France) Attribution: tatoeba.org #303094 (CM) & #491815 (minshirui)\n",
            "It seems interesting to me.\tमुझे बहुत मज़ेदार लगती है!\tCC-BY 2.0 (France) Attribution: tatoeba.org #1423 (CK) & #514023 (minshirui)\n",
            "It seems interesting to me.\tमुझे बहुत दिलचस्प लगती है!\tCC-BY 2.0 (France) Attribution: tatoeba.org #1423 (CK) & #514025 (minshirui)\n",
            "It's raining cats and dogs.\tमुसलाधार बारिश होती है।\tCC-BY 2.0 (France) Attribution: tatoeba.org #384559 (Dorenda) & #505376 (minshirui)\n",
            "It's raining cats and dogs.\tमुसलाधार वर्षा होती है।\tCC-BY 2.0 (France) Attribution: tatoeba.org #384559 (Dorenda) & #505377 (minshirui)\n",
            "It's the same for everyone.\tसब लोगों के लिए एक समान है।\tCC-BY 2.0 (France) Attribution: tatoeba.org #42236 (CK) & #485821 (minshirui)\n",
            "My aunt brought me flowers.\tमेरी बुआ-जी मेरे लिए फूल लाईं।\tCC-BY 2.0 (France) Attribution: tatoeba.org #430650 (witbrock) & #475819 (minshirui)\n",
            "Our train stopped suddenly.\tहमारी ट्रेन अचानक रुक गई।\tCC-BY 2.0 (France) Attribution: tatoeba.org #20272 (CK) & #486289 (minshirui)\n",
            "Place it wherever you like.\tजहाँ भी रखना है रखदो।\tCC-BY 2.0 (France) Attribution: tatoeba.org #483977 (minshirui) & #483973 (minshirui)\n",
            "She forgot to feed her dog.\tवह अपने कुत्ते को खिलाना भूल गई।\tCC-BY 2.0 (France) Attribution: tatoeba.org #313463 (CK) & #482424 (minshirui)\n",
            "She has long arms and legs.\tउसके हाथ-पैर लम्बे हैं।\tCC-BY 2.0 (France) Attribution: tatoeba.org #314873 (CK) & #505107 (minshirui)\n",
            "She is in bed with a fever.\tवह बुखार के साथ बिस्तर में लेटी हुई है।\tCC-BY 2.0 (France) Attribution: tatoeba.org #316117 (CK) & #483886 (minshirui)\n",
            "She knew the story already.\tउसको कहानी पहले से ही पता थी।\tCC-BY 2.0 (France) Attribution: tatoeba.org #313115 (CK) & #514133 (minshirui)\n",
            "She likes her school a lot.\tउसे अपना स्कूल बहुत पसंद है।\tCC-BY 2.0 (France) Attribution: tatoeba.org #487223 (minshirui) & #487221 (minshirui)\n",
            "She plays tennis very well.\tवह टेनिस बहुत अच्छा खेलती है।\tCC-BY 2.0 (France) Attribution: tatoeba.org #311641 (CK) & #475980 (minshirui)\n",
            "She suddenly became famous.\tवह अचानक से मशहूर बन गई।\tCC-BY 2.0 (France) Attribution: tatoeba.org #312613 (CK) & #517909 (minshirui)\n",
            "She was crying in her room.\tवह अपने कमरे में रो रही थी।\tCC-BY 2.0 (France) Attribution: tatoeba.org #389024 (CK) & #483908 (minshirui)\n",
            "Take good care of yourself.\tअपना अच्छे से ख़याल रखना।\tCC-BY 2.0 (France) Attribution: tatoeba.org #2260 (CK) & #505408 (minshirui)\n",
            "That's really a great idea.\tयह तो बहुत ही अच्छा सुझाव है।\tCC-BY 2.0 (France) Attribution: tatoeba.org #42085 (CK) & #515421 (minshirui)\n",
            "The box he found was empty.\tउसे जो डब्बा मिला वह खाली था।\tCC-BY 2.0 (France) Attribution: tatoeba.org #283579 (CK) & #465658 (minshirui)\n",
            "The bride suddenly laughed.\tदुल्हन अचानक से हँस पड़ी।\tCC-BY 2.0 (France) Attribution: tatoeba.org #23735 (CK) & #589997 (minshirui)\n",
            "The man hit me on the head.\tउस आदमी ने मुझे सर पर मारा।\tCC-BY 2.0 (France) Attribution: tatoeba.org #45305 (CK) & #506439 (minshirui)\n",
            "The medicine tastes bitter.\tइस दवाई का स्वाद बहुत कड़वा है।\tCC-BY 2.0 (France) Attribution: tatoeba.org #43550 (CK) & #457034 (minshirui)\n",
            "The mud clung to his shoes.\tउसके जूतों पर कीचड़ लगी हुई थी।\tCC-BY 2.0 (France) Attribution: tatoeba.org #285907 (CK) & #505343 (minshirui)\n",
            "The novel is very exciting.\tयह उपन्यास बहुत रोमांचक है।\tCC-BY 2.0 (France) Attribution: tatoeba.org #58484 (CK) & #450357 (minshirui)\n",
            "The paint hasn't dried yet.\tपेंट अभी तक सूखा नहीं है।\tCC-BY 2.0 (France) Attribution: tatoeba.org #33818 (CK) & #485527 (minshirui)\n",
            "The rain continued all day.\tबरसात पूरे दिन होती रही।\tCC-BY 2.0 (France) Attribution: tatoeba.org #26715 (CK) & #517900 (minshirui)\n",
            "The water is not drinkable.\tयह पानी पिया नहीं जा सकता है।\tCC-BY 2.0 (France) Attribution: tatoeba.org #2422964 (_undertoad) & #3216482 (anubhav93)\n",
            "There is a bag on the desk.\tमेज़ पर बस्ता रखा हुआ है।\tCC-BY 2.0 (France) Attribution: tatoeba.org #20580 (CK) & #463397 (minshirui)\n",
            "This car was made in Japan.\tयह गाड़ी जापान में बनी थी।\tCC-BY 2.0 (France) Attribution: tatoeba.org #58702 (CK) & #482454 (minshirui)\n",
            "This is the monsoon season.\tयह वर्षा ऋतु का मौसम है।\tCC-BY 2.0 (France) Attribution: tatoeba.org #480312 (minshirui) & #480311 (minshirui)\n",
            "This word comes from Greek.\tयह शब्द ग्रीक से आता है।\tCC-BY 2.0 (France) Attribution: tatoeba.org #59390 (CK) & #516650 (minshirui)\n",
            "Tom and I'll both be there.\tटॉम और मैं दोनों वहाँ रहेंगे।\tCC-BY 2.0 (France) Attribution: tatoeba.org #2644049 (CK) & #3216299 (anubhav93)\n",
            "Tom wants to do that alone.\tटॉम अकेले वैसा करना चाहता है।\tCC-BY 2.0 (France) Attribution: tatoeba.org #8897616 (CK) & #8938138 (simranbansal)\n",
            "Tom wants to do that alone.\tटॉम वह अकेले करना चाहता है।\tCC-BY 2.0 (France) Attribution: tatoeba.org #8897616 (CK) & #8938139 (simranbansal)\n",
            "Tom, I want to talk to you.\tटॉम, मुझे तुमसे बात करनी है।\tCC-BY 2.0 (France) Attribution: tatoeba.org #2033295 (CK) & #3216302 (anubhav93)\n",
            "Turn off the light, please.\tबत्ती बंद करदो, प्लीज़।\tCC-BY 2.0 (France) Attribution: tatoeba.org #38829 (CK) & #518708 (minshirui)\n",
            "Turn off the light, please.\tकृपया बत्ती बंद कर दीजिए।\tCC-BY 2.0 (France) Attribution: tatoeba.org #38829 (CK) & #518709 (minshirui)\n",
            "We all laughed at his joke.\tहम सब उसके मज़ाक पर हँसे।\tCC-BY 2.0 (France) Attribution: tatoeba.org #262867 (CK) & #483900 (minshirui)\n",
            "We celebrated his birthday.\tहमने उसका जन्मदिन मनाया।\tCC-BY 2.0 (France) Attribution: tatoeba.org #263218 (CK) & #505385 (minshirui)\n",
            "We chose Tom to be captain.\tहमने टॉम को कप्तान चुना।\tCC-BY 2.0 (France) Attribution: tatoeba.org #5547982 (CK) & #9012783 (simranbansal)\n",
            "We don't know where we are.\tहमें नहीं पता हम कहाँ हैं।\tCC-BY 2.0 (France) Attribution: tatoeba.org #3313164 (CK) & #3987667 (mishigun)\n",
            "We should keep our promise.\tहमे अपना वादा निभाना चाहिए।\tCC-BY 2.0 (France) Attribution: tatoeba.org #28751 (CK) & #511725 (minshirui)\n",
            "We've got that figured out.\tहमने उसका हिसाब लगा लिया।\tCC-BY 2.0 (France) Attribution: tatoeba.org #4907384 (CK) & #4907790 (yashtib1995)\n",
            "What I said hurt his pride.\tमेरी बात ने उसके अभिमान पर चोट पहुँचाई।\tCC-BY 2.0 (France) Attribution: tatoeba.org #250813 (CM) & #485525 (minshirui)\n",
            "What do you call this bird?\tइस पक्षी का नाम क्या है?\tCC-BY 2.0 (France) Attribution: tatoeba.org #57816 (CK) & #491823 (minshirui)\n",
            "What happened to our order?\tहमारे औरडर का क्या हुआ?\tCC-BY 2.0 (France) Attribution: tatoeba.org #247644 (CK) & #491751 (minshirui)\n",
            "Where did all the bread go?\tसारा ब्रॅड कहाँ चला गया?\tCC-BY 2.0 (France) Attribution: tatoeba.org #396730 (CM) & #561247 (minshirui)\n",
            "Where is the changing room?\tकपड़े बदलने का कमरा कहाँ पर है?\tCC-BY 2.0 (France) Attribution: tatoeba.org #263552 (CM) & #475806 (minshirui)\n",
            "Why don't you listen to me?\tतुम मेरी बात सुनते क्यों नहीं हो?\tCC-BY 2.0 (France) Attribution: tatoeba.org #485064 (CM) & #3216492 (anubhav93)\n",
            "Why have you shut the door?\tतुमने दरवाज़ा क्यों बंद कर दिया ?\tCC-BY 2.0 (France) Attribution: tatoeba.org #8879380 (CM) & #8879551 (simranbansal)\n",
            "Will you turn on the light?\tबत्ती चालू कर दोगे क्या?\tCC-BY 2.0 (France) Attribution: tatoeba.org #322980 (CK) & #486324 (minshirui)\n",
            "You are always complaining.\tतुम हमेशा शिकायत करते रहते हो।\tCC-BY 2.0 (France) Attribution: tatoeba.org #16765 (CK) & #516686 (minshirui)\n",
            "You are on the wrong train.\tआप गलत ट्रेन पर हैं।\tCC-BY 2.0 (France) Attribution: tatoeba.org #279220 (CK) & #518718 (minshirui)\n",
            "You aren't coming, are you?\tतुम नहीं आ रहे हो ना?\tCC-BY 2.0 (France) Attribution: tatoeba.org #6898313 (CK) & #516765 (minshirui)\n",
            "You're not coming, are you?\tतुम नहीं आ रहे हो ना?\tCC-BY 2.0 (France) Attribution: tatoeba.org #2713251 (CK) & #516765 (minshirui)\n",
            "A day has twenty-four hours.\tएक दिन में चौबीस घंटे होते हैं।\tCC-BY 2.0 (France) Attribution: tatoeba.org #27426 (CM) & #611424 (minshirui)\n",
            "Are you for or against this?\tआप इसके हित में हैं या नहीं?\tCC-BY 2.0 (France) Attribution: tatoeba.org #70061 (CK) & #515399 (minshirui)\n",
            "At last, we got to the lake.\tहम आखिरकार झील तक पहुँच गए।\tCC-BY 2.0 (France) Attribution: tatoeba.org #39894 (CM) & #590507 (minshirui)\n",
            "Bring your sister next time.\tअगली बार अपनी बहन को भी साथ लाना।\tCC-BY 2.0 (France) Attribution: tatoeba.org #242388 (CK) & #485572 (minshirui)\n",
            "Can you teach me how to fly?\tक्या तुम मुझे उड़ना सिखा सकते हो?\tCC-BY 2.0 (France) Attribution: tatoeba.org #383331 (MUIRIEL) & #443085 (minshirui)\n",
            "Canada is larger than Japan.\tकनाडा जापान से बड़ा है।\tCC-BY 2.0 (France) Attribution: tatoeba.org #63631 (CK) & #444378 (minshirui)\n",
            "Could you speak more slowly?\tथोड़ा धीरे बोल सकते हैं क्या?\tCC-BY 2.0 (France) Attribution: tatoeba.org #434474 (lukaszpp) & #511719 (minshirui)\n",
            "Do you have any soft drinks?\tतुम्हारे पास कोक-शोक है क्या?\tCC-BY 2.0 (France) Attribution: tatoeba.org #43236 (CK) & #463405 (minshirui)\n",
            "Do you want to go somewhere?\tआपको कहीं जाना है?\tCC-BY 2.0 (France) Attribution: tatoeba.org #3146646 (Hybrid) & #3216257 (anubhav93)\n",
            "Do you want to go somewhere?\tतुम्हें कहीं जाना है?\tCC-BY 2.0 (France) Attribution: tatoeba.org #3146646 (Hybrid) & #3216258 (anubhav93)\n",
            "Everyone felt sorry for Tom.\tसब टॉम के लिए दुःखी थे I\tCC-BY 2.0 (France) Attribution: tatoeba.org #3539245 (Hybrid) & #3539285 (nurendra)\n",
            "Everyone speaks well of him.\tसभी उसकी अच्छाई करते है।\tCC-BY 2.0 (France) Attribution: tatoeba.org #276568 (CK) & #485927 (minshirui)\n",
            "France is in Western Europe.\tफ़्रान्स पश्चिमी यूरोप में है।\tCC-BY 2.0 (France) Attribution: tatoeba.org #1518705 (ABChessel) & #485534 (minshirui)\n",
            "France is in western Europe.\tफ़्रान्स पश्चिमी यूरोप में है।\tCC-BY 2.0 (France) Attribution: tatoeba.org #34175 (CK) & #485534 (minshirui)\n",
            "He closed the door suddenly.\tउसने अचानक से दरवाज़ा बंद किया।\tCC-BY 2.0 (France) Attribution: tatoeba.org #292414 (CK) & #505353 (minshirui)\n",
            "He could not breathe deeply.\tवह लम्बी सांस नहीं ले पाता था।\tCC-BY 2.0 (France) Attribution: tatoeba.org #299966 (CK) & #588462 (minshirui)\n",
            "He doesn't know how to swim.\tउसको तैरना नहीं आता।\tCC-BY 2.0 (France) Attribution: tatoeba.org #510265 (minshirui) & #510264 (minshirui)\n",
            "He explained the rule to me.\tउसने मुझे वह नियम समझाया।\tCC-BY 2.0 (France) Attribution: tatoeba.org #297555 (CK) & #485914 (minshirui)\n",
            "He is digging his own grave.\tवह अपनी क़ब्र खोद रहा है।\tCC-BY 2.0 (France) Attribution: tatoeba.org #264418 (CM) & #510016 (minshirui)\n",
            "He plays baseball every day.\tवह हर रोज़ बेसबॉल खेलता है।\tCC-BY 2.0 (France) Attribution: tatoeba.org #303925 (CK) & #484098 (minshirui)\n",
            "He prefers French to German.\tउसे फ़्रानसीसी जर्मन से ज़्यादा अच्छी लगती है।\tCC-BY 2.0 (France) Attribution: tatoeba.org #291934 (CK) & #476375 (minshirui)\n",
            "He read this book yesterday.\tउसने यह किताब कल पढ़ी थी।\tCC-BY 2.0 (France) Attribution: tatoeba.org #296874 (CK) & #450405 (minshirui)\n",
            "He repeated his name slowly.\tउसने अपना नाम दोबारा धीरे से बोला।\tCC-BY 2.0 (France) Attribution: tatoeba.org #298854 (CK) & #476297 (minshirui)\n",
            "He treats me like his slave.\tवह मुझसे ग़ुलाम की तरह बर्ताव करता है।\tCC-BY 2.0 (France) Attribution: tatoeba.org #298162 (CK) & #475815 (minshirui)\n",
            "He went there instead of me.\tवह मेरे बजाय वहां गया।\tCC-BY 2.0 (France) Attribution: tatoeba.org #297938 (CK) & #581690 (minshirui)\n",
            "His birthday is August 21st.\tउसका जन्मदिन इक्कीस अगस्त को है।\tCC-BY 2.0 (France) Attribution: tatoeba.org #287129 (CK) & #485834 (minshirui)\n",
            "How long will you stay here?\tआप यहाँ कितने दिन रहेंगे?\tCC-BY 2.0 (France) Attribution: tatoeba.org #16466 (CK) & #517895 (minshirui)\n",
            "I accompanied her on a walk.\tमैं उसके साथ सैर के लिए गया।\tCC-BY 2.0 (France) Attribution: tatoeba.org #261087 (CK) & #491562 (minshirui)\n",
            "I believe you like your job.\tमुझे लगता है कि तुम्हे तुम्हारा काम अच्छा लगता है।\tCC-BY 2.0 (France) Attribution: tatoeba.org #69368 (CM) & #487411 (minshirui)\n",
            "I didn't go out last Sunday.\tमैं पिछले रविवार बाहर नहीं निकला था।\tCC-BY 2.0 (France) Attribution: tatoeba.org #253688 (CK) & #484099 (minshirui)\n",
            "I don't know if he knows it.\tमुझे नहीं पता कि उसको पता है कि नहीं।\tCC-BY 2.0 (France) Attribution: tatoeba.org #259977 (CK) & #457087 (minshirui)\n",
            "I don't know what Tom knows.\tमुझे नहीं पता कि टॉम को क्या पता है।\tCC-BY 2.0 (France) Attribution: tatoeba.org #3538214 (Hybrid) & #3539297 (nurendra)\n",
            "I don't know what they know.\tमुझे नहीं पता कि उन्हें क्या पता है।\tCC-BY 2.0 (France) Attribution: tatoeba.org #3538210 (Hybrid) & #3539300 (nurendra)\n",
            "I explained the rule to him.\tमेने उसे नियम समझाया।\tCC-BY 2.0 (France) Attribution: tatoeba.org #260303 (CK) & #457023 (minshirui)\n",
            "I gave him what money I had.\tमेरे पास जो भी पैसे थे मैंने उसे दे दिए।\tCC-BY 2.0 (France) Attribution: tatoeba.org #260409 (Zifre) & #510272 (minshirui)\n",
            "I had never seen him before.\tमैंने उसे पहले कभी नहीं देखा था।\tCC-BY 2.0 (France) Attribution: tatoeba.org #465618 (minshirui) & #465617 (minshirui)\n",
            "I have just cleaned my room.\tमैंने अपना कमरा अभी अभी साफ़ किया है।\tCC-BY 2.0 (France) Attribution: tatoeba.org #254960 (CK) & #475971 (minshirui)\n",
            "I have seen her three times.\tमैंने उसे तीन बार देखा है।\tCC-BY 2.0 (France) Attribution: tatoeba.org #308645 (CK) & #485811 (minshirui)\n",
            "I have to answer his letter.\tमुझे उसकी चिट्ठी का जवाब देना है।\tCC-BY 2.0 (France) Attribution: tatoeba.org #286630 (CK) & #487253 (minshirui)\n",
            "I met your father yesterday.\tमैं कल तुम्हारे पिताजी से मिला।\tCC-BY 2.0 (France) Attribution: tatoeba.org #257766 (CK) & #486318 (minshirui)\n",
            "I prefer walking to cycling.\tमुझे सायकल चलाना चलने से ज़्यादा पसंद है।\tCC-BY 2.0 (France) Attribution: tatoeba.org #253853 (CK) & #3213689 (anubhav93)\n",
            "I saw him crossing the road.\tमैंने उसे सड़क पार करते हुए देखा।\tCC-BY 2.0 (France) Attribution: tatoeba.org #260129 (CK) & #506533 (minshirui)\n",
            "I will call on him tomorrow.\tमैं कल उससे मिलने जाऊँगा।\tCC-BY 2.0 (France) Attribution: tatoeba.org #261946 (CM) & #457051 (minshirui)\n",
            "I'll be on duty this Sunday.\tमैं इस रविवार को ड्यूटी पर हूँगा।\tCC-BY 2.0 (France) Attribution: tatoeba.org #321818 (CK) & #516664 (minshirui)\n",
            "I'm more beautiful than you.\tमैं तुमसे ज़्यादा खूबसूरत हूँ।\tCC-BY 2.0 (France) Attribution: tatoeba.org #8322917 (CK) & #483859 (minshirui)\n",
            "I'm more beautiful than you.\tमैं तुमसे ज़्यादा सुंदर हूँ।\tCC-BY 2.0 (France) Attribution: tatoeba.org #8322917 (CK) & #483860 (minshirui)\n",
            "I'm sorry, my father is out.\tमाफ़ कीजिएगा, मेरे पापा अभी घर पर नहीं हैं।\tCC-BY 2.0 (France) Attribution: tatoeba.org #71930 (CK) & #509351 (minshirui)\n",
            "Insert it wherever you like.\tजहाँ भी घुसाना है घुसा दो।\tCC-BY 2.0 (France) Attribution: tatoeba.org #483975 (minshirui) & #483974 (minshirui)\n",
            "Iron is a very useful metal.\tलोहा एक बहुत उपयोगी धातु है।\tCC-BY 2.0 (France) Attribution: tatoeba.org #454066 (saasmath) & #484088 (minshirui)\n",
            "Is Spanish spoken in Mexico?\tमेक्सिको में स्पैनिश बोली जाती है क्या?\tCC-BY 2.0 (France) Attribution: tatoeba.org #31833 (CK) & #3538084 (nurendra)\n",
            "Is it about ten million yen?\tतकरीबन दस एक अरब येन होंगे?\tCC-BY 2.0 (France) Attribution: tatoeba.org #27535 (CK) & #487511 (minshirui)\n",
            "Is it hard to speak English?\tअंग्रेज़ी बोलना मुश्किल होता है क्या?\tCC-BY 2.0 (France) Attribution: tatoeba.org #26189 (CK) & #491567 (minshirui)\n",
            "It is a sheer waste of time.\tयह सरासर समय की बर्बादी है।\tCC-BY 2.0 (France) Attribution: tatoeba.org #42273 (CM) & #487423 (minshirui)\n",
            "It was easy for me to do so.\tयह मेरे लिए करना बहुत आसान था।\tCC-BY 2.0 (France) Attribution: tatoeba.org #246486 (CK) & #511712 (minshirui)\n",
            "It was too difficult for me.\tवह मेरे लिए बहुत कठिन था।\tCC-BY 2.0 (France) Attribution: tatoeba.org #42106 (CK) & #516674 (minshirui)\n",
            "It's like a dream come true.\tमानो कोई सपना सच आ गया हो।\tCC-BY 2.0 (France) Attribution: tatoeba.org #322763 (CK) & #450395 (minshirui)\n",
            "Let's cut down our expenses.\tहमें अपने खर्चे कम करने होंगे।\tCC-BY 2.0 (France) Attribution: tatoeba.org #65567 (CK) & #485842 (minshirui)\n",
            "Mary loves going to the spa.\tमेरी को स्पा जाना पसंद है।\tCC-BY 2.0 (France) Attribution: tatoeba.org #1495202 (Spamster) & #3225315 (anubhav93)\n",
            "My jeans shrank in the wash.\tमेरी जीन्स पैंट धुलाई में सिकुड़ गई।\tCC-BY 2.0 (France) Attribution: tatoeba.org #250332 (CK) & #459412 (minshirui)\n",
            "Nine players make up a team.\tनौ खिलाड़ी एक टीम बनाते हैं।\tCC-BY 2.0 (France) Attribution: tatoeba.org #73232 (CM) & #8938137 (simranbansal)\n",
            "No answer is also an answer.\tजवाब न देना भी एक तरह का जवाब होता है।\tCC-BY 2.0 (France) Attribution: tatoeba.org #320371 (CM) & #491582 (minshirui)\n",
            "No one can move the big box.\tउस बड़े डब्बे को कोई भी नहीं हिला सकता।\tCC-BY 2.0 (France) Attribution: tatoeba.org #276598 (CK) & #482420 (minshirui)\n",
            "Nobody answered my question.\tकिसी ने भी मेरे सवाल का जवाब नहीं दिया।\tCC-BY 2.0 (France) Attribution: tatoeba.org #276626 (CK) & #487480 (minshirui)\n",
            "Nobody else offered to help.\tकिसी और ने मदद करने की इच्छा प्रकट नहीं करी।\tCC-BY 2.0 (France) Attribution: tatoeba.org #25933 (CK) & #516662 (minshirui)\n",
            "Please give me a cup of tea.\tमुझे एक कप चाय दीजिए।\tCC-BY 2.0 (France) Attribution: tatoeba.org #64198 (CK) & #498188 (minshirui)\n",
            "Please speak in a low voice.\tकृपया धीमी आवाज़ में बात कीजिए।\tCC-BY 2.0 (France) Attribution: tatoeba.org #267607 (CM) & #498224 (minshirui)\n",
            "Please speak in a low voice.\tकृपया हल्की आवाज़ में बात कीजिए।\tCC-BY 2.0 (France) Attribution: tatoeba.org #267607 (CM) & #498225 (minshirui)\n",
            "See what's going on outside.\tदेखो बाहर क्या हो रहा है।\tCC-BY 2.0 (France) Attribution: tatoeba.org #456661 (lukaszpp) & #498176 (minshirui)\n",
            "She allowed him to go alone.\tउसने उसको अकेले जाने दिया।\tCC-BY 2.0 (France) Attribution: tatoeba.org #27654 (CK) & #485873 (minshirui)\n",
            "She declined the invitation.\tउसने आमंत्रण को स्वीकार नहीं किया।\tCC-BY 2.0 (France) Attribution: tatoeba.org #311304 (CK) & #477699 (minshirui)\n",
            "She dialed the wrong number.\tउसने गलत नम्बर मिला डाला।\tCC-BY 2.0 (France) Attribution: tatoeba.org #313071 (CK) & #516809 (minshirui)\n",
            "She said that she was happy.\tउसने कहा कि वह खुश थी।\tCC-BY 2.0 (France) Attribution: tatoeba.org #240778 (CK) & #516801 (minshirui)\n",
            "She saved a hundred dollars.\tउसने सौ डॉलर बचा लिए।\tCC-BY 2.0 (France) Attribution: tatoeba.org #310048 (CK) & #477742 (minshirui)\n",
            "She was robbed of her purse.\tउसका पर्स उससे चुरा लिया गया।\tCC-BY 2.0 (France) Attribution: tatoeba.org #313801 (CK) & #483796 (minshirui)\n",
            "She wears her hair in a bun.\tवह अपने बालों को जूड़े में बाँधती है।\tCC-BY 2.0 (France) Attribution: tatoeba.org #316183 (CK) & #516784 (minshirui)\n",
            "Smoking is not allowed here.\tयहाँ धूम्रपान करना मना है।\tCC-BY 2.0 (France) Attribution: tatoeba.org #61982 (CK) & #463399 (minshirui)\n",
            "Soldiers are used to danger.\tसिपाहियों को खतरे से खेलने की आदत होती है।\tCC-BY 2.0 (France) Attribution: tatoeba.org #320102 (CK) & #588455 (minshirui)\n",
            "Someone knocked on the door.\tकिसी ने दरवाज़े पर खटखटाया।\tCC-BY 2.0 (France) Attribution: tatoeba.org #276122 (CK) & #491677 (minshirui)\n",
            "Spanish is spoken in Mexico.\tमेक्सिको में स्पैनिश बोली जाती है।\tCC-BY 2.0 (France) Attribution: tatoeba.org #31834 (CK) & #3538104 (nurendra)\n",
            "Speaking English isn't easy.\tअंग्रेज़ी बोलना आसान नहीं है।\tCC-BY 2.0 (France) Attribution: tatoeba.org #400395 (CK) & #588537 (minshirui)\n",
            "Stand still and keep silent.\tशांति से खड़े रहो।\tCC-BY 2.0 (France) Attribution: tatoeba.org #53458 (CK) & #486251 (minshirui)\n",
            "Take off your socks, please.\tअपने मोज़े उतारिए।\tCC-BY 2.0 (France) Attribution: tatoeba.org #18086 (CK) & #505435 (minshirui)\n",
            "Ten houses were burned down.\tदस घर जलकर राख हो गए।\tCC-BY 2.0 (France) Attribution: tatoeba.org #73440 (CK) & #588461 (minshirui)\n",
            "Thank you for the other day.\tउस दिन के लिए बहुत बहुत धन्यवाद।\tCC-BY 2.0 (France) Attribution: tatoeba.org #273101 (CK) & #509376 (minshirui)\n",
            "Thank you very much, doctor.\tडॉक्टर साहब, आपका बहुत बहुत धन्यवाद।\tCC-BY 2.0 (France) Attribution: tatoeba.org #272773 (CK) & #477725 (minshirui)\n",
            "That town is two miles away.\tवह नगर दो मील दूर है।\tCC-BY 2.0 (France) Attribution: tatoeba.org #45061 (CK) & #516769 (minshirui)\n",
            "That town is two miles away.\tवह नगर दो मील की दूरी पर है।\tCC-BY 2.0 (France) Attribution: tatoeba.org #45061 (CK) & #516770 (minshirui)\n",
            "That's no business of yours.\tइसका तुमसे कोई लेना-देना नहीं है।\tCC-BY 2.0 (France) Attribution: tatoeba.org #9955988 (CK) & #505260 (minshirui)\n",
            "The Japanese have dark eyes.\tजापानियों की आँखें कालीं होतीं हैं।\tCC-BY 2.0 (France) Attribution: tatoeba.org #281775 (CK) & #588452 (minshirui)\n",
            "The hot water isn't running.\tगरम पानी नहीं चल रहा है।\tCC-BY 2.0 (France) Attribution: tatoeba.org #64148 (CK) & #485539 (minshirui)\n",
            "The room smelled of tobacco.\tकमरे में तम्बाकू की महक थी।\tCC-BY 2.0 (France) Attribution: tatoeba.org #507759 (CM) & #483879 (minshirui)\n",
            "The store is not open today.\tदुकान आज बंद है।\tCC-BY 2.0 (France) Attribution: tatoeba.org #44879 (CK) & #506540 (minshirui)\n",
            "The store is not open today.\tदुकान आज खुली नहीं है।\tCC-BY 2.0 (France) Attribution: tatoeba.org #44879 (CK) & #506541 (minshirui)\n",
            "There is a book on the desk.\tमेज़ पर किताब है।\tCC-BY 2.0 (France) Attribution: tatoeba.org #20551 (CK) & #451286 (minshirui)\n",
            "They are both good teachers.\tवे दोनों अच्छे अध्यापक हैं।\tCC-BY 2.0 (France) Attribution: tatoeba.org #305418 (CK) & #516715 (minshirui)\n",
            "This house has eleven rooms.\tइस मकान में ग्यारह कमरे हैं।\tCC-BY 2.0 (France) Attribution: tatoeba.org #60178 (CK) & #517902 (minshirui)\n",
            "This must be a real diamond.\tयह असली हीरा होगा।\tCC-BY 2.0 (France) Attribution: tatoeba.org #55391 (CK) & #484110 (minshirui)\n",
            "Today I turn four years old.\tआज मैं चार साल का हो गया हूँ।\tCC-BY 2.0 (France) Attribution: tatoeba.org #464254 (lukaszpp) & #487437 (minshirui)\n",
            "Tom isn't able to drive yet.\tटॉम अभी गाड़ी नहीं चला सकता।\tCC-BY 2.0 (France) Attribution: tatoeba.org #1024730 (CK) & #3212881 (anubhav93)\n",
            "Tom saved her from the fire.\tटॉम ने उसे आग से बचा लिया।\tCC-BY 2.0 (France) Attribution: tatoeba.org #37031 (CK) & #3987681 (mishigun)\n",
            "We drink our tea with sugar.\tहम चाय चीनी के साथ लेते हैं।\tCC-BY 2.0 (France) Attribution: tatoeba.org #490841 (CM) & #511721 (minshirui)\n",
            "We drink our tea with sugar.\tहम चाय चीनी डालकर पीते हैं।\tCC-BY 2.0 (France) Attribution: tatoeba.org #490841 (CM) & #511723 (minshirui)\n",
            "We really enjoyed ourselves.\tहमने बड़ी मौज करी।\tCC-BY 2.0 (France) Attribution: tatoeba.org #435426 (CK) & #588512 (minshirui)\n",
            "We were next-door neighbors.\tहम पड़ोसी हुआ करते थे।\tCC-BY 2.0 (France) Attribution: tatoeba.org #249497 (CK) & #491011 (minshirui)\n",
            "What have you come here for?\tतुम यहाँ क्यों आए हो?\tCC-BY 2.0 (France) Attribution: tatoeba.org #16501 (CK) & #484103 (minshirui)\n",
            "What have you come here for?\tआप लोग यहाँ क्या करने के लिए आए हैं?\tCC-BY 2.0 (France) Attribution: tatoeba.org #16501 (CK) & #484104 (minshirui)\n",
            "Where is the south terminal?\tदक्षिण टर्मिनल कहाँ पर है?\tCC-BY 2.0 (France) Attribution: tatoeba.org #280796 (CK) & #516646 (minshirui)\n",
            "Where would you like to sit?\tआप कहाँ बैठना चाहेंगे?\tCC-BY 2.0 (France) Attribution: tatoeba.org #272100 (CK) & #443031 (minshirui)\n",
            "Why don't you come visit us?\tतुम हमसे मिलने क्यों नहीं आते?\tCC-BY 2.0 (France) Attribution: tatoeba.org #1439 (LittleBoy) & #450964 (minshirui)\n",
            "Would you like to go abroad?\tतुम विदेश जाना चाहती हो क्या?\tCC-BY 2.0 (France) Attribution: tatoeba.org #16238 (CK) & #498236 (minshirui)\n",
            "You look nice in that dress.\tतुम उस ड्रेस में अच्छी लगती हो।\tCC-BY 2.0 (France) Attribution: tatoeba.org #50150 (CK) & #487197 (minshirui)\n",
            "Always keep your office tidy.\tअपने दफ़्तर को हमेशा साफ़-सुथरा रखना चाहिए।\tCC-BY 2.0 (France) Attribution: tatoeba.org #66079 (CM) & #495923 (minshirui)\n",
            "Are they Japanese or Chinese?\tवे जापानी हैं या चीनी?\tCC-BY 2.0 (France) Attribution: tatoeba.org #307283 (CK) & #491669 (minshirui)\n",
            "Are you meeting someone here?\tतुम यहाँ किसी से मिल रहे हो क्या?\tCC-BY 2.0 (France) Attribution: tatoeba.org #15909 (CK) & #498567 (minshirui)\n",
            "Brush your teeth after meals.\tखाना खाने के बाद दाँतों को साफ़ करो।\tCC-BY 2.0 (France) Attribution: tatoeba.org #268690 (CK) & #446271 (minshirui)\n",
            "Brush your teeth after meals.\tखाना खाने के बाद दाँतों को ब्रश करो।\tCC-BY 2.0 (France) Attribution: tatoeba.org #268690 (CK) & #446272 (minshirui)\n",
            "Correct the underlined words.\tरेखांकित शब्दों को सुधारिए।\tCC-BY 2.0 (France) Attribution: tatoeba.org #25359 (CK) & #581752 (minshirui)\n",
            "Do you have any tickets left?\tतुम्हारे पास टिकटें बचीं हैं क्या?\tCC-BY 2.0 (France) Attribution: tatoeba.org #40231 (CK) & #510278 (minshirui)\n",
            "Do you have to make a speech?\tतुम्हे भाषण देना होगा क्या?\tCC-BY 2.0 (France) Attribution: tatoeba.org #246621 (CK) & #485925 (minshirui)\n",
            "Do you know what he has done?\tक्या आपको पता है उसने क्या किया है?\tCC-BY 2.0 (France) Attribution: tatoeba.org #283418 (CK) & #476364 (minshirui)\n",
            "Don't lean against this wall.\tइस दीवार पर मत झुँको।\tCC-BY 2.0 (France) Attribution: tatoeba.org #57214 (CK) & #491714 (minshirui)\n",
            "English is spoken in America.\tअमेरिका में अंग्रेजी बोली जाती है।\tCC-BY 2.0 (France) Attribution: tatoeba.org #26300 (CK) & #3538107 (nurendra)\n",
            "Football is my favorite game.\tफ़ुटबॉल मेरा सबसे पसंदीता खेल है।\tCC-BY 2.0 (France) Attribution: tatoeba.org #34330 (CK) & #483865 (minshirui)\n",
            "Have you ever been to Africa?\tतुम कभी अफ़्रीका गए हुए हो क्या?\tCC-BY 2.0 (France) Attribution: tatoeba.org #67754 (CK) & #457088 (minshirui)\n",
            "Have you ever been to Africa?\tआप कभी अफ़्रीका गए हुए हैं क्या?\tCC-BY 2.0 (France) Attribution: tatoeba.org #67754 (CK) & #457089 (minshirui)\n",
            "Have you ever been to Canada?\tतुम कभी कनाडा गए हो क्या?\tCC-BY 2.0 (France) Attribution: tatoeba.org #63642 (CK) & #484039 (minshirui)\n",
            "Have you ever written a book?\tआपने कभी किताब लिखी है क्या?\tCC-BY 2.0 (France) Attribution: tatoeba.org #322090 (CK) & #465607 (minshirui)\n",
            "Have your roses come out yet?\tतुम्हारे गुलाब खिल गए हैं क्या?\tCC-BY 2.0 (France) Attribution: tatoeba.org #70871 (CK) & #475767 (minshirui)\n",
            "He came to see you yesterday.\tवह कल तुमसे मिलने आया था।\tCC-BY 2.0 (France) Attribution: tatoeba.org #283672 (CK) & #581306 (minshirui)\n",
            "He changed schools last year.\tउसने पिछले साल स्कूल बदला था।\tCC-BY 2.0 (France) Attribution: tatoeba.org #296931 (CK) & #487510 (minshirui)\n",
            "He doesn't have long to live.\tउसके पास जीने के लिए ज़्यादा समय नहीं है।\tCC-BY 2.0 (France) Attribution: tatoeba.org #68113 (CK) & #516692 (minshirui)\n",
            "He eats lunch at a cafeteria.\tवह कैनटीन में लन्च खाता है।\tCC-BY 2.0 (France) Attribution: tatoeba.org #289576 (CK) & #491309 (minshirui)\n",
            "He is good at playing tennis.\tवह टेनिस अच्छा खेलता है।\tCC-BY 2.0 (France) Attribution: tatoeba.org #291860 (CK) & #483965 (minshirui)\n",
            "He pulled his son by the ear.\tउसने अपने बेटे को कान से पकड़ कर खींचा।\tCC-BY 2.0 (France) Attribution: tatoeba.org #300976 (CK) & #609408 (minshirui)\n",
            "He set fire to his own house.\tउसने अपने ही घर को आग लगा दी।\tCC-BY 2.0 (France) Attribution: tatoeba.org #298640 (CK) & #590006 (minshirui)\n",
            "He wants these shirts washed.\tउसे ये कमीज़ें धुलवानीं हैं।\tCC-BY 2.0 (France) Attribution: tatoeba.org #289983 (CK) & #480212 (minshirui)\n",
            "He wishes to become a doctor.\tउसकी डॉक्टर बनने की अभिलाषा है।\tCC-BY 2.0 (France) Attribution: tatoeba.org #293625 (CK) & #477715 (minshirui)\n",
            "He's out of town on business.\tवे काम से शहर से बाहर गए हुएँ हैं।\tCC-BY 2.0 (France) Attribution: tatoeba.org #241788 (CK) & #485781 (minshirui)\n",
            "His clothes always smell bad.\tउसके कपड़े हमेशा बदबू करतें हैं।\tCC-BY 2.0 (France) Attribution: tatoeba.org #287469 (CK) & #611427 (minshirui)\n",
            "His long speech bored us all.\tउसका लम्बा भाषण सुनकर हम सब बोर हो गए।\tCC-BY 2.0 (France) Attribution: tatoeba.org #287159 (CK) & #487234 (minshirui)\n",
            "His memory will live forever.\tउसकी यादें हमेशा जीवित रहेंगी।\tCC-BY 2.0 (France) Attribution: tatoeba.org #805849 (Zifre) & #8889385 (simranbansal)\n",
            "How did you come to know her?\tतुम उसे कैसे जानते थे?\tCC-BY 2.0 (France) Attribution: tatoeba.org #16493 (CK) & #506444 (minshirui)\n",
            "I advise you to stop smoking.\tमेरे ख़याल से तुम्हे सिगरेट पीना छोड़ देना चहिए।\tCC-BY 2.0 (France) Attribution: tatoeba.org #18816 (CK) & #455235 (minshirui)\n",
            "I advise you to stop smoking.\tमैं तुम्हे सिगरेट पीना छोड़ देने की सलाह देना चाह्ता हूँ।\tCC-BY 2.0 (France) Attribution: tatoeba.org #18816 (CK) & #455236 (minshirui)\n",
            "I agree with you to a degree.\tमैं तुम्हारे साथ एक हद तक सहमत हूँ।\tCC-BY 2.0 (France) Attribution: tatoeba.org #20595 (CK) & #491668 (minshirui)\n",
            "I am pleased with the result.\tमैं नतीजे से खुश हूँ।\tCC-BY 2.0 (France) Attribution: tatoeba.org #48401 (CK) & #590029 (minshirui)\n",
            "I bought two bottles of milk.\tमैंने दूध की दो बोतलें ख़रीदीं।\tCC-BY 2.0 (France) Attribution: tatoeba.org #19458 (CK) & #452400 (minshirui)\n",
            "I can't allow you to do that.\tमैं तुम्हें यह करने नहीं दे सकता।\tCC-BY 2.0 (France) Attribution: tatoeba.org #18018 (CK) & #516663 (minshirui)\n",
            "I can't really talk about it.\tमैं उस बारे में कुछ बोल नहीं सकता।\tCC-BY 2.0 (France) Attribution: tatoeba.org #1954750 (CK) & #3216527 (anubhav93)\n",
            "I didn't want this to happen.\tमैं नहीं चाहता था कि ऐसा हो।\tCC-BY 2.0 (France) Attribution: tatoeba.org #1446 (CK) & #561263 (minshirui)\n",
            "I don't feel like eating now.\tमुझे अभी खाना खाने का मन नहीं है।\tCC-BY 2.0 (France) Attribution: tatoeba.org #241836 (CK) & #459429 (minshirui)\n",
            "I don't like to drink coffee.\tमुझे कॉफ़ी पीना पसंद नहीं।\tCC-BY 2.0 (France) Attribution: tatoeba.org #997882 (NickC) & #3216241 (anubhav93)\n",
            "I followed the deer's tracks.\tमैंने हिरण के पैरों के निशानों का पीछा किया।\tCC-BY 2.0 (France) Attribution: tatoeba.org #253876 (CK) & #505325 (minshirui)\n",
            "I gave up smoking for a year.\tमैंने एक साल के लिए सिगरेट पीना छोड़ दिया था।\tCC-BY 2.0 (France) Attribution: tatoeba.org #33548 (CK) & #477718 (minshirui)\n",
            "I have a bad pain in my back.\tमुझे पीठ में बुरी तरह से दर्द हो रहा है।\tCC-BY 2.0 (France) Attribution: tatoeba.org #259909 (CK) & #516782 (minshirui)\n",
            "I informed her of my success.\tमैंने उसको अपनी कामयाबी के बारे में बताया।\tCC-BY 2.0 (France) Attribution: tatoeba.org #261185 (CM) & #491785 (minshirui)\n",
            "I like both science and math.\tमुझे विज्ञान और गणित दोनों पसंद हैं।\tCC-BY 2.0 (France) Attribution: tatoeba.org #262182 (CK) & #465651 (minshirui)\n",
            "I mentioned your name to him.\tमैंने उसके साथ तुम्हारा नाम लिया था।\tCC-BY 2.0 (France) Attribution: tatoeba.org #285048 (CK) & #491810 (minshirui)\n",
            "I really don't need any help.\tमुझे सच में किसी की भी मदद की ज़रूरत नहीं है।\tCC-BY 2.0 (France) Attribution: tatoeba.org #4779063 (garborg) & #8889334 (simranbansal)\n",
            "I wanted Tom to study harder.\tमैं चाहता था कि टॉम ज़्यादा पढ़ाई करे।\tCC-BY 2.0 (France) Attribution: tatoeba.org #8320922 (CK) & #9013188 (simranbansal)\n",
            "I was laughed at by everyone.\tसब लोग मुझपर हँसे।\tCC-BY 2.0 (France) Attribution: tatoeba.org #255696 (CK) & #485543 (minshirui)\n",
            "I went there dozens of times.\tमैं वहाँ दसियों बार जा चुका हूँ।\tCC-BY 2.0 (France) Attribution: tatoeba.org #256435 (CK) & #485854 (minshirui)\n",
            "I worked on the farm all day.\tमैंने पूरे दिन खेत में काम किया।\tCC-BY 2.0 (France) Attribution: tatoeba.org #487163 (CK) & #487164 (minshirui)\n",
            "I'm anxious about his safety.\tमैं उसकी सुरक्षा के लिए परेशान हूँ।\tCC-BY 2.0 (France) Attribution: tatoeba.org #285479 (CM) & #506496 (minshirui)\n",
            "I'm catching the 11:00 train.\tमैं ग्यारह बजे की ट्रेन पकड़ रहा हूँ।\tCC-BY 2.0 (France) Attribution: tatoeba.org #73353 (CK) & #455595 (minshirui)\n",
            "It appears that he is honest.\tवह ईमानदार लगता है।\tCC-BY 2.0 (France) Attribution: tatoeba.org #239279 (U2FS) & #491829 (minshirui)\n",
            "It was her fate to die young.\tछोटी उम्र में मरना उसके भाग्य में था।\tCC-BY 2.0 (France) Attribution: tatoeba.org #273995 (CK) & #484112 (minshirui)\n",
            "It's an answer to her letter.\tयह उसकी चिट्ठी का जवाब है।\tCC-BY 2.0 (France) Attribution: tatoeba.org #42153 (CM) & #491854 (minshirui)\n",
            "It's no use arguing with him.\tउससे बहस करने में कोई फ़ायदा नहीं है।\tCC-BY 2.0 (France) Attribution: tatoeba.org #284457 (CK) & #482456 (minshirui)\n",
            "Keep down, or you'll be shot.\tनीचे रहो, नहीं तो तुम्हें गोली लग जाएगी।\tCC-BY 2.0 (France) Attribution: tatoeba.org #319811 (CM) & #485970 (minshirui)\n",
            "Most people like watching TV.\tज़्यादातर लोगों को टीवी देखना अच्छा लगता है।\tCC-BY 2.0 (France) Attribution: tatoeba.org #41181 (CK) & #516709 (minshirui)\n",
            "My brother has a good memory.\tमेरे भाई की याददाश्त अच्छी है।\tCC-BY 2.0 (France) Attribution: tatoeba.org #528511 (fanty) & #485832 (minshirui)\n",
            "My father has just come home.\tमेरे पापा अभी अभी घर वापस आएँ हैं।\tCC-BY 2.0 (France) Attribution: tatoeba.org #319018 (CK) & #484046 (minshirui)\n",
            "My grandmother speaks slowly.\tमेरी नानी धीरे-धीरे बोलतीं हैं।\tCC-BY 2.0 (France) Attribution: tatoeba.org #273903 (CK) & #491780 (minshirui)\n",
            "My hobby is collecting coins.\tसिक्कों को इकट्ठा करना मेरा शौक है।\tCC-BY 2.0 (France) Attribution: tatoeba.org #251129 (CK) & #509354 (minshirui)\n",
            "My telephone is out of order.\tमेरा फ़ोन खराब है।\tCC-BY 2.0 (France) Attribution: tatoeba.org #251541 (CK) & #506575 (minshirui)\n",
            "Now they have three children.\tअब उनके तीन बच्चे हैं।\tCC-BY 2.0 (France) Attribution: tatoeba.org #305516 (CK) & #510261 (minshirui)\n",
            "One language is never enough.\tएक भाषा कभी काफ़ी नहीं होती।\tCC-BY 2.0 (France) Attribution: tatoeba.org #614312 (Eldad) & #485502 (minshirui)\n",
            "Please make yourself at home.\tइसको अपना घर ही समझो।\tCC-BY 2.0 (France) Attribution: tatoeba.org #20334 (CK) & #487513 (minshirui)\n",
            "Please make yourself at home.\tइसको अपना घर ही समझिए।\tCC-BY 2.0 (France) Attribution: tatoeba.org #20334 (CK) & #487515 (minshirui)\n",
            "Please show me your notebook.\tमुझे अपनी कौपी दिखाईए।\tCC-BY 2.0 (France) Attribution: tatoeba.org #70869 (CK) & #465610 (minshirui)\n",
            "Please wait for five minutes.\tकृपया पाँच मिनट इंतेज़ार करें।\tCC-BY 2.0 (France) Attribution: tatoeba.org #72479 (CK) & #511178 (minshirui)\n",
            "Say which one you would like.\tबोलो तुम्हे कौनसा चाहिए।\tCC-BY 2.0 (France) Attribution: tatoeba.org #37998 (minshirui) & #486328 (minshirui)\n",
            "She died yesterday afternoon.\tउनकी मौत कल दोपहर को हुई थी।\tCC-BY 2.0 (France) Attribution: tatoeba.org #313816 (CK) & #505090 (minshirui)\n",
            "She will be back before long.\tवह थोड़ी देर में ही वापस आ जाएगी।\tCC-BY 2.0 (France) Attribution: tatoeba.org #312183 (CK) & #477730 (minshirui)\n",
            "Stop beating around the bush.\tघूमफिरकर बात मत करो, सीधे-सीधे बोलो।\tCC-BY 2.0 (France) Attribution: tatoeba.org #32308 (sacredceltic) & #505266 (minshirui)\n",
            "Tea is widely grown in India.\tचाय भारत में बहुत उगाई जाती है।\tCC-BY 2.0 (France) Attribution: tatoeba.org #277425 (CM) & #487738 (minshirui)\n",
            "That's because you're a girl.\tइसलिए क्योंकि तुम लड़की हो।\tCC-BY 2.0 (France) Attribution: tatoeba.org #1348 (CK) & #505436 (minshirui)\n",
            "The apple has begun to decay.\tवह सेव सड़ने लगा है।\tCC-BY 2.0 (France) Attribution: tatoeba.org #49726 (Eldad) & #483931 (minshirui)\n",
            "The capital of Italy is Rome.\tइटली की राजधानी रोम है।\tCC-BY 2.0 (France) Attribution: tatoeba.org #66434 (CK) & #505082 (minshirui)\n",
            "The car hit a telephone pole.\tगाड़ी फ़ोन के खम्बे से जाकर भिड़ पड़ी।\tCC-BY 2.0 (France) Attribution: tatoeba.org #265568 (CK) & #611447 (minshirui)\n",
            "The cliff is almost vertical.\tचट्टान लगभग बिलकुल सीधी है।\tCC-BY 2.0 (France) Attribution: tatoeba.org #48970 (CK) & #498216 (minshirui)\n",
            "The girl did nothing but cry.\tउस लड़की ने रोने के अलावा और कुछ नहीं किया।\tCC-BY 2.0 (France) Attribution: tatoeba.org #46454 (CK) & #450368 (minshirui)\n",
            "The horse is a useful animal.\tघोड़ा बड़े काम का जानवर है।\tCC-BY 2.0 (France) Attribution: tatoeba.org #282392 (CM) & #498197 (minshirui)\n",
            "The king crushed his enemies.\tराजा ने अपने दुश्मनों को कुचल दिया।\tCC-BY 2.0 (France) Attribution: tatoeba.org #25632 (CK) & #588444 (minshirui)\n",
            "The monkey climbed up a tree.\tबंदर पेड़ पर चढ़ा।\tCC-BY 2.0 (France) Attribution: tatoeba.org #50347 (CK) & #485520 (minshirui)\n",
            "The population is increasing.\tआबादी बढ़ रही है।\tCC-BY 2.0 (France) Attribution: tatoeba.org #270349 (CK) & #510010 (minshirui)\n",
            "The population is increasing.\tजनसंख्या बढ़ रही है।\tCC-BY 2.0 (France) Attribution: tatoeba.org #270349 (CK) & #510011 (minshirui)\n",
            "The ship set sail for Bombay.\tजहाज़ बमबई के लिए रवाना हुआ।\tCC-BY 2.0 (France) Attribution: tatoeba.org #273427 (CM) & #487588 (minshirui)\n",
            "The train ran off the tracks.\tट्रेन पटरी से उतर गई।\tCC-BY 2.0 (France) Attribution: tatoeba.org #326246 (CK) & #480322 (minshirui)\n",
            "There is a desk in this room.\tइस कमरे में मेज़ है।\tCC-BY 2.0 (France) Attribution: tatoeba.org #57344 (CK) & #484105 (minshirui)\n",
            "There's a cat under the desk.\tमेज़ के नीचे एक बिल्ली है।\tCC-BY 2.0 (France) Attribution: tatoeba.org #9013940 (CK) & #455231 (minshirui)\n",
            "They abandoned their country.\tउन्होंने अपने देश को त्याग दिया।\tCC-BY 2.0 (France) Attribution: tatoeba.org #306480 (Eldad) & #505110 (minshirui)\n",
            "They are talking about music.\tवे संगीत के बारे में बात कर रहे हैं।\tCC-BY 2.0 (France) Attribution: tatoeba.org #306212 (CK) & #515439 (minshirui)\n",
            "They resolved to work harder.\tउन्होंने ज़्यादा मेहनत से काम करने का इरादा किया।\tCC-BY 2.0 (France) Attribution: tatoeba.org #306091 (CM) & #450334 (minshirui)\n",
            "This was Rodica's fifth book.\tयह रोडिका की पाँचवी किताब थी।\tCC-BY 2.0 (France) Attribution: tatoeba.org #408089 (Dorenda) & #514047 (minshirui)\n",
            "Tom has a house in Australia.\tटॉम का ऑस्ट्रेलिया में एक घर है।\tCC-BY 2.0 (France) Attribution: tatoeba.org #7181134 (CK) & #9012779 (simranbansal)\n",
            "Tom wants to leave the house.\tटॉम घर छोड़ना चाहता है।\tCC-BY 2.0 (France) Attribution: tatoeba.org #8878958 (CK) & #8879558 (simranbansal)\n",
            "Tom's fever is getting worse.\tटॉम का बुखार बढ़ता जा रहा है।\tCC-BY 2.0 (France) Attribution: tatoeba.org #682487 (Source_VOA) & #8889279 (simranbansal)\n",
            "Wash your hands before meals.\tखाना खाने से पहले अपने हाथ धोओ।\tCC-BY 2.0 (France) Attribution: tatoeba.org #268719 (Barbiche0) & #480265 (minshirui)\n",
            "We should love our neighbors.\tहमे पड़ोसियों के साथ प्रेमपूर्वक रहना चहिए।\tCC-BY 2.0 (France) Attribution: tatoeba.org #29078 (CK) & #450963 (minshirui)\n",
            "When are you going to Europe?\tतुम यूरोप कब जा रहे हो?\tCC-BY 2.0 (France) Attribution: tatoeba.org #66046 (CK) & #476274 (minshirui)\n",
            "When did the accident happen?\tहादसा कब हुआ?\tCC-BY 2.0 (France) Attribution: tatoeba.org #47126 (CK) & #515428 (minshirui)\n",
            "When did the accident happen?\tघटना कब हुई?\tCC-BY 2.0 (France) Attribution: tatoeba.org #47126 (CK) & #515429 (minshirui)\n",
            "Won't you join us for dinner?\tहमारे साथ (रात का) खाना खाएँगे ना?\tCC-BY 2.0 (France) Attribution: tatoeba.org #262531 (CK) & #514147 (minshirui)\n",
            "You must send for the doctor.\tतुम्हें डॉक्टर बुलाना होगा।\tCC-BY 2.0 (France) Attribution: tatoeba.org #27904 (CK) & #482438 (minshirui)\n",
            "You should've come yesterday.\tतुम्हे कल आना चाहिए था।\tCC-BY 2.0 (France) Attribution: tatoeba.org #5651761 (CK) & #509375 (minshirui)\n",
            "You should've seen the movie.\tतुम्हें फ़िल्म देखनी चहिए थी।\tCC-BY 2.0 (France) Attribution: tatoeba.org #7805501 (CK) & #449353 (minshirui)\n",
            "Are you interested in flowers?\tतुम्हें फूलों में दिलचस्पी है क्या?\tCC-BY 2.0 (France) Attribution: tatoeba.org #69540 (CK) & #476403 (minshirui)\n",
            "Can you teach me how to steal?\tक्या तुम मुझे चोरी करना सिखा सकते हो?\tCC-BY 2.0 (France) Attribution: tatoeba.org #383330 (MUIRIEL) & #443086 (minshirui)\n",
            "Could I please use your phone?\tमैं आपका फ़ोन इस्तेमाल कर सकता हूँ क्या?\tCC-BY 2.0 (France) Attribution: tatoeba.org #453601 (CM) & #491862 (minshirui)\n",
            "Do you live with your parents?\tक्या तुम अपने मम्मी-पापा के साथ रहते हो?\tCC-BY 2.0 (France) Attribution: tatoeba.org #440064 (Clavain) & #516711 (minshirui)\n",
            "Don't go back on your promise.\tअपना वादा मत तोड़ो।\tCC-BY 2.0 (France) Attribution: tatoeba.org #324215 (CM) & #450398 (minshirui)\n",
            "Excuse me, is this seat taken?\tमाफ़ कीजिएगा, यहाँ कोई बैठा हुआ है क्या?\tCC-BY 2.0 (France) Attribution: tatoeba.org #51498 (CK) & #509985 (minshirui)\n",
            "Few people live on the island.\tइस द्वीप पर बहुत कम लोग रहते हैं।\tCC-BY 2.0 (France) Attribution: tatoeba.org #44750 (CM) & #465654 (minshirui)\n",
            "Half of the apples are rotten.\tआधे सेव सड़ चुके हैं।\tCC-BY 2.0 (France) Attribution: tatoeba.org #29627 (CK) & #487231 (minshirui)\n",
            "He concealed the fact from me.\tउसने मुझसे वह बात छिपाई।\tCC-BY 2.0 (France) Attribution: tatoeba.org #290926 (CK) & #486021 (minshirui)\n",
            "He did it as he had been told.\tउसने वैसा करा जैसे उसे बताया गया था।\tCC-BY 2.0 (France) Attribution: tatoeba.org #296099 (CK) & #561274 (minshirui)\n",
            "He is accustomed to hard work.\tउसे मेहनत करने की आदत है।\tCC-BY 2.0 (France) Attribution: tatoeba.org #299367 (CK) & #609431 (minshirui)\n",
            "He looked into the boy's eyes.\tउसने लड़के की आँखों में देखा।\tCC-BY 2.0 (France) Attribution: tatoeba.org #291028 (CK) & #505140 (minshirui)\n",
            "He made many costly purchases.\tउसने बहुत सी महंगी चीज़ें खरीदीं।\tCC-BY 2.0 (France) Attribution: tatoeba.org #301367 (CM) & #561273 (minshirui)\n",
            "He spread butter on the bread.\tउसने मक्खन को ब्रेड पर लगाया।\tCC-BY 2.0 (France) Attribution: tatoeba.org #292464 (CK) & #483808 (minshirui)\n",
            "He took advantage of my youth.\tउसने मेरे जवान होने का फ़ायदा उठाया।\tCC-BY 2.0 (France) Attribution: tatoeba.org #297970 (CM) & #492259 (minshirui)\n",
            "He took advantage of my youth.\tउसने मेरी जवानी का फ़ायदा उठाया।\tCC-BY 2.0 (France) Attribution: tatoeba.org #297970 (CM) & #492260 (minshirui)\n",
            "He was walking toward the sea.\tवह समुंदर की ओर चल रहा था।\tCC-BY 2.0 (France) Attribution: tatoeba.org #294672 (CK) & #485956 (minshirui)\n",
            "He went to New York on Monday.\tवह सोमवार को न्यूयॉर्क चला गया।\tCC-BY 2.0 (France) Attribution: tatoeba.org #295916 (CK) & #476333 (minshirui)\n",
            "He will return within 3 hours.\tवह तीन घंटों में वापस आएगा।\tCC-BY 2.0 (France) Attribution: tatoeba.org #288540 (CK) & #505066 (minshirui)\n",
            "How about going to the movies?\tफ़िल्म देखने चलें क्या?\tCC-BY 2.0 (France) Attribution: tatoeba.org #26445 (CK) & #450418 (minshirui)\n",
            "How long have you been abroad?\tआप विदेश में कबसे हैं?\tCC-BY 2.0 (France) Attribution: tatoeba.org #37600 (CK) & #3216505 (anubhav93)\n",
            "How long have you been abroad?\tआप विदेश में किता समय रहे हैं?\tCC-BY 2.0 (France) Attribution: tatoeba.org #37600 (CK) & #3216506 (anubhav93)\n",
            "How was the weather yesterday?\tकल का मौसम कैसा था?\tCC-BY 2.0 (France) Attribution: tatoeba.org #716139 (papabear) & #443101 (minshirui)\n",
            "I accompanied him on the trip.\tमैं सफ़र पर उसके साथ गया।\tCC-BY 2.0 (France) Attribution: tatoeba.org #260177 (CK) & #459408 (minshirui)\n",
            "I am sorry if I disturbed you.\tमाफ़ कीजिएगा अगर मैंने आपको परेशान किया तो।\tCC-BY 2.0 (France) Attribution: tatoeba.org #64436 (CK) & #514085 (minshirui)\n",
            "I can't bear the sight of him.\tमुझे उसको देखा नहीं जाता।\tCC-BY 2.0 (France) Attribution: tatoeba.org #66892 (CK) & #465638 (minshirui)\n",
            "I can't put up with this cold.\tमुझसे यह ठंड सही नहीं जाएगी।\tCC-BY 2.0 (France) Attribution: tatoeba.org #59913 (CK) & #485761 (minshirui)\n",
            "I don't go to work on Sundays.\tमैं रविवार को काम पर नहीं जाता।\tCC-BY 2.0 (France) Attribution: tatoeba.org #4910138 (yashtib1995) & #2078070 (minshirui)\n",
            "I don't know if she will come.\tमुझे नहीं पता कि वह आएगी कि नहीं।\tCC-BY 2.0 (France) Attribution: tatoeba.org #308536 (CK) & #459400 (minshirui)\n",
            "I don't think it's reasonable.\tमेरे विचार से यह युक्तियुक्त नहीँ है।\tCC-BY 2.0 (France) Attribution: tatoeba.org #4890789 (CK) & #4907668 (yashtib1995)\n",
            "I don't watch much basketball.\tमैं ज्यादा बास्‍केटबॉल नहीं देखता।\tCC-BY 2.0 (France) Attribution: tatoeba.org #4890790 (CK) & #4907673 (yashtib1995)\n",
            "I felt that I should help her.\tमुझे लगा कि मुझे उसकी मदद करनी चाहिए।\tCC-BY 2.0 (France) Attribution: tatoeba.org #394644 (CK) & #514054 (minshirui)\n",
            "I have no idea how he escaped.\tमुझे नहीं पता वह कैसे निकल भागा।\tCC-BY 2.0 (France) Attribution: tatoeba.org #283210 (CK) & #459423 (minshirui)\n",
            "I have to put the baby to bed.\tमुझे बच्चे को सुलाना है।\tCC-BY 2.0 (France) Attribution: tatoeba.org #272419 (CK) & #505433 (minshirui)\n",
            "I hope that it rains tomorrow.\tकाश कल बारिश हो जाए।\tCC-BY 2.0 (France) Attribution: tatoeba.org #473824 (saasmath) & #484114 (minshirui)\n",
            "I take a bath every other day.\tमैं हर दूसरे दिन नहाता हूँ।\tCC-BY 2.0 (France) Attribution: tatoeba.org #252485 (CK) & #461252 (minshirui)\n",
            "I was caught in a traffic jam.\tमैं ट्राफ़िक जाम में फँस गया था।\tCC-BY 2.0 (France) Attribution: tatoeba.org #240353 (CK) & #486015 (minshirui)\n",
            "I was caught in a traffic jam.\tमैं ट्रैफ़िक जैम में फँस गया था।\tCC-BY 2.0 (France) Attribution: tatoeba.org #240353 (CK) & #486017 (minshirui)\n",
            "I will be pleased to help you.\tमुझे आपकी मदद करके खुशी होगी।\tCC-BY 2.0 (France) Attribution: tatoeba.org #20678 (CK) & #485890 (minshirui)\n",
            "I will go to America tomorrow.\tमैं कल अमेरिका जाऊँगी।\tCC-BY 2.0 (France) Attribution: tatoeba.org #261914 (CK) & #459405 (minshirui)\n",
            "I wouldn't do that to anybody.\tमैं ऐसा किसी के साथ नहीं करुंगा।\tCC-BY 2.0 (France) Attribution: tatoeba.org #5657164 (CK) & #8889329 (simranbansal)\n",
            "I wouldn't do that to anybody.\tमैं ऐसा किसी के साथ नहीं करुंगी।\tCC-BY 2.0 (France) Attribution: tatoeba.org #5657164 (CK) & #8889330 (simranbansal)\n",
            "I'm sure I've seen him before.\tमुझे यकीन है कि मैंने उसे पहले देखा हुआ है।\tCC-BY 2.0 (France) Attribution: tatoeba.org #21704 (CK) & #511720 (minshirui)\n",
            "I'm thinking of changing jobs.\tमैं नौकरी बदलने की सोच रही हूँ।\tCC-BY 2.0 (France) Attribution: tatoeba.org #3678047 (CK) & #443055 (minshirui)\n",
            "I'm used to working all night.\tमुझे पूरी रात काम करने की आदत है।\tCC-BY 2.0 (France) Attribution: tatoeba.org #259591 (CK) & #9012787 (simranbansal)\n",
            "I'm used to working all night.\tमुझे रात भर काम करने की आदत है।\tCC-BY 2.0 (France) Attribution: tatoeba.org #259591 (CK) & #9012788 (simranbansal)\n",
            "It's four o'clock by my watch.\tमेरी घड़ी के हिसाब से चार बजे हैं।\tCC-BY 2.0 (France) Attribution: tatoeba.org #251011 (CK) & #515388 (minshirui)\n",
            "Man can't live without dreams.\tइनसान सपने देखे बिना जी नहीं सकता है।\tCC-BY 2.0 (France) Attribution: tatoeba.org #328022 (CM) & #3212912 (anubhav93)\n",
            "Playing tennis is easy for me.\tमेरे लिए टेनिस खेलना बहुत आसान है।\tCC-BY 2.0 (France) Attribution: tatoeba.org #39383 (Eldad) & #487429 (minshirui)\n",
            "Please feed the dog every day.\tकुत्ते को रोज़ खिलाईएगा।\tCC-BY 2.0 (France) Attribution: tatoeba.org #48285 (CK) & #484140 (minshirui)\n",
            "Please turn on the television.\tटीवी चालू कीजिए।\tCC-BY 2.0 (France) Attribution: tatoeba.org #38525 (CK) & #465604 (minshirui)\n",
            "School begins at eight-thirty.\tस्कूल साढ़े-आठ बजे शुरू होता है।\tCC-BY 2.0 (France) Attribution: tatoeba.org #21549 (CK) & #487409 (minshirui)\n",
            "Seicho Matsumoto died in 1992.\tसेइचो मात्सुमोतो का निधन सन १९९२ में हुआ।\tCC-BY 2.0 (France) Attribution: tatoeba.org #268140 (CK) & #3216519 (anubhav93)\n",
            "She forgot to mail the letter.\tवह चिट्ठी को डाक में डालना भूल गई।\tCC-BY 2.0 (France) Attribution: tatoeba.org #314894 (CK) & #450421 (minshirui)\n",
            "She forgot to mail the letter.\tवह चिट्ठी को डाक करना भूल गई।\tCC-BY 2.0 (France) Attribution: tatoeba.org #314894 (CK) & #450422 (minshirui)\n",
            "She is not afraid of anything.\tवह किसी भी चीज़ से नहीं डरती है।\tCC-BY 2.0 (France) Attribution: tatoeba.org #316789 (CK) & #485504 (minshirui)\n",
            "She is not afraid of anything.\tउसे किसी भी चीज़ का डर नहीं है।\tCC-BY 2.0 (France) Attribution: tatoeba.org #316789 (CK) & #2078074 (minshirui)\n",
            "She thought for a few minutes.\tउसने कुछ मिनटों के लिए सोचा।\tCC-BY 2.0 (France) Attribution: tatoeba.org #310117 (CK) & #486266 (minshirui)\n",
            "The flowers have all withered.\tसारे फूल मुरझा गए हैं।\tCC-BY 2.0 (France) Attribution: tatoeba.org #459393 (minshirui) & #459395 (minshirui)\n",
            "The king governed the country.\tराजा की देश पर हुकूमत थी।\tCC-BY 2.0 (France) Attribution: tatoeba.org #25652 (CK) & #588441 (minshirui)\n",
            "The patient breathed his last.\tरोगी ने अपनी आखरी साँस भरी।\tCC-BY 2.0 (France) Attribution: tatoeba.org #318485 (CM) & #486363 (minshirui)\n",
            "The ship is bound for Finland.\tयह जहाज़ फ़िनलैंड के लिए रवाना है।\tCC-BY 2.0 (France) Attribution: tatoeba.org #45702 (CK) & #498215 (minshirui)\n",
            "The vase was broken to pieces.\tगुलदान टूट कर चूर-चूर हो गया।\tCC-BY 2.0 (France) Attribution: tatoeba.org #23706 (CK) & #485848 (minshirui)\n",
            "The war is going in our favor.\tजंग हमारे हित में जा रहा है।\tCC-BY 2.0 (France) Attribution: tatoeba.org #273236 (CK) & #485507 (minshirui)\n",
            "There is no future in his job.\tउसकी नौकरी का कोई भविष्य नहीं है।\tCC-BY 2.0 (France) Attribution: tatoeba.org #286417 (CK) & #515463 (minshirui)\n",
            "They consider him intelligent.\tवे उसे समझदार मानते हैं।\tCC-BY 2.0 (France) Attribution: tatoeba.org #307425 (CM) & #516671 (minshirui)\n",
            "They have no house to live in.\tउनके पास रहने के लिए कोई घर नहीं है।\tCC-BY 2.0 (France) Attribution: tatoeba.org #306839 (CK) & #483781 (minshirui)\n",
            "They must have made a mistake.\tउनसे ग़लती हो गई होगी।\tCC-BY 2.0 (France) Attribution: tatoeba.org #306504 (CK) & #485529 (minshirui)\n",
            "This box contains five apples.\tइस डब्बे में पाँच सेव हैं।\tCC-BY 2.0 (France) Attribution: tatoeba.org #57519 (papabear) & #475961 (minshirui)\n",
            "This problem is hard to solve.\tइस समस्या को सुलझाना बहुत कठिन है।\tCC-BY 2.0 (France) Attribution: tatoeba.org #1982316 (jackchak) & #459447 (minshirui)\n",
            "This river is one mile across.\tयह नदी एक मील चौड़ी है।\tCC-BY 2.0 (France) Attribution: tatoeba.org #58145 (CK) & #452471 (minshirui)\n",
            "This rule applies to you, too.\tयह नियम तुमपर भी लागु होता है।\tCC-BY 2.0 (France) Attribution: tatoeba.org #59766 (CK) & #459437 (minshirui)\n",
            "This school has many students.\tइस स्कूल में बहुत सारे विद्यार्थी हैं।\tCC-BY 2.0 (France) Attribution: tatoeba.org #59930 (CK) & #485815 (minshirui)\n",
            "Today is my sister's birthday.\tआज मेरी बहन का जन्मदिन है।\tCC-BY 2.0 (France) Attribution: tatoeba.org #242653 (Swift) & #446484 (minshirui)\n",
            "Today is my sister's birthday.\tआज मेरी दीदी का जन्मदिन है।\tCC-BY 2.0 (France) Attribution: tatoeba.org #242653 (Swift) & #446487 (minshirui)\n",
            "We were surprised at the news.\tहम खबर सुनकर चौंक गए।\tCC-BY 2.0 (France) Attribution: tatoeba.org #23208 (Eldad) & #498097 (minshirui)\n",
            "What is done cannot be undone.\tहोनी को अनहोनी नहीं किया जा सकता।\tCC-BY 2.0 (France) Attribution: tatoeba.org #20094 (Zifre) & #485871 (minshirui)\n",
            "What is done cannot be undone.\tजो हो चुका है सो हो चुका है।\tCC-BY 2.0 (France) Attribution: tatoeba.org #20094 (Zifre) & #485872 (minshirui)\n",
            "What kind of work will you do?\tतुम किस तरह का काम करोगे?\tCC-BY 2.0 (France) Attribution: tatoeba.org #36647 (CK) & #494134 (minshirui)\n",
            "What's your home phone number?\tतुम्हारे घर का फ़ोन नम्बर क्या है?\tCC-BY 2.0 (France) Attribution: tatoeba.org #54461 (CK) & #482461 (minshirui)\n",
            "When do you usually go to bed?\tतुम आमतौर पर कितने बजे सोते हो ?\tCC-BY 2.0 (France) Attribution: tatoeba.org #4910176 (yashtib1995) & #2078013 (minshirui)\n",
            "Who was the letter written to?\tपत्र किसको लिखा गया था?\tCC-BY 2.0 (France) Attribution: tatoeba.org #46764 (CK) & #505371 (minshirui)\n",
            "You cannot park your car here.\tआप अपनी गाड़ी यहाँ खड़ी नहीं कर सकते।\tCC-BY 2.0 (France) Attribution: tatoeba.org #61755 (CK) & #517892 (minshirui)\n",
            "You quit your job, didn't you?\tआपने अपनी नौकरी छोड़ दी, हैं ना?\tCC-BY 2.0 (France) Attribution: tatoeba.org #2862265 (Amastan) & #8889246 (simranbansal)\n",
            "You quit your job, didn't you?\tतुमने अपनी नौकरी छोड़ दी, है ना?\tCC-BY 2.0 (France) Attribution: tatoeba.org #2862265 (Amastan) & #8889247 (simranbansal)\n",
            "Your team is better than ours.\tआपका दल हमसे बेहतर है |\tCC-BY 2.0 (France) Attribution: tatoeba.org #3534956 (patgfisher) & #3534959 (nurendra)\n",
            "\"What time is it?\" \"It's 3:20.\"\t\"अभी कितने बजे हैं?\" \"तीन बीस बजे हैं\"\tCC-BY 2.0 (France) Attribution: tatoeba.org #372021 (saeb) & #486052 (minshirui)\n",
            "A fire broke out near my house.\tमेरे घर के पड़ोस में आग लग गई थी।\tCC-BY 2.0 (France) Attribution: tatoeba.org #18674 (CK) & #516760 (minshirui)\n",
            "Are you going to ask me or not?\tमुझसे पूछने वाले हो या नहीं?\tCC-BY 2.0 (France) Attribution: tatoeba.org #3050845 (Hybrid) & #3216261 (anubhav93)\n",
            "Believe it or not, that's true.\tमानो या न मानो, यह तो सच है।\tCC-BY 2.0 (France) Attribution: tatoeba.org #9344979 (CK) & #597869 (minshirui)\n",
            "Both he and his wife have cars.\tवह और उसकी पत्नी दोनो के पास गाड़ियाँ हैं।\tCC-BY 2.0 (France) Attribution: tatoeba.org #304915 (CK) & #476308 (minshirui)\n",
            "Both of my sisters are married.\tमेरी दोनो बहनें शादीशुदा हैं।\tCC-BY 2.0 (France) Attribution: tatoeba.org #250952 (CK) & #450327 (minshirui)\n",
            "Business is so slow these days.\tकारोबार में आजकल मंदी पड़ गई है।\tCC-BY 2.0 (France) Attribution: tatoeba.org #18694 (CK) & #484019 (minshirui)\n",
            "Can I have the key now, please?\tमुझे अब चाबी मिल सकती है क्या?\tCC-BY 2.0 (France) Attribution: tatoeba.org #53213 (CM) & #459440 (minshirui)\n",
            "Dad is shaving in the bathroom.\tपापा बाथरूम में दाढ़ी बना रहे हैं।\tCC-BY 2.0 (France) Attribution: tatoeba.org #64105 (CK) & #450457 (minshirui)\n",
            "Did he come by bus or by train?\tवो बस से आया था कि ट्रेन से?\tCC-BY 2.0 (France) Attribution: tatoeba.org #292399 (CK) & #691667 (minshirui)\n",
            "Do you have a room of your own?\tक्या तुम्हारे पास अपना खुद का कमरा है?\tCC-BY 2.0 (France) Attribution: tatoeba.org #16032 (Swift) & #516796 (minshirui)\n",
            "Do you have one that's cheaper?\tइससे सस्ता वाला है क्या?\tCC-BY 2.0 (France) Attribution: tatoeba.org #395020 (CK) & #484014 (minshirui)\n",
            "Do you know how to drive a car?\tक्या आपको गाड़ी चलाना आता है?\tCC-BY 2.0 (France) Attribution: tatoeba.org #265501 (CK) & #691660 (minshirui)\n",
            "Do you know how to drive a car?\tक्या तुमको गाड़ी चलाना आता है?\tCC-BY 2.0 (France) Attribution: tatoeba.org #265501 (CK) & #691663 (minshirui)\n",
            "Do you know how to drive a car?\tक्या तुम्हें गाड़ी चलाना आता है?\tCC-BY 2.0 (France) Attribution: tatoeba.org #265501 (CK) & #691664 (minshirui)\n",
            "Don't you have something to do?\tक्या तुम्हारे पास कुछ करने के लिए नही है ?\tCC-BY 2.0 (France) Attribution: tatoeba.org #2064840 (CK) & #8876398 (simranbansal)\n",
            "Excuse me, but can you help me?\tमाफ़ कीजिएगा, आप मेरी मदद कर सकते हैं क्या?\tCC-BY 2.0 (France) Attribution: tatoeba.org #51443 (CK) & #482451 (minshirui)\n",
            "Few people know about the plan.\tयोजना के बारे में कुछ ही लोगों को पता है।\tCC-BY 2.0 (France) Attribution: tatoeba.org #33317 (CK) & #518715 (minshirui)\n",
            "Fighting won't settle anything.\tलड़ने-झगड़ने से बात का हल नहीं होगा।\tCC-BY 2.0 (France) Attribution: tatoeba.org #239044 (CK) & #487201 (minshirui)\n",
            "Flying a kite can be dangerous.\tपतंग उड़ाना खतरनाक हो सकता है।\tCC-BY 2.0 (France) Attribution: tatoeba.org #40912 (CK) & #486269 (minshirui)\n",
            "Give me your attention, please.\tकृपया ध्यान दीजिए।\tCC-BY 2.0 (France) Attribution: tatoeba.org #240221 (CK) & #476358 (minshirui)\n",
            "He has blue eyes and fair hair.\tउसकी नीली आखें हैं और गोरे बाल हैं।\tCC-BY 2.0 (France) Attribution: tatoeba.org #300536 (CM) & #463400 (minshirui)\n",
            "He is anxious about the result.\tवह नतीजे के लिए बेचैन है।\tCC-BY 2.0 (France) Attribution: tatoeba.org #290747 (CK) & #459418 (minshirui)\n",
            "He took a picture of the koala.\tउसने कोआले की तस्वीर खींची।\tCC-BY 2.0 (France) Attribution: tatoeba.org #289802 (CK) & #505079 (minshirui)\n",
            "He walks his dog every morning.\tवह हर सुबह अपने कुत्ते को सैर पर ले जाता है।\tCC-BY 2.0 (France) Attribution: tatoeba.org #303874 (CK) & #611440 (minshirui)\n",
            "His absence was due to illness.\tवह बीमारी की वजह से नहीं आ सका।\tCC-BY 2.0 (France) Attribution: tatoeba.org #283535 (CM) & #483811 (minshirui)\n",
            "His behavior is very odd today.\tउसका बर्ताव आज बहुत अजीब है।\tCC-BY 2.0 (France) Attribution: tatoeba.org #242628 (CK) & #514149 (minshirui)\n",
            "How do you interpret this poem?\tइस कविता क्या आप क्या अर्थ निकालते हैं?\tCC-BY 2.0 (France) Attribution: tatoeba.org #59039 (CK) & #3216543 (anubhav93)\n",
            "How do you interpret this poem?\tइस कविता का तुम क्या मतलब निकालते हो?\tCC-BY 2.0 (France) Attribution: tatoeba.org #59039 (CK) & #3216546 (anubhav93)\n",
            "How do you like your eggs done?\tतुम्हे अपने अँडे कैसे पसंद हैं?\tCC-BY 2.0 (France) Attribution: tatoeba.org #325223 (CK) & #491626 (minshirui)\n",
            "I am thinking of changing jobs.\tमैं नौकरी बदलने की सोच रही हूँ।\tCC-BY 2.0 (France) Attribution: tatoeba.org #3537952 (nurendra) & #443055 (minshirui)\n",
            "I answered all Tom's questions.\tमैं ने टॉम के सभी सवालों का जवाब दिया।\tCC-BY 2.0 (France) Attribution: tatoeba.org #2291866 (CK) & #8879555 (simranbansal)\n",
            "I did it the way he told me to.\tउसने जैसे बताया था मैंने वैसे किया।\tCC-BY 2.0 (France) Attribution: tatoeba.org #260601 (CK) & #498091 (minshirui)\n",
            "I don't know when he will come.\tमुझे नहीं पता वह कब आएगा।\tCC-BY 2.0 (France) Attribution: tatoeba.org #259946 (CK) & #452409 (minshirui)\n",
            "I have a bone to pick with you.\tमैं तुमसे खुश नहीं हूँ।\tCC-BY 2.0 (France) Attribution: tatoeba.org #1625 (LittleBoy) & #487269 (minshirui)\n",
            "I left the keys with my wallet.\tमैंने चाबियों को अपने बटुए के साथ छोड़ दिया।\tCC-BY 2.0 (France) Attribution: tatoeba.org #257697 (CK) & #498529 (minshirui)\n",
            "I motioned for her to sit down.\tमैंने उससे बैठ जाने का इशारा किया।\tCC-BY 2.0 (France) Attribution: tatoeba.org #308874 (CK) & #487211 (minshirui)\n",
            "I must have left it on the bus.\tमैंने उसे बस में छोड़ दिया होगा।\tCC-BY 2.0 (France) Attribution: tatoeba.org #436805 (lukaszpp) & #487224 (minshirui)\n",
            "I take a bath almost every day.\tमैं लगभग हर रोज़ नहाता हूँ।\tCC-BY 2.0 (France) Attribution: tatoeba.org #255608 (CK) & #483768 (minshirui)\n",
            "I want to have a cup of coffee.\tमुझे एक कप कॉफ़ी चाहिए।\tCC-BY 2.0 (France) Attribution: tatoeba.org #253436 (CK) & #485524 (minshirui)\n",
            "I want to say thank you to Tom.\tमैं टॉम को धन्यवाद कहना चाहता हूं।\tCC-BY 2.0 (France) Attribution: tatoeba.org #5788622 (CK) & #8889342 (simranbansal)\n",
            "I want to say thank you to Tom.\tमैं टॉम को धन्यवाद कहना चाहती हूं।\tCC-BY 2.0 (France) Attribution: tatoeba.org #5788622 (CK) & #8889343 (simranbansal)\n",
            "I will give you a large folder.\tमैं तुम्हें एक बड़ा फ़ोल्डर दूँगा।\tCC-BY 2.0 (France) Attribution: tatoeba.org #1482906 (rkqb) & #3216273 (anubhav93)\n",
            "I'm afraid that Tom might come.\tमुझे डर है की टॉम आ जाएगा।\tCC-BY 2.0 (France) Attribution: tatoeba.org #8879397 (CK) & #8879550 (simranbansal)\n",
            "I'm going to meet him tomorrow.\tमैं कल उससे मिलने जा रहा हूँ।\tCC-BY 2.0 (France) Attribution: tatoeba.org #323456 (CK) & #516703 (minshirui)\n",
            "I'm nothing but a poor peasant.\tमैं तो बस एक गरीब किसान ही हूँ।\tCC-BY 2.0 (France) Attribution: tatoeba.org #6873075 (CK) & #491813 (minshirui)\n",
            "I've never met such a kind man.\tमैं कभी भी इतने दयालु व्यक्ति से नहीं मिला।\tCC-BY 2.0 (France) Attribution: tatoeba.org #253061 (blay_paul) & #3189712 (pranjal710)\n",
            "Is it possible to borrow money?\tक्या पैसे उधार लिए जा सकते हैं?\tCC-BY 2.0 (France) Attribution: tatoeba.org #64571 (Swift) & #505338 (minshirui)\n",
            "It is no use worrying about it.\tइसके बारे में चिंता करने से कोई फ़ायदा नहीं है।\tCC-BY 2.0 (France) Attribution: tatoeba.org #41828 (CM) & #516679 (minshirui)\n",
            "It isn't easy, but it's doable.\tयह आसान नहीं है लेकिन करा जा सकता है।\tCC-BY 2.0 (France) Attribution: tatoeba.org #7198330 (CK) & #8889319 (simranbansal)\n",
            "It took me a while to find Tom.\tमुझे टॉम को ढूँढने में समय लग गया।\tCC-BY 2.0 (France) Attribution: tatoeba.org #3540365 (CK) & #3540403 (nurendra)\n",
            "Let's meet here again tomorrow.\tयहाँ पर कल फिर मिलते हैं।\tCC-BY 2.0 (France) Attribution: tatoeba.org #61861 (CK) & #484074 (minshirui)\n",
            "Let's take a rest in the shade.\tचलो छाया में थोड़ा आराम करलें।\tCC-BY 2.0 (France) Attribution: tatoeba.org #281102 (CK) & #465591 (minshirui)\n",
            "Mary is interested in politics.\tमेरी को राजनीति में दिलचस्पी है।\tCC-BY 2.0 (France) Attribution: tatoeba.org #31763 (CK) & #487263 (minshirui)\n",
            "May I leave this book with you?\tमैं यह किताब तुम्हारे पास छोड़ूँ?\tCC-BY 2.0 (France) Attribution: tatoeba.org #56801 (CK) & #498099 (minshirui)\n",
            "My hobby is playing the guitar.\tमेरा शौक गिटार बजाना है।\tCC-BY 2.0 (France) Attribution: tatoeba.org #251127 (CK) & #483065 (minshirui)\n",
            "Physics is my favorite subject.\tभौतिक विज्ञान मेरा सबसे पसंदीता विषय है।\tCC-BY 2.0 (France) Attribution: tatoeba.org #319980 (CK) & #483862 (minshirui)\n",
            "Please speak in a louder voice.\tथोड़ी ऊँची आवाज़ में बोलिए।\tCC-BY 2.0 (France) Attribution: tatoeba.org #441968 (CK) & #450992 (minshirui)\n",
            "Read as many books as possible.\tजितनी किताबें पढ़ सकते हो पढ़ो।\tCC-BY 2.0 (France) Attribution: tatoeba.org #497986 (CM) & #514110 (minshirui)\n",
            "Remove your shirt and lie down.\tअपनी कमीज़ उतार कर लेट जाओ।\tCC-BY 2.0 (France) Attribution: tatoeba.org #53076 (CK) & #613642 (minshirui)\n",
            "She always tries something new.\tवह हमेशा कोई नया काम आज़माती रहती है।\tCC-BY 2.0 (France) Attribution: tatoeba.org #310404 (CK) & #491868 (minshirui)\n",
            "She cooked us a wonderful meal.\tउसने हमारे लिए बहुत ही शानदार भोजन तैयार किया।\tCC-BY 2.0 (France) Attribution: tatoeba.org #311748 (CK) & #482462 (minshirui)\n",
            "She helped me pack my suitcase.\tउसने मुझे मेरी अटैची पैक करने में मदद करी।\tCC-BY 2.0 (France) Attribution: tatoeba.org #314046 (CK) & #498084 (minshirui)\n",
            "She is a woman of great beauty.\tवह एक बहुत ही खूबसूरत औरत है।\tCC-BY 2.0 (France) Attribution: tatoeba.org #309012 (CK) & #600423 (minshirui)\n",
            "She is always dressed in black.\tवह हमेशा काले कपड़े पहनती है।\tCC-BY 2.0 (France) Attribution: tatoeba.org #310426 (CK) & #518694 (minshirui)\n",
            "She is appearing on TV tonight.\tवह आज टीवी पर आएगी।\tCC-BY 2.0 (France) Attribution: tatoeba.org #313736 (CK) & #516649 (minshirui)\n",
            "She warned him not to go alone.\tउसने उसे अकेले न जाने की चेतावनी दी।\tCC-BY 2.0 (France) Attribution: tatoeba.org #316255 (CK) & #516702 (minshirui)\n",
            "She's a beauty from a distance.\tवह दूर से हसीना लगती है।\tCC-BY 2.0 (France) Attribution: tatoeba.org #316637 (CM) & #600421 (minshirui)\n",
            "Someone has cut my kite string.\tकिसी ने मेरी पतंग काट ली है।\tCC-BY 2.0 (France) Attribution: tatoeba.org #477697 (minshirui) & #477696 (minshirui)\n",
            "Such a thing occurs frequently.\tऐसा अक्सर होता है।\tCC-BY 2.0 (France) Attribution: tatoeba.org #43514 (jakov) & #450424 (minshirui)\n",
            "The bird on the roof is a crow.\tछत पर जो चिड़िया बैठी है वह एक कौआ है।\tCC-BY 2.0 (France) Attribution: tatoeba.org #25582 (CK) & #475776 (minshirui)\n",
            "The car raised a cloud of dust.\tउस गाड़ी ने बहुत धूल उड़ाई।\tCC-BY 2.0 (France) Attribution: tatoeba.org #265562 (CK) & #477706 (minshirui)\n",
            "The children were flying kites.\tबच्चे पतंग उड़ा रहे थे।\tCC-BY 2.0 (France) Attribution: tatoeba.org #246074 (CK) & #477692 (minshirui)\n",
            "The deer was running by itself.\tहिरण अकेले दौड़ रहा था।\tCC-BY 2.0 (France) Attribution: tatoeba.org #264910 (CK) & #516819 (minshirui)\n",
            "The dog kept barking all night.\tकुत्ता रातभर भौंकता रहा।\tCC-BY 2.0 (France) Attribution: tatoeba.org #48282 (CK) & #514106 (minshirui)\n",
            "The earth moves around the sun.\tधरती सूरज की परिक्रमा करती है।\tCC-BY 2.0 (France) Attribution: tatoeba.org #277136 (Eldad) & #457984 (minshirui)\n",
            "The investigation is under way.\tजाँच-पड़ताल जारी है।\tCC-BY 2.0 (France) Attribution: tatoeba.org #45028 (CK) & #487415 (minshirui)\n",
            "The men went hunting for lions.\tवे आदमी शेरों का शिकार करने निकले।\tCC-BY 2.0 (France) Attribution: tatoeba.org #276816 (CM) & #463393 (minshirui)\n",
            "The plane crash took 200 lives.\tविमान दुर्घटना ने दो सौ लोगों की जानें लें लीं।\tCC-BY 2.0 (France) Attribution: tatoeba.org #318115 (CK) & #457086 (minshirui)\n",
            "The plane will arrive at three.\tविमान तीन बजे पहुँचेगा।\tCC-BY 2.0 (France) Attribution: tatoeba.org #318069 (CK) & #609378 (minshirui)\n",
            "The shop carried leather goods.\tवह दुकान चमड़े के उत्पाद बेचती थी।\tCC-BY 2.0 (France) Attribution: tatoeba.org #44885 (CK) & #450329 (minshirui)\n",
            "Their wedding will be tomorrow.\tउनकी शादी कल होगी।\tCC-BY 2.0 (France) Attribution: tatoeba.org #305184 (CK) & #588453 (minshirui)\n",
            "There are no towels in room 15.\tकमरा नम्बर पंद्राह में तौलिये नहीं हैं।\tCC-BY 2.0 (France) Attribution: tatoeba.org #463068 (lukaszpp) & #491558 (minshirui)\n",
            "There used to be a church here.\tयहाँ एक चर्च हुआ करता था।\tCC-BY 2.0 (France) Attribution: tatoeba.org #28341 (CK) & #597862 (minshirui)\n",
            "These shoes are too big for me.\tये जूते मेरे लिए बहुत बड़े हैं।\tCC-BY 2.0 (France) Attribution: tatoeba.org #454438 (CM) & #516759 (minshirui)\n",
            "They went on talking for hours.\tउन्होंने और कुछ घंटों के लिए बातचीत करी।\tCC-BY 2.0 (France) Attribution: tatoeba.org #306234 (CM) & #511731 (minshirui)\n",
            "They went out of sight at last.\tवे आखिरकार नज़र से बाहर निकल गए।\tCC-BY 2.0 (France) Attribution: tatoeba.org #305911 (CM) & #505254 (minshirui)\n",
            "This is a picture of my sister.\tयह मेरी बहन की तस्वीर है।\tCC-BY 2.0 (France) Attribution: tatoeba.org #55609 (CK) & #491573 (minshirui)\n",
            "This is mine, and that's yours.\tयह मेरा है और वह तुम्हारा है।\tCC-BY 2.0 (France) Attribution: tatoeba.org #56145 (CM) & #514051 (minshirui)\n",
            "This medicine will do you good!\tयह दवाई तुम्हारा भला करेगी!\tCC-BY 2.0 (France) Attribution: tatoeba.org #56609 (CM) & #465650 (minshirui)\n",
            "This train is bound for Boston.\tयह ट्रेन बॉस्टन के लिए रवाना हो रही है।\tCC-BY 2.0 (France) Attribution: tatoeba.org #57708 (CK) & #475995 (minshirui)\n",
            "Today is my sixteenth birthday.\tआज मेरा सोलहवा जन्मदिन है।\tCC-BY 2.0 (France) Attribution: tatoeba.org #242865 (CK) & #446490 (minshirui)\n",
            "Tom has graduated from college.\tटॉम ने कॉलेज से स्नातक कर लिया है।\tCC-BY 2.0 (France) Attribution: tatoeba.org #8879422 (CK) & #8879574 (simranbansal)\n",
            "Tom wants to go somewhere else.\tटॉम कहीं और जाना चाहता है।\tCC-BY 2.0 (France) Attribution: tatoeba.org #8879440 (CK) & #8879548 (simranbansal)\n",
            "Tom was forced to quit his job.\tटॉम को अपनी नौकरी छोड़ने के लिए मजबूर किया गया था ।\tCC-BY 2.0 (France) Attribution: tatoeba.org #8355192 (CK) & #9012792 (simranbansal)\n",
            "We are anxious for world peace.\tहम विश्व शांति के लिए तत्पर हैं।\tCC-BY 2.0 (France) Attribution: tatoeba.org #22869 (CK) & #509340 (minshirui)\n",
            "We are sorry we can't help you.\tमाफ़ कीजिए पर हम आपकी मदद नहीं कर सकते।\tCC-BY 2.0 (France) Attribution: tatoeba.org #262696 (CK) & #491724 (minshirui)\n",
            "We're all going to die someday.\tहम सब किसी दिन मरने वाले हैं।\tCC-BY 2.0 (France) Attribution: tatoeba.org #6831281 (CK) & #8889403 (simranbansal)\n",
            "What kind of juice do you want?\tतुम्हें कैसा रस चाहिए?\tCC-BY 2.0 (France) Attribution: tatoeba.org #6350087 (CK) & #8889239 (simranbansal)\n",
            "What kind of juice do you want?\tआप को कैसा रस चाहिए?\tCC-BY 2.0 (France) Attribution: tatoeba.org #6350087 (CK) & #8889240 (simranbansal)\n",
            "What would you like for supper?\tआप रात में खाने के लिए क्या खाना चाहेंगे?\tCC-BY 2.0 (France) Attribution: tatoeba.org #324627 (CK) & #509368 (minshirui)\n",
            "Who is the author of the novel?\tइस उपन्यास का लेखक कौन है?\tCC-BY 2.0 (France) Attribution: tatoeba.org #46531 (CM) & #485908 (minshirui)\n",
            "Who's the author of this story?\tइस कहानी का लेखक कौन है?\tCC-BY 2.0 (France) Attribution: tatoeba.org #7784981 (CK) & #487494 (minshirui)\n",
            "Why were you late this morning?\tतुम आज सुबह देर से क्यों आए?\tCC-BY 2.0 (France) Attribution: tatoeba.org #36493 (CK) & #450436 (minshirui)\n",
            "Won't you come to dine with us?\tक्या आप हमारे साथ खाना खाने नहीं आएंगे?\tCC-BY 2.0 (France) Attribution: tatoeba.org #268700 (CM) & #516753 (minshirui)\n",
            "You may take anything you like.\tतुम्हें जो अच्छा लगता है लेलो।\tCC-BY 2.0 (France) Attribution: tatoeba.org #24965 (CK) & #483020 (minshirui)\n",
            "You must be back by 10 o'clock.\tतुम्हे दस बजे तक वापस आ जाना होगा।\tCC-BY 2.0 (France) Attribution: tatoeba.org #73427 (CK) & #511742 (minshirui)\n",
            "You owe me an apology for that.\tतुम्हे इस बात के लिए मुझसे माफ़ी माँगनी चाहिए।\tCC-BY 2.0 (France) Attribution: tatoeba.org #16598 (Swift) & #486028 (minshirui)\n",
            "You should have kept it secret.\tतुम्हे इसे राज़ रखना चहिए था।\tCC-BY 2.0 (France) Attribution: tatoeba.org #69916 (CK) & #446465 (minshirui)\n",
            "You should have listened to me.\tतुम्हे मेरी बात सुन लेनी चाहिए थी।\tCC-BY 2.0 (France) Attribution: tatoeba.org #1726 (Swift) & #516696 (minshirui)\n",
            "A good idea suddenly struck her.\tअचानक उसे एक अच्छा आइडिया आया।\tCC-BY 2.0 (France) Attribution: tatoeba.org #322900 (CM) & #3216294 (anubhav93)\n",
            "All the students look up to him.\tसारे विद्यार्थी उसका आदर-सम्मान करते थे।\tCC-BY 2.0 (France) Attribution: tatoeba.org #271813 (CK) & #491606 (minshirui)\n",
            "Are you the owner of this house?\tआप इस घर के मालिक हैं क्या?\tCC-BY 2.0 (France) Attribution: tatoeba.org #70093 (CK) & #484108 (minshirui)\n",
            "At last, he solved the question.\tउसने आखिरकार सवाल का जवाब ढूँढ निकाला।\tCC-BY 2.0 (France) Attribution: tatoeba.org #39876 (CS) & #476365 (minshirui)\n",
            "Australia exports a lot of wool.\tऑस्ट्रेलिया ऊन का बड़ी मात्रा में निर्यात करता है।\tCC-BY 2.0 (France) Attribution: tatoeba.org #65146 (CM) & #516690 (minshirui)\n",
            "China is much bigger than Japan.\tचीन जापान से काफ़ी ज़्यादा बड़ा है।\tCC-BY 2.0 (France) Attribution: tatoeba.org #752447 (sctld) & #486372 (minshirui)\n",
            "China is much larger than Japan.\tचीन जापान से काफ़ी ज़्यादा बड़ा है।\tCC-BY 2.0 (France) Attribution: tatoeba.org #277500 (CK) & #486372 (minshirui)\n",
            "Do you think that fish can hear?\tक्या तुम्हें लगता है कि मछलियाँ सुन सकतीं हैं?\tCC-BY 2.0 (France) Attribution: tatoeba.org #460027 (saasmath) & #476329 (minshirui)\n",
            "English is the world's language.\tअंग्रेज़ी वैश्विक भाषा है।\tCC-BY 2.0 (France) Attribution: tatoeba.org #26260 (CK) & #480292 (minshirui)\n",
            "English is the world's language.\tअंग्रेज़ी सारी दुनिया की भाषा है।\tCC-BY 2.0 (France) Attribution: tatoeba.org #26260 (CK) & #480293 (minshirui)\n",
            "Even children can understand it.\tइस बात को बच्चे भी समझते हैं।\tCC-BY 2.0 (France) Attribution: tatoeba.org #245815 (CK) & #486033 (minshirui)\n",
            "Everything is all right at home.\tघर में सब-कुछ ठीक है।\tCC-BY 2.0 (France) Attribution: tatoeba.org #65605 (CK) & #459428 (minshirui)\n",
            "Finish this as soon as possible.\tइसे जितनी जल्दी हो सके ख़त्म करो ।\tCC-BY 2.0 (France) Attribution: tatoeba.org #4910144 (yashtib1995) & #2078047 (minshirui)\n",
            "Finish this as soon as possible.\tइसे जल्द-से-जल्द ख़त्म करो ।\tCC-BY 2.0 (France) Attribution: tatoeba.org #4910144 (yashtib1995) & #2078048 (minshirui)\n",
            "Fresh vegetables promote health.\tताज़ी सब्ज़ियाँ स्वास्थ्य के लिए अच्छी होतीं हैं।\tCC-BY 2.0 (France) Attribution: tatoeba.org #269336 (CM) & #485981 (minshirui)\n",
            "Fresh vegetables promote health.\tताज़ी सब्ज़ियाँ सेहत के लिए अच्छी होतीं हैं।\tCC-BY 2.0 (France) Attribution: tatoeba.org #269336 (CM) & #509988 (minshirui)\n",
            "He is afraid of making mistakes.\tवह ग़लती करने से डरता है।\tCC-BY 2.0 (France) Attribution: tatoeba.org #294958 (CK) & #514112 (minshirui)\n",
            "He looked back and smiled at me.\tउसने पीछे मुड़कर मुझपर मुस्कुराया।\tCC-BY 2.0 (France) Attribution: tatoeba.org #299855 (CK) & #491898 (minshirui)\n",
            "He was buried in this graveyard.\tउसको इस कब्रिस्तान में बरी किया गया था।\tCC-BY 2.0 (France) Attribution: tatoeba.org #289962 (CK) & #516803 (minshirui)\n",
            "He was buried in this graveyard.\tउसको इस कब्रिस्तान में दफ़नाया गया था।\tCC-BY 2.0 (France) Attribution: tatoeba.org #289962 (CK) & #516804 (minshirui)\n",
            "I bet ten dollars on that horse.\tमैंने उस घोड़े पर दस डॉलर लगाए थे।\tCC-BY 2.0 (France) Attribution: tatoeba.org #252961 (CK) & #506511 (minshirui)\n",
            "I have some stuff to do at home.\tमुझे घर में थोड़ा काम करना है I\tCC-BY 2.0 (France) Attribution: tatoeba.org #3539239 (Hybrid) & #3539269 (nurendra)\n",
            "I hope he won't be disappointed.\tमुझे आशा है कि वह निराश नहीं होगा।\tCC-BY 2.0 (France) Attribution: tatoeba.org #2220383 (Hybrid) & #4907656 (yashtib1995)\n",
            "I remember when I first saw you.\tमुझे हमारी पहली मुलाकात याद है।\tCC-BY 2.0 (France) Attribution: tatoeba.org #2392590 (CK) & #3225272 (anubhav93)\n",
            "I wake him at six every morning.\tमैं हर सुबह छः बजे उसको उठाती हूँ।\tCC-BY 2.0 (France) Attribution: tatoeba.org #322386 (CK) & #475988 (minshirui)\n",
            "I want you to keep your promise.\tमैं चाहता हूँ कि तुम अपना वादा निभाओ।\tCC-BY 2.0 (France) Attribution: tatoeba.org #324195 (CK) & #516659 (minshirui)\n",
            "I will go there in place of you.\tतुम्हारे बदले मैं वहाँ जाऊँगा।\tCC-BY 2.0 (France) Attribution: tatoeba.org #246420 (CK) & #483857 (minshirui)\n",
            "I would like to meet his father.\tमैं उसके पिता से मिलना चाह्ता हूँ।\tCC-BY 2.0 (France) Attribution: tatoeba.org #453815 (saasmath) & #475951 (minshirui)\n",
            "I'm going to tell you something.\tमैं तुम्हें कुछ बताने वाला हूँ।\tCC-BY 2.0 (France) Attribution: tatoeba.org #2064879 (CK) & #3216507 (anubhav93)\n",
            "I'm going to tell you something.\tमैं तुम्हें कुछ बताने जा रहा हूँ।\tCC-BY 2.0 (France) Attribution: tatoeba.org #2064879 (CK) & #3216508 (anubhav93)\n",
            "I've read this book three times.\tमैंने इस पुस्तक को तीन बार पढ़ा है।\tCC-BY 2.0 (France) Attribution: tatoeba.org #8879498 (CK) & #8879573 (simranbansal)\n",
            "Is Tom going to the supermarket?\tक्या टॉम बड़े बाज़ार में जा रहा है?\tCC-BY 2.0 (France) Attribution: tatoeba.org #8879529 (CK) & #8879582 (simranbansal)\n",
            "It is very cold today, isn't it?\tआज बहुत ठंडा है ना?\tCC-BY 2.0 (France) Attribution: tatoeba.org #242733 (CK) & #505064 (minshirui)\n",
            "It isn't raining much this year.\tइस साल ज़्यादा बारिश नहीं हो रही है।\tCC-BY 2.0 (France) Attribution: tatoeba.org #243145 (minshirui) & #491692 (minshirui)\n",
            "It was clear that Tom was lying.\tयह स्पष्ट था कि टॉम झूठ बोल रहा था।\tCC-BY 2.0 (France) Attribution: tatoeba.org #8879527 (CK) & #8879569 (simranbansal)\n",
            "It was raining heavily in Osaka.\tओसाका में भारी बारिश हो रही थी।\tCC-BY 2.0 (France) Attribution: tatoeba.org #275679 (CN) & #516623 (minshirui)\n",
            "May I see your passport, please?\tमैं आपका पासपोर्ट देख सकता हूँ क्या?\tCC-BY 2.0 (France) Attribution: tatoeba.org #35267 (CK) & #480216 (minshirui)\n",
            "My father hates the summer heat.\tमेरे पापा को गर्मी के मौसम से नफ़रत है।\tCC-BY 2.0 (France) Attribution: tatoeba.org #476382 (CM) & #476385 (minshirui)\n",
            "My watch isn't working properly.\tमेरी घड़ी ख़राब हो गई।\tCC-BY 2.0 (France) Attribution: tatoeba.org #4910166 (yashtib1995) & #2078017 (minshirui)\n",
            "Perhaps he will never be famous.\tसंभवतः वह विख्यात कभी नहीँ हो पाएगा।\tCC-BY 2.0 (France) Attribution: tatoeba.org #428640 (sacredceltic) & #4907649 (yashtib1995)\n",
            "Please give me a glass of water.\tमुझे एक गिलास पानी देदीजिए।\tCC-BY 2.0 (France) Attribution: tatoeba.org #250147 (saeb) & #581871 (minshirui)\n",
            "Please wait here until he comes.\tउसके आने तक यहाँ इंतेज़ार कीजिए।\tCC-BY 2.0 (France) Attribution: tatoeba.org #391968 (CK) & #511174 (minshirui)\n",
            "She bought two pounds of butter.\tउसने एक किलो मक्खन खरीदा।\tCC-BY 2.0 (France) Attribution: tatoeba.org #311984 (CK) & #482435 (minshirui)\n",
            "She gazed at me for a long time.\tउसने मुझको बहुत देर तक घूरकर देखा।\tCC-BY 2.0 (France) Attribution: tatoeba.org #315850 (CK) & #514123 (minshirui)\n",
            "She got off at the next station.\tवह अगले स्टॉप पर उतर गई।\tCC-BY 2.0 (France) Attribution: tatoeba.org #314548 (CK) & #465632 (minshirui)\n",
            "She left the table after dinner.\tवह खाना खाने के बाद मेज़ से उठकर चली गई।\tCC-BY 2.0 (France) Attribution: tatoeba.org #317317 (CK) & #487504 (minshirui)\n",
            "She lives in an apartment alone.\tवह फ़्लैट में अकेले रहती है।\tCC-BY 2.0 (France) Attribution: tatoeba.org #312551 (CK) & #510240 (minshirui)\n",
            "She saved money for a rainy day.\tउसने बुरे वक्त के लिए पैसे बचाए।\tCC-BY 2.0 (France) Attribution: tatoeba.org #317103 (Eldad) & #498108 (minshirui)\n",
            "She tried in vain to please him.\tउसने बेकार में उसको खुश करने की कोशिश की।\tCC-BY 2.0 (France) Attribution: tatoeba.org #316496 (CK) & #486366 (minshirui)\n",
            "Shouldn't we be doing something?\tक्या हमें कुछ करना नहीं चाहिए?\tCC-BY 2.0 (France) Attribution: tatoeba.org #3409201 (CK) & #9012814 (simranbansal)\n",
            "Swimming here is very dangerous.\tयहाँ तैरना बहुत ख़तरनाक है।\tCC-BY 2.0 (France) Attribution: tatoeba.org #3944030 (sabretou) & #446709 (minshirui)\n",
            "Tell whoever comes that I'm out.\tअगर कोई आए तो उनसे कहना कि मैं बाहर गया हूँ।\tCC-BY 2.0 (France) Attribution: tatoeba.org #40458 (CM) & #465657 (minshirui)\n",
            "The boy ran away when he saw me.\tलड़का मुझको देखते ही भाग गया।\tCC-BY 2.0 (France) Attribution: tatoeba.org #268013 (CK) & #516777 (minshirui)\n",
            "The clock has just struck three.\tघड़ी पर अभी अभी तीन बजे हैं।\tCC-BY 2.0 (France) Attribution: tatoeba.org #264041 (CK) & #461276 (minshirui)\n",
            "The house is said to be haunted.\tलोग कहते हैं कि इस घर में भूत हैं।\tCC-BY 2.0 (France) Attribution: tatoeba.org #49406 (CK) & #510263 (minshirui)\n",
            "The kite got caught in the tree.\tपतंग पेड़ में जाकर अटक गई।\tCC-BY 2.0 (France) Attribution: tatoeba.org #40916 (CK) & #477690 (minshirui)\n",
            "The president suddenly resigned.\tराष्ट्रपति ने अचानक से इसतीफ़ा दे दिया।\tCC-BY 2.0 (France) Attribution: tatoeba.org #9839038 (anushka) & #476353 (minshirui)\n",
            "The rumor turned out to be true.\tवह अफ़वाह सच निकली।\tCC-BY 2.0 (France) Attribution: tatoeba.org #405710 (CK) & #487495 (minshirui)\n",
            "The train came to a smooth stop.\tट्रेन हल्के से आकर रुकी।\tCC-BY 2.0 (France) Attribution: tatoeba.org #326218 (CK) & #484122 (minshirui)\n",
            "The water was cut off yesterday.\tपानी कल बंद हो गया था।\tCC-BY 2.0 (France) Attribution: tatoeba.org #244623 (CK) & #510008 (minshirui)\n",
            "There are few, if any, such men.\tऐसे लोग कम ही होंगे।\tCC-BY 2.0 (France) Attribution: tatoeba.org #40793 (CM) & #3216533 (anubhav93)\n",
            "There is always something to do.\tकरने के लिए हमेशा कुछ-न-कुछ तो होता ही है।\tCC-BY 2.0 (France) Attribution: tatoeba.org #66205 (CK) & #498519 (minshirui)\n",
            "They abandoned the sinking ship.\tउन्होंने डूबते हुए जहाज़ को छोड़ दिया।\tCC-BY 2.0 (France) Attribution: tatoeba.org #307177 (CK) & #491880 (minshirui)\n",
            "They abandoned the sinking ship.\tवे डूबते हुए जहाज़ से निकल गए।\tCC-BY 2.0 (France) Attribution: tatoeba.org #307177 (CK) & #491881 (minshirui)\n",
            "They are discussing the problem.\tवे इस समस्या के बारे में बातचीत कर रहे हैं।\tCC-BY 2.0 (France) Attribution: tatoeba.org #43765 (CK) & #487254 (minshirui)\n",
            "To what degree can we trust him?\tहम उस पर कितना भरोसा कर सकते हैं?\tCC-BY 2.0 (France) Attribution: tatoeba.org #249258 (CK) & #450952 (minshirui)\n",
            "Tom is strict with his children.\tटॉम अपने बच्चों के साथ सख्ती से पेश आता है।\tCC-BY 2.0 (France) Attribution: tatoeba.org #8879567 (CK) & #8879580 (simranbansal)\n",
            "Tom treats Mary like a princess.\tटॉम मैरी के साथ राजकुमारियों जैसा व्यवहार करता है ।\tCC-BY 2.0 (France) Attribution: tatoeba.org #4124489 (Hybrid) & #9012830 (simranbansal)\n",
            "Try to jump as high as possible.\tजितना ऊँचा कूद सकते हो कूदो।\tCC-BY 2.0 (France) Attribution: tatoeba.org #39542 (CM) & #515383 (minshirui)\n",
            "Two crows are flying in the sky.\tआसमान में दो कौवे उड़ रहें हैं।\tCC-BY 2.0 (France) Attribution: tatoeba.org #280845 (CM) & #475772 (minshirui)\n",
            "Unless it rains, I will go, too.\tअगर बारिश नहीं होती है तो मैं भी जाऊँगा।\tCC-BY 2.0 (France) Attribution: tatoeba.org #26908 (CK) & #516755 (minshirui)\n",
            "We can hear the ocean from here.\tहमे यहाँ से समुंदर सुनाई देता है।\tCC-BY 2.0 (France) Attribution: tatoeba.org #62094 (CK) & #487267 (minshirui)\n",
            "We have eaten there three times.\tहम वहाँ तीन बार खा चुके हैं।\tCC-BY 2.0 (France) Attribution: tatoeba.org #372025 (saeb) & #495933 (minshirui)\n",
            "We hurried to the train station.\tहम जल्दबाज़ी में ट्रेन स्टेशन गए।\tCC-BY 2.0 (France) Attribution: tatoeba.org #395890 (aeriph) & #450411 (minshirui)\n",
            "We'll cross the river in a boat.\tहम नाव में नदी को पार करेंगे।\tCC-BY 2.0 (France) Attribution: tatoeba.org #248289 (CK) & #3216570 (anubhav93)\n",
            "What did you do with my baggage?\tतुमने मेरे सामान के साथ क्या किया?\tCC-BY 2.0 (France) Attribution: tatoeba.org #250592 (CK) & #457018 (minshirui)\n",
            "What is the population of India?\tभारत की आबादी क्या है?\tCC-BY 2.0 (France) Attribution: tatoeba.org #65727 (CK) & #487686 (minshirui)\n",
            "What is the population of India?\tभारत की जनसंख्या क्या है?\tCC-BY 2.0 (France) Attribution: tatoeba.org #65727 (CK) & #487689 (minshirui)\n",
            "What the newspapers say is true.\tजो अखबार में लिखा है वह सच है।\tCC-BY 2.0 (France) Attribution: tatoeba.org #269379 (CK) & #476387 (minshirui)\n",
            "Who's to blame for the accident?\tइस दुर्घटना के लिए कौन ज़िम्मेदार है?\tCC-BY 2.0 (France) Attribution: tatoeba.org #7783852 (CK) & #487229 (minshirui)\n",
            "Why didn't you go to the office?\tतुम दफ़्तर क्यों नहीं गए?\tCC-BY 2.0 (France) Attribution: tatoeba.org #395712 (CK) & #476346 (minshirui)\n",
            "Will you turn on the television?\tटीवी चालू कर दोगे क्या?\tCC-BY 2.0 (France) Attribution: tatoeba.org #39178 (CK) & #494125 (minshirui)\n",
            "Wipe your hands with this towel.\tअपने हाथ इस तौलिए से पोंछो।\tCC-BY 2.0 (France) Attribution: tatoeba.org #60912 (CK) & #449324 (minshirui)\n",
            "Would you like to dance with me?\tमेरे साथ नाचना चाहोगी क्या?\tCC-BY 2.0 (France) Attribution: tatoeba.org #1654 (CK) & #487270 (minshirui)\n",
            "Would you like to dance with me?\tमेरे साथ डान्स करना चाहती हो क्या?\tCC-BY 2.0 (France) Attribution: tatoeba.org #1654 (CK) & #487271 (minshirui)\n",
            "You should conform to the rules.\tतुम्हे नियमों का पालन करना चाहिए।\tCC-BY 2.0 (France) Attribution: tatoeba.org #16218 (CK) & #516710 (minshirui)\n",
            "Your bicycle is similar to mine.\tतुम्हारी साईकल मेरी साईकल जैसी है।\tCC-BY 2.0 (France) Attribution: tatoeba.org #17101 (CK) & #459410 (minshirui)\n",
            "\"Let's play tennis.\" \"Yes let's.\"\t\"चलो टेनिस खेलने चलतें हैं।\" \"हाँ, चलो चलतें हैं\"\tCC-BY 2.0 (France) Attribution: tatoeba.org #39393 (CK) & #491024 (minshirui)\n",
            "A rope was thrown into the water.\tरस्सी को पानी में फेंक दिया गया।\tCC-BY 2.0 (France) Attribution: tatoeba.org #29443 (CK) & #516673 (minshirui)\n",
            "Do you go there by bus or by car?\tतुम वहाँ बस से जाते हो या गाड़ी से?\tCC-BY 2.0 (France) Attribution: tatoeba.org #50889 (CK) & #486380 (minshirui)\n",
            "Do you have brothers and sisters?\tतुम्हारे पास भाई-बहन हैं क्या?\tCC-BY 2.0 (France) Attribution: tatoeba.org #434566 (lukaszpp) & #480282 (minshirui)\n",
            "Don't worry. You can count on me.\tचिंता मत करो। तुम मुझपर भरोसा कर सकते हो।\tCC-BY 2.0 (France) Attribution: tatoeba.org #269017 (CK) & #739780 (minshirui)\n",
            "He called me up almost every day.\tउसने लगभग रोज़ मुझे फ़ोन किया।\tCC-BY 2.0 (France) Attribution: tatoeba.org #303902 (CK) & #484073 (minshirui)\n",
            "He cannot answer their questions.\tवह उनके सवालों का जवाब नहीं दे सकता।\tCC-BY 2.0 (France) Attribution: tatoeba.org #307380 (CM) & #491576 (minshirui)\n",
            "He explained his plans in detail.\tउसने विस्तृत रूप से अपनी योजना समझाई।\tCC-BY 2.0 (France) Attribution: tatoeba.org #298613 (CK) & #446276 (minshirui)\n",
            "He has his hair cut once a month.\tवह अपने बाल महीने में एक बार कटवाता है।\tCC-BY 2.0 (France) Attribution: tatoeba.org #292564 (CK) & #485751 (minshirui)\n",
            "He hasn't written the letter yet.\tउसने चिट्ठी अभी तक नहीं लिखी है।\tCC-BY 2.0 (France) Attribution: tatoeba.org #292862 (CK) & #514056 (minshirui)\n",
            "He may be rich, but he is stingy.\tवह अमीर है हो है पर कंजूस भी है।\tCC-BY 2.0 (France) Attribution: tatoeba.org #18543 (crana) & #491699 (minshirui)\n",
            "He pressed me for a prompt reply.\tउसने मुझसे जल्द-से-जल्द उत्तर देने के लिए कहा।\tCC-BY 2.0 (France) Attribution: tatoeba.org #303745 (CK) & #455620 (minshirui)\n",
            "He reads the paper every morning.\tवह हर सुबह अखबार पढ़ता है।\tCC-BY 2.0 (France) Attribution: tatoeba.org #303868 (CK) & #465656 (minshirui)\n",
            "He was killed by a single bullet.\tउसे केवल एक गोली से मारा गया था।\tCC-BY 2.0 (France) Attribution: tatoeba.org #293819 (CK) & #498200 (minshirui)\n",
            "He weighed the stone in his hand.\tउसने पत्थर को अपने हाथ में रखकर तोला।\tCC-BY 2.0 (France) Attribution: tatoeba.org #300574 (minshirui) & #483849 (minshirui)\n",
            "He went to India by way of Japan.\tवह जापान से होकर भारत गया।\tCC-BY 2.0 (France) Attribution: tatoeba.org #302236 (CK) & #487750 (minshirui)\n",
            "How old might his grandfather be?\tउसके नाना की उम्र क्या होनी चाहिए?\tCC-BY 2.0 (France) Attribution: tatoeba.org #285275 (shanghainese) & #513998 (minshirui)\n",
            "Hurry up, or you'll miss the bus.\tजल्दी करो नहीं तो बस छूट जाएगी।\tCC-BY 2.0 (France) Attribution: tatoeba.org #19670 (CK) & #486364 (minshirui)\n",
            "I am ashamed of having been lazy.\tमुझे अपने आलसी होने पर शर्म आती है।\tCC-BY 2.0 (France) Attribution: tatoeba.org #259303 (Zifre) & #514030 (minshirui)\n",
            "I didn't know what to say to him.\tमुझे समझ में नहीं आ रहा था कि उससे क्या कहूँ।\tCC-BY 2.0 (France) Attribution: tatoeba.org #249976 (CK) & #486330 (minshirui)\n",
            "I don't know how, but Tom did it.\tपता नहीं कैसे पर टॉम ने कर दिया।\tCC-BY 2.0 (France) Attribution: tatoeba.org #3538338 (Hybrid) & #3539290 (nurendra)\n",
            "I don't know how, but you did it.\tपता नहीं कैसे पर तुमने कर दिया।\tCC-BY 2.0 (France) Attribution: tatoeba.org #3538337 (Hybrid) & #3539291 (nurendra)\n",
            "I had a strange dream last night.\tमुझे कल रात एक बहुत अजीब सपना आया।\tCC-BY 2.0 (France) Attribution: tatoeba.org #257805 (CK) & #487506 (minshirui)\n",
            "I had to help with the housework.\tमुझे घर के कामकाज में मदद करनी पड़ी।\tCC-BY 2.0 (France) Attribution: tatoeba.org #24174 (CK) & #491675 (minshirui)\n",
            "I have an important call to make.\tमुझे एक जरूरी कॉल करनी है ।\tCC-BY 2.0 (France) Attribution: tatoeba.org #3535474 (CK) & #3535571 (nurendra)\n",
            "I have no place to sleep tonight.\tमेरे पास आज रात सोने के लिए जगह नहीं है।\tCC-BY 2.0 (France) Attribution: tatoeba.org #243314 (CK) & #485516 (minshirui)\n",
            "I have not finished the task yet.\tमैंने अभी काम ख़तम नहीं किया है।\tCC-BY 2.0 (France) Attribution: tatoeba.org #32722 (CM) & #590031 (minshirui)\n",
            "I know nothing whatever about it.\tमुझे इसके बारे में कुछ भी नहीं पता।\tCC-BY 2.0 (France) Attribution: tatoeba.org #254764 (CM) & #480289 (minshirui)\n",
            "I know that it's not a good idea.\tमुझे पता है कि यह एक अच्छा विचार नहीं है।\tCC-BY 2.0 (France) Attribution: tatoeba.org #8212881 (CK) & #9012774 (simranbansal)\n",
            "I think the train will come soon.\tमुझे लगता है ट्रेन आने ही वाली है।\tCC-BY 2.0 (France) Attribution: tatoeba.org #326198 (CK) & #486367 (minshirui)\n",
            "I want to go to America some day.\tमैं एक दिन अमेरिका जाना चाहता हूँ।\tCC-BY 2.0 (France) Attribution: tatoeba.org #66378 (CH) & #485777 (minshirui)\n",
            "I want to study abroad next year.\tमुझे अगले साल विदेश जाकर पढ़ाई करने का मन है।\tCC-BY 2.0 (France) Attribution: tatoeba.org #325107 (CK) & #475926 (minshirui)\n",
            "I was taking a bath when he came.\tजब वह आया मैं नहा रहा था।\tCC-BY 2.0 (France) Attribution: tatoeba.org #284258 (CK) & #483064 (minshirui)\n",
            "I went there because I wanted to.\tमैं वहाँ गया क्योंकि मेरा मन था।\tCC-BY 2.0 (France) Attribution: tatoeba.org #257411 (CK) & #505147 (minshirui)\n",
            "I wrote a love letter last night.\tमैंने कल रात एक प्रेम पत्र लिखा था।\tCC-BY 2.0 (France) Attribution: tatoeba.org #244753 (CK) & #457095 (minshirui)\n",
            "I'd like to have a word with you.\tमैं तुमसे बात करना चाह्ता हूँ।\tCC-BY 2.0 (France) Attribution: tatoeba.org #71237 (CK) & #450407 (minshirui)\n",
            "I'm looking for a small suitcase.\tमैं एक छोटी अटैची को ढूँढ रहा हूँ।\tCC-BY 2.0 (France) Attribution: tatoeba.org #267519 (CK) & #457014 (minshirui)\n",
            "I'm tired of watching television.\tमैं टीवी देख देखकर थक गया हूँ।\tCC-BY 2.0 (France) Attribution: tatoeba.org #255127 (CK) & #516631 (minshirui)\n",
            "Is it always a sin to tell a lie?\tक्या झूठ हमेशा बुरा होता है?\tCC-BY 2.0 (France) Attribution: tatoeba.org #65621 (CK) & #484100 (minshirui)\n",
            "Is there anywhere you want to go?\tऐसी कोई जगह है जहां आप जाना चाहते हो?\tCC-BY 2.0 (France) Attribution: tatoeba.org #2015242 (CK) & #5361247 (dfordivam)\n",
            "It is expensive to live in Japan.\tजापान में रहना बहुत महंगा है।\tCC-BY 2.0 (France) Attribution: tatoeba.org #281261 (CK) & #483992 (minshirui)\n",
            "It is no use asking me for money.\tमुझसे पैसे माँगने में कोई फ़ायदा नहीं है।\tCC-BY 2.0 (France) Attribution: tatoeba.org #250099 (CK) & #510017 (minshirui)\n",
            "It looks like you are from India.\tलगता है कि तुम भारत के हो।\tCC-BY 2.0 (France) Attribution: tatoeba.org #370950 (saeb) & #487760 (minshirui)\n",
            "It seems to me that you're wrong.\tमुझे लगता है कि तुम ग़लत हो।\tCC-BY 2.0 (France) Attribution: tatoeba.org #7803551 (CK) & #480253 (minshirui)\n",
            "It won't take long to do the job.\tइस काम को करने में ज़्यादा देर नहीं लगेगी।\tCC-BY 2.0 (France) Attribution: tatoeba.org #47606 (CK) & #514096 (minshirui)\n",
            "Keep children away from medicine.\tबच्चों को दवाईयों से दूर रखना चहिए।\tCC-BY 2.0 (France) Attribution: tatoeba.org #245797 (CK) & #457016 (minshirui)\n",
            "My boss made me work last Sunday.\tमेरे बॉस ने मुझसे पिछले रविवार को काम करवाया।\tCC-BY 2.0 (France) Attribution: tatoeba.org #259059 (CK) & #465635 (minshirui)\n",
            "My father's hair has grown white.\tमेरे पापा के बाल सफ़ेद हो गए हैं।\tCC-BY 2.0 (France) Attribution: tatoeba.org #318916 (CK) & #449367 (minshirui)\n",
            "My hobby is visiting old temples.\tमैं पुराने मंदिरों को देखने जाने का शौकीन हूँ।\tCC-BY 2.0 (France) Attribution: tatoeba.org #251141 (CK) & #457081 (minshirui)\n",
            "Oh, no! We're running out of gas.\tअरे नहीं! पेट्रोल खतम होने वाला है।\tCC-BY 2.0 (France) Attribution: tatoeba.org #72150 (CM) & #511718 (minshirui)\n",
            "One billion people speak English.\tसौ अरब लोग अंग्रेज़ी बोलते हैं।\tCC-BY 2.0 (France) Attribution: tatoeba.org #73452 (CM) & #465596 (minshirui)\n",
            "Our class consists of fifty boys.\tहमारी क्लास में पचास लड़के हैं।\tCC-BY 2.0 (France) Attribution: tatoeba.org #23363 (CM) & #590001 (minshirui)\n",
            "Our class consists of fifty boys.\tहमारी कक्षा में पचास लड़के हैं।\tCC-BY 2.0 (France) Attribution: tatoeba.org #23363 (CM) & #590002 (minshirui)\n",
            "Our meeting was quite accidental.\tहमारी मुलाकात ग़लती से हो गई।\tCC-BY 2.0 (France) Attribution: tatoeba.org #247560 (CK) & #491577 (minshirui)\n",
            "Please pardon me for coming late.\tमुझे देर से आने के लिए माफ़ कीजिएगा।\tCC-BY 2.0 (France) Attribution: tatoeba.org #277364 (CK) & #498205 (minshirui)\n",
            "School begins at half past eight.\tस्कूल साढ़े-आठ बजे शुरू होता है।\tCC-BY 2.0 (France) Attribution: tatoeba.org #266224 (CK) & #487409 (minshirui)\n",
            "She asked him to raise the funds.\tउसने उससे पैसे जुटाने के लिए कहा।\tCC-BY 2.0 (France) Attribution: tatoeba.org #316306 (CK) & #450385 (minshirui)\n",
            "She didn't give me my money back.\tउसने मुझे मेरे पैसे नहीं लौटाए।\tCC-BY 2.0 (France) Attribution: tatoeba.org #456681 (lukaszpp) & #511759 (minshirui)\n",
            "She gladly accepted his proposal.\tउसने उसका प्रस्ताव खुशी से स्वीकार कर लिया।\tCC-BY 2.0 (France) Attribution: tatoeba.org #313104 (CK) & #477719 (minshirui)\n",
            "She is poor, but she looks happy.\tवह गरीब है, पर दिखने से खुश लगती है।\tCC-BY 2.0 (France) Attribution: tatoeba.org #316710 (CK) & #486244 (minshirui)\n",
            "She is too young to go to school.\tवह स्कूल जाने के लिए अभी बहुत छोटी है।\tCC-BY 2.0 (France) Attribution: tatoeba.org #317330 (CK) & #509363 (minshirui)\n",
            "She is two years younger than me.\tवह मुझसे दो साल छोटी है।\tCC-BY 2.0 (France) Attribution: tatoeba.org #317019 (minshirui) & #484047 (minshirui)\n",
            "She remained single all her life.\tउसने पूरी ज़िन्दगी शादी नहीं करी।\tCC-BY 2.0 (France) Attribution: tatoeba.org #312585 (CK) & #480320 (minshirui)\n",
            "She reproached me for being lazy.\tउसने मुझपर आलसी होने के लिए गुस्सा किया।\tCC-BY 2.0 (France) Attribution: tatoeba.org #314371 (papabear) & #516752 (minshirui)\n",
            "She went to Paris to study music.\tवह संगीत पढ़ने के लिए पैरिस गई।\tCC-BY 2.0 (France) Attribution: tatoeba.org #312759 (CK) & #485758 (minshirui)\n",
            "Someone robbed Mary of her money.\tकिसी ने मेरी से उसके पैसे चुरा लिए।\tCC-BY 2.0 (France) Attribution: tatoeba.org #276174 (CM) & #459385 (minshirui)\n",
            "Stamps aren't sold in this store.\tयहां डाक टिकटें नहीं बेची जातीं हैं।\tCC-BY 2.0 (France) Attribution: tatoeba.org #7810471 (CK) & #450378 (minshirui)\n",
            "Summer is the season I like best.\tगर्मी का मौसम मेरा सबसे पसंदीता मौसम है।\tCC-BY 2.0 (France) Attribution: tatoeba.org #24340 (CK) & #515423 (minshirui)\n",
            "That box is bigger than this one.\tवह डब्बा इस वाले से बड़ा है।\tCC-BY 2.0 (France) Attribution: tatoeba.org #67859 (CK) & #581713 (minshirui)\n",
            "The boy stripped off his clothes.\tउस लड़के ने अपने सारे कपड़े उतारे।\tCC-BY 2.0 (France) Attribution: tatoeba.org #267997 (adjusting) & #484016 (minshirui)\n",
            "The conference will end tomorrow.\tसम्मेलन कल समाप्त होगा।\tCC-BY 2.0 (France) Attribution: tatoeba.org #405731 (CM) & #516821 (minshirui)\n",
            "The girl was aware of the danger.\tउस लड़की को खतरे के बारे में पता था।\tCC-BY 2.0 (France) Attribution: tatoeba.org #267843 (CK) & #475946 (minshirui)\n",
            "The history class starts at nine.\tइतिहास की क्लास नौ बजे शुरू होती है।\tCC-BY 2.0 (France) Attribution: tatoeba.org #326120 (Eldad) & #515440 (minshirui)\n",
            "The rumor is true to some extent.\tवह अफ़वाह किसी हद तक सच है।\tCC-BY 2.0 (France) Attribution: tatoeba.org #50646 (CK) & #3216518 (anubhav93)\n",
            "The shooting started around noon.\tगोलीबारी लगभग दोपहर के बारह बजे शुरू हुई।\tCC-BY 2.0 (France) Attribution: tatoeba.org #238485 (CK) & #511753 (minshirui)\n",
            "The telephone rang several times.\tफ़ोन कई बार बजा।\tCC-BY 2.0 (France) Attribution: tatoeba.org #279251 (CK) & #483876 (minshirui)\n",
            "The top of that mountain is flat.\tउस पहाड़ की चोटी चपटी है।\tCC-BY 2.0 (France) Attribution: tatoeba.org #68366 (CM) & #561241 (minshirui)\n",
            "There was a strong wind that day.\tउस दिन हवा बहुत तेज़ थी।\tCC-BY 2.0 (France) Attribution: tatoeba.org #67878 (CK) & #450367 (minshirui)\n",
            "These trees were planted by them.\tये पेड़ उन्होंने लगाए थे।\tCC-BY 2.0 (France) Attribution: tatoeba.org #55065 (CK) & #485770 (minshirui)\n",
            "They gave us very little trouble.\tउन्होंने हमको बहुत कम कष्ट दिया।\tCC-BY 2.0 (France) Attribution: tatoeba.org #306023 (CK) & #484162 (minshirui)\n",
            "They were scolded by the teacher.\tउन्हें अपनी टीचर से डाँट पड़ी।\tCC-BY 2.0 (France) Attribution: tatoeba.org #307004 (CK) & #480301 (minshirui)\n",
            "They will get married next month.\tउनकी शादी अगले महीने होगी।\tCC-BY 2.0 (France) Attribution: tatoeba.org #307646 (CK) & #487258 (minshirui)\n",
            "This book contains many pictures.\tइस किताब में बहुत सारी तस्वीरें हैं।\tCC-BY 2.0 (France) Attribution: tatoeba.org #57085 (CK) & #491877 (minshirui)\n",
            "This book is older than that one.\tयह किताब उस किताब से पुरानी है।\tCC-BY 2.0 (France) Attribution: tatoeba.org #57064 (Eldad) & #511169 (minshirui)\n",
            "This is what I found in the cave.\tमुझे गुफ़ा में ये मिला।\tCC-BY 2.0 (France) Attribution: tatoeba.org #55648 (CK) & #691661 (minshirui)\n",
            "This tie doesn't go with my suit.\tयह टाई मेरे सूट के साथ जचती नहीं है।\tCC-BY 2.0 (France) Attribution: tatoeba.org #60729 (CK) & #509333 (minshirui)\n",
            "Tom has a strange way of talking.\tटॉम का बात करने का तरीका अजीब है ।\tCC-BY 2.0 (France) Attribution: tatoeba.org #5698008 (CK) & #8938146 (simranbansal)\n",
            "Tom has a strange way of talking.\tटॉम अजीब तरीके से बात करता है ।\tCC-BY 2.0 (France) Attribution: tatoeba.org #5698008 (CK) & #8938147 (simranbansal)\n",
            "Tom is leaving in thirty minutes.\tटॉम तीस मिनट में निकल रहा है ।\tCC-BY 2.0 (France) Attribution: tatoeba.org #6529960 (CK) & #8938115 (simranbansal)\n",
            "Tom talks a lot about his father.\tटॉम अपने पिता जी के बारे में बहुत बात करता है ।\tCC-BY 2.0 (France) Attribution: tatoeba.org #5916324 (CK) & #8876397 (simranbansal)\n",
            "We stayed at a hotel by the lake.\tहम झील के पास एक होटल में ठहरे।\tCC-BY 2.0 (France) Attribution: tatoeba.org #23193 (CK) & #514127 (minshirui)\n",
            "We went for a walk in the forest.\tहम जंगल में सैर करने गए थे।\tCC-BY 2.0 (France) Attribution: tatoeba.org #248912 (CK) & #609404 (minshirui)\n",
            "What do you do in your free time?\tतुम अपने खाली समय में क्या करते हो?\tCC-BY 2.0 (France) Attribution: tatoeba.org #23957 (CK) & #516771 (minshirui)\n",
            "What's the worst that can happen?\tसबसे बुरा क्या हो सकता है?\tCC-BY 2.0 (France) Attribution: tatoeba.org #7002752 (Hybrid) & #8889401 (simranbansal)\n",
            "When do you usually get off work?\tतुम आमतौर पर कितने बजे काम से छूटते हो?\tCC-BY 2.0 (France) Attribution: tatoeba.org #419797 (CM) & #480260 (minshirui)\n",
            "When will you get ready to leave?\tतुम चलने के लिए तैयार कब होगे?\tCC-BY 2.0 (France) Attribution: tatoeba.org #66003 (CK) & #455311 (minshirui)\n",
            "Will you go to the party tonight?\tतुम आज रात पार्टी में जाओगे क्या?\tCC-BY 2.0 (France) Attribution: tatoeba.org #243320 (CK) & #483937 (minshirui)\n",
            "Will you have another cup of tea?\tएक और गिलास चाय लेंगे क्या?\tCC-BY 2.0 (France) Attribution: tatoeba.org #31451 (CK) & #473704 (minshirui)\n",
            "Will you sing me a Beatles' song?\tतुम मेरे लिए एक बीटल्स का गाना गा सकते हो क्या?\tCC-BY 2.0 (France) Attribution: tatoeba.org #34865 (CK) & #487203 (minshirui)\n",
            "You didn't have to come so early.\tतुम्हे इतना जल्दी आने की ज़रूरत नहीं थी।\tCC-BY 2.0 (France) Attribution: tatoeba.org #429788 (witbrock) & #491611 (minshirui)\n",
            "You don't have to chat with them.\tतुम्हे उसने गप मारने की ज़रूरत नहीं है।\tCC-BY 2.0 (France) Attribution: tatoeba.org #271220 (CM) & #506440 (minshirui)\n",
            "You must get rid of such a habit.\tतुम्हे इस तरह की आदत तोड़ देनी चाहिए।\tCC-BY 2.0 (France) Attribution: tatoeba.org #51256 (jakov) & #491694 (minshirui)\n",
            "A man like that gets on my nerves.\tउस तरह का आदमी मुझसे झिलता नहीं है।\tCC-BY 2.0 (France) Attribution: tatoeba.org #72101 (CM) & #455587 (minshirui)\n",
            "A squirrel hid among the branches.\tएक गिलहरी डालियों के बीच छुपी हुई थी।\tCC-BY 2.0 (France) Attribution: tatoeba.org #29689 (CM) & #581698 (minshirui)\n",
            "Almost all the leaves have fallen.\tलगभग सारी-की-सारी पत्तियाँ गिर चुकीं हैं।\tCC-BY 2.0 (France) Attribution: tatoeba.org #33302 (CK) & #505384 (minshirui)\n",
            "At last, he realized his mistakes.\tआखिरकार उसको उसकी ग़लतियाँ समझ में आईं।\tCC-BY 2.0 (France) Attribution: tatoeba.org #39870 (CK) & #476406 (minshirui)\n",
            "Can you tell me what size this is?\tक्या आप मुझे बता सकते हैं कि यह किस नाप का है?\tCC-BY 2.0 (France) Attribution: tatoeba.org #56114 (jakov) & #505042 (minshirui)\n",
            "Coincidentally enough, I know him.\tइत्तेफ़ाक से, मैं उसे जानता हूँ।\tCC-BY 2.0 (France) Attribution: tatoeba.org #328720 (CM) & #505067 (minshirui)\n",
            "Do I have to stay in the hospital?\tक्या मुझे अस्पताल में रहना होगा?\tCC-BY 2.0 (France) Attribution: tatoeba.org #281918 (CK) & #691670 (minshirui)\n",
            "Do you know how to use a computer?\tक्या आपको कम्प्यूटर का इस्तेमाल करना आता है?\tCC-BY 2.0 (France) Attribution: tatoeba.org #513513 (CK) & #691665 (minshirui)\n",
            "Do you know how to use a computer?\tक्या आपको कम्प्यूटर का उपयोग करना आता है?\tCC-BY 2.0 (France) Attribution: tatoeba.org #513513 (CK) & #691666 (minshirui)\n",
            "Do you want to watch this program?\tतुम यह कार्यक्रम देखना चाहते हो क्या?\tCC-BY 2.0 (France) Attribution: tatoeba.org #57467 (CK) & #516807 (minshirui)\n",
            "Elephants live in Asia and Africa.\tहाथी एशिया और अफ़्रीका में रहते हैं।\tCC-BY 2.0 (France) Attribution: tatoeba.org #268252 (CK) & #518725 (minshirui)\n",
            "He decided not to go to the party.\tउसने पार्टी में न जाने का फ़ैसला किया।\tCC-BY 2.0 (France) Attribution: tatoeba.org #292347 (CK) & #505148 (minshirui)\n",
            "He didn't go there. Neither did I.\tन वह वहाँ गया, न मैं।\tCC-BY 2.0 (France) Attribution: tatoeba.org #290432 (CK) & #3214259 (anubhav93)\n",
            "He has been to London three times.\tवह लंदन तीन बार जा चुका है।\tCC-BY 2.0 (France) Attribution: tatoeba.org #296982 (CK) & #459420 (minshirui)\n",
            "He hid his sadness behind a smile.\tउसने अपने दुख को अपनी मुस्कुराहट के पीछे छिपा लिया।\tCC-BY 2.0 (France) Attribution: tatoeba.org #303033 (CK) & #506572 (minshirui)\n",
            "He is able to speak ten languages.\tवह दस भाषाएँ बोलना जानता है।\tCC-BY 2.0 (France) Attribution: tatoeba.org #288348 (CK) & #486062 (minshirui)\n",
            "He lives in that house over there.\tवह वहाँ उस घर में रहता है।\tCC-BY 2.0 (France) Attribution: tatoeba.org #288708 (CK) & #516799 (minshirui)\n",
            "He used pigeons in his experiment.\tवह अपने प्रयोगों में कबूतरों का उपयोग करता था।\tCC-BY 2.0 (France) Attribution: tatoeba.org #298971 (CK) & #487430 (minshirui)\n",
            "He will write for hours at a time.\tवह एक बार में घंटो के लिए लिख सकता है।\tCC-BY 2.0 (France) Attribution: tatoeba.org #293242 (CM) & #483909 (minshirui)\n",
            "He's always running short of cash.\tउसको हमेशा पैसों की कमी होती है।\tCC-BY 2.0 (France) Attribution: tatoeba.org #289113 (CK) & #491916 (minshirui)\n",
            "I can't buy a book this expensive.\tमैं इतनी महंगी किताब नहीं ख़रीद सकता।\tCC-BY 2.0 (France) Attribution: tatoeba.org #41375 (CK) & #465594 (minshirui)\n",
            "I can't put up with his arrogance.\tमुझसे उसका अक्खड़पन झेला नहीं जाता।\tCC-BY 2.0 (France) Attribution: tatoeba.org #403608 (CK) & #477723 (minshirui)\n",
            "I cannot understand what happened.\tमुझे समझ में नहीं आ रहा क्या हुआ।\tCC-BY 2.0 (France) Attribution: tatoeba.org #411922 (Dorenda) & #516714 (minshirui)\n",
            "I don't like being made a fool of.\tमुझे मूर्ख बनना पसंद नहीं है।\tCC-BY 2.0 (France) Attribution: tatoeba.org #27848 (CK) & #505039 (minshirui)\n",
            "I doubt his ability to do the job.\tमुझे उसके काम करने की योग्यता पर भरोसा नहीं है।\tCC-BY 2.0 (France) Attribution: tatoeba.org #284682 (CK) & #483935 (minshirui)\n",
            "I felt hungry after the long walk.\tमुझे लम्बी सैर के बाद भूख लग आई।\tCC-BY 2.0 (France) Attribution: tatoeba.org #278094 (CK) & #516806 (minshirui)\n",
            "I had a letter from her yesterday.\tमेरे पास कल उसकी एक चिट्ठी आई।\tCC-BY 2.0 (France) Attribution: tatoeba.org #244661 (CK) & #476317 (minshirui)\n",
            "I had the good fortune to succeed.\tमैं खुशकिसमत था कि सफ़ल हो गया।\tCC-BY 2.0 (France) Attribution: tatoeba.org #257378 (CK) & #451245 (minshirui)\n",
            "I saw a dog swim across the river.\tमैंने एक कुत्ते को तैरकर नदी पार करते हुए देखा।\tCC-BY 2.0 (France) Attribution: tatoeba.org #257238 (CK) & #3225299 (anubhav93)\n",
            "I usually get home by six o'clock.\tमैं आमतौर पर छः बजे तक घर आ जाता हूँ।\tCC-BY 2.0 (France) Attribution: tatoeba.org #261502 (CK) & #490798 (minshirui)\n",
            "I usually get up at eight o'clock.\tमैं आमतौर पर आठ बजे उठा करता हूँ।\tCC-BY 2.0 (France) Attribution: tatoeba.org #477193 (CK) & #505402 (minshirui)\n",
            "I was able to win the first prize.\tमैंने प्रथम पुरस्कार जीत लिया।\tCC-BY 2.0 (France) Attribution: tatoeba.org #252479 (CK) & #484048 (minshirui)\n",
            "I was asked to give you a message.\tमुझसे आपको यह संदेश देने के लिए बताया गया था।\tCC-BY 2.0 (France) Attribution: tatoeba.org #252884 (CK) & #485932 (minshirui)\n",
            "I was asked to give you a message.\tमुझे आपको संदेश देने के लिए कहा गया था।\tCC-BY 2.0 (France) Attribution: tatoeba.org #252884 (CK) & #8889254 (simranbansal)\n",
            "I was asked to give you a message.\tमुझे तुम्हें संदेश देने के लिए कहा गया था।\tCC-BY 2.0 (France) Attribution: tatoeba.org #252884 (CK) & #8889255 (simranbansal)\n",
            "I'm going to the village tomorrow.\tमैं कल गाँव जा रहा हूँ।\tCC-BY 2.0 (France) Attribution: tatoeba.org #642501 (minshirui) & #642500 (minshirui)\n",
            "It happened between eight and ten.\tआठ से दस बजे के बीच हुआ।\tCC-BY 2.0 (France) Attribution: tatoeba.org #42187 (CK) & #450447 (minshirui)\n",
            "It happened between eight and ten.\tआठ से दस बजे के बीच हुई।\tCC-BY 2.0 (France) Attribution: tatoeba.org #42187 (CK) & #450448 (minshirui)\n",
            "It is better to ignore this point.\tबेहतर होगा कि इस बात को अनदेखा किया जाए।\tCC-BY 2.0 (France) Attribution: tatoeba.org #57716 (CM) & #449371 (minshirui)\n",
            "It was proved that he was a thief.\tयह साबित कर दिया गया कि वह चोर था।\tCC-BY 2.0 (France) Attribution: tatoeba.org #491806 (minshirui) & #491801 (minshirui)\n",
            "It's important for them to go out.\tउनके लिए बाहर जाना बहुत ज़रूरी है।\tCC-BY 2.0 (France) Attribution: tatoeba.org #305056 (CK) & #491906 (minshirui)\n",
            "Keep your room as neat as you can.\tअपना कमरा जितना साफ़-सुथरा रख सकते हो रखो।\tCC-BY 2.0 (France) Attribution: tatoeba.org #264786 (CK) & #449294 (minshirui)\n",
            "Let me give you a piece of advice.\tमैं तुम्हें एक बात की सलाह देता हूँ।\tCC-BY 2.0 (France) Attribution: tatoeba.org #27804 (CK) & #491597 (minshirui)\n",
            "Mary prided herself on her beauty.\tमेरी को अपनी सुंदरता पर बहुत नाज़ था।\tCC-BY 2.0 (France) Attribution: tatoeba.org #31765 (CK) & #590499 (minshirui)\n",
            "May we accompany you on your walk?\tहम तुम्हारे साथ सैर करने चलें क्या?\tCC-BY 2.0 (France) Attribution: tatoeba.org #17130 (Zifre) & #455225 (minshirui)\n",
            "My friends celebrated my birthday.\tमेरे दोस्तों ने मेरा जन्मदिन मनाया।\tCC-BY 2.0 (France) Attribution: tatoeba.org #324392 (CK) & #3216291 (anubhav93)\n",
            "My hens laid fewer eggs last year.\tमेरी मुर्गियों ने पिछले साल के मुकाबले से कम अंडे दियें हैं।\tCC-BY 2.0 (France) Attribution: tatoeba.org #250412 (CK) & #484089 (minshirui)\n",
            "New Delhi is the capital of India.\tभारत की राजधानी नई दिल्ली है।\tCC-BY 2.0 (France) Attribution: tatoeba.org #5065809 (PulseDS) & #487565 (minshirui)\n",
            "Only a few people didn't go there.\tबहुत कम लोग थे जो वहाँ नहीं गए।\tCC-BY 2.0 (France) Attribution: tatoeba.org #372977 (contour) & #485939 (minshirui)\n",
            "Only a few people listened to him.\tउसकी बात कुछ ही लोगों ने सुनी।\tCC-BY 2.0 (France) Attribution: tatoeba.org #33052 (CK) & #510282 (minshirui)\n",
            "She has already finished the work.\tवह काम खतम कर चुकी है।\tCC-BY 2.0 (France) Attribution: tatoeba.org #312332 (CK) & #485769 (minshirui)\n",
            "She is as beautiful as her mother.\tवह अपनी माँ जैसी सुंदर है।\tCC-BY 2.0 (France) Attribution: tatoeba.org #316942 (CK) & #475831 (minshirui)\n",
            "She is ashamed of her old clothes.\tउसको अपने पुराने कपड़ो पर शर्म आती है।\tCC-BY 2.0 (France) Attribution: tatoeba.org #313515 (CK) & #455249 (minshirui)\n",
            "Smoking will do you a lot of harm.\tधूम्रपान आपको हानि पहुँचाएगा।\tCC-BY 2.0 (France) Attribution: tatoeba.org #19948 (CK) & #518705 (minshirui)\n",
            "Someday your dream will come true.\tतुम्हारा सपना एक दिन सच हो जाएगा।\tCC-BY 2.0 (France) Attribution: tatoeba.org #66349 (CK) & #450971 (minshirui)\n",
            "That bicycle is too small for you.\tयह साईकल तुम्हारे लिए बहुत छोटी है।\tCC-BY 2.0 (France) Attribution: tatoeba.org #46958 (CK) & #592937 (minshirui)\n",
            "That was an exemplary performance!\tवह एक अनुकरणीय प्रदर्शन था!\tCC-BY 2.0 (France) Attribution: tatoeba.org #8879583 (simranbansal) & #8879586 (simranbansal)\n",
            "The capital of India is New Delhi.\tभारत की राजधानी नई दिल्ली है।\tCC-BY 2.0 (France) Attribution: tatoeba.org #487564 (minshirui) & #487565 (minshirui)\n",
            "The job must be finished by 3 p.m.\tयह काम दोपहर तीन बजे से पहले खतम हो जाना चाहिए।\tCC-BY 2.0 (France) Attribution: tatoeba.org #47664 (CK) & #485785 (minshirui)\n",
            "The mountain is covered with snow.\tपहाड़ पर बर्फ़ बिछी हुई है।\tCC-BY 2.0 (France) Attribution: tatoeba.org #47709 (CK) & #506538 (minshirui)\n",
            "The plane took off exactly at six.\tहवाईजहाज़ ने ठीक छः बजे उड़ान ली।\tCC-BY 2.0 (France) Attribution: tatoeba.org #318046 (CK) & #457063 (minshirui)\n",
            "The rain prevented me from coming.\tमैं बारिश की वजह से आ नहीं पाया।\tCC-BY 2.0 (France) Attribution: tatoeba.org #26738 (CK) & #455641 (minshirui)\n",
            "The road is parallel to the river.\tवह सड़क नदी के साथ साथ चलती है।\tCC-BY 2.0 (France) Attribution: tatoeba.org #44667 (CK) & #450443 (minshirui)\n",
            "The women of France are beautiful.\tफ़्रांस की महिलाये खूबसूरत हैं।\tCC-BY 2.0 (France) Attribution: tatoeba.org #371423 (saeb) & #5358654 (dfordivam)\n",
            "There is a garden behind my house.\tमेरे घर के पीछे एक बगीचा है।\tCC-BY 2.0 (France) Attribution: tatoeba.org #3366334 (dcarthik) & #3216515 (anubhav93)\n",
            "There was no one there besides me.\tवहाँ मेरे अलावा और कोई नहीं था।\tCC-BY 2.0 (France) Attribution: tatoeba.org #50966 (CK) & #518693 (minshirui)\n",
            "There were two murders this month.\tइस महीने दो क़त्ल हुए हैं।\tCC-BY 2.0 (France) Attribution: tatoeba.org #242022 (CK) & #476002 (minshirui)\n",
            "There were two murders this month.\tइस महीने दो हत्याएँ हुईं हैं।\tCC-BY 2.0 (France) Attribution: tatoeba.org #242022 (CK) & #476004 (minshirui)\n",
            "They are willing to learn English.\tवे अंग्रेज़ी सीखने को तैयार हैं।\tCC-BY 2.0 (France) Attribution: tatoeba.org #306929 (CK) & #450417 (minshirui)\n",
            "This story is worth reading again.\tयह कहानी फिर से पढ़ने लायक है।\tCC-BY 2.0 (France) Attribution: tatoeba.org #57259 (Dejo) & #8879577 (simranbansal)\n",
            "We shared the profit among us all.\tहमने मुनाफ़े को अपने बीच बाँटा।\tCC-BY 2.0 (France) Attribution: tatoeba.org #22846 (CK) & #505422 (minshirui)\n",
            "We should observe the speed limit.\tहमे गति सीमा का पालन करना चाहिए।\tCC-BY 2.0 (France) Attribution: tatoeba.org #22867 (CK) & #518737 (minshirui)\n",
            "We usually have breakfast at 7:30.\tहम आमतौर पर साढ़े सात बजे नाश्ता खाते हैं।\tCC-BY 2.0 (France) Attribution: tatoeba.org #248282 (CK) & #506550 (minshirui)\n",
            "What movies are playing this week?\tइस सप्ताह कौन सी फ़िल्में लगीं हुईं हैं?\tCC-BY 2.0 (France) Attribution: tatoeba.org #242086 (CK) & #443039 (minshirui)\n",
            "What time did your friend go home?\tतुम्हारा दोस्त कितने बजे घर वापस गया था?\tCC-BY 2.0 (France) Attribution: tatoeba.org #70343 (CK) & #491027 (minshirui)\n",
            "What time do you get up every day?\tआप रोज़ कितने बजे उठते हैं?\tCC-BY 2.0 (France) Attribution: tatoeba.org #68922 (CK) & #691652 (minshirui)\n",
            "What time do you get up every day?\tतुम रोज़ कितने बजे उठते हो?\tCC-BY 2.0 (France) Attribution: tatoeba.org #68922 (CK) & #691653 (minshirui)\n",
            "What time do you get up every day?\tतुम रोज़ कितने बजे उठा करते हो?\tCC-BY 2.0 (France) Attribution: tatoeba.org #68922 (CK) & #691654 (minshirui)\n",
            "What time will you have breakfast?\tतुम नाश्ता कितने बजे लोगे?\tCC-BY 2.0 (France) Attribution: tatoeba.org #277797 (CK) & #484064 (minshirui)\n",
            "Who do you think broke the window?\tतुम्हें क्या लगता है? खिड़की किसने तोड़ी है?\tCC-BY 2.0 (France) Attribution: tatoeba.org #276359 (CK) & #484068 (minshirui)\n",
            "Will the weather be good tomorrow?\tकल मौसम अच्छा होगा क्या?\tCC-BY 2.0 (France) Attribution: tatoeba.org #386687 (Mouseneb) & #476419 (minshirui)\n",
            "Would you like another cup of tea?\tआप एक और कप चाय पीना चाहेंगे क्या?\tCC-BY 2.0 (France) Attribution: tatoeba.org #64206 (CK) & #457039 (minshirui)\n",
            "You had better not read this book.\tतुम यह किताब न ही पढ़ो बेहतर होगा।\tCC-BY 2.0 (France) Attribution: tatoeba.org #56891 (CM) & #486325 (minshirui)\n",
            "You must keep an eye on the child.\tतुम्हे बच्चे पर नज़र रखनी पड़ेगी।\tCC-BY 2.0 (France) Attribution: tatoeba.org #47559 (CM) & #510276 (minshirui)\n",
            "You've got nothing to complain of.\tतुम्हारे पास शिकायत करने के लिए को भी वजह नहीं है।\tCC-BY 2.0 (France) Attribution: tatoeba.org #17500 (CK) & #485566 (minshirui)\n",
            "A police officer is talking to her.\tएक पुलिस अफ़सर उससे बात कर रहा है।\tCC-BY 2.0 (France) Attribution: tatoeba.org #238381 (CK) & #476302 (minshirui)\n",
            "An elephant is a very large animal.\tहाथी एक बहुत बड़ा जानवर होता है।\tCC-BY 2.0 (France) Attribution: tatoeba.org #268257 (CK) & #486254 (minshirui)\n",
            "Are you sure of her coming on time?\tतुम्हे पक्का मालूम है कि वह समय पर आ रही है?\tCC-BY 2.0 (France) Attribution: tatoeba.org #308339 (CM) & #498612 (minshirui)\n",
            "As a matter of fact, I dislike him.\tदरअसल मुझे वह पसंद नहीं है।\tCC-BY 2.0 (France) Attribution: tatoeba.org #265156 (CM) & #3212877 (anubhav93)\n",
            "Bern is the capital of Switzerland.\tबर्न स्विजरलैंड की राजधानी है।\tCC-BY 2.0 (France) Attribution: tatoeba.org #33861 (CK) & #505424 (minshirui)\n",
            "Could you call again later, please?\tक्या आप थोड़ी देर बाद फिरसे फ़ोन कर सकतें हैं?\tCC-BY 2.0 (France) Attribution: tatoeba.org #1824 (CK) & #581863 (minshirui)\n",
            "Did you hear the news on the radio?\tतुमने रेडियो पर खबर सुनी क्या?\tCC-BY 2.0 (France) Attribution: tatoeba.org #69710 (CK) & #691649 (minshirui)\n",
            "Do you have these shoes in my size?\tक्या ये जूते मेरे नाप में भी हैं?\tCC-BY 2.0 (France) Attribution: tatoeba.org #59594 (CK) & #691658 (minshirui)\n",
            "Do you have these shoes in my size?\tक्या ये जूते मेरे नाप में भी मिल सकते हैं?\tCC-BY 2.0 (France) Attribution: tatoeba.org #59594 (CK) & #691659 (minshirui)\n",
            "Do you like to live in the country?\tआप को गाँव में रहना पसंद है क्या?\tCC-BY 2.0 (France) Attribution: tatoeba.org #279084 (Zifre) & #516637 (minshirui)\n",
            "Don't be afraid of making mistakes.\tग़लतियाँ करने से मत डरो।\tCC-BY 2.0 (France) Attribution: tatoeba.org #20858 (CK) & #484120 (minshirui)\n",
            "Don't speak ill of your classmates.\tअपने सहपाठियों की बुराई मत करो।\tCC-BY 2.0 (France) Attribution: tatoeba.org #62902 (CK) & #475959 (minshirui)\n",
            "Every man should learn how to cook.\tहर आदमी को खाना बनाना सीखना चाहिए।\tCC-BY 2.0 (France) Attribution: tatoeba.org #276942 (CK) & #485812 (minshirui)\n",
            "Everybody wants to live in comfort.\tसभी लोग आराम की ज़िन्दगी जीना चाहते हैं।\tCC-BY 2.0 (France) Attribution: tatoeba.org #276400 (CK) & #476318 (minshirui)\n",
            "Few people will admit their faults.\tबहुत कम लोग अपनी गलतियों को मानते हैं।\tCC-BY 2.0 (France) Attribution: tatoeba.org #264684 (CK) & #540237 (minshirui)\n",
            "He did the reverse of what I asked.\tउसने मेरे बताए हुए से उलटा काम किया।\tCC-BY 2.0 (France) Attribution: tatoeba.org #297317 (CK) & #485517 (minshirui)\n",
            "He died without having made a will.\tवह वसीयत बनाए बिना ही मर गया।\tCC-BY 2.0 (France) Attribution: tatoeba.org #28124 (CK) & #511726 (minshirui)\n",
            "He doesn't live in my neighborhood.\tवह मेरे आस-पड़ोस में नहीं रहता।\tCC-BY 2.0 (France) Attribution: tatoeba.org #297817 (CK) & #473772 (minshirui)\n",
            "He had nothing to do with the case.\tउसका इस केस के साथ कोई लेना-देना नहीं था।\tCC-BY 2.0 (France) Attribution: tatoeba.org #290892 (CK) & #491731 (minshirui)\n",
            "He had to go without food for days.\tउसने दिनों तक खाना नहीं खाया।\tCC-BY 2.0 (France) Attribution: tatoeba.org #294369 (CS) & #450380 (minshirui)\n",
            "He has no sense of right and wrong.\tवह सही-ग़लत में अंतर करना नहीं जानता।\tCC-BY 2.0 (France) Attribution: tatoeba.org #300378 (CM) & #476007 (minshirui)\n",
            "He has plenty of money in the bank.\tउसके पास बैंक में बहुत पैसे हैं।\tCC-BY 2.0 (France) Attribution: tatoeba.org #295550 (CK) & #590034 (minshirui)\n",
            "He kept us waiting for a long time.\tउसने हमसे बहुत देर तक इंतेज़ार करवाया।\tCC-BY 2.0 (France) Attribution: tatoeba.org #298204 (CK) & #491733 (minshirui)\n",
            "He left a large fortune to his son.\tउसने अपने बेटे के लिए बड़ी जायदाद छोड़ी।\tCC-BY 2.0 (France) Attribution: tatoeba.org #300971 (CK) & #506554 (minshirui)\n",
            "He put down the rebellion in India.\tउसने भारत में विद्रोह को रोका।\tCC-BY 2.0 (France) Attribution: tatoeba.org #289317 (CK) & #487742 (minshirui)\n",
            "He ran faster than his brother did.\tवह अपने भाई से तेज़ भागता था।\tCC-BY 2.0 (France) Attribution: tatoeba.org #295688 (CK) & #561251 (minshirui)\n",
            "He rescued the child from the fire.\tउसने बच्चे को आग से बचाया।\tCC-BY 2.0 (France) Attribution: tatoeba.org #290866 (CK) & #457019 (minshirui)\n",
            "How do you like living on your own?\tतुम्हे अकेले रहना अच्छा लगता है क्या?\tCC-BY 2.0 (France) Attribution: tatoeba.org #34654 (CK) & #506537 (minshirui)\n",
            "How is it going in the fish market?\tमछली बाज़ार में कैसा चल रहा है?\tCC-BY 2.0 (France) Attribution: tatoeba.org #19340 (CK) & #487257 (minshirui)\n",
            "How long will it take to get there?\tवहाँ पहुँचने में कितनी देर लगेगी?\tCC-BY 2.0 (France) Attribution: tatoeba.org #50865 (CK) & #509998 (minshirui)\n",
            "How many books do you read a month?\tतुम एक महीने में कितनी किताबें पढ़ते हो?\tCC-BY 2.0 (France) Attribution: tatoeba.org #70266 (CK) & #581692 (minshirui)\n",
            "How many sandwiches are there left?\tकितने सैंडविच बचे हैं?\tCC-BY 2.0 (France) Attribution: tatoeba.org #2042 (Swift) & #480259 (minshirui)\n",
            "I am his friend and will remain so.\tमैं उसका दोस्त हूँ और रहूँगा।\tCC-BY 2.0 (France) Attribution: tatoeba.org #260766 (CS) & #491304 (minshirui)\n",
            "I am married and have two children.\tमैं शादीशुदा हूँ और मेरे दो बच्चे हैं।\tCC-BY 2.0 (France) Attribution: tatoeba.org #1758 (brauliobezerra) & #486353 (minshirui)\n",
            "I cannot tolerate naughty children.\tमैं नटखट बच्चों को बर्दाश्त नहीं कर सकता।\tCC-BY 2.0 (France) Attribution: tatoeba.org #463383 (minshirui) & #463382 (minshirui)\n",
            "I don't know who wrote this letter.\tमुझे नहीं पता कि यह चिट्ठी किसने लिखी है।\tCC-BY 2.0 (France) Attribution: tatoeba.org #259373 (CK) & #459401 (minshirui)\n",
            "I don't like studying in this heat.\tमुझे इस गर्मी में पढ़ाई करना अच्छा नहीं लगता।\tCC-BY 2.0 (France) Attribution: tatoeba.org #58540 (CK) & #483996 (minshirui)\n",
            "I don't think I can wait that long.\tमैं उतनी देर रुक नहीं सकता।\tCC-BY 2.0 (France) Attribution: tatoeba.org #2323104 (CK) & #3216270 (anubhav93)\n",
            "I doubt the truth of his statement.\tमुझे उसके बयान की सच्चाई पर शक है।\tCC-BY 2.0 (France) Attribution: tatoeba.org #286036 (CK) & #486293 (minshirui)\n",
            "I fell down the stairs in my haste.\tअपनी ही जल्दबाज़ी मे मैं सीढ़ियों से नीचे गिर गया।\tCC-BY 2.0 (France) Attribution: tatoeba.org #253054 (CM) & #3189604 (pranjal710)\n",
            "I had my brother repair my bicycle.\tमैंने अपने भाई से अपनी साईकल ठीक करवाई।\tCC-BY 2.0 (France) Attribution: tatoeba.org #257149 (CK) & #485784 (minshirui)\n",
            "I had nothing to do with the group.\tमेरा उस ग्रुप के साथ कोई संबंध नहीं था।\tCC-BY 2.0 (France) Attribution: tatoeba.org #254115 (CK) & #3216300 (anubhav93)\n",
            "I haven't seen him for a long time.\tमैंने उसे बहुत दिनों से नहीं देखा है।\tCC-BY 2.0 (France) Attribution: tatoeba.org #19847 (CK) & #511735 (minshirui)\n",
            "I hear that she's a famous actress.\tमैंने सुना है कि वे मश्हूर अभिनेत्री हैं।\tCC-BY 2.0 (France) Attribution: tatoeba.org #388308 (CK) & #498088 (minshirui)\n",
            "I helped my mother wash the dishes.\tमैंने अपनी मम्मी को बर्तन धोने में मदद करी।\tCC-BY 2.0 (France) Attribution: tatoeba.org #261675 (CK) & #510239 (minshirui)\n",
            "I learned French instead of German.\tमैंने जर्मन की बजाय फ़्रानसीसी सीखी ।\tCC-BY 2.0 (France) Attribution: tatoeba.org #255145 (CK) & #476312 (minshirui)\n",
            "I want to know about this mountain.\tमुझे इस पहाड़ के बारे में जानना है।\tCC-BY 2.0 (France) Attribution: tatoeba.org #253601 (CK) & #457048 (minshirui)\n",
            "I was able to play piano very well.\tमैं पियानो बहुत अच्छा बजा लेता था।\tCC-BY 2.0 (France) Attribution: tatoeba.org #28988 (CK) & #505130 (minshirui)\n",
            "I wish to go to Paris to study art.\tमैं पैरिस जाकर आर्ट पढ़ना चाहता हूँ।\tCC-BY 2.0 (France) Attribution: tatoeba.org #256599 (CK) & #450412 (minshirui)\n",
            "I wish to go to Paris to study art.\tमैं पैरिस जाकर आर्ट पढ़ना चाहती हूँ।\tCC-BY 2.0 (France) Attribution: tatoeba.org #256599 (CK) & #450413 (minshirui)\n",
            "I'm anxious for him to return safe.\tमैं उसके सुरक्षित लौटने के लिए बेचैन हूँ।\tCC-BY 2.0 (France) Attribution: tatoeba.org #284204 (CM) & #505252 (minshirui)\n",
            "If I don't do it now, I never will.\tअगर मैं अभी नहीं करूँगा तो कभी नहीं करूँगा।\tCC-BY 2.0 (France) Attribution: tatoeba.org #2193 (CK) & #494208 (minshirui)\n",
            "If I had wings, I would fly to you.\tअगर मेरे पास पंख होते तो मैं उड़कर तुम्हारे पास चला आता।\tCC-BY 2.0 (France) Attribution: tatoeba.org #30785 (CM) & #459446 (minshirui)\n",
            "It has been fine since last Friday.\tपिछले शनिवार से मौसम बहुत अच्छा है।\tCC-BY 2.0 (France) Attribution: tatoeba.org #272726 (CK) & #491591 (minshirui)\n",
            "It is going to rain this afternoon.\tआज दोपहर बारिश होने वाली है।\tCC-BY 2.0 (France) Attribution: tatoeba.org #240067 (Zifre) & #487252 (minshirui)\n",
            "It seems that everybody likes golf.\tऐसा लगता है जैसे कि सभी लोगों को गौल्फ़ अच्छा लगता है।\tCC-BY 2.0 (France) Attribution: tatoeba.org #40404 (CK) & #509344 (minshirui)\n",
            "It shouldn't take long to find Tom.\tटॉम को ढूँढने में समय नहीं लगना चाहिए।\tCC-BY 2.0 (France) Attribution: tatoeba.org #3540364 (CK) & #3540404 (nurendra)\n",
            "It's more difficult than you think.\tजितना तुम सोच रहे हो उतना आसान नहीं है।\tCC-BY 2.0 (France) Attribution: tatoeba.org #2449 (CK) & #3225309 (anubhav93)\n",
            "Learning a foreign language is fun.\tविदेषी भाषा सीखना बहुत मज़ेदार होता है।\tCC-BY 2.0 (France) Attribution: tatoeba.org #21909 (sacredceltic) & #450982 (minshirui)\n",
            "My brother depends on me for money.\tमेरा भाई पैसों के लिए मुझपर निर्भर है।\tCC-BY 2.0 (France) Attribution: tatoeba.org #278557 (CK) & #517904 (minshirui)\n",
            "My sister is very fond of children.\tमेरी बहन को बच्चों से बहुत प्यार है।\tCC-BY 2.0 (France) Attribution: tatoeba.org #250966 (CM) & #491608 (minshirui)\n",
            "My wife has just cleared the table.\tमेरी बीवी ने अभी-अभी मेज़ को साफ़ किया है।\tCC-BY 2.0 (France) Attribution: tatoeba.org #244128 (CK) & #491713 (minshirui)\n",
            "Nowadays nobody believes in ghosts.\tआजकल कोई भी भूत-प्रेत में विश्वास नहीं करता।\tCC-BY 2.0 (France) Attribution: tatoeba.org #243823 (CK) & #516754 (minshirui)\n",
            "One is tall and the other is short.\tएक लम्बा है और दूसरा छोटा है।\tCC-BY 2.0 (France) Attribution: tatoeba.org #27204 (CK) & #510244 (minshirui)\n",
            "She accused me of making a mistake.\tउसने मुझपर ग़लती करने का इलज़ाम लगाया।\tCC-BY 2.0 (France) Attribution: tatoeba.org #314303 (CK) & #482475 (minshirui)\n",
            "She asked me if I knew her address.\tउसने मुझसे पूछा कि मैं उसका पता जानता था या नहीं।\tCC-BY 2.0 (France) Attribution: tatoeba.org #317007 (CK) & #455251 (minshirui)\n",
            "She didn't want him to go overseas.\tवह लड़की नहीं चाहती थी कि वह लड़का विदेश जाए।\tCC-BY 2.0 (France) Attribution: tatoeba.org #887082 (CK) & #3134878 (pranjal710)\n",
            "She didn't want to speak to anyone.\tउसे किसी से भी बात करने का मन नहीं था।\tCC-BY 2.0 (France) Attribution: tatoeba.org #311579 (CK) & #465590 (minshirui)\n",
            "She felt insecure about her future.\tउसको अपना आने वाला कल थोड़ा डाँवाडोल लगा।\tCC-BY 2.0 (France) Attribution: tatoeba.org #314688 (CK) & #484041 (minshirui)\n",
            "She felt insecure about her future.\tउसको अपना भविष्य असुरक्षित लगा।\tCC-BY 2.0 (France) Attribution: tatoeba.org #314688 (CK) & #484042 (minshirui)\n",
            "She is busy preparing for the trip.\tवह सफ़र की तैयारी में लगी हुई है।\tCC-BY 2.0 (France) Attribution: tatoeba.org #317417 (CK) & #516775 (minshirui)\n",
            "She was very surprised at the news.\tवह खबर सुनकर हैरान रह गई।\tCC-BY 2.0 (France) Attribution: tatoeba.org #315766 (CK) & #561272 (minshirui)\n",
            "She went to the market once a week.\tवह हफ़्ते में एक बार बाज़ार जाती थी।\tCC-BY 2.0 (France) Attribution: tatoeba.org #314918 (CK) & #465612 (minshirui)\n",
            "She's in the garden planting roses.\tवह बगीचे में है, गुलाब के फूल लगा रही है।\tCC-BY 2.0 (France) Attribution: tatoeba.org #315892 (CK) & #491875 (minshirui)\n",
            "Since he was tired, he went to bed.\tवह थक गया था, तो सोने चला गया।\tCC-BY 2.0 (France) Attribution: tatoeba.org #317808 (CK) & #483927 (minshirui)\n",
            "Since you're here, you can help me.\tतुम यहाँ आ ही गए हो तो मेरी मदद कर सकते हो।\tCC-BY 2.0 (France) Attribution: tatoeba.org #462438 (lukaszpp) & #475850 (minshirui)\n",
            "Take this medicine every six hours.\tइस दवाई को हर छः घंटे लेना।\tCC-BY 2.0 (France) Attribution: tatoeba.org #72414 (CK) & #491556 (minshirui)\n",
            "Teaching English is his profession.\tअंग्रेज़ी पढ़ाना उसका पेशा है।\tCC-BY 2.0 (France) Attribution: tatoeba.org #26219 (CK) & #511743 (minshirui)\n",
            "The animals in the forest died off.\tजंगल के जानवर मर गए।\tCC-BY 2.0 (France) Attribution: tatoeba.org #46069 (U2FS) & #484023 (minshirui)\n",
            "The baby fell asleep in the cradle.\tबच्चा पालनी में सो गया।\tCC-BY 2.0 (France) Attribution: tatoeba.org #45825 (CK) & #455253 (minshirui)\n",
            "The boy has an apple in his pocket.\tइस लड़के के जेब में एक सेव है।\tCC-BY 2.0 (France) Attribution: tatoeba.org #46385 (CK) & #443081 (minshirui)\n",
            "The fat woman was holding a monkey.\tउस मोटी औरत ने एक बंदर पकड़ा हुआ था।\tCC-BY 2.0 (France) Attribution: tatoeba.org #388608 (CK) & #455319 (minshirui)\n",
            "The hole is about five feet across.\tगड्ढा पाँच फ़ुट चौड़ा है।\tCC-BY 2.0 (France) Attribution: tatoeba.org #48415 (CK) & #491579 (minshirui)\n",
            "The king was deprived of his power.\tउस राजा से उसकी ताक़त छीन ली गई।\tCC-BY 2.0 (France) Attribution: tatoeba.org #241366 (CM) & #475966 (minshirui)\n",
            "The lion is the king of the jungle.\tशेर जंगल का राजा है।\tCC-BY 2.0 (France) Attribution: tatoeba.org #29846 (CM) & #2788643 (Vikas)\n",
            "The mystery still remains unsolved.\tवह आज भी एक रहस्य है।\tCC-BY 2.0 (France) Attribution: tatoeba.org #50141 (CK) & #483856 (minshirui)\n",
            "The problem is being discussed now.\tसमस्या पर बहस जारी है।\tCC-BY 2.0 (France) Attribution: tatoeba.org #43716 (CK) & #505419 (minshirui)\n",
            "The storm destroyed the whole town.\tतूफ़ान ने पूरे नगर को नष्ट कर दिया।\tCC-BY 2.0 (France) Attribution: tatoeba.org #43498 (mamat) & #485749 (minshirui)\n",
            "The storm destroyed the whole town.\tतूफ़ान ने पूरे शहर को तबाह कर दिया।\tCC-BY 2.0 (France) Attribution: tatoeba.org #43498 (mamat) & #485750 (minshirui)\n",
            "There is a strange man at the door.\tदरवाज़े पर कोई अजीब सा इनसान है।\tCC-BY 2.0 (France) Attribution: tatoeba.org #239518 (CM) & #491697 (minshirui)\n",
            "These questions are easy to answer.\tइन सवालों का जवाब देना आसान है।\tCC-BY 2.0 (France) Attribution: tatoeba.org #55198 (CK) & #491821 (minshirui)\n",
            "These questions are easy to answer.\tये प्रश्न सरल हैं।\tCC-BY 2.0 (France) Attribution: tatoeba.org #55198 (CK) & #491822 (minshirui)\n",
            "They are proud of their clever son.\tउन्हे अपने अकलमंद बेटे पर नाज़ है।\tCC-BY 2.0 (France) Attribution: tatoeba.org #307240 (CM) & #487233 (minshirui)\n",
            "They brought trouble on themselves.\tउन्होंने अपने ऊपर मुसीबत बुलाई।\tCC-BY 2.0 (France) Attribution: tatoeba.org #306778 (CM) & #450358 (minshirui)\n",
            "This is a good newspaper, isn't it?\tयह एक अच्छा अखबार है ना?\tCC-BY 2.0 (France) Attribution: tatoeba.org #387703 (Mouseneb) & #494204 (minshirui)\n",
            "To make matters worse, he fell ill.\tऔर-तो-और वह बीमार भी पड़ गया।\tCC-BY 2.0 (France) Attribution: tatoeba.org #53982 (CM) & #491740 (minshirui)\n",
            "Tomorrow, he will land on the moon.\tकल वह चाँद पर उतरेगा।\tCC-BY 2.0 (France) Attribution: tatoeba.org #1481 (brauliobezerra) & #483032 (minshirui)\n",
            "We are all eager to know the truth.\tहम सब सच जानने के लिए बेचैन हैं।\tCC-BY 2.0 (France) Attribution: tatoeba.org #248319 (CK) & #473778 (minshirui)\n",
            "What do you think she is doing now?\tतुम्हारे हिसाब से वह अभी क्या कर रही होगी?\tCC-BY 2.0 (France) Attribution: tatoeba.org #388881 (CK) & #482474 (minshirui)\n",
            "Where should I pick the tickets up?\tमुझे टिकटें कहाँ से लेनीं होंगीं?\tCC-BY 2.0 (France) Attribution: tatoeba.org #38160 (CK) & #491788 (minshirui)\n",
            "Why did you come here this morning?\tतुम आज सुबह यहाँ क्यों आए?\tCC-BY 2.0 (France) Attribution: tatoeba.org #69873 (CK) & #498594 (minshirui)\n",
            "Wooden buildings catch fire easily.\tलकड़ी से बनी इमारतों में आग आसानी से लग जाती है।\tCC-BY 2.0 (France) Attribution: tatoeba.org #329648 (fcbond) & #487240 (minshirui)\n",
            "Would you mind my opening the door?\tक्या मैं दरवाज़ा खोल सकता हूँ?\tCC-BY 2.0 (France) Attribution: tatoeba.org #39004 (CK) & #455606 (minshirui)\n",
            "You can have this book for nothing.\tतुम यह किताब मुफ़्त में ले सकते हो।\tCC-BY 2.0 (France) Attribution: tatoeba.org #40880 (CK) & #475974 (minshirui)\n",
            "You can't buy that kind of loyalty.\tऐसी वफ़ादारी खरीदी नहीं जा सकती।\tCC-BY 2.0 (France) Attribution: tatoeba.org #3150452 (CK) & #3216531 (anubhav93)\n",
            "You must take his age into account.\tतुम्हे उसकी उम्र का भी लिहाज करना चाहिए।\tCC-BY 2.0 (France) Attribution: tatoeba.org #15806 (Swift) & #514078 (minshirui)\n",
            "You should make use of this chance.\tतुम्हे इस मौके का फ़ायदा उठाना चाहिए।\tCC-BY 2.0 (France) Attribution: tatoeba.org #16698 (CK) & #516817 (minshirui)\n",
            "You should make use of this chance.\tतुम्हे इस मौके को गवा नहीं देना चाहिए।\tCC-BY 2.0 (France) Attribution: tatoeba.org #16698 (CK) & #516818 (minshirui)\n",
            "You shouldn't leave the baby alone.\tतुम्हे बच्चे को अकेला नहीं छोड़ना चाहिए।\tCC-BY 2.0 (France) Attribution: tatoeba.org #272342 (CK) & #611434 (minshirui)\n",
            "You're doing very well. Keep it up.\tतुम अच्छा काम कर रहे हो। ऐसे ही करते रहो।\tCC-BY 2.0 (France) Attribution: tatoeba.org #8980425 (CK) & #486305 (minshirui)\n",
            "A hundred years is called a century.\tसौ सालों को एक शतक बुलाया जाता है।\tCC-BY 2.0 (France) Attribution: tatoeba.org #318299 (CK) & #461263 (minshirui)\n",
            "According to him, she is not coming.\tउसके हिसाब से वह नहीं आ रही।\tCC-BY 2.0 (France) Attribution: tatoeba.org #450985 (minshirui) & #450987 (minshirui)\n",
            "All of a sudden, she began to laugh.\tवह अचानक से हँस पड़ी।\tCC-BY 2.0 (France) Attribution: tatoeba.org #316041 (CK) & #561266 (minshirui)\n",
            "All of my kids want to learn French.\tमेरे सभी बच्चें फ़्रेंच सीखना चाहते हैं।\tCC-BY 2.0 (France) Attribution: tatoeba.org #2951484 (CK) & #3225266 (anubhav93)\n",
            "Are you reading an interesting book?\tआप कोई दिलचस्प किताब पढ़ रहें हैं क्या?\tCC-BY 2.0 (France) Attribution: tatoeba.org #68894 (CK) & #450361 (minshirui)\n",
            "Are you reading an interesting book?\tतुम कोई दिलचस्प किताब पढ़ रहे हो क्या?\tCC-BY 2.0 (France) Attribution: tatoeba.org #68894 (CK) & #450362 (minshirui)\n",
            "Are you reading an interesting book?\tतुम कोई दिलचस्प किताब पढ़ रही हो क्या?\tCC-BY 2.0 (France) Attribution: tatoeba.org #68894 (CK) & #450363 (minshirui)\n",
            "Are you saying my life is in danger?\tक्या तुम कह रहे हो कि मेरी जान ख़तरे में है?\tCC-BY 2.0 (France) Attribution: tatoeba.org #2103 (CK) & #477728 (minshirui)\n",
            "Can I extend my stay one more night?\tमैं एक रात और रह सकता हूँ क्या?\tCC-BY 2.0 (France) Attribution: tatoeba.org #266725 (CM) & #450346 (minshirui)\n",
            "Don't talk about it in front of him.\tउसके सामने इसके बारे में बात मत करो।\tCC-BY 2.0 (France) Attribution: tatoeba.org #287020 (CK) & #491020 (minshirui)\n",
            "Everybody came to the class on time.\tसभी लोग क्लास में समय पर पहुँचे।\tCC-BY 2.0 (France) Attribution: tatoeba.org #22098 (CK) & #485523 (minshirui)\n",
            "Everyone in my family gets up early.\tमेरे परिवार में हर कोई जल्दी उठता है।\tCC-BY 2.0 (France) Attribution: tatoeba.org #1442084 (CK) & #3212885 (anubhav93)\n",
            "Excuse me, is there a toilet nearby?\tसुनिए, आस-पास में कोई टॉयलेट है क्या?\tCC-BY 2.0 (France) Attribution: tatoeba.org #476421 (minshirui) & #476420 (minshirui)\n",
            "Few students use pencils these days.\tआजकल बहुत कम विद्यार्थी पेनसिल इस्तेमाल करतें हैं।\tCC-BY 2.0 (France) Attribution: tatoeba.org #243735 (CK) & #486371 (minshirui)\n",
            "God helps those who help themselves.\tईश्वर उनकी मदद करता है जो स्वयं की मदद करते हैं।\tCC-BY 2.0 (France) Attribution: tatoeba.org #269654 (CM) & #3099487 (kbharat1307)\n",
            "He can both speak and write Russian.\tवह रूसी बोलना और लिखना दोनो जानता है।\tCC-BY 2.0 (France) Attribution: tatoeba.org #293370 (CK) & #485918 (minshirui)\n",
            "He couldn't understand the sentence.\tउसको वाक्य समझ में नहीं आया।\tCC-BY 2.0 (France) Attribution: tatoeba.org #284687 (CK) & #588476 (minshirui)\n",
            "He cried as if he were a boy of six.\tउसने छः बरस के बच्चे की तरह रोया।\tCC-BY 2.0 (France) Attribution: tatoeba.org #292944 (CM) & #483844 (minshirui)\n",
            "He made up his mind to study abroad.\tउसने विदेश में पढ़ने का निर्णय लिया।\tCC-BY 2.0 (France) Attribution: tatoeba.org #294676 (CS) & #3212889 (anubhav93)\n",
            "He seemed surprised by my ignorance.\tउसने मेरे अज्ञान पर आशंका जताई।\tCC-BY 2.0 (France) Attribution: tatoeba.org #297999 (CK) & #450394 (minshirui)\n",
            "He stuck the broken pieces together.\tउसने टूटे हुए टुकड़ों को वापस जोड़ा।\tCC-BY 2.0 (France) Attribution: tatoeba.org #291219 (CK) & #455242 (minshirui)\n",
            "He will get better little by little.\tवह धीरे-धीरे ठीक हो जाएगा।\tCC-BY 2.0 (France) Attribution: tatoeba.org #299572 (CK) & #491671 (minshirui)\n",
            "Her advice to me was to work harder.\tउसकी मेरे लिए सलाह यह थी कि मैं ज़्यादा मन लगाकर काम करूँ।\tCC-BY 2.0 (France) Attribution: tatoeba.org #309573 (CK) & #476304 (minshirui)\n",
            "Her way of talking got on my nerves.\tउसके बात करने के तरीके पर मुझे खींज आती है।\tCC-BY 2.0 (France) Attribution: tatoeba.org #309872 (CM) & #480214 (minshirui)\n",
            "Hurry, and you will catch the train.\tजल्दी करो तो ट्रेन पकड़ सकते हो।\tCC-BY 2.0 (France) Attribution: tatoeba.org #19640 (CK) & #739776 (minshirui)\n",
            "I am a student at Oxford University.\tमैं ऑक्सफ़र्ड विश्वविद्यालय में विद्यार्थी हूँ।\tCC-BY 2.0 (France) Attribution: tatoeba.org #29028 (CK) & #452548 (minshirui)\n",
            "I am really pleased with my new car.\tमैं अपनी नई गाड़ी से बहुत खुश हूँ।\tCC-BY 2.0 (France) Attribution: tatoeba.org #258816 (CK) & #516644 (minshirui)\n",
            "I buried my dog at the pet cemetery.\tमैंने अपने कुत्ते को पालतू जानवरों के कब्रिस्तान में बरी कर दिया।\tCC-BY 2.0 (France) Attribution: tatoeba.org #6048 (Zifre) & #514101 (minshirui)\n",
            "I don't want to spend more than $10.\tमैं दस डॉलर से ज़्यादा नहीं खर्चना चाह्ता हूँ।\tCC-BY 2.0 (France) Attribution: tatoeba.org #73461 (CK) & #461281 (minshirui)\n",
            "I have the same problem that you do.\tमुझे वही समस्या है जो आप को है।\tCC-BY 2.0 (France) Attribution: tatoeba.org #7733020 (CK) & #8938141 (simranbansal)\n",
            "I never dreamed that you would lose.\tमैंने सपने में भी नहीं सोचा था कि तुम हार जाओगे।\tCC-BY 2.0 (France) Attribution: tatoeba.org #483674 (CK) & #483941 (minshirui)\n",
            "I visit my grandmother twice a week.\tमैं अपनी नानी से हफ़्ते में दो बार मिलने जाता हूँ।\tCC-BY 2.0 (France) Attribution: tatoeba.org #258504 (CK) & #491701 (minshirui)\n",
            "I visit my grandmother twice a week.\tमैं अपनी दादी से हफ़्ते में दो बार मिलने जाता हूँ।\tCC-BY 2.0 (France) Attribution: tatoeba.org #258504 (CK) & #491703 (minshirui)\n",
            "I was in bed all day long yesterday.\tकल मैं पूरे दिन बिस्तर में था।\tCC-BY 2.0 (France) Attribution: tatoeba.org #257753 (CK) & #457041 (minshirui)\n",
            "I will come back to Canada tomorrow.\tमैं कल कनाडा वापस आऊँगा।\tCC-BY 2.0 (France) Attribution: tatoeba.org #261917 (Scott) & #459396 (minshirui)\n",
            "In Japan, all children go to school.\tजापान में सभी बच्चें स्कूल जाते हैं।\tCC-BY 2.0 (France) Attribution: tatoeba.org #281229 (CK) & #3225342 (anubhav93)\n",
            "Keep an eye on the baby for a while.\tबच्चे पर ध्यान रखना थोड़ी देर के लिए।\tCC-BY 2.0 (France) Attribution: tatoeba.org #53392 (CM) & #450450 (minshirui)\n",
            "Let's get together here once a week.\tहमे यहाँ हफ़्ते में एक बार मिलना चाहिए।\tCC-BY 2.0 (France) Attribution: tatoeba.org #73139 (CK) & #491925 (minshirui)\n",
            "My birthday is one month from today.\tमेरा जन्मदिन आज से एक महीने में है।\tCC-BY 2.0 (France) Attribution: tatoeba.org #251417 (Swift) & #446492 (minshirui)\n",
            "My father usually comes home at six.\tमेरे पापा आमतौर पर छः बजे घर लौटकर आते हैं।\tCC-BY 2.0 (France) Attribution: tatoeba.org #251629 (CK) & #509374 (minshirui)\n",
            "My father went jogging after dinner.\tमेरे पापा रात को खाना खाने के बाद दौड़ने गए थे।\tCC-BY 2.0 (France) Attribution: tatoeba.org #324649 (CK) & #585030 (minshirui)\n",
            "My father works for a power company.\tमेरे पापा बिजली की कम्पनी में काम करते हैं।\tCC-BY 2.0 (France) Attribution: tatoeba.org #319307 (CK) & #514119 (minshirui)\n",
            "No one believes that he is innocent.\tकिसी को भी उसके निर्दोष होने का यकीन नहीं है।\tCC-BY 2.0 (France) Attribution: tatoeba.org #284209 (CK) & #518702 (minshirui)\n",
            "Opinions vary from person to person.\tहर इनसान की राय अलग होती है।\tCC-BY 2.0 (France) Attribution: tatoeba.org #269908 (CM) & #487459 (minshirui)\n",
            "Opinions vary from person to person.\tहर इनसान की सोच अलग होती है।\tCC-BY 2.0 (France) Attribution: tatoeba.org #269908 (CM) & #487460 (minshirui)\n",
            "She always complains of her teacher.\tवह हमेशा अपनी टीचर की शिक़ायत करती है।\tCC-BY 2.0 (France) Attribution: tatoeba.org #315461 (CK) & #465636 (minshirui)\n",
            "She believes her son is still alive.\tउसको लगता है कि उसका बेटा अभी भी ज़िंदा है।\tCC-BY 2.0 (France) Attribution: tatoeba.org #312241 (CK) & #475823 (minshirui)\n",
            "She talks as if she knew everything.\tवह तो ऐसे बात करती है जैसे उसे सब कुछ पता हो।\tCC-BY 2.0 (France) Attribution: tatoeba.org #312272 (CK) & #457025 (minshirui)\n",
            "Some like tea, others prefer coffee.\tकुछ लोगों को चाय अच्छी लगती है, और कुछ लोगों को कॉफ़ी।\tCC-BY 2.0 (France) Attribution: tatoeba.org #240965 (CM) & #476320 (minshirui)\n",
            "Stars cannot be seen in the daytime.\tसितारे दिन में नहीं दिखते |\tCC-BY 2.0 (France) Attribution: tatoeba.org #271528 (CM) & #3534957 (nurendra)\n",
            "Tell me the name of the ninth month.\tमुझे नौवे महीने का नाम बताओ।\tCC-BY 2.0 (France) Attribution: tatoeba.org #276028 (CM) & #514135 (minshirui)\n",
            "That's a completely unfounded rumor.\tवह अफ़वाह पूरी तरह से बेबुनयाद है।\tCC-BY 2.0 (France) Attribution: tatoeba.org #42269 (CK) & #3216584 (anubhav93)\n",
            "The cat slowly approached the mouse.\tबिल्ली धीरे से चूहे की तरफ़ बढ़ी।\tCC-BY 2.0 (France) Attribution: tatoeba.org #44562 (CK) & #485846 (minshirui)\n",
            "The children were well looked after.\tबच्चों की देखभाल अच्छी तरह से की जाती थी।\tCC-BY 2.0 (France) Attribution: tatoeba.org #47550 (CM) & #498232 (minshirui)\n",
            "The doctor advised him not to smoke.\tडॉक्टर ने उसे सिगरेट न पीने की सलह दी।\tCC-BY 2.0 (France) Attribution: tatoeba.org #27946 (CK) & #450359 (minshirui)\n",
            "The doctor advised him not to smoke.\tडॉक्टर ने उन्हें सिगरेट न पीने की सलह दी।\tCC-BY 2.0 (France) Attribution: tatoeba.org #27946 (CK) & #450360 (minshirui)\n",
            "The law says that all men are equal.\tक़ानून के मुताबिक सभी मनुष्य समान हैं।\tCC-BY 2.0 (France) Attribution: tatoeba.org #321054 (CM) & #495947 (minshirui)\n",
            "The plan has been successful so far.\tप्लान अब तक कामयाब रहा है।\tCC-BY 2.0 (France) Attribution: tatoeba.org #48524 (CK) & #480287 (minshirui)\n",
            "The plane will take off in one hour.\tविमान एक घंटे में उड़ान भरेगा।\tCC-BY 2.0 (France) Attribution: tatoeba.org #318040 (CK) & #516764 (minshirui)\n",
            "The wind scattered the leaves about.\tहवा ने पत्तियों को यहाँ-वहाँ बिखेर दिया।\tCC-BY 2.0 (France) Attribution: tatoeba.org #319682 (CM) & #465642 (minshirui)\n",
            "There are many old temples in Kyoto.\tक्योटो में बहुत सारे पुराने मंदिर हैं।\tCC-BY 2.0 (France) Attribution: tatoeba.org #19321 (CK) & #518713 (minshirui)\n",
            "This hat does match the brown dress.\tयह टोपी उस ब्राऊन ड्रेस के साथ जचती नहीं है।\tCC-BY 2.0 (France) Attribution: tatoeba.org #57118 (CK) & #514091 (minshirui)\n",
            "Tom doesn't know how to do that yet.\tटॉम अभी तक नहीं जानता कि यह कैसे करना है।\tCC-BY 2.0 (France) Attribution: tatoeba.org #8866478 (CK) & #8879581 (simranbansal)\n",
            "Tom doesn't yet know how to do that.\tटॉम अभी तक नहीं जानता कि ऐसा कैसे करना है।\tCC-BY 2.0 (France) Attribution: tatoeba.org #8866429 (CK) & #8879564 (simranbansal)\n",
            "Tom was stabbed to death last night.\tकल रात टॉम की चाकू मारकर हत्या कर दी गई थी।\tCC-BY 2.0 (France) Attribution: tatoeba.org #3531785 (CK) & #8889376 (simranbansal)\n",
            "We are in agreement on this subject.\tहम इस विषय पर सहमत हैं।\tCC-BY 2.0 (France) Attribution: tatoeba.org #23237 (Swift) & #476321 (minshirui)\n",
            "We managed to swim across the river.\tहम नदी को तैरकर पार कर पाए।\tCC-BY 2.0 (France) Attribution: tatoeba.org #262877 (CK) & #514069 (minshirui)\n",
            "We talked to each other for a while.\tहमने थोड़ी देर के लिए एक-दूसरे के साथ बात करी।\tCC-BY 2.0 (France) Attribution: tatoeba.org #23227 (Swift) & #484094 (minshirui)\n",
            "We were all very happy at breakfast.\tहम सब नाश्ते के समय बहुत खुश थे।\tCC-BY 2.0 (France) Attribution: tatoeba.org #28830 (CK) & #486241 (minshirui)\n",
            "What are you going to do in college?\tतुम कॉलेज जाकर क्या करोगे?\tCC-BY 2.0 (France) Attribution: tatoeba.org #275590 (CK) & #485787 (minshirui)\n",
            "What do you usually do after dinner?\tतुम आमतौर पर रात में खाना खाने के बाद क्या करते हो?\tCC-BY 2.0 (France) Attribution: tatoeba.org #66048 (CK) & #487245 (minshirui)\n",
            "What was the weather like yesterday?\tकल का मौसम कैसा था?\tCC-BY 2.0 (France) Attribution: tatoeba.org #3004952 (pne) & #443101 (minshirui)\n",
            "What would the world do without tea?\tदुनिया चाय के बिना क्या करेगी?\tCC-BY 2.0 (France) Attribution: tatoeba.org #58268 (CM) & #455297 (minshirui)\n",
            "Which shoes are you going to put on?\tतुम कौनसे जूते पहनोगी?\tCC-BY 2.0 (France) Attribution: tatoeba.org #37524 (CK) & #485767 (minshirui)\n",
            "Won't you come and see me next week?\tमुझे अगले हफ़्ते देखने आओगे ना?\tCC-BY 2.0 (France) Attribution: tatoeba.org #325076 (CK) & #484043 (minshirui)\n",
            "Would you speak more slowly, please?\tआप थोड़ा धीरे बोल सकते हैं क्या?\tCC-BY 2.0 (France) Attribution: tatoeba.org #31292 (CK) & #446697 (minshirui)\n",
            "You've never seen a genuine diamond.\tतुमने असली हीरा कभी देखा ही नहीं है।\tCC-BY 2.0 (France) Attribution: tatoeba.org #68929 (CK) & #452263 (minshirui)\n",
            "A thick mist covered the countryside.\tगाँव पर गहरा कोहरा छा गया।\tCC-BY 2.0 (France) Attribution: tatoeba.org #434152 (lukaszpp) & #491842 (minshirui)\n",
            "Are there enough chairs to go around?\tकुरसियाँ काफ़ी हैं क्या?\tCC-BY 2.0 (France) Attribution: tatoeba.org #32178 (CK) & #486274 (minshirui)\n",
            "At times I feel like quitting my job.\tमुझे कभी-कभी अपनी नौकरी छोड़ देने का मन करता है।\tCC-BY 2.0 (France) Attribution: tatoeba.org #255197 (CK) & #491307 (minshirui)\n",
            "Buddhism had its beginnings in India.\tबौद्ध धर्म भारत में पैदा हुआ था।\tCC-BY 2.0 (France) Attribution: tatoeba.org #319880 (CM) & #487641 (minshirui)\n",
            "Butter and cheese are made from milk.\tमक्खन और पनीर दूध से बनते हैं।\tCC-BY 2.0 (France) Attribution: tatoeba.org #35198 (CK) & #3216307 (anubhav93)\n",
            "Classical music is not my cup of tea.\tमुझे शास्त्रीय संगीत सुनने का शौक नहीं है।\tCC-BY 2.0 (France) Attribution: tatoeba.org #62940 (CK) & #510237 (minshirui)\n",
            "Could you bring me another hot towel?\tमेरे लिए एक और गरम तौलिया ला सकते हैं क्या?\tCC-BY 2.0 (France) Attribution: tatoeba.org #65055 (CK) & #483798 (minshirui)\n",
            "Do you feel any pain in your stomach?\tक्या आपको पेट में दर्द महसूस हो रहा है?\tCC-BY 2.0 (France) Attribution: tatoeba.org #28160 (CK) & #691650 (minshirui)\n",
            "He broke one of the bones in his leg.\tउसने अपने पैर की एक हड्डी तोड़ ली।\tCC-BY 2.0 (France) Attribution: tatoeba.org #295178 (CK) & #483827 (minshirui)\n",
            "He is less impatient than his father.\tउसमें उसके पिता जितनी बेसब्री नहीं थी।\tCC-BY 2.0 (France) Attribution: tatoeba.org #302515 (CM) & #482465 (minshirui)\n",
            "He lost no time answering the letter.\tउसने फटाफट चिट्ठी का जवाब दिया।\tCC-BY 2.0 (France) Attribution: tatoeba.org #301661 (CK) & #516786 (minshirui)\n",
            "He put a hand gently on her shoulder.\tउसने हल्के से उसके कंधे पर हाथ रखा।\tCC-BY 2.0 (France) Attribution: tatoeba.org #302775 (CK) & #483802 (minshirui)\n",
            "He said he would see me the next day.\tउसने कहा था कि वह मुझसे अगले दिन मिलेगा।\tCC-BY 2.0 (France) Attribution: tatoeba.org #324978 (CK) & #491672 (minshirui)\n",
            "He was born in a small town in Italy.\tवह इटली के एक छोटे से गाँव में पैदा हुआ था।\tCC-BY 2.0 (France) Attribution: tatoeba.org #289014 (CK) & #484078 (minshirui)\n",
            "He was standing at the street corner.\tवह सड़क के किनारे पर खड़ा था।\tCC-BY 2.0 (France) Attribution: tatoeba.org #301685 (mamat) & #482423 (minshirui)\n",
            "He will be a doctor when he grows up.\tवह बड़ा होकर डॉक्टर बनना चाहता है।\tCC-BY 2.0 (France) Attribution: tatoeba.org #301300 (CK) & #518695 (minshirui)\n",
            "He wiped the sweat from his forehead.\tउसने अपने माथे से पसीना पोंछा।\tCC-BY 2.0 (France) Attribution: tatoeba.org #285794 (CK) & #461282 (minshirui)\n",
            "His dog follows him wherever he goes.\tवह जहाँ भी जाता है, उसका कुत्ता उसके पीछे पीछे जाता है।\tCC-BY 2.0 (France) Attribution: tatoeba.org #285994 (CK) & #505361 (minshirui)\n",
            "How do you interpret these sentences?\tतुम इन वाक्यों का क्या माईने निकालते हो?\tCC-BY 2.0 (France) Attribution: tatoeba.org #57217 (CK) & #483778 (minshirui)\n",
            "I am doing business on a large scale.\tमैं बड़े पैमाने पर व्यापार कर रहा हूँ।\tCC-BY 2.0 (France) Attribution: tatoeba.org #321838 (CM) & #483878 (minshirui)\n",
            "I had met her many times before then.\tमैं उससे पहले कई बार मिल चुका था।\tCC-BY 2.0 (France) Attribution: tatoeba.org #254439 (CK) & #465620 (minshirui)\n",
            "I had met him many times before then.\tमैं उससे पहले कई बार मिल चुका था।\tCC-BY 2.0 (France) Attribution: tatoeba.org #465621 (minshirui) & #465620 (minshirui)\n",
            "I have nothing to say on this matter.\tमुझे इस विषय पर कुछ नहीं कहना है।\tCC-BY 2.0 (France) Attribution: tatoeba.org #450345 (minshirui) & #450343 (minshirui)\n",
            "I helped my father water the flowers.\tमैंने अपने पापा को फूलों को पानी डालने में मदद करी थी।\tCC-BY 2.0 (France) Attribution: tatoeba.org #318839 (CK) & #585051 (minshirui)\n",
            "I took the opportunity to visit Rome.\tमैंने रोम जाने के मौका का फ़ायदा उठाया।\tCC-BY 2.0 (France) Attribution: tatoeba.org #256783 (CK) & #485533 (minshirui)\n",
            "I want to know why Tom is doing this.\tमुझे यह बताओ, कि टॉम ऐसा कर क्यों रहा है।\tCC-BY 2.0 (France) Attribution: tatoeba.org #3168504 (CK) & #3214235 (anubhav93)\n",
            "I was amazed at the speed of the car.\tमैं उस गाड़ी की रफ़तार देखकर हैरान रह गया।\tCC-BY 2.0 (France) Attribution: tatoeba.org #254460 (CK) & #476275 (minshirui)\n",
            "I was scared that you might leave me.\tमुझे डर था कि तुम मुझे छोड़ दोगे।\tCC-BY 2.0 (France) Attribution: tatoeba.org #71069 (CK) & #491565 (minshirui)\n",
            "I went to Europe by way of Anchorage.\tआंकरेज होते हुए मैं युरोप गया।\tCC-BY 2.0 (France) Attribution: tatoeba.org #253057 (CK) & #3189644 (pranjal710)\n",
            "I'm satisfied with my current income.\tमैं अपनी कमाई से संतुष्ट हूँ।\tCC-BY 2.0 (France) Attribution: tatoeba.org #241775 (CK) & #506477 (minshirui)\n",
            "I'm satisfied with my current income.\tमैं अपनी वर्तमान आमदनी से संतुष्ट हूँ।\tCC-BY 2.0 (France) Attribution: tatoeba.org #241775 (CK) & #506479 (minshirui)\n",
            "I'm sorry, but I can't hear you well.\tमाफ़ कीजिएगा, पर मैं आपको ठीक से सुन नहीं पा रहा हूँ।\tCC-BY 2.0 (France) Attribution: tatoeba.org #56377 (CK) & #691643 (minshirui)\n",
            "I'm sorry, but I can't hear you well.\tमाफ़ कीजिएगा, पर मैं आपको ठीक से सुन नहीं पा रही हूँ।\tCC-BY 2.0 (France) Attribution: tatoeba.org #56377 (CK) & #691644 (minshirui)\n",
            "I've got a bit of an ache in my back.\tमेरी पीठ में थोड़ा दर्द हो रहा है।\tCC-BY 2.0 (France) Attribution: tatoeba.org #259910 (CK) & #476380 (minshirui)\n",
            "I've got one brother and two sisters.\tमेरा एक भाई और दो बहनें हैं।\tCC-BY 2.0 (France) Attribution: tatoeba.org #249957 (CK) & #514141 (minshirui)\n",
            "Imagine that you have a time machine.\tसोचो कि तुम्हारे पास एक टाइम मशीन है।\tCC-BY 2.0 (France) Attribution: tatoeba.org #41130 (Swift) & #486267 (minshirui)\n",
            "In those days, I went to bed earlier.\tउन दिनों में मैं (रात में) जल्दी से सो जाया करता था।\tCC-BY 2.0 (France) Attribution: tatoeba.org #44719 (CM) & #450441 (minshirui)\n",
            "It's your turn. Please come this way.\tतुम्हारी बारी है। इस तरफ़ आओ।\tCC-BY 2.0 (France) Attribution: tatoeba.org #70420 (CK) & #491864 (minshirui)\n",
            "She complained to me of his rudeness.\tउसने मुझसे उसकी असभ्यता के बारे में शिक़ायत करी।\tCC-BY 2.0 (France) Attribution: tatoeba.org #287583 (CM) & #450392 (minshirui)\n",
            "She prepared a wonderful meal for us.\tउसने हमारे लिए बहुत ही शानदार भोजन तैयार किया।\tCC-BY 2.0 (France) Attribution: tatoeba.org #482463 (minshirui) & #482462 (minshirui)\n",
            "She was only pretending to be asleep.\tवह सोना का बहाना कर रही थी।\tCC-BY 2.0 (France) Attribution: tatoeba.org #317120 (CK) & #485839 (minshirui)\n",
            "She went to Paris for the first time.\tवह पहली बार पैरिस गई थी।\tCC-BY 2.0 (France) Attribution: tatoeba.org #314968 (CK) & #498206 (minshirui)\n",
            "That's Tom's house with the red roof.\tलाल छत वाला वह टॉम का घर है।\tCC-BY 2.0 (France) Attribution: tatoeba.org #25591 (CK) & #483797 (minshirui)\n",
            "That's too small to fit on your head.\tवह तुम्हारे सर के लिए बहुत छोटा है।\tCC-BY 2.0 (France) Attribution: tatoeba.org #42816 (CM) & #491601 (minshirui)\n",
            "The train is made up of fifteen cars.\tरेलगाड़ी में १५ डब्बे हैं।\tCC-BY 2.0 (France) Attribution: tatoeba.org #326192 (CK) & #450306 (minshirui)\n",
            "There's been a lot of rain this year.\tइस साल बहुत बारिश पड़ी है।\tCC-BY 2.0 (France) Attribution: tatoeba.org #419645 (CK) & #475809 (minshirui)\n",
            "They dug here and there for treasure.\tउन्होंने ख़ज़ाना ढूँढने के लिए यहाँ-वहाँ खोदा।\tCC-BY 2.0 (France) Attribution: tatoeba.org #307537 (CK) & #491919 (minshirui)\n",
            "They'll fall in love with each other.\tउन्हें एक-दूसरे से प्यार हो जाएगा।\tCC-BY 2.0 (France) Attribution: tatoeba.org #9611403 (CK) & #3214276 (anubhav93)\n",
            "Tom never denied that he killed Mary.\tटॉम ने इस बात से कभी इनकार नहीं किया कि उसने मैरी को मार डाला।\tCC-BY 2.0 (France) Attribution: tatoeba.org #6810507 (CK) & #8889288 (simranbansal)\n",
            "Turn left and you will find the cafe.\tबाएं मुड़ो और तुम्हें एक कैफ़े मिलेगा।\tCC-BY 2.0 (France) Attribution: tatoeba.org #412844 (lunatic) & #484040 (minshirui)\n",
            "We are all anxious about your health.\tहम सब तुम्हारे स्वास्थ्य के लिए बहुत चिंतित हैं।\tCC-BY 2.0 (France) Attribution: tatoeba.org #247162 (CK) & #450976 (minshirui)\n",
            "We are all anxious about your health.\tहम सब तुम्हारी सेहत के लिए बहुत परेशान हैं।\tCC-BY 2.0 (France) Attribution: tatoeba.org #247162 (CK) & #509992 (minshirui)\n",
            "We are to meet in front of his house.\tहम उसके घर के सामने मिलेंगे।\tCC-BY 2.0 (France) Attribution: tatoeba.org #249200 (CM) & #476357 (minshirui)\n",
            "What put such an idea into your head?\tतुम्हारे दिमाग़ में यह बात कैसे आई?\tCC-BY 2.0 (France) Attribution: tatoeba.org #38759 (CM) & #476388 (minshirui)\n",
            "What type of job are you looking for?\tआप किस प्रकार की नौकरी ढूंढ रहे हैं ।\tCC-BY 2.0 (France) Attribution: tatoeba.org #687438 (lukaszpp) & #8876332 (simranbansal)\n",
            "Who are you going to eat dinner with?\tडिनर किसके साथ करोगे?\tCC-BY 2.0 (France) Attribution: tatoeba.org #1047230 (CK) & #3216247 (anubhav93)\n",
            "You can see the whole city from here.\tतुम यहाँ से पूरा शहर देख सकते हो।\tCC-BY 2.0 (France) Attribution: tatoeba.org #51041 (CK) & #482469 (minshirui)\n",
            "You should have attended the meeting.\tतुम्हे मीटिंग में आना चाहिए था।\tCC-BY 2.0 (France) Attribution: tatoeba.org #16240 (CK) & #510253 (minshirui)\n",
            "You're wearing your shirt inside out.\tतुमने अपनी कमीज़ उलटी पहनी हुई है।\tCC-BY 2.0 (France) Attribution: tatoeba.org #8980381 (CK) & #511748 (minshirui)\n",
            "You're wearing your shirt inside out.\tतुमने अपनी टी-शर्ट उलटी पहनी हुई है।\tCC-BY 2.0 (France) Attribution: tatoeba.org #8980381 (CK) & #511749 (minshirui)\n",
            "Your daughter is not a child anymore.\tतुम्हारी बेटी अब बच्ची नहीं है।\tCC-BY 2.0 (France) Attribution: tatoeba.org #16889 (CK) & #506474 (minshirui)\n",
            "A good idea occurred to me last night.\tमुझे कल सोते समय दिमाग़ में एक अच्छा आयडिया आया।\tCC-BY 2.0 (France) Attribution: tatoeba.org #322898 (CK) & #486317 (minshirui)\n",
            "At last, the truth became known to us.\tआखिरकार हमे सच्चाई का पता चल गया।\tCC-BY 2.0 (France) Attribution: tatoeba.org #30229 (CK) & #491711 (minshirui)\n",
            "Don't do anything you'll regret later.\tऐसा कुछ ना करें जिससे बाद में आपको पछतावा हो ।\tCC-BY 2.0 (France) Attribution: tatoeba.org #3287266 (CK) & #8876391 (simranbansal)\n",
            "He asked me if I could do him a favor.\tउसने मुझसे एक एहसान माँगा।\tCC-BY 2.0 (France) Attribution: tatoeba.org #297588 (CK) & #482421 (minshirui)\n",
            "He can imitate the rest of the family.\tवह अपने सारे घरवालों की नकल उतार सकता है।\tCC-BY 2.0 (France) Attribution: tatoeba.org #294449 (CK) & #477713 (minshirui)\n",
            "He earns more money than he can spend.\tवह ज़रूरत से ज़्यादा पैसे कमाता है।\tCC-BY 2.0 (France) Attribution: tatoeba.org #297091 (CK) & #459386 (minshirui)\n",
            "He exhibited no remorse for his crime.\tउसको उसके जुर्म पर बिलकुल भी पछतावा नहीं था।\tCC-BY 2.0 (France) Attribution: tatoeba.org #298725 (CK) & #494128 (minshirui)\n",
            "He gave his children a good education.\tउसने अपने बच्चों को अच्छी शिक्षा दी।\tCC-BY 2.0 (France) Attribution: tatoeba.org #297126 (CK) & #485953 (minshirui)\n",
            "He wouldn't allow me to drive his car.\tउसने मुझे उसकी गाड़ी नहीं चलाने दी।\tCC-BY 2.0 (France) Attribution: tatoeba.org #297305 (CK) & #475967 (minshirui)\n",
            "His failure has nothing to do with me.\tउसकी नाकामयाबी से मेरा कोई लेना-देना नहीं है।\tCC-BY 2.0 (France) Attribution: tatoeba.org #286555 (CM) & #581693 (minshirui)\n",
            "How many cars has that company bought?\tकम्पनी ने कितनी गाड़ियाँ ख़रीदीं हैं?\tCC-BY 2.0 (France) Attribution: tatoeba.org #49071 (CK) & #475933 (minshirui)\n",
            "How many people are on board the ship?\tजहाज़ में कितने लोग हैं?\tCC-BY 2.0 (France) Attribution: tatoeba.org #273502 (CK) & #514139 (minshirui)\n",
            "I always got up early in my childhood.\tजब मैं छोटा था मैं हमेशा जल्दी सोकर उठा करता था।\tCC-BY 2.0 (France) Attribution: tatoeba.org #245842 (CM) & #483815 (minshirui)\n",
            "I am going to go play ball with Mohan.\tमैं मोहन के साथ गेंद खेलने जा रहा हूँ।\tCC-BY 2.0 (France) Attribution: tatoeba.org #443072 (minshirui) & #440811 (minshirui)\n",
            "I am well acquainted with the subject.\tमैं इस विषय से परिचित हूँ।\tCC-BY 2.0 (France) Attribution: tatoeba.org #254693 (CK) & #597867 (minshirui)\n",
            "I don't want to buy this kind of sofa.\tमुझे इस तरह का सोफ़ा नहीं खरीदना है।\tCC-BY 2.0 (France) Attribution: tatoeba.org #400237 (sysko) & #476462 (minshirui)\n",
            "I doubt the veracity of his statement.\tमुझे उसके बयान की सच्चाई पर शक़ है।\tCC-BY 2.0 (France) Attribution: tatoeba.org #285892 (CM) & #561259 (minshirui)\n",
            "I had never seen her before that time.\tमैंने उसे पहले कभी नहीं देखा था।\tCC-BY 2.0 (France) Attribution: tatoeba.org #254438 (CK) & #465617 (minshirui)\n",
            "I know a girl who can ride a unicycle.\tमेरे जान-पहचान की एक लड़की को युनिसायकल चलाना आता है।\tCC-BY 2.0 (France) Attribution: tatoeba.org #256118 (CK) & #3225323 (anubhav93)\n",
            "I know his address, but it's a secret.\tमुझे उसका पता पता है, पर वह एक राज़ है।\tCC-BY 2.0 (France) Attribution: tatoeba.org #260662 (papabear) & #505437 (minshirui)\n",
            "I regret not having bought that house.\tमुझे उस घर को न खरीदने का पछतावा हो रहा है।\tCC-BY 2.0 (France) Attribution: tatoeba.org #68532 (CK) & #480324 (minshirui)\n",
            "I want to help you with your homework.\tमैं तुम्हें तुम्हारे होमवर्क के साथ मदद करना चाहता हूँ।\tCC-BY 2.0 (France) Attribution: tatoeba.org #252850 (Eldad) & #514059 (minshirui)\n",
            "I'd just like to ask Tom one question.\tमैं टॉम से एक सवाल पूछना चाहूँगी।\tCC-BY 2.0 (France) Attribution: tatoeba.org #1934844 (CK) & #8876356 (simranbansal)\n",
            "I'll be staying here for three months.\tमैं यहाँ तीन महीनों के लिए रहूँगा।\tCC-BY 2.0 (France) Attribution: tatoeba.org #72730 (CK) & #476315 (minshirui)\n",
            "I'm sure that she will come back soon.\tमुझे यकीन है कि वह जल्द ही वापस आ जाएगी।\tCC-BY 2.0 (France) Attribution: tatoeba.org #310962 (CK) & #485538 (minshirui)\n",
            "I've taught myself to play the guitar.\tमैंने खुद से गिटार बजाना सीख लिया है।\tCC-BY 2.0 (France) Attribution: tatoeba.org #253368 (CK) & #3216301 (anubhav93)\n",
            "It is necessary that you see a doctor.\tतुम्हारे लिए डॉक्टर को देखने जाना ज़रूरी है।\tCC-BY 2.0 (France) Attribution: tatoeba.org #28041 (yifen238) & #611448 (minshirui)\n",
            "It's been ten years since we last met.\tहमारी पिछली मुलाक़ात से अब दस साल हो गए हैं।\tCC-BY 2.0 (France) Attribution: tatoeba.org #6036 (Zifre) & #475945 (minshirui)\n",
            "Leave your umbrella at the front door.\tअपने छाते को सामने वाले द्वार छोड़ दो।\tCC-BY 2.0 (France) Attribution: tatoeba.org #1868507 (CK) & #4907663 (yashtib1995)\n",
            "Look up the phrase in your dictionary.\tशब्दकोश में उस वाक्यांश को ढूँढो।\tCC-BY 2.0 (France) Attribution: tatoeba.org #264887 (CK) & #3216566 (anubhav93)\n",
            "Mary was looking for you at that time.\tमेरी उस समय तुम्हें ढूँढ रही थी।\tCC-BY 2.0 (France) Attribution: tatoeba.org #54098 (CK) & #485881 (minshirui)\n",
            "Mom scolded me for making fun of them.\tमाँ ने मेरे उनका मज़ाक उड़ाने के लिए डाँट लगाई।\tCC-BY 2.0 (France) Attribution: tatoeba.org #63944 (CM) & #487461 (minshirui)\n",
            "My mother put clean sheets on the bed.\tमेरी माँ ने बिस्तर पर साफ़ चादर बिछाई।\tCC-BY 2.0 (France) Attribution: tatoeba.org #320679 (CK) & #483873 (minshirui)\n",
            "My sister always keeps her room clean.\tमेरी बहन अपने कमरे को हमेशा साफ़-सुथरा रखती है।\tCC-BY 2.0 (France) Attribution: tatoeba.org #245569 (CK) & #510235 (minshirui)\n",
            "My uncle is an amateur cricket player.\tमेरे अंकल क्रिकेट के शौकिया खिलाड़ी हैं।\tCC-BY 2.0 (France) Attribution: tatoeba.org #250246 (CK) & #446313 (minshirui)\n",
            "My uncle is an amateur cricket player.\tमेरे मामा क्रिकेट के शौकिया खिलाड़ी हैं।\tCC-BY 2.0 (France) Attribution: tatoeba.org #250246 (CK) & #446314 (minshirui)\n",
            "My uncle is an amateur cricket player.\tमेरे चाचा क्रिकेट के शौकिया खिलाड़ी हैं।\tCC-BY 2.0 (France) Attribution: tatoeba.org #250246 (CK) & #446316 (minshirui)\n",
            "My uncle is an amateur cricket player.\tमेरे ताऊजी क्रिकेट के शौकिया खिलाड़ी हैं।\tCC-BY 2.0 (France) Attribution: tatoeba.org #250246 (CK) & #446317 (minshirui)\n",
            "She called her children into the room.\tउसने अपने बच्चों को कमरे में बुलाया।\tCC-BY 2.0 (France) Attribution: tatoeba.org #313952 (CK) & #505059 (minshirui)\n",
            "She passed away peacefully last night.\tवह कल रात आराम से चल बसीं।\tCC-BY 2.0 (France) Attribution: tatoeba.org #313852 (CK) & #484155 (minshirui)\n",
            "She told me that she wanted a pet dog.\tउसने मुझसे कहा कि उसे कुत्ता पालने का मन था।\tCC-BY 2.0 (France) Attribution: tatoeba.org #454414 (FeuDRenais) & #516641 (minshirui)\n",
            "She was brought up by her grandmother.\tउसकी दादी ने उसे पाल-पोस कर बड़ा किया था।\tCC-BY 2.0 (France) Attribution: tatoeba.org #310591 (furagwa) & #483788 (minshirui)\n",
            "She was brought up by her grandmother.\tउसकी नानी ने उसे पाल-पोस कर बड़ा किया था।\tCC-BY 2.0 (France) Attribution: tatoeba.org #310591 (furagwa) & #483789 (minshirui)\n",
            "She was watching the dead leaves fall.\tवह मुर्झाई हुई पत्तियों को गिरते हुए देख रही थी।\tCC-BY 2.0 (France) Attribution: tatoeba.org #389032 (CK) & #484021 (minshirui)\n",
            "She will become a doctor in two years.\tवह दो सालों में डॉक्टर बन जाएगी।\tCC-BY 2.0 (France) Attribution: tatoeba.org #310145 (CK) & #581295 (minshirui)\n",
            "Sickness prevented him from going out.\tवह बीमारी की वजह से बाहर नहीं जा सका।\tCC-BY 2.0 (France) Attribution: tatoeba.org #318418 (CK) & #483046 (minshirui)\n",
            "Strange as it may sound, this is true.\tचाहे सुनने में जितना भी अजीब लगे, यह सच है।\tCC-BY 2.0 (France) Attribution: tatoeba.org #20621 (CK) & #486382 (minshirui)\n",
            "Taste this wine to see if you like it.\tयह वाईन चखकर देखो तुम्हें अच्छी लगती है कि नहीं।\tCC-BY 2.0 (France) Attribution: tatoeba.org #60314 (CK) & #480198 (minshirui)\n",
            "The dog followed him wherever he went.\tवह जहाँ भी जाए, वह कुत्ता उसके पीछे-पीछे जाता था।\tCC-BY 2.0 (France) Attribution: tatoeba.org #283633 (CK) & #476400 (minshirui)\n",
            "The food was not fit for man or beast.\tवह खाना न तो आदमी न जानवर को खिलाने लायक था।\tCC-BY 2.0 (France) Attribution: tatoeba.org #46140 (CK) & #491590 (minshirui)\n",
            "The police were patrolling the street.\tपुलिस ने सड़क पर पहरा लगा दिया था।\tCC-BY 2.0 (France) Attribution: tatoeba.org #238164 (CM) & #597868 (minshirui)\n",
            "The train is ten minutes behind today.\tआज ट्रेन दस मिनट लेट है।\tCC-BY 2.0 (France) Attribution: tatoeba.org #326227 (CK) & #487246 (minshirui)\n",
            "The trouble is that they have no time.\tमुश्किल यह है कि उनके पास समय नहीं है।\tCC-BY 2.0 (France) Attribution: tatoeba.org #243457 (CM) & #450388 (minshirui)\n",
            "There is no longer any room for doubt.\tशक की कोई गुंजाईश नहीं रही है।\tCC-BY 2.0 (France) Attribution: tatoeba.org #30337 (CM) & #473775 (minshirui)\n",
            "There's no use trying to persuade him.\tउसको मनाने की कोशिश करने में कोई फ़ायदा नहीं है।\tCC-BY 2.0 (France) Attribution: tatoeba.org #307871 (CK) & #485528 (minshirui)\n",
            "They charged me for the broken window.\tउन्होंने ने मुझसे टूटी हुई खिड़की के लिए पैसे माँगे।\tCC-BY 2.0 (France) Attribution: tatoeba.org #274187 (CK) & #498228 (minshirui)\n",
            "They were scattered in all directions.\tवे सारी दिशाओं में फैले हुए थे।\tCC-BY 2.0 (France) Attribution: tatoeba.org #306624 (CM) & #486278 (minshirui)\n",
            "This cloth is really smooth and silky.\tयह कपड़ा बहुत रेशमी है।\tCC-BY 2.0 (France) Attribution: tatoeba.org #491839 (minshirui) & #491838 (minshirui)\n",
            "This machine is driven by electricity.\tयह मशीन बिजली से चलती है।\tCC-BY 2.0 (France) Attribution: tatoeba.org #59785 (CS) & #506574 (minshirui)\n",
            "This medicine will clear up your cold.\tयह दवाई तुम्हारा गला साफ़ कर देगी।\tCC-BY 2.0 (France) Attribution: tatoeba.org #56560 (CK) & #491610 (minshirui)\n",
            "This medicine will take the pain away.\tयह दवाई दर्द को दूर कर देगी।\tCC-BY 2.0 (France) Attribution: tatoeba.org #56582 (CK) & #505048 (minshirui)\n",
            "Two boys came running out of the room.\tदो लड़के कमरे से भागे निकल आए।\tCC-BY 2.0 (France) Attribution: tatoeba.org #280900 (CK) & #455306 (minshirui)\n",
            "We have two unused rooms in our house.\tहमारे पास घर में दो कमरे हैं जिनका हम इस्तेमाल नहीं कर रहे हैं।\tCC-BY 2.0 (France) Attribution: tatoeba.org #247434 (CK) & #514132 (minshirui)\n",
            "We ordered pink, but we received blue.\tहमने पिंक रंग वाले का ऑर्डर किया था पर हमे नीले रंग वाला मिला।\tCC-BY 2.0 (France) Attribution: tatoeba.org #34441 (CK) & #516814 (minshirui)\n",
            "We tried it again, but couldn't do it.\tहमने फिरसे करने की कोशीश की, पर नहीं कर पाए।\tCC-BY 2.0 (France) Attribution: tatoeba.org #31495 (Zifre) & #498175 (minshirui)\n",
            "Where's the remote control for the TV?\tटीवी का रिमोट कहाँ है?\tCC-BY 2.0 (France) Attribution: tatoeba.org #39222 (CK) & #491025 (minshirui)\n",
            "You can see a lot of stars in the sky.\tतुम्हें आसमान में बहुत सारे सितारे दिखाई देंगे।\tCC-BY 2.0 (France) Attribution: tatoeba.org #18331 (CK) & #609428 (minshirui)\n",
            "You should make good use of your time.\tतुम्हे अपने समय का ठीक से इस्तेमाल करना चाहिए।\tCC-BY 2.0 (France) Attribution: tatoeba.org #69287 (CK) & #491640 (minshirui)\n",
            "\"Where do you live?\" \"I live in Tokyo.\"\t\"आप कहाँ रहते हैं?\" \"मैं टोक्यो में रहता हूँ\"\tCC-BY 2.0 (France) Attribution: tatoeba.org #73975 (CK) & #459415 (minshirui)\n",
            "Father sometimes took me to his office.\tपापा कभी-कभी मुझे दफ़्तर ले जाया करते थे।\tCC-BY 2.0 (France) Attribution: tatoeba.org #319246 (CM) & #515365 (minshirui)\n",
            "He could not sleep because of the heat.\tवह गर्मी की वजह से सो नहीं पाया।\tCC-BY 2.0 (France) Attribution: tatoeba.org #267107 (CK) & #483843 (minshirui)\n",
            "He embezzled the money from his office.\tउसने अपने दफ़तर के पैसों को गबन किया।\tCC-BY 2.0 (France) Attribution: tatoeba.org #294637 (CK) & #484174 (minshirui)\n",
            "He had nothing to say, so he went away.\tउसके पास कुछ भी कहने को नहीं था, तो वह चला गया।\tCC-BY 2.0 (France) Attribution: tatoeba.org #296092 (CK) & #491322 (minshirui)\n",
            "He is getting along with his employees.\tवह अपने कर्मचारियों के साथ अच्छे से निभता है।\tCC-BY 2.0 (France) Attribution: tatoeba.org #295429 (CK) & #475925 (minshirui)\n",
            "He sold his own car without hesitation.\tउसने अपनी गाड़ी बिना हिचकिचाहट हे बेच दी।\tCC-BY 2.0 (France) Attribution: tatoeba.org #291721 (CK) & #487262 (minshirui)\n",
            "He used to tell me stories about India.\tवह मुझे भारत के बारे में कहानियाँ सुनाया करता था।\tCC-BY 2.0 (France) Attribution: tatoeba.org #297552 (deniko) & #487745 (minshirui)\n",
            "Her mother was busy cooking the dinner.\tउसकी माँ खाना बनाने में लगी हुई थी।\tCC-BY 2.0 (France) Attribution: tatoeba.org #309750 (CK) & #455229 (minshirui)\n",
            "How many times a day does that bus run?\tवह बस दिन में कितनी बार चलती है?\tCC-BY 2.0 (France) Attribution: tatoeba.org #351277 (human600) & #516661 (minshirui)\n",
            "How soon can you have this dress ready?\tइस ड्रेस को कितनी जल्दी तैयार कर सकते हो?\tCC-BY 2.0 (France) Attribution: tatoeba.org #37632 (CK) & #515376 (minshirui)\n",
            "I am fully convinced of your innocence.\tमुझे तुम्हारे बेगुनाह होने पर पूरा यकीन है।\tCC-BY 2.0 (France) Attribution: tatoeba.org #257121 (CK) & #514128 (minshirui)\n",
            "I am interested in American literature.\tमुझे अम्रीकी साहित्य में दिलचस्पी है।\tCC-BY 2.0 (France) Attribution: tatoeba.org #253022 (CK) & #476335 (minshirui)\n",
            "I am much obliged to you for your help.\tमैं आपकी मदद के लिए बहुत आभारी हूँ।\tCC-BY 2.0 (France) Attribution: tatoeba.org #54433 (mamat) & #561248 (minshirui)\n",
            "I began to sing when I was a youngster.\tमैंने छोटी उम्र से ही गाना गाना शुरू कर दिया था।\tCC-BY 2.0 (France) Attribution: tatoeba.org #32560 (CK) & #477708 (minshirui)\n",
            "I can't put up with this noise anymore.\tमैं इस शोर को और बर्दाश्त नहीं कर सकती।\tCC-BY 2.0 (France) Attribution: tatoeba.org #253691 (CK) & #463391 (minshirui)\n",
            "I found nothing but a pair of scissors.\tमुझे कैंचियों के अलावा और कुछ नहीं मिला।\tCC-BY 2.0 (France) Attribution: tatoeba.org #246730 (CK) & #483932 (minshirui)\n",
            "I know that all of this is just a game.\tमैं जानता हूँ कि यह सब एक खेल है।\tCC-BY 2.0 (France) Attribution: tatoeba.org #383685 (Dorenda) & #498105 (minshirui)\n",
            "I met her in London for the first time.\tमेरी उसके साथ पहली मुलाकात लंदन में हुई थी।\tCC-BY 2.0 (France) Attribution: tatoeba.org #255942 (CK) & #477740 (minshirui)\n",
            "I need to go home a little early today.\tमुझे आज थोड़ा जल्दी घर जाना है।\tCC-BY 2.0 (France) Attribution: tatoeba.org #427891 (CM) & #457024 (minshirui)\n",
            "I was able to answer all the questions.\tमैं सारे सवालों का जवाब दे पाया था।\tCC-BY 2.0 (France) Attribution: tatoeba.org #259150 (CK) & #611446 (minshirui)\n",
            "I will ask him about it tomorrow, then.\tफिर मैं उससे उसके बारे में कल पूछूँगा।\tCC-BY 2.0 (France) Attribution: tatoeba.org #39345 (CK) & #483851 (minshirui)\n",
            "I will find out how the medicine works.\tमैं पता लगाऊँगा कि यह दिवाई कैसे काम करती है।\tCC-BY 2.0 (France) Attribution: tatoeba.org #324229 (CK) & #485891 (minshirui)\n",
            "I will pay my debt as soon as possible.\tमैं अपना कर्ज़ जल्द-से-जल्द चुकताऊँगा।\tCC-BY 2.0 (France) Attribution: tatoeba.org #266881 (CK) & #480309 (minshirui)\n",
            "I'd like to see him tomorrow afternoon.\tमैं उससे कल दोपहर को मिलना चाहता हूँ।\tCC-BY 2.0 (France) Attribution: tatoeba.org #323152 (CK) & #515385 (minshirui)\n",
            "I've been ready to do that for a while.\tमैं कुछ समय से वैसा करने के लिए तैयार हूं।\tCC-BY 2.0 (France) Attribution: tatoeba.org #6774803 (CK) & #8890346 (simranbansal)\n",
            "If you have time, please drop in on us.\tअगर आपके पास समय हो तो हमसे मिलने आईएगा।\tCC-BY 2.0 (France) Attribution: tatoeba.org #30774 (CM) & #465598 (minshirui)\n",
            "It will go away by itself in two weeks.\tवह दो हफ़्तों में अपने-आप चला जाएगा।\tCC-BY 2.0 (France) Attribution: tatoeba.org #72856 (CK) & #511708 (minshirui)\n",
            "Mother bought a beautiful doll for her.\tमाँ ने उसके लिए एक सुन्दर सी गुड़िया खरीदी।\tCC-BY 2.0 (France) Attribution: tatoeba.org #320614 (CM) & #491572 (minshirui)\n",
            "My father consented to my going abroad.\tमेरे पिता मेरे विदेश जाने से राज़ी थे।\tCC-BY 2.0 (France) Attribution: tatoeba.org #319160 (CK) & #485796 (minshirui)\n",
            "My mother often suffers from headaches.\tमेरी माँ को अक्सर सिरदर्द होता है।\tCC-BY 2.0 (France) Attribution: tatoeba.org #251833 (CK) & #483966 (minshirui)\n",
            "Nothing but a miracle can save her now.\tअब तो उसे कोई चमत्कार ही बचा सकता है।\tCC-BY 2.0 (France) Attribution: tatoeba.org #241580 (CM) & #516629 (minshirui)\n",
            "Please come again two weeks from today.\tआज से दो हफ़्तों के बाद फिरसे आईएगा।\tCC-BY 2.0 (France) Attribution: tatoeba.org #72854 (CK) & #561246 (minshirui)\n",
            "She is living in some village in India.\tवह भारत के किसी गाँव में रह रही है।\tCC-BY 2.0 (France) Attribution: tatoeba.org #310530 (CK) & #450944 (minshirui)\n",
            "She reminds me very much of her mother.\tवह मुझे उसकी माँ की याद दिलाती है।\tCC-BY 2.0 (France) Attribution: tatoeba.org #315704 (CK) & #459424 (minshirui)\n",
            "She said to herself, \"I am very happy.\"\tउसने अपने आप से कहा: \"मैं बहुत खुश हूँ\"\tCC-BY 2.0 (France) Attribution: tatoeba.org #73665 (CK) & #449323 (minshirui)\n",
            "Talking is one thing, doing is another.\tबोलने और करने में फ़र्क होता है।\tCC-BY 2.0 (France) Attribution: tatoeba.org #239680 (CK) & #491857 (minshirui)\n",
            "The gentleman is a very famous pianist.\tयह महाशय बहुत जाने-माने पियानिस्ट हैं।\tCC-BY 2.0 (France) Attribution: tatoeba.org #46050 (CM) & #457090 (minshirui)\n",
            "The lights have been burning all night.\tबत्तियाँ पूरी रात से जल रहीं हैं।\tCC-BY 2.0 (France) Attribution: tatoeba.org #279868 (CK) & #498109 (minshirui)\n",
            "The rumor proved to be an absolute lie.\tवह अफ़वाह एकदम झूठी निकली।\tCC-BY 2.0 (France) Attribution: tatoeba.org #65428 (U2FS) & #475915 (minshirui)\n",
            "The scar on his cheek hardly shows now.\tउसकी गाल पर जो चोट का निशान है वह अब बहुत हल्का हो गया है।\tCC-BY 2.0 (France) Attribution: tatoeba.org #285423 (CK) & #480269 (minshirui)\n",
            "The two languages have a lot in common.\tइन दो भाषाओं में बहुत सारी समानताएं हैं।\tCC-BY 2.0 (France) Attribution: tatoeba.org #50741 (CK) & #484034 (minshirui)\n",
            "The work must be completed by tomorrow.\tकाम कल तक खतम होना होगा।\tCC-BY 2.0 (France) Attribution: tatoeba.org #374490 (CK) & #483786 (minshirui)\n",
            "Tom is by far the smartest person here.\tटॉम यहाँ का अब तक का सबसे समझदार व्यक्ति है।\tCC-BY 2.0 (France) Attribution: tatoeba.org #6247207 (CK) & #9012803 (simranbansal)\n",
            "Tom told me he didn't get enough sleep.\tटॉम ने मुझे बताया कि उसे पर्याप्त नींद नहीं मिली।\tCC-BY 2.0 (France) Attribution: tatoeba.org #3177879 (CK) & #9012816 (simranbansal)\n",
            "We must try to protect the environment.\tहमे पर्यावरण की रक्षा करने की कोशिश करनी चाहिए।\tCC-BY 2.0 (France) Attribution: tatoeba.org #248541 (CK) & #487236 (minshirui)\n",
            "What languages do they speak in Canada?\tकनाडा में कौनसी भाषाएं बोली जाती हैं?\tCC-BY 2.0 (France) Attribution: tatoeba.org #63648 (CS) & #450372 (minshirui)\n",
            "Which is the more expensive of the two?\tइन दोनो में से ज़्यादा महंगा कौनसा है?\tCC-BY 2.0 (France) Attribution: tatoeba.org #280821 (CM) & #476323 (minshirui)\n",
            "Who doesn't know such a simple proverb?\tइस तरह की आम कहावत को कौन नहीं जानता?\tCC-BY 2.0 (France) Attribution: tatoeba.org #54682 (Swift) & #483036 (minshirui)\n",
            "Workers must have their hair cut short.\tकर्मचारियों को अपने बाल छोटे कटाने होते हैं।\tCC-BY 2.0 (France) Attribution: tatoeba.org #244306 (CK) & #459426 (minshirui)\n",
            "Would you mind turning down the volume?\tआवाज़ थोड़ी धीमी कर सकते हो क्या?\tCC-BY 2.0 (France) Attribution: tatoeba.org #33116 (CK) & #483779 (minshirui)\n",
            "You must observe the rules of the club.\tतुम्हे क्लब के नियमों का पालन करना होगा।\tCC-BY 2.0 (France) Attribution: tatoeba.org #62881 (CM) & #491799 (minshirui)\n",
            "You've got a nerve to say such a thing!\tतुम्हारी जुर्रत कैसे हुई यह बोलने की?!\tCC-BY 2.0 (France) Attribution: tatoeba.org #41600 (CK) & #475855 (minshirui)\n",
            "Your examination results are excellent.\tतुम्हारे इगज़ैम के रिज़ल्ट बहुत अच्छे हैं।\tCC-BY 2.0 (France) Attribution: tatoeba.org #17113 (CK) & #509337 (minshirui)\n",
            "A smile is the best cure for a bad mood.\tएक खराब मनोदशा के लिए एक मुस्कान सबसे अच्छा इलाज है।\tCC-BY 2.0 (France) Attribution: tatoeba.org #8154893 (AlanF_US) & #9012843 (simranbansal)\n",
            "All you have to do is follow his advice.\tतुम्हे बस उसकी सलाह के मुताबिक काम करना होगा।\tCC-BY 2.0 (France) Attribution: tatoeba.org #15812 (Zifre) & #498221 (minshirui)\n",
            "Cows are sacred to many people in India.\tभारत में कई लोग गाय को पूज्य मानते हैं।\tCC-BY 2.0 (France) Attribution: tatoeba.org #65731 (CM) & #487706 (minshirui)\n",
            "He entered the room slowly by that door.\tवह उस दरवाज़े से धीरे से कमरे में घुसा।\tCC-BY 2.0 (France) Attribution: tatoeba.org #293201 (CM) & #495925 (minshirui)\n",
            "He had to go through a lot of hardships.\tउसे बहुत सारे कष्ट सहने पड़े थे।\tCC-BY 2.0 (France) Attribution: tatoeba.org #295062 (CK) & #480319 (minshirui)\n",
            "He had to reduce the price of his wares.\tउसे अपने सामान की कीमतें कम करनीं पड़ीं।\tCC-BY 2.0 (France) Attribution: tatoeba.org #298824 (CM) & #485793 (minshirui)\n",
            "He has invited me to attend his wedding.\tउसने मुझे अपनी शादी में आने का का न्योता दिया है।\tCC-BY 2.0 (France) Attribution: tatoeba.org #691633 (minshirui) & #691630 (minshirui)\n",
            "He is always complaining about his boss.\tवह हमेशा अपने बॉस की शिकायत करता रहता है।\tCC-BY 2.0 (France) Attribution: tatoeba.org #299676 (CK) & #485941 (minshirui)\n",
            "He was a great poet as well as a doctor.\tवह एक महान कवि ही नहीं बल्कि एक डॉक्टर भी थे।\tCC-BY 2.0 (France) Attribution: tatoeba.org #293614 (CK) & #498180 (minshirui)\n",
            "He was covered in mud from head to foot.\tवह सर से पांव तक कीचड़ में लतपत था।\tCC-BY 2.0 (France) Attribution: tatoeba.org #457945 (sacredceltic) & #581775 (minshirui)\n",
            "He was destined never to meet her again.\tउसके नसीब में उससे फिरसे मिलना नहीं लिखा हुआ था।\tCC-BY 2.0 (France) Attribution: tatoeba.org #288496 (CM) & #514104 (minshirui)\n",
            "He was happy at the news of her success.\tवह उसकी कामयाबी की खबर सुनकर खुश था।\tCC-BY 2.0 (France) Attribution: tatoeba.org #309487 (CM) & #487264 (minshirui)\n",
            "How about adding a little bit more salt?\tथोड़ा और नमक डाल दोगे?\tCC-BY 2.0 (France) Attribution: tatoeba.org #31563 (CK) & #498191 (minshirui)\n",
            "How did you get tickets for the concert?\tतुम्हें कॉनसर्ट की टिकटें कैसे मिलीं?\tCC-BY 2.0 (France) Attribution: tatoeba.org #50368 (CK) & #451276 (minshirui)\n",
            "How much time do we have to finish this?\tहमारे पास इस काम को खतम करने के लिए कितना समय है?\tCC-BY 2.0 (France) Attribution: tatoeba.org #71681 (CK) & #491026 (minshirui)\n",
            "I am confident he will keep his promise.\tमुझे भरोसा है कि वह अपना वादा निभाएगा।\tCC-BY 2.0 (France) Attribution: tatoeba.org #260155 (CK) & #506518 (minshirui)\n",
            "I am not sure how to pronounce the word.\tमुझे ठीक से नहीं पता इस शब्द को कैसे पढ़ा जाता है।\tCC-BY 2.0 (France) Attribution: tatoeba.org #45462 (CK) & #510256 (minshirui)\n",
            "I cannot stand his arrogance any longer.\tमैं उसके अक्खड़पन अब और बर्दाश्त नहीं कर सकता।\tCC-BY 2.0 (France) Attribution: tatoeba.org #260794 (minshirui) & #484173 (minshirui)\n",
            "I don't know if I'll have time to do it.\tमुझे नहीं पता मेरे पास यह करने के लिए समय होगा कि नहीं।\tCC-BY 2.0 (France) Attribution: tatoeba.org #2459 (CK) & #516812 (minshirui)\n",
            "I have been writing letters all morning.\tमैं पूरी सुबह से चिट्ठियाँ लिख रहा हूँ।\tCC-BY 2.0 (France) Attribution: tatoeba.org #257335 (CK) & #450374 (minshirui)\n",
            "I have been writing letters all morning.\tमैं पूरी सुबह से चिट्ठियाँ लिख रही हूँ।\tCC-BY 2.0 (France) Attribution: tatoeba.org #257335 (CK) & #450375 (minshirui)\n",
            "I have seen angels and talked with them.\tमैंने फ़रिश्तों को देखा है, उनसे बातचीत भी की है।\tCC-BY 2.0 (France) Attribution: tatoeba.org #1750322 (marcelostockle) & #3213928 (anubhav93)\n",
            "I was disappointed that you didn't call.\tमैं निराश था कि तुमने फ़ोन नहीं किया।\tCC-BY 2.0 (France) Attribution: tatoeba.org #71343 (CK) & #483840 (minshirui)\n",
            "I wish I had more time to talk with you.\tकाश मेरे पास और समय होता तुम्हारे साथ बात करने के लिए।\tCC-BY 2.0 (France) Attribution: tatoeba.org #63860 (CK) & #465619 (minshirui)\n",
            "I would rather stay at home than go out.\tमुझे बाहर जाने से घर में रहना पसंद है।\tCC-BY 2.0 (France) Attribution: tatoeba.org #21862 (CK) & #494207 (minshirui)\n",
            "I'll expect to hear from you by Tuesday.\tमैं मंगलवार के आने से पहले तुमसे खबर सुनने की उम्मीद रखूँगा।\tCC-BY 2.0 (France) Attribution: tatoeba.org #23776 (CK) & #476402 (minshirui)\n",
            "I'll give you an answer in a day or two.\tमैं तुम्हें एक-दो दिन में जवाब दूँगा।\tCC-BY 2.0 (France) Attribution: tatoeba.org #27186 (CK) & #505084 (minshirui)\n",
            "I'm addicted to chocolate and ice cream.\tमुझे चॉकलेट और आइसक्रीम की लत लगी हुई है।\tCC-BY 2.0 (France) Attribution: tatoeba.org #1075516 (Ederra) & #8889336 (simranbansal)\n",
            "I'm not ashamed of my father being poor.\tमुझे अपने पिता की ग़रीबी पर शर्म नहीं आती है।\tCC-BY 2.0 (France) Attribution: tatoeba.org #261524 (CM) & #498226 (minshirui)\n",
            "I've never met her, but I recognize her.\tमैं उसे पहचानता हूँ पर मैं उससे कभी मिला नहीं हूँ।\tCC-BY 2.0 (France) Attribution: tatoeba.org #450341 (minshirui) & #450340 (minshirui)\n",
            "I've never met him, but I recognize him.\tमैं उसे पहचानता हूँ पर मैं उससे कभी मिला नहीं हूँ।\tCC-BY 2.0 (France) Attribution: tatoeba.org #450342 (minshirui) & #450340 (minshirui)\n",
            "If you're watching this video, I'm dead.\tयदि आप यह वीडियो देख रहे हैं, तो मैं मर चुका हूं।\tCC-BY 2.0 (France) Attribution: tatoeba.org #6046836 (mailohilohi) & #8890347 (simranbansal)\n",
            "If you're watching this video, I'm dead.\tअगर तुम यह वीडियो देख रहे हो, तो मैं मर चुका हूं।\tCC-BY 2.0 (France) Attribution: tatoeba.org #6046836 (mailohilohi) & #8890348 (simranbansal)\n",
            "It's about time for the train to arrive.\tट्रेन के आने का समय लगभग आ गया है।\tCC-BY 2.0 (France) Attribution: tatoeba.org #31572 (Zifre) & #561278 (minshirui)\n",
            "It's getting dark. You'd better go home.\tदिन ढल रहा है। तुम्हे घर जाना चाहिए।\tCC-BY 2.0 (France) Attribution: tatoeba.org #28447 (CK) & #518722 (minshirui)\n",
            "Keep going straight through the village.\tगाँव में सीधे जाते रहिए।\tCC-BY 2.0 (France) Attribution: tatoeba.org #1673337 (admor82) & #3216559 (anubhav93)\n",
            "Mother and I are different in every way.\tमम्मी और मैं किसी भी पहलू में एक-समान नहीं हैं।\tCC-BY 2.0 (France) Attribution: tatoeba.org #320575 (CM) & #515403 (minshirui)\n",
            "Nobody could tell what he meant by that.\tकोई नहीं बता सका उसका वह कहने से मतलब क्या था।\tCC-BY 2.0 (France) Attribution: tatoeba.org #283197 (CK) & #484166 (minshirui)\n",
            "Science begins when you ask why and how.\tविज्ञान तब शुरू होता है जब तुम \"क्यों\" और \"कैसे\" पूछते हो।\tCC-BY 2.0 (France) Attribution: tatoeba.org #36495 (CM) & #485544 (minshirui)\n",
            "She had a daughter by her first husband.\tउसकी अपने पहले पति से एक लड़की थी।\tCC-BY 2.0 (France) Attribution: tatoeba.org #313786 (qdii) & #487471 (minshirui)\n",
            "She loves watching tennis matches on TV.\tउसे टीवी पर टेनिस देखना बहुत पसंद है।\tCC-BY 2.0 (France) Attribution: tatoeba.org #311655 (CK) & #443091 (minshirui)\n",
            "She may have to quit her job next month.\tउसे शायद अपनी नौकरी अगले महीने छोड़नी पड़ेगी।\tCC-BY 2.0 (France) Attribution: tatoeba.org #317370 (CK) & #498533 (minshirui)\n",
            "Such a thing cannot be found everywhere.\tऐसी चीज़ हर कहीं नहीं मिलती है।\tCC-BY 2.0 (France) Attribution: tatoeba.org #41435 (blay_paul) & #515425 (minshirui)\n",
            "Take this medicine when you have a cold.\tज़ुकाम हो तो यह दवाई ले लेना।\tCC-BY 2.0 (France) Attribution: tatoeba.org #63731 (CK) & #506452 (minshirui)\n",
            "Tell me what you are looking forward to.\tमुझे बताओ तुम किस चीज़ की आशा कर रहे हो।\tCC-BY 2.0 (France) Attribution: tatoeba.org #71497 (CK) & #509321 (minshirui)\n",
            "The new bridge was named Rainbow Bridge.\tनए ब्रिज को इन्द्रधनुष ब्रिज का नाम दिया गया।\tCC-BY 2.0 (France) Attribution: tatoeba.org #269135 (CK) & #455639 (minshirui)\n",
            "The police officer arrested the burglar.\tपुलिस अफ़सर ने चोर को हिरासत में लेलिया।\tCC-BY 2.0 (France) Attribution: tatoeba.org #400568 (CK) & #482455 (minshirui)\n",
            "The room has been empty for a long time.\tयह कमरा काफ़ी देर से खाली रहा है।\tCC-BY 2.0 (France) Attribution: tatoeba.org #44192 (CK) & #518728 (minshirui)\n",
            "There are no live animals in the museum.\tम्युज़ियम में ज़िन्दा जानवर नहीं हैं।\tCC-BY 2.0 (France) Attribution: tatoeba.org #282549 (Eldad) & #455583 (minshirui)\n",
            "There is no satisfying spoiled children.\tबिगड़े हुए बच्चों को खुश नहीं कर सकते।\tCC-BY 2.0 (France) Attribution: tatoeba.org #29206 (CM) & #506500 (minshirui)\n",
            "There used to be a big pond around here.\tयहाँ एक बड़ा तालाब हुआ करता था।\tCC-BY 2.0 (France) Attribution: tatoeba.org #28366 (CK) & #3213913 (anubhav93)\n",
            "There's something we need to talk about.\tमुझे तुमसे किसी बारे में बात करनी है।\tCC-BY 2.0 (France) Attribution: tatoeba.org #2063272 (CK) & #3216517 (anubhav93)\n",
            "They heard a gun go off in the distance.\tउनको दूर से बंदूक की आवाज़ सुनाई दी।\tCC-BY 2.0 (France) Attribution: tatoeba.org #25843 (CK) & #450965 (minshirui)\n",
            "Three men broke out of prison yesterday.\tकल तीन आदमी जेल से भाग गए।\tCC-BY 2.0 (France) Attribution: tatoeba.org #72666 (CK) & #483995 (minshirui)\n",
            "Tom did what he could to calm Mary down.\tटॉम ने वह सब किया जो वह मैरी को शांत करने के लिए कर सकता था।\tCC-BY 2.0 (France) Attribution: tatoeba.org #6267457 (CK) & #9012868 (simranbansal)\n",
            "We saw the film and had dinner together.\tहमने एक साथ फ़िल्म देखी और खाना खाया।\tCC-BY 2.0 (France) Attribution: tatoeba.org #23205 (Swift) & #451296 (minshirui)\n",
            "We should try to understand one another.\tहमे एक-दूसरे को समझने की कोशिश करनी चाहिए।\tCC-BY 2.0 (France) Attribution: tatoeba.org #247923 (CK) & #510269 (minshirui)\n",
            "What do you want to do in the afternoon?\tतुम्हे दोपहर में क्या करने का मन है?\tCC-BY 2.0 (France) Attribution: tatoeba.org #69453 (CK) & #491603 (minshirui)\n",
            "What time does your watch say it is now?\tतुम्हारी घड़ी अब क्या समय बता रही है?\tCC-BY 2.0 (France) Attribution: tatoeba.org #413829 (CK) & #691655 (minshirui)\n",
            "What time does your watch say it is now?\tआपकी घड़ी अब क्या समय बता रही है?\tCC-BY 2.0 (France) Attribution: tatoeba.org #413829 (CK) & #691656 (minshirui)\n",
            "Would you just move along a bit, please?\tआप थोड़ा आगे खिसक सकते हैं क्या?\tCC-BY 2.0 (France) Attribution: tatoeba.org #267703 (CM) & #483861 (minshirui)\n",
            "You can't eat your cake and have it too.\tतुम \"चित भी मेरी पट भी मेरी\" नहीं कर सकते।\tCC-BY 2.0 (France) Attribution: tatoeba.org #8986802 (CK) & #485509 (minshirui)\n",
            "You'll be punished if you break the law.\tअगर तुम कानून तोड़ोगे तो तुम्हे सज़ा मिलेगी।\tCC-BY 2.0 (France) Attribution: tatoeba.org #321024 (CK) & #486362 (minshirui)\n",
            "A gentleman would not spit on the street.\tकोई भी सुशील इनसान सड़क पर थूकेगा नहीं।\tCC-BY 2.0 (France) Attribution: tatoeba.org #269706 (CK) & #483805 (minshirui)\n",
            "Absence of rain caused the plants to die.\tपौधे बारिश के बिना मर गए।\tCC-BY 2.0 (France) Attribution: tatoeba.org #26911 (CM) & #486009 (minshirui)\n",
            "As a result of the war, many people died.\tजंग की वजह से बहुत सारे लोग मर गए।\tCC-BY 2.0 (France) Attribution: tatoeba.org #45737 (CM) & #482965 (minshirui)\n",
            "Can you identify the man in this picture?\tक्या तुम उस आदमी को उसकी तस्वीर से पहचान सकते हो?\tCC-BY 2.0 (France) Attribution: tatoeba.org #265299 (Eldad) & #514136 (minshirui)\n",
            "Did you feel the earthquake this morning?\tतुम्हें आज सुबह भूकम्प महसूस हुआ क्या?\tCC-BY 2.0 (France) Attribution: tatoeba.org #242174 (CK) & #498074 (minshirui)\n",
            "Give up smoking if you want to live long.\tअगर लम्बी ज़िन्दगी जीना चाहते हो तो सिगरेट पीना छोड़ दो।\tCC-BY 2.0 (France) Attribution: tatoeba.org #71349 (CK) & #739778 (minshirui)\n",
            "Having seen him before, I recognized him.\tमैंने उसे पहले देखा हुआ था, इसलिए मैंने उसे पहचान लिया।\tCC-BY 2.0 (France) Attribution: tatoeba.org #28348 (CM) & #487448 (minshirui)\n",
            "He could not come because of his illness.\tवह बीमारी की वजह से नहीं आ सका।\tCC-BY 2.0 (France) Attribution: tatoeba.org #483812 (minshirui) & #483811 (minshirui)\n",
            "He defeated his opponent in the election.\tउसने चुनाव में अपने विरोधी को हरा दिया।\tCC-BY 2.0 (France) Attribution: tatoeba.org #291103 (CK) & #488682 (minshirui)\n",
            "He failed to come up to our expectations.\tवह हमारी उम्मीदों को पूरा नहीं कर पाया।\tCC-BY 2.0 (France) Attribution: tatoeba.org #298195 (CM) & #485880 (minshirui)\n",
            "He jumped into the water clothes and all.\tउसने कपड़े उतारे बिना ही पानी में छलाँग लगादी।\tCC-BY 2.0 (France) Attribution: tatoeba.org #303448 (CM) & #476394 (minshirui)\n",
            "He ordered them to release the prisoners.\tउसने उनको क़ैदियों को छोड़ने का आदेश दिया।\tCC-BY 2.0 (France) Attribution: tatoeba.org #302539 (CK) & #476006 (minshirui)\n",
            "He tried in vain to open the locked door.\tवह बंद दरवाज़े को खोल नहीं पाया।\tCC-BY 2.0 (France) Attribution: tatoeba.org #296037 (CM) & #3216248 (anubhav93)\n",
            "I always rely on him in times of trouble.\tमैं मुसीबत के समय में हमेशा उसपर भरोसा करती हूँ।\tCC-BY 2.0 (France) Attribution: tatoeba.org #412768 (blay_paul) & #505425 (minshirui)\n",
            "I am convinced that he did nothing wrong.\tमुझे पूरा विश्वास है कि उसने कोई भी ग़लत काम नहीं किया।\tCC-BY 2.0 (France) Attribution: tatoeba.org #260024 (CK) & #484011 (minshirui)\n",
            "I am looking for a present for my mother.\tमैं अपनी मम्मी के लिए तोह्फ़ा ढूँढ रहा हूँ।\tCC-BY 2.0 (France) Attribution: tatoeba.org #320583 (CK) & #450425 (minshirui)\n",
            "I don't feel like studying English today.\tमेरा आज अंग्रेज़ी पढ़ने का मन नहीं है।\tCC-BY 2.0 (France) Attribution: tatoeba.org #242778 (CK) & #449386 (minshirui)\n",
            "I don't think that it will rain tomorrow.\tमुझे नहीं लगता कल बारिश होगी।\tCC-BY 2.0 (France) Attribution: tatoeba.org #323260 (CK) & #465616 (minshirui)\n",
            "I have no time to help you with the work.\tमेरे पास तुम्हारी काम में मदद करने के लिए समय नहीं है।\tCC-BY 2.0 (France) Attribution: tatoeba.org #249775 (CK) & #487422 (minshirui)\n",
            "I heard someone call my name from behind.\tमैंने किसी को पीछे से मेरे नाम पुकारते हुए सुना।\tCC-BY 2.0 (France) Attribution: tatoeba.org #276145 (CM) & #491903 (minshirui)\n",
            "I watched the game from beginning to end.\tमैंने खेल को शुरू से अंत तक देखा।\tCC-BY 2.0 (France) Attribution: tatoeba.org #252172 (CK) & #561244 (minshirui)\n",
            "I'll never forget how kind you have been.\tमैं आपके अच्छेपन को कभी नहीं भूलूँगा।\tCC-BY 2.0 (France) Attribution: tatoeba.org #388569 (CK) & #482452 (minshirui)\n",
            "I'm going to go buy some materials today.\tमैं आज कुछ सामान ख़रीदने जाऊँगी।\tCC-BY 2.0 (France) Attribution: tatoeba.org #473770 (CM) & #474793 (minshirui)\n",
            "I'm very happy to make your acquaintance.\tमुझे आपसे मिलकर बहुत खुशी हुई।\tCC-BY 2.0 (France) Attribution: tatoeba.org #64646 (CK) & #561262 (minshirui)\n",
            "If only I had known the answer yesterday!\tकाश मुझे यह जवाब कल पता होता!\tCC-BY 2.0 (France) Attribution: tatoeba.org #244398 (CM) & #475948 (minshirui)\n",
            "If you are hungry, you can eat the bread.\tअगर भूख लगी है तो ब्रेड खा सकते हो।\tCC-BY 2.0 (France) Attribution: tatoeba.org #64958 (CK) & #514118 (minshirui)\n",
            "In the woods, she met with two strangers.\tवह जंगल में दो अजनबियों से मिली।\tCC-BY 2.0 (France) Attribution: tatoeba.org #269483 (CK) & #484132 (minshirui)\n",
            "It is up to you whether to buy it or not.\tख़रीदो या न ख़रीदो तुम्हारे ऊपर है।\tCC-BY 2.0 (France) Attribution: tatoeba.org #282516 (CK) & #450373 (minshirui)\n",
            "It was not easy for us to find his house.\tहमारे लिए उसका घर ढूँढना आसान नहीं था।\tCC-BY 2.0 (France) Attribution: tatoeba.org #247292 (CK) & #561279 (minshirui)\n",
            "Japan depends on other countries for oil.\tजापान तेल के लिए दूसरे देशों पर निर्भर है।\tCC-BY 2.0 (France) Attribution: tatoeba.org #281565 (CK) & #480275 (minshirui)\n",
            "My brother would often stay up all night.\tमेरा भाई अक्सर पूरी रात जागे रहता था।\tCC-BY 2.0 (France) Attribution: tatoeba.org #237861 (CK) & #509377 (minshirui)\n",
            "She has invited me to attend her wedding.\tउसने मुझे अपनी शादी में आने का का न्योता दिया है।\tCC-BY 2.0 (France) Attribution: tatoeba.org #691634 (minshirui) & #691630 (minshirui)\n",
            "The air conditioner makes too much noise.\tएसी बहुत आवाज़ करता है।\tCC-BY 2.0 (France) Attribution: tatoeba.org #50623 (CK) & #450953 (minshirui)\n",
            "The baby has been crying for a long time.\tबच्चा बहुत देर से रो रहा था।\tCC-BY 2.0 (France) Attribution: tatoeba.org #272331 (CK) & #486277 (minshirui)\n",
            "The box was so heavy I could not move it.\tडब्बा इतना भारी था कि मैं उसे हिला नहीं सका।\tCC-BY 2.0 (France) Attribution: tatoeba.org #44465 (CK) & #487249 (minshirui)\n",
            "The girl who works at the bakery is cute.\tबेकरी में जो लड़की काम करती है वह बहुत क्यूट है।\tCC-BY 2.0 (France) Attribution: tatoeba.org #493935 (CM) & #514134 (minshirui)\n",
            "The museum is open from Monday to Friday.\tम्युज़ियम सोमवार से शुक्रवार तक खुला रहता है।\tCC-BY 2.0 (France) Attribution: tatoeba.org #44494 (CK) & #476295 (minshirui)\n",
            "The old lady smiled at her granddaughter.\tबूढ़ी औरत अपनी पोती पर मुस्कुराई।\tCC-BY 2.0 (France) Attribution: tatoeba.org #43322 (CK) & #3212868 (anubhav93)\n",
            "The situation calls for drastic measures.\tइस परिस्थिति में कठोर कदम उठाने होंगे।\tCC-BY 2.0 (France) Attribution: tatoeba.org #268506 (CK) & #483867 (minshirui)\n",
            "The teacher said, \"That's all for today.\"\tटीचर ने कहा, \"बस आज के लिए इतना ही।\"\tCC-BY 2.0 (France) Attribution: tatoeba.org #73694 (CK) & #491797 (minshirui)\n",
            "These pictures are really very beautiful.\tये तस्वीरें सच में बहुत सुंदर हैं।\tCC-BY 2.0 (France) Attribution: tatoeba.org #494172 (minshirui) & #494169 (minshirui)\n",
            "They live in a little village in England.\tवे इंग्लैंड के एक छोटे से गाँव में रहते हैं।\tCC-BY 2.0 (France) Attribution: tatoeba.org #305518 (CK) & #476359 (minshirui)\n",
            "We men are used to waiting for the women.\tहम मर्दों को औरतों का इंतेज़ार करने की आदत है।\tCC-BY 2.0 (France) Attribution: tatoeba.org #2228 (CM) & #494190 (minshirui)\n",
            "We should do away with the death penalty.\tहमें मौत की सज़ा को हटा देना चाहिए।\tCC-BY 2.0 (France) Attribution: tatoeba.org #22948 (CK) & #484000 (minshirui)\n",
            "What are you going to do with this money?\tतुम इन पैसों के साथ क्या करोगे?\tCC-BY 2.0 (France) Attribution: tatoeba.org #61282 (CK) & #465640 (minshirui)\n",
            "Will you take us for a drive next Sunday?\tहमें अगले हफ़्ते ड्राईव पर लेजाओगे क्या?\tCC-BY 2.0 (France) Attribution: tatoeba.org #242340 (CM) & #484045 (minshirui)\n",
            "Would you please explain the rules to me?\tआप मुझे नियम समझा सकते हैं क्या?\tCC-BY 2.0 (France) Attribution: tatoeba.org #632436 (CK) & #691648 (minshirui)\n",
            "You should take care of your sick mother.\tतुम्हे अपनी बीमार माँ का ख़याल रखना चाहिए।\tCC-BY 2.0 (France) Attribution: tatoeba.org #9587 (Zifre) & #509370 (minshirui)\n",
            "Africa was once called the Dark Continent.\tअफ़्रीका को एक समय में अंधेर महाद्वीप बुलाया जाता था।\tCC-BY 2.0 (France) Attribution: tatoeba.org #67751 (CK) & #459403 (minshirui)\n",
            "Believe it or not, she has three children.\tमानो या न मानो, उसके तीन बच्चे हैं।\tCC-BY 2.0 (France) Attribution: tatoeba.org #32854 (CK) & #491929 (minshirui)\n",
            "Cancer can be cured if discovered in time.\tकैंसर का अगर समय में पता चल जाए, तो उसका इलाज हो सकता है।\tCC-BY 2.0 (France) Attribution: tatoeba.org #20801 (CK) & #691651 (minshirui)\n",
            "Could you send someone up to make the bed?\tआप किसी को बिस्तर बनाने के लिए भेज सकते हैं क्या?\tCC-BY 2.0 (France) Attribution: tatoeba.org #33957 (CK) & #506556 (minshirui)\n",
            "He is always here between 5 and 6 o'clock.\tवह हमेशा यहाँ पाँच से छः बजे के बीच होता है।\tCC-BY 2.0 (France) Attribution: tatoeba.org #288593 (CK) & #505281 (minshirui)\n",
            "He is brave enough to go there by himself.\tवह वहाँ अकेले जाने लायक बहादुर है।\tCC-BY 2.0 (France) Attribution: tatoeba.org #292556 (CK) & #484137 (minshirui)\n",
            "He is coming to see me tomorrow afternoon.\tवह कल दोपहर मुझसे मिलने आ रहा है।\tCC-BY 2.0 (France) Attribution: tatoeba.org #304083 (CK) & #486369 (minshirui)\n",
            "He was caught in the act of pickpocketing.\tवह जेब काटते हुए पकड़ा गया।\tCC-BY 2.0 (France) Attribution: tatoeba.org #290378 (Vortarulo) & #475929 (minshirui)\n",
            "He went outside for a breath of fresh air.\tवह थोड़ी ताज़ा हवा खाने के लिए बाहर गया।\tCC-BY 2.0 (France) Attribution: tatoeba.org #299932 (CK) & #485570 (minshirui)\n",
            "Health is the most precious thing we have.\tहमारा स्वास्थ्य हमारी सबसे कीमती संपत्ति होती है।\tCC-BY 2.0 (France) Attribution: tatoeba.org #247331 (CM) & #477700 (minshirui)\n",
            "I can't put up with that noise any longer.\tमैं इस शोर को और बर्दाश्त नहीं कर सकता।\tCC-BY 2.0 (France) Attribution: tatoeba.org #35736 (CK) & #494200 (minshirui)\n",
            "I can't put up with that noise any longer.\tमुझसे यह शोर और बर्दाश्त नहीं किया जाएगा।\tCC-BY 2.0 (France) Attribution: tatoeba.org #35736 (CK) & #494201 (minshirui)\n",
            "I couldn't make out what he wanted to say.\tमैं समझ नहीं पा रहा था कि वह कहना क्या चाहता था।\tCC-BY 2.0 (France) Attribution: tatoeba.org #260025 (CK) & #491593 (minshirui)\n",
            "I didn't expect Tom to be so good-looking.\tमुझे उम्मीद नहीं थी कि टॉम इतना अच्छा दिखने वाला होगा।\tCC-BY 2.0 (France) Attribution: tatoeba.org #7734138 (CK) & #9013224 (simranbansal)\n",
            "I didn't expect Tom to be so good-looking.\tमुझे उम्मीद नहीं थी कि टॉम इतना अच्छा दिखता होगा।\tCC-BY 2.0 (France) Attribution: tatoeba.org #7734138 (CK) & #9013226 (simranbansal)\n",
            "I don't know how to operate this computer.\tमुझे यह कम्प्यूटर चलाना नहीं आता।\tCC-BY 2.0 (France) Attribution: tatoeba.org #253513 (CK) & #511713 (minshirui)\n",
            "I don't know if she will go there with me.\tमुझे नहीं पता वह मेरे साथ वहाँ जाएगी कि नहीं।\tCC-BY 2.0 (France) Attribution: tatoeba.org #308138 (CK) & #483942 (minshirui)\n",
            "I don't know what Tom would like me to do.\tमुझे नहीं पता कि टॉम मुझ से क्या करवाना चाहते हैं।\tCC-BY 2.0 (France) Attribution: tatoeba.org #6239305 (CK) & #9013215 (simranbansal)\n",
            "I don't know what Tom would like me to do.\tमुझे नहीं पता कि टॉम मुझ से क्या करवाना चाहता है।\tCC-BY 2.0 (France) Attribution: tatoeba.org #6239305 (CK) & #9013217 (simranbansal)\n",
            "I find foreign languages very interesting.\tमेरे ख़याल से विदेशी भाषाएँ बहुत ही दिलचस्प होतीं हैं।\tCC-BY 2.0 (France) Attribution: tatoeba.org #1801 (Swift) & #443077 (minshirui)\n",
            "I have a lot of work to get through today.\tमेरे पास आज बहुत काम है।\tCC-BY 2.0 (France) Attribution: tatoeba.org #242715 (CK) & #455256 (minshirui)\n",
            "I have been taking care of him ever since.\tमैं तभी से उसकी देखभाल करता आया हूँ।\tCC-BY 2.0 (France) Attribution: tatoeba.org #254858 (CK) & #515447 (minshirui)\n",
            "I know that Tom is an electrical engineer.\tमुझे पता है कि टॉम एक इलेक्ट्रिकल इंजीनियर है।\tCC-BY 2.0 (France) Attribution: tatoeba.org #7513860 (CK) & #8938143 (simranbansal)\n",
            "I shouldn't eat food that has sugar in it.\tमुझे चीनी-वाला चीज़ें नहीं खानी चाहिएँ।\tCC-BY 2.0 (France) Attribution: tatoeba.org #252307 (CK) & #476396 (minshirui)\n",
            "I tried to erase the memory of her crying.\tमैंने उसके रोने की याद को भुला देने की कोशिश करी।\tCC-BY 2.0 (France) Attribution: tatoeba.org #394782 (CM) & #505061 (minshirui)\n",
            "I want to leave this difficult job to her.\tमैं यह मुश्किल काम उसके लिए छोड़ना चाहता हूँ।\tCC-BY 2.0 (France) Attribution: tatoeba.org #427033 (FeuDRenais) & #485826 (minshirui)\n",
            "I'll wait here until my medicine is ready.\tजब तक मेरी दवाई तैयार नहीं होती मैं यहीं इंतेज़ार करूंगी।\tCC-BY 2.0 (France) Attribution: tatoeba.org #39497 (CK) & #581294 (minshirui)\n",
            "I'm willing to help you if you want me to.\tअगर तुम मदद चाह्ते हो, तो मैं मदद करने के लिए तैयार हूँ।\tCC-BY 2.0 (France) Attribution: tatoeba.org #250129 (CK) & #475839 (minshirui)\n",
            "I'm wondering whether to take on that job.\tमैं सोच रहा हूँ कि नौकरी लूँ या नहीं लूँ।\tCC-BY 2.0 (France) Attribution: tatoeba.org #47591 (CK) & #561257 (minshirui)\n",
            "It has been raining for three days on end.\tलगातार तीन दिनों से बारिश हो रही है।\tCC-BY 2.0 (France) Attribution: tatoeba.org #245001 (CM) & #561239 (minshirui)\n",
            "It is definite that he will go to America.\tकि वह अम्रीका जाएगा, यह तो पक्का है।\tCC-BY 2.0 (France) Attribution: tatoeba.org #282898 (CM) & #484007 (minshirui)\n",
            "Let's go and see as many things as we can.\tचलो चलें, जितनी सारी चीज़ें देख सकते हैं देख आएँ।\tCC-BY 2.0 (France) Attribution: tatoeba.org #39507 (Swift) & #455247 (minshirui)\n",
            "Let's let the workers go home early today.\tआज कर्मचारियों को थोड़ा जल्दी घर जाने देते हैं।\tCC-BY 2.0 (France) Attribution: tatoeba.org #242877 (CK) & #473705 (minshirui)\n",
            "Saying and doing are two different things.\tकहने और करने में बड़ा अंतर है।\tCC-BY 2.0 (France) Attribution: tatoeba.org #239678 (CK) & #3225254 (anubhav93)\n",
            "Saying and doing are two different things.\tकहना और करना अलग-अलग बातें हैं।\tCC-BY 2.0 (France) Attribution: tatoeba.org #239678 (CK) & #3225261 (anubhav93)\n",
            "She could not come because of her illness.\tवह बीमारी की वजह से नहीं आ सका।\tCC-BY 2.0 (France) Attribution: tatoeba.org #483813 (minshirui) & #483811 (minshirui)\n",
            "She is well known in both India and China.\tवह भारत और चीन दोनो में बहुत प्रसिद्ध है।\tCC-BY 2.0 (France) Attribution: tatoeba.org #310528 (Zifre) & #487754 (minshirui)\n",
            "She is well known in both India and China.\tवह भारत और चीन दोनो में बहुत मशहूर है।\tCC-BY 2.0 (France) Attribution: tatoeba.org #310528 (Zifre) & #487756 (minshirui)\n",
            "She showed me a letter written in English.\tउसने मुझे अंग्रेज़ी में लिखी हुई चिट्ठी दिखाई।\tCC-BY 2.0 (France) Attribution: tatoeba.org #314187 (CK) & #485556 (minshirui)\n",
            "Some of the apples in the box were rotten.\tडब्बे में कुछ सेव सड़े हुए थे।\tCC-BY 2.0 (France) Attribution: tatoeba.org #282637 (CK) & #475968 (minshirui)\n",
            "Some people like cats, others prefer dogs.\tकुछ लोगों को बिल्लियाँ अच्छी लगतीं हैं, कुछ लोगों को कुत्ते।\tCC-BY 2.0 (France) Attribution: tatoeba.org #282008 (CK) & #498092 (minshirui)\n",
            "That accident was due to his carelessness.\tवह ऐक्सीडेंट उसकी लापरवाही की वजह से हुआ।\tCC-BY 2.0 (France) Attribution: tatoeba.org #485791 (minshirui) & #485790 (minshirui)\n",
            "The Japanese eat rice at least once a day.\tजापानी दिन में कम-से-कम एक बार चावल खाते है।\tCC-BY 2.0 (France) Attribution: tatoeba.org #281742 (minshirui) & #480203 (minshirui)\n",
            "The Qutub Minar and Red Fort are in Delhi.\tक़ुतुब मीनार और लाल किला दिल्ली में हैं।\tCC-BY 2.0 (France) Attribution: tatoeba.org #487604 (minshirui) & #487602 (minshirui)\n",
            "The old farmer did not pay him much money.\tवह बूढ़ा किसान उसको बहुत पैसे नहीं देता था।\tCC-BY 2.0 (France) Attribution: tatoeba.org #44533 (CM) & #514093 (minshirui)\n",
            "The teacher was disappointed at my answer.\tटीचर मेरा जवाब सुनकर निराश थीं।\tCC-BY 2.0 (France) Attribution: tatoeba.org #272986 (CM) & #491696 (minshirui)\n",
            "Toudaiji is the bigger of the two temples.\tउन दो मंदिरों में तोदाइजी बड़ा वाला है।\tCC-BY 2.0 (France) Attribution: tatoeba.org #279837 (CM) & #450370 (minshirui)\n",
            "Why is he angry about something like that?\tवह इस तरह की बात पर गुस्सा क्यों है?\tCC-BY 2.0 (France) Attribution: tatoeba.org #38638 (CK) & #491318 (minshirui)\n",
            "You aren't supposed to play baseball here.\tयहाँ बेसबॉल खेलना मना है।\tCC-BY 2.0 (France) Attribution: tatoeba.org #8973635 (CK) & #476356 (minshirui)\n",
            "You're not supposed to play baseball here.\tयहाँ बेसबॉल खेलना मना है।\tCC-BY 2.0 (France) Attribution: tatoeba.org #8973634 (CK) & #476356 (minshirui)\n",
            "You're spending too much time watching TV.\tतुम टीवी देखने में काफ़ी समय बरबाद कर रहे हो।\tCC-BY 2.0 (France) Attribution: tatoeba.org #1655794 (Spamster) & #3216493 (anubhav93)\n",
            "Are these the glasses you were looking for?\tक्या यह वह ऐनक है जिसे आप ढूँढ रहे थे ?\tCC-BY 2.0 (France) Attribution: tatoeba.org #5072569 (Vraja108) & #2078010 (minshirui)\n",
            "By the way, have you ever been to Hokkaido?\tवैसे, तुम कभी होक्काईदो गई हुई हो क्या?\tCC-BY 2.0 (France) Attribution: tatoeba.org #38071 (CK) & #459399 (minshirui)\n",
            "Cover up the injured man with this blanket.\tघायल आदमी को इस कंबल से ढक दो।\tCC-BY 2.0 (France) Attribution: tatoeba.org #22288 (CK) & #514053 (minshirui)\n",
            "Do you know the man standing on the bridge?\tतुम ब्रिज पर खड़े हुए आदमी को जानते हो क्या?\tCC-BY 2.0 (France) Attribution: tatoeba.org #18988 (CK) & #450369 (minshirui)\n",
            "During the war, we had to do without sugar.\tजंग के समय में हमे चीनी के बिना ही काम चलाना पड़ा।\tCC-BY 2.0 (France) Attribution: tatoeba.org #273329 (CM) & #505357 (minshirui)\n",
            "From year to year they were growing poorer.\tवे हर साल और ज़्यादा गरीब हुए जा रहे थे।\tCC-BY 2.0 (France) Attribution: tatoeba.org #282214 (human600) & #516827 (minshirui)\n",
            "He did not show up at the party last night.\tवह कल पार्टी में नहीं आया।\tCC-BY 2.0 (France) Attribution: tatoeba.org #304475 (CK) & #486003 (minshirui)\n",
            "He was arrested because he stole the money.\tउसे पैसे चुराने के लिए गिरफ़्तार कर लिया गया।\tCC-BY 2.0 (France) Attribution: tatoeba.org #289473 (CK) & #484009 (minshirui)\n",
            "He was arrested because he stole the money.\tउसे पैसे चुराने के लिए हिरासत में ले लिया गया।\tCC-BY 2.0 (France) Attribution: tatoeba.org #289473 (CK) & #484010 (minshirui)\n",
            "His disappointment was obvious to everyone.\tउसकी निराशा सभी आसानी से दिख सकते थे।\tCC-BY 2.0 (France) Attribution: tatoeba.org #284327 (CK) & #487431 (minshirui)\n",
            "His main object in life was to become rich.\tउसका ज़िन्दगी में एक की उद्देश्य था और वह था अमीर बन जाना।\tCC-BY 2.0 (France) Attribution: tatoeba.org #286883 (CM) & #482969 (minshirui)\n",
            "His pride didn't allow him to ask for help.\tउसने अपने अभिमान की वजह से किसी से भी मदद नहीं मांगी।\tCC-BY 2.0 (France) Attribution: tatoeba.org #25934 (CK) & #581712 (minshirui)\n",
            "I am afraid of the situation getting worse.\tमुझे परिस्तिथि के बदतर होने का डर है।\tCC-BY 2.0 (France) Attribution: tatoeba.org #268530 (CM) & #486296 (minshirui)\n",
            "I chose to leave instead of staying behind.\tमैंने रहने की बजाय जाने का इरादा किया।\tCC-BY 2.0 (France) Attribution: tatoeba.org #257342 (CM) & #505058 (minshirui)\n",
            "I like the blue one. How much does it cost?\tमुझे नीला वाला पसंद है, कितने का है?\tCC-BY 2.0 (France) Attribution: tatoeba.org #436743 (lukaszpp) & #450445 (minshirui)\n",
            "I like the blue one. How much does it cost?\tमुझे नीली वाली पसंद है, कितने की है?\tCC-BY 2.0 (France) Attribution: tatoeba.org #436743 (lukaszpp) & #450446 (minshirui)\n",
            "I met my teacher on the way to the station.\tमेरी स्टेशन के रास्ते पर अपनी टीचर से मुलाकात हुई।\tCC-BY 2.0 (France) Attribution: tatoeba.org #256272 (CK) & #515453 (minshirui)\n",
            "I never dreamed that I would meet you here.\tमैं सपने में भी नहीं सोच सकता था कि तुमसे यहाँ मुलाकात होगी।\tCC-BY 2.0 (France) Attribution: tatoeba.org #483666 (CK) & #485974 (minshirui)\n",
            "I ran out of money during my stay in India.\tभारत में रहने के दौरान मेरे पास पैसे खतम हो गए।\tCC-BY 2.0 (France) Attribution: tatoeba.org #65721 (CK) & #487644 (minshirui)\n",
            "I'll let you know when it has been decided.\tनिर्णय होने पर आपको बता दूँगा।\tCC-BY 2.0 (France) Attribution: tatoeba.org #43132 (CK) & #3213908 (anubhav93)\n",
            "In Japan a new school year starts in April.\tजापान में स्कूल अप्रैल में शुरू होता है।\tCC-BY 2.0 (France) Attribution: tatoeba.org #281237 (CK) & #476279 (minshirui)\n",
            "India has a different climate from England.\tभारत का मौसम इंग्लैड के मौसम से एकसमान नहीं है।\tCC-BY 2.0 (France) Attribution: tatoeba.org #65729 (CK) & #487696 (minshirui)\n",
            "Is it necessary for me to attend the party?\tमेरा पार्टी में आना ज़रूरी है क्या?\tCC-BY 2.0 (France) Attribution: tatoeba.org #246501 (CK) & #485921 (minshirui)\n",
            "It is said that women live longer than men.\tकहा जाता है कि औरतों की उम्र आदमियों से ज़्यादा लम्बी होती है।\tCC-BY 2.0 (France) Attribution: tatoeba.org #267319 (CM) & #487242 (minshirui)\n",
            "It was Tom that broke the window yesterday.\tकल जिसने खिड़की तोड़ी थी वह टॉम था।\tCC-BY 2.0 (France) Attribution: tatoeba.org #244627 (CK) & #511736 (minshirui)\n",
            "Let me congratulate you on your engagement.\tआपको आपकी सगाई पर बहुत बहुत बधाईंयाँ।\tCC-BY 2.0 (France) Attribution: tatoeba.org #240203 (CK) & #506521 (minshirui)\n",
            "My father told me not to read books in bed.\tमेरे पिता ने मुझसे बिस्तर में किताबें पढ़ने से मना किया।\tCC-BY 2.0 (France) Attribution: tatoeba.org #319204 (CK) & #506491 (minshirui)\n",
            "Our health is our most precious possession.\tहमारा स्वास्थ्य हमारी सबसे कीमती संपत्ति होती है।\tCC-BY 2.0 (France) Attribution: tatoeba.org #477701 (minshirui) & #477700 (minshirui)\n",
            "People of your age often have this problem.\tतुम्हारी उम्र के लोगों को अक्सर इस तरह की दिक्कत होती है।\tCC-BY 2.0 (France) Attribution: tatoeba.org #71273 (CM) & #505073 (minshirui)\n",
            "Respect yourself and you will be respected.\tअपनी मर्यादा अपने हाथ\tCC-BY 2.0 (France) Attribution: tatoeba.org #484146 (minshirui) & #484147 (minshirui)\n",
            "She has a rich vocabulary of English words.\tउसको बहुत सारे अंग्रेज़ी शब्द आते हैं।\tCC-BY 2.0 (France) Attribution: tatoeba.org #312669 (CK) & #511703 (minshirui)\n",
            "Some people want to amend the constitution.\tकुछ लोग संविधान को सुधारना चाहते हैं।\tCC-BY 2.0 (France) Attribution: tatoeba.org #239077 (CM) & #476288 (minshirui)\n",
            "The doctor advised that she take a holiday.\tडॉक्टर ने उसको छुट्टी लेने की सलाह दी।\tCC-BY 2.0 (France) Attribution: tatoeba.org #28096 (CK) & #491902 (minshirui)\n",
            "The doctor told him to cut down on smoking.\tडॉक्टर ने उसे सिगरेट कम पीने को कहा।\tCC-BY 2.0 (France) Attribution: tatoeba.org #27944 (CK) & #483978 (minshirui)\n",
            "The door was locked and we couldn't get in.\tदरवाज़े पर ताला लगा हुआ था और हम अंदर नहीं जा सके।\tCC-BY 2.0 (France) Attribution: tatoeba.org #39112 (CK) & #450355 (minshirui)\n",
            "The girl tried hard to hold back her tears.\tउस लड़की ने अपने आँसुओं को रोकने की बहुत कोशिश करी।\tCC-BY 2.0 (France) Attribution: tatoeba.org #267860 (CK) & #487421 (minshirui)\n",
            "The man who is standing there is my father.\tवहाँ पर खड़े हुए वे मेरे पिता हैं।\tCC-BY 2.0 (France) Attribution: tatoeba.org #71780 (CK) & #505269 (minshirui)\n",
            "The wind carries seeds for great distances.\tहवा बीजों को दूर-दूर तक लेजाती है।\tCC-BY 2.0 (France) Attribution: tatoeba.org #319707 (CK) & #491782 (minshirui)\n",
            "There are more clouds today than yesterday.\tआज बादल कल से ज़्यादा हैं।\tCC-BY 2.0 (France) Attribution: tatoeba.org #579741 (CK) & #588464 (minshirui)\n",
            "They furnished the library with many books.\tउन्होंने पुस्तकालय को बहुत सारी किताबें दीं।\tCC-BY 2.0 (France) Attribution: tatoeba.org #306939 (CK) & #485975 (minshirui)\n",
            "This museum has been closed for five years.\tयह म्युज़ियम पाँच साल से बंद है।\tCC-BY 2.0 (France) Attribution: tatoeba.org #463350 (lukaszpp) & #505136 (minshirui)\n",
            "This poem was originally written in French.\tयह कविता सबसे पहले फ़्रानसीसी में लिखी गई थी।\tCC-BY 2.0 (France) Attribution: tatoeba.org #59042 (CK) & #483946 (minshirui)\n",
            "Tom and Mary want to know what our plan is.\tटॉम और मेरी हमारा प्लैन जानना चाहते हैं।\tCC-BY 2.0 (France) Attribution: tatoeba.org #2640542 (CK) & #3213932 (anubhav93)\n",
            "Two brothers set out on a journey together.\tदो भाई एक-साथ सफ़र पर निकले।\tCC-BY 2.0 (France) Attribution: tatoeba.org #280888 (CM) & #477750 (minshirui)\n",
            "We investigated the matter from all angles.\tहमने मामले की हर पहलू से छानबीन करी।\tCC-BY 2.0 (France) Attribution: tatoeba.org #23162 (CK) & #600418 (minshirui)\n",
            "We stayed with them all through the summer.\tहमने पूरी गर्मी उनके साथ बिताई।\tCC-BY 2.0 (France) Attribution: tatoeba.org #247743 (CK) & #484008 (minshirui)\n",
            "We've run out of paper for the photocopier.\tफ़ोटोकॉपियर में कागज़ खतम हो गया है।\tCC-BY 2.0 (France) Attribution: tatoeba.org #319864 (CM) & #511710 (minshirui)\n",
            "What'll you be doing at this time tomorrow?\tतुम कल इस समय क्या कर रहे होगे?\tCC-BY 2.0 (France) Attribution: tatoeba.org #7852299 (CK) & #505351 (minshirui)\n",
            "Whoever wants to come to my party may come.\tमेरी पार्टी में जो भी आना चाहता है आ सकता है।\tCC-BY 2.0 (France) Attribution: tatoeba.org #35667 (CK) & #485977 (minshirui)\n",
            "You are not supposed to play baseball here.\tयहाँ बेसबॉल खेलना मना है।\tCC-BY 2.0 (France) Attribution: tatoeba.org #61860 (CK) & #476356 (minshirui)\n",
            "Your plan requires a large amount of money.\tतुम्हारी योजना के लिए बहुत सारे पैसे की ज़रूरत है।\tCC-BY 2.0 (France) Attribution: tatoeba.org #70740 (CK) & #516778 (minshirui)\n",
            "A madman is not accountable for his actions.\tएक पागल इनसान को अपने किये-धरे के लिए ज़िम्मेदार नहीं ठहराया जा सकता।\tCC-BY 2.0 (France) Attribution: tatoeba.org #270272 (CM) & #511746 (minshirui)\n",
            "A rubber ball bounces because it is elastic.\tरबड़ की गेंद उछलती है क्योंकि वह लचीली होती है।\tCC-BY 2.0 (France) Attribution: tatoeba.org #56402 (CM) & #483905 (minshirui)\n",
            "All the answers to this question were wrong.\tइस प्रश्न के सारे उत्तर ग़लत थे।\tCC-BY 2.0 (France) Attribution: tatoeba.org #56734 (CK) & #475917 (minshirui)\n",
            "All the answers to this question were wrong.\tइस सवाल के सारे जवाब ग़लत थे।\tCC-BY 2.0 (France) Attribution: tatoeba.org #56734 (CK) & #475918 (minshirui)\n",
            "Do we have to get up early tomorrow morning?\tक्या हमे कल सुबह जल्दी उठना है?\tCC-BY 2.0 (France) Attribution: tatoeba.org #323039 (CK) & #510228 (minshirui)\n",
            "Do you know this part of the city very well?\tतुम शहर के इस हिस्से को अच्छी तरह से जानते हो क्या?\tCC-BY 2.0 (France) Attribution: tatoeba.org #57192 (CK) & #491772 (minshirui)\n",
            "He is a British citizen, but lives in India.\tवह अंग्रेज़ी नागरिक है पर भारत में रहता है।\tCC-BY 2.0 (France) Attribution: tatoeba.org #294068 (CK) & #487744 (minshirui)\n",
            "He realized his dream of becoming an artist.\tउसका कलाकार बनने का सपना सच हो गया।\tCC-BY 2.0 (France) Attribution: tatoeba.org #295765 (CM) & #611439 (minshirui)\n",
            "He said he would write to me, but he hasn't.\tउसने कहा था कि वह मुझे चिट्ठी लिखेगा, पर उसने अभी तक एक भी चिट्ठी नहीं भेजी है।\tCC-BY 2.0 (France) Attribution: tatoeba.org #297715 (CK) & #485505 (minshirui)\n",
            "I brush my teeth at least three times a day.\tमै रोज़ाना कम से कम तीन बार मंजन करती हूँ ।\tCC-BY 2.0 (France) Attribution: tatoeba.org #6658308 (CK) & #8876347 (simranbansal)\n",
            "I don't know when she will leave for London.\tमुझे नहीं पता वह लंदन के लिए रवाना कब होएगी।\tCC-BY 2.0 (France) Attribution: tatoeba.org #307990 (minshirui) & #483871 (minshirui)\n",
            "I feel cold. Do you mind closing the window?\tमुझे ठंड लग रही है। खिड़की बंद कर सकते हो क्या?\tCC-BY 2.0 (France) Attribution: tatoeba.org #21133 (Swift) & #514108 (minshirui)\n",
            "I haven't had a chance to see the movie yet.\tमुझे अभी तक उस फ़िल्म को देखने का मौका नहीं मिला है।\tCC-BY 2.0 (France) Attribution: tatoeba.org #32668 (CM) & #459430 (minshirui)\n",
            "If it rains tomorrow, will you stay at home?\tअगर कल बारिश हुई तो तुम घर में रहोगे क्या?\tCC-BY 2.0 (France) Attribution: tatoeba.org #30594 (bmorsello) & #457047 (minshirui)\n",
            "It is difficult for me to get up before six.\tमेरे लिए छः बजे से पहले उठना बहुत मुश्किल है।\tCC-BY 2.0 (France) Attribution: tatoeba.org #249769 (CK) & #484035 (minshirui)\n",
            "It's impossible for me to explain it to you.\tमुझे तुमको यह बात समझाना नामुमकिन है।\tCC-BY 2.0 (France) Attribution: tatoeba.org #1597 (brauliobezerra) & #480252 (minshirui)\n",
            "My father spends a lot of time on his hobby.\tमेरे पिता अपने शौक पर बहुत समय खर्च करते हैं।\tCC-BY 2.0 (France) Attribution: tatoeba.org #251694 (CM) & #486319 (minshirui)\n",
            "My opinion is entirely different from yours.\tमेरी सोच तुम्हारी सोच से बिलकुल अलग है।\tCC-BY 2.0 (France) Attribution: tatoeba.org #250439 (CK) & #487519 (minshirui)\n",
            "My parents have just arrived at the station.\tमेरे माता-पिता अभी-अभी स्टेशन पर पहुँचें हैं।\tCC-BY 2.0 (France) Attribution: tatoeba.org #325699 (CK) & #476278 (minshirui)\n",
            "She cried out the moment she saw her mother.\tउसने जैसे ही अपनी मम्मी को देखा, वह चिल्ला उठी।\tCC-BY 2.0 (France) Attribution: tatoeba.org #316961 (CK) & #450399 (minshirui)\n",
            "She left the old newspapers lying in a heap.\tउसने पुराने अखबारों को एक ढेर में करके छोड़ दिया।\tCC-BY 2.0 (France) Attribution: tatoeba.org #313517 (CM) & #483838 (minshirui)\n",
            "That movie theater always shows good movies.\tउस सिनेमा हॉल में हमेशा अच्छी फ़िल्में लगतीं हैं।\tCC-BY 2.0 (France) Attribution: tatoeba.org #49499 (CK) & #486294 (minshirui)\n",
            "The baby woke up in the middle of the night.\tबच्चा की नींद आधी रात में खुल गई।\tCC-BY 2.0 (France) Attribution: tatoeba.org #45834 (CK) & #487202 (minshirui)\n",
            "The children tried to imitate their teacher.\tबच्चों ने एक-दूसरे की नकल करने की कोशिश करी।\tCC-BY 2.0 (France) Attribution: tatoeba.org #245769 (CK) & #491310 (minshirui)\n",
            "The government has been reforming education.\tसरकार शिक्षा को सुधारने मे लगी हुई है।\tCC-BY 2.0 (France) Attribution: tatoeba.org #271461 (CK) & #487463 (minshirui)\n",
            "The male peacock has colorful tail feathers.\tमोर की पूंछ के पंख रंग-बिरंगी होते हैं।\tCC-BY 2.0 (France) Attribution: tatoeba.org #324566 (papabear) & #581689 (minshirui)\n",
            "The mother is leading her child by the hand.\tमाँ हाथ पकड़कर अपने बच्चे को ले जा रही है।\tCC-BY 2.0 (France) Attribution: tatoeba.org #320924 (CM) & #515426 (minshirui)\n",
            "The thief cursed the police for finding him.\tचोर ने पुलिस को उसको पकड़ने के लिए गाली दी।\tCC-BY 2.0 (France) Attribution: tatoeba.org #278613 (CK) & #480194 (minshirui)\n",
            "The world is changing more and more quickly.\tदुनिया और-भी-और तेज़ी से बदल रही है।\tCC-BY 2.0 (France) Attribution: tatoeba.org #271152 (brauliobezerra) & #483618 (minshirui)\n",
            "This coffee is so hot that I can't drink it.\tयह कॉफ़ी इतनी गरम है कि मुझसे पी नहीं जा रही है।\tCC-BY 2.0 (France) Attribution: tatoeba.org #61134 (CK) & #494127 (minshirui)\n",
            "This is the very book that I wanted to read.\tयह वही किताब है जिसे मैं पढ़ना चाह्ता था।\tCC-BY 2.0 (France) Attribution: tatoeba.org #55834 (CK) & #451289 (minshirui)\n",
            "Waking up is the opposite of going to sleep.\tजागना सोने का विलोम शब्द है।\tCC-BY 2.0 (France) Attribution: tatoeba.org #479966 (kblakes) & #487440 (minshirui)\n",
            "Whoever comes first will get the best seats.\tजो भी पहले आएँगे उन्हें सबसे अच्छी सीटें मिलेंगीं।\tCC-BY 2.0 (France) Attribution: tatoeba.org #243994 (Eldad) & #476393 (minshirui)\n",
            "A big earthquake occurred in India yesterday.\tभारत में कल एक बड़ा भूकम्प हुआ था।\tCC-BY 2.0 (France) Attribution: tatoeba.org #244366 (CK) & #487731 (minshirui)\n",
            "Are you going to cut down all the trees here?\tतुम यहाँ सारे के सारे पेड़ काट डालोगे क्या?\tCC-BY 2.0 (France) Attribution: tatoeba.org #61680 (Eldad) & #461267 (minshirui)\n",
            "Be sure to put out the fire before you leave.\tजाने से पहले आग को बुझाना मत भूलना।\tCC-BY 2.0 (France) Attribution: tatoeba.org #17886 (mcq) & #516687 (minshirui)\n",
            "Because of his advice, I was able to succeed.\tमैं उसकी सलाह की वजह से कामयाब हो गया।\tCC-BY 2.0 (France) Attribution: tatoeba.org #467315 (CM) & #518741 (minshirui)\n",
            "Did it not occur to you to close the windows?\tतुम्हें खिड़कियाँ बंद करने की नहीं सूझी?\tCC-BY 2.0 (France) Attribution: tatoeba.org #383880 (CK) & #691668 (minshirui)\n",
            "Don't add sentences from copyrighted sources.\tकॉपीराईट वाले सोत्रों से वाक्य न जोड़ें।\tCC-BY 2.0 (France) Attribution: tatoeba.org #611374 (CN) & #611453 (minshirui)\n",
            "Everyone could easily see his disappointment.\tउसकी निराशा सभी आसानी से दिख सकते थे।\tCC-BY 2.0 (France) Attribution: tatoeba.org #487432 (minshirui) & #487431 (minshirui)\n",
            "He broke himself of the bad habit of smoking.\tउसने अपनी सिगरेट पीने की बुरी आदत छोड़ दी।\tCC-BY 2.0 (France) Attribution: tatoeba.org #295173 (CK) & #491584 (minshirui)\n",
            "He is anxious to know the result of the test.\tवह टेस्ट के नतीजे को जानने के लिए बेचैन है।\tCC-BY 2.0 (France) Attribution: tatoeba.org #290072 (CM) & #485928 (minshirui)\n",
            "He lost his balance and fell off his bicycle.\tउसने अपना संतुलन खो दिया और वह अपनी साईकल पर से गिर गया।\tCC-BY 2.0 (France) Attribution: tatoeba.org #292427 (CK) & #486047 (minshirui)\n",
            "He ought to have made allowances for his age.\tउसे अपनी उम्र के बारे में सोचना चाहिए था।\tCC-BY 2.0 (France) Attribution: tatoeba.org #298815 (CM) & #491607 (minshirui)\n",
            "He tends to get angry when people oppose him.\tजब लोग उसके खिलाफ़ जातें हैं तो वह गुस्सा हो जाता है।\tCC-BY 2.0 (France) Attribution: tatoeba.org #300098 (CM) & #491632 (minshirui)\n",
            "He works on the farm from morning till night.\tवह खेत पर सुबह से शाम तक काम करता है।\tCC-BY 2.0 (France) Attribution: tatoeba.org #301580 (CK) & #459435 (minshirui)\n",
            "His new book is going to come out next month.\tउसकी नई किताब अगले महीने छपेगी।\tCC-BY 2.0 (France) Attribution: tatoeba.org #286830 (CK) & #486284 (minshirui)\n",
            "I am going to stay here for a couple of days.\tमैं यहाँ एक-दो दिन रहूँगा।\tCC-BY 2.0 (France) Attribution: tatoeba.org #259777 (CK) & #476350 (minshirui)\n",
            "I have two sisters, both of whom are married.\tमेरी दो बहनें हैं और दोनो की शादी हो चुकी है।\tCC-BY 2.0 (France) Attribution: tatoeba.org #249906 (CM) & #455612 (minshirui)\n",
            "I received a letter which was written by her.\tमुझा उसकी लिखी हुई एक चिट्ठी मिली।\tCC-BY 2.0 (France) Attribution: tatoeba.org #261050 (CK) & #482422 (minshirui)\n",
            "I will give you a call as soon as I get home.\tमैं घर पहुँचते ही तुम्हें फ़ोन करूँगी।\tCC-BY 2.0 (France) Attribution: tatoeba.org #24211 (CK) & #485794 (minshirui)\n",
            "It's been pouring here for the last few days.\tयहाँ पिछले कुछ दिनों से दबाकर बारिश हो रही है।\tCC-BY 2.0 (France) Attribution: tatoeba.org #61566 (CM) & #480310 (minshirui)\n",
            "Let me give you a lift as far as the station.\tमुझे तुम्हें स्टेशन तक पहुँचाने दो।\tCC-BY 2.0 (France) Attribution: tatoeba.org #25986 (CK) & #486036 (minshirui)\n",
            "Mt. Everest is the highest peak in the world.\tएवरेस्ट पर्वत दुनिया का सबसे ऊँचा पर्वत शिखर है।\tCC-BY 2.0 (France) Attribution: tatoeba.org #65297 (CM) & #443030 (minshirui)\n",
            "My father left me a lot of money in his will.\tमेरे पिता नें अपनी वसीयत में मुझे बहुत सारे पैसे छोड़े थे।\tCC-BY 2.0 (France) Attribution: tatoeba.org #251656 (CK) & #451301 (minshirui)\n",
            "She burst into tears when she heard the news.\tवह खबर सुनते ही रो पड़ी।\tCC-BY 2.0 (France) Attribution: tatoeba.org #311129 (CS) & #509324 (minshirui)\n",
            "She poured coffee into the cups on the table.\tउसने मेज़ पर रखे हुए कपों में कॉफ़ी डाली।\tCC-BY 2.0 (France) Attribution: tatoeba.org #311624 (CK) & #494129 (minshirui)\n",
            "Something is wrong with this washing machine.\tइस वॉशिंग मशीन में कुछ खराबी है।\tCC-BY 2.0 (France) Attribution: tatoeba.org #58108 (CK) & #482434 (minshirui)\n",
            "Take off your hat when you enter a classroom.\tक्लासरूम में घुसते समय अपनी टोपी उतारा करो।\tCC-BY 2.0 (France) Attribution: tatoeba.org #19033 (Ignoto) & #498229 (minshirui)\n",
            "The accident was due to his careless driving.\tवह ऐक्सीडेंट उसकी लापरवाही की वजह से हुआ।\tCC-BY 2.0 (France) Attribution: tatoeba.org #47091 (CM) & #485790 (minshirui)\n",
            "The car broke down on the way to the airport.\tएयरपोर्ट के रास्ते पर गाड़ी खराब हो गई।\tCC-BY 2.0 (France) Attribution: tatoeba.org #265432 (CK) & #488673 (minshirui)\n",
            "The factory will cease operations next month.\tफ़ैक्टरी में काम अगले महीने से रुक जाएगा।\tCC-BY 2.0 (France) Attribution: tatoeba.org #47997 (CM) & #516707 (minshirui)\n",
            "The news caused alarm throughout the village.\tउस खबर ने गाँव में दहशत फैला दी।\tCC-BY 2.0 (France) Attribution: tatoeba.org #45211 (CM) & #487407 (minshirui)\n",
            "The policeman observed the man open the door.\tपुलीसवाले ने आदमी को दरवाज़ा खोलते देखा।\tCC-BY 2.0 (France) Attribution: tatoeba.org #48456 (CM) & #3214272 (anubhav93)\n",
            "The thief is certain to be caught eventually.\tचोर अंत में तो पकड़ा ही जाएगा।\tCC-BY 2.0 (France) Attribution: tatoeba.org #278627 (CM) & #449292 (minshirui)\n",
            "They fined him 5,000 yen for illegal parking.\tउन्होंने उसपर गाड़ी ग़लत खड़ी करने के लिए पाँच हज़ार येन का जुर्माना लगाया।\tCC-BY 2.0 (France) Attribution: tatoeba.org #301567 (CK) & #480238 (minshirui)\n",
            "This is the village where my father was born.\tयह वह गाँव है जहाँ मेरे पिताजी पैदा हुए थे।\tCC-BY 2.0 (France) Attribution: tatoeba.org #55611 (CK) & #446456 (minshirui)\n",
            "To distinguish right from wrong is difficult.\tसही और ग़लत में अंतर करना मुश्किल होता है।\tCC-BY 2.0 (France) Attribution: tatoeba.org #273651 (CK) & #465643 (minshirui)\n",
            "Tom couldn't understand what Mary was saying.\tटॉम मेरी की बात समझ नहीं पाया।\tCC-BY 2.0 (France) Attribution: tatoeba.org #1029383 (CK) & #3216502 (anubhav93)\n",
            "Tom couldn't understand what Mary was saying.\tटॉम को मेरी की बात समझ नहीं आई।\tCC-BY 2.0 (France) Attribution: tatoeba.org #1029383 (CK) & #3216503 (anubhav93)\n",
            "Tom couldn't understand what Mary was saying.\tटॉम मेरी की बात समझ नहीं सका।\tCC-BY 2.0 (France) Attribution: tatoeba.org #1029383 (CK) & #3216504 (anubhav93)\n",
            "We took it for granted that he would join us.\tहमने मान लिया था कि वह हमारे साथ आएगा।\tCC-BY 2.0 (France) Attribution: tatoeba.org #249168 (CK) & #484159 (minshirui)\n",
            "What is the difference between this and that?\tइस और उस में क्या अंतर है?\tCC-BY 2.0 (France) Attribution: tatoeba.org #56059 (CK) & #609861 (minshirui)\n",
            "What is the difference between this and that?\tइस और उस में क्या फ़र्क है?\tCC-BY 2.0 (France) Attribution: tatoeba.org #56059 (CK) & #609862 (minshirui)\n",
            "Whoever wins the race will receive the prize.\tजो भी रेस जीतेगा ईनाम उसी का होगा।\tCC-BY 2.0 (France) Attribution: tatoeba.org #49717 (CM) & #476389 (minshirui)\n",
            "You can buy whichever you like, but not both.\tतुम्हें इन में से जो भी पसंद है ख़रीद लो, मगर तुम दोनों नहीं ख़रीद सकते।\tCC-BY 2.0 (France) Attribution: tatoeba.org #37989 (CK) & #443047 (minshirui)\n",
            "As soon as he finished his work, he went home.\tवह अपना काम खतम करते ही घर चला गया।\tCC-BY 2.0 (France) Attribution: tatoeba.org #297073 (adjusting) & #611435 (minshirui)\n",
            "Going out in this rain is out of the question.\tइस बारिश में बाहर जाना एकदम सवाल के बाहर है।\tCC-BY 2.0 (France) Attribution: tatoeba.org #60268 (CK) & #487443 (minshirui)\n",
            "He is not the sort of guy who gives in easily.\tवह आसानी से मान जाने वाला आदमी नहीं है।\tCC-BY 2.0 (France) Attribution: tatoeba.org #294941 (CK) & #514079 (minshirui)\n",
            "He took advantage of every opportunity he had.\tउसने किसी भी मौके को हाथ से जाने नहीं दिया।\tCC-BY 2.0 (France) Attribution: tatoeba.org #288876 (CK) & #450410 (minshirui)\n",
            "I don't think that anyone noticed what we did.\tमुझे नहीं लगता कि किसी ने भी देखा कि हमने क्या किया।\tCC-BY 2.0 (France) Attribution: tatoeba.org #7235938 (CK) & #9012775 (simranbansal)\n",
            "I don't think that anyone noticed what we did.\tमुझे नहीं लगता कि किसी ने भी ध्यान दिया की हमने क्या किया।\tCC-BY 2.0 (France) Attribution: tatoeba.org #7235938 (CK) & #9012776 (simranbansal)\n",
            "I don't want there to be any misunderstanding.\tमैं नहीं चाहता कि कोई भी ग़लतफ़ैमी हो।\tCC-BY 2.0 (France) Attribution: tatoeba.org #36652 (CK) & #480256 (minshirui)\n",
            "I had a fight with my older brother yesterday.\tमेरा कल मेरे भाई के साथ झगड़ा हुआ था।\tCC-BY 2.0 (France) Attribution: tatoeba.org #526421 (CK) & #691671 (minshirui)\n",
            "I had a fight with my older brother yesterday.\tमेरी कल मेरे भाई के साथ लड़ाई हुई थी।\tCC-BY 2.0 (France) Attribution: tatoeba.org #526421 (CK) & #691672 (minshirui)\n",
            "I have tried innumerable times to contact him.\tमैं बहुत बार उससे सम्पर्क करने की कोशिश कर चुकी हूँ।\tCC-BY 2.0 (France) Attribution: tatoeba.org #256443 (CM) & #510014 (minshirui)\n",
            "I remember my mother teaching me the alphabet.\tमुझे याद है कि मेरी माँ ने मुझे क-ख-ग-ध सिखाए थे।\tCC-BY 2.0 (France) Attribution: tatoeba.org #252365 (CM) & #457011 (minshirui)\n",
            "I was surprised that I didn't need to do that.\tमैं आश्चर्यचकित रह गया था की मुझे वह करने की ज़रूरत नहीं थी ।\tCC-BY 2.0 (France) Attribution: tatoeba.org #6236156 (CK) & #9012828 (simranbansal)\n",
            "I wonder where to hang the picture he gave me.\tसोच रही हूँ उसकी दी हुई तस्वीर को कहाँ टाँगा जाए।\tCC-BY 2.0 (France) Attribution: tatoeba.org #282986 (CK) & #498217 (minshirui)\n",
            "I wrote down his name so I wouldn't forget it.\tमैंने उसका नाम लिख लिया जिससे कि मैं उसे भूल न जाऊँ।\tCC-BY 2.0 (France) Attribution: tatoeba.org #395715 (CK) & #487469 (minshirui)\n",
            "I've been given until tomorrow to finish this.\tमुझे ये कल तक खतम करना है ।\tCC-BY 2.0 (France) Attribution: tatoeba.org #3540391 (CK) & #3540401 (nurendra)\n",
            "Many companies advertise their products on TV.\tकई कंपनियां टीवी पर अपने उत्पादों का विज्ञापन करती हैं।\tCC-BY 2.0 (France) Attribution: tatoeba.org #39245 (CK) & #8889283 (simranbansal)\n",
            "My father is my biggest source of inspiration.\tमेरे पिताजी मेरे सबसे बड़े प्रेरणा के स्रोत हैं।\tCC-BY 2.0 (France) Attribution: tatoeba.org #3099551 (kbharat1307) & #3099549 (kbharat1307)\n",
            "Please don't hesitate to ask me any questions.\tमुझसे कोई भी सवाल पूछने में न हिचकिचाएँ।\tCC-BY 2.0 (France) Attribution: tatoeba.org #36622 (Swift) & #505258 (minshirui)\n",
            "Please tell me your name and telephone number.\tमुझे अपना नाम और फ़ोन नम्बर बताईये।\tCC-BY 2.0 (France) Attribution: tatoeba.org #63920 (CK) & #450943 (minshirui)\n",
            "She is busy at present and can't speak to you.\tवे अभी व्यस्थ हैं और आपसे बात नहीं कर सकतीं हैं।\tCC-BY 2.0 (France) Attribution: tatoeba.org #313737 (CM) & #485817 (minshirui)\n",
            "She will give her picture to whoever wants it.\tवह अपनी तस्वीर जो भी चाहे उसको दे देगी।\tCC-BY 2.0 (France) Attribution: tatoeba.org #310037 (CK) & #485552 (minshirui)\n",
            "Take back what you said about me being stingy.\tजो तुमने मेरे कंजूस होने के बारे में कहा था, उस बात को वापस लो।\tCC-BY 2.0 (France) Attribution: tatoeba.org #246448 (CM) & #486339 (minshirui)\n",
            "That can't be Mary. She's in the hospital now.\tहो नहीं सकता कि वह मेरी हो, क्योंकि मेरी अभी हस्पताल में है।\tCC-BY 2.0 (France) Attribution: tatoeba.org #1358424 (CK) & #449291 (minshirui)\n",
            "The drug smuggler was arrested at the airport.\tदवा तस्कर हवाई अड्डे पर गिरफ्तार किया गया था।\tCC-BY 2.0 (France) Attribution: tatoeba.org #2327068 (Hybrid) & #3134888 (pranjal710)\n",
            "The instant he saw the policeman, he ran away.\tवह पुलिस अफ़सर को देखते ही भाग गया।\tCC-BY 2.0 (France) Attribution: tatoeba.org #48479 (CM) & #514041 (minshirui)\n",
            "There is a limit to how much one can tolerate.\tबर्दाश्त की भी हद होती है।\tCC-BY 2.0 (France) Attribution: tatoeba.org #498607 (minshirui) & #498606 (minshirui)\n",
            "They were about to leave when I arrived there.\tजब मैं वहाँ पहुँचा, वे जाने वाले थे।\tCC-BY 2.0 (France) Attribution: tatoeba.org #246496 (CK) & #487419 (minshirui)\n",
            "This car has been used for the past ten years.\tइस गाड़ी का पिछले दस साल से इस्तेमाल हो रहा है।\tCC-BY 2.0 (France) Attribution: tatoeba.org #58726 (CK) & #516675 (minshirui)\n",
            "Tom is standing on the other side of the wall.\tटॉम दीवार के दूसरी तरफ खड़ा है।\tCC-BY 2.0 (France) Attribution: tatoeba.org #8595461 (CK) & #8889394 (simranbansal)\n",
            "What time do you usually get up every morning?\tतुम आमतौर पर रोज़ सुबह कितने बजे उठते हो?\tCC-BY 2.0 (France) Attribution: tatoeba.org #68927 (CK) & #483938 (minshirui)\n",
            "You are fortunate to have such loving parents.\tतुम नसीब वालो हो जिसके इतना प्यार करने वाले माँ-बाप हैं।\tCC-BY 2.0 (France) Attribution: tatoeba.org #66935 (CK) & #511734 (minshirui)\n",
            "You don't have to make up your mind right now.\tआपको अभी अपनी राय बनाने की जरूरत नहीं है।\tCC-BY 2.0 (France) Attribution: tatoeba.org #2047156 (CK) & #9012820 (simranbansal)\n",
            "You don't have to make up your mind right now.\tतुम्हें अभी अपनी राय बनाने की जरूरत नहीं है।\tCC-BY 2.0 (France) Attribution: tatoeba.org #2047156 (CK) & #9012821 (simranbansal)\n",
            "You had better not go out in this bad weather.\tअच्छा होगा कि तुम इस बुरे मौसम में बाहर न जाओ।\tCC-BY 2.0 (France) Attribution: tatoeba.org #54697 (CK) & #465639 (minshirui)\n",
            "You make mistakes if you do things in a hurry.\tजल्दबाज़ी में काम करोगे तो ग़लतियाँ तो होंगीं ही।\tCC-BY 2.0 (France) Attribution: tatoeba.org #19705 (papabear) & #449377 (minshirui)\n",
            "You should write it down before you forget it.\tतुम्हें इसे लिख लेना चाहिए, जिससे पहले कि तुम भूल जाओ।\tCC-BY 2.0 (France) Attribution: tatoeba.org #321162 (Eldad) & #465645 (minshirui)\n",
            "You'll be all right again in a couple of days.\tतुम दो तीन दिनों में फिरसे ठीक हो जाओगे।\tCC-BY 2.0 (France) Attribution: tatoeba.org #73008 (CK) & #457093 (minshirui)\n",
            "You'll be all right again in a couple of days.\tतुम दो तीन दिनों में फिरसे ठीक हो जाओगी।\tCC-BY 2.0 (France) Attribution: tatoeba.org #73008 (CK) & #457094 (minshirui)\n",
            "You'll get a lot of presents on your birthday.\tतुम्हें अपने जन्मदिन पर बहुत सारे तोहफ़े मिलेंगे।\tCC-BY 2.0 (France) Attribution: tatoeba.org #276743 (CK) & #477749 (minshirui)\n",
            "Can you tell me when to switch the machine off?\tक्या मुझे बता सकते हो कि मशीन को कब बंद करना है?\tCC-BY 2.0 (France) Attribution: tatoeba.org #66310 (CK) & #459442 (minshirui)\n",
            "Don't forget to return the book to the library.\tउस किताब को पुस्तकालय को लौटाना मत भूलना।\tCC-BY 2.0 (France) Attribution: tatoeba.org #321133 (CK) & #479657 (minshirui)\n",
            "He became a member of this club five years ago.\tवह इस क्लब का सदस्य पाँच साल पहले बना था।\tCC-BY 2.0 (France) Attribution: tatoeba.org #288610 (CK) & #451278 (minshirui)\n",
            "He will commit suicide if he can't see his son.\tवह अपने बेटे को नहीं देख पाया तो वह आत्महत्या कर लेगा।\tCC-BY 2.0 (France) Attribution: tatoeba.org #274397 (CK) & #491564 (minshirui)\n",
            "How can you tell good English from bad English?\tतुम अच्छी और बुरी अंग्रेज़ी में कैसे अंतर कर सकते हो?\tCC-BY 2.0 (France) Attribution: tatoeba.org #325827 (CK) & #505138 (minshirui)\n",
            "I came upon an old friend of mine on the train.\tमेरी ट्रेन में एक पुराने दोस्त से मुलाक़ात हुई।\tCC-BY 2.0 (France) Attribution: tatoeba.org #257015 (CK) & #475965 (minshirui)\n",
            "I have lots of work to clear up by the weekend.\tमुझे इस हफ़्ते बहुत सारा काम कर के खतम करना है।\tCC-BY 2.0 (France) Attribution: tatoeba.org #258513 (CK) & #484136 (minshirui)\n",
            "I have no idea to what extent I can trust them.\tमुझे नहीं पता मैं उनपर कितना भरोसा कर सकता हूँ।\tCC-BY 2.0 (France) Attribution: tatoeba.org #37473 (CK) & #494175 (minshirui)\n",
            "I have no idea to what extent I can trust them.\tमुझे नहीं पता मैं उनपर किस हद तक भरोसा कर सकता हूँ।\tCC-BY 2.0 (France) Attribution: tatoeba.org #37473 (CK) & #494178 (minshirui)\n",
            "I saw a girl whose hair came down to her waist.\tमैंने एक लड़की को देखा जिसके बाल उसकी कमर तक आते थे।\tCC-BY 2.0 (France) Attribution: tatoeba.org #282703 (CM) & #484131 (minshirui)\n",
            "I saw him go into the toilet a few minutes ago.\tमैंने उसे एक-दो मिनट पहले टॉयलेट में जाते हुए देखा था।\tCC-BY 2.0 (France) Attribution: tatoeba.org #72987 (CK) & #498193 (minshirui)\n",
            "India gained independence from Britain in 1947.\tभारत को ब्रिटेन से १९४७ में स्वतंत्रता प्राप्त हुई।\tCC-BY 2.0 (France) Attribution: tatoeba.org #65728 (CK) & #487693 (minshirui)\n",
            "Last week five students were absent from class.\tपिछले हफ़्ते क्लास से पाँच विद्यार्थी अनुपस्थित थे।\tCC-BY 2.0 (France) Attribution: tatoeba.org #272711 (CK) & #475924 (minshirui)\n",
            "She reproached me for not answering the letter.\tउसने मुझे चिट्ठी का जवाब न देने के लिए डाँटा।\tCC-BY 2.0 (France) Attribution: tatoeba.org #314887 (CM) & #491836 (minshirui)\n",
            "Something must have happened to him on the way.\tउसके साथ रास्ते पर कुछ हुआ होगा।\tCC-BY 2.0 (France) Attribution: tatoeba.org #325013 (CK) & #491596 (minshirui)\n",
            "Sometimes she tried talking to him about India.\tवह कभी-कभी उससे भारत की बात करने की कोशिश किया करती थी।\tCC-BY 2.0 (France) Attribution: tatoeba.org #264129 (Hautis) & #487737 (minshirui)\n",
            "The reason which he gave is hard to understand.\tउसके दिए गए कारण को समझना मुश्किल है।\tCC-BY 2.0 (France) Attribution: tatoeba.org #284256 (CM) & #459431 (minshirui)\n",
            "The station is located between these two towns.\tस्टेशन इन दो नगरों के बीच स्थित है।\tCC-BY 2.0 (France) Attribution: tatoeba.org #430202 (witbrock) & #491604 (minshirui)\n",
            "There are lots of things for us to think about.\tहमारे पास सोचने के लिए बहुत सारी बातें हैं।\tCC-BY 2.0 (France) Attribution: tatoeba.org #247245 (CK) & #485942 (minshirui)\n",
            "These grapes are so sour that I can't eat them.\tये अंगूर इतने खट्टे हैं कि मुझसे खाए नहीं जा रहे।\tCC-BY 2.0 (France) Attribution: tatoeba.org #60578 (CK) & #498218 (minshirui)\n",
            "They booted him out of school for not studying.\tकयोंकि वह पढ़ाई नहीं करता था, उसे स्कूल से निकाल दिया गया।\tCC-BY 2.0 (France) Attribution: tatoeba.org #307430 (CK) & #446285 (minshirui)\n",
            "Thousands of foreigners visit Japan every year.\tहज़ारों विदेशी हर साल जापान जाते हैं।\tCC-BY 2.0 (France) Attribution: tatoeba.org #24494 (CK) & #495938 (minshirui)\n",
            "Tom wants to know why you didn't call him back.\tटॉम पूछ रहा है कि तुमने उसे कॉल बैक क्यों नहीं किया।\tCC-BY 2.0 (France) Attribution: tatoeba.org #2033822 (CK) & #3214230 (anubhav93)\n",
            "We had no customers, so we shut the shop early.\tहमारे पास ग्राहक नहीं थे, तो हमने दुकान जल्दी बंद करदी।\tCC-BY 2.0 (France) Attribution: tatoeba.org #64675 (Eldad) & #459432 (minshirui)\n",
            "We have some new products we'd like you to see.\tआपको कुछ नए प्रॉडक्ट्स दिखाना चाहते हैं।\tCC-BY 2.0 (France) Attribution: tatoeba.org #1893836 (CK) & #3212871 (anubhav93)\n",
            "We will have to call on our friends to help us.\tहमें अपने दोस्तों से मदद माँगनी पड़ेगी।\tCC-BY 2.0 (France) Attribution: tatoeba.org #249445 (CK) & #485875 (minshirui)\n",
            "When did America become independent of England?\tअम्रीका को इंग्लैंड से आज़ादी कब मिली?\tCC-BY 2.0 (France) Attribution: tatoeba.org #67547 (CK) & #486383 (minshirui)\n",
            "While I was in Taiwan, I made friends with him.\tमैं जब ताईवान में था तब उसके साथ दोस्त बन गया।\tCC-BY 2.0 (France) Attribution: tatoeba.org #275465 (Zifre) & #505128 (minshirui)\n",
            "Would you mind speaking a little softer please?\tआवाज़ थोड़ी धीमी कर सकते हो क्या?\tCC-BY 2.0 (France) Attribution: tatoeba.org #483780 (minshirui) & #483779 (minshirui)\n",
            "You should hand in your report to me on Monday.\tतुम्हे अपनी रिपोर्ट मुझे सोमवार को सौंप देनी चाहिए।\tCC-BY 2.0 (France) Attribution: tatoeba.org #238876 (CM) & #491830 (minshirui)\n",
            "\"Will they go on strike again?\" \"I'm afraid so.\"\t\"वे फिरसे हड़ताल कर सकते हैं क्या?\" \"लगता तो ऐसा ही है।\"\tCC-BY 2.0 (France) Attribution: tatoeba.org #73964 (CK) & #486326 (minshirui)\n",
            "An old man was resting in the shade of the tree.\tएक बूढ़ा आदमी पेड़ की छाया में आराम कर रहा था।\tCC-BY 2.0 (France) Attribution: tatoeba.org #413018 (CK) & #483807 (minshirui)\n",
            "Could you please speak a little bit more slowly?\tआप थोड़ा धीरे बोल सकते हैं क्या?\tCC-BY 2.0 (France) Attribution: tatoeba.org #31566 (CK) & #446697 (minshirui)\n",
            "Do you think he will be elected president again?\tक्या तुम्हे लगता है वह फिरसे प्रेसीडेंट चुना जाएगा?\tCC-BY 2.0 (France) Attribution: tatoeba.org #296704 (CK) & #487475 (minshirui)\n",
            "Frankly speaking, I don't want to work with him.\tखुलकर बोलूँ तो मैं उसके साथ काम नहीं करना चाहता।\tCC-BY 2.0 (France) Attribution: tatoeba.org #325418 (CK) & #516670 (minshirui)\n",
            "He is a nice man, except that he talks too much.\tवह आदमी तो भला है, पर बात बहुत ज़्यादा करता है।\tCC-BY 2.0 (France) Attribution: tatoeba.org #289414 (CK) & #483990 (minshirui)\n",
            "He left his parents when he was eight years old.\tवह आठ साल का था जब उसने अपने माता-पिता को छोड़ दिया।\tCC-BY 2.0 (France) Attribution: tatoeba.org #427178 (FeuDRenais) & #465592 (minshirui)\n",
            "He reminded his wife to wake him up at 7:00 a.m.\tउसने अपनी पत्नी को उसे सुबह सात बजे उठाने की बात का याद दिलाया।\tCC-BY 2.0 (France) Attribution: tatoeba.org #296785 (CK) & #485920 (minshirui)\n",
            "He sent out the parcel the day before yesterday.\tउसने पार्सल को परसों भेजा था।\tCC-BY 2.0 (France) Attribution: tatoeba.org #299569 (CM) & #509979 (minshirui)\n",
            "He was respected both as a teacher and as a man.\tउसको दोनो एक अध्यापक और एक इनसान के रूप में सम्मान मिला।\tCC-BY 2.0 (France) Attribution: tatoeba.org #300639 (CK) & #484145 (minshirui)\n",
            "How long did it take you to translate this book?\tतुम्हे इस किताब का अनुवाद करने में कितना समय लगा?\tCC-BY 2.0 (France) Attribution: tatoeba.org #2826505 (CK) & #491891 (minshirui)\n",
            "I became friends with him while I was in Taiwan.\tतैवान में रहते समय मेरी उससे दोस्ती हुई।\tCC-BY 2.0 (France) Attribution: tatoeba.org #1500305 (CK) & #3216256 (anubhav93)\n",
            "I found it impossible to do the work in one day.\tमुझे एक दिन में काम खतम करना नामुमकिन लगा।\tCC-BY 2.0 (France) Attribution: tatoeba.org #254370 (CM) & #484033 (minshirui)\n",
            "I have never come across such a stubborn person.\tइतने अड़ियल व्यक्ति से मेरी कभी भी मुलाकात नहीं हुई है।\tCC-BY 2.0 (France) Attribution: tatoeba.org #253060 (CM) & #3189651 (pranjal710)\n",
            "I have to learn many words and phrases by heart.\tमुझे बहुत सारे शब्दों और वाक्यांशों को रटना है।\tCC-BY 2.0 (France) Attribution: tatoeba.org #259385 (CM) & #516708 (minshirui)\n",
            "I thought that he had already finished the work.\tमुझे लगा कि वह काम खतम कर चुका था।\tCC-BY 2.0 (France) Attribution: tatoeba.org #290305 (CK) & #487208 (minshirui)\n",
            "I was ill at ease because I didn't speak French.\tमैं परेशान था क्योंकि मुझे फ़्रांसीसी बोलनी नहीं आती थी।\tCC-BY 2.0 (France) Attribution: tatoeba.org #34167 (CK) & #450382 (minshirui)\n",
            "I was searching for something that didn't exist.\tमैं एक ऐसी चीज़ ढूँढ रहा था जिसका अस्तित्व कभी था ही नहीं।\tCC-BY 2.0 (France) Attribution: tatoeba.org #386497 (Dorenda) & #515408 (minshirui)\n",
            "I was surprised at the news of his sudden death.\tमैं उसकी अचानक मौत की खबर से चौंक गया।\tCC-BY 2.0 (France) Attribution: tatoeba.org #260734 (CK) & #511747 (minshirui)\n",
            "It is necessary for you to go there immediately.\tतुम्हारे लिए वहाँ तुरन्त जाना अनिवार्य है।\tCC-BY 2.0 (France) Attribution: tatoeba.org #70040 (CK) & #516792 (minshirui)\n",
            "It is necessary for you to see a doctor at once.\tतुम्हें जल्द-से-जल्द डॉक्टर के पास जाने की ज़रूरत है।\tCC-BY 2.0 (France) Attribution: tatoeba.org #15889 (Swift) & #486334 (minshirui)\n",
            "It makes no difference whether you agree or not.\tतुम मानो या न मानो, उससे कोई फ़र्क नहीं पड़ता।\tCC-BY 2.0 (France) Attribution: tatoeba.org #17845 (Zifre) & #465627 (minshirui)\n",
            "May I talk with you in private about the matter?\tमैं तुम्हारे साथ इस बारे में अकेले में बात कर सकता हूँ क्या?\tCC-BY 2.0 (France) Attribution: tatoeba.org #48351 (CK) & #491679 (minshirui)\n",
            "She had plenty of acquaintances, but no friends.\tउसकी जान-पहचान में तो बहुत लोग थे पर दोस्त कोई भी नहीं थे।\tCC-BY 2.0 (France) Attribution: tatoeba.org #308790 (CK) & #506571 (minshirui)\n",
            "The doctor told her that she should take a rest.\tडॉक्टर ने उससे कहा कि उसे आराम लेना चाहिए।\tCC-BY 2.0 (France) Attribution: tatoeba.org #27919 (CK) & #484135 (minshirui)\n",
            "They are in favor of the reform of the tax laws.\tवे टैक्स सुधार क़ानून के पक्ष में हैं।\tCC-BY 2.0 (France) Attribution: tatoeba.org #306981 (CM) & #446472 (minshirui)\n",
            "This elevator does not go above the sixth floor.\tयह लिफ़्ट छटी मंज़िल तक ही जाती है।\tCC-BY 2.0 (France) Attribution: tatoeba.org #61305 (jakov) & #488685 (minshirui)\n",
            "This machine is superior in quality to that one.\tयह मशीन उस मशीन से बेहतर है।\tCC-BY 2.0 (France) Attribution: tatoeba.org #59794 (CM) & #3216537 (anubhav93)\n",
            "Tom had fifty dollars in his pocket at the time.\tटॉम की जेब में उस समय पचास डॉलर थें।\tCC-BY 2.0 (France) Attribution: tatoeba.org #1025587 (CK) & #2077949 (dfordivam)\n",
            "Tom said he didn't think the heat bothered Mary.\tटॉम ने कहा की उसे नहीं लगा की गर्मी से मैरी परेशान हो रही थी ।\tCC-BY 2.0 (France) Attribution: tatoeba.org #6432641 (CK) & #8938120 (simranbansal)\n",
            "Tom said he didn't think the heat bothered Mary.\tटॉम ने कहा की उन्हें नहीं लगा की गर्मी से मैरी परेशान हो रही थी ।\tCC-BY 2.0 (France) Attribution: tatoeba.org #6432641 (CK) & #8938121 (simranbansal)\n",
            "Tomorrow is my birthday and I will be seventeen.\tकल मेरा जन्मदिन है, और मैं सत्रह साल का हो जाऊँगा।\tCC-BY 2.0 (France) Attribution: tatoeba.org #323316 (Eldad) & #446480 (minshirui)\n",
            "Tomorrow is my birthday and I will be seventeen.\tकल मेरा जन्मदिन है, और मैं सत्रह साल की हो जाऊँगी।\tCC-BY 2.0 (France) Attribution: tatoeba.org #323316 (Eldad) & #446481 (minshirui)\n",
            "When she was reading the letter, she looked sad.\tवह चिट्ठी पढ़ने के समय दुखी लग रही थी।\tCC-BY 2.0 (France) Attribution: tatoeba.org #311286 (CM) & #486257 (minshirui)\n",
            "Why do you think soccer isn't popular in the US?\tतुम्हारे खयाल से अम्रीका में फ़ुटबॉल लोकप्रिय क्यों नहीं है?\tCC-BY 2.0 (France) Attribution: tatoeba.org #67644 (CK) & #483848 (minshirui)\n",
            "Will you exchange this sweater for a larger one?\tआप यह स्वेटर बड़े नाप वाले के लिए बदल देंगे क्या?\tCC-BY 2.0 (France) Attribution: tatoeba.org #60938 (CM) & #480300 (minshirui)\n",
            "Write back to me as soon as you get this letter.\tतुम्हें जैसे ही यह पत्र मिले मुझे लिखकर जवाब देना।\tCC-BY 2.0 (France) Attribution: tatoeba.org #58647 (CK) & #491910 (minshirui)\n",
            "Do you know how much strawberries cost right now?\tक्या आप जानते हैं कि अभी स्ट्रॉबेरी की कीमत कितनी है?\tCC-BY 2.0 (France) Attribution: tatoeba.org #3187247 (CK) & #8889270 (simranbansal)\n",
            "Do you know how much strawberries cost right now?\tक्या तुम जानते हो कि अभी स्ट्रॉबेरी की कीमत कितनी है?\tCC-BY 2.0 (France) Attribution: tatoeba.org #3187247 (CK) & #8889273 (simranbansal)\n",
            "Do you think we should import rice from the U.S.?\tक्या आपको लगता है कि हमे अम्रीका से चावल का आयात करना चाहिए?\tCC-BY 2.0 (France) Attribution: tatoeba.org #70230 (CK) & #516689 (minshirui)\n",
            "He contracted malaria while living in the jungle.\tजंगल में रहते समय उसे मलेरिया हो गया।\tCC-BY 2.0 (France) Attribution: tatoeba.org #290146 (CK) & #482471 (minshirui)\n",
            "He left all his property to his wife in his will.\tउसने वसीयत में अपनी पत्नी को सारी जायदाद छोड़ दी।\tCC-BY 2.0 (France) Attribution: tatoeba.org #293596 (CK) & #451300 (minshirui)\n",
            "He made such a long speech that we all got bored.\tउसने इतना लम्बा भाषण दिया कि हम सब को बोर कर डाला।\tCC-BY 2.0 (France) Attribution: tatoeba.org #282893 (CK) & #506499 (minshirui)\n",
            "I am of the opinion that he will never come back.\tमेरे ख़याल से वह कभी भी वापस नहीं आएगा।\tCC-BY 2.0 (France) Attribution: tatoeba.org #295846 (CK) & #509974 (minshirui)\n",
            "I slept all day yesterday, because it was Sunday.\tकल रविवार था, तो मैं पूरे दिन सोते रहा।\tCC-BY 2.0 (France) Attribution: tatoeba.org #63303 (CK) & #483963 (minshirui)\n",
            "I will tell him about it when he comes next time.\tजब वह अगली बार आएगा, मैं उसे इसके बारे में बाताऊँगा।\tCC-BY 2.0 (France) Attribution: tatoeba.org #58898 (CM) & #450308 (minshirui)\n",
            "I will tell him about it when he comes next time.\tजब वह अगली बार आएगा, मैं उसे इसके बारे में बाताऊँगी।\tCC-BY 2.0 (France) Attribution: tatoeba.org #58898 (CM) & #450309 (minshirui)\n",
            "If possible, I'd like to travel around the world.\tअगर हो सके तो मैं विष्व यात्रा पर जाना चाहूँगा।\tCC-BY 2.0 (France) Attribution: tatoeba.org #385378 (Mouseneb) & #513988 (minshirui)\n",
            "If the coffee is too strong, add some more water.\tअगर कॉफ़ी ज़्यादा कड़वी है तो थोड़ा और पानी डाललो।\tCC-BY 2.0 (France) Attribution: tatoeba.org #31038 (CK) & #561256 (minshirui)\n",
            "London is one of the largest cities in the world.\tलंदन दुनिया के सबसे बड़े शहरों में से एक है।\tCC-BY 2.0 (France) Attribution: tatoeba.org #29266 (Zifre) & #516813 (minshirui)\n",
            "London, the capital of England, is on the Thames.\tइंग्लैंड की राजधानी लंदन थेम्स नदी के किनारे है।\tCC-BY 2.0 (France) Attribution: tatoeba.org #26155 (CK) & #443044 (minshirui)\n",
            "The money should be distributed to those in need.\tयह पैसा ज़रूरतमंदों में बाँट देना चाहिए।\tCC-BY 2.0 (France) Attribution: tatoeba.org #50593 (CK) & #3214232 (anubhav93)\n",
            "There is no hurry about returning the book to me.\tमुझे वह किताब लौटाने में जल्द-बाज़ी करने की ज़रूरत नहीं है।\tCC-BY 2.0 (France) Attribution: tatoeba.org #43890 (CK) & #486256 (minshirui)\n",
            "There weren't any children in the park yesterday.\tकल पार्क में एक भी बच्चा नहीं था।\tCC-BY 2.0 (France) Attribution: tatoeba.org #244589 (CK) & #516669 (minshirui)\n",
            "They continued eating as if nothing had happened.\tवे ऐसे खाते रहे जैसे कुछ हुआ ही न हो।\tCC-BY 2.0 (France) Attribution: tatoeba.org #317670 (CK) & #8938136 (simranbansal)\n",
            "They wanted to get married as soon as they could.\tवे जल्द-से-जल्द शादी करना चाहते थे।\tCC-BY 2.0 (France) Attribution: tatoeba.org #305920 (CM) & #488695 (minshirui)\n",
            "They won't believe me even if I swear it is true.\tवे मेरा विश्वास नहीं करेंगे चाहे मैं कसम भी क्यों न खालूँ।\tCC-BY 2.0 (France) Attribution: tatoeba.org #43107 (CK) & #480208 (minshirui)\n",
            "We cannot decide whether to go to college or not.\tहम यह फ़ैसला नहीं ले पा रहें हैं कि कॉलेज जाएं या न जाएं।\tCC-BY 2.0 (France) Attribution: tatoeba.org #321386 (CM) & #449298 (minshirui)\n",
            "You have the freedom to travel wherever you like.\tतुम्हारे पास जहाँ भी जाने की मर्ज़ी हो वहाँ जाने की आज़ादी है।\tCC-BY 2.0 (France) Attribution: tatoeba.org #17192 (Swift) & #516828 (minshirui)\n",
            "Father objected to my going to the mountain alone.\tपिताजी मेरे पहाड़ पर अकेले जाने से राज़ी नहीं थे।\tCC-BY 2.0 (France) Attribution: tatoeba.org #319163 (CM) & #485870 (minshirui)\n",
            "He is confident that he will pass the examination.\tउसको यकीन है कि वह परीक्षा में पास हो जाएगा।\tCC-BY 2.0 (France) Attribution: tatoeba.org #298252 (CK) & #518712 (minshirui)\n",
            "He jumped into water without removing his clothes.\tउसने कपड़े उतारे बिना ही पानी में छलाँग लगादी।\tCC-BY 2.0 (France) Attribution: tatoeba.org #3111380 (pranjal710) & #476394 (minshirui)\n",
            "I do not know for certain what she is going to do.\tमुझे ठीक से नहीं पता वह क्या करने वाली है।\tCC-BY 2.0 (France) Attribution: tatoeba.org #308195 (CK) & #484102 (minshirui)\n",
            "I don't think that you're allowed to do that here.\tमुझे नहीं लगता कि आपको यहाँ ऐसा करने की अनुमति है।\tCC-BY 2.0 (France) Attribution: tatoeba.org #7227628 (CK) & #9013201 (simranbansal)\n",
            "I have a gut feeling that Tom won't pass the test.\tमुझे नहीं लगता कि टॉम परीक्षा में उत्तीर्ण होगा।\tCC-BY 2.0 (France) Attribution: tatoeba.org #2361595 (CK) & #3216271 (anubhav93)\n",
            "I have a gut feeling that Tom won't pass the test.\tमुझे नहीं लगता कि टॉम टेस्ट में पास होगा।\tCC-BY 2.0 (France) Attribution: tatoeba.org #2361595 (CK) & #3216272 (anubhav93)\n",
            "I have nothing to say with regard to that problem.\tमुझे इस विषय पर कुछ नहीं कहना है।\tCC-BY 2.0 (France) Attribution: tatoeba.org #43753 (CM) & #450343 (minshirui)\n",
            "I have nothing to say with regard to that problem.\tमुझे इस समस्या के बारे में कुछ नहीं कहना है।\tCC-BY 2.0 (France) Attribution: tatoeba.org #43753 (CM) & #450344 (minshirui)\n",
            "I know her by sight, but I've never spoken to her.\tमैं उसे पहचानता हूँ पर मैंने उससे कभी बात नहीं करी है।\tCC-BY 2.0 (France) Attribution: tatoeba.org #309155 (CK) & #450339 (minshirui)\n",
            "I learned to play guitar when I was ten years old.\tमैंने दस साल की उम्र में ही गिटार बजाना सीख लिया था।\tCC-BY 2.0 (France) Attribution: tatoeba.org #252402 (CK) & #491022 (minshirui)\n",
            "I spent the whole afternoon chatting with friends.\tमैंने दोपहरभर अपने दोस्तों से गप मारी।\tCC-BY 2.0 (France) Attribution: tatoeba.org #2114 (Zifre) & #561252 (minshirui)\n",
            "I stayed at home all day instead of going to work.\tमैं काम पर जाने के बजाय सारे दिन घर पर रहा।\tCC-BY 2.0 (France) Attribution: tatoeba.org #280192 (CK) & #461279 (minshirui)\n",
            "I think there has been some misunderstanding here.\tमुझे लगता है कि यहाँ कुछ ग़लतफ़ैमी हुई है।\tCC-BY 2.0 (France) Attribution: tatoeba.org #25105 (CK) & #480254 (minshirui)\n",
            "I'm not saying that your answers are always wrong.\tमैं यह नहीं कह रही हूँ कि तुम्हारे उत्तर हमेशा ग़लत होते हैं।\tCC-BY 2.0 (France) Attribution: tatoeba.org #70440 (CK) & #511707 (minshirui)\n",
            "India is the seventh largest country in the world.\tभारत विश्व में सातवाँ सबसे बड़ा देश है।\tCC-BY 2.0 (France) Attribution: tatoeba.org #65724 (CM) & #487639 (minshirui)\n",
            "It was so noisy that I couldn't make myself heard.\tइतना शोर था कि किसी को भी मेरी आवाज़ सुनाई नहीं दे रही थी।\tCC-BY 2.0 (France) Attribution: tatoeba.org #37867 (CK) & #475952 (minshirui)\n",
            "It's an absolute waste of time to wait any longer.\tऔर इंतेज़ार करना समय की सरासर बर्बादी होगी।\tCC-BY 2.0 (France) Attribution: tatoeba.org #54884 (CK) & #487476 (minshirui)\n",
            "Many people encouraged me to fulfill my ambitions.\tअपनी अभिलाषाओं को पूरी करने के लिए मुझे बहुत से लोगों ने बढ़ावा दिया।\tCC-BY 2.0 (France) Attribution: tatoeba.org #478210 (CM) & #509343 (minshirui)\n",
            "My mother is constantly forgetting people's names.\tमेरी माँ अक्सर लोगों के नाम भूलती रहती है।\tCC-BY 2.0 (France) Attribution: tatoeba.org #251817 (CK) & #484069 (minshirui)\n",
            "She is very careful, so she seldom makes mistakes.\tवह बहुत ध्यानपूर्वक है, इसलिए बहुत कम ग़लतियाँ करती है।\tCC-BY 2.0 (France) Attribution: tatoeba.org #311791 (CK) & #491570 (minshirui)\n",
            "The old man sat in the chair with his eyes closed.\tवह बूढ़ा आदमी आँखें बंद करके कुरसी में बैठा था।\tCC-BY 2.0 (France) Attribution: tatoeba.org #43408 (CK) & #491883 (minshirui)\n",
            "This theory is too difficult for me to comprehend.\tयह सिद्धांत मेरे समझने से बाहर है।\tCC-BY 2.0 (France) Attribution: tatoeba.org #56523 (CM) & #450364 (minshirui)\n",
            "To my surprise, she could not answer the question.\tमैं हैरान था कि वह सवाल का जवाब नहीं दे पाई।\tCC-BY 2.0 (France) Attribution: tatoeba.org #18889 (Swift) & #475990 (minshirui)\n",
            "What number should I call in case of an emergency?\tआपातकालीन स्तिथि में मुझे क्या नम्बर मिलाना चाहिए?\tCC-BY 2.0 (France) Attribution: tatoeba.org #18799 (Swift) & #491594 (minshirui)\n",
            "I advise you not to borrow money from your friends.\tमेरी तुम्हारे लिए यह सलाह है कि अपने दोस्तों से पैसे उधार मत लो।\tCC-BY 2.0 (France) Attribution: tatoeba.org #324334 (CK) & #514145 (minshirui)\n",
            "I don't like the polluted atmosphere of big cities.\tमुझे बड़े शहरों का प्रदूषित वातावरण अच्छा नहीं लगता।\tCC-BY 2.0 (France) Attribution: tatoeba.org #259358 (CK) & #487237 (minshirui)\n",
            "I go to the office by bicycle except on rainy days.\tउन दिनों के सिवाय जब बारिश हो रही होती है, मैं साईकल चलाकर काम पर जाता हूँ।\tCC-BY 2.0 (France) Attribution: tatoeba.org #26717 (CK) & #487200 (minshirui)\n",
            "I had hardly reached the school when the bell rang.\tमैं बस स्कूल पहुँचा ही था कि घंटी बज गई।\tCC-BY 2.0 (France) Attribution: tatoeba.org #246667 (CK) & #505363 (minshirui)\n",
            "I want to clean the house before my parents return.\tमैं अपने पापा-मम्मी के वापस आने से पहले घर साफ़ करना चाहता हूँ।\tCC-BY 2.0 (France) Attribution: tatoeba.org #437037 (lukaszpp) & #484170 (minshirui)\n",
            "I was kept waiting for a long time at the hospital.\tअस्पताल में मुझसे बहुत देर तक इन्तज़ार करवाया गया।\tCC-BY 2.0 (France) Attribution: tatoeba.org #259519 (CK) & #516712 (minshirui)\n",
            "International trade is vital for healthy economies.\tअंतर्राष्ट्रीय व्यापार मज़बूत अर्थव्यवस्था के लिए आवश्यक है।\tCC-BY 2.0 (France) Attribution: tatoeba.org #239027 (CM) & #493998 (minshirui)\n",
            "It is said that he is the richest man in the world.\tकहा जाता है कि वह दुनिया में सबसे अमीर आदमी है।\tCC-BY 2.0 (France) Attribution: tatoeba.org #300269 (jakov) & #475979 (minshirui)\n",
            "It's already eleven o'clock. I must be leaving now.\tग्यारह बज चुके हैं। मुझे चलना चाहिए।\tCC-BY 2.0 (France) Attribution: tatoeba.org #31730 (CK) & #480176 (minshirui)\n",
            "The bat was stolen yesterday, along with the balls.\tबैट और बॉल दोनो कल एकसाथ चोरी हो गए।\tCC-BY 2.0 (France) Attribution: tatoeba.org #244330 (CM) & #484005 (minshirui)\n",
            "The people of London are very proud of this bridge.\tलंदन के लोगों को इस ब्रिज पर गर्व है।\tCC-BY 2.0 (France) Attribution: tatoeba.org #29282 (CK) & #450391 (minshirui)\n",
            "This is the house where I lived when I was a child.\tयह वह घर है जिसमें मैं रहता था जब मैं छोटा था।\tCC-BY 2.0 (France) Attribution: tatoeba.org #56221 (CK) & #485512 (minshirui)\n",
            "We are responsible for your protection from now on.\tअबसे आपकी हिफ़ाज़त के लिए हम ज़िम्मेदार हैं।\tCC-BY 2.0 (France) Attribution: tatoeba.org #516747 (minshirui) & #516746 (minshirui)\n",
            "We arrived at the station as the train was leaving.\tहम स्टेशन पर तब पहुँचे जब ट्रेन चल पड़ी थी।\tCC-BY 2.0 (France) Attribution: tatoeba.org #326156 (CK) & #516758 (minshirui)\n",
            "We must not speak ill of others behind their backs.\tहमे लोगों की पीठ के पीछे उनकी बुराई नहीं करनी चाहिए।\tCC-BY 2.0 (France) Attribution: tatoeba.org #26493 (CK) & #475957 (minshirui)\n",
            "We will have to take off our shoes before going in.\tहमे अंदर जाने से पहले जूते उतारने होंगे।\tCC-BY 2.0 (France) Attribution: tatoeba.org #487549 (minshirui) & #487548 (minshirui)\n",
            "When he arrives in Tokyo, I'll call you right away.\tउसके टोक्यो आते ही मैं तुम्हें तुरंत फ़ोन करूँगी।\tCC-BY 2.0 (France) Attribution: tatoeba.org #400141 (CK) & #461265 (minshirui)\n",
            "Why do you talk about him as if he were an old man?\tतुम उसके बारे में ऐसे बात क्यों करते हो जैसे कि वह बूढ़ा आदमी हो?\tCC-BY 2.0 (France) Attribution: tatoeba.org #69806 (CK) & #514114 (minshirui)\n",
            "After some hesitation, he laid the book on the desk.\tथोड़ी हिचकिचाहट के बाद, उसने किताब को मेज़ पर रखा।\tCC-BY 2.0 (France) Attribution: tatoeba.org #53412 (CM) & #480205 (minshirui)\n",
            "I will get through with my homework before he comes.\tमैं उसके आने से पहले अपना होमवर्क खतम कर लूँगा।\tCC-BY 2.0 (France) Attribution: tatoeba.org #284323 (CK) & #459404 (minshirui)\n",
            "I will never forget your kindness so long as I live.\tमैं आपकी अच्छाई को कभी नहीं भूलूँगा।\tCC-BY 2.0 (France) Attribution: tatoeba.org #246877 (blay_paul) & #498195 (minshirui)\n",
            "Look carefully. I'm going to show you how it's done.\tग़ौर से देखा। मैं तुम्हें दिखाऊँगा कैसे किया जाता है।\tCC-BY 2.0 (France) Attribution: tatoeba.org #2325 (Zifre) & #498174 (minshirui)\n",
            "A selfish man thinks of nothing but his own feelings.\tमतलबी इनसान केवल अपनी भावनाओं के बारे में ही सोचता है।\tCC-BY 2.0 (France) Attribution: tatoeba.org #325322 (CK) & #491642 (minshirui)\n",
            "A selfish man thinks of nothing but his own feelings.\tमतलबी इनसान केवल अपने बारे में ही सोचता है।\tCC-BY 2.0 (France) Attribution: tatoeba.org #325322 (CK) & #491643 (minshirui)\n",
            "All the flowers in the garden died for lack of water.\tबाग के सारे फूल पानी की कमी की वजह से मर गए।\tCC-BY 2.0 (France) Attribution: tatoeba.org #278493 (CM) & #459392 (minshirui)\n",
            "I ran into an old friend of mine outside the station.\tमुझे स्टेशन के बाहर अपना एक पुराना दोस्त मिल गया।\tCC-BY 2.0 (France) Attribution: tatoeba.org #25974 (CK) & #609422 (minshirui)\n",
            "I spent hours looking for the key that I had dropped.\tमैं घंटों तक उस चाबी को ढूँढता रहा जिसे मैंने गिरा दिया था।\tCC-BY 2.0 (France) Attribution: tatoeba.org #262175 (CK) & #516756 (minshirui)\n",
            "I want this photograph developed as soon as possible.\tमुझे यह तस्वीर जल्द-से-जल्द बनवानी है।\tCC-BY 2.0 (France) Attribution: tatoeba.org #58762 (CK) & #491563 (minshirui)\n",
            "I'll arrange for someone to pick you up at your home.\tमैं किसी को तुम्हें घर से लेने के लिए भिजवादूँगा।\tCC-BY 2.0 (France) Attribution: tatoeba.org #40484 (Masa) & #476340 (minshirui)\n",
            "It is dangerous to ride a motorbike without a helmet.\tहेलमेट पहने बिना मोटरसाईकल चलाना बहुत खतरनाक होता है।\tCC-BY 2.0 (France) Attribution: tatoeba.org #33865 (Zifre) & #484156 (minshirui)\n",
            "It may not be necessary for us to go to that meeting.\tशायद हमें उस मीटिंग में जाने की ज़रूरत नहीं पड़ेगी।\tCC-BY 2.0 (France) Attribution: tatoeba.org #2537375 (CK) & #3216550 (anubhav93)\n",
            "It would be better for you not to ask him for advice.\tबहतर होगा कि तुम उससे सलाह न माँगो।\tCC-BY 2.0 (France) Attribution: tatoeba.org #15833 (Zifre) & #487482 (minshirui)\n",
            "My hands are dirty. I have been repairing my bicycle.\tमेरे हाथ गंदे हैं। मैं अपनी साईकल ठीक कर रहा था।\tCC-BY 2.0 (France) Attribution: tatoeba.org #265897 (CM) & #484062 (minshirui)\n",
            "She gave me a large room while I stayed at her house.\tजब मैं उसके घर पर रही, उसने मुझे रहने के लिए एक बड़ा सा कमरा दिया।\tCC-BY 2.0 (France) Attribution: tatoeba.org #309096 (CM) & #516713 (minshirui)\n",
            "The government started a program to promote industry.\tसरकार ने उद्योग बढ़ाने के लिए कार्यक्रम शुरू किया।\tCC-BY 2.0 (France) Attribution: tatoeba.org #271467 (CK) & #487446 (minshirui)\n",
            "The majority of the committee voted against the bill.\tसमिति के अधिकांश सदस्यों ने बिल के पारित होने के खिलाफ़ मत दिया।\tCC-BY 2.0 (France) Attribution: tatoeba.org #28281 (Swift) & #515414 (minshirui)\n",
            "The other day her mother passed away in the hospital.\tकुछ दिन पहले उसकी माँ हस्पताल में चल बसीं।\tCC-BY 2.0 (France) Attribution: tatoeba.org #273126 (CK) & #491775 (minshirui)\n",
            "The population of China is larger than that of India.\tचीन की जनसंख्या भारत की से बड़ी है।\tCC-BY 2.0 (France) Attribution: tatoeba.org #277489 (CK) & #487739 (minshirui)\n",
            "The speed of the spread of AIDS is horrifyingly fast.\tएड्स के फैलाव की तेज़ गति बहुत भयानक है।\tCC-BY 2.0 (France) Attribution: tatoeba.org #326879 (CM) & #515459 (minshirui)\n",
            "When you can't do what you want, you do what you can.\tजब वह नहीं कर सकते जो करना चाह्ते हो, तो वह करो जो कर सकते हो।\tCC-BY 2.0 (France) Attribution: tatoeba.org #1817 (CK) & #450972 (minshirui)\n",
            "French is spoken in France and in some parts of Italy.\tफ्रेंच फ्रांस में अौर इटली के कुछ हिस्सो में बोली जाती है।\tCC-BY 2.0 (France) Attribution: tatoeba.org #1386385 (quickfitter) & #3541689 (nurendra)\n",
            "I got up early, so that I could catch the first train.\tमैं जल्दी उठा था, क्योंकि मुझे पहली ट्रेन पकड़नी थी।\tCC-BY 2.0 (France) Attribution: tatoeba.org #259163 (CM) & #510247 (minshirui)\n",
            "I was caught in a shower and was drenched to the skin.\tमैं बारिश में फंस गया था और तर-तर भीग गया।\tCC-BY 2.0 (France) Attribution: tatoeba.org #35870 (CK) & #482450 (minshirui)\n",
            "In Japan there aren't any lakes bigger than Lake Biwa.\tजापान में बीवा झील से बड़ी और कोई झील नहीं है।\tCC-BY 2.0 (France) Attribution: tatoeba.org #485004 (CK) & #485852 (minshirui)\n",
            "In case I can't come, I'll give you a call beforehand.\tअगर मैं नहीं आ पाया तो तुम्हें पहले फ़ोन करके बतादूँगा।\tCC-BY 2.0 (France) Attribution: tatoeba.org #411259 (CM) & #514080 (minshirui)\n",
            "Make sure to turn off all the lights before going out.\tबहार जाने से पहले सारी बत्तियाँ बंद करना मत भूलना।\tCC-BY 2.0 (France) Attribution: tatoeba.org #21861 (minshirui) & #485822 (minshirui)\n",
            "Maybe I am unhappy, but I don't intend to kill myself.\tहाँ शायद मैं दुखी हूँ, पर मुझे अपनी जान लेने का इरादा नहीं है।\tCC-BY 2.0 (France) Attribution: tatoeba.org #460061 (saasmath) & #505104 (minshirui)\n",
            "Seen from the sky, the river looked like a huge snake.\tआसमान से वह नदी एक विशाल सांप की तरह दिख रही थी।\tCC-BY 2.0 (France) Attribution: tatoeba.org #18346 (CK) & #581705 (minshirui)\n",
            "The king ordered that the prisoner should be set free.\tराजा ने हुक़्म दिया कि क़ैदी को रिहा कर दिया जाए।\tCC-BY 2.0 (France) Attribution: tatoeba.org #25608 (mcq) & #498233 (minshirui)\n",
            "The patient was lying in the bed with his eyes closed.\tमरीज़ आँखें बंद कर बिस्टर पर लेटा हुआ था।\tCC-BY 2.0 (France) Attribution: tatoeba.org #21053 (Swift) & #3214238 (anubhav93)\n",
            "The police arrested the man who had murdered the girl.\tपुलिस ने उस लड़की के क़ातिल को हरासत में ले लिया।\tCC-BY 2.0 (France) Attribution: tatoeba.org #238303 (CK) & #459376 (minshirui)\n",
            "We are supposed to take off our shoes at the entrance.\tहमे अंदर जाने से पहले जूते उतारने होंगे।\tCC-BY 2.0 (France) Attribution: tatoeba.org #281906 (CK) & #487548 (minshirui)\n",
            "We communicate with each other by telephone every day.\tहम रोज़ एक-दूसरे से फ़ोन पर बात करते हैं।\tCC-BY 2.0 (France) Attribution: tatoeba.org #249392 (CK) & #491828 (minshirui)\n",
            "We have decided on leaving this town tomorrow morning.\tहमने इस नगर को कल सुबह छोड़ने का इरादा किया है।\tCC-BY 2.0 (France) Attribution: tatoeba.org #249417 (CK) & #511727 (minshirui)\n",
            "With a little more patience, you would have succeeded.\tअगर तुममें थोड़ा और सब्र होता तो तुम कामयाब हो जाते।\tCC-BY 2.0 (France) Attribution: tatoeba.org #30984 (CK) & #491021 (minshirui)\n",
            "You had better chain up the dog so that he won't bite.\tतुम्हें कुत्ते को बांध देना चाहिए जिससे कि वह किसी को काट न ले।\tCC-BY 2.0 (France) Attribution: tatoeba.org #239108 (CK) & #483924 (minshirui)\n",
            "You should not speak ill of others behind their backs.\tतुमको लोगों कि पीठ के पीछे उनकी बुराई नहीं करनी चाहिए।\tCC-BY 2.0 (France) Attribution: tatoeba.org #27093 (CK) & #475958 (minshirui)\n",
            "You'll have to work hard if you want to pass the exam.\tअगर तुम्हे परीक्षा पास करनी है तो मन लगाकर काम करना होगा।\tCC-BY 2.0 (France) Attribution: tatoeba.org #263438 (CK) & #498213 (minshirui)\n",
            "A committee has been set up to investigate the problem.\tइस समस्या की तहकीकात करने के लिए एक समिति स्थापित करी गई है।\tCC-BY 2.0 (France) Attribution: tatoeba.org #43611 (CK) & #600420 (minshirui)\n",
            "According to TV news, there was a plane crash in India.\tटीवी समाचार के मुताबिक, भारत में विमान दुर्घटना हुई है।\tCC-BY 2.0 (France) Attribution: tatoeba.org #39225 (CK) & #487670 (minshirui)\n",
            "As the saying goes, \"Nothing ventured, nothing gained.\"\tएक कहावत है, \"कुछ पाने के लिए कुछ खोना पड़ता है\"।\tCC-BY 2.0 (France) Attribution: tatoeba.org #239805 (CM) & #457097 (minshirui)\n",
            "Can you tell the difference between these two pictures?\tतुम इन दो तस्वीरों में अंतर बता सकते हो?\tCC-BY 2.0 (France) Attribution: tatoeba.org #55318 (CK) & #463398 (minshirui)\n",
            "Don't be afraid to make mistakes when speaking English.\tअंग्रेज़ी बोलते समय गलतियों का डर नहीं होना चाहिए।\tCC-BY 2.0 (France) Attribution: tatoeba.org #26175 (megamanenm) & #3213692 (anubhav93)\n",
            "I can't swallow these tablets without a drink of water.\tमैं पानी के बिना इन गोलियों को निगल नहीं सकती।\tCC-BY 2.0 (France) Attribution: tatoeba.org #270737 (CK) & #480321 (minshirui)\n",
            "The Taj Mahal is one of the seven wonders of the world.\tताज महल विश्व के सात आश्चर्यों में से एक है।\tCC-BY 2.0 (France) Attribution: tatoeba.org #487561 (minshirui) & #487560 (minshirui)\n",
            "The number of fish caught in this river was very small.\tइस नदी में बहुत कम मछलियाँ पकड़ीं गईं।\tCC-BY 2.0 (France) Attribution: tatoeba.org #58154 (CK) & #491757 (minshirui)\n",
            "The voyage from England to India used to take 6 months.\tइंग्लैड से भारत तक का सफ़र छः महीनों का हुआ करता था।\tCC-BY 2.0 (France) Attribution: tatoeba.org #66623 (CK) & #487714 (minshirui)\n",
            "There is no point in studying if you are feeling tired.\tअगर थक गए हो तो पढ़ाई करने से कोई फ़ायदा नहीं है।\tCC-BY 2.0 (France) Attribution: tatoeba.org #317822 (CK) & #491599 (minshirui)\n",
            "They obtained a yield of 8 percent on their investment.\tउनके इनवेस्टमेंट पर ८ प्रतिशत का फ़ायदा हुआ।\tCC-BY 2.0 (France) Attribution: tatoeba.org #307232 (CM) & #3216251 (anubhav93)\n",
            "This car has enough power to go up the mountain easily.\tगाड़ी में आसानी से पहाड़ चढ़ने लायक जान है।\tCC-BY 2.0 (France) Attribution: tatoeba.org #58756 (CK) & #484087 (minshirui)\n",
            "We ought to do our best not to pollute our environment.\tहमे पर्यावरण के प्रदूषण को रोकने का प्रयास करना चाहिए।\tCC-BY 2.0 (France) Attribution: tatoeba.org #21021 (CK) & #509994 (minshirui)\n",
            "You can borrow these books from the library for a week.\tआप ये किताबें पुस्तकालय से एक हफ़्ते के लिए ले सकते हैं।\tCC-BY 2.0 (France) Attribution: tatoeba.org #55080 (CK) & #506494 (minshirui)\n",
            "Your feet are swollen because your shoes are too small.\tतुम्हारे पैर सूज गए हैं क्योंकि तुम्हारे जूते बहुत छोटे हैं।\tCC-BY 2.0 (France) Attribution: tatoeba.org #18114 (Zifre) & #485820 (minshirui)\n",
            "A mother is responsible for the conduct of her children.\tएक माँ अपने बच्चों के बर्ताव के लिए ज़िम्मेदार होती है।\tCC-BY 2.0 (France) Attribution: tatoeba.org #320923 (CK) & #516680 (minshirui)\n",
            "Columbus argued that he could reach India by going west.\tकोलम्बस ने सोचा कि वह पश्चिम दिशा में जाकर भारत पहुँच सकता था।\tCC-BY 2.0 (France) Attribution: tatoeba.org #54857 (CM) & #487675 (minshirui)\n",
            "If I had known her address, I would have written to her.\tअगर मुझे उसका पता पता होता, तो मैंने उसे चिट्ठी लिखी हुई होती।\tCC-BY 2.0 (France) Attribution: tatoeba.org #309396 (minshirui) & #459397 (minshirui)\n",
            "In order to stay awake, I may have to drink more coffee.\tमुझे जगे रहने के लिए शायद और कॉफ़ी पीनी पड़ेगी।\tCC-BY 2.0 (France) Attribution: tatoeba.org #322719 (CK) & #459382 (minshirui)\n",
            "In the 1600s, tea was introduced into Europe from India.\t१६०० की शतक में चाय को भारत से यूरोप में लाया गया था।\tCC-BY 2.0 (France) Attribution: tatoeba.org #73317 (CK) & #487723 (minshirui)\n",
            "It's been nice talking to you, but I really must go now.\tआपसे बात करके खुशी हुई, पर अब मुझे जाना पड़ेगा।\tCC-BY 2.0 (France) Attribution: tatoeba.org #21308 (CK) & #476286 (minshirui)\n",
            "It's hard to say what the weather will be like tomorrow.\tकल का मौसम कैसा होगा कहना मुश्किल है।\tCC-BY 2.0 (France) Attribution: tatoeba.org #386757 (Mouseneb) & #443131 (minshirui)\n",
            "Last night you forgot to turn off the radio, didn't you?\tतुम कल रात रेडियो को बंद करना भूल गए थे ना?\tCC-BY 2.0 (France) Attribution: tatoeba.org #324583 (CK) & #505274 (minshirui)\n",
            "Without a dictionary, it would be hard to study English.\tशब्दकोश (डिक्शनरी) के बिना अंग्रेज़ी की पढ़ाई करना बहुत मुश्किल होगा।\tCC-BY 2.0 (France) Attribution: tatoeba.org #264884 (CM) & #450431 (minshirui)\n",
            "You ought not to have spent so much money on your hobby.\tतुम्हें अपने शौक पर इतने सारे पैसे खर्च नहीं करने चाहिए थे।\tCC-BY 2.0 (France) Attribution: tatoeba.org #16007 (Swift) & #480297 (minshirui)\n",
            "\"When will you be back?\" \"It all depends on the weather.\"\t\"कब वापस आओगे?\" \"यह तो मौसम देख कर पता चलेगा।\"\tCC-BY 2.0 (France) Attribution: tatoeba.org #1506 (CK) & #475863 (minshirui)\n",
            "He never takes into account the fact that I am very busy.\tवह कभी भी इस बात का खयाल नहीं करता है कि मैं कितना व्यस्थ हूँ।\tCC-BY 2.0 (France) Attribution: tatoeba.org #303731 (CK) & #514088 (minshirui)\n",
            "I can barely afford to buy enough food to feed my family.\tअपने परिवार के लिए खाना खरीदना भी मेरे लिए मुश्किल है।\tCC-BY 2.0 (France) Attribution: tatoeba.org #2300610 (CK) & #3212880 (anubhav93)\n",
            "It is essential to have good command of English nowadays.\tआजकल अंग्रेज़ी अच्छे से बोलना जानना बहुत ज़रूरी है।\tCC-BY 2.0 (France) Attribution: tatoeba.org #243014 (CM) & #482458 (minshirui)\n",
            "Mumbai is the capital of the Indian state of Maharashtra.\tमुम्बई भारतीय राज्य महाराष्ट्र की राजधानी है।\tCC-BY 2.0 (France) Attribution: tatoeba.org #487594 (minshirui) & #487592 (minshirui)\n",
            "Parents are responsible for the safety of their children.\tमातापिता अपने बच्चों की हिफ़ाज़त के लिए ज़िम्मेदार होते हैं।\tCC-BY 2.0 (France) Attribution: tatoeba.org #325716 (CK) & #581742 (minshirui)\n",
            "Parents are responsible for the safety of their children.\tमातापिता अपने बच्चों की सुरक्षा के लिए ज़िम्मेदार होते हैं।\tCC-BY 2.0 (France) Attribution: tatoeba.org #325716 (CK) & #581745 (minshirui)\n",
            "Some of the boys are fishing and the others are swimming.\tकुछ लड़के मछलियाँ पकड़ रहे हैं, और बाकी तैर रहे हैं।\tCC-BY 2.0 (France) Attribution: tatoeba.org #24527 (CK) & #482459 (minshirui)\n",
            "That child is only four, but he can already count to 100.\tवह बच्चा हालांकि केवल चार साल का ही है, वह अभी से ही सौ तक गिनती कर सकता है।\tCC-BY 2.0 (France) Attribution: tatoeba.org #47510 (Dejo) & #475768 (minshirui)\n",
            "The reason why you failed is you did not try hard enough.\tतुम नाकामयाब इसलिए रहे क्योंकि तुमने पूरी तरह मेहनत नहीं लगाई।\tCC-BY 2.0 (France) Attribution: tatoeba.org #17820 (CK) & #452350 (minshirui)\n",
            "He couldn't sleep because of the noise outside his window.\tउसकी खिड़की के बाहर इतना शोर हो रहा था कि वह सो नहीं पा रहा था।\tCC-BY 2.0 (France) Attribution: tatoeba.org #400147 (CK) & #506504 (minshirui)\n",
            "He intends to devote his life to curing the sick in India.\tवह अपनी ज़िंदगी को भारत में बीमारों का इलाज करने में समर्पित करना चाहता है।\tCC-BY 2.0 (France) Attribution: tatoeba.org #298447 (CM) & #487748 (minshirui)\n",
            "I have so many clothes I don't know what to wear tomorrow.\tमेरे पास इतने सारे कपड़े हैं कि मुझे समझ में नहीं आ रहा है कि कल क्या पहनूँ।\tCC-BY 2.0 (France) Attribution: tatoeba.org #255251 (CK) & #485755 (minshirui)\n",
            "I tried to give her some money, but she wouldn't take any.\tमैंने उसको पैसे देने की कोशिश करी पर उसने इनकार कर दिया।\tCC-BY 2.0 (France) Attribution: tatoeba.org #308653 (CK) & #491569 (minshirui)\n",
            "It makes no difference to me whether you are rich or poor.\tतुम अमीर हो या ग़रीब, इससे मुझे कोई फ़र्क नहीं पड़ता।\tCC-BY 2.0 (France) Attribution: tatoeba.org #71472 (CK) & #463378 (minshirui)\n",
            "Japan is one of the greatest economic powers in the world.\tजापान दुनिया के सबसे ताकतशाली अर्थतंत्रों में से एक है।\tCC-BY 2.0 (France) Attribution: tatoeba.org #281559 (CK) & #480276 (minshirui)\n",
            "On the fifteenth of August, thousands of people fly kites.\tपंद्रह अगस्त के दिन हज़ारों लोग पतंग उड़ातें हैं।\tCC-BY 2.0 (France) Attribution: tatoeba.org #480242 (minshirui) & #480241 (minshirui)\n",
            "Please don't look at your mobile phone while we're eating.\tभोजन करते समय कृपया अपने मोबाइल फ़ोन को ना देखें।\tCC-BY 2.0 (France) Attribution: tatoeba.org #1021048 (CK) & #8889252 (simranbansal)\n",
            "There is nothing on earth that is not affected by the sun.\tविष्व में ऐसी कोई भी वस्तु नहीं है जिसपर सूर्य का प्रभाव न पड़ता हो।\tCC-BY 2.0 (France) Attribution: tatoeba.org #58272 (CM) & #514016 (minshirui)\n",
            "There is nothing on earth that is not affected by the sun.\tदुनिया में ऐसी कोई भी चीज़ नहीं है जिसपर सूरज का असर न पड़ता हो।\tCC-BY 2.0 (France) Attribution: tatoeba.org #58272 (CM) & #514019 (minshirui)\n",
            "We must hurry if we want to arrive at the station on time.\tअगर हमको स्टेशन समय पर पहुँचना है तो हमको जल्दी करनी होगी।\tCC-BY 2.0 (France) Attribution: tatoeba.org #26076 (CM) & #486022 (minshirui)\n",
            "According to my calculation, she should be in India by now.\tमेरे हिसाब के मुताबिक उसको अभी तक भारत पहुँच जाना चाहिए था।\tCC-BY 2.0 (France) Attribution: tatoeba.org #251274 (CK) & #487732 (minshirui)\n",
            "Although they are twins, they have few interests in common.\tवे हालांकि जुड़वा हैं, उनके शोक एक-दूसरे से बहुत अलग हैं।\tCC-BY 2.0 (France) Attribution: tatoeba.org #307729 (CM) & #461262 (minshirui)\n",
            "Cross off the names of the people who have paid their dues.\tजो पैसे भर चुकें हैं, उनके नाम काट दो।\tCC-BY 2.0 (France) Attribution: tatoeba.org #22342 (CK) & #475828 (minshirui)\n",
            "He deliberately ignored me when I passed him in the street.\tजब मैं सड़क पर उसके सामने से गया, उसने जानबूझकर मुझे पहचाना नहीं।\tCC-BY 2.0 (France) Attribution: tatoeba.org #278330 (CK) & #450968 (minshirui)\n",
            "He promised me that he would be more careful in the future.\tउसने मुझसे वादा किया था कि वह आगे से ज़्यादा सावधान रहेगा।\tCC-BY 2.0 (France) Attribution: tatoeba.org #297612 (CK) & #484109 (minshirui)\n",
            "Seeing that movie is something like taking a trip to India.\tउस फ़िल्म को देखना भारत के सफ़र पर जाने जैसा है।\tCC-BY 2.0 (France) Attribution: tatoeba.org #68566 (CK) & #487716 (minshirui)\n",
            "The authorities have been hiding the facts from the public.\tअधिकारियों ने सच्चाई को आम जनता से छिपा कर रखा हुआ है।\tCC-BY 2.0 (France) Attribution: tatoeba.org #279890 (CM) & #485876 (minshirui)\n",
            "The instant he opened the door, he smelt something burning.\tउसे दरवाज़ा खोलते ही किसी चीज़ के जलने की बदबू सुँघाई दी।\tCC-BY 2.0 (France) Attribution: tatoeba.org #39021 (Swift) & #491600 (minshirui)\n",
            "What is the difference between imitation and real diamonds?\tअसली और नकली हीरों में क्या फ़र्क होता है?\tCC-BY 2.0 (France) Attribution: tatoeba.org #20058 (CK) & #465622 (minshirui)\n",
            "Covered with dust, the doll stood in the corner of the room.\tवह धूल से लिपटी हुई गुड़िया कमरे के कोने में खड़ी हुई थी।\tCC-BY 2.0 (France) Attribution: tatoeba.org #46002 (CM) & #483882 (minshirui)\n",
            "He finished his dinner because he didn't like to waste food.\tउसे खाने की बर्बादी करना पसंद नहीं था, तो उसने अपना खाना खाकर खतम किया।\tCC-BY 2.0 (France) Attribution: tatoeba.org #268676 (CK) & #491574 (minshirui)\n",
            "Nobody likes him, because he is always blowing his own horn.\tउसे कोई भी पसंद नहीं करता क्योंकि वह सारे टाईम अपनी बड़ाई करता रहता है।\tCC-BY 2.0 (France) Attribution: tatoeba.org #72038 (CM) & #483846 (minshirui)\n",
            "They have demanded that all copies of the book be destroyed.\tउन्होंने मांग करी है कि इस किताब की सारी कॉपियाँ नष्ट कर दीं जाएं।\tCC-BY 2.0 (France) Attribution: tatoeba.org #43929 (CK) & #449295 (minshirui)\n",
            "What do you call a man who takes care of sheep in the field?\tखेत में बकरियों की देखभाल करने वाले आदमी को क्या बुलाया जाता है?\tCC-BY 2.0 (France) Attribution: tatoeba.org #274280 (CK) & #511750 (minshirui)\n",
            "When he would not give them higher pay, they went on strike.\tजब उसने उनके वेतन बढ़ाने से इनकार कर दिया, उन्होंने हड़ताल कर दी।\tCC-BY 2.0 (France) Attribution: tatoeba.org #283200 (CM) & #510004 (minshirui)\n",
            "I feel sad when I think about all the people who die in wars.\tमुझे दुख होता है जब मैं उन लोगों की सोचता हों जो जंग में अपनी जान खो देते हैं।\tCC-BY 2.0 (France) Attribution: tatoeba.org #273280 (CK) & #480329 (minshirui)\n",
            "The fisherman exaggerated the size of the fish he had caught.\tमछवारे ने पकड़ी हुई मछली के आकार को बढ़ा-चढ़ाकर बताया।\tCC-BY 2.0 (France) Attribution: tatoeba.org #19375 (Dejo) & #611445 (minshirui)\n",
            "The new government promised to rid the country of corruption.\tनई सरकार ने देश को भ्रष्टाचार से मुक्त करने का वादा किया।\tCC-BY 2.0 (France) Attribution: tatoeba.org #269198 (CM) & #506547 (minshirui)\n",
            "His shoes were so old that his toes were sticking out of them.\tउसके जूते इतने पुराने थे कि उनमें से उसकी ऊँगलियाँ निकल रहीं थीं।\tCC-BY 2.0 (France) Attribution: tatoeba.org #285908 (CK) & #485976 (minshirui)\n",
            "If it had not been for her help, you would never have done it.\tउसकी मदद के बिना तुम नहीं कर पाते।\tCC-BY 2.0 (France) Attribution: tatoeba.org #309081 (CK) & #486357 (minshirui)\n",
            "Instead of cleaning the house today, I think I'll take a walk.\tमैं आज घर साफ़ करने के बजाय सैर करने जाऊँगी।\tCC-BY 2.0 (France) Attribution: tatoeba.org #242795 (CK) & #491647 (minshirui)\n",
            "It has been raining on and off since the day before yesterday.\tपरसों से बारिश रुक रुक के हो रही है।\tCC-BY 2.0 (France) Attribution: tatoeba.org #27764 (CK) & #485780 (minshirui)\n",
            "It will take me no less than 10 hours to prepare for the exam.\tमुझे परीक्षा की तैयारी करने के लिए कम-से-कम दस घंटे लगेंगे।\tCC-BY 2.0 (France) Attribution: tatoeba.org #246506 (CK) & #491759 (minshirui)\n",
            "Mary resembles her mother in appearance, but not in character.\tमेरी दिखने में तो अपनी माँ की तरह है पर चरित्र में अलग है।\tCC-BY 2.0 (France) Attribution: tatoeba.org #31879 (CM) & #457037 (minshirui)\n",
            "This morning the weather was so bad that I had to take a taxi.\tआज सुबह मौसम इतना खराब था कि मुझे टैक्सी लेनी पड़ी।\tCC-BY 2.0 (France) Attribution: tatoeba.org #242261 (CK) & #465629 (minshirui)\n",
            "When he is in trouble, he always turns to his sister for help.\tजब वह मुश्किलों में पड़ता है, वह हमेशा अपनी बहन से मदद माँगता है।\tCC-BY 2.0 (France) Attribution: tatoeba.org #296650 (CK) & #485823 (minshirui)\n",
            "How long has it been since you gave up teaching at that school?\tतुम्हे स्कूल में पढ़ाना छोड़े हुए कितना समय हो गया है?\tCC-BY 2.0 (France) Attribution: tatoeba.org #71581 (Zifre) & #505087 (minshirui)\n",
            "I don't think I shall get through all this work this afternoon.\tमुझे नहीं लगता मैं इतना सारा काम इस दोपहर को खतम कर पाऊँगा।\tCC-BY 2.0 (France) Attribution: tatoeba.org #242526 (CK) & #505124 (minshirui)\n",
            "I missed my stop. How long does it take to reach the next stop?\tमेरा स्टॉप छूट गया। अगला स्टॉप कितनी देर में आएगा?\tCC-BY 2.0 (France) Attribution: tatoeba.org #268379 (Zifre) & #476285 (minshirui)\n",
            "To investigate the incident would take us at least three weeks.\tहमको इस घटना की तहकीकात करने में कम-से-कम तीन हफ़्ते लगेंगे।\tCC-BY 2.0 (France) Attribution: tatoeba.org #31015 (CM) & #600419 (minshirui)\n",
            "The older you are, the more difficult it is to learn a language.\tतुम्हारी उम्र जितनी बड़ी होती है, तुम्हारे लिए कोई भाषा सीखना उतना ही कठिन होता है।\tCC-BY 2.0 (France) Attribution: tatoeba.org #282183 (CK) & #505131 (minshirui)\n",
            "Electric power companies are seeking to reduce their use of coal.\tबिजली कम्पनियाँ कोयले का इस्तेमाल कम करने की कोशिश कर रही हैं।\tCC-BY 2.0 (France) Attribution: tatoeba.org #2163125 (Source_VOA) & #3225339 (anubhav93)\n",
            "It is not till we lose our health that we realize its true value.\tहम जब तक अपना स्वास्थ्य नहीं खो देते हैं तब तक उसकी असली कीमत नहीं पहचानते हैं।\tCC-BY 2.0 (France) Attribution: tatoeba.org #238977 (CK) & #477710 (minshirui)\n",
            "It is not till we lose our health that we realize its true value.\tहम जब तक अपनी सेहत नहीं खो देते हैं, हमे तब तक उसकी असली कीमत नहीं पहचानते हैं।\tCC-BY 2.0 (France) Attribution: tatoeba.org #238977 (CK) & #509990 (minshirui)\n",
            "She wanted to have her hair cut, but her mother wouldn't let her.\tवह अपने बाल कटवाना चाह्ती थी, पर उसकी मम्मी राज़ी नहीं थी।\tCC-BY 2.0 (France) Attribution: tatoeba.org #316185 (CK) & #450403 (minshirui)\n",
            "You might as well read a novel instead of staring at the ceiling.\tछत पर घूरने के बजाए उपन्यास ही पढ़लो।\tCC-BY 2.0 (France) Attribution: tatoeba.org #278790 (CM) & #739772 (minshirui)\n",
            "Don't you think the air conditioner is turned up too high in here?\tतुम्हें नहीं लगता कि एसी कुछ ज़्यादा ही तेज़ चल रहा है?\tCC-BY 2.0 (France) Attribution: tatoeba.org #57378 (CK) & #450354 (minshirui)\n",
            "It will not make much difference whether you go today or tomorrow.\tतुम आज जाओ या कल, इससे ज़्यादा फ़र्क नहीं पड़ेगा।\tCC-BY 2.0 (France) Attribution: tatoeba.org #17854 (Zifre) & #459436 (minshirui)\n",
            "The boy gathered a handful of peanuts and put them in a small box.\tउस लड़के ने एक मुट्ठीभर मूँगफलियाँ लीं और उन्हें एक छोटे से डब्बे में डाल दिया।\tCC-BY 2.0 (France) Attribution: tatoeba.org #267998 (CK) & #487195 (minshirui)\n",
            "There's a rumor in the air that the firm is going into bankruptcy.\tहवा में एक अफ़वाह है कि उस कारोबार का दिवालिया होने वाला है।\tCC-BY 2.0 (France) Attribution: tatoeba.org #48849 (CM) & #483875 (minshirui)\n",
            "When you leave the room, please make sure you turn off the lights.\tकमरे से निकलने से पहले, कृपया बत्तियाँ बंद कर दीजिएगा।\tCC-BY 2.0 (France) Attribution: tatoeba.org #319598 (Zifre) & #485907 (minshirui)\n",
            "If Tom doesn't help us, we'll never be able to finish this on time.\tअगर टॉम हमारी मदद नहीं करेगा तो हम ये समय पर कभी नहीं कर पायेंगे।\tCC-BY 2.0 (France) Attribution: tatoeba.org #3540390 (CK) & #3540402 (nurendra)\n",
            "You must not be afraid of making mistakes when learning a language.\tकोई भी नई भाषा सीखने में ग़लतियों से डरना नहीं चहिए।\tCC-BY 2.0 (France) Attribution: tatoeba.org #375883 (blay_paul) & #459388 (minshirui)\n",
            "Many people around the world don't have access to good quality water.\tदुनिया भर में बहुत से लोगों को अच्छा पानी उपलब्ध नहीं है।\tCC-BY 2.0 (France) Attribution: tatoeba.org #5358560 (dfordivam) & #5358618 (dfordivam)\n",
            "The company gave him a gold watch in acknowledgement of his services.\tकम्पनी ने उसकी सेवाओं की पहचान में उसे सोनी की घड़ी दी।\tCC-BY 2.0 (France) Attribution: tatoeba.org #49115 (CM) & #491895 (minshirui)\n",
            "She cut the cake into six pieces and gave one to each of the children.\tउसने केक को छः टुकड़ो में काट कर, हर बच्चे हो एक टुकड़ा दिया।\tCC-BY 2.0 (France) Attribution: tatoeba.org #310783 (CK) & #487454 (minshirui)\n",
            "The twin girls are so much alike that I can't tell one from the other.\tजुड़वा बहनें एक-दूसरे से इतनी मिलती-जुलतीं हैं कि मैं उनमें फ़र्क नहीं बता सकती।\tCC-BY 2.0 (France) Attribution: tatoeba.org #49959 (CK) & #486337 (minshirui)\n",
            "I make it a practice to help my brother with his homework after supper.\tमुझे रात को खाना खाने के बाद अपने भाई को उसके होमवर्क के साथ मदद करने की आदत है।\tCC-BY 2.0 (France) Attribution: tatoeba.org #262089 (CM) & #455228 (minshirui)\n",
            "Instead of laying off these workers, why don't we just cut their hours?\tइन कर्मचारियों को नौकरी से निकालने की बजाय क्यों न हम इनके काम करना का समय कम करदें?\tCC-BY 2.0 (France) Attribution: tatoeba.org #55044 (CM) & #476377 (minshirui)\n",
            "Our parents took care of us and now it's our turn to take care of them.\tहमारे माता-पिता ने हमारी देखभाल की थी और अभ हमारी बारी है उनकी देखभाल करने की।\tCC-BY 2.0 (France) Attribution: tatoeba.org #325657 (CM) & #480219 (minshirui)\n",
            "The thieves pulled open all the drawers of the desk in search of money.\tचोरों ने पैसे ढूँढने के लिए मेज़ की सारी दराज़ें खोल डालीं।\tCC-BY 2.0 (France) Attribution: tatoeba.org #278620 (CK) & #446308 (minshirui)\n",
            "I learned to drive a car and got a driver's license when I was eighteen.\tजब मैं अठारह साल का था मैंने गाड़ी चलानी सीखी और लाईसेंस बनवालिया।\tCC-BY 2.0 (France) Attribution: tatoeba.org #73304 (minshirui) & #484129 (minshirui)\n",
            "Father kept in touch with us by mail and telephone while he was overseas.\tजब पिताजी विदेश में थे, वे हमारे साथ चिट्ठी और फ़ोन से सम्पर्क करते थे।\tCC-BY 2.0 (France) Attribution: tatoeba.org #319093 (CM) & #739777 (minshirui)\n",
            "Mother Teresa was a Catholic nun who lived and worked in Calcutta, India.\tमदर टेरेसा एक कैथोलिक नन थीं जो कलकत्ता में रहतीं और काम करतीं थीं।\tCC-BY 2.0 (France) Attribution: tatoeba.org #32863 (CK) & #487665 (minshirui)\n",
            "George Washington was the first president of the Unites States of America.\tजार्ज वाशिंगटन संयुक्त राज्य अमेरिका के पहले राष्ट्रपति थे\tCC-BY 2.0 (France) Attribution: tatoeba.org #5072194 (Vraja108) & #4907704 (yashtib1995)\n",
            "From my point of view, Australia is one of the best countries in the world.\tमेरे नज़रिए से ऑस्ट्रेलिया विश्व के सर्व-श्रेष्ठ देशों में से एक है।\tCC-BY 2.0 (France) Attribution: tatoeba.org #250993 (CK) & #8876358 (simranbansal)\n",
            "In 1951, Sister Teresa was sent to Calcutta, then the largest city in India.\t१९५१ में सिस्टर टेरेसा को कलकत्ता भेजा गया था, जो उस समय भारत का सबसे बड़ा शहर था।\tCC-BY 2.0 (France) Attribution: tatoeba.org #73285 (CM) & #487721 (minshirui)\n",
            "Mother Teresa used the prize money for her work in India and around the world.\tमदर टेरेसा को जो इनाम में पैसे मिले, उन्होंने उन पैसों को भारत और विदोश दोनों में अपने काम में लगाया।\tCC-BY 2.0 (France) Attribution: tatoeba.org #32864 (CM) & #487650 (minshirui)\n",
            "If you go to that supermarket, you can buy most things you use in your daily life.\tउस सूपरमार्केट में तुम लगभग कोई भी रोजाने में इस्तेमाल होने वाला सामान ख़रीद सकते हो।\tCC-BY 2.0 (France) Attribution: tatoeba.org #68682 (CM) & #452398 (minshirui)\n",
            "The passengers who were injured in the accident were taken to the nearest hospital.\tजिन यात्रियों को दुर्घटना मे चोट आई थी उन्हे अस्पताल ले जाया गया।\tCC-BY 2.0 (France) Attribution: tatoeba.org #47166 (CK) & #3134881 (pranjal710)\n",
            "Democracy is the worst form of government, except all the others that have been tried.\tलोकतंत्र सरकार का सबसे घिनौना रूप है, अगर बाकी सारी तरह की सरकारों को अंदेखा किया जाए तो।\tCC-BY 2.0 (France) Attribution: tatoeba.org #1550 (Zifre) & #480226 (minshirui)\n",
            "If my boy had not been killed in the traffic accident, he would be a college student now.\tअगर मेरा बेटा ट्रेफ़िक हादसे में नहीं मारा गया होता, तो वह अभी कॉलेज जा रहा होता।\tCC-BY 2.0 (France) Attribution: tatoeba.org #399492 (blay_paul) & #515450 (minshirui)\n",
            "When I was a kid, touching bugs didn't bother me a bit. Now I can hardly stand looking at pictures of them.\tजब मैं बच्चा था, मुझे कीड़ों को छूने से कोई परेशानी नहीं होती थी, पर अब मैं उनकी तस्वीरें देखना भी बर्दाश्त नहीं कर सकता।\tCC-BY 2.0 (France) Attribution: tatoeba.org #272157 (CM) & #485964 (minshirui)\n"
          ]
        }
      ]
    },
    {
      "cell_type": "code",
      "metadata": {
        "id": "tooO9pGrKXm2"
      },
      "source": [
        "import zipfile\n",
        "import io\n",
        "\n",
        "#Read the zip file\n",
        "zf = zipfile.ZipFile('hin-eng.zip', 'r')\n",
        "\n",
        "#Extract data from zip file\n",
        "data = ''\n",
        "with zf.open('hin.txt') as readfile:\n",
        "  for line in io.TextIOWrapper(readfile, 'utf-8'):\n",
        "    data += line"
      ],
      "execution_count": 8,
      "outputs": []
    },
    {
      "cell_type": "code",
      "metadata": {
        "id": "fiQ2ROWgKXm3",
        "colab": {
          "base_uri": "https://localhost:8080/"
        },
        "outputId": "a13e7db3-a40a-4816-bb8d-1af0b2c34acb"
      },
      "source": [
        "len(data)"
      ],
      "execution_count": 9,
      "outputs": [
        {
          "output_type": "execute_result",
          "data": {
            "text/plain": [
              "425969"
            ]
          },
          "metadata": {},
          "execution_count": 9
        }
      ]
    },
    {
      "cell_type": "code",
      "metadata": {
        "id": "9Ir1xfYwKXm5",
        "colab": {
          "base_uri": "https://localhost:8080/"
        },
        "outputId": "c2e1cb5c-c4a9-46df-fb75-e7b77f570435"
      },
      "source": [
        "print(data[40000:50000])"
      ],
      "execution_count": 10,
      "outputs": [
        {
          "output_type": "stream",
          "name": "stdout",
          "text": [
            "ba.org #482432 (minshirui) & #482431 (minshirui)\n",
            "It's not my fault.\tमेरी ग़लती नहीं है।\tCC-BY 2.0 (France) Attribution: tatoeba.org #321324 (CK) & #609869 (minshirui)\n",
            "It's starting now.\tशुरू हो रहा है।\tCC-BY 2.0 (France) Attribution: tatoeba.org #33137 (CK) & #480236 (minshirui)\n",
            "My bag was stolen.\tमेरा बस्ता चोरी हो गया था।\tCC-BY 2.0 (France) Attribution: tatoeba.org #35155 (CK) & #588618 (minshirui)\n",
            "My eyes are tired.\tमेरी आँखें थक गईं हैं।\tCC-BY 2.0 (France) Attribution: tatoeba.org #507513 (CK) & #588532 (minshirui)\n",
            "No one's in sight.\tआसपास कोई नहीं है।\tCC-BY 2.0 (France) Attribution: tatoeba.org #2091110 (CK) & #3216498 (anubhav93)\n",
            "Put your hands up!\tहाथ ऊपर करो!\tCC-BY 2.0 (France) Attribution: tatoeba.org #265926 (CK) & #443082 (minshirui)\n",
            "She began to sing.\tवह गाने लगी।\tCC-BY 2.0 (France) Attribution: tatoeba.org #312881 (CK) & #514032 (minshirui)\n",
            "She has blue eyes.\tउसकी नीली आँखें हैं।\tCC-BY 2.0 (France) Attribution: tatoeba.org #472087 (CK) & #588558 (minshirui)\n",
            "She isn't married.\tवह शादीशुदा नहीं है।\tCC-BY 2.0 (France) Attribution: tatoeba.org #313424 (CK) & #498107 (minshirui)\n",
            "Tell me the truth.\tमुझे सच्चाई बताओ।\tCC-BY 2.0 (France) Attribution: tatoeba.org #321441 (CK) & #505259 (minshirui)\n",
            "The earth rotates.\tपृथ्वी घूमती है।\tCC-BY 2.0 (France) Attribution: tatoeba.org #277131 (CM) & #516620 (minshirui)\n",
            "Tom may invite us.\tटॉम हमें आमंत्रित कर सकता है।\tCC-BY 2.0 (France) Attribution: tatoeba.org #8590150 (CK) & #8889314 (simranbansal)\n",
            "Try it once again.\tएक बार फिरसे कोशिश करो।\tCC-BY 2.0 (France) Attribution: tatoeba.org #31497 (CK) & #505400 (minshirui)\n",
            "Try it once again.\tएक बार और प्रयत्न करो।\tCC-BY 2.0 (France) Attribution: tatoeba.org #31497 (CK) & #505401 (minshirui)\n",
            "Turn on the radio.\tरेडियो को चालू करो।\tCC-BY 2.0 (France) Attribution: tatoeba.org #29763 (CK) & #588613 (minshirui)\n",
            "We don't know her.\tहम उसे नहीं जानते हैं।\tCC-BY 2.0 (France) Attribution: tatoeba.org #439337 (CK) & #483800 (minshirui)\n",
            "We don't know him.\tहम उसे नहीं जानते हैं।\tCC-BY 2.0 (France) Attribution: tatoeba.org #383016 (CK) & #483800 (minshirui)\n",
            "We have good news.\tहमारे पास खुशखबर है।\tCC-BY 2.0 (France) Attribution: tatoeba.org #66695 (CK) & #516840 (minshirui)\n",
            "We're against war.\tहम जंग के ख़िलाफ़ हैं।\tCC-BY 2.0 (France) Attribution: tatoeba.org #8066849 (CK) & #451241 (minshirui)\n",
            "We're against war.\tहम युद्ध का विरोध करते हैं।\tCC-BY 2.0 (France) Attribution: tatoeba.org #8066849 (CK) & #451242 (minshirui)\n",
            "What is happiness?\tखुशी क्या होती है?\tCC-BY 2.0 (France) Attribution: tatoeba.org #404565 (telsfbay) & #505276 (minshirui)\n",
            "What is happiness?\tसुख क्या होता है?\tCC-BY 2.0 (France) Attribution: tatoeba.org #404565 (telsfbay) & #505277 (minshirui)\n",
            "What is your name?\tआपका नाम क्या है?\tCC-BY 2.0 (France) Attribution: tatoeba.org #70623 (sacredceltic) & #443217 (minshirui)\n",
            "What's the matter?\tमुश्किल क्या है?\tCC-BY 2.0 (France) Attribution: tatoeba.org #394894 (Dorenda) & #485557 (minshirui)\n",
            "Where do you live?\tआप कहाँ रहते हैं?\tCC-BY 2.0 (France) Attribution: tatoeba.org #370708 (saeb) & #451337 (minshirui)\n",
            "Where do you live?\tतुम कहाँ रहते हो?\tCC-BY 2.0 (France) Attribution: tatoeba.org #370708 (saeb) & #451338 (minshirui)\n",
            "Where do you live?\tतू कहाँ रहता है?\tCC-BY 2.0 (France) Attribution: tatoeba.org #370708 (saeb) & #451339 (minshirui)\n",
            "Where do you live?\tतुम कहाँ रहती हो?\tCC-BY 2.0 (France) Attribution: tatoeba.org #370708 (saeb) & #451340 (minshirui)\n",
            "Where do you live?\tतू कहाँ रहती है?\tCC-BY 2.0 (France) Attribution: tatoeba.org #370708 (saeb) & #451341 (minshirui)\n",
            "Where is the book?\tवह किताब कहाँ है?\tCC-BY 2.0 (France) Attribution: tatoeba.org #43928 (CK) & #4907692 (yashtib1995)\n",
            "Where's the beach?\tसमुद्र तट कहां है?\tCC-BY 2.0 (France) Attribution: tatoeba.org #5899588 (CK) & #4907679 (yashtib1995)\n",
            "Who made this pie?\tयह पाय किसने बनाई है?\tCC-BY 2.0 (France) Attribution: tatoeba.org #276192 (CK) & #511171 (minshirui)\n",
            "Yes. That's right.\tहाँ। यह सही है।\tCC-BY 2.0 (France) Attribution: tatoeba.org #433817 (CK) & #588551 (minshirui)\n",
            "You have to leave.\tतुम्हें जाना होगा।\tCC-BY 2.0 (France) Attribution: tatoeba.org #454043 (mamat) & #483902 (minshirui)\n",
            "Are you busy today?\tतुम आज बिज़ी हो क्या?\tCC-BY 2.0 (France) Attribution: tatoeba.org #242434 (CK) & #477703 (minshirui)\n",
            "Are you busy today?\tतुम्हारे पास आज समय है क्या?\tCC-BY 2.0 (France) Attribution: tatoeba.org #242434 (CK) & #477704 (minshirui)\n",
            "Can we have a talk?\tहम बात कर सकते हैं क्या?\tCC-BY 2.0 (France) Attribution: tatoeba.org #63863 (CM) & #487402 (minshirui)\n",
            "Come along with us.\tहमारे साथ आओ।\tCC-BY 2.0 (France) Attribution: tatoeba.org #433695 (CK) & #485546 (minshirui)\n",
            "Did you sleep well?\tतुम अच्छे से सोये क्या?\tCC-BY 2.0 (France) Attribution: tatoeba.org #434494 (lukaszpp) & #483777 (minshirui)\n",
            "Do you remember me?\tतुम्हें मैं याद हूँ क्या?\tCC-BY 2.0 (France) Attribution: tatoeba.org #250327 (CK) & #476344 (minshirui)\n",
            "Don't give up hope.\tउम्मीद मत छोड़ो।\tCC-BY 2.0 (France) Attribution: tatoeba.org #20606 (brauliobezerra) & #475989 (minshirui)\n",
            "Don't throw stones.\tपत्थर मत फेंको।\tCC-BY 2.0 (France) Attribution: tatoeba.org #272226 (CK) & #505359 (minshirui)\n",
            "Everyone likes her.\tउसे सब पसंद करते हैं।\tCC-BY 2.0 (France) Attribution: tatoeba.org #430471 (CM) & #451280 (minshirui)\n",
            "Everyone likes him.\tउसे सब पसंद करते हैं।\tCC-BY 2.0 (France) Attribution: tatoeba.org #451282 (minshirui) & #451280 (minshirui)\n",
            "Have you gone nuts?\tतेरी अकल घास चरने गई है क्या?\tCC-BY 2.0 (France) Attribution: tatoeba.org #487626 (minshirui) & #487624 (minshirui)\n",
            "He breathed deeply.\tउसने गहरी साँस ली।\tCC-BY 2.0 (France) Attribution: tatoeba.org #299963 (CK) & #483855 (minshirui)\n",
            "He closed his eyes.\tउसने अपनी आँखें बंद करीं।\tCC-BY 2.0 (France) Attribution: tatoeba.org #304198 (CK) & #488886 (minshirui)\n",
            "He cried and cried.\tवह रोया और और रोया।\tCC-BY 2.0 (France) Attribution: tatoeba.org #295239 (CM) & #484148 (minshirui)\n",
            "He is a simple man.\tवह साधा आदमी है।\tCC-BY 2.0 (France) Attribution: tatoeba.org #2915476 (sabretou) & #3538145 (nurendra)\n",
            "He is sure to come.\tवह ज़रूर आएगा।\tCC-BY 2.0 (France) Attribution: tatoeba.org #289676 (CK) & #486351 (minshirui)\n",
            "He isn't my cousin.\tवह मेरा चचेरा भाई नहीं है।\tCC-BY 2.0 (France) Attribution: tatoeba.org #297738 (CK) & #463380 (minshirui)\n",
            "He isn't my cousin.\tवह मेरा ममेरा भाई नहीं है।\tCC-BY 2.0 (France) Attribution: tatoeba.org #297738 (CK) & #463381 (minshirui)\n",
            "He waited his turn.\tउसने अपनी बारी का इंतेज़ार किया।\tCC-BY 2.0 (France) Attribution: tatoeba.org #298772 (CK) & #506493 (minshirui)\n",
            "He works at a bank.\tवह बैंक में काम करता है।\tCC-BY 2.0 (France) Attribution: tatoeba.org #416365 (phrasemix) & #515396 (minshirui)\n",
            "He's a good person.\tवह अच्छा इनसान है।\tCC-BY 2.0 (France) Attribution: tatoeba.org #2368 (CK) & #588590 (minshirui)\n",
            "I admit my mistake.\tमैं अपनी ग़लती मानता हूँ।\tCC-BY 2.0 (France) Attribution: tatoeba.org #258278 (CK) & #511740 (minshirui)\n",
            "I can read English.\tमैं अंग्रेज़ी पढ़ सकता हूँ।\tCC-BY 2.0 (France) Attribution: tatoeba.org #867128 (verogc) & #449349 (minshirui)\n",
            "I can read English.\tमैं अंग्रेज़ी पढ़ सकती हूँ।\tCC-BY 2.0 (France) Attribution: tatoeba.org #867128 (verogc) & #449350 (minshirui)\n",
            "I can't believe it!\tमुझे विश्वास नहीं होता!\tCC-BY 2.0 (France) Attribution: tatoeba.org #2076 (Swift) & #482442 (minshirui)\n",
            "I do what I'm told.\tमैं वही करता हूं जो मुझे बताया जाता है।\tCC-BY 2.0 (France) Attribution: tatoeba.org #2315148 (CK) & #8889248 (simranbansal)\n",
            "I do what I'm told.\tमैं वही करती हूं जो मुझे बताया जाता है।\tCC-BY 2.0 (France) Attribution: tatoeba.org #2315148 (CK) & #8889249 (simranbansal)\n",
            "I heard him go out.\tमैंने उसके बाहर जाने की आवाज़ सुनी।\tCC-BY 2.0 (France) Attribution: tatoeba.org #283847 (CK) & #506459 (minshirui)\n",
            "I know her address.\tमुझे उसका पता पता है।\tCC-BY 2.0 (France) Attribution: tatoeba.org #309397 (CK) & #483991 (minshirui)\n",
            "I know his address.\tमुझे उसका पता पता है।\tCC-BY 2.0 (France) Attribution: tatoeba.org #260661 (CK) & #483991 (minshirui)\n",
            "I know those women.\tमैं उन औरतों को जानता हूँ।\tCC-BY 2.0 (France) Attribution: tatoeba.org #395050 (CK) & #588628 (minshirui)\n",
            "I know your father.\tमैं तुम्हारे पिताजी को जानता हूँ।\tCC-BY 2.0 (France) Attribution: tatoeba.org #257093 (CK) & #588516 (minshirui)\n",
            "I sort of like him.\tमुझे वह अच्छा सा लगता है।\tCC-BY 2.0 (France) Attribution: tatoeba.org #33013 (CK) & #486312 (minshirui)\n",
            "I still don't know.\tमुझे अभी भी नहीं पता।\tCC-BY 2.0 (France) Attribution: tatoeba.org #952376 (CK) & #446708 (minshirui)\n",
            "I was born in 1960.\tमैं १९६० में पैदा हुआ था।\tCC-BY 2.0 (France) Attribution: tatoeba.org #252429 (CK) & #450024 (minshirui)\n",
            "I was born in 1979.\tमैं १९७९ में पैदा हुआ था।\tCC-BY 2.0 (France) Attribution: tatoeba.org #252438 (CK) & #498196 (minshirui)\n",
            "I was very thirsty.\tमैं बहुत प्यासा था।\tCC-BY 2.0 (France) Attribution: tatoeba.org #5859331 (CK) & #8889230 (simranbansal)\n",
            "I was very thirsty.\tमैं बहुत प्यासा थी।\tCC-BY 2.0 (France) Attribution: tatoeba.org #5859331 (CK) & #8889231 (simranbansal)\n",
            "I watch television.\tमैं टीवी देखता हूँ।\tCC-BY 2.0 (France) Attribution: tatoeba.org #39164 (CK) & #588571 (minshirui)\n",
            "I worked all night.\tमैंने पूरी रात काम किया।\tCC-BY 2.0 (France) Attribution: tatoeba.org #278741 (CK) & #457082 (minshirui)\n",
            "I worked all night.\tमैंने रातभर काम किया।\tCC-BY 2.0 (France) Attribution: tatoeba.org #278741 (CK) & #457083 (minshirui)\n",
            "I'll see you later.\tबाद में मिलेंगे।\tCC-BY 2.0 (France) Attribution: tatoeba.org #32706 (CK) & #450433 (minshirui)\n",
            "I'll see you later.\tफिर मिलेंगे।\tCC-BY 2.0 (France) Attribution: tatoeba.org #32706 (CK) & #450434 (minshirui)\n",
            "I'm as tall as you.\tमैं तुम्हारे जितना लम्बा हूँ।\tCC-BY 2.0 (France) Attribution: tatoeba.org #252720 (CK) & #511756 (minshirui)\n",
            "I'm coming at once.\tमैं अभी आता हूँ।\tCC-BY 2.0 (France) Attribution: tatoeba.org #52187 (CM) & #491800 (minshirui)\n",
            "Is this book yours?\tक्या यह किताब तुम्हारी है?\tCC-BY 2.0 (France) Attribution: tatoeba.org #56970 (CK) & #561269 (minshirui)\n",
            "It is already dark.\tअभी से रात हो गई है।\tCC-BY 2.0 (France) Attribution: tatoeba.org #31530 (CK) & #473767 (minshirui)\n",
            "It looks like snow.\tबरफ़ जैसा दिखता है।\tCC-\n"
          ]
        }
      ]
    },
    {
      "cell_type": "markdown",
      "metadata": {
        "id": "A6AgsSZ9KXm7"
      },
      "source": [
        "\n",
        "### Extract Source and Target Language pairs"
      ]
    },
    {
      "cell_type": "code",
      "metadata": {
        "id": "T1Mb8tIyKXm7"
      },
      "source": [
        "#Split by newline character\n",
        "data =  data.split('\\n')"
      ],
      "execution_count": 11,
      "outputs": []
    },
    {
      "cell_type": "code",
      "metadata": {
        "id": "apuKzGY4KXm9",
        "colab": {
          "base_uri": "https://localhost:8080/"
        },
        "outputId": "b6ce17a3-8d07-4c67-9401-09be5d1b7a05"
      },
      "source": [
        "len(data)"
      ],
      "execution_count": 12,
      "outputs": [
        {
          "output_type": "execute_result",
          "data": {
            "text/plain": [
              "2950"
            ]
          },
          "metadata": {},
          "execution_count": 12
        }
      ]
    },
    {
      "cell_type": "code",
      "metadata": {
        "id": "CzP2DaIUs0uw",
        "colab": {
          "base_uri": "https://localhost:8080/"
        },
        "outputId": "ff9885fd-bb82-459b-c6ce-eb5331240787"
      },
      "source": [
        "#Show some Data\n",
        "data[100:105]"
      ],
      "execution_count": 13,
      "outputs": [
        {
          "output_type": "execute_result",
          "data": {
            "text/plain": [
              "['We promised.\\tहमने वादा किया।\\tCC-BY 2.0 (France) Attribution: tatoeba.org #2107668 (CK) & #8876370 (simranbansal)',\n",
              " \"What's this?\\tयह क्या है?\\tCC-BY 2.0 (France) Attribution: tatoeba.org #413821 (CK) & #443158 (minshirui)\",\n",
              " 'Are you sick?\\tक्या तुम बीमार हो?\\tCC-BY 2.0 (France) Attribution: tatoeba.org #434252 (lukaszpp) & #518699 (minshirui)',\n",
              " 'Bring him in.\\tउसको अंदर ले आओ।\\tCC-BY 2.0 (France) Attribution: tatoeba.org #307895 (CK) & #475932 (minshirui)',\n",
              " 'Come with us.\\tहमारे साथ आओ।\\tCC-BY 2.0 (France) Attribution: tatoeba.org #433696 (CK) & #485546 (minshirui)']"
            ]
          },
          "metadata": {},
          "execution_count": 13
        }
      ]
    },
    {
      "cell_type": "markdown",
      "metadata": {
        "id": "xnEw_IMEKXm_"
      },
      "source": [
        "### Separate Source and Target pairs"
      ]
    },
    {
      "cell_type": "code",
      "metadata": {
        "id": "yQMiDL45KXnA"
      },
      "source": [
        "encoder_text = [] #Initialize Source language list\n",
        "decoder_text = [] #Initialize Target language list\n",
        "\n",
        "#Iterate over data\n",
        "for line in data:\n",
        "    try:\n",
        "        in_txt, out_txt,_ = line.split('\\t')\n",
        "        encoder_text.append(in_txt)\n",
        "        \n",
        "        # Add tab '<start>' as 'start sequence in target\n",
        "        # And '<end>' as End\n",
        "        decoder_text.append('<start> ' + out_txt + ' <end>')\n",
        "    except:\n",
        "        pass #ignore data which goes into error "
      ],
      "execution_count": 14,
      "outputs": []
    },
    {
      "cell_type": "markdown",
      "metadata": {
        "id": "JdOMuGbUKXnC"
      },
      "source": [
        "### Separate Source and Target pairs.."
      ]
    },
    {
      "cell_type": "code",
      "metadata": {
        "id": "7K8QDZAbKXnD",
        "colab": {
          "base_uri": "https://localhost:8080/"
        },
        "outputId": "f820940d-c242-4877-a926-7f57c33247f8"
      },
      "source": [
        "#English (Source)\n",
        "encoder_text[100:105]"
      ],
      "execution_count": 15,
      "outputs": [
        {
          "output_type": "execute_result",
          "data": {
            "text/plain": [
              "['We promised.',\n",
              " \"What's this?\",\n",
              " 'Are you sick?',\n",
              " 'Bring him in.',\n",
              " 'Come with us.']"
            ]
          },
          "metadata": {},
          "execution_count": 15
        }
      ]
    },
    {
      "cell_type": "code",
      "metadata": {
        "id": "0DduIsYLKXnF",
        "colab": {
          "base_uri": "https://localhost:8080/"
        },
        "outputId": "b700341c-d4d1-4f71-82d4-308a7e083b45"
      },
      "source": [
        "#Target language\n",
        "decoder_text[100:105]"
      ],
      "execution_count": 16,
      "outputs": [
        {
          "output_type": "execute_result",
          "data": {
            "text/plain": [
              "['<start> हमने वादा किया। <end>',\n",
              " '<start> यह क्या है? <end>',\n",
              " '<start> क्या तुम बीमार हो? <end>',\n",
              " '<start> उसको अंदर ले आओ। <end>',\n",
              " '<start> हमारे साथ आओ। <end>']"
            ]
          },
          "metadata": {},
          "execution_count": 16
        }
      ]
    },
    {
      "cell_type": "code",
      "metadata": {
        "id": "9S_gOPOndgOy",
        "colab": {
          "base_uri": "https://localhost:8080/"
        },
        "outputId": "cd5357e2-35d1-471e-f194-129f0d008d38"
      },
      "source": [
        "len(encoder_text)"
      ],
      "execution_count": 17,
      "outputs": [
        {
          "output_type": "execute_result",
          "data": {
            "text/plain": [
              "2949"
            ]
          },
          "metadata": {},
          "execution_count": 17
        }
      ]
    },
    {
      "cell_type": "code",
      "metadata": {
        "id": "Fty0Xlc9hErF",
        "colab": {
          "base_uri": "https://localhost:8080/"
        },
        "outputId": "3670acf0-22f2-4f29-9441-56560ec6d026"
      },
      "source": [
        "len(decoder_text)"
      ],
      "execution_count": 18,
      "outputs": [
        {
          "output_type": "execute_result",
          "data": {
            "text/plain": [
              "2949"
            ]
          },
          "metadata": {},
          "execution_count": 18
        }
      ]
    },
    {
      "cell_type": "markdown",
      "metadata": {
        "id": "1BA2RbOVKXnI"
      },
      "source": [
        "### Tokenize Source language sentences"
      ]
    },
    {
      "cell_type": "code",
      "metadata": {
        "id": "2OiGqsXDKXnI"
      },
      "source": [
        "#Tokenizer for source language\n",
        "encoder_t = tf.keras.preprocessing.text.Tokenizer(lower=True)\n",
        "encoder_t.fit_on_texts(encoder_text) #Fit it on Source sentences"
      ],
      "execution_count": 19,
      "outputs": []
    },
    {
      "cell_type": "code",
      "metadata": {
        "id": "38f6Yl9HKXnK",
        "colab": {
          "base_uri": "https://localhost:8080/"
        },
        "outputId": "b95ed054-3808-46e1-8dba-962f0f7ed470"
      },
      "source": [
        "#Vocab\n",
        "len(encoder_t.word_index)"
      ],
      "execution_count": 20,
      "outputs": [
        {
          "output_type": "execute_result",
          "data": {
            "text/plain": [
              "2432"
            ]
          },
          "metadata": {},
          "execution_count": 20
        }
      ]
    },
    {
      "cell_type": "code",
      "metadata": {
        "id": "u8fZ-qAJ96Sw",
        "colab": {
          "base_uri": "https://localhost:8080/"
        },
        "outputId": "b2ab6270-eb79-4a84-af53-8296b660f61b"
      },
      "source": [
        "print(encoder_t.word_index)"
      ],
      "execution_count": 21,
      "outputs": [
        {
          "output_type": "stream",
          "name": "stdout",
          "text": [
            "{'the': 1, 'i': 2, 'to': 3, 'you': 4, 'a': 5, 'is': 6, 'he': 7, 'of': 8, 'in': 9, 'it': 10, 'my': 11, 'have': 12, 'me': 13, 'this': 14, 'do': 15, 'she': 16, 'was': 17, 'that': 18, 'for': 19, 'are': 20, 'his': 21, 'your': 22, 'what': 23, 'we': 24, \"don't\": 25, 'will': 26, 'on': 27, 'at': 28, 'him': 29, 'her': 30, 'not': 31, 'like': 32, 'go': 33, \"i'm\": 34, 'with': 35, 'be': 36, 'tom': 37, 'how': 38, 'and': 39, 'can': 40, 'know': 41, 'has': 42, 'all': 43, 'up': 44, 'there': 45, 'time': 46, 'very': 47, 'they': 48, 'come': 49, 'had': 50, 'as': 51, \"it's\": 52, 'want': 53, 'from': 54, 'please': 55, 'did': 56, 'when': 57, 'by': 58, 'here': 59, 'out': 60, 'an': 61, 'get': 62, 'going': 63, \"can't\": 64, 'no': 65, 'been': 66, 'about': 67, 'am': 68, 'if': 69, 'book': 70, 'take': 71, 'one': 72, 'father': 73, 'would': 74, 'were': 75, 'money': 76, 'day': 77, 'see': 78, 'india': 79, 'but': 80, 'us': 81, \"didn't\": 82, 'two': 83, \"i'll\": 84, 'now': 85, 'make': 86, 'today': 87, 'long': 88, 'help': 89, 'tomorrow': 90, 'must': 91, 'back': 92, 'where': 93, 'man': 94, 'good': 95, 'live': 96, 'our': 97, 'who': 98, 'home': 99, 'car': 100, 'so': 101, 'work': 102, 'these': 103, 'english': 104, 'yesterday': 105, 'never': 106, 'room': 107, 'think': 108, 'house': 109, 'should': 110, 'many': 111, 'every': 112, 'made': 113, 'much': 114, 'too': 115, 'old': 116, 'nothing': 117, 'went': 118, 'may': 119, 'mother': 120, 'last': 121, 'always': 122, 'more': 123, 'than': 124, 'off': 125, 'again': 126, 'dog': 127, 'give': 128, 'tell': 129, 'could': 130, 'any': 131, 'got': 132, 'door': 133, 'some': 134, 'why': 135, 'mary': 136, 'speak': 137, 'people': 138, 'well': 139, 'them': 140, 'children': 141, 'down': 142, 'call': 143, 'turn': 144, 'night': 145, 'train': 146, 'say': 147, \"i've\": 148, 'let': 149, 'leave': 150, 'lot': 151, 'job': 152, 'put': 153, 'school': 154, 'before': 155, 'happy': 156, 'doctor': 157, \"you're\": 158, \"isn't\": 159, 'teacher': 160, 'into': 161, 'or': 162, 'away': 163, 'new': 164, 'read': 165, 'right': 166, 'soon': 167, 'way': 168, 'their': 169, \"let's\": 170, 'answer': 171, 'tired': 172, 'left': 173, 'everyone': 174, 'open': 175, \"that's\": 176, 'problem': 177, 'believe': 178, 'true': 179, 'use': 180, 'next': 181, 'ten': 182, 'water': 183, 'keep': 184, 'letter': 185, 'because': 186, \"what's\": 187, 'drive': 188, 'hard': 189, 'saw': 190, 'watch': 191, 'really': 192, 'yet': 193, 'few': 194, 'three': 195, 'times': 196, 'seen': 197, 'once': 198, 'both': 199, 'wrong': 200, 'big': 201, 'year': 202, 'birthday': 203, 'feel': 204, 'cut': 205, 'japan': 206, 'met': 207, 'does': 208, 'doing': 209, 'little': 210, 'tea': 211, \"couldn't\": 212, 'afraid': 213, 'without': 214, 'looking': 215, 'said': 216, 'something': 217, 'morning': 218, 'world': 219, 'lost': 220, 'try': 221, \"he's\": 222, 'came': 223, 'understand': 224, \"i'd\": 225, 'play': 226, 'books': 227, 'need': 228, 'girl': 229, 'while': 230, 'years': 231, 'other': 232, 'such': 233, 'used': 234, 'love': 235, 'coming': 236, \"we're\": 237, 'bed': 238, 'around': 239, 'likes': 240, 'meet': 241, 'after': 242, 'talking': 243, 'friends': 244, 'bought': 245, 'tried': 246, 'wanted': 247, 'mind': 248, 'gave': 249, 'asked': 250, \"o'clock\": 251, \"doesn't\": 252, 'six': 253, 'able': 254, 'cannot': 255, \"won't\": 256, 'took': 257, 'alone': 258, 'buy': 259, 'stay': 260, 'study': 261, 'early': 262, 'running': 263, 'first': 264, 'bad': 265, 'already': 266, 'news': 267, 'told': 268, 'ask': 269, 'caught': 270, 'just': 271, 'easy': 272, 'looked': 273, 'shoes': 274, 'river': 275, 'comes': 276, 'station': 277, 'own': 278, 'better': 279, 'ever': 280, 'between': 281, 'medicine': 282, 'usually': 283, 'brother': 284, 'smoking': 285, 'days': 286, 'month': 287, 'fun': 288, 'broke': 289, 'cold': 290, 'knows': 291, 'drink': 292, 'dinner': 293, 'person': 294, 'friend': 295, 'life': 296, 'eyes': 297, 'abroad': 298, 'married': 299, 'small': 300, 'felt': 301, 'city': 302, 'sister': 303, 'box': 304, 'health': 305, 'week': 306, 'walk': 307, 'five': 308, 'happened': 309, 'hair': 310, 'coffee': 311, 'difficult': 312, 'enough': 313, 'tv': 314, 'accident': 315, 'wants': 316, 'boy': 317, 'things': 318, 'busy': 319, 'town': 320, 'stop': 321, 'mine': 322, 'hurry': 323, 'name': 324, 'talk': 325, 'sure': 326, 'questions': 327, 'reading': 328, 'poor': 329, 'waiting': 330, 'died': 331, 'another': 332, 'ran': 333, 'party': 334, 'found': 335, 'almost': 336, 'question': 337, 'mistakes': 338, 'wait': 339, 'food': 340, 'die': 341, 'someone': 342, 'baby': 343, 'watching': 344, 'eight': 345, 'afternoon': 346, 'idea': 347, 'hours': 348, \"you'll\": 349, 'parents': 350, 'possible': 351, 'saying': 352, 'forgot': 353, 'fly': 354, 'done': 355, 'fire': 356, 'swim': 357, 'sit': 358, 'nobody': 359, 'flowers': 360, 'fish': 361, 'hot': 362, 'music': 363, 'look': 364, 'ill': 365, 'heard': 366, 'noise': 367, 'nice': 368, 'story': 369, 'anything': 370, 'later': 371, 'kept': 372, 'which': 373, 'write': 374, 'language': 375, 'became': 376, 'each': 377, 'bus': 378, 'quit': 379, 'king': 380, 'beautiful': 381, 'large': 382, 'police': 383, 'america': 384, 'others': 385, 'desk': 386, 'sorry': 387, 'bicycle': 388, 'care': 389, 'rain': 390, 'slowly': 391, 'instead': 392, 'written': 393, 'anxious': 394, 'weather': 395, 'kind': 396, 'hear': 397, 'behind': 398, 'since': 399, 'difference': 400, 'birds': 401, 'excuse': 402, 'move': 403, 'sick': 404, 'bring': 405, 'free': 406, 'son': 407, 'clean': 408, 'phone': 409, 'only': 410, 'black': 411, 'ready': 412, 'boys': 413, \"haven't\": 414, 'getting': 415, 'along': 416, 'sleep': 417, 'works': 418, 'address': 419, 'yours': 420, 'family': 421, \"she's\": 422, 'power': 423, 'everybody': 424, 'called': 425, 'lives': 426, 'rich': 427, 'yourself': 428, 'fever': 429, 'sunday': 430, 'hand': 431, 'rumor': 432, 'size': 433, 'visit': 434, 'wherever': 435, 'anyone': 436, 'thing': 437, 'forget': 438, 'country': 439, 'playing': 440, 'wish': 441, 'outside': 442, 'makes': 443, 'tennis': 444, \"shouldn't\": 445, 'homework': 446, 'wife': 447, 'minutes': 448, 'learn': 449, 'window': 450, 'standing': 451, 'picture': 452, 'class': 453, 'best': 454, 'interesting': 455, 'raining': 456, 'suddenly': 457, 'french': 458, 'clothes': 459, 'telephone': 460, 'capital': 461, \"wouldn't\": 462, 'find': 463, 'men': 464, 'finished': 465, 'london': 466, 'village': 467, 'child': 468, 'eat': 469, 'longer': 470, 'through': 471, 'whether': 472, 'pay': 473, 'hungry': 474, 'smiled': 475, 'dogs': 476, 'summer': 477, 'bag': 478, 'wash': 479, 'run': 480, 'guitar': 481, 'crying': 482, 'talks': 483, \"where's\": 484, 'began': 485, 'cried': 486, 'hands': 487, 'blue': 488, 'against': 489, 'war': 490, 'matter': 491, 'closed': 492, 'still': 493, 'born': 494, 'television': 495, 'looks': 496, 'expensive': 497, 'seems': 498, 'taking': 499, 'baseball': 500, 'working': 501, 'tokyo': 502, 'angry': 503, 'plan': 504, 'eating': 505, 'apple': 506, 'quickly': 507, 'dress': 508, 'return': 509, 'disappointed': 510, 'eggs': 511, 'reap': 512, 'sow': 513, 'lose': 514, 'business': 515, 'begins': 516, 'often': 517, 'anymore': 518, 'easily': 519, 'decided': 520, 'sky': 521, 'fell': 522, 'studying': 523, 'late': 524, 'four': 525, 'sugar': 526, 'rains': 527, 'then': 528, 'movie': 529, 'air': 530, \"aren't\": 531, 'apples': 532, 'larger': 533, 'might': 534, 'interested': 535, 'thank': 536, 'changing': 537, 'europe': 538, 'spoken': 539, 'cup': 540, 'number': 541, 'office': 542, 'set': 543, 'grandmother': 544, 'hobby': 545, 'population': 546, 'ship': 547, \"there's\": 548, 'across': 549, 'surprised': 550, 'plane': 551, 'china': 552, 'finish': 553, 'making': 554, 'heat': 555, 'whoever': 556, 'strange': 557, 'being': 558, 'mountain': 559, 'trouble': 560, 'hospital': 561, 'advice': 562, 'bit': 563, 'machine': 564, 'known': 565, 'necessary': 566, 'different': 567, 'arrested': 568, 'england': 569, 'jump': 570, 'laughed': 571, 'sing': 572, \"who's\": 573, 'stood': 574, 'strong': 575, 'cake': 576, 'attend': 577, 'fat': 578, 'history': 579, 'god': 580, 'over': 581, \"we'll\": 582, 'cooked': 583, 'beauty': 584, 'age': 585, 'teach': 586, 'remember': 587, 'april': 588, 'key': 589, 'whose': 590, 'bank': 591, 'sight': 592, 'truth': 593, 'earth': 594, 'hope': 595, 'mistake': 596, 'those': 597, 'women': 598, 'worked': 599, 'dark': 600, 'snow': 601, 'started': 602, 'thief': 603, 'taxi': 604, 'shirt': 605, 'clear': 606, 'airport': 607, 'agree': 608, 'expect': 609, 'red': 610, 'broken': 611, 'secret': 612, 'add': 613, 'policeman': 614, 'horse': 615, 'swimming': 616, 'lake': 617, 'game': 618, 'knew': 619, 'learned': 620, 'empty': 621, 'woman': 622, 'prefer': 623, 'myself': 624, 'nine': 625, 'rather': 626, '3': 627, 'light': 628, 'arrive': 629, 'memory': 630, \"you've\": 631, 'milk': 632, 'abandoned': 633, 'tends': 634, 'present': 635, 'show': 636, \"hasn't\": 637, 'face': 638, 'table': 639, 'garden': 640, 'novel': 641, 'stand': 642, 'explain': 643, 'bath': 644, 'harder': 645, '5': 646, 'least': 647, 'death': 648, 'cars': 649, 'rest': 650, 'dollars': 651, 'm': 652, 'shade': 653, '10': 654, 'cats': 655, 'believes': 656, 'arrived': 657, 'dead': 658, 'hardly': 659, 'brought': 660, 'famous': 661, 'great': 662, 'head': 663, 'promise': 664, 'canada': 665, 'france': 666, 'dream': 667, 'speaking': 668, 'meeting': 669, 'africa': 670, 'become': 671, 'result': 672, 'happen': 673, 'most': 674, 'future': 675, 'students': 676, 'sisters': 677, 'college': 678, 'bigger': 679, 'having': 680, 'paris': 681, 'pictures': 682, 'older': 683, 'leaving': 684, 'stayed': 685, 'languages': 686, 'doubt': 687, 'covered': 688, 'whole': 689, 'together': 690, 'street': 691, 'uncle': 692, 'amateur': 693, 'cricket': 694, 'player': 695, 'bridge': 696, 'supposed': 697, 'cost': 698, 'government': 699, 'pass': 700, 'responsible': 701, 'welcome': 702, 'bored': 703, 'wonderful': 704, 'follow': 705, 'shout': 706, 'promised': 707, 'cat': 708, 'map': 709, 'feet': 710, 'waited': 711, 'hat': 712, 'husband': 713, 'cook': 714, 'anybody': 715, 'kites': 716, 'fault': 717, 'carefully': 718, 'join': 719, 'rice': 720, 'legs': 721, 'speaks': 722, 'near': 723, 'thirsty': 724, 'bird': 725, 'walking': 726, 'turned': 727, 'listen': 728, 'student': 729, 'stolen': 730, 'radio': 731, 'yes': 732, 'simple': 733, 'admit': 734, 'sort': 735, 'tall': 736, 'suitcase': 737, 'crow': 738, 'entered': 739, 'continued': 740, 'eaten': 741, 'win': 742, 'wine': 743, 'pulled': 744, 'trees': 745, 'tax': 746, 'jog': 747, 'worry': 748, 'succeed': 749, 'meant': 750, 'joke': 751, 'glasses': 752, 'eleven': 753, 'shut': 754, 'goes': 755, 'accepted': 756, 'offer': 757, 'daughter': 758, 'correct': 759, 'ahead': 760, 'eye': 761, 'close': 762, 'ball': 763, 'lived': 764, 'animal': 765, 'fast': 766, 'robbed': 767, 'foot': 768, 'wake': 769, '7': 770, 'thinking': 771, 'absent': 772, '30': 773, 'shall': 774, 'piano': 775, 'heart': 776, 'showed': 777, 'oil': 778, 'smooth': 779, 'plenty': 780, 'yen': 781, 'bother': 782, 'glass': 783, 'park': 784, 'arrogant': 785, 'accused': 786, 'complaining': 787, 'chair': 788, 'sent': 789, 'important': 790, 'brothers': 791, 'under': 792, 'thirty': 793, 'cancer': 794, 'half': 795, 'forest': 796, 'team': 797, 'rooms': 798, 'road': 799, 'neighbors': 800, 'plays': 801, 'burning': 802, 'sleeping': 803, 'account': 804, 'sold': 805, 'travel': 806, 'towel': 807, 'herself': 808, 'reason': 809, 'cry': 810, 'twenty': 811, 'protect': 812, 'favorite': 813, 'smoke': 814, 'officer': 815, 'whatever': 816, 'opinions': 817, 'miles': 818, 'following': 819, 'items': 820, 'place': 821, 'feed': 822, 'word': 823, 'order': 824, 'bread': 825, 'somewhere': 826, 'explained': 827, 'rule': 828, 'waste': 829, 'voice': 830, 'allowed': 831, 'saved': 832, 'danger': 833, 'japanese': 834, 'store': 835, 'brush': 836, 'teeth': 837, 'meals': 838, 'words': 839, 'tickets': 840, 'speech': 841, 'advise': 842, 'pleased': 843, 'allow': 844, 'pain': 845, 'safety': 846, 'italy': 847, 'tree': 848, 'australia': 849, \"tom's\": 850, 'worse': 851, 'fact': 852, 'butter': 853, 'advantage': 854, 'monday': 855, 'movies': 856, 'trip': 857, 'traffic': 858, 'mail': 859, 'pieces': 860, 'favor': 861, 'flying': 862, 'kite': 863, 'dangerous': 864, 'due': 865, 'illness': 866, 'interpret': 867, 'poem': 868, 'pick': 869, 'borrow': 870, 'subject': 871, 'lie': 872, 'helped': 873, 'tonight': 874, 'sun': 875, 'wedding': 876, 'fresh': 877, 'promote': 878, 'buried': 879, 'lying': 880, 'until': 881, 'president': 882, 'trust': 883, 'rules': 884, 'killed': 885, 'ashamed': 886, 'wrote': 887, 'temples': 888, 'fifty': 889, 'end': 890, 'extent': 891, 'wind': 892, 'leaves': 893, 'computer': 894, 'short': 895, 'prize': 896, 'message': 897, 'point': 898, 'delhi': 899, 'speed': 900, 'breakfast': 901, 'case': 902, 'living': 903, 'depends': 904, 'teaching': 905, 'destroyed': 906, 'catch': 907, 'chance': 908, 'according': 909, 'front': 910, 'company': 911, 'advised': 912, 'far': 913, 'its': 914, 'passed': 915, 'ordered': 916, 'weeks': 917, 'lights': 918, 'workers': 919, 'museum': 920, 'library': 921, 'answers': 922, 'test': 923, 'ought': 924, 'till': 925, 'couple': 926, 'except': 927, 'largest': 928, 'feeling': 929, 'spent': 930, 'teresa': 931, 'duck': 932, 'hello': 933, 'cheers': 934, 'ok': 935, 'won': 936, 'perfect': 937, 'fine': 938, 'math': 939, 'shot': 940, 'touch': 941, 'atheist': 942, 'congratulations': 943, 'miss': 944, 'reads': 945, 'arabic': 946, 'rude': 947, 'lucky': 948, 'cafe': 949, 'fair': 950, 'lack': 951, 'choose': 952, 'top': 953, 'oranges': 954, 'sign': 955, 'betrayed': 956, 'build': 957, 'nests': 958, 'headache': 959, 'loved': 960, 'happiness': 961, 'throw': 962, 'breathed': 963, 'deeply': 964, 'cousin': 965, 'toes': 966, 'pretty': 967, 'guy': 968, 'enjoyed': 969, 'kids': 970, 'vase': 971, 'pen': 972, 'gym': 973, 'state': 974, 'taste': 975, 'ticket': 976, 'green': 977, 'forgive': 978, 'pencil': 979, 'sea': 980, 'lunch': 981, 'noon': 982, 'consciousness': 983, 'decision': 984, 'wore': 985, 'haunted': 986, 'sheets': 987, 'burst': 988, 'feels': 989, 'silk': 990, 'beer': 991, 'hens': 992, 'bell': 993, 'climbed': 994, 'stairs': 995, 'sharp': 996, 'race': 997, 'boston': 998, 'start': 999, 'swollen': 1000, 'hated': 1001, 'stubborn': 1002, 'nearby': 1003, 'missed': 1004, 'shouted': 1005, 'exciting': 1006, \"what're\": 1007, 'elevator': 1008, 'song': 1009, 'earns': 1010, 'knocked': 1011, 'physics': 1012, 'wonder': 1013, 'stomach': 1014, 'york': 1015, 'wears': 1016, 'glad': 1017, 'lion': 1018, 'chairs': 1019, 'tuesday': 1020, 'passport': 1021, 'soccer': 1022, 'dozen': 1023, 'dressed': 1024, 'white': 1025, 'whichever': 1026, 'applies': 1027, 'wood': 1028, 'cheese': 1029, 'fond': 1030, 'gun': 1031, 'murder': 1032, 'seat': 1033, 'further': 1034, 'cups': 1035, 'iron': 1036, 'gold': 1037, 'healthy': 1038, 'successful': 1039, 'gathered': 1040, 'amount': 1041, 'trusted': 1042, 'import': 1043, 'fairies': 1044, 'moment': 1045, 'taught': 1046, 'walked': 1047, 'witnessed': 1048, 'steal': 1049, 'lately': 1050, 'manager': 1051, 'p': 1052, 'stopped': 1053, 'hates': 1054, 'bags': 1055, 'missing': 1056, '8': 1057, 'plants': 1058, 'prisoner': 1059, \"father's\": 1060, 'independence': 1061, 'pond': 1062, 'coal': 1063, 'personally': 1064, 'koala': 1065, 'says': 1066, 'pencils': 1067, 'cover': 1068, 'sat': 1069, 'mouse': 1070, 'alive': 1071, 'same': 1072, 'hit': 1073, 'mud': 1074, 'season': 1075, 'celebrated': 1076, 'chose': 1077, \"we've\": 1078, 'pride': 1079, 'western': 1080, 'german': 1081, 'treats': 1082, 'august': 1083, 'accompanied': 1084, 'useful': 1085, 'spanish': 1086, 'mexico': 1087, 'loves': 1088, 'answered': 1089, 'else': 1090, 'low': 1091, 'hundred': 1092, 'real': 1093, 'diamond': 1094, 'wall': 1095, 'roses': 1096, 'degree': 1097, 'followed': 1098, 'tracks': 1099, 'success': 1100, 'science': 1101, 'farm': 1102, '00': 1103, 'young': 1104, 'grown': 1105, 'rome': 1106, 'monkey': 1107, 'increasing': 1108, 'send': 1109, \"should've\": 1110, 'taken': 1111, 'rotten': 1112, 'spread': 1113, 'youth': 1114, 'jam': 1115, 'jobs': 1116, 'thought': 1117, 'patient': 1118, 'bound': 1119, 'contains': 1120, \"sister's\": 1121, 'undone': 1122, 'absence': 1123, 'meal': 1124, 'distance': 1125, 'roof': 1126, 'dust': 1127, 'itself': 1128, 'crash': 1129, 'shop': 1130, 'someday': 1131, 'juice': 1132, 'supper': 1133, 'author': 1134, 'listened': 1135, 'struck': 1136, \"world's\": 1137, 'even': 1138, 'everything': 1139, 'vegetables': 1140, 'graveyard': 1141, 'supermarket': 1142, 'rainy': 1143, 'vain': 1144, 'sinking': 1145, 'high': 1146, 'cross': 1147, 'newspapers': 1148, 'dance': 1149, 'count': 1150, 'stingy': 1151, 'paper': 1152, 'single': 1153, 'lazy': 1154, 'boss': 1155, 'consists': 1156, 'past': 1157, 'reproached': 1158, 'starts': 1159, 'rang': 1160, 'scolded': 1161, 'worst': 1162, 'rid': 1163, 'habit': 1164, 'gets': 1165, 'nerves': 1166, 'hid': 1167, 'among': 1168, 'realized': 1169, 'program': 1170, 'smile': 1171, 'arrogance': 1172, 'fortune': 1173, 'proved': 1174, 'laid': 1175, 'prevented': 1176, 'murders': 1177, 'willing': 1178, 'observe': 1179, 'limit': 1180, 'market': 1181, 'tolerate': 1182, 'statement': 1183, 'art': 1184, 'friday': 1185, 'learning': 1186, 'foreign': 1187, 'nowadays': 1188, 'overseas': 1189, 'insecure': 1190, 'animals': 1191, 'asleep': 1192, 'pocket': 1193, 'jungle': 1194, 'storm': 1195, 'proud': 1196, 'themselves': 1197, 'sudden': 1198, 'toilet': 1199, 'pet': 1200, 'spend': 1201, 'dreamed': 1202, 'twice': 1203, 'vary': 1204, 'stars': 1205, 'law': 1206, 'scattered': 1207, 'talked': 1208, 'less': 1209, 'answering': 1210, 'corner': 1211, 'sentences': 1212, 'opportunity': 1213, 'satisfied': 1214, 'current': 1215, 'income': 1216, 'fit': 1217, 'fall': 1218, 'wearing': 1219, 'inside': 1220, 'occurred': 1221, 'regret': 1222, 'imitate': 1223, 'education': 1224, 'ride': 1225, 'staying': 1226, 'months': 1227, 'dictionary': 1228, 'received': 1229, 'sometimes': 1230, 'hesitation': 1231, 'convinced': 1232, 'doll': 1233, 'gentleman': 1234, 'absolute': 1235, 'shows': 1236, 'common': 1237, 'environment': 1238, 'club': 1239, 'examination': 1240, 'reduce': 1241, 'invited': 1242, 'confident': 1243, 'writing': 1244, 'letters': 1245, 'recognize': 1246, 'video': 1247, 'caused': 1248, 'earthquake': 1249, 'failed': 1250, 'jumped': 1251, 'locked': 1252, 'countries': 1253, 'conditioner': 1254, 'situation': 1255, '6': 1256, 'himself': 1257, 'precious': 1258, 'injured': 1259, 'during': 1260, 'stole': 1261, 'disappointment': 1262, 'respected': 1263, 'tears': 1264, 'impossible': 1265, 'opinion': 1266, 'certain': 1267, 'noticed': 1268, 'misunderstanding': 1269, 'fight': 1270, 'companies': 1271, 'products': 1272, 'instant': 1273, 'ago': 1274, 'lots': 1275, 'gained': 1276, 'thousands': 1277, 'taiwan': 1278, 'strike': 1279, 'quality': 1280, 'bothered': 1281, 'seventeen': 1282, 'sad': 1283, 'strawberries': 1284, 'cities': 1285, 'gut': 1286, 'regard': 1287, 'names': 1288, 'careful': 1289, 'backs': 1290, 'selfish': 1291, 'thinks': 1292, 'feelings': 1293, 'committee': 1294, 'exam': 1295, 'investigate': 1296, 'reach': 1297, 'takes': 1298, 'affected': 1299, 'realize': 1300, 'value': 1301, 'calcutta': 1302, 'wow': 1303, 'thanks': 1304, 'awesome': 1305, 'goodbye': 1306, 'full': 1307, 'fantastic': 1308, 'fainted': 1309, 'fear': 1310, 'definitely': 1311, 'burns': 1312, 'yawned': 1313, 'lied': 1314, 'easter': 1315, 'snowing': 1316, 'unbelievable': 1317, 'dies': 1318, 'bloom': 1319, 'donuts': 1320, 'quick': 1321, 'aloud': 1322, 'bent': 1323, 'holidays': 1324, 'beard': 1325, 'actor': 1326, 'needs': 1327, 'idol': 1328, 'kidding': 1329, 'guys': 1330, 'absurd': 1331, 'nauseous': 1332, 'assaulted': 1333, \"nobody's\": 1334, \"power's\": 1335, 'climb': 1336, 'potatoes': 1337, 'faces': 1338, 'riddle': 1339, 'responded': 1340, 'shopping': 1341, 'bar': 1342, 'deceive': 1343, 'screamed': 1344, 'employs': 1345, 'maid': 1346, 'studied': 1347, 'traitor': 1348, 'sleepy': 1349, 'truly': 1350, 'starting': 1351, \"one's\": 1352, 'rotates': 1353, 'invite': 1354, 'beach': 1355, 'pie': 1356, 'stones': 1357, 'gone': 1358, 'nuts': 1359, '1960': 1360, '1979': 1361, 'handle': 1362, 'toyota': 1363, 'frozen': 1364, 'leaped': 1365, 'joy': 1366, 'happily': 1367, 'annoys': 1368, 'batter': 1369, 'flew': 1370, 'vanished': 1371, \"mary's\": 1372, 'skating': 1373, 'pumpkin': 1374, 'begin': 1375, 'wheel': 1376, 'lonely': 1377, \"he'll\": 1378, 'singing': 1379, 'hate': 1380, 'risks': 1381, 'marry': 1382, 'ink': 1383, 'tiger': 1384, 'skies': 1385, 'sweating': 1386, 'winter': 1387, 'saver': 1388, 'lent': 1389, \"how's\": 1390, 'stranger': 1391, 'counting': 1392, 'vomiting': 1393, 'stomachache': 1394, 'problems': 1395, 'finger': 1396, 'allergic': 1397, 'ringing': 1398, 'charge': 1399, 'boring': 1400, 'victory': 1401, 'windy': 1402, 'lincoln': 1403, '1865': 1404, 'specialty': 1405, 'ablaze': 1406, 'damp': 1407, 'pipe': 1408, 'hers': 1409, 'zoo': 1410, 'contain': 1411, 'prove': 1412, 'camera': 1413, 'annotations': 1414, 'lay': 1415, 'rung': 1416, 'deals': 1417, 'furniture': 1418, 'shooter': 1419, 'sixty': 1420, 'sang': 1421, 'dear': 1422, 'grateful': 1423, 'dove': 1424, 'servant': 1425, 'liked': 1426, 'biology': 1427, 'korea': 1428, 'tiny': 1429, 'toy': 1430, 'deep': 1431, 'disturbing': 1432, 'rested': 1433, 'nonsense': 1434, 'fox': 1435, 'wild': 1436, 'color': 1437, 'temper': 1438, 'slap': 1439, 'salary': 1440, 'daughters': 1441, 'tore': 1442, 'apart': 1443, 'understands': 1444, 'pity': 1445, 'cage': 1446, 'seem': 1447, \"wasn't\": 1448, 'fired': 1449, 'bloody': 1450, 'longing': 1451, 'growling': 1452, 'gentle': 1453, 'wealthy': 1454, 'prattles': 1455, 'weird': 1456, 'gate': 1457, 'knife': 1458, 'sooner': 1459, 'thin': 1460, 'tame': 1461, 'engine': 1462, 'temperature': 1463, 'stuttering': 1464, 'lend': 1465, '500': 1466, 'spoil': 1467, 'alcohol': 1468, 'sand': 1469, 'catches': 1470, 'colds': 1471, 'smelling': 1472, 'soup': 1473, 'theft': 1474, 'throwing': 1475, 'dentist': 1476, 'drinking': 1477, '12': 1478, 'concern': 1479, \"anyone's\": 1480, 'example': 1481, 'debts': 1482, 'flames': 1483, 'adopted': 1484, 'orphan': 1485, 'note': 1486, 'plus': 1487, 'round': 1488, 'nationality': 1489, 'pours': 1490, 'travels': 1491, 'ambulance': 1492, 'envelope': 1493, 'leveled': 1494, 'dissatisfied': 1495, 'kilo': 1496, 'beg': 1497, 'differ': 1498, 'jacket': 1499, 'subway': 1500, 'condition': 1501, 'knocking': 1502, 'coughing': 1503, 'refund': 1504, 'page': 1505, 'introduce': 1506, 'quiet': 1507, 'obstinate': 1508, 'refused': 1509, 'notice': 1510, 'pulse': 1511, \"food's\": 1512, 'committed': 1513, \"they're\": 1514, 'includes': 1515, 'narrow': 1516, 'lacks': 1517, 'courage': 1518, 'line': 1519, 'b': 1520, 'sale': 1521, \"part's\": 1522, 'arrest': 1523, 'hammered': 1524, 'hesitated': 1525, 'sentenced': 1526, 'quota': 1527, 'bowls': 1528, 'hunger': 1529, 'drove': 1530, 'farther': 1531, 'glimpse': 1532, 'fixed': 1533, 'facebook': 1534, \"barber's\": 1535, 'terribly': 1536, 'smog': 1537, 'causes': 1538, 'snakes': 1539, 'poisonous': 1540, 'enemy': 1541, 'abused': 1542, 'released': 1543, 'families': 1544, 'painted': 1545, 'appeared': 1546, 'appointment': 1547, 'fail': 1548, 'watering': 1549, 'engaged': 1550, 'occasionally': 1551, 'visited': 1552, 'worthless': 1553, 'honesty': 1554, 'policy': 1555, 'actually': 1556, 'usual': 1557, 'decline': 1558, 'john': 1559, 'june': 1560, '4': 1561, '1974': 1562, 'bum': 1563, 'aunt': 1564, 'arms': 1565, 'bride': 1566, 'tastes': 1567, 'bitter': 1568, 'clung': 1569, 'paint': 1570, 'dried': 1571, 'drinkable': 1572, 'monsoon': 1573, 'greek': 1574, 'captain': 1575, 'figured': 1576, 'hurt': 1577, 'soft': 1578, 'drinks': 1579, 'breathe': 1580, 'digging': 1581, 'grave': 1582, 'prefers': 1583, 'repeated': 1584, 'slave': 1585, '21st': 1586, 'cleaned': 1587, 'cycling': 1588, 'crossing': 1589, 'duty': 1590, 'insert': 1591, 'metal': 1592, 'million': 1593, 'sheer': 1594, 'expenses': 1595, 'spa': 1596, 'jeans': 1597, 'shrank': 1598, 'players': 1599, 'also': 1600, 'offered': 1601, 'declined': 1602, 'invitation': 1603, 'dialed': 1604, 'purse': 1605, 'bun': 1606, 'soldiers': 1607, 'silent': 1608, 'socks': 1609, 'houses': 1610, 'burned': 1611, 'smelled': 1612, 'tobacco': 1613, 'teachers': 1614, 'ourselves': 1615, 'south': 1616, 'terminal': 1617, 'tidy': 1618, 'chinese': 1619, 'underlined': 1620, 'lean': 1621, 'football': 1622, 'changed': 1623, 'schools': 1624, 'eats': 1625, 'cafeteria': 1626, 'ear': 1627, 'shirts': 1628, 'washed': 1629, 'wishes': 1630, 'smell': 1631, 'forever': 1632, 'bottles': 1633, \"deer's\": 1634, 'informed': 1635, 'mentioned': 1636, 'dozens': 1637, 'catching': 1638, '11': 1639, 'appears': 1640, 'honest': 1641, 'fate': 1642, 'arguing': 1643, 'collecting': 1644, 'coins': 1645, 'notebook': 1646, 'beating': 1647, 'bush': 1648, 'widely': 1649, 'begun': 1650, 'decay': 1651, 'pole': 1652, 'cliff': 1653, 'vertical': 1654, 'crushed': 1655, 'enemies': 1656, 'sail': 1657, 'bombay': 1658, 'resolved': 1659, \"rodica's\": 1660, 'fifth': 1661, 'island': 1662, 'concealed': 1663, 'accustomed': 1664, \"boy's\": 1665, 'costly': 1666, 'purchases': 1667, 'toward': 1668, 'within': 1669, 'disturbed': 1670, 'bear': 1671, 'sundays': 1672, 'reasonable': 1673, 'basketball': 1674, 'escaped': 1675, 'dreams': 1676, 'seicho': 1677, 'matsumoto': 1678, '1992': 1679, 'withered': 1680, 'governed': 1681, 'finland': 1682, 'consider': 1683, 'intelligent': 1684, 'solve': 1685, 'mile': 1686, 'ours': 1687, '20': 1688, 'slow': 1689, 'dad': 1690, 'shaving': 1691, 'bathroom': 1692, 'cheaper': 1693, 'fighting': 1694, 'settle': 1695, 'attention': 1696, 'walks': 1697, 'behavior': 1698, 'odd': 1699, 'bone': 1700, 'keys': 1701, 'wallet': 1702, 'motioned': 1703, 'folder': 1704, 'peasant': 1705, 'worrying': 1706, 'doable': 1707, 'politics': 1708, 'louder': 1709, 'remove': 1710, 'tries': 1711, 'pack': 1712, 'appearing': 1713, 'warned': 1714, 'string': 1715, 'occurs': 1716, 'frequently': 1717, 'raised': 1718, 'cloud': 1719, 'deer': 1720, 'barking': 1721, 'moves': 1722, 'investigation': 1723, 'hunting': 1724, 'lions': 1725, '200': 1726, 'carried': 1727, 'leather': 1728, 'goods': 1729, 'towels': 1730, '15': 1731, 'church': 1732, 'sixteenth': 1733, 'graduated': 1734, 'forced': 1735, 'peace': 1736, 'dine': 1737, 'owe': 1738, 'apology': 1739, 'owner': 1740, 'solved': 1741, 'exports': 1742, 'wool': 1743, 'bet': 1744, 'stuff': 1745, 'heavily': 1746, 'osaka': 1747, 'properly': 1748, 'perhaps': 1749, 'pounds': 1750, 'gazed': 1751, 'apartment': 1752, 'clock': 1753, 'resigned': 1754, 'discussing': 1755, 'strict': 1756, 'princess': 1757, 'crows': 1758, 'unless': 1759, 'ocean': 1760, 'hurried': 1761, 'boat': 1762, 'baggage': 1763, 'blame': 1764, 'wipe': 1765, 'conform': 1766, 'similar': 1767, 'rope': 1768, 'thrown': 1769, 'plans': 1770, 'detail': 1771, 'pressed': 1772, 'prompt': 1773, 'reply': 1774, 'bullet': 1775, 'weighed': 1776, 'stone': 1777, 'grandfather': 1778, 'housework': 1779, 'task': 1780, 'sin': 1781, 'anywhere': 1782, 'asking': 1783, 'visiting': 1784, 'oh': 1785, 'gas': 1786, 'billion': 1787, 'quite': 1788, 'accidental': 1789, 'pardon': 1790, 'raise': 1791, 'funds': 1792, 'gladly': 1793, 'proposal': 1794, 'younger': 1795, 'remained': 1796, 'stamps': 1797, 'stripped': 1798, 'conference': 1799, 'aware': 1800, 'shooting': 1801, 'several': 1802, 'flat': 1803, 'planted': 1804, 'cave': 1805, 'tie': 1806, 'suit': 1807, 'hotel': 1808, \"beatles'\": 1809, 'chat': 1810, 'squirrel': 1811, 'branches': 1812, 'fallen': 1813, 'coincidentally': 1814, 'elephants': 1815, 'asia': 1816, 'neither': 1817, 'sadness': 1818, 'pigeons': 1819, 'experiment': 1820, 'cash': 1821, 'fool': 1822, 'ability': 1823, 'ignore': 1824, 'neat': 1825, 'piece': 1826, 'prided': 1827, 'accompany': 1828, 'fewer': 1829, 'harm': 1830, 'exemplary': 1831, 'performance': 1832, 'exactly': 1833, 'parallel': 1834, 'besides': 1835, 'worth': 1836, 'shared': 1837, 'profit': 1838, 'complain': 1839, 'elephant': 1840, 'dislike': 1841, 'bern': 1842, 'switzerland': 1843, 'classmates': 1844, 'comfort': 1845, 'faults': 1846, 'reverse': 1847, 'neighborhood': 1848, 'sense': 1849, 'rebellion': 1850, 'faster': 1851, 'rescued': 1852, 'sandwiches': 1853, 'remain': 1854, 'naughty': 1855, 'haste': 1856, 'repair': 1857, 'group': 1858, 'actress': 1859, 'dishes': 1860, 'safe': 1861, 'wings': 1862, 'golf': 1863, 'cleared': 1864, 'ghosts': 1865, 'preparing': 1866, 'planting': 1867, 'profession': 1868, 'cradle': 1869, 'holding': 1870, 'hole': 1871, 'deprived': 1872, 'mystery': 1873, 'remains': 1874, 'unsolved': 1875, 'discussed': 1876, 'clever': 1877, 'newspaper': 1878, 'matters': 1879, 'land': 1880, 'moon': 1881, 'eager': 1882, 'wooden': 1883, 'buildings': 1884, 'opening': 1885, 'loyalty': 1886, 'century': 1887, 'laugh': 1888, 'extend': 1889, 'helps': 1890, 'russian': 1891, 'sentence': 1892, 'seemed': 1893, 'ignorance': 1894, 'stuck': 1895, 'oxford': 1896, 'university': 1897, 'cemetery': 1898, 'jogging': 1899, 'innocent': 1900, 'complains': 1901, 'daytime': 1902, 'ninth': 1903, 'completely': 1904, 'unfounded': 1905, 'approached': 1906, 'equal': 1907, 'hour': 1908, 'kyoto': 1909, 'match': 1910, 'brown': 1911, 'stabbed': 1912, 'agreement': 1913, 'managed': 1914, 'genuine': 1915, 'thick': 1916, 'mist': 1917, 'countryside': 1918, 'quitting': 1919, 'buddhism': 1920, 'beginnings': 1921, 'classical': 1922, 'bones': 1923, 'leg': 1924, 'impatient': 1925, 'gently': 1926, 'shoulder': 1927, 'grows': 1928, 'wiped': 1929, 'sweat': 1930, 'forehead': 1931, 'follows': 1932, 'scale': 1933, 'amazed': 1934, 'scared': 1935, 'anchorage': 1936, 'ache': 1937, 'imagine': 1938, 'earlier': 1939, 'complained': 1940, 'rudeness': 1941, 'prepared': 1942, 'pretending': 1943, 'fifteen': 1944, 'dug': 1945, 'treasure': 1946, \"they'll\": 1947, 'denied': 1948, 'type': 1949, 'attended': 1950, 'exhibited': 1951, 'remorse': 1952, 'crime': 1953, 'failure': 1954, 'board': 1955, 'childhood': 1956, 'mohan': 1957, 'acquainted': 1958, 'sofa': 1959, 'veracity': 1960, 'unicycle': 1961, 'umbrella': 1962, 'phrase': 1963, 'mom': 1964, 'keeps': 1965, 'peacefully': 1966, 'sickness': 1967, 'sound': 1968, 'beast': 1969, 'patrolling': 1970, 'trying': 1971, 'persuade': 1972, 'charged': 1973, 'directions': 1974, 'cloth': 1975, 'silky': 1976, 'driven': 1977, 'electricity': 1978, 'unused': 1979, 'pink': 1980, 'remote': 1981, 'control': 1982, 'embezzled': 1983, 'employees': 1984, 'stories': 1985, 'cooking': 1986, 'fully': 1987, 'innocence': 1988, 'american': 1989, 'literature': 1990, 'obliged': 1991, 'youngster': 1992, 'pair': 1993, 'scissors': 1994, 'debt': 1995, 'drop': 1996, 'consented': 1997, 'suffers': 1998, 'headaches': 1999, 'miracle': 2000, 'save': 2001, 'reminds': 2002, 'pianist': 2003, 'scar': 2004, 'cheek': 2005, 'completed': 2006, 'smartest': 2007, 'proverb': 2008, 'turning': 2009, 'volume': 2010, 'nerve': 2011, 'results': 2012, 'excellent': 2013, 'cure': 2014, 'mood': 2015, 'cows': 2016, 'sacred': 2017, 'hardships': 2018, 'price': 2019, 'wares': 2020, 'poet': 2021, 'destined': 2022, 'adding': 2023, 'salt': 2024, 'concert': 2025, 'pronounce': 2026, 'angels': 2027, 'addicted': 2028, 'chocolate': 2029, 'ice': 2030, 'cream': 2031, \"you'd\": 2032, 'straight': 2033, 'matches': 2034, 'everywhere': 2035, 'forward': 2036, 'named': 2037, 'rainbow': 2038, 'burglar': 2039, 'satisfying': 2040, 'spoiled': 2041, 'prison': 2042, 'calm': 2043, 'film': 2044, 'punished': 2045, 'break': 2046, 'spit': 2047, 'identify': 2048, 'recognized': 2049, 'defeated': 2050, 'opponent': 2051, 'election': 2052, 'expectations': 2053, 'release': 2054, 'prisoners': 2055, 'rely': 2056, 'watched': 2057, 'beginning': 2058, 'materials': 2059, 'acquaintance': 2060, 'woods': 2061, 'strangers': 2062, 'heavy': 2063, 'bakery': 2064, 'cute': 2065, 'lady': 2066, 'granddaughter': 2067, 'calls': 2068, 'drastic': 2069, 'measures': 2070, 'penalty': 2071, 'continent': 2072, 'cured': 2073, 'discovered': 2074, 'brave': 2075, 'act': 2076, 'pickpocketing': 2077, 'breath': 2078, 'operate': 2079, 'electrical': 2080, 'engineer': 2081, 'erase': 2082, 'wondering': 2083, 'definite': 2084, 'carelessness': 2085, 'qutub': 2086, 'minar': 2087, 'fort': 2088, 'farmer': 2089, 'toudaiji': 2090, 'spending': 2091, 'hokkaido': 2092, 'blanket': 2093, 'growing': 2094, 'poorer': 2095, 'obvious': 2096, 'main': 2097, 'object': 2098, 'climate': 2099, 'congratulate': 2100, 'engagement': 2101, 'possession': 2102, 'respect': 2103, 'vocabulary': 2104, 'amend': 2105, 'constitution': 2106, 'holiday': 2107, 'hold': 2108, 'carries': 2109, 'seeds': 2110, 'distances': 2111, 'clouds': 2112, 'furnished': 2113, 'originally': 2114, 'journey': 2115, 'investigated': 2116, 'angles': 2117, 'photocopier': 2118, \"what'll\": 2119, 'requires': 2120, 'madman': 2121, 'accountable': 2122, 'actions': 2123, 'rubber': 2124, 'bounces': 2125, 'elastic': 2126, 'part': 2127, 'british': 2128, 'citizen': 2129, 'becoming': 2130, 'artist': 2131, 'closing': 2132, 'spends': 2133, 'entirely': 2134, 'heap': 2135, 'theater': 2136, 'woke': 2137, 'middle': 2138, 'reforming': 2139, 'male': 2140, 'peacock': 2141, 'colorful': 2142, 'tail': 2143, 'feathers': 2144, 'leading': 2145, 'cursed': 2146, 'finding': 2147, 'waking': 2148, 'opposite': 2149, 'seats': 2150, 'occur': 2151, 'windows': 2152, 'copyrighted': 2153, 'sources': 2154, 'balance': 2155, 'allowances': 2156, 'oppose': 2157, 'whom': 2158, 'pouring': 2159, 'lift': 2160, 'mt': 2161, 'everest': 2162, 'highest': 2163, 'peak': 2164, 'poured': 2165, 'washing': 2166, 'enter': 2167, 'classroom': 2168, 'careless': 2169, 'driving': 2170, 'factory': 2171, 'cease': 2172, 'operations': 2173, 'alarm': 2174, 'throughout': 2175, 'observed': 2176, 'eventually': 2177, 'fined': 2178, '000': 2179, 'illegal': 2180, 'parking': 2181, 'distinguish': 2182, 'granted': 2183, 'wins': 2184, 'receive': 2185, 'gives': 2186, 'innumerable': 2187, 'contact': 2188, 'alphabet': 2189, 'hang': 2190, 'given': 2191, 'advertise': 2192, 'biggest': 2193, 'source': 2194, 'inspiration': 2195, 'hesitate': 2196, 'drug': 2197, 'smuggler': 2198, 'side': 2199, 'fortunate': 2200, 'loving': 2201, 'presents': 2202, 'switch': 2203, 'member': 2204, 'commit': 2205, 'suicide': 2206, 'upon': 2207, 'weekend': 2208, 'waist': 2209, 'britain': 2210, '1947': 2211, 'located': 2212, 'towns': 2213, 'grapes': 2214, 'sour': 2215, 'booted': 2216, 'foreigners': 2217, 'customers': 2218, \"we'd\": 2219, 'independent': 2220, 'softer': 2221, 'report': 2222, 'resting': 2223, 'elected': 2224, 'frankly': 2225, 'reminded': 2226, 'parcel': 2227, 'translate': 2228, 'phrases': 2229, 'ease': 2230, 'searching': 2231, 'exist': 2232, 'immediately': 2233, 'private': 2234, 'acquaintances': 2235, 'reform': 2236, 'laws': 2237, 'above': 2238, 'sixth': 2239, 'floor': 2240, 'superior': 2241, 'popular': 2242, 'exchange': 2243, 'sweater': 2244, 'u': 2245, 's': 2246, 'contracted': 2247, 'malaria': 2248, 'property': 2249, 'slept': 2250, 'thames': 2251, 'distributed': 2252, 'returning': 2253, \"weren't\": 2254, 'swear': 2255, 'decide': 2256, 'freedom': 2257, 'objected': 2258, 'removing': 2259, 'chatting': 2260, 'seventh': 2261, 'noisy': 2262, 'encouraged': 2263, 'fulfill': 2264, 'ambitions': 2265, 'constantly': 2266, 'forgetting': 2267, \"people's\": 2268, 'seldom': 2269, 'theory': 2270, 'comprehend': 2271, 'surprise': 2272, 'emergency': 2273, 'polluted': 2274, 'atmosphere': 2275, 'reached': 2276, 'international': 2277, 'trade': 2278, 'vital': 2279, 'economies': 2280, 'richest': 2281, 'bat': 2282, 'balls': 2283, 'protection': 2284, 'arrives': 2285, 'kindness': 2286, 'dropped': 2287, 'photograph': 2288, 'developed': 2289, 'arrange': 2290, 'motorbike': 2291, 'helmet': 2292, 'dirty': 2293, 'repairing': 2294, 'industry': 2295, 'majority': 2296, 'voted': 2297, 'bill': 2298, 'aids': 2299, 'horrifyingly': 2300, 'parts': 2301, 'shower': 2302, 'drenched': 2303, 'skin': 2304, 'lakes': 2305, 'biwa': 2306, 'beforehand': 2307, 'maybe': 2308, 'unhappy': 2309, 'intend': 2310, 'kill': 2311, 'huge': 2312, 'snake': 2313, 'murdered': 2314, 'entrance': 2315, 'communicate': 2316, 'patience': 2317, 'succeeded': 2318, 'chain': 2319, 'bite': 2320, 'ventured': 2321, 'swallow': 2322, 'tablets': 2323, 'taj': 2324, 'mahal': 2325, 'seven': 2326, 'wonders': 2327, 'voyage': 2328, 'obtained': 2329, 'yield': 2330, 'percent': 2331, 'investment': 2332, 'pollute': 2333, 'conduct': 2334, 'columbus': 2335, 'argued': 2336, 'west': 2337, 'awake': 2338, '1600s': 2339, 'introduced': 2340, 'barely': 2341, 'afford': 2342, 'essential': 2343, 'command': 2344, 'mumbai': 2345, 'indian': 2346, 'maharashtra': 2347, 'fishing': 2348, '100': 2349, 'intends': 2350, 'devote': 2351, 'curing': 2352, 'wear': 2353, 'greatest': 2354, 'economic': 2355, 'powers': 2356, 'fifteenth': 2357, 'mobile': 2358, 'calculation': 2359, 'although': 2360, 'twins': 2361, 'interests': 2362, 'paid': 2363, 'dues': 2364, 'deliberately': 2365, 'ignored': 2366, 'seeing': 2367, 'authorities': 2368, 'hiding': 2369, 'facts': 2370, 'public': 2371, 'opened': 2372, 'smelt': 2373, 'imitation': 2374, 'diamonds': 2375, 'blowing': 2376, 'horn': 2377, 'demanded': 2378, 'copies': 2379, 'sheep': 2380, 'field': 2381, 'higher': 2382, 'wars': 2383, 'fisherman': 2384, 'exaggerated': 2385, 'corruption': 2386, 'sticking': 2387, 'cleaning': 2388, 'prepare': 2389, 'resembles': 2390, 'appearance': 2391, 'character': 2392, 'turns': 2393, 'incident': 2394, 'electric': 2395, 'seeking': 2396, 'staring': 2397, 'ceiling': 2398, 'handful': 2399, 'peanuts': 2400, 'firm': 2401, 'bankruptcy': 2402, 'access': 2403, 'acknowledgement': 2404, 'services': 2405, 'twin': 2406, 'girls': 2407, 'alike': 2408, 'practice': 2409, 'laying': 2410, 'thieves': 2411, 'drawers': 2412, 'search': 2413, \"driver's\": 2414, 'license': 2415, 'eighteen': 2416, 'catholic': 2417, 'nun': 2418, 'george': 2419, 'washington': 2420, 'unites': 2421, 'states': 2422, 'view': 2423, '1951': 2424, 'daily': 2425, 'passengers': 2426, 'nearest': 2427, 'democracy': 2428, 'form': 2429, 'kid': 2430, 'touching': 2431, 'bugs': 2432}\n"
          ]
        }
      ]
    },
    {
      "cell_type": "code",
      "metadata": {
        "id": "UgM11oD9b1kI"
      },
      "source": [
        "#Convert English text to indexes\n",
        "encoder_seq = encoder_t.texts_to_sequences(encoder_text) #Convert sentences to numbers "
      ],
      "execution_count": 22,
      "outputs": []
    },
    {
      "cell_type": "code",
      "metadata": {
        "id": "cN5DneFYp0nc",
        "colab": {
          "base_uri": "https://localhost:8080/"
        },
        "outputId": "8e23802f-8c25-4f6e-d2b4-e19f58687dd2"
      },
      "source": [
        "encoder_text[100:105]"
      ],
      "execution_count": 23,
      "outputs": [
        {
          "output_type": "execute_result",
          "data": {
            "text/plain": [
              "['We promised.',\n",
              " \"What's this?\",\n",
              " 'Are you sick?',\n",
              " 'Bring him in.',\n",
              " 'Come with us.']"
            ]
          },
          "metadata": {},
          "execution_count": 23
        }
      ]
    },
    {
      "cell_type": "code",
      "metadata": {
        "id": "3c9RPZHOm7FR",
        "colab": {
          "base_uri": "https://localhost:8080/"
        },
        "outputId": "c0964031-ccbb-4d64-982b-8100d41a8656"
      },
      "source": [
        "encoder_seq[100:105] #Display some converted sentences"
      ],
      "execution_count": 24,
      "outputs": [
        {
          "output_type": "execute_result",
          "data": {
            "text/plain": [
              "[[24, 707], [187, 14], [20, 4, 404], [405, 29, 9], [49, 35, 81]]"
            ]
          },
          "metadata": {},
          "execution_count": 24
        }
      ]
    },
    {
      "cell_type": "code",
      "metadata": {
        "id": "kyFL1wvpKXnL",
        "colab": {
          "base_uri": "https://localhost:8080/"
        },
        "outputId": "e2ceb886-ab68-40bb-d72c-ee5b5f90fed6"
      },
      "source": [
        "#Maximum length of sentence\n",
        "max_encoder_seq_length = max([len(txt) for txt in encoder_seq])\n",
        "print('Maximum sentence length for Source language: ', max_encoder_seq_length)\n",
        "\n",
        "#Source language Vocablury\n",
        "encoder_vocab_size = len(encoder_t.word_index)\n",
        "print('Source language vocablury size: ', encoder_vocab_size)"
      ],
      "execution_count": 25,
      "outputs": [
        {
          "output_type": "stream",
          "name": "stdout",
          "text": [
            "Maximum sentence length for Source language:  22\n",
            "Source language vocablury size:  2432\n"
          ]
        }
      ]
    },
    {
      "cell_type": "markdown",
      "metadata": {
        "id": "fOmkUnoLKXnN"
      },
      "source": [
        "### Tokenize Target language sentences"
      ]
    },
    {
      "cell_type": "code",
      "metadata": {
        "id": "KLV2B3TXKXnO"
      },
      "source": [
        "#Tokenizer for target language, filters should not <start> and <end>\n",
        "#remove < and > used in Target language sequences\n",
        "\n",
        "decoder_t = tf.keras.preprocessing.text.Tokenizer(filters='!\"#$%&()*+,-./:;=?@[\\\\]^_`{|}~\\t\\n')\n",
        "\n",
        "decoder_t.fit_on_texts(decoder_text) #Fit it on target sentences\n",
        "\n",
        "decoder_seq = decoder_t.texts_to_sequences(decoder_text) #Convert sentences to numbers "
      ],
      "execution_count": 26,
      "outputs": []
    },
    {
      "cell_type": "code",
      "metadata": {
        "id": "BfvJSLT9zLfK",
        "colab": {
          "base_uri": "https://localhost:8080/"
        },
        "outputId": "9e306364-fa4f-46de-fb9e-94c323904977"
      },
      "source": [
        "print(decoder_t.word_index)"
      ],
      "execution_count": 27,
      "outputs": [
        {
          "output_type": "stream",
          "name": "stdout",
          "text": [
            "{'<start>': 1, '<end>': 2, 'है।': 3, 'में': 4, 'नहीं': 5, 'मैं': 6, 'वह': 7, 'से': 8, 'मुझे': 9, 'क्या': 10, 'है': 11, 'के': 12, 'को': 13, 'की': 14, 'हैं।': 15, 'हो': 16, 'बहुत': 17, 'का': 18, 'एक': 19, 'उसने': 20, 'पर': 21, 'हूँ।': 22, 'यह': 23, 'तुम': 24, 'था।': 25, 'लिए': 26, 'कर': 27, 'कि': 28, 'मेरे': 29, 'हैं': 30, 'और': 31, 'इस': 32, 'अपने': 33, 'उसे': 34, 'ने': 35, 'भी': 36, 'टॉम': 37, 'मेरी': 38, 'मैंने': 39, 'रहा': 40, 'करने': 41, 'पास': 42, 'तो': 43, 'अपनी': 44, 'हम': 45, 'गया।': 46, 'ही': 47, 'कल': 48, 'काम': 49, 'था': 50, 'तुम्हें': 51, 'आप': 52, 'उसके': 53, 'करना': 54, 'उसकी': 55, 'कोई': 56, 'तुम्हारे': 57, 'साथ': 58, 'घर': 59, 'बात': 60, 'गया': 61, 'पता': 62, 'उस': 63, 'मेरा': 64, 'सकते': 65, 'थी।': 66, 'समय': 67, 'रही': 68, 'कुछ': 69, 'अभी': 70, 'यहाँ': 71, 'बजे': 72, 'तक': 73, 'हूँ': 74, 'सकता': 75, 'आज': 76, 'लगता': 77, 'किया।': 78, 'चाहिए।': 79, 'तुम्हे': 80, 'अच्छा': 81, 'उसको': 82, 'रहे': 83, 'आ': 84, 'मत': 85, 'कभी': 86, 'पसंद': 87, 'किताब': 88, 'दिया।': 89, 'थे।': 90, 'मुझसे': 91, 'करता': 92, 'करते': 93, 'हुई': 94, '।': 95, 'होता': 96, 'दो': 97, 'किसी': 98, 'मदद': 99, 'वे': 100, 'जाने': 101, 'उससे': 102, 'भारत': 103, 'पैसे': 104, 'अपना': 105, 'हुआ': 106, 'न': 107, 'गाड़ी': 108, 'जो': 109, 'होगा।': 110, 'हो।': 111, 'ज़्यादा': 112, 'आपको': 113, 'हुए': 114, 'उसका': 115, 'कहाँ': 116, 'किया': 117, 'कम': 118, 'पहले': 119, 'जाना': 120, 'होती': 121, 'साल': 122, 'जा': 123, 'चाहता': 124, 'सारे': 125, 'गए': 126, 'बारे': 127, 'तुम्हारी': 128, 'आदमी': 129, 'सब': 130, 'बार': 131, 'अंग्रेज़ी': 132, 'बाहर': 133, 'दिन': 134, 'देर': 135, 'जब': 136, 'गई।': 137, 'रात': 138, 'खाना': 139, 'जाता': 140, 'अगर': 141, 'हमारे': 142, 'वापस': 143, 'फ़ोन': 144, 'वहाँ': 145, 'दिया': 146, 'जवाब': 147, 'हमने': 148, 'बड़ा': 149, 'अब': 150, 'जल्दी': 151, 'बंद': 152, 'ये': 153, 'तुमने': 154, 'छोड़': 155, 'हमेशा': 156, 'करो।': 157, 'तुमसे': 158, 'कैसे': 159, 'सकता।': 160, 'कितने': 161, 'दी।': 162, 'क्यों': 163, 'तरह': 164, 'चला': 165, 'तीन': 166, 'गए।': 167, 'आता': 168, 'करती': 169, 'थे': 170, 'लोग': 171, 'हर': 172, 'हमे': 173, 'दस': 174, 'देखा': 175, 'उन्होंने': 176, 'स्कूल': 177, 'पापा': 178, 'बारिश': 179, 'लोगों': 180, 'सबसे': 181, 'ठीक': 182, 'खुश': 183, 'चल': 184, 'डॉक्टर': 185, 'खतम': 186, 'कमरे': 187, 'मौसम': 188, 'देखा।': 189, 'मुश्किल': 190, 'माँ': 191, 'नौकरी': 192, 'बच्चे': 193, 'कहा': 194, 'अच्छी': 195, 'चाहते': 196, 'दो।': 197, 'कोशिश': 198, 'कुत्ता': 199, 'सभी': 200, 'शुरू': 201, 'जल्द': 202, 'हमारी': 203, 'पानी': 204, 'पिता': 205, 'सारी': 206, 'ट्रेन': 207, 'होने': 208, 'चिट्ठी': 209, 'अच्छे': 210, 'गई': 211, 'थी': 212, 'दोस्त': 213, 'रहता': 214, 'भाई': 215, 'कब': 216, 'लिया।': 217, 'थोड़ा': 218, 'थोड़ी': 219, 'चाहिए': 220, 'ले': 221, 'आपकी': 222, 'यकीन': 223, 'वाला': 224, 'फिरसे': 225, 'बस': 226, 'तुम्हारा': 227, 'टीवी': 228, 'बाद': 229, 'लिया': 230, 'मन': 231, 'लड़की': 232, 'ना': 233, 'सच': 234, 'करनी': 235, 'देना': 236, 'बिना': 237, 'या': 238, 'सुबह': 239, 'चुका': 240, 'थक': 241, 'दोनो': 242, 'साफ़': 243, 'जन्मदिन': 244, 'ज़रूरत': 245, 'पढ़': 246, 'रोज़': 247, 'नहीं।': 248, 'जापान': 249, 'हमें': 250, 'जानता': 251, 'बड़े': 252, 'ऐसा': 253, 'जाएगा।': 254, 'दे': 255, 'पाँच': 256, 'जाती': 257, 'देख': 258, 'वाले': 259, 'छः': 260, 'इन': 261, 'करी।': 262, 'लगा': 263, 'वजह': 264, 'माफ़': 265, 'प्यार': 266, 'आने': 267, 'शहर': 268, 'आवाज़': 269, 'नाम': 270, 'मिलने': 271, 'पीछे': 272, 'पूरी': 273, 'किताबें': 274, 'दरवाज़े': 275, 'इतना': 276, 'चाय': 277, 'आदत': 278, 'कितनी': 279, 'खाने': 280, 'बच्चों': 281, 'सही': 282, 'कौन': 283, 'समझ': 284, 'सोच': 285, 'मुझपर': 286, 'चीज़': 287, 'इनसान': 288, 'विदेश': 289, 'हाथ': 290, 'रहते': 291, 'इंतेज़ार': 292, 'पिताजी': 293, 'हुआ।': 294, 'शादी': 295, 'टीचर': 296, 'कपड़े': 297, 'हफ़्ते': 298, 'नदी': 299, 'दूसरे': 300, 'मेज़': 301, 'आमतौर': 302, 'सिगरेट': 303, 'आपका': 304, 'लगी': 305, 'कैसा': 306, 'ग़लत': 307, 'कृपया': 308, 'उम्र': 309, 'तैयार': 310, 'लड़के': 311, 'इस्तेमाल': 312, 'चलाना': 313, 'खो': 314, 'मिलना': 315, 'होगा': 316, 'बहन': 317, 'दोपहर': 318, 'आसान': 319, 'मिला।': 320, 'उनकी': 321, 'काफ़ी': 322, 'कमरा': 323, 'आपके': 324, 'होते': 325, 'अकेले': 326, 'धीरे': 327, 'फ़ायदा': 328, 'उनके': 329, 'महीने': 330, 'अंदर': 331, 'भूल': 332, 'आग': 333, 'आपसे': 334, 'आया।': 335, 'लग': 336, 'हुई।': 337, 'करो': 338, 'जानते': 339, 'बताया': 340, 'जैसा': 341, 'कितना': 342, 'गर्मी': 343, 'भरोसा': 344, 'सेव': 345, 'घड़ी': 346, 'जूते': 347, 'पिछले': 348, 'जहाँ': 349, 'स्टेशन': 350, 'परेशान': 351, 'सवाल': 352, 'पीना': 353, 'खबर': 354, 'मर': 355, 'आठ': 356, 'दिनों': 357, 'देने': 358, 'क्योंकि': 359, 'कहना': 360, 'दुनिया': 361, 'अगले': 362, 'गाँव': 363, 'जाओ।': 364, 'चलो': 365, 'कीजिए।': 366, 'कुत्ते': 367, 'आया': 368, 'पैसों': 369, 'आराम': 370, 'पढ़ाई': 371, 'मज़ाक': 372, 'याद': 373, 'खुशी': 374, 'बन': 375, 'विश्वास': 376, 'पड़ी।': 377, 'देखना': 378, 'आए': 379, 'जाकर': 380, 'पुलिस': 381, 'होंगे।': 382, 'पार्टी': 383, 'बाल': 384, 'कॉफ़ी': 385, 'लगभग': 386, 'मिल': 387, 'सकती।': 388, 'उन्हें': 389, 'दवाई': 390, 'सो': 391, 'समस्या': 392, 'मम्मी': 393, 'साईकल': 394, 'फ़र्क': 395, 'लगती': 396, 'अचानक': 397, 'सलाह': 398, 'जैसे': 399, 'होगी।': 400, 'बता': 401, 'निकल': 402, 'वैसा': 403, 'तैरना': 404, 'करूँगा।': 405, 'वादा': 406, 'बीमार': 407, 'मौत': 408, 'देखने': 409, 'दरवाज़ा': 410, 'संगीत': 411, 'फिर': 412, 'कहानी': 413, 'शायद': 414, 'करी': 415, 'मुलाकात': 416, 'ग़लती': 417, 'चालू': 418, 'ली।': 419, 'उन': 420, 'जितना': 421, 'लम्बा': 422, 'कीजिएगा': 423, 'लेना': 424, 'पेड़': 425, 'जान': 426, 'ख़याल': 427, 'हवा': 428, 'सकते।': 429, 'मैरी': 430, 'पड़ेगी।': 431, 'रखना': 432, 'ऐसी': 433, 'तेज़': 434, 'अजीब': 435, 'अक्सर': 436, 'राजा': 437, 'डर': 438, 'छोटी': 439, 'पुराने': 440, 'ढूँढ': 441, 'सैर': 442, 'चाह्ता': 443, 'तस्वीर': 444, 'नई': 445, 'सका।': 446, 'बीच': 447, 'मानो': 448, 'दूर': 449, 'लिखी': 450, 'बर्दाश्त': 451, 'अलग': 452, 'भूख': 453, 'तू': 454, 'इसे': 455, 'हमारा': 456, 'बिस्तर': 457, 'पैर': 458, 'पतंग': 459, 'ध्यान': 460, 'शोर': 461, 'खराब': 462, 'दर्द': 463, 'विद्यार्थी': 464, 'चोरी': 465, 'आँखें': 466, 'आएगा।': 467, 'सकती': 468, 'पैदा': 469, 'परिवार': 470, 'चुके': 471, 'आती': 472, 'करके': 473, 'बुरी': 474, 'जाए।': 475, 'आसमान': 476, 'डब्बे': 477, 'लगाकर': 478, 'बुखार': 479, 'काट': 480, 'मिला': 481, 'रविवार': 482, 'बज': 483, 'दीजिए।': 484, 'रंग': 485, 'अफ़वाह': 486, 'नाप': 487, 'ज़िन्दगी': 488, 'जानवर': 489, 'भाग': 490, 'खाली': 491, 'जाऊँगा।': 492, 'सौ': 493, 'बोल': 494, 'आसानी': 495, 'खेलना': 496, 'काश': 497, 'चीनी': 498, 'टेनिस': 499, 'दोनों': 500, 'होमवर्क': 501, 'जंगल': 502, 'अध्यापक': 503, 'रहने': 504, 'फ़िल्म': 505, 'पीने': 506, 'किस': 507, 'जाते': 508, 'खिड़की': 509, 'दुर्घटना': 510, 'सफ़र': 511, 'पूरे': 512, 'इसके': 513, 'बजाय': 514, 'सड़क': 515, 'बड़ी': 516, 'जाएगी।': 517, 'भाषा': 518, 'राजधानी': 519, 'रहना': 520, 'इतने': 521, 'ज़िम्मेदार': 522, 'पढ़ने': 523, 'लंदन': 524, 'अंतर': 525, 'बच्चा': 526, 'मशीन': 527, 'खड़ा': 528, 'लगते': 529, 'आओ।': 530, 'लो।': 531, 'फूल': 532, 'मछलियाँ': 533, 'खरीदना': 534, 'आऊँगा।': 535, 'गरम': 536, 'ज़रूरी': 537, 'आई': 538, 'सुनाई': 539, 'गिटार': 540, 'बिजली': 541, 'बूढ़ा': 542, 'बारी': 543, 'रहें': 544, 'सच्चाई': 545, 'जंग': 546, 'रहती': 547, 'किसने': 548, 'उम्मीद': 549, 'वही': 550, 'सा': 551, 'i': 552, 'छोटा': 553, 'सुंदर': 554, 'चोर': 555, 'कौनसा': 556, 'सवालों': 557, 'दिखने': 558, 'अमीर': 559, 'बेसबॉल': 560, 'आओगे': 561, 'पढ़ना': 562, 'टोक्यो': 563, 'बना': 564, 'कामयाब': 565, 'सहमत': 566, 'खा': 567, 'पीठ': 568, 'फ़ैसला': 569, 'निराश': 570, 'चुकी': 571, 'अफ़सर': 572, 'गरीब': 573, 'हमको': 574, 'विज्ञान': 575, 'आगे': 576, 'लम्बी': 577, 'कहीं': 578, 'झील': 579, 'पूरा': 580, 'चहिए।': 581, 'औरत': 582, 'साढ़े': 583, 'बजाना': 584, 'वाली': 585, 'ग़लतियाँ': 586, 'पहुँच': 587, 'देश': 588, 'उसपर': 589, 'इससे': 590, 'सामने': 591, 'खड़े': 592, 'लगाया।': 593, 'जी': 594, 'बीमारी': 595, 'मिनट': 596, 'कीमत': 597, 'आना': 598, 'सीखना': 599, 'दी': 600, 'डॉलर': 601, 'उठा': 602, 'दिलचस्पी': 603, 'रूप': 604, 'क्लास': 605, 'दिलचस्प': 606, 'रुक': 607, 'हिसाब': 608, 'आखिरकार': 609, 'बोली': 610, 'बोलना': 611, 'खिलाड़ी': 612, 'नम्बर': 613, 'मना': 614, 'असली': 615, 'आते': 616, 'चाहती': 617, 'सुनकर': 618, 'शौक': 619, 'जहाज़': 620, 'करोगे': 621, 'हूं।': 622, 'विषय': 623, 'जितनी': 624, 'चीन': 625, 'स्वास्थ्य': 626, 'ऐसे': 627, 'कई': 628, 'पहाड़': 629, 'लिख': 630, 'पाया।': 631, 'रह': 632, 'देखभाल': 633, 'छोटे': 634, 'पा': 635, 'पहचान': 636, 'तब': 637, 'मज़े': 638, 'पेट': 639, 'भर': 640, 'चलें': 641, 'मत।': 642, 'ली': 643, 'कैसी': 644, 'पता।': 645, 'बरफ़': 646, 'गिर': 647, 'मुफ़्त': 648, 'नीचे': 649, 'उड़': 650, 'लड़का': 651, 'कमी': 652, 'इतिहास': 653, 'रहूँगा।': 654, 'भगवान': 655, 'करता।': 656, 'बस्ता': 657, 'पहनी': 658, 'बक': 659, 'ऊपर': 660, 'आस': 661, 'पड़ोस': 662, 'अप्रैल': 663, 'चाबी': 664, 'लगा।': 665, 'बैंक': 666, 'मिलेंगे।': 667, 'चली': 668, 'महसूस': 669, 'खरीदी।': 670, 'पढ़ा': 671, 'जीत': 672, 'चाहूँगा।': 673, 'रही।': 674, 'पड़ेगा।': 675, 'चिंता': 676, 'गुस्सा': 677, 'उधार': 678, 'की।': 679, 'होना': 680, 'योजना': 681, 'खुला': 682, 'ग्यारह': 683, 'लाल': 684, 'ड्रेस': 685, 'ओर': 686, 'राज़': 687, 'अंडे': 688, 'प्रस्ताव': 689, 'स्वीकार': 690, 'सारा': 691, 'आता।': 692, 'नफ़रत': 693, 'खेल': 694, 'आएगा': 695, 'भला': 696, 'गाना': 697, 'डाला।': 698, 'सात': 699, 'खुद': 700, 'नौ': 701, 'बत्ती': 702, 'दूध': 703, 'मेहनत': 704, 'तरफ़': 705, 'शिकायत': 706, 'सके': 707, 'दूँगा।': 708, 'आई।': 709, 'डब्बा': 710, 'चार': 711, 'खोल': 712, 'उपन्यास': 713, 'कप': 714, 'सोने': 715, 'सेहत': 716, 'पत्नी': 717, 'कहा।': 718, 'लेने': 719, 'इनकार': 720, 'मुझ': 721, 'कठिन': 722, 'बुराई': 723, 'अटैची': 724, 'रो': 725, 'पसंदीता': 726, 'बदलने': 727, 'भूलना।': 728, 'छोड़ने': 729, 'राय': 730, 'मील': 731, 'बिलकुल': 732, 'मे': 733, 'शब्द': 734, 'घंटे': 735, 'कनाडा': 736, 'यूरोप': 737, 'नियम': 738, 'पार': 739, 'सपना': 740, 'लिए।': 741, 'नगर': 742, 'होतीं': 743, 'दुकान': 744, 'हमसे': 745, 'टिकटें': 746, 'अमेरिका': 747, 'अफ़्रीका': 748, 'बेटे': 749, 'पकड़': 750, 'हद': 751, 'इसलिए': 752, 'रवाना': 753, 'इरादा': 754, 'जाऊँगी।': 755, 'लिखा': 756, 'बेहतर': 757, 'बहनें': 758, 'आजकल': 759, 'बेचैन': 760, 'ढूँढने': 761, 'विमान': 762, 'कॉलेज': 763, 'विश्व': 764, 'सुन': 765, 'पहली': 766, 'सामान': 767, 'केवल': 768, 'पैरिस': 769, 'ख़रीद': 770, 'दोस्तों': 771, 'लायक': 772, 'मुताबिक': 773, 'जिससे': 774, 'क्रिकेट': 775, 'शौकिया': 776, 'कर्मचारियों': 777, 'बनाने': 778, 'ब्रिज': 779, 'अम्रीका': 780, 'देते': 781, 'सरकार': 782, 'परीक्षा': 783, 'पड़ता': 784, 'वाह': 785, 'धन्यवाद': 786, 'जाओ': 787, 'हार': 788, 'करना।': 789, 'पंछी': 790, 'लेकिन': 791, 'अकेला': 792, 'बोर': 793, 'ठंड': 794, 'गाते': 795, 'बैठिए।': 796, 'मुस्कुराया।': 797, 'नया': 798, 'केक': 799, 'झूठ': 800, 'मुबारक': 801, 'समझता': 802, 'मान': 803, 'चीजों': 804, 'व्यस्थ': 805, 'बिल्ली': 806, 'सकतीं': 807, 'नक्शा': 808, 'गोली': 809, 'नए': 810, 'हों': 811, 'धोओ।': 812, 'पागल': 813, 'टोपी': 814, 'पति': 815, 'उल्टी': 816, 'नसीब': 817, 'काला': 818, 'सिखा': 819, 'चावल': 820, 'मूँह': 821, 'लम्बे': 822, 'कौनसी': 823, 'नींद': 824, 'नीली': 825, 'शादीशुदा': 826, 'बताओ।': 827, 'रेडियो': 828, 'औरतों': 829, 'वो': 830, 'महंगा': 831, 'महंगी': 832, 'रेलगाड़ी': 833, 'कौआ': 834, 'तोड़': 835, 'बनाया': 836, 'कह': 837, 'पुरानी': 838, 'बताने': 839, 'शराब': 840, 'लिखना': 841, 'कमीज़': 842, 'टैक्स': 843, 'पेनसिल': 844, 'जॉगिंग': 845, 'समुंदर': 846, 'प्रतीक्षा': 847, 'ज़ुकाम': 848, 'बारह': 849, 'मछली': 850, 'पहने': 851, 'भूत': 852, 'लगतीं': 853, 'तेज़ी': 854, 'रख': 855, 'व्यापार': 856, 'थोड़े': 857, 'घोड़े': 858, 'उनका': 859, 'छलाँग': 860, 'इसको': 861, 'जाऊं': 862, 'गेंद': 863, 'बताओ': 864, 'छूट': 865, 'लगाई।': 866, 'उनको': 867, 'जैसी': 868, 'गलत': 869, 'मजबूर': 870, 'बोलो।': 871, 'लेता': 872, 'खटखटाया।': 873, 'चुरा': 874, 'उठता': 875, 'ठंडा': 876, 'काले': 877, 'पियानो': 878, 'तेल': 879, 'उतना': 880, 'वैसे': 881, 'येन': 882, 'निर्णय': 883, 'फ़ुटबॉल': 884, 'इलज़ाम': 885, 'गिलास': 886, 'बजने': 887, 'कुरसी': 888, 'लकड़ी': 889, 'देखते': 890, 'आपने': 891, 'कैंसर': 892, 'संतुष्ट': 893, 'मुलाक़ात': 894, 'टैक्सी': 895, 'हाँ': 896, 'किनारे': 897, 'सज़ा': 898, 'गाड़ियाँ': 899, 'दिखाई': 900, 'होती।': 901, 'मुसीबत': 902, 'देखकर': 903, 'छाया': 904, 'धन्यवाद।': 905, 'बनी': 906, 'रोने': 907, 'पड़ा।': 908, 'बीस': 909, 'रक्षा': 910, 'करवाना': 911, 'जगह': 912, 'फूलों': 913, 'पड़ता।': 914, 'जरूरत': 915, 'समान': 916, 'सर': 917, 'चोट': 918, 'दोगे': 919, 'अगली': 920, 'फ़्रानसीसी': 921, 'बर्ताव': 922, 'खूबसूरत': 923, 'बर्बादी': 924, 'धीमी': 925, 'बचा': 926, 'खेलने': 927, 'चाहेंगे': 928, 'दफ़्तर': 929, 'सुथरा': 930, 'भाषण': 931, 'नतीजे': 932, 'खेत': 933, 'नानी': 934, 'सीधे': 935, 'इटली': 936, 'अलावा': 937, 'जनसंख्या': 938, 'ऑस्ट्रेलिया': 939, 'छोड़ना': 940, 'सी': 941, 'चीज़ें': 942, 'मक्खन': 943, 'उठाया।': 944, 'सोमवार': 945, 'घंटों': 946, 'जाता।': 947, 'सपने': 948, 'डाक': 949, 'मानते': 950, 'उनसे': 951, 'सोते': 952, 'पत्र': 953, 'खड़ी': 954, 'तुमको': 955, 'कविता': 956, 'निकालते': 957, 'व्यक्ति': 958, 'भोजन': 959, 'छत': 960, 'रहा।': 961, 'बातचीत': 962, 'कब्रिस्तान': 963, 'बाज़ार': 964, 'स्टॉप': 965, 'देता': 966, 'जल्दबाज़ी': 967, 'अखबार': 968, 'पालन': 969, 'उत्तर': 970, 'शर्म': 971, 'पचास': 972, 'तस्वीरें': 973, 'अस्पताल': 974, 'कम्प्यूटर': 975, 'इतनी': 976, 'संदेश': 977, 'दिल्ली': 978, 'चलती': 979, 'खाते': 980, 'उठते': 981, 'वसीयत': 982, 'जानना': 983, 'हैरान': 984, 'जेब': 985, 'पकड़ा': 986, 'मौके': 987, 'बुलाया': 988, 'कम्पनी': 989, 'सुनने': 990, 'जाया': 991, 'पछतावा': 992, 'चाहे': 993, 'जाए': 994, 'देगी।': 995, 'कहने': 996, 'पाया': 997, 'राज़ी': 998, 'बत्तियाँ': 999, 'मिली।': 1000, 'इलाज': 1001, 'पहचानता': 1002, 'म्युज़ियम': 1003, 'इंग्लैंड': 1004, 'थीं।': 1005, 'जिसे': 1006, 'दिख': 1007, 'रास्ते': 1008, 'पुस्तकालय': 1009, 'माता': 1010, 'सोचता': 1011, 'टेरेसा': 1012, 'समझे': 1013, 'स्वागत': 1014, 'मौज': 1015, 'बेहोश': 1016, 'शाबाश': 1017, 'किसको': 1018, 'किसे': 1019, 'मालूम': 1020, 'पीछा': 1021, 'तैर': 1022, 'ताकतवर': 1023, 'गणित': 1024, 'बोला।': 1025, 'जाना।': 1026, 'खोलो।': 1027, 'खोलिए।': 1028, 'आईए।': 1029, 'दोबारा': 1030, 'दाढ़ी': 1031, 'चुकीं': 1032, 'करेंगे।': 1033, 'आना।': 1034, 'इंतज़ार': 1035, 'भागते': 1036, 'अरबी': 1037, 'बदतमीज़': 1038, 'दौड़ने': 1039, 'कैफ़े': 1040, 'आसपास': 1041, 'हसीना': 1042, 'गलती': 1043, 'चिड़ियाँ': 1044, 'देखें।': 1045, 'चढ़': 1046, 'आओ': 1047, 'बैठो।': 1048, 'बोलता': 1049, 'लो': 1050, 'जानता।': 1051, 'बूढ़ी': 1052, 'मै': 1053, 'ज़िंदगी': 1054, 'मिलकर': 1055, 'हस्ताक्षर': 1056, 'धोखा': 1057, 'चिड़िया': 1058, 'किसकी': 1059, 'पक्षी': 1060, 'घोसले': 1061, 'रहेंगे।': 1062, 'सिरदर्द': 1063, 'छोड़ो।': 1064, 'पत्थर': 1065, 'गहरी': 1066, 'साँस': 1067, 'रोया।': 1068, 'मानता': 1069, 'हूं': 1070, 'सुनी।': 1071, 'प्यासा': 1072, 'रातभर': 1073, 'दिखता': 1074, 'सच्ची': 1075, 'रहे।': 1076, 'गुलदान': 1077, 'कलम': 1078, 'जिमखाने': 1079, 'हालत': 1080, 'स्वाद': 1081, 'समझा': 1082, 'पूछना': 1083, 'टिकट': 1084, 'खींची।': 1085, 'हरे': 1086, 'हवाई': 1087, 'रहतीं': 1088, 'नाराज़': 1089, 'दीं।': 1090, 'बहाना': 1091, 'तुमपर': 1092, 'हल्का': 1093, 'लिपटा': 1094, 'रेशम': 1095, 'टूटी': 1096, 'पी': 1097, 'जाओगे': 1098, 'साबित': 1099, 'जोड़ें।': 1100, 'मोटी': 1101, 'घंटी': 1102, 'पैसा': 1103, 'निशाना': 1104, 'बरस': 1105, 'आभारी': 1106, 'बॉस्टन': 1107, 'दौड़': 1108, 'बेटी': 1109, 'समझो।': 1110, 'सूज': 1111, 'डालना': 1112, 'रखदो।': 1113, 'घुसाना': 1114, 'घुसा': 1115, 'मांगी।': 1116, 'ज़िद्दी': 1117, 'बैठ': 1118, 'चलना': 1119, 'रोमांचक': 1120, 'लिफ़्ट': 1121, 'आएँगे': 1122, 'समझिए।': 1123, 'माँगो।': 1124, 'भौतिक': 1125, 'दिलाया।': 1126, 'सोकर': 1127, 'अनुपस्थित': 1128, 'पहनती': 1129, 'नर्म': 1130, 'दिल': 1131, 'मुड़कर': 1132, 'चाकू': 1133, 'करती।': 1134, 'शेर': 1135, 'पालतू': 1136, 'छूने': 1137, 'जाएँगे': 1138, 'याददाश्त': 1139, 'कुरसियाँ': 1140, 'मंगलवार': 1141, 'पासपोर्ट': 1142, 'पार्क': 1143, 'लगाया': 1144, 'चाहूँगी।': 1145, 'दर्जन': 1146, 'सफ़ेद': 1147, 'हुएँ': 1148, 'लागु': 1149, 'कर्ज़': 1150, 'सुन्दर': 1151, 'मोड़ो।': 1152, 'जरूरी': 1153, 'छुट्टी': 1154, 'बगीचा': 1155, 'तीस': 1156, 'शौकीन': 1157, 'बंदूक': 1158, 'कत्ल': 1159, 'होता।': 1160, 'यहां': 1161, 'किलो': 1162, 'समझाउँगा।': 1163, 'लोहा': 1164, 'बाप': 1165, 'टीम': 1166, 'रास्ता': 1167, 'नही': 1168, 'आयात': 1169, 'कौनसे': 1170, 'पढ़ते': 1171, 'गिरफ़्तार': 1172, 'परियों': 1173, 'पड़ोसियों': 1174, 'डरता': 1175, 'जल': 1176, 'आँखों': 1177, 'खरीदी': 1178, 'खाता': 1179, 'हाल': 1180, 'बेच': 1181, 'मैनेजर': 1182, 'चाह्ती': 1183, 'मरने': 1184, 'शाम': 1185, 'तौलिया': 1186, 'चुकें': 1187, 'मिलते': 1188, 'पूछ': 1189, 'बीवी': 1190, 'दिखाई।': 1191, 'सांप': 1192, 'तोहफ़े': 1193, 'पाएगा।': 1194, 'क़ैदी': 1195, 'रिहा': 1196, 'कारण': 1197, 'सरल': 1198, 'स्वतंत्रता': 1199, 'दुःखी': 1200, 'तालाब': 1201, 'होगी': 1202, 'तुरंत': 1203, 'कोयले': 1204, 'आकर': 1205, 'व्यक्तिगत': 1206, 'माँगे।': 1207, 'सगाई': 1208, 'बेकार': 1209, 'मुकाबले': 1210, 'खरीदीं।': 1211, 'मर्ज़ी': 1212, 'आवश्यकता': 1213, 'खरीदने': 1214, 'ज़िन्दा': 1215, 'मज़ेदार': 1216, 'मुसलाधार': 1217, 'वर्षा': 1218, 'मशहूर': 1219, 'हँस': 1220, 'कीचड़': 1221, 'रखा': 1222, 'हँसे।': 1223, 'मनाया।': 1224, 'अभिमान': 1225, 'सुनते': 1226, 'हित': 1227, 'शोक': 1228, 'अच्छाई': 1229, 'फ़्रान्स': 1230, 'पश्चिमी': 1231, 'समझाया।': 1232, 'खेलता': 1233, 'जर्मन': 1234, 'अगस्त': 1235, 'चलने': 1236, 'मेक्सिको': 1237, 'स्पैनिश': 1238, 'अरब': 1239, 'सरासर': 1240, 'हिला': 1241, 'देखो': 1242, 'धूम्रपान': 1243, 'खतरे': 1244, 'शांति': 1245, 'रहो।': 1246, 'हीरा': 1247, 'जापानी': 1248, 'दाँतों': 1249, 'शब्दों': 1250, 'दीवार': 1251, 'गुलाब': 1252, 'बनने': 1253, 'बदबू': 1254, 'करतें': 1255, 'हिरण': 1256, 'कामयाबी': 1257, 'बताया।': 1258, 'सुरक्षा': 1259, 'बहस': 1260, 'रोम': 1261, 'बंदर': 1262, 'आबादी': 1263, 'बढ़': 1264, 'उतर': 1265, 'घटना': 1266, 'चहिए': 1267, 'बैठा': 1268, 'करा': 1269, 'ब्रेड': 1270, 'तो।': 1271, 'विचार': 1272, 'नहीँ': 1273, 'नहाता': 1274, 'फँस': 1275, 'चूर': 1276, 'भविष्य': 1277, 'समझदार': 1278, 'चौंक': 1279, 'होनी': 1280, 'पूछने': 1281, 'कारोबार': 1282, 'पड़': 1283, 'खतरनाक': 1284, 'मतलब': 1285, 'किसान': 1286, 'उतार': 1287, 'लेट': 1288, 'शानदार': 1289, 'धूल': 1290, 'सूरज': 1291, 'जारी': 1292, 'निकले।': 1293, 'नज़र': 1294, 'करेगी': 1295, 'रस': 1296, 'लेखक': 1297, 'माँगनी': 1298, 'लेनी': 1299, 'सम्मान': 1300, 'ख़त्म': 1301, 'ताज़ी': 1302, 'सब्ज़ियाँ': 1303, 'बरी': 1304, 'लगाए': 1305, 'आशा': 1306, 'भारी': 1307, 'मुझको': 1308, 'बुरे': 1309, 'राष्ट्रपति': 1310, 'निकली।': 1311, 'हल्के': 1312, 'डूबते': 1313, 'ऊँचा': 1314, 'नियमों': 1315, 'चलतें': 1316, 'कंजूस': 1317, 'मारा': 1318, 'होकर': 1319, 'आलसी': 1320, 'कॉल': 1321, 'बुरा': 1322, 'बॉस': 1323, 'करवाया।': 1324, 'मंदिरों': 1325, 'बोलते': 1326, 'कष्ट': 1327, 'डाँट': 1328, 'जचती': 1329, 'तरीके': 1330, 'होगे': 1331, 'गप': 1332, 'देनी': 1333, 'उपयोग': 1334, 'कार्यक्रम': 1335, 'हाथी': 1336, 'दुख': 1337, 'छिपा': 1338, 'भाषाएँ': 1339, 'अक्खड़पन': 1340, 'बनना': 1341, 'तैरकर': 1342, 'नाज़': 1343, 'उड़ान': 1344, 'हुईं': 1345, 'सीखने': 1346, 'गति': 1347, 'नाश्ता': 1348, 'फ़िल्में': 1349, 'तोड़ी': 1350, 'पक्का': 1351, 'जीना': 1352, 'गलतियों': 1353, 'खाया।': 1354, 'जायदाद': 1355, 'लगता।': 1356, 'बयान': 1357, 'शक': 1358, 'सीखी': 1359, 'आर्ट': 1360, 'पंख': 1361, 'निर्भर': 1362, 'तैयारी': 1363, 'लेना।': 1364, 'पढ़ाना': 1365, 'तूफ़ान': 1366, 'नष्ट': 1367, 'प्रश्न': 1368, 'उन्हे': 1369, 'जानने': 1370, 'होंगीं': 1371, 'सालों': 1372, 'शतक': 1373, 'बच्चें': 1374, 'टॉयलेट': 1375, 'वाक्य': 1376, 'सोचा': 1377, 'जाओगे।': 1378, 'दादी': 1379, 'शिक़ायत': 1380, 'बेटा': 1381, 'सितारे': 1382, 'सलह': 1383, 'क़ानून': 1384, 'पत्तियों': 1385, 'पाए।': 1386, 'रखा।': 1387, 'मिलेगा।': 1388, 'मौका': 1389, 'पड़ी': 1390, 'दिमाग़': 1391, 'मीटिंग': 1392, 'उलटी': 1393, 'नकल': 1394, 'शिक्षा': 1395, 'महीनों': 1396, 'सीख': 1397, 'शब्दकोश': 1398, 'बसीं।': 1399, 'पाल': 1400, 'पोस': 1401, 'हिचकिचाहट': 1402, 'आईएगा।': 1403, 'हफ़्तों': 1404, 'गुड़िया': 1405, 'बोलने': 1406, 'रहीं': 1407, 'एकदम': 1408, 'पर्यावरण': 1409, 'आम': 1410, 'कहावत': 1411, 'क्लब': 1412, 'न्योता': 1413, 'डाल': 1414, 'चिट्ठियाँ': 1415, 'वीडियो': 1416, 'पहलू': 1417, 'मिलती': 1418, 'हिरासत': 1419, 'समझने': 1420, 'भूकम्प': 1421, 'उतारे': 1422, 'लगादी।': 1423, 'अंत': 1424, 'भूलूँगा।': 1425, 'ख़रीदो': 1426, 'देशों': 1427, 'एसी': 1428, 'उठाने': 1429, 'ही।': 1430, 'कीमती': 1431, 'संपत्ति': 1432, 'विदेशी': 1433, 'चाह्ते': 1434, 'जाएगा': 1435, 'बातें': 1436, 'ऐक्सीडेंट': 1437, 'लापरवाही': 1438, 'चुराने': 1439, 'निराशा': 1440, 'इंग्लैड': 1441, 'रोकने': 1442, 'उठना': 1443, 'नामुमकिन': 1444, 'खर्च': 1445, 'बदल': 1446, 'टेस्ट': 1447, 'खिलाफ़': 1448, 'करूँगी।': 1449, 'पर्वत': 1450, 'छोड़े': 1451, 'खोलते': 1452, 'ग़लतफ़ैमी': 1453, 'सम्पर्क': 1454, 'हस्पताल': 1455, 'पहुँचा': 1456, 'जिसके': 1457, 'उनपर': 1458, 'हज़ारों': 1459, 'आज़ादी': 1460, 'हड़ताल': 1461, 'परसों': 1462, 'भेजा': 1463, 'सत्रह': 1464, 'दुखी': 1465, 'खयाल': 1466, 'मिले': 1467, 'स्ट्रॉबेरी': 1468, 'विष्व': 1469, 'शहरों': 1470, 'जाएं।': 1471, 'हिफ़ाज़त': 1472, 'उतारने': 1473, 'मतलबी': 1474, 'बढ़ाने': 1475, 'समिति': 1476, 'तर': 1477, 'तहकीकात': 1478, 'राज्य': 1479, 'मातापिता': 1480, 'बाकी': 1481, 'हालांकि': 1482, 'जिसपर': 1483, 'जुड़वा': 1484, 'उनमें': 1485, 'लगेंगे।': 1486, 'पहचानते': 1487, 'मदर': 1488, 'कलकत्ता': 1489, 'झुको': 1490, 'बतख़': 1491, 'बचाओ': 1492, 'उछलो': 1493, 'कूदो': 1494, 'छलांग': 1495, 'नमस्ते।': 1496, 'नमस्कार।': 1497, 'चियर्स': 1498, 'जीते।': 1499, 'बढ़िया': 1500, 'चले': 1501, 'ख़ुदा': 1502, 'हाफ़िज़।': 1503, 'उत्तम': 1504, 'स्वागतम्।': 1505, 'दूंगा।': 1506, 'उड़ते': 1507, 'ख़ूब': 1508, 'खेद': 1509, 'हँसा।': 1510, 'अकेली': 1511, 'दीवालिया': 1512, 'अद्भुत': 1513, 'निश्चित': 1514, 'हिलो': 1515, 'जलाती': 1516, 'भेजो।': 1517, 'अंगर': 1518, 'बार।': 1519, 'उबासी': 1520, 'चिल्लाओ': 1521, 'चिल्लाईए': 1522, 'आऊंगा।': 1523, 'एसटर': 1524, 'हिल': 1525, 'मालूम।': 1526, 'जाईये।': 1527, 'अविश्वसनीय': 1528, 'मोटे': 1529, 'पीकर': 1530, 'करदो।': 1531, 'खिलते': 1532, 'डॉनत': 1533, 'लेलूँगा।': 1534, 'दिखाओ।': 1535, 'ट्राए': 1536, 'पढ़ें।': 1537, 'पढ़के': 1538, 'सुनाओ।': 1539, 'झुकी।': 1540, 'सहायता': 1541, 'छूना': 1542, 'निकलो': 1543, 'नव': 1544, 'वर्ष': 1545, 'शुभकामनाएं': 1546, 'बधाईयाँ।': 1547, 'छुट्टियाँ': 1548, 'मंगलमय': 1549, 'अभिनेता': 1550, 'अनीश्वरवादी': 1551, 'चाल': 1552, 'जाने।': 1553, 'गर्मियाँ': 1554, 'आदर्श': 1555, 'बुलाएँगे।': 1556, 'थके': 1557, 'हारे': 1558, 'पे': 1559, 'आजाओ।': 1560, 'सको': 1561, 'बधाई': 1562, 'बनो।': 1563, 'मुस्कुराए।': 1564, 'पकाया।': 1565, 'हमला': 1566, 'रसोइया': 1567, 'बावर्ची': 1568, 'उड़ाएँ': 1569, 'रोना': 1570, 'बोलती': 1571, 'चुने।': 1572, 'आलूओं': 1573, 'काटो।': 1574, 'बनाओ।': 1575, 'मचाओ।': 1576, 'संत्रे': 1577, 'नारंगी': 1578, 'बस्ता।': 1579, 'प्यास': 1580, 'पहेली': 1581, 'खरीदारी': 1582, 'शराबख़ाना': 1583, 'आँखे': 1584, 'बनातें': 1585, 'बनातीं': 1586, 'थें': 1587, 'धोका': 1588, 'चिल्लाए।': 1589, 'चिल्लाने': 1590, 'नौकरानी': 1591, 'रखता': 1592, 'पड़ा': 1593, 'देशद्रोही': 1594, 'जाचुका': 1595, 'रोई।': 1596, 'सिर': 1597, 'सुनता': 1598, 'दौड़ते': 1599, 'सच्चा': 1600, 'गईं': 1601, 'गाने': 1602, 'लगी।': 1603, 'पृथ्वी': 1604, 'घूमती': 1605, 'आमंत्रित': 1606, 'प्रयत्न': 1607, 'खुशखबर': 1608, 'ख़िलाफ़': 1609, 'युद्ध': 1610, 'विरोध': 1611, 'सुख': 1612, 'समुद्र': 1613, 'तट': 1614, 'कहां': 1615, 'पाय': 1616, 'बनाई': 1617, 'हाँ।': 1618, 'बिज़ी': 1619, 'सोये': 1620, 'फेंको।': 1621, 'तेरी': 1622, 'अकल': 1623, 'घास': 1624, 'चरने': 1625, 'करीं।': 1626, 'रोया': 1627, 'साधा': 1628, 'ज़रूर': 1629, 'चचेरा': 1630, 'ममेरा': 1631, '१९६०': 1632, '१९७९': 1633, 'देखता': 1634, 'गिरनी': 1635, 'गो': 1636, 'सूटकेस': 1637, 'मजेदार': 1638, 'संभालने': 1639, 'चलते': 1640, 'टोयोटा': 1641, 'पाँव': 1642, 'जम': 1643, 'उछल': 1644, 'चिढ़': 1645, 'बॅटर': 1646, 'आऊट': 1647, 'गायब': 1648, 'स्केटिंग': 1649, 'मज़ा': 1650, 'कद्दू': 1651, 'टेक्सी': 1652, 'बुलवाई।': 1653, 'प्रवेश': 1654, 'दाखिल': 1655, 'अकेलापन': 1656, 'थका': 1657, 'हारा': 1658, 'गाता': 1659, 'जोखिम': 1660, 'खाया': 1661, 'लाता': 1662, 'लाऊँगा।': 1663, 'खेलतें': 1664, 'स्याही': 1665, 'बाघ': 1666, 'जिसकी': 1667, 'पसीने': 1668, 'ज़बान': 1669, 'सम्भाल': 1670, 'भरना': 1671, 'अड्डा': 1672, 'सर्दी': 1673, 'क्षमा': 1674, 'बचाली।': 1675, 'प्रत्येक': 1676, 'अजनबी': 1677, 'आपत्ती': 1678, 'तकलीफ': 1679, 'खाती': 1680, 'ऊँगली': 1681, 'बेहोशी': 1682, 'तौर': 1683, 'समझकर': 1684, 'बोला': 1685, 'एलर्जी': 1686, 'चश्मा': 1687, 'चश्मे': 1688, 'उबाऊ': 1689, 'लेजाने': 1690, 'लिंकन': 1691, '१८६५': 1692, 'ख़ासियत': 1693, 'चादरें': 1694, 'गीलीं': 1695, 'पाइप': 1696, 'फट': 1697, 'मेरीं': 1698, 'ज़ू': 1699, 'बीतता': 1700, 'बियर': 1701, 'वार': 1702, 'इसमें': 1703, 'लौट': 1704, 'मोटा': 1705, 'कैमरा': 1706, 'पार्श्व': 1707, 'टिप्पणियाँ': 1708, 'मुर्गियाँ': 1709, 'देतीं': 1710, 'पुलिसवाला': 1711, 'सीड़ियों': 1712, 'फ़र्निचर': 1713, 'पैसेवाला': 1714, 'साठ': 1715, 'प्रतियोगिता': 1716, 'ढंग': 1717, 'डुबकी': 1718, 'नौकर': 1719, 'जीव': 1720, 'हड़बड़ी': 1721, 'कोरिया': 1722, 'मई': 1723, 'आँख': 1724, 'फेंकिए।': 1725, 'डालदो।': 1726, 'नन्हा': 1727, 'खिलौना': 1728, 'खरीद': 1729, 'लाई।': 1730, 'जी।': 1731, 'छोड़दी।': 1732, 'उड़ाया।': 1733, 'चिल्लाया।': 1734, 'बकवास': 1735, 'वैसी': 1736, 'भरनी।': 1737, 'बोओगे': 1738, 'काटोगे।': 1739, 'पाओ।': 1740, 'भला।': 1741, 'भरना।': 1742, 'लोमड़ी': 1743, 'जंगली': 1744, 'उड़ाओ।': 1745, 'थप्पड़': 1746, 'शुरु': 1747, 'कमा': 1748, 'बेटियाँ': 1749, 'सीखा।': 1750, 'फाड़': 1751, 'दया': 1752, 'पिंजरा': 1753, 'गस्सा': 1754, 'निकाला': 1755, 'ब्लडी': 1756, 'हवाईअड्डे': 1757, 'उत्सुक': 1758, 'रखो': 1759, 'गुड़गुड़ा': 1760, 'न्यू': 1761, 'यॉर्क': 1762, 'छूटता': 1763, 'सफ़ाई': 1764, 'करूँ': 1765, 'जानती': 1766, 'पैसेवाली': 1767, 'पैसेवाले': 1768, 'दिखाया।': 1769, 'पकाया': 1770, 'पका': 1771, 'गेट': 1772, 'अच्छा।': 1773, 'प्रसन्न': 1774, 'पतली': 1775, 'इंजन': 1776, 'कीजिये।': 1777, 'बैठते': 1778, 'तम्हे': 1779, 'खुलता': 1780, 'तापमान': 1781, 'हकला': 1782, 'रोकना': 1783, 'देखतें': 1784, 'बूंद': 1785, 'पियो।': 1786, 'भूलना': 1787, 'ग्लास': 1788, 'रेत': 1789, 'पायी।': 1790, 'उठा।': 1791, 'सूप': 1792, 'सूँघ': 1793, 'घमण्डी': 1794, 'अहंकारी': 1795, 'अभिमानी': 1796, 'दंत': 1797, 'चिकित्सक': 1798, 'तोहफ़ा': 1799, 'बीयर': 1800, 'यही': 1801, 'टांगें': 1802, 'लम्बीं': 1803, 'लेआऊँ': 1804, 'खरीदे।': 1805, 'उदाहरण': 1806, 'कोईसा': 1807, 'अनाथ': 1808, 'गोद': 1809, 'आमने': 1810, 'हुए।': 1811, 'डरते': 1812, 'इसीलिए': 1813, 'नोट': 1814, 'भेजा।': 1815, 'गोल': 1816, 'वापिस': 1817, 'जीतेंगे।': 1818, 'डालते': 1819, 'किसलिए': 1820, 'राष्ट्रीयता': 1821, 'ज़बरदस्त': 1822, 'करदोगे': 1823, 'फैलती': 1824, 'बनता': 1825, 'चुनो।': 1826, 'ऐमब्यूलेंस': 1827, 'साथतानी': 1828, 'लिफ़ाफ़े': 1829, 'काटकर': 1830, 'मरा।': 1831, 'सुनेगा।': 1832, 'बैठिये।': 1833, 'आधा': 1834, 'किजिए': 1835, 'बगैर': 1836, 'सहन': 1837, 'जैकेट': 1838, 'मेट्रो': 1839, 'लेकर': 1840, 'पी।': 1841, 'खटखटाने': 1842, 'खाँसी': 1843, 'नहाने': 1844, 'पहला': 1845, 'पृष्ठ': 1846, 'सख्त': 1847, 'तेरा': 1848, 'बतादेना।': 1849, 'बसे।': 1850, 'ठहरिए।': 1851, 'चुप': 1852, 'रोते': 1853, 'करदिआ।': 1854, 'नब्ज़': 1855, 'मिले।': 1856, 'शामिल': 1857, 'पतला': 1858, 'जाएँगे।': 1859, 'बहादुरी': 1860, 'लाईन': 1861, 'लगकर': 1862, 'a': 1863, 'b': 1864, 'पाँचगुना': 1865, 'सस्ते': 1866, 'बिक': 1867, 'हिस्सा': 1868, 'पुलीस': 1869, 'अमरीका': 1870, 'ज़ोर': 1871, 'हिचकिचाया।': 1872, 'सबका': 1873, 'उड़ाता': 1874, 'बजाता': 1875, 'सिखाया।': 1876, 'चश्मदीद': 1877, 'गवाह': 1878, 'कोटे': 1879, 'पहुंच': 1880, 'कटोरियाँ': 1881, 'झलक': 1882, 'फ़ेसबुक': 1883, 'नाई': 1884, 'पल्ले': 1885, 'पड़ती।': 1886, 'लाती': 1887, 'छाँओं': 1888, 'जोड़ना': 1889, 'गर्म': 1890, 'चंद': 1891, 'दाहिना': 1892, 'बिल्लियों': 1893, 'दूसरों': 1894, 'ग़ायब': 1895, 'स्मॉग': 1896, 'पौधों': 1897, 'ज़हरीले': 1898, 'दुश्मन': 1899, 'ताकत': 1900, 'दुरुपयोग': 1901, 'सेब': 1902, 'दिवस': 1903, 'रोक': 1904, 'बसे': 1905, 'पोत': 1906, 'टहलें।': 1907, 'नसीबवाला': 1908, 'बनाओगे': 1909, 'आपत्ति': 1910, 'मिलना।': 1911, 'अपौइंटमेंट': 1912, 'क्वाला': 1913, 'कहता': 1914, 'कभार': 1915, 'ईमानदारी': 1916, 'सर्वोत्तम': 1917, 'नीति': 1918, 'वास्तव': 1919, 'कहे': 1920, 'पेनसिलें': 1921, 'चलता': 1922, 'कहें': 1923, 'पढ़ूँ।': 1924, 'अस्वीकार': 1925, 'निम्नलिखित': 1926, 'वस्तुओं': 1927, 'जॉन': 1928, 'बैठा।': 1929, '४': 1930, 'जून': 1931, '१९७४': 1932, 'निकम्मा': 1933, 'बूढ़े': 1934, 'तलाश': 1935, 'चूहा': 1936, 'बुआ': 1937, 'लाईं।': 1938, 'खिलाना': 1939, 'लेटी': 1940, 'खेलती': 1941, 'रखना।': 1942, 'सुझाव': 1943, 'दुल्हन': 1944, 'मारा।': 1945, 'कड़वा': 1946, 'जूतों': 1947, 'पेंट': 1948, 'सूखा': 1949, 'बरसात': 1950, 'पिया': 1951, 'ऋतु': 1952, 'ग्रीक': 1953, 'करदो': 1954, 'प्लीज़।': 1955, 'कप्तान': 1956, 'चुना।': 1957, 'निभाना': 1958, 'पहुँचाई।': 1959, 'औरडर': 1960, 'ब्रॅड': 1961, 'चौबीस': 1962, 'लाना।': 1963, 'उड़ना': 1964, 'कोक': 1965, 'सांस': 1966, 'पाता': 1967, 'क़ब्र': 1968, 'खोद': 1969, 'पढ़ी': 1970, 'ग़ुलाम': 1971, 'वहां': 1972, 'इक्कीस': 1973, 'रहेंगे': 1974, 'निकला': 1975, 'मेने': 1976, 'दिए।': 1977, 'सायकल': 1978, 'ड्यूटी': 1979, 'हूँगा।': 1980, 'उपयोगी': 1981, 'धातु': 1982, 'तकरीबन': 1983, 'होंगे': 1984, 'खर्चे': 1985, 'स्पा': 1986, 'जीन्स': 1987, 'पैंट': 1988, 'धुलाई': 1989, 'सिकुड़': 1990, 'बनाते': 1991, 'इच्छा': 1992, 'प्रकट': 1993, 'हल्की': 1994, 'आमंत्रण': 1995, 'पर्स': 1996, 'बालों': 1997, 'जूड़े': 1998, 'बाँधती': 1999, 'सिपाहियों': 2000, 'मोज़े': 2001, 'उतारिए।': 2002, 'जलकर': 2003, 'राख': 2004, 'साहब': 2005, 'दूरी': 2006, 'इसका': 2007, 'जापानियों': 2008, 'कालीं': 2009, 'तम्बाकू': 2010, 'महक': 2011, 'खुली': 2012, 'मकान': 2013, 'लेते': 2014, 'डालकर': 2015, 'पीते': 2016, 'पड़ोसी': 2017, 'दक्षिण': 2018, 'टर्मिनल': 2019, 'बैठना': 2020, 'ब्रश': 2021, 'रेखांकित': 2022, 'सुधारिए।': 2023, 'बचीं': 2024, 'झुँको।': 2025, 'अंग्रेजी': 2026, 'खिल': 2027, 'बदला': 2028, 'जीने': 2029, 'कैनटीन': 2030, 'लन्च': 2031, 'कान': 2032, 'खींचा।': 2033, 'कमीज़ें': 2034, 'धुलवानीं': 2035, 'अभिलाषा': 2036, 'यादें': 2037, 'जीवित': 2038, 'रहेंगी।': 2039, 'बोतलें': 2040, 'ख़रीदीं।': 2041, 'पैरों': 2042, 'निशानों': 2043, 'करे।': 2044, 'दसियों': 2045, 'ईमानदार': 2046, 'मरना': 2047, 'भाग्य': 2048, 'रहो': 2049, 'ज़्यादातर': 2050, 'आएँ': 2051, 'बोलतीं': 2052, 'सिक्कों': 2053, 'इकट्ठा': 2054, 'कौपी': 2055, 'दिखाईए।': 2056, 'करें।': 2057, 'बोलो': 2058, 'घूमफिरकर': 2059, 'उगाई': 2060, 'सड़ने': 2061, 'खम्बे': 2062, 'भिड़': 2063, 'चट्टान': 2064, 'सीधी': 2065, 'घोड़ा': 2066, 'दुश्मनों': 2067, 'कुचल': 2068, 'चढ़ा।': 2069, 'बमबई': 2070, 'पटरी': 2071, 'त्याग': 2072, 'रोडिका': 2073, 'पाँचवी': 2074, 'बढ़ता': 2075, 'प्रेमपूर्वक': 2076, 'हादसा': 2077, 'खाएँगे': 2078, 'बुलाना': 2079, 'देखनी': 2080, 'तोड़ो।': 2081, 'द्वीप': 2082, 'आधे': 2083, 'सड़': 2084, 'छिपाई।': 2085, 'जवान': 2086, 'जवानी': 2087, 'न्यूयॉर्क': 2088, 'कबसे': 2089, 'किता': 2090, 'आएगी': 2091, 'युक्तियुक्त': 2092, 'ज्यादा': 2093, 'बास्\\u200dकेटबॉल': 2094, 'देखता।': 2095, 'भागा।': 2096, 'सुलाना': 2097, 'ट्राफ़िक': 2098, 'जाम': 2099, 'ट्रैफ़िक': 2100, 'जैम': 2101, 'करुंगा।': 2102, 'करुंगी।': 2103, 'देखे': 2104, 'खिलाईएगा।': 2105, 'सेइचो': 2106, 'मात्सुमोतो': 2107, 'निधन': 2108, 'सन': 2109, '१९९२': 2110, 'डरती': 2111, 'मिनटों': 2112, 'सोचा।': 2113, 'मुरझा': 2114, 'हुकूमत': 2115, 'रोगी': 2116, 'आखरी': 2117, 'भरी।': 2118, 'फ़िनलैंड': 2119, 'टूट': 2120, 'सुलझाना': 2121, 'चौड़ी': 2122, 'दीदी': 2123, 'अनहोनी': 2124, 'दल': 2125, 'मंदी': 2126, 'बाथरूम': 2127, 'सस्ता': 2128, 'लड़ने': 2129, 'झगड़ने': 2130, 'हल': 2131, 'उड़ाना': 2132, 'आखें': 2133, 'गोरे': 2134, 'कोआले': 2135, 'अर्थ': 2136, 'अँडे': 2137, 'चाबियों': 2138, 'बटुए': 2139, 'इशारा': 2140, 'फ़ोल्डर': 2141, 'दयालु': 2142, 'करलें।': 2143, 'राजनीति': 2144, 'छोड़ूँ': 2145, 'ऊँची': 2146, 'बोलिए।': 2147, 'पढ़ो।': 2148, 'आज़माती': 2149, 'पैक': 2150, 'आएगी।': 2151, 'चेतावनी': 2152, 'बैठी': 2153, 'उड़ाई।': 2154, 'उड़ा': 2155, 'भौंकता': 2156, 'धरती': 2157, 'परिक्रमा': 2158, 'जाँच': 2159, 'पड़ताल': 2160, 'शेरों': 2161, 'शिकार': 2162, 'जानें': 2163, 'लें': 2164, 'लीं।': 2165, 'पहुँचेगा।': 2166, 'चमड़े': 2167, 'उत्पाद': 2168, 'बेचती': 2169, 'पंद्राह': 2170, 'तौलिये': 2171, 'चर्च': 2172, 'सोलहवा': 2173, 'स्नातक': 2174, 'तत्पर': 2175, 'कीजिए': 2176, 'आएंगे': 2177, 'लेलो।': 2178, 'माफ़ी': 2179, 'आइडिया': 2180, 'आदर': 2181, 'मालिक': 2182, 'निकाला।': 2183, 'ऊन': 2184, 'मात्रा': 2185, 'निर्यात': 2186, 'वैश्विक': 2187, 'समझते': 2188, 'दफ़नाया': 2189, 'उठाती': 2190, 'निभाओ।': 2191, 'बदले': 2192, 'पुस्तक': 2193, 'स्पष्ट': 2194, 'ओसाका': 2195, 'ख़राब': 2196, 'संभवतः': 2197, 'विख्यात': 2198, 'देदीजिए।': 2199, 'खरीदा।': 2200, 'घूरकर': 2201, 'उठकर': 2202, 'फ़्लैट': 2203, 'वक्त': 2204, 'बचाए।': 2205, 'ख़तरनाक': 2206, 'कहते': 2207, 'अटक': 2208, 'इसतीफ़ा': 2209, 'रुकी।': 2210, 'सख्ती': 2211, 'पेश': 2212, 'राजकुमारियों': 2213, 'व्यवहार': 2214, 'कूद': 2215, 'कूदो।': 2216, 'कौवे': 2217, 'नाव': 2218, 'तौलिए': 2219, 'पोंछो।': 2220, 'नाचना': 2221, 'चाहोगी': 2222, 'डान्स': 2223, 'रस्सी': 2224, 'फेंक': 2225, 'विस्तृत': 2226, 'समझाई।': 2227, 'कटवाता': 2228, 'पढ़ता': 2229, 'रखकर': 2230, 'तोला।': 2231, 'नाना': 2232, 'कहूँ।': 2233, 'कामकाज': 2234, 'ख़तम': 2235, 'नहा': 2236, 'प्रेम': 2237, 'जहां': 2238, 'माँगने': 2239, 'लगेगी।': 2240, 'दवाईयों': 2241, 'अरे': 2242, 'पेट्रोल': 2243, 'कक्षा': 2244, 'कीजिएगा।': 2245, 'जुटाने': 2246, 'लौटाए।': 2247, 'बेची': 2248, 'जातीं': 2249, 'उतारे।': 2250, 'सम्मेलन': 2251, 'समाप्त': 2252, 'गोलीबारी': 2253, 'बजा।': 2254, 'चोटी': 2255, 'चपटी': 2256, 'गुफ़ा': 2257, 'टाई': 2258, 'सूट': 2259, 'तरीका': 2260, 'होटल': 2261, 'ठहरे।': 2262, 'छूटते': 2263, 'लेंगे': 2264, 'बीटल्स': 2265, 'गा': 2266, 'मारने': 2267, 'झिलता': 2268, 'गिलहरी': 2269, 'डालियों': 2270, 'छुपी': 2271, 'पत्तियाँ': 2272, 'आईं।': 2273, 'इत्तेफ़ाक': 2274, 'एशिया': 2275, 'मैं।': 2276, 'मुस्कुराहट': 2277, 'प्रयोगों': 2278, 'कबूतरों': 2279, 'घंटो': 2280, 'झेला': 2281, 'मूर्ख': 2282, 'योग्यता': 2283, 'खुशकिसमत': 2284, 'सफ़ल': 2285, 'प्रथम': 2286, 'पुरस्कार': 2287, 'अनदेखा': 2288, 'रखो।': 2289, 'सुंदरता': 2290, 'मुर्गियों': 2291, 'दियें': 2292, 'कपड़ो': 2293, 'हानि': 2294, 'पहुँचाएगा।': 2295, 'अनुकरणीय': 2296, 'प्रदर्शन': 2297, 'बर्फ़': 2298, 'बिछी': 2299, 'हवाईजहाज़': 2300, 'फ़्रांस': 2301, 'महिलाये': 2302, 'क़त्ल': 2303, 'हत्याएँ': 2304, 'मुनाफ़े': 2305, 'बाँटा।': 2306, 'सीमा': 2307, 'सप्ताह': 2308, 'लगीं': 2309, 'लोगे': 2310, 'पढ़ो': 2311, 'रखनी': 2312, 'दरअसल': 2313, 'बर्न': 2314, 'स्विजरलैंड': 2315, 'सकतें': 2316, 'सुनी': 2317, 'डरो।': 2318, 'सहपाठियों': 2319, 'बनाना': 2320, 'बताए': 2321, 'उलटा': 2322, 'बनाए': 2323, 'रहता।': 2324, 'केस': 2325, 'छोड़ी।': 2326, 'विद्रोह': 2327, 'रोका।': 2328, 'भागता': 2329, 'बचाया।': 2330, 'पहुँचने': 2331, 'लगेगी': 2332, 'सैंडविच': 2333, 'बचे': 2334, 'नटखट': 2335, 'उतनी': 2336, 'सीढ़ियों': 2337, 'करवाई।': 2338, 'ग्रुप': 2339, 'संबंध': 2340, 'सुना': 2341, 'मश्हूर': 2342, 'अभिनेत्री': 2343, 'बर्तन': 2344, 'धोने': 2345, 'बजा': 2346, 'सुरक्षित': 2347, 'लौटने': 2348, 'करूँगा': 2349, 'उड़कर': 2350, 'शनिवार': 2351, 'गौल्फ़': 2352, 'लगना': 2353, 'विदेषी': 2354, 'प्रेत': 2355, 'दूसरा': 2356, 'पूछा': 2357, 'डाँवाडोल': 2358, 'असुरक्षित': 2359, 'बगीचे': 2360, 'पेशा': 2361, 'पालनी': 2362, 'गड्ढा': 2363, 'फ़ुट': 2364, 'चौड़ा': 2365, 'ताक़त': 2366, 'छीन': 2367, 'रहस्य': 2368, 'तबाह': 2369, 'अकलमंद': 2370, 'बुलाई।': 2371, 'चाँद': 2372, 'उतरेगा।': 2373, 'लेनीं': 2374, 'इमारतों': 2375, 'वफ़ादारी': 2376, 'लिहाज': 2377, 'उठाना': 2378, 'गवा': 2379, 'फ़्रेंच': 2380, 'ख़तरे': 2381, 'पहुँचे।': 2382, 'सुनिए': 2383, 'ईश्वर': 2384, 'स्वयं': 2385, 'रूसी': 2386, 'अज्ञान': 2387, 'आशंका': 2388, 'जताई।': 2389, 'टूटे': 2390, 'टुकड़ों': 2391, 'जोड़ा।': 2392, 'करूँ।': 2393, 'खींज': 2394, 'ऑक्सफ़र्ड': 2395, 'विश्वविद्यालय': 2396, 'जानवरों': 2397, 'खर्चना': 2398, 'लौटकर': 2399, 'निर्दोष': 2400, 'ज़िंदा': 2401, 'कॉफ़ी।': 2402, 'दिखते': 2403, 'नौवे': 2404, 'बेबुनयाद': 2405, 'चूहे': 2406, 'बढ़ी।': 2407, 'मनुष्य': 2408, 'प्लान': 2409, 'भरेगा।': 2410, 'बिखेर': 2411, 'क्योटो': 2412, 'मंदिर': 2413, 'ब्राऊन': 2414, 'मारकर': 2415, 'हत्या': 2416, 'नाश्ते': 2417, 'पहनोगी': 2418, 'गहरा': 2419, 'कोहरा': 2420, 'छा': 2421, 'बौद्ध': 2422, 'धर्म': 2423, 'पनीर': 2424, 'बनते': 2425, 'शास्त्रीय': 2426, 'ला': 2427, 'हड्डी': 2428, 'उसमें': 2429, 'बेसब्री': 2430, 'फटाफट': 2431, 'कंधे': 2432, 'माथे': 2433, 'पसीना': 2434, 'पोंछा।': 2435, 'वाक्यों': 2436, 'माईने': 2437, 'पैमाने': 2438, 'डालने': 2439, 'रफ़तार': 2440, 'दोगे।': 2441, 'आंकरेज': 2442, 'युरोप': 2443, 'कमाई': 2444, 'वर्तमान': 2445, 'आमदनी': 2446, 'सोचो': 2447, 'टाइम': 2448, 'असभ्यता': 2449, 'सोना': 2450, '१५': 2451, 'ख़ज़ाना': 2452, 'खोदा।': 2453, 'मार': 2454, 'बाएं': 2455, 'मुड़ो': 2456, 'चिंतित': 2457, 'प्रकार': 2458, 'ढूंढ': 2459, 'डिनर': 2460, 'किसके': 2461, 'टी': 2462, 'शर्ट': 2463, 'बच्ची': 2464, 'आयडिया': 2465, 'करें': 2466, 'एहसान': 2467, 'माँगा।': 2468, 'घरवालों': 2469, 'कमाता': 2470, 'जुर्म': 2471, 'चलाने': 2472, 'नाकामयाबी': 2473, 'ख़रीदीं': 2474, 'मोहन': 2475, 'परिचित': 2476, 'सोफ़ा': 2477, 'शक़': 2478, 'युनिसायकल': 2479, 'पिछली': 2480, 'छाते': 2481, 'द्वार': 2482, 'वाक्यांश': 2483, 'ढूँढो।': 2484, 'उड़ाने': 2485, 'चादर': 2486, 'बिछाई।': 2487, 'रखती': 2488, 'अंकल': 2489, 'मामा': 2490, 'चाचा': 2491, 'ताऊजी': 2492, 'बुलाया।': 2493, 'पालने': 2494, 'मुर्झाई': 2495, 'गिरते': 2496, 'लगे': 2497, 'वाईन': 2498, 'चखकर': 2499, 'खिलाने': 2500, 'पहरा': 2501, 'गुंजाईश': 2502, 'मनाने': 2503, 'दिशाओं': 2504, 'फैले': 2505, 'कपड़ा': 2506, 'रेशमी': 2507, 'गला': 2508, 'भागे': 2509, 'आए।': 2510, 'जिनका': 2511, 'पिंक': 2512, 'ऑर्डर': 2513, 'नीले': 2514, 'कोशीश': 2515, 'रिमोट': 2516, 'देंगे।': 2517, 'दफ़तर': 2518, 'गबन': 2519, 'निभता': 2520, 'हे': 2521, 'कहानियाँ': 2522, 'सुनाया': 2523, 'बेगुनाह': 2524, 'अम्रीकी': 2525, 'साहित्य': 2526, 'कैंचियों': 2527, 'पूछूँगा।': 2528, 'लगाऊँगा': 2529, 'दिवाई': 2530, 'चुकताऊँगा।': 2531, 'चमत्कार': 2532, 'दिलाती': 2533, 'महाशय': 2534, 'माने': 2535, 'पियानिस्ट': 2536, 'झूठी': 2537, 'गाल': 2538, 'निशान': 2539, 'भाषाओं': 2540, 'समानताएं': 2541, 'पर्याप्त': 2542, 'भाषाएं': 2543, 'कटाने': 2544, 'जुर्रत': 2545, 'इगज़ैम': 2546, 'रिज़ल्ट': 2547, 'मनोदशा': 2548, 'मुस्कान': 2549, 'गाय': 2550, 'पूज्य': 2551, 'घुसा।': 2552, 'सहने': 2553, 'पड़े': 2554, 'कीमतें': 2555, 'करनीं': 2556, 'पड़ीं।': 2557, 'महान': 2558, 'कवि': 2559, 'बल्कि': 2560, 'पांव': 2561, 'लतपत': 2562, 'नमक': 2563, 'कॉनसर्ट': 2564, 'मिलीं': 2565, 'निभाएगा।': 2566, 'फ़रिश्तों': 2567, 'रखूँगा।': 2568, 'चॉकलेट': 2569, 'आइसक्रीम': 2570, 'लत': 2571, 'ग़रीबी': 2572, 'यदि': 2573, 'ढल': 2574, 'रहिए।': 2575, 'सका': 2576, 'पूछते': 2577, 'छोड़नी': 2578, 'इन्द्रधनुष': 2579, 'लेलिया।': 2580, 'बिगड़े': 2581, 'जेल': 2582, 'शांत': 2583, 'देखी': 2584, 'खिसक': 2585, 'चित': 2586, 'पट': 2587, 'कानून': 2588, 'तोड़ोगे': 2589, 'मिलेगी।': 2590, 'सुशील': 2591, 'थूकेगा': 2592, 'पौधे': 2593, 'चुनाव': 2594, 'विरोधी': 2595, 'हरा': 2596, 'उम्मीदों': 2597, 'क़ैदियों': 2598, 'आदेश': 2599, 'तोह्फ़ा': 2600, 'पुकारते': 2601, 'सुना।': 2602, 'अच्छेपन': 2603, 'ख़रीदने': 2604, 'अजनबियों': 2605, 'ढूँढना': 2606, 'जागे': 2607, 'बेकरी': 2608, 'क्यूट': 2609, 'शुक्रवार': 2610, 'पोती': 2611, 'मुस्कुराई।': 2612, 'परिस्थिति': 2613, 'कठोर': 2614, 'कदम': 2615, 'मर्दों': 2616, 'हटा': 2617, 'ड्राईव': 2618, 'लेजाओगे': 2619, 'अंधेर': 2620, 'महाद्वीप': 2621, 'भेज': 2622, 'बहादुर': 2623, 'काटते': 2624, 'ताज़ा': 2625, 'जाएगी': 2626, 'तभी': 2627, 'इलेक्ट्रिकल': 2628, 'इंजीनियर': 2629, 'खानी': 2630, 'चाहिएँ।': 2631, 'भुला': 2632, 'यहीं': 2633, 'करूंगी।': 2634, 'लूँ': 2635, 'लूँ।': 2636, 'लगातार': 2637, 'आएँ।': 2638, 'प्रसिद्ध': 2639, 'सड़े': 2640, 'बिल्लियाँ': 2641, 'कुत्ते।': 2642, 'क़ुतुब': 2643, 'मीनार': 2644, 'किला': 2645, 'तोदाइजी': 2646, 'बरबाद': 2647, 'ऐनक': 2648, 'होक्काईदो': 2649, 'घायल': 2650, 'कंबल': 2651, 'ढक': 2652, 'उद्देश्य': 2653, 'परिस्तिथि': 2654, 'बदतर': 2655, 'नीला': 2656, 'दौरान': 2657, 'एकसमान': 2658, 'आदमियों': 2659, 'जिसने': 2660, 'बधाईंयाँ।': 2661, 'दिक्कत': 2662, 'मर्यादा': 2663, 'संविधान': 2664, 'सुधारना': 2665, 'ताला': 2666, 'सके।': 2667, 'आँसुओं': 2668, 'बीजों': 2669, 'लेजाती': 2670, 'बादल': 2671, 'प्लैन': 2672, 'मामले': 2673, 'छानबीन': 2674, 'बिताई।': 2675, 'फ़ोटोकॉपियर': 2676, 'कागज़': 2677, 'किये': 2678, 'धरे': 2679, 'ठहराया': 2680, 'रबड़': 2681, 'उछलती': 2682, 'लचीली': 2683, 'हिस्से': 2684, 'नागरिक': 2685, 'कलाकार': 2686, 'लिखेगा': 2687, 'भेजी': 2688, 'रोज़ाना': 2689, 'मंजन': 2690, 'होएगी।': 2691, 'रहोगे': 2692, 'समझाना': 2693, 'पहुँचें': 2694, 'चिल्ला': 2695, 'उठी।': 2696, 'अखबारों': 2697, 'ढेर': 2698, 'सिनेमा': 2699, 'हॉल': 2700, 'आधी': 2701, 'खुल': 2702, 'सुधारने': 2703, 'मोर': 2704, 'पूंछ': 2705, 'बिरंगी': 2706, 'पकड़कर': 2707, 'पकड़ने': 2708, 'गाली': 2709, 'जागना': 2710, 'विलोम': 2711, 'सीटें': 2712, 'मिलेंगीं।': 2713, 'डालोगे': 2714, 'बुझाना': 2715, 'खिड़कियाँ': 2716, 'सूझी': 2717, 'कॉपीराईट': 2718, 'सोत्रों': 2719, 'संतुलन': 2720, 'सोचना': 2721, 'जातें': 2722, 'छपेगी।': 2723, 'मुझा': 2724, 'पहुँचते': 2725, 'दबाकर': 2726, 'पहुँचाने': 2727, 'एवरेस्ट': 2728, 'शिखर': 2729, 'नें': 2730, 'रखे': 2731, 'कपों': 2732, 'डाली।': 2733, 'वॉशिंग': 2734, 'खराबी': 2735, 'क्लासरूम': 2736, 'घुसते': 2737, 'उतारा': 2738, 'एयरपोर्ट': 2739, 'फ़ैक्टरी': 2740, 'दहशत': 2741, 'फैला': 2742, 'पुलीसवाले': 2743, 'हज़ार': 2744, 'जुर्माना': 2745, 'रेस': 2746, 'जीतेगा': 2747, 'ईनाम': 2748, 'उसी': 2749, 'मगर': 2750, 'झगड़ा': 2751, 'लड़ाई': 2752, 'क': 2753, 'ख': 2754, 'ग': 2755, 'ध': 2756, 'सिखाए': 2757, 'आश्चर्यचकित': 2758, 'टाँगा': 2759, 'जाऊँ।': 2760, 'कंपनियां': 2761, 'उत्पादों': 2762, 'विज्ञापन': 2763, 'प्रेरणा': 2764, 'स्रोत': 2765, 'हिचकिचाएँ।': 2766, 'बताईये।': 2767, 'दवा': 2768, 'तस्कर': 2769, 'अड्डे': 2770, 'गिरफ्तार': 2771, 'दूसरी': 2772, 'तरफ': 2773, 'वालो': 2774, 'जाओगी।': 2775, 'लौटाना': 2776, 'सदस्य': 2777, 'आत्महत्या': 2778, 'लेगा।': 2779, 'कमर': 2780, 'ब्रिटेन': 2781, '१९४७': 2782, 'प्राप्त': 2783, 'डाँटा।': 2784, 'दिए': 2785, 'समझना': 2786, 'नगरों': 2787, 'स्थित': 2788, 'सोचने': 2789, 'अंगूर': 2790, 'खट्टे': 2791, 'खाए': 2792, 'कयोंकि': 2793, 'निकाल': 2794, 'बैक': 2795, 'ग्राहक': 2796, 'करदी।': 2797, 'प्रॉडक्ट्स': 2798, 'दिखाना': 2799, 'मिली': 2800, 'ताईवान': 2801, 'रिपोर्ट': 2802, 'सौंप': 2803, 'प्रेसीडेंट': 2804, 'चुना': 2805, 'खुलकर': 2806, 'बोलूँ': 2807, 'चाहता।': 2808, 'पार्सल': 2809, 'अनुवाद': 2810, 'तैवान': 2811, 'दोस्ती': 2812, 'अड़ियल': 2813, 'वाक्यांशों': 2814, 'रटना': 2815, 'फ़्रांसीसी': 2816, 'बोलनी': 2817, 'जिसका': 2818, 'अस्तित्व': 2819, 'तुरन्त': 2820, 'अनिवार्य': 2821, 'सुधार': 2822, 'पक्ष': 2823, 'छटी': 2824, 'मंज़िल': 2825, 'थें।': 2826, 'लोकप्रिय': 2827, 'स्वेटर': 2828, 'देंगे': 2829, 'लिखकर': 2830, 'देना।': 2831, 'मलेरिया': 2832, 'बाताऊँगा।': 2833, 'बाताऊँगी।': 2834, 'यात्रा': 2835, 'कड़वी': 2836, 'डाललो।': 2837, 'थेम्स': 2838, 'ज़रूरतमंदों': 2839, 'बाँट': 2840, 'लौटाने': 2841, 'बाज़ी': 2842, 'करेंगे': 2843, 'कसम': 2844, 'खालूँ।': 2845, 'जाएं': 2846, 'अनुमति': 2847, 'उत्तीर्ण': 2848, 'दोपहरभर': 2849, 'मारी।': 2850, 'सातवाँ': 2851, 'अभिलाषाओं': 2852, 'बढ़ावा': 2853, 'भूलती': 2854, 'ध्यानपूर्वक': 2855, 'सिद्धांत': 2856, 'पाई।': 2857, 'आपातकालीन': 2858, 'स्तिथि': 2859, 'मिलाना': 2860, 'प्रदूषित': 2861, 'वातावरण': 2862, 'सिवाय': 2863, 'चलाकर': 2864, 'इन्तज़ार': 2865, 'करवाया': 2866, 'अंतर्राष्ट्रीय': 2867, 'मज़बूत': 2868, 'अर्थव्यवस्था': 2869, 'आवश्यक': 2870, 'बैट': 2871, 'बॉल': 2872, 'एकसाथ': 2873, 'गर्व': 2874, 'जिसमें': 2875, 'अबसे': 2876, 'पहुँचे': 2877, 'लूँगा।': 2878, 'ग़ौर': 2879, 'दिखाऊँगा': 2880, 'भावनाओं': 2881, 'बाग': 2882, 'पुराना': 2883, 'ढूँढता': 2884, 'गिरा': 2885, 'बनवानी': 2886, 'भिजवादूँगा।': 2887, 'हेलमेट': 2888, 'मोटरसाईकल': 2889, 'बहतर': 2890, 'गंदे': 2891, 'उद्योग': 2892, 'अधिकांश': 2893, 'सदस्यों': 2894, 'बिल': 2895, 'पारित': 2896, 'एड्स': 2897, 'फैलाव': 2898, 'भयानक': 2899, 'फ्रेंच': 2900, 'फ्रांस': 2901, 'अौर': 2902, 'हिस्सो': 2903, 'पकड़नी': 2904, 'फंस': 2905, 'भीग': 2906, 'बीवा': 2907, 'बतादूँगा।': 2908, 'बहार': 2909, 'विशाल': 2910, 'हुक़्म': 2911, 'मरीज़': 2912, 'बिस्टर': 2913, 'लेटा': 2914, 'क़ातिल': 2915, 'हरासत': 2916, 'तुममें': 2917, 'सब्र': 2918, 'जाते।': 2919, 'बांध': 2920, 'ले।': 2921, 'स्थापित': 2922, 'समाचार': 2923, 'पाने': 2924, 'खोना': 2925, 'तस्वीरों': 2926, 'गोलियों': 2927, 'निगल': 2928, 'ताज': 2929, 'महल': 2930, 'आश्चर्यों': 2931, 'पकड़ीं': 2932, 'गईं।': 2933, 'इनवेस्टमेंट': 2934, '८': 2935, 'प्रतिशत': 2936, 'चढ़ने': 2937, 'प्रदूषण': 2938, 'प्रयास': 2939, 'कोलम्बस': 2940, 'पश्चिम': 2941, 'दिशा': 2942, 'जगे': 2943, 'पीनी': 2944, '१६००': 2945, 'लाया': 2946, 'डिक्शनरी': 2947, 'चलेगा।': 2948, 'मुम्बई': 2949, 'भारतीय': 2950, 'महाराष्ट्र': 2951, 'गिनती': 2952, 'नाकामयाब': 2953, 'बीमारों': 2954, 'समर्पित': 2955, 'पहनूँ।': 2956, 'ग़रीब': 2957, 'ताकतशाली': 2958, 'अर्थतंत्रों': 2959, 'पंद्रह': 2960, 'उड़ातें': 2961, 'मोबाइल': 2962, 'वस्तु': 2963, 'सूर्य': 2964, 'प्रभाव': 2965, 'असर': 2966, 'पहुँचना': 2967, 'जानबूझकर': 2968, 'पहचाना': 2969, 'सावधान': 2970, 'रहेगा।': 2971, 'अधिकारियों': 2972, 'जनता': 2973, 'जलने': 2974, 'सुँघाई': 2975, 'नकली': 2976, 'हीरों': 2977, 'लिपटी': 2978, 'कोने': 2979, 'खाकर': 2980, 'टाईम': 2981, 'बड़ाई': 2982, 'मांग': 2983, 'कॉपियाँ': 2984, 'दीं': 2985, 'बकरियों': 2986, 'वेतन': 2987, 'मछवारे': 2988, 'पकड़ी': 2989, 'आकार': 2990, 'बढ़ा': 2991, 'चढ़ाकर': 2992, 'भ्रष्टाचार': 2993, 'मुक्त': 2994, 'ऊँगलियाँ': 2995, 'पाते।': 2996, 'चरित्र': 2997, 'मुश्किलों': 2998, 'माँगता': 2999, 'पाऊँगा।': 3000, 'अगला': 3001, 'कम्पनियाँ': 3002, 'कटवाना': 3003, 'घूरने': 3004, 'बजाए': 3005, 'पढ़लो।': 3006, 'मुट्ठीभर': 3007, 'मूँगफलियाँ': 3008, 'लीं': 3009, 'दिवालिया': 3010, 'निकलने': 3011, 'दीजिएगा।': 3012, 'करेगा': 3013, 'पायेंगे।': 3014, 'ग़लतियों': 3015, 'डरना': 3016, 'उपलब्ध': 3017, 'सेवाओं': 3018, 'सोनी': 3019, 'टुकड़ो': 3020, 'टुकड़ा': 3021, 'जुलतीं': 3022, 'निकालने': 3023, 'इनके': 3024, 'करदें': 3025, 'अभ': 3026, 'चोरों': 3027, 'दराज़ें': 3028, 'डालीं।': 3029, 'अठारह': 3030, 'चलानी': 3031, 'लाईसेंस': 3032, 'बनवालिया।': 3033, 'कैथोलिक': 3034, 'नन': 3035, 'थीं': 3036, 'करतीं': 3037, 'जार्ज': 3038, 'वाशिंगटन': 3039, 'संयुक्त': 3040, 'नज़रिए': 3041, 'सर्व': 3042, 'श्रेष्ठ': 3043, '१९५१': 3044, 'सिस्टर': 3045, 'इनाम': 3046, 'विदोश': 3047, 'सूपरमार्केट': 3048, 'रोजाने': 3049, 'जिन': 3050, 'यात्रियों': 3051, 'लोकतंत्र': 3052, 'घिनौना': 3053, 'सरकारों': 3054, 'अंदेखा': 3055, 'ट्रेफ़िक': 3056, 'हादसे': 3057, 'कीड़ों': 3058, 'परेशानी': 3059}\n"
          ]
        }
      ]
    },
    {
      "cell_type": "code",
      "metadata": {
        "id": "7PghlcdYzD2o",
        "colab": {
          "base_uri": "https://localhost:8080/"
        },
        "outputId": "a255d807-7e9d-475f-e105-17a5e67c9ef0"
      },
      "source": [
        "decoder_text[100:105]"
      ],
      "execution_count": 28,
      "outputs": [
        {
          "output_type": "execute_result",
          "data": {
            "text/plain": [
              "['<start> हमने वादा किया। <end>',\n",
              " '<start> यह क्या है? <end>',\n",
              " '<start> क्या तुम बीमार हो? <end>',\n",
              " '<start> उसको अंदर ले आओ। <end>',\n",
              " '<start> हमारे साथ आओ। <end>']"
            ]
          },
          "metadata": {},
          "execution_count": 28
        }
      ]
    },
    {
      "cell_type": "code",
      "metadata": {
        "id": "yIBPAxxuzH-C",
        "colab": {
          "base_uri": "https://localhost:8080/"
        },
        "outputId": "6254782a-51fb-487e-aa7e-55072365920f"
      },
      "source": [
        "decoder_seq[100:105]"
      ],
      "execution_count": 29,
      "outputs": [
        {
          "output_type": "execute_result",
          "data": {
            "text/plain": [
              "[[1, 148, 406, 78, 2],\n",
              " [1, 23, 10, 11, 2],\n",
              " [1, 10, 24, 407, 16, 2],\n",
              " [1, 82, 331, 221, 530, 2],\n",
              " [1, 142, 58, 530, 2]]"
            ]
          },
          "metadata": {},
          "execution_count": 29
        }
      ]
    },
    {
      "cell_type": "code",
      "metadata": {
        "id": "n9M_6R01KXnP",
        "colab": {
          "base_uri": "https://localhost:8080/"
        },
        "outputId": "ebe9a2f8-0767-4038-830b-422f91918dee"
      },
      "source": [
        "#Maximum length of sentence\n",
        "max_decoder_seq_length = max([len(txt) for txt in decoder_seq])\n",
        "print('Maximum sentence length for Target language: ', max_decoder_seq_length)\n",
        "\n",
        "#Target language Vocablury\n",
        "decoder_vocab_size = len(decoder_t.word_index)\n",
        "print('Target language vocablury size: ', decoder_vocab_size)"
      ],
      "execution_count": 30,
      "outputs": [
        {
          "output_type": "stream",
          "name": "stdout",
          "text": [
            "Maximum sentence length for Target language:  27\n",
            "Target language vocablury size:  3059\n"
          ]
        }
      ]
    },
    {
      "cell_type": "markdown",
      "metadata": {
        "id": "hi_fC8V3KXnR"
      },
      "source": [
        "### Compare different sentences length"
      ]
    },
    {
      "cell_type": "code",
      "metadata": {
        "id": "XaoE7nULKXnS",
        "colab": {
          "base_uri": "https://localhost:8080/"
        },
        "outputId": "49fb95bb-98a2-49c4-9bdb-e6d1f26b01ed"
      },
      "source": [
        "#Source Language sentences\n",
        "print('Length for sentence number 100: ', len(encoder_seq[100]))\n",
        "print('Length for sentence number 150: ', len(encoder_seq[1050]))"
      ],
      "execution_count": 31,
      "outputs": [
        {
          "output_type": "stream",
          "name": "stdout",
          "text": [
            "Length for sentence number 100:  2\n",
            "Length for sentence number 150:  6\n"
          ]
        }
      ]
    },
    {
      "cell_type": "code",
      "metadata": {
        "id": "ZFRd3s8XKXnV",
        "colab": {
          "base_uri": "https://localhost:8080/"
        },
        "outputId": "33caf570-abce-4368-c0b5-2f12b41b9543"
      },
      "source": [
        "#Target Language sentences\n",
        "print('Length for sentence number 100: ', len(decoder_seq[100]))\n",
        "print('Length for sentence number 150: ', len(decoder_seq[150]))"
      ],
      "execution_count": 32,
      "outputs": [
        {
          "output_type": "stream",
          "name": "stdout",
          "text": [
            "Length for sentence number 100:  5\n",
            "Length for sentence number 150:  5\n"
          ]
        }
      ]
    },
    {
      "cell_type": "markdown",
      "metadata": {
        "id": "r-IatvBFKXnY"
      },
      "source": [
        "### How do we make it same?"
      ]
    },
    {
      "cell_type": "markdown",
      "metadata": {
        "id": "WNZ8AeLKKXnZ"
      },
      "source": [
        "### Padding the sentences"
      ]
    },
    {
      "cell_type": "code",
      "metadata": {
        "id": "ZfKDl8IAKXna"
      },
      "source": [
        "#Source sentences\n",
        "encoder_input_data = tf.keras.preprocessing.sequence.pad_sequences(encoder_seq, \n",
        "                                                                   maxlen=max_encoder_seq_length,\n",
        "                                                                   padding='pre')\n",
        "\n",
        "#Target Sentences\n",
        "decoder_input_data = tf.keras.preprocessing.sequence.pad_sequences(decoder_seq, \n",
        "                                                                   maxlen=max_decoder_seq_length,\n",
        "                                                                   padding='post')"
      ],
      "execution_count": 33,
      "outputs": []
    },
    {
      "cell_type": "code",
      "metadata": {
        "id": "ZLTwqyLyKXnc",
        "colab": {
          "base_uri": "https://localhost:8080/"
        },
        "outputId": "529465e9-7df2-4def-aa4e-aa940d9d09c2"
      },
      "source": [
        "print('Source data shape: ', encoder_input_data.shape)\n",
        "print('Target data shape: ', decoder_input_data.shape)"
      ],
      "execution_count": 34,
      "outputs": [
        {
          "output_type": "stream",
          "name": "stdout",
          "text": [
            "Source data shape:  (2949, 22)\n",
            "Target data shape:  (2949, 27)\n"
          ]
        }
      ]
    },
    {
      "cell_type": "code",
      "metadata": {
        "id": "LHIXCliIKXne",
        "colab": {
          "base_uri": "https://localhost:8080/",
          "height": 35
        },
        "outputId": "c82a6c7c-b529-4857-ac3d-a07c6cef86f0"
      },
      "source": [
        "encoder_text[100]"
      ],
      "execution_count": 35,
      "outputs": [
        {
          "output_type": "execute_result",
          "data": {
            "application/vnd.google.colaboratory.intrinsic+json": {
              "type": "string"
            },
            "text/plain": [
              "'We promised.'"
            ]
          },
          "metadata": {},
          "execution_count": 35
        }
      ]
    },
    {
      "cell_type": "code",
      "metadata": {
        "id": "TgBriKXSKXnf",
        "colab": {
          "base_uri": "https://localhost:8080/"
        },
        "outputId": "b44e8bbf-8262-4506-d168-5595fd72ee59"
      },
      "source": [
        "encoder_input_data[100]"
      ],
      "execution_count": 36,
      "outputs": [
        {
          "output_type": "execute_result",
          "data": {
            "text/plain": [
              "array([  0,   0,   0,   0,   0,   0,   0,   0,   0,   0,   0,   0,   0,\n",
              "         0,   0,   0,   0,   0,   0,   0,  24, 707], dtype=int32)"
            ]
          },
          "metadata": {},
          "execution_count": 36
        }
      ]
    },
    {
      "cell_type": "code",
      "metadata": {
        "id": "vJMPcCflKXnh",
        "colab": {
          "base_uri": "https://localhost:8080/",
          "height": 35
        },
        "outputId": "79b10902-843f-47bd-aeed-a8a742b50da8"
      },
      "source": [
        "decoder_text[100]"
      ],
      "execution_count": 37,
      "outputs": [
        {
          "output_type": "execute_result",
          "data": {
            "application/vnd.google.colaboratory.intrinsic+json": {
              "type": "string"
            },
            "text/plain": [
              "'<start> हमने वादा किया। <end>'"
            ]
          },
          "metadata": {},
          "execution_count": 37
        }
      ]
    },
    {
      "cell_type": "code",
      "metadata": {
        "id": "QokbLugoKXnj",
        "colab": {
          "base_uri": "https://localhost:8080/"
        },
        "outputId": "a2c11941-36a8-461d-827b-5227ead54d4e"
      },
      "source": [
        "decoder_input_data[100]"
      ],
      "execution_count": 38,
      "outputs": [
        {
          "output_type": "execute_result",
          "data": {
            "text/plain": [
              "array([  1, 148, 406,  78,   2,   0,   0,   0,   0,   0,   0,   0,   0,\n",
              "         0,   0,   0,   0,   0,   0,   0,   0,   0,   0,   0,   0,   0,\n",
              "         0], dtype=int32)"
            ]
          },
          "metadata": {},
          "execution_count": 38
        }
      ]
    },
    {
      "cell_type": "markdown",
      "metadata": {
        "id": "vZoH9-bJKXnk"
      },
      "source": [
        "#### Integer to Word converter for Decoder data"
      ]
    },
    {
      "cell_type": "code",
      "metadata": {
        "id": "IuoP4YMeKXnl"
      },
      "source": [
        "int_to_word_decoder = dict((i,c) for c, i in decoder_t.word_index.items())"
      ],
      "execution_count": 39,
      "outputs": []
    },
    {
      "cell_type": "code",
      "metadata": {
        "id": "yVOpq75gKXnm",
        "colab": {
          "base_uri": "https://localhost:8080/"
        },
        "outputId": "6de7fadd-75fb-42a3-e3e5-01112e4a3a0e"
      },
      "source": [
        "print(int_to_word_decoder)"
      ],
      "execution_count": 40,
      "outputs": [
        {
          "output_type": "stream",
          "name": "stdout",
          "text": [
            "{1: '<start>', 2: '<end>', 3: 'है।', 4: 'में', 5: 'नहीं', 6: 'मैं', 7: 'वह', 8: 'से', 9: 'मुझे', 10: 'क्या', 11: 'है', 12: 'के', 13: 'को', 14: 'की', 15: 'हैं।', 16: 'हो', 17: 'बहुत', 18: 'का', 19: 'एक', 20: 'उसने', 21: 'पर', 22: 'हूँ।', 23: 'यह', 24: 'तुम', 25: 'था।', 26: 'लिए', 27: 'कर', 28: 'कि', 29: 'मेरे', 30: 'हैं', 31: 'और', 32: 'इस', 33: 'अपने', 34: 'उसे', 35: 'ने', 36: 'भी', 37: 'टॉम', 38: 'मेरी', 39: 'मैंने', 40: 'रहा', 41: 'करने', 42: 'पास', 43: 'तो', 44: 'अपनी', 45: 'हम', 46: 'गया।', 47: 'ही', 48: 'कल', 49: 'काम', 50: 'था', 51: 'तुम्हें', 52: 'आप', 53: 'उसके', 54: 'करना', 55: 'उसकी', 56: 'कोई', 57: 'तुम्हारे', 58: 'साथ', 59: 'घर', 60: 'बात', 61: 'गया', 62: 'पता', 63: 'उस', 64: 'मेरा', 65: 'सकते', 66: 'थी।', 67: 'समय', 68: 'रही', 69: 'कुछ', 70: 'अभी', 71: 'यहाँ', 72: 'बजे', 73: 'तक', 74: 'हूँ', 75: 'सकता', 76: 'आज', 77: 'लगता', 78: 'किया।', 79: 'चाहिए।', 80: 'तुम्हे', 81: 'अच्छा', 82: 'उसको', 83: 'रहे', 84: 'आ', 85: 'मत', 86: 'कभी', 87: 'पसंद', 88: 'किताब', 89: 'दिया।', 90: 'थे।', 91: 'मुझसे', 92: 'करता', 93: 'करते', 94: 'हुई', 95: '।', 96: 'होता', 97: 'दो', 98: 'किसी', 99: 'मदद', 100: 'वे', 101: 'जाने', 102: 'उससे', 103: 'भारत', 104: 'पैसे', 105: 'अपना', 106: 'हुआ', 107: 'न', 108: 'गाड़ी', 109: 'जो', 110: 'होगा।', 111: 'हो।', 112: 'ज़्यादा', 113: 'आपको', 114: 'हुए', 115: 'उसका', 116: 'कहाँ', 117: 'किया', 118: 'कम', 119: 'पहले', 120: 'जाना', 121: 'होती', 122: 'साल', 123: 'जा', 124: 'चाहता', 125: 'सारे', 126: 'गए', 127: 'बारे', 128: 'तुम्हारी', 129: 'आदमी', 130: 'सब', 131: 'बार', 132: 'अंग्रेज़ी', 133: 'बाहर', 134: 'दिन', 135: 'देर', 136: 'जब', 137: 'गई।', 138: 'रात', 139: 'खाना', 140: 'जाता', 141: 'अगर', 142: 'हमारे', 143: 'वापस', 144: 'फ़ोन', 145: 'वहाँ', 146: 'दिया', 147: 'जवाब', 148: 'हमने', 149: 'बड़ा', 150: 'अब', 151: 'जल्दी', 152: 'बंद', 153: 'ये', 154: 'तुमने', 155: 'छोड़', 156: 'हमेशा', 157: 'करो।', 158: 'तुमसे', 159: 'कैसे', 160: 'सकता।', 161: 'कितने', 162: 'दी।', 163: 'क्यों', 164: 'तरह', 165: 'चला', 166: 'तीन', 167: 'गए।', 168: 'आता', 169: 'करती', 170: 'थे', 171: 'लोग', 172: 'हर', 173: 'हमे', 174: 'दस', 175: 'देखा', 176: 'उन्होंने', 177: 'स्कूल', 178: 'पापा', 179: 'बारिश', 180: 'लोगों', 181: 'सबसे', 182: 'ठीक', 183: 'खुश', 184: 'चल', 185: 'डॉक्टर', 186: 'खतम', 187: 'कमरे', 188: 'मौसम', 189: 'देखा।', 190: 'मुश्किल', 191: 'माँ', 192: 'नौकरी', 193: 'बच्चे', 194: 'कहा', 195: 'अच्छी', 196: 'चाहते', 197: 'दो।', 198: 'कोशिश', 199: 'कुत्ता', 200: 'सभी', 201: 'शुरू', 202: 'जल्द', 203: 'हमारी', 204: 'पानी', 205: 'पिता', 206: 'सारी', 207: 'ट्रेन', 208: 'होने', 209: 'चिट्ठी', 210: 'अच्छे', 211: 'गई', 212: 'थी', 213: 'दोस्त', 214: 'रहता', 215: 'भाई', 216: 'कब', 217: 'लिया।', 218: 'थोड़ा', 219: 'थोड़ी', 220: 'चाहिए', 221: 'ले', 222: 'आपकी', 223: 'यकीन', 224: 'वाला', 225: 'फिरसे', 226: 'बस', 227: 'तुम्हारा', 228: 'टीवी', 229: 'बाद', 230: 'लिया', 231: 'मन', 232: 'लड़की', 233: 'ना', 234: 'सच', 235: 'करनी', 236: 'देना', 237: 'बिना', 238: 'या', 239: 'सुबह', 240: 'चुका', 241: 'थक', 242: 'दोनो', 243: 'साफ़', 244: 'जन्मदिन', 245: 'ज़रूरत', 246: 'पढ़', 247: 'रोज़', 248: 'नहीं।', 249: 'जापान', 250: 'हमें', 251: 'जानता', 252: 'बड़े', 253: 'ऐसा', 254: 'जाएगा।', 255: 'दे', 256: 'पाँच', 257: 'जाती', 258: 'देख', 259: 'वाले', 260: 'छः', 261: 'इन', 262: 'करी।', 263: 'लगा', 264: 'वजह', 265: 'माफ़', 266: 'प्यार', 267: 'आने', 268: 'शहर', 269: 'आवाज़', 270: 'नाम', 271: 'मिलने', 272: 'पीछे', 273: 'पूरी', 274: 'किताबें', 275: 'दरवाज़े', 276: 'इतना', 277: 'चाय', 278: 'आदत', 279: 'कितनी', 280: 'खाने', 281: 'बच्चों', 282: 'सही', 283: 'कौन', 284: 'समझ', 285: 'सोच', 286: 'मुझपर', 287: 'चीज़', 288: 'इनसान', 289: 'विदेश', 290: 'हाथ', 291: 'रहते', 292: 'इंतेज़ार', 293: 'पिताजी', 294: 'हुआ।', 295: 'शादी', 296: 'टीचर', 297: 'कपड़े', 298: 'हफ़्ते', 299: 'नदी', 300: 'दूसरे', 301: 'मेज़', 302: 'आमतौर', 303: 'सिगरेट', 304: 'आपका', 305: 'लगी', 306: 'कैसा', 307: 'ग़लत', 308: 'कृपया', 309: 'उम्र', 310: 'तैयार', 311: 'लड़के', 312: 'इस्तेमाल', 313: 'चलाना', 314: 'खो', 315: 'मिलना', 316: 'होगा', 317: 'बहन', 318: 'दोपहर', 319: 'आसान', 320: 'मिला।', 321: 'उनकी', 322: 'काफ़ी', 323: 'कमरा', 324: 'आपके', 325: 'होते', 326: 'अकेले', 327: 'धीरे', 328: 'फ़ायदा', 329: 'उनके', 330: 'महीने', 331: 'अंदर', 332: 'भूल', 333: 'आग', 334: 'आपसे', 335: 'आया।', 336: 'लग', 337: 'हुई।', 338: 'करो', 339: 'जानते', 340: 'बताया', 341: 'जैसा', 342: 'कितना', 343: 'गर्मी', 344: 'भरोसा', 345: 'सेव', 346: 'घड़ी', 347: 'जूते', 348: 'पिछले', 349: 'जहाँ', 350: 'स्टेशन', 351: 'परेशान', 352: 'सवाल', 353: 'पीना', 354: 'खबर', 355: 'मर', 356: 'आठ', 357: 'दिनों', 358: 'देने', 359: 'क्योंकि', 360: 'कहना', 361: 'दुनिया', 362: 'अगले', 363: 'गाँव', 364: 'जाओ।', 365: 'चलो', 366: 'कीजिए।', 367: 'कुत्ते', 368: 'आया', 369: 'पैसों', 370: 'आराम', 371: 'पढ़ाई', 372: 'मज़ाक', 373: 'याद', 374: 'खुशी', 375: 'बन', 376: 'विश्वास', 377: 'पड़ी।', 378: 'देखना', 379: 'आए', 380: 'जाकर', 381: 'पुलिस', 382: 'होंगे।', 383: 'पार्टी', 384: 'बाल', 385: 'कॉफ़ी', 386: 'लगभग', 387: 'मिल', 388: 'सकती।', 389: 'उन्हें', 390: 'दवाई', 391: 'सो', 392: 'समस्या', 393: 'मम्मी', 394: 'साईकल', 395: 'फ़र्क', 396: 'लगती', 397: 'अचानक', 398: 'सलाह', 399: 'जैसे', 400: 'होगी।', 401: 'बता', 402: 'निकल', 403: 'वैसा', 404: 'तैरना', 405: 'करूँगा।', 406: 'वादा', 407: 'बीमार', 408: 'मौत', 409: 'देखने', 410: 'दरवाज़ा', 411: 'संगीत', 412: 'फिर', 413: 'कहानी', 414: 'शायद', 415: 'करी', 416: 'मुलाकात', 417: 'ग़लती', 418: 'चालू', 419: 'ली।', 420: 'उन', 421: 'जितना', 422: 'लम्बा', 423: 'कीजिएगा', 424: 'लेना', 425: 'पेड़', 426: 'जान', 427: 'ख़याल', 428: 'हवा', 429: 'सकते।', 430: 'मैरी', 431: 'पड़ेगी।', 432: 'रखना', 433: 'ऐसी', 434: 'तेज़', 435: 'अजीब', 436: 'अक्सर', 437: 'राजा', 438: 'डर', 439: 'छोटी', 440: 'पुराने', 441: 'ढूँढ', 442: 'सैर', 443: 'चाह्ता', 444: 'तस्वीर', 445: 'नई', 446: 'सका।', 447: 'बीच', 448: 'मानो', 449: 'दूर', 450: 'लिखी', 451: 'बर्दाश्त', 452: 'अलग', 453: 'भूख', 454: 'तू', 455: 'इसे', 456: 'हमारा', 457: 'बिस्तर', 458: 'पैर', 459: 'पतंग', 460: 'ध्यान', 461: 'शोर', 462: 'खराब', 463: 'दर्द', 464: 'विद्यार्थी', 465: 'चोरी', 466: 'आँखें', 467: 'आएगा।', 468: 'सकती', 469: 'पैदा', 470: 'परिवार', 471: 'चुके', 472: 'आती', 473: 'करके', 474: 'बुरी', 475: 'जाए।', 476: 'आसमान', 477: 'डब्बे', 478: 'लगाकर', 479: 'बुखार', 480: 'काट', 481: 'मिला', 482: 'रविवार', 483: 'बज', 484: 'दीजिए।', 485: 'रंग', 486: 'अफ़वाह', 487: 'नाप', 488: 'ज़िन्दगी', 489: 'जानवर', 490: 'भाग', 491: 'खाली', 492: 'जाऊँगा।', 493: 'सौ', 494: 'बोल', 495: 'आसानी', 496: 'खेलना', 497: 'काश', 498: 'चीनी', 499: 'टेनिस', 500: 'दोनों', 501: 'होमवर्क', 502: 'जंगल', 503: 'अध्यापक', 504: 'रहने', 505: 'फ़िल्म', 506: 'पीने', 507: 'किस', 508: 'जाते', 509: 'खिड़की', 510: 'दुर्घटना', 511: 'सफ़र', 512: 'पूरे', 513: 'इसके', 514: 'बजाय', 515: 'सड़क', 516: 'बड़ी', 517: 'जाएगी।', 518: 'भाषा', 519: 'राजधानी', 520: 'रहना', 521: 'इतने', 522: 'ज़िम्मेदार', 523: 'पढ़ने', 524: 'लंदन', 525: 'अंतर', 526: 'बच्चा', 527: 'मशीन', 528: 'खड़ा', 529: 'लगते', 530: 'आओ।', 531: 'लो।', 532: 'फूल', 533: 'मछलियाँ', 534: 'खरीदना', 535: 'आऊँगा।', 536: 'गरम', 537: 'ज़रूरी', 538: 'आई', 539: 'सुनाई', 540: 'गिटार', 541: 'बिजली', 542: 'बूढ़ा', 543: 'बारी', 544: 'रहें', 545: 'सच्चाई', 546: 'जंग', 547: 'रहती', 548: 'किसने', 549: 'उम्मीद', 550: 'वही', 551: 'सा', 552: 'i', 553: 'छोटा', 554: 'सुंदर', 555: 'चोर', 556: 'कौनसा', 557: 'सवालों', 558: 'दिखने', 559: 'अमीर', 560: 'बेसबॉल', 561: 'आओगे', 562: 'पढ़ना', 563: 'टोक्यो', 564: 'बना', 565: 'कामयाब', 566: 'सहमत', 567: 'खा', 568: 'पीठ', 569: 'फ़ैसला', 570: 'निराश', 571: 'चुकी', 572: 'अफ़सर', 573: 'गरीब', 574: 'हमको', 575: 'विज्ञान', 576: 'आगे', 577: 'लम्बी', 578: 'कहीं', 579: 'झील', 580: 'पूरा', 581: 'चहिए।', 582: 'औरत', 583: 'साढ़े', 584: 'बजाना', 585: 'वाली', 586: 'ग़लतियाँ', 587: 'पहुँच', 588: 'देश', 589: 'उसपर', 590: 'इससे', 591: 'सामने', 592: 'खड़े', 593: 'लगाया।', 594: 'जी', 595: 'बीमारी', 596: 'मिनट', 597: 'कीमत', 598: 'आना', 599: 'सीखना', 600: 'दी', 601: 'डॉलर', 602: 'उठा', 603: 'दिलचस्पी', 604: 'रूप', 605: 'क्लास', 606: 'दिलचस्प', 607: 'रुक', 608: 'हिसाब', 609: 'आखिरकार', 610: 'बोली', 611: 'बोलना', 612: 'खिलाड़ी', 613: 'नम्बर', 614: 'मना', 615: 'असली', 616: 'आते', 617: 'चाहती', 618: 'सुनकर', 619: 'शौक', 620: 'जहाज़', 621: 'करोगे', 622: 'हूं।', 623: 'विषय', 624: 'जितनी', 625: 'चीन', 626: 'स्वास्थ्य', 627: 'ऐसे', 628: 'कई', 629: 'पहाड़', 630: 'लिख', 631: 'पाया।', 632: 'रह', 633: 'देखभाल', 634: 'छोटे', 635: 'पा', 636: 'पहचान', 637: 'तब', 638: 'मज़े', 639: 'पेट', 640: 'भर', 641: 'चलें', 642: 'मत।', 643: 'ली', 644: 'कैसी', 645: 'पता।', 646: 'बरफ़', 647: 'गिर', 648: 'मुफ़्त', 649: 'नीचे', 650: 'उड़', 651: 'लड़का', 652: 'कमी', 653: 'इतिहास', 654: 'रहूँगा।', 655: 'भगवान', 656: 'करता।', 657: 'बस्ता', 658: 'पहनी', 659: 'बक', 660: 'ऊपर', 661: 'आस', 662: 'पड़ोस', 663: 'अप्रैल', 664: 'चाबी', 665: 'लगा।', 666: 'बैंक', 667: 'मिलेंगे।', 668: 'चली', 669: 'महसूस', 670: 'खरीदी।', 671: 'पढ़ा', 672: 'जीत', 673: 'चाहूँगा।', 674: 'रही।', 675: 'पड़ेगा।', 676: 'चिंता', 677: 'गुस्सा', 678: 'उधार', 679: 'की।', 680: 'होना', 681: 'योजना', 682: 'खुला', 683: 'ग्यारह', 684: 'लाल', 685: 'ड्रेस', 686: 'ओर', 687: 'राज़', 688: 'अंडे', 689: 'प्रस्ताव', 690: 'स्वीकार', 691: 'सारा', 692: 'आता।', 693: 'नफ़रत', 694: 'खेल', 695: 'आएगा', 696: 'भला', 697: 'गाना', 698: 'डाला।', 699: 'सात', 700: 'खुद', 701: 'नौ', 702: 'बत्ती', 703: 'दूध', 704: 'मेहनत', 705: 'तरफ़', 706: 'शिकायत', 707: 'सके', 708: 'दूँगा।', 709: 'आई।', 710: 'डब्बा', 711: 'चार', 712: 'खोल', 713: 'उपन्यास', 714: 'कप', 715: 'सोने', 716: 'सेहत', 717: 'पत्नी', 718: 'कहा।', 719: 'लेने', 720: 'इनकार', 721: 'मुझ', 722: 'कठिन', 723: 'बुराई', 724: 'अटैची', 725: 'रो', 726: 'पसंदीता', 727: 'बदलने', 728: 'भूलना।', 729: 'छोड़ने', 730: 'राय', 731: 'मील', 732: 'बिलकुल', 733: 'मे', 734: 'शब्द', 735: 'घंटे', 736: 'कनाडा', 737: 'यूरोप', 738: 'नियम', 739: 'पार', 740: 'सपना', 741: 'लिए।', 742: 'नगर', 743: 'होतीं', 744: 'दुकान', 745: 'हमसे', 746: 'टिकटें', 747: 'अमेरिका', 748: 'अफ़्रीका', 749: 'बेटे', 750: 'पकड़', 751: 'हद', 752: 'इसलिए', 753: 'रवाना', 754: 'इरादा', 755: 'जाऊँगी।', 756: 'लिखा', 757: 'बेहतर', 758: 'बहनें', 759: 'आजकल', 760: 'बेचैन', 761: 'ढूँढने', 762: 'विमान', 763: 'कॉलेज', 764: 'विश्व', 765: 'सुन', 766: 'पहली', 767: 'सामान', 768: 'केवल', 769: 'पैरिस', 770: 'ख़रीद', 771: 'दोस्तों', 772: 'लायक', 773: 'मुताबिक', 774: 'जिससे', 775: 'क्रिकेट', 776: 'शौकिया', 777: 'कर्मचारियों', 778: 'बनाने', 779: 'ब्रिज', 780: 'अम्रीका', 781: 'देते', 782: 'सरकार', 783: 'परीक्षा', 784: 'पड़ता', 785: 'वाह', 786: 'धन्यवाद', 787: 'जाओ', 788: 'हार', 789: 'करना।', 790: 'पंछी', 791: 'लेकिन', 792: 'अकेला', 793: 'बोर', 794: 'ठंड', 795: 'गाते', 796: 'बैठिए।', 797: 'मुस्कुराया।', 798: 'नया', 799: 'केक', 800: 'झूठ', 801: 'मुबारक', 802: 'समझता', 803: 'मान', 804: 'चीजों', 805: 'व्यस्थ', 806: 'बिल्ली', 807: 'सकतीं', 808: 'नक्शा', 809: 'गोली', 810: 'नए', 811: 'हों', 812: 'धोओ।', 813: 'पागल', 814: 'टोपी', 815: 'पति', 816: 'उल्टी', 817: 'नसीब', 818: 'काला', 819: 'सिखा', 820: 'चावल', 821: 'मूँह', 822: 'लम्बे', 823: 'कौनसी', 824: 'नींद', 825: 'नीली', 826: 'शादीशुदा', 827: 'बताओ।', 828: 'रेडियो', 829: 'औरतों', 830: 'वो', 831: 'महंगा', 832: 'महंगी', 833: 'रेलगाड़ी', 834: 'कौआ', 835: 'तोड़', 836: 'बनाया', 837: 'कह', 838: 'पुरानी', 839: 'बताने', 840: 'शराब', 841: 'लिखना', 842: 'कमीज़', 843: 'टैक्स', 844: 'पेनसिल', 845: 'जॉगिंग', 846: 'समुंदर', 847: 'प्रतीक्षा', 848: 'ज़ुकाम', 849: 'बारह', 850: 'मछली', 851: 'पहने', 852: 'भूत', 853: 'लगतीं', 854: 'तेज़ी', 855: 'रख', 856: 'व्यापार', 857: 'थोड़े', 858: 'घोड़े', 859: 'उनका', 860: 'छलाँग', 861: 'इसको', 862: 'जाऊं', 863: 'गेंद', 864: 'बताओ', 865: 'छूट', 866: 'लगाई।', 867: 'उनको', 868: 'जैसी', 869: 'गलत', 870: 'मजबूर', 871: 'बोलो।', 872: 'लेता', 873: 'खटखटाया।', 874: 'चुरा', 875: 'उठता', 876: 'ठंडा', 877: 'काले', 878: 'पियानो', 879: 'तेल', 880: 'उतना', 881: 'वैसे', 882: 'येन', 883: 'निर्णय', 884: 'फ़ुटबॉल', 885: 'इलज़ाम', 886: 'गिलास', 887: 'बजने', 888: 'कुरसी', 889: 'लकड़ी', 890: 'देखते', 891: 'आपने', 892: 'कैंसर', 893: 'संतुष्ट', 894: 'मुलाक़ात', 895: 'टैक्सी', 896: 'हाँ', 897: 'किनारे', 898: 'सज़ा', 899: 'गाड़ियाँ', 900: 'दिखाई', 901: 'होती।', 902: 'मुसीबत', 903: 'देखकर', 904: 'छाया', 905: 'धन्यवाद।', 906: 'बनी', 907: 'रोने', 908: 'पड़ा।', 909: 'बीस', 910: 'रक्षा', 911: 'करवाना', 912: 'जगह', 913: 'फूलों', 914: 'पड़ता।', 915: 'जरूरत', 916: 'समान', 917: 'सर', 918: 'चोट', 919: 'दोगे', 920: 'अगली', 921: 'फ़्रानसीसी', 922: 'बर्ताव', 923: 'खूबसूरत', 924: 'बर्बादी', 925: 'धीमी', 926: 'बचा', 927: 'खेलने', 928: 'चाहेंगे', 929: 'दफ़्तर', 930: 'सुथरा', 931: 'भाषण', 932: 'नतीजे', 933: 'खेत', 934: 'नानी', 935: 'सीधे', 936: 'इटली', 937: 'अलावा', 938: 'जनसंख्या', 939: 'ऑस्ट्रेलिया', 940: 'छोड़ना', 941: 'सी', 942: 'चीज़ें', 943: 'मक्खन', 944: 'उठाया।', 945: 'सोमवार', 946: 'घंटों', 947: 'जाता।', 948: 'सपने', 949: 'डाक', 950: 'मानते', 951: 'उनसे', 952: 'सोते', 953: 'पत्र', 954: 'खड़ी', 955: 'तुमको', 956: 'कविता', 957: 'निकालते', 958: 'व्यक्ति', 959: 'भोजन', 960: 'छत', 961: 'रहा।', 962: 'बातचीत', 963: 'कब्रिस्तान', 964: 'बाज़ार', 965: 'स्टॉप', 966: 'देता', 967: 'जल्दबाज़ी', 968: 'अखबार', 969: 'पालन', 970: 'उत्तर', 971: 'शर्म', 972: 'पचास', 973: 'तस्वीरें', 974: 'अस्पताल', 975: 'कम्प्यूटर', 976: 'इतनी', 977: 'संदेश', 978: 'दिल्ली', 979: 'चलती', 980: 'खाते', 981: 'उठते', 982: 'वसीयत', 983: 'जानना', 984: 'हैरान', 985: 'जेब', 986: 'पकड़ा', 987: 'मौके', 988: 'बुलाया', 989: 'कम्पनी', 990: 'सुनने', 991: 'जाया', 992: 'पछतावा', 993: 'चाहे', 994: 'जाए', 995: 'देगी।', 996: 'कहने', 997: 'पाया', 998: 'राज़ी', 999: 'बत्तियाँ', 1000: 'मिली।', 1001: 'इलाज', 1002: 'पहचानता', 1003: 'म्युज़ियम', 1004: 'इंग्लैंड', 1005: 'थीं।', 1006: 'जिसे', 1007: 'दिख', 1008: 'रास्ते', 1009: 'पुस्तकालय', 1010: 'माता', 1011: 'सोचता', 1012: 'टेरेसा', 1013: 'समझे', 1014: 'स्वागत', 1015: 'मौज', 1016: 'बेहोश', 1017: 'शाबाश', 1018: 'किसको', 1019: 'किसे', 1020: 'मालूम', 1021: 'पीछा', 1022: 'तैर', 1023: 'ताकतवर', 1024: 'गणित', 1025: 'बोला।', 1026: 'जाना।', 1027: 'खोलो।', 1028: 'खोलिए।', 1029: 'आईए।', 1030: 'दोबारा', 1031: 'दाढ़ी', 1032: 'चुकीं', 1033: 'करेंगे।', 1034: 'आना।', 1035: 'इंतज़ार', 1036: 'भागते', 1037: 'अरबी', 1038: 'बदतमीज़', 1039: 'दौड़ने', 1040: 'कैफ़े', 1041: 'आसपास', 1042: 'हसीना', 1043: 'गलती', 1044: 'चिड़ियाँ', 1045: 'देखें।', 1046: 'चढ़', 1047: 'आओ', 1048: 'बैठो।', 1049: 'बोलता', 1050: 'लो', 1051: 'जानता।', 1052: 'बूढ़ी', 1053: 'मै', 1054: 'ज़िंदगी', 1055: 'मिलकर', 1056: 'हस्ताक्षर', 1057: 'धोखा', 1058: 'चिड़िया', 1059: 'किसकी', 1060: 'पक्षी', 1061: 'घोसले', 1062: 'रहेंगे।', 1063: 'सिरदर्द', 1064: 'छोड़ो।', 1065: 'पत्थर', 1066: 'गहरी', 1067: 'साँस', 1068: 'रोया।', 1069: 'मानता', 1070: 'हूं', 1071: 'सुनी।', 1072: 'प्यासा', 1073: 'रातभर', 1074: 'दिखता', 1075: 'सच्ची', 1076: 'रहे।', 1077: 'गुलदान', 1078: 'कलम', 1079: 'जिमखाने', 1080: 'हालत', 1081: 'स्वाद', 1082: 'समझा', 1083: 'पूछना', 1084: 'टिकट', 1085: 'खींची।', 1086: 'हरे', 1087: 'हवाई', 1088: 'रहतीं', 1089: 'नाराज़', 1090: 'दीं।', 1091: 'बहाना', 1092: 'तुमपर', 1093: 'हल्का', 1094: 'लिपटा', 1095: 'रेशम', 1096: 'टूटी', 1097: 'पी', 1098: 'जाओगे', 1099: 'साबित', 1100: 'जोड़ें।', 1101: 'मोटी', 1102: 'घंटी', 1103: 'पैसा', 1104: 'निशाना', 1105: 'बरस', 1106: 'आभारी', 1107: 'बॉस्टन', 1108: 'दौड़', 1109: 'बेटी', 1110: 'समझो।', 1111: 'सूज', 1112: 'डालना', 1113: 'रखदो।', 1114: 'घुसाना', 1115: 'घुसा', 1116: 'मांगी।', 1117: 'ज़िद्दी', 1118: 'बैठ', 1119: 'चलना', 1120: 'रोमांचक', 1121: 'लिफ़्ट', 1122: 'आएँगे', 1123: 'समझिए।', 1124: 'माँगो।', 1125: 'भौतिक', 1126: 'दिलाया।', 1127: 'सोकर', 1128: 'अनुपस्थित', 1129: 'पहनती', 1130: 'नर्म', 1131: 'दिल', 1132: 'मुड़कर', 1133: 'चाकू', 1134: 'करती।', 1135: 'शेर', 1136: 'पालतू', 1137: 'छूने', 1138: 'जाएँगे', 1139: 'याददाश्त', 1140: 'कुरसियाँ', 1141: 'मंगलवार', 1142: 'पासपोर्ट', 1143: 'पार्क', 1144: 'लगाया', 1145: 'चाहूँगी।', 1146: 'दर्जन', 1147: 'सफ़ेद', 1148: 'हुएँ', 1149: 'लागु', 1150: 'कर्ज़', 1151: 'सुन्दर', 1152: 'मोड़ो।', 1153: 'जरूरी', 1154: 'छुट्टी', 1155: 'बगीचा', 1156: 'तीस', 1157: 'शौकीन', 1158: 'बंदूक', 1159: 'कत्ल', 1160: 'होता।', 1161: 'यहां', 1162: 'किलो', 1163: 'समझाउँगा।', 1164: 'लोहा', 1165: 'बाप', 1166: 'टीम', 1167: 'रास्ता', 1168: 'नही', 1169: 'आयात', 1170: 'कौनसे', 1171: 'पढ़ते', 1172: 'गिरफ़्तार', 1173: 'परियों', 1174: 'पड़ोसियों', 1175: 'डरता', 1176: 'जल', 1177: 'आँखों', 1178: 'खरीदी', 1179: 'खाता', 1180: 'हाल', 1181: 'बेच', 1182: 'मैनेजर', 1183: 'चाह्ती', 1184: 'मरने', 1185: 'शाम', 1186: 'तौलिया', 1187: 'चुकें', 1188: 'मिलते', 1189: 'पूछ', 1190: 'बीवी', 1191: 'दिखाई।', 1192: 'सांप', 1193: 'तोहफ़े', 1194: 'पाएगा।', 1195: 'क़ैदी', 1196: 'रिहा', 1197: 'कारण', 1198: 'सरल', 1199: 'स्वतंत्रता', 1200: 'दुःखी', 1201: 'तालाब', 1202: 'होगी', 1203: 'तुरंत', 1204: 'कोयले', 1205: 'आकर', 1206: 'व्यक्तिगत', 1207: 'माँगे।', 1208: 'सगाई', 1209: 'बेकार', 1210: 'मुकाबले', 1211: 'खरीदीं।', 1212: 'मर्ज़ी', 1213: 'आवश्यकता', 1214: 'खरीदने', 1215: 'ज़िन्दा', 1216: 'मज़ेदार', 1217: 'मुसलाधार', 1218: 'वर्षा', 1219: 'मशहूर', 1220: 'हँस', 1221: 'कीचड़', 1222: 'रखा', 1223: 'हँसे।', 1224: 'मनाया।', 1225: 'अभिमान', 1226: 'सुनते', 1227: 'हित', 1228: 'शोक', 1229: 'अच्छाई', 1230: 'फ़्रान्स', 1231: 'पश्चिमी', 1232: 'समझाया।', 1233: 'खेलता', 1234: 'जर्मन', 1235: 'अगस्त', 1236: 'चलने', 1237: 'मेक्सिको', 1238: 'स्पैनिश', 1239: 'अरब', 1240: 'सरासर', 1241: 'हिला', 1242: 'देखो', 1243: 'धूम्रपान', 1244: 'खतरे', 1245: 'शांति', 1246: 'रहो।', 1247: 'हीरा', 1248: 'जापानी', 1249: 'दाँतों', 1250: 'शब्दों', 1251: 'दीवार', 1252: 'गुलाब', 1253: 'बनने', 1254: 'बदबू', 1255: 'करतें', 1256: 'हिरण', 1257: 'कामयाबी', 1258: 'बताया।', 1259: 'सुरक्षा', 1260: 'बहस', 1261: 'रोम', 1262: 'बंदर', 1263: 'आबादी', 1264: 'बढ़', 1265: 'उतर', 1266: 'घटना', 1267: 'चहिए', 1268: 'बैठा', 1269: 'करा', 1270: 'ब्रेड', 1271: 'तो।', 1272: 'विचार', 1273: 'नहीँ', 1274: 'नहाता', 1275: 'फँस', 1276: 'चूर', 1277: 'भविष्य', 1278: 'समझदार', 1279: 'चौंक', 1280: 'होनी', 1281: 'पूछने', 1282: 'कारोबार', 1283: 'पड़', 1284: 'खतरनाक', 1285: 'मतलब', 1286: 'किसान', 1287: 'उतार', 1288: 'लेट', 1289: 'शानदार', 1290: 'धूल', 1291: 'सूरज', 1292: 'जारी', 1293: 'निकले।', 1294: 'नज़र', 1295: 'करेगी', 1296: 'रस', 1297: 'लेखक', 1298: 'माँगनी', 1299: 'लेनी', 1300: 'सम्मान', 1301: 'ख़त्म', 1302: 'ताज़ी', 1303: 'सब्ज़ियाँ', 1304: 'बरी', 1305: 'लगाए', 1306: 'आशा', 1307: 'भारी', 1308: 'मुझको', 1309: 'बुरे', 1310: 'राष्ट्रपति', 1311: 'निकली।', 1312: 'हल्के', 1313: 'डूबते', 1314: 'ऊँचा', 1315: 'नियमों', 1316: 'चलतें', 1317: 'कंजूस', 1318: 'मारा', 1319: 'होकर', 1320: 'आलसी', 1321: 'कॉल', 1322: 'बुरा', 1323: 'बॉस', 1324: 'करवाया।', 1325: 'मंदिरों', 1326: 'बोलते', 1327: 'कष्ट', 1328: 'डाँट', 1329: 'जचती', 1330: 'तरीके', 1331: 'होगे', 1332: 'गप', 1333: 'देनी', 1334: 'उपयोग', 1335: 'कार्यक्रम', 1336: 'हाथी', 1337: 'दुख', 1338: 'छिपा', 1339: 'भाषाएँ', 1340: 'अक्खड़पन', 1341: 'बनना', 1342: 'तैरकर', 1343: 'नाज़', 1344: 'उड़ान', 1345: 'हुईं', 1346: 'सीखने', 1347: 'गति', 1348: 'नाश्ता', 1349: 'फ़िल्में', 1350: 'तोड़ी', 1351: 'पक्का', 1352: 'जीना', 1353: 'गलतियों', 1354: 'खाया।', 1355: 'जायदाद', 1356: 'लगता।', 1357: 'बयान', 1358: 'शक', 1359: 'सीखी', 1360: 'आर्ट', 1361: 'पंख', 1362: 'निर्भर', 1363: 'तैयारी', 1364: 'लेना।', 1365: 'पढ़ाना', 1366: 'तूफ़ान', 1367: 'नष्ट', 1368: 'प्रश्न', 1369: 'उन्हे', 1370: 'जानने', 1371: 'होंगीं', 1372: 'सालों', 1373: 'शतक', 1374: 'बच्चें', 1375: 'टॉयलेट', 1376: 'वाक्य', 1377: 'सोचा', 1378: 'जाओगे।', 1379: 'दादी', 1380: 'शिक़ायत', 1381: 'बेटा', 1382: 'सितारे', 1383: 'सलह', 1384: 'क़ानून', 1385: 'पत्तियों', 1386: 'पाए।', 1387: 'रखा।', 1388: 'मिलेगा।', 1389: 'मौका', 1390: 'पड़ी', 1391: 'दिमाग़', 1392: 'मीटिंग', 1393: 'उलटी', 1394: 'नकल', 1395: 'शिक्षा', 1396: 'महीनों', 1397: 'सीख', 1398: 'शब्दकोश', 1399: 'बसीं।', 1400: 'पाल', 1401: 'पोस', 1402: 'हिचकिचाहट', 1403: 'आईएगा।', 1404: 'हफ़्तों', 1405: 'गुड़िया', 1406: 'बोलने', 1407: 'रहीं', 1408: 'एकदम', 1409: 'पर्यावरण', 1410: 'आम', 1411: 'कहावत', 1412: 'क्लब', 1413: 'न्योता', 1414: 'डाल', 1415: 'चिट्ठियाँ', 1416: 'वीडियो', 1417: 'पहलू', 1418: 'मिलती', 1419: 'हिरासत', 1420: 'समझने', 1421: 'भूकम्प', 1422: 'उतारे', 1423: 'लगादी।', 1424: 'अंत', 1425: 'भूलूँगा।', 1426: 'ख़रीदो', 1427: 'देशों', 1428: 'एसी', 1429: 'उठाने', 1430: 'ही।', 1431: 'कीमती', 1432: 'संपत्ति', 1433: 'विदेशी', 1434: 'चाह्ते', 1435: 'जाएगा', 1436: 'बातें', 1437: 'ऐक्सीडेंट', 1438: 'लापरवाही', 1439: 'चुराने', 1440: 'निराशा', 1441: 'इंग्लैड', 1442: 'रोकने', 1443: 'उठना', 1444: 'नामुमकिन', 1445: 'खर्च', 1446: 'बदल', 1447: 'टेस्ट', 1448: 'खिलाफ़', 1449: 'करूँगी।', 1450: 'पर्वत', 1451: 'छोड़े', 1452: 'खोलते', 1453: 'ग़लतफ़ैमी', 1454: 'सम्पर्क', 1455: 'हस्पताल', 1456: 'पहुँचा', 1457: 'जिसके', 1458: 'उनपर', 1459: 'हज़ारों', 1460: 'आज़ादी', 1461: 'हड़ताल', 1462: 'परसों', 1463: 'भेजा', 1464: 'सत्रह', 1465: 'दुखी', 1466: 'खयाल', 1467: 'मिले', 1468: 'स्ट्रॉबेरी', 1469: 'विष्व', 1470: 'शहरों', 1471: 'जाएं।', 1472: 'हिफ़ाज़त', 1473: 'उतारने', 1474: 'मतलबी', 1475: 'बढ़ाने', 1476: 'समिति', 1477: 'तर', 1478: 'तहकीकात', 1479: 'राज्य', 1480: 'मातापिता', 1481: 'बाकी', 1482: 'हालांकि', 1483: 'जिसपर', 1484: 'जुड़वा', 1485: 'उनमें', 1486: 'लगेंगे।', 1487: 'पहचानते', 1488: 'मदर', 1489: 'कलकत्ता', 1490: 'झुको', 1491: 'बतख़', 1492: 'बचाओ', 1493: 'उछलो', 1494: 'कूदो', 1495: 'छलांग', 1496: 'नमस्ते।', 1497: 'नमस्कार।', 1498: 'चियर्स', 1499: 'जीते।', 1500: 'बढ़िया', 1501: 'चले', 1502: 'ख़ुदा', 1503: 'हाफ़िज़।', 1504: 'उत्तम', 1505: 'स्वागतम्।', 1506: 'दूंगा।', 1507: 'उड़ते', 1508: 'ख़ूब', 1509: 'खेद', 1510: 'हँसा।', 1511: 'अकेली', 1512: 'दीवालिया', 1513: 'अद्भुत', 1514: 'निश्चित', 1515: 'हिलो', 1516: 'जलाती', 1517: 'भेजो।', 1518: 'अंगर', 1519: 'बार।', 1520: 'उबासी', 1521: 'चिल्लाओ', 1522: 'चिल्लाईए', 1523: 'आऊंगा।', 1524: 'एसटर', 1525: 'हिल', 1526: 'मालूम।', 1527: 'जाईये।', 1528: 'अविश्वसनीय', 1529: 'मोटे', 1530: 'पीकर', 1531: 'करदो।', 1532: 'खिलते', 1533: 'डॉनत', 1534: 'लेलूँगा।', 1535: 'दिखाओ।', 1536: 'ट्राए', 1537: 'पढ़ें।', 1538: 'पढ़के', 1539: 'सुनाओ।', 1540: 'झुकी।', 1541: 'सहायता', 1542: 'छूना', 1543: 'निकलो', 1544: 'नव', 1545: 'वर्ष', 1546: 'शुभकामनाएं', 1547: 'बधाईयाँ।', 1548: 'छुट्टियाँ', 1549: 'मंगलमय', 1550: 'अभिनेता', 1551: 'अनीश्वरवादी', 1552: 'चाल', 1553: 'जाने।', 1554: 'गर्मियाँ', 1555: 'आदर्श', 1556: 'बुलाएँगे।', 1557: 'थके', 1558: 'हारे', 1559: 'पे', 1560: 'आजाओ।', 1561: 'सको', 1562: 'बधाई', 1563: 'बनो।', 1564: 'मुस्कुराए।', 1565: 'पकाया।', 1566: 'हमला', 1567: 'रसोइया', 1568: 'बावर्ची', 1569: 'उड़ाएँ', 1570: 'रोना', 1571: 'बोलती', 1572: 'चुने।', 1573: 'आलूओं', 1574: 'काटो।', 1575: 'बनाओ।', 1576: 'मचाओ।', 1577: 'संत्रे', 1578: 'नारंगी', 1579: 'बस्ता।', 1580: 'प्यास', 1581: 'पहेली', 1582: 'खरीदारी', 1583: 'शराबख़ाना', 1584: 'आँखे', 1585: 'बनातें', 1586: 'बनातीं', 1587: 'थें', 1588: 'धोका', 1589: 'चिल्लाए।', 1590: 'चिल्लाने', 1591: 'नौकरानी', 1592: 'रखता', 1593: 'पड़ा', 1594: 'देशद्रोही', 1595: 'जाचुका', 1596: 'रोई।', 1597: 'सिर', 1598: 'सुनता', 1599: 'दौड़ते', 1600: 'सच्चा', 1601: 'गईं', 1602: 'गाने', 1603: 'लगी।', 1604: 'पृथ्वी', 1605: 'घूमती', 1606: 'आमंत्रित', 1607: 'प्रयत्न', 1608: 'खुशखबर', 1609: 'ख़िलाफ़', 1610: 'युद्ध', 1611: 'विरोध', 1612: 'सुख', 1613: 'समुद्र', 1614: 'तट', 1615: 'कहां', 1616: 'पाय', 1617: 'बनाई', 1618: 'हाँ।', 1619: 'बिज़ी', 1620: 'सोये', 1621: 'फेंको।', 1622: 'तेरी', 1623: 'अकल', 1624: 'घास', 1625: 'चरने', 1626: 'करीं।', 1627: 'रोया', 1628: 'साधा', 1629: 'ज़रूर', 1630: 'चचेरा', 1631: 'ममेरा', 1632: '१९६०', 1633: '१९७९', 1634: 'देखता', 1635: 'गिरनी', 1636: 'गो', 1637: 'सूटकेस', 1638: 'मजेदार', 1639: 'संभालने', 1640: 'चलते', 1641: 'टोयोटा', 1642: 'पाँव', 1643: 'जम', 1644: 'उछल', 1645: 'चिढ़', 1646: 'बॅटर', 1647: 'आऊट', 1648: 'गायब', 1649: 'स्केटिंग', 1650: 'मज़ा', 1651: 'कद्दू', 1652: 'टेक्सी', 1653: 'बुलवाई।', 1654: 'प्रवेश', 1655: 'दाखिल', 1656: 'अकेलापन', 1657: 'थका', 1658: 'हारा', 1659: 'गाता', 1660: 'जोखिम', 1661: 'खाया', 1662: 'लाता', 1663: 'लाऊँगा।', 1664: 'खेलतें', 1665: 'स्याही', 1666: 'बाघ', 1667: 'जिसकी', 1668: 'पसीने', 1669: 'ज़बान', 1670: 'सम्भाल', 1671: 'भरना', 1672: 'अड्डा', 1673: 'सर्दी', 1674: 'क्षमा', 1675: 'बचाली।', 1676: 'प्रत्येक', 1677: 'अजनबी', 1678: 'आपत्ती', 1679: 'तकलीफ', 1680: 'खाती', 1681: 'ऊँगली', 1682: 'बेहोशी', 1683: 'तौर', 1684: 'समझकर', 1685: 'बोला', 1686: 'एलर्जी', 1687: 'चश्मा', 1688: 'चश्मे', 1689: 'उबाऊ', 1690: 'लेजाने', 1691: 'लिंकन', 1692: '१८६५', 1693: 'ख़ासियत', 1694: 'चादरें', 1695: 'गीलीं', 1696: 'पाइप', 1697: 'फट', 1698: 'मेरीं', 1699: 'ज़ू', 1700: 'बीतता', 1701: 'बियर', 1702: 'वार', 1703: 'इसमें', 1704: 'लौट', 1705: 'मोटा', 1706: 'कैमरा', 1707: 'पार्श्व', 1708: 'टिप्पणियाँ', 1709: 'मुर्गियाँ', 1710: 'देतीं', 1711: 'पुलिसवाला', 1712: 'सीड़ियों', 1713: 'फ़र्निचर', 1714: 'पैसेवाला', 1715: 'साठ', 1716: 'प्रतियोगिता', 1717: 'ढंग', 1718: 'डुबकी', 1719: 'नौकर', 1720: 'जीव', 1721: 'हड़बड़ी', 1722: 'कोरिया', 1723: 'मई', 1724: 'आँख', 1725: 'फेंकिए।', 1726: 'डालदो।', 1727: 'नन्हा', 1728: 'खिलौना', 1729: 'खरीद', 1730: 'लाई।', 1731: 'जी।', 1732: 'छोड़दी।', 1733: 'उड़ाया।', 1734: 'चिल्लाया।', 1735: 'बकवास', 1736: 'वैसी', 1737: 'भरनी।', 1738: 'बोओगे', 1739: 'काटोगे।', 1740: 'पाओ।', 1741: 'भला।', 1742: 'भरना।', 1743: 'लोमड़ी', 1744: 'जंगली', 1745: 'उड़ाओ।', 1746: 'थप्पड़', 1747: 'शुरु', 1748: 'कमा', 1749: 'बेटियाँ', 1750: 'सीखा।', 1751: 'फाड़', 1752: 'दया', 1753: 'पिंजरा', 1754: 'गस्सा', 1755: 'निकाला', 1756: 'ब्लडी', 1757: 'हवाईअड्डे', 1758: 'उत्सुक', 1759: 'रखो', 1760: 'गुड़गुड़ा', 1761: 'न्यू', 1762: 'यॉर्क', 1763: 'छूटता', 1764: 'सफ़ाई', 1765: 'करूँ', 1766: 'जानती', 1767: 'पैसेवाली', 1768: 'पैसेवाले', 1769: 'दिखाया।', 1770: 'पकाया', 1771: 'पका', 1772: 'गेट', 1773: 'अच्छा।', 1774: 'प्रसन्न', 1775: 'पतली', 1776: 'इंजन', 1777: 'कीजिये।', 1778: 'बैठते', 1779: 'तम्हे', 1780: 'खुलता', 1781: 'तापमान', 1782: 'हकला', 1783: 'रोकना', 1784: 'देखतें', 1785: 'बूंद', 1786: 'पियो।', 1787: 'भूलना', 1788: 'ग्लास', 1789: 'रेत', 1790: 'पायी।', 1791: 'उठा।', 1792: 'सूप', 1793: 'सूँघ', 1794: 'घमण्डी', 1795: 'अहंकारी', 1796: 'अभिमानी', 1797: 'दंत', 1798: 'चिकित्सक', 1799: 'तोहफ़ा', 1800: 'बीयर', 1801: 'यही', 1802: 'टांगें', 1803: 'लम्बीं', 1804: 'लेआऊँ', 1805: 'खरीदे।', 1806: 'उदाहरण', 1807: 'कोईसा', 1808: 'अनाथ', 1809: 'गोद', 1810: 'आमने', 1811: 'हुए।', 1812: 'डरते', 1813: 'इसीलिए', 1814: 'नोट', 1815: 'भेजा।', 1816: 'गोल', 1817: 'वापिस', 1818: 'जीतेंगे।', 1819: 'डालते', 1820: 'किसलिए', 1821: 'राष्ट्रीयता', 1822: 'ज़बरदस्त', 1823: 'करदोगे', 1824: 'फैलती', 1825: 'बनता', 1826: 'चुनो।', 1827: 'ऐमब्यूलेंस', 1828: 'साथतानी', 1829: 'लिफ़ाफ़े', 1830: 'काटकर', 1831: 'मरा।', 1832: 'सुनेगा।', 1833: 'बैठिये।', 1834: 'आधा', 1835: 'किजिए', 1836: 'बगैर', 1837: 'सहन', 1838: 'जैकेट', 1839: 'मेट्रो', 1840: 'लेकर', 1841: 'पी।', 1842: 'खटखटाने', 1843: 'खाँसी', 1844: 'नहाने', 1845: 'पहला', 1846: 'पृष्ठ', 1847: 'सख्त', 1848: 'तेरा', 1849: 'बतादेना।', 1850: 'बसे।', 1851: 'ठहरिए।', 1852: 'चुप', 1853: 'रोते', 1854: 'करदिआ।', 1855: 'नब्ज़', 1856: 'मिले।', 1857: 'शामिल', 1858: 'पतला', 1859: 'जाएँगे।', 1860: 'बहादुरी', 1861: 'लाईन', 1862: 'लगकर', 1863: 'a', 1864: 'b', 1865: 'पाँचगुना', 1866: 'सस्ते', 1867: 'बिक', 1868: 'हिस्सा', 1869: 'पुलीस', 1870: 'अमरीका', 1871: 'ज़ोर', 1872: 'हिचकिचाया।', 1873: 'सबका', 1874: 'उड़ाता', 1875: 'बजाता', 1876: 'सिखाया।', 1877: 'चश्मदीद', 1878: 'गवाह', 1879: 'कोटे', 1880: 'पहुंच', 1881: 'कटोरियाँ', 1882: 'झलक', 1883: 'फ़ेसबुक', 1884: 'नाई', 1885: 'पल्ले', 1886: 'पड़ती।', 1887: 'लाती', 1888: 'छाँओं', 1889: 'जोड़ना', 1890: 'गर्म', 1891: 'चंद', 1892: 'दाहिना', 1893: 'बिल्लियों', 1894: 'दूसरों', 1895: 'ग़ायब', 1896: 'स्मॉग', 1897: 'पौधों', 1898: 'ज़हरीले', 1899: 'दुश्मन', 1900: 'ताकत', 1901: 'दुरुपयोग', 1902: 'सेब', 1903: 'दिवस', 1904: 'रोक', 1905: 'बसे', 1906: 'पोत', 1907: 'टहलें।', 1908: 'नसीबवाला', 1909: 'बनाओगे', 1910: 'आपत्ति', 1911: 'मिलना।', 1912: 'अपौइंटमेंट', 1913: 'क्वाला', 1914: 'कहता', 1915: 'कभार', 1916: 'ईमानदारी', 1917: 'सर्वोत्तम', 1918: 'नीति', 1919: 'वास्तव', 1920: 'कहे', 1921: 'पेनसिलें', 1922: 'चलता', 1923: 'कहें', 1924: 'पढ़ूँ।', 1925: 'अस्वीकार', 1926: 'निम्नलिखित', 1927: 'वस्तुओं', 1928: 'जॉन', 1929: 'बैठा।', 1930: '४', 1931: 'जून', 1932: '१९७४', 1933: 'निकम्मा', 1934: 'बूढ़े', 1935: 'तलाश', 1936: 'चूहा', 1937: 'बुआ', 1938: 'लाईं।', 1939: 'खिलाना', 1940: 'लेटी', 1941: 'खेलती', 1942: 'रखना।', 1943: 'सुझाव', 1944: 'दुल्हन', 1945: 'मारा।', 1946: 'कड़वा', 1947: 'जूतों', 1948: 'पेंट', 1949: 'सूखा', 1950: 'बरसात', 1951: 'पिया', 1952: 'ऋतु', 1953: 'ग्रीक', 1954: 'करदो', 1955: 'प्लीज़।', 1956: 'कप्तान', 1957: 'चुना।', 1958: 'निभाना', 1959: 'पहुँचाई।', 1960: 'औरडर', 1961: 'ब्रॅड', 1962: 'चौबीस', 1963: 'लाना।', 1964: 'उड़ना', 1965: 'कोक', 1966: 'सांस', 1967: 'पाता', 1968: 'क़ब्र', 1969: 'खोद', 1970: 'पढ़ी', 1971: 'ग़ुलाम', 1972: 'वहां', 1973: 'इक्कीस', 1974: 'रहेंगे', 1975: 'निकला', 1976: 'मेने', 1977: 'दिए।', 1978: 'सायकल', 1979: 'ड्यूटी', 1980: 'हूँगा।', 1981: 'उपयोगी', 1982: 'धातु', 1983: 'तकरीबन', 1984: 'होंगे', 1985: 'खर्चे', 1986: 'स्पा', 1987: 'जीन्स', 1988: 'पैंट', 1989: 'धुलाई', 1990: 'सिकुड़', 1991: 'बनाते', 1992: 'इच्छा', 1993: 'प्रकट', 1994: 'हल्की', 1995: 'आमंत्रण', 1996: 'पर्स', 1997: 'बालों', 1998: 'जूड़े', 1999: 'बाँधती', 2000: 'सिपाहियों', 2001: 'मोज़े', 2002: 'उतारिए।', 2003: 'जलकर', 2004: 'राख', 2005: 'साहब', 2006: 'दूरी', 2007: 'इसका', 2008: 'जापानियों', 2009: 'कालीं', 2010: 'तम्बाकू', 2011: 'महक', 2012: 'खुली', 2013: 'मकान', 2014: 'लेते', 2015: 'डालकर', 2016: 'पीते', 2017: 'पड़ोसी', 2018: 'दक्षिण', 2019: 'टर्मिनल', 2020: 'बैठना', 2021: 'ब्रश', 2022: 'रेखांकित', 2023: 'सुधारिए।', 2024: 'बचीं', 2025: 'झुँको।', 2026: 'अंग्रेजी', 2027: 'खिल', 2028: 'बदला', 2029: 'जीने', 2030: 'कैनटीन', 2031: 'लन्च', 2032: 'कान', 2033: 'खींचा।', 2034: 'कमीज़ें', 2035: 'धुलवानीं', 2036: 'अभिलाषा', 2037: 'यादें', 2038: 'जीवित', 2039: 'रहेंगी।', 2040: 'बोतलें', 2041: 'ख़रीदीं।', 2042: 'पैरों', 2043: 'निशानों', 2044: 'करे।', 2045: 'दसियों', 2046: 'ईमानदार', 2047: 'मरना', 2048: 'भाग्य', 2049: 'रहो', 2050: 'ज़्यादातर', 2051: 'आएँ', 2052: 'बोलतीं', 2053: 'सिक्कों', 2054: 'इकट्ठा', 2055: 'कौपी', 2056: 'दिखाईए।', 2057: 'करें।', 2058: 'बोलो', 2059: 'घूमफिरकर', 2060: 'उगाई', 2061: 'सड़ने', 2062: 'खम्बे', 2063: 'भिड़', 2064: 'चट्टान', 2065: 'सीधी', 2066: 'घोड़ा', 2067: 'दुश्मनों', 2068: 'कुचल', 2069: 'चढ़ा।', 2070: 'बमबई', 2071: 'पटरी', 2072: 'त्याग', 2073: 'रोडिका', 2074: 'पाँचवी', 2075: 'बढ़ता', 2076: 'प्रेमपूर्वक', 2077: 'हादसा', 2078: 'खाएँगे', 2079: 'बुलाना', 2080: 'देखनी', 2081: 'तोड़ो।', 2082: 'द्वीप', 2083: 'आधे', 2084: 'सड़', 2085: 'छिपाई।', 2086: 'जवान', 2087: 'जवानी', 2088: 'न्यूयॉर्क', 2089: 'कबसे', 2090: 'किता', 2091: 'आएगी', 2092: 'युक्तियुक्त', 2093: 'ज्यादा', 2094: 'बास्\\u200dकेटबॉल', 2095: 'देखता।', 2096: 'भागा।', 2097: 'सुलाना', 2098: 'ट्राफ़िक', 2099: 'जाम', 2100: 'ट्रैफ़िक', 2101: 'जैम', 2102: 'करुंगा।', 2103: 'करुंगी।', 2104: 'देखे', 2105: 'खिलाईएगा।', 2106: 'सेइचो', 2107: 'मात्सुमोतो', 2108: 'निधन', 2109: 'सन', 2110: '१९९२', 2111: 'डरती', 2112: 'मिनटों', 2113: 'सोचा।', 2114: 'मुरझा', 2115: 'हुकूमत', 2116: 'रोगी', 2117: 'आखरी', 2118: 'भरी।', 2119: 'फ़िनलैंड', 2120: 'टूट', 2121: 'सुलझाना', 2122: 'चौड़ी', 2123: 'दीदी', 2124: 'अनहोनी', 2125: 'दल', 2126: 'मंदी', 2127: 'बाथरूम', 2128: 'सस्ता', 2129: 'लड़ने', 2130: 'झगड़ने', 2131: 'हल', 2132: 'उड़ाना', 2133: 'आखें', 2134: 'गोरे', 2135: 'कोआले', 2136: 'अर्थ', 2137: 'अँडे', 2138: 'चाबियों', 2139: 'बटुए', 2140: 'इशारा', 2141: 'फ़ोल्डर', 2142: 'दयालु', 2143: 'करलें।', 2144: 'राजनीति', 2145: 'छोड़ूँ', 2146: 'ऊँची', 2147: 'बोलिए।', 2148: 'पढ़ो।', 2149: 'आज़माती', 2150: 'पैक', 2151: 'आएगी।', 2152: 'चेतावनी', 2153: 'बैठी', 2154: 'उड़ाई।', 2155: 'उड़ा', 2156: 'भौंकता', 2157: 'धरती', 2158: 'परिक्रमा', 2159: 'जाँच', 2160: 'पड़ताल', 2161: 'शेरों', 2162: 'शिकार', 2163: 'जानें', 2164: 'लें', 2165: 'लीं।', 2166: 'पहुँचेगा।', 2167: 'चमड़े', 2168: 'उत्पाद', 2169: 'बेचती', 2170: 'पंद्राह', 2171: 'तौलिये', 2172: 'चर्च', 2173: 'सोलहवा', 2174: 'स्नातक', 2175: 'तत्पर', 2176: 'कीजिए', 2177: 'आएंगे', 2178: 'लेलो।', 2179: 'माफ़ी', 2180: 'आइडिया', 2181: 'आदर', 2182: 'मालिक', 2183: 'निकाला।', 2184: 'ऊन', 2185: 'मात्रा', 2186: 'निर्यात', 2187: 'वैश्विक', 2188: 'समझते', 2189: 'दफ़नाया', 2190: 'उठाती', 2191: 'निभाओ।', 2192: 'बदले', 2193: 'पुस्तक', 2194: 'स्पष्ट', 2195: 'ओसाका', 2196: 'ख़राब', 2197: 'संभवतः', 2198: 'विख्यात', 2199: 'देदीजिए।', 2200: 'खरीदा।', 2201: 'घूरकर', 2202: 'उठकर', 2203: 'फ़्लैट', 2204: 'वक्त', 2205: 'बचाए।', 2206: 'ख़तरनाक', 2207: 'कहते', 2208: 'अटक', 2209: 'इसतीफ़ा', 2210: 'रुकी।', 2211: 'सख्ती', 2212: 'पेश', 2213: 'राजकुमारियों', 2214: 'व्यवहार', 2215: 'कूद', 2216: 'कूदो।', 2217: 'कौवे', 2218: 'नाव', 2219: 'तौलिए', 2220: 'पोंछो।', 2221: 'नाचना', 2222: 'चाहोगी', 2223: 'डान्स', 2224: 'रस्सी', 2225: 'फेंक', 2226: 'विस्तृत', 2227: 'समझाई।', 2228: 'कटवाता', 2229: 'पढ़ता', 2230: 'रखकर', 2231: 'तोला।', 2232: 'नाना', 2233: 'कहूँ।', 2234: 'कामकाज', 2235: 'ख़तम', 2236: 'नहा', 2237: 'प्रेम', 2238: 'जहां', 2239: 'माँगने', 2240: 'लगेगी।', 2241: 'दवाईयों', 2242: 'अरे', 2243: 'पेट्रोल', 2244: 'कक्षा', 2245: 'कीजिएगा।', 2246: 'जुटाने', 2247: 'लौटाए।', 2248: 'बेची', 2249: 'जातीं', 2250: 'उतारे।', 2251: 'सम्मेलन', 2252: 'समाप्त', 2253: 'गोलीबारी', 2254: 'बजा।', 2255: 'चोटी', 2256: 'चपटी', 2257: 'गुफ़ा', 2258: 'टाई', 2259: 'सूट', 2260: 'तरीका', 2261: 'होटल', 2262: 'ठहरे।', 2263: 'छूटते', 2264: 'लेंगे', 2265: 'बीटल्स', 2266: 'गा', 2267: 'मारने', 2268: 'झिलता', 2269: 'गिलहरी', 2270: 'डालियों', 2271: 'छुपी', 2272: 'पत्तियाँ', 2273: 'आईं।', 2274: 'इत्तेफ़ाक', 2275: 'एशिया', 2276: 'मैं।', 2277: 'मुस्कुराहट', 2278: 'प्रयोगों', 2279: 'कबूतरों', 2280: 'घंटो', 2281: 'झेला', 2282: 'मूर्ख', 2283: 'योग्यता', 2284: 'खुशकिसमत', 2285: 'सफ़ल', 2286: 'प्रथम', 2287: 'पुरस्कार', 2288: 'अनदेखा', 2289: 'रखो।', 2290: 'सुंदरता', 2291: 'मुर्गियों', 2292: 'दियें', 2293: 'कपड़ो', 2294: 'हानि', 2295: 'पहुँचाएगा।', 2296: 'अनुकरणीय', 2297: 'प्रदर्शन', 2298: 'बर्फ़', 2299: 'बिछी', 2300: 'हवाईजहाज़', 2301: 'फ़्रांस', 2302: 'महिलाये', 2303: 'क़त्ल', 2304: 'हत्याएँ', 2305: 'मुनाफ़े', 2306: 'बाँटा।', 2307: 'सीमा', 2308: 'सप्ताह', 2309: 'लगीं', 2310: 'लोगे', 2311: 'पढ़ो', 2312: 'रखनी', 2313: 'दरअसल', 2314: 'बर्न', 2315: 'स्विजरलैंड', 2316: 'सकतें', 2317: 'सुनी', 2318: 'डरो।', 2319: 'सहपाठियों', 2320: 'बनाना', 2321: 'बताए', 2322: 'उलटा', 2323: 'बनाए', 2324: 'रहता।', 2325: 'केस', 2326: 'छोड़ी।', 2327: 'विद्रोह', 2328: 'रोका।', 2329: 'भागता', 2330: 'बचाया।', 2331: 'पहुँचने', 2332: 'लगेगी', 2333: 'सैंडविच', 2334: 'बचे', 2335: 'नटखट', 2336: 'उतनी', 2337: 'सीढ़ियों', 2338: 'करवाई।', 2339: 'ग्रुप', 2340: 'संबंध', 2341: 'सुना', 2342: 'मश्हूर', 2343: 'अभिनेत्री', 2344: 'बर्तन', 2345: 'धोने', 2346: 'बजा', 2347: 'सुरक्षित', 2348: 'लौटने', 2349: 'करूँगा', 2350: 'उड़कर', 2351: 'शनिवार', 2352: 'गौल्फ़', 2353: 'लगना', 2354: 'विदेषी', 2355: 'प्रेत', 2356: 'दूसरा', 2357: 'पूछा', 2358: 'डाँवाडोल', 2359: 'असुरक्षित', 2360: 'बगीचे', 2361: 'पेशा', 2362: 'पालनी', 2363: 'गड्ढा', 2364: 'फ़ुट', 2365: 'चौड़ा', 2366: 'ताक़त', 2367: 'छीन', 2368: 'रहस्य', 2369: 'तबाह', 2370: 'अकलमंद', 2371: 'बुलाई।', 2372: 'चाँद', 2373: 'उतरेगा।', 2374: 'लेनीं', 2375: 'इमारतों', 2376: 'वफ़ादारी', 2377: 'लिहाज', 2378: 'उठाना', 2379: 'गवा', 2380: 'फ़्रेंच', 2381: 'ख़तरे', 2382: 'पहुँचे।', 2383: 'सुनिए', 2384: 'ईश्वर', 2385: 'स्वयं', 2386: 'रूसी', 2387: 'अज्ञान', 2388: 'आशंका', 2389: 'जताई।', 2390: 'टूटे', 2391: 'टुकड़ों', 2392: 'जोड़ा।', 2393: 'करूँ।', 2394: 'खींज', 2395: 'ऑक्सफ़र्ड', 2396: 'विश्वविद्यालय', 2397: 'जानवरों', 2398: 'खर्चना', 2399: 'लौटकर', 2400: 'निर्दोष', 2401: 'ज़िंदा', 2402: 'कॉफ़ी।', 2403: 'दिखते', 2404: 'नौवे', 2405: 'बेबुनयाद', 2406: 'चूहे', 2407: 'बढ़ी।', 2408: 'मनुष्य', 2409: 'प्लान', 2410: 'भरेगा।', 2411: 'बिखेर', 2412: 'क्योटो', 2413: 'मंदिर', 2414: 'ब्राऊन', 2415: 'मारकर', 2416: 'हत्या', 2417: 'नाश्ते', 2418: 'पहनोगी', 2419: 'गहरा', 2420: 'कोहरा', 2421: 'छा', 2422: 'बौद्ध', 2423: 'धर्म', 2424: 'पनीर', 2425: 'बनते', 2426: 'शास्त्रीय', 2427: 'ला', 2428: 'हड्डी', 2429: 'उसमें', 2430: 'बेसब्री', 2431: 'फटाफट', 2432: 'कंधे', 2433: 'माथे', 2434: 'पसीना', 2435: 'पोंछा।', 2436: 'वाक्यों', 2437: 'माईने', 2438: 'पैमाने', 2439: 'डालने', 2440: 'रफ़तार', 2441: 'दोगे।', 2442: 'आंकरेज', 2443: 'युरोप', 2444: 'कमाई', 2445: 'वर्तमान', 2446: 'आमदनी', 2447: 'सोचो', 2448: 'टाइम', 2449: 'असभ्यता', 2450: 'सोना', 2451: '१५', 2452: 'ख़ज़ाना', 2453: 'खोदा।', 2454: 'मार', 2455: 'बाएं', 2456: 'मुड़ो', 2457: 'चिंतित', 2458: 'प्रकार', 2459: 'ढूंढ', 2460: 'डिनर', 2461: 'किसके', 2462: 'टी', 2463: 'शर्ट', 2464: 'बच्ची', 2465: 'आयडिया', 2466: 'करें', 2467: 'एहसान', 2468: 'माँगा।', 2469: 'घरवालों', 2470: 'कमाता', 2471: 'जुर्म', 2472: 'चलाने', 2473: 'नाकामयाबी', 2474: 'ख़रीदीं', 2475: 'मोहन', 2476: 'परिचित', 2477: 'सोफ़ा', 2478: 'शक़', 2479: 'युनिसायकल', 2480: 'पिछली', 2481: 'छाते', 2482: 'द्वार', 2483: 'वाक्यांश', 2484: 'ढूँढो।', 2485: 'उड़ाने', 2486: 'चादर', 2487: 'बिछाई।', 2488: 'रखती', 2489: 'अंकल', 2490: 'मामा', 2491: 'चाचा', 2492: 'ताऊजी', 2493: 'बुलाया।', 2494: 'पालने', 2495: 'मुर्झाई', 2496: 'गिरते', 2497: 'लगे', 2498: 'वाईन', 2499: 'चखकर', 2500: 'खिलाने', 2501: 'पहरा', 2502: 'गुंजाईश', 2503: 'मनाने', 2504: 'दिशाओं', 2505: 'फैले', 2506: 'कपड़ा', 2507: 'रेशमी', 2508: 'गला', 2509: 'भागे', 2510: 'आए।', 2511: 'जिनका', 2512: 'पिंक', 2513: 'ऑर्डर', 2514: 'नीले', 2515: 'कोशीश', 2516: 'रिमोट', 2517: 'देंगे।', 2518: 'दफ़तर', 2519: 'गबन', 2520: 'निभता', 2521: 'हे', 2522: 'कहानियाँ', 2523: 'सुनाया', 2524: 'बेगुनाह', 2525: 'अम्रीकी', 2526: 'साहित्य', 2527: 'कैंचियों', 2528: 'पूछूँगा।', 2529: 'लगाऊँगा', 2530: 'दिवाई', 2531: 'चुकताऊँगा।', 2532: 'चमत्कार', 2533: 'दिलाती', 2534: 'महाशय', 2535: 'माने', 2536: 'पियानिस्ट', 2537: 'झूठी', 2538: 'गाल', 2539: 'निशान', 2540: 'भाषाओं', 2541: 'समानताएं', 2542: 'पर्याप्त', 2543: 'भाषाएं', 2544: 'कटाने', 2545: 'जुर्रत', 2546: 'इगज़ैम', 2547: 'रिज़ल्ट', 2548: 'मनोदशा', 2549: 'मुस्कान', 2550: 'गाय', 2551: 'पूज्य', 2552: 'घुसा।', 2553: 'सहने', 2554: 'पड़े', 2555: 'कीमतें', 2556: 'करनीं', 2557: 'पड़ीं।', 2558: 'महान', 2559: 'कवि', 2560: 'बल्कि', 2561: 'पांव', 2562: 'लतपत', 2563: 'नमक', 2564: 'कॉनसर्ट', 2565: 'मिलीं', 2566: 'निभाएगा।', 2567: 'फ़रिश्तों', 2568: 'रखूँगा।', 2569: 'चॉकलेट', 2570: 'आइसक्रीम', 2571: 'लत', 2572: 'ग़रीबी', 2573: 'यदि', 2574: 'ढल', 2575: 'रहिए।', 2576: 'सका', 2577: 'पूछते', 2578: 'छोड़नी', 2579: 'इन्द्रधनुष', 2580: 'लेलिया।', 2581: 'बिगड़े', 2582: 'जेल', 2583: 'शांत', 2584: 'देखी', 2585: 'खिसक', 2586: 'चित', 2587: 'पट', 2588: 'कानून', 2589: 'तोड़ोगे', 2590: 'मिलेगी।', 2591: 'सुशील', 2592: 'थूकेगा', 2593: 'पौधे', 2594: 'चुनाव', 2595: 'विरोधी', 2596: 'हरा', 2597: 'उम्मीदों', 2598: 'क़ैदियों', 2599: 'आदेश', 2600: 'तोह्फ़ा', 2601: 'पुकारते', 2602: 'सुना।', 2603: 'अच्छेपन', 2604: 'ख़रीदने', 2605: 'अजनबियों', 2606: 'ढूँढना', 2607: 'जागे', 2608: 'बेकरी', 2609: 'क्यूट', 2610: 'शुक्रवार', 2611: 'पोती', 2612: 'मुस्कुराई।', 2613: 'परिस्थिति', 2614: 'कठोर', 2615: 'कदम', 2616: 'मर्दों', 2617: 'हटा', 2618: 'ड्राईव', 2619: 'लेजाओगे', 2620: 'अंधेर', 2621: 'महाद्वीप', 2622: 'भेज', 2623: 'बहादुर', 2624: 'काटते', 2625: 'ताज़ा', 2626: 'जाएगी', 2627: 'तभी', 2628: 'इलेक्ट्रिकल', 2629: 'इंजीनियर', 2630: 'खानी', 2631: 'चाहिएँ।', 2632: 'भुला', 2633: 'यहीं', 2634: 'करूंगी।', 2635: 'लूँ', 2636: 'लूँ।', 2637: 'लगातार', 2638: 'आएँ।', 2639: 'प्रसिद्ध', 2640: 'सड़े', 2641: 'बिल्लियाँ', 2642: 'कुत्ते।', 2643: 'क़ुतुब', 2644: 'मीनार', 2645: 'किला', 2646: 'तोदाइजी', 2647: 'बरबाद', 2648: 'ऐनक', 2649: 'होक्काईदो', 2650: 'घायल', 2651: 'कंबल', 2652: 'ढक', 2653: 'उद्देश्य', 2654: 'परिस्तिथि', 2655: 'बदतर', 2656: 'नीला', 2657: 'दौरान', 2658: 'एकसमान', 2659: 'आदमियों', 2660: 'जिसने', 2661: 'बधाईंयाँ।', 2662: 'दिक्कत', 2663: 'मर्यादा', 2664: 'संविधान', 2665: 'सुधारना', 2666: 'ताला', 2667: 'सके।', 2668: 'आँसुओं', 2669: 'बीजों', 2670: 'लेजाती', 2671: 'बादल', 2672: 'प्लैन', 2673: 'मामले', 2674: 'छानबीन', 2675: 'बिताई।', 2676: 'फ़ोटोकॉपियर', 2677: 'कागज़', 2678: 'किये', 2679: 'धरे', 2680: 'ठहराया', 2681: 'रबड़', 2682: 'उछलती', 2683: 'लचीली', 2684: 'हिस्से', 2685: 'नागरिक', 2686: 'कलाकार', 2687: 'लिखेगा', 2688: 'भेजी', 2689: 'रोज़ाना', 2690: 'मंजन', 2691: 'होएगी।', 2692: 'रहोगे', 2693: 'समझाना', 2694: 'पहुँचें', 2695: 'चिल्ला', 2696: 'उठी।', 2697: 'अखबारों', 2698: 'ढेर', 2699: 'सिनेमा', 2700: 'हॉल', 2701: 'आधी', 2702: 'खुल', 2703: 'सुधारने', 2704: 'मोर', 2705: 'पूंछ', 2706: 'बिरंगी', 2707: 'पकड़कर', 2708: 'पकड़ने', 2709: 'गाली', 2710: 'जागना', 2711: 'विलोम', 2712: 'सीटें', 2713: 'मिलेंगीं।', 2714: 'डालोगे', 2715: 'बुझाना', 2716: 'खिड़कियाँ', 2717: 'सूझी', 2718: 'कॉपीराईट', 2719: 'सोत्रों', 2720: 'संतुलन', 2721: 'सोचना', 2722: 'जातें', 2723: 'छपेगी।', 2724: 'मुझा', 2725: 'पहुँचते', 2726: 'दबाकर', 2727: 'पहुँचाने', 2728: 'एवरेस्ट', 2729: 'शिखर', 2730: 'नें', 2731: 'रखे', 2732: 'कपों', 2733: 'डाली।', 2734: 'वॉशिंग', 2735: 'खराबी', 2736: 'क्लासरूम', 2737: 'घुसते', 2738: 'उतारा', 2739: 'एयरपोर्ट', 2740: 'फ़ैक्टरी', 2741: 'दहशत', 2742: 'फैला', 2743: 'पुलीसवाले', 2744: 'हज़ार', 2745: 'जुर्माना', 2746: 'रेस', 2747: 'जीतेगा', 2748: 'ईनाम', 2749: 'उसी', 2750: 'मगर', 2751: 'झगड़ा', 2752: 'लड़ाई', 2753: 'क', 2754: 'ख', 2755: 'ग', 2756: 'ध', 2757: 'सिखाए', 2758: 'आश्चर्यचकित', 2759: 'टाँगा', 2760: 'जाऊँ।', 2761: 'कंपनियां', 2762: 'उत्पादों', 2763: 'विज्ञापन', 2764: 'प्रेरणा', 2765: 'स्रोत', 2766: 'हिचकिचाएँ।', 2767: 'बताईये।', 2768: 'दवा', 2769: 'तस्कर', 2770: 'अड्डे', 2771: 'गिरफ्तार', 2772: 'दूसरी', 2773: 'तरफ', 2774: 'वालो', 2775: 'जाओगी।', 2776: 'लौटाना', 2777: 'सदस्य', 2778: 'आत्महत्या', 2779: 'लेगा।', 2780: 'कमर', 2781: 'ब्रिटेन', 2782: '१९४७', 2783: 'प्राप्त', 2784: 'डाँटा।', 2785: 'दिए', 2786: 'समझना', 2787: 'नगरों', 2788: 'स्थित', 2789: 'सोचने', 2790: 'अंगूर', 2791: 'खट्टे', 2792: 'खाए', 2793: 'कयोंकि', 2794: 'निकाल', 2795: 'बैक', 2796: 'ग्राहक', 2797: 'करदी।', 2798: 'प्रॉडक्ट्स', 2799: 'दिखाना', 2800: 'मिली', 2801: 'ताईवान', 2802: 'रिपोर्ट', 2803: 'सौंप', 2804: 'प्रेसीडेंट', 2805: 'चुना', 2806: 'खुलकर', 2807: 'बोलूँ', 2808: 'चाहता।', 2809: 'पार्सल', 2810: 'अनुवाद', 2811: 'तैवान', 2812: 'दोस्ती', 2813: 'अड़ियल', 2814: 'वाक्यांशों', 2815: 'रटना', 2816: 'फ़्रांसीसी', 2817: 'बोलनी', 2818: 'जिसका', 2819: 'अस्तित्व', 2820: 'तुरन्त', 2821: 'अनिवार्य', 2822: 'सुधार', 2823: 'पक्ष', 2824: 'छटी', 2825: 'मंज़िल', 2826: 'थें।', 2827: 'लोकप्रिय', 2828: 'स्वेटर', 2829: 'देंगे', 2830: 'लिखकर', 2831: 'देना।', 2832: 'मलेरिया', 2833: 'बाताऊँगा।', 2834: 'बाताऊँगी।', 2835: 'यात्रा', 2836: 'कड़वी', 2837: 'डाललो।', 2838: 'थेम्स', 2839: 'ज़रूरतमंदों', 2840: 'बाँट', 2841: 'लौटाने', 2842: 'बाज़ी', 2843: 'करेंगे', 2844: 'कसम', 2845: 'खालूँ।', 2846: 'जाएं', 2847: 'अनुमति', 2848: 'उत्तीर्ण', 2849: 'दोपहरभर', 2850: 'मारी।', 2851: 'सातवाँ', 2852: 'अभिलाषाओं', 2853: 'बढ़ावा', 2854: 'भूलती', 2855: 'ध्यानपूर्वक', 2856: 'सिद्धांत', 2857: 'पाई।', 2858: 'आपातकालीन', 2859: 'स्तिथि', 2860: 'मिलाना', 2861: 'प्रदूषित', 2862: 'वातावरण', 2863: 'सिवाय', 2864: 'चलाकर', 2865: 'इन्तज़ार', 2866: 'करवाया', 2867: 'अंतर्राष्ट्रीय', 2868: 'मज़बूत', 2869: 'अर्थव्यवस्था', 2870: 'आवश्यक', 2871: 'बैट', 2872: 'बॉल', 2873: 'एकसाथ', 2874: 'गर्व', 2875: 'जिसमें', 2876: 'अबसे', 2877: 'पहुँचे', 2878: 'लूँगा।', 2879: 'ग़ौर', 2880: 'दिखाऊँगा', 2881: 'भावनाओं', 2882: 'बाग', 2883: 'पुराना', 2884: 'ढूँढता', 2885: 'गिरा', 2886: 'बनवानी', 2887: 'भिजवादूँगा।', 2888: 'हेलमेट', 2889: 'मोटरसाईकल', 2890: 'बहतर', 2891: 'गंदे', 2892: 'उद्योग', 2893: 'अधिकांश', 2894: 'सदस्यों', 2895: 'बिल', 2896: 'पारित', 2897: 'एड्स', 2898: 'फैलाव', 2899: 'भयानक', 2900: 'फ्रेंच', 2901: 'फ्रांस', 2902: 'अौर', 2903: 'हिस्सो', 2904: 'पकड़नी', 2905: 'फंस', 2906: 'भीग', 2907: 'बीवा', 2908: 'बतादूँगा।', 2909: 'बहार', 2910: 'विशाल', 2911: 'हुक़्म', 2912: 'मरीज़', 2913: 'बिस्टर', 2914: 'लेटा', 2915: 'क़ातिल', 2916: 'हरासत', 2917: 'तुममें', 2918: 'सब्र', 2919: 'जाते।', 2920: 'बांध', 2921: 'ले।', 2922: 'स्थापित', 2923: 'समाचार', 2924: 'पाने', 2925: 'खोना', 2926: 'तस्वीरों', 2927: 'गोलियों', 2928: 'निगल', 2929: 'ताज', 2930: 'महल', 2931: 'आश्चर्यों', 2932: 'पकड़ीं', 2933: 'गईं।', 2934: 'इनवेस्टमेंट', 2935: '८', 2936: 'प्रतिशत', 2937: 'चढ़ने', 2938: 'प्रदूषण', 2939: 'प्रयास', 2940: 'कोलम्बस', 2941: 'पश्चिम', 2942: 'दिशा', 2943: 'जगे', 2944: 'पीनी', 2945: '१६००', 2946: 'लाया', 2947: 'डिक्शनरी', 2948: 'चलेगा।', 2949: 'मुम्बई', 2950: 'भारतीय', 2951: 'महाराष्ट्र', 2952: 'गिनती', 2953: 'नाकामयाब', 2954: 'बीमारों', 2955: 'समर्पित', 2956: 'पहनूँ।', 2957: 'ग़रीब', 2958: 'ताकतशाली', 2959: 'अर्थतंत्रों', 2960: 'पंद्रह', 2961: 'उड़ातें', 2962: 'मोबाइल', 2963: 'वस्तु', 2964: 'सूर्य', 2965: 'प्रभाव', 2966: 'असर', 2967: 'पहुँचना', 2968: 'जानबूझकर', 2969: 'पहचाना', 2970: 'सावधान', 2971: 'रहेगा।', 2972: 'अधिकारियों', 2973: 'जनता', 2974: 'जलने', 2975: 'सुँघाई', 2976: 'नकली', 2977: 'हीरों', 2978: 'लिपटी', 2979: 'कोने', 2980: 'खाकर', 2981: 'टाईम', 2982: 'बड़ाई', 2983: 'मांग', 2984: 'कॉपियाँ', 2985: 'दीं', 2986: 'बकरियों', 2987: 'वेतन', 2988: 'मछवारे', 2989: 'पकड़ी', 2990: 'आकार', 2991: 'बढ़ा', 2992: 'चढ़ाकर', 2993: 'भ्रष्टाचार', 2994: 'मुक्त', 2995: 'ऊँगलियाँ', 2996: 'पाते।', 2997: 'चरित्र', 2998: 'मुश्किलों', 2999: 'माँगता', 3000: 'पाऊँगा।', 3001: 'अगला', 3002: 'कम्पनियाँ', 3003: 'कटवाना', 3004: 'घूरने', 3005: 'बजाए', 3006: 'पढ़लो।', 3007: 'मुट्ठीभर', 3008: 'मूँगफलियाँ', 3009: 'लीं', 3010: 'दिवालिया', 3011: 'निकलने', 3012: 'दीजिएगा।', 3013: 'करेगा', 3014: 'पायेंगे।', 3015: 'ग़लतियों', 3016: 'डरना', 3017: 'उपलब्ध', 3018: 'सेवाओं', 3019: 'सोनी', 3020: 'टुकड़ो', 3021: 'टुकड़ा', 3022: 'जुलतीं', 3023: 'निकालने', 3024: 'इनके', 3025: 'करदें', 3026: 'अभ', 3027: 'चोरों', 3028: 'दराज़ें', 3029: 'डालीं।', 3030: 'अठारह', 3031: 'चलानी', 3032: 'लाईसेंस', 3033: 'बनवालिया।', 3034: 'कैथोलिक', 3035: 'नन', 3036: 'थीं', 3037: 'करतीं', 3038: 'जार्ज', 3039: 'वाशिंगटन', 3040: 'संयुक्त', 3041: 'नज़रिए', 3042: 'सर्व', 3043: 'श्रेष्ठ', 3044: '१९५१', 3045: 'सिस्टर', 3046: 'इनाम', 3047: 'विदोश', 3048: 'सूपरमार्केट', 3049: 'रोजाने', 3050: 'जिन', 3051: 'यात्रियों', 3052: 'लोकतंत्र', 3053: 'घिनौना', 3054: 'सरकारों', 3055: 'अंदेखा', 3056: 'ट्रेफ़िक', 3057: 'हादसे', 3058: 'कीड़ों', 3059: 'परेशानी'}\n"
          ]
        }
      ]
    },
    {
      "cell_type": "markdown",
      "metadata": {
        "id": "aPTsEs-DKXno"
      },
      "source": [
        "### Building Decoder Output"
      ]
    },
    {
      "cell_type": "code",
      "metadata": {
        "id": "T0Edu4F4KXnp",
        "colab": {
          "base_uri": "https://localhost:8080/"
        },
        "outputId": "8082a14b-3311-4d9a-e3ae-08c3a5af936f"
      },
      "source": [
        "decoder_input_data.shape"
      ],
      "execution_count": 41,
      "outputs": [
        {
          "output_type": "execute_result",
          "data": {
            "text/plain": [
              "(2949, 27)"
            ]
          },
          "metadata": {},
          "execution_count": 41
        }
      ]
    },
    {
      "cell_type": "code",
      "metadata": {
        "id": "rtrzQgsDKXns"
      },
      "source": [
        "import numpy as np\n",
        "\n",
        "#Initialize array\n",
        "decoder_target_data = np.zeros((decoder_input_data.shape[0], \n",
        "                                decoder_input_data.shape[1]))\n",
        "\n",
        "#Shift Target output by one word\n",
        "for i in range(decoder_input_data.shape[0]):\n",
        "    for j in range(1,decoder_input_data.shape[1]):\n",
        "        decoder_target_data[i][j-1] = decoder_input_data[i][j]"
      ],
      "execution_count": 42,
      "outputs": []
    },
    {
      "cell_type": "code",
      "metadata": {
        "id": "sVjADS08KXnt"
      },
      "source": [
        "#decoder_t.word_index"
      ],
      "execution_count": 43,
      "outputs": []
    },
    {
      "cell_type": "code",
      "metadata": {
        "id": "m5V8wz3XKXnv"
      },
      "source": [
        "#<start> yeh kitab hai <end>\n",
        "#Yeh kitab hai <end> 0"
      ],
      "execution_count": 44,
      "outputs": []
    },
    {
      "cell_type": "code",
      "metadata": {
        "id": "q1r_VVX0j2lU",
        "colab": {
          "base_uri": "https://localhost:8080/",
          "height": 35
        },
        "outputId": "97b04e4f-a404-465f-a64d-e6619ee249d1"
      },
      "source": [
        "decoder_text[0]"
      ],
      "execution_count": 45,
      "outputs": [
        {
          "output_type": "execute_result",
          "data": {
            "application/vnd.google.colaboratory.intrinsic+json": {
              "type": "string"
            },
            "text/plain": [
              "'<start> वाह! <end>'"
            ]
          },
          "metadata": {},
          "execution_count": 45
        }
      ]
    },
    {
      "cell_type": "code",
      "metadata": {
        "id": "gL9a-mGTKXn2",
        "colab": {
          "base_uri": "https://localhost:8080/"
        },
        "outputId": "483ab4b7-78fb-450c-a2c0-24bd63b717d5"
      },
      "source": [
        "decoder_input_data[0]"
      ],
      "execution_count": 46,
      "outputs": [
        {
          "output_type": "execute_result",
          "data": {
            "text/plain": [
              "array([  1, 785,   2,   0,   0,   0,   0,   0,   0,   0,   0,   0,   0,\n",
              "         0,   0,   0,   0,   0,   0,   0,   0,   0,   0,   0,   0,   0,\n",
              "         0], dtype=int32)"
            ]
          },
          "metadata": {},
          "execution_count": 46
        }
      ]
    },
    {
      "cell_type": "code",
      "metadata": {
        "id": "R-norMzYKXn5",
        "colab": {
          "base_uri": "https://localhost:8080/"
        },
        "outputId": "3bbc7880-7657-4324-9999-e061339dae4b"
      },
      "source": [
        "decoder_target_data[0]"
      ],
      "execution_count": 47,
      "outputs": [
        {
          "output_type": "execute_result",
          "data": {
            "text/plain": [
              "array([785.,   2.,   0.,   0.,   0.,   0.,   0.,   0.,   0.,   0.,   0.,\n",
              "         0.,   0.,   0.,   0.,   0.,   0.,   0.,   0.,   0.,   0.,   0.,\n",
              "         0.,   0.,   0.,   0.,   0.])"
            ]
          },
          "metadata": {},
          "execution_count": 47
        }
      ]
    },
    {
      "cell_type": "code",
      "metadata": {
        "id": "enBdwD6PLOVE",
        "colab": {
          "base_uri": "https://localhost:8080/"
        },
        "outputId": "5a8650cb-0386-47e9-992e-5e5a02bf7de7"
      },
      "source": [
        "decoder_target_data.shape"
      ],
      "execution_count": 48,
      "outputs": [
        {
          "output_type": "execute_result",
          "data": {
            "text/plain": [
              "(2949, 27)"
            ]
          },
          "metadata": {},
          "execution_count": 48
        }
      ]
    },
    {
      "cell_type": "markdown",
      "metadata": {
        "id": "jHH_em9TKXn6"
      },
      "source": [
        "#### Convert target data in one hot vector"
      ]
    },
    {
      "cell_type": "code",
      "metadata": {
        "id": "DUXNoSeHKXn7"
      },
      "source": [
        "#Initialize one hot encoding array\n",
        "decoder_target_one_hot = np.zeros((decoder_input_data.shape[0], #number of sentences\n",
        "                                   decoder_input_data.shape[1], #Number of words in each sentence\n",
        "                                   len(decoder_t.word_index)+1)) #Vocab size + 1"
      ],
      "execution_count": 49,
      "outputs": []
    },
    {
      "cell_type": "code",
      "metadata": {
        "id": "YvDD6DZrKXn9",
        "colab": {
          "base_uri": "https://localhost:8080/"
        },
        "outputId": "3c1d505d-d843-4bbe-c32f-d52ec082644a"
      },
      "source": [
        "decoder_target_one_hot.shape"
      ],
      "execution_count": 50,
      "outputs": [
        {
          "output_type": "execute_result",
          "data": {
            "text/plain": [
              "(2949, 27, 3060)"
            ]
          },
          "metadata": {},
          "execution_count": 50
        }
      ]
    },
    {
      "cell_type": "code",
      "metadata": {
        "id": "N5h-PeIGKXoA"
      },
      "source": [
        "#Build one hot encoded array\n",
        "for i in range(decoder_target_data.shape[0]):\n",
        "    for j in range(decoder_target_data.shape[1]):\n",
        "        decoder_target_one_hot[i][j] = tf.keras.utils.to_categorical(decoder_target_data[i][j],\n",
        "                                                                     num_classes=len(decoder_t.word_index)+1)    "
      ],
      "execution_count": 51,
      "outputs": []
    },
    {
      "cell_type": "code",
      "metadata": {
        "id": "5Emzjo90KXoB",
        "colab": {
          "base_uri": "https://localhost:8080/"
        },
        "outputId": "fee76c1e-f7a3-4b15-ea2b-86c5ea0d896b"
      },
      "source": [
        "decoder_target_one_hot.shape"
      ],
      "execution_count": 52,
      "outputs": [
        {
          "output_type": "execute_result",
          "data": {
            "text/plain": [
              "(2949, 27, 3060)"
            ]
          },
          "metadata": {},
          "execution_count": 52
        }
      ]
    },
    {
      "cell_type": "code",
      "metadata": {
        "id": "eOAOZrxBgK5c",
        "colab": {
          "base_uri": "https://localhost:8080/"
        },
        "outputId": "371a6f89-38bd-4bf4-e261-70f09e592cc0"
      },
      "source": [
        "#1st example\n",
        "print(decoder_target_one_hot[0][0])"
      ],
      "execution_count": 53,
      "outputs": [
        {
          "output_type": "stream",
          "name": "stdout",
          "text": [
            "[0. 0. 0. ... 0. 0. 0.]\n"
          ]
        }
      ]
    },
    {
      "cell_type": "markdown",
      "metadata": {
        "id": "q6BNPWZ_KXoD"
      },
      "source": [
        "### Building the Training Model"
      ]
    },
    {
      "cell_type": "code",
      "metadata": {
        "id": "q05uAVLXKXoD"
      },
      "source": [
        "#Define config parameters\n",
        "encoder_embedding_size = 50\n",
        "decoder_embedding_size = 50\n",
        "rnn_units = 256 #Memory size for LSTM"
      ],
      "execution_count": 54,
      "outputs": []
    },
    {
      "cell_type": "markdown",
      "metadata": {
        "id": "9M9eJGmSKXoF"
      },
      "source": [
        "#### Build Encoder"
      ]
    },
    {
      "cell_type": "code",
      "metadata": {
        "id": "iJIqwk7aKkJ9"
      },
      "source": [
        "tf.keras.backend.clear_session()"
      ],
      "execution_count": 55,
      "outputs": []
    },
    {
      "cell_type": "code",
      "metadata": {
        "id": "x5P1hzBqKXoG"
      },
      "source": [
        "#Input Layer\n",
        "encoder_inputs = tf.keras.layers.Input(shape=(None,))\n",
        "\n",
        "#Embedding layer - Word2Vec \n",
        "encoder_embedding = tf.keras.layers.Embedding(encoder_vocab_size+1, #Size for One hot encoding\n",
        "                                              encoder_embedding_size) #How many numbers to use for each word\n",
        "\n",
        "#Get embedding layer output by feeding inputs\n",
        "encoder_embedding_output = encoder_embedding(encoder_inputs)\n",
        "\n",
        "#LSTM Layer and its output\n",
        "x, state_h, state_c = tf.keras.layers.LSTM(rnn_units,return_state=True)(encoder_embedding_output)\n",
        "\n",
        "#Build a list to feed Decoder - Sentence Embedding\n",
        "encoder_states = [state_h, state_c]"
      ],
      "execution_count": 56,
      "outputs": []
    },
    {
      "cell_type": "code",
      "metadata": {
        "id": "jrcqxcfhKXoH",
        "colab": {
          "base_uri": "https://localhost:8080/"
        },
        "outputId": "b30cbd8c-7447-4f58-af3c-a5cf6cb22b9f"
      },
      "source": [
        "encoder_states"
      ],
      "execution_count": 57,
      "outputs": [
        {
          "output_type": "execute_result",
          "data": {
            "text/plain": [
              "[<KerasTensor: shape=(None, 256) dtype=float32 (created by layer 'lstm')>,\n",
              " <KerasTensor: shape=(None, 256) dtype=float32 (created by layer 'lstm')>]"
            ]
          },
          "metadata": {},
          "execution_count": 57
        }
      ]
    },
    {
      "cell_type": "markdown",
      "metadata": {
        "id": "EJvG6HRdKXoM"
      },
      "source": [
        "#### Build Decoder"
      ]
    },
    {
      "cell_type": "code",
      "metadata": {
        "id": "3LQEt7zPKXoM"
      },
      "source": [
        "#Decode input - padded Target sentences\n",
        "decoder_inputs = tf.keras.layers.Input(shape=(None,))\n",
        "\n",
        "#Decoder Embedding layer\n",
        "decoder_embedding = tf.keras.layers.Embedding(decoder_vocab_size + 1, \n",
        "                                              decoder_embedding_size)\n",
        "\n",
        "#Embedding layer output\n",
        "decoder_embedding_output = decoder_embedding(decoder_inputs)\n",
        "\n",
        "#Decoder RNN\n",
        "decoder_rnn = tf.keras.layers.LSTM(rnn_units, \n",
        "                                   return_sequences=True, \n",
        "                                   return_state=True)\n",
        "\n",
        "#Decoder RNN Output, State initialization from Encoder states\n",
        "#Output will be all hidden sequences, last 'h' state and last 'c' state\n",
        "all_hidden_states_d,last_hidden_state_d,last_cell_state_decoder = decoder_rnn(decoder_embedding_output, \n",
        "                                                                            initial_state=encoder_states)\n",
        "\n",
        "#Output Layer\n",
        "decoder_dense = tf.keras.layers.Dense(decoder_vocab_size + 1, #+1 to make sure one-hot encoding works for highest index value\n",
        "                                      activation='softmax')\n",
        "\n",
        "#Output of Dense layer\n",
        "decoder_outputs = decoder_dense(all_hidden_states_d)"
      ],
      "execution_count": 58,
      "outputs": []
    },
    {
      "cell_type": "code",
      "metadata": {
        "id": "_MP3Xbx6v3qT",
        "colab": {
          "base_uri": "https://localhost:8080/"
        },
        "outputId": "cb87b315-99e3-4c56-aade-f539b26a7bb0"
      },
      "source": [
        "#All hidden states\n",
        "all_hidden_states_d"
      ],
      "execution_count": 59,
      "outputs": [
        {
          "output_type": "execute_result",
          "data": {
            "text/plain": [
              "<KerasTensor: shape=(None, None, 256) dtype=float32 (created by layer 'lstm_1')>"
            ]
          },
          "metadata": {},
          "execution_count": 59
        }
      ]
    },
    {
      "cell_type": "code",
      "metadata": {
        "id": "byZkwGJNKXoR",
        "colab": {
          "base_uri": "https://localhost:8080/"
        },
        "outputId": "2b74bb2e-ed59-419c-d0ad-3793481b997c"
      },
      "source": [
        "#Predicted probabilities\n",
        "decoder_outputs"
      ],
      "execution_count": 60,
      "outputs": [
        {
          "output_type": "execute_result",
          "data": {
            "text/plain": [
              "<KerasTensor: shape=(None, None, 3060) dtype=float32 (created by layer 'dense')>"
            ]
          },
          "metadata": {},
          "execution_count": 60
        }
      ]
    },
    {
      "cell_type": "markdown",
      "metadata": {
        "id": "6kabGUQ4KXoT"
      },
      "source": [
        "### Build Model using both Encoder and Decoder"
      ]
    },
    {
      "cell_type": "code",
      "metadata": {
        "id": "RkJyiM7uKXoT"
      },
      "source": [
        "#Build a Seq2Seq model -> Encoder + Decoder\n",
        "model = tf.keras.models.Model([encoder_inputs, decoder_inputs], #2 Inputs to the model\n",
        "                              decoder_outputs) #Output of the model"
      ],
      "execution_count": 61,
      "outputs": []
    },
    {
      "cell_type": "code",
      "metadata": {
        "id": "x-Yfmp3AKXoY"
      },
      "source": [
        "model.compile(optimizer='adam', loss='categorical_crossentropy')"
      ],
      "execution_count": 62,
      "outputs": []
    },
    {
      "cell_type": "code",
      "metadata": {
        "id": "mQ4npEHA3xd4",
        "colab": {
          "base_uri": "https://localhost:8080/"
        },
        "outputId": "c75666c9-e240-48cd-900b-baf4f98c2bd8"
      },
      "source": [
        "model.summary()"
      ],
      "execution_count": 63,
      "outputs": [
        {
          "output_type": "stream",
          "name": "stdout",
          "text": [
            "Model: \"model\"\n",
            "__________________________________________________________________________________________________\n",
            "Layer (type)                    Output Shape         Param #     Connected to                     \n",
            "==================================================================================================\n",
            "input_1 (InputLayer)            [(None, None)]       0                                            \n",
            "__________________________________________________________________________________________________\n",
            "input_2 (InputLayer)            [(None, None)]       0                                            \n",
            "__________________________________________________________________________________________________\n",
            "embedding (Embedding)           (None, None, 50)     121650      input_1[0][0]                    \n",
            "__________________________________________________________________________________________________\n",
            "embedding_1 (Embedding)         (None, None, 50)     153000      input_2[0][0]                    \n",
            "__________________________________________________________________________________________________\n",
            "lstm (LSTM)                     [(None, 256), (None, 314368      embedding[0][0]                  \n",
            "__________________________________________________________________________________________________\n",
            "lstm_1 (LSTM)                   [(None, None, 256),  314368      embedding_1[0][0]                \n",
            "                                                                 lstm[0][1]                       \n",
            "                                                                 lstm[0][2]                       \n",
            "__________________________________________________________________________________________________\n",
            "dense (Dense)                   (None, None, 3060)   786420      lstm_1[0][0]                     \n",
            "==================================================================================================\n",
            "Total params: 1,689,806\n",
            "Trainable params: 1,689,806\n",
            "Non-trainable params: 0\n",
            "__________________________________________________________________________________________________\n"
          ]
        }
      ]
    },
    {
      "cell_type": "markdown",
      "metadata": {
        "id": "I30VxT7LKXoa"
      },
      "source": [
        "### Train the model"
      ]
    },
    {
      "cell_type": "code",
      "metadata": {
        "id": "W-uw8R3_KXoa",
        "colab": {
          "base_uri": "https://localhost:8080/"
        },
        "outputId": "ab7acca5-d6c9-41b6-e908-d2cd09cc2622"
      },
      "source": [
        "model.fit([encoder_input_data, decoder_input_data], \n",
        "          decoder_target_one_hot,\n",
        "          batch_size=64,\n",
        "          epochs=100,\n",
        "          validation_split=0.2)"
      ],
      "execution_count": 64,
      "outputs": [
        {
          "output_type": "stream",
          "name": "stdout",
          "text": [
            "Epoch 1/100\n",
            "37/37 [==============================] - 11s 79ms/step - loss: 3.5894 - val_loss: 3.0553\n",
            "Epoch 2/100\n",
            "37/37 [==============================] - 2s 45ms/step - loss: 1.6385 - val_loss: 3.0361\n",
            "Epoch 3/100\n",
            "37/37 [==============================] - 2s 44ms/step - loss: 1.5958 - val_loss: 3.0656\n",
            "Epoch 4/100\n",
            "37/37 [==============================] - 2s 44ms/step - loss: 1.5684 - val_loss: 2.9884\n",
            "Epoch 5/100\n",
            "37/37 [==============================] - 2s 44ms/step - loss: 1.5232 - val_loss: 2.9647\n",
            "Epoch 6/100\n",
            "37/37 [==============================] - 2s 43ms/step - loss: 1.4515 - val_loss: 2.8416\n",
            "Epoch 7/100\n",
            "37/37 [==============================] - 2s 43ms/step - loss: 1.4028 - val_loss: 2.7801\n",
            "Epoch 8/100\n",
            "37/37 [==============================] - 2s 43ms/step - loss: 1.3734 - val_loss: 2.6988\n",
            "Epoch 9/100\n",
            "37/37 [==============================] - 2s 43ms/step - loss: 1.3510 - val_loss: 2.7314\n",
            "Epoch 10/100\n",
            "37/37 [==============================] - 2s 42ms/step - loss: 1.3316 - val_loss: 2.6953\n",
            "Epoch 11/100\n",
            "37/37 [==============================] - 2s 42ms/step - loss: 1.3151 - val_loss: 2.6972\n",
            "Epoch 12/100\n",
            "37/37 [==============================] - 2s 42ms/step - loss: 1.2989 - val_loss: 2.7117\n",
            "Epoch 13/100\n",
            "37/37 [==============================] - 2s 42ms/step - loss: 1.2829 - val_loss: 2.6565\n",
            "Epoch 14/100\n",
            "37/37 [==============================] - 2s 42ms/step - loss: 1.2679 - val_loss: 2.6762\n",
            "Epoch 15/100\n",
            "37/37 [==============================] - 2s 42ms/step - loss: 1.2522 - val_loss: 2.6436\n",
            "Epoch 16/100\n",
            "37/37 [==============================] - 2s 42ms/step - loss: 1.2367 - val_loss: 2.6782\n",
            "Epoch 17/100\n",
            "37/37 [==============================] - 2s 43ms/step - loss: 1.2200 - val_loss: 2.6839\n",
            "Epoch 18/100\n",
            "37/37 [==============================] - 2s 42ms/step - loss: 1.2044 - val_loss: 2.6930\n",
            "Epoch 19/100\n",
            "37/37 [==============================] - 2s 42ms/step - loss: 1.1886 - val_loss: 2.6916\n",
            "Epoch 20/100\n",
            "37/37 [==============================] - 2s 41ms/step - loss: 1.1730 - val_loss: 2.6707\n",
            "Epoch 21/100\n",
            "37/37 [==============================] - 2s 42ms/step - loss: 1.1583 - val_loss: 2.7086\n",
            "Epoch 22/100\n",
            "37/37 [==============================] - 2s 42ms/step - loss: 1.1441 - val_loss: 2.6932\n",
            "Epoch 23/100\n",
            "37/37 [==============================] - 2s 42ms/step - loss: 1.1294 - val_loss: 2.7012\n",
            "Epoch 24/100\n",
            "37/37 [==============================] - 2s 42ms/step - loss: 1.1144 - val_loss: 2.6924\n",
            "Epoch 25/100\n",
            "37/37 [==============================] - 2s 43ms/step - loss: 1.0996 - val_loss: 2.7020\n",
            "Epoch 26/100\n",
            "37/37 [==============================] - 2s 43ms/step - loss: 1.0852 - val_loss: 2.7137\n",
            "Epoch 27/100\n",
            "37/37 [==============================] - 2s 42ms/step - loss: 1.0700 - val_loss: 2.7322\n",
            "Epoch 28/100\n",
            "37/37 [==============================] - 2s 43ms/step - loss: 1.0556 - val_loss: 2.7179\n",
            "Epoch 29/100\n",
            "37/37 [==============================] - 2s 42ms/step - loss: 1.0405 - val_loss: 2.7125\n",
            "Epoch 30/100\n",
            "37/37 [==============================] - 2s 42ms/step - loss: 1.0243 - val_loss: 2.7186\n",
            "Epoch 31/100\n",
            "37/37 [==============================] - 2s 42ms/step - loss: 1.0086 - val_loss: 2.7344\n",
            "Epoch 32/100\n",
            "37/37 [==============================] - 2s 42ms/step - loss: 0.9931 - val_loss: 2.7287\n",
            "Epoch 33/100\n",
            "37/37 [==============================] - 2s 42ms/step - loss: 0.9779 - val_loss: 2.7363\n",
            "Epoch 34/100\n",
            "37/37 [==============================] - 2s 42ms/step - loss: 0.9616 - val_loss: 2.7309\n",
            "Epoch 35/100\n",
            "37/37 [==============================] - 2s 42ms/step - loss: 0.9471 - val_loss: 2.7493\n",
            "Epoch 36/100\n",
            "37/37 [==============================] - 2s 42ms/step - loss: 0.9324 - val_loss: 2.7692\n",
            "Epoch 37/100\n",
            "37/37 [==============================] - 2s 42ms/step - loss: 0.9175 - val_loss: 2.7526\n",
            "Epoch 38/100\n",
            "37/37 [==============================] - 2s 42ms/step - loss: 0.9017 - val_loss: 2.7674\n",
            "Epoch 39/100\n",
            "37/37 [==============================] - 2s 42ms/step - loss: 0.8872 - val_loss: 2.7655\n",
            "Epoch 40/100\n",
            "37/37 [==============================] - 2s 42ms/step - loss: 0.8727 - val_loss: 2.7841\n",
            "Epoch 41/100\n",
            "37/37 [==============================] - 2s 42ms/step - loss: 0.8575 - val_loss: 2.7917\n",
            "Epoch 42/100\n",
            "37/37 [==============================] - 2s 42ms/step - loss: 0.8430 - val_loss: 2.7835\n",
            "Epoch 43/100\n",
            "37/37 [==============================] - 2s 42ms/step - loss: 0.8295 - val_loss: 2.8044\n",
            "Epoch 44/100\n",
            "37/37 [==============================] - 2s 42ms/step - loss: 0.8152 - val_loss: 2.8154\n",
            "Epoch 45/100\n",
            "37/37 [==============================] - 2s 42ms/step - loss: 0.8008 - val_loss: 2.8425\n",
            "Epoch 46/100\n",
            "37/37 [==============================] - 2s 41ms/step - loss: 0.7874 - val_loss: 2.8274\n",
            "Epoch 47/100\n",
            "37/37 [==============================] - 2s 42ms/step - loss: 0.7725 - val_loss: 2.8414\n",
            "Epoch 48/100\n",
            "37/37 [==============================] - 2s 43ms/step - loss: 0.7594 - val_loss: 2.8497\n",
            "Epoch 49/100\n",
            "37/37 [==============================] - 2s 42ms/step - loss: 0.7461 - val_loss: 2.8464\n",
            "Epoch 50/100\n",
            "37/37 [==============================] - 2s 42ms/step - loss: 0.7322 - val_loss: 2.8690\n",
            "Epoch 51/100\n",
            "37/37 [==============================] - 2s 42ms/step - loss: 0.7187 - val_loss: 2.8791\n",
            "Epoch 52/100\n",
            "37/37 [==============================] - 2s 42ms/step - loss: 0.7054 - val_loss: 2.8676\n",
            "Epoch 53/100\n",
            "37/37 [==============================] - 2s 42ms/step - loss: 0.6923 - val_loss: 2.8931\n",
            "Epoch 54/100\n",
            "37/37 [==============================] - 2s 42ms/step - loss: 0.6783 - val_loss: 2.8958\n",
            "Epoch 55/100\n",
            "37/37 [==============================] - 2s 42ms/step - loss: 0.6654 - val_loss: 2.9275\n",
            "Epoch 56/100\n",
            "37/37 [==============================] - 2s 42ms/step - loss: 0.6528 - val_loss: 2.9307\n",
            "Epoch 57/100\n",
            "37/37 [==============================] - 2s 41ms/step - loss: 0.6403 - val_loss: 2.9317\n",
            "Epoch 58/100\n",
            "37/37 [==============================] - 2s 43ms/step - loss: 0.6284 - val_loss: 2.9202\n",
            "Epoch 59/100\n",
            "37/37 [==============================] - 2s 42ms/step - loss: 0.6149 - val_loss: 2.9462\n",
            "Epoch 60/100\n",
            "37/37 [==============================] - 2s 42ms/step - loss: 0.6019 - val_loss: 2.9644\n",
            "Epoch 61/100\n",
            "37/37 [==============================] - 2s 42ms/step - loss: 0.5893 - val_loss: 2.9699\n",
            "Epoch 62/100\n",
            "37/37 [==============================] - 2s 42ms/step - loss: 0.5775 - val_loss: 2.9700\n",
            "Epoch 63/100\n",
            "37/37 [==============================] - 2s 42ms/step - loss: 0.5664 - val_loss: 2.9868\n",
            "Epoch 64/100\n",
            "37/37 [==============================] - 2s 42ms/step - loss: 0.5549 - val_loss: 2.9888\n",
            "Epoch 65/100\n",
            "37/37 [==============================] - 2s 42ms/step - loss: 0.5425 - val_loss: 3.0072\n",
            "Epoch 66/100\n",
            "37/37 [==============================] - 2s 41ms/step - loss: 0.5323 - val_loss: 2.9896\n",
            "Epoch 67/100\n",
            "37/37 [==============================] - 2s 42ms/step - loss: 0.5207 - val_loss: 3.0094\n",
            "Epoch 68/100\n",
            "37/37 [==============================] - 2s 41ms/step - loss: 0.5099 - val_loss: 3.0292\n",
            "Epoch 69/100\n",
            "37/37 [==============================] - 2s 42ms/step - loss: 0.4987 - val_loss: 3.0404\n",
            "Epoch 70/100\n",
            "37/37 [==============================] - 2s 42ms/step - loss: 0.4887 - val_loss: 3.0479\n",
            "Epoch 71/100\n",
            "37/37 [==============================] - 2s 42ms/step - loss: 0.4779 - val_loss: 3.0598\n",
            "Epoch 72/100\n",
            "37/37 [==============================] - 2s 42ms/step - loss: 0.4687 - val_loss: 3.0530\n",
            "Epoch 73/100\n",
            "37/37 [==============================] - 2s 42ms/step - loss: 0.4597 - val_loss: 3.0787\n",
            "Epoch 74/100\n",
            "37/37 [==============================] - 2s 42ms/step - loss: 0.4493 - val_loss: 3.0802\n",
            "Epoch 75/100\n",
            "37/37 [==============================] - 2s 42ms/step - loss: 0.4400 - val_loss: 3.0949\n",
            "Epoch 76/100\n",
            "37/37 [==============================] - 2s 42ms/step - loss: 0.4306 - val_loss: 3.1082\n",
            "Epoch 77/100\n",
            "37/37 [==============================] - 2s 42ms/step - loss: 0.4217 - val_loss: 3.1070\n",
            "Epoch 78/100\n",
            "37/37 [==============================] - 2s 42ms/step - loss: 0.4134 - val_loss: 3.1210\n",
            "Epoch 79/100\n",
            "37/37 [==============================] - 2s 42ms/step - loss: 0.4046 - val_loss: 3.1296\n",
            "Epoch 80/100\n",
            "37/37 [==============================] - 2s 42ms/step - loss: 0.3958 - val_loss: 3.1406\n",
            "Epoch 81/100\n",
            "37/37 [==============================] - 2s 42ms/step - loss: 0.3874 - val_loss: 3.1513\n",
            "Epoch 82/100\n",
            "37/37 [==============================] - 2s 42ms/step - loss: 0.3793 - val_loss: 3.1472\n",
            "Epoch 83/100\n",
            "37/37 [==============================] - 2s 42ms/step - loss: 0.3714 - val_loss: 3.1631\n",
            "Epoch 84/100\n",
            "37/37 [==============================] - 2s 41ms/step - loss: 0.3639 - val_loss: 3.1648\n",
            "Epoch 85/100\n",
            "37/37 [==============================] - 2s 42ms/step - loss: 0.3564 - val_loss: 3.1911\n",
            "Epoch 86/100\n",
            "37/37 [==============================] - 2s 41ms/step - loss: 0.3492 - val_loss: 3.1954\n",
            "Epoch 87/100\n",
            "37/37 [==============================] - 2s 42ms/step - loss: 0.3412 - val_loss: 3.2080\n",
            "Epoch 88/100\n",
            "37/37 [==============================] - 2s 41ms/step - loss: 0.3346 - val_loss: 3.2246\n",
            "Epoch 89/100\n",
            "37/37 [==============================] - 2s 41ms/step - loss: 0.3273 - val_loss: 3.2277\n",
            "Epoch 90/100\n",
            "37/37 [==============================] - 2s 41ms/step - loss: 0.3210 - val_loss: 3.2187\n",
            "Epoch 91/100\n",
            "37/37 [==============================] - 2s 41ms/step - loss: 0.3162 - val_loss: 3.2337\n",
            "Epoch 92/100\n",
            "37/37 [==============================] - 2s 42ms/step - loss: 0.3084 - val_loss: 3.2603\n",
            "Epoch 93/100\n",
            "37/37 [==============================] - 2s 43ms/step - loss: 0.3004 - val_loss: 3.2631\n",
            "Epoch 94/100\n",
            "37/37 [==============================] - 2s 42ms/step - loss: 0.2941 - val_loss: 3.2839\n",
            "Epoch 95/100\n",
            "37/37 [==============================] - 2s 42ms/step - loss: 0.2883 - val_loss: 3.2928\n",
            "Epoch 96/100\n",
            "37/37 [==============================] - 2s 42ms/step - loss: 0.2820 - val_loss: 3.2998\n",
            "Epoch 97/100\n",
            "37/37 [==============================] - 2s 42ms/step - loss: 0.2765 - val_loss: 3.2881\n",
            "Epoch 98/100\n",
            "37/37 [==============================] - 2s 41ms/step - loss: 0.2707 - val_loss: 3.3187\n",
            "Epoch 99/100\n",
            "37/37 [==============================] - 2s 42ms/step - loss: 0.2645 - val_loss: 3.3187\n",
            "Epoch 100/100\n",
            "37/37 [==============================] - 2s 42ms/step - loss: 0.2594 - val_loss: 3.3468\n"
          ]
        },
        {
          "output_type": "execute_result",
          "data": {
            "text/plain": [
              "<keras.callbacks.History at 0x7fef95e25ed0>"
            ]
          },
          "metadata": {},
          "execution_count": 64
        }
      ]
    },
    {
      "cell_type": "markdown",
      "metadata": {
        "id": "iDZlu731KXob"
      },
      "source": [
        "### Save the model for later reuse"
      ]
    },
    {
      "cell_type": "code",
      "metadata": {
        "id": "jpUOjtksKXoc",
        "colab": {
          "base_uri": "https://localhost:8080/"
        },
        "outputId": "b57155ad-b232-4fa7-f5d6-b0944aecc882"
      },
      "source": [
        "model.save('seq2seq_training_translation.hd5')"
      ],
      "execution_count": 65,
      "outputs": [
        {
          "output_type": "stream",
          "name": "stderr",
          "text": [
            "WARNING:absl:Found untraced functions such as lstm_cell_layer_call_and_return_conditional_losses, lstm_cell_layer_call_fn, lstm_cell_1_layer_call_and_return_conditional_losses, lstm_cell_1_layer_call_fn, lstm_cell_layer_call_fn while saving (showing 5 of 10). These functions will not be directly callable after loading.\n"
          ]
        },
        {
          "output_type": "stream",
          "name": "stdout",
          "text": [
            "INFO:tensorflow:Assets written to: seq2seq_training_translation.hd5/assets\n"
          ]
        },
        {
          "output_type": "stream",
          "name": "stderr",
          "text": [
            "INFO:tensorflow:Assets written to: seq2seq_training_translation.hd5/assets\n"
          ]
        }
      ]
    },
    {
      "cell_type": "markdown",
      "metadata": {
        "id": "guuaYKaDKXod"
      },
      "source": [
        "# Building Model for Prediction"
      ]
    },
    {
      "cell_type": "markdown",
      "metadata": {
        "id": "j-tXkDaqKXod"
      },
      "source": [
        "### Build the Encoder Model to predict Encoder States"
      ]
    },
    {
      "cell_type": "code",
      "metadata": {
        "id": "QdM2QenRKXod"
      },
      "source": [
        "encoder_model = tf.keras.models.Model(encoder_inputs, #Padded input sequences\n",
        "                                      encoder_states) #Hidden state and Cell state at last time step"
      ],
      "execution_count": 66,
      "outputs": []
    },
    {
      "cell_type": "code",
      "metadata": {
        "id": "Jj07QPsc941I",
        "colab": {
          "base_uri": "https://localhost:8080/"
        },
        "outputId": "b5e452f3-3f14-4d0f-a100-0df0d21e7a10"
      },
      "source": [
        "encoder_model.output"
      ],
      "execution_count": 67,
      "outputs": [
        {
          "output_type": "execute_result",
          "data": {
            "text/plain": [
              "[<KerasTensor: shape=(None, 256) dtype=float32 (created by layer 'lstm')>,\n",
              " <KerasTensor: shape=(None, 256) dtype=float32 (created by layer 'lstm')>]"
            ]
          },
          "metadata": {},
          "execution_count": 67
        }
      ]
    },
    {
      "cell_type": "markdown",
      "metadata": {
        "id": "tBvy3uDnKXof"
      },
      "source": [
        "### Build the Decoder Model \n",
        "<p/>\n",
        "\n",
        "<ol><li>Define Input for both 'h' state and 'c' state initialization </li>\n",
        "<li>Get Decoder RNN outputs along with h and c state</li>\n",
        "<li>Get Decoder Dense layer output</li>\n",
        "        <li>Build Model</li></ol>"
      ]
    },
    {
      "cell_type": "markdown",
      "metadata": {
        "id": "Ohsoa5J_KXof"
      },
      "source": [
        "##### Step 1 - Define Input for both 'h' state and 'c' state initialization"
      ]
    },
    {
      "cell_type": "code",
      "metadata": {
        "id": "aNlm9ufvKXoh"
      },
      "source": [
        "#Hidden state input\n",
        "decoder_state_input_h = tf.keras.layers.Input(shape=(rnn_units,))\n",
        "\n",
        "#Cell state input\n",
        "decoder_state_input_c = tf.keras.layers.Input(shape=(rnn_units,))\n",
        "\n",
        "#Putting it together\n",
        "decoder_states_inputs = [decoder_state_input_h, decoder_state_input_c]"
      ],
      "execution_count": 68,
      "outputs": []
    },
    {
      "cell_type": "markdown",
      "metadata": {
        "id": "ZzbTg44oKXoi"
      },
      "source": [
        "##### Step 2 - Get Decoder RNN outputs along with h and c state"
      ]
    },
    {
      "cell_type": "code",
      "metadata": {
        "id": "OVHzmr1hKXoi"
      },
      "source": [
        "#Get Embedding layer output\n",
        "x = decoder_embedding(decoder_inputs)\n",
        "\n",
        "#We will use the layer which we trained earlier\n",
        "rnn_outputs, state_h, state_c = decoder_rnn(x, initial_state=decoder_states_inputs)\n",
        "\n",
        "#Why do we need this?\n",
        "decoder_states = [state_h, state_c]"
      ],
      "execution_count": 69,
      "outputs": []
    },
    {
      "cell_type": "markdown",
      "metadata": {
        "id": "1gX884-sKXoj"
      },
      "source": [
        "##### Step 3 - Get Decoder Dense layer output"
      ]
    },
    {
      "cell_type": "code",
      "metadata": {
        "id": "lj9ZkJh0KXoj"
      },
      "source": [
        "decoder_outputs = decoder_dense(rnn_outputs)"
      ],
      "execution_count": 70,
      "outputs": []
    },
    {
      "cell_type": "markdown",
      "metadata": {
        "id": "0HiEPMqnKXok"
      },
      "source": [
        "##### Step 4 - Build Decoder Model"
      ]
    },
    {
      "cell_type": "code",
      "metadata": {
        "id": "ExV0PWSPKXol"
      },
      "source": [
        "decoder_model = tf.keras.models.Model([decoder_inputs] + decoder_states_inputs,  #Model inputs\n",
        "                                      [decoder_outputs] + decoder_states)"
      ],
      "execution_count": 71,
      "outputs": []
    },
    {
      "cell_type": "code",
      "metadata": {
        "id": "SZ4CvVtBCuAh",
        "colab": {
          "base_uri": "https://localhost:8080/"
        },
        "outputId": "b8d54048-19fe-4eb4-c0aa-61a7e78e1b5f"
      },
      "source": [
        "encoder_model.summary()"
      ],
      "execution_count": 72,
      "outputs": [
        {
          "output_type": "stream",
          "name": "stdout",
          "text": [
            "Model: \"model_1\"\n",
            "_________________________________________________________________\n",
            "Layer (type)                 Output Shape              Param #   \n",
            "=================================================================\n",
            "input_1 (InputLayer)         [(None, None)]            0         \n",
            "_________________________________________________________________\n",
            "embedding (Embedding)        (None, None, 50)          121650    \n",
            "_________________________________________________________________\n",
            "lstm (LSTM)                  [(None, 256), (None, 256) 314368    \n",
            "=================================================================\n",
            "Total params: 436,018\n",
            "Trainable params: 436,018\n",
            "Non-trainable params: 0\n",
            "_________________________________________________________________\n"
          ]
        }
      ]
    },
    {
      "cell_type": "code",
      "metadata": {
        "id": "7xFB-YGoCySr",
        "colab": {
          "base_uri": "https://localhost:8080/"
        },
        "outputId": "676bb25f-8262-46b5-fcb1-3e04c04dc220"
      },
      "source": [
        "decoder_model.summary()"
      ],
      "execution_count": 73,
      "outputs": [
        {
          "output_type": "stream",
          "name": "stdout",
          "text": [
            "Model: \"model_2\"\n",
            "__________________________________________________________________________________________________\n",
            "Layer (type)                    Output Shape         Param #     Connected to                     \n",
            "==================================================================================================\n",
            "input_2 (InputLayer)            [(None, None)]       0                                            \n",
            "__________________________________________________________________________________________________\n",
            "embedding_1 (Embedding)         (None, None, 50)     153000      input_2[0][0]                    \n",
            "__________________________________________________________________________________________________\n",
            "input_3 (InputLayer)            [(None, 256)]        0                                            \n",
            "__________________________________________________________________________________________________\n",
            "input_4 (InputLayer)            [(None, 256)]        0                                            \n",
            "__________________________________________________________________________________________________\n",
            "lstm_1 (LSTM)                   [(None, None, 256),  314368      embedding_1[1][0]                \n",
            "                                                                 input_3[0][0]                    \n",
            "                                                                 input_4[0][0]                    \n",
            "__________________________________________________________________________________________________\n",
            "dense (Dense)                   (None, None, 3060)   786420      lstm_1[1][0]                     \n",
            "==================================================================================================\n",
            "Total params: 1,253,788\n",
            "Trainable params: 1,253,788\n",
            "Non-trainable params: 0\n",
            "__________________________________________________________________________________________________\n"
          ]
        }
      ]
    },
    {
      "cell_type": "markdown",
      "metadata": {
        "id": "qnKbxenGKXom"
      },
      "source": [
        "# Predicting output from Seq2Seq model"
      ]
    },
    {
      "cell_type": "markdown",
      "metadata": {
        "id": "MFsy3KR7KXon"
      },
      "source": [
        "##### Build a prediction function"
      ]
    },
    {
      "cell_type": "code",
      "metadata": {
        "id": "sIwVWxXXKXon",
        "colab": {
          "base_uri": "https://localhost:8080/"
        },
        "outputId": "0f8d0d77-cfeb-4ff7-81a4-23bf11003fbd"
      },
      "source": [
        "decoder_t.word_index['<start>']"
      ],
      "execution_count": 74,
      "outputs": [
        {
          "output_type": "execute_result",
          "data": {
            "text/plain": [
              "1"
            ]
          },
          "metadata": {},
          "execution_count": 74
        }
      ]
    },
    {
      "cell_type": "code",
      "metadata": {
        "id": "nR2H6c3YKXop",
        "colab": {
          "base_uri": "https://localhost:8080/",
          "height": 35
        },
        "outputId": "be1a4062-ba93-4c76-e362-867b9595d077"
      },
      "source": [
        "int_to_word_decoder[51]"
      ],
      "execution_count": 75,
      "outputs": [
        {
          "output_type": "execute_result",
          "data": {
            "application/vnd.google.colaboratory.intrinsic+json": {
              "type": "string"
            },
            "text/plain": [
              "'तुम्हें'"
            ]
          },
          "metadata": {},
          "execution_count": 75
        }
      ]
    },
    {
      "cell_type": "code",
      "metadata": {
        "id": "VEG8fmnbKXop"
      },
      "source": [
        "def decode_sentence(input_sequence):\n",
        "    \n",
        "    #Get the encoder state values - Sentence embedding\n",
        "    decoder_initial_states_value = encoder_model.predict(input_seq)\n",
        "    \n",
        "    #Build a sequence with '<start>' - starting sequence for Decoder\n",
        "    target_seq = np.zeros((1,1))    \n",
        "    target_seq[0][0] = decoder_t.word_index['<start>']\n",
        "    \n",
        "    #flag to check if prediction should be stopped\n",
        "    stop_loop = False\n",
        "    \n",
        "    #Initialize predicted sentence\n",
        "    predicted_sentence = ''\n",
        "    \n",
        "    num_of_predictions = 0\n",
        "    \n",
        "    #start the loop\n",
        "    while not stop_loop:\n",
        "        \n",
        "        predicted_outputs, h, c = decoder_model.predict([target_seq] + \n",
        "                                                        decoder_initial_states_value)\n",
        "        \n",
        "        #Get the predicted word index with highest probability\n",
        "        predicted_output = np.argmax(predicted_outputs[0,-1,:])\n",
        "        \n",
        "        #Get the predicted word from predicter index\n",
        "        predicted_word = int_to_word_decoder[predicted_output]\n",
        "        \n",
        "        #Check if prediction should stop\n",
        "        if(predicted_word == '<end>' or num_of_predictions > max_decoder_seq_length):\n",
        "            \n",
        "            stop_loop = True\n",
        "            continue\n",
        "        \n",
        "        num_of_predictions += 1\n",
        "        \n",
        "        #Updated predicted sentence\n",
        "        if (len(predicted_sentence) == 0):\n",
        "            predicted_sentence = predicted_word\n",
        "        else:\n",
        "            predicted_sentence = predicted_sentence + ' ' + predicted_word\n",
        "            \n",
        "        #Update target_seq to be the predicted word index\n",
        "        target_seq[0][0] = predicted_output\n",
        "        \n",
        "        #Update initial states value for decoder\n",
        "        decoder_initial_states_value = [h,c]\n",
        "        \n",
        "    \n",
        "    return predicted_sentence"
      ],
      "execution_count": 76,
      "outputs": []
    },
    {
      "cell_type": "markdown",
      "metadata": {
        "id": "_jtZM8iaKXoq"
      },
      "source": [
        "##### Call Prediction function on a random sentence"
      ]
    },
    {
      "cell_type": "code",
      "metadata": {
        "id": "perGUle1KXor",
        "colab": {
          "base_uri": "https://localhost:8080/"
        },
        "outputId": "cd78cc2c-a5e5-487a-e3cc-428a6f763beb"
      },
      "source": [
        "#Generate a random number\n",
        "start_num = np.random.randint(0, high=len(encoder_text) - 10)\n",
        "\n",
        "#Predict model output for 5 sentences\n",
        "for i in range(start_num, start_num + 5):\n",
        "    input_seq = encoder_input_data[i : i+1]\n",
        "    predicted_sentence = decode_sentence(input_seq)\n",
        "    print('--------')\n",
        "    print ('Input sentence: ', encoder_text[i])\n",
        "    print ('Predicted sentence: ', predicted_sentence )"
      ],
      "execution_count": 77,
      "outputs": [
        {
          "output_type": "stream",
          "name": "stdout",
          "text": [
            "--------\n",
            "Input sentence:  This is mine, and that's yours.\n",
            "Predicted sentence:  यह मेरा पति है।\n",
            "--------\n",
            "Input sentence:  This medicine will do you good!\n",
            "Predicted sentence:  तुम्हारे पास कितनी कटोरियाँ हैं\n",
            "--------\n",
            "Input sentence:  This train is bound for Boston.\n",
            "Predicted sentence:  यह दवाई अपने हाथ वाले से ।\n",
            "--------\n",
            "Input sentence:  Today is my sixteenth birthday.\n",
            "Predicted sentence:  मेरा दाहिना पैर सो गया है।\n",
            "--------\n",
            "Input sentence:  Tom has graduated from college.\n",
            "Predicted sentence:  हम सब उसके मज़ाक पर हँसे।\n"
          ]
        }
      ]
    },
    {
      "cell_type": "markdown",
      "metadata": {
        "id": "xqi_-4Y0KXos"
      },
      "source": [
        "##### Save encoder and decoder model"
      ]
    },
    {
      "cell_type": "code",
      "metadata": {
        "id": "1TbJoYhJKXos",
        "colab": {
          "base_uri": "https://localhost:8080/"
        },
        "outputId": "a71d17a3-5c95-4078-a821-4532a912db0e"
      },
      "source": [
        "#Compile models to avoid error\n",
        "encoder_model.compile(optimizer='adam',loss='categorical_crossentropy')\n",
        "decoder_model.compile(optimizer='adam',loss='categorical_crossentropy')\n",
        "\n",
        "#Save the models\n",
        "encoder_model.save('seq2seq_encoder_eng_hin.hd5')  #Encoder model\n",
        "decoder_model.save('seq2seq_decoder_eng_hin.hd5')  #Decoder model"
      ],
      "execution_count": 78,
      "outputs": [
        {
          "output_type": "stream",
          "name": "stderr",
          "text": [
            "WARNING:absl:Found untraced functions such as lstm_cell_layer_call_and_return_conditional_losses, lstm_cell_layer_call_fn, lstm_cell_layer_call_fn, lstm_cell_layer_call_and_return_conditional_losses, lstm_cell_layer_call_and_return_conditional_losses while saving (showing 5 of 5). These functions will not be directly callable after loading.\n"
          ]
        },
        {
          "output_type": "stream",
          "name": "stdout",
          "text": [
            "INFO:tensorflow:Assets written to: seq2seq_encoder_eng_hin.hd5/assets\n"
          ]
        },
        {
          "output_type": "stream",
          "name": "stderr",
          "text": [
            "INFO:tensorflow:Assets written to: seq2seq_encoder_eng_hin.hd5/assets\n",
            "WARNING:absl:Found untraced functions such as lstm_cell_1_layer_call_and_return_conditional_losses, lstm_cell_1_layer_call_fn, lstm_cell_1_layer_call_fn, lstm_cell_1_layer_call_and_return_conditional_losses, lstm_cell_1_layer_call_and_return_conditional_losses while saving (showing 5 of 5). These functions will not be directly callable after loading.\n"
          ]
        },
        {
          "output_type": "stream",
          "name": "stdout",
          "text": [
            "INFO:tensorflow:Assets written to: seq2seq_decoder_eng_hin.hd5/assets\n"
          ]
        },
        {
          "output_type": "stream",
          "name": "stderr",
          "text": [
            "INFO:tensorflow:Assets written to: seq2seq_decoder_eng_hin.hd5/assets\n"
          ]
        }
      ]
    },
    {
      "cell_type": "markdown",
      "metadata": {
        "id": "skLA1matKXot"
      },
      "source": [
        "##### Save encoder and decoder tokenizers"
      ]
    },
    {
      "cell_type": "code",
      "metadata": {
        "id": "eCLkBUL7KXou"
      },
      "source": [
        "import pickle\n",
        "\n",
        "pickle.dump(encoder_t,open('encoder_tokenizer_eng','wb'))\n",
        "pickle.dump(decoder_t,open('decoder_tokenizer_hin','wb'))"
      ],
      "execution_count": 79,
      "outputs": []
    },
    {
      "cell_type": "code",
      "metadata": {
        "id": "7C04JeEpQs3w",
        "colab": {
          "base_uri": "https://localhost:8080/"
        },
        "outputId": "71cf038a-7471-4fff-c149-bb5778d5ccab"
      },
      "source": [
        "!ls -l"
      ],
      "execution_count": 80,
      "outputs": [
        {
          "output_type": "stream",
          "name": "stdout",
          "text": [
            "total 1120\n",
            "-rw-r--r-- 1 root root   1441 Jul 14 10:16 _about.txt\n",
            "-rw-r--r-- 1 root root 165112 Oct  5 13:39 decoder_tokenizer_hin\n",
            "-rw-r--r-- 1 root root 108589 Oct  5 13:39 encoder_tokenizer_eng\n",
            "-rw-r--r-- 1 root root 133900 Jul 14 01:16 hin-eng.zip\n",
            "-rw-r--r-- 1 root root 133900 Jul 14 01:16 hin-eng.zip.1\n",
            "-rw-r--r-- 1 root root 576735 Jul 14 10:16 hin.txt\n",
            "drwxr-xr-x 1 root root   4096 Sep 30 17:12 sample_data\n",
            "drwxr-xr-x 4 root root   4096 Oct  5 13:39 seq2seq_decoder_eng_hin.hd5\n",
            "drwxr-xr-x 4 root root   4096 Oct  5 13:39 seq2seq_encoder_eng_hin.hd5\n",
            "drwxr-xr-x 4 root root   4096 Oct  5 13:39 seq2seq_training_translation.hd5\n"
          ]
        }
      ]
    },
    {
      "cell_type": "code",
      "metadata": {
        "id": "eDJYQ9wIqmaC"
      },
      "source": [
        ""
      ],
      "execution_count": 80,
      "outputs": []
    }
  ]
}