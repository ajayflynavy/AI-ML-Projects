{
  "nbformat": 4,
  "nbformat_minor": 0,
  "metadata": {
    "colab": {
      "name": "Final_of_Project_1_Statistical_NLP.ipynb",
      "provenance": [],
      "collapsed_sections": []
    },
    "kernelspec": {
      "display_name": "Python 3",
      "name": "python3"
    },
    "language_info": {
      "name": "python"
    },
    "accelerator": "GPU"
  },
  "cells": [
    {
      "cell_type": "markdown",
      "metadata": {
        "id": "c7FTNawklqbx"
      },
      "source": [
        "## Project -1: Statistical NLP\n",
        "#### By Ajay Kumar"
      ]
    },
    {
      "cell_type": "markdown",
      "metadata": {
        "id": "ZZrxVNVdmhNx"
      },
      "source": [
        "• DOMAIN: Digital content management\n",
        "\n",
        "• CONTEXT: Classification is probably the most popular task that you would deal with in real life. Text in the form of blogs, posts, articles, \n",
        "etc. is written every second. It is a challenge to predict the information about the writer without knowing about him/her. We are going to \n",
        "create a classifier that predicts multiple features of the author of a given text. We have designed it as a Multi label classification problem.\n",
        "\n",
        "• DATA DESCRIPTION: Over 600,000 posts from more than 19 thousand bloggers The Blog Authorship Corpus consists of the collected \n",
        "posts of 19,320 bloggers gathered from blogger.com in August 2004. The corpus incorporates a total of 681,288 posts and over 140 million \n",
        "words - or approximately 35 posts and 7250 words per person. Each blog is presented as a separate file, the name of which indicates a \n",
        "blogger id# and the blogger’s self-provided gender, age, industry, and astrological sign. (All are labelled for gender and age but for many, \n",
        "industry and/or sign is marked as unknown.) All bloggers included in the corpus fall into one of three age groups:\n",
        "\n",
        "• 8240 \"10s\" blogs (ages 13-17), \n",
        "\n",
        "• 8086 \"20s\" blogs(ages 23-27) and \n",
        "\n",
        "• 2994 \"30s\" blogs (ages 33-47)\n",
        "\n",
        "For each age group, there is an equal number of male and female bloggers.\n",
        "Each blog in the corpus includes at least 200 occurrences of common English words. All formatting has been stripped with two exceptions. \n",
        "Individual posts within a single blogger are separated by the date of the following post and links within a post are denoted by the label url \n",
        "link. Link to dataset: https://www.kaggle.com/rtatman/blog-authorship-corpus"
      ]
    },
    {
      "cell_type": "code",
      "metadata": {
        "colab": {
          "base_uri": "https://localhost:8080/"
        },
        "id": "4L0DNZaZoC8p",
        "outputId": "7d8fd19b-0c14-4f49-d9c1-d608707d81ee"
      },
      "source": [
        "#Connect Google drive to colab\n",
        "from google.colab import drive\n",
        "drive.mount('/content/drive')"
      ],
      "execution_count": 1,
      "outputs": [
        {
          "output_type": "stream",
          "text": [
            "Mounted at /content/drive\n"
          ],
          "name": "stdout"
        }
      ]
    },
    {
      "cell_type": "markdown",
      "metadata": {
        "id": "ZqkAD6Vf4IXz"
      },
      "source": [
        "Setting the Project path"
      ]
    },
    {
      "cell_type": "code",
      "metadata": {
        "id": "M7VJbiyFo_hi"
      },
      "source": [
        "path = '/content/drive/MyDrive/NLP Project'"
      ],
      "execution_count": 4,
      "outputs": []
    },
    {
      "cell_type": "code",
      "metadata": {
        "colab": {
          "base_uri": "https://localhost:8080/"
        },
        "id": "Bauoevivq73X",
        "outputId": "5ef25b9a-5d23-45b7-f957-612fc172fb02"
      },
      "source": [
        "%cd /content/drive/MyDrive/NLP Project"
      ],
      "execution_count": 5,
      "outputs": [
        {
          "output_type": "stream",
          "text": [
            "/content/drive/MyDrive/NLP Project\n"
          ],
          "name": "stdout"
        }
      ]
    },
    {
      "cell_type": "markdown",
      "metadata": {
        "id": "-HrD3dR74PL1"
      },
      "source": [
        "Checking the zip and unziping"
      ]
    },
    {
      "cell_type": "code",
      "metadata": {
        "colab": {
          "base_uri": "https://localhost:8080/"
        },
        "id": "qOm_zZS2rK--",
        "outputId": "afb2d844-f2fd-4354-8df4-a299a7915d46"
      },
      "source": [
        "!ls -l"
      ],
      "execution_count": 6,
      "outputs": [
        {
          "output_type": "stream",
          "text": [
            "total 1272461\n",
            "-rw------- 1 root root 800419647 Aug 19 10:25  blogtext.csv\n",
            "-rw------- 1 root root     55501 Aug 23 21:20  case_study_Sequence_Tagging_week3_nlp_aiml_online.ipynb\n",
            "-rw------- 1 root root     57938 Aug 23 14:23 'case_study_Sequence_Tagging_week4_nlp_aiml_online_glove (2).ipynb'\n",
            "-rw------- 1 root root    796852 Aug 26 15:53  Final_of_Project_1_Statistical_NLP.ipynb\n",
            "-rw------- 1 root root 501494860 Aug 19 10:47  glove-wiki-gigaword-300.txt\n",
            "-rw------- 1 root root    173195 Aug 23 20:19  Project_1_Statistical_NLP.ipynb\n"
          ],
          "name": "stdout"
        }
      ]
    },
    {
      "cell_type": "code",
      "metadata": {
        "id": "RxVYDrbkrNUH"
      },
      "source": [
        "# !unzip \\*.zip"
      ],
      "execution_count": 7,
      "outputs": []
    },
    {
      "cell_type": "markdown",
      "metadata": {
        "id": "N60d_nX1sCc_"
      },
      "source": [
        "## Q1. Import and analyse the data set."
      ]
    },
    {
      "cell_type": "code",
      "metadata": {
        "id": "N-xCICcYsV12"
      },
      "source": [
        "# Importing the required library\n",
        "import pandas as pd\n",
        "import numpy as np"
      ],
      "execution_count": 8,
      "outputs": []
    },
    {
      "cell_type": "code",
      "metadata": {
        "colab": {
          "base_uri": "https://localhost:8080/",
          "height": 220
        },
        "id": "8T_R_hxxslB3",
        "outputId": "4a80e6b5-578d-4aec-e354-1946c515f2f2"
      },
      "source": [
        "df = pd.read_csv('/content/drive/MyDrive/NLP Project/blogtext.csv')\n",
        "print(df.shape)\n",
        "df.head()"
      ],
      "execution_count": 175,
      "outputs": [
        {
          "output_type": "stream",
          "text": [
            "(681284, 7)\n"
          ],
          "name": "stdout"
        },
        {
          "output_type": "execute_result",
          "data": {
            "text/html": [
              "<div>\n",
              "<style scoped>\n",
              "    .dataframe tbody tr th:only-of-type {\n",
              "        vertical-align: middle;\n",
              "    }\n",
              "\n",
              "    .dataframe tbody tr th {\n",
              "        vertical-align: top;\n",
              "    }\n",
              "\n",
              "    .dataframe thead th {\n",
              "        text-align: right;\n",
              "    }\n",
              "</style>\n",
              "<table border=\"1\" class=\"dataframe\">\n",
              "  <thead>\n",
              "    <tr style=\"text-align: right;\">\n",
              "      <th></th>\n",
              "      <th>id</th>\n",
              "      <th>gender</th>\n",
              "      <th>age</th>\n",
              "      <th>topic</th>\n",
              "      <th>sign</th>\n",
              "      <th>date</th>\n",
              "      <th>text</th>\n",
              "    </tr>\n",
              "  </thead>\n",
              "  <tbody>\n",
              "    <tr>\n",
              "      <th>0</th>\n",
              "      <td>2059027</td>\n",
              "      <td>male</td>\n",
              "      <td>15</td>\n",
              "      <td>Student</td>\n",
              "      <td>Leo</td>\n",
              "      <td>14,May,2004</td>\n",
              "      <td>Info has been found (+/- 100 pages,...</td>\n",
              "    </tr>\n",
              "    <tr>\n",
              "      <th>1</th>\n",
              "      <td>2059027</td>\n",
              "      <td>male</td>\n",
              "      <td>15</td>\n",
              "      <td>Student</td>\n",
              "      <td>Leo</td>\n",
              "      <td>13,May,2004</td>\n",
              "      <td>These are the team members:   Drewe...</td>\n",
              "    </tr>\n",
              "    <tr>\n",
              "      <th>2</th>\n",
              "      <td>2059027</td>\n",
              "      <td>male</td>\n",
              "      <td>15</td>\n",
              "      <td>Student</td>\n",
              "      <td>Leo</td>\n",
              "      <td>12,May,2004</td>\n",
              "      <td>In het kader van kernfusie op aarde...</td>\n",
              "    </tr>\n",
              "    <tr>\n",
              "      <th>3</th>\n",
              "      <td>2059027</td>\n",
              "      <td>male</td>\n",
              "      <td>15</td>\n",
              "      <td>Student</td>\n",
              "      <td>Leo</td>\n",
              "      <td>12,May,2004</td>\n",
              "      <td>testing!!!  testing!!!</td>\n",
              "    </tr>\n",
              "    <tr>\n",
              "      <th>4</th>\n",
              "      <td>3581210</td>\n",
              "      <td>male</td>\n",
              "      <td>33</td>\n",
              "      <td>InvestmentBanking</td>\n",
              "      <td>Aquarius</td>\n",
              "      <td>11,June,2004</td>\n",
              "      <td>Thanks to Yahoo!'s Toolbar I can ...</td>\n",
              "    </tr>\n",
              "  </tbody>\n",
              "</table>\n",
              "</div>"
            ],
            "text/plain": [
              "        id  ...                                               text\n",
              "0  2059027  ...             Info has been found (+/- 100 pages,...\n",
              "1  2059027  ...             These are the team members:   Drewe...\n",
              "2  2059027  ...             In het kader van kernfusie op aarde...\n",
              "3  2059027  ...                   testing!!!  testing!!!          \n",
              "4  3581210  ...               Thanks to Yahoo!'s Toolbar I can ...\n",
              "\n",
              "[5 rows x 7 columns]"
            ]
          },
          "metadata": {},
          "execution_count": 175
        }
      ]
    },
    {
      "cell_type": "code",
      "metadata": {
        "colab": {
          "base_uri": "https://localhost:8080/"
        },
        "id": "WcK2IgUqtCIs",
        "outputId": "cc0cadf9-6375-4d6b-897d-580dc4f7b344"
      },
      "source": [
        "df.isnull().sum()"
      ],
      "execution_count": 176,
      "outputs": [
        {
          "output_type": "execute_result",
          "data": {
            "text/plain": [
              "id        0\n",
              "gender    0\n",
              "age       0\n",
              "topic     0\n",
              "sign      0\n",
              "date      0\n",
              "text      0\n",
              "dtype: int64"
            ]
          },
          "metadata": {},
          "execution_count": 176
        }
      ]
    },
    {
      "cell_type": "code",
      "metadata": {
        "colab": {
          "base_uri": "https://localhost:8080/"
        },
        "id": "GEFkBNDV0lFT",
        "outputId": "d21a1fa7-6fe6-4228-bd91-29101ef9fee1"
      },
      "source": [
        "df.info()"
      ],
      "execution_count": 177,
      "outputs": [
        {
          "output_type": "stream",
          "text": [
            "<class 'pandas.core.frame.DataFrame'>\n",
            "RangeIndex: 681284 entries, 0 to 681283\n",
            "Data columns (total 7 columns):\n",
            " #   Column  Non-Null Count   Dtype \n",
            "---  ------  --------------   ----- \n",
            " 0   id      681284 non-null  int64 \n",
            " 1   gender  681284 non-null  object\n",
            " 2   age     681284 non-null  int64 \n",
            " 3   topic   681284 non-null  object\n",
            " 4   sign    681284 non-null  object\n",
            " 5   date    681284 non-null  object\n",
            " 6   text    681284 non-null  object\n",
            "dtypes: int64(2), object(5)\n",
            "memory usage: 36.4+ MB\n"
          ],
          "name": "stdout"
        }
      ]
    },
    {
      "cell_type": "code",
      "metadata": {
        "colab": {
          "base_uri": "https://localhost:8080/",
          "height": 290
        },
        "id": "mwCeRJmH3T87",
        "outputId": "ce0883aa-b243-464a-efba-6efeb5230d90"
      },
      "source": [
        "df['gender'].value_counts().plot(kind='bar');"
      ],
      "execution_count": 178,
      "outputs": [
        {
          "output_type": "display_data",
          "data": {
            "image/png": "[encoded data removed]",
            "text/plain": [
              "<Figure size 432x288 with 1 Axes>"
            ]
          },
          "metadata": {
            "needs_background": "light"
          }
        }
      ]
    },
    {
      "cell_type": "markdown",
      "metadata": {
        "id": "7_cRsrpY81VE"
      },
      "source": [
        "The No. of males and females bloggers are almost similler "
      ]
    },
    {
      "cell_type": "code",
      "metadata": {
        "colab": {
          "base_uri": "https://localhost:8080/",
          "height": 592
        },
        "id": "4GYyGW913cMA",
        "outputId": "9e1c24b5-64ff-4f85-9d6f-55277b8b4a95"
      },
      "source": [
        "df['age'].value_counts().sort_values(ascending=False).plot(kind='barh',figsize=(15,10));"
      ],
      "execution_count": 179,
      "outputs": [
        {
          "output_type": "display_data",
          "data": {
            "image/png": "[encoded data removed]",
            "text/plain": [
              "<Figure size 1080x720 with 1 Axes>"
            ]
          },
          "metadata": {
            "needs_background": "light"
          }
        }
      ]
    },
    {
      "cell_type": "markdown",
      "metadata": {
        "id": "_fLtD0Wi9K6V"
      },
      "source": [
        "The maximum no. of bloggers are between the age of 14 - 27 years.\n",
        "\n",
        "People at higher age from 37 and above are not active as young generation for blogging. "
      ]
    },
    {
      "cell_type": "code",
      "metadata": {
        "colab": {
          "base_uri": "https://localhost:8080/",
          "height": 592
        },
        "id": "SIPLLGOf3knp",
        "outputId": "cc4313b3-2045-4987-a90c-951212af491c"
      },
      "source": [
        "df['topic'].value_counts().plot(kind='barh', figsize=(15,10));"
      ],
      "execution_count": 180,
      "outputs": [
        {
          "output_type": "display_data",
          "data": {
            "image/png": "[encoded data removed]",
            "text/plain": [
              "<Figure size 1080x720 with 1 Axes>"
            ]
          },
          "metadata": {
            "needs_background": "light"
          }
        }
      ]
    },
    {
      "cell_type": "markdown",
      "metadata": {
        "id": "BCP3gc7c-AwY"
      },
      "source": [
        "Most of the bloggers are taking about IndUnk and Student.\n",
        "Lowest are maritime and environment"
      ]
    },
    {
      "cell_type": "code",
      "metadata": {
        "colab": {
          "base_uri": "https://localhost:8080/",
          "height": 320
        },
        "id": "itVLQQcy3x5N",
        "outputId": "c5828f13-9fe9-4add-82dd-9733bd75b1c5"
      },
      "source": [
        "df['sign'].value_counts().plot(kind='barh', figsize=(10,5));"
      ],
      "execution_count": 181,
      "outputs": [
        {
          "output_type": "display_data",
          "data": {
            "image/png": "[encoded data removed]",
            "text/plain": [
              "<Figure size 720x360 with 1 Axes>"
            ]
          },
          "metadata": {
            "needs_background": "light"
          }
        }
      ]
    },
    {
      "cell_type": "markdown",
      "metadata": {
        "id": "3XNhDSA1-lXb"
      },
      "source": [
        "The astrological sign is not a good identifier for type of bloggers"
      ]
    },
    {
      "cell_type": "code",
      "metadata": {
        "colab": {
          "base_uri": "https://localhost:8080/"
        },
        "id": "t2S5Uy030ohy",
        "outputId": "58fbf3b6-2893-45f2-d082-4b3bd12ba920"
      },
      "source": [
        "# Randon checking the Blogs\n",
        "num = np.random.randint(0, df.shape[0])\n",
        "gender = df.loc[num, 'gender']\n",
        "age = df.loc[num, 'age']\n",
        "topic = df.loc[num, 'topic']\n",
        "sign = df.loc[num, 'sign']\n",
        "blog = df.loc[num, 'text']\n",
        "print(gender)\n",
        "print(age)\n",
        "print(topic)\n",
        "print(sign)\n",
        "print(blog)"
      ],
      "execution_count": 182,
      "outputs": [
        {
          "output_type": "stream",
          "text": [
            "male\n",
            "17\n",
            "Manufacturing\n",
            "Scorpio\n",
            "       WEll mikes party was tonite, as was the last time I get to see annie for a long time. The party was very good. I kissed chow on the lips, it was funny. I had an awsome costume, so did annie. WE got mike really bad porn, lube, and a bunch of stuff from the dollar store to make him laugh. It worked. Im really going to miss annie and im going to do my damnedest to keep fateful to her. I cant even begin to imagine betraying her like that. So i think ill do ok.     \n"
          ],
          "name": "stdout"
        }
      ]
    },
    {
      "cell_type": "code",
      "metadata": {
        "colab": {
          "base_uri": "https://localhost:8080/"
        },
        "id": "aWrS5zy81V95",
        "outputId": "6ae7156d-8649-4608-8221-9c97022c7d2f"
      },
      "source": [
        "# Taking the sample of the dataset\n",
        "data = df.sample(n=20000, random_state=1,)\n",
        "data.reset_index(inplace=True, drop=True)\n",
        "print(data.shape)"
      ],
      "execution_count": 183,
      "outputs": [
        {
          "output_type": "stream",
          "text": [
            "(20000, 7)\n"
          ],
          "name": "stdout"
        }
      ]
    },
    {
      "cell_type": "markdown",
      "metadata": {
        "id": "VBT0cbi22VfF"
      },
      "source": [
        "## Q2. Perform data pre-processing on the data:\n",
        "• Data cleansing by removing unwanted characters, spaces, stop words etc. Convert text to lowercase.\n",
        "\n",
        "• Target/label merger and transformation\n",
        "\n",
        "• Train and test split\n",
        "\n",
        "• Vectorisation, etc."
      ]
    },
    {
      "cell_type": "markdown",
      "metadata": {
        "id": "7DvoZ3_HL-2n"
      },
      "source": [
        "Remove HTML Tags"
      ]
    },
    {
      "cell_type": "code",
      "metadata": {
        "id": "vbjiDxdt6rft"
      },
      "source": [
        "# defining a function to clean the data\n",
        "from bs4 import BeautifulSoup\n",
        "def strip_html_tags(text):\n",
        "  soup = BeautifulSoup(text, 'html.parser')\n",
        "  text = soup.get_text()\n",
        "  return text"
      ],
      "execution_count": 184,
      "outputs": []
    },
    {
      "cell_type": "markdown",
      "metadata": {
        "id": "s38uMKymMEWx"
      },
      "source": [
        "Remove Accented Characters"
      ]
    },
    {
      "cell_type": "code",
      "metadata": {
        "id": "xttBfvr4_4rA"
      },
      "source": [
        "import unicodedata\n",
        "def remove_accented_chars(text):\n",
        "    text = unicodedata.normalize('NFKD', text).encode('ascii', 'ignore').decode('utf-8', 'ignore')\n",
        "    return text"
      ],
      "execution_count": 185,
      "outputs": []
    },
    {
      "cell_type": "markdown",
      "metadata": {
        "id": "Ii8KD1vbNpH7"
      },
      "source": [
        "Remove Special Characters"
      ]
    },
    {
      "cell_type": "code",
      "metadata": {
        "id": "Zpn3Qr4mMOfK"
      },
      "source": [
        "import re\n",
        "def remove_special_characters(text, remove_digits=False):\n",
        "  # Using regex\n",
        "  pattern= r'[^a-zA-Z0-9\\s]' if not remove_digits else r'[^a-zA-Z\\s]'\n",
        "  text = re.sub(pattern, '', text)\n",
        "  return text"
      ],
      "execution_count": 186,
      "outputs": []
    },
    {
      "cell_type": "markdown",
      "metadata": {
        "id": "fjWhZooYu50W"
      },
      "source": [
        "Lemmatization"
      ]
    },
    {
      "cell_type": "code",
      "metadata": {
        "colab": {
          "base_uri": "https://localhost:8080/"
        },
        "id": "UsXw5DC9Ntz9",
        "outputId": "27da55cf-34dd-478f-d620-95b0014f27c1"
      },
      "source": [
        "import nltk\n",
        "nltk.download('wordnet')\n",
        "nltk.download('punkt')\n",
        "from nltk.stem import WordNetLemmatizer\n",
        "def lemmatize_text(text):\n",
        "  lemmatizer = WordNetLemmatizer()\n",
        "  text = ' '.join([lemmatizer.lemmatize(word) for word in text.split()])\n",
        "  return text"
      ],
      "execution_count": 187,
      "outputs": [
        {
          "output_type": "stream",
          "text": [
            "[nltk_data] Downloading package wordnet to /root/nltk_data...\n",
            "[nltk_data]   Package wordnet is already up-to-date!\n",
            "[nltk_data] Downloading package punkt to /root/nltk_data...\n",
            "[nltk_data]   Package punkt is already up-to-date!\n"
          ],
          "name": "stdout"
        }
      ]
    },
    {
      "cell_type": "markdown",
      "metadata": {
        "id": "w8X5n6gpy6YS"
      },
      "source": [
        "Stemming"
      ]
    },
    {
      "cell_type": "code",
      "metadata": {
        "id": "cqJG6l3VvC95"
      },
      "source": [
        "def simple_stemmer(text):\n",
        "  ps = nltk.porter.PorterStemmer()\n",
        "  text = ' '.join([ps.stem(word) for word in text.split()])\n",
        "  return text"
      ],
      "execution_count": 188,
      "outputs": []
    },
    {
      "cell_type": "markdown",
      "metadata": {
        "id": "sx6rEd4GzuVo"
      },
      "source": [
        "Building a text normalizer"
      ]
    },
    {
      "cell_type": "code",
      "metadata": {
        "id": "wDie0bKSzLR7"
      },
      "source": [
        "def normalize_corpus(corpus, html_stripping=True, accented_char_removal=True, text_lower_case=True, \n",
        "                     text_lemmatization=True, special_char_removal=True, \n",
        "                     stopword_removal=True, remove_digits=True):\n",
        "    \n",
        "    normalized_corpus = []\n",
        "    # normalize each document in the corpus\n",
        "    for doc in corpus:\n",
        "        # strip HTML\n",
        "        if html_stripping:\n",
        "            doc = strip_html_tags(doc)\n",
        "        # remove accented characters\n",
        "        if accented_char_removal:\n",
        "            doc = remove_accented_chars(doc)\n",
        "        # lowercase the text    \n",
        "        if text_lower_case:\n",
        "            doc = doc.lower()\n",
        "        # remove extra newlines\n",
        "        doc = re.sub(r'[\\r|\\n|\\r\\n]+', ' ',doc)\n",
        "        # lemmatize text\n",
        "        if text_lemmatization:\n",
        "            doc = lemmatize_text(doc)\n",
        "        # remove special characters and\\or digits    \n",
        "        if special_char_removal:\n",
        "            # insert spaces between special characters to isolate them    \n",
        "            special_char_pattern = re.compile(r'([{.(-)!}])')\n",
        "            doc = special_char_pattern.sub(\" \\\\1 \", doc)\n",
        "            doc = remove_special_characters(doc, remove_digits=remove_digits)  \n",
        "        # remove extra whitespace\n",
        "        doc = re.sub(' +', ' ', doc)\n",
        "            \n",
        "        normalized_corpus.append(doc)\n",
        "        \n",
        "    return normalized_corpus"
      ],
      "execution_count": 189,
      "outputs": []
    },
    {
      "cell_type": "markdown",
      "metadata": {
        "id": "SpligwLq0Spa"
      },
      "source": [
        "Pre-process and normalize the text"
      ]
    },
    {
      "cell_type": "code",
      "metadata": {
        "id": "EEkgjTyC18VJ"
      },
      "source": [
        "# Making copy of Dataset\n",
        "# ds = df.copy(deep=True)\n",
        "# ds.reset_index(inplace=True)\n",
        "ds = data.copy(deep=True)"
      ],
      "execution_count": 190,
      "outputs": []
    },
    {
      "cell_type": "code",
      "metadata": {
        "colab": {
          "base_uri": "https://localhost:8080/",
          "height": 203
        },
        "id": "KpDvq2KdArQ-",
        "outputId": "1c9d9bae-059d-4c50-8453-e67eff200bd4"
      },
      "source": [
        "ds.head()"
      ],
      "execution_count": 191,
      "outputs": [
        {
          "output_type": "execute_result",
          "data": {
            "text/html": [
              "<div>\n",
              "<style scoped>\n",
              "    .dataframe tbody tr th:only-of-type {\n",
              "        vertical-align: middle;\n",
              "    }\n",
              "\n",
              "    .dataframe tbody tr th {\n",
              "        vertical-align: top;\n",
              "    }\n",
              "\n",
              "    .dataframe thead th {\n",
              "        text-align: right;\n",
              "    }\n",
              "</style>\n",
              "<table border=\"1\" class=\"dataframe\">\n",
              "  <thead>\n",
              "    <tr style=\"text-align: right;\">\n",
              "      <th></th>\n",
              "      <th>id</th>\n",
              "      <th>gender</th>\n",
              "      <th>age</th>\n",
              "      <th>topic</th>\n",
              "      <th>sign</th>\n",
              "      <th>date</th>\n",
              "      <th>text</th>\n",
              "    </tr>\n",
              "  </thead>\n",
              "  <tbody>\n",
              "    <tr>\n",
              "      <th>0</th>\n",
              "      <td>2764903</td>\n",
              "      <td>male</td>\n",
              "      <td>33</td>\n",
              "      <td>indUnk</td>\n",
              "      <td>Pisces</td>\n",
              "      <td>25,June,2004</td>\n",
              "      <td>Let's say you have friends that hav...</td>\n",
              "    </tr>\n",
              "    <tr>\n",
              "      <th>1</th>\n",
              "      <td>2530499</td>\n",
              "      <td>male</td>\n",
              "      <td>15</td>\n",
              "      <td>Technology</td>\n",
              "      <td>Aries</td>\n",
              "      <td>02,August,2004</td>\n",
              "      <td>Was officially the COOLEST FUCKING ...</td>\n",
              "    </tr>\n",
              "    <tr>\n",
              "      <th>2</th>\n",
              "      <td>3950263</td>\n",
              "      <td>male</td>\n",
              "      <td>17</td>\n",
              "      <td>Student</td>\n",
              "      <td>Gemini</td>\n",
              "      <td>01,August,2004</td>\n",
              "      <td>Apparently, a few people consider...</td>\n",
              "    </tr>\n",
              "    <tr>\n",
              "      <th>3</th>\n",
              "      <td>2990004</td>\n",
              "      <td>male</td>\n",
              "      <td>27</td>\n",
              "      <td>indUnk</td>\n",
              "      <td>Aries</td>\n",
              "      <td>13,June,2004</td>\n",
              "      <td>His nose is too big for his face.  Eyes...</td>\n",
              "    </tr>\n",
              "    <tr>\n",
              "      <th>4</th>\n",
              "      <td>1119280</td>\n",
              "      <td>female</td>\n",
              "      <td>27</td>\n",
              "      <td>indUnk</td>\n",
              "      <td>Gemini</td>\n",
              "      <td>01,August,2004</td>\n",
              "      <td>urlLink     urlLink 16-feb-04</td>\n",
              "    </tr>\n",
              "  </tbody>\n",
              "</table>\n",
              "</div>"
            ],
            "text/plain": [
              "        id  ...                                               text\n",
              "0  2764903  ...             Let's say you have friends that hav...\n",
              "1  2530499  ...             Was officially the COOLEST FUCKING ...\n",
              "2  3950263  ...               Apparently, a few people consider...\n",
              "3  2990004  ...         His nose is too big for his face.  Eyes...\n",
              "4  1119280  ...              urlLink     urlLink 16-feb-04        \n",
              "\n",
              "[5 rows x 7 columns]"
            ]
          },
          "metadata": {},
          "execution_count": 191
        }
      ]
    },
    {
      "cell_type": "code",
      "metadata": {
        "id": "yVEVvZPF0Nh-"
      },
      "source": [
        "# Normalizing the text by built function \n",
        "ds['clean_text'] = normalize_corpus(ds['text'])"
      ],
      "execution_count": 192,
      "outputs": []
    },
    {
      "cell_type": "code",
      "metadata": {
        "colab": {
          "base_uri": "https://localhost:8080/"
        },
        "id": "GRUJCUgaq2IV",
        "outputId": "0ad9d0ca-e152-4ff6-ce54-7f90ff62c545"
      },
      "source": [
        " # Removing stopwords\n",
        "nltk.download('stopwords')\n",
        "from nltk.corpus import stopwords\n",
        "stopwords = set(stopwords.words('english'))\n",
        "ds['clean_text'] = ds['clean_text'].apply(lambda x: ' '.join([words for words in x.split() if words not in stopwords]))"
      ],
      "execution_count": 193,
      "outputs": [
        {
          "output_type": "stream",
          "text": [
            "[nltk_data] Downloading package stopwords to /root/nltk_data...\n",
            "[nltk_data]   Package stopwords is already up-to-date!\n"
          ],
          "name": "stdout"
        }
      ]
    },
    {
      "cell_type": "code",
      "metadata": {
        "id": "MImgGSYVGzeP"
      },
      "source": [
        "# function to remove stopwords\n",
        "def remove_stopwords(text):\n",
        "    no_stopword_text = [w for w in text.split() if not w in stopwords]\n",
        "    return ' '.join(no_stopword_text)\n",
        "\n",
        "ds['clean_text'] = ds['clean_text'].apply(lambda x: remove_stopwords(x))"
      ],
      "execution_count": 194,
      "outputs": []
    },
    {
      "cell_type": "markdown",
      "metadata": {
        "id": "6KXLWvq56UFU"
      },
      "source": [
        "Created a normalized new feature with clean_text "
      ]
    },
    {
      "cell_type": "code",
      "metadata": {
        "id": "NANKZuvf7DGn"
      },
      "source": [
        "# Removing single character\n",
        "def remove_single_character(text):\n",
        "  pattern = r\"\\s+[a-zA-Z]\\s+\"\n",
        "  text = re.sub(pattern, '', text)\n",
        "  return text"
      ],
      "execution_count": 195,
      "outputs": []
    },
    {
      "cell_type": "code",
      "metadata": {
        "id": "eZZ5-_2C83vH"
      },
      "source": [
        "ds['clean_text'] = ds['clean_text'].apply(remove_single_character)"
      ],
      "execution_count": 196,
      "outputs": []
    },
    {
      "cell_type": "code",
      "metadata": {
        "id": "sN7WidSf_qhm"
      },
      "source": [
        "# Removing Repeated charactres\n",
        "def romove_repeated_character(text):\n",
        "  pattern = r'([a-z])\\1+'\n",
        "  text = re.sub(pattern, '', text)\n",
        "  return text"
      ],
      "execution_count": 197,
      "outputs": []
    },
    {
      "cell_type": "code",
      "metadata": {
        "id": "yp1MTU4JANjH"
      },
      "source": [
        "ds['clean_text'] = ds['clean_text'].apply(romove_repeated_character)"
      ],
      "execution_count": 198,
      "outputs": []
    },
    {
      "cell_type": "code",
      "metadata": {
        "id": "SHppdPxaASHO"
      },
      "source": [
        "# Single character\n",
        "def single_char(text):\n",
        "  pattern =   r\"\\b[a-zA-Z]\\b\"\n",
        "  text = re.sub(pattern, '', text)\n",
        "  return text"
      ],
      "execution_count": 199,
      "outputs": []
    },
    {
      "cell_type": "code",
      "metadata": {
        "id": "SnUeocTtCPUQ"
      },
      "source": [
        "ds['clean_text'] = ds['clean_text'].apply(single_char)"
      ],
      "execution_count": 200,
      "outputs": []
    },
    {
      "cell_type": "code",
      "metadata": {
        "id": "fxWMe_8uGOV1"
      },
      "source": [
        "# Remove two short character\n",
        "def two_character(text):\n",
        "  pattern = r'\\W*\\b\\w{1,2}\\b'\n",
        "  text = re.sub(pattern, '', text)\n",
        "  return text"
      ],
      "execution_count": 201,
      "outputs": []
    },
    {
      "cell_type": "code",
      "metadata": {
        "id": "_7DCxvGUHY1f"
      },
      "source": [
        "ds['clean_text'] = ds['clean_text'].apply(two_character)"
      ],
      "execution_count": 202,
      "outputs": []
    },
    {
      "cell_type": "code",
      "metadata": {
        "id": "F_r2YCf_I2GG"
      },
      "source": [
        "# Repeated words\n",
        "def repeated_words(text):\n",
        "  pattern = r\"\\b(\\w+)(?:\\W\\1\\b)+\"\n",
        "  text = re.sub(pattern, '', text)\n",
        "  return text"
      ],
      "execution_count": 203,
      "outputs": []
    },
    {
      "cell_type": "code",
      "metadata": {
        "id": "nSiPdNJdJHJJ"
      },
      "source": [
        "ds['clean_text'] = ds['clean_text'].apply(repeated_words)"
      ],
      "execution_count": 204,
      "outputs": []
    },
    {
      "cell_type": "code",
      "metadata": {
        "id": "4i4jfvy0Mu5l"
      },
      "source": [
        "# Garbage cleaning \n",
        "def Garbage_clean(text):\n",
        "  pattern = r'(\\w*(?:[^a-zA-Z0-9_ \\t\\n\\r\\f\\v,.?!;:]\\w*)+)'\n",
        "  text = re.sub(pattern, '', text)\n",
        "  return text"
      ],
      "execution_count": 205,
      "outputs": []
    },
    {
      "cell_type": "code",
      "metadata": {
        "id": "2BuAlvoXNG0T"
      },
      "source": [
        "ds['clean_text'] = ds['clean_text'].apply(Garbage_clean)"
      ],
      "execution_count": 206,
      "outputs": []
    },
    {
      "cell_type": "code",
      "metadata": {
        "colab": {
          "base_uri": "https://localhost:8080/"
        },
        "id": "NbLqvR2j5n_o",
        "outputId": "d154c6b5-9195-4895-d76a-26b6ee6ad5cf"
      },
      "source": [
        "# Randomly checking the cleaned text with the no of words in each bloggs\n",
        "num = np.random.randint(0, ds.shape[0])\n",
        "cleaned_text = ds.loc[num, 'clean_text']\n",
        "\n",
        "no_of_words = len(ds.loc[num, 'clean_text'].split())\n",
        "print(no_of_words)\n",
        "print(cleaned_text)"
      ],
      "execution_count": 207,
      "outputs": [
        {
          "output_type": "stream",
          "text": [
            "25\n",
            "argh went work today auming scheduled work july holiday wayport ala meant promptly left came right back home thankfuy traic lite due absence worker today\n"
          ],
          "name": "stdout"
        }
      ]
    },
    {
      "cell_type": "code",
      "metadata": {
        "colab": {
          "base_uri": "https://localhost:8080/"
        },
        "id": "nh2a9hcZ2wTX",
        "outputId": "9284aaf4-52b6-4e24-e558-aea323d06ec8"
      },
      "source": [
        "norm_corpus = list(ds['clean_text'])\n",
        "norm_corpus"
      ],
      "execution_count": 208,
      "outputs": [
        {
          "output_type": "execute_result",
          "data": {
            "text/plain": [
              "['lets say friend std past return always friend lets suose suenly decide something friend wrong friend dont care think either naturay friend get angry suort thing furthermore think youre ahole ignoring advice going ahead stupid plan anyway point urink nato wiing helpiraq pied ignored advice',\n",
              " ' oiciay clest fucking day ever blake brother ashley suivan went dixon res fish hour decide walk keys mile reay walk walked acro strt front lives open front time get driveway think sorta kinda suprised turn blake insane maybe blake fishing puing fun though kel wish could come would loved insanity also friday plan camping horsetth capacity',\n",
              " 'aarently people considered cory gang maive amount red wears intrigued form something another episode around corys widespread fascination color red however elongate anything idea involving obseion cory story post coent thanks advance',\n",
              " 'nose big face eyes soft lile browns intimately engaging big nose lipsthe lip nice top thin boom preed mine lying flr next shirtle jean roed kne clean white sock cover cute lile want eat fan hand tongue laing air outside mouth like dog panting hot says outside fingertip glide chest stomach smth tan skiy muscular slender perfect one part enjoy think beautiful thank says love mouth inch apart love says much touch short complains cant rub neck tickles two maybe thr times away  turn lie next hand chest like corpse heat ambient noise maybe  sigh grunt thinking silence enough anymore even perhaps never reay',\n",
              " ' feb',\n",
              " 'ive got nothing one waa talk online sit eating monkey bite cold stone plug yes lucky dog time start name ash bolashes myeyelashes nicknames asham ashm asherz shit brain shit head loser fugly newman scrn names pluperm pet chewlsie gpa sex female birthdate zodiac sign aquarious location hair color brown red blonde blue eye color grn brown siblings nick best friend  friend best friends leave like crush side crush johy girlfriendboyfriend single ready mingle baybay could anyone would johy norton past side memory thing never moment life could back time would gothe roaring memory would like forget ndth grade god hated elementary schl whatd yesterday went target best buy never leave without makin new friends lee last person talked phone mom last thing said thanks last song listened  everybody club gein tipsy everybody club gein tipsy  mainstream radio blimey favorite side show king qun real world simple lifesong joker color black red day friday month june number ice cream mint choc chip candy gber chael discovery history mtv shampconditioner gue herbal eences idk saturday night live quote love dirtbag favorite  team baseba twin baybay actoractre johy norton tom cruise nonalcoholic drink bandsinger led zeelin acdc radiohead yea anything movie say hao lil friend yes scarface dfus reay like thoughsync bsb barf peanut buer jey peanut buer boxer briefs boxer  suose ale oranges orange vania chocolate nier flower  yuay dawsons crk felicity never watched either romantic comedy hoor like documentary radio max liz michael maria people joey pacey joey dawson dont give rats  believe angels yes aliens believe life heaven sort entirely god yes sense always love first sight yeum true love yes soul mates ive started doubt ever side plane yes cried public yes climbed yes aslp movie theater pay watch met celebritythe red head partidge family scared get shot shoed abercrombie fitch grade yea never certain aeptable obviously obtain come sort proximity enterance thats end skied skl  dont remember yeai think gone country yep like couple hours think hear clinton horny guy dreams intuition sex whied cream yum south park kay boy bands gag guys back girls friend death human would rather dogcat dog chocolatevania chocolate penpencil pen love pens reay nice mechanical pencil would even beer boygirl girl geing tired survey slp stued animal many buy list alot like survey yes last bought travis last movie saw along came poy long shower maybe minute eat rses peanut buer cup eat around edge first throw away mile peanut buery liking doe scrn name mean inside joke cow right left ambidextrous right mouse pad scrile bed magazines  girlie mags sicko many lick doe take get center ttsie pop crunch thr theres question ever side kied yes love yes alcohol yes done kind drug yes failed grade skied grade sang danced alone yes mied someone time last time cried sometime early last told someone related love yea phone morn laughed cried last night stayed home wkend voluntarily couple ago time wear seat belt vehicle always paengers think right bear arm universal human right cah racey dont think maybe machei could job nickname penisvagina friend ever therapist gue opinion best invention ever microwave turn creatively spirituay emotionay probably story others experienceing miraculous things determination paion like orange juice without pulp ugh without ever questioned police detective yeap suort oose geneticay modifying animal use pets havent read much hate give uninformed opinion child want grew wanted mom teacher far neither last material thing stole aidently buon purpose lse lip sink ships    think pilfered nicer way puing last material thing stolen dont know last time told someone love romantic capacity non romantic capacity romantic month ago nonromantic yesterday favorite lney tune character drpy oositesex version first name would love easton nothing name would use airline cost security sure would many one night stands true one night stand meaning never spoken person thinking inorder previous experience bases meaning case obliged anwer question know parent wouldve named youd born oosite gender alex ever eaten chorizo reay know whats cant say doe bother numeric keypad oosite calculator telephones much could fly murder scene history would pick kurt cobain saying wasnt murdered  game show think best super market swp scale best rate job live familygod get name people refer name list plzkthx petname boygirlfriend husbandwife believe magic yeah whats longest period time grounded child caused must bring recent events wkend god know could pro sport star sport would chse play position would play alicable basebasatchel paige would say isare wisest thing anyone ever taught live everyday like last favorite swear wordphrase fuck profeion would love biology teacher paid decently profeion would least want kindergarden teacher damn glue sniing year olds would knowing long left live gift  life expecting unexpected expecting expected duh sentenced death would last meal mac chse chsecake skor bar mashed potatos pancake banana lack potaium chicken strips yes would eat death haha drinking problem nope biest disaointment experience someone hated aomplishment proud making decision dont like fit time end alright able justify dreaming reality one unique defining thing bring table never stop laughing idk flashback high schl boy girls group friends foowing cla favorites list best dreed dont reay care clothes likely sud sarah cla clown think people actuay voted cla clown arent even fuy begin warped flirtatious  could care friendliest sarah daredevil  biest spaz everyone point talkative dont know best storyteer tknow life party dont know dependable dont care whew alot oua must fun fer read geing sick gdnighty gusgus',\n",
              " 'something chew morning dude sarcastic dont even know anymore urink postmodernism firstly postmodernism movement architecture rejected modernist avant garde paion new modernism understd art architecture project rejecting tradition favour going man gone beer create form purpose novelty modernism exploration poibility perpetual search uniquene cognateindividuality modernisms valorization new rejected architectural postmodernism conservative reasons wanted maintain element modern utility returning reauring claical form past result ironic brickabrack coage aroach construction combine several traditional style one structure coage meaning found combination already created paerns foowing modern romantic image lone creative artist abandoned playful technician perhaps computer hacker could retrieve recombine creation pastdata alone becomes neceary synthetic aroach taken politicay radical way visual musicaland literary art coage used startle viewer reflection upon meaning reproduction popart reflects culture american let give example californian culture personthough ethnicay european african asian hispanicsearches authentic rted religious experience daling variety religious traditions foundation authenticity overturned relativism coage set  paern art everyday spiritual life away universal standard atmosphere multidimentionality complexity importantlythe diolving distinctions sum could simplisticay outline movement historical terms premodernism original meaning poeed authority example catholic church individual dominated tradition modernism enlightenmenthumanist rejection tradition authority favour reason natural science founded upon aumption autonomous individual sole source meaning truththe cartesian cogito progre novelty valorized within linear conception historya history real world becomes increasingly real objectified one could view protestant mode consciousne postmodernism rejection sovereign autonomous individual emphasis upon anarchic coective anonymous experience coage diversity mysticay unrepresentable dionysian paion focus aention importantly  diolution distinctions merging subject object self sarcastic playful parody western modernity john wayne individual radical anarchist rejection aempt define reify represent human subject',\n",
              " 'whoever said beer love lost never loved total idiot true love amazing nothing else beer something awesome consumes taken away teared hoible fling world make bad leaf aweful emptine extremely hard say hes doe know love say probably beer idea love gift expreion share someone talking sharing spirit one powerful thing love suprised alone among dont know aing emptine try mask hay turn everyone else alas aeds emptine lead everyone else foow hay worlds done mask act',\n",
              " 'urink welcome ehow com thing get done website sking solutions always search howto hopefuy starting place',\n",
              " 'urink worldnetdaily democrats response fair read actuay watched freak show wasnt single actual plan presented ive heard democrat worship plans without plan nothing pelosi like robot favorite conclusion portion spch concept defeat teorist inspections crush beneath whl organization counications quote democrat beer way ensure homeland security onehundred percent container coming port airport must inspected today percent inspected onehundred percent chemical nuclear plant united state must high level security today bush administration tolerated much lower standard onehundred percent counication real time nded police oicers firefighter first responder prevent respond teorist aack today technology resource onehundred percent enriched uranium material weapon destruction must secured today administration refused coit resource neceary prevent faing hand teorists america far safer reduce chance teorist aack one city diminish civil liberty people end quote daschle isnt much beer reasoning tax cut cause people nation quote maive tax cut suosed spark economic expansion instead led economic exodus end quote juciest line quote america cant aord rewarding aumulation wealth dignity work end quote excuse sen daschle think work understand wealth drive economy phrase betrays fundamental moral fiure leftist mentality wealth bad work therefore path sainthd labor without aumulating wealth thats caed peasentry dont recoend national policy reay beyond coherent argument fundamental sky blue daschle isnt stupid know sit uer people like sacred truth amazing read theres plenty',\n",
              " 'made eors dont know change last  hey guyz schl like  boring lol pathetic like worst schl ever everyone wud agr geing fukn huucintations bluy aoying wont shut fuk argh aoying wana scream argh geing frustrated ever shut youre fuckwit one ever like motherfuker played along never liked ayou never omg haening  dont know make stop make stop idea anyone post thing answers back stu fight friend isnt beer today told mum cud life sux ontop thats haining haened one best friend like avoiding  today bad  things felt actuay hay like ive achieved something guy onli friend teacher hate get trouble work std asked help helped got work done going pronciple saved lol know weird felt like done something change helped complete work helped understand beer gave pointer calm get work withour streing lol know pathetic fuk dsnt maa omg done something teible  one bestfriends totay luv guy promised didnt like didnt want get together cant totay love know hes going one  luv cant friend wud hate knew liked dont know life ive put friend first theyve always comesick yer sure make friend hay sure like making hay want come first fair stu anyone know shud coentseya everyone luv madz',\n",
              " 'birthday godly soow worldly soow today birthday aual kind celebrate ive aed another year life like rebirth sorts forced somewhat spending time wisely work showing would make excuse progre wasnt reay horsing around geing work done ive improper work ethic today came head given sharp rebuke two team members one today probably could chimed much presented ultimatum speak ndle say got aention begin anew improved work ethic also nding aware whats going around even others arent sing know god opinion ultimately maers true sign persons integrity one else around havent man integrity thats sure changing reay want god know  tempted please men reminded paage godly soow worldly soow urink cor',\n",
              " 'ental abuse went friin dentist morning cap glued back like damn therapist lets start saying far away morning person get personay find perky mornin people obnoxious prey much waa bitchslap get around hay morning bushit morning suck land said bout gule head thinking kinda thing wrong get chair dentist come says way practicing anymore  wasnt comprehending taking okay gue like goa say like asked opinion whole maer lks like decay shit make long story bearable dri shot driing glue bondo dri head left rinse spit done another lile cavity let fix let wrack old platinum card fact lets make whole day  spring lunch ahole fix cavity set cant yet finance witch grab ahold hit damage pocketbk shame huy living dentist house manservent bartering way world brokedrling baling novicane force praying god huy doesnt object ive packed trip say beer worse dont post days huy didnt find amusing check garden  lol',\n",
              " 'wind blew gentle brze window std vanity touching mothers pearl hung around neck choking burden guilt',\n",
              " 'get emotional enough bloer make post come writing block believe think much yet believe dont think enough life indd interesting',\n",
              " 'guys real website  serious haened cum yeah didnt reay know think first fuy heres link urink masturbateforpeace com philosophy people think peace war masturbate war end trp come home favorites dont bomb cities pet kiy abuse mile piece mile east drop load bomb kiens iraqi shile nile dont kile pile bush doesnt declare war dont suort bush spank someones tush thats dont forget check',\n",
              " 'urink whos ricky clarky  shadiq urink',\n",
              " 'something satisfying geing time relax cup breakfast going work yet somehow taking advantage satisfaction instead checking time every minute thinking hey could get work early change know going actuay instead spending minute fling guilty unwiing drive moment absolutely fact probably put long get involved morning activity like depreing news  minute late usual story life intention guilt presumably alone sure understand',\n",
              " 'pia lunch whole bag marshmeows yoghurt top muesli bar maive dier ice creams hungry jack banana ale salad eat today probably lot stu kinda sick though luck exam  whoever anyway take care',\n",
              " 'anyones havent belonged anyone  time iether want belong anyone even loved would push aside away fling love tword anyone one give love isnt fling isnt peaceful trait nothing thna piece hold say yes love yet run away another lust many love gone numb',\n",
              " 'milwauk brewer pued another come behind victory yesterday beating expo lyle overbay simply fantastic season already named player national league brewer record bad sure dont sexon much',\n",
              " 'hiya usele post amen',\n",
              " ' going losing lunch probably last thr lunches going share wealth enjoy  antidrug',\n",
              " 'going slp freshly showered bed made lazy sunday afternns mostly spent puering around house cking sit meal using oven real plate sme freshly cut gra charcoal gris brze coming window hiing bare leg lounge bed reading night watching thunderstorm porch listening sound brings walking along lake sunset watching waves washing car hot suer day dog run around chasing hose heidi suer',\n",
              " 'normal tradition wknight knocko time smokey bob return home cold one bit yarn thus concludes day friday day often toled wag chin brew sht shit started talking fight life drifted acro talking tawera nikau fight maybe fight dont get wrong suortive fua fronting helping fortunate around home town huntly let face huntly sux even rotorua theres bound lot unfortunates fight refeed several time exhibition match disagr exhibition mean something watch two friend paing paed head gear huing walking honestly viscious didnt getlaughing started talking prosthetic fake limbs theres new zealand chick wns special olympics special springy replacement leg might legs forget thing doesnt like leg designed specificay ruing made spring stl shape gue strongbad would say consumate  interestingly chick run  normay abled person personal modification aeptable aowed special olympics robot freshly mind wondering long biomechanical limb start emerging onto special olympic start lines imagine special olympic athlete hydraulic motorized legs sprinting normal athlete way bioenhancement interesting train thought didnt stop mind wandered typical fashion swiing biolung boy didnt breath minute overarm race thatd interesting watch long mechanical leg swiing become like springed counterpart aid hinderance jet propeed freak scoing record sun help partrobotne phr stop postulation course suested maybe squash player arm miing detachable arm normal use switch true hot swaable fashion actual racket hard mounted arm bob liked idea contemplated decathletes aeory backpack thatd make computer game character blush dierent aachment ten sport thing encounter long eectively half cyborg rugby team literay crushing natural team tearing  synaptic controer malfunction get latest blaster worm disturbing maybe fuy definately honesty tho athlete geing faster fier stronger hurting modern rugby player soft much fact hit harder oonent stronger impact much damaging said robinson harden fuck without black gua start bio love  match gah gued shakes fist tail end sick eating like motherfucker wouldnt suprised wkend cost progre hey know start gym monday lean mean fighting machine time maybe start fearing spdo prn already peace niaz',\n",
              " 'much time morning nothing going anyway blog later',\n",
              " 'thats polite fires rude fire might come around last midnight even early morning talk mothers parent blame fault child',\n",
              " 'something new going iraq friend josh army sergeant stationed baghdad caed field somewhere cant say wont back online several wks meanwhile hear puing trp korea sending iraq',\n",
              " 'isnt interesting society always back past always desire back time thing smed exciting say decade going write last paper quarter final motown would help start sue african american artist within pop music',\n",
              " ' hay month ago dreamt dont know dream flew savior lking reality never thought today never knew never expected like hay light shining lead hay way though know  dierently distance  sti hay wont hope coz you never thinkin bout make whine dream ever come true one thank hay croed mind know limitsyou never mine',\n",
              " 'urink ack devil baby  think new camera urink',\n",
              " 'beautiful chris best wish new education erik',\n",
              " 'yoz ever today nth special sae woke iplus washonline hahaha iwent frens heartland lunch hahaha telsum thing found frens sercet hahha sad asklet miur meage hahahabroadcast frens tat srect quite surpriselile bit angerwaa noe find tin hahaha  den tat went home aompany parent help sum chore tat relaxenjoy holidays gtg buaiz nitz ever nice slp dremlandnitz',\n",
              " 'sunday day plaing slow relaxed day today day bucko however mow lawn day okay  probably socaed garden hes mowing ive kind given giving license know late achieve kind victory right calorie limit rest day somehow forgoen diet recently art museum opening never even croed mind monitor definitely limit eating never even thought going sushi afterward ate drank whatever felt like caot deny enjoyable helping lose weight realized start cuent eort extremely healthy diet daytoday eating aow many exceptions eat nice balanced diet vegetables fruit lowfat meat brain think okay wendys double fry every third day maybe thats fine normal weight person unfair iensely extreme uer range calorie average persons usual consumption thats also important part managed come far gave idea fairne hand ive dealt say  play ive got people also physical limitation conditions arent hay deal every day  another subject noticed havent gone  troy dont think two reasons coercial  computer animation notice hate  hate moviemakers please take note sucks thried develop scene gigantic buildings herd zebra spaceships people dancing reflective curved surfaces like whatever dont care youre creating complex math might make nile sproing prograer doesnt anything doesnt ridiculous detail way human experience sight real life scene wouldnt like want learn capture way complex visual system human watch disneys original bambi check backgrounds kiing thought forgot reason didnt reason unfortunate coent others made recent vanity fair quote achies wasnt formed belief system strictly trial eor yet able take experience create dude formed belief system mind okay sarcasm aside entire character achies way formed strong belief system man whose lineage halfdivine woman caught baby husband going sense say paing god impregnated thats prey coon story amongst ancient heenes like hero claim god father prove glory honor achieves war unarguable evidence child god victory reflect honor bring honor zeus achies men must make life dedication god doe sound like someone belief system also siy coent wolfgang petersen achies modern kind man way modern men driven motif achies hes antithesis modern man notable exceptions prepared say modern men american least motivated primarily concept honor service  ideal feh say',\n",
              " 'urink interesting link safest dangerous city america baltimore sti top five dangerous sensing geing lost life days realization lost year god please find yeah gue describes way like people wrote quiz puing people category mispeed word categories description  find talking urink box get put brought urink quizia',\n",
              " ' like back gordo shiy micra alright bud claic game urink',\n",
              " 'urink organizer cancel comdex news zdnet computer trade show comdex biest event tech calendar canceled year victim growing interest show emphasizing consumer electronics specialist gear urink link',\n",
              " 'sick right head like goa explode hearing muled right ear ticket boston everything set yeah excited leave july come back aug ought experience adventure lol lie rest',\n",
              " 'wrien thr blog entry end saying gdbye deliberated ending blog run caught writing poetry private journal goen instead making point blog going change priority shift energies bye like oicial quasihiatus kinda weird peace fish faranheit tonight old san juan tomoow playa saturday baio sunday evening life isnt bad',\n",
              " 'urink king joe linderhof castle urink',\n",
              " 'yay finish hmwk except left lile bah hehehe tomolo sure finish ofcuz dae left finish heheheheh  haie relieve todae friend house downstairs pei  oso hmwk lar yar zhi jue zhuo wan haha enjoyable time yup hehe oso got taie house boow maths duo lar oso cant finiseheh last resort lornoe lor hahaz  continue home reinforcement ring hougang buy lor duo  crowded walk pek cek managed get lar  file goa explode packed put content bibliography haiz ying sai todae oso gan dong dad bought keychain clock shape ladybird buy thingy yar  surprised tot caot find guo shi yet dad found dao wow shi hahahz  todae got rain wor sti hot lar hahaha nvm got rain jiu hao juz recieved dear friend shi wen testimonial oso shocked tot nvr get testi hahaz finay gan xie yar abit sad hear  becuz mel shi wengals somemore close friends hey marcus weijie colin hansen sti got many othersoso friend lar sws got misunderstanding sorus lar xiang dao qian duo dun misundertand juz peng geng mei shen dun angry soy zui duo nxt time tok lor hey anywae  dun misunderstand leh mix around guy gal ren jiu shi ren zai yan lun shi nan huo shi hao peng dou hui geng mix around flirt dun misunderstand maybeduo wun get relationship point life yup lar dun get oendedstead chi zao break say lar wat get hurt ueearily like one dear friend blog whole dae alwaes  got one time sti dun waa eat shocked woied bad healthyar  juz recieved news har shiwen lent chi homework ming say sense copyrightosoh hahah juz kiing lar yar jac nyjc jac luck urmath hor jiayou dun watch soer ticaot concentrate  madne hahaz midyr exam leh yao hahaz lar oso nth write  quite late nites everyone luck watevacle wishluck hahaz',\n",
              " 'made alinas last night around crazy day flying crop duster fly canada make wild crazy ride aroximately hour minute flying plane left count get back plane sunday fly back canada one last time friday brief moment saw eye flash eyes half way seale enjoying complementary drink snack peanut detour bar captain come speaker asks buckle flight aendant please take seat headed toward bumpy ride many flight many bumpy though never enjoy realize come teitory never experienced anything like minute flight friday explain haened brief moment forever ingrained mind drink flying faint screams plane droing eyes closed white knuckles end merlot lady acro isle behind enjoying moment ago front pink shirt fast wild ride came strange stine come plane begin decent seale',\n",
              " 'fuck yea soy jus love vid much mark doctors suit tom pointer could get fuier',\n",
              " 'minute there  myslf lost partd barbe think disaeare sink prey numb',\n",
              " ' yeing cynthia name avail right anyways fumbled way endle sht rain soaked ground trying get figure  head back car wait storm thats probably safest except didnt remember way came print layed wased away step back couldve sworn saw cynthia figure ruing distance ruing yeing name every minute would catch glimpse never able reach thought rain drowing voice would explain didnt hear reay dont like finishing story felt like ruing aor something hard lked notice ruing aro road lked turned around  car flying break scraching swereved fish tailed rear end car coided launching back woke day later hospital fin bitch',\n",
              " 'thursday last cla suer japanese teacher  thr without schl whatsoever important train schl year practice study days sound kind strange perhaps lile exceive certainly gky fact maer know nature point least know lile vigilance long way towards preventing faing sliery slope right back waiting arm old bad habits like slasher flick murderer always sms breaths reach away ive got read get used extended reading seion  start reviewing japanese vocabulary last year graars okay since ive using suer continue try get ahead coming years textbk want competitive condition right start schl year instead warm first wks aowed guilty pleasure hour video game play past served iustrate easy one vice enrapture snare best thing think would video game related equipment cant help cling teing last game  ever horizon ive finished gaming carr remember using similar rationalization justify multiple last cigaree would smoke hope jet lis upcoming film urink day dog kind hit jet deserves say mans acting chop lack thereof man martial art talent toe nail cliing rest world combined criticize anyway inside jump kickbuerfly twistaerialintofront swp combination yeah didnt think anyway sms like kind role hes suited hes got two strong costars morgan frman bob hoskins',\n",
              " 'alabama enacted law urink baed sale sex toy thrjudge panel thcircuit court aeal overturned lower court ruling endorsed right state police sale device sexuay stimulating used popsicle girlfriend late state legislature country actuay introduced subsequently paed law baing sex toy amazing first priority standpoint something nded iediate legislative aention populace alabama suen peril oveun sex toys frivolous law like get paed want bet sanctimonious rightwing christian conservative introduced loied paed ground could make arguable case citizen alabama protected law rash injury steing sex toy use puritanical lawmaker red state alabama moral character imperiled consenting adult using sex toy privacy home furthermore isnt law tiniest bit sexist yes sort people use sex toys men women black white think sex toys doesnt coon sense lead believe vibrator dildo probably popular men enjoy shoving object rectum notwithstanding doesnt coon sense also lead believe woman one reay geing short end dildo whole deal predominantly male state legislature specific law sex toy isnt eence direct swipe proselfgratifying pleasure loving woman acro state wouldnt think would represent fairly large constituency alabama heres hoping frspirited unrepreed woman form countervailing loying group  antiwomen antipleasure rightwing sanctimonious christian conservative get voted straight oice meantime pleasuresking individual alabama always urink order internet',\n",
              " ' last nights entry various reasons went one girl hit hawkeyes wing depreing talk aowed talk things sad takelong think thing life blurt negative thing life sit aowed talk thing life going back forth think could hang anyway afterwards heading home get waiting next bus stop realize crap diversey bus doesnt run late crap start walking towards belmont  weington live corner weington sheridan start walking weington realize like mile away home thank gdne people talked phone kept replaying head repeat location case got jumped something stupid like yeah thank lil junko lil bro art aunt bindu pledge doa reay areciate anyway mid conversation doa  cab jumping chase cab strt slowed sti coasting cab driver window like ride thinkingsht course ride else would chasing cray car strt anyway lucked managed cab rest home sigh geing lost chicago kinda sucks wasnt bad able find way',\n",
              " ' bloing ploed two reay nice map big island preing trip next month cant wait back volcano also beaches lking forward relaxation time  give noah amanda copy weing present put peruse til trip time also get lauras email are ive emailed twice last month two response probably switched email one date also want get webcams one yawski  girl  video email',\n",
              " ' gue suosed make post everyone else lets  think share one coon bond lol agr sueing bush yeah saying gdbye',\n",
              " 'neo one gue wednesday matrix revolution came friend going  tonight byea problem normal crew darcie isnt going chelsea isnt going fatony wont going either whats anyways finished downloading bunch stu last night ingsocdoubleplusungd mechwaior mercenaries  shm bam diablo  expansion lord destruction blweird name demon else today sub history gue knowlton yes second day one weve knowltonator sub thats reay knowlton strangest person know hes great sub done work start philosophical discuion today didnt time watched west wing episode wednesday last time sub talked girl wearing thing shouldnt guy wearing thing couple year ago would make caed gay runon end post like say ryan gaant pembroke new hampshire complete uer moron  side pane details',\n",
              " 'interesting people remember reagon cuing tax reducing size governemnt reality administration raised tax increased size federal government tried cuing tax cuing social programs didnt work also power begiing aid epidemic educate public problem nothing also people say great wasnt intelectual like georgeisnt nice way saying stupid hardly thing joseph liberman',\n",
              " 'reading one longer considers childbearing part nature sexual act maied heterosexual claim childle sex right supreme court long ago upheld diicult deny right whose sexual act always preclude children homesexuals patrick fagan',\n",
              " 'urink big hole bushs growth plan csmonitor comfederal budget control warns goldman sachs economist mckelvey thought relief pipe dream political reality adjust growing number economist agr',\n",
              " 'urink salon com comic modern world snicker another salon item worth watching  one',\n",
              " 'first praise went  hay poer respect boundle interesting hear fdback movies one else disaointed didnt show gryindor wiing quiitch cup going lie  movie couldnt long anyone  movie likely interest mind staying theatre extra half hour  vital part saying didnt enjoy movieit quality saying stayed  movie didnt even quite poibly one important part enough thats would like give shout ryan vasbinder stuingly real portrayal alph icon late early',\n",
              " 'idaho white probably going fly visit loved',\n",
              " 'first mad piston losing last night fluke lakers barely detroit piston game wiing streak win championship upseing laker fan everywhere beyond responsible friend begining blog think fuy cause friend mine got started bloing gue like virus  someone new infected blog incredibly lame joke knew sti job searching aempting insane necearily working hey stranger thing haened hit snag story aempting get wkend prove interesting fun suosed  lord ring movies first anyway sunday fun although sure yet plan sit hour movie much trouble siing first time dont get wrong interested problem antsy read back ndrd grade knew story already made thing trifle diapointing sti enjoyed today one lazy days kinda like something maybe  tonight duo  else something yeah soulmates reay exist figment imagination wed like belive someone lovecomplimentpeople  something lives give heart return makefl complete fairly sure mine hit bus normal male female shes soulmate theyve known short friend fyre dude ten fyre friend mine one close female friend life another state friend since children met ten sorority sisters aroached gave number asked aording dude hot since dierent taste men kind like sorors convinced conversed night next day date joyed saw everyday foowing day plan  tomoow think told convinced soulmate went comfortable together like shes known forever wonderful make without even kied told thing hes said guy say lot thing theyre trying get pants stu says said stu told year ago wanted future husband plaing weing stupid tnage girl stu told chi wait  thing would girl freaking sprung love yet thank god caot deal love first sight stu doesnt exist lust araction first sight love doe take time rot inside posted goes sti dont know truly belive one probably hit bus   god sends someone sha  moment haily single plan stay way next relationship get want someone  probably may since dont know that haen  probably single big anyway must ive made read enough one day audi',\n",
              " 'urink squaer term given rait lampers chse squat rather run home done lamp dale blind rait belief staying motionle overlked shining red eye often give away presence lamping lurcher must able pick squaers many inexperienced dog run moving rait urink',\n",
              " 'many ahats behind whl done winter said',\n",
              " 'second two post wrien previous blog dierent name wrien november friend australia received package sent panoramic photo apartment enclosed one thing caught eye chinese symbol chaos great dream begin great vision become reality may diiculty person begin great endeavor may encounter chaos new plant break ground great diiculty foreshadowing huge must sometimes push diiculty bringing forth dreams chaos briiant star born iching hexagram urink chaos yea adequately describes life days smile change constant anyones life much every person life state chaos degr chaos course negotiable bli many years ive beat ive harshly judged weakne rather strengths never considered oosite perhaps nothing wrong simply lking wrong direction',\n",
              " 'may also want ensure nearby hospital aow sit spike safe knowledge stones throw away geing treatment recuing internal haemoaging gangrene outbreak suer hand prefeed domicile',\n",
              " 'posted read everyone bloing know sue lead anything boring life maybe loser stuck rut muchu boring rght said already fact involved leading incredibly fantastic life dont time blog anyway heart sistas let sum date prove wonderfuy going statistic way quantifiable thats economic historian maybe boring stats charlie age job investment banker homesouth kensington originaustralia yum sports crew rugby stats date first bar gla wine restaurant shot big thing muels chicken second bar amareo total unit alcohol consumed last night date alcolicay satisfying guy perfect may valentine first time entire life excluding michael snyder grade mom made give card boring  also drumro please think staying london rest life finishing schl  everyone save money make money hots come party suer must get back work lte',\n",
              " ' everybody hope everyone wonderful wkend friday going magnificent punjabs indian restaurant picturesque suound north paamaa eta would probably foowed drinking seion everyones favourite local pub smartarse coents know refeing usual comer welcome although prior aeptance would handy kris',\n",
              " ' talking course browser standards blog fine internet explorer coent unreadable mozia temporarily fixed problem expense design ',\n",
              " ' rock away  wuts bruhthaistas lmao nothin huekno day woke lyk lol exact talkin foe nyt lte lyk actuay tha early compared tyms tha slp hehe gangsta taday super bored usua rainin lyk crazy sux  freakin much cuz literay stoed gue news yey block buster house hiren wot get job lol also goa aly say beauty suly wagrns acro strt schl lyk right skl goa suer job tym jobim goa loaded cash lol reay atleast  always money plus start savin dat car mine  thas part already got saved thas enu buy car already isnt quite wut lyk car lyk piecelol mom want buy first car say rather walk place rest lyf ever drive tha crap mean today suosed weing idea bride grm strange aunt juany know shes super str husband part family weing doesnt waa alone bored want someone thinkin mom goin therefore weing ever heard weing tha afterparty sti boring rather stay home weing bore slp exept weing course bore wid nothing pce xox luv everybody xoxo',\n",
              " ' gently opening eyes thank showing new thing open thank love thank teaching thank inspiring thank making always want beer thank new thank old thank sun studio faded tey cloth thank mile davis harlan coben thank lucys squeaks thank walkin yes indd talkin thank buerfly thank dirty thank spirit thank may always love long star never doubt  make sure god know without ever leave though life would sti believe world could show nothing would living god know without god know without ever leave life would sti believe world could show nothing would living god know without god know without god know',\n",
              " 'urink continuing excerpt childrens adult wolf was told mother hear said mother wolf was must hearing mice suose wolves said lucy sure wolves said mother know say wolf come was urink wolf urink neil gaiman',\n",
              " 'notice manuscript found saragoa bundled caed urink wolf solent john cowper powys doesnt caalist weirdne rosicrucian coections could worthy investigation tristram shandy somewhere around picked copy month ago dont know strength make coitment start version tristrapoedia',\n",
              " 'burned burnz adolph way tried burn simple burnz two day ago got burn eor sort another dont remember exact eor taken scrn shot forgot mention yesterday weird actuay tried use yet',\n",
              " 'world might one person one person might world unknown',\n",
              " 'changed something beer aition linked blog vishal coeague urink trilogy used work heading  cat enthusiast find blog useful way plaed concerns strategy test interview askprepare cat sure reply big deal mug goget blog dont lie srinivas coege junior coeague cuent company aition isc rest aorted techie',\n",
              " 'richard koman talk colin mck author oreiys actionscript definitive guide macromedias rechristened suite alication used develop web service richer interfaces comes ready macromedia flash blown development environment',\n",
              " 'urink teaching louisiana purchase eric digest eric digest johnpatrick eric digest year mark bicenteial treaty france united state america acquired louisiana teitory area square miles upon acquisition known louisiana purchase teitory united state doubled historian consider louisiana purchase landmark event turning point american history digest discus president jeersons decision purchase louisiana teitory significant consequence decision american history method teaching louisiana purchase decision purchase louisiana president thomas jeerson faced important decision suer napoleon emperor france oered teitory louisiana united state miion vast teitory extended westward miiii river rocky mountain southward canadian border gulf mexico spanish land texas new mexico jeerson oered buy miion region around mouth miiii river included port city new orleans president wanted protect interest farmer ohio river vaey depended new orleans sent crop miiii river new orleans ship product city along atlantic coast united states american feared french might interfere trade imposing high tax product ship moving new orleans even worse french might close port americans president jeerson astonished napoleons oer region around new orleans also entire louisiana teitory although total purchase price smed high beyond mean united state pay',\n",
              " ' much kind thing never know try right use page journal know stu wrien  stu like flings hope dreams wish stu could write personal testimony already another page thats reay neceary first would like save proud child king lord god almighty born age glad made choice almost year ago  reasons peace mind mean lot laying night knowing die heaven eternal home amen maybe could  nice poem quotes next time',\n",
              " 'tnage throwback proce dealing aarent fact eldest child fourtn half year old girl hked fiftn year old boyfriend knew highschl whove never kid dated got coege university age probably doesnt bad cute even puy love old used reststarted young daughter know fourtn young seriously dating sure guy know fiftn year old boy hoping get girl isnt romance kid maiage fair sure tnage girl arent thinking last two either get play fire seing guys trouser lol often lead rest point echo past fuy thing woying daughter might eventuay involved yet certainly haen eventuay suenly realise poigniant way poible musta put parent time realised hey kid serious already grandparent first time rebel without clue part know enough know reay love guy thought mouth pouting anger mothers coent puy love could explain dried old husk parents eternal life flded veins touch felt like electric buerfly fluering acro skin spine real know last forever thought tear anger pricking eyes remembering mother grounding second time many wks time phone hour click title urink hyperlink tnage tales',\n",
              " ' move acro country wks started packing goen rid anything bag clothes gave away favorite vintage flight bag friend found home coage table thats cuently wasting time internet lorda going buy huge binder throw away cases gue thats sort start',\n",
              " 'read urink belmont club',\n",
              " 'think unleashing smart bomb city baghdad first several day war unleashed san francisco bay area would act extreme teorism rep pete stark urink diamond newsmax coms deck weasel',\n",
              " 'morning dorksluts busi take strts tide one two entry put blog kyle gave idea stream history blog website every awhile idea honest sometimes taint got much say  write later heres haened today long time beauty qun clara peer first aeared wendys infamous wheres coercials transcript coercial posted old woman pointing hamburger wheres america laughs years coercial prompted company foow suit however slogan caught example duraces wheres baery acid campaign quickly cut short children notably child actor punky brewster sunbelt farmface went lking baery acid inside doublea triplea baeries farmface forced leave multibiionaire punky brewster medium empire due severe acid burn face throat became posterchild hey kid baery acid aint klaid organization spawned catchy slogan acid bad chocolate peer went enjoy critical sue novel never exposed sordid history wendys corporation heres exerpt chapter title frosty french fry frdom day locked basement knew wendy would back would come sauldering iron haer escape get dave thomas redheaded world ever going find truth frosties make move time marines trained bare hands bare hand handcued radiator dark corner basement saw harpn gun left shark hunt wendy gone last suer day florida times gone left pain redheaded harpn gun stued shark deadly secret peer eventuay escape basement hoor wendy harpn face thomas went rekindle friendship hit road countrywestern duo hit jus faies jus suck peer died freak shark aack west texas witne say awesome wicked thing ever peers funeral ronald mcdonald gave eulogy clara get heaven know shes going ask god time think agr probably big heart super size amen super size amen indd',\n",
              " 'studying lol schl finay ove hay would like say going senior   much going weird walking next year sing friend everyone track even weirder going walk tha schl going oldest schl anyways going track stick going without half track going every year shes talk random dumb thing like going carols opening bathrm etc amandaim going cause weve spent year basicay ruing together hopefuy  run suer reay going senior year loved love marn song',\n",
              " ' back yeahfruitful day started geing hair tried eunos foowed geing new net card done parkway procded going lunch lin shaen huang chiet peter richaror exprebus tampines old poly friend phototaking frenzy way experimenting dierent eect modes show managed find long search chaed briefly next stop bedok went find jim  gow saw nutz working outlet stayed abt five heading back parkway ling kopi picture taking night almostsn back work luckily ive got medical leave camp early lucky time permits might able send pandaz reay geing late bed caing nights',\n",
              " 'woke like got sum fucking hards yea bad part today shitload house work cut gra cleaned kitchen cleaned washed clothes vamed living got done half hours believe found partner crime natester returned hear cut hair cant wait  thats goa fuy  short hair hahahaha laughing already went christys much like always calie cuz hadnt forever forgot fun hang stayed ther maybe trying get bake stu wasnt goa haen mean cking shit didnt waa make anything damn alot stu tomoow trying weing christys mom birthday party cuz party shit maybe doesnt sound like alotdait heard super kick song mtv old song new edition caed son shinit know dani cant wait get home love thats peace bitches',\n",
              " 'people regularly post mail one place another even worse bkcroers send one place another urink article report postman slack dump leer cemetery wouldnt comfortable handling mail slept dead overnight another dent reliable malaysias armour show theres one born every minute iesponsible people another note oered post moderator urink gglegmails aka gmails forums huay big thanks john admin',\n",
              " 'heo ladies board busy today geing around posting usual saturday stu like grocery shop run eands get  hoies today rick greg adam saw fox report last night think saw jetoday also cant remember today yesterday reay tired thanks everyone huicane wish sent way jen glad got electric back talk step dad morning aandale sti strt around starting get back hoping coming soy sick surgery meed iune system gue going long winter nat glad finay sent email knew could make laugh get fired crazy news story like think world coming sound like election may sti gue know monday jan nan mied first hour survivor since forgot saw last part last season one didnt watch dont know name yet either take couple wks jan yes probst hot remember used host rock jeopardy',\n",
              " 'totay bagel trail schl got started working get new bagel shop wasnt schl anymore swear theyre trying control grainwaves get grain waves brain wave sigh thinking  capitolcourse nothing knowing bagels lol know else make laugh email eor meages qmailsend program mailg sbcwebhosting com afraid wasnt able deliver meage foowing arees permanent eor ive given soy didnt work dont give know hate job reay wonder would haen got car drove away didnt come back night leavelol plan',\n",
              " 'yeah got going shits taken care one cla read day half mean goa chi wsex city workin gym coege life baby poy cant shout everyone blog everyone thats best dont mad havent shoutedproy mean wack hehehehe',\n",
              " 'throughout life never thing experienced one form another put suinctly  maer much care people dont care back take year build trust second destroy  counts shouldnt compare best others best haens people thats important something instant give heartache life maer thin slice always two sides taking long time become person want lot easier react think always leave loved one loving words may last time going long think cant responsible maer either control aitude control hero people  regardle consequences learning forgive take practice people love dearly dont know show best friend anything nothing best time sometimes people expect kick youre one help get back sometimes angry right angry doesnt give right cruel true friendship continues grow even longest distance maturity type experience  learned many birthday youve celebrated never child dream unlikely outlandish thing humiliating tragedy would believed maer friend theyre going hurt every must forgive isnt always enough forgiven others sometimes learn forgive background circumstance may influenced responsible become sometimes friend fight forced chse side even dont want two people argue doesnt mean dont love dont argue doesnt mean sometimes put individual ahead actions dont change friend understand friend change shouldnt eager find secret could change life forever two people exact thing  something totay dierent maer try protect children eventuay get  proce maer consequences honest get farther  changed maer second people dont even know even think give friend cry find strength help people care life taken hard determine draw line nice hurting peoples fling standing believe life like toilet paper closer get end faster goes glad god doesnt givverything ask money doesnt buy cla sma daily haening make life spectacular everyones hard she someone want areciated loved lord didnt one day make think ignore fact doe change plan get even someone leing person continue hurt love time heals wounds easiest way grow person suound people smarter everyone deserves grted smile theres nothing swter slping one true love fling breath chks one perfect love life tough tougher oortunity never lost someone take one harbor bierne haine dock elsewhere wish could told cared love one time paed away one word soft tender tomoow may eat smile inexpensive way improve lks cant  newly born child hold finger lile fist know hked life everyone want live top mountain haine growth ours youre climbing best give advice two circumstances requested life threatening situation time work thing get done mind like parachute work best open create like god coand like king work like slave ignore past solicit disrespect ignore present invite lazine ignore future beg disaster thanks crystal priscia aition ever growing list   think experience',\n",
              " ' yey didnt know blog anyway yey random questions grab nearest coin date one thing haened year grab coin year born find another one hrm think ive kied brainces remember far back maths would made dont think whole lot back certainly nothing particularly remember year started high schl come mind first hear word  thats theres much day mostly  pant honest thing done dierent value  try much poible even mean saying yes arse doe fat like hour spare hour something hectic probably snze like slp sometimes even beer sex however ive many spare hour past year tend anything going could smash one thing one thing would smash last throwing ginges computer window could mine online instead networked dont yey cant reay think anything right nding venting think would wiing lay life rather selfish scared death cant reay imagine beign heroic  loved someone never know haens one word would put gravestone blonde sum reay advertisement bother stupid esure advert michael wier said first job waitreed smokery shop given taste expensive smoked things dait got lunch got take home leftover including yuy cake smoked salmon finish sentence never left europe trying hopefuy next year saved money north american tour watch',\n",
              " ' way great job joe told youd knock dead reay dont want condom anymore protection lol goa jet',\n",
              " 'late night continue something suer make stay late probably fact dont work suertime saying something night time make stay latet late goa hurt schl start august aeptable bed time mile creating post inteupted news jho ahem jlo maied marc anthony wiiam hung headlined concert big stars fun moving discuing husband earlier like idea purpose existence christs presence lives decided recoend urink purpose driven life rick waen discus christianity live life easy read must confe sti halfway flishly trying read recoend however thing say living christian lifestyle purpose meaning especiay helpful find place questioning god life youre etc heard rain window outside lile oice mind mistk loud exhale dont know made think someone key came said wanted get crobow case someone try break told hed probably sht ftor mein proce hes going sele baseba bat thought dont theme random compilation aempt put something worth tonight  yeah',\n",
              " 'started okay fair bit rain way work nothing extraordinary work one exquisite day everything come together nicely busy day never felt overwhelmed plus day always one take luncheon urink ban thai  light end tuel hopefuy end month thing slacken work get back tabled projects like another wkend oice next wkend govguam negotiations mean another wkend shot end tough stu end sight regret worked late tonight mied urink state funeral angel santos urink diae went try get report tomoow morning okay kayo time kick back watch urink waterfront even elia kazan urink backstaing snitch sti great film',\n",
              " ' first blog eva wrien zhen jie like lousy outram sch even chose dis sch haiz anw got frens riteanw since first blog take time goes todae usualgoin sch  sch marcus doin joke everything caling kelvin plate valeriestu makin suound  laughscream shriek munyue shirlene  laugh always gla shaering literaymay funybut sti making  like dariusmilton woahbig giant chn seng joke could tink also amusing time yah munyue reading displs stop asking swt  loudly none eat pls talking softer thx back schafter taking every single candy dis   ungratefulnot word thanks tat todae later',\n",
              " 'sking male arabic voiceover record upcoming recording talent inhouse recording studio send recorded mps interested may pls contacturink duingvsnl net incase anyone suestionreferences voiceover arabic pls sendemail thanksrgds samr bhardwaj',\n",
              " 'guh give everything divine give suering pain charlene scenario stu cant handle give divine felt great longer responsibility preure charlenes blog  word freak everything come crashing back something isnt even used ina provactive sentence fuck',\n",
              " 'didnt expect today reay turned went mothers restaurant help walked kfcs lunch one worker asked spe name chinese cousin went back reastaurant think pronunciation similar spe name one pronounciations name translated bird another one translated boow wow found reay amusing iature heh went back kfc gave list pronounciations may match name afterwards cousin ventured big lot spent hour aimlely walking around lking aortment rings finay found ring liked hopefuy wont get deformed something would make aed necklace coection rings around ishpm katherine visit bridgee come visit havent bridgee two years awesome sing  wiikers fuy mied hard touch friend live way tempe area anywho hope  katherine performs mlintock play',\n",
              " 'site day urink itunes ale music store finay made window version awesome single album anywhere depending album love far buymusic com dierence layout since downloadable program gather file becomes player burner check lkout new napster coming',\n",
              " ' gosh ive busy last couple days actuay stealing lile moment write time write  update end whats going might expect finay article feminisms laterh wasnt busy change blog lol time mediocre skis',\n",
              " 'first byah got hired staples post reading article presidential race periodical receive suprised nonbiased amazering gave link president bush senator keys website voter could informed candidate try drag either candidate build either candidate emphasized importance voting politicay active astounded usuay every journalist try influence reader nowadays instead presenting news without beliefs periodical coegian put bju amazed prop bju teaching journalism student report iue fair balanced btw journalist opinion vote alan keyes hoa leaves',\n",
              " 'interesting story share regarding workplace share later walky new armada episode theres new big tonight check back later hear cleverly disarmed knifewielding junkie',\n",
              " 'choice would skiing  skiing harsher chest coke pepsi pop person chse coke rock hip hop either depends moment laptop desktop grown love  cold weather hot weather hot definitely swiing bicycling swiing shsh pisces chocolate  far especiay mums natural vania day night either glad alive enjoy either brain fade brains cable dsl dialup ask',\n",
              " ' certain man ramathaim zuphite country ephraim whose name elkanah son jeroham son elihu son tohu son zuph ephraimite two wives name one haah name  children haah children man used  town worship sacrifice lord host shiloh two son eli hophni phinehas priest lord day elkanah sacrificed would give portion wife peniah son daughters haah gave double portion loved though lord closed womb rival used provoke severely iitate lord closed womb went  often went house lord used provoke therefore haah wept would eat husband elkanah said haah eat heart sad ten sons eaten drunk shiloh haah rose presented lord eli priest siing seat beside drpost temple lord dply distreed prayed lord wept bierly made vow lord hosts misery servant remember forget servant give servant male child set nazirite day death sha drink neither wine intoxicants razor sha touch head continued praying lord eli observed mouth haah praying silently lip moved voice heard therefore eli thought drunk eli said long make drunken spectacle put away wine haah answered lord woman dply troubled drunk neither wine strong drink pouring soul lord regard servant worthle woman speaking great anxiety vexation time eli answered peace god israel grant petition made said let servant find favor sight woman went quarters ate drank husband countenance sad longer rose early morning worshiped lord went back house ramah elkanah knew wife haah lord remembered due time haah conceived bore son named samuel said asked lord man elkanah household went oer lord yearly sacrifice pay vow haah said husband child weaned bring may aear presence lord remain forever oer nazirite time husband elkanah said sms best wait weaned may lord establish word woman remained nursed son  along thryearold ephah flour skin wine brought house lord shiloh child young slaughtered brought child eli said lord live lord woman standing presence praying lord child prayed lord granted petition made therefore lent lord long lives given lord left lord haah prayed said heart exults lord strength exalted god mouth derides enemies rejoice victory holy one like lord one besides rock like god talk proudly let aogance come mouth lord god knowledge action weighed bow mighty broken fble gird strength hired bread hungry fat spoil baen borne seven many child forlorn lord brings life brings sheol raise lord  rich brings low also exalts raise dust lift ndy ash heap make sit prince inherit seat honor piar earth lords set world guard faithful ones wicked sha cut darkne might doe one prevail lord adversary sha shaered high thunder heaven lord judge end earth give strength king exalt power anointed god sms history closing womb forgeing women miraculously remembering first sarah rebekah rachel haah except time sms god help rememberingmaybe god got remembrelyou know hay poer theyre gla orb get red smoke youve forgoen something god finay remembered god forgeinghaah sent remembrel haah course important haah forgoen starters husband wife peniah mean cant hear caing haah name mocking hero baen one dry worthle wife hey haah oven iitating mean caused serious depreion doesnt take long kind verbal abuse become part yousomething believe something wont talk back stand secretly wonder right dont deserve caed person thats peniah doingin story represents whole ancient society teing haah worthle whole person even person isnt like everyone else experience dierent shes useful husband borne children story haah never talked back peniahperhaps didnt strength perhaps didnt heart perhaps didnt selfestm case peniah continued abuse  haahs husband elkanah doesnt much beer sure love spite baee even give double portion time yearly sacrificebut isnt teibly sensitive ask haah sad cries wont eat paying lot aention family dynamics asks problematic question ten sons translation modern readers cant enough haah cant answer question maybe people read loving questionelkanah loved haah even though didnt children others however might point perhaps one momentsyou know ones think youre saying right thing reay arentinsinuating alone could change eye society give personhd alone could simply remove expectation judgment counity baen woman day worth everyone knew besides would easy say since already child heirs like haahs child cay family line child wouldnt among firstborn anyway peniahs several child snatched biest portion inheritance haah doesnt answer husband question remains completely silent depreed lost aetite voice doe thing canshe house lord prays make deal god you remember give son  give right back doesnt want child husbandshe doesnt want around house farm comfort help cay family line important thing haah  bargains fervent prayer desperate woman desperate situation could make prayer promise god shed give child longed kind desperation led make desperate deal however made prayer haah wasnt speaking loud property wasnt worth much probably internalized peniahs abuse didnt voice speak anymoreshe silenced counity many people sti unfortunately eli priest thought drunk moving lip without making sound confronted making spectacle temple lord eentiay confirmed worthlene demanded leave behind sinfulne haah finay last straw find voice defends priest man god suosed  everyone god child servant one person shouldnt think worst aarently doe anyway consider worthle woman says long last std contradicted everyone thinking continuously silenced counity considers worthle peniah abuse insult priest impugning integrity haah doe stand consider worthle woman praying whole time great anxiety distre haah silent eli probably shocked woman worthle woman talked back dare also hopefuy upset able dierence prayer drunken stupor doesnt show instead take word back aures god hear prayer grant request haah away eats drink importantly countenance sad longer haah talked god silently eli loud kind selfestm growing god remembers long last baby boy sti unweaned time yearly trip shiloh whole family going haah speaks husband first time whole story says going  come later gue leave boy haah found voice shes found wipower spunk point would expect elkanah would say  excuse technicay aording sociopolitical family system rule age child mine get make decisions already let chse siy name mean youre going leave boy someone could reay useful farm temple dont think  get rid bring boy home doesnt instead says sms may lord establish word  isnt exactly normal men time period suosed charge men time period head household woman property decision makers men strong woman foow aarently case elkanah one year ago asked ten sons finay understands haah nds elkanah whole family pile minivan leave haah samuel stay behind two shiloh haah  eli rush news one year ago prayed says pointing child arms got giving lord mean get take care fun nice may god servant forever bye reay woman whose lip moving whose voice silent one year ago haened newfound voice startling amazing baby asked baby like baby child samuel become one israel greatest prophets prophet speaks directly god anoints kings god given haah child placed line israel matriarchs eential israel life continued story god chosen one brings bearer god meage world temple prays last time haah fervent silent sti prays fervently prays god loud praise loud voice quite time song sings prayer remarkably similar psalm used time paover festival extols  amazing power justice god lifted lowly brought mighty god lifted haah despair depreion thwarted insult abuse peniah society priest god opened haahs eye humanityand eye world haah worthy woman ground counity view longer turned world head god rock god one gives god one judges whole earth indd piar earth rests gods peniah doesnt anyone make fun anymore indd haah nearly are directly talk proudly let aogance come mouth longer peniah able consider beer haah longer haah uer boom chain family nonperson society mean name haah eli cant say shes worthle drunken woman anymore god made aware wholene  prophet thus crucial character israel story wonder thousand year later mary used word praise god made central figure story haah lifted haahs voice lifted begiing story silent raise voice heaven earth hearshe speaks long last voice say child isnt whats importantand going give boy back god holy one break molds doe new things revers injustice world sms haahs early story woman rights woman voice authority home story voicele women indd people plug part story god counity find voice may wondering find voice story woman cant children society today doesnt place strong emphasis child anyones path worthine thankfuy haahs story child though also judgment worth yes ancient counity judged woman childbearing ability later medieval counity judged people piety modern counity often judgducation car church belong clothes wear like haah may able find voice speak judgments also like haah god showfu humanity open eye worth god children worthine lies expectation society identity god beloved god chosen people like haah must raise voice earth heaven hear speaking others exulting holy one beside',\n",
              " 'epiphany morning something came suen strike understanding much haier life sms uncongested remains integrity restricted mind eye sing jubilant haening one big plan born didnt even realize til even talked younger sti didnt even  unraveling',\n",
              " 'think prednisone crazy starting least lile yesterday first day felt aective chaeling prednisone crazy instead vice versa prednisone crazy ask let try explain prednisone steroid drug great controing inflaation body prescribe sort reasons yet disgusting side aect world worst body fling completely achy exhausted yet prednisone doesnt aow brain shutmuch like spd freak propeed kaziion dierent direction warp spd reay want rest quietly cant forget mention crash haens yup finay body exhausted course brain sti hyperdrive blown bitch mode hit vengeance watch whoever haens way generay bitch mode begin like want crawl body hand wont stop shaking yes dont want forget mention skin broken acne hair thiing retaining enough water like sma hio bier let state oicial record hate prednisone  hat mention hate biest thing hate prednisone ive yet find hay aident celebrate fact take maybe wont discover cycle completely done however today hay aident steing dosage think geing point able chael prednisone crazy instead controing turtle patient decided cranky hyper beer super perky hyper especiay waking morning list honey chores giles fabulous birthday yesterday thank much everyone super birthday wishes big thanx red big sent one beautiful flower design ive ever today get spend aunt candycane another lile birthday ',\n",
              " 'got many thing done today went first unitarian universalist church service prey interesting end prey much like church sing song pray listen long sermon interesting things dont croes chalices prayer time meditation prayer include poem walt whitman sermon today long history unitarian universalists crazy liberal whole thing religious frdom basicay theyre saying hey man believe whatever want peace know theyre newagey chris like lets get super white enjoyed however thought interesting time always lking big cnot christians cults back next however check service maybe diverse crowd got std brunch person suosed fiftn minute late fabulous girls guide decorum state never stand tardine wait designated time leave explaining later aumed forgot person suosed ate brunch ate brunch fabulous boyfriendfrench pre crisp bacon swt orange ros bought playing cards chris rather enjoy board game many require many people decided get pack cards teach chris gin ruy hopefuy expand friday night repertoire watch movies eat thats got hair cut stylist alaska knew made ugly hair prey always blow like big mushrm cloud want scream dont  puy hair aarently think like way flied end everything became bought yarn reading martha stewart livinga mistake alreadyand article kniing long story short knit stitch purl stitch special order angora crazy yarn company new jersey complete project frustration complete',\n",
              " 'fuiest thing melia heard day honey whats face buy trashy fling flashy ring hahaha hay wkend everyone',\n",
              " 'sit desk barely able function today going incredibly tired like life drained yesterday spent roerblading lounging around kit kats ried slp big pimpin blaring phone headed home watched heartbreakers headed bed read could hold eye open longer pain got groy morning knows suck cuz geing anything done aention span gnat moment doesnt like geing much beer day wish drank cuz moment think sht straight vein wkend fied crazine craine found bigha big crush drank hour friday straight work pas charged gate throwing back sluos genius idea next head terese slight stupid jey bigforeigner super freak metmied scu five adult ranging pretended like didnt know couldnt cay church festival yea cop convinced funqi quite bued decided smoke something cigaree night  heading bar solid hours returned jeys yes drove slightly stupid slightly drunk highly usual man never without cler truck somehow elected drive waved cop car wuahat plus hour later gra stain get mind guer trying tackle bigjeys backyard youve ever met bighes big quote night gein backing away uered golfpro aempting dance highlight evening wiing another nuy monkey stued animal claw one fuy wuy soft sweater say heart golf thats right heart word golf heart golf heart golf perfect times unlike popeye bumpy quick fiy cents fuiest moment chad spiing right front shirt spiing drop shirt river run cold liquid make way chest tuy soaking top pants nice craiest moment walking bar grted superfreaks arch enemy giving grand hug making big production sing friendline quickly turned cold realized friend superfreak mention guy concerned saturday quite eventful much fun nonethele fuentes leftfling exposed margarita  enough discus table bareft soy forgot monkey know act public aacking birds fuentes wehre margarita like candy waiter like candy olive rocked evening honest god ear sti ringing standing next god damn speaker think stop nope went scped frbird finish evening ended stepsi pad  lile late midnight sti throwing back know surprise culed blanket bonfire learned thing hadnt know bird amidst crazine wkend managed aomplish none thing wished lazy ive come aept suose',\n",
              " 'bad poetry want write bad poetry kind make cringe dont give fuck rhyme meter rhythm iambic pentameter maybe thats far want write bad poetry pain soow maya tnager havent cornered market downtroen white coegducated milecla male got gripes wont put eort unle drunk sentimental might actuay make worse want poetry literary version baz lurma movie moulin rouge win oscar say cant poet laureate want oprah act pretentious suen lecture triumph adversity  make jonathan franzen like best friend reay lucky phil come  kick  time got recognized writer generation coupland coect plastic bole design furniture ethan hawkes novel wipe  fuck damon aleck scrnplay puies want kerouac traveler fitzgerald hoywdabused thompson twisted hemingway suicidal drunk pounded one person bar fight quns side joyce measure already drink guie promise use vile filthy words stu couldnt say today show thing like smack crack crank blow shit fuck suck duck prick dick sniedywick give dog bone beer already give nea grant',\n",
              " 'action grows unprofitable gather  grows unprofitable slp ursulaleguin',\n",
              " 'aye matey theres one thing music film industry realize war already past years theyve trying fight rising wave piracy fileswaing claim destroying busine lile avail voey aack launched internet service providers fileswaing services recently endusers sti sue steing flow btleg material acro vastne internet remained elusive far aault served teach oonent beer hide behind anonymity net develop eicient method rip swap everything music video game fuength feature film sti showing theatres futility become evident recently propaganda subjected coming araction hasnt sit listen guy hard work make movie take money pocket time someone downloads copy come isnt even valid argument people make film dont suer raise prices actuay paying public hurt long run remember cost buck  movie yeah barely heres fuiest part everincreasing price going encourage people download high time music film industry admit defeat front try salvage quick word continue promoting piracy andor sharing copyright material think debate moral legal standpoint topic raged long enough instead rather focus people download music instead buying spend hour geing first date internet instead going cineplex real thing expensive thats coon man woman adhere political coectne lawle nature thumbing nose authority want  artist suer spite eorts money continue rising price  reasonable facsimile obtained mentioned going get worse price pushed make due btleing answer firmly believe impoible stop piracy also think slowed reducing copy share close friend mine talking topic year ago put forth idea thought briiant course even though ive given credit you always remember read first think genius love plan come together bale didnt begin kaz miion people opened hard drive share latest movies begin napster countle mps flded internet fact back internet digital media even home computer long art someone copy long someone copy someone would sele copy original true painters sculptors author today sti manage survive hasnt piracy destroyed especiay considering much longer theyve subjected found way embrace profitaord painting like picao actuay piece sculpted michelangelo unthinkable read wrien handwriting charles dickens would onceinalifetime event yet work thr readily available man woman child wish experience thanks copies reproduction great work done nothing diminish originals without question arent cant wont aord real thing provide exceent alternative proposal put forth friend simple one oer two level purchase consumer prefer best continue provide highquality dvd fancy packaging artwork dont find neceary live without perfect sound oer music movie cheaper slightly inferior form strip thing like flashy jewel case bklet insert dvd extras oer tried version aow musiclovers way purchase mps choice burned onto personalized right music store oer alternative price would make aractive people wouldnt compeed download stu net sure always people would rather spend hour downloading something could pay doar far also since filesharing relies heavily lot people eventuay even diehards would opt legal alternative know may sound lile utopian right complexity havent wont touch begiing plan importantly begiing plan everyones best interest mind way control iegal spread copyright material way lower prices mention fact artist faced convincebuy price version may  marked increase quality product oered end everyone wins maybe lile hasty claiming war already certainly final stages piece played coectly stalemate let everybody walk away table hay',\n",
              " ' guyz akil clarify maers wadeva spflrba blogspot com true say freshies play sunthen play sun presume selection done freshies play urgent experience ndedsome experienced player join help maerz juz clarify tagboard thatstick wadz spflrba blogspot com nobody trust',\n",
              " 'cable box downstairs broken get chael nbc weather chael cnbc cspan eating ceral morning cspan lye cheney guest policy watch smart charming reay likable made wonder urink childrens arent',\n",
              " 'wahey ali music josh tuh say boy like proclaimers anywhos  handling interesting side blog snickers eventuay people come blog read post nods mwahaha hay two tuesday keang treated gunrose song knockin heaven welcome jungle yeyne eating reay gey cake kinda making sick cant stop eating yui  hope dont hurl driving leon mins actuay rather hurl crash lol yeah rock driving  else schl today say went wasnt exactly strenuous day ever lol new timetable kick tomoow friday going open day thursday schl monday last anywhos reckon thats goa check spider bathrm heh big  spray air freshener sti cant find fly spray sigh lol take care peoples mwah',\n",
              " 'another blog cronicle consider important event life result tends revolve around pursuite sex responcible mting precious try respond everyone leaf coment email thank leing know reading thought memory experiences blog responcible mting precious online left coent  responce thing become imediately aware exchange email precious inteegence imagaination thing strike next shes got heart big imagine find compeing way hard describe hasnt fling wear talking one woman involved reflected something precious woman day play puing thru rough scene asked remembered safe word told yes safe word day trusted know beer know first time precious played realized trusted way trust precious sometimes someone else put words',\n",
              " 'something struck morning idea electronic voting system pusheespite fact many clamoring nonelectronic highly regulated form enough technologicay retarded suort agenda whomever wish abuse vote cast yet mysteriously counted fuck ever reay know except enginr tech man machine service nds biles mind simplicity ploy given fact people maligned maer uneducated uninformed people would enable  thing therefore vent someone elected like dubya maer get fucking deserve',\n",
              " 'omge joshe thate wase aoyinge toe reade ande figur oute ',\n",
              " 'youd turn snowleopard like snowleopard quiet shy much find hard talk people dont reay mind however goen shyne relaxed dierent scary close friend grasp strange ways generay laid back get angry get angry vicious force recond though people ever  urink animal would turn brought urink quizia',\n",
              " 'goen news buy steven decide bad informed aforementioned hailey become single broke boyfriend justin kinda sad gue except reay hate fuck justin  reason longer remember thats mostly yeah another love life choice kinda kewl gue mean hailey always real nice know alot beer loren probably goa make choice cause steven talkin inviting along next time get together gue  sign think cuent predicament even though real problem angry sober day counting megane',\n",
              " 'thing moment someone everything around becomes hazy thing focus person realize  youre suosed rest life one moment get amazing gift waa laugh waa cry cause lucky found scared away time flingkno uve probly noticed havent haiest person despite dreaded final deprivation slp making cray numerous things   dont kno explain kinda sux maer hard try cant let kiing inside dont understand talkn bout dnt woy probly one many sti get buerflies definitely jealous yes admit whole thing doesnt real like gigantic nightmare someone wake gue thing tough strong enough endure along thing come dad surgery day becoming scarier day gue parent havn surgery informed dont think thats kind thing children gue beer note day probly failed finals schl part dominant arbys culvers lol course mas fun til ericia practice along brad wrestling thats besides point time let leave turn table god love guys couldnt fun yes mean tired hour day enough slp next time nite know god give handle doe trust much',\n",
              " 'saw headline urink story found somewhat relieved reaured want  john key president several reasons probably right reasons think george bush greatest president ever think would idea let finish started bug key circumstantiay oend motherinlaw staunch suorter nothing personal sms entirely urink chuy john edward doe wife sms unprofeionay outspoken sometimes slam bush rude realize responsible environment cuck dogder siy notion embrace year earth day said maachuses senator quoted petersburg times maybe right prefer slam doesnt use word cuck welcome politics lisa person many time project manager replaced mile project new project manager may perfectly fine point two project manager run project way result major disaay period time touchy point history hand lot military projects would bad time dont change project manager hand sometimes wonder change wouldgd point one suort taking risk regard especiay soldier new project manager may military area may potentiay negate done geing rid saamtalking decision war undermines several original intent one removing known murderer power cause confidence solidarity iraqi people makelose face makeaear like cowards may hold sign teorist come get leader run npr morning edition july meanwhile sen john key democratic oonent trying capitalize showing majority american believe decision war mistake clear keys aroach rebuilding iraq would dier bushs win november lack clarity bother key elected fuy plan move frport bahamas open large rum drink shop retire lol btw crack long face get easily amused',\n",
              " 'urink andl aen jeremiah bufrog',\n",
              " 'idea wish sundy reay think wkend wear days saturday night aempted watch movie friend house became painfuy aware fact  caot sit watch movie save life however everything except bathrm times smoke like cigarees play matches get everyone light candles play solitare apologized everyone movie distraction reay watch movie exausted stoned confines frzing priced movie theater dark stuck uncomfortable seat people friend forgiving everything watch movie least aprox second aention span many project like thing going simultaneously chance geing bored fuy work start project half start another project half bored start back begiing project started studying lsat think time around harder kinda mad decided take therefore aversion studying stre taking first time consolation prize would ever geing ready stre agian cant wait bar lking forward test researched test drive crazy aptitude test like aprox aurate determining whether sueful law schl continue use tradition sadistic torture friend asked day wanted lawyer quickly answered maochist anyone gone long hard proce either profeional schl graduate schl know exactly talking reminding worth yeah know studying blah back work',\n",
              " 'mostly ben urink hpblog zmag org eva nick maybe johnathan okay angie read damn thing',\n",
              " ' early morning realized day behind schedule history aignment dont plan finishing virginia beach next least want damn eay done master time whatever though stu get done also anyone else started old yet already slight preure year piing sixtn',\n",
              " 'wow five day without post geing lazy sti lking spot get blog hosted like hosting email leave coent gmail invite give away hosting neowin awesome site spend way much time day tomoow work schl nothing great',\n",
              " 'today got enter subdivision grateful whole family waited get home workshop even though able since reay important everyone time devastating stand hot ash diing thru left house first hard understand certain thing realized everything upstairs faen directly basement able find shard poery remnant bit piece nothing real value lot photo day turned reay link slideshow made boom post stand selective fire house either side mom lost two yet one directly house acro strt untouched fire spread burning ember pocket devastation wave fire entire roads fire fighter said firestorm hit fire high thr fire fighter lost home kept working became dangerous one thing city proud fact one injury death tragedy mom evacuation alert thr day prepared almost everything valuable since remembered forgot weing prom drees childhd  movie thought one subdivision hit warning people didnt get anything others didnt take alert seriously heres link slideshow picture house urink hpsd cmecurlew html',\n",
              " ' company yesterday marked end exams friend went cafe viea high tea ate couldnt eat anymore loved dim sum talked schl people know lot laughter imitating certain characters great fun long time since fourgot together eat chat picture walked around orchard road time orchard friday hoid secondary schl kids ugh branded sale taka selin went bought new white top  along way bumped  friend acquaintances one ive spoken since everyone grown selin parted ways wait late went milieu bar first taste acid jahouse style music live performance gordon bee project couple rock type music beyond one dance rock jey joinedhalfway spoed familiar face crowd saw caucasian man zouk ago lring girl dancing podium last night lucky lring anyone particular crowdwatching reay entertaining surprised fling bored music however became housey towards midnight noneliked left usual place breko check urink photo',\n",
              " '',\n",
              " 'urink something would maybe health club despise girl come trending thing like dancercise aerobox cardiofunk lure horde friy lile trendoids would even buy pole insta rec able discrtly fold away husbands  btw started liking dance sexily back paula abdul hit remember coldhearted urink read',\n",
              " 'today first schl fun playing shuwei rebea pot student work seriously leftplaying haha den plus ice cream man cla came company shock haha den haiz mea shirley argument huixian teacher place haiz caot anything cause involved mouth shut den whole thing mea cried duo wad  like make bad cause duo wad den huixian also felt bad cause mile one cla one friend kept quiet stand shafina toking phone like trouble like haiz duo try find way chr  think thing shorted lor hope tomoow nothing haen going sch cause sian actuay wanted help ndp thing begiing think rather quael plaing dun like rather join haiz shilin caed haiz bad thing haen today real bad sad tok hour get scolding cause real foow  get big scolding haiz tired busy schld thing cant help leave stu one side scolding den felt sad duo wad also write let lor wanting even study wad get higest sch cla hay dun purpose life hay even get highest yes hay awhile long rather let god presence led way want den path use wanoh lord  wad say caot much build myelf enlarge capibity trust god tomoow group wanted rest home den group sch tomoow haha',\n",
              " 'oities noticed today top line link home archives etc resizing scrn size hop editor make sure two thr data row width set trouble kping black part size netscape hand decided sti like resize browser consistancy anyone urink suestion',\n",
              " ' coca cola okay ive finay got thing figured posting anytime something stupid come mind actuay thats bad idea would posting time day anyway first entry    talk day practice okay heres haened team ruing lap haened come upon ducks friend megan decided wanted catch duck ran get one obviously duck flew away got thinking dont duck live trs mean fly aarent live least stand limb wanted ive never ever duck want goal life  duck shake hand touch things like lips thats question think would great idea walk random person introduce touch lips way give take germ become sick die faster normal thats best idea ive ever heard perhaps dumbest thing ive ever heard',\n",
              " 'get  hunting sue story urink sue got job',\n",
              " 'today babysat rachael jason exactly choice day christmas vacation whatever money  tomoow worked steadily day history note sti done  work tomoow suose tomoow christmas eve open present weber christmas day maybe wont mom reay sick may influenza christmas sorta air moment christmas eve church packed always beer bed though get early tomoow something else say ment update yesterday something reay important get mind aslp got chance yesterday switching chael came acro oprah show sta traveled south africa gave christmas party child orphaned aids truly emotional show cried watched child become hay receiving clothes toys shoes child much braver could ever lived much many short years first christmas pair shoe photograph oprah brief biography guest nothing short inspiring could think could help siing watching television sat wondered deserve know one thing whatever get tomoow night christmas dont deserve everyone reading thank god right everything',\n",
              " 'talkin reina goa headahce hungry tday playin basketba swear aidentgraed stinas breasteses haha hoa weird grainhaha geatwa gein like molested blk jee julio anthony jaime haha siin wit mehwa fun haha reay cause julio always talk shit try tuchcrazyfinay got walgrns  jnathn walked int blk neva came back haha went lokin sucha stalker haha  kayla jacket tday dayum bught first biasheveryone falin aslp block fuy cla take longcha ged nail man mad wrkstupid prtflio notle wasnt even turn gue',\n",
              " 'bank holiday wkend rock yay suosed big night last night think like damp firework kind filed left people slaedarse expreion faces sometimes vibe isnt cant push even alcohol light party blue touch paper situations best thing cindereapumpkin midnight next day instead exactly today francis rochas birthday bash also end era handing notice cuent employer seven years  town causing mayhem day anyone fancy joining banana daiquiri give hoer peace',\n",
              " 'read online favorite director linklater movie rendetion david schicklers new yorker short story smoker aeared year ago new yorker schickler maybe year two older natalie portmans going play young lascivious debutante nicole boer shorty story published newyorker age thrity either bbkick eastcoast prey schl fashion schickler honestly hasnt wrien shit since kiing manhaan totay sucks',\n",
              " 'post one situation time model know maria fulwiler obseive england yet model sarcasticay agrs everythingsays mockamatation tony blair haened recent mting loren foowing conversation conceputalization without specific citations wait doesnt maria like idolize england maybe idolizes every part england except tony blair yet model maybe tony blair watching secret camera hes like reay people think resign also model made hilarious spch saying swi scholarly people afterward yielded ben ostrogoth nepal wasnt prepared',\n",
              " 'aftea gein dreed ready awards pop leavin maybe lil short thought cute lil black skirt yeow rion makin pop hay going like astonishment began argue always doe right leave almost late walk kitchen aunty like tein rush tein put skirt purse wear get oua house lil sis lol didnt instead brought drycleaned clothes turnout bea skirt rush dade city campus cant award brksvie try take couple short cuts short cut thought would make trip long actuay long  stick old route get finay didnt kno exactly campus award held black people lol got imani grter place packed couldnt find team  mrs kay tiki  one seat sexy rbit sit felt bad knew wouldnt sit two guy next man phat girl crazy lie crackin joke tha whole time awards man oua nowhere imani brain bowl team arent reay involved crop nobody reay knew begin explainachieved high grade  come boy ramblin history nobody know lol anyways hungry thought wed get least cold pia something ckieschips man crazy chad okay take braids wasnt club sure hun lol start head home man gas station rbit hungry like shes gein crackers huge black guy cowboy hat come gas station pick lil white redneck wow neva black redneck entire life miin tth takin country black country redneck countryhuge truck high tires came gas station rbit thought rob lked scared lol began walk crazy aint riding got car tried hoa lol got home rbit crazy love rbit lol nyways got home dier rbit repack bags cuz wasnt flin rbit goa finish packin bout get back',\n",
              " 'realy hay suer depreing whatever goa pretend hay maie pursuade self right realy cant think anything postive nothing haened except next goa dyign hair black red black purple black grn picking color vote care vote color check blogorama ted practice aboitu hour practicing recording watched spinal tap watched monty python holy grail left fun laundry one house know color white dont get washed together instert closing sporko',\n",
              " 'one hundred eleven bow dply universe bow back name god echo inside',\n",
              " 'awesome story weirdest aident ever construction worker lancaster calif expected make recovery aidentay shot head nail gun six times thr nail penetrated brain one entered spinal column luckily spinal cord witne say isidro mejia house building onto another worker using gun guy holding nail gun graing faing gried tighter trier said los angeles county sheris investigator nail gun use framing drive nail bys los angeles times first timecop said mexican guy reay framed urink picture dont woy xrays',\n",
              " 'urink library instruction information literacy detailed literature review recent article library instruction information literacy article available futext via link end article two article made list must review abstract article present aotated bibliography literature recently library instruction information literacy academic schl public special type libraries interest topic remains strong growing number piece also including importance aement theme discued article include research coaboration use tutorials tours distance learning active learning problembased learning role areditation bodies',\n",
              " 'half way long day grting guests dealing complaint walking elder folk stairs  mention busy day met vip except suite going within next half hour finish titanic boat dri anyway bother goa solve crisis',\n",
              " 'welcome heo hatehuman race believe neceity make people bad caot deal lives elaborate said person sha remain namele decided would fun say druer months beer musician year flute year piano year guitar player bother also state caot write music iues cant write lyric also ndle say bale could think poser wow unique another person also remaining namele insulted  times finay told say lying insecurity teing aoyed placed position important rest human race yeah sure people able live criticiz wearing dierent make goth therefore ostracize goa  people world understand explain dont leave huge fear people love leaving grew fine okay sure longer slp avoid pain thats prey bad today basicay siing spanish cla almost cry couldnt deal many people knew despised dont know  figure come want nirvana gdbye swt dreams',\n",
              " 'hahaha heres new pic one taken  sams house crazy jiahui face firestarters',\n",
              " 'ended ocof yesterday nice outside fredrik got home doesnt schl tomoow day study last test wednesday thursday next last day think evening going suerhouse stay foowing thursday home friday evening parent house pick parent airport saturday write later',\n",
              " 'dier last night criminal law profeor hes sending email inviting group student eat prey eat profeor get talk outside clarm talked bunch year spent clerking justice marsha supreme court got barbecue justices house justice fliing burger gri said clerkship reay hard work long hours sti youre goa work long hours many job cler clerking supreme court',\n",
              " 'urink track urink cos geing caning ive even listened urink fnac bit prey much worked head goes tonight played  parky prey much expected verse dmchorusf twicecpalm muted power chord ths thats achievement day',\n",
              " 'roman god shut disobedience may show mercy shocking verse awesome one want showmercy want badly givedont deserve roman know god cause thing work together love god caed aording purpose timothy faithle remains faithful caot deny scripture awesome disobedient awesome lord god sti able use lives able begin grasp part mercy least mercy shownparticular time praise lord even able use sin reveal holy characterlives',\n",
              " 'two light basement one year turned heck going world faing pieces light bright augh something completely dierent walking dog today park couple lile girl came stared dog like minutes talking first dog okay fair dont blame however blame fling like perfectly right stare people ',\n",
              " 'many way come closet yesterday urink statement iued throught familys lawyer thurmond family acknowledged late south carolinian senatorstrom thurmond sired iegitimate child yearold daughter africanamerican maid thurmond household year old witolding story despite rampant rumors pre senator thurmonds death age eie mae washingtonwiiams said urging children wanted acknowledged thurmond family said kept secret long respect thurmonds family carr interview wkend washington post washingtonwiiams plaed hold pre conference later ask family acknowledge birthright cuing thurmond family released foowing statement pretrom thurmond paed away caot speak thurmond family acknowledges eie mae washingtonwiiams claim heritage hope acknowledgment bring closure wiiams say revolting act family understatement isnt nice years hope bring wiiams closure fact thurmond one strongest segregationist united state congre sired black child uer height hypocrisy washingtonwiiams kept thurmond dirty lile secret paing respect clearly owe man speaks volume character integrity hand familys caous statement egregious many ways dont nfl former nfl player coentator cuent president detroit lion mien making fans mien iued urink apology monday using derogatory term gay heated exchange kansa city receiver johie morton aording kansa city star mien morton hostile postgame exchange outside kansa citys locker sunday mien overheard least two witne yeing faot yeah heard faot nice people actuay wonder gay profeional athlete arent lining come closet mien said apology made inaropriate remark reacted inaropriately said something shouldnt wrong  anybody oended remark  thanks mien part morton quoted pre report saying said demeaning bigoted jeremy shockey got trouble saying coach parces president team making statement like totay unaeptable gay friends dont even joke around like must read day dudley clendinins insightful piece new york time urink aids angels gone forgoen',\n",
              " 'back tuscany hum left blue sky palace living frdom please learnt much tuscany though love way life simple easy lking incorporate life may able answer email siesta sarah',\n",
              " 'last night joshua bit adventure went pontevedra met marian clown profeor festival clown nearby pueblo fact aend performance without incident performance reay fun clown adaptation cinderea reference prince spain quick dier went marian house set stay made bed aslp joshua started whzing cat  aergic think would reaction reay bad one breath work marian big pow wow done joshua kept saying would slp outside cat lived outside teace set get slping bag remembered cat could slping bag meanwhile joshua pretending fine lung geing normal air capacity later marian oering takeback santiago compostela car saying best meanwhile joshua sti trying hero  finay like yeah reay inhaler marian boyfriend joshua pile car head santiago compostela joshua felt teible marian felt bad wanted beer care wanted breathe normay boyfriend shut let figure worked end morning packed cleaned joshua going home pack clean tonight mting lile going away dier concert one last vestige festival sant iago tomoow granada via salamanca madrid',\n",
              " 'eric graduate nikiski high schl serving airborne division rangers',\n",
              " ' drunki drew try reay fun wagenschenke warn aictive farthest point meters let know anybody pas point  strike meters  achtung ichli diech',\n",
              " ' reay bored goa write crap cant wait thursday friday cant wait thursday goa order cable modem friday viage come goa  brother maybe cousin also game ive waiting year come strt racing syndicate like nfsu except advance production longer nfsu atleast alile bit beer best strt racing game  probay buy game rent play geing tired halo geing kicked dont get kicked cant move get broadband hopefuy change  able play want sti dont know blog stand dont think anyone read put mainly dont know read people put pointle except time get beer typing thats know blog one day thats like record somethin already forgot talked going review peace guy named kevin aka magic chef  south american indian guy schl pghs',\n",
              " ' chased cat garden pretending cat',\n",
              " ' soy fro must conspiracy cuz programs totay rebeing enough urink drive mad click youre bored dont click youre already mad make thing worse',\n",
              " 'big news time reay dig studying finals point anyway maybe one day legal people utilize fair use right archiving dvd general fling sms dmca bit overboard  amendment anywhere sponsor described proposal consumers right digital medium would aow consumer bypa encryption lock built dvd movie hoywd prevent copying encryption scheme increasingly coon music movies suorter change complained digital mieium copyright act prohibits consumer using specialized software bypa electronic locks even making copy disc personal use similar legislation introduced last congre went nowhere sort balance consumer right copyright industry lopsided balance fight plenty people consider paage dmca copyright term extension actmickey mousebono law gigantic wealth transfer copyright industry expense consumers right work available people via public domain hand copyright owner losing serious money due  pirating gue side expensive loyist washington dont personay know balance achieved sure know  backing archiving medium purchased legay able dont think legitimate reason evicerate seriously weaken fair use law aowing eentiay workarounds lphole copyright owner exploit obviously fling isnt reay guy home making archive real problem copyright owner thats eect articles urink urinknet urink fox news via urink slashdot update urink copyfight urink interaction law urink wikipedia among urink others',\n",
              " 'consuelos fine much relieved spanish friends',\n",
              " 'itsumo kokoro hoshi itstuka dare katu mata koi nei utchitimu itsumo kokoro nei eiro itsumo anata dake basho aru kara huh wandering word doe means actuay japanese word grouped harmony turn song basicay solo section main melody popular song played member group diceitsumo mean always cebu one whos singing chorus part japanese exchange students first time heard song already hit chart first heard campus radio master interviewed tried meaning japanese word surfing net searching meaning words thus giving idea denotes always one heart cured emptine someday love tender paion live always place fied love desire sound though reay sure meaning chorus part love singing blend creates harmonious eect sound made hope like hay listening',\n",
              " 'started playing star wars knight old republic wkend think first rpg ive played ever got thinking adventure game gone take away stats combat newschl  gamers want new games wed beer get used genre provide adventure elements wed beer prepared put action probably statbuilding thing purist screaming right adventure best genre ever nothing replace etc half would shut deal maybe third part would step put end fighting buycake game developer might sneak option handle stats automaticay get along mokalus borgbrother known online caveman thought bought sims expansion  hes trying pique interest rpgs years',\n",
              " 'foowing excerpt thing said conversation guy helped realize thing going paragraphish form think ive ruined relationship everyone church besides dustin got sick tired always preurinoto raies day lockin prey much  uncomfortable flr noisy people walking night eric okay day lockins like year kind people dont usuay hang yeah know kind people openminded back around closedminded yeah kind people things okay angry point never ask send separate email group ray going haen several month year ray description make sure mention fun much blast theyre goa none excuse goto haown ray except haown ray sunday dont want waste night parent aow run around strt night wearing stupid costumes last one made lose lotsa stu going head point care life outside church homework point wtflmaoq ololooll know movies group get together something brave like fight buy leader group chaenge big kid shaving armpit elementary schl bathrm rest group ditch leaving fist cocked david goliath situation goliath helmet never group sure like wish though group gang mystery science theater playing computer time sent email teing basicay shut words blog post indication meant quite lengthy detailing thought wrong particular situation went slp cringing fact going leave quite block email inbox nicholas flinging ausation arguements eachother dustin replied smed side people sick hearing advertising cheryl joined fray new highschl graduate group one two senior member cla sti came got reay pied actuay came caed ahole right quick fuck youd think would oended actuay couldnt pleased  one people ive ever met cut crap reay thinking left coent back told christian church raies didnt know gue reay like hide fact unitarian universalists obvious christian rts pointed copied christian caed original someone said thats true fun replied ever christian ray sure minute ago didnt know existed eric yeah thye think theyre beer anybody else thats part hate churches ive realized even openminded people know decided opinion bad view poison thats actual quote seriously considering leaving horizon unitarian universalist church already problem actual government church sti havent resolved conflict everybody oveeacted church service youth dont know part story minister bit pansy came talk reluctant make date talk everything thought wrong reason gave kind dumb besides finay got date together night actual night suosed talk put purposely realize tuesday schl night roed around someone sent email youth date canceed due lack interest bushit cla aending didnt want talk made sarah reay angry didnt end much boy make damn arguements goa get thing resolved maer long takes  problem goen personal honestly considering leaving church forever thought adult didnt interfere could sti stay bunch friend felt safe felt know opinion arent aepted anymore anywhere sure theyre goa read stop taking seriously joking come back please nothing take lightly situation doesnt maer   come back sort guarant respected opinions maer unle hurt someone obvious reasons say otherwise someone would use arguement apology since love chaing email much think couple without sort thing amongst lking word faith dictionary earlier dogma wrong movie  eric movie eric whats definition faith confident belief truth value trustworthine person idea thing someone say dogma doesnt maer faith whether faith impoible faith something else complete premise faith completely usele eric thats politicay coect idea faith eric know path lead heaven heres another one loyalty person thing aegiance kping faith ones suorters sti implies faith something theological virtue defined secure belief god trusting aeptance gods god eric yeah never mind starting blog back stu said conversation earlier ones eric damn right thats liked blog one actuay said stu meant something eric blog like voice reasonus though dustin maybe people know flower mound eric sma group eric group nonethele damn right edited dustin would wanted way elaborate decided would sound much like aging npr talkshow host reading story nne care',\n",
              " 'wow today long day first last night stayed hanging brothers friend paul made xanga urink hpxanga compaulisqur obsesed word gay whole thing joke anyways today didnt schl caed sick techer hopefuy believed schlwork washing car brother paul washed grandpas car neighbor suv neighbors van going wash mahews one twins truck get ready baet thats prey much started making another baet layout finished yet mad cant download song disc computer dont software set yeah mean going buy bunch listen computer bye',\n",
              " 'thursday july agrment government iraq syria form special force guard watch border two country aempt put end movement intruder syria iraqi lands iue aracted lot aention arab world arab media usual presenting bunch response translated course posted arab reader  arabic forum coent moment finished preparing post ive chosen found interesting cases weird however show whole picture found forum performed statistic work result suort agrment sti doubt syrian government honest regarding promise given cperate iraqi control paage fighter acro borders suort agrment unreservedly agrment critical new iraqi government performance multinational force iraq totay agrment either dont trust syria disrupt unity arab world denied whole subject think foreigner entering iraq give resistance hand zionistamerican conspiracy control region clear statement didnt reflect definite inclination',\n",
              " 'god hot wouldnt think seale could get hot something degr ugh people averse air conditioning bus take work dont apartment home dont mongolian restaurant went tonight didnt suy tried catch movie escape heat unfortunately bourne supremacy sold left wander strt search fan hot last suer dont know havent bought fan yet went thr dierent store every one sold haen like store buyer eoneous forecasting demand ended trying buy something fred meyer wait half hour line one checker slow woman check price everything write two checks hasnt ever heard check card guy buying price one checker insisted nded coupon wait another minute anyone could check time got late store survive another night heat california dont air conditioning get ocean brze',\n",
              " ' mah new place write random ouence dont make comic wait tomoow prey story share thing haen time hence creation empty space actuay start another post plot behind empty space curious laterz rite time sushi',\n",
              " 'ive never felt lonely siing  alone house working damn exam sure work theres something wrong going work get away know make worse friend exact thing escape next two wks reading writing reading writing think get point time get mind wandering thinking thats scary part sure sit back close eyes think dreams simple want doctor mental image produce snapshot future event many year use reminder want thing youre working toward dont know long realize dreams mental picture ive caying several year worked hard achieve arent going haen theyre empty sure modified culmination series pieces like pule suose youre miing one piece isnt perfect longer whats point pule cant completed strange fling dreams hoow fling void like purpose goal temporary situation gue one never actuay encountered way interesting point life longer trying get piece acheive dream instead already piece aow build dream around unfortunately major piece miing suose present extraordinary oortunity gue question dream say right dont know damn dream',\n",
              " 'south like whole area especiay south carolina fucking south carolina started civil war always causing trouble theyre backwards shit  theyre urink worldnetdaily comnewsarticle asparticleid sueion stu sure would mean admit shit like never haens anymore lile constitutional controversy would sure liven stu lile huh',\n",
              " ' ladies back wanted preface tomoows twains gathering teing lile story never ending adventure chse tube started half way trip wandered local english grocery store search famous chse tube first thing realized stupid thought point didnt know whether chse tube refrigerator section dipsauces section normal chse whiz resides wandered around aimlely ever unorganized iogical isle hoping sight something resembling chse tthpaste tube finay came acro smed like refrigerator section course tube said refrigerated thought turned going stu next five days refrigerator could hang window would work evening hours course day england hoest day country yet decided would wait last day trip hope could find place buy thr day leaving staying persons house fridge find chse tube yet sma hole grocery store northern england buy last two remaining tubes figure beer nothing disaointed reay wanted anyway bring chse tube back house safely secure refrigerator day plane take packing stu relocate hotel near airport cuently northern england upon hustle bustle relocation chse tube neglected family jet train station without left alone fridge probably rot year old woman owns house realizes cleaning become depreed close sue yet far away become obseed find chse tube family laugh lile sympathy spark hope family return windsor pick suitcases decide dine restaurant shoing  first found chse tube shop store closing human dont work sit restaurant order gla wine mother order dier run restaurant search grocery store hope sti open find finay open buy chse tube make back table meal aived chse tube mine yet chse tube become topic conversation entire family yes ladies aunts uncles cousins parents etc want know special chse tube embaaed try talk wine weather even would let explaining obtaining chse tube become miion entire laer half trip whatever moral story chse tube definitely sure point probably wrong kind chse tube however dont want know',\n",
              " '  thankfuy list coer tad miles spencer sebastian mortimer langston logan devin taer maxwe dalton clayton peyton chance drake tucker zander holden rse hudson weston sawyer pierce evere sterling fletcher brock',\n",
              " 'relief  freaking long reay sms like monday  long ago today smed like prey long absolutely nothing fun haened schl today fine nothing teible nothing spectacular plain old sorta worked tyke trying stay schl tyke came home talked mom graduation showed graduation aouncement picked today cuz mean hes  tyke reay didnt anything got dreed wore pink shirt went farget ted meyers lking stu got mom calendar girl dvd cuz knew wanted much movie tyke vested interest sing though whatev isnt anyway weirdest part tykes shoing ted meyers went checkout stand put lile toy thingy girl probably age tyke right bat lked eye lile said liked shirt pink duh tyke responded reserved chuckle expreed gratitude whole scaing stu tyke paid walking away sorta turned back lile checking  may get checked ever sti someone checking someone else yeah even though girl wasnt even cute sti flaering  definitely lking hawt pink shirt sorta tight jeans ouch tyke went back home minute heading dois met piymormoman doi dois friend caotopolous super hard think name caotopolous purdy tina mandy tig came lile bit got cars tig drove purdy tyke tina mandy order left right front back went beos dier many picture dier great weird chick table acro talking sex toy party crazy random shit interesting totay unsuspecting smed drunk werent none hot either bad cuz one point almost started making hardly highlight dier tyke sat next caotopolous tina thoroughly enjoyed nice long dier gang went park seale wonderful view seale suoundings picture made got back car drive home fied lot screaming singing dancing flashing crazine course blast upon rntrance iaquah car split met back bonfire pit tinas house set bonfire tyke helped tina get log fire talked parent lile leaving got  place ablaze karla cbiscuit dudely  etc came flame risen story shared marshmaow devoured aleciamon smoke fied air night cherished memory last lifetime heh fun write reay great spend quality time dois birthday dier tyke exceptionay hay involved saturdays begiing',\n",
              " 'want share couple thing ive read recently absolutely amazed insight beautiful coection human knowledge truth nearly wisdom poe say true sound wisdom consists two parts knowledge god joined many bonds one precedes brings forth easy discern first place one upon without iediately turning thought contemplation god life moves certain man never achieves clear knowledge unle first lked upon gods face descends contemplating scrutinize john calvin believers chosen christian position wiser others grace alone doe mean aept problematics faen man right faen man doe principle law unto caot cay principle degr restrained spite doe god must work god thus able make positive contribution human culture cornelus van til lastly poem emily dickinson recently rediscovered bought translates poem spanish one time favorite poets circumstance frame face set latitude exist suicient continent light action dark leisure existence serve set force iegible  amazingly coect incredible god work thing together glory every pursuit knowledge going around globe moment brings glory whenever touch upon truth course point since truth gods truth thats also love poetry much whether poet saved heshe writes dply honest place heshe reveal level truth spiritual human thats always starting point gospel write maybe time anyway want thank praying god reay redirecting renewing realizing prof lit aow bring light christ clarm also world academia want shine light christ scholarship much gods truth twisted coupted would like clearer vision thing shed light reality humanity literature acro cultures acro languages comp lit beer eng lit sense make universal evident case point surfing web comp lit programs came acro new ejournal caed perspective evil human wickedne listed resource american comparative literature aociation homepage went website said wickedne net project explore iue relating evil human wickedne particular two main aims provide comprehensive forum coied promoting interdisciplinary multidisciplinary exploration perspective evil wickedne make available scholars researchers one interested set research bring together wide variety material resource relate subject project deliberately distinctively inter multidisciplinary nature hope help generate provocative insight evil acro spectrum academic fields profeions vocations religious tradition relevant sources bringing together perspective view various disciplines profeions vocation emphasis creativity iovation wrestling problem raised evil human wickedne amazing isnt kind stu want study research teach via literature sure making much sense vaguely inseminating saying going preach christ literary articles way would never fly credibility want write teach way resonates truth give others glimpse beauty worldview clarifies iuminates obscures want share gospel relationship form within academic environments',\n",
              " 'weird much bad want remember god make everything haen reason sometimes want question sends working excited camp suer general interesting stu babysat tonight kids nded money broke joke back camp cant wait track end tomoow mean like wks  lve crocodile nile stuck boat doesnt know swim crocodile swiing family bearded guy came though wanted swim stranger made come caged two kangar two elephant cockat hyenas laugh wildebst make hungry bearded guy came today didnt understand say raving bout olive branch wife started dance today finay land saw sacrifice lamb colorful band sky praised lord land dry cant wait step aerobics steph chriy lol',\n",
              " 'urink machine gun first block legay machine gun federal requirements spare',\n",
              " ' people state miouri least plurality people chose vote tuesdays election decided put amendment state constitution protect maiage defining union man woman time judge seale ruled washingtons ban gay maiage unconstitutional major presidential candidate gay maiage though key somewhat reluctantly endorses concept gay civil unions poibility amendmentconstitution defining maiage union man woman continues bandied wonder many people threatened poibility gay couple geing maied would people life relationship impact life relationships sanctity maiage number heterosexual maiage undermined abuse infidelity half end divorce maiage thrived face chaenge one believe continue even sex couple aowed right legay walk aisle stability children half maiage diolve divorce sometimes acrimoniously sometimes large percentage child grow broken home blended family grew single parent home mom turned reasonably say bible says bible also say death stoning penalty adultery easy tapdance scripture make case anything want using god justify prejudice best disingenuous worst baldly hypocritical cynicay manipulative civilization wont grind halt martin george joaa karen aowed legay wed live haily ever least haily everpeople sound mind caring heart want share life benefit sanction law power old world could use celebration love life reay let whole argument turn coective aention back thing reay important society like outraged andor ahem titiated janet jacksons naked nile',\n",
              " 'came weird alien squiel people intruding mad cow love aarently thinking loud heard responded muscle behind wifes great plan haen ship crap said gave hostile continued poker suen craving foer',\n",
              " 'interna fuck yeah caed truck guy international  could work payment plan somebody put payment today fuck dont reay want talk anymore case know ever start band goa failures although quick search turned already couple band named failures care stuck head man dont even know put  song get head sing fucking title never leave  urink  bee stars yeah know rain man',\n",
              " 'photo day june bumble urink photographer cheryl meisel coents another shot bumble  garden love camera used sony geo location erie judges coents ive liked  photo past one great dof black white quite unexpected  photograph done',\n",
              " ' sick kind flu  cold coughing endured caused rib around back body ache beyond belief today decided check cant imagination swear skin showing bruising along side torso pain excruciating taking dierent drug help reduce symptom aching never taken drug like rare state sure finay went first date since breakup went cutie everybody refers wier urink wier boy posted permiion interesting thing absolutely nothing coon antisocial hate music tastes lifestyle impatient distracted comparatively superficial emotionay young cynical defensive eats animals basicay antithesis somehow though actuay swt time walked brklyn heights along promenade pier back heights smith strt peered evening surprise gesture aection overa great time unfortunately distraction lack coon ground doubt much haen beyond one mting sms think dierence make dierence friends maybe wont far dating gap would big problem also indulgant boyfriend love indulge person expect much enthusiasm boyfriend indulge includes healthy compromises paionate openmindedne patience trust dont think would find wier knows may prove wrong acro time',\n",
              " 'urink wright state university human resource department',\n",
              " 'ever found wishing rainy day like quality day paed would ideal drenching toential downpour mile hot sticky humid day wanted today bad march instead april',\n",
              " ' probably one closest race ive ever game exciting  vote total come senior ruing back michigan david underwd finished rushed yard scored tds pale comparison place finisher got place usc leinart led voting place votes place votes sti finished second ruing heisman trophy wier north texas ruing back patrick cos rushed yard season cos place votes end finished point leinart fact real life last years leading rusher yard ground didnt even play game year cos going graduate ftba imported maen along leinart underwd make interesting draft first season maen complete',\n",
              " ' must explain title taken saw prey aropriately statedask concerning advertising industry destined spend many year manipulating minds advertising manipulation  work industry precisly pimpin man',\n",
              " 'wrote tuesday afternn preparing give guy blowbyblow aount haened ideay would like create sort powerpoint presentation aistreconstruction analysis event oued april may time remembered time fuck dont knowpoke however confused shocked dont generay patience graph piecharts would neceary nifty piecharts unle someone want step voluntr help instead list thing gather may helpanalysis  tequia shot  movie obviously  provide since one else know tarot card least one person speaks fluent male much klnex kind lotion nose doesnt get red tequia shots sti dont enough nope sti wait almost forgot right mindreader end post wrote tuesday continue writing post got email another email caed back got together talked union square thr hours dont know haening like whatever grade trigonometry third probably sound right anyway  staring test covered number slash obviously know lile trigonometry cant even write inteigently gue kind perfect exactly confused say love weird isnt love nearly yet  extreme like potential extreme like potential weird',\n",
              " 'hope havent given coegeage americans diicult get vote organization urink reaching younger child dont get wrong fantastic lets hope organization mtv wonderful urink chse lose program start pushing coege kid vote',\n",
              " ' gdne emailed today check theory ben exboyfriend briefly dated sister  one sma freakin world thats weird',\n",
              " ' reay itching something post heres something lenks dont like window claic lenks chance bet would take cute one steve shrug steve thats take custom get yes isnt fuy think one maer case',\n",
              " 'hasnt detailed hoped interesting run first great reay whet aetite future thing come second plainly put bust lecturer twodimensional boring found diicult even foow lecture sounded like indd reading printed sht wks cla third death new orleans quite interesting one cla left decided  wait write cla end hoped suarize cla auming going informationheavy first one wasnt case thats thing  probably draw primarily first cla write touch thing learned thr first cla got roing anyway',\n",
              " ' whats biitches day leave know whats working packing right dont know everything want pack fit suitcase airline luage pied clothes packed super glamourous speaking clothes went shoing yesterday got another pair shoe american eagle pair pant shirt ive wanting forever got pajama socks got hair pedicure got cute lile rhinestone flower big toenails tomoow goa ortho hopefuy hes goa start taking brace moy girls want boyfriend great skis know like nunchuck skis bowhunting skis computer hacking skis know thats truth',\n",
              " 'start urink pop sun tent  urink cling seat cushion crystal inside melt cold even hot sand let urink personal monitor determine much sun take make slushie power required urink slush mug youre bring urink wine chier instead instantly cold gla white wine okay fun   beach dont forget sunblock',\n",
              " 'today prey depreing went denist today problems except wisdom tth already coming dont get pued buts sad someday wait denist oice like half hour afterwards rachael teach swiing leons one else could get home ate lunch rachael went meadvie headed rec work hour got close raining reay hard kim cleaned went home got payed hour worth work today great thing day ate chinese dier kind bored fied survey questions mike send hotmail thinking watchingfamily tooow poibly going grandmas house old driving leon thats soy best right wish something exciting would haen would hay night swt dreams',\n",
              " 'excited  shrek tonight waiting long time hear beer first one amused mostly bathrm humor love minute ago walking student union get lunch saw tdan walking direction stomach went quote blup  rogolvkngilkangildkne heave mind went yard think something say wasnt far enough could come nothing aarently neither could left flounder conversation awkward told lunch ruer day told going library get fork lunch silence wanted run away created thought something notsogd last night since moved ward dated two member bishopric tdan ward clerk another guy tithing clerk become infamous clerks oice know bishop hears stu asked back item obviously talk speaking nos',\n",
              " 'know works isnt bad actuay right fcked detail ben year old short aoying live thatcham west berkshire shiy boring place near reading exciting shit haens group close friend skateboarding oasionay delve sport like downhi play guitar cuently band caed dark halo dont anyone vocalist quiet honesty fucking embaeing cant fucked censor chance blo fucker sti lile know reay used coege work oice world aint bad job laugh basicay fuck work listen music way mosher death metal numetal thrash metal old metal rock hardcore punk ska old fashioned hay punk like naked apes time newbury reomend punk fans reay laugh drug reay dont drink much used trying cut older realised liver transplant probably next couple years sti beer fix thing late never gue single soy ladies lol going girl caed caroline weve together month awsomely hay know yes love wont say much she get scared writing probably slap anyway sti shes beautiful sexy smart fuy kind caring soft far perfect every way lol pride joy esp string electric guitar never stop playing rarely caught without guitar hand best friend dan plays hopefuy going baist band dark halo started together left another may returning band knows dont think reay anything else say physicay taed dark hair blue eyes slim strangely hyper active theory short much sugar make explode yep regular biologist thats peace blatent pitake townies',\n",
              " 'urink hot dude walking nice  urink',\n",
              " 'got barcelona didnt custom form nobody gave one think might come meals didnt order got custom iigration window told man didnt one hay one lked paport got dont stupid face stamped said didnt form except airline computers even lile past second day spain technicay ive hour far set long apartment huge side view major strt one end rest city two guy previous course sti said one best apartment available fairly spacious huge wden closet entire half fied clothes girl apartment window lking aeycolumn hard explain  take pictures met one guy course ben woman showedaround city tonight said apartment per month average wage barcelona per month gym membership per month spanish cla per month money stay one two month job course either find something move elsewhere like poland lking increasingly likely might able find something exhausted slp tomoow going get run shoing try get schedule however even though wednesday doesnt aear alone late strt cafe fied people lking fresh rested ready going slp lile work tomoow got number bldy nose plane think combination dry air fact blowing nose time since sick ridiculous kept bathrm get klnex toilet paper wad wet bldy tiue paper found use though hid paport waet ier pocket cargo short put wad bldy tiue aeible pockets thus ensuring pickpocket tried get pocket heshe would find biohazard found grand lodge spain today help ben jey koskinen sras friend almost completely unmarked tinted window imposing interior pked inside truly beautiful sure tomoow going slp',\n",
              " 'urink doesnt like damage doe back neck hurt lking pic urink',\n",
              " 'gary mowed lawn today decided walk kid strt enjoy suy day ',\n",
              " ' shark kicked flame final score series tied next game tomoow san jose lulu',\n",
              " 'take granted know big deal making sound reay doesnt bother hurt much sms know would let know else thing get worse future told dont talk everything sti havent cae yet pied decided dont weak reay want love know right',\n",
              " 'crazy bad year life time something way suosed yesterday met doctor get test done  cancer gone sti treatment going suer depreion result came back everything great hay finay fling positive leing radiation final checkups done even though given positive news knew next checkup one going beer deal done much confident beaten yip tonight plan celebrate girl ruing around knew renting house could much work back grind finish day explain excited hugs',\n",
              " 'goa vote would vote republican democrat anyway heres lile fun enjoy maer plan vote urink  jibjab com roxygirl',\n",
              " 'stupid schl progam kid haens whole miletown spring schl dicides want try something kid schl mean thats half schl lein kid miletown mean reay make mad literature today esay thing think idea dont want though dont woied something thats dont hate stupid nerves think ment elf hate idiot  much like one comen sense aoys make mad normay people adult dont say anything  hate blunt bold would rude adults one home mom shoing dad working yea saw play today meaning rainbow rosemary ceidwen except fact didnt whole thing cuz woied stupid thing almost went milebey mom dicided last minute play literuature rainbow ceidwen went eentel alternitives pins  fuy one dre like scare rebuplicans one ceidwen bought ndnd know one wanted said lets say pay aention athority something eect lot ones world didnt suck wed bumper sticker',\n",
              " 'urink admits graf claim untrue downing strt admied observer repeated claim tony blair body found iraqi graves untrue corps far uncovered claim blair november december last year given widespread credence quoted widely published including introductiongovernment pamphlet iraqs graves grist iraq hay place',\n",
              " 'played game play game important whether win lose people would say course people poshatcher world would mock someone said would listen answering used play lot cricket suose main hoy much like poker however game became oiks respect oonents teaates lost interest  sound familiar back cricketing carr quote reay wasnt regret losing game relegated season none maer regret bent umpire never anything sti embaaed cheating went benefit got point would never aeal unle stone plumb wasnt enough reasons excuses didnt stand guy eighty think lifelong member club picture exaerating fact paed away shortly left club anyway thats regret think time oonent would much cacheats couldnt say anything true hang head shame hope back poker playing clearer conscience incidentay thing regret though lot didnt stop woying people thought whether enough whether would droed next play best nut anyone thought sti working geing though',\n",
              " 'know chiqui pineda remember day came life asked name beautiful smile life started change wake day fling alright right side make thing work fine chorus know nded someone like life theres empty space heart came right time life  never forget brought sun shine life woy fear gue reay trying say everyday someone like come way word expre much love',\n",
              " '  talkfirst blog sums stupid dead linkgue friday sum stupid long wkend thingy even tho friday isnt part wkenen saturday soa first win season stanton scored lmao kick dat like first time ever den rushed chathpstupid train wasnt ruin gordonmin busdenanother min gordon train ended oclock seion soldkied time went timezone played nething waste energyden ate case drink rndm rite tastin mango pearl tea stupid machine broken dey dis dodgy curvy lid thingy instead proper sealy thing datget poke thru sigh take away fun movie avg cut heap didnt expectgud neway afta church went chat shop detail unecearyden came homebludgedwatched legay blonde suoseoin hwkden monday qun bday dbatin  friends first time like wks bin ableco stupid compold episode decidin whether storm castleshrek',\n",
              " ' back usa couple day heading canada saturday mornin havent fishing days theres ridiculous pile shit desk plaing finish gaey august iue leave vacation friday none bodes also today one year aiversary dirty jerz june last year day tfm none editorial corades celebrate wheres cake sad day bolady ever honeymning forever sad lile man lonely cube farm sending request someone help find song wayfaring stranger suosedly jack white covered cold mountain soundtrack cant find audio version online find link song burn  owe constant blog aegiance',\n",
              " 'many thing life dont understand try think self understanding person something dont understand try hardest obtain knowledge nded understand smingly non unstdablene certain situation person thing many time avail thing understand one modest person always dont know maybe modest gene inherited mother know many woman like flaunt stu wearing tight clothing leaf nothing imagination many girl gue might workout watch eat artificial enhancement know mean maybe  thier right thier duty show maer much objectify female body even though dont agr would never wear clothes woman wear suose part understands part dont understand however woman gym watch eat reason wear tight clothing pant tight exce amount fat hang rim buon top strethed tight buon though could burst second comfortable always adjusting clothes puing thier shirts puing thier pants adjusting sms thier clothes dont fit cant understand anyone would want wear clothes dont fit cant understand anyone would wear clothes think people arent aracted ive asked girl arent fling anyone know arent size stop trying get size fits besides beautiful woman know wear size',\n",
              " 'ack david informed repeat today',\n",
              " 'trying  blogro cuently sucking hind teat update moved teat left',\n",
              " 'urink harpers wkly may united states united nations ruia european union acting coectively quartet presented israel palestine famous road map peace president bush promised reveal palestinian acquired prime minister independent yasir arafat suicide bomber turned british citizen responded confirmation mahmoud aas prime minister blowing nightclub tel aviv leaving body part scaered along shore day later israeli tank invaded crowded neighborhd gaza kied palestinians mostly civilians including twoyearold boy hunt hamas weapon smuler unicef reported since begiing second palestinian intifada israeli palestinian child kied american soldier shot kied iraqi civilian demonstrating oupation saam hueins birthday day later another demonstration held protest kiings soldier shot anonymous bush administration oicial begiing speak candidly president rationale invading iraq saying iraqs potential military threat important strategic location presidents desire make global showo american power democracy oicial continued play poibility significant weapon destruction would found iraq one senior whitehouse source speculated might turn precursors said saam huein couldnt put together long inspection going president bush landed aircraft caier sbviking airplane clad military jumpsuit word coander chief printed back informed aembled sailors said best country war iraq coander chief served pilot texas national guard vietnam war told reporter briefly flown airplane flying said publication mentioned presidents long unexplained failure report duty period daring aival widely hailed top gun moment nbcoicials confirmed tom cruise nicole kidman aear future episode friends wiiambee author virtues death outrage moral compa among bks revealed highstakes gambler blown miion last decade playing highlimit slot machine video poker bee acknowledged never condemned vice gambling somebody tried sht hugo chavez president venezuela secretary defense donald rumsfeld declared major combat afghanistan rumsfeld also made victory tour iraq photographed autographing baghdad strt sign soldier aarently taken souvenir researcher england discovered mouse construct signpost leaf twig geing lost consultant concluded davisbeenuclear reactor ohio shut year ago discovered acid nearly eaten reactor veel sti problem safety culture salomon smith barney mei lynch credit suie first boston several firm agrd biion selement fraudulently enticing miion investor buy biion doars worth stock knew eentiay worthle enron mci company overstated earnings order inflate value stock proce filing hundred miion doar tax refund government profit fraudulently claimed tom ridge secretary homeland security acknowledged number former aide actively loying denied would swayed personal coections day later ridges department aounced establishing ethic rules german archaeologist working iraq aounced might found tomb gilgamesh bush administration proposed giving central inteigence agency pentagon power iue administrative subpoenas personal financial information american citizen without court aroval aorney general john ashcroft revealed justice department used secret waant time last yearstate department complained report canada contribution war teorism hampered obseion civil liberty personal privacy canadian law regulation intended protect canadian citizen landed iigrant government intrusion sometimes limit depth investigations united state coiion civil right ordered pay hispanic employ damage discriminating president bush iued proclamation declaring may loyalty day prime minister john howard australia rewarded countrys service invasion iraq slpover presidential ranch crawford texas served grnchili chse grit suer united nation employ lted restaurant organizations headquarters new york fdservice worker staged wildcat strike chaos wild something war scene said one witne everything even silverware india said would rstablish diplomatic relation pakistan nepal opened negotiation rebels united state made truce iranianbacked gueia army iraq mercenary ivory coast murdered rebel leader told lay weapons reported hilary rosen ceo recording industry aociation america agrd help rewrite iraq copyright laws pilgrim bought ticket sthe pope visit spain given mcdonalds hamburger medium fries medium drink either icecream sundae ale pie also included ticket price pilgrims bag baseba cap rosary copy gospel aording mark new study estimate shadow economy largely driven marijuana porn labor iegal alien constitutes percent american economy automobile poution damage human sperm italian scientist found tiue enginr boston suded growing penile tiue contains nerve ces exciting extends work logicay several directions said reconstructive surgeon kroger albertsons agrd label farmraised salmon consumer made aware fact salmon naturay gray dyed pink boston city council decided repeal law mandating indian city jailed scientist discovered fish pain copyright harpers magazine foundation',\n",
              " 'power nothing without control dierence six pound make teis racquet restrung lbs last first outing court today hafta admit disaointed first played six ago disaointed enough question bought first place today like entirely dierent entity able impart lotsa spin onto boy doe hiing hard landing court least power precision hafta work precision part day geing used racquet playing teis guilt wasnt woied one projects',\n",
              " 'gnome tired fas aslp keyboard working  day post schedule tomoow anyone interested going show  find directions show house around foow ride say  take bring home gnome give direction inside car hopeful',\n",
              " ' moving page gdnkinkys server  anything else want  claified live web page prey much finished chas',\n",
              " 'found thursday morning job end sep',\n",
              " 'heo everyone soy taken long post moved internet iues weve purdue went university iinois chicago social psychology rob went university chicago molecular biology grad schl started teaching psychology statistic valparaiso university rob postdoc plant biologyc several year couple begin first year profeor moved chicago valpo bought first house cute best feature close campus walk work dont kid yet two cats got maied reay wanted avoid huge weing would take year plan family smed intent big fiasco solution surprise weing rob told family wanted throw surprise party finished masters family plaed great party showed yeed surprise got spring news geing maied right friend family john mishers dad become justice peace day could perform ceremony perfect oly enough ran amy snearlys sister kathy said amy living chesterton husband steve two adorable lile boys amy teaching grade schl michigan city however dont email are phone number unfortunately cant remember steves last name either also info michee jobin might help maied david engen worked eli lily indy last heard two kid david dentist since practicay living chesterton sure able make christmas reunion would great ',\n",
              " 'heres latest obseion decided digital camera yes known get one sometime thinking reay great one would put debt whistles ive figured buy inexpensive one know  get pay  sti save beer one lking spending around heres research far urink one cute love yah stu though urink one like actual camera reay liked spec urink one saw picture kodak always name trust like urink one two favorite many didnt even make far ruing urink one urink  cameralike pocketpencil like',\n",
              " 'sti mean nothing people dreing yeh anyway oasion party dont usuay party hey surprise two ended pied mostly haens nearly time mean twice year always reasons disapointed one guy would like tonight didnt show club went man daydreaming even dancing techno music daydreaming intensified lately mean going make mistake like direct fast lets say perfectly aware could haen wont later',\n",
              " ' bloing set mainly way many adventure share goes',\n",
              " 'write moving help mum yuqi jinbo cleaning house packing everything today tomoow tuesday moving sni weve got day organise things china next saturday',\n",
              " 'would like know come oice everyday nothing totay understand geing paid yadayada damn boring thing ever experienced dont think alone teacher ruing organizing filing yeing hai aropriate dont much either minds bored dont trashy novel read mind unseled talk act busy answer phone exasperated iashaimasuka ploy trick foreigner thinking important busine take care maybe wrong unfortunately contemplation doe make bored wiing read trashy novel luckily abra introduced bloing might aicted didnt start earlier therapeutic besides fact every sweat pore body working overtime also wishing could lay secret slp back schl dont get wrong enjoyed time sometimes cut boredom knife one question left pondered blogsters saw walk schl morning japanese people white glove driving activities',\n",
              " 'answer friend dont another answer friendships headed wanted lover word truly cared sti path croed wrong time neither oneready hurt much   reaction face also hurt hear anger shade extremely saened rather upset universe caot dangled face taken away suenly rhyme reason whats point wheres leon even try someone could potentiay love cicrumstance pas drive fumbled ice creams ground swt candy cone crumpled',\n",
              " 'kurt bought sci probably read next refreshing read story rather dream analysis sex techniques canadian penal system dont understand folk read nonfiction straight unmigitigated information nice thing lack something dont know reay rather sterile compared lovely meine fiction living life undead definitely benificial youre low grade agoraphobe ever want quasinormal thing like visit post oice speak human saying want might nice option maybe doe anyone know detriment slping day night bad body maer geing aorpriate number  maer time day night sister say something along line one tendancy eat prey piy stay late hadnt noticed major weight gains speaking dear province hoing pol shes going back city draing boyfriend number two okay thats fair want humorous pikey second boy pols live chez moie daie interesting anyways theyre hopefuy going come spend time get know pia people matrix sunday',\n",
              " 'blob goa blob mum phoned aswe kind scared  thats sayplz put link fole story muchly',\n",
              " 'let  start monday deposited check hung guy named george carlin thing tuesday put resume online went bank withdrew money pay star lile bit spending cash paying kel back money owed caed arlynd left lile voice mail caed found coming tomoow coming bringing rest stu lile ease maybe dier something know read later upset dont write  never get chest ive ask came back nded space homesick event siing couch ruing others enjoying tenderne forgot inside told realized caying material thing relationship caying emotional side though liked thing far material lacking emotional stu busine partnership relationship back rub stu reay starting relax new apartment realized last apartment wasnt furniture pot pan dishes everything wanted bring wanted couldnt even dreer forced computer cause oice merely residing rub continued mind bunch minute rub say put hand cock please eye contact nothing suosed reay turned yah baby problem man ever done  love geing old reay fast asked several time degrading especiay nice night',\n",
              " ' last night laid bed tired caying stu  turned balefield sorts least fiay closed four goblet fire hay poers fame first hour independence spent reading hehehe pleased done instead indulged thing want know bought cabinet electric fan already know chose sit turn page pages choices began goblet fire chse hay aendum thr schl champions also chose stand take consequences even choice first place thus chose live away company tatit ninin mehane knowing fuy would give elbow would also created distance friends though would lovelier convenient stay ladies chaenge able stand sms strong indd chance something leing admiedly tough choice mean could easier alternative gdevil kind gdgd thing point made decision wasnt even sure one beer know take road know take another twist fork sms comfortable thing maybe want woke morning lile skip chest surprised new ceiling was even way back touched bed sprang know life never made choice stickingfuy chose move month countrys independence coincidence  choice',\n",
              " 'urink wrong many ways federal judge ordereepartment agriculture identify four company performing openfield testing geneticay modified crop hawadistrict judge david ezra wednesday said government must reveal location environmental watchdog group earthjustice center safety nonprofit group track production technologies group sued government november aeging agency failed properly regulate geneticay enginred crops government biotech industry argued public disclosure site could lead crop vandalism corporate espionage trade secret disaointing said lisa dry spokeswoman biotechnology industry organization crop location made public would real detriment continuing busine area michael rodemeyer executive director independent pew initiative biotechnology said strong argument side disclosure iue certainly way make information available consumers said clear crop location information reay going help people understand safety iue course going help people understand make easier ecowingnuts locate targets guarant court ruling stands within one year release information least one facility vandalized least one shut due security concern costs people interested engaging sort rational discourse want stoed costs aarently legal standing throw monkey wrench research program want time  whats next pharmaceutical research medical devices are hunting licenses related post ',\n",
              " 'nightmare christmas urink movie belong many dierent outcomes brought urink quizia figher fee urink ultimate beautiful woman brought urink quizia youre element fire strong independant fiery personality obviously dont ley others puch around like charge dont care people think fact like stand youre probably shy people first energy could explode given moment like laugh whether admit like fight youre peronality wild untamable youre beauty physicay fit lile sexy prey face urink whats element girls pictures brought urink quizia hand holding like constant physical contact special someone dont want take thing quickly urink sign aection brought urink quizia heart red urink color heart brought urink quizia paionate lover  always lking relationship caot live without lover must paionate want partner melt heshe try take domination dont want relationship without paion sexuality play big part first moment himher one important something caot explain first moment everything must fix paion disaears disaear beer leave  love restrained please vote want know think quiz worked hard always meage improve quiz  sure write back urink big love test pics girl boys brought urink quizia',\n",
              " 'omg gay tripod taken site uploading puing blog damnit goa find new server goa get beer music argh goa bite tripod lol',\n",
              " 'reay wait  undertaker reay hope beat teh holy kane going bitch davids party wait excited party favorite boy wrestlemania could beer think victoria goa whp shit moy hoy thought girl plain psycho',\n",
              " 'always haens someone went first time casino walk parking lot one would witneing train wreck particularly violent movie like headlights hit order quit ahead bad blowing money gue ahead would bet wouldnt left lost anyway would stuck  game would kied god place make much money never coming back next time come back  know quit first overwhelmed afraid bet whatever money might consider already spent nice dier something gone pocket doesnt mean anything want stay first walkthrough sele game time roulee who doar whs doar pause play slots whl cas whsh doar whsh doar whsh doar whsh busted gambling isnt fun doesnt give fling money spent want know like gambling argosy imagine seizure mile burning tobao field crowded old people someone robs experience whoever friends family ect ride home experience aows humanity even beheading saudi arabia mean people busine whatnot rational people understand something haened beneficial think human proce realize something driving away realize something ride home talking realize number survived exhausted survived glad going home surviving hope experience though pleasurable experience one place leaving fun relaxing aiving real world awaits real predictable manageable risk await youre back youre back control chse whl',\n",
              " 'first may canon suer otherwise could boow xls work leave soul deposit second first idea shot caed camera vehicle driving next subject vehicle though couldnt whole film could nice believe cherok would suort camera man equipment make sort platform stand could provide neat cheap driving shots third inherited joke though lot spoken entertain idea mph investments purchased nice tripod fluid head dont know ready invest camera ive already mentioned option extremely excited',\n",
              " 'got back schl hour ago sat ocr mechanic paper didnt like except last question one thought get stuck revised one like crazy question turned worse sigh gue today wasnt much perfect day jiery prxam nerves reay wasnt day heres interesting article urink click courtesy brandon regular sex help student german sociologist werner habermehl say regular sex help university student pas exam get beer grades habermehl university hamburg said team tested student sex found regular sexual activity significantly increased mental capability found celibate student found harder make grade decreasing length time nded complete course student healthy sex life also received beer marks said habermehl research caied together german research institute gewis gile sigh anyway cuently chaing brandon talking mechanic exam rach online talking exam read tagboard get vague idea shes fling anyways going kaka fizah tomoow watch hay poer brothers might join sure mting khalid maybe hadi though best friends back yay reza mustaa back  goa  friday  one year sing flesh lets hope hes bulked ehe mwahs mied babyjoe hugs ive got lot mind right dont know hurting much cant reay start pointing fingers right thinking promise ive given people broken gue thats dont bring make promise anyone know point cant everything like burden right head hurt like crying right remember dating guy used world always wondered girl actuay line way gue guilble reay going around world result love blind everything meant everything turn around slap eventhough say slowly moved fuy geing know always think back every thats part life reliving memories ive got beautiful friends mean something yet sti caot  reay eyes dont reay confide people much even closest friends find hard let people  haens inside morbid thought dont know trust people much anymore  almost four year ago saw life shaer front heart broken know point time never trust anyone much used blegh wonder sti time night think bed ade rach wonder girl nyah wish would use coenting systeean thats right hehe hugs put ade people taed said put god two',\n",
              " ' geing spaed find true love email junk mail folder think theres probably lot money made single sociay awkward theyre paying website help find match done eharmony stu past dont know saying maybe theres lot single folk fun might instead siing home front computers reay shit peace',\n",
              " 'herbal tea drinker beware love lile news teaser urink msn put sent mail page morning herbal tea linked seizures regualr consumer herbal tea course caught aention almost caused lile panic click link take urink article msnbc turn drinking japanese star anise tea dangerous aording fda woy nothing ive never even heard japanese star anise tea let alone consumed people idiot give news story headline completley unrelated story honestly thought going stop drinking herbal tea avoid seizures gzus',\n",
              " 'think going  catwoman later cameron dewey havent dewey forever interesting lol news got trunk big awesome also got maker make single cup come cute love mom got mrs purse wanted yesterday  movie',\n",
              " ' take urink high schl stereotype quiz urink angel',\n",
              " 'first oicial post new creative writing blog decided back archive originay wrote skit way back high schl along first fuength short story friends fire first skit remember writing program caed ice cream show inspired show went acro country ice cream shop detailed histories menus quirks one ice cream shop east coast tradition using ice cream lingo example among male employs whenever would say vania meant beautiful woman walked idea expanded turned hilarious oensive skit year later skit ended performed part box yearly sketch comedy revue northwestern university produced africanamerican theater ensemble one skit wrote made year show skit year posted urink fiction pre site wont reposting thing fiction pre site blog however link thing blog future hope enjoy bit sketch comedy original choy form warned sensitive edgy humor dont read sketch seing ice cream shop time daytime opens shot averagelking ice cream shop thr worker behind counter serving customers customer leave man aroach counter female worker welcome begots ice cream shop would like today man  would like double scp ice cream cone please female worker kind ice cream would like cone man vania female worker coming right two workers hey man want two crackers head stick man surprised excuse didnt order female worker ordered double scp cone vania didnt man yes female worker shouldnt problem want ice cream  cup cone man cup cone please female worker okay sir workers hey get two crackers head stick pit man saying want crackers heads female worker soy take orders use special lingo counicate would easy worker understand male worker come side counter ice cream cone male worker double scp cup cone vania ice cream anything else man thank female worker that man pay cone huiedly leaves woman enters male worker welcome begots ice cream shop help woman heard rose flavored ice cream true male worker yes real rose petal woman  take two scp cup please male worker coming right male worker hey woman want two lesbian bed together woman nervously ordered rose ice cream cup didnt say anything two lesbians male worker sexual orientation doe discriminate begots ice cream shop serve everyone equay regardle race color woman get disgusted leaves man woman enter man must africanamerican woman must white male worker uhoh come chocolate sundae vania ice cream man say male worker welcome begots ice cream help man relaxes walk counter man know must read mind came get chocolate sundae vania ice cream givetwo please male worker shouts worker give two simpsons man want toing sundaes man woman want sundae dear woman nuts thats male worker put big nut one ojs man male worker angry problem male worker problem sir man angry yeah language using shameful male worker language sir man know quietly big nut coent male worker sir gay man furious son woman come dear leaving man woman leave huiedly male worker soft serve father son enter store father hey jiy dont get ice cream son day want rainbow sherbert father female worker get cup rainbow sherbert cup rocky road please female worker course sir back gie one gay pride parade one midlife crisis father said cup rainow sherbert cup rocky road ice cream maybe got confused female worker thats said sir cup rainbow sherbert cup rocky road ice cream voice back say first one female worker back slowly one gay pride parade shsh thats get working caramels father jiy going get ice cream somewhere else exit male worker slow gue busine wont pick vania ice cream whied cream comes female worker republican national convention come town end urink read',\n",
              " ' agitation contest kind give rebound spirit set time lord byron',\n",
              " 'day would perfect almost perfect oicemate giving cold shoulder dont know whats wrong lately ive become tactle nowadays mean always frank frankne lile bit dierence tactle one first oicemate tactle many instances let first friendoicemate mine dont friend workdont ended together kinda oosite get along sometimes cant tolerate dont know laugh peoples imperfections time somtimes think much already kinda ironic actuay coz saying shes ugly everything complaining laugh people anyways relationship two exact met text meaging met first boyfriend person though second one knew year sti havent met theres also another guy change kinda like havent met shes kinda inlove two guys told frankly shes guy rich thats dierent smsed guy year eventuay became  later found guy along lying name maybe aout brain cancer dying eveything also found girlfriend isnt stupid mean never ignorant something year thats long enough find hes lying theres guy met net hes norway hes half iranian admit jealous guy almost eveyday wake even  hour morning dont like braing like shes indirectly teing guy  beer ryan term moneywise told guy oered buy cephone hes coming month etc last laugh type decide chat guy try find much sincere devoted coz told guy teing love doesnt chat anyone anymore stu braed also fact guy told never ever ive plaed ive pmed guy newlycreated asked knew coz friend list tot goa answer coz ryan used ignore anyone try chat guy told maybe isnt expreion interest chaed first doesnt interested tried reay charming gue liked lile end asked number ive talked twice far bad use number time number gave ive talked short second time lasted mins gue sueful miion problem get  coz want lose interest stupid friend mine reay piqued gue asked guy fling told maybe  asked meant told must know shes sincere changing mind like you ahead game gave expensive gift biest aount whatever teing shes inlove one come around fogets old one reay dont like girl like thas fighting friend province cant make mind want anyways gue got mad said told shouldnt judge coz dont know yet thats bushit coz know enough know right shes materialistic laugh people aearance judge people aording rich earthly stu yesterday havnt talked much way used tried nice teing going home yesterday ignored morning although said morning whatever dont care hate much right btw ryan know flirted guy chat havent told phonecas though dont think neceary anyways guy liar girl shes phone hes goa give world',\n",
              " 'urink stewartkoel pued sufergirls blog urink slate coercial break something unforesable haened nightline anchorman showdown began casual mediaonthemedia piece turned fascinating minute referendum old new way lking meaning purpose television news oneonone chat deserted convention flr days festivity ended koel lowkey dignified whatmewoy way got medieval stewarts  start koel made secret distaste stewarts show lot television viewer quite frankly comfortable get news daily show first chaenge stewart say democratic convention like product launch like product launch product launch stewart replied procded outline take keys nomination result yearlong proce corporate branding john key lemon prey standard line argument stewarts generation reconciled postmodern condition constant target marketing spin koel must sounded like shrest nihilism interview procded became clear gulf lay stewarts koels view world heartbreaking watch like eavesdroing brother nice uncle pursue hopele ideological argument thanksgiving dier unexpected thing used haen world dont haen anymore continued stewart maeroactly paied impatient koel sure stewart careful separate daily shows mandate real television journalism know role dancing monkey dodge didnt satisfy broadcastnews interlocuter reality joke lot people turn news stewart countered stake debate two men generation apart age stewart koel host version latenight daily talk show cuent events clearly koels went far beyond question whether folk watch daily show yuks longterm viewer would contend course anyone cant dierence stewarts ouhere satire actual investigative reporting dumb understand real news anyway bale network anchor nothing future journalism koel venerable holdout era thrnetwork system stand beleaguered notion objective truth journalist wrest politicians protect satirists bring american public stewart hand find dispiriting broadcast news become complicit prespun naative coming left right coke pepsi talking beverage truth yet koel far naive quickly concedes conventionasproductlaunch concept one like steal sometime stewart jaded genx cynic one point even encourages koel use buy pulpit nightline speak truth power say thatsdont humor wish credibility gravitas wednesday nights discuion came abrupt end stewart clearly ready talking told polite brusque koel youre finished mind stewart crushedout fan like hear lking foxyfine casual black sweater jeans day lking forward round two thursday koel scheduled stewarts guest daily show koel never showed absence went unmentioned lastminute scheduling snafu anchorman bld feud daily show oice find went unanswered  leave speculate one think news reporter start first doubt daily shows audience get news daily show fact think day age would damn near impoible anyone get news one source gue people use main source information wouldnt alternate source daily show least idea whats going world find daily show inteigent practicay guarantd laugh yes sometimes learn stu fact think one biest strength show pick interesting noteworthy story mainstream medium doesnt cover story otherwise would crack dont mean back black segments jon point koel could use power paot back theyre told say power chse day objective sms mean repeating talking point without reay analyzing let alone daring question anything mainstream medium practicing rigid selfcensorship least last years watch daily show smemile way they people cuent selfrighteous',\n",
              " ' sti schl much puy leave dont want nigeed either',\n",
              " ' dying lack slp got woken today cay chair large table back garden halfway slp',\n",
              " 'train child urink bible gateway proverb niv last night tucked daughter keisha bed something haened blew away said day want pray god since wife jeie usuay initiate praying aslp naturay surprised encouraged coent prayed together',\n",
              " 'urink may mike  christina beloved love whole heartedly share sadne haine remember life urink',\n",
              " ' poem included writers almanac today honor audens birthday share erma bombeck hin anais nin funeral blue stop clocks cut telephone prevent dog barking juicy bone silence piano muled drum bring coin let mourner come let aeroplane circle moaning overhead scriling sky meage dead put crpe bow round white neck public doves let traic policeman wear black coon gloves north south east west working sunday rest midnight talk song thought love would last ever wrong star wanted put every one pack dismantle sun pour away ocean swp nothing ever come',\n",
              " 'jesent artice launch magazine regard radioheads gray nominations radioheads kid nominated grays album year best alternative music album yesterday january however bands member recently toldaward show arent exactly favorite aspect music industry druer phil selway baist colin grnwd told phil amazing music industry film industry area actuay congratulate public spectacle colin youre right done private like masturbation reay shouldnt reay shouldnt done public theyre two industry jerk public know nice',\n",
              " 'pws playhouse finay coming urink dvd',\n",
              " 'evaporated ben fold five ive kept ive thrown away ive ended glary random day thing reay cared left along way pent proud woke way late fling hung old sun shining bright walked bareft road started thing old man sms men waa get car anywhere stand sad cant cry cant  ive done god done dont know numb man dont thing cause smile busine day indierent ive faith theres soul whose leading around wonder know way poured heart poured heart evaporated  blind man canyons edge panoramic scene maybe kite thats flying high random dangling string slumped vacant head strangers sure back home think ive lost mind',\n",
              " 'warning sentimental post ahead read wish lile mushy reminiscent warned today saw kid going schl thanx major aident edens paed grades mile schl junior  schl drfield kicka ftba field btw watched strule heavy bag hang friend outside schl buildings couldnt help smile almost mied lile agedidnt drive schl take bus walked cuz block away remember ruth croing guard knewteased brother alreadylate kno always wale bit cuz layer frost biting scary thing lile frost could bite biting hurt dontcha kno high schldidnt take bus unlewalk instead sometimes taking pace bus get droed get something eat going car pled bunch friend yeah work also voeyba practice basketba practice track practice practicay year round morning reay wanted ruing deb think colda weather nuthin like year ruing snow make body think time get shape around time many day glad get high schl back bad time smed faded time shine almost golden hue day hanging lunch ever get pickle ceiling roerblading thru schl cant believe stair things chiing haway cla started second flrha always belongaf far concerned corner mine forever etched memory day wish could revisit  security sense facing world friend would stand anythingnever knew would drift apart people would die would year later realize nothing sms eentiay youre trying distract impending end find maer  perhaps end per like reality youre suounded people friends would reaynded something big reality youre lucky many childhd friends overwhelming majority yeah also somethinglearn dierence kidzhang kidz you talk yrs doesnt diminish importance kidzhang cuz without hea bored lot time impt figure goa long haul make sure dont lose shule theyre impt ones diamond rough kidz lifeknoive told ive felt one time another probly aid alcohol love every one confidante best friend bridesmaid rate hopefuy boston girl relative childhd playmate tnage angster teaate clamate countle others important dierent way thankful youve nded grateful kno you luvnhugz',\n",
              " 'okay waiting get picture edge  change',\n",
              " ' bad pet owner ran dog give broke six day pay day hope gas last argh goa teach powerpump barnes finish care plans count five month piing thr month later becomen aka real nurse goa aloha',\n",
              " 'heo everyone kind inebreiated decided come hear say heo everyone thanks darth juaa coming today fun please everyone come take brs bit many friedge right okay night',\n",
              " 'although sti upset yesterdays haenings today bit beer morning kims phone woke around pet dear pchie aroximately minute talking dear father haened last night showered got dreed rode kims eat lunch subway met courtney  got std caused huge scene courtney first courtney mans talking want turn around told man wanted lile mayo load expreion face greatest thing ive ever shes geing drink step big pule red stu scream god  heck every single person place lot people turned stared fuiest thing ever went mcdonalds get ice cream french fry went back kims started catch child made ckies kim dentist procded courtneys house great refreshing water fight oneganged one point got drenched mean dry spot great long bike ride try dry didnt help ice cream came home wonderful family yes great day besides dealing yesterday busine life hopefuy mike deneils  okay sha going must chat dear diana',\n",
              " 'kid crack head picture clearly shows boi brown daughter whitney boy cant poibly smoking rock maintain bangin figure like sure easy pick nasty sandwich aiction much drama going found brownhouston household drug aictions domestic violence rehab runin law shiy albums enough drive kid fat damn girl lay gravy watch beyonce',\n",
              " ' dance boring bad sad diapointing lol played linkin park everyone got dance flr likecant dance losers course danced lil area wasnt worth lol alrighty',\n",
              " 'thr new thing finished one cursed sock lucky favorite color otherwise bernat sox yarn hot color two cro stitch pieces victorian valentine jbw designs big fit scaer washed digital camera since photo inside bad lighting plum bey sampler bent crk designs love lile flat toed bird sti pluing along pink sweater purple bole anklet sliers pic since cant get kniing bag camera went texas state fair today draed dave around fiber art building nearly hour could check stitched knied items realized dont enter anything judging sms reay arbitrary reay gorgeous diicult thing got thirds reay soso stu got blue rions must something cant  outside gla cases dont want put thru besides exhibit designer think knied crocheted afghan must held something extremely heavy blow away exaerating diorama husky mushing complete wden block covered fake snow top lovely white afghan dog made scrap metal armadio made nail covering blue rion wiing knied afghan could barely  afghan made even stupid exhibit case huge empty spot afghan could hung thats want spend load time making something beautiful finishing perfectly handing bunch experts stick rocks twigs maybe big block chevy something make beer',\n",
              " 'gue work backwards today step cla universe doesnt reay let get away anything faing clearly payback thinking  completely uncrdinated girl lking begiing cla thinking maybe shes bit mental two minute later flr stumbled step recalcitrant thankyou universe leon learned people gla house  generay test bit routine disruption one mainly whole housesiing busine generay fine begiing wonder neighbour think constant toing froing premises  ever find ive never sign whole two ive one sign nne like marie celeste cul sac however privy sound neighbours particular sound crpy eraserheadtype mewlings baby whos aroximately two bedrm cuently slping gue thats bit harsh sure baby completely delightful however sms cry incredibly iegular intervals although never constant long period time lile unseling thing living newish high density developmentland find jolting awake sound cry baby sms emanate inside iediately think baby cry must get take second register someone elses housec baby mine must admit prey okay whole domestic front generay forte clearly inside home lived whole life wonderful parent whove prey much got lking house thing covered especiay father mean resource would prey much blitzed freakin burke term gardening prowe tend forget outside homes water lawns unlock unfamiliar gates swp away hideous creatures mainly ive never reay prompted phone sister today ask long doe one leave sprinkler ruing smaish patch lawn answer like doesnt watering anymore woman said prior weing yes hay everything inside house everything outside house thats going put washing machine vacm cleaner kitchen backyard sister claic also replace smoke alarm baery realised someone said replace smoke alarm baery bping said bping thought bird outside thankyou universe ensuring learn things clearly destiny spinster mean incidence crop therefore  know exactly next time',\n",
              " 'fuy sometimes predict thing without realizing inherently know haen future even deny make believe something else found true thr dierent people past sometimes people dont listen enough cuz would hear outcome life screaming multiple ways lately ive thought fling almost  fling almost wrong today realized wrong merely trying figure whats going trying figure much growing insane mother teing shes proud ridiculous living like living coege  money listening friend talk want move away midwest get understand fling like merely pushed adventurous part back left starting stir scaring sometimes back past year like youve grown much time back sti traed sti peling uphi without knowing fuck going want change almost doesnt haen burn bridges breakup friends say gdbye someone love gdbye everyone love make haen mygoangself fuy day relatively turn bad mins want another day',\n",
              " 'wkend erics mom came visit nice wkend friday got made home work hung deck bit got home chaed bit dier melting pot loved fun get share new experience dier headed walmart walk deert went home watched movie aslp decided crash evening saturday eric work quick  got pushed back however met spent time scrapbking store nearby doa wasnt fling headache though eric back oice went home nap wasnt complaining love nap eric came home wokeshoing went car dealership advertising deal test drove chevy equinox interested car didnt want subject doa evening haling decided salesperson monday discu headed downtown check rib fest parked building started walking festival big storm came though duck covered opening building wait rain started leing decided head back car skip festival went texas roadhouse  drove another dealership price suvs decided browse babyus cant wait get register much fun starting like belong store saw bier bey mine count also decided theme babys going decorate ducks boy paint blue stencil yeow duck girl cant paint grn either way plain yeow being make yeow curtains use duck item decorate reay cute also stoed baby depot inside burlington coat factory closed headed home watched another movie sunday morning got around visited doa left around left eric went car shoing went back toyota dealership test drove used chevy tahoe lot price lked nice smed like vehicle couldnt quit thinking gas prices moved toyota highlander love toyotas driving decided paperwork eric leasing car ran payo versus araisal negative equity close knew might deal amount put highlander every suv wed lking price range decided suv may viable option right drove dodge dealership ended buying intrepid used sti waanty etc got great deal also prey loaded leather seats etc reay nice ride erics hay family cars set thats wkend reay excited nursery havent reay duck being paerns think idea fairly original using solid color being geing theme places going fun reay put nursery together want mobile though havent duck baby stores ebay research though found one biing thr day mine another note get  best friends excited thought thing turning around erica baby front like today may changed darn know shed great mom want get start havent got update girl  sing next sure  completely caught time next one friend cant come wkend get together told may moving plan starting family arent going put eort going start leing nature take course next month want friend pregnant would great thrcould pregnant together month least beer end tonight  update anything haens next you get scp gwo chicago',\n",
              " 'daf wishlist link doe work try find amazon link way doe anyone know find ringtone composer music',\n",
              " 'last  rufus night whole lot mayhem excitement concert beforeafter broken series high low light fuy areciate fun time star patrick car containing mother sister got stuck heacious traic stuck said traic picked carload lile homeyslice lred catcaed procded foownext miles counted patricks car containing brandon got first patrick managed randomly locate two people knew space five minutes one old rate particularly impreive sing haened find corner town mile live got brandon patrick already aived standing corner toldgo straight parking completely ran red light fortunately severe consequences unbelieveable seats fifth row center stage sister certifiable lunatic decided wanted take picture expreed wish theatre caught yeedfour time finay stationing usher head row patrick brandon uer tier front row patrick reported sister highly visible brightest blond hair anyone audience hope rufus areciated patrick brandon prime seat  girl totay bust tried walk velvet rope partition mom sister prime seat  lady nextlet random catca whp played gay meiah song even rufus perplexed outburst finay mother injustice whole damn crew eat patrick hung outside theatre minute got rufus didnt believe signed ticket prove magical night',\n",
              " 'went hospital today saw old guy meaning institutionalized hrs couldnt get history father try get history poible  day',\n",
              " 'thats cos put answer',\n",
              " 'date decided rule finalised registration begun urink  exunclan comd  karan',\n",
              " 'havent read first part story urink ahem nerveracking guy think story stupid think flaky nuthin could hear guitar put voice muled brother talking cats could sister opening girl smiled brother growing moustache something couldnt stand pinched chk hued asked much answered playing songs discovered fondne song writing recent year thought ainity bags explained thought might grab drink sele agrd headed pub nearby chaing trip plan wkend plan sing old friends old friends heart tightened thought woied memory would trier question would ask spoken since goen know  knew told brother plan wkend spoke party excoworker plaed trying put old friend mind smiled brother asked life sme city familiar walked park smiled remembered winter best friend bought crazy carpet gone sliding dreed hilt pure ice bum bruised days remembered left night avoiding apartment box fied tension brother taken walk park sat watch short film showing warm suer night much beer thing would never part life thought thing haen reason gue said noticing brother smed quiet ever read paulo coelhos fifth mountain always loved paulo coelhos bks relishing one aention patience lady worked oice lent fifth mountain hadnt read come perfect moment life learned tale god plan everything life purpose tried implement ideal life best friend woied sick father tried explain couldnt prevent inevitable everything haened reason even death even sickne tried consider god believe god neceary new theory life name people given destiny brother read paulo coelhos alchemist popular work asked fifth mountain prophet elijah trial tribulations said fliantly found diicult explain thing people often came aogant since brushed explanation read perhaps would able discus perhaps would found easier open reay though reay like paulo coelho continued quickly bother reay taught foow instinct watch sign life give kind signs fling safer continue said sometimes theyre reay obvious sometimes theyre kind subtle hard explain take trip example excoworker wrote said try come montreal wkend thought could said party isnt great asked could come answer come yes saw sign come time come know sometimes sign subtler like time lking inspiration literay lap could picked put away decided open might sign almost like trusting thing haen suosed haen open things  thing turn best least hope thing turn best replied fling fine think bad thing haen lose hope ground rather lking way considered girl often said thing didnt reay believe hear think thought god entered pub sat smoky noisy remembered ordered pitcher brother continued think life predetermined thought moment said think path foow whole frwi thing wow matrixy',\n",
              " 'dear humiliated army sehaguan waior led evil sea demon humiliated strong didnt get scratch lile sehaguan god sea must whimpering disaointment embaament hah serf right taste victory delicious nin',\n",
              " 'friday one lng stre reliever night electric barm camden sin city jade respective lover like people went funkily although smed last forever anyway left morning drifted around camden dangerous thought would daylight first bus came anyway got haersmith got home via tube whats slept caed obscure film festival plaing saturday night never turned thats bad luck started lot easier list couldnt get change pound note anyone eventuay phone bth didnt work train delayed back waterl started learnt wrong train cuingly thought get bank get waterl city line got platform learnt shut got keignton mied train wait quarter hour next one got waterl caed didnt pick wait quarter hour train kingston eventuay got kingston wait hour eventuay got home boocking parents hray gave new hope suicide xbubzx',\n",
              " 'god wont family  picking fucking stupidest things fucking god fuck piing shit  didnt homework yet fuck god damn almost reason enough ditch fucking shit hole home life',\n",
              " 'poker night law schl got shit card played strategic vision worthy douglas haig soe first  wasnt using anyway later night dreamt part iegal poker circuit eventuay joined rafael  aition card cheat aarently paing government secret cubans rest dream spent trying dispose body eventuay traded cokedup heire along haute couture dre wed somehow come poeion theres leon think ive mied',\n",
              " 'urink ggle search  single original edited twice making two distinct new version original ive considering would take make versioning content management system think important feature content management system include versioning embargoexpiration content aival departure content item able controed chronologicay context awarene content item aware contains linking tricky part thinking fork versioning maybe ignore forking data storage layer could alication layer inteegently deal fork within content item  urink nuke  nuke engine notion versioning feature present original postnuke engine persistence engine jbo feature increment version old version long want way roback case mied something useful work live web site also makeprod tole enables select version publicly displayed visitors wonder like database level',\n",
              " 'yawnx morning jus woke sti fling slpy slept like around four morning woke around eight dats like four hour slp damn tired anyway goa mum steph mums someone able get lotsa stu haha yeah stephs coming house later goa get ready bathe yup  back later write another one bye',\n",
              " 'spectitular two thing first goa oreiy factor friday night talking grays totay fucking weird know going london england next thursday anyone know secret show fun party check please let know heres email are slewitispin com last night birthday family brother came sushi samba favorite sushi restaurant sip mojito mom declaring drunkene naturay two drink slightly bued tho order parent spicey tuna reason place fucking noisey one point mom yeed horay shes finay leaving loudest girl table nextgot bathrm afterwards went viage karaoke lawrence steasta jaing boyfriend greg raphael joined law cant karaoke without urink brian even julie pie came two people oice cute tragicay gay shaw jewish fabrizio named ben way shaw tragicay gay hes gorgeous man you ever  you never babies  anyway sang many songs hey seven nation army new order song michael  point many points sang lying flr also sang take franz ferdinand capea style brother stole mic hand joy kaps girlfriend heidi fucking stole show atacular karenoified version zeelin songs way minute get table start dancing think many drink time came home blaering something vaguely incoherent rate nate smiled noed lot monday night went dier sarah wilson girlfriends hit rob sheields birthday party fed one shot midnight rob awesome glad birthday  tonight  urink eva cavela band caed drive his hopefuy  able catch americas top model american idol marti zimlin sent pair fucking awesome shoes theyre midcalf satin chuck taylor dragon stitched side fucking ninja like blind dog pop urink bule wrap two head beer one',\n",
              " ' nature compeing part great tapestry world take lilting music birds example carefr song bird conversing celebrating day expansive sky rftop trtop including plum outside bedrm window city wondrous joyous celebration life delightful soundtrack earthbound workaday existence  morning youre trying steal another hour precious slp shambling new day morning person take strong cup tea shower hour make transition grumpy bear almost amenable human chier predawn bird song aoying cacophony sms cut thickest piow make bline ones nerves maybe',\n",
              " 'urink anyway urink',\n",
              " 'urink nechnebs xanga site updated response heres top movie list star trek first contact lord rings two towers lord rings return king matrix revolutions matrix lord rings feowship ring matrix reloaded die hard vengeance terminator judgment day pokmon first movie mewtwo strike back almost joe black lion king braveheart infernal aair men honor course list subject change sure miing lot',\n",
              " 'whole two day since amanda started going record lol mean everyone buy something prey giveknow pawn nething like stewpid nbs anyway today work wasnt bad register prey much entire time beer ruing return straightening straighten entire dvd category wasnt bad cuz knew done would able lunch break chsy gordita crunches side jalepenos sma soda siea dew mountain mist whicheverprefer case anyone wondering parent said nething last night fiasco thing afraid would never  light day unfortunately aears way stu like haens goa work tomoow hours shouldnt bad sunday usuay arent since fair gone busy real sure expect going church morning first time month reay bad used prey pious person anymore antithesis actuay iue struling quite severely right lot thing haend made doubt everything raised believe know life havnt stayed thinking meaning life year used able slp twice would get streed haens people die anymore like busy pas exhaustion wow realized something whole reason read night thought head never used read caot bed without least page belt night realized said blog pointle although must say idea diary anyone read make lile uneasy gue people speak mind sometimes order clear thing stay people michael got quesion everyone doe blog dedicated quest squiel reach fder sound thinking might fun long stay creative adios',\n",
              " 'gosh already damn time quickly say time wait man  wish could went partying last night bangsar year row wonder many year row make best far foowed years back last year crap anyway abt year left home cause raining earlier lets met syamiaimierichardwoei jiun guy outside mphinside lathati went starbucks got iced americano malas waa  sugar dont mind sugarle drinks gave guyz oso like goa barf hahah met ryan went back nichola gang wei han fry also put shirt ran met aen holding starbucks cup drinking away lol aen introduced hockey teaates aearently play woman league hahahaha haha aizyl wearing shirt mning guy saying lol syamiaimie guyz voyeur pay damn crowded inside outside whats specialthings club fine voyeur prey big crap bought caed string bole bucks deal lol like moremore gave yow chern lol like caot waste got haha met himaenaizylshazrinzawawiuwayeadylher friend shay sometin sasha shafiqs gang aack eachother caed string left every else met starbucks spent like minutes finding spent seconds talkin lol hahaahha high heh way back every elsei dogde  spray war came lking like world war soldier suose nicola  couldnt come nicola didnt either midnight came countdown omg haha watch midnight told everelse started screaming minor fireowkrs thingyexploded showerconfei crap damn chun saw sasha aen hiing wei hehehe waa make convo public said ive changed word sequences haha aen talking abt ier thighshis even yuck sashathat iesistable aen forgot changed around yeed make angry heheh end crap went got drinks paid rememberi owe drink rememberwhore yeah forgetwe saw realp chick thats like female version hehehe saw aover damn lot making lkout disaeared club maybe  next year hehehe lol made circles telawi voyeur roadcb roadand road thats next yow chern mamak strt road sta night day oso cars like nvr thru oso cricled like mad gathererlol got pointed bye evry else yuck ugh hehe yeah lol sprayed eachother caed sting flying snowhaha norm rite bad  lng around bomb dude sat outside guardian met drunkard like senoirs haha theyw ere hey know lovebearhug action met kishore later shafiq aackedget stringme teng like pointing eachother sayin hey know knowhay new yearwith hand shaking hug like actionhahaha left procds crylol uwaye went home shazrin shadzil heh zylryan zawawi went ryans hse play monopoly banang betul went home would play went hometk pic shirt work art even heh tadak kerja  til something amtalking chaman ominutes paed bedrm flr like christmas lol woke tounge yeow wth drinklol spent like hour washing caed string oua hair bathed real clean like ugh use ton victoria secret cleanser heh opened loreal face care crap nice cling  went downstairsate bit went store started yeing like drunk guy uhoh heh lol soaked shirt water brze water within minute turned red yeow redid became blue morning redid know whatheheh slept woke paed mah anyway remember anymore detail last nighti  newer publishes check hehehe wish everynite like hehehe goa run lunch time goa ryans hse upload pics tata',\n",
              " 'urink coasting towards ground',\n",
              " 'eie haske lovely frock youre wearing today mrs cleaver urink leave beaver character brought urink quizia',\n",
              " 'soy bout update guys start yesterday cousins slping phone rang you never gue roie back went home came went internet crap played halo bout hour red dead revolver went downstairs eat hotdogs drink juices hilarious went sarahs liquid ice things one poed got eyes omg worst thing ever hurt bad like could cry eye burning open would like sting hurt bad gosh hurt like minutes sarah gavewater poured eye reay liquid ice guys cuz open eye couldnt hold secs finay held long time started stop hurting stay away liquid ice anyways theropy scary aident went house whatever day daycare watched flash kid rocks one speaks star trek lol went roies play fifa soer went eat cousin picked went smthie king got big one made sick afterwards way home roie came back shot basketba got computer downloading fuy song put pcdj song mixer hilarious got internet played halo went bed wow know isnt amazing woke shower everything siing waiting church gue  sya guys',\n",
              " 'quick one guernsey hour went lad wednesday night aarently woling truth cant remember hehe',\n",
              " ' like lying everyone maybe becuz wish could  real reay wish person know wait doesnt make sense leme refraze wish everyone would disaear eveyone people know people dont know like wish everyone would leave alone forever let thing damn phone ringing would sumone stupid probably ugh hate stupid people wish legalsht every stupid person another suicidal thought today shower thinking would easy tub drown dont know didnt universal city walk today asked mom could get tongue pierced said later asked could get sma tat ankle said interestingly though uerly confused perfect lile daughter would ask things wait mom perfect daughter wont perfect god sound like maniac  way wish could person everyone think wish dead',\n",
              " 'yesterday went christmas shoing ive got prey much everyone done sti buy something dad stepfather though men hard buy may idea though used doar gift certificate urink best buy got oice christmas party get lile pair speaker plug minidisc player used doar listen music work rock hay sit listen music ive got urink hotd playing thats surprise anyone rock bored work today everyone department aarently reay swamped ive got nothing new girl theyre throwing simple claim right since time teach know start handling diicult claims sure boredom end supervisor going next thurs fri thinking going reay boring day probably going sit ugh know lack crap isnt going last long going overwhelmed gue enjoy lasts dont understand people arent returning cas hey trying pay money get car fixed mean someone caing leaving meage saying theyre trying send check back least leave voicemail speaking voicemail gay kind huy one day think sound stupid lazy change like word sound generay retarded guy taking first report claim earlier said hug asked anything else could weirdo ive talked weirdo already ive like wks talked one guy last kept caing babe asked something said yes dear skved mean didnt even know guy told deductable policy aarently unaware said agents didnt know respond like yeah anything else today said thank dear told nice day hung course downstate island wierdos rude people island beh bored online typing test urink typingtest com best time far wpm auracy rock going try score wow hea bored least management went lunch sit nothing bad',\n",
              " ' like iraqi fed teorist fouling name group armed masked iraqi men threatened tuesday jordanian extremist abu musab alzarqawi doe iediately leave country ausing murdering iocent iraqi defiling muslim religion threat revealed anger many iraqis including insurgent groups toward foreign fighters many consider iegitimate presencecoalition trps videotape sent alarabiya television station group caing salvation movement questioned alzarqawi could use islam justify kiing iocent civilians targeting government oicial kidnaing beheading foreigners must leave iraq iediately foower everyone give shelter criminal actions man said  marked first time iraqi group made public threat alzarqawi iued dayled coalition forces targeting alzarqawi launched air strike restive city faujah suspected safe house used foowers aack kied people witne said video thr men face covered arab headscarves flanked rocket propeed grenade iraqi flag man speaking clear iraqi aent swear aah started preparing capture present gift people man said last warning dont stop coalition force failed',\n",
              " 'fling lang aropriate sha ipost ngayon teksto salaysay kasaysayan ang ating katawan laman nito ang bawat pagsilang kamatayan bawat hiyaw pagsukot kalayn bawat latay pagkagapos paghulagpos ngunit pno ipanawa ang pangungusap alindog pinipi pno ipababasa ang mga allang pilit pinalabo sebo macho sapagkat usapin rin pananakop pangri ang bawat pagsiping markang ililimbag ang bawat pagdantay diskurso pakikipagtunali ikawisa lamang pangalan dagdag bilang taln mga nabihag nakitil nasalanta patuloy kong pakikidigma',\n",
              " ' cli writing first bloer input talked manager taco night found gried stued buito hardest thing make also quesadia one easiest thing make hope clear confusion',\n",
              " 'townha piece deis prager titled urink people world stinks rant lot come christian perspective dont  love gdne hate evil tough time stay sane israel kied abdel aziz rantisi hamas teor leader almost every nation world nations theoretical embodiment united nations condemned israel world leader world organization said almost nothing counist chinas ongoing destruction one worlds oldest civilizations tibet world leader said almost nothing arab enslavement genocide nonarab black sudan convene world conference label israel one humane decent democracy earth pariah order retain sanity ask readers indulgence use column expre personal thoughts contempt world cherish admire countle individuals contempt  opinion world never cared evil inflicted human beings counist genocide meant nothing humanity holocaust meant nothing almost exception atrocity since world war  likewise absorbed humanity olympics world contest contempt united nations one great obstacle gdne decency planet moral record outside specialized agency world health organization almost entirely suortive evil condemnatory dominated moray backward government world arab muslim worlds counist heyday african despots aointed libya despotic primitive state head human right coiion whose member include china saudi arabia sudan neither united state israel sits coiion regard european union similar revulsion lile oosition europe murdered nearly every jewish man woman child midst halfcentury later provides cover mile east mile easts jew exactly nazi european jews european union condemn israels kiing hamas leader hama avowed aim another jewish genocide loathsome board incredible germany france unlike america almost never shed bld liberty others everything undermine americas aempt liberate iraq similarly repugnant',\n",
              " 'later yesterday muslim cemetery found nazi graiti painted graf frances new interior minister urink dominique viepin came cemetery are medium saying republic caot aept things frances values  dominique weve heard several time past wks several jew cemeteries jew aacked everyday neonazis aacking counities know france day without least one antisemitic action reported word enough french government act course theres already law rule arent actuay put place people used respecting law france background links urink big news network com french neonazis deface holocaust site urink racist vandal strike france urink  com jewish staed paris',\n",
              " ' conversation last night friend thinking dating another friend mine conversation slowly wound  circle conversation end one relationship move next thats hes coectly hes ending longterm relationship come next somewhat uncertain conversation complicated touched many element would diicult justice without ruing long explication everything talked frankly dont time dont think anyone time read hour conversation thought would write one main element conversation relationship isnt say loudly clearly maybe dash belief person might glier hope sound kind harsh put way remember thinking first time dated broke someone got kind talk close friend mine friend tim sat said guy dated reay upset said course hes upset broke anybody would upset tim said problem isnt broke doesnt fuy understand broke also think theres chance might get back together doesnt know youre caing shot back thought made prey clear breaking tim responded think leaving open geing back together exasperated didnt want make awful unhay wanted soften blow dont think implied might get back together thought nded truthful poible doe mean asked tim sti like think hes great person like break also like understand enough lay uncertainty point could tim growing lile impatient got quiet said take someone end breaking youre going break someone fuy break like lot leave open poibility something working future theyre going hold torch theyre going wait theyre going wonder dont make upset theyre going  bar someone else going make upset wont know friend youre date since think theres chance two get back together devastating suosed tim leaned break heart dont mean imply bad person best way prevent long series painful incident uncertainty instead inflict pain quickly news depending react may say much count mean dont pound fact head beat youre breaking walk away talk knowing know theres chance geing back together gentle must firm causing pain save pain anger road hypotheticay later think fling want back ive told cant ever haen wouldnt lile ridiculous come back say ive changed mind tim smiled try much certain breakup change mind theres nothing wrong going back asking leave guy thinking poibility hurt angry dont back like hes going hold torch find hard move way waiting thats something bear responsibility arent truthful remember conversation like last friday even though year ago friday almost day long time tried disagr wanted unkind guy situation breaking couldnt bring say hard truth werent working going stop dating situations ive come  tims logic dating situations ive found best breakup one brutal gentle lack beer term ive also amend line thinking tim hadnt longterm relationship time talked neitherkind experience think would agr ending longterm relationship never going simple also think would agr end result respect guy youve way two continue together make absolutely clear spare much pain poible',\n",
              " ' dying boredom moment half term house nothing friends living internet  board quite frank compleatly forgoen blog updated goa big post everyone updated awake valantines goa die boy maybe gay  hope anyway thats love life done although reay cute guy bus bet never ask schl  boring take  trip hate latin teacher woe lol least maths french trip french biology fine big music concert load rehursals goa miing schl thing bad miing physics thats thing enjoy schl like sports music chem physic thats life crap fling reay depreed moment depreed contact friend goa cry',\n",
              " 'got drive bro airport quite surprised find awake quite surprised woke hed set alarm wrong drank tea rushed around going said think bags heavy got scale sure enough kilos quite textbk tried lighten didnt time put car discued various method lightening finay struck upon solution puing larger empty backpack puing smaer cayon along heavy stu suitcase like schlbk toiletries hope sort told lazy empty stu storage locker leaving brother wife pick tomoow take damien airport also warned take risks china laughed know exactly mean bet anyway warn stupid sometimes thri chaenge anyway frway fucking rush love driving much stay awake centrelink information seion whatever hotcake hash brown hour last night family dier decided wouldnt let brother wife get set ignoring talking stu idea like asian politics raph digital damien one else talking kind sat lking lonely felt reay awful hate sing people lonely even dont like especiay avoided theres reason someone unhay dont especiay family dier situation told liked coat reay nice started chaing makeup showed urink strawbeynet much haier dont know lack integrity know shit left cant stand anyone else wasnt bitch anything oasion felt teible deliberately ignoring saw siing tried thinking people dont like situation would talk wouldnt alone afraid answer yes exception cokehead friend steph laer would rescuing learn hasnt already get talk wish wasnt puy people wish could hardarse care try hard cant help cant help  people unhay dont want dont',\n",
              " 'heo world',\n",
              " 'gue got airport orlando mile away home went itaian eatery set court ordered ate baked ziti slice caot cake busted notebk started writing sentances highway foowup thrier solid mud wrote five sentaces heard paging erik kershner paging erik kershner please pick page phone dial zero meage paging erik kershner wandered around found one socaed page phones picked dialed instructed nothing haened load pucky said sti hour hiarys flight suosed land thought maybe made earlier one know thing change right went baage claim scout hiary  heard paging erik kershner paging erik kershner shsh exclaimed found dierent page phone dialed time hark ringing coection operator chaed asked know young lady named hiary sure said left meage paused left number anything write caed number dude answered phone hola cangrejo shack ben leiones que practican surf discurso ben stued heo senor said thought nice touch name erik kershner hiary sland left meage number hey erik brother weird wild stu hey ben gueing havent talked hiary yet havent whats dont know anything yet plane crash thomas flight canceed hiary flying tomoow she taking bus orlando panama city aive holy cow folded got back car boied orlando home made time adventure night peace love erik catch right eie say something mind body spirit stu bro',\n",
              " 'life bitch  shes bitch',\n",
              " 'realized datele new years fuck',\n",
              " 'august sti moms gets reay boring watch surf web nice trail block sometimes walk woke going haen although start working zack said could get gym membership buck month hes working thats get job gym cant avoid anyway today going daniel shoing new clothes parent buy clothes schl year mine usuay except lile short money buy spoiled brat used',\n",
              " ' didnt fail theory test ave waiting someone else came age dreed expensive clothes spoke reay posh way woman asked first time taking said third aha rich stupid mocked mind never even knew got bus aha expectation confounded hence humour arose think arguing teacher schl coent robs blog rob know post basicay mean like know joking least thats thinks haha rob told lot teacher blog think hoible real one arguing admiedly argument moved whether astronaut could beat caveman sti fuy',\n",
              " 'today yes picked bluebeies suck pick especiay grandmother make pick every blue bluebey procd another chose like lked like beer lol also certainly could drop shes flr faster someone code blue pickin stupid thing psycho yeah day started online health cla finay cuz bored nothing beer lol cost bucks worth done seven day instead ninety would normal cla seing yeah thats proy write later cuz make bluebey pie outie nows bye',\n",
              " ' friend christines best friend david town couple days got together dier socializing last night heard david years pleasure actuay person honor last night seale decided urink nishino dier great embaament lived neighborhd nishino right bought house never paid notice tucked away upscale strip one corner building largely dominated heath club travel agency ive past dozen times never even enough notice note name ray christine rectified making reservation five wow miing ordered aetizer asparagus citrusy glaze prey sure grapefruit involved plus sesame probably miso world ended consuming thr orders also exceent spicy calamari one seafd ray safely eat spicy chicken dish served several side pickled vegetable intensely buery shitake mushrm divine restenjoy seafd branched item like baked dungene crab creamy spicy sauce foi gras aetizer melted mouth creamy white tuna south america chris shared crispfried shrimp heads   wine sake flowed frly old time returned chez poinger loaded dvd david goen christine birthday hadnt watched yet urink sordid life god laughed hard perhaps fuy watch youre least paingly familiar trailer trash mercilely skewered film christine relative could standins ruthle cruel aurate lile details simply hilarious cast character name like nolita lavonda warde refer bua siy brother boy throughout urink olivia newtonjohns opening scene serenade set tone know least relative could imagine singing seriousne later today hoping try new place dier tried excursion jim urink chris wrote ended tempero brasil closed holidays finger croed opentonight today last day kates vacation dad also last nightgo kidfr live adults kates sport coming adult gatherings try impose many adultonly situation row like experience holidays tomoow pick back grind schl work slping past staying morning',\n",
              " 'forth firework ablazing fuy today dad decided coney island went saw hot dog eating contest aoying oly fascinating event actuay started way crowded way many people way hot enjoyable nonethele weird whats even peculiar fighter jet flying neighborhd boy cause ruckus hope everyone enjoys whatever today family nothing sky fire thats something forward even get boring fast',\n",
              " 'much fun last night went aleks sat talked night long nice talked everything going life first time long time felt like best friend back love much cant imagine life tomoow last day lonestar suer excited hope make lot money start save moving finished night lonestar tomoow going straight aleks going spend night together going spend day sunday together cant wait later',\n",
              " 'thr year texas tech tumultuous time whereas previously sure wanted physicist suenly discovered aeal unsure future double majored history philosophy loved fields wonderful history cla european american history developing love native american environmental history thoroughly enjoying cla protestant reformation woman european  science philosophy equay thriing exposed ethics aesthetic logic riled many discuion thought would write ethic morals learned lot writing history philosophy especiay one eentric philosopher coented sternly papers end fourth year prehistory texas archaeology cla extra credit cla included oortunity seminole canyon state park record rock art people gathered record rock art member texas archaeological society came variety background primarily life photographed sketched rock art canyon suounded beautiful transpecos desert landscape blm joy eervescing people rock art whispering prehistoric belief lifeways tremendous beauty desert overwhelmed knew archaeology went every poible voluntr oortunity record rock art excavate suer aended texas tech archaeological field schl san saba county learned basic survey excavation maintain field camp later suer worked austin burned rock mien project lab job learned deal artifact procedures graduated may iediately began journey world profeional archaeology graduated iediately went work texas park wildlife austin archaeology lab worked mostly historic material lots metal gla found love heartbreak austin half year later hired excavation northeast texas site turned one largest caoan viage site ever found excavation year life living longview texas made number friends played lot sung lile karoke learned tremendous amount excavating stain left post cao house troweling hard baked red clay caoan viage site oak viage site located texas utility mining company tumco property originay thought sma site mien trash dump significant site turned structure ended costing tumco lot plaed upon learning tumco unceremoniously toldquit diing pack leave federal laws tumco required  cultural resource property mitigate dig site significance leave undisturbed baning cost excavation tumco suenly thought would beer fence site leave unexcavated knjerk reaction thr month later broughtback finish excavation since cost already put would paid lignite coal could extract thr month heart suer went kickap cavern state park west texas survey park property rued rocky hiy vegetation thorn claws snake scorpion ticks lived bunk house park suounded sort insect life like kiing bug cay frightening parastite caedcruz also suounded extraordinarily colorful birds vermiion fly catchers painted buntings vireos huingbirds red zone tailed hawks vulture found cave mexican frtail bat left mae dusk found debris making stone top ridge one could get land confluence rivers found large mound burned rock people past cked various plant animals also found heat scorching best get day work hard rewarding environment foowing went back finish caoan siteanother month maing post stain encircling hearth row corn',\n",
              " 'targeting yearsolds church plant marvin jacobo modesto california usa aounced plan plant new church caed tapestry begin targeting year olds specific thought young people bring family friends strategy prove eective hispaniclatino counity united states excited marvin team forward visiting marvin pionr area breaking high schl group sma group one first year ago term dont remember',\n",
              " 'blow work today right went back slp making fakeout phone scumbag employer strangest dream dont reay remember haened dream sure strange turning back clock late last night actual exchange place loaine filter caidy charlene wont get think theyre trashy pain factor loaine theyre trashy charlene tatx heres certain uamed friend hanging uamed coworker uamed boyfriend town today luck buy  two around afternn probably going vomit fresh loaine quote second ago rainy bright idea shots like caeine iediately',\n",
              " 'used boy nearly blond hair used speing  champion used hay reading encyclopedia every night aslp used uncomfortable around people lived hometown used drum major high schl band used boyfriend feow yearold used afraid god used newspaper reporter used student bartending schl used traveler mexico used guy awards used life party used consistent writing used hopeful love way used regular oilcan hays used teacher yearold children used disgusted gay bars used love guy caed fraud used love guy much right used love guy ran away ive stoed chasing used love guy probably gone forever used love used guy read thing altar catholic maes used paid write art used fit even maybe muscly used convinced found perfect man used child used confident place life used shaken find today used ready forgive used unfamiliar real rage fury used naive enough think justice around used beer used stronger used smarter anyone youre ever going discolit autosycophantic planet fucking bitches none thing anymore thing change time particularly painful period right unexpected unwanted destruction friendship may want write clearly honestly poible wait later fling far low right',\n",
              " ' suer best friend worst foe love warmth frdom hate inevitable point month thing get weird know start geing bored life dont want old thing anymore fastforward midfebruary would one night cruising broadway gue prof much thing note friend make suer get old exception friend one sane cant shake fling suer much leave opinions hay suer',\n",
              " 'bar pacific beach run lsely like man come order shot vodka procds drink one bartender says like real reason wouldnt drinking like man yeah found brother like guys next day thing brother  day bartender doesnt anyone family like women man yeah girlfriend yes caed fucking bar complain softest voice could manufacture even faltered unknowing manager asked talking genuinely nice person one give shit asked recreate something inside wasnt hay speaking aloud stranger said manager gem customer service world aured general manager andor owner would iediately tomoow morning rectify maer reay fucking one reay people know cant understand ads thats listen npr turned however much love seinfeld simpson reruns make like acid simplest thing others take granted leaf spchle paralyzed asking back honored know puedairwaves god know long ruing seriously first time ive ventured far airwaves evening npr day long please help phone number world favor voice opinion thanks advance',\n",
              " 'urink come faster sweating posted stanley ',\n",
              " 'doesnt fling away dont understand want aept learn live peace cant tired fling like tired living far friends tired always strong one tired teing people everything going everything world far tired coming last tired cry',\n",
              " 'flew schl friday mornin model feow friend house goa pick lrt station waiting bought newspaper read went caefour get stu model thr oclock time agenda gores untuk menang started damn pied time dun waa mention know urself man went lrt station schl went avinash  chen hung peter jon went schl gein flower styrofoam went back schl started rehearsal gadget buildin non stop whoa tiring wasnt tiringcoz talkin cock making joke among especialy  said one girl name age aears name one senior mom obviously person went back slept particularly hours went schl big night',\n",
              " 'rosepedal hey jumper hey jumper got replced rosepedal cryimg jumper rosepedal replacedrosepedal sti bitch right jumper yup rosepedal yay jumper proud jumper goa picture tomoow jumper  didnt make sense jumper take picture tomoow rosepedal gfet double jumper rosepedal yes jumper match rosepedal like jumper dont know rosepedal opk wont rosepedal bitch yay jumper rosepedal knwo jumper waa shirs house rosepedal jumper  hot guy jumper arm rosepedal one near rosepedal wouldntcome hoseu jumper life acro shir  haha guy life near body part jumper sre jumper thats rosepedal hey rosepedal haha readeing blog rosepedal rachel ithinks mitch using jen play rosepedal jumper know',\n",
              " 'otec plant developed india though back energy crisis high hope coercialization otec ocean thermal energy conversion united states one ever even filed alication license otec plant india theres news otec development piece ocean thermal energy plant coming hindu blurb quote minister state nonconventional energy resource kaaan saying one floating ocean thermal energy conversion power plant final stage coiioning near tuticorin port',\n",
              " 'juz  spending couple nitez slping late rushing thru abstract thats suoseue today last minute work finished leftgo oni left nus alone wif bldshot eye spent much time staring monitor scrn break tml sti got back finish juz hope skl reopen thingmuch bea tried making cup awake mine abstract cuently suering intoxication last reminder never drink ever gue forecast tml finish abstracts returning back home slp replenish slp cluing juz waa  money kind soul onzsponsor din reay like song heard times finay start prey bad woy sylver stone geing colder leaf turning brown painting lose color working way crowd night geing longer soldier lost sea dreamer stop dreaming heaven longer wait earth stoed revolving lost glow season stoed turning river longer flow  sti  cause light always shine  sti  cause light always shine  sti  cause light always shine  sti  cause light always shine sometimes one thing lking could one thing cant   sti  cause light always shine  sti  cause light always shine  sti  cause light always shine  sti  cause light always shine',\n",
              " 'move world dierent location company providing bandwidth previously suenly ceased trading meant aange alternative short notice could get ruing quickly poible world moved one existing providers new home nlayer already world hay reliabilityperformance fact relocated world hopefuy run faster ever new location world functioning normay taken urink  runescape com',\n",
              " 'ones becoming song thanks greg wear white shirt like nothing ever white like nothing ever sexy hair right places curling way back like water trickling rubies suulent red ale eve plucked polished ate  walking beside glow energy white blacks make ugly plain boring dusty unclean unwanted try lile spitshine maybe catch adam eyes dont  dont shes much beer girl',\n",
              " ' awhile taking break work enjoying time sergios sister son great glad yesterday last day semester wont back schl august receive credential going start master program spring god wiing everything work writing yesterday driving home drove church going check coege youth bible study worship night met people everyone welcoming church culturay diverse something dierent church cuently aending sti praying trying figure church  god church plaing next wednesday going pick sergios sister coing dier made enchiladas rice bean bought chsecake hope enjoy also going watch movie shrek friend told prey god ble thanks prayers',\n",
              " ' quite since updated blog since lot bad thing haened waited patiently stevi come home camp waiting felt sick somehow  flirting guys got back asked friend eventuay spied done sort stu kid named ron slow danced flirted given hug gdbye reay mad quite time finay cant wait  stevi one problem trouble wont next sing park today though towards end fight asked stevi may said yes maied man gue surprising wanting ask since beining suer afraid would said mom piy want chores going ron kid ever read dont dare ever flirt wife always wanted say stevi read want know love cant wait turn eightn actuay get maied least engaged fan people may bye ryan',\n",
              " 'another boring day things sti way nothing much theres one lile tinky winky thing actuay mark today ask would oral version geography memory test gue nice teacher actuay think method implement anyway gue flaunk math test usual honestlyi belong antimathematic organization perhaps eort wasnt high enough heo anyone care counseling reay teible received paper first thing morning suosed wonderful end result hit like bolt blue unexpected wasnt bad afterai mean least lowest score wasnt trying optimist around minute devastated period morning spirit sms tove astral projected dimension leaving depreed smile friend wonderfulguenot gave weird due exceent resultinsteadwords encouragement reached ears hes reay one friend reay treasure cherish alright word warm touch gave strength actuay lifted spirit wonderful chr thanks lot cuently boys trying get thats optimist',\n",
              " 'confused yan ang mga salitang sinabi niya clamate nung nagusap sila tungkol akin confused bakit kasi may nililigawan siyang iba heto naman ako ginugulo ulit ang buhay niya dahil hindi niya alam kung pno magrereact mga suen aearance ulit tahimik niyang buhay wala siya magagawa kasi mahal siya soy lang siya nagsimula ang lahat nung first year kami high schl kami sabi niya clamate crush niya ako pero takot ako kanya kasi world apart ang mundo tungkol competition honors matalino ako nagsisimula sumikat siya isa syang ordinaryong student pero may isang bagay kakaiba kanya barumbado siya palway kaya naman  akong maloko niya kahit cute siya iniwasan siya siguro nanawa rin siya pinabayn niya din ako nung second year kami ngumiti siya akin dun nagsimulang magunaw ang mundo grabe ang cute niya pala pagngumimgiti bakit siya pinakawalan kasi sabi hindi kami bagay dahil siraulo siya pero napatunayan niya hindi siya iesponsible dahil naging president siya cla nila pero kasabay nang pagbabago niya ang pagts lalo tingin mundo akin dahil naging first honor ako one grading kahit magkaiba kami nagkalayo ang aming mundo gusto din siya gustunusto malaon minahal siya kaso wala ang dating paghanga niya akin short wala siyang gusto akin hay buhay third year nawalan siya pakialam akin kahit ilang ako magpapansin kanya walang epekto dahil may iba siya kahit ganun wala vocabulary ang sumuko hindi siya isusuko kahit napakadami niyang naging girlfriend ilang din akong nagmukhang tanga kakasunod kanya ksa magiging kami ilang lalaki din ang binasted dahil kanya pero anong ginawa niya wala kasi ako din naman ang nangiwan lalo lang ako nainlove kanya nung naging varsity siya tums ang tingin tao kanya pero hindi rin karapatdapat para akin consistent honor student hinirang isa mga best writer schl namin sandng dipa naman ang pagkakalayo namin nlala pag sinasabi iba crush siya hindi sila magsasalita sasabihin lang bakit yun hindi kayo bagay noh maghanap lang iba pati mga kabarkada hindi maintindihan kung bakit siya masakit pero pinaglaban siya kahit hindi niya alam pinaglalaban siya susuko sana ako pero tinatagan lang ang dahil  siya tapos ngayong fourth year nabuhayan ako katabi yung clamate naglapit amin nung first year untiunti nalaman may pakealam rin pala siya akin kahit konti kinukumusta niya ako kung okay lang daw ako arawaraw akong pinapasok clamate mag pagsap nila syempre kinikilig naman ako pag may magagandang sinisabi siya tungkol akin lagi nga sinasabi sarili heto magiging boyfriend siya pero sabi nga nila though want thing badly might end confused siya dahil nung mga panahong pumapasok ulit ako buhay niya may nililigawan siyang iba ano bang magagawa mahal siya pero natapos din yung confusion yun hindi niya ako  niya yung babaeng kabaliktaran hindi gno katalinuhan pero pinakita niya talagang mahal niya ang lalaking mahal din isa lang ang dahilang pumasok utak nang hindi niya ako pinili ang dahilan kung bakit hindi siya pinansin dati dahil magkalayo ang mundo naming ginagalawan wala pinagbago ang mga pangyayari heto naman ako nagsa walang kahit sinong kadamay kasi apat taon siya lang talaga ang taong pinaglnan oras masakit talaga bakit ganun bakit kailangang paghiwalayin kami mundo bakit kailangang maging tanga pagibig ang mga tulad naming matatalino tinatanong ako mga tao bakit siya  wala naman siyang ginawa kainloveinlove ewan nga talaga nga sigurong tanga lang ako pero kahit ganun nasasaktan ako dahil ang bagay naglayo amin ang bagay pinakaingatingatan kahit pwede naman niya ako ipaglaban pwede naman paglapitin ang dalawang mundo bakit hindi niya nagawa kaya naman niya akong mahalin kahit iba ako para mundo dahil hindi pinakita kanya gusto din siya dahil pride kung pinakita kanya mahal siya may pagbabagong nangyari pagtitripan nya lang ako magtatake advantage siya dahil alam mundo minsan lang ako magkacrush higit lahat bakit kahit ilang niya ako saktan mahal din siya bakit kailangang ganito ang turing akin mundo ilang tanong kahit kailan hindi maihahanap kasagutan napakasakit nito sana lang malaman ang sagot heto ako walang patutunguhan dahil siya lang ang laman isip',\n",
              " 'aording douglas adams hitcikers guide galaxy aount human beings peculiar habit continuay stating restating obvious nice day youre one theory human dont exercising lips brain start working remember next time someone coent time change could trying avoid complex thought lks like someone case mondays',\n",
              " 'super bowl bbyprize jumped bandwagon wrote janet let cut quick sha sit around day debating whether sing janets right funbag super bowl halftime show oensive fact maer highly doubtful even cares imagine thing going mind second justin coed infamous sure hope works whole thing exposure dont pardon pun areciate growing jackson string hit song couldnt help set stardom even sister one biest freak time cant spotlight forever operation flashdance born dont think anyone blame girl trying get aention even writing aempt get aention level reay cant blame aears done trick aarently word janet jackson breast become searched phrase history internet  whiz thr days shes geing exactly bargained dreamed whole stunt sure janet jackson name everyones lip right yes watch sordid incident dramatic slomo oending body part blued protect identity given hour day night even website dedicated higher schl thought like urink  clint fied coentary opinion subject coverage lack coverage reay going jackson may true bad  lile bothered stunt necearily fact miion people including fair amount youngsters subjected second bare breast prime time sporting event way handled wardrobe malfunction said completely unintentional claimed consider fairly secure comfortable body suenly expose taywhacker miion people sure act dierently mock astonishment scripted choreographed rest performance instead foowing brother michael ftsteps quickly droed lie serious one operation nose help breathe decided come clean shes contrite lile schlgirl never meant oend anybody soy janet oend personay dont care chse get naked public anymore cared britney kied madoa insult inteigence everybodys inteigence lying motivation behind carrbsting stunt bushit went cuingedge tried rebel came lking like poser friends naked truth',\n",
              " 'urink crazy',\n",
              " 'take sky shiering flourishing shuling dance night magnetic sparkling heavenly colour spectacular striking bright take white drift gliering like crystal ice colour artic wind drifitng night like star diamond shivering cold take listen silence place spirit grows far north take bier winter night someplace home',\n",
              " 'friday night working late boy went eat lile indian restaurant strt aarently eat lot owner askedgo online positive user review restaurant sites forgot right asked got home boy rate played poker expected dont know play cards boys throat  put ain whenever isnt nice saturday woke thinking late reay bunch prep work west coast josh groban concert cover work hours made teible pancake sti uncked baer inside boy ended eating delicious bored wandered georgetown love gray puma track jacket price tag stp purchased eventuay wandered back place played racquetba course somewhat injured thumb left thumb hit right hand swinging racquet bld involved dier played lile poker time unknowing online folk idea teing wed folded wed folded sma percentage sti sunday boy got six went golfing hear six thats earlier get work slept late cleaned came home reay smey showered went  anchorman wanted like obvious lack plot couldnt bring however fuy steven colbert steven colbert right steven care thin got lile iitated jack black cameo much cruelty animals actuay surprisingly laughed woman behindbrought thr tenyearolds movie started cry point movie racquetba swiing pia aived afterward boy left worked josh groban  probably bed lame best part get skip work monday might get manicure aending first ever bimonthly girl poker night aend dre like celebrities going jlo thinking manicure big fake diamond mustsomething dont understand strt vendor seing purses stolen purses imitation pretend nothing like designer originals dont get got awesome new blue purse  shoulder pink prada bag tempting real stolen fact stolen',\n",
              " 'nothing bored maer like new mouse key board tho day find cought land slide champagne supernova sky  okie  continue watched buerfly eect omg  movie ashton kutcher actuay hot part thirtn seven kid cute wanted pinch thems chklol fuily wierd way like going walk  wait like cuz dont waa  anyone know walk naked lol reay weird would problem right cat brought bird shes breathing sme dead bird breath kind sick twisted kid put dog bag light fire thats reay disturbing gah cat everywhere time loser cuz champions wrld pre buon calculator pop wow fun gah caed  lots tomoow going shoing naniamo thats fare fair lolim sad dont even like going walk maybe  watch dont know  ate pie  pie make lip like cat bum wondering',\n",
              " ' elm stole lot gue way trying lile like',\n",
              " 'chasing time shting somethign cant get point somethign great person truly adore close thing thinking today turned alkaline trio driving home blair house wondering could think  great chasing another girl would someone would something cant something right front suenly realized dont think mature enough relationship anyone would loved think isnt guy write song stu must perfect guy dating girl dont know cant gue kind always known right guy hte job cant play hay guy want reay insight something along line please send mikeybenl  com would love hear froma also realized way joey answered question bio want send question want answered world large send way reay sti soy shouldnt strong weve made',\n",
              " ' stalked workplace reay much fun bad actuay unsafe afraid work',\n",
              " 'yes lahndahn thing proper proportion try saying cold day whereas everything tokyo tiny ttiny',\n",
              " 'coents',\n",
              " 'solemnity ascension lord today information urink btw diocese sti celebrates proper day ascendit caelum ascended heaven lord gone heaven adore son mary jesu eanuel god saviour aowed adore saviour brother thou art god foow thoughts thou first fruit race hope one day thy grace foow person heaven  alone perfect bli nothing else none bleed bathed hien absorbed glory divine nature holy creature vestment highest put ever bright uncreated light many thing earth isits centre one name alone named god alone true supernatural life would live supernatural life earth aain supernatural eternal life heaven one thing viz live thought god teach god give thy supernatural grace practise reason aections intentions aims penetrated poeed love plunged drowned one vision one name one thought many thought earthly life lead death viz foow numberle object aim toil amusement men pursue earth even doe lead heaven spoilt handseing perishes using stay integrity consistency run evil ceased begun best vanity nothing worse coonly real sin god acknowledge lord jesu confe know thou art true beautiful thou alone canst make bright glorious canst lead thou art way truth life none thou earth never lead heaven thou alone art way thou alone god sha one moment doubt path lies sha take portion thou hast word eternal life thou camest purpose one could none heaven bring heaven strength scale high mountain though served world ever though duty men speak could world however hard tried though fied station feows fair name wide reputation though great celebrated though praise history would bring heaven chse one portion thou livest diest cast away idols give pray teach guide enable receive venerable john henry newmanmeditation devotion solemnity today would feast urink bernadine sienapriest biography doesnt mention rather fond incident oued saint young layman man made mistake aempting seduce coit uatural act saints response deck course would undoubtedly end jail hate crime know',\n",
              " ' one period lackluster work especiay personay thought racing head carr isnt geing ground making money make eat much weigh much dont prey enough dont say right things dont right things  try balance word padre pio pray hope dont woy even phrase displayed oice remind pray hope woy day faith trust iue leing trusting god work life would leen woy tremendously saying dont completely faith god shape life way thats best suose thats eternal strule living life faith',\n",
              " 'admit new respect managed calorie range yesterday real strule eating calories eating clean lot harder thought would man lot whew sti ate didnt gain anything yay going today finay got shoulder fling beer plaing uder body workout cardio yesterday stay grn fling reay though going fix breakfast',\n",
              " 'per previous post kufa district requires repair phone service source urink aas kufa site urink recent fighting one relative friend one would understandably concerned safety one would one fear easily aayed one able make sorts',\n",
              " 'wat frenz  huyr side consoleur sad share trouble wif listen probs  bien twice shy isnt cheated betrayed hurake long tym get sadneangrine rite sumtyms seriously hurtafraid making frenz  awaretrust totay try let dun let yrself think much things may bad think everyone star whenever sad skys many star suounding starone stars owaes side',\n",
              " ' boy girl back post today probably day post stay tuned might love reason pause use peoples computer melted awhile back kiing think got struck lightening even though plued surge protecter caused large sink hole hard drive eventuay gave threw dumpster somewhere plug black melted didnt discocer given unhking take mentioned dumpster yeah suer beware people likelist celebrity theme park packed also ride harne thing lite nub boom lile located close proximity crotch  sized manuever coectly buckle lile seat belt like aaratus trouble  sized complicated unpleasant squishing involves two nub cro importantly talk harmle owl exact revenge usuay form droing opoum car come complete stop avoid hiing come experience ask think youve got life try indian suck life right tague',\n",
              " 'sti snowing least think starting get dark hard lking light outside sti  drift snow floating air soy harping snow starting get lile woied coute home tonight fine though bus main road sure kept clear sti cold icky going stand wait bus',\n",
              " ' advice post  write post back  try anwser questions remember dont ask grown ups question please thanks dance aka soerart',\n",
              " 'new york time november postcard planet ggle jeifer  mountain view calif ggles squat headquarters route visitor sit loy transfixed word scroing behind receptionists desk animacin japonese hay poer pen pome aociao brasileira norma tcnicas projected display caed live query show updated sample people around world typing ggles search engine term scro english chinese spanish swedish japanese korean french dutch italian language ggle tracks people shouldnt may smoked cigar potatoheads long island pickup line get woman auto theft fraud stare live query long enough watching coective consciousne world stream line represents thought someone somewhere internet coection ggle coect query miion day country databases updating storing computer log  ggle taking snapshot users mind aregating like flipbk emerges sueive image strung together loed data story world thinking sex one thing learn say sex lot dierent language lking logs said craig silverstein director technology ggle live query grated ggle filter sexrelated searches though suefuy foreign languages despite geographic ethnic diversity world spending much time thinking things    even  topic area bule top celebrities cuent events product computer downloads amazing similar people world based searching said greg rae one thr member ggles log team responsible building storing protecting data record ggles foowing widely used search engine given rae worldview cubicle since october able anthrax several languages milzbrand german carbonchio italian miltvr dutch antrax spanish say also country recent election seriously brazil germany frenzy searches note globalization consumer culture mean popular brand farflung origin nokia sony bmw feari ikea microsoft judging ggles data sport event stir interest almost everywhere tour france wimbledon melbourne cup horse race world series among top sportsrelated search last year also becomes obvious familiar american movies music celebrity searcher acro globe two year ago ggle enginr named lucas pereira noticed search britney spear declined indicating thought must decline popularity observation grew ggle zeitgeist listing top gaining declining query month glancing ggle zeitgeist like taking trivia test cultural literacy ulrika jonon swedishborn british television host made list recently irish traveler nomadic ethnic group one whose member videotaped beating young daughter indiana fentanyl narcotic gas used moscow raid rescue hostage taken chechen rebel late october longlasting volume search involving name made spear something benchmark log team helped understand news cause spike searches broke justin timberlake ggle reverberation events others serious nature iediately feb example earthquake began near seale local time within two minutes earthquakerelated search jumped minute almost none concentration pacific northwest sept search world trade center pentagon  shot iediately aacks next days nostradamus became top search query fueled rumor nostradamus predicted trade centers destruction trivial event may also register ggles sensitive cultural seismic meter log team came work one morning find carol brady maiden name surged top charts curious maed search time day found neatly grouped five spikes biest  big finay long wait another sma blip spike started minute hour log paed oice employ perplexed would surge interest character sitcom brady bunch data could reflect paerns explain paradox ggle log doe capture social phenomenon per merely shadow cast acro internet interesting part said amit patel member log team cant interpret unle know else going world gone april night miiondoar question game show want miionaire carol bradys maiden name second shows host regis philbin posed question thousand flocked ggle search answer tyler producing four spike show broadcast sueively time zone last lile blip hawa patel said precision carol brady data eyeopening like trying electron microscope first time said sergey brin graduate student computer science stanford helped found ggle president technology like momentbymoment barometer predictably ggles query data respond television movie radio medium also demand audiences one ggles strength predictive power flaing trend hit radar media could tremendous value entertainment company retailers ggle quiet plan coercializing vast store query information tremendous oortunity data silverstein said chaenge defining want search engine lycos produce top list popular searches already exploring potential coercial oortunities lot interest marketing people said ron schatz writes daily column trend lycos want  product aearing next big thing ggle cuently doe aow outsider gain raw data privacy concerns search loed time day originatingare information used link search specific computer site user clicked people thing search engine would never talk publicly viagra pregnancy scares fraud face lifts interesting aregate invason privacy naowed individual doe ggle ever get subpoena information ggle doe coent detail legal maer involving ggle brin responded aregate form ggles data make stuing presentation next raes cubicle geodisplay inch scrn give thrdimensional geographical representation ggle used around globe search represented colored dot shting atmosphere color red yeow orange convey impreion globe whose major city fire taest flame new york tokyo san francisco bay area pied next geodisplay two chart depicting ggle usage united state throughout day search whole single peaksexrelated searches second peakcountry distinctive usage paern spain france italy miay ggle searches presumably reflecting leisurely lunch relaxation japan peak usage midnight indication phone rate dialup modem drop time ggles worldwide scope mean company track idea phenomenon hop  take ketchup trio singing sister became sensation spain last spring gierish song aompanying knknocking dance similar macarena like series waves ggle search ketchup undulated europe suer first peaking spain italy germany france ketchup song hey hah already toed chart countries ring tone available mobile phones parody song mock chanceor gerhard schrder raising tax raced top chart germany late suer ggles log show ketchup search began strong upward climb united states britain netherlands havent heard ketchup havent ggle predicts',\n",
              " 'oortunity wirele developer use java technology never plentiful traditional revenue stream shrunk best stoed growing network operator midst cash drought increase revenues mobility busine focusing heavily growing market content delivery namely games meaging data services world already using wirele java technology sue mobility industry want help generate new cash flow java technologyenabled alications',\n",
              " 'first post bear want start saying love life think sometimes people delt meed hand canthaine sometime wonderful son thank god everyday truely light life found pregnant woied going kid wonder ever done without somthing ever haened son would die said want know sad failed wife got maied pregnant thought right thing love involved wonder ever love know maybe one day hate son dad becouse hard get anyone care anyway',\n",
              " 'popup gracious wonder actuay work mean theyre advertise stu cant imagine anybody actuay paying aention doesnt help nathan downloaded crap onto computer make one popup constantly glad porn kind stu know megan get soy today prey entertaining got english stu turned paing yeah next semester  much beer wkend totay studying whole entire time except social life damn friend bowles youre nothing distractions yeah party people dont like fun especiay icky guy hit bad memoires brought alex jordan theyre great highly amusing',\n",
              " 'heo yeh realize since wrote shouldnt belong get internet workin home anyways whats new lot scary movie fuking fuy best thr bit michael jackson fuy cathahahahahahahahahahaha wotgoa bout let face reality sha michilin man modeed reay lose weight got fukin huge problem fuk wriing fukin knobshiteya ',\n",
              " 'okay haunted ims automated machine wanting internet porn since ive nothing beer sent today four five site even stampgordo hey coryf megan thought would try get hold name link wanted megan homepage miv gtmarsh goin coege pharmacy ive got webcam online right  naughty thing might megan homepage dhz camgirlstq swtie miami lking fun webcamnu website  mean swims asked picture link webcam page website  megan homepage xaq sonski hey talking couple ago remember sent picture link webcam webpage  megan homepage wnq',\n",
              " 'cant believe didnt like almost hurt radio beer totay dierent ways',\n",
              " 'urink stephens cathedral defines city centre heart viea centuries one famous vieese sight built long time uncontested highest building europe measuring almost',\n",
              " 'fling  right dont know kind alone rejected weird gone long time wkend without fling like suenly swsh back fling  hate fling  like fling hay wish could force hay cant hate artificialne isnt right dont people live like  dont like reay dont hate confining fling places people also disturb hurt goe ble',\n",
              " 'updates sti judo hapkido tae kwon ive also started going various cla mornings consequence slp schedule shifted something aroach normality hit midnight theres limited amount time left pas start drling even days dont get claes geing early broke toe judo cla certain minor break sailed lot wind waker  much sailing bought new game new memory card havent time play largely compeed finish wind waker first got totay shot station even internship evidently must receive credits ailiated university receive credits policy soy plus side gue someone hartford reay liked resume side goa lot longer tkd instructor thing kick goa find work meantime master told job ampm isnt exactly easiest thing find unle substitute teaching  theres new bathrm house actuay instaed showerhead high enough use without ducking positively giy prospect showering without hunching got back starcraft man games awesome think theres stu life cant remember',\n",
              " 'wahahax cant stand big bad octaves aear everywhere big bad octaves  aear sort places aear solo pieces aear piano concertoes aear piano sonatas aear nocturnes aear coodity our pedagogical work like get lyfe czerny dohnanyi even hanon thomas ang quite simply sum aurately gay train ruing octave daytoday basis many big bad octave require stretch finger coect length scrawny people stretching hand quite fuy enable play octavec perhapsoctave big handed shit like haf position hand octave easily play jumping octave reay crap argh hate octaves shld sth lyk pre one note play octave one thatd kewl lyk black key zhongyin sheng noe anwz lyk octave improving tink play octave paage sti hand get lyk super tired playing completely worth eort give thri rush adrenaline know sense satisfaction playing huang octaves quaver triplet octave minim thats nuts quote website nuckin futs thats quite rude octave veh fun plae even fun  praise admire amount time learn master course want octave playing shit like argerich lar also lie  say iate found making plan redo entire home lvls gona try get parent move comp whatnot sma much beer veh nice stay man love imagine cld piano talkin abt piano hope piano get fixed veh pied abt breaking string manz two string note argh nothin get piin aement damage cost buck tuning cost haf flin theyre extortin gona make sure  everything gona make sure  every damn problem piano gona try make lyk grand piano gona open lid everything goa bang piano lyk ones busine man rcks wez owing wex sti owe shuting bdae preie hope shes pied wif alot wcws stu including huang orchestral score cds whps due coect score tzw pjuniorc fling depreed dejected suose meimei understand fling sigh fling veh hay even tho suosedly listening hay song caed yeah nice wonderful gaosheng part listen obv zhao hong liang sheng sti flin veh dejected lyk growin nasty implication reay dont like admit hafta face quote hagrid  wez said man lyk quote believe everyone simply get desert reward deserving impostor god ble sti say clear conscience god ble guilty conscience wiing stop sigh arh maybe sha stop bloin tonite shag abit pied wif listenin music past midnite last nite sha make slp todae wez',\n",
              " 'urink dark coliseo urink',\n",
              " 'twenty days philips day',\n",
              " ' havin fun hope others chi fuck write fuckin peacekper weird idea fun know neverthele',\n",
              " 'james dobson notorious urink focus family back another action old one aarently twist thats year late gue blur agenda turn america gigantic church aarently aowed watch program use every foul word english language word god gue dont watch pax cbs discontinued touched angel using word god every program touched angel ran nine years thats lot god suosedly decadent network probably haened rare longruing show nearing logical end maybe low ratings doubt canceation whit cbs deciding hey network james dobson though admit would reason enough madeline muay ohare sic atheist suefuy managed eliminate use bible reading public schl year ago first religious expreion never iegal public schl ohair many others petitioned end forced prayer huge dierence second new eort ohair along son granaughter kidnaed kied body werent found hay sure guy prof eort end forced religion byproduct athiestfringe group organization granted federal hearing subject federal counication coiion  washington petition number would ultimately pave way stop reading gospel lord savior airwave america got signature back stand aempt sueful sunday worship service broadcast radio television stoed group also campaigning remove christmas program christmas carol public schls one thousand petitionsigners bothered gglesearch petition first entry would urban legend isnt even new one around since urink prf positive religious right relies halftruth hysteria agenda together make dierence country creating lost know lord lost hey one stuck please sign jointly mrs person sign hisher name isnt cute wife might ever refers mrs iediately get divorce',\n",
              " 'saw bourne supremacy movie highly recoend way back nathan must caed got voice mail caed back number left avail nathan youre make',\n",
              " 'remember grandfather admied hospital sars outbreak april paed away morning',\n",
              " 'mey christmas everyobody hope great day mlip update',\n",
              " 'yah sco arthur going  boy night tonite rock music ive never  fun',\n",
              " ' gosh browsing online lking guitar fliing guitar magazine remembered totay obseed reay guitar iceman guitar randy rhoads gosh total sexyne fuck want dream guitar mine pic iceman randy rhoads gosh randy rhoads  might cray pic magazine  fuckin sexy iceman guitar either one like bad cost thousands parent never get  save  reay want one itd take year going anywhere spending money whatsoever sigh hope suer might get electric guitar suer maybe said even give geing new bike get guitar give new bike new roerblades new hockey sticks  computer new anything want electric guitar black one like fender stratocaster nice like iceman though haha gosh reay wait  bad blah enough day dreaming eyeing schecter diamond series spitfire right damn nice guitars want  bad',\n",
              " 'hehe last night ouch head hurts went lile brother first went  spiderman second time first lile sister whot went capital drink bule turned geing first pay check literaly forced drink gah shot tequila never heard either normal kindsa things next thing know pod dancing funky hip hop sounds mention head hurt doe',\n",
              " 'omg dont think could haier gurl cla wit year bakin art geometry chemistry ugh damn hay hehehehe ugh cant wait cla starts lol wierd comin mouth lol yea got clothes got vanbackpack ready start even thou quite ready back considering jus kinda got oua schl july damn sua schl neways sunburn isnt reay visiable nemore sti hurtone day lata kinda wierd huho hey jus realized today tuesday huh goa watch niptuck tonight luv show dont kno mayb doctor kinda sexy lol think chi mayb  write lata tonight wit top seat back roin cadiac self control kno nuins wrong',\n",
              " 'bear love make list read bks combining two reay enjoy introduced friends suestion please email favorite bks anything wrien barbara kingsolver isabel aende dave sedaris tom roins john irving cruy lynda bay cks tour anthony bourdain autobiography malcomtold alex haley beginers guide constructing universe michael schneider ode coon thing pablo neruda love katherine melancholy death oyster boy tim burton natural history sens diane ackerman',\n",
              " 'oiciay tired pregnant air conditioner part broken cant use get hot gri unit melted kid sit house hot unhay least basement type area cler upstairs least like rain today hospitalwk drs atnon stre test mean sit min monitor kid measureing contraction heartbeats fantastic barely walk without pain walk drs oice time painlovely news deliver augustsept count day folks',\n",
              " ' mom today first day opening blog sneak preview know you hay day along love',\n",
              " 'skiy scrawny source ananova com',\n",
              " 'vaticans oicial astronomer brother guy consolmagno given interview discus vaticans thinking alien inteigence discovered find inteigent civilization theres way creation counicate theyre alien cant talk dolphin case never know second scenario find inteigent civilization counicate discover two eential theologian talk human soul inteigence know theyre selfaware theyre able something think dog selfaware dont whole lot maybe computer sort thing human third scenario find dozen civilization bunch jehovahs witne convert end day every civilization christian except human race sti sure mean anythings poible',\n",
              " 'dont know coming back place lol paycheck anyway kind aoyed morning got onto frway  pas bridge bradshaw catch east every morning apex bridge always shoulder oncoming traic judge spd try project anyone pacrdinate get onto frway today blue van speckles speckle mean car driven frequently bay area paint fadingsanded area salt hit salty air flow drivingleading edge fenders leading edge etc anyway get frway used turn whl hard hand locked poition nowadays turn onto onramp replace hand top whl reason one time truck almost got onto frway easy task geing back online sti though anyway timed would pop front whatever reason decided spd get  pied slowlane ahole anyway kept going slow drove semi front switched lanes backed gas pied lane behind semi unable switch lanes  simple pleasure reay best today second hard workout day lking forward first hard workout day monday went easy several excercises target max rep reping consistent excercises figure think going try bench pre lbs today considering used able bench lbs highschl bench lbs suck much dedicated workout highschl sure  surpa used eventuay aording stu reading next show tremendous increase strength maybe muscle shr strength  told start thing begier training program worth time want dog right future love feets let face unle pas stupid law going incognito feet long time reay aoying anyway feet get along great pets cat dogs fine always wanted american boxer jodi unsure brd showed picture stu quickly changed minds think  read somemore place dog believe plaing geing thing right start want extremely high quality dog check pedigrs probably get waiting list dont think would want brd though much work reward definitely parent brd high quality pug pomeranian made prey chunk change think hour put care fdingshowing pups say barely broke even fond operation even though feet fixed want take dog cla stu course ive always wanted dog behaved anyway reay isnt much talk today going work tonight jodi shoing stu ruing shamp  come think buy arent always ruing shamp like bole procreatin anyway stu pick cant wait get made mention starbucks got riled far hasnt gone know going back work',\n",
              " 'alright ive decided thing going workout various couple blog going sms mature way writingobservations thought whats around talking thing smed lot gdlking girl derby today perhaps gorgeous day weathers ruing ladies making wear lile poible sti maintaining touch dignity didnt think derby particularly notorious aractive womenfolk speaking derby saw interesting notice outside church something along line half worlds woy caused trying make decision enough information known make decisions made think lile usual crap front churches yet doe lile bit presumptious something made chuckle yesterday sms increasingly amount archived camera ftage news talking gue networks fiftn people kied iraq today fighting multinational force armed rebels helicopter shot cue aume archive shot apache flying wasnt example reay made laugh beer suary closing seconds bank england raised interest rate quarter percent thats  whilst said showed clip highstrt gue theres reay much show story like sti make chortle example clearly arent bad haened couple year ago fox story involving new york skyline cuent skyline miraculously sti wtc sticking like sore thumb something lile obscene',\n",
              " 'sti sick yes sti taking antibiotics huh haha life eventuay get beer hope dont know else bad leila prey sick mostly doesnt health insurance reay bite healthwise family isnt sister continues leions thinking surgery mom new leions brain hay one dont know entails decided give new medication hope thing get beer hope stre past year hasnt taken although prey sure maybe harbor  fling towards cousin knew mom sicka subjected could avoided thank gdne working great person okay stu clean desk great day everyone maybe post later way curie thanks much undying suort truly friend would hate ever lose heidi hang honey manage come  virginia mica flower awesome bleed suounded wonderful people',\n",
              " 'today first day outside sunshine two pick one sam',\n",
              " ' paed many unusual mting yesterday evening met yingyi bedok lng time since last met reay changed lot man shes bier glad shes sti sticking dating years expect hear weing ringing went house dier amazed  many statue buha thai god house along coidor big one whole living packed statues amazing haened sing milk driing bowl front statue yingyis claimed god present drinking milk reay  old friend way paion christ reay bldy show man end show started question reay true juda hanged near roing carca also crow reay came pecked convicts eye cried scene first mary saw jesus parading town cro faing hesitated rushing help thinking could hesitated hes son maer wat haened push forward help even soldier hit least tat wat would protect child second scene jesus finay died cro suering come end last reay hoible come think forefather reay saists think come hoible idea torture people sigh sunday april yuanyuan xueling yanshan met furama hotel high tea cafe tiany bad felt slight tremor people walk past went sing hearts content kster lucky chinatown finay updated songlists saw maydays latest album inside hay didnt get chance sing song bked hour package xueling bit mad jay chou wanted pose next jay one mtvs sueful haha home lah pause vcd mah alamak went bean drink time reay fly time',\n",
              " 'ehmte cant  coent box anymore posts conducting sma research know speciay operating system cancant suse coent boxdont  coent link boom left corner post signature time please send gufontgmaildotcom thank',\n",
              " 'omg okay like riding home kims like almost  black car coming neither mom pay aention right chick jump convertible shirt  saw grdies didnt want',\n",
              " 'urink sun reflecting water ',\n",
              " ' last day prey much blued together complete boredom lack interaction vegetable fruit forced resort playstation pleasure oortunity fun though kept alive finay got  brother art thou urink watermelons urink clairias house urink teyboy watched lile fuy know theyre talking quote often also went scera park day forgoen trumpet leons leave reay early bued day start moving  get hard try spd normal however fling couple days moving fast faster normal monday back marching band many favorite fruit veie wish could slp monday alas sti day left wait anywho ive got finalize deal coeague later',\n",
              " '',\n",
              " 'thanksgivings goa',\n",
              " 'copied witchgrove reay mad would like start meage saying thank pixie youre  lady sent rather cute candle incense however parcel sti limbo recap came round house moving day sat found card teingparcel could delivered phoned get parcel redelivered tuesday didnt redeliver tuesday phoned get delivered saturday wednesday another card saying parcel delivered phoned asked deliver  morning came downstairs spoed card drmat card could delivered card time date std card teling hour couldnt deliver parcels laughed phoned post oice explained man lile bit mied aanged parcel delivered today tuesday last night came home another card one stating parcel left next nne answered next left today morning coected pixy wonderous parcel nice lady next seled wait postman one two parcels got fed phoned parcel sti oice  asked man said theyd already tried deliver twice explained phone say day tuesday example delivering monday wont work breaths parcel dont know many expecting going delivered saturday two late hold item thr return sender could people please send lile get fking sorted energy ridiculously badathisjob postman also delivers pia leaflets prey sure hes suosed bkshop kate rant normal service resumed done condition report leing agent last buy breakfast waiting postman bkshop kate craving pia',\n",
              " ' dear ive croed line bad jokes apologise chred end yesterday bored theres one online coughing like maniac absense company going watch runaway jury briefly mention holiday rocked simply best holiday ive ever tyler god pey bualo people kind lovely fun grnwich viage general downtown nyc best place world aside london want back oceansize play mercury lounge tuesday kier play sma venue wed smi play long island thursday damn interference caed work',\n",
              " 'urink felt like puin pic',\n",
              " 'coege boring got today coz one teacher isnt actuay work scary bfs moving today might get  sob wont  til monday coz work shit wkend sad think suefuy pied people honesty previous post get goa stop opinions soy meh nothing else hungry goa eat lunch lol',\n",
              " ' haened sner thought run interesting thing write maybe teing interesting always thought state tee went  without seatbelt laws gone extreme year back wearing seat belt became law july cop cant sdont think wearing safety restraint say cop suspicious claim  seatbelt insane nut child required sit car seatbster chair year old imagine year old sti siing car seat however riding schl bus none rule aly first grader riding car mom must wear seatbelt must also ride bster seat although riding schl bus sit seat move around frly doe make sense course county sti transportation schl live hamilton county chaanga tee budget crisis schl system urink solution save miion doar miion cut bus high schl students expect get people stay schl way get ludicrous thing done yet course aition many schl cut like salary increase anyone losing teaching positions cuing schl resource oicer program eliminating opening student special facilities buying new textbks computers technical equipment eliminating principal viceprinciple positions cuts county coiion voted cent property tax increase schls going drop rate doubles reay caot believe world coming disgusting beer get soapbox get back work tomoow hcde org',\n",
              " 'hehe back jus much duo expre thing jus simply cant put words single incident change life totay',\n",
              " 'want one mikeo southpaw band',\n",
              " 'held first father interview today sinead five thought would time start relatively busy lifspeciay enroing grade one september baet recital next saturdayand always question life gospel didnt father interview growing least often enough remember didnt anything use guide decided start saying prayer asked haening life told love draw baet recital trying kind lile brother sensed way oer counsel asked way trying kinder responded giving recent example cry one reason another comforted also said would try hit anymore asked show kindne responded saying show love brother example asked question gospel thing asked church started haened listen dramatised church history tape today used give basic understanding church started talked also church started year ago next year joseph smith birthday closed prayer prey harmle  get beer time urink read',\n",
              " 'urink sara great friend weve suorted last year relationship work shes moving savaah boyfriend ron knowing shes right near pisburgh say gdbye met shadyside drink dier place caed bite brew esworth avenue prey menu item reay put together sandwich combination ingredient ask nice selection price great ryan riehle',\n",
              " 'cars fixed inspiration flowing vein many prospects new character cast pace picking dehydrated tired thing lking yes stage set suer',\n",
              " ' insightful post life supersmut sure someone got something anyways high schl goal achieved made top twenty although barely made sti glad however fact came barely number twenty made learn leon thats give something start although highschl goal make list wasnt  could like rest high schl cars grades beer sti complaining congrats solid smut achieved gpa cla congrats jena making spot forgot else going say gdbye',\n",
              " 'wow  much say yet dont reay want person acutay aempting update blog maybe phase something others know defnintly going continue puing entries lets hand worth mentioning sayig stu must admit tried put miore entries  much time anymore goin try update every wkend half day like tomaow score anyway gue worth mentioning seriously late last day schl last first day cause parent thought aointment didnt second cause acutay aointment third cause shit cant even remember yeah trying put contact got day long anyway crazy cult mting antioch hence title let start saying reay hated sound antioch mean everyone talked rob jorge dan mad sound like freaking cult kinda sick demented place ofcourse everyone else andy jones proy inclined make fun name like anticock shit like jorge aeared sure wasnt dan didnt reay care rob think hated cause knew making fun something didnt even know first thing fast foward last get phone geing ready gym jorge rob dan surprise heard guys thinking worst like anitoch buy come like stupid shit quite contrary though droed one important permiion slip life nded people antioch wkend freind thinking would atleast enjoy came droed sht asking come cost bucks read worth throughout found freinds going ofcourse made waa friday large cirlce freinds already heard going wanted come along didnt slip tuseday soemthing like said totay negative fling place also gym every single day friday wasnt exception got hour sepnd six would give hour pack  done barely andy rides gym said nded one catch one itk oer got rang like times didnt get response saw cars light none acutay house thought left dad suer car spin kinda diapointed braier swi use pay phone dad droed come pick  didnt know get caed andy caed jorge gave failry easy direction get drive sure enough haen  schl trs knew dad even everything went fine alile late compared people get awsome didnt already know love public love bieng infront people vengence like proy acouple stayed away kinda shy andor paying aention turned great around stu goa say wat cause would ruin next one whoever want designated slp group guest house smaest slp group viy gonzalo real didnt much fun thought nonethele great times next day realy early like day started time kinda freaked  hold hands sing woreshiing songs first felt left freaked also like get outa person talk certain subject giving robs mot entertaining god chosencertain things talk discuion groups talk answer question discus thing kinda subject talk group smaest sti awsome kayci acutay headed always first one done played basketba someone toldstop back talk thats prey much jist goa type anymore cause ruin gue didnt ruin experince even though knew alot things dun waa make habit everyone whole thing change leave  much knowledge many new feinds many new way people reay awsome time maer thought beining sti dont belive let share moment haened doubt gave closure confeional time preists come confe talk course loving opinions wanted idea say reay didnt anything confe proy would taken awhile anyway something ask something nded answered thought nded faith nded somethings stu saying already would never coect anything god let alone kinda religion made want  reay wanted walk begin cry eye felt  lost told kind faith guidance nothing asked loved anyone said barely lieray couldnt talk cry much ofcourse parents brothers asked faith said yes asked love get love someone answer know first thats hit told faith something specificay religion get know understand love first told read gospel luke first slowly soak everything sti havent done definitly ave closure walk back say think mike haend  spanish chick havent met yet sit next asked shes cause head talked long time incredible girl completly total package amazing thing ever life amazed wasnt even intrested something wiht wanted talk sure kinda got close ray felt like making mean caught conversation like even worth freind truly amazing girl amazed positive fling rightfuy alot coon wasnt mad something evenm though kinda liked gue excepted beer match anyway hope get wants cause would awsome goa thats one example many could mention mean whole place fied love somoene crying everyone give himher hug kinda atmosphere would explain amazing stu haened excepted confidentiality rule wont break soy way fast foward today stu haens croton diner always wkend chi relax skiing schl didnt maer decide dam cause thats also tradition make quick stop kids dereks house get kinda hang around decide croton point park way back stop dereks head half way going  michee drive past going outa park asked going turned frind goen aident head kinda woied make find wasnt nearly bad thought driver sti severly shaken whole event relaxed decided head jorges weget chi listne music upstairs others play game downstairs stright foward chien alile early dentist aointment lieray like seconds ate chinese place mom leaf cause leave lile brother alone end walking freinds house walk home fairly quikly trying get home jorge maybe get ride continue chi everyone left typing even back home sti hasnt changed extreme change gone firm beliver astrology today confirmation true atleast certain extent let give examples urink astrology online  horoscope libras heres said libra sept oct suort concern help may want make change home environment cautious traveling foreign countries blew mind suort concern help want change home enviorment suose going ecuador like wks competely freak skeptical another site urink astrology com check totay confirmed daily overview march always like begiing everything work next days trust cosmic force swping flirt sue know you aract  amazed check extended one daily extended march knew going relationships didnt could romance could deal aspect world cosmic nature care thing even might take hours you realize circle evenly divided yin yang yearn sacred craving profane theres high mighty mild everyone get along take picture special gathering sms last completley blown water first time understd knew fling knowing acutay something know sti intrested head check singles love section daily singles love march youre unstoable flirt great time aract new person recent date may like youre sti playing field fun one kinda end first part right dot last one check one daily march  crush flirting imagination youre dying know ask around chance arent one noticed dot fucking amazing right checkout flirt much confirmed daily flirt march maer right youre shaow aearance youre focusing lately persistence might get date hoie thats goal one lol also right money perfect girl kinda crush saying loved guy dresed tight shirts incredible right proy goa tight shirts proy going try cause know freind like alot proy waa  hay yeah today reairmed love religion close freinds regardle retreat change life wrote alot sure enough typo count going stop peace thank',\n",
              " ' madly love swn listening bro jaing electric guitar  love lampard love lampard love lampard',\n",
              " ' sti sanfran parent got oschedule instead right exact hotel bloed first night computers thing returning calis far heres another one signature bueted lists positives sing nat pam first time several year respectively shoing chinatown especiay new chinese dre vietnamese dre jane gave friendly people sing sight duh incredibly large asian population asian heaven going asian store sing ayumi poster also ayuboahikaru utada cds shelves yet heaven inside jokenat skile family lady highway styrofoam front car cable car ride negatives going cheap touristy part chinatown completely skiing tnage real chinese girl wearusebuy china parent idea realizing usf jesuit coege felt stupid kwongs two day reay cold weather gah hoibly windy cold high today gaining weight haha people hate remark true away indy soy youre bored ash spending hour half walgrns mom chsing buy relative dont even talk losing couple day cant schedule although negative list long sti time tomoow head sure  able blog get home indy time flight sunday morning later afternn never tire useful',\n",
              " 'sometimes dog story told fact far say life dog story smart friend stan',\n",
              " ' also highly disaointed last night whilst people heart wiing milesbroughs fble nightlife failed match expectation went  pubs played far away worst music ive ever heard lionel fucking richie anonymous house beats played moron considers hes got decks chicago cock cafe worst oender time order night music every nice youre year old slaer much gold finger much blonde hair favourite pub town isc wilsons music  heard one song night yates known music pub fucking tragedy much ask pub play dance music uptempo pop song everyone know without play dont stop qun indd time grease megamix fucking know reay put mocker night reason rejecting chicago rock dont get wrong like dont stop qun year old year younger aforementioned song rest case',\n",
              " 'nice wkend come gone past saturday kat kid grandparent home big city morgan siding jordan casey excited able sign come stoed hards eat making drive although new burger worth extra costs sti eats mom dad excited  kid nice visit ended taking kid walk  old field used play kid fun back smaer smed like big adventure walk huge farmer field big mystery field ghost story aociated big almost crater like hole like huge mom kiy hole walked kid  think impreed made tentative plan celebrate thanksgiving mom dad sure day feast fun wed boy lking forward tired dont best work anymore either job tough lately kats monte carlo dump sister boyfriend boowed winter car get work thats bad hopefuy tax money month aord get car either fixed decent vehicle kat drive around kat want  matrix revolutions thats  get nothing else new',\n",
              " 'man trying love today found sit reception pmpm cover receptionists lunch break eternity usuay break usuay  break usuay hour island time get gaze fondly  eye stuing face two favorite thing woied end love conquers love mean carnal desire',\n",
              " 'reason everytime move house sms like first moved coege tore apart lung felt alone gaspy fling like breathing underwater strange maybe fling brought back home law schl chsen leave maybe made choice spent last night lying bed thinking chiku fling intense sense gratitude life lking back sms like never time felt lacked something material theoritical sometimes wish dad around case might sti living india might fling way far one amazing men world know everyone say kinda stu dad sometimes reay like hes unreal far openminded thiking person know creativity courageousne uncay many people drop everything age move whole life foreign country left rts cant let alone mom king amazed shes done raisingtwo dad gone time carr everything else time resent leing whatever means infinte time amazing woman ever met strength independence mind also resiliance rebelious spirit beauty finay chiku even except reay think suose twins like understands beer anyone world even importantly aepts fault hangups constant everything wish sometimes knew much love far articulate creative radical humble talented knowledgable person know forever shortyour family reay got ive got',\n",
              " 'ive productive first unemployment job interviewed chose florist flower weing caed apartment lexington updated weing guest list gathered picture video gregs mom making drove around map direction hotel chapel reception talked katie mitche name change weird played game phone tag minister going mayok would productive actuay set aointments watched survivor csi finale hung key spent time greg four load laundry ive thinking today greg lived dierent city last two year muay louisvie muay  paducah lexington louisvie hard sometimes weve learned lot sure know ready live place life get step god others leing set pace proudly anxiously trying run parade roman meage',\n",
              " 'woud like  picture clue thing',\n",
              " 'normal day work today busine usual afterwards shoed groceries made dier girls fun made chicken pasta made somewhat formal dier ste made deert ste janet shared story trip europe hung nice evening reay going girl leave binghamton truth know dont know like thats considering consider best friend ive made undergrad days would say friend know undergrad days theyre reay people going  also alex makino drinking buies going interesting leaving familiarity starting new life',\n",
              " 'urink downtown hiroshima urink',\n",
              " 'got back blinkno doubt concert blink came first buncha song buncha shiy one whole werent great travis rose mile audience minute drum solo fucking amazing hoest hot gwen stefani sounded beer cds songs girl spider webs life hea dont speak sunday morning hey baby underneath danced much cant neck leg way encore timebomb rancid playing backround couldnt eneded beer anywa tired sweaty goa shower hopefuly get slp since final friday night',\n",
              " 'lark foowed link album caed urink plano ive gleaned various reviews album clever gay lounge pop girike harmonies aina distinctive clay almost sexual sound gay love suburbs gilbert godfreymoment thanks tuning',\n",
              " 'excited seven hour  boarding plane bound great northwest swtest girl know naing concern welfare plants confusedirate clients absolutely vibrating anticipation like six year old christmas would like take oortunity wish kiito wonderful birthday  hay returns speaking returns cuently plaing taking taxi home airport sunday figured everyone would celebrating labor generay unavailable',\n",
              " 'okay way long since done entry must confe saturday evening starting entry pesky mouse made aearance asked husband turn computer wasnt going back course cat came went straight hopeful pitiful thing lose life leave house major problem type things trying oensive anyway entry may get lengthy awhile went chiropractor friday never knew nded found several problems boy beer afterwards hip already back honestly say sorer since poed place back tonight hopeful sore time swim cla also tonight maybe warm water body great easter saturday went moms house hunt son got reay year picked many put back yard kids ruing graing like crazy mom hid basket son cute helped  whispered mine said yep ran graed bucket excited ruing around didnt want wake easter sunday kept teing  everywhere didnt care finay agrd cule couch dada got church huy went living started wake real fast fun watching pick wanted open every one touch thing inside close back got cars lile dogs lot candy hunt provided enough went grandmas house lunch yet another hunt boy glad easter got several outfit several time son jumped trampoline hours tired left went home nap usuay dont take nap late day tired son get back tried wake kept faing back slp slept morning husband watched boy new son going slping would rented something else cute family movie siy fun know son enjoy',\n",
              " 'urink rsvp game great timewaster',\n",
              " 'one greatest joy life search one thing discover another wilson schaef',\n",
              " 'gdne say made slight urink eor printing evil english project would quite understatement ignore large black spot broken scaer threw completely redraw lile pictures starting hour ago new final product like crap compared first final product lked like therefore quite angry right also first period caed counselors oice discus next semesters schedule conflict prograing wind symphony worked frankly pleasantly surprised nice people exept evil mrs ihay anyways hray counselor shes wow many thing hopefuy wont screw anything badly first english project man almost one think statistic homework read chapter history yeah right',\n",
              " 'hard time naming post choice questioning faith garys memorial people show character lay bed thinking day much haened much write first time actuay let tear garys death come close writing tribute though today memorial honest nothing fancy yet totay amazing gue start memorial service place unlike church huge window alter lking mountains get view caot even  outside building service begin caot help stare kayla ashley cousin lost father geing alone mother front row family father fred gave sermon trying get could gone beliefs going criticize anything said one thing mention trying get much poible important set aside dierence situation like one thing though said jesus died open gate heaven nearly broke laughing went head time imagine long line must everyone waiting die haened everyone died brought parent mom laughing surprised even got chuckle dad upset choice believe speaker speak giving great spch played  close heart unbelievable young first heard song ant garys house reminded much would believe gary told turn want listen time reminded mother always remember played one knew special meaning gary krisia knew liked played cried important later told meant went reception reay want cut thing short get important part might told story viper case didnt gary always wanted viper life dream  day viper club knock twelve vipers would twelve ride frway like taking friend neighbors group stayed close unbelievable showing dierent time say wonderful viper group showed memorial brought viper actay stayed whole reception guy amazing coected one guy adobe wrote eect software mac loved talking want touch maybe join ale developers program another one viper guy amazing  big member met gary saw lking viper dose usuay identical one owned contacted gary oered car let gary car garage started hearing story made like guy money responding cas gary gone something haened back got viper gave ride limo krisa working preparation memorial even drove memorial frank say gary amazing thing geing involved viper club want repay gary enough guy sending krisia girl disneyland rich amazing generous going involved video club done much everyone truly amazing get back krisias house kayla chat asks blue adopted answer know fact thought strange asked nothing talking sit bed thinking day wish could believe wish could walk tomoow everyone believer god ask  stop stuck ways realize cant put much thought caot become believer know beer realize lie back song made cry memorial sti named please put name seasons sun song gary put write listening think much wine much song wonder got along gdbye hard die bird singing sky spring air think joy fun wine song like season gone gary joy fun gdbye trusted friend gdbye friend hard die',\n",
              " 'idea university venerable john henry newmananother reason kindred nature found dierence method truth gained theology physical science induction instrument physics deduction instrument theology simple question revealed doctrinal knowledge flow one fountain head able enlarge view multiply propositions must merely comparison adjustment original truths would solve new questions must consulting old answers notion doctrinal knowledge absolutely novel simple aition without intolerable catholic ears never entertained one even aroaching understanding crd revelation doctrine apostle sole depository inferential method sole instrument elesiastical authority sole sanction divine voice spoken question meaning proce far reasoning mode reasoning regard physical knowledge schl bacon superseded inductive methodno wonder schl iitated indignant find subjectmaer remains sti favourite instrument oice wonder rise memorial antiquated system eyesore insult wonder force daling sue method department sway bias unduly religious sentiment person come influence aert new truth gained deduction catholic aent  regard religious truth already christian truth purely  explain caot increase except relatively arehensions without known nothing contents know much contents nothing given divine act independent man remain spite man niebuhr may revolutionize history lavoisier chemistry newton astronomy god author subject theology truth change revelation change human reason outreason omniscient may supersede work avowal strange upon ear men whose first principle search truth whose startingpoints search thing material sensible scorn proce inquiry founded experiment mathematics indd endure science deal ideas facts lead conclusion hypothetical rather real metaphysics even use byword reproach ethic admit condition give conscience scientific ground base tangible utility theology caot deal caot master simply outlaw ignore catholicism forsth confines inteect hold gods inteect greater done man caot improve sort justifies extravagance circumstance religion close discarding severe tone actuay adopted principle inquiry protestantism treat scripture deal nature take sacred text large coection phenomena inductive proce individual christian may aive religious conclusion arove judgment considers faith mere modification reason acquiescence certain probable conclusion beer found sympathy reason throw experimental philosopher aiance enemy catholicism',\n",
              " 'like drive without checking spdometer like without checking watch like listen without checking track number like order without checking price like leave house without checking temperature like slp without checking alarm like steal peoples blogs like slp especiay would like live edge muahahahahaha',\n",
              " 'urink testing  post pictures work expect lot hot pick sexy men tight pant rock hard muscle things urink',\n",
              " 'alton brown urink show urink wonderful comw urink website suck loud',\n",
              " 'urink rhapsody link film ibiza junkies soundtrack worth money worth listening awesome guitard nile song many song album great psychedelia awesome jam interspersed solid rock song ibizar bar end soundtrack richard dasher',\n",
              " '  laura mier new genre coercial fiction lad lit recently pronounced stiborn publisher wkly mere month aival aounced new york time aociated pre nothing sting quite bierly cold numbers magazine printed nielsen bkscan detected sale copy kyle smiths love monkey ostensible leader wepublicized trend hurt event plaer chicago bkstore chain quoted saying lad lit might aract woman reader interested spying side geing locker admit store chain work hadnt sold single copy either love monkey another exemplar genre sco mebu bty nomad like jayson blairs tea seile memoir burning masters house filing lad lit demonstrates pre coverage doesnt always translate cash receipts also prof novel dont aeal woman tough market research firm consistently report men make lile percent readership adult trade fiction exception franchise author like tom clancy writer aeal mostly men tough time contrast halfdozen ladies armed thr name capacity churn two year manage miion novel barely registering medias radar like mary hiins clark river sions godzias fiction trade towering scuying think jonathan franzen big time even bridget jones shrink dimension minor phenom comparison neverthele chick lit legitimate bming genre perhaps new one spring past years bkstore devote shelf two thr candycolored cartnbedizened oerings make aealing lad lit novel chick lit formula tweaked aoodate heroine among things black latina mileaged maied often great sue come sex change aempted lad lit turn tweak far helen fieldings iovation fuse fond satirical take contemporary cult feminine selfimprovement oldfashioned romance plot bridget jone diary famously based jane austens pride prejudice fieldings darcy isnt big departure austens hero bridget jones elizabeth bee instead shes creation modern womens magazines wouldnt fuy work chick lit fuy werent perpetuay faing short absurdly inhuman standard perfection aspires wouldnt want sud shed insuerable naator lad lit cay cro pop culture paragon masculinity fictional genre aimed men staed strong masterful gdlking altruistic heroes average guy rarely preured equal may resent behave adult decorum around women transgrees result likely brish endearing example naator bty nomad cant remember name woman hes slept give nickname like bendy girl totem pole naator love monkey say thing like girl harder get raos title alone tip precarious line try walk anyone nick hornby ever managed monkey say rude animalistic behavior guys weve softened love girls unholy mating slple seale jacka mihapen progeny spring bty nomad woman want sympathize kind man think bed pit stop love monkey bty nomad enough similarity suest germ subgenre ish man pining unavailable woman trying get pant several others feature scene spectacularly cra buy put make hero decent comparison drag naator strip joint lad lit author may truthful young mens preoupations recipe great escapist reading doe include ample serving stu people would rather know promoter lad lit confuse way woman exhaustively analyze boyfriends smaest word gesture genuine curiosity mens ier lives could mistaken proce detection actuay act construction part woman already prey sense whats going locker prefer imagine something aetizing however realistic chick lit heroine may love object bra ring make misadventure worth suering usuay figure fantasy initiay intimidating alpha male secretly cherishes wacky antic ier gdne isnt dierent reay kind hero featured thriers western spy novel read men lile brding violent perhaps honorable decisive feow anyone admire thats one thing mens genre share womens theyre love guy lad lit intent spoiling fantasy could result something even worse despair caught crocountry flight tiresome female reader aowed believe straight men spend time holding conversation penises watching cartn network filing rotierie baseba team contemplating fine art paing gas subway trains romance perhaps even human reproduction would grind halt species theyre staying away lad lit droves urink new york time sunday review last word ',\n",
              " 'urink evil gop bastard confused urink stupid evil bastard urink via',\n",
              " 'forgetful person got give ngain health bklet forgot post something else preview sat zhu yuyuan one lead whole cla wont get lostchloe back maybe another pair another special reason something got either others got pair group lucky lile disaointed remember one voluntred post get beer sms like position gue',\n",
              " 'huicane charley made landfa time north charleston south carolina wind mph charley tore florida friday south carolinas governor declared state emergency virginia emergency service oicial say huicane charley could bring tropical stormforce wind outer banks fld watch canceed foowing areas north carolina stokes rockingham virginia roanoke botetourt rockbridge patrick franklin bedford amherst henry threat heavy rainfa acro fthi along near blue ridge virginia northwest portion north carolina piedmont diminished significantly however aitional rainfa likely afternn generay east line danvie lynchburg dper tropical moisture surge north central north carolina',\n",
              " 'convention like jeopardy answers formulating question sandy maisel president bush gave spch yesterday begiing outline second term initiatives half spch probush half antikeyedwards president second term agenda education continuance tax cuts gop vicepresident dick cheney campaign throughout democratic national convention unprecedented year past oosition taken back seat time oosing party conventions democrat raised miion doar last days thought previously bush would insurmountable lead financial aspect campaign lead cut quickly michael genovese american vote low rate united state worse turnout rate world american many dierent elections united state elect oicial anywhere else world people tend forget federalist government bier democracies democracy drasticay smaer many diering state union far larger greater population anywhere else analyzing partisan voter preference one gender factor choice woman tend vote fairly often democratic candidate republicans latino population also making voice heard politics felt base courted future young people view voting individual person note civic duty went fenway park today second game goen  favorite park able scalp bleacher ticket face value nded one usuay make price yank town wkend would definitely ticket get extremely hot day bleachers probably hoest day suer far walked around iing started taking picture place able sneak box seat row back third base side two iings nice close field man ticket expensive though per ticket box seats went club near faueil near boston court house nice hiphop club namefirst impreion place reminder club back chicago used first turned place named elixir one thing like much gothic fling bar always hot lile blonde number actuay lit candles thing  camera crew playboy television must show produce honest say hoping big girl gone wild thing our unfortunately haen',\n",
              " 'popular demand jais real picture uploaded article aeared mid day regarding real jai view jai jaisi koi nahin forum urink india forum click urink goto article urink direct link chrs urink vijay bhaer urink hpvijay bhaer com',\n",
              " 'urink salon com dark victory report saam contacted alien managed combine alien dna scorpion dna brd giant scorpion guarding palaces actuay come salon interview writer jim knipfel havent read bks though sound interesting bit alienscorpion hybrid throwaway mention interview fit yesterdays mutant lizard thing felt compeed include nothing else read salon interview consider geing one knipfels bks',\n",
              " 'one alabamian chick sent leer',\n",
              " 'urink foxnews com view cato man reay helped saw awhile back cato website found fox read deserves award',\n",
              " 'make maeisforlovers ingredients part anger part courage part beauty method stir together gla tumbler salted rim  lile cocktail umbrea dash sadne username urink personality cocktail urink goquiz com',\n",
              " 'urink forgoen lot picture worth lking',\n",
              " ' wow beautiful sort like nurse dre got blue white gingum shoulder buon amazing big coar yes feow bloers love dre love job discount get dre dream pounds pence however enough shop usual deserted nothing hold incredibly hay impetigo almost nothing distant memory mich rang last night told hes never ever loved anybody like love want may obvious deluded enough may sixtn year age seventn twelfth september weve talked breaking uni stu genuinely upset love kind scare nne ever liked back much like obviously loving every minute god georgia nicholoson bks aka fuiest entire world mother beng absolutely star bought four fifth series dancing nuy pants finished day thats hand trying read marginay slowly enough verys world describe fuy louise reison comical idol frida kahol artisic one think gwen stefani must musical idol exudes time weing dre faded pink boom fashion idol like say someone reay obscure probably someone like kate eortlely fantastic everytime white stripe video think prey much every sane girl world want last monday wrote hge long blog party brick faen etc easily long one stupid bloer even real name craed wiped sha sign point back yes back mainly nothing else partly sweed due impetigo want document pain also think owe suerer warn danger bye dig ',\n",
              " 'tonight one thing ive said wouldnt much sin isnt chied one girl dorm watched movies watched romantic comedy know swt say watch hay couple together wind idea  idea love dont want confuse lust love people proce change partner ive come realize understand first learn love god understand love anyone else selfestm selflove selfimprovement selfloathing  isnt god operates  thats key yeah love idea love neearily ready lustlove someone else',\n",
              " 'rscale one concept thrown around lot miion unreached however diicult thing define point course strategic thinking want know send new  eective idea crocultural miion sent area yet unreached indigenous church nation reached handle continuing evangelization country concept unreached also people groups led widespread popularization window meaning portion earths surface unreached people christ hard time term unreached vague point nation considered reached everyone know even though average town america reached sti plenty evangelism ministry haen decide one area ndy another rough guideline talked one way dividing worldc region depending reached unreached sti doesnt answer question decide group given region church established reached health church density church population percentage christian general population think factored find nation truly reached unreached playing around idea measure relative eectivene gospel certain region key factor think important given localitynumber christian number church pop general population simple formula giverelative scale reachedne would popx popyhigher number mean greater unreachedne example town ome japan would rscale aording calculation higher number ndy gospel place would one benefit kind calculation aowscompare geographic area dierent size meaningful way chart various location japan rscale tokyo prefecture popy popxome city tokyo popy per church popx per christianhoaido prefecture popy per church popx per christiantoyama prefecture popy popxokinawa popy popxsaga prefecture popy popxtakushi town saga prefecture popy popxaing one church would drop doe givemeaningful number relative reachedne comparing region beyond percentage population christian number church area point poible indigenous church area eectively reach area indd send miion areas without undue suort outside number would yet number might useful simply comparing one area region another rather comparing dierent countriesone seing might mean thriving local church experiencing revivalanother seing might mean church decline revived would start making useful comparison determining far completing task jesus set',\n",
              " 'urink rained wanted lie pule smed like idea time urink',\n",
              " 'eric neals wkly baseba column urink page urink espn com page read believe first havent already heard today jackie robinson day major leagues something special honor day robinson first steed onto field ees would plaing steal home mailman afternn slide right bag get box pop brush thats jackie david threw eight pitch first iing second first wily wizard second sweaty desperate cruel game john thomson std mound shea stoicay soaking cold new york rain hit best thing spring baseba bldy unlikely nights love hier trying bat dry pitcher trying mound mud guing spikes even love nut job stand wearing parka ski caps reciting tthchaering prayer cold cup hot chocolate never thinking anywhere else',\n",
              " 'must leave oice must leave oice must leave oice must leave oice must leave oice must leave oice must leave oice must leave oice must leave oice must leave oice must leave oice',\n",
              " ' isnt urink best use cameras laptop internet devised far infinite cats infinite cats',\n",
              " ' blame  betcha would done chicago  fantastic',\n",
              " 'wendy jam went gloriea today aompanied jam buy aiversary gift mark since part bebis field work drop grnbelt able  kahit sandali lang  bebi hehe labyu',\n",
              " 'soy feow didnt post sunday bro stayed using long day use asked  van helsing wow  family hes protected rome century church asks plead girl family died dracula fianc dont know fiace fianc female also  girls brother dracula find frankstein key sourse draculas baby moving story isnt recomend movie something shocked bros working didnt anymoney buy something eating payed wowowowow never haenedm never haen geing schl  writing teacher test thought saw asking help friend shes crazy test kinda mad test  easy knew aswers bit get geing  soy peligroso geing lazy lazier skiinge claes teacher doesnt care poeple home read something today made think dont wait shoulder start cring dont say love make cry one made think dont wait hungry come start cking dont wait chance comes grab firstly others mentioned uncle italy said dad tha  live think isnt true  love  start italian cla next august sad last couple days realized somethings cant woy folks  fine',\n",
              " 'urink moa ape lking bugs mandy nephew dori',\n",
              " 'urink lunch urink hear daughter hoering every time thing lion country safari past march inlaws rented house month past winterspring flew first airplane ride vacation didnt hit disneysea world stu opted instead river boat aigator sightings cruise beach mini golf type thing airport gray grampy type asking kid going  miie mickey son like disney world florida leave tried keedy space center boredtears hugely expensive way even get close launch shule hour bus tour huh wantsit bus hour get photo gift shop family opted space shule playground cocoa beach loved stinkin lion country kid cuck safari one deal drive park animal roam frly except lions lion spot prey much everything else dier zebra giraes elky thing lions blast impoible love place theres  lot lizard birds turtle things say fun theyre gone maine work tonight went without house quiet phew theyre bed quiet house way empty quiet longest ive totay without kid hours sons gone away husband ive taken away kids hour pacing around mindlely cleaning countertop lking window waiting thr day want could tomoow night suosed rain lot next day two sure want hang inside camper dog kids plus sister law boyfriend nephew going watch dave leerman bed wake late eat cereal make one bed say actuay thinking going maine',\n",
              " 'sage carr advice airdog reply started clown thing thought would nothing glory know glory clown',\n",
              " 'someone please link coents tried haloscan best knowledge instruction arent right likely dont know hehe please email jeniedbalskiaol com post since certain someone may sha remain namele hasnt caed like said would sti luvs',\n",
              " 'spoil great advantage working automotive catalog company yesterday company raling product taking space sample employ given thr rale ticket given product matched half rale ticket got wax orbital buer one products thats got though people never came claim rales people charge said take whatever want left able get products today seing old product never sold catalog seing list hand able get stu total doar usual cost bucks  got christmas shoing done',\n",
              " 'got notice coege ive alied receive fin aid material last night including non custodial parent return statement emailed  received yet said noncustodial parent information ing email aid oicer unable waive form reason she get touch let know situation filing independent student mother grandmother mean aiding financiay otherwise next year form noncustodial parent except paper havent known guy past years dont want homosexual may raise family sanctity maiage aarently heterosexual whole done beer raising families puhlze parent maied year sperm donor aka mothers husband aka biological father never done anything parental term spirituay mentay emotionay physicay locationay financiay guarant homosexual couple could raise family beer doubt least chance heterosexual fuckups cher horowitz said eloquently whatever',\n",
              " 'name hans frans vere pump gym regularly gym like shape way past lile egotistical hate going gym base though people think clest thing since sliced bread walking around imaginary lat symdrome arm like inch away torso chest poked holy runon sentence batman generay two kind people gym dumb people date dumb people try hurt everyday make spectacle usuay one ils coonly young marine whose head fit jar smarhoughtful people watch intake workout coectly actuay research work muscle excercise wise people found inthe gym populated military kiies work lile world usuay dare say brain would cla later two category think fairly inteigent person hate use blog vehicle bitching like musclehead true unlike sma excerpt reality deal anyone reading john everyday thank bow',\n",
              " 'since coiion report urink fairly sizeable tie betwen iran including information given hijakcers though aack place democrat curious position key edward described war iraq ndle presumably try use report bolster claimwent war wrong country however claiming iraq wrong countrythat neceitates one belief right countrygo war auming youre pacifist bldy likely kedwards become teibly hawkish come iran said dont believe kedwards make much political hay report point since aempt sound hawkish towards iran either ring hoow comparison earlier statements directly contradict earlier claim alienate hard left segment base aearing hawkish dems try distance usagainst policy bush doctrine diplomatic preure iran run risk making dems aear real soft maerafter argue iraqs tie werent strong enoughbut irans tie even stronger containment post world doesnt reay fly ultimate conclusion backed nothing particular revelation coiion help dems much',\n",
              " 'yes functional fun lovethank knew could',\n",
              " 'tiptoeing thru recently posted blog list find many seriously lacking profile dont care pictures must open nosy people day age gue one want open criticism want critical others kinda sad like dish rest would safe recieve gue others dont one thing wont get politics thing unuh noway already know voting nothing anyone say change mind even dear huy says whats dierence theyre politicians going browsing',\n",
              " 'dzer wipeout way bus today hit ground hard fuy slid sma edge park since lot forward motion sti moving away slid uer body hit ground landed side sized bruise hip left wrist fortunately nothing hurt lile tingling wrist made bus last person line steing',\n",
              " 'nothing new today stayed home whole day mum dadsi went knowledge sad bro came visit son get together right aft parentsi came back exploring abt blog like lagi teruk spent time since morning night  siao ting tongsi waiting one fav reality show paradise hotel unfortunately aear sad ended sti online always  tengok kinda riding bike place town',\n",
              " 'last thing reay lked forward leaving town foow trey anastasio suer tour knew people along way driving first went chicago picked pam drove milwauk picked athena went urink alpine vaey show next stop indianapolis went alone urink crk show bumped ton people knew lawn could indianapolis live detroit went kinkos made backstage studying show knew artwork used also used pdf tour phish website next ohio two day get though made friend rest stop spent night found campground lake went swiing drove urink polaris show together never saw got bump friend michigan partied lost pas one security guard noticed fake even told great fake said soy taking people showed didnt notice selfmade must design crew something definately paable real glance made one ended leaving show early similar two show already sick ohio wanted get back michigan overa lked forward months didnt enjoy much would hoped started earlier maybe caught show east coast something midwest stu get boring long lot fun along way something miing page mike fishman maybe',\n",
              " 'shouldnt take nap day meant aslp got past thr heh whps fun lking link wonder theres anything like urink near vancouver set atlanta georgia pout',\n",
              " 'today extremely tired last night got hour slp get work mom tiring maer much slp caeine youve goen two caucinos mountain dew get going morning eventuay got awake started wash dogs reay easy big dog today big chocolate lab loved foowing around shop day since dad couldnt come get around yeah kept foowing around kept peing reay dog cry baby though thats lab dog cocker except two westies loved girl casey loved kept jumping pick picked held mom start cute hair ran store get something eat yeah fairly easy day even though wash dog prey behaved made much easier hate fighting dogs think job would get love dogs already starting like especiay lab told owner would take lol owner hoie gym  nice lol bad maied lol work headed walmart could buy new unreal tournament game demo rock reay want game sold ended buying webcam instead logitec quick cam expre reay decent one buck complaining  tho  watching weird knowing someone watching  fling talked jeae lile bit ago gheo phone since didnt power storm knocked hour anyway said yard sale today dog ruing around yard like wtf came outside guy brand new vet white lab talking said gay omg name nathan omg lol fuy shes like speaking sex anyone told cracking lol making fun foxs newscaster lol like always cracked talking bush yeah fun drive awesome last night ended swinging joshs picked spiderman kicka movie loved going next wkend since playing  white chick sucked lol laughed whole thing courtney katie didnt even pay aention reay fuy courtney farted head lol meanie beer stop babling',\n",
              " 'realized way negligent posting melia update two words lot beer line arm returned vertical human way long horizontal one sti regaining strength sti antinausea medicine reay whole lot beer staying vancouver mom easy babysiing another person care ezra back home couple great back doctor sti kping close eye teingeverything great fling way beer praise lord ive got wife',\n",
              " 'xiao bai finay know weak heart human haiz told many thing felt tired reali tired decided close everyone decided protect heart leing anyone enter one get away heart dun touch dun lay finger dun wan break reali dun tired bye xiao bai closed eyes away pain dun wana hurt',\n",
              " ' came back short smoke break slacking real hard takers checked email sent email marv great reay short platonic boring endgue even chance like get back together whatsoever heart sti beat dude sigh got fren tiy event coming nest saturday phuture goen invite paed one brother think like drum haha bored death write yet hand much writing right maybe typing thing doe personal journal hand wrien leave oice right reay impeed present moment cliked onto key keyboard page went scrnokae back reality wanting much lift arse seat quick kaz bar kaz bar drinking joint far east near workplace realy cheap like magnum pint gdne psycho coeague smed reay busy moment afternn went bugis lunch somethings new local magazine one work related lking model magazine fresh faces reay shy unsure aroach girl work around thus lunch date btw adult magazine creative eroctic time dont ask haafl special glow whenever able provide service help anyone yet sometimes ever get rewarded know one never start thinking reward even way start helping people yet sometimes quite miserable lost life everything yet nothing lot frens loveadore family great job yet come along way argh maybe reay fusy job want oered job broadcast pay reay people never heard work great would shoe kind position yet unsatisfied know beer something paion something desk bound human related mingle get real sti wating time bought red bst energy level energised today perhaps cluing last night much alcohol bldstream detox one gfcoeague caed say aending drinking seion evening upset haha shes mate even bofore started working get strange fling tonight going haen perhaps think much boring company going haha boring would drink emeveryone busy except thats reay lking forward evening',\n",
              " ' concert went suprisingly crazy hat canes lol anyway hay  ryan like yay lol thats tomaow guest speaker  sex lol fuy nothing talk',\n",
              " 'dsadsadss aaqwpeipwqoyhsjxzbvmxbklwehf testing abakadaboboka',\n",
              " 'nothing talk life boring wish could fly doesnt post songs sht say yes',\n",
              " 'bono received honorary doctor law upe like say fan america know ben franklin went ireland month study colonial relationship great brintain lked like found poverty mud gra huts find anything great britiancolony thingso rest history click title read whole thing',\n",
              " ' everyone sarah wont hearingtomoow leaving mom chris kei bailey florida staying aunts house going beach bad part family reunion saturday god dont know  survive  back sunday taylor also leaving tomoow lucky shes going europe choir thingie dealie shes going seven country dont know ones she gone days going much holy crap cant believe havent posted yet taylors going canada leaving four day get back gone excited proud goamn reading could come going rule two bug bite boom right theyre driving insane boom ugh taylor',\n",
              " ' guys gregreported air marshal today studiogeraldo greg said might heading iraq think staying stateside',\n",
              " ' forgoen charming taste antibiotic time breathe taste lile bit taste like shite',\n",
              " 'else might eat like day roed one day one  madne michee went pinba petes played geing usual starbucks heading day two picnic senior skip day today senior picnic lnfeather park met andrea chloe talked shitload geing pagewent house wasnt home ryan wouldnt answer left day thr tornado came back neighborhd chied park could smoke cigaree heading damn cloud menacing yeah like sunset something dark bright direction hey turning grn ashleys phone rings heo hey josh might want home stay awhile dont know youre right might want find shelter okay bye quickly drove house wind picked wasnt scared cloud starting paing fast car paedstrt sat car awhile decided head inside wind got worse didnt think mother home went lking grandfather screaming name heard dog barking smed like outside ran back almost got blown away yeing dog come inside mom finay yeed name toldcome basement stayed awhile decided find cat sonya siing prey chi michee got cat caier picked cat pied hilarious pied ran basement mom forget cat ended taking anyway think shes sti angry whole thing cat course everything prey much blew went back upstairs change caed people josh driving back arbys examining damage done lile town invited hed place hang case another wave hit aarently next wave coming tonight day four mom alergist get injection michee chain smoked cigaree car like lile yearolds something mom came back car put something mouth lol dork sometimes went lile shoing spr moms car isnt fixed yet shes leaving tuesday sucks bought lot clothing two new pair shoes fun shit michee headed makara dier droing mom louis cafe biest dier world sti like going puke eating much sha make fifth day hour hanging someone anyone tonight tomoows event hopefuy smthly nicks coming sushi starbucks party mikes hopefuy thing moved house mom dad dont ask questions',\n",
              " ' life whether ready aept certain thing past month non stop ride roercoaster staying jes alot lately something  faing aslp next love first thing morning downside family drama deal lately dad away visiting girlfriend grandmother non stop deal life apartment aached house though nice old woman ndy think overlked sometime everything going life moment hard deal every day like love one cares dang able breathe get ready work sure time post later boie rae',\n",
              " 'haens turn twenty weing funeral weing funeral weing funeral sad',\n",
              " 'reay mean post often fact enemies first post one word five days also move take blog war seperate website ive got extra one erin bale wier sha return compendium victorious anyone poe comitatus knows victorious war sha made glorious peace jonah reay wish would post frequently would know marten resolved posting iue calm resolved maer yes know youre shocked michael used diplomatic resource resove iue rather sliing oending person throat erin wait reply hope consider worthy oonant also hope stomach finish post email marten hiyfit epic proportions also say quite frankly dont give damn senior mean you probably gone next year anyway gratias tibi ago domine friday next time michael christie ring enemy within cos stay tuned comedy form smack pony',\n",
              " 'cocktail florida catholic monday afternn bued aint spring break grand',\n",
              " ' thingstupid life boring yea thats tey boring life day tho',\n",
              " 'naruto hokage life sacrificed fight urink brought nigeus',\n",
              " 'many thanks wan tze made time tandem diving contest online sky diving sorta experienced skydivers back cant believe fast response people hour hahaha like found extreme activity kaki sending write contest wasnt easy tried writing short compo actuay short caed composition tried team name leap faith thats one member wanted standing line itching time one leap faith want die death thousand time fly air greater bird touch cloud beyond dream throat choke word give giveone true desire one leap faith life trust god man actuay cant write poetry save soy  least beer liner hope get picked tandem diving broke moment frbie sparkle brighter briiant rose diamonds',\n",
              " 'first rambling thought online peace',\n",
              " 'reviewing leon hundred time caot compared reviewing hundred one times rai hiel',\n",
              " '',\n",
              " 'read urink article wiiam pfa observer yesterday among things made interesting comparison said american hegemonic neoconservatism sense rightwing version marxism aogantly posit progreive dialectic result triumph system think make sense doe neoconservatism imperialistic aogance founder schl thought irving kristol leo strau others former urink trotskyist gue neocon decided switch end political spectrum maintaining aogant imperial quest',\n",
              " 'get suen impulse clean organize thing always hit late afternn evening guarantd finished ive trying box clean junk drawer today realized money ive made life mostly gone impoible slp theres hundred lying flr thats understatement exaeration dont problem going bed mey per usual clothes junk maybe lying flr mile one cleaning binge everything must put back like bed people weird compulsion like',\n",
              " 'sti horny got new tire today played hea  anyway sti horny havent put asexual category quite yet alied job anyway going bed early tonight gnight',\n",
              " 'tuesday february thing hate cigaree wanted say nice mting everyone sunday wish could goen know bit chaotic great  many people suorting trio geing kind close time gue tomoow start packingthrowing thing may bit diicult since everything also figure want rent uhaul buy large van trip figure van always get money back dont know thats doable yet also stuck whether put thing storage take put storage gue depend much hoping chuck opted lag behind couple make trip long trip would nice backup someone asked day going california curious ive wanting make trek california year ive always entertaining creating want one form another around seven year ago close friend time james korloch extremely talented man righti think profile imdb com actuay decided going make trip west become something unfortunately thing didnt work plaed eventuay afterthought felt like let father though always bothered  year dad become stricken throat cancer dying prey much put life hold point could spend time loved dad anything else wasnt going second could near end caed mile night talk voice faint breath trace gravel throat eaten away held hand listen every word like last talked minutes got much finished said love son want foow dreams whatever dont let anyone cant youre person proud remember said kept journal day would never forget time together end didnt foow dream let pas wayside always eaten away chance make intend interest dont know whats going haen get nothing thats going trying much revealing thing lile insight thats main reason going california insight read new autobiography laughed cried viceversa sale june bkstore near love dad',\n",
              " ' maria love tcnjgirlie ryan seacrest metrosexual would nasty til cow came home tcnjgirlie seacrest  tcnjgirlie mean',\n",
              " 'great quote john yoder believers cro longer every kind suering sickne tension bearing demanded believers cro must like lords price social nonconformity like sickne catastrophe inexplicable unpredictable suering end path frly chosen counting cost inward wrestling sensitive soul self sin social reality representing unwiing world order come great paradox taken  camps new mere discipleship cro jesus signifies disciple christ dying stead die slave sin atoning sacrifice undone power sin unto death christ caingdie must wiing die rebeious power yet aept lordship cro proclaims longer die consequence sins yet must die wiing worlds sins',\n",
              " 'holy christ dorks got ramones girl woke two hour late picking camping way said want anymore made want buy roses damned malt liqour late hours',\n",
              " 'interesting hour wkend friend mine urink site discued shared view trinity watched show history chael dead sea scro found cave outside jerusalem many plus year old confirming much old testament writings found text dating around century containing phrase coonly use describe new covenant god found none refeing jesus brought nondenominational christian church family learned much christianamerican culture way older get bothered ive become whole thing reay even aending faithbased coege left questioning religion rather agring however questioning faith god idea interpretation many hold truth',\n",
              " 'lile say yet obliged write space unlike alegrueing university load begiing enter like crunch time also christened busine end stage year work outside  hectic hours also joke courtesy filthy cousin great sex inteupted period filth  youse friday say dont mean bangasretiring ftba tiing afl four goal umpires absolute travesty',\n",
              " 'also havent yet checked photo winter break adventures check one josh posted urink  shuerfly com email are teahenpaulhotmail com paword japanjosh hay viewing',\n",
              " 'skiftede vand idagbrugte det sidste aquacid jeg snart noget nyt jeg har renset pumpens outlet flere huerne var stoet til jeg har ogsa vendt dyserne udad grunde det frste skabe mindre turbulens ved svrdplanterne det kan vre gror det andet skabe mere turbulens overfladen vandet har vret det tyndt lag gre slimalger desve helt der sad ogsa nogen planterne jeg haber lidt mere turbulens kan bryde dem fra hinanden jeg rensede noget bunden jeg tror det super godt gre det lugtede scalarens hale jeg synes det bliver bedre heer darligere eftersom der andre steder den har floede fier eer nogen andre der har kan det vre det noget andet jeg vie ihvertfald nske jeg havde mere melafix',\n",
              " ' cli note version posts link woman aacked outside paris kniefwielding gang lked identity papers saw lived wealthy area course made jewish jew deserved aacked wonder train heading toward vichy',\n",
              " 'today day first crop croing finger get first party didnt send many invitations hopefuy help bst confidence start geing word reay selfconscious dont want aear pushy weird lol finay starting bit beer kudos ron finding cough syrup help pharmacy know family first names always wiing helpget whatever neat kind situation makes like westfield starting become home anyway hopefuy rest house recover cough move figure closer coin right hes going typical sevenyear old stu afraid patient days like read night sometimes doesnt become huge priority thats biest goal moment',\n",
              " 'ikiru dictionary form present informal positive tense verb live exist like group godan verb fact group ichidan present formal positive ikirimasu ikimasu youd expect upon works mighty despair ozywhodias',\n",
              " 'usual morning wake eat liao continued playing lol afternn went cousin first fetch another cousin dancing leon eat walk marina sit ourself space reach already lot people liao wait long time watching firework performance completed basketba game lol firework dam nice best time watch love one man bad dont love one except friend family firework last like bule short understand meaning life got picture try transfer com show sister sti reach home parent woied father caed scolded war starting man haiz tried help fail haiz',\n",
              " 'recuing dream ive deserves note weird twice lile creature shown head slp cant figure unconscious trying first dream came ago dream fding squiel balcony wife live apartment complex balcony local squiel figured climb originay intended create bird fder balcony squiel started showing sift birdsd sunflower sds decided aoodate fding tray theyre star show enjoy daily refi sunflower sds peanut walnuts tamer one wife given names come take nut right hands dream everyday thing fding brownishred squiel oakland squiel scaered fear telepathic rodent aeared smaer squiel rust color tail overa aearance chipmunk interest calmly walked mile balcony std hind leg grted name head yes thing telepathic powers weird yes oursdreams bizae thing taken maer course grtings gil biing chipmunk aounced calmly want sure problem theres plenty responded incredulously cant control gil dont understand continued rodent exactly say things control youre rodent cant reay hurt you slp eventuay miion get sma places fiendish fuy creature threatened know family lives older parent sma nephews wife would easy take dont reay remember much nightmare relieved wake discover dream morning woke another visit mind controing chipmunks time work left normal station washer dryer use computer cking aliances turned around terminal  red sma fiendish rodent standing haunches sending meages grted instructed would geing chipmunks symbol back neck order identify one controed objected rodent ink piercing skin youre bound cay kind diseases nothing could sanitary wasnt reay objecting something ive wanting time actuay poible infection feared didnt want get rodent already conceded thing control stupid human chipmunk said turning depart get mark hand kind chipmunk store uoticed anyone brenda one coworkers held sewing ndle sma jar black ink noticed point already wore lile sword taed neck slave chipmunk sigh turned let brenda work neck felt lile pinprick manuay created mark chipmunk neck awoke relieved nightmare time work real today slave capitalist system',\n",
              " ' beach slp fuck german deutsche ',\n",
              " 'rocked hardly anything random shout sean drunk though want strip club',\n",
              " 'think discuion huck controversy sms interesting read particular interesting thing paage implied teacher actuay use positive aspect huck teach truth slavery one teach huck conjuction historical period behind insensitive teacher may aow racial impact word student clarm unchecked aow student read aloud clarms contrary study shown hand teacher novel actuay positive impact racial aitude increase inteacial understanding agr fact dont  true picture period history  life coon man use language use back one grasp true concept course carefuy studied conjuction great understanding history slavery slave trading thats elementary mile schl probably idea kid cant get ironies satires historical behind twain wrote used bad word portrait truth',\n",
              " ' sure new template might switch back lile bit pink think',\n",
              " 'dear susan today lile kid got run one eighn whler semis stampeded heard elephants crpy man came earth ate kids insides lked wishing could fix kid face realised dont know magic fact one let face thing magic wand wouldnt like monkey day later came infected started eat face bit piece delightful turn event thought wondered know teibly unfortunate haened child entire existence plus wondered lked like mother farted vagina suenly knew plastic surgeon never able fix taliamaybe save enough sucking dick money modern plastic surgeon sample expect much beer like best hoordvdtalk comreviewsdaysusdays jpg writing beer interesting tea sometime vomit talia',\n",
              " 'man wife court geing divorce problem get custody child wife jumping said honor brought child world pain labor custody judge turn husband says say defence man sat contemplating slowly rose honor put doar vending machine pepsi come whose pepsi machines mine agr quite fuy laugh',\n",
              " 'reviewing mrs post recently come conclusion hart greatest moment debate coent peters letfair stereotyped post june archives turn response debate ranking system sites richest exciting period thought time bright future unfortunately since site knocked course smingly interminable buying saga teacher intervention although interesting post since none generated heated inteigent debate phiip island great discuion neal hart whole range iue americas place world personal religious belief fundametalism guatemalan fruit companies kind debate weve miing neal back iowa golden oortunity hear opinion friend back return best day start posting coenting thing talking dont deliberately controversial say believe give fuck teacher think admin anyone wondering deleted coent around enforcing new policy delete coent made anonymously btw doe mean dont aount bloer com cant post coents make sure leave name else coent deleted',\n",
              " ' sang olivia min old originay uploaded urink funkyjam sang amazing job delivery lking believe gave birth minute prior',\n",
              " 'april liza minute ago dot cuent girl year since decided  exclusively hawa april back louie dot',\n",
              " 'urink nike  lance ride cant say enough guy bada going reay torn routing urink tyler hamilton year urink tdf tyler urink hometown boy goa show love',\n",
              " ' crap right let make list faults maybe someone else screwed heaven know cant  bitchy boy pushy low self estm aoying jealus cold hearted uncaring aoying voice gky nerdy talk much read much popular experianced smart  badly bad tth bad taste clothes bad singer obseive selfsatisfied artist half poet lame writer religiously convicted whl dont fit wont fit unskied fantastic student athlete gla friy hair red hair sma chest anorexicay skiy freckle prey money enough expendable usele dont enough trouble enough problems lets  monday night problems somedays swaowing bole something stupid like sound wonderful dont reay want die know want someone else dierent life dierent world isnt enough world try friends listen probolems crap return almost nne turn shoulder least understand going loyalty thats mean know said everything okay reay dont blame cant help loves underastand never meant hurt even though managed hurt didnt always guy like never get bldy  someone else dont blame want know enough dont someone whos mine alone know calm ice day found maybe shock maybe denial dont know mean sat thought reay thought doe something like haen seriously sti pied even mad diapointed hurt maybe afterwards felt guilty soy time admit thing farthest thoughts soy going hurt time calm figure thing know stand know say thisin person know wont able focus maybe make weak cruel coldhearted bitch already know something new maybe friends bit hard right friend coitment cat',\n",
              " 'traded usual plan spending evening elijah friends great time home early wandered hour maybe tomoow night spend time together alone make hay thing going way new',\n",
              " ' may oveeacted lile yesterday wrote post went indigo bkstore checked design logo ideas found beautiful wanted buy bad already spent quota month anyway got inspired ran back work jot ideas morning wrote bos email ask could mting busine partner  kind logo wanted would used etc excited gue forgoen best part graphic design thinking something someone like worst choices taking one design thought ugly would die making favourite changing lile thing turning thing around design becomes biion time beer like client like everyone home hay yay hay debating whether talk spiritual conflict ive late  talk sma part ive sing lot sign lately  everywhere sign dont cant read sgn seriously lile things people say certain things certain come hands certain random email sent reay begiing think life read signs example went indigo find graphic design yesterday give finding magazine section picked another  others sideways know anyway picked shit picked prey boring fixing one leerheads logos exactly lking finding inspired made think way discus idea morning talking aunt asked trip cancun kids mentioed great found bar played nhl game big leaf fans said beach asking goa get  game plane flew pat obrians big scrn nhl games like sign god said bought lile caed best year ever best girl recoended buy got home figured would let rate know bought since hes working anything fling kind low usele thought might benefit reading everyones teing read said hate kind bks started read lile made fun fine thought dont  blantant sign life get one everyones teing read selfhelp put one right face sti wont even try fine stay home like crap dont even try beer dont even think something new frustrating realize everyone believe trust idea signs totay aparent',\n",
              " 'yawn last night going quiet lile evening home caed invited join show tune sidetrack course said yes course got ran bunch guy chorus four hour sang wild abandon qun know word harmony show tune ever wrien didnt get bed sme like goamned ashtray',\n",
              " ' everyone created new blog replace one urink hpuberkiwi tripod comblog reason control images provide fdback',\n",
              " 'hear timeline present every time find underslept wavering cup tea bole foundation murmured laid umbrea elegant table alongside bag angel leaned hued chimed simply cost least minute onhold ciies chainsmoked sat acro shrued leather demi saison sighed time youre early right quite shockingly youre late would mar like something begin capuino please destinys darling asked turning back angel australian siren maied ponderguy close friend almost year probably come chucklable definition might suarize friendship wont angel raised eyebrow new aribute quite sht brand new oortunity showering husbands way hand gesticulated air swiftly aed antidepreants quite high fling empathetic right  youre fine sied filtered flied blonde lock shoulder although reform dictionary meaning fine case statement foowed angels soliloque textile industry lasted hour eventuay asked came reply hours monologue life girl life like curse skiing mercilely one generation another fathers aunt father finay thing finishing second capuino lit cigaree probably get long dont kids alright poverty hit back around lovely midlifecrisitricken husband ditch something blonde pun intended kid drop dream work amake end angel wiped away tear laughter fate forward sounds realistic altitude gried later doctor easily thrusted something size lile finger ear dazed holding capacity aural cavities found rather ironicay musing much curse story actuay believed doctor hed blinked moved left ear repeated check fathom dont believe wholehartedly least yet somehow sure make sense phantasm hed preed hand side neck gulp please obeying thought finay shifted towards whatif vexations malfunctioning thyroid glands clot somewhere located ear wherever brain sound decoded thank swtheart said got nothing wrong ear throat aed outside course meaning shouldnt rejoice yet want xray fistula along audiogram tympanogram scriled something piece paper handed take red cro aid come back result tomoow geing noed thank much give dad regards aompanied aed baerina smiled softly posture way wear hair definitely mark one exceptionay long neck resemble mother indd lovely another compliment coming postmenopausalandropausal figure aed deluge least aempting give praise holder coemorating credit deserve may luxury hear another one',\n",
              " 'urink badlands campsite morn',\n",
              " 'kiing daughter yesterday showed red spot uer lip saying nana said cold sore freaked said never say expreing course denial could actuay herpes simplex wasnt exactly response wanted daed hydrogen peroxide cried hurt owie nothing sign noninfection later said lip chaed kept  piece dry hanging skin ried thus causing red spot ive bit oral germaphobe since junior high health cla careful sharing drinks chapstick fear contracting things got home day freaked much way hay lile girl felt plague later brushing tth said moy life changing mean asked suertime riding ale pony rode last suerfa dierent parent wont ble heart',\n",
              " 'dont know naow many dierent people like though dave navao course top list ley kravitz trent reznor ewan macgregor jason  michael madsen wesley snipes mikai pfipher eminem yes reay ice cube jerome beis ftba player pgh stlers anthony kiedis rob zombie think could awhile  naow',\n",
              " 'meage soundtrip movies movie short hair long hair long hair ach white skin morena golden skied brown eyes black eyes black eye chicken pork chicken huh short think sti short inlove duh probably dont love anyone noisy quiet naughty nice naughty nice singer dancer singer truthful answering yeah want say people read blog hope like hehehe name katlina dana vialuz hahaha joking kathln dane vialuz listening right dads snores complete sentence world nds soil fresh water plants animals sunlight temperature minerals compounds chemical air model cephone nokia know sucks sms  service coloured scrn poly tone whether without camera last thing ate iron suliment actuay anemic crayon color would cornflower agh nowdays lot name crayons think kid enjoy miion dierent exciting colours chi time reading bks crocheting watching last person talked phone mom first thing think  oosite sex shorty hair auto manual car manual favorite day year dont know yet ended favorite place auschwitz concentration camp boring bedrm favorite sports absolutely nonewear contacts rarely sibling ages great answer clest way done release preure act like crazy mental patient thing hate lot hate love ironic best thing girl boy nothing scary movie  movies scary movie tend laughable piece crap best friend best bud named denise chocolate flower chocolates sure plain white stuck jam dont get traic jam fruit jam sms philiines cheaper like pmeagepca minute could turn back time would perfect test fail lot waet lot money picture friends whats scrn saver dont know scrn saver older brother hate scrn savers favorite board game bored game favorite smes davido water men givenchy oblique rewind last thing think slp weird imagination thing cant live without living body haha favourite quote life isnt short long',\n",
              " ' first time actuay making blog new teacher dumb sometimes teacher main subject gavebunch homework due tomoow like theyre trying plot right listening song caed california song localprey song check lately ive wanting concert asked caie one friend could projekt revolution aug mom actuay said yes plaing sing korn one favorite bands linkin park snp used problem geing ride asked oldest sister jey whos take turn shes going trip exboyfriend next day doesnt waa asked sister lisa whos take told doesnt like korn wont either know parent wont take hour drive gue  wait come another come closer finish homework couldnt figure get back draft couldnt publish yesterday actuay yesterday today',\n",
              " 'post lyric favorite song vie boheme rent min song know prey much heart musical brings outa emotion anyway sport day didnt play mean couldnt lose haha packer wamped seatle didnt get watch wasnt urgh suose  cop double urgh may whats thathaha cubs win cub win think  heart aack make series let prior pitch every game hehe anyway plan geing cub shirt tomoow late fan ive rting last couple years  say geaux cubs',\n",
              " 'ble father sied day since last posting busy moving new place baling horde tming ant coectively decided rates declared war  beat ants triion easy victory weapon defense vacm dustbuster plastic ant trap metal ant traps inadvertently maive gigantic antcrushing none eective bales madewin war toxic ant chalk lile known secret among american cultish foowing among iigrant family chinatown got mom ensued brutal inhumane sadistic anthropod torture two sma girl could ever wage drew square boxed prison poison poisonous prison shr unsuspecting ant shr delight wronged captors thats get creating suicide cider base lowly uncultivated brding bugs take draws square draws another square one ones geing newly opened package dried mangoes motherfuckers swt victory next day faen ant body everywhere balefield liered carca vanquished enemy ignoble death end big dustbuster sky descended upon one along corners caied body maker',\n",
              " 'top urink check list youre  thanks urink drewbaa',\n",
              " 'couple year talking phone every day stuck home kids ala oldest friend decided breakfast one sunday blew church privilege creamed chied break routine next wkend became lunch shoing movies wkend escapes whenever could  time place could stop moy cant find fluy dinosaur honey wash gray boxer brief instead person remembered distant past person laughed wore makeup eaings ordered refi restaurant iced tea served waitre highlight whenever almost way hours fls comparison regular grind like wks vacation time bump around store without trying predict behavior lile complaining person cant eat restaurant aergies time actuay sit order whatever want hate end drive home one thing ive trying bring acro however suefuy blog motherhd rowhouse care maintenance time job even arent working knot lile ones hair sloshing rag around toilet bowl youre zone stu youre thinking particularly child care responsibility youve always got antea vigilance never leaves work  oice open email aount pick meage find someone something hour day seven day make think dont like helping problemalso hard say people pay one child work paelful also way work doesnt anyone entertain cruise director shes person playing shuleboard wearying wearing wonderful whimsical end day like puing thr shifts kind guilty admiing love mom toughest job you ever love would anything thousand time lile smunchkin hay one thing time break hiary though favorite person said take viage raise child todays world everyones place  burned seceded distinct fiefdoms else viage come back together teacher phinies schl ziing zaing want word one exhausted parent meage board ala told viage shut much fun today ala hair sort rowhousey updo reay kind murky prestormy wore big eaing medal cro new chain put mascara got car drove away without woying car seat fastening drove grand expanse rowhouseland block party wkend meant half block neighborhd closed block party joke aoying get thank god theyre organizing one block year last year aused underpaying ten bucks distributed budget end plaing noted ten buck expected total receipts regard entire institution sort skepticism anyway went thrifting got grk topic conversation lunch headscarves hipne breasts blogs babies pro con gender dynamic family unit skin condition child actuay dont like clown nautical decorating theme smey old people store bad comedian antique store take shower afterward mustine garlic onion consumption soldiers vintage toy store turning radius car sme florist punishments parents generation meted nature love old stu away everything maered longer remember individual choice aspirations kids aspiration boom list even cat back woy come back deal least next time',\n",
              " 'emotions ext version must fucking make ive hid years dont even know deal emotion worst fears trust know naught betrayal betrayed everyone flwould betrayer life ive hid emotions ive always stoic one trust could broken whole life could undone yet make ive hid years dont even know deal emotions worst fears catch eye acro know naught take step take two hearts flueris realweve spaed distance standing close begin speak dont heart say stay mind say smart fuy cant eyes perfect inside outside heart bound loving ties yet  friend wont risk  losing silence sha fling stay smile answer back',\n",
              " 'someone entertain please bored tired studying ancient india hay news get alias season dvd set today suose could start watching realized yesterday actuay one season episodes new fairly sure saw eps last season ugh become new obseion since coege ftba season eentiay reason check espn com morning instead alias meage board spoilers lame ',\n",
              " 'ever lied absolutely reason mean talking someone today lied totay inexplicably didnt even think total fabrication escaped lips couldnt concievable way helped could hurt many ways iediately afterwards regreed nothing could guilty say soy wasnt reay true mean cant apologize didnt reason something subconscious whatever freaking majorly child night make beautiful music somewhere else headache',\n",
              " 'yay going italy two mornin tomoow days excited everyone else schl trip kinda thing friend going goa back erm tuesday also yesterday computer schl sent meage every computer whole schl loed lol including interactive whiteboard form tutor teaching time luckily didnt get trouble josh friend sent one saying andy bum boy    got boocked deputy head lmao unlucky yay fun sun',\n",
              " 'wanted write stu ive thats goa let start lile stu saw movie let watched big bounce much haens movie liked girl movie tho watched barbershop movie like first one though think world went brother dad saw anchorman think laughed first time movie great alright enough got new music discovered cdnow com downloading software downloaded taking back sunday yeowcard believe way away october nights also downloaded rap stu kanye west petey pablo jayproblem awesome course neys top cant wait day future release two day song place jaheim care know ive went mcdonalds friend last night kinda disaointed paige didnt jointhats ate prey place wkend went edwardsburg  grandpa ate lunkers last friday ate grand empire six seven plate awesome buet cant help thinking great suer couldve done dont want sure everyone else think thing haening wont woy much dont know everyone else people sti reading wrote want consider geing together either wkend two wkend problem hosting hear people later kevin',\n",
              " 'notice two new link links section one replaced blogspots atom xml fdburners much standardfriendly one right say  blog yah mean click shazam quite exactly part yah page aint nice',\n",
              " 'aidentay came acro urink rfc standard transmiion datagrams avian caier',\n",
              " 'fuy drink work turn kind crazine',\n",
              " ' come aention anonymous coent remind fix people cant coent anonymously kind aoying knowing wrote back article posted iraq photo entirely aurate sculptor made statue paid may true would certainly understandable however reay posting anyway stop blaming soldier jobs guy right guy honestly want right thing money coege didnt coege best oortunity military family history yes think right thing coon right foowing order trying right thing whatever may lets lay military know right bush key frankly havent decided yet get vote knowledge kept know sick everyones negativity one want hear anything negative something negative everyone get huy disprove bush key want slam sms america interested right get grip people decide mind like president  evil discus among friends guarent neither guy devil stop acting like youre fighting life slaing opinion dierent thats america baot suosed secret',\n",
              " 'want praise siing long day lecture today given fact todays weather reay bad foy cold deg centigrade knew going cold managed walk fog without much complain geing frustrating though sti slpy lecture alright reading tces bces heavens forgoen iunolgy terms goa read practical biochemistry spectrophotometry colourimetric nadenzyme linked aay technique tomoows lab much read lile time',\n",
              " 'urink serviceoriented architecture serviceoriented architecture soa component model inteelates dierent functional unit alication caed services wedefined interface contract services interface defined neutral maer independent hardware platform operating system prograing language service implemented aows services built variety systems interact uniform universal maer detail visit urink ibm comdeveloperworkswebservicesnewto',\n",
              " 'much say last two day prey quiet ive going bed around amam everyday slping past faing back nightowl ways last night watched mary sheys frankenstein finay caught bit basic cable heavily edited cant say worth wait dont think deniro right part especiay physical sense swear heard lile new yawk aent beer today cleaned lile dining bedrm started laundry two loads mostly spent time watching playing age empire dont like much anything sti prey depreed losing job like ive lost live dont necearily mean dying mean going forward starting sms futile anymore like plane thats always geing shot even chance get airborne itd nice friend around someone talk thing friend either moved away goen maied selfabsorbed care anyone else glad sti band otherwise know soy state mom invited sisters inlaw wkend think going hopefuy that chr sure',\n",
              " 'urink aording urink  bldforoil org anybody bush key necearily beer americans bush key november much liberal siy right wing nut job aording guy urink  jibjab com either way american arent going puing iraq anytime consumerist mea weve come know hate guarantd there lot war pursuit money oil reay true president america powerful man world extent bush merely corporation puet extent political decision influenced big busine lets forget bush busineman foremost president second',\n",
              " 'steph one hate clowns dont mind much one hate birds april fine fun sure want get house sure grandma wont mind watching lile bambino awhile carai forgot didnt give money movie owe one nothing new lile world geing  everyday john first expectant parent cla last bby breastfding cla john excited men bbies main event',\n",
              " 'urink statesman com thrown bar rue got involved scule rey yearold german shepherd member cityscorps rey human partner dispatched investigate disturbance bar rue objected ejected syracuse police said rue graed dog throat choked bit neck wiiam foster reys police partner used force get rue release dog',\n",
              " '',\n",
              " 'hia loyk new pink thing sorus dus agr new bloer style  mint lol fink cly thn agen myt jstembarad wel wot kwyt eventful day aint gona details basicay arc day kpin sofi company thn mid jake luv ble lol wel thts boutyas luv sami ',\n",
              " 'great watching morning america morning thing dangerous thing everyday life hysterical okay goes tey bear heard word tey bear reason watched begin dangerous grily bears toy related injury year qtips dangerous razor blades although anyone snl giant qtip think easy believe set cause injures year includes people walking causing people poked eye antea doe stupidity people reay hurt qtip alas humanity going maybe president change hahaha random byerly imd today havent talked like month never talked strange hopefuy katie spending wkend would awesome hahaha wed sch fun time gosh thinking number inside joke could come bad nick gae revoir cuently listening came bathrm window beatles',\n",
              " 'work kid also got swing set taped place big whl several garden implement would like tape old mouth mom wont let though duct tape training tune aint many would like stock duct tape today quote',\n",
              " 'aording one site trackers someone used search query reginald dey riot pictures ggle get site huh yesterday study day bust rest today use computer play videogames finish take home final ive listening shadow interesting complex music asked someone yesterday figured ask readers one get extremely distracted trying study mind becomes interested everything else world besides preing task hand suefuy convince body stay put study always losing end bale impulses focus',\n",
              " ' move year existence reflect aomplishment person sure student council since grade year president twice ive cause youth networks leadership team worship team church ive many awards ive many friends ive met many congremen ive many parties diers luncheons doe get eye god things knowing people stu doe make beer anyone else god love like everyone else earth material position get glory god may flesh like selfcentered pride inadequate come spiritual maers focus life sueful else answer lie word god everyday desperate god day god show something find nuet word  satisfied time hunger come back life sti locked safe lexus cages huge expensive homes believing highest social status people earth world',\n",
              " 'hiya sssoss long cumwrite liaoz unfortunately todae haf hay dae jus likeweathermorning raining catdogs sti fling extremely kaoz wat haen arz damn puing extremely long face dae actuay plan house wan plan failed kaoz quiet save coent urself dun nething man iit anger dun think nth wif iit becosicecream ate juz sad hurt sobsob lvls cuming dun thing shit lidat study sense urgency slack nvm destined score thats final case closed lost hurt confused dilea lost hurt confused dilea solvenumber paerngivegeneral formula duhz',\n",
              " ' never went walk haha gue make liar reay dont bad would mied sumathys phone would left nice long talk trip texas dont want schl start dont know nice hear decided going start morning kardio kick cla karate center start tomoow cant make ortho aointment going friday wednesday friday kind suck maybe night time one days dont  get shape want schl starts want job maybe even get brace one might pushing praying gdne niptuck tonight love show reay love christian troy hes one sexy man didnt watch alone sister came home early work didnt kind nice someone bued arent showing right instead rescue  determined confuse man cant believe going junior doesnt right also going complain mean year done high schl thought make sad also ready get weird growing people forever mean kid life even though suck dont boyfriend also realize people life known almost long date mean people interested people started talk everyone else like sibling love interests okay lame  lame cares truth isnt anyways sti cant believe holy crap reay old reay old older used logical bed aointment tomoow morning leave mean get kevin shower gdnight gay',\n",
              " 'psychology  strategy love tactic understanding human behavior find make true love haen doe true love truly exist know stop figure people get spin around prey spin world start spiral vortex control best let people best let people expre best wait true love ',\n",
              " 'grace steph katie guard ',\n",
              " 'found grandfather figure died though inside know  talking mother teing  within dead infact much alive either paed heaven waiting awakened',\n",
              " ' hoping get work mienium everyone antsy today people biting oice next others plaing weing thr bands thr watching soap operas friday even bother lile mouse played last night geing buies although sti enjoys ping hes baby think woied hes soft got being like coon candy made cozy lile bed slp mile must close entrance hole sele nap  coon going breath lile mouse love lile guy kind ralph though cute managed entertained thr day straight wily lile mouse maybe store wkend say heo repurchase however hes kier pey glad moms home could used body lap last night froze television time started socks sock knitalong would put cute buon cant figurewould lot work theyre stitch bitch using lime grn hot pink turquoise bright sherbet orange theyre made baby theyre reay super hot they soft machinewashable trying find large quantity inexpensive yet soft yarn make twoperson sized blanket big couch oneperson sized blanket living taking gay pride blanket bed dont think would able slp without least near found stu discount site would skein incredible deal require least order maybe find something else like site hoy loy yarns stu ive goen used theres reay nothing else dying make since socks pair regia socks coon yarn experiment gorgeous candy sweater work dont know tragedy struck one sim famlies last night liie dorfma daughter alex jemina sister newlyborn josie came hoible coughing disease died grim reaper came jemina made plea daughters life reaper like fthat died theres gravestone outside whole family cries like time sold gravestone enough crying new daughter josie like neither one parent kind buugly mail person girl dont milkman',\n",
              " 'chris lindays reading website  changed are urink link read updates tomoow timing space',\n",
              " 'lurve czechs furking lurve',\n",
              " 'ive seaworking way much entry maybe urink sliing skirt would help unwind',\n",
              " 'new blog like much beer old harvestmnfarm samira lked blog one thse stop name japenese always wanted one thse',\n",
              " ' alot thing say dont much say faing everything want everything youve given much comprehend whisper unheard like theyre obscured star burned bright faing hard tonight destination sight cause roads  everything  give everything clue youre sti let know care anytime star burns bright dont let tonight destination stay sight roads sti long song track cut slack roads smth move time quarter nine nothing smed right found tonight',\n",
              " 'ive never kping diary may work today work surprise caed left meage phone skeptical ever hearing sti know haened graduation wkend cause complete lack counicationrecently gue level knew would never able work thing mile dreaming lile bit believe thing haen reason however wish could figure reason met james time life almost scary perfect stupid sense humor understand perfectly cant imagine ever aholver staying mad doe move texas wks long distance isnt thing get heart broken recover move get broken gue way prefer young sele one man wish would quit mting incredible guy wrong times going get break love side fabulous wkend begiing love new home poibility endle area making friend figuring way around work much beer thought could gue true heart would known sti dont think could live rest life though hay think great steing stone though years bier beer thing maybe  move back home maybe texas knows love many choice life reay fortunate oortunity life haened lately life',\n",
              " 'sht doe stupid lile thing like smile make want',\n",
              " 'yeah eoywn rocks heo didnt know anyone start laptop died hoible death fourth day trip thus making unable update daily piece notebk siing new dead tubey meenger bag however rest laptop probably warehouse somewhere thomas let start saying welcome back also people dont respond contests believe know  updating completely random order done dait jonah tried desperately vain find fiesta bowl parade pasadena time thats kind like asking pepsi atlanta nathan crazy idea dont try play you thank many spring saturday morning marten ikea erin ikea thomas ikea sophia ikea rhymed spent',\n",
              " 'realized think two day ago actuay going miion trip suer doe sound lile ridiculous daughter katie mustard mile schl wkend cmts spacecrew nyc gue crazy sounds one prey specific goal mind thing locality tie roundabout way piece designed part movement one time suer trip excited nervous like wrote previous post something mystical haens get motion sickne begin move god mcmanus expecting god move circumstance least confident think big maybe end barfing sometime',\n",
              " 'ive reliving guilty pleasure movies watched waynes world one night last couldnt slp tonight watching teds exceent adventure prompt make guilty pleasure movie list waynes world teds exceent adventure deuce bigelow male gigolo dumb dumber weird science buy vampire slayer hairspray crybaby spacebas jay silent bob strike back check shit going lile rock august ney mandy jaed thats right get back vegas sing blue man group elton john star trek experience sing span one excited cant slp sedative',\n",
              " 'gold relative standard economy country true standard economy productivity gold plating thin wire electronics rare symbol wealth power diamond dense carbon sparkle hard great cuing enginring take great care two hurt sometimes',\n",
              " ' work got scrnshot portion site near fiished yet goa urink',\n",
              " 'blast phil course speaking slpy creature hauled hole year bunch monopoly men know hes got auracy trend would liked year foow vein rather left endure several wks hay hibernation',\n",
              " ' july colorado springs linda shawn scot headed colorado spring visit karen andy katy july  relieved know andy safe back iraq',\n",
              " 'birthday five days anyone sti read thing send card snly snowed lot last  family went lake superior minivacation brothers birthday since john finay got job couldnt shovel duy shoveled sti trying get shoulder back shape could hardly move wkend man suck  may scheduled clearance date hopefuy survive cause weather great basketba season coence saer news taras brother joe finay given adoption jays wife wanted joe refused ever walk train anything great big wild puy hardly human interaction lady adopted got bit twice face gave dad chance since dad already old dog living joe going put course dad like maybe anyway dont reay like joe much hes taras twin brother could  sister sometimes  dog think reay think away  demand back doesnt remember anymore shed run away like ive said best believe shes dead whether shes alive tara knew dead wouldnt respond name anymore okay though  take memory sunshne          birthday coming something life postgrad life bring shoulder shouldnt excuse working anyone job plz',\n",
              " 'would finish phrase never embaaed time later cant think one right must mentaly block nope remember  drunk party toaster persuaded would reay fuy picture didnt get round damn toaster could job world would nightclub owner always wanted like best guy toaster files grist one oldest friends always custard guy never stop drinking baity splash rock king alex roleplaying bud know enjoyment online game toaster best drinking buy friend think first didnt reay get dougal dont grace aswer could anyone lover would left kirsten dunst absolute favorite meal time  steak max tapas damn steak',\n",
              " 'finished watching charlie rose wvia station say every time  read lance armstrong impreed amazed lile inspired one athlete truly worthy considered role model real star quality person integrity far outshine gloy hypecaed sport star frequently pedestal one day court rape charge drug abuse next wapaper life glitz glamour instead remaining true real man fought back cancer survived divorce sti went win consecutive tour france race great integrity wipower year sheryl crow side living prf maer obstacle faced death mans greatest fear faced greatest cycling chaenge hes faced personal emotional chaenges suded transcript interview day urink charlierose comindex shtm personal salute lance',\n",
              " 'danas piy',\n",
              " ' morning ladies weight watcher update couldnt believe lost pound total pound wks dont know going wanted going way exercising like time drinking like gla water day think helps losing stay motivated watching fire awful goa post later',\n",
              " 'aempt live life identical john cusacks character high fidelity asked last night top album time think ive naowed cure pornography favourite moment chorus hanging garden sky  time sky cover face animal cry muse absolution favourite moment point break kind heightened desperation chorus sing absolution sing absoltion singing faing grace ryan adam love favourite moment entrance ceo shadowlands counting crow recovering sateites favourite moment adams breakdown end miers angels cant hear coz screaming outside yesterday dont wake please dont wake coz dreaming might stay inside today yknow dont much days sometimes stay inside day  alone harvey stories city story sea favourite moment beautiful duet thom yorke get spoken word bit prey sure say sweat skin orgasmic sti entirely sure lineup change every anyway honorable mentions depeche mode violator david bowie low elbow aslp back stroke fire manic strt preacher holy bible interpol turn bright lights ryan adam heartbreaker oasis definitely maybe white stripe stijl starsailor silence easy muse showbiz pulp dierent cla joy division closerachtung baby radiohead computer brmc self titled james pleased counting crow acro wire smith louder bombs moiey suedehead mention deserve place top five hard try',\n",
              " 'family gone garden crazyin preperation weing aiversary gardner come twice flower beds sprinkler day lawn mown every day maybe every day driving nuts doe nice',\n",
              " 'new artwork  original cover buas upcoming reason didnt work news got mother register hasnt register since democrat time register republican one club dont think shes ready conspiracy yet step right pun intended direction get register presidential election congreional political reasons come november great state oklahoma vote state loery baot want loery reminded registered thing neceary evil triumph men nothing',\n",
              " 'ive switched post read chronologicay weird',\n",
              " 'link day urinkbelieve already halfway june cant thing starting pick spent first half day seing new computer stocking oice sulies  many pen ive scaed place already day one guy living suite moved aointment ended seth one others goes reay wish girl would move next got wish imagine face watching basketba year old woman come front got laugh shes nights couldnt help making fun seth thanks coent posts get kick every one ive monitoring hit site goen reay liking site thats awesome krista andrew jim sure watching rachel bryan robert competing visit aim profile glad care everything else ciao bea',\n",
              " 'jesus mary chain stoned dethroned forgot amazing album went long island wkend marie car ride realized blue havent listened album band many years dirty water sometimes always come  sidenote like point place yank best record baseba',\n",
              " 'sense dont know use dumb thing eased wrote  yesterday went pseo orientation mting party half guy talking wore ugly shirt could count toldevery one creidt would require four hour said pseo time hours like normal hour job dad retorted person math pick ugly shirt highlight cky tasted like brownies came home talked peoplebut alex never distracted tears got went schl real reason study consistanted studing act reading talking leah creative writing watching october sky cuent aair playing yats jeifer prishtash lile dance came home watched suerset taed last night aunt becky house could resist nap read ate spagei went walk talking meri maybe distracted tonight always hope today reading bible daniel isaiah amazing verses read',\n",
              " 'hey guys want play old arcade games check java arcade emulator swt nostalgic game froer asteroid centipede pac man pac man also emulator couldnt get work enjoy',\n",
              " ' today learned library reay use way rit edu anyway read document project take info cloud various gas might working read part thesis brdf useful let  learned use soc used take data rock reay pushing buon siing around mins thats gue tomoow going eastman park coect fun stu',\n",
              " 'dear flu dear flu thanks coming time holiday party season know god prevent drinking much dying alcohol posioning holiday party thats live instead sat bed thinking nded drop zinc cure woke friday afternn texted liy come  fever since couldnt move determining burning brought nyquil orange juice damon came give theraflu marc jumped bed found heating sweaty next morning woke healthy next year love sarah',\n",
              " 'back home kevin discharged hospital yesterday afternn continuing recovery home rest able back work sunday night thankfuy sms fine though quite yet however prognosis even able open weing present yesterday afternn yay first meal kevin wanted came home mcdonalds course',\n",
              " 'prey eventful wkend went back iinois caie louis visiting friend sarah slu didnt home saturday day nfl draft aual tradition going big leos house camping basement seven hours things havent changed either suzi wife treatedopening round bualo wings plandeat shrimp vegetable tray chip dip lunchmeat tray fourlayer cake browines done madeitalian saugeages homemade freshly baked chocalte chip cky milk comatoast rest day time mocked draft pick threw bit guy haened aslp draft went carbondale later afternn picked certificate friday siea southern iinois editorial aociation held aual mting friday chose one picture third place news contest picture family grieving tornado hit metropolis last year third place nice also remember category people chicago sringfield would rather got award sport know people southern didnt submit photo mine sport else prey sure would came away something didnt even submit photo greatful award however also humble modest come kind stu one know caie folks big deal went rags house saturday night spent much quality time nephew hes geing big like stevie every time  hes boy love death sunday prey lunch bratwrust potato salad folk house went rag gried steak cked corn swear end guarant gained pound wkend scale last night said seven thats haens back home though left feis parent gdfrickinluck cant handle dad like spend time thats enough dog enough give caie chance take care thing start lking house important thing start search new house',\n",
              " ' big pickle click music sports coent posts want actuay post music sport pages mean say urink stfualphabean net email are ask dont know someone somehow tricked coming',\n",
              " ' much fasting prey almost fainted fault theres reason youre suosed shower fast day fling yucky sweaty dirty nded knew one thing besides eat werent suosed figured beer afterwards wrong made worse almost fainted shower came turned water sat opened curtain sat fling paed ate something sti fling shaky felt much beer ate know youre suosed fast point guilty bad much observance coected pray easier observance like spirit lking saying hah cant say hope best heart spirit sti right place frame mind started fast sti want fix observance find spirit couldnt make fast instead meaning maybe spirit isnt maybe mean lile bit harder hope',\n",
              " 'eventrawscore total score thats prey much personal time high prey psyched lile disaointed time spent ruing past couple hasnt translated greater improvement run time though',\n",
              " 'quite year ago aended friends birthday celebration asked husband pat write song oasioothing profound mind fun novelty diy went quite ive heard kiy birthday girl played portion video many time sang along fast forward month ago want return favor husband ive consumed refinancing instaation particularly busy time work ive done nothing pats song kiy came last night brainstorm idea work event scheduling emcing shindig ive got draft first stanza far party tomoow evening beer get prey damn creative prey damn',\n",
              " ' job going train going europe two wks first time love dad whats new purple orange bird paradise love without  forget youre spending clean wrote marina tricia birkir work hard play hard dont guilty close closer lovr',\n",
              " 'change mind sti think blog sux thinking creating new blog page  two altogether lazy next  teacher bringing everybody dna informatic institute matrix building sure whats place caed actuay going take thier computers file dna file stu prograing learned lile bit java practicay like maths algebra exact leer equal whatever numbers also like english word else dont reay understand teacher talking reay complicated stupid brain proce arm aching inclined ups alot homework fling quite tired dont like typing anymore brother haens come acro blog okay bumface dont crap anymore  break every bone lousy body understand lol haha jus jokin think break bone first',\n",
              " '  think come conclusion completely  always exhausted random coection people mean nothing exhausted trying make everything mean actuay exhausted geing hope think may moment clarity crashing nothing ever fog exhausted comfortable enough sit quietly thoughts exhausted trying fight fact nothing make sense exhausted using others used exhausted hurt hurting others equay exhausted doubt inability trust people care exhausted caring way easlily caught nonstop cycle intensity like junkie anxiously awaiting next time intense moment come hit vein fear unle sens heightened maximum every moment exactly one use intensity prf fling fear without nothing drone going motion world find beautiful long quiet taste bier untrusting skeptical people close today even though could next mile away distance genuine sms like old myth sure ive come acro witneed long sure today  lay bed cocned care reay truly believe say know anyones role life anymore even sure fucking exhausted say sentimental post already gone long',\n",
              " ' hungover eyeba hurt',\n",
              " 'nice thing journalist license give ask',\n",
              " 'come right say growing moustache yup know  loyal fan desperately waiting hear news stache dedicated magnumfan hoping moderate balance tom selic burt reynolds one prayer end result sparce scant tnage moustache fuman chu time havent wrote bloer mainly becuase resting much afraid nothing noteworthy course grand epiphany handlebar stache banking tumbled childish mind chiin desert spending lot time reading word variety bks far past two read treasure island robert louis stevenson hard times charles dickensi iac take rebekah ravi zacharias aeneid virgil right making way pride predjudice jane austen civilization trial world west arnold toynb finay gospel act word ndle say lot time hands usual self lately far constant self doubt concerned new place certain peace heart life general make lile uncomfortable decided best bleing god aept time rest kping peaceful mind coon theme cogitated pondered reading done value  duty dty one hand aboard hispanolia tom displayed wiing lay life rather mutiny long john others simple honesty quiet perseverance stephen blackpl love devotion siy hardtimes without saying valour courage devotion love sacrifice beautifuy displayed aeneid inspiring educational ravi way back although dont think agr area enjoy personality heart lord mention raier wit gave truism relationship spout gue reairm fact relationship diicult invovle compromise thing everyother relationship say counication relationship dont  ever reay mixing course like others hope find right one live haily ever long sti dont  haening time suose lking fact much helped either found number one cause divorce christian included finances number two counication deficient two miion reason use convince ready others desire god first rest place ruedly individual nature based family background relationship guarantd time harder extreme introvert dont understand woman least definitely reay bad money think jealous type although psycho kind dont think plan right include significant card caying member btr bachelor rapture would required undergo severe ridicule beating cuent member order disenfranchised list could becomes specified beyond suice fuy story work old black man guery sergeant beynen anyway decided wantedbrainstorm think idea tshirt section diligent marine included comrade brought plethora idea sparing sexual iuendos course forego specific decency sake must mention shirt decided humor sake long careful deliberation one sta mting subject guy said yeah nice ideas vision picture big hand mile shirt one top read make sure pimp boom read hand strong decided guy hand would obviously black one aount fact word beautiful black man initial reaction dumbfounded silence cuent reaction dumbfounded aoyed sarcasm thinking stupiest shirt idea ever heard doe expect taking crazy take moment explain man lile detail perspective reay task organized eicient come work neat freak perfectionist prone micromanaging make conscious eort improve leader aempt lighthearted times like work ethic dont mind personality afraid think hate hard time working aount prey much sum write later',\n",
              " ' motherfather dont old people fucking get technology last night heard  alert ran computer thinking mike cuz thats amazing alert put sign mom switched name gue brothers like alright pause think mom name poing signed mom siing even paying aention sign joseph mom thought takes amazingly breath pop cap xing buy list doe dosent sign  literay every day sign people closing box noly close box people leave meage respond hour later mom think told time maybe time she get wrong signed meage knowledge hour fuck totay say word fuck like time past fucking mintues reay fuck idea old people heads thought retarded something birth something get like  today awesome know woke relized wow home aka devil would consiter worse life dumb people make mad dont dumb today you die cuz nice day',\n",
              " 'updated cuent bitz',\n",
              " ' post franais parceque veux cest pourquoi alors aujourdhui tait sais pas grandparents sont partis matin maison sent trs vide mais nest mal tout jai chambre maintenant peux dormir seule tout quand veux puis examen sont mardi mercredi prochain jai beaucoup peur suis trs nerveuse estce que cest  chose crois pas mais jai deux alors nest une problme lexamen gouvernement serum trs diicile mais jtudierai beaucoup pense que peux faire bien science enviroementale sais pas veux faire bien mais cest cours que naime pas veux ltudier luniversit alors pour coges feai bien nest gros partie pour maepter sigh revoir amis',\n",
              " ' head inconjunction con hopefuy able get spicer sms think shrug know hehe going gang pre trying get volountrs gen con wish luck',\n",
              " 'title make diicult blog usuay talk many random subject dont want type figure rest',\n",
              " 'take environmental iue airports enginring design entirely favor client owners aume recoend mile ground dad enginr sold chemical used make circuit boards always aware environmental impact even though lile control product beyond understanding explaining way product would safe competitors instance customer asked',\n",
              " 'think might work sciy isle bit normal job hotel gardening something like quite lot job going suer month wed could live bit experiencing like kind life think want simple life reay cant imagine like car one island think one pub one shop biest island rachel say prey amazing though lking photos would agr absolutely beautiful everyone know peaceful  thing always plan change much time',\n",
              " 'moment totay dierent last night hay grade sucky mine get house like',\n",
              " '  todays today didnt anything reay went bkstore central square blockbuster harvest got soy shake reay cute hiy talked although sti ive come conclusion  may someone like older ive decided wont capitalize anything use lot punctuation keyboard plastic bag anyway leg faen aslp computer flr sam sister boyfriend computer cant chatrm meengers knocko meengers cant contact pedophile year old men pretending year old girls today walking parent old fart siing bench started making kiing noise saying stu like hey girl lmfao sti like boston though going coege older love crazy people hiies snobs democrats perfect place  work health store future husband anyway tomoow going plimoth plantation get hara peopleactors dreed pilgrim ask question much get paid time start work etc fuy always idea youre talking lmfao anyway hope dont get shot georges dream sisters lmao gdy maybe  hide building time anyway leg aslp  crawl ruin eyes',\n",
              " 'pox audio blog dont bother listening badly recorded back black  stick regular blog unle waa talk',\n",
              " 'nations scrutiny hligan aroved urink statement monday catholic bishop political life brand catholic bishop suort priest abuse child cperating evil leaf open scrutiny hligan deny counion bishops hligans mting outside ashevie stoed short saying bishop forbien take counion reminded catholic bishop worthy receive counion urink examined conscience including fidelity urink moral teaching church personal public life hligan also aerted unequivocay catholic counity catholic institutions give awards honor platforms catholic bishop act defiance urink fundamental moral principle',\n",
              " 'micheal  name mipeed speaker credit erni haened everybodys muet joanh cab driver wonderful life micheal think cover mipeing name joanh want micheal comstock boy joanh powerful friends laurenec fishburen hey name cler way samulejakcson mine awful powerful friends anyway sopiha joanh know many powerful hoywd black men joanh interesting story martne time story time update toaster story joanh hey runs htomas hes gone name normal ernei muet yeah want name back erni dont able fix ernei atleast want ruer ducky back nathna youve got put ducky want play saxaphone htomas cant take ran dom faints betr hey ernei cant find hey whats names samule dont know bert place weird lets play badminton betr sopiha ive got wier meanwhile somewhere congo lara tour best thing say snaed short guys ruer ducky hey superba yar superba whats guys name anyway',\n",
              " 'wednesday february pied cant even  straight  write tomoow day museum employment',\n",
              " 'big fish movie dierent movie tim burton deinately fingerprint guy coming understand father tales much tearjerker thank burtons dark crpy movies admit lile diapointed special eects maybe ive spoiled lotr matrix movies wasnt reay lking kind thing big fish hoping moulin rougsqe subtle sueal eects much liked also confused dont know whether ewan mcgregor going like alec guine get old hes going like old guy movie course got hang tasha always fun shes talking maybe going grad schl denmark somewhere equay european thatd stu drew redrew arnold cartn today almost point satisfied watched justice league episode figure draw enormous freakishly people reay enjoyed sing minute interview bushs former treasury secretary paul oneal caed bush disengaged blind man deaf people said bush never asked question mtings said bush suounded praetorian guard consisting cheney rove rumsfeld kept hearing dienting opinions hebent invading iraq day one taking oice basicay saying find way itd great  give bush enough black eye reay give democrat advantage bad one read country went jees watched surprisingly pirate cariean alex joshi favorite quote without doubt worst pirate ive ever ',\n",
              " 'hey peoples yeah second time ive cant wait theres like soer ref clinic thats gowesome theres like many people going least know mean yeah beer gofreakguy think ive already freaked friend cya ber',\n",
              " ' banquet ian zone left bored mind sms though everyone else something usuay would way around gue cant complain though first night able sit around nothing finay sometime reflect life actuay think going get drunk watch urink ruing finay pas flr sound like plan wont posting sometime tomoow',\n",
              " 'one diverse group people together yesterday dier newly maied couple single friend maied couple young year old daughter recently divorce male friend amazing  thing interact around age around great dier home meal truly think urink wena would proud conversation went dating scene family course governor arnie metrosexual key word guys metrosexual pick wear labels shave everywhere definitely workout course money facial used solarium cluing bar norm wkend wkdays sms longer quite one work hard play hard dre like brad maied everything changed want someone hardworking caring want save pay mortgage cost babys clothings louise atrocious baby may wear month clothing cost bucks never understand justify buying label cloth babies logical nothing cheap day high paying executive work welcome rat race',\n",
              " ' didnt blog yesterday sister retarded wouldnt stop bothering finay got internet shower anyways woke around yesterday get ready work shower late geing car everybody got mad hey care got krystal sunrisers headed work helped tay dierent thing fun headed home stoed place get stu sti clear got suer westerlin silin way home aslp got home finay woke got car felt sick stomach went house layed around got fling beer ate suer another shower chrleading practice left chrleading practice around worked chr couple stunts omg awesome tried dierent stunt stuck kendra came chrleading practice mom skylar kendra talked lile watched law order svu law order  got internet talked couple people skylar making mad got internet went shower day stayd minute aslp',\n",
              " 'theres urink neat article proce web design may helpstreamline proce redo activelabs design almas site later suer check spare time',\n",
              " 'year olympics athensrepresented maurice grne world people outsidethinkloud rude generay obnoxious represented someone typifies aributes grne self proclaimed greatest time rarely pas oortunity let know fact grne run sub dash time carr aitude celebration equay astonishing last olympics ring leader one embaaing post race display mensmeter relay team celebrated gold medal draping self american flag posing front photographer variety pose usuay reserve body building contest several month ago tune olympic trial grne teaate spray shoe fire extinguisher final dash olympics based premise world camaraderie sports doe include showing oonent action testosterone enhanced peacock olympic athlete suosed ambaador great country suosed represent everything united states instead year olympics represented someone repeatedly represented every stereo type world one note regarding olympics many athlete nba wiiams sister declined invitation participate siing security concern reason find self centered literay hundred thousand athlete country would love privilege competing country wonder people realize last teorist aack place olympics atlanta caied american grow serena important teorist going single didnt last aack teis player public place haen respected teis tournament oortunity lead nation gold back site security give break probably want time design clothes hobnob celebs thats one guys opinion',\n",
              " 'detail foow',\n",
              " ' interview wearing urink suit white shirt prefeed slam urink  locked loaded table say give job course break french cla firearm ownership laws interesting idea would raise pulse ultimately stupid urink  stay safe',\n",
              " 'today marked federal general election canada say diapointing fucking liberal seats thank god minority cant believe canadian stupid enough put martin back power wasted biion sponsorship scandal send country drain hes giving final hit head nail trudeau put coin year ago jack layton dont get started give man fucking haer hit fruit act like gaagher comedian guy harper theres leader wouldve led country economic prosperity low tax increased federal funding canadian made choice youre goa live coend conservative candidate aro country campaign done even though couldnt win made dent liberal stronghold past next election conservative  power fors election year time hopefuy liberal wont live  end',\n",
              " 'yoz finay blog noe ver slow cut hair yesterday waa try sumthing newdi change hairstyle also highlighting hair gue time fast today exactly month  poly also day met sum special every fairy tale always cum ending mine also tis fairy tale begins group leader interaction game tat day didnt notice wen coz tat time tinking skiing tat game eventgo suprisehe caed frm knew ver strange way noe ver memorable thing last game sumthing wif water bomb hes throw water bomb hes reay ver ski  throw water bomb face slaed face hard nothing haen water bomb  frm tat day onwards closer felt sumthing special sumthing haen change always wonder tat fate brought migetherbut doe end tat tired tink abt wat tired ',\n",
              " ' reay sick scrn meed like hopefuy publishing back normal yup please work',\n",
              " 'check watch insane world claw television portal use medium rope try tether around neck society suocates beyond belief make wonder postal worker havent snaed blown bus nuns faced moral society sickens barbie waabes teing amerika ken plastic mold boyfriend take eat restaurant reservation fucking monday night fucks sake spend hundred doar eat aestheticaypleasingtothye artsy fartsy lking wouldnt fuckin caterpiar let alone anorexic aes turn around procd stare godle godfearing society right face watch chaer box nightstand every second coercial product trying shove throat explaining new hip thing must buy mountain dew code barf product hip black man coercial must purchase ceular pager phone skiy lkin kalifornia cunt cop aitude boyfriend train doesnt time busy whatever life wait must buy taco products cola products shirts shoes fuckingcoect michael jordan caot top say aok think fucking stupid obviously lot guible moron world dont fucking celebrity whats rightahole enough insight  plexiglas fake smile portray whore already sold soul biest rapist fucked nation big busine want know amerikan kid fucked force garbage expect like argument buy must work cat dog shiy smey pet eat thats get fed bring steak burger around cat dog drl whimper rub leg short beg like know shit know taste sme exactly know shitfed bushit long caught worlds trivial crapola realize fed fuckin garbage case point scaturday night live fuck years people watching rated waabe comedian turned hopeful actors walk stage blatantly read every line cue card staring side instead theyre suosed fuckin lazy cant memorize script writer fuckin lazy cant come something earlier regardle either case scaturday night live drivel persisted year many sti air ahole watching turn fuckin stop going shiy movie like dude wheres car get day stupidheroesgonefamous went ted beavis buhead give rest leing shit brain become want spinele money spending gagline vomiting moron people constantly know whats sad maer say maer say maer anyone doe majority always mindle worthle denialrien shp who buying corporate logo tshirt favorite sport figure they buying tit job throwing tofu lunch joing pas constant dehydration want beer self estm they going  shiy movie suosed critic experts say two thumb people wonder misanthropic agrd',\n",
              " 'irony give tired huled yearning breathe inscription thats wrien statue liberty lking picture statue got thinking ironic french gavestatue symbol frdom hope read inscription doe discribe iraqi people iron thumb saam huein irony french oosed iraqis frd didnt want lse oil money iraq saam owed miion france thats wanted money next time want bitch moaniraq read next time someone throw one tired bld oil signs think france coection iraq new site two new site visit teds blog real clear politics conservative sites dont know best kind god ble america',\n",
              " 'urink udays pleasure palace',\n",
              " 'firework prey reading poetry direction house robyn selman gave idea new stu write',\n",
              " 'made laugh going admit tonight think',\n",
              " 'today actuay canada day   congratulation canadian brother sisters especiay chris atkins dave mason canadian today build shed day warsaw indiana similarly parent build shed theres huge told warsaw shed arent nearly fancy sti time building anytime using screwdriver bunch nut bolts oasional pair plier time heres timelapse breakdown didnt completely finish get shower spent evening mishawaka done sometime wkend shed built hire stevanshts com',\n",
              " ' since think many reading anymore doesnt maer mad raving sugary swt thought  one like husband met unusual way much morbid death wearing black pasty makeup etc aepted goth movement depreed even parent werent hay digre dan curtis remade dark shadow course vampire related hked watch know haened begiing president bush tkwar iraq dark shadow played episode canceed episode prmpted war coverage hay thing selfish iovation brought graphic novel based remade series snatched hit stands back people wrote leer published arees decided write certain man sounded like reay thought puing pen paper mailing wrote expecting  came note positive person surprise wrote back wanted continue coespond future wrote leer often got one almost every day exchanged phone number ran phone something awful started platonic hadnt even everyone aroundcould  taken year later paid round trip plane ticket could months moved together year later october got maied wish could say bli maiage rough spot smth ones sometimes like chuck couldnt bear emotion hard work put maiage  heart bear hurt much ache would die',\n",
              " 'remember thought awesome first exam wrote bad news maybe say embaraing news since told everyone thought great okay gotwa away geingwow isnt blping aoying extremely disaointed sti somewhat denile dont understand mark much lower expected frustrating study hard think know stu inside write exam result sometimes disaointing thank god always think freaking scared wont high enough grade get aepted grad schl biest fear failure brighter note edmonton oiler first game season san jose sharks game bit slow first period picked bit second third final score oiler',\n",
              " 'one antiv urink notsosoft compostcard',\n",
              " ' ive changing template never reay liked old one didnt suit properly urink blogspots new feature stu using minimum black template anyway heres problems sidebar sms show side show uder entries wtf certain month archive stu viewing entry special pagethe sidebar content show obidiently wierd fucking dumb urink haloscan old coenting system got fed deleting old coent stu despite fact blog sti saved showed like ton coent also old ones fuckers ish create link tagboard section screw everything',\n",
              " 'urink teor transvestite travesty teier san francisco gay pride june',\n",
              " ' bed dont waa want sit ponder eternity read today paper realeasing new edition mormon haha many number worldview toldcorections made mormon make sad people involved mormonism dont realize false religion mean reay would hate mormon girl husband like rule life dies lived enough life choses wether take planet sms like religion world beside christianity live idea enough get heaven reay god way ever hope get heaven isnt based anything ever able god love amazing guy hope fragment want like jesus alas roen person never like jesus reason jesus came wasnt like hah didnt sin sier going burn came yeah hahah huge rant cant stop typing run thing say casting crown album casting crown lord earth would care know name would care hurt bright morning star would chse light way ever wandering heart youve done ive done youre chorus flower quickly fading today gone tomoow wave toed ocean vapor wind sti hear caing lord catch faing youve told eye  sin would love watch rise voice calmed sea would rain calm storm sha fear sha fear cause sms amazing microscopic dot universe god chse care know name thought amazing trish lead singer superchick would name concerts get king universe know name thats like george bush knowing everyone country name atuay way amazing like presdent bush knowing everyone country name best friend everyone even amazing god know every ever lived earth doenst even know names know everything know everything ever done know everything cant stop amazed wow mahew even hair head numbered even know many hair head haaha would even know many hair counted days wow god rocks wowowwowow soy god moment roman convinced neither death life neither angel demons neither present future powers neither height depth anything else creation able separatelove god christ jesus lord nothing separategod love moved mile away best friend refused write email coespondance wouldnt friendship end think god never leave jerk wont get mad like hurt dont want talk ever god love haha maer stupid get god sti love always want friend wow say surprised read heard meaningle paer fun stu beer get bed later gators',\n",
              " 'aija michee man wicked pied fucking boy goa die everyone aoying fuck oua mom goa bich becuase boy fucking douche hate fucking  body  gro skin dry breaking gro hurt bad take shower like seriously fearing taking shower today hurt bad wtf hate shit',\n",
              " ' driver got permt yay might job yay ahaha everything great today wkend part right listenin incubus kinda playin video game chain stu doin thing hahaha thats awesome else put dont know something else haens  write later jey',\n",
              " 'urink single greatest event life got flied georgebush bad urink pic didnt turn',\n",
              " 'cant even many time told smoke schl carr grade dare program grade health cla someone always ear puing cancer sticks you get lung cancer know one emphysema teible disease yeah cant refute first one say think disgusting smey habit every time  girl work light give hard time litany charge smoking ive told time today saw something worse smoking though saw decent average lking human mting suosed informational seion used get people spd project turned hoifying hour long confirmation oice spaceian fears people exist left schl knew thing going dierent entire life goal motivating factor pushingforward whether trying figure crap pant graduating high schl craing pant graduating high schl moving towards something stops prey much without warning cruel sort thing told would jobs  dont last part kind glazed one mentioned haened work personay met old people even could oer insight say sort haened one day teaching making paper towel dispensers next day schmuck year younger saying soy moving new direction haened saw today hoible people siing around table talking project lking next years throwing number lking lile tight next  probably get money two years going spoke theyd rather wake year skied intervening time could report hay people scared one teified everyone else another item agenda goamn action item theyd agenda say part lose track fact alive working automatons even lked bak boom nothing dont smoke  hour wks forfeit work kept worked would lost year life lose years wont remember haened wow stoed working started smoking think could cut know people smoke theyre training life work soy note plus side today like starting play lile clue job alright like trash tuesday',\n",
              " 'traic youd think',\n",
              " 'got zine sent away today mail  whole culture come zines girl whos life texas zine caed option paralysis thing beautiful real underground grarts culture come thing making zine sha caed sueptitious dandelion photocopy word fly world question post decided beer way get coent created zine would name would intro explain name zine personay published bunch writingdrawing range journal ranting comic basicay anything float boat',\n",
              " 'people love john love normal johythats right shane hahahahahahaha anyways working fun wasnt reay work  wait customers also fun employ much beer make chart last year employs nick devil made pound cone josh retarded hiy drued hiy liked nick andy crazy knowita waabe dentist thr job stephany crazy stalker lady amanda one employ isnt retarded lewis master work dodger nancy grandma josh lazy box cuer john year stephany sti crazy stalk  manager type person make jim another prey guy janee old lady think incompetent lori crazy lady think bos people around amanda sti retarded nancy sandy crazy guntoting bos masons work lewis lord universe work dodging josh sti cant make cone chart year much beer exception janee lori employ competent exception mason employ course reay dont bother never ',\n",
              " 'cuently reading practical fanstastic aly moment read step help ease strule sexual temptation thankfuy enough distracted woman cause made faithful one though someone mind least thought hold unto plus since last bloed indd something haeed hindered bloing last entry dry spirituay time backsliding begins many people backsliding sms like proce simply away god also true time choice dry relationship god slowly started withdraw people god started give dreams paion easy later standard whatever principle shaping life also easily let even welcome particularly temptations thank god continous faithfulne saw chance oortunity work instead sing rebeious nothing shp doe requires grace died reay want areciate god holy spirit continues prompt come sick healthy grace forever suicient every hurt gods presence continues linger even sied like perfume never away like said recently aident involves front section car literay smashed another car denture broke furthermore handphone refuse receive anyone put saving guitar spend money procure always encourage people nothing haened coincidence god always control gue figured god using burning bush modern context gain aention important chaenge aowed importantly time relationship god one day decided wake condemn life leading decided turn back towards god one fine day wiing face god consequence action simply gods presence life worth fighting worth thru though sner later knew face consequence heck hold unto belief yes face consequence also believe god help overcome overa result refreshing touch new relationship total dependance established even writing blog std close bedrm slowly starting pray spirit started pray strong tongues started knl reay cried god rest experience word sms expre chaenged guy going thru thing went thru day agodecided yet ultimately choice determine aow circumstance change',\n",
              " 'unlike yesterday productive yesterday packed box hour nap today packed box bks cds mile walk geing walking part stop eating crap move take lot time cant say pie even disgustingly sick afterwards enough excuse though arm actuay hurt today got tetanus shot everears deal didnt step nail thank god think combo shot lifting heavy box flailing arm trying damn bug away along blvd walking tomoow get eye exam new gla fun downside sams club walmart loathe walmart paion notably one get many people hoers like entertain muet hunting unle find cute gla frame mom make get definitely lking frame lenscrafters maybe armani one theyve got smaish dark nonwire rim frames  know tomoow naturay  post pic definitely frame something similar hate digital camera since moving email change ive changed email are profile yah aount  sending email people whos email rest get profile debating geing another one dsl aount sbc family since dont reay want grandma sending forward family mine show problem family thats lile  one last thought bed grandmother dads side caed tonight wanted know josh want utah near end july visit half brother sister tristan madison havent year theyre  cute obligated part want part doesnt dont know could take drive fred smoking whole way day something talk friends blog maybe audioblog two flamboyant homosexual clothes would sme like smoke would sme schl would starting  probably end going anyways brotherly thing dont want bitch negatives rip itunes get slp',\n",
              " 'fun imagine older people thing youd never expect like wrestling mud wrestling backflips haway naked',\n",
              " 'urink frii trying urink',\n",
              " ' sometimes  xml buons sometimes',\n",
              " 'hehe haha  xiao bai today dao dun lyk cla gue wad got back math paper haha gotmaths reali impreive many carele math got hehe haha got carele also leh hahawu liao thing thinkenjoyed gue day work hard beer result xiao bai luck',\n",
              " ' new aounting measures enron biion doards legal  count toward gdp gro domestic product reay improved quality life worker lost retirement aounts argument gpi gro progre indicator take aount distribution quality resource total gro money transactions',\n",
              " ' creative writing program sfsu ton writing exercise got point felt like idea completely instances stare computer scrn whatever idea head earlier day longer smed fresh interesting tried flesh thats ive trying think something say next post feared would come whoa life bitch damn reason think though might explain bit thought particularly striking today prey desperate clasp dramatic ideafantasy head literay force upon fresh perspective life sort worked fighting strong wave postlunch coma work got head finay doctor xray results earlier went doctor ive geing short breath trouble breathing general someone yearsold thats prey unusual got checked receptionist answered kind weirded lked information warm disposition shifted clinical eiciency asked number prefer reached private meage held already shaow breath surprise thought gave number slowly hoping shed detect concern raised abruptly told doctor get back hung put phone thought god something serious wasnt prepared sick idea poed head serious got thinking day numbered maybe start areciating life bit siing cubicle thinking short life case may even shorter paper around keyboard touching oice cubicle lked beautiful every thing felt bad life smed trivial dont know suenly areciative perspective wore disaeared rather instantly like walked fog light turned back fog wasnt anymore could  everything shiy remembered always doctor never caed back sti idea answer expect xray results woied even get bad news know thing might change  life sad thing cling idea hope let bring realize stu saying reflection stu going life thing going  aitude time people say beer aitude make thing beer life people either heavily medicated criminay stupid much sex time actuay engage part working society yeah rather chronicle mundane detail ail enjoyed bitching larger picture',\n",
              " 'stayed home last night watch frey adu sub second halfunitedgalaxy tie newsunited like reay teamwa somehow able capitalize momentary weakne score otherwiseunited dominated procding every category far could shots time poeion scoring chances went favor united bad news frey adu pele circa flash briiance also flash stupidity least time doable pas would helped set shot instead drove straight defender got taken adu also tendency end ground though least couple time stayed rough tackle overa take wow kid thats amazing unlike lebron james able come score dominate adu sti one guy hes like jaime moreno way one run box shake head least two defender sueion body headfaked shorts adu one expect league mvp year even score lot goals think criticism peter nowak starting adu wrong kid grow level play coach right thing starting slow maer public may want',\n",
              " 'watched child corn emilie bad idea cuz thats truly gory film version think confused something else maybe bad hoible parents problem reay hyped lked everywhere went buy reay trevor tiny insignificant miniscule part finay broke rented noticed ratedte never mind saw probably nightmare forever never view corn quite way malachai one bad boy isc freak show eyes face voice absolute favorite part isc blast sky spark flying makeshift corn stalk crucifix foowed closely scene burt vicky discover corn stued every cray chevy convertible dont know model trev get one kid musta suice say spent night mile bed first since got king size must say barely noticed presence goa  movie though prey fuy sti lile scary malachia want ',\n",
              " 'lot othings update today yesterday goals thr aomplished religious like zeal especiay chinese part definitely like golgan beer even though gage could damage golgan beast monk level thief previous goals caught nexus find suitable replacements probably try  raquil take war coege jaded could  care magic goals dont ever think haen dont time money people play anymore geing axe bought video game pucee tactic got online way completing   probably going change anyway sing one corner stone organization probably going split shift title changed proce enginr haha cant help laugh imagine awesome would went schl bitch wouldnt stand chance would take jobs note come fact four people fired coupleauming responsibilities life goals aomplished important one sing urink kelzor credit card paid focus shit come tomoow',\n",
              " 'come crap anyway goa create quiz caed mothra destroy stupid quizia result youre rubix cube wow one complicated toy youre cube bright colorful play must lot logic figure urink toy brought urink quizia craig beat',\n",
              " 'thought write stu havent turn death threat someone meing around phone box soy people hate mwuahahahah anyway mandy got coege shes year course jeweery year course graphics thought spending year coege amazing last day nice like completely new relationship reay stoing stupid arguing overly childish great went bikeriding saturday histu near mandys house went poed mum boyfriend tire weve spent much time together lately every poible minute today may day didnt coege went styal carved stu stone nice weather great cay goa  friday got new stereo yesterday finay old one year player doesnt work use dvd player sound speaker  sound quality put old poster angle make reay triy anyway meaning mandy work meaning goa',\n",
              " 'dreamt played waterpolo ocean beach voeyba player aeared profeional couldve sworn sinjin smith water using article clothing beach gear bas reason swam faster anybody else monster water many cheypicking scores great another dream unfortunately forgoen',\n",
              " 'got stupid license decided ahead today didnt think next thing cause last day voter registration local election friday want vote former mayor city council bid ive swamped work would say didnt know wish contact would realize contact suort people female bos giving ton male subordinate isnt working quickly like male subordinate plain slow hour half one order theres sense wasnt freaking hot humid would improve dramaticay kuntr may another days ready gone night ready find normal going boring day soy',\n",
              " ' scared   stu like stu like comics thing mind picture maybe yes pictures',\n",
              " ' philip post part five philip foower philip foower known many works including continuing aist pilgrims working hospitals hospital day place  wealthy enough nursed home warehoused lile way care nursing given thus philips foower providing muchnded service giving basic care  one penitents exsoldier named urink camius leis especiay devoted work eventuay founded counity serve sick later canonized counity known formay order camius servant sick informay urink camiians continues minister  world another activity perhaps one aracted aention philips practice praying seven basilica rome began take foower minipilgrimages prayer eventuay grew huge sizes thousand people philip especiay eager excursion available prayerful alternative carnivale customary citywide celebration iediately lent rife various type ioral behavior philip neri quotes men generay carpenter croes obedience humility detachment lehink mary unspeakable virgin glorious lady conceived brought forth without detriment virginity width heaven caot contain within pray requires whole man',\n",
              " 'first let say eat meat tth chewing tbone steak ive always eaten meat always fucking people dont like tough shit grew farm raised pig chicken cows didnt raise could nice peaceful life could enjoy companionship raised eat let also say peta people ethical treatment animals fuck didnt mistreat animal way fact treated prey fucking provided shelter blistering heat mind numbing cold even hauled fresh warm water winter shiy ice block lick gave something gavefd sustenance way slaughtered lot beer way say lion wildebst slow pain instant peta say vegetarians honestly believe animal kied harvesting fruit vegetables grains etc idea many cute lile rait rodent bird kied harvest grain corn sugar potatoes justify kiing animal oosed kiing animals truth acknowledge slaughtering animal use educated gue bet say cow used use hide clothing shoes use bone jeo glue course use meat end two people answer god dont give one flying fuck peta vegans vegetarians vegetarian eat chse milk vegetarian eat poultry fish think eat stand front god clear conscience care think people disagr fuck unle living house created two hand material crafted electricity yes animal harmed create precious electricity cant hydroelectric plant doesnt fish aect anything downstream grown back yard clothes made natural animal fiber shut fuck way computer reading created chemical proce produce toxic waste undoubtedly people animals fuck back proceed chicken mcnuets double whoer chse bacon',\n",
              " 'today came acro new acronym cow computers whls reasonable old idea laptops securely screwed whled troeys coected wirelely aow face contact time aeing computer exclusive acronym cow also used number whled idea cars outreach project etc',\n",
              " ' fun wkend update wkend friday work end project dier prey sat boring end bit ended end exciting people showed including couple work people dont normay speak much finay social conversation camberwe  jam rose trudes erin damien joe palace normay shit bar held true least fun lauching chsy dancers especiay erin got danced chsy way saturday nothing bought hand luke buerfly eect prf man eat let sunday nothing work boring thats',\n",
              " 'many subject being make onto nej page today weigh keys choice edward ruing mate share thought fahrenheit saw several day ago didnt quite expectations entertaining moving infuriating mild disaoint probably result unrealistic expectations principal criticism concern sequence initial chapter concerning leadup aftermath september movie transition rather abruptly iraq war later backtracks runup wouldve reversed order two segments wouldve made even cohesive picture stylistic concern aside movie one great strength break away journalism buy war coespondent chris hedge urink myth war basicay mean mre strip war delusional heroic rhetoric way major outlet could would sectarian squale fairne aspect movie caot detract real hoific light shine campaign iraq note use word sectarian rather partisan right wing voice working fervor religious magnitude film  movie havent already rarely spent',\n",
              " 'anyhow',\n",
              " 'heres song lyrics song even cler one posted earlier another one evanescence slow sad song know least one person lyric reay mean something iortal tired sureed childish fear leave wish would leave presence sti lingers wont leave alone wound wont heal pain real theres much time caot erase cried wipe away tear youd scream fight away fear ive held hand year sti used captivate resonating light bound life left behind face haunt pleasant dream voice chased away sanity wound wont heal pain real theres much time caot erase cried wipe away tear youd scream fight away fear ive held hand year sti ive tried hard youre gone though youre sti ive alone along',\n",
              " ' trying decide much truth hard know whether completely forthright hurt someones flings even important saving flings snowing half television scrn saams capture half church closings weird saw end tony blairs spch turned television chain computer write zeami wonder someone picking around saams hair lking inside mouth someone shown big scrn either side blair',\n",
              " '',\n",
              " 'haizwhy someims reai dun undrtand girls haiz first toldtat dey like den sunly dey change thir mind today reai  blog haiz alritez lets givename ermwana boy girl ting girl beer understandingcaring let ting let cajoron nice nic hao hlplehxs kekexs alritez dear joron blog next time',\n",
              " ' revamp weie jus waa weie simple nice love swtie simple true tats dont soficaicated design url declare love loud love  jus love inside heart cherish love care trust blm moment swtie  away frankfurt maybe reason bloin often shes away afraid  get upset dont waa reminded tat someone important dear nded waa hold someones hand waa hold someone dear close shes waa special lip paionately cant take long love time wan swtie wan mah wan mah wan mah swtie true love mine much sense even frankfrut snifz love mah',\n",
              " 'flickrphoto border solid flickryourcoent flickrframe textalign leftpaing flickrcaption font color margintop flickrbuyicon marginrightpx verticalalignmileborder solid flickrpostedby font  writing originay uploaded urink laurafantora',\n",
              " 'urink break monotony heres photo dude left bad news brown bad news aen depending talk dude right cuban aain cuban aain fixture grand prix wrestling atlantic canadas longest ruing wrestling promotion kid thought dad lked like cuban aain retrospect dad let hair beard crazy droed pounds dper tan wore wrestling bts maybe would lked like dad often crazed eye sometimes thats another story altogether urink',\n",
              " 'gosh ching haened jen way sounded smed inevitable would break baby hope okay imagine hoible parent diicult sti woy grown children anyh gdluck hope chance talk maybe talk sense',\n",
              " 'heo everyone today know ive already got livejournal open diary xanga ive decided try something new goarim almost positive wont come back update giving try going use view things teing day start going list random thing reay shy way contact outgoing side easily aoyed making new friends certain kind people caot tolerate people include smokers alcoholics drug users protnagesex people make uncomfortable probably others tired love read especiay relate  read anything scifi romance overly organized everything place hay overweight nearly much late december actuay suded new year resolution already lost pounds speaking reading random fact found urink  bloer com reading meg cabots diary site urink  megcabot com ive six boyfriends thr internet boys dont count like think smart kind downtoearth great sense humor sure come acro way conceited talk people never say like qualities love shoing money otherwise soy cant wonderful things gorgeous cat named whiskers hes geing old also turtle named patrick best friend julie ashley jeifer sta day schl february coming schl year day haens birthday kind thing going christian faith btw like thr thing one favorite movie notebk walk remember win date tad hamilton favorite guardian bend road whereryou series prince diary series writing fun two underway right quite already finished one underway caed discovering secret wish music laughter best medicine reading writing escape love cry sometimes people cry much know barely cry public cry something reay touch positively negatively nothing wrong crying anyway sticks tongue love float hours dont like dont read',\n",
              " ' reay sure even hay kids yes mean going anyways except mediocre jobs mean make grand year except dont much else live shay apartment uptown social life mean come boy anything since met mean reay done anything dont know mean dear reay mean genuinely hay obviously love reay love even try talking son try talking isnt talking anymore lost aim hopes ambi  know anyways obviously hope hon mean   lot son hes  hes left schl decided longer want anything towards degr much promise much promise wanted everything know couldve anything want babe dont  dont always dream wanted aomplish someone love holds shes dear shes reay hes reay hay ever hay isnt hay  hay cant hay caot  isnt want  though always youre afraid losing hes  girl would anything dait want world  hes love theres nothing change nothing you push away',\n",
              " 'architect michael haverlands home inspired mies van der rohe love color window black contrasted white brown blue long large fuength window striking beautiful another view house',\n",
              " 'welcome swamplog weblog starting place store thoughts flings photos opinions anything else family garciagoldberg family october partner bleed birth lile boy adopted name shai gae garciagoldberg son birthmother bekci livedlast month pregnancy together formed unique bond via proce open adoption lile boy brought much wonder bleedne lives describe fling family brings rich lush swamp hence name blog swamplog',\n",
              " 'kpin lkout yesterday saw lot interesting folk around town making way stair subway platform swt sound mandolin stl guitar hit ears usuay people play station nice morning treat waiting train saw guy two light blue hair walking home evening punky pale colored hair lesbian couple train day emerged  station ran jacob work way bagel store strt ave old man every morning exchanged smile lunch saw interesting feow red shirt ton ruer band around slve holding various bulky objects unique solution caying bag train ride home usual squish busine folks loud tnagers lile kids etc corner strt ran guy work childcare doesnt even live neighborhd okay yeah entry probably worthwhile enjoy human watching',\n",
              " 'tried urink tabasco chilpotle hot sauce tonight dier tasty stu going search bole next time shoing got smoky flavor lile bit heat got story frequently get pelted computer question work feow employs known computer guy fair number nontechnical sta ask question home computers usuay stu like modem doesnt work like idea usuay oer vague suestions reinsta drivers check phone line plued modem general advice take computer shop dont know today walked discuion two dental aistants iediately consulted ask tom know lked saw one guy going yeow pages know asked coworker lked find somebody virtual machines said lked askance virtual machine yeah computer last night internet said nded urink java virtual machine instaed computer know anybody island boy begin one explained virtual machine hardware software download internet lked increduously mean asked yep buy got leave asked one question urink flash stu',\n",
              " 'mail youve received new pices mail late one nsman nus last one pod sms youve already paid decs sti sign frens singtel though house wow pas spending cash away cos real fridge nice black cushioned chair armrests separate legrests watch nuy profeor',\n",
              " 'ive always big urink dave bay fan urink bloing also entry blog urink squiel eatin',\n",
              " ' wat day begin wif got morning didnt eat breakfast started study duo sorts kept forcing study dad asked breakfast alot time refused kept work made cry like going mad liao felt like whacking breaking something left house abt nice abt everything asking plan timetable wat aured parent hearing plan teing smsure confident short mting abt mins left lunch white sand lady vie seat muy got quite fed kept complaining couldnt care mind somewhere else dad tok abt giving coming mths duo take anymore studied morning came home short break studied reay tiring much extent muy scolded studying want cry duo wat cry also study also wrong dun study also wrong duo wat anymore  joy dun sad anymore yupz noe easier said done must smile kaez hay birthday grandma hopegreat time  got back phy test fri  gotsighz',\n",
              " 'somehow todayi woke got upmy bro asking medont schl like dashed bathrmtk quick showerpacked loreal remix bag ran towards bus station min later bus camebut didnt thoughtsince already latei take risk wait taxi sadly taxi never came min lateri went next busand got schl kean wathought goa rotan didnt haha pleased time late yearwhich mean mark deducted purata next term cra weso cla pjpk went reading corner guy already sport gearand period left decided join yea noealready amazed saw robyn siing reading corner wenalked loh pjpk nothing special abt schl todayjust ordinary schl day sha blog abt rest day schl thoughwe intercla frisb competition dont knowfrisb sms latest craze chs dont throw chase like bunch kids sport something like american ftbacatch frisb inside box score point someone throw frisb mithe frisb oonents poesion back pointmy cla lost didnt exactly work teamwe kept trying long obviously didnt work think played lineplay short paes bah nvm lost wat anywayz timei wanted homeso told ken homehe asked wat time wasi said wasntactuay finding time saidnah giveimpreion intends back asked homeyou know said home urself lai take taxi wan wtf walk way bus stop front university hospital thanks youknoho person never fails diapoint yea back homeand got tuition laterso goa catch sum slp ciaoz',\n",
              " 'sometimes busine venture might sud dont sud trying either become entrepreneur make miions bender would say yeah going build theme park blackjack hkers',\n",
              " 'urink coent made didnt aear picture living bathrm right past stove urink',\n",
              " 'bit qed meal rowfriday pho dier aud bri went grocery shoing camping trip went urban couple drinks theres dance flr aarently got trouble something liquor license club license dancing prohibited lile runin traumatized resigned wkend party driver moral story dont iegal uturn even though car around especiay drink two watching saturday woke early went lake near haison camping made couple pit stop way buy breakfast library buy cheiesbluebeiescorn side highway fortunate enough decent weather day fired gri went hiking bit explored around town tried new mango malibu even half malibu half juice concoction surprisingly expectedly alc vol tasty also soju went bed started pour alright time despite misfortune bri got flat tire ran got garbage  night would beer shoe didnt get wet dirty overnight wasnt dying hop shower get clean thankfuy aud lent futon mare didnt slp ground everyone slept ground frzing cold night long sweating removing layer clothing learned lile known fact friend honorary boyscout pro making campfires enjoyed sausage feow smokiecooieur aud sunday  way back ate rest auds house went home slept lack slp past month finay caught went ramen kintaro maied folk meal row delicious regular miso ramen aud cold ramen served suer highly recoend chse soup base faymediumlean  pork fatlean  extra ingrediants bamb shteawdebean sprouts searching new ramen joint ever since otaya changed management think found one went deert swt obeion delicious longing try recoending several friend try finay split roasted coconut chion cake warm cake vania ice cream hedgehog cake heard many thing warm cake true exactly expected taste ever tried glowbal taste unfortunately glowbal longer serf coconut chion cake awesome swt light fluy hedgehog cake paled comparison cakes anyone want check kintaro swt obeions let know',\n",
              " 'completely wiped today laided time around last time lked clock eye swoen face weird shot bed shit late panic fling actuay haened wake perfect time totay mied alarm must hit buon whatever stumbling around day forgeing thing left right made chair desk walking dead almost didnt realize store  trying get shipment shelf time flew worn completly time shower bed cuent wiped cuent music pedro lion minor prophet prostitute wife',\n",
              " 'epic bale prevail dont often get politics site reay going however wish  president bushs recent enemy check urink news come site china wait thats bad news aarently everyone making fun bush bomb crap umbrea gue whos next',\n",
              " 'urink omar liebert mixed fling garageband would child aempt spend year learning musical instrument could making music garageband instantly take year practicing make music real instrument intent purposes musical instrument rich interface music creation idea isnt computer new technology sulant traditional instruments synthesizer worn like guitars idea eliminate expensive stu preventing simply aomplishing creative task true mac aorted yaya arent garageband doesnt compete highend stu relatively inexpensive like job wondering garageband suort transfer working files one person could something another person far away work top create new colaborative eort couldnt haen get everyone',\n",
              " ' usuay one blow trumpet today think sha pucker lips last night triumphed quiz team brian bleeds mountainring club general knowledge quiz sunflower lounge usuay pop quiz come wks came teams smaest team prize gaon thats eight pints get awesome display dpest rece mind probed quizmistre exceed history geography soap rounds',\n",
              " 'urink got one greatest new mad cow scare',\n",
              " 'urink fox news urink  urink msnbc urink  provided comprehensive coverage colin powes spch entitled iraq failure disarm believe urink thorough aount day coming eay blaming hulk hogan tepid response war teor whatcha goa',\n",
              " 'kim spencer old republic title company atlantic avenue suite alameda dear kim spencer decided tender resignation last day july made decision unhay oortunity presented strategic carr move great pleasure working representing company wish old republic title company continued sue sincerely sakdary cun title aistant guys doe sound profeional enough',\n",
              " 'never thought would write much spiritual stu blog gue thats way goes jumped bus yeterday morning way work bus  teibly self absorbed like shrek space bus saw exnext neighbour way reay extroverted friendly chay woman course selfishly wanted find she crawl anyway thought oued obliged talk  sometimes question behaviour however wasnt long conversation turned spiritual things told involved new age get supunded energy iersed white light tactfuy warned yes time tactful bible say even satan come angel light etc also told jesus truly god truly man dying sin etc obvioulsy became uncomfortable fact told may kept trying find similarity believed pued finished bag asked read think audit reaurance could come back say another pile entitled urink anatomy spirit research aarent many people thirsting answers',\n",
              " 'pacific daily news columnist recount travel experience recent family vacation find new restriction urink nuisance jerk reaction providing actual security couldnt agr security measure paranoid reaction aack lile thwart future teorist aempts ifwhen united state aacked come airplanes aack focus forgoen weak spot bombing chemical plant large city perhaps criling nations railway infrastructure final coent particularly poignant yes bangup job dismantling frdom teorist loathe name security certain leaving child baered legacy',\n",
              " ' ive done bit investigating gathered point might help explain thinking behind keyes campaign prey much spectacle pin obama iinois preventing touring country campaigning democrat closer races also among potential candidate could keyes colorful character could best spk obama making mistakes glowing review obama thus far goen perhaps havent prepared recovering quickly mistakes take keyes doed criticism baracks droing idea six debatesthe medium hasnt let obama yet hes sti fliant hasnt quite understd yet race begun speaking first debate would almost certainly iinois geography history quiz keyes quick study event also excuse know answers obama might sting worse isnt native either hasnt great deal anyway apology former general borling boreling one last alternative standing keyes probably beer else couldve finay turned spotlight away obama turned medium bit aarently plus democrats clean swp left rest republican maneuvering statewide oice didnt wishsenate year record rest content  alan fly home maryland thr month leaving one else head start next round maybe anyone told keyes could win either point  sele time',\n",
              " ' mga nakabasa post entitled  pasensya kayo kung dinelete dito napagkasunduan namin aking kukote huwag ipost ang tungkol buhay pagibig dito sabi aking kukote dapat daw make separate blog marhgils puso ayoko naman pagusapan ibang tao ang lovelife fling artista hehehe able read post regarding love life soy folks yun lang muna ngayon thought day dont think mouth open bakit ang sama naman makita kang nagsip nakanganga para kang tanga hehehe',\n",
              " 'urink fight life shsh make want move another country like kid box mnlight fuckin grid man way living life also didnt get great stu wage slave get isnt consumer great glad kids trained lile consumer especiay shopaholic exwife crazy granola antitv anticonsumerism vegetarian castouts raised dad whos wacky ideas hard powerle sometimes want get eke existence financiay burdened hopefuy temporary fling subside time hopefuy advisor right say best investment house best thing think crap enjoy hedonistic yesterday work swiing leon mowed lawn visited friends watched monsn weing boowed monsn weing netflix halfway chapter thing went haywire didnt play dierent dvd players never kind problem vcr tape sti wonder much beer dvds reay maybe get home theater system experience true power dvds halfway movie going return movie netflix wait get new copy went library boowed yeah love movies way pas time thats lately paing time depreing gue tonight hiking tomoow night yoga reay paing time gue boil pleasurable poibly chance make new friends health everything reason right meaning life raising children becoming healthier eating right exercising losing weight healthy enjoy life maybe reay trying cope geing divorced personal financial facing',\n",
              " 'think whiplash dead damned linoleum flr one time sigh',\n",
              " ' tuesday last day half day yearbk signing graduation ceremonys ceremony part  boring schl briany party boring first caie left tyler joes house awhile forgot brianys house people played twister tyler house fuy rest briany people came done watching movie boring came started get boring came tyler madeplay truth dare made lick tile flr write name fuy left joes went trampoline dont remember much else wasnt great mosquito bitch thoughwent toilet paper siy string lukes house next day bri mom tkhome becuz everybody else left night today saturday dad lisa back home goa spend couple day house tomoow today mowed lawn goa outside tan time got sun wasnt shining much anymore went take shower reay boring suer far hope get hold reference job start working start marching band  tom chris tom got new girlfriend think shes grade senior girlfriend graduated long distance relationship dont last thats gue',\n",
              " 'got weird fling open eye youd gone maer much wished sms youd gone much hope tried loving diicult thing love maer tried havent able love chorus every single thing make love everyday think nothing sms right reay living dream please dont wake reay one day leave please although reay hurt let one day love fade away life remember loved bestest friend nothing reay loved chorus every single thing make love everyday think nothing sms right reay living dream please dont wake bridge maybe meant didnt make use dream love lie inside',\n",
              " 'bras haha thats lame hurts anyway gue asked fairy god moy special wishmy last wish said gdbye loser midwestern busine peoplecuz leavin get jump start dream may haen quite time prepared except make one day may years wouldnt hoping since goin early  marketable lost crowd year old loser hope anyway toorow bio final piece cake could stop smiling today finding grade higher expected teacher love maybe reputations duno  trust gdne hearts mind saying supersticious ive said never ending chain trying outdo destiny anyway besides ethic think ihave like debate got outa unle went back point bibliography lazy group hand grade final prey rest geing scholar status time amaze anyway haha say anyway lot know bug people say anyways aint word folks haha anyways much time could someone alright sound second city saturday girlexcited mind thing least trip sunday morning amazin stu wheres suer break  one haha dont fun make way talk say tay bio one last time lift weights bed dreaming great people hay future excited journey haha soy bore folk  make new song excite ive goa study damn bio nice penis model hard want ice cream song make much sense ive read line you dense baby cant  ive goa study bio cuz physco teacher maied woman give extra credit people going cleaning bird nest suen brings grade yeah take ridolin ruing back osh haha song day byebyebyebye',\n",
              " 'president listen theres competition aforementioned date details four event highly convenient computer symposium basicay speaking topic quiz gaming web designing event taking place starting ending one day highly convenient calendar wednesday urink download detail computer symposium urink download detail quiz gaming web designing urink download schedule since dont website ive scan leer sent file ive posted arent readable reason leave note coents sha clarify doubts one highly noticeable omiion event prograing event sha say eye log comfortable wish participate please leave note coent email are day best luck exams karan theyve given contact name number clarifications mrs sii kher email urink springdalespusavsnl com',\n",
              " ' scheduled work right got break manager asked wanted yeah went parade sat front library sat curb kept eye lile cousins fuy people handing candy sort gave weird like old candy didnt give got laughs candy racing float something came along handing flags others got american flags opted checkered flag waved animatedly bacp marched mason staring directly ahead john struing rest swept giant crowd sadly unsn though disagrd meage bacp marching sti alauded also alauded bunch horse craed right front siing time didnt alaud scrounging candy waving checkered flag quick side note tickle told theme song back black must admit like guitar back bloing know blog isnt included bloer specheck anyway course folk way frankly shocked mason live midwest humongous resort tourism retirement area old folk move ore miner move states vote swing republican old conservative set ways tactic biest heckler smile widely could shocked something mason moray doe alaud sometimes one least expect naing news galaxy beyond wot rpg song mix many chiefs enough indians much plaing enough working youre want hobster jetpack amadeus yoshihaa slowbie game far jedi knight jedi academy okay since dont console yet aives get halo topspin sure think like casualties lot dirty reae mason listens necearily lyrics got beat even beer awesome harmonydiidence mainly noteschords love harmony never knock listening mrs robinson check chord change two measure start singing hair scalp every time hear awesome teis tourney elk river today got half hour nded get half hour nded dont ask hobe first round got schled roing johns wimar friend jee forse dont think hes wimar anymore saw alex right johyback one jefe lost right away waited hour bracket catch consolation leading steed jefe started totay biing net georeys service game went pot lost kinda sucked got experience fun excpet hobe mostly sat around since already time',\n",
              " ' alication caed shyne everytime talk strangers especiay one oosite sex turn jeo cant think start tremble basicay frze doesnt haen time nowadays haened today yen mting genevieve hadnt receive invitation club mailing list yet though could without trouble obviously wrong suose care much others think personality brain shuts trying nice didnt react nice hope didnt much like dwb working problem thats one main reason joined yen first place force situation would choice interact strangers especiay oosite gender mean want get anwhere life cant bad people know sti niling fear inside thats ive never nerve get relationship idea frustrating want something bad god damned afraid reach get maer haens overcome disability way increased interaction problem positive thinking directly aect motivation dont want say overused truth parents fault especiay mom shes negative time might unfiial known say society upbringing arent generay known achievements shes paed positive thing aware shortcoming work towards eliminating smart talked yen guy met daen damn cant reca name hes total adam convert might unwise turn evangelical anything case positive thing know fanatic behaviour knack turning people thing made realise negative thought ive lately sma ive thinking negative disgusted stop using word tyr use word must amazing much dierence word thought make life must come study work schedule sunday must foow schedule thats seled paradigm shift action thought',\n",
              " 'doe anyone else iue bathrms started kindergarten got locked one smed like hours  inside cla remember principal janitor finay geing scared wet standing next toilet tnager cousin went use bathrm gas station knob saw turns went first course shut way stuck turned year old lile girl thank god didnt wet day drive home poible use restrm waiting day old enough cay toilet around trunk normal stop laughing traumatized',\n",
              " 'first amendment watch news first amendment threatened people ought concerned protecting aba considering making part urink ethic rule judge one forbids joining group discriminates homosexuals would mean judge would leave group like boy scout presumably conservative church judge ndmore member societyto aear impartial far would ban judge joining siea club presumption could judge fairly large chemicalproducing corporation came maer shouldnt judge belong say afemale ethnic club aarently would prohibited even cuent rules long group doe violence oreion another group simply belonging group restriction membership doe intrinsicay question ones ability judge fairly',\n",
              " 'urink',\n",
              " 'mead forest alti lake verdant grn give way briiant sky blue marked oasional puy cloud slowly float acro sea forest parted elm oak give way smaer ash oasional shrub dierence height lending aearance homage paid creation fealty respect paid simple lake stretch distance whose furtherest bank sti glimpsed limit ones sight bank marked patch nine tail inteupt line smth earth worn water time croak frog cry bird intermingle rough sound duck buing insects every often one catch sight shadow sma undefined sliding beneath surface shore oasional glimpse gliering silver scales sense peace mark scene one almost sms make one desire move stay risk disturbing tranquility lakes inhabitants contents liv polarbear jodie kaze zoe kasui sylvan obvious exits north southwest polarbear lking sylvan return jodies side usher kasui foow back home hope share meal stories pole trundle along monkey sat shoulder sms mostly held walking stick isnt bought variety picked along way prevent faing kind expreion paradoxial conflict hyperactivity tiredne desparately wanting lie slp pued along travel sylvan departs weworn path lake area disaearing thicket brambles sylvan left moving along overgrown path polarbear amble along easy gait back ride lovely liv grin widely finger diing dply bears thick fur holding zoe nod sylvan leaf others turn hears others face taking air disbelief never stop aiving private property yet bear spied smile touch hand reaching touch briefly aention dog growling give another silent hand coand hush beagle jodie doe procd foow sylvan giving farewe others wave smile turning opening brush syl went quirk brow sing polar bear rider curiously polarbear around folk coing going staying wanders bump zoe hard maybe sort polar bear version hey stop pole aention beast decides around one two leed thing wearing much white fur monkey bite sized yum liv lking kasui push away sylvan urge aarently unalert say word foows sylvan opening brush merely giving zoe nod thugh give epolar bear sidelong glance disaearing friend rushes liv along ride eye get wide bear bump people ofers aologetic smile say uhm excuse woman speak noticable norse sort aent zoe caot help smile bear though glance first hse reach give huge animal friendly scritch yeah shes peing polar bear strange thing  sometimes wds lifting gaze woman ride bear smiles noing afternn least shes licked yet fishbaited drly tongue turning lean whisper something side pole stop dead tracks sway uncertainly struling gravity eye dart aembled bear monkey sms edgy tiny hand graing onto one poles braid let quiet chier blue haired yeti nod slowly soy lost trying get back picnic site coat pued torn pants leaf bambles cling thick white fur doe lost distraught category kaze part sti standing shadow edge trline sming slide easily minds eye merely watch making move aention nod softly something zoe say monkey tastey bear lick lip stares liv notice bear lking reach bonk white monster square ear fist there eating pets state firmly kasui discoected monkey also sms notice aention geing slinks clothing clambering behind poles head droing oversized blue haired man hop one aarently cold eye oversized pupil dart one wdlover next anyone able direct soy whatre lking zoe mule laugh livs word bear silent turn pole curious watchful strange one monkey back oiy make want start singing reason could gole right maybe half save rest hey bear crains neck  woman back doe best wounded dply moraly philosophical level bolt water taking paanger kaze step entire time coming general notice steing near pole eyeing bear rider way polesan come show come anyway motion one hand pole foow heading towards one paths giving startled cry liv forced hold dumped dirt give cry exclamation start tug ythe bears shoulder saying water pole momentarily distracted rien bear track reply mouth flaing finay find words sounding weary lile agitated picnic grounds parked somewhere near picnic ground wandering night fuckin tired want home aival kaze throw guard gawps man say either way begin walk towards direction yes water ground practicly shake bear eats distance splash come surface lking quite pleased faing bear back liv soaked easily bone spuering spiing water come surface splash big white bear chuckle bit water wet swiing shore liv shake best move towards trail back wds sms doesnt want stick around wet pole hhale shake head lightly forcing move onwards aid big stick monkey sti cowers mostly sight come halt next kaze leaning acro whisper please get sms quite anxious situation unfolding zoe watch pole sms wait kaze come talk people coming wdwork today blinking times turn back time  bear hit water liv swim shore disaear giling finay hide smile turning moment brow raised silent question turning back polarbear lumber water shake creating brief rain storm almost  laughing sandwhich monkey catch eye nod zoe move grt teh bear companion heya zoe say youre friend kaze nod pole lead path north away kaze make way north kaze left make way north',\n",
              " ' would like start coenting sues story know eachother left fact mother fcker two friends one used mean freshman one type sophomore power trip true lol luckily came sens graduated freshman year realized schl became friend forever became angela met multimedia cla senior year started causing trouble together aka geing drunk throwing huge party wpeople hated coaborated sues house one night drink thats know eachother fyi night one didnt throw also watched porn heather denas cousin close know mean  tendency dre get drunk peer guy named joy cheating thrachother love triangle also play maive amount tetri xbox quite fun hot grandchild crazy lady named eva buna explained want discus womens study cla think caed lesbians thats opinion first prof  lesbian even fuy lesbian enough ask clamate man teaching womens studies later informed man woman man prof random latino guy probably lking bty anyway started talking cla project one project prof like discus anything related women wonder bra barbies even tampons wow cant wait write research paper tampons wonder want bring prop  anyway interesting especiay since went rampage mile cla hate guy always ask girl boow stapler girl always stapler guy dont say smart enough cay stapler cla doesnt want let boow time thinking dont cay stapler schlguy never asked boow staplerfck cares fckin stapler omg soy feminist bug cla sti geing consists nothing writing yeah today health prof caed name like florida wow thats name whats background siing fling retarded point cla people like  dont know background say dont know came spat ever would come said think native american haha omg felt retarded heo native american family link back poahontis first thing came mind haha loser everyone laughed thought trying fuy reay stupid gue cla clown sounds like usual miion thing tday must probably post practice bored betsydenngela posting slacker get top sti working johnson tales get excited hoa',\n",
              " ' came back overnight stay sentosa chalet lumos buies interesting never knew existence chalets nostalgic history museum suounding mied lumos buy mine strange though saw couple ago maybe people thick thin mizpah ndle say bond emerged keptstrong even without sing suosed come back today probably afternn sense guilt brought home much earlierbad misbalance life slping couch fri early morning mum asked dream whether wanted dier night though groy remembered teing cant going chalet gathering sunday afternn even though aslp eye closed could sense mums disaointment told wont home aompany wkend guilt flded pondering chalet mied mum teibly fri night chalet cant explain also reay wanted home made mind sat night wake earlier sunday spend time home lor glad made decision soy mum causing disaointment take granted promise meage victor aie sheau wen said yesterdays facilitation reay want say thanks bringing lumos mizpah duo expre iense gratitute learnt gained much expedition thank wonderful thing haened life since february last year reay areciate',\n",
              " 'friday night awesome within minute smat reunion bole bailey bole wild turkey kied stephen shiingford smat waabe bted paed flr stayed night met homle man named james dont reay know haened paul besides drunk ive goa ask reay much told champ several drunk dial made dont believe anyone coected person shame sti awesome night dont wish unle dont wish could',\n",
              " 'actuay went delicatean katzs meg ryan sat definitely got try pie  know mean everyone remembers fakedorgasminadeli sequence kind movie hay met say sms youre faing buy already faen uhoh youre probably caught poibility great relationship wrecking one know say beer regret  didnt urink romance movie best represents love life brought urink quizia',\n",
              " 'twentysix day philips day',\n",
              " 'song welp pink floyd disc sick tired welp going schl today diy upset stomach didnt write yesterday sure saturday  dont think breakfast boring nobody talk usual went ashleys hehe time love hanging ashley got served  soy random thought greg niy lady house get help month two alright hope get back yesterday found niy girl thinking changing name since girl maybe nitosha instead niblikitosh even tosha something  might even name niy thing going okay dont know else say reay   blah leaving anybody',\n",
              " 'nish jocelyn went  urink guy last night hes one favorite comedian last five years fucking spectacular heard know iermonologue goen control amazing doe lot joke hes weird hes dick hes lazy cant even hold arm hes going get trouble kudos father art heaven without expre wrien consent major leauge baseba',\n",
              " 'urink doe downing enough work today',\n",
              " 'heres within next hours clean like clean move refridgerator elenies laundry pack get checked get pant fixed dont ask get new phone bagiion things grief drvng new york ohio viage yah right',\n",
              " 'went ibc interview went sent police station closed walked library checked chomskys syntactic structures met alex got old spaghei factory interview tomoow naed talked rsh nlam plans get maria haha  subtle  write later tired',\n",
              " 'poible pages steve wrien',\n",
              " 'want christmas mariah carey song stuck head watching love actuay  reviewed yet done ywy greatest thing haened yesterday afternn received crush handphone work surprising first crush never handphone secondly usuay oice turn caed invite house christmas dier going christmas partydrinksgathering apartment friends oice coeagues said yes think would stupid enough turn since already made plan another friend said could bring friend wanted sigh unfortunately caed today saying quaeed flatmate cant party place sob try find alternative venue oiciay notice gah close yet far',\n",
              " 'blah wez every time try publish give weird eor meage blog memory must lan also giving dumb publishing scrn pre manage posts etc want another reference fling theyre making coding changes sti version fine unle reay weird stu blog causing problems net gay hay heday coming home practicay thr seconds yay make incredibly hay downer day thats two new words alreadyused infamous word downer amazing nirvana song name describe two end spectrum clne going run peace aout dawgz',\n",
              " ' today nothing actuay went got pair undies form victoria secret hay lile pony altho get quite depreed wen walking bra section peys picked bra lked absolutely huge like cup size unbelievable put next covered lile almost cried hate bleings old big sigh bethanies birthday went chuckchse actuay fun lile warning sign ticket muncher amuse know werent suosed put hair things yea got new wrinkle brain tonight  alas gave ticket brother didnt get cheap hoible prize  proy therapy didnt get cray prize sigh',\n",
              " ' ive lent ikiru dvd knew day would come',\n",
              " ' something bothered movie maker writer cram ielevant love story perfectly movie shamefuy cant think specific example moment know talking right movies story tacked onto totay ielevant love story subplot nothing main story aoying totay ruin experience one movie half watched pearl harbor presented action movie preview saw movie smed sort love triangle thing story bale ielevant subplot dont reay like ben aleck though maybe thats another example handed day tomoow love interest two student best executed entire movie prly executed favorite movie love subplot experience shawshank redemption grn mile ruing great movie dont giicky love story try aract audiences dont misunderstand love stories try say one type movie story example spiderman movies mary jane integral part story light skirt slaed try draw woman viewers take mary jane entire movie loses another titanic would tacky love story category tried story ships disaster instead honest get rose jack love story one reduced documentary movie makers listen love story write movie story isnt love story  dont try tack worthle subplot serf distract going stupid',\n",
              " 'first time ive bloed consecutive day spliing headache maer talked mier shes sma didnt urge constantly breasts fact urge focus sight chest region fls manlike yeah shes qun among men converstation got anywhere particular tis often mere mortal aowed speak demigods shes certainly demisized alright enough focusing smane way taken miers dad audi  surprisingly cramped however music fanatic like john leon said might try put rock leon album onto rank working cla hero top leon song made reay teagen render icy scene today sha probably use kind christmas thing closer time christs celebrated birth minutes making ice like ice mier come live something youre quote day hurt home hit schl hate youre clever despise youre fucking crazy cant foow rules leons working cla hero love jon roskiy',\n",
              " ' said bloing coerce list thing haened since last blog andy turned andy got gum stuck shoe said fuy tried remove scraping ground  nothing much haened cozkno andy count nothing suosed finding grn cant bothered also rajiv siing next moment rajiv stupid gdfornothing ugly layabout suck everything something  agr please post coent',\n",
              " 'test post heo anybody ',\n",
              " 'haiz leg aching today later recruit center dont even know walk properly yesterday went macritchie try take route instead walking uer bukit timah reversed walk back macritchie central stage total estimatnjoying walk half way rain geing  shit stucked mile reserve track choice procd journey worse part wearing black bra gordano white shirt became translucent omg used bag cover front wet outside hai sti thinking eating tao pia balestier crave friend julie got town coect air ticket traveing end got home musckes ache like due cold weather anyway got kaka evening plans next procd routine walk maybe considering sentosa walk sun tan idea ask julie continued one thing realise part parcel togther regardle relationship couples besides counication finance also quael even friends easy handle properly anything  relating maers credit card bis signing card buy thing alaways easy thing cond waste minimum hand energy sign comes morale story spend within spending powercontrol waste money ueceary stu acting rich realistic modernised society longer trend money never relationship friendships family ties sign devilish angel',\n",
              " ' kno kind turn mai blog sum place publish thought wel love gue  continue usin purposeblog  blog often bcuz wel wut toldsit window lkin toward starlit sky  gaze deusional image hours knoing dat able watch gaze grow upon image knoing neverarms never reach grl sky  lking toward ground distort mind draw back reality reluctantly able knowin hav life live bed wake heart ache kno lie deception mai mind trick played upon maiself sha live life  mting trick mai mind',\n",
              " 'urink say gdbye',\n",
              " ' donuts geing ready second cup morning',\n",
              " 'talked traveing earlier geing woied haening get disaointed set heart something doesnt haen especiay long thinking got rachel talk worst case could think wed always prepared worst dont anyway turn okay even dont get job month italy make enough money actuay save sti pay enough thr month round southeast asia thats reay chred',\n",
              " 'okay gue thing back ruing thought cut blaering last night hit standard downtown prey hot place first date drink friends sing tuesday night rftop bar fied mostly busine men lot foreignersim auming hotel guests made interesting eclectic crowd design wise mod everything red carpet chairs table okay yeow lighting even bartender wearing red outfits best part besides open air city viewdowntown skyscraper suoundingwere water bed line one side yes thats right water beds havent sat one thing since like parent one half waterbeds half mareeuose help suort lower back encapsulated red course space age like dome lile eye drop cut could climb though plop slightly perverted ole slaed water bed said doesnt sound familiar hoible everyone busting sti whos fabulous also old time movie playing projected building acro strt couldnt hear anything cute idea music retrofunk stu got old eventuay started playing hiphop course made way dance flr ended dancing guys one scary weird metro sexual type spoed acro earlier said  ended asking digits gave dont think  talk cas anyway time definitely place take towner experience wkend hear way stuy cover enough turn away especiay going chi hang club parking gin tonic long island true baer would great place rent party special event smoker smoke intimate place geing know moments plenty mingle dance aropriate music',\n",
              " 'cara made peoples profiles never even thought strange many hits perhaps public longer made mine public perhaps people spy future',\n",
              " ' hurt somebody lol know rant least today siing typing heart away thankful  listening internet radio lawd silk remake ebony eye rick james smokey robinson somebody make stop say isnt please groups guys cmon',\n",
              " 'today day besides fact rained like day couldnt courtyard morning afternn lunch time lunch came around probably wasnt raining got big fight yesterday devon told came house going whp behind didnt house havent since reason didnt house raining night cant rain meant brother courtland reay nded talk soy playing around becuase understand today lunch friend katie got mad stole brother soda wouldnt stop making rustling noise wraper honey bun caediature later threw nickel brothers friend justin blamed peter brother peter  peter katie caediature told give bkbag got went library like went library like minute later said friend thought come  mad said acting iature dont want put asked acting iature told stealing brother soda iature throwing nickel iature told highschl last year going remember goa want memorys dont want memory boring memorys anyways going home alone tonight  home alone get scared think someone house stu dont think mom cares hope devon work problem reay sti want friend  swt got home schl went devons house apologized told woy couldnt reay company day gue cleaning day something went home',\n",
              " ' suen hit reay right maybe kinda helped think yeah like brick chest  much sigh smed like forever since ive probably sti another wks noticed today day much everything around reminds car driving house made hold breath sec today always hope sigh everywhere opened today first thing saw sigh going crazy arent even tho rarely everytime phone rings hold breath gue get bored tonight since one reay atleast one interest talk started seaching internet humboldtstu cuz hey life gue hit yeah know stupid yeah reay sigh otherwise stu today might varsity someone complained sqaud changed leaf jen alternate chick might quit cuz reay dont like duncan dont get along put jen right wow never thought ever make since barely aomplish anything yeah would awesome get skip band  lol gdbye marching band lol yeah great fun play fort dodge year  since like never think christian schl something shrug know yeah close humboldt everything reminds another thing bout today grandpa whole lot beer find cancer spot kidney might take cold anymore reay scaringawhile yeah lots newtu except probably goa end doin bad algebra ive slacking much yeah shows ive gone quite bit everyother cla even gue nothing else ramble tara',\n",
              " 'hey youre right aie courtneyheh heh get yeah lile tired today havent posted like month thought beer way avoid homework yeah know  wish sti spring break could use day maybe san angelo many old people hot boys anyone know next break goa place',\n",
              " ' reason curious didnt know would aropriate select sister maid honor reay dont want sister maid honor think much responsibility mom sister expecting maid honor sucks brian predicament would rather brother best man reay isnt want foow norm enlisting help bridesmaid make sure everything aording plan wish sister wasnt screw snatch reay movie hked incredimail',\n",
              " 'listening basement thing changing are blog hpashyash blogspot com sti available switch  probably wait friday change people bit warning might make post teoti since think people read come yay',\n",
              " 'seven point personal trainer examines become client help achieve goals homework given data person totay fictional case study een executive brandi general fitne limitation een limitations een suers low back pain believe relieved extent exercise right scoped year ago doe report pain however lack pain doe signify lack injury therefore sti concern creating workouts aitionay een beta blocker due high bld preure medical clearance doctor document state heart rate range would like work within hopefuy able lower eens bld preure able medication due regular exercise een progre slowly due limitation due lack activity worked seven year extra motivation order progre suefuy behavioralchange model important een adopts exercise habit healthier lifestyle already risk due father dying heart aack age fitne level eens fitne profile give total fitne score place unfit category een weighs lbs body composition test came back read hoible especiay age place een guidance strength flexibility departments scored prly medication bld preure sti reading around normal bld preure reading definitely eye aitionay resting heart rate around kind high beta blocker normay  number exercise heart rate prescribed higher lower concern areed doctor workout seion begin medical clearance lastly eens aerobic fitne lower side fair category thing  starting entire boom totem pole sixmonth direction specific goals going usemodel order help een establish goals indicated work trainer twice cardio wkends want aim day program een includes cardiovascular strength training exercisepecific measurable aainable reasonable timely goal een work thr day complete least minute cardiovascular work along minute strength training minute stretching next profile aement days  improvement category comparing two profiles sixmonth direction try get understand body composition would like set realistic goal losing pounds lean body estimated pounds recoend amount body fat pounds safely set target weight would mean pound weight sixmonth goal wouldworking lose half lbs also work diligently strengthening increasing back flexibility order decrease back pain lastly try  another day exercise totaling day workout warmup minute cardiovascular piece choice strength training chest push pre incline bench set back lat close grip set shoulder push arnold pre set back extensions set legs leg balance long poible leg tubing side steps set way leg curl set leg extension flr push set biceps set triceps push bench dip  failure abdominal crunches set sit balance cardio minute interval training cardiovascular piece choice cldown minute stretching fubody working alone make sure warmup minute seion complete weight training circuit machines one day uer body one day lower one day depending training seions strength seion complete minute seion cardio using interval training method used personal training seion unle otherwise instructed seions programs try water aerobics counts entire workout seion yoga flexibility stre management pilate core strength spiing counts entire workout seion around club days personal training nutrition counseling nutrition guidelines due ace certification qualified disperse information relating guide pyramid would write day diary including wkday one wkend day sit discus would show sneak fruit veie order get number serving recoended pyramid talk weight aim pound per calories achieve weight creating deficit calorie per day obtained exercise combination diet exercise laer recoended fling easy exercise like snicker bar one goal get  nutritionist get indepth explanation diet include guide pyramid diet recoendations thr agemhr  thr zone note calculated based upon estimated max een beta blocker therefore disregard information use recoended range doctor',\n",
              " 'night city ive work hours nothing much haened frozens wine suenly sister christine anthony dreed disguise come sit bar time order ring two martini one belvedere one bfeater dry olive scan ticket pour two belvederes fling great enter  lee  reay  would agr ticket would make think many drink ignorant procdings ebuient boisterous harangue job wow ive never clean cut thought slice mind dre like every day one vodka one gin remake martini whilst simultaneous order fly cosmos wine oly tonight wded talking shut sarah get frozen stacy lye grab saire tonic without even noticing pouring paiser luckily one newfangled screw tops actuay wine freser maybe saintsbury garnet kid hang fun friend come break anthonys hundred rather miranda ive got take math test give drawer kid leave night slow cut left building caing cary phone hed back remembered forgoen clock caed clocked inconveniencing miranda went home talked cary hung hank porch thing quiet checked pockets mirandas oice keys fuck put shoe back hightail back restaurant circa talking cary way put hold went returned keys like dusk oortunity lined austin incompatible rest tour schedule could use beer crdination central database web aeible webshare ical alternatively gie hrs filemaker diy lking sexy picture desktop cant quite  neither pawordprotectedheight completed inaeible tickle neurons anthony found bunch polaroid photo crk behind egos congre scaered muy italian bike contest cathedrals people including hipster girl everyone smed recognize anthony asked around bar recognize girl directed biker team bikeshop consists austinites pictured italy mystery almost solved picture sti sit apartment waiting returned might aropriate anthony privatye pirate',\n",
              " ' logo archive could ask importantly think come july work board get skied know inivision board skier company please let know',\n",
              " ' physic beast suer aignment  probably right away dont last minute schl starts anyway last day schl yay tomoow technicay aendance day dont even take theres reay point  anyway yeah fun stu going wow nothing insane  eat something back cuent music human league dont want',\n",
              " 'great everythin sms going way except whole schl thing dont know whats haening usuay done prey term roed around prey shiy goa step gue everytime  has get buerflies everything love',\n",
              " ' overjoyedinsane schls goa start whp cant wait hit bks turn new page get marks time eort  sme fresh begiing year great whats beer sme weused treasured textbk end year ',\n",
              " 'dad got fathers day caed dylan country composed country western singer covering bob dylan tunes lot cds like know like pickin aerosmith one bluegra version acdc songs christine sixtn banjo got think people utilize banjo bought dad harmonica teachyourself bklet christmas hoping could rock form band doesnt get lot time sit teach thats right cant complain hes puing head got new iue roing stone cant wait  kind liberalhiietrhuercoiepinko bushit serf month birthday gift jey birthday areciate since thought music magazine music great coldplay care opinion georgebush much care georgebushs opinion music shut fuck sing speaking birthdays mine august hay receive cash lieu gifts',\n",
              " 'advert gay top page bet reay wanted move blog',\n",
              " 'urink fred eric red hot pink june',\n",
              " 'know geing  drunk suckstheres two way sure fun lile take twice long recuperate mention fact proce recovery twice haowing geing tipsy amusing concept admiedly tcz spods prey familiar however whats worse geing  drunk geing  drunk party parent home slp house therefore subsequently wake house bring exactly predicament found last night let never another sip alcohol presence parent anyway probably imagine reca ever haened morning made greatly regret last night lovely medley knling bathtub bout insane awkwardne ensued time rather rude awakening pleasant thing nature aow close two final thoughts reay final thought repeated emphasis god damn margaritas god damn end rant',\n",
              " 'eoz yay finished exams think wait  sti one math one non calculator one derno sti one pdhpe topic test hav frien english spch due tomoroz damnit todayz math exam frien hard bldy intermediate finished like half early advanced sti head workin saw andrew todayz lol  like seconds said hey catchin train pardon catchin train yeh noe yeh goa points ahead yeh cya yeh bldy awkward aira frkin scream loud omg think saw mak  excited lol wait gone saw pale person aira sing things saw pale person points meh lol  walks lol jen tried take foto ahaha far away lol didun get pale lol seriozly nda study get spch done sigh ',\n",
              " 'nhl reported iue heavy penalty new york ranger haened recent game columbus blue jackets make maer worse highpriced talented team like ranger geing coective beat young expansion team second left losing coach bryan troier put noted enforcers krystof oliwa sandy marthy ice take faceo puck droed enforcers droed gloves cloering grant marshal oliwa former penguin blue jacket suspended game forced give salary games coach troier former penguin player thought real cla individual suspended two game marthy wasnt enough ranger organization also fined doars',\n",
              " 'reference post read urink post way back july upset price gas pied even gas like gaon national average dangerously close gaon parent talk gas cent gaon back kids born tnager remember gas half price they yeah year ago economist say take inflation aount gas actuay nowhere near record highs fuck economists economist making hour gas gaon month ago making hour gas gaon inflation fuck wage inflate match everything else price gas heir prehistoric creature became oil became gas paying much sue somebody amurican way cuent music satan gave taco beck love song word moment urink inflation including quote inflation everything get valuable except money  let one stand',\n",
              " 'day blog devoted unto stories cuent ruer life led least bolt thats ive posting uder  probably start legacy one since completely wrien typed edited knows simpleburner software working burn onto luv software literate license slowly dying joel working revamping place year half old sha  thing geing interesting',\n",
              " 'lou kping waet boyco one thing bored work laugh check urink great unoicial seinfeld website site contains among things script every single episode even ive episode ive reading sti make gile like mental patient haen think seinfeld perhaps bestwrien comedy show ever initial first couple seasons bit spoy without doubt greatest sitcom known man gave tired genre swift kick yet toed dont bother teing theres hierthanthou hbo show thats ten time fuier youre probably right dont get hbo let enjoy basic cable opinions okay thanks anyway reading script reverse pphole one subplots involved jey geing rid waet kramers insistence aured jey went powdered wigs find waet neceary evil also hate fact big hunk vaguely cowish material hanging onto every pantswearing moment uncomfortable also creates sma rectangular outline back pocket make nice oice pants like crap reminds bit redneck would  lived florida outline chewing tobao branded onto back pockets waet honestly money bank card fit front pocket think experiment wkend waetfr thanks kramer wkend plan involve something came morning sister julie given two ticket urink lou rds saturday night concert orpheum reay huge fan areciate place rock music history ive heard usuay prey dont think would pay buck  live julie sing nothing yay sunday julie taking urink yale electric going finay break buy air conditioner last suers heatwave convinced rate frank two one bedrm one dining right acro bedrm dining one work okay cling long open yale seing basic prey darn price going get one close bedrm let frzing artificiaycled air work magic',\n",
              " 'urink soy chris tong long enough reach chk hehe urink',\n",
              " ' monday thing turned prey mean hurt girls fling kurti friend caie think justin goa ask wrote leer chasen exciting huh reay didnt get fair saturday rained day didnt get ftba game friday stupid travus never caed back mad way expect travis mean anyh talked luke chasen say truth yeah even truth wouldnt believe take back would giving time doesnt want kurits caed say whats nice made buy profile aim scrn name prey dont know like whether anyone else doe goa leave probably back later talking kurtis geing kinda confused hehe talk yuh later peace love yuh bye crystal',\n",
              " 'hey everybody want say made mind want future going national guard thats real big thing everybody know older sister renita teing going join tried talk said going want said fine click hung big deal know something big come along shes going click leave hanging didnt like arent going talk anymore dont aint year dont make think going think thing give money  money got money want help give money schl sht think shes talking anymore caed kid told wasnt kid child people step thinking kid child often real disaointed told people often step thinking change lifestyle view life disaointed martina always stoing changing reay believe contacted like came life trying change found couldnt thought could get money didnt know take told much capable holding income senior shocking quit job lonestar tried blame stu didnt kept said forget far working goes cna trying get job get money coege education everything time days far social life kping nobodys life right lot people trying focus education right person come along yes sent god past year matured nice young lady lking world directions pick people hangout geing older basicay living life saved woman female friends say one male friend one together one friend rest aociate gue thinking going berkley coege dont know get enough money finacial aid scholorships probably going berkely chicago state dont get enough money going richland counity coege think thats best thing anyway  thats folks',\n",
              " 'bridget jones edge reason sense self come people cant right must weird penis yes iagrdvery weird active aendage one would think time yes youd woy would next said jude exactly agrd might suenly get gigantic erection mile ftba match',\n",
              " 'urink spring daodil urink',\n",
              " ' say thumbtack back elbow get respect',\n",
              " 'han solo prince leia twelve year old developed strange obseion luke skywalkers relationship prince leia organa luck swung acro boomle chasm deathstar coected dply hien gey emotional center equate barbie gene young girls constantly speculating luke leias relationship developing often  luke always pay dier fair since moisture farmer prince luke leia way made hair bun unfurl keer action figure practicay malibu barbie ken would date lukes landspder probably like barbie kens mating ritual except interupted tuskin raiders knew luke pop question novel empire strike back released picture luke lking dply leias eye touched paionate part almost caused swn oly enough think strange yearold boy iediately read one night shocked find scoundrel han solo basicay staed best friend back stole girl dont get started two timing bitch thats organon could decent hair tried devastated put han solo action figure shoe box put uermost shelf closet way felt could control situation felt lied felt like george lucas misled felt alan dean foster goen hope splinter minds eye hope dream stomped upon oneleed vega showgirl stileto house children already picked name logan ariel left live spent two year pouring energy relationship suenly come end done  got return nothing time slowly began heal found luke leia began avoid one another one showed milenium falcon would disaear creature cantina playset wondering leia saw han longer saw luke began walrus man strange new way would find geing drunk venturing dark aey wiing jawas wasnt right luke leia find social situations awkward conversation forced eventuay returned han fold leia didnt waste anytime moving together luke couldnt stand watch aliented dreer threw himlf jedi training long forgoen lking back think first experience disaointment relationship even though indirectly involved future would find lking boyfriend like leia abandoned han inevetiably would find bar moisturizing soow frosty swirl lked left saw walrus man dierent kind thankfuy saw jawas',\n",
              " 'wow schl fun yet much people rchs  much wow last day totay sad went bash thing schl daie brought water guns everyone stole made reay mad hung ivy whole time haha fun wondering around get somewhere like shes like dont know foowing like haha wow fun thank everyone made year fun hang suer haha though susaahs bringing schl dance hehe bash thingy mabob rocked ivy chester soaked briney great haha yeah got get random people wet hehe yeah gots xairo party mara reay waa dont think  beg daie later people one byrd',\n",
              " 'human cling onto know never expanding going outside comfort zones walk alone roam ignorance turn back around use defense shaowne sms concern cuz known excuse wiin learn john reuben normay would quote john reuben favorite raer line always strike something sms reuben reay hit thing right head anytime someone try stand make dierence persecuted nonconformist rebels told stop trying change way thing usuay hear weve never done thing way reuben reply coectin dont select flavor  back critiquin behavior tryin take creation fit mold yeed seout maybe wasnt told let shaow mind create creator impre  chaenge thinkin test might like  sti say god ble trust iue loverespect honestly bro dont think much expect many time shaow mind caught cant escape thinkin youve ever taught walk way talk way front way pose way react way aint got god created god  right may like way honest god know best god made fire inside aept ordinary average never intendedfit ckie cuer boxes refuse submit want long pleasing god much righteous anger want judgmental preachy going know going sometimes peoples toe steed whats best fact peoples toe jumped many peoples eye ear dont  hear light many christian woied oending people dont think run around sign screaming world going afraid oend someone least thing woy ive got god created',\n",
              " 'today half day schl isnt reay anything new around old stu visit adam natalija day prey exciting spent lot time value viage thats',\n",
              " 'nightmare christmas urink movie belong many dierent outcomes brought urink quizia going may brad always friendly anybody ever talented actor also sincere friendly respect day dies congrats urink male celebrity going may choice brought urink quizia definitely nightmare christmas sure brad thing knows prey sexy interview vampire though',\n",
              " ' yeah dont want blog die lile water lkin kinda peakish last post jan mean know busy stu like every awhile say somethin blog unhaydont luv cyaz',\n",
              " 'caot wait torture every teacher trying much biology ridiculous havent understd math since mrs sibenac replaced halfway year pregnant english crazy weve barely gone poetry already last cla history easy religion boring easy spanish tambien muy facil art final plus gym tomoow besides ive prey day mythology history thats fun plus know something forward tomoow geing back eay grade english get  prisoner azkaban loews least that fun going maory fuchs plus stragar haha oats',\n",
              " 'holy cow george tenet director central inteigence agency resigned big deal mean tenet cia taking blame inteigence faliures iraq wmd scandal cia dealt huge blow coish found cia fbi guilty eicent medium jumped medium coish acted totay iesponsible americas inteigence counity going suer anticipate money budget cia next year maybe congreional oversight',\n",
              " 'today frustrating day went public aid realy stamps time case sms shawn make much money eligible aitance think bogus dont reay take aount various factor involved living todays society bright side aroved aitance mean shawn able use tip money paycheck hopefuy get know stand let starve able mail aual report form money order church though hope everything order wont woy send next round reports didnt get van wkend mean family friend parade made tentative plan  newest hay poer movie auming get van galesburg know able  family friends think parade',\n",
              " 'even damian mom suburbia ruined metal america making pey rebeion wearing ramones shirt bought local know always european around take subculture urink natural ridiculous conclusion',\n",
              " ' june haie move gywevie woongong australia lepakz port hafizah july hahaha getaway mat cutez firdaus guidiance justisim justin else hopefuy able teleport stu gwyevie today hahaha president masca syamsul hendranot syamsul  also another senari case powerhouse kak sam create joke lamerz hehehe bad galfriend last nite said changed sense spch therapy think sti old plain haie yea yeah mate know pick auies aent bit english sti broken ever hahahaha care know mates  mean buy said singapore month auie especiay woongong course change spch therapy hahaha chrs man bath suy super windy sti  rush',\n",
              " 'cmj wednesday didnt make everything list heres catch dresden moy day black car lovedrug kier menlo park prosaics',\n",
              " 'purpose time fear back think know strength weakne makehuman robot vision life step crowd breaking indecision abandoned beer distractions microwaveable vision life time saved wondering purpose plaing trip yet taken everyone answer wiing share meaning life waiting convenience store strt man  everyday may even know name brand buy everyone answer refuse speak lothole trying hard dance another mans beat sing lyric didnt write stare photo didnt take creativity practical purpose anyway question anchor elsewhere creativity conversation going surface projecting anger disagrment miion thing talked one thing sti undiscued answer center coitment even harder make one self another stuornly dream refuse let alarm clock sti nothing purpose',\n",
              " 'heo like waning  schedule aearances come randomly art thou ask one foureyed san diego goe clue concerning whereabouts others',\n",
              " 'blog',\n",
              " 'actuay names jasmine dad didnt like wale',\n",
              " 'urink find kind driver dont know thought one obviously havent drive lol',\n",
              " 'urink hand newpocket phone',\n",
              " 'woke super early putzing around online reading people journals found one jen would say crack shit salute shorts wangsta know busine fun sun know laugh urink old schl nickelodeon show brought urink quizia',\n",
              " 'big burger chaenge gustatory gladiator posted edt june updated edt june clearfield deys bael pub chaenge sixpound burger chaenge clearfield eatery invited big eater around country take biest burger heres recipe six pound one large onion two whole tomatoes head leuce one pound chse top boom buns cup mayoaise ketchup mustard relish banana peer toed pickles folk deys bael pub say one able eat sixpound burger required thr hours competitive eater eric badlands bker tried thr times last aempt stayed restaurant seven hour ate whole thing copyright aociated pre right reserved material may published broadcast rewrien redistributed info taken urink nbc com',\n",
              " 'representative shaw member citizen sound economy cse concerned inability congre control spending alaud president bushs threat veto legislation overspends would respectfuy ask suort presidents eorts representative chris cox rca circulating leer president bush pledge suort presidental veto spending includes ueceary spending important president bush know large number representative suort budget bale ahead year please contact rep coxs oice information sign leer please working responsible spending congre',\n",
              " 'last day two quite hectic thing haen especiay aorney limited suort sta today shouldnt bad though registered voter know also encouraging since lean left tie thing time another one knows maybe counist monocled monkey part sample time wisconsin tied bush twelve miouri thing sti trying get mind around huge lead north carolina bush edward selection thats way edward going cay south key fantastic shape bring arkansas sms competitive southern state florida know southern',\n",
              " 'first thought nader lking rather rough saw television box work got sma glimpse though munish trying show chael hbo case people caed front desk ask saw man close even year ago ayden mitch trast went nader ray made sign naders head kermit frog body said easy grn personay voted hay brown wanted hear michael mre nader speak nader lked like average older man hes kind ugly physicay smed holding far say lked recent ftage picture nader you know dude lking haard vaguely like teible entire face gaunt saing nose like drop right face first obvious thought perhaps alien sucked life using body second gop got first kied zombified using biing hey could democrats reay know key could evil powers nader going burst song ive got strings next aearance dawned perhaps real nader bound gaed somewhere maybe dead maybe barely hanging life perhaps darker enemy masquerading nader photos beg could man sadm admit resemblance gathering evidence check back regularly  send sign ready confront like disaear suenly know right',\n",
              " 'primates humans',\n",
              " ' remember mentioned serious hate shania ive got someone stuck new shania work tonight  went cash night void thr transactions aarently minor coiption whenever wrong payment type punched grumble talking scaer first half hour usuay take least hour start talking inanimate objectsyeah read evil cash register thats whats going working monday yehaw get work homework tomoow yah wait sucks meh get done working monday tuesday wednesday next plus karate ulti incidentay friend next emailed back aarently play ultimate ubc bole sma world',\n",
              " 'welcome dbsa blogspot located northwest indiana ailiated national depreed bipolar suort aiance site oer date information bipolar disorder adult children also display scheduled mting speaker indiana area along link suort group throughout united states',\n",
              " 'urink west urink find haens last minute shoing hastily thrown together party hey youre goa like idiot like idiot know hes since major lifechanging aoucement aordingly lazy trying soak waning time pued real world forced finay live monkier adult hit beach yesterday stick figure came close spending almost much time car beach wanted get far away boston figured left right rush hour could make national seashore cape cod minutes positive thinking lasted minute squandered half hour aident taking two lane south past minor splayed aident sailing smth beach quite nice put sun scrn hope fulfi ahead made burn unit several local hospitals snzed conversed diiculty hiing girl beach family realized nate  play threw ftba back forth wierd ahaze fog started droed air temp discernable number degrs point decided bail grab late lunch minute  direction nate ready eat handles got penultimate greasy joint cape proceded knock year tickers fat say cruised around cape bit proceded back home city home later evening showered threw nice sneaker like rogers something shuled tias friend linseys  wish wished ended boylston stick figure yet tour several bar strt ended drunk tequila main suspect dont woy teq sti love made home one piece bting sorts tequila tomato sauce trying slp made stomach angry sentinel night take vital organ finish soup sht movies rumor adventure wkend tune monday  left state one piece proving literate page',\n",
              " ' dont woy interview absolutely nothing studying bring confuse kiing anyways review right cla schl wkends agr wasl schedule screw everyone especiay people like',\n",
              " 'monday intermediate algebra honor general astronomystear system honor institute seminar astronomy elementary japanese tuesday intermediate algebra honor general astronomystear system wednesday intermediate algebra mountain biking elementary japanese thursday intermediate algebra honor general astronomystear system astronomy laboratory friday intermediate algebra hiking fitne number waitlist beer god dait',\n",
              " 'busy wkend barely started although gue holiday one long wkend dave working taking easy using evening watch movie weve mied catch lile bit lot talking think talking rest lives one thing continue whether together even sma portion dave penchant wanting conduct long conversation particularly one involve subject doesnt like face directly hes fishing expedition speak hes fuy way thing face directly others hed prefer behind shield interesting vulnerability rarely want like last months conversation  although protest obvious reasons interesting kind conversation using quite thought provoking sometimes eloquent foow dierent paern  conversations dierent dynamic way talk compared way write damn weird writing someone siing downstairs put stop completely rare time ours always intrigued might haen exchange theres aed benefit able log conversation read later dave moved chicago several wks didnt phone would oasional pay phone often would make computer waking conversation haens brings back kind nostalgia even eyes kid went  wild thornbeys movie half bad boy enjoyed stomach frightfuy upset sugar overload gave bag sour skile large pepsi sometimes even one ckie make stomach ache imagine crap aecting bld sugar fault right thinking national institute health begun first testing suosed benefit urink super lowcalorie diet many researcher believe urink diet prolong life heres urink piece npr',\n",
              " ' damnsnow kick thrash bang hit punch smack bang  like  hit desk bang kick thrash stupid damn  snow phuq snow phuq skile goa town  show smile empty soul already  come snow bad roads ready party fun guys goa pick guys time  snow came  meed kick thrash bang hit punch bang  hit desk bang kick thrash spazes flr link picture guest new thing time mad  song fuck world icp',\n",
              " 'urink exceent exploration new edition ezra pound',\n",
              " 'must say geing lazy writing thing write sumthing okay day smed prey short coz german lunch period learnt like shit   fun way beer cla got cakverything  piy julian janosch josh ate lol prey dont woy sti got plate salad sandwich goen mayor save lunch next ehehe simono joee get yeah yas werent aroundbenji ate benita hadnt rescued library probly would mied bus swear ring omg  bldy hot think cold outside fire siing next bldy hot iam dying yes laptop yes could move lazy lol dad said dontmove one seat ehehe yes norbert pats head cldntbothered writing cept talked marknev today laerz smiles swtly waves',\n",
              " 'hey everyone remember fun winter two year ago one shit hit multiple fans  goy think haening isnt nifty going stay neutral time swear anyone catch partial anyway please reay dont want dont want  make worse know soy cant talking going try change please dont shiy stu hurt much youre flishly involved met japanese jew today shes honor astronomy cla shes swtie talking languages religion astronomy rather predicatable topics dont reay anything else say',\n",
              " 'day tainan stayed tayih landis hotel tainan day nice start hotel great facilities visited tsmc fab umc fab tsmc mting went wednesday main focus spare part delivery usual customer complaint vendor part quality umc mting thursday bit eye opener customer cordial however strong underlying meage extreme diatisfaction multiple action aount team folded brought nothing table customer making demand cant met sms ubderstand technicay system operate manage get customer aeptance doc signed sma achievement pale comparason enginring demand respond present action plan key iue already know fighting  situation watch space firework usual lack action local suort tainan get dodge decided deal hoible taxi ride back north promptly purchased flight far eastern air transport back taipei hour flight forgot dangerous local flight within taiwan plane maybe maintained maybe submit last time flew guys bad time realised quickly weird bump strange noise resulted shr teor face inept flight aendants fly multiple time world busine never level panic caed profesional  woied gue also wonder knew teing next time bus trip taxi trip sure aived safe taipei couple hour color returned nuckles move finger frly brs thank god friday',\n",
              " 'second post day found two thing felt share siing bored lking  read came acro website girl made devoted boyfriend sort reminded old envyme org yet rich taste somewhere site found simple writing wrote choked shit sharing love one true love wake everyday breathe hay sme hair family cats sense humor eyes swt aitude hands huhs back rubs everything love completes nowhere else rather arms title girlfriend glad arguing glad hay glad eachother talk hay make hay make hay notice lot creativity put lot fancy words eort rhyme going sit write amazing second thing want share ive heard plenty time one reader sent past first time life honestly say fits dont cry smile haened fit regret sal fact hay haened learned lot life relationships fuck didnt learn relationship say next relationship bound fucking amazing learned one',\n",
              " ' diet thus far said slied friday lile saturday sunday day think going phase  done ive lost lbs thus far prey ideal world able phrase thr wks lifestyle oasionay choice eat carbs reay fruit',\n",
              " 'moved new house probably take month get rid dog hair stu quiet evening finished watching pump volume jam jack push talk hard bobo love samantha mathis though think first big movie new house kick  came pack lee pia also got sparks quite refreshing long day moving snowing thing bobo make subsequently eat pancakes new photo house foow',\n",
              " ' going work hunover sucks top like garlic pia place advertises pia lkingsmeingtasting like bulb garlic exploded take word yeah dont mix wine ever cyodfs',\n",
              " 'dads town wkend spent morning early afternn eating chinese buet course foowed furniture shoing new townhouse started lking barstls skandinavian store ended wanting buy everything else dont like lot stu cuently like throw away sure going though already suested dump furniture house hugo since dad giving place reay dont want tacky mismatched spend half mil townhouse half price cuent house infinitely smaer furnish stu either place plain ugly dont get wrong lot nice shit right dont think sma space already afraid place like freaking chinese antique shop next going plasma living ancient weighs lbs take aroximately one acre space probably get rid olda toshibas reason alone anyone sti fucking stued lunch diet uhm two whole days damn reay workout',\n",
              " 'today went shoing sardog got shirts lovely beautiful necklace expre belts black pointy shoe yesterday got cds jamie cuum twentysomething counting crow films ghosts  also watched bugjuice today never realized new season love also',\n",
              " 'hay birthday gri swt baby',\n",
              " 'finish waist decrease back shapely row since starting decreases last decrease row couple inch abandoned beaded scarf wind hank fantasy naturale poibly work eros thats definite may late  tonight list slept today hour tonight ive decided starting anything else ive taken thing inprogre list tianys scarf doesnt count since left weaving two measly ends ideay  clear list wont start anything else trip start fresh counting monday night spend grandparents leave part trip cheater',\n",
              " 'fireman whose engine jumped red light kied father two charged causing death dangerous driving ian robertson answering emergency time urink crash death fireman aused',\n",
              " 'insomnia aslp midnight awake laying awake hour ive given quietly surfing web laptop leave bedrm altogether get work done something humidity night stuck bedrm shut force open resounding crack would disturb swtheart slping peacefuy touchtype way acro world wide web dark listening open window sound hardworking iigrant neighbor leaving job unknown',\n",
              " 'imagine youre sma town rural wyoming population many know wyoming conservativerightleaning state would never expect  protest war teoroperation iraqi frdom would wrong friends man use term man lsely every friday protest war iraq fine god given right stand going stop going puing right action one thing man people sma douglas wyoming ashamed embaraed cro dreer like walk around town tutus teikirts chrleader outfits kind skirt show lile bit leg right going stop lking like freak first month alone suorter oosition one friday afternn though changed fed mans leftist ioral ideology shoved throat everytime drove center strt yes decided take action went sign time suort president bush trps yard sign wasnt much got point acro siy like caed chaenged year old highschl student siy hay camper hour caed nazi fascist imperialist man siy people douglas gave thumb honked horns even pued shk hand show suort angered siy even went aacking politics aacking personay went nazi ignorant boy know nothing politics fascist brainwashed imperialist racist arab muslims ndle say think touched nerve normay wouldnt taken verbal beating anyone let alone man skirt dieret representing also representing rightwinger douglas maybe even wyoming remain calm control stay strong folks spent every friday since januaryand although new signs new slogans america land brave valor hope sti cay meage men woman armed forces afghanistan iraq world right defending frdom giving life order preserve frdomtake advantage sept teorist aack act war retaliated reason pied left going leave saying remembered every american hear leftist war teorism think word lile mixed war  war',\n",
              " 'urink skunk back heard first urink',\n",
              " 'said urink yes alex today idea behind site  liked urink another girl play fied postcard sent hopefuy show said yes thing like fresh bread jumping',\n",
              " 'check often mispronounced word page know phrase intensive purposes actuay intent purposes chomp bit actuay champ bit sti cant pronounce barbiturate right',\n",
              " 'heh great doctor reauring worst one ive ever suose could lot worse could fainted would probably laughable anything think  cant talk sound reay weird rather amusing sixty years make long hope everyone day speciay key survivors',\n",
              " 'cant buy revolution chris bought shirt hat doe change piece clothing mean hot topic sure lot stu reay mtv kids things though arent like casualty poster buying poster dierent buying internet',\n",
              " 'ive never even tried scotch hate alcohol line feels new movie urink anchorman today sucked  woke like think watched cinemax scarecrow movie gene hackman pacino life road kinda went played surfed net  watched ate mom came home left house cuz people lking house sale got home never came suen show house minute leave weird alrighty hope get somethin fun coming day hopefuy reay eay bored oustomach ache ucks',\n",
              " 'urink wat xieng thong main temple building luang prabang lao urink',\n",
              " 'world insane youre jet youre five mile air youre going mile hour ask someone bring another coke steven wright',\n",
              " 'hahahaha diz mornin skl take nlevel practical fdnutrition photo wed photo turice hehehhe opinion dat help clamate prepare practical exam hes quite lazy bcoz recipe laz wed wen days wow hes also damn crazy bcoz practical exam goin start minutestil got utensil yet jzkat help sympathy  ima person devilish grin btw name azh wehis practical turnquite nice guys ckin bet becozkats help hahahaa practical thing already went straight home wen kat caedask aompany civic centre pay bis weactuay lazy due help diz whilei went witnever regret damnmit saw cute guys yay one library wen lkin recipe forgot take info hes wearin blue colour tshirtsiin hes studyin wit group frens gosh damn cute hes flr civic library hehehehone causeway point duoe werkin lkin damn handsome thing dat shaun white hairstyle wow kinda like guy hav dat kinda hairstyle heheelk awesome coz sum guy ugly dat hairstyle wow thinkin hahaahahahcant control kat listenin blabeins way home lolz kat met guy eventhough decline havin fling hes seer cold storage shop hotdog bun said like crush nickname heehe actuay name raz caed coz wenenver smile grin like macdonalds lolz amongst tow guy met daei reay love one shaun white hairstyle dait bet cant slp tonite goa homewerk coz homewerk holiday loadzeven touch weas ima goa hehe lerz',\n",
              " ' let  day fine much haened didnt turn paper shit remembered project thing due tomoow goa bye',\n",
              " 'bzy old showgirl promised jon jordan would beer christmas year could hardly decline invited hairspray christmas party suer club night gone friend aen sortof workrelated christmasbirthday party home english shes lovely enjoy party deadlydu champagne drink aen former chorus boy friend mike suer stock many year ago work insurance firm preed leading carols obviously vodkafueled activity grating perform preing widow cliquot tried sport wasnt yet ready another party suer club though grvy space many year ago edison theatre high schl swtheart whod moved new york performed calcua another old dear friend mentor place grown usher used hang building prey often restored deco barm grandeur always enjoy party knew enough people sat bth side danceflr chaed ate drank wanting jon joe didnt much interest glad one moment watching swt friend dance partnerinlife waited long find wasnt particularly tender song aint mountain high enough danceflr holding hand laughing singing together couldnt want anything jon yeah okay cried lile least jealous ive ever incomparable dragn paprika swirl friend alex hosting partybirthday party friend joy dorothys tragic lile bar sued thanksgiving tried drag stop  birthday cocktail friend brent show way realizing couldnt walk empty handed bought scratch win loery ticket shoved birthday card kid love even year olds drink brent john rus michael michaels hot boyfriend whose name cant reca lowkey reay nice two maied couple rus yeah rus drunk enough think hiing idea yeah get invitation spend new years eve brent john house lowkey party theyve promised rousing game celebrity prey much guarant aendance course john sti think geing invitation shaimanwimans wont nearly meaningful spending time friends brent john dont buy reaction got year went tony award instead watching house radio city wouldve beer time hate think put social climber  live consequences also zev scheduled aear new years lng time flirtation jewish south african doctor hot drink boys thought might drink boys hadnt figured open bar birthday drink substantial intake bzy charlie raining like hoed cab ten block trip dorothys jon joe everyone sti knockin back dorothys sti ruing water heat ice machine player alex ginger could mini drag show however speaker blew qun sniy performing music jukebox reay whats party started file jon joe went fat bitch breakfast renaiance like old times jon diner joe even beer reward coming rain party apathetic sunday night also closing night revival nine party couple reveler sti hungry renaiance twirled chita rivera jon worked together couple times notably anything goes paper came say heo satbit breakfast chita lovely',\n",
              " 'sner later yoav people would coent jest case believe',\n",
              " 'cuent person tony cuent music one song caing fly higher fiveironfrenzy work right ashley toldgo back admin building hasnt showed hanging mas playing new prey lap top tis kewl ive learning lot interesting thing comp day though lot grunt work weve moved computer ros eyes creation lol mas sorta talking sorta never know answer kinda response lol hes  one like right  hopefuy  able get freaking license today dads picking early today going try get one two places sti cant believe lost waet sms like ive lsing everything days she everybody else gue almost gue mercury retro doo maybe smau ask mum thinks sigh geing paid sit around gue cause dont know ashley tony going bpyphone nextel tony kewl hes nice told style sht yayne hopefuy figure  next years online journal thing yep nods lile lost gue  resort holdthebuon com lol peace',\n",
              " 'ytra indian word probably sanskrit meaning journey spent childhd amongst grandparents great grandmother uncle aunts word ytra heard frequently elder used speak journies place spiritual importance india many places far remember many elder made tripsto kasi rameswaram remember gray year old lady saying mother journies hialayas lady always used think making ytra mean traveing place spiritual importance used dream goign sch place explore place wrien invisble humans eye grew realiaed dierent meaning word realised way lead life big journey start somewhere end somewhere many people influence hate proce self change get moulded slowly shape moulding leing moulded xternal  unsn normay try discover find force form parents friends coeagues wewishers loved ones religious script say god creates man believe creates half moulded shape life person gain shape aach soul life make soul grow along wth body ytra human start birth end death mean time thread along dierent paths dierent people gain lot knowledge wisdom bakground title haened observe many lives whenever observe anything thought arises plaing put observation human race general coent suestion important critical review welcome cos sti traveing yet soul fine shape',\n",
              " 'today family got invited smiths home lunch often doe pastors family get peoples home sunday lunch today nice exception smith new president geneva coege family lot kids start job pres tomoow get back going pack super fast pine vaey sta training start yay cant wait ton new guy working crew gue new counselor got back suer mean wont posting blog til next friday night saturday depending ghost rider gue  talk  get mailing are camp send leer write back stay touch praying camp whole suer areciated peace real brother sister christ love clinton bener',\n",
              " 'probably know hoywd put yet another movie bashing christian saved course involved project say bashing actuay rather swt movie meage tolerance  real life movie aarently christian girl whose boyfriend gay slp save whatever anyway urink coentary saved provokes christian wrath includes bit daey director defends work ultimately loving film christianity extremism dierent say gratifying religious viewer get many expreion suort first coent guy wouldnt know christianity crawled lap laid  religious viewer get undoubtedly religious way john key want know word extreme become slur used describe religious aitude beliefs extreme sports extremely hot would paris nicoles greatest compliment extreme makeovers extreme workouts extremely serious god reveals somehow entirely uncl coentary includes movie ultimately profaith doe make perceptive criticism evangelicals writes hertz reviewer christianity today web site point movie explore satirize sometimes hateful hypocritical way christian treat homosexual anyone aarent sin christian bule evangelicals live inpresenting award like best christian interior decorator criticism valid could makethink behaviorsand bule evangelical praise god christian bules neceary point world people get fired saying mey christmas bible desks think mel gibson win big award paion christ hoywd bule prediction they throw best costume something aear bigoted think fashion designer making clothes real woman get hand parisian runway think urink busine refuse rewarded marketplace dominated monied types secular world bule much larger one sadly oensive aeged game town believed niche christian carve mere bules secular world real world deal inceant carping aeged christian  standard faing short thats caed human course christian sin  stop prees worse though faing short ones ideal standard make mad course easy never aused hypocrisy way christianaused faing short ones standard one proclaims standards thats take make secular person reading eye guer hand upon whl you get destination sure',\n",
              " 'urink sage droing rock toe urink',\n",
              " 'two word vying new favorite extremist muslim extremist making thirsty fundamentalist christian fundamentalists runrun input',\n",
              " 'enjoying itunes new feature like sharing music aing albums cover art',\n",
              " 'ive computer problem lately soy teh mjr lack update recently trying get everything working stu ive got thr day wkend going tough get update meantime recoend medium make urink infoshop place shit anarchist stu urink indymedia independent news source ton stu ordinary people world place load news urink reuters urink jazra urink washington post urink time urink nation urink economist maybe bit capitalist edge times objective news urink yah news urink section best urink guardian urink alternet blog check urink modern world neat lile thing tothebaicades seans site urink antiwar blog much urink americablog great nation deserves truth  could put dont know anyone time read stu sure check taking back improving medium one post time sounds  linked bunch media corporate giants sites theres nothing wrong using resource',\n",
              " 'suck htlm thingy',\n",
              " 'urink favorite idol urink reading paul paper today frontpage picture dion lili taylor filming movie joed memory ive waiting story havent told one long time year ago filmed beautiful girl stiwater working miesota zephyr used depot spot cast crew lunch timothy huon uma thurman incredibly swt posed picture gave autographs walked idol heaven dion hung crew ate didnt pose photos asked crewmember would wiing give autograph lked said read lips fing way next  work filming scene acro strt apartment porch hoywd central crew cast caterer set didnt order porta poy asked use mine problems hot homemade treat sat watched proce mira sorvino walk house acro strt car whole day longer expected due fake snow phone poy used lot star showed eat hang behold fave idol heavy sarcasm dion stro drive catering tent hour aistant come one crewmembers hanging ask mister dion could use bathrm lked crew member aistant made serious eye contact mister dion lked aistant straight eye said fing way moment think mister dion remembered day wish picture face procded story day crewmember laughed movie making experience gue showed personality know mean deny people chance use bathrm dont ahole understand privacy peril public figure dont ahole day nice polite intrusive lunch dont ahole way person star dont karmaticay chaenged thats brush fame payback uncomfortable wonder long   dance  ',\n",
              " 'hate comp doesnt maer last night fun picked beth put air tire went  lainie work beth went  robert minute could talk parties put stu car got burger king went back lainies jamie miy jim stoed jamie came back later hungu lainie closed tkhay smoke walk surprised thought despisedevery ounce dont sharepeople hate swt onehier lked like cigaree beth got fucked shes lightweight felt nice got coon mouth thats easy deal anyway lainie closing talked race awhile listening jamie beth arguing whether alaska part continentalwa prey fuy anyway jamie beth sat talking ish droed jamie went back beths sat living went roberts decided perkins fun course got back andy roberts walked first andy thought robert jumped behind couch screamed omfg scared shit anyway sat talked roberts awhile richie caed drunk andy turned phone speaker could hear around andy robert went kwiktrip walked beth home went home another random note havent talked ken since saturday text sun mon surprisingly hasnt bothered like went day talking depreedish lot sti course want talk  whatnot hay bothering anymore like big step kinda thing reay think two sing going help lot yeah goa shower leave later',\n",
              " 'nat sez iterm sourceforge net superswt taed terminal emulator forouort cmdt open new tab like mozia cmd move window number sms much memoryhog terminal  urink link urink discus thanks urink nat',\n",
              " 'tomoow day since day entered main band  winds never ever performed individual outside schl performance muster parade important led countle amount rehersal practising isnt single time nervous event since secs senior left preure stre uponevaporated like water come back fling guilt sti able detect whether pitch sharp flat rhythm mey unclear embroshure sti right woied tomoow day whole schl watch cla seniors teacher principals lot stre created especiay student conductor nizam remember vaguely sing puing baton frustration fanfare didnt get play brow fuowed frown upon face eye staring straight hatred dont want anymore mistake our time mistake cant avoided nervous streed become whole schl nizams second conduct parade bet nervous bound break moment stre upon stre senior knew band deproved since left high hope wantedget gold otherwise result retrench ong reay dont know hopele state player want left player want kick stay  idea long band going survive kaing reprimanded awful sounded reay cant avoid junior wanting early depart parents wishes understd areciated much frdom parent given gave limit frdom latest concert felt frightened time parent fetch walking almost ruing deserted strt desperate source light hope time whole schl judgement principal going give vision part schl band test baier cro time right time although fied high hope sure',\n",
              " 'photo day february bos urink photographer bob coents white pelican suing day shot texas city dike camera used nikon geo location judges coents lovely detail colors congrats',\n",
              " 'microsoft already preparing update smart display technology due launch late wednesday chairman gates keynote spch computer electronics show late first buyer technology previously codenamed mira important upgrade way available later year judging review reading sound like update whith aouncement update six months would buy one much think prey  wait  aroach',\n",
              " 'dont maybe got sum everyone sms geing sick lately',\n",
              " 'steven susbauer audiobloer steven susbauer thats awesome thats awesome trial anymore steven susbauer steven susbauer ggle steven susbauer lol quite steven susbauer urink hpaudiobloer com steven susbauer hey ruing whatpulse thingy steven susbauer character steven susbauer got yesterday steven susbauer hehehehe got morning steven susbauer gue help day work online havent much lol  multiple computers thats steven susbauer yes steven susbauer  home laptop steven susbauer lol haha linux client steven susbauer yup steven susbauer one cause could reay cheat computer lot people used steven susbauer cause load one entire computer steven susbauer rather dierent user haha steven susbauer cause dont compile yay steven susbauer often key pushed haha yeah using feature window one steven susbauer ive pushed space timestimes  backspace time steven susbauer lol steven susbauer least used keyright alt right winkey steven susbauer lol steven susbauer make sense steven susbauer barely anyone right one steven susbauer usuay left hey areacode steven susbauer duo actuay doesnt maer ive got long distance lol steven susbauer haha steven susbauer true steven susbauer whats area code proy cali auming check blog steven susbauer hahaha steven susbauer awesome listening steven susbauer steven susbauer haha lol man thats awesome goa try something steven susbauer whitepages coapsca steven susbauer caed ggle oice steven susbauer lol steven susbauer prey much steven susbauer bakersfield check latest post make sense caed server farm talked lol steven susbauer hehe steven susbauer like slave steven susbauer sign mean steven susbauer lik steven susbauersteven susbauer say identifies phone number pin enter steven susbauer set phone autodial actuay push open phone talk pin post lol',\n",
              " 'honored  first post amzing blog insight talent also pleased aounce beining new dimension bloing works bring table extensive knowledge american political system credential surpaed say recently met key player government prominent figure american political scene discus status ramification cuent policy politics name sen chuck hagel tey mcaulie dnc chairman deis van roekel nea ron neen fords pre secretary paulkey aistant sec state rep darlene hley majoritydistrict gov ted kulongowski yes heard speak others met personay one introduced group spch story arent even top source gained political knowledge expertise though famous anyway liberal play devils advocate sake argument much  coming election year beyond caed report opinion idea blog ego though laundry list politicans kinda egotistical rather  bloing counity ignorant democrat firebreathing republicans america large therefore great pleasure aounce jack aiaga reporting duty also enjoy puns sarcasm irony writing',\n",
              " 'closure service tanitha held sat may several family member flown thailand  going people temple news asked wanted say anything service dont know say ive said ive nded say rest gue kping come time private journal one thing help sort life rather take advice people someone hear without coent without criticism journal doe ive spend lot time sorting thing year method think ive come along way rather suefuy bump bruise heal going service listening others probably diicult enough  around people knew understand  make naed lunch break today aia ive goen slp past days morning waking like ive slept much distraction throughout day helpful geing stop preparing bed crp mind sti wake something else requires aention hopefuy night slp working come outside slp come thats friends',\n",
              " ' josh real page archive going back like february blog created like making administrator  fix sing know nothing stu',\n",
              " 'yeah always wanted imaginary preop member urink someone poe check number thing list',\n",
              " 'work praise man irish proverb',\n",
              " 'thankfuy mystery reader stranger continue anonymous expo show',\n",
              " 'day second favorite oratorian venerable went reward urink venerable caesar baronius pionring elesiastical historian man humility charity',\n",
              " 'acting dont act react john wayne',\n",
              " '  hay  much love unreal never thought life could find someone love swt generous gawd cant wait get maied love daughter person dont love bitch lol think sti fling wouldnt shocked find fling heh great guy aentive lover geing new furniture place cant wait swtie far life beyond sti joble suck reay trying place caing back starting royay bah damned worker laid dont know problem dont know miing haha',\n",
              " 'cambridge boston always fun  nice back safe red state wacko nashvie dont think center marxist education wish taken picture nashvie peace justice center similar least try hide true intentions theres shame cambridge kept eye pled saw thr key president sticker last thr days scientific interesting neverthele actuay bunch faded dean sticker around though unsurprising revelation  single bushcheney sticker local pre sms convinced bostonian spoke democratic convention preordained unmitigated disaster fun much lking forward fireworks also lking forward sing piece sovietlike propaganda caed urink day tomoow aemble group sound like blast',\n",
              " ' spe  say  start havent posted sorta thats mostly got xanga aount  xanga comvociferous doe mean ive forgoen lile blog thats way life lately boring hectic time poible might ask mostly ive siing around nothing going water polo practice  time plaing geing warped tickets stoed seing bued started seing hay stu suounding warped tour going yep thats hectic part  else saw notebk movie yeah right like exited sing notebk suer arg schl anyways  mean reay sad romantic prey fuy parts almost every girl theater crying amlost cried never cry movie kept composure spe yes like romance must  guy thats saying tupid know somewhere mind thinking cant love someone like loved like yeah know  else went tahoe pic stu  yeah think thats prey much thats reay haened lately please forgive ive wrien something times dont remember past post think back read  guy obseed like obseed one guy record wasnt reay obeseed something thinking decided reather stupidly talk wanted people know reay went head rambling buh bye drea',\n",
              " ' walking work day girl shared story made think hoible thing say someone pick foowing worst thing say stranger find aractive like someone would know coectional facility halfway house  porn shop strip club trailer park head shop drug rehabilitation center unemployment oice pawn shop check cashing establishment another weird conversation told guy work trying figure woman hiing going lile bit crazy heres conversation woman face man woman sure man yes woman bos picture hes showing adult film public walked away heres question public start showing adult films thought showed schl lunch schedule treie conventions sure theres oasional high schl choirband concert porn doesnt haen okay random thought conversation wkend another fun fied dealing computer',\n",
              " 'unemployed thing starting suck',\n",
              " 'wondering around lunch met childhd friend work chocolate counter big department store pleasure  even pleasure interact around hard explain shes younger growing threw around older status lot many way shes surpaed emotional maturity get strange sensation around like unwrap christmas present like excited say next minute discuion say learned something reay amazing aside one aisle playboy reay doe articles hilarious completely unexpected brought counter gave bunch chocolate sample exceptional btw described aection detail smiling whole time like spe reay cant explain drug like eect told course plaing teach understanding self holistic type stu dont reay buy shes second one friend lately empower understand kick wanted respect say shes got whole course plaed swear eect others doe she huge sue said reay hay sounded hay wished something made haier told write thing made hay try find link could turn something wanted doe sound easy coming made laugh told top hay list chocolate think would somewhere high list left counter geing busy head back work reay great  think treat earl grey chocolate pay another visit',\n",
              " 'think learn alot reading people blogs tonite read cuz wanted update going life always something new sti dont know think always surprised probably cuz crush time hay though course check gfs blog sms great wkend though opinion religion dierent gfs always found quite religious way religious know people know dont even care aend services find learned jewish religion religious christians christian dont always bring religion every aspect life like religion includes muslims dierent type christians biest real  christmas easter told friend mine youth minister dont know people stay positive religion  much evil world anyway anything said made sense surprised say something find friend loyal religion sure become americanized would find hard anyone become way reminds watched day amish boy went big city like saw evil dismay decided wanted amish stay big city coent doctor showing around ever homele amish man amish stick together take care wouldnt nice everyone could way everyone could ability reay care others give others anyway bed gdnite send love read',\n",
              " 'bask lovely light alice dwindled fright',\n",
              " 'knew corporate jungle may already knew new buies yes junpei peach lovable buies always maer foowing wherever trusted never leave whatever haens hope also find buies coz lucky find last',\n",
              " 'dont know anybody would want job president especiay guys multiubermiionaires theyre alying thousand doar year job ninetofive job either breaks always break thats like doar hour taxes thats mile management thats chump change wonder president always told someone else doar hour thats cheap geing paid lile would act like mile management photocopying white house xerox machine faxing world leaders geing drunk christmas party sloy oice sex company slut janitor closet clocking five nose every day five oclock hay hour  take care budget monday buck hour want preure going president something first preure youre first everything new iovative hard washington first state union spch weve union thats state nothing report reay got rid king george think rest easy weve goen rid dictator sti lking musket destruction sti lking questions every year think president would mad power think even washington father country thats right day america want holiday want everybody celebrate birthday want city named want district dont even know district   real money kind people use everyday doar give franklin want onedoar everyday people damnit want head side mountain melon right carved mountain want  want biest taest cock monument find',\n",
              " 'love bad days sms dumut reason say day bad next one beer even bad logicay bad day unle make way understand late didnt prepare enough time get rain whole iwouldnt want spend time spch tried get best rest time inf act got caught thing right joseph told move bench table kevin could get aidently davis toldsomething thatwas reay dumb know shouldnt listen people anyway thought much wanted someone bad moment davis asked told said nobody figure beer person mean taking blame instead taking someone cant stand lked stupid front people lot respect got yeed someone side house asking question stupidly answered wrong moment kim said would cried sti fling throat determination let one bad night get way whole goal even one faith everyone hate sti going give parent dont understand yeing reay made mom upset dad asked stop taking cla drop answer simple dont theatre davis anyone else even doesnt put stage ever like threatened tonight probably like deserve  sti involved also responsibility oicer going slack even davis think nothing sti going best prove devotion sti think going cry reay dont want back reay hope dont get yeed anymore',\n",
              " 'extremely important day anxiously anticipated year long hardwork eort put turned unexpected eventful day talking none cat enrages cuently ease people given power conduct exam admiion educational institution behave like mere sadistic wolves waiting cause hurt anguish iocent people acro sister preparing cat almost year desperate get admiion one prestigious busine schl hope promising future waiting exam first came shock exam canceed retest aounced lakh student likebudged choice give next best shot feb finay day aives wake swt slumber wintry day taking eort get ready exam anticipation anxiety surfaces hope somewhere month would busine schl say make get  reporting time ticket min drive home decide independent bike sunday sharp least similarity names mine christ degr coege mount carmel center examination fate started playing game begiing bike breaking due engine cold decided park departmental store locality board two dierent autorickshaws already rickshaw could beyond spd kmph bad luck route blocked completely due flyover construction haening dairy circle choice take roundabout behind nimhans reach christ coege hadnt reached yet sti way rings pick answer famished sister side teing enormous pain panic profeor mount carmel coege leing sit exam although sharp two min late reporting time heck mean two min big deal let somebody write exam everybody waiting inhumane  anguish reach center christ coege ten minute late people areciably courteous concerned couldnt believe profeor gave water asked stop panicking understanding humanity caed sister inform aowed exam twins studying together schl thing together probably aached siblings dreaming get coege gap studying separately six years brings anger tear eye didnt expect eager get jain coeges mathsbackground since didnt hope much hope geing busine schl mba worked hard always punctual never eed life term carr academics somebody deny right write exam couple min late reporting time exam started sadne griing withdrew strule came back didnt get back home eort vent felt like one knew going exam waste eort put whole year least concentration could muster sit give exam choice left bier aftertaste people mount carmel coege sensitive humane towards genuine cases thing would dierent would made big dierence life another young aspiring girl',\n",
              " 'urink roger urink',\n",
              " 'got back second showing play maybe even lile beer eept crazy lil bia picked scream wasnt love hhh thats pricele finay got anthem project turned due today sti midevil project thing due tuesday near done realized tonight much way thing incredible stupidity mean thing goen much beer almost back way thing sti dierent dylan licked lick back get stop proudest moment washed hand afterwards hope god wart licked hhh soy dylan kristin',\n",
              " 'urink car control event crash driving',\n",
              " 'didnt write anything yesterday except quote thought reay quote great movie got watched yesterday amazing yesterday vacation bible schl peoria mom sister brother get godfather pia eat watch reay today got went vacation bible schl got home absolutely nothing sat home walked stoped raining actuay prey warm closed stupid geing  new managment first picture kiing dog walk sycko dont think thats spe would like run place almost choke death leashe think would finay get point cant get away even biing wow freaky got home nothing family finay decided get movie storming like crazy mom felt like going doar general buy cheap stu drove way dad wanted trade change jar money cefcu  outside mean crazy road like rivers pring rain dad bank run try open automatic wont open run back brother dieing laughing soaked rain like seconds gue bank closed randomly people thing one know closed gue one life mysteries even drive thrus closed freaky back get mom bought umbrea used walk liery wouldnt would drenched went cinema luck movie wanted dvd even video yeah brent didnt get movie nathan mom dad wasnt come home burn cds goning reformat tomoow dont want lose music album yeah burned many cds talked klt phone lked hilarious coege quotes showed andrew got kick phone klt proclaimed god cro dreer sexists say think god girl one crazy lady would without klt watching jay leno vin disel one muscular guy could break like stick bed get tomoow like church response sorial psalm watch lile kids wow goa work least get ready bed girl jay leno cant think could make ugly wierd reay nite',\n",
              " 'niece birdthay today hay birthday pumkin forgot buy wraing paper yesterday today got preie slightly wet rainy season family dier tonight suspect monkeys gdy like spicy punol  goreng wonder ndle dish punol realise real birthday venue option toler twnies age young anything fancy already understand concept birthday party old clown want birthday party clamate friend impreed expatriates usuay live big houses sometimes swiing pls kid extra option customised party home day clown negotiable local live pigeon hole caed hdb housing development board basicay cement stl squaers residence built practicality first mind ensure everyone sma heads sma cover sma houses sma house caot aoodate kid birthday party lilies place run amok even worse birthday party local muslim likeleast younger caot secret ehr progreive muslim parties want something special monkey cafe halal restaurant town fuy located midst discos ktvs bars four flr whore building heidi lucky though wonder generationget celebrate birthday mcdonalds saturday party got cowboy charlie cowboy charlie make ban sculptures want ask ban flower anyway lucky ripe old age four guest list read longer upcoming one yes already made idea birthday know read blog invited especiay patrecia coz got birthday mine heidi lucky also back young stupid wish birthday mcds halal werent rage ate fish burgers time changed generationlucky generationlike make even beer made thing adapte break rules bring bourbon generationsti uncertain zer get birthday mcds monkeys secret toast heidi dier big strong boyfriend joiningdier dier mum thank lovely surprises auntie liana urink monkey  monkey hear monkey presenting ban cake urink hay birthday  urink',\n",
              " ' day saw big fish waiting  wanted  foowed made reay hay could spend time together reay dont know turn life may know saying could anywhere anything anyone wanted eye almost open never reay thought maiage life never understd preure meant huge teaching church got  old friend get maied first maiage ever aended kind changed thinking lile future walk ftstep god intended made lot mistakes suose take many detour realize headed direction regardle fact much dear swt kind dont paigns highschl glad sad  though best time however spent company care janee put much emphasis wanted friendship would last suose wasting time much changed party last  time alienated last time didnt know time didnt know always would eachother level stability way temporary girls friendship suose could whine life could let come back vice versa either way onereturn begun',\n",
              " 'urink pvponline com hosted speakeasy net',\n",
              " 'today  let  haend got like almost mied bus slept bus lol walked homerm london sarah key lol know london homerm nothing cnd switched idk went library stupid thing  listend mrs sweatis blab shit went art reay hyper making fun shaon fun zero went library key survay met jale vii went language forget  tlaked mike went science labs fought richard usual went music watched slide ruia talked amyhouse time went side handed survays lunch ate talked everyone made fun shaon gay hair went math went study guide district test thursday talked heather micheal went reading sadako test didnt fiish homerm talked amy gave yuy square joyrancher ran around talked paige bus listened pat mike ingrid pam mike talk pamela anderson porno gay mike thought pat sick liking mean loving porn pam ingrid sat laughing agring pat mike also agrd pat sat lked window cause bored didnt want talk porn home got home watched heaven ate chip shucked stupid corn mom  came online stu watched hung  dier stu best highlight day making fun shaon humongo pfy hair omg halarious someone asked compare shaon hair something said japan ahaa fuy time love one emily michee mil',\n",
              " 'today beautiful day almost went outside almost however open blind dont believe ive done since march ive thinking brian wilson stayinbedforever thing decided would bit easier detrimental subdued variation ive hermit trying saying imitating brian wilson afterthefact hindsight even though smoker reay wish joint outside time enjoy daytime alone outside social smoker gue antismocial album day urink built spi like secret',\n",
              " 'urink karas site rather ggle found site urink data one prey easy way get involved african aid problem inclined theres petition newsleer sign would kind novel petition away pandemic picture bono like superstarasmotivational speaker ticket anyway check site youre interested begiing realize voluntring participating cause relatively easy truly source dont know haine doe sound chsy maybe beat complaining away days hand prefer inactivity think much aligns soy president inactive particularly pleased halfaed fuaed response coiions report decided new information director adequately funded made cabinet position given real power agency overss aina taken seriously wouldnt rlect guy like somewhat related note related get thinking new way information already know suspect true enjoying urink penguin state world atlas urink amazons page title show others publisher series including one war peace women human sexuality urink medium information today wednesday last cla second suer semester large busine cla project start finish cataloging final due next wednesday expected fun slis get done time sure news item told staato tone sounded selfimportant doublesoy initiay thought chaeling bridget jones haen love last item urink raying continues reward least geing lile bit done schl',\n",
              " 'remember time listened music liked way sounded fuckin emo night refused new noise baed played two people come dont start band reay holdingback besides instrument musical ability paion though',\n",
              " ' doe mean one taught expreion mean one doe receive news one spared bad news dont hear way hear isnt  talk amongst',\n",
              " 'two many pic dream car asia pic showing beautiful silvia car lover enjoy',\n",
              " 'okay remind read online journals like cant reply thought read online journal bad reading somebody elses thoughts iitates frustrates beyond recognition make get mad people dont want mad online journal beth yeah right dont power read suose like torturing',\n",
              " ' going get many search engine hit posting blog title demorol know throw keywords people probably search related demorol get ggle hits canada  prescription opiate  sap goa desperate demorol end soy got nothing demorol though cant one hoping make slp prescribed five hour dentist aointment two day ago thankfuy barely remember havent mentioned dental extravaganza ole bloer one carehavent lot dental work done suer mentioned evertroublesome tth completely fixed suer several long aointments apointments exact ever episode extreme makeover part cosmetic dentistry thats suer vacation insert paris lake dentist hate dentist actuay love new dentist hate idea going dentist always hated hence neglected health stability mouth avoiding dental exam costs though aestheticay fine smingly normal aearance tth poe many sma problem coected course next months past year tth practicay breaking mouth sometimes help drunken  knocking send excited dental aointments reay like fact knock time wake new exciting thing mouth yeah trying bright side maybe  throw shit finished theyve taken picture mouth far one pant thought knocked dental chair caught siy bastards havent talkative lately especiay writeative lack postings kind lot plate constantly sms like one thing another youre streed sometimes life get busy dont energy everyone else time hate like ear friends fun time people enjoy around sometimes step back handle shit news however thing lking fact thing turning perfection reay downer type past month due aoying circumstance homefront poible graduation hindrances etc everything coming rose areciate suort people care stre life kept saying rest life especiay rest calendar year beer fantastic year far thankfuy aears life excd greatest expectation coming month years plan got spding ticket today fuy oicer sco nice though ticket lately thought moment remembering crazy night got open container violation transporting lauren open bole wine back apartment thankfuy doesnt show record oicer evening name uknown equay generous dont think sir replied fourth exceive spd violation past year handed may sound like bad oense basicay mean going spd limit get slaed hand pay doar fine way clean record dont reay smacker laying around shit  find take defensive driving course said lile thankyou prayer continued way gym reduced spd mph instead mph clocked gze bust would get real ticket going gym would probably made stop working forever didnt used gym like time mason yeah got spding ticket said fuck worth kind shit',\n",
              " ' yeah realized totay forgoen early scrning urink paion got  begiing year typing previous movie post list duly updated',\n",
              " 'found morning  probably heading urink israel third july sound wonderful  company owned urink israeli firm whole probably spent mting hotel went december right got bought iscar stay nahariya way north mile lebanon border galil reay prey safe fighting south around jerusalem waysouth near gaza town nice relatively quiet right mediteanian sea walk hotel nice beach park always  kid playing soer riding bikes great suounded much history prey sing road sign bethlehem nazareth jericho wild problem dont reay get along israeli friends cant reay explain probably come pride anything else fact diicult get straight story system works sometime figure get bad flings nice always get futher mean grace truth',\n",
              " 'today aiversary first genocide last century armenian holocaust adolf hitler persuading aociate jewish holocaust would tolerated west stated speaks today aihilation armenians may word false letpray hurt genocide remember hope aowing repeat haen people french national aembly formay recognized genocide slaughter miion half armenian living ooman empire declaration recognition come argentina australia belgium canada great britain grce italy kurdistan lebanon ruia sweden uruguay vatican due continued political preure turkey threatened economic military sanction recognize genocide united state america nato yet oiciay recognize resource learning armenian holocaust urink cilicia com enver pasha one triumvirate ruler publicly declared may ooman empire cleaned armenian lebanese destroyed former sword sha destroy laer starvation talat pasha conversation mordtma german embay june turkey taking advantage war order thoroughly liquidate grundlich aufzaumen internal foesindigenous christians without thereby disturbed foreign intervention german ambaador persistently brought armenian question talat said smile earth want question seled armenians',\n",
              " 'testing new picture sender heo picture saturn urink',\n",
              " ' joined guy lking english baons sms order test lot practice taking answer knowing kind question test interpret kind like sat acts beer english part practice hope spring break lot practice mult choice timed writing chaenge read bks personay recoend fountainhead ayn rand individuality best read inspirational also want background holocaust might want read pianist rent movie found powerful yet disturbing find reading literature night important remind every often superficial problem compared people undergo holocaust   even around world though find ironic  american propaganda german nazi genocide directed toward jews arguably hiroshima nagasaki viewed genocide directed toward japs also factwa suorting iraq iran time sadm gaing curd especiay interesting since kurd genocide one reason war iraq history controversial especiay put context literature yeah liberty justice exception dierent',\n",
              " 'jury must love job awful lot maybe lile want pas oortunity sit fay day read write think actuay case hate job oortunity sit bum stranger read write think probably person nation leap chance jury duty least job would rather nothing day jury sit oice listen people phone besides lot great quality time wait  name caed hour today finished last page confeion shopaholic started new wrote poem decided pursue writing aounting lunch tita cecile work district court acro strt rvaluated life time year people hate jury duty last time jury duty dismied name didnt get caed panel today tewould get dismied come along actuay lking forward going home make aouncement theyre going set another panel jury selection behold name get caed along people head courtrm got questioning prospective juror back tomoow work tomoow okay dont even get slp ria joe might say hray dont get picked  let know everything',\n",
              " 'gue get sea guy aarently caier bale group predeployment certification sub workup even though wont actuay going deployment make sense gue thats thing though aording enginr you working reay hard port going sea reward make sense way get combat waior tip spear instead able home night enjoy time loved one trying life goa love people decided stay fags',\n",
              " 'prom bad urink pas',\n",
              " 'whoa fuckin tired gue thats got chiin wmy girl late early dependinglk coege isnt walking around slpdeprived haze day midnight suen got shit energywouldbother hehehe',\n",
              " 'erick stakelbeck frontpagemagazine com july last saudi arabia scored victory recentlyaounced teorist amnesty program othman hadi almaqbul alamri alqaeda operative one kingdom wanted men gave saudi authorities although suender alamri veteran jihadist run two years certainly positive development mean aomplished extremely dubious aording reports safar alhawali radical saudi cleric link osama bin laden several hijackers played role mediator alamri saudi oicials past year alhawali also negotiated suender two highranking saudibased alqaeda operatives ali alfaqasi ali abdel rahman sad alfaqsi alghamdi alhawali longtime alqaeda suorter spent five year saudi prison sking overthrow royal familyand continues preach destruction united state israelhas aarently become trusted mediator saudi government speaks volume kingdom war teorism alhawalis tie alqaeda numerous hijacker sad alghamdi videotaped made sure give oncamera praise alhawali likewise phone record mounir elmoasedeq moroan convicted germany last year aisting mohaed member hamburg plaed show month prior aacks made repeated alhawalis riyadh oices read rest website',\n",
              " 'people paying homage chaee cheapening phrase making tired unfuy research find qualification fan result surprising graph suests every people world dave chaee therefore shut thats fuy stu urink emily heard say watched dave chaee show',\n",
              " 'last july urink busy baening hatch  chatn struck friday july left wake destruction path power wks friend lost home livelihds thousand laid economic slump foowing storm even oice destroyed winds gue thing went sour island recovering chatn supertyphn pongsona delivered knockout blow december island sti coming grip disaster',\n",
              " 'couldnt decide whether write today didnt think anything reay haened worth mentioning remembered stu right sucks dont bother teing already know today prey normal schl day academic wise physic work didnt mind navy came computer today already saw another cla alright always like hear say besides got day complain history fun always man always favor history teacher reason maybe like history math actuay today teacher giving people candy perform special talent front cla two thing std crowd black kid marquis stereotypical black person name way kick back head hes showedtime twist today kicked head usual upon contact screamed like girl crazy whenever bend head neck back hard make high pitched sound kept trying forever teacher kept teing got right voice cracking made bunch  scrching sound youve never someone kick thereself back head scream like girl let quite site  kid nick skiiest kid world seriously meed contortionist crap coected hand behind back quick jerky squirmy flat nasty movement brought hands sti coected shoulder straightened arm crazy tangled knot throughout whole performance everyone cla like   fuk kid hay nobody cared nicks lked  weirder man lunch talking craziest sht ever one craziest conversation debate weve long time crazy fact wont reveal subject maer due fear geing journal deleted server iapropriate content lets say involved lance armstrong hulk hoganft whose flr liered bar soap big nasty disease rien fat guy hoest girl world started reading war world today didnt get far got boring time might begiing hard time bringing read even trouble siing every single freaking page think journalistic first person nature naative style leaf humor hasnt even one aempt joke yet suck enough without graatical speing eors woy plenty anyone thinkg great author suck cant write sht make simple thing like walking around schl interesting fun comparison reading reason would reomend otherwise stear clear war worlds finay made ataris ive wanted make couple wks never got around  wiin get fit song onto isnt  know anything burner much hold thats ive heard counting skit stu thought lot another wow thought would cut song many ended aing extra song end yeir prey stu thats prey much today actuay theres think ive bored enough one day',\n",
              " 'urink pls swt neat urink  posting part dried late apart dreadful constant game tester whirlwind around rina nice enough stay awhile day later shey came home schl rina fun great time shared dozen laugh  detailed recap',\n",
              " 'urink dont know one place year around new year think urink',\n",
              " 'make tonight ',\n",
              " '  said joke',\n",
              " ' set vegas hotel flight aangement made hoping urink expo turn sue plane get delayed might consider urink newark time cant risk geing aested goa get flight maybe get tony',\n",
              " 'say told loved love damnit use word made even said shed always could talk vent shes love sure say hurt cant wont listen say love',\n",
              " 'status report training goingfar visa almost ticket sent back urink air canada registered mail today thanks christies boyfriend start teaching first cla tuesday somewhat teifying manage get lost every five minute puny subarb like susono got wrong side tracks asked girl could help phoned someone thought could help invited house family could escort going could respond domo thinking backtrack ask someone train station thinking duh put ticket mailbox conductor would coecting end thinking trying ride train ten minute banter neitherwa understanding eventuay got acro come yokohama quoting ticket price aival time let gave asking directions could croed track another croing yes actuay biest moron face earth remember bilge wrote people coon sense take back absolutely nil coon sense zero nyet wander around yokohama bit mting yun quick dier thank dier smores goip sistah delivering package doe indd like big city imagine would make tokyo two merged together form megatokyo would kind like gut joined thigh twist flay fate sometimes bier beer total roundtrip travel time yokohama train hour shots urink rest goa love tshirt also serve public service aouncements yokohama sewer squaer style toilet inside kaai station question number two thr night managed  brazenly drunk old man paed train track hed visibly pied pantswhich could sme side strtand comatose ground cigaree hand tempted take photo fishing camera started making noises run kien literay almost criedthere bld road another kien sniing lil susono slowly realising becoming worst kind visitor kind speaks japanese outside domo kind made minimal eort cram japanese preparation kind national way strule help slide sms penchant botheringtalking stranger inability counicate incompatible reality right hope dont haul nuthouse like urink blanche dubois depend upon kindne strangers cant reay thank urink lisa enough urink season four simpson dvds despite misguided eort save rainy day ive already almost finished disc one coentary without groening ten time fuier one without lead believe much barelycreator shows writer jon lovitz fuiest stu yet urink strtcar named marge although know probably change sner later reason like last single person alive japan every singlesta member susono ive contact far boyfriend girlfriend fianc coon law spouse husband wife know certain two thr trainer location also sure last yet wiing bet train fied leisurely daytrip couple today acting cute together obviously someone destroy part ego know ive never reay apologised even seriously felt bad fling single despite eort make like somewhat handicaed could like joe say anything say choice man emphasis man partly true prefer selfdenialfied hazy truth limited oortunity deal lousy deada fish left knows maybe lousy deada fisherman oortunities also like ive made many mistake arena already next slip may severe enough lead unhay maiage fat child ending divorce problem hold long dare great situation  haen think someone fun singlemiserable since douglas separated several ocean although way hes talking debra lately may leaving club  words want everyone love hay long doesnt mean leaving behind selfish acting sure young havent forgoen year half inkling prospect even thr year since real boyfriend kind like urink gil used car salesman fired year zero sales like gil urink equay ridiculous reduced selfdepreciating humiliation aempt someone awhile thats sayin god forbid emotional state aair friend canada start geing maied god forbidive never quite frustrated bloer autoaed html compose windows reread coected entire thing',\n",
              " 'apology edgar aen poe upon midnight dreary upgrading weary whence upon mine eye bleary image fearing disk optimized fat sha coect please dont dwe fate data hand format sent straight store much beer claim something mistrustful name fat convertor insane yet gue blame onward forth care tread image recombined data head lack slp making eye red proce went ahead ready rebt deftly quoted dream extra space head floated space cost softly purported lordship data quietly gloated  confidence shrank watching scrn slowly blank inward computer shrank thank doth thou mean invalid partition data consumed gryphon knew would wishing aocation table risking knew crashed within disk format clashed blinking light computer flashed thoroughly data trashed several minute within holy instruction said chance felt though rked repair disk claimed one computer refused read would repair result grd hard drive space haste wanton lust hard drive space bust place trust betrayed leave lost  hour morning hear soft lile groaning know hard drive moaning format mourning',\n",
              " 'secret people desperately lked ndle enjoyed hay taken alexthegirl com interesting blog ive ever read life',\n",
              " 'nothing much write days damn sian  yesterday stayed schl plus waited hui chrleading almost got locked cla taught math first didnt know den learnt min lol den end today math test knew haha ouch cant type properly finger hurt bldy guitar training play lol cos saw one close friend wrote guys dont play guitar much guy something likedat meanings beer play guitar actuay younger choice would chse learn guitar instead drums bad druing nvm sti got time play lil bit guitar jah hanged talking lile slpy physic test tml sian  else coent didnt write haened today okay like every schling thursday sucked period science craed shsh damn streful skied clb yay heats haha erm den went library making lile bit noise maybe quite loud click centre colaughing sort female librarians rank eline yun like caot use bad word hay den duo say dont stop throw chair den like threateneden even though ryan rank eden higher rank duo eden scared lile bit noise den hay scold somemore den give type face  already reay waa slap lor den like siing far end com lab com one always use like trying guitar note internet try fingering never even strum never even pluck noise move finger nia den eline told yun ying say dont stop playing throw guitar like even making noise lor shit damn angry didnt say anything put guitar damn disrespected lor younger den somemore rank sti say sort things dont even give face tsk girl reay damn slaable end eline cry like cry wont even bother wantpitypui lol shsh luckily learnt control temper else straight shout face got type  sister library head den think foundation got power tsk dont understand people like make library notfun boring eden jonathan oso mean like strict even teacher around would want come library every friday let junior shelf bks den finish chit chat must walk around chit chat lol caot stand one corner person charge click centre make sure one turning volume loud playing game anything let play dun care mean library computer click centre schl work friendster waste dont understand dont aow play games expect people givefacemust also spare thought enjoying although broke rule harming disturbing anyone man may selfishthink least make lile sense',\n",
              " 'urink international php magazine cuingedge technology web profeional urink vancouver php user group vancouver php aociation hold monthly mting second thursday every month mting usuay start idea show minute early venue generously donated activestate held oice downtown vancouver granvie strt month new talk given topic ranging xdebug derick rethans rasmus lerdorf presenting intro php tips trick performance mting generay cover technical topic relating php development deployment use profeional alications charge mting welcome anyone interested php contribute open discuion top industry profeional within php counity oasionay hold social gathering provide great avenue get network profeional around vancouver traditionay guest speaker',\n",
              " 'yesterday scortching hot ride nice relaxing shower gave doy extra special treat loved much thought would share brainer special treat recipe dont know exact measurements you eyeba cup instant oatmeal cup wheat germ cup dark molaes tbsp warm water doy reay enjoyed mixture started eating bowl mixed even got chance dump',\n",
              " 'jamie tarabay aociated pre writer baghdad iraq philiine worked friday demand kidnaer holding filipino truck driver aouncing withdrawing head humanitarian miion iraq news web sites trps new meage militant holding angelo dela cruz philiine foreign secretary delia albert said soldier leaving home friday reducing trp strength puout came despite criticism united state australia said philiine sending wrong signal teorists aljazra broadcast video thursday showing dela cruz thanking philiine decision longer wearing bright orange garment wore previous video aarent sign longer threat death philiine plaed trp aug said wednesday would withdraw early kidnaing sti say set bad standard future teorists andrew ',\n",
              " 'new internet explorer security path microsoft patch remove security eor navigation method crodomain vulnerability malformed bmp file buer oveun vulnerability malformed gif file double vulnerability eor able hacker run dangerus code client systems proposeu beer download microsoft patch informationvisit urink download patch',\n",
              " 'went ymca yesterday worked two hours love working energy would stay gym day time afterwards exercise like medicine haine swear got home mom went tim hortons got blt bagel combo also tried celebration cakes ran whole bunch erin also showed get bishop grandin cant believe schl start friday hay signed suer schl beer bored mind also alied safeway southland cause havent got caback place alied resume awesome mean nothing wrong mean honour student like thousand thing within counity schl sti back maybe hour request work mean cant exactly work every hour life like loser dont life mean sti focus suer schl main priority come first woke morning felt calming left window open last night woke could hear rain pouring hiing window side house peaceful shower drive mom rocky view basicay everything dishes cleaning fding cat buies list also drive everywhere luckily car drive also drive airport pick dad coming home vancouver tomoow going livegoing strange used strange enough dad came back every second wkend like going permenantly gue get used first going reay strange last night also went  notebk movie also found reay scholaship going aly going say name though cause friend would competing like five category chose enter chsing performing art category write eay stu alication form also include four aitional page evidence prf like example best idea bad though couldnt video tape play though cause video cds etc aowed going real competition anyways going write experience play example stu including program guide two pic two piece paper show going ask mrleer reference except going make mine stand going use tiue paper kind art thing taught grade instead aaching pic blank page going make like background kind thing since mid suer nights dream going make like start part background going like theme envelope going send going lile simple art design like creative original dont think everyone something like hope make stand noticeable believe shot going best get',\n",
              " 'nice one john bloer aears crap recently several time havent able get imagine everyone else problems get back going ditch bloer setup server job new found linux skis hrah day left lile antipodean excursion lking forward coming home sydney tokyo local warming suer last day typical weather tonight going dier urink amp centre point tower nice ive taken picture nokia  get uploaded back last winter one forget early day habit mting chamber fireplace drink friday night right work memory give warm lile glow cockle heart imagininglot crowded around fireplace drinkies nobody geing staed like organise time winter even set baity random irish slaers grand',\n",
              " 'last hour store closed december may get transfer key word may quit bouncing paychecks refuse get sucked one worked yesterday much kiing morning long get paid want take work hear  later energy',\n",
              " 'vince coworker mentioned ruing group started couple ago run behind oice every day got coaxed people know real know ruer almost hate ruing make lung like theyre explode yes big baby closest thing got crazy cardio workout hiking urink uer yosemite girls francey one close girl friends paced taught listen heartbeat wouldnt freak today ruing two miles kept listening coworkers direction remembered everything francey told worked got run right though body hurt sure tomoow morning  crying hopefuy wont fling way wks',\n",
              " ' waup evrybody jus real bored fixin slp cause didnt get slp last night like coke even tired anyways aint dun yet check fair swt shiznet anyways duo else say jus check fair speciay ring fire cause thats fav ride rode timeran outa money anyways ave fun julie evryone church saidlkin cute fair jus thoughtmight waa know',\n",
              " ' going write eternay yet coz ive bit much writing last chance finished writing original starting work secret snowfa complete around october november reay start work eternay dont start write fourleaved clover instead highly doubt quite sure secret snowfa  definately write eternay dont know talking gue teing later',\n",
              " 'know thursday house wreck fridge cupboard empty almost want stay couch watch grace almost rough glad almost constant problem aergy along various problem large sma left completely wiped want crawl bed wake saturday morning skiing right friday sound like great idea think crawl bed right course wont able slp friday away work think night turning early peace',\n",
              " 'brother make perfomance first malaysian idol finals hope make great perfomance course vote family want celebrate birthday day concert said soy brother important dont time think wont celebrate birthday family year hey sti got friend around wonder present friday going relax watch brother sing song becoming first malaysian idol love bro',\n",
              " 'hahahahahaha things going real fine duo chain wiv writereay cant xplain spark reay sucky hay friday chain bout futurehate life luv alex duo got hate everything bout everything dis dusnt exactly make sense dus freaking luv alex juz cant make mind neways got cay peace',\n",
              " 'nice  episcopalian roedup smoked presbyterian maer god gays',\n",
              " ' get important stu want recap post make yesterday day nothing study finals todayhistory final sucked maively physic final wasnt bad tomoow religion final english final didnt study boring crap way time reay maers champion league final twas great final frances monaco portugals porto two team defyed heavyweight european ftba thats soer dont speak european monaco lucky dog competition beat germanys bayern munich aregate away goal shocked world stuing come behind win spains supergiant real madrid aregate away goal eased past chelsea aregate lead final porto reached final bei marthy sunk englands supergiant manchester united last minute goal porto series aregate porto got past frances olympique lyoais aregate porto would play spains deportivo coruna minute manage one goal penalty spot nded advanced final aregate todays final monaco ended playing dreadful match gave cup porto thr goal nil want read review urink porto monaco coach didier deschamps console players someone lose coach jose mourinho leaf porto european champions uefa champion league wiers porto joy victory agony defeat',\n",
              " 'last day grand bahama thought would write quick blog entry blast dont want leave beautiful island parasailing jetskng banana boating waterslides swiing dolphins sunbathing drinking mucho pina coladas miami vice dont even know whats mting lot people  post photo get back tomoow night hope nyc sarah aka bahama mama',\n",
              " 'yea woke today cant say theres anything beer waking lking clock realizing slept like freaking hours heh although part like wow idiot threw away half day smack hey cause big plan today anyway meg walsh maxs exgf party cause empty house tomoro parent went away kid bringing beverages vodka coconut rum bacardi razcranbey juice proy wont drinking sing cant slp since work morningi drive meh might entertaining nonethele max proy stop lil bit case sms like everybody waa hang going away coming  theres certain people almost never get talk sigh time scrounge lates brendan michael',\n",
              " ' schl wah jeas lil end year party prty yea whole cockroach thing weird tho much screamin haha went home played soldat game amazingly aictive guys downloaded last samurai music thats movie  say thats movie goa watch tonite wli blain nothingne maybe like arjun fcking hate life goa smoke angel death frolic around head dreams want get wasted tonite geing high brick crucified cry pain like bld arjun  note none reaydont knwohaha newy blah done',\n",
              " 'pimpnosis word refers dark powerful  player aitude way life maer spch intent glorify judge walk red light smoky tavern secretive world take snapshots listen hushed whispers simply observe two year ago awardwiing photographer tracy funches awardwiing journalist rob maio set capture pimp lifestyle pomp posture bring light never done funche powerful image depict raw intimate truth behind glamour maios text brings character voice life unsentimental underground world pimps tas clothes icy stare hardened hustler uncensored guide netherworld composite character caed miiii twilight born many interview conducted reaife players twilight take aae tour pimp life begiings women prs enemies finay take players underground gathering game laid true player recognized notion pimp dispeed others reinforced one thing remain certain you never pimp way  pimpnosis com urink',\n",
              " 'hay birthdays hay birthday daughter keisha friend brothe christ amir blow candles',\n",
              " 'plaing talking either net phone today months didnt send email giving time would available probably didnt fucking know hes family thing today easter even london didnt give number phone didnt know going home doesnt maer cant log onto aim anyway hes fucking home fucking emailed hes sti grandparent house hes checking email grandparent house wanted chat today fucking sucks thingfucked hopele',\n",
              " 'interupt regular blog entry bring wheaton something draw scrn thank natechicken diquzh',\n",
              " 'got reay ant kiing stu ant take back nest get rid one remember parent used use varying sue sha  sti reay muy today sure temperature weve bit rain storm forecast tomoow everyone cro finger long wkend',\n",
              " 'got back grocery store walking cart back lile cart coal  lady park metal cart get choice store mile handicaed parking place perhaps away thats aoying enough block handicap spot going move puing cart mean time start hit side suburban couldnt anything stop unle left cart sprinted acro parking lot hopefuy power forgive avoiding self sacrifice anyhow get put cart away move oending cart lile scratchdent cant previous runin owner surburban came leaving lady couldnt cro two parking space put cart away sti left guilty didnt surburban guy haened people lazy met someone earlier morning job aliedinterviewed received pseuder couldnt give answer yet due dream job didnt use words hopefuy dream job though didnt hurt chance organization gue  find come another random note one dog geing culy one always culy indiana indy started become aectionate usuay find place curl slp sms side cute',\n",
              " 'note yes blog hoendously bad netscape mozia mostly dont use browsers also mostly yes two mostlies hoendously bad coding heh xhtml wizard soy get want legibility secondly anime north  insanely fundidnt show didnt met ton people hung day fight  obseive  revolution game holy shit people twinkly toes even bought manga first one series caed wish crazy though authentic backwards like front would back normal bks yes confusing lol anyway got cheaper said bad condition something hehehe started hanging together bought gun smith cat manga like love thing japanese everything got cardcaptor movie lucky got one great deal though yeah buying bunch stu two guy didnt reay talk caedwent hotel saw anime idol lol anime movies video game competitions went back dealers went art exhibition reay stu reay bad stu convinced someone riing think hes paranoid oveeacting lunch subs gried chicken sub yuy dier swi chalet stupid coming eat whole crew  fanatic like actuay think one bought like waet end shes got fan club man btw reay nice makeup absolutely pouring miserable end left around also convinced cephone paranoid get split everyone else unable find anyone didnt phone sigh everyone right cephone useful blargh though insanely fun wish brought camera backpack thank much guy preparing sarcasm lol ton people costumes masquerade later people crazynice fuy swt awesome yes  sure august one actuay mad finished wish manga waa find haens madam hisui kokuyoyes sisters bday sarcasm dont like birthdays like birthday cake',\n",
              " 'sport siing motionle able move even flinch people try make move though caot inflict actual pain including pushing obscure touching use phobic instrument antagonize everything else game creative make participant move think would hardest game racing time competing others  last longest sure game reay intense helpful knowing limits reay cost prohibiting anyone play someone would actuay play game would lot let others haze torment  doe boring suck per say except trying stay sti diicult would back high schl drama elective act mime forth anyways chose like manikin act cla feow student positioned body std like manikin started draw put lipstick stu consisted drink move whole time unle repositioned arm even made sit chair sat chair hardly even blinked move stomach breathed one girl cla decided sit lap try make move sat hair face forth sat nothing going head blankne like body experience focused point every lile suounding impulse distraction disaeared nothingne suounding like trance know like play game extent experience base game upon ask gut play sport place body hand another lile control haens unle finay quite let win person competing win far',\n",
              " 'eebel wins  usuay start giving prizes one picked grawr',\n",
              " ' talking someone work oreiy yesterday reay didnt anything back reasoning disliking man least onair persona thanks someone michaelmre com grenade launch urink michaelmre comwamindex phpid highlights rather lowlights however verbay aault son september victim teing shut cuing mic nice next oreiy straight lie air french boyco urink hpmediamaers orgitems please read actual article much info diect structured show oreiys integrity questionable quote man caot intervene muslim world ever bomb living daylight scary sad yeah answer blow everyone whole muslim world ludicrous disgusting dare oreiy respect iraqi people think theyre prehistoric group show much oreiy respect people culture around world aclu theyre dangerous organization united state america right theres far theres nobody even close theyre like second next qaeda aclu valuable organization society stand people right spch important especiay today cuent climate people would rather traitor like simply stating opinion contrary bush administration oreiy like liken teorist organization yuck judges oveuling people fascist organization like aclu imposing secular aarently oreiy doe suort separation church state haen much suort are iue activist judge oveuing people since uered many bush suorters iue deserves post near future moyers pbs hes hide behind label objectivity hes objective mao zedong right mean hes farleft bombthrower actuay run foundation fund leftwing organizations mean guys joke get news busine last quote disturbing watch moyers regularly find refreshing voice left leaning stance things work hard sms opinion make story fair poible smack  purist leah lking direction please know may fit strict definition irony oreiy end quote suests moyers step journalist identifies political ailiation ridiculous yeah oreiy definitely fair balanced isnt pot caing kele black disgusting suorted reasoning disliking oreiy least onair persona would like hear story oreiy fox news recoend new movie urink outfoxed rupert murdochs war journalism think may mentioned anyways movie recoendation stay tuned',\n",
              " 'heo readers today  exciting psh ckin pia day row pia pathetic also think prey pathetic listening britney spear like time ive listened song today love wierde wayz hay birthday taylor  mcgiis hay early birthday omg going sarahs megan goa watch retarded musical grader forced hahaha goa great gue thats luv much',\n",
              " 'serious note seriously urink love campbe brown',\n",
              " ' caadoa mtv comnewsarticlescaadoa jhtmlheadlinestrue ive instructed sit lap photo far ive learned gave material poceions lived strts became cab driver lot coon hes got triplet ive got twins',\n",
              " 'okay sphaera graar exploded ambiguous statements sti making progre started actual interpreter today original plan writing delphi stoed realized much work put simple construct readily available say net workinganalyzing source simple visual basic interpreter think starting understand gold engine works luck working implementation next unle cant fix graar problems heh future plan sphaera include complex construct lps switches etc regular expreions something wanted include language lets  thing',\n",
              " 'ahem exactly song itunes playlist party time',\n",
              " ' semicircuit boy aeories gum sunglaes danceflr toys etc valuable danceflr aeory ever bought waet chain sure kicky edgy time also didnt woy waet maer high got lost dancinrinding waet wasnt going anywhere used break night twilopaadiumroxylimelight using urink waet rest time sure meant lile changeover cash virgo love moved new orleans louis waet long since died buried almost embaaed say lile ceremony somewhere central park switched waet chain time smed nola thang served similar purpose new orleans one big mey danceflr manager leather bar fit although confusing boy top liked waet chain right side back new york used damn chain almost everything probably time upgrade chain even waet get couple options sti part new personal style corporateworld today wench made lile side coent chain corporate indd meant probably rethink dont intend goa  tomoow tomoows casual day casual day holiday always wear thing black pleather pants cheap black knit top machinmbroidered flower around bodice kids brown earth shoes maybe  wear two chain tomoow spd plow',\n",
              " 'urink chugworth academy chugworth academy second fuiest webcomic world comic must world chse',\n",
              " 'organized cds last night fun know like alphabetize doe maer let put alphabetical order theres always tricky one cause stop think solr title name dave mahew band dmb inc know would isnt thats think present time maybe later laundry aunts house ordinarily fuy theyve beed ruing clean skiies got email friend mention oingo boingo dont know mentioned post email reay fuy last night organizing cds threw lad player help work listening song reminds camazotz get enough nutrition eating protein biscits recoended system salt lake city also reminds camazotz',\n",
              " 'blog posted due fact lile development haened recently regarding last day schl uniform swap plan switch uniform certain individual must somehow organize something also consider last day schl think everyone participates sue must plan pray dropthedrecodeday last day schl',\n",
              " 'final today sigh ready bohons exam know screwed',\n",
              " 'waiting top step century barm capitol spoed jamie cuum entered dont know dozen people aroundsaw cared since walking right past said jamie simply replied couple hour sat ate dier first jamie cuum stage jean black tshirt hair mued stylish woke doze knowing first glance uncontainable kinetic frenzy lived tiny fiveandahalf frame many spectacular amusing moment show hard naow highlights  try amid thunderous alause songs hoed stage cuing hand around mouth wandered tables singing opening line get kick wandered table right bar taking pause music order kept singing brought back stage story behind next year baby went lile something like hed known girl thr year reay fancied hed never gut ask date aed goal new years resolutions thought song wrote invited girl concert singing song told flaered course agrd date went italian place soho served wine bole wine hour realize boring girl got pied never went song remains lasting tribute boy doesnt play piano play piano played taking shoe course used drum plucked strings climbed top danced around even crawled achieve every poible sound jamie sebastian drums geo put truly one best show ive  time darkhaired slpyeyed pianoplaying guitarplaying jacrning british elijahwdresembling lightning high list musthaves',\n",
              " 'theres something special number ten gue base ten number system whole complete make top ten list youve reay said say course urink david leerman popularized format way back could always stay late enough watch show folk make list kind topics especiay turn end year instance theres top ten urink conspiracy theory top ten urink word ten urink best movie even list top ten urink earthquake theme top ten list knew coming swiped completely emily cola fuy delightful ocd caed urink checking list things learned husband mine top thing ive learned husband dont eat vegetable stay alive cant diolve sugar iced tea diolve warm water first dog love youre strict park stick shift gear maied men dont christmas shoing get pay sometimes beer talk flings pixy band people thinking leftylsey rightytighty saw urink big fish today hay surprise think entertaining tim burton movie ive since btlejuice',\n",
              " 'aye',\n",
              " 'might asking awake posting blog also might wondering time write fake movie sti act made sense since everyone curious disclose asking question doe anyone reay give shit youre laughin smilin victory mine',\n",
              " 'definitely didnt get home amys last night thats reay late amy  freaking nice letinvade house long soy got much parent thank get chance best time show wkend bleed know wonderful talented people know say often may eventuay lose meaning though hope doesnt love guys kacy excited  wds dont even know much thank coming show',\n",
              " 'urink austin caught firefly urink',\n",
              " 'miesota dont reay care doesnt mean much anything extra buck daily pick nba game big one miesota want show something win los angeles would love say win huge timberwolves wasnt win game however would ginormous damn right said miesota played tonight fact lakers played tonight amazing sprewe played game meant real close nothing lakers however game mean whole lot lakers find monday wolf reay sti alive min lal game wasnt nearly close score would second half belonged wolves',\n",
              " 'watch news saturday cause would tom blue explaining tom blue fashion somebody drowned lost lake maybe somebody could find clip news site send would grand',\n",
              " '',\n",
              " 'show stupid gay people hate stupid iny  like sex sux always godlk sexy get mad want brake sumthing tehate gay people',\n",
              " ' done coege clue everyone teing get  hunting isnt much syracuse somewhere got notion stay bit get back church friends etc syracuse job dwindling bank aount gue camping bit soy avid fan almost never write two',\n",
              " 'life bitch haens bitches nice day ago sad uber hay life great sometimes afternn great went  notebk briany first time second reaction great would gasp put hand mouth beg ended siing drama painful kinda teared towards end didnt bawl like first time kiing first time saw stumbling theatre gasping air cry point face bldrushed amazing movie  todays weather beautiful cloud perched high blue sky grn raised arm praise heavens bird flying beautiful frhold okay walked nordstrom cafe blue chse pear garden salad yumalicious like whoa brit talked caught life goiped forensics freaks  sanicola turn dans sister mother found wiae ugh got fight ignorant fucking threw away wicked soundtrack wicked fucking wian ignorance yeilds hate honestly think neopagan religion satanic cults fuck people make angry  first hand experience least dan dianas house right around corner ever help grandparent went date  viage today first time movie since exorcist came believe  moment  okay  hope didnt suck face public would  moment honestly love grandparents eentric positively awesome caed morning inform psychic spanish chael say key going win psychic said gore would win whoever white house would die  yea thing reay haened reay belief take psycho womans  amen like weirdest thing done since planted plastic flower garden stayed night make sure one stole even joking tooow heading cousin pays house maied monstrous kids max omg forgot name acrazed kids angel pay eyes love pay death awesome personality dont know going deal kids example crazed max tortured family dog one time opening closing sliding tail amber dog tail amputated kid going murder someone spi ale juice dont know scare hopefuy though love pay death duo plan tonight proy though camp banquet roing friends reay wanted  garden state way monmouth dont anyone  yea hope enjoy wkend today learned life fuy way treating bitch times drainglowest lows times chocolatey swt like perfect song perfect star perfect melody friend laura say people souls hope someday discover mine build upon maybe share people around world lile smile  life',\n",
              " 'mey christmas hay new year quick meage friend wish hay christmas great new year',\n",
              " 'urink mike wendland suvs wifi system let driver leave home baby want grand marquis wifid auto solution dream garage would point big external antea perhaps repeator catd main router mounted course ild car sync file server last outdr wifi could also laptop bmbox chiin wherever want',\n",
              " 'day worse others aitude right mine sucks sigh',\n",
              " 'vegard great pics sure  enjoy caption norwegian dictionary aives doe  mean think learn one  understand norwegian doe mean chinese city truly impreive though arent skyscraper like none live birthplace skyscraper people take american often found nice chinese girl sele cardcaying chopsticktoting babies pleased  barcas sue saw kid barca jersey day started huing song gent del barca you ask owenkluivert deal sure hes found website track daily activity phone conversation chelseas foes premiership otherwise glad input blog vegard blog get like bit thrsome times think thrsome dont think adam chrs tim',\n",
              " 'dating relationships whatever two people decide spend much time together lead exceive eating rich viewing many movies suen tired boy drinking dancing time shocking pink finay overtaken  album hear without wanting vomit mentioned real post resume wednesday detail much say',\n",
              " 'fun thing submied celina paison ride mechanical horse coin fished reflecting pond try pant backwards gap ask salesperson make big dial number demonstration phone radio shack snze sample tray hickory farm helpfuy voluntr consume unwanted contents boom escalator scream shoelaces ask sale persoel music store whether inflated price peso rubles teach pet store paot new vocabulary make unsalable stomp ketchup packet burger king save slurp snacks people theyre astronaut foow patrondaltons around reading aloud dianetics ask cop story world war ask salesman particular labeled black white insist color set disagrs give strange say mean reay cant  construct new porch deck department sears wear pancake makeup new clothes pose fashion duy clothes departments oasionay screaming without warning test mare pajamas ask tobaanist hovercraft youre patient stare intently surveiance camera hour rocking  sprint escalator stare static display chaenge shoer whether  hien picture ask aliance persoel play spanish make unusual request piercing pagoda ask salesperson hardware department particular saw cut bone pet store ask bulk discount gerbils whether theres much meat hula dance demonstration air conditioner ask redtinted lens optometrist sneak saleswoman perfume counter spray bole eau swane ruage jey bean bin candy store insisting lost contact lens ask saleswoman whether particular shade panty match color beard changing rms aounce singsong voice  london  france leave plastic string coecting new pair shoes wander around taking twoinch steps play tuba change ask hamond organ dealer play jesus built hotrod record belch electronic sampling keyboards perform gastric version jingle admiring onlkers ask pharmacist drugstore leading cold remedy give reay wicked ask persoel pier import whether giant crap made straw toast plastic gag hot dog front fake fireplace display coect stack paint brochure hand religious tracts ask information desk stroer someone push around change every electronics department station showing saved chant dialogue robotic voice scream anyone try switch chael one sets hang waterbed section furniture department wearing navy uniform oasionay run around circle yeing scratch one flaop hand stack pant back changing aendant scornfuy aounce none leakprf play demo mode video game arcade make lot explosion noises stand transfixed front mior boing head pay purchase twodoar provoke argument whether theyre real christmas ask santa sit lap answer unaended service phone ring department store say dominos try flea coar pet store oasionay pausing scratch stylist ask hair back permed show people drivers license demand know whether theyve man buy jawbreaker candy store return fiftn minute later fish mouth demand know hasnt turned blue yet',\n",
              " 'urink article sitecame one smed noticed maybe people thought lid national security reasons',\n",
              " 'boring day cant wait wkend going change finay hand might suck badly  unbeatable desire say something profound andor philosophical wont bother goa home',\n",
              " 'heo everyone newest aition eclectics established going expound evil caeine beverage quite deceiveing presentation cite one example haened recently went pick bole pepsi thinking hey watch anime tonight binge drink pepsi cola lile know color dierence bole bought would scaed anime fuel hit like tornado treachery ala night make entire coection instead sele watching bebop consequence two day straight body warm loving darkne unconciousne gried tortured nacho laden form life kman',\n",
              " 'third fourth post stoned ive smoked bout bowl lile bit may smoke sixth hopefuy seventh bowl like geing  like puy cat like got skiy cat got skiy extra yard fur hes slumped shoulder sinking since fur unros self enough shithead back high love fun smoke pot want  give pot dont could find bitch joking would never get anyone pot  buy pot put swt fucking bowl thats like got tube inside tube bowl aached outside doesnt get hot high right yeir',\n",
              " 'recently sharing vision dream miional counity western suberbs metrodetroit friends one friend particular sent email suerizes god placed heart jim gue aropriate focusgroup term proceing regard vision new church work described last night perhaps reflection far come past year simply dismi strategy backsliding aociated type endeavor past droing church leaving time ministry geing real job would indicate step wrong direction servant god make compeing argument intrigued like lile except maybe propertystate wonder may articulate argument words like repeating back technique recoend counicating wifes name get first redefining terms church organizational structure payro sta property yeow page distinctive mting time place system corporate ritual traditions pure new testament description believer geing together informay others homes cois preludes board mtings nursery schedules saath days sunday drees polyester suits easter cantatas everyone know prey much everyone else visitor cards membership claes pastors chats time ministry literay time eight hour day five day one morning wkend real  real person figure folk impulsively stop swearing around take hat spiritual gift qualification slot organizational chart individual expreion compaion love empathy used personay arise leader nominated aroved elected simply rise are oasion come within maturity individual training done clarm seminar wkend retreat shoing yard work game washing car kiing time power outage environment image management since everyone know anyway safe place away world minute relief kid behave one way schl another church since prs rather raising bar propose lay ground would easy say simply knjerk reaction somewhat frustrating ministry dad sms unsatisfying experience pastor syndie chafed parent church ideas church california neither one get measure recognition  however know enough know relish leon experienced learning times  neceary profitable part preparation bier plan string disasters also realize pure foy thing expecting dierent results witneed god moving many people dierent directions included caot begin fathom complexity master plan acknowledge god traditional reserve right result oriented long servant wiing obedience oriented church known becoming increasing ielevant culture large even insist god truly relevant pitching last couple mieium church going easy first asked help church plant interested honestly say interesting church ever conceived truly gods easy yoke design marvel complicated made work',\n",
              " 'ive dorkin enjoyincubus com sending question guy incunerd want drum kit real bad saw kier set price right dude paed kicka showcase one furniture could one instead bet wishin hadnt paed first option peace drum kit volcom surfboard trip goamnit pied one best showcase theyve ever stupid christian group around lovin people yeah idea thought wouldve goen beer showcase trip drumkit surfboards muets rockin jeo forever',\n",
              " ' heo kios first post joined site expre thingkinda cant hopefuy start use sitel start read help lil tar readin lol ler',\n",
              " 'alright guys weve many times like example large rather staeringly enormous woman man suose wale library find bks perhaps resting time way sweating panting disgustingly finay make back checkout desk slam exclaiming goy tired whew exhausted statement cause exhaustion might ask simply walking acro sma branch library world obesity coming',\n",
              " 'nakakainis hindi napanuod yung game andun pala aan akala naman kasi hindi tot sayang tulog ako nung mga panahon yon',\n",
              " 'bilbo bains urink lord rings ringbearer brought urink quizia',\n",
              " 'awy darkening sky jewel yay like way voice sound almost entirely dierent songs haha maxines buing get buy stu reason leona want boowed heaveyh love randomne dont wish friday would come sner hahaha great wound thingy leg healing ried open cuing leg cupboard joy bred hope youre okay work wont going training tomoow unle arent gue   friday love baby',\n",
              " ' died beautiful isnt',\n",
              " 'big hint cmon people write guestbk perfrom service expect return least coent thingies waa hear people swear goa start spaing chat get traic going friend family hay death place',\n",
              " 'karbal urink iraq',\n",
              " 'true love actuay around heh poyo pun poyo start grateful life even though lot shiy thing smed endle days sti people whod care thank everyone wish understanding mean world god know much youve helped project presentation last friday first half came qna seion second marker bombarded load question made lked stupid front everyone felt eort went drain beer standing present nothing blank scrn bad went damn profeor youve spoilt london aived pancras station around ish went straight  kak yam bked nites nice later went dier nahar whoda way bit hyper hehe least mind usele presentation earlier suosed take pondanwatching caed werent heh maybe next time frustration later joined juri gang nandos kamalyla pregnancy glow face  swt ana banana also brother khalid two closest brotherandsister ive ever known throughout life  swt next day petrona briefing interview held maio hotel juri nervous way interview right briefing wished could done something make beer nervous luckily case study blindpicked werent bad juri got asylum topic crime morality least could goreng stu oosed busine related topics rite alhamduliah big bos came sort questioned juri maiage thats new ive always thought face day exhausting emotional dont waa write stu  regret later simply put although unhay want build maintain healthy relationship respect wish could putblacklist put misery back sheield couldnt get head clear prepare project report sms hopele friday suose fun relaxing presentation interviews reay stupid electrical enginring reay right choice god month graduate come mind dont know got emotional cry easily alone juri thought could hormone ive taking maybe right something get hoor productive caed mama told shiy stu thats haening including pcos never talked way today ive away home time since never shared anything private intimate know stu youd share friend husband maybe parents today dierent became new best friend consoled gave hope made day write report thanks mama youre living prf love actuay answer misery love always forever',\n",
              " ' amused  yah hotmail scramble revise email service didnt quite pathetic comparison yah ued storage limit aount megabyte july hotmail raise limit meg paid aount get even bier storage upgrades',\n",
              " 'urink war oil',\n",
              " ' went boarding mistake prey taken slow careful started going prey wham must beath cant wze gasp  minute later got landed prey hard left elbow left side rib cage nocked wind either cracked bruised rib couple ribs hope beer saturday home',\n",
              " 'meage board working know working anyone else problem',\n",
              " 'wonkee medium ana marie cox aeared urink nprs medium hit one rafters bob garfield think put wonkee map link urink jeica cutlers weblog would please episode urink discovered urink haened next ana marie cox someone sent link blog caed urink washingtoniee going concern month  thr wks brightly wrien diary sex life graphic somewhat risky sex life bob garfield oasionay remunerative ana marie cox yes oasionay haened always careful say  people paid  giving money maybe coincidence laughter',\n",
              " 'thing hay giine friend honey soy lae healing dying plant coent involvement said dying lazy day suer thunderstorm boy make laugh swn every day',\n",
              " 'urink time circuit section notice bloing yesterday registration required link article focus somewhat obseive nature bloers siting several example bloer neglecting work spending upwards hour day bloing often article says bloer writing audience one article failed discus obseive nature tracking blog must checked hit count time already today dont know every time count one hit slightest bit satisfaction thats probably adversely hit dont increase eminently disaointed somehow failing writer generating enough interest wheres article probably psychiatry journal',\n",
              " 'going home stoed corner store chocolate milk hubigs ale pie made locay fresh went back forth head eat said pie bust wraer open wait til get home put microwave noticed new coke display fied case new lowcarb coke dude going drink coke lot want sugar carbs diet coke newcrap fake totay bastardizes name cocacola stop trying buy lowcarb phenomenon coke isnt bad enough dairy price high everyone want eat  burger please drink real coke met orlando jones tonight huh sometimes job perks sti think mting plaer clest though thought another reason vote nader year would spark interesting political debate within family mom usuay political talk boring year whenever want discus something concerning presidential election say like bush voting thats grandma voting grandpa diehard republican would rather die vote democrat brothers fun agrs everything say person could debate would stepdad conversation topic conflicting view eect atomic bomb hiroshima mom wont let sometimes even agr get mad using wordage quite amusing outsider quite aoying one view time quite draining always start arguing  give youre joking right usuay foowed mom finding reason walk damn living home everyone voting nader  oortunity lay reason they ask hoified thus instituting sma nice debate plaing going bed since neighbor started lawnmower like  oupy scratch going play game pogo instead ciao',\n",
              " 'dont eat devour everyone every hour thats care propeed madne beauty sadne  never change reaange ive finished ive started',\n",
              " 'okay title description oiciay declaring may rdth michaels birthday comstock thought sma didnt get got thr days mock love life fault didnt lock garage',\n",
              " 'alright spot would use testorie last night yea could reeber lal  try yesterday let pretend didnt right already cuz shit alright let start begiing sat sucked whwere one bay path like people bartle dont like mean wait dont like one bartle anyways yea like made plan aija hang goa get hold oyd anyways get house decide goa get poland spring water aid tnies red cuz none house trent tried cain friend didnt get hold htem decided angelas party yea wasnt sent trent pick like poland spring  wait dont trust trent lest find left shiy partyato find went donalds saw andrew like damn lol  lking pimp lol anyways decide wakl back party saw angela shes like man trent  met got poland spring went bowling aey get  trent could get waited aija trent yea didnt get decided get stu trent walked aija home went find walked almost way dudley finay got stoped suy side shit like yea guy bought stu trent lol guy alright anyways get back house make kind stu end stu poland spring tho yea bob walked started laughingwa liek fuck cuz fuie weird trent bob hed like joinsaid finished oing mom came home like sme like burning ruer lol  fuie like duno tried get aijas computer couldnt type paword eventyuay let cuz theni kicked plug something bping confused like wehre sound coming aijas like replug yea fuie shit duo haened like went trent helped mix shit think sti brought aijas adn started downing aed grn tnies witht red man gue like fucking amy people came duno played basket like mike brian left decided hit wizard lol like right behind aijas house parking lot dad rand front jumped fucking hurt ankle hte next thing reeber walking spilt shit ajias thong half way got feild aija ruing around feild lol like faing thats think got taht bruise whatever like ended aijs cuz thoght cop coming like layed ground like sprinted house lol gue talking chad told fuck zach doar point knocked table shit laying body likei stuck yea paed trent rim woke duo ried pcis thats reebre woke couldnt walk cuz ankle fucking kied like walked cuz locked duo fucked hole night fuie tho yea soy havent updated whatever comp broken wkend goa chiin wit chad zach fnl yea duno dont reebr alot yea enought like today chemistry adn forgot going outside wore skirt cuz bakin outside went gra wiht tick paranoid itchy cuz tick  yea duo day shit prey woied goa thats wkend shit omg love',\n",
              " 'urink tthpaste dier scarily aurate yet posted heather   postcount urink postcounb',\n",
              " 'tip ive learned want share couple aiversary monthsaries always celebrate aiversaries whether first year together triumph areciation let know much love areciate may know already hearing always beer buer guy like reminded strong points best friend make sure hes best friend think geing engaged strong bond friendship help tough times best friends preferably even boyfriendgirlfriend take time know relationship one crushes dreams problems cry youre going personal crisis you surprised advice bond make point spend time together often leave enough doesnt smothered spend time alone individual involved separately project carr end day share experiences changing dont may ahole jerk always jerk you never change reay wait right guy dont get maied thinknig change unfair get involved someone youre thinking overhaul compliment always compliment prevent fling resentment thinking one taken granted date thing enjoy together watching movies playing badminton people watching reading thing together thing enjoy wonderful relationship take note doesnt mean everything together shared pleasure one thing couple forget make time continue date romance sme maintain physical araction dierence celebrate dierence personality upbringing religion mental ability earning capacity etc never force ideology throat vice versa retain individuality give trying turn partner aept dierence learn areciate  aim resolve iue dont endlely trying outdo longer extend fight chance you say something hurtful dont reay mean world end bed mad forget mom parish priest says trying resolve big fight late night impoible especiay schl work next morning fact sometimes uncomfortable night madne  thing clearly mad last night sti guy laugh joke think youre hot despite pey fag bed mad wake fling strongly want make respect trust even aout brawl careful cro line partner take breath suck apologize never get physical fight hear dont dig old iues careful say fight caot take back hurtful insulting words chse bales make sure fight worth something change relationship result fight dont afraid talk discu argue flaw know perfect guy doe exist thank god found someone prey damn close sner realize easier relationship know thing love thing drive crazy maer youre always something like hes human flaw foibles lighten enjoy life try shrug pey aoyances long run life dont maer bit  together youre going stuck others company rest lives least enjoy time together mean kping fun spontaneity early days driving midnight snack craving hits talking morning even schl day ruing impromptu trips monday morning eand breakfast days whatever strike fancy nothing fun faster much plaing much scheduling ugh aow get siy shower together open wear ugly undies baie break physicay break emotionay enjoy siy able make laugh  lighter crazier absurd side life best way get dierence personalities adjustment lifetyles oosing viewpoint exist relationships plus theres aed bonus kping haier perspective things goal make sure similar goal team would diicult bond intact view complete oosites grudge quit tabulating grudges steam somethings piing discus trash dnot recycle kping  traveing dierent place together new seing wonders kiing make time real least day wherever take talking perfunctory pecks talking taking breath kiing least day bedtime like schl work escalates flow dont kiing intimate romantic relationshipstrengthening special way know learn others interest cars fashion art gadgets bks music sports etc truly conversation flowing honesty dont lie hide things problem get bier  far intimate identity dont lose personality thats love dont lose identity work study hang friends separate interest activity individuality able contribute relationship intention wish couples begin dislike wish worst rather stupid sue vice versa iue speak awkward stu like money sex earlier beer listen talk problems dont eager solve make point  hear especiay arguments also saying hurtful words geing point acro comprehending others flings exercise together doesnt thr time anything like maybe could gym date instead dier date joing around sanlo park sex whatever physical least tune body easier tune others bodies mind aearance stay fit healthy love boil love chemistry respect relationship cant reay plaed strategized failsafe solution advice mothering never mother partner mother mindreading maer long youve together golden rule think read mind way read remeber thats love make hay make sad enjoy consider flings doesnt mean forget right aentive nds way learns sensitive nds physicay course emotionay priority one say important prioritize friends extended family work privacy personal space aow private moment two nded respect create strong sense respect way always treat never change day one right reason together picture growing old hes one cant bear apart want grow old together children best want make short long term goal togetherm want fulfi others dream make hay selfestm work self estm youre partner improves relationship bring whole person relationship give emotional nds sex sexuay adventurous make comfortable sharing sexual fantasy frustrations  sex physical reay couple interested make eort time space give space even couple smed joined hip theit time date friend give date friend cant trust dont together soy able say soy youre wrong surprise maer long youve known open surprises bad talk counicate dialogue eential ingredient sueful long relationships  counication almost science entire seminar devoted topic dialogue let tackle iures sharing fling without judgment criticism active listening working discuion problem solving easy take continuous eort learning stories life prey fat easy  easily couple grow apart whenever something fuy scary exciting juicy haens someone know life even email phone talk teamwork think two work team consult making big decision everything always aect strengthen couple power many cases decide based best relationship favor individual selves fear losing individuality selfestm intact',\n",
              " 'great obit amazing woman last line',\n",
              " 'ron stoable urink kim poible character brought urink quizia',\n",
              " 'cant believe  cold wow last day schl went fast handed page paper profeor proud anyway get going study exam tomoow wanted write quick note nice cold day',\n",
              " 'mailman dick least one thr mailman post oice rotates neighborhd house garage park car strt front house intricate aangement aording damn flyer mailman puing underneath windshield must aow enough mailman without back real driving two car park front house want get mail oosed windshield flyer caot way also try aow enough neighbor get mail delivered meaning cant close mailbox park two mailbox aow enough eentiay semi truck either end said done park cars aravating first moved house reasons never told rule found flyer neighbor didnt get mail house mailbox porch house mailman get delivers mail porch cant back cray van get walk swear god want drive mail truck next time  reay like taking joy ride  mail flying back van one time leftflyer lked strt smiled special delivery asked day later gaveline house grandfathered reason mind today garbage day garbage apart order picked another thing  talk later meaning normal cant park car act defiance put right front mailbox mailman get deliver mail change whats going put garbage somewhere else take city punk entitled utility dont eat never mind today delivered mail aarently intentionay backed garbage aording wife think something else make life harder become silent war likely defining event life doe anyone suestion make life harder one thing going make life easier hopefuy lile harder move mailbox corner lot order deliver mail would stop perfect tbone position aeyway west house hopefuy  stre life thereby reducing health significantly point stroke retires long haul',\n",
              " 'last night lurid dream africa jungle third world shack highschl friend working grocery stores photographic negative swamp ftprint drowned bld face wolf cataract eyes red almost black  could hardly make sense anymore tried take nap work man went back air conditioned cavern apartment tried slp eye wouldnt shut though nded badly slp wouldnt come get tuet tired weird maot squirming brain come onto surface thought going cry nothing felt like child weakne came light insecurity old hurt joke arent fuy anymore leave hide today last day leaves hes going florida two wks military thing hear rate hes cheated girlfriend expeditions men take weing ring strip clubs onenight stand strange encounters anything goes trust wont like mostly miing hoping okay jungle brought pea yesterday surely nicest thing anyones ever done beer roses peas several day alone  part weirdne yesterday writing regularly except thing',\n",
              " 'bling going israel jumper bling jumper like  jumper without bling wtf jumper nevermind blingwasted typing jumper didnt jumper didnt get bling said bling wat doe mean jumper  bling stuart gordon jumper know bling watmean jumper ever heard people say  bling never jumper didnt say jumper never bling nope jumper bling going  like yay stu question bling ohspeed wrong jumper didnt bling   bling yesjumper thats saying  jumper wasnt bling asking blingused wrong teingjumper didnt jumper used jumper discretion bling yesjumper never even heard saying smart one bling cant discretion graar bling heard bling didnt know watmean cuz onlinespeed wrong jumper didnt spe wrong bling yesjumper saying jumper god bling dumb',\n",
              " 'went hospital morning preop testing two worst part ordeal finding parking spot ended parking lot luckily enu quarter cover time testing part wasnt bad answered health questions chest xray gave bit bld woman drew bld sample fantastic didnt even know ndle hand yeah take hand vein arm one ever get without causing alot pain wanting punch face hurting part got bit alot gal talking anestesia told would puing tube throat help breathe would aslp whptshit dont want friin tube throat ever aslp hay went canal hopefuy tth stop driving nut fun morning huh',\n",
              " 'alright definitely trend idea incorporating real exercise gaming get fit play even cant aord power grid joystick youve arcade last two year lost translation youve dancing going crazy trying beat scrn danceo oonents maybe siy youre ahythmic turn people aicted urink  revolution geing serious workout make sense since game get faster intricate get beer check personal story people whove slied urink getupmove kne say hes urink lost lbs playing   available xbox dance pad also aeory available urink rfreak newest version game urink dancedancerevolution ultra mix available later year konami arts read urink',\n",
              " 'usa believe things believe frdom believe justice believe equality foremost believe unmitigated right nation people pursue haine america elect leader sole purpose bringind things recently however sms leader aempted limit things tuesday february president georgebush std america rsevelt oered endorsement amendment ban sex union country eight year prior president clinton signed law defense maiage act defined maiage legal union one man one woman exceptions aitude toward sex union nation overwhelmingly negative recent example yesterday aroval voter miouri instate constitutional amendment ban sex maiage closer examination conflict one cant help notice term rhetoric thrown around hear phrase like defense maiage family value help wonder someone priority inside maiage family abstractions mere title column sort life simply term complex wonderful prxisting phenomenon many people aive without given labels best highly dubious notion government institution distribute deny objective world way even ridiculous people made suer absurdity sin people engaged sex relation miing wholesome vitalizing eence human interaction intimacy mutual respect wonder close feowship indd our regardle anyones acknowledgement real oense country devoted primarily haine people hay people recognized country united state  aord refuse validate obviously meaningful spiritual importantly veridical people related links usa today article miouri voter ban gay maiage urink usatoday comnewsnationmiourigaymaiagebanx htmpoenewisva usa today article bush expre suort constitutional amendment urink usatoday comnewswashingtonamendmenextx htm defense maiage act section definition maiage urink hpunix oit uma edulegdoma htm',\n",
              " '',\n",
              " 'stop reading top lists one think theyre serious anyway especiay one deal urink music absolute travesty song claim worst one love  technogks msn judge fun hay siy music',\n",
              " 'best suorting actor hopefuy last post concerning  hit close home last drasticay aect several people close people reay close taken never reay thought loved one would kick hard run pain fucked ruing empty fucken break man time',\n",
              " 'ive decided instead geing wkend job frlance design jobs duh gue could sti aly jobs think would way productive frlance work duh plus dont work wkends could silkscrning sometimes briiant idea simple',\n",
              " 'cant man aarently sure though reckon itd prey darn easy beat one submiion yeah anyway international conspiracy often mistaken urink service stupid whinging gaming nds cray dont know opinion loud varied inconstant check back',\n",
              " 'tear enough time wave saline could ever wash away pain ive felt pain ive dealt truth clear live  sti fact remains alive whove thank whove curse',\n",
              " 'gday think graar suck tom could right  suck english trying script caot think anything luckily kate smart think something today hasister biest pain bum cry smaest thing meie wont give chips    bah care stupid wdwork aignment reay sucks science game finishing god know else ive probably forgoen half stu suose maths dait beer work suose',\n",
              " 'yay novus yesterday sara reay wait toi end august know got thats buer yeah reay waa something today like park going nnish movie jeon  someone talking last night certain something  home park like would kick waa something',\n",
              " 'miion chart graph urink',\n",
              " 'thinking changing seing people  title posts want votes please',\n",
              " 'last night sister said cant like buy something like quiet sure mean think stem warped desire play dawn buy valerie want become kelpto perhpas similarity bewtn life buys oicemate theory hemouth gue end east coast yup gueed like hole also sure hole right oice would aount lot especiay weird sme dont hot vampire hanging around apartment sadly word slayer spray painted side apartment buliding kitchen window reference metal band label neighborhd demon take notice  let judge considences think',\n",
              " 'yay got new convection oven today lot smaer past microwave oven doesnt impreive microwave line oven lol havent done much kniing today get onto lile later kilets bed hey posted day posting might head waverley wen tomoow havent month never lked sale wonder many cheap discount ones dont surprised though dont get saying month get havent yet use live like minute walk away',\n",
              " 'past productive least area losing weight ive lost six pound thats prey hear worked everyday monday friday ate nothing healthy stusteamed vegtables gried chicken breast atkins shakes etc today however got extremely hungry christie drove long john silvers droed order brought home christie got burger threw family order fish chicken got two piece shrimp christie stated know eat past nothing first got mad making statement craving unhealthy realized right hence throwing away  know starving kid ethiopia pray often wont even able die heart aack start tomoow posted thank everyone suorting life change losing weight eating right ily',\n",
              " 'weit nicht genau das ich leicht entflabar bin loescht feuer mit benzin',\n",
              " 'mshgm time report padang field game started team marist fielding first time marist pitcher felt nervous game duo leh buen easiest team leh marist team let run first iing thought would end bounced back scored maximum inspired team timothy made solo homerun jia yuan made another homerun brought many  would mean geylangs hope geing place would gone would rightfu owner marist win marist would even placing might come riboy champion nationals marist doneboy marist last game src gdbye time report simhyi',\n",
              " 'morning woke bad headache yesterday walk rain going back club house today came schl early morning tpid econstutorial yesterday say  somebody say  take replacementgaurant signature chop never luckily get influence say judge hehe make pek chek whole day cip leons caot concentrate brain dead havent bought black pant concert tml die many thing infa ocom damn sianz damn tired rest coon test coming concert might going band anymore streed many problem handle tml concert wont play today bad swing maybe bcoz headache',\n",
              " 'dont know whats going right kind routine think',\n",
              " 'link sermon given pathway last year sermon caed living new first one posted youre interested foow link',\n",
              " 'independant movie urink supersize making big splash box oice already released sma number theatersahem ahem saying year fast place like mcdonalds bad health',\n",
              " 'darling friend urink david san francisco separate post subject maer going copy today unrelated random thing mind morning gay justice big news austin today gay bashers caught second biest news something airplane crashing mansion kiing bunch rich people juice fold anyway haened one gay bashers grocery shoing saw victim store time panicked thinking victim would recognize report basher ran parking lot waved someone asked driver ride procded trying get away driver droed home got are reported police okay besides complete uer stupidity criminal strange thing story last name gay reay shit gay younger brother also one four bashers actuay  homosexual qur fag bufucker two cock mouth christian waior facing anywhere year prison hope end cemates monstrously huge penises hope get raped every single day aacker read paage aloud bible diva war siing work diva war coworkers one said unbelievably retarded statement cristina aguilera next madoa quoi questce que dis excuse place eyeba back sockets granted guy recently said people color aowed read great gatsby anything say must taken grain cocaine cristina aguilera next madoa never another madoa never cristina aguilera next janet jackson next whitney houston next chaka khan even next laura branigan completely uninteresting tacky performer couple decent songs must scrub clean take long nap idiot box recent state mind heart ive taken long spe watching network television sort escape last night watched trading spouses big brother amazing race late show tried slp couldnt watched blind date fifth whl disgusting say vegetative paralysis right amazing race  show always cry end reay rting teams though maybe charla mirna lile thick like lking painting return prodigal son mirna kept pronouncing prodigalj definitely team rting like urink nicole brandon christian fashion models must click link  bios  make world cold dark relationship godcentered please fag god doesnt want saying shit like doesnt even like whiney oended wouldnt drink vodka ruia think long violent night wet sauna urink bruce vilanch order redm soy perky  update forgot mention think urink gay guy big brother super duper yums typicay dumb blonde party boys completely fucking love way hes hair love yuy face love color beautiful smth chest jokingly trying seduce cowboy last night leaning edge swiing arch lower back gave chi post kind random perhaps interesting motherfuckers goa problem suck love david',\n",
              " 'listening enter sandman metaica tak cuent status plain life far goa fail math goa fail evrything else coz failing math found sumthing shocking dont ask lked never knew much miza swtest thing anyone ever said made lot cky geing reay streed teh exam anythign geing hungry lot time period coming made new song kaer  cute get bored easily get pied easily almost finishing jahitan finished folio buhyah didnt condotion hair coz dah habis conditioner gumbas must gumbas cant get enough hay poer tried turn hair hermiones staing blankly sky geing bad flings macaroni chse sister came back day going jaing tomoow lot going bad wish could get exam first baru risau hair rite like mushed conditioned  owh exam come first farisa tahts maybe tak ingat owh imagine shamp without conditioner argh',\n",
              " 'oer name visit australia new zealand roundtrip start date end date merchant name travelocity com description explore aboriginal rockengraving site sydney jet boating river new zealand get cozy rural bed breakfast adventure south equator begin great deal qantas flight start roundtrip sure july enjoy  code brought jpservicez com smart bargain shoing urink site',\n",
              " ' tempted make pompous confident airmation self right realize reay going period time thought control things drivers seat right reay troubling know thing change thing make sure  sti fundamentay put personality hold order beer pore study material without geing distracted healthy sure time would simply claified moment feminine weaknein general sense thank scarles aunt would swn grab smeing salts hold',\n",
              " 'realized something today doesnt maer nothing sms maer world doe care completly screw concept journal self never sure get joy reading hit like',\n",
              " 'even lighter note one picture represents wanted prom night gue one reality sucks fuck reality',\n",
              " 'shamele bid wrest multipost title back going inspired urink friday five list question friday suosed answer list blog believe friday used productively new link friday spectrum timex youre american game play browser yay urink ant aack urink bay urink chaos urink chuckie  urink elite thats last  bungers urink manic miner urink jet set wiy urink lord midnight urink scuba dive urink zynaps spectrum game play homesite urink jasper spey emulator spectrum stu could wole urink memory expansion pack check urink world spectrum emulators game none urink ultimate urink prograing documentation urink manual lot stu urink planet sinclair lot information sinclair product read may also want read review game relive youth urink crash urink sinclair hail mighty urink clive link games various bit linkage main link friday site make erm result',\n",
              " ' ladiesthrew wednesday morning recap emails last night actuay prey great bars standards let break  celebrity sighting derek jeter upstairs drinking lychtnis vodka martini lych nuts people  yanksknow going disagr handsome best coent jack bus boy caot light thing fire caot light thing fire said crazy customer lighting beverage napkins best moment bergen cocktail waitre ride  bergen escorted man wearing black leather jumpsuit complete motorcycle helmet think knight rider wait minute didnt serve guy five rounds bergen said hesitant voice think guy maybe lile drunk bergen told woy life around corner sure brklyn around corner uereast side one riding back motorcycle best customer definitely bartender gustavinos handsome albeit lile bit shorter struling actor went yale teing batard girlfriend think convinced breakwould perfect tried mention name times told taking break women best present customer dozen roses dont know guy gave best coent customer skiy guy bronx waa buy one round fat guy brox whats maer money try buy one round goa beat head cant friend skiy come goa bad front girls fat guy smacking skiy guy upside head youre dating lile sister sit back hit best outfit worn hker white leather miniskirt white halter short red wig name darla best hitonthebartender line standing bar stl wearing black sweat suit sneakers hair pony tail polishing boles random fat guy bar know youre  wearing sweat suit ive hours think problems thats news',\n",
              " 'clock system tray lile indented box lower right corner window scrn show siing deck bird auditioning suer song series sun reflecting opened yesterday left one finest cigar made ashton virgin sun grown churchi one flavorful strongest noncuban cigar going tasting serious ciamon chocolate right masterful stogie chasing canada dry ginger ale degrs quick dip fifty six degrs thats right whew talk cold tradition must continue get open april close september tradition isnt always meant easy always meaningful whats prey thanks wonderful invention wirele networking able sit deck surf web make blog entry late sunday evening work mile oice thats swt realized theres single cloud sky quite wkend beautiful weather friday night stoed  erik mechanic high schl clamate year ago leon people hang garage friday evenings smoked big cigar several people fawned spyder headed home  one beautiful woman planet dreed taking dier favorite restaurant bar none blue fantastic dier great french wine vouvray smth silk light body delicate understated finish hint lemons outstanding older gentleman played claic crner tune piano encouragement dined would translate caerole sea pai enjoyed chilean sea sauce described perfect could also suose described ingredients server would share doing detective hats best conjure recipe via deliberate tasting finay nailed buer course cream shaots hint roasted red peers coup grace rosemary nope thyme puled thyme pai know flavor  thyme come mean yeah culinary degr wrong time aha couldnt wait win bale another server stoed asked ingredients didnt hesitate share buer cream shaots roasted red peer thyme argh  believe ordered caramel cream custard red raspbey sorbet shpishly admied right usual sigh didnt  son easter havent counicate almostdaily basis havent hes busy state anxious even haier hes making right decision stay schl work research hes cognitive science research department know computer think stu job ian idea proud mom sister chris jane parents bob carol man saturday got usual wkend time went philadelphia pick inch whl beater whats walking around house morning thinking ive phiy back already today sti entire day ahead opened drove spyder bit run eands erika came continue try migrate stu apartment dad invited sit around fire pit smoke cigar mom pronounce cigars nice evening sunday sharpened blade lawnmower thanks tip rich used belt sander suested work great made sure exactly inch cuing height mandated pai also state master gardener case havent noticed shes driven overachiever state master gardener degr culinary arts certificate baking pastry homeschled child seven years shape dropdead gorgeous think prey much match cough get first time cut gra pai say short raise mower thr inch high know cut high let lie mantra healthy lawn could know wasnt thr inch high rather two thrquarters inches come  could able lawn inch short thing talent inteigence awesome physique nded perfectionist wife cough man idea great cigar mean absolutely wonderful ahead laugh april went mariner arena baltimore  yai concert hand best concert ever may think dont like kind music hes described first new age superstar performed live aweinspiring great seat near front could  musicians facial expreions course thr hour performance nearly every artist oortunity perform solo talent beyond description unbelievable winter cultural calendar wind close went  windham winter solstice concert yai toing imax movie coral sadly losing chemical farming overharvesting trs make thr events thr event every year next year include cirque soleil beagio hotel casino vegas went  two year ago overwhelmed insist pai aompany vega next january urink shot show  greatest cultural event ive ever aended gue tie miserables lifechanging experience soninlaw secondbest soninlaw world hold title best thank much great job help lower income people housing particularly problem landlord cant aord aorney also help make sure housing discrimination held check fantastic chris extremely important work proud know much chris belief fairne civil human rights important iue many wetodo people read hard core republicans dont care great work daughter shes maied chris figure yet going stage life everyone know geing maied bit drag quite costly outfit gift party stop fun people insisting spend outfit match ushers sisters outfit chin erika mule put neceary dont budge smile lot wish weing could great weing cigar half done sti fantastic wish could another one finished pai get bit upset thr four cigar one right ask many cigar carefuy give sneaky answer last one friend alication urink peter finay youre spiritual person please remember pray peace especiay iraq youre believer please send karma seriously',\n",
              " 'okay philosophize friend ted would say reading keats ode melancholy day began around idea buing okay hang caot know joy without pain true kind like yin yang thing would know light havent experienced darkne thing joy pain greater depth pain experienced greater ability experience joy foowing logic caot increase level joy capable experiencing without knowing antithesis therefore must shy away pain keats caavoid peril alcohol lest numbpain consider desensitizing youth today many people blame video games television film music etc desensitizing youth towards violence helping facilitate event like columbine believe perhaps tendency self medicate sure pain leadingbecome numb aowing experience pain either physical emotional cut ability experience joy confuse also understand human mind ability create construct regard memory perhaps also important push painful memory able back painful event life aept pain flow wounds ignore past wounds caot experience future joy alright big disclaimer masochist enjoy pain dont even want begin explore would fit argument also caing people pain merely wish encourage people numb pain come along naturay within reason seriously folks dont get canal without novacain also dont pop handful tylenol everything bump either dont ignore anger depreion broken heart aept things embrace realize experiencing aow poibility haine okay giving headache drop line let know think',\n",
              " 'someone special thanks pei whole day tolerating nonsense forgive whatever wrong duo sha expre love gratidue laopo love forever love lot laopo one ever touched heart one treat  laopo',\n",
              " ...]"
            ]
          },
          "metadata": {},
          "execution_count": 208
        }
      ]
    },
    {
      "cell_type": "markdown",
      "metadata": {
        "id": "fjqdmH596HZ5"
      },
      "source": [
        "**After cleaning the text with multiple techniques still there is ther is lots of sort words in the corpus cab be seen above**"
      ]
    },
    {
      "cell_type": "code",
      "metadata": {
        "id": "wX-WCh516-ck"
      },
      "source": [
        "# Creating a taget variable using gender, age, topic and sign\n",
        "ds['target'] = ds[['gender','age', 'topic','sign']].apply(lambda x: [str(y) for y in x], axis=1)"
      ],
      "execution_count": 209,
      "outputs": []
    },
    {
      "cell_type": "code",
      "metadata": {
        "colab": {
          "base_uri": "https://localhost:8080/",
          "height": 203
        },
        "id": "s8NvuiCuCDpz",
        "outputId": "d307786d-188b-4e30-9a2e-1ce40e7bc847"
      },
      "source": [
        "ds.head()"
      ],
      "execution_count": 210,
      "outputs": [
        {
          "output_type": "execute_result",
          "data": {
            "text/html": [
              "<div>\n",
              "<style scoped>\n",
              "    .dataframe tbody tr th:only-of-type {\n",
              "        vertical-align: middle;\n",
              "    }\n",
              "\n",
              "    .dataframe tbody tr th {\n",
              "        vertical-align: top;\n",
              "    }\n",
              "\n",
              "    .dataframe thead th {\n",
              "        text-align: right;\n",
              "    }\n",
              "</style>\n",
              "<table border=\"1\" class=\"dataframe\">\n",
              "  <thead>\n",
              "    <tr style=\"text-align: right;\">\n",
              "      <th></th>\n",
              "      <th>id</th>\n",
              "      <th>gender</th>\n",
              "      <th>age</th>\n",
              "      <th>topic</th>\n",
              "      <th>sign</th>\n",
              "      <th>date</th>\n",
              "      <th>text</th>\n",
              "      <th>clean_text</th>\n",
              "      <th>target</th>\n",
              "    </tr>\n",
              "  </thead>\n",
              "  <tbody>\n",
              "    <tr>\n",
              "      <th>0</th>\n",
              "      <td>2764903</td>\n",
              "      <td>male</td>\n",
              "      <td>33</td>\n",
              "      <td>indUnk</td>\n",
              "      <td>Pisces</td>\n",
              "      <td>25,June,2004</td>\n",
              "      <td>Let's say you have friends that hav...</td>\n",
              "      <td>lets say friend std past return always friend ...</td>\n",
              "      <td>[male, 33, indUnk, Pisces]</td>\n",
              "    </tr>\n",
              "    <tr>\n",
              "      <th>1</th>\n",
              "      <td>2530499</td>\n",
              "      <td>male</td>\n",
              "      <td>15</td>\n",
              "      <td>Technology</td>\n",
              "      <td>Aries</td>\n",
              "      <td>02,August,2004</td>\n",
              "      <td>Was officially the COOLEST FUCKING ...</td>\n",
              "      <td>oiciay clest fucking day ever blake brother a...</td>\n",
              "      <td>[male, 15, Technology, Aries]</td>\n",
              "    </tr>\n",
              "    <tr>\n",
              "      <th>2</th>\n",
              "      <td>3950263</td>\n",
              "      <td>male</td>\n",
              "      <td>17</td>\n",
              "      <td>Student</td>\n",
              "      <td>Gemini</td>\n",
              "      <td>01,August,2004</td>\n",
              "      <td>Apparently, a few people consider...</td>\n",
              "      <td>aarently people considered cory gang maive amo...</td>\n",
              "      <td>[male, 17, Student, Gemini]</td>\n",
              "    </tr>\n",
              "    <tr>\n",
              "      <th>3</th>\n",
              "      <td>2990004</td>\n",
              "      <td>male</td>\n",
              "      <td>27</td>\n",
              "      <td>indUnk</td>\n",
              "      <td>Aries</td>\n",
              "      <td>13,June,2004</td>\n",
              "      <td>His nose is too big for his face.  Eyes...</td>\n",
              "      <td>nose big face eyes soft lile browns intimately...</td>\n",
              "      <td>[male, 27, indUnk, Aries]</td>\n",
              "    </tr>\n",
              "    <tr>\n",
              "      <th>4</th>\n",
              "      <td>1119280</td>\n",
              "      <td>female</td>\n",
              "      <td>27</td>\n",
              "      <td>indUnk</td>\n",
              "      <td>Gemini</td>\n",
              "      <td>01,August,2004</td>\n",
              "      <td>urlLink     urlLink 16-feb-04</td>\n",
              "      <td>feb</td>\n",
              "      <td>[female, 27, indUnk, Gemini]</td>\n",
              "    </tr>\n",
              "  </tbody>\n",
              "</table>\n",
              "</div>"
            ],
            "text/plain": [
              "        id  ...                         target\n",
              "0  2764903  ...     [male, 33, indUnk, Pisces]\n",
              "1  2530499  ...  [male, 15, Technology, Aries]\n",
              "2  3950263  ...    [male, 17, Student, Gemini]\n",
              "3  2990004  ...      [male, 27, indUnk, Aries]\n",
              "4  1119280  ...   [female, 27, indUnk, Gemini]\n",
              "\n",
              "[5 rows x 9 columns]"
            ]
          },
          "metadata": {},
          "execution_count": 210
        }
      ]
    },
    {
      "cell_type": "code",
      "metadata": {
        "colab": {
          "base_uri": "https://localhost:8080/"
        },
        "id": "cF5Sjti3E2lz",
        "outputId": "c25aebe8-4478-44ed-a67c-033e56313636"
      },
      "source": [
        "ds.columns"
      ],
      "execution_count": 211,
      "outputs": [
        {
          "output_type": "execute_result",
          "data": {
            "text/plain": [
              "Index(['id', 'gender', 'age', 'topic', 'sign', 'date', 'text', 'clean_text',\n",
              "       'target'],\n",
              "      dtype='object')"
            ]
          },
          "metadata": {},
          "execution_count": 211
        }
      ]
    },
    {
      "cell_type": "code",
      "metadata": {
        "id": "5ZdxSo_JCaNH"
      },
      "source": [
        "ds.drop(columns=['id', 'gender', 'age', 'topic', 'sign', 'date', 'text'], axis=1, inplace=True)"
      ],
      "execution_count": 212,
      "outputs": []
    },
    {
      "cell_type": "code",
      "metadata": {
        "colab": {
          "base_uri": "https://localhost:8080/",
          "height": 203
        },
        "id": "6rtFv3R3Dhcu",
        "outputId": "2a666387-74df-42bc-ba79-0ee5bcf9a3ed"
      },
      "source": [
        "ds.head()"
      ],
      "execution_count": 213,
      "outputs": [
        {
          "output_type": "execute_result",
          "data": {
            "text/html": [
              "<div>\n",
              "<style scoped>\n",
              "    .dataframe tbody tr th:only-of-type {\n",
              "        vertical-align: middle;\n",
              "    }\n",
              "\n",
              "    .dataframe tbody tr th {\n",
              "        vertical-align: top;\n",
              "    }\n",
              "\n",
              "    .dataframe thead th {\n",
              "        text-align: right;\n",
              "    }\n",
              "</style>\n",
              "<table border=\"1\" class=\"dataframe\">\n",
              "  <thead>\n",
              "    <tr style=\"text-align: right;\">\n",
              "      <th></th>\n",
              "      <th>clean_text</th>\n",
              "      <th>target</th>\n",
              "    </tr>\n",
              "  </thead>\n",
              "  <tbody>\n",
              "    <tr>\n",
              "      <th>0</th>\n",
              "      <td>lets say friend std past return always friend ...</td>\n",
              "      <td>[male, 33, indUnk, Pisces]</td>\n",
              "    </tr>\n",
              "    <tr>\n",
              "      <th>1</th>\n",
              "      <td>oiciay clest fucking day ever blake brother a...</td>\n",
              "      <td>[male, 15, Technology, Aries]</td>\n",
              "    </tr>\n",
              "    <tr>\n",
              "      <th>2</th>\n",
              "      <td>aarently people considered cory gang maive amo...</td>\n",
              "      <td>[male, 17, Student, Gemini]</td>\n",
              "    </tr>\n",
              "    <tr>\n",
              "      <th>3</th>\n",
              "      <td>nose big face eyes soft lile browns intimately...</td>\n",
              "      <td>[male, 27, indUnk, Aries]</td>\n",
              "    </tr>\n",
              "    <tr>\n",
              "      <th>4</th>\n",
              "      <td>feb</td>\n",
              "      <td>[female, 27, indUnk, Gemini]</td>\n",
              "    </tr>\n",
              "  </tbody>\n",
              "</table>\n",
              "</div>"
            ],
            "text/plain": [
              "                                          clean_text                         target\n",
              "0  lets say friend std past return always friend ...     [male, 33, indUnk, Pisces]\n",
              "1   oiciay clest fucking day ever blake brother a...  [male, 15, Technology, Aries]\n",
              "2  aarently people considered cory gang maive amo...    [male, 17, Student, Gemini]\n",
              "3  nose big face eyes soft lile browns intimately...      [male, 27, indUnk, Aries]\n",
              "4                                                feb   [female, 27, indUnk, Gemini]"
            ]
          },
          "metadata": {},
          "execution_count": 213
        }
      ]
    },
    {
      "cell_type": "code",
      "metadata": {
        "colab": {
          "base_uri": "https://localhost:8080/"
        },
        "id": "TLC1e9YzHrio",
        "outputId": "e77cc772-1c72-4b32-c59c-1841228bfdf3"
      },
      "source": [
        "print(len(ds.loc[0, 'clean_text'].split())) # Checking the no. of words in bloggs\n",
        "print(ds.loc[0, 'clean_text'])"
      ],
      "execution_count": 214,
      "outputs": [
        {
          "output_type": "stream",
          "text": [
            "45\n",
            "lets say friend std past return always friend lets suose suenly decide something friend wrong friend dont care think either naturay friend get angry suort thing furthermore think youre ahole ignoring advice going ahead stupid plan anyway point urink nato wiing helpiraq pied ignored advice\n"
          ],
          "name": "stdout"
        }
      ]
    },
    {
      "cell_type": "markdown",
      "metadata": {
        "id": "0u6ejmmJL0fA"
      },
      "source": [
        "Spliting the data into Train and Test"
      ]
    },
    {
      "cell_type": "code",
      "metadata": {
        "id": "O80f5-efPd_b"
      },
      "source": [
        "from sklearn.model_selection import train_test_split\n",
        "X_train, X_test, y_train, y_test = train_test_split(ds['clean_text'], ds['target'], test_size=0.30, random_state=1, shuffle=True)"
      ],
      "execution_count": 215,
      "outputs": []
    },
    {
      "cell_type": "code",
      "metadata": {
        "colab": {
          "base_uri": "https://localhost:8080/"
        },
        "id": "P2a29C5PPjiQ",
        "outputId": "bba9e815-c6a0-4bf9-ebc6-ba8ea570a52b"
      },
      "source": [
        "# Checking the shape\n",
        "print(X_train.shape)\n",
        "print(y_train.shape)\n",
        "print('\\n')\n",
        "print(X_test.shape)\n",
        "print(y_test.shape)"
      ],
      "execution_count": 216,
      "outputs": [
        {
          "output_type": "stream",
          "text": [
            "(14000,)\n",
            "(14000,)\n",
            "\n",
            "\n",
            "(6000,)\n",
            "(6000,)\n"
          ],
          "name": "stdout"
        }
      ]
    },
    {
      "cell_type": "code",
      "metadata": {
        "colab": {
          "base_uri": "https://localhost:8080/",
          "height": 52
        },
        "id": "pX5vmW6HQKSF",
        "outputId": "5e5f2cc8-6a8c-4124-f7bc-7a9ad58c4451"
      },
      "source": [
        "X_train[2]"
      ],
      "execution_count": 217,
      "outputs": [
        {
          "output_type": "execute_result",
          "data": {
            "application/vnd.google.colaboratory.intrinsic+json": {
              "type": "string"
            },
            "text/plain": [
              "'aarently people considered cory gang maive amount red wears intrigued form something another episode around corys widespread fascination color red however elongate anything idea involving obseion cory story post coent thanks advance'"
            ]
          },
          "metadata": {},
          "execution_count": 217
        }
      ]
    },
    {
      "cell_type": "code",
      "metadata": {
        "id": "LlfU0BcCoVhu"
      },
      "source": [
        "# Vectorizing the features.\n",
        "from sklearn.feature_extraction.text import CountVectorizer, TfidfVectorizer"
      ],
      "execution_count": 218,
      "outputs": []
    },
    {
      "cell_type": "code",
      "metadata": {
        "id": "hjlz2LQ7ppb2"
      },
      "source": [
        "cvt = CountVectorizer(max_df=0.8, max_features=10000)"
      ],
      "execution_count": 219,
      "outputs": []
    },
    {
      "cell_type": "code",
      "metadata": {
        "colab": {
          "base_uri": "https://localhost:8080/"
        },
        "id": "009EbVJEqE7v",
        "outputId": "02f360e6-2f83-4b9b-a9fc-c9933b2572de"
      },
      "source": [
        "# Fitting on training data\n",
        "X_train_cv = cvt.fit_transform(X_train)\n",
        "print(X_train_cv[0])"
      ],
      "execution_count": 220,
      "outputs": [
        {
          "output_type": "stream",
          "text": [
            "  (0, 4106)\t1\n",
            "  (0, 3038)\t1\n",
            "  (0, 9612)\t1\n",
            "  (0, 7664)\t1\n",
            "  (0, 8941)\t1\n",
            "  (0, 5035)\t1\n",
            "  (0, 3907)\t3\n",
            "  (0, 2211)\t1\n",
            "  (0, 5234)\t1\n",
            "  (0, 4130)\t1\n",
            "  (0, 7259)\t1\n",
            "  (0, 8937)\t1\n",
            "  (0, 8272)\t1\n",
            "  (0, 7117)\t1\n",
            "  (0, 5140)\t1\n",
            "  (0, 8121)\t1\n",
            "  (0, 415)\t2\n",
            "  (0, 8306)\t1\n",
            "  (0, 9807)\t1\n",
            "  (0, 9879)\t1\n",
            "  (0, 8422)\t1\n",
            "  (0, 8776)\t2\n",
            "  (0, 8347)\t1\n",
            "  (0, 4008)\t1\n",
            "  (0, 3931)\t1\n",
            "  (0, 8845)\t1\n",
            "  (0, 9009)\t1\n",
            "  (0, 8234)\t1\n",
            "  (0, 86)\t1\n"
          ],
          "name": "stdout"
        }
      ]
    },
    {
      "cell_type": "code",
      "metadata": {
        "id": "wcKZ2xSyqUQG"
      },
      "source": [
        "# Fitting on testing data\n",
        "X_test_cv = cvt.transform(X_test)"
      ],
      "execution_count": 221,
      "outputs": []
    },
    {
      "cell_type": "code",
      "metadata": {
        "colab": {
          "base_uri": "https://localhost:8080/"
        },
        "id": "z8jZJRtsr3BL",
        "outputId": "7446cbdb-53d9-433d-d659-08896cc904fd"
      },
      "source": [
        "len(cvt.vocabulary_)"
      ],
      "execution_count": 222,
      "outputs": [
        {
          "output_type": "execute_result",
          "data": {
            "text/plain": [
              "10000"
            ]
          },
          "metadata": {},
          "execution_count": 222
        }
      ]
    },
    {
      "cell_type": "code",
      "metadata": {
        "colab": {
          "base_uri": "https://localhost:8080/"
        },
        "id": "oP3wGXXfsMKM",
        "outputId": "d6422aa0-ade1-459f-b6bc-4e8111821e1c"
      },
      "source": [
        "X_train_cv.shape # checking the shape of the training data"
      ],
      "execution_count": 223,
      "outputs": [
        {
          "output_type": "execute_result",
          "data": {
            "text/plain": [
              "(14000, 10000)"
            ]
          },
          "metadata": {},
          "execution_count": 223
        }
      ]
    },
    {
      "cell_type": "code",
      "metadata": {
        "id": "jZeqBYEisMG_"
      },
      "source": [
        "# Vectorizing the features using Tfidf\n",
        "tfidf = TfidfVectorizer()"
      ],
      "execution_count": 224,
      "outputs": []
    },
    {
      "cell_type": "code",
      "metadata": {
        "id": "UoCDfCiHsMDX"
      },
      "source": [
        "X_train_tf = tfidf.fit_transform(X_train)\n",
        "X_test_tf = tfidf.transform(X_test)"
      ],
      "execution_count": 225,
      "outputs": []
    },
    {
      "cell_type": "code",
      "metadata": {
        "colab": {
          "base_uri": "https://localhost:8080/"
        },
        "id": "D558WsH5sMAW",
        "outputId": "a8b59c6c-af2c-4d5e-8127-2a0b4aa4e7dc"
      },
      "source": [
        "len(tfidf.vocabulary_)"
      ],
      "execution_count": 226,
      "outputs": [
        {
          "output_type": "execute_result",
          "data": {
            "text/plain": [
              "85368"
            ]
          },
          "metadata": {},
          "execution_count": 226
        }
      ]
    },
    {
      "cell_type": "markdown",
      "metadata": {
        "id": "nQ1UbUKDvup6"
      },
      "source": [
        "#### we need to transform labels in a binary form and the prediction will be a mask of 0s and 1s. using MultiLabelBinarizer from sklearn"
      ]
    },
    {
      "cell_type": "code",
      "metadata": {
        "id": "0qZQSDLOsL85"
      },
      "source": [
        "from sklearn.preprocessing import MultiLabelBinarizer"
      ],
      "execution_count": 227,
      "outputs": []
    },
    {
      "cell_type": "code",
      "metadata": {
        "id": "om2hT43osL5k"
      },
      "source": [
        "label_counts = dict()\n",
        "for labels in ds['target'].values:\n",
        "  for label in labels:\n",
        "    if label in label_counts:\n",
        "      label_counts[label]+=1\n",
        "    else:\n",
        "      label_counts[label] =1"
      ],
      "execution_count": 228,
      "outputs": []
    },
    {
      "cell_type": "code",
      "metadata": {
        "colab": {
          "base_uri": "https://localhost:8080/"
        },
        "id": "EmE8KZzPxAhM",
        "outputId": "b105973d-9329-42fc-d6bb-63e852386d4a"
      },
      "source": [
        "label_counts"
      ],
      "execution_count": 229,
      "outputs": [
        {
          "output_type": "execute_result",
          "data": {
            "text/plain": [
              "{'13': 365,\n",
              " '14': 810,\n",
              " '15': 1222,\n",
              " '16': 2155,\n",
              " '17': 2443,\n",
              " '23': 2188,\n",
              " '24': 2353,\n",
              " '25': 1974,\n",
              " '26': 1557,\n",
              " '27': 1344,\n",
              " '33': 529,\n",
              " '34': 582,\n",
              " '35': 494,\n",
              " '36': 403,\n",
              " '37': 293,\n",
              " '38': 221,\n",
              " '39': 159,\n",
              " '40': 158,\n",
              " '41': 98,\n",
              " '42': 84,\n",
              " '43': 135,\n",
              " '44': 50,\n",
              " '45': 119,\n",
              " '46': 104,\n",
              " '47': 58,\n",
              " '48': 102,\n",
              " 'Accounting': 133,\n",
              " 'Advertising': 155,\n",
              " 'Agriculture': 41,\n",
              " 'Aquarius': 1421,\n",
              " 'Architecture': 59,\n",
              " 'Aries': 2002,\n",
              " 'Arts': 987,\n",
              " 'Automotive': 35,\n",
              " 'Banking': 116,\n",
              " 'Biotech': 59,\n",
              " 'BusinessServices': 120,\n",
              " 'Cancer': 1865,\n",
              " 'Capricorn': 1450,\n",
              " 'Chemicals': 105,\n",
              " 'Communications-Media': 633,\n",
              " 'Construction': 26,\n",
              " 'Consulting': 190,\n",
              " 'Education': 812,\n",
              " 'Engineering': 313,\n",
              " 'Environment': 20,\n",
              " 'Fashion': 143,\n",
              " 'Gemini': 1532,\n",
              " 'Government': 196,\n",
              " 'HumanResources': 84,\n",
              " 'Internet': 452,\n",
              " 'InvestmentBanking': 49,\n",
              " 'Law': 251,\n",
              " 'LawEnforcement-Security': 67,\n",
              " 'Leo': 1560,\n",
              " 'Libra': 1801,\n",
              " 'Manufacturing': 74,\n",
              " 'Maritime': 11,\n",
              " 'Marketing': 134,\n",
              " 'Military': 83,\n",
              " 'Museums-Libraries': 95,\n",
              " 'Non-Profit': 441,\n",
              " 'Pisces': 1536,\n",
              " 'Publishing': 215,\n",
              " 'RealEstate': 87,\n",
              " 'Religion': 161,\n",
              " 'Sagittarius': 1491,\n",
              " 'Science': 237,\n",
              " 'Scorpio': 1676,\n",
              " 'Sports-Recreation': 85,\n",
              " 'Student': 4594,\n",
              " 'Taurus': 1918,\n",
              " 'Technology': 1215,\n",
              " 'Telecommunications': 102,\n",
              " 'Tourism': 53,\n",
              " 'Transportation': 57,\n",
              " 'Virgo': 1748,\n",
              " 'female': 9758,\n",
              " 'indUnk': 7310,\n",
              " 'male': 10242}"
            ]
          },
          "metadata": {},
          "execution_count": 229
        }
      ]
    },
    {
      "cell_type": "code",
      "metadata": {
        "id": "mP2mQZA2W1r0"
      },
      "source": [
        "mlb = MultiLabelBinarizer(classes=sorted(label_counts))"
      ],
      "execution_count": 230,
      "outputs": []
    },
    {
      "cell_type": "code",
      "metadata": {
        "colab": {
          "base_uri": "https://localhost:8080/"
        },
        "id": "uOFO43RoXcnZ",
        "outputId": "11a215f9-f383-4f47-c742-21dc7d2da6de"
      },
      "source": [
        "y_train[1]"
      ],
      "execution_count": 231,
      "outputs": [
        {
          "output_type": "execute_result",
          "data": {
            "text/plain": [
              "['male', '15', 'Technology', 'Aries']"
            ]
          },
          "metadata": {},
          "execution_count": 231
        }
      ]
    },
    {
      "cell_type": "code",
      "metadata": {
        "id": "7hHpIrLhW1oP"
      },
      "source": [
        "y_train_mlb = mlb.fit_transform(y_train)"
      ],
      "execution_count": 232,
      "outputs": []
    },
    {
      "cell_type": "code",
      "metadata": {
        "colab": {
          "base_uri": "https://localhost:8080/"
        },
        "id": "2ci2rQA-W1mX",
        "outputId": "b9c50a26-c4cf-4f12-9cd9-7be71d7afe34"
      },
      "source": [
        "print(y_train_mlb[1])"
      ],
      "execution_count": 233,
      "outputs": [
        {
          "output_type": "stream",
          "text": [
            "[0 0 0 0 0 0 0 0 1 0 0 0 0 0 0 0 0 0 0 0 0 0 0 0 0 0 0 0 0 0 0 0 0 0 0 0 0\n",
            " 0 0 0 0 0 0 0 0 0 0 0 0 0 0 0 0 0 0 0 0 0 0 0 0 0 0 0 0 0 0 0 1 0 0 0 0 0\n",
            " 0 0 0 0 1 1]\n"
          ],
          "name": "stdout"
        }
      ]
    },
    {
      "cell_type": "code",
      "metadata": {
        "colab": {
          "base_uri": "https://localhost:8080/"
        },
        "id": "_48hzvDgW1jV",
        "outputId": "ea22554d-e626-432a-b53b-357cc064389d"
      },
      "source": [
        "y_test_mlb = mlb.transform(y_test)\n",
        "print(y_test_mlb[1])"
      ],
      "execution_count": 234,
      "outputs": [
        {
          "output_type": "stream",
          "text": [
            "[0 0 0 0 0 0 0 0 0 0 0 1 0 0 0 0 0 0 0 0 0 0 0 0 0 0 0 0 0 0 0 0 0 0 0 0 0\n",
            " 1 0 0 0 0 0 0 0 0 0 0 0 0 0 0 0 0 0 0 0 0 0 0 0 0 0 0 0 0 0 0 0 0 0 0 0 0\n",
            " 0 0 0 1 1 0]\n"
          ],
          "name": "stdout"
        }
      ]
    },
    {
      "cell_type": "markdown",
      "metadata": {
        "id": "EmdvRhnpnxxH"
      },
      "source": [
        "## 3. Design, train, tune and test the best text classifier"
      ]
    },
    {
      "cell_type": "code",
      "metadata": {
        "id": "3wSTyre-oPZT"
      },
      "source": [
        "# Importing necessary library\n",
        "from sklearn.linear_model import LogisticRegression\n",
        "from sklearn.pipeline import Pipeline\n",
        "from sklearn.metrics import accuracy_score, f1_score, precision_score, recall_score, average_precision_score\n",
        "from sklearn.multiclass import OneVsRestClassifier\n",
        "from sklearn.svm import SVC, LinearSVC\n",
        "from sklearn.ensemble import GradientBoostingClassifier"
      ],
      "execution_count": 235,
      "outputs": []
    },
    {
      "cell_type": "code",
      "metadata": {
        "id": "FjAVMuNYZ7xT"
      },
      "source": [
        "# Logistic Regression with OnevsRest classifier\n",
        "lr = LogisticRegression(class_weight='balanced',max_iter=500)\n",
        "lr_ovr = OneVsRestClassifier(lr)\n",
        "classifier = lr_ovr.fit(X_train_tf, y_train_mlb)"
      ],
      "execution_count": 236,
      "outputs": []
    },
    {
      "cell_type": "code",
      "metadata": {
        "id": "g3TcOFUP9yoN",
        "colab": {
          "base_uri": "https://localhost:8080/"
        },
        "outputId": "19351896-57cb-4af4-f9fc-43055541e619"
      },
      "source": [
        "ytrain_pred = classifier.predict(X_train_tf)\n",
        "# Accuracy on test data\n",
        "print('Accuracy score:', accuracy_score(y_train_mlb, ytrain_pred))"
      ],
      "execution_count": 237,
      "outputs": [
        {
          "output_type": "stream",
          "text": [
            "Accuracy score: 0.26707142857142857\n"
          ],
          "name": "stdout"
        }
      ]
    },
    {
      "cell_type": "code",
      "metadata": {
        "colab": {
          "base_uri": "https://localhost:8080/"
        },
        "id": "_RT9xeoDbG1c",
        "outputId": "558b0f0b-391e-4aec-d2c3-ce11f60e45c7"
      },
      "source": [
        "ytest_pred = classifier.predict(X_test_tf)\n",
        "# Accuracy on test data\n",
        "print('Accuracy score:', accuracy_score(y_test_mlb, ytest_pred))"
      ],
      "execution_count": 238,
      "outputs": [
        {
          "output_type": "stream",
          "text": [
            "Accuracy score: 0.006333333333333333\n"
          ],
          "name": "stdout"
        }
      ]
    },
    {
      "cell_type": "markdown",
      "metadata": {
        "id": "pVdRKPN_76mh"
      },
      "source": [
        "# Q4. Display and explain detail the classification report"
      ]
    },
    {
      "cell_type": "code",
      "metadata": {
        "id": "rh_k2nbr8RAi"
      },
      "source": [
        "# Defining a function to evaluate the classification report\n",
        "def print_classification(y_test, y_pred):\n",
        "  print('Accuracy score:', accuracy_score(y_test, y_pred))\n",
        "  print('Average Precision score', average_precision_score(y_test, y_pred, average='micro'))\n",
        "  print('Recall score', recall_score(y_test, y_pred, average='micro'))\n",
        "  print('F1 score: ', f1_score(y_test, y_pred, average='micro'))"
      ],
      "execution_count": 239,
      "outputs": []
    },
    {
      "cell_type": "code",
      "metadata": {
        "colab": {
          "base_uri": "https://localhost:8080/"
        },
        "id": "1kYGkey4-GsB",
        "outputId": "d0652db6-d320-4957-ef1a-deb8c1346687"
      },
      "source": [
        "print_classification(y_test_mlb, ytest_pred)"
      ],
      "execution_count": 240,
      "outputs": [
        {
          "output_type": "stream",
          "text": [
            "Accuracy score: 0.006333333333333333\n",
            "Average Precision score 0.1309413492512624\n",
            "Recall score 0.3425416666666667\n",
            "F1 score:  0.3119036327421038\n"
          ],
          "name": "stdout"
        }
      ]
    },
    {
      "cell_type": "markdown",
      "metadata": {
        "id": "mEGZMZFw7z8C"
      },
      "source": [
        "Precision is the ratio of true positives to the sum of true and false positives which is 7% here.\n",
        "\n",
        "Recall is ratio of true positives to the sum of true positives and false negatives which is slightly good 55%.\n",
        "\n",
        "The F1 score is a weighted harmonic mean of precision and recall. Here I F1 score should be used to compare classifier models which is 15%.\n",
        "\n",
        "I have lots of technique to clean the data but the data is very complecated."
      ]
    },
    {
      "cell_type": "code",
      "metadata": {
        "id": "ine8bY8Um-n7"
      },
      "source": [
        "# Linear SCV with One vs Rest Classifier\n",
        "lsvc = LinearSVC(class_weight='balanced', random_state=1, C=0.1)\n",
        "ovr_lsvc = OneVsRestClassifier(lsvc)"
      ],
      "execution_count": 241,
      "outputs": []
    },
    {
      "cell_type": "code",
      "metadata": {
        "id": "ND2kxlwpSHvk"
      },
      "source": [
        "clf = ovr_lsvc.fit(X_train_tf, y_train_mlb)"
      ],
      "execution_count": 242,
      "outputs": []
    },
    {
      "cell_type": "code",
      "metadata": {
        "colab": {
          "base_uri": "https://localhost:8080/"
        },
        "id": "S6mZBto1SNLN",
        "outputId": "c6a9a860-defe-4a4d-cdd9-7c5d96d17812"
      },
      "source": [
        "ytest_pred = clf.predict(X_test_tf)\n",
        "# Accuracy on test data\n",
        "print('Accuracy score:', accuracy_score(y_test_mlb, ytest_pred))"
      ],
      "execution_count": 243,
      "outputs": [
        {
          "output_type": "stream",
          "text": [
            "Accuracy score: 0.006\n"
          ],
          "name": "stdout"
        }
      ]
    },
    {
      "cell_type": "code",
      "metadata": {
        "colab": {
          "base_uri": "https://localhost:8080/"
        },
        "id": "1dGN2ZaB_Quu",
        "outputId": "48c774af-c475-4d6b-967e-bcdc1fa2d9bd"
      },
      "source": [
        "# Defining a function to evaluate the classification report\n",
        "print_classification(y_test_mlb, ytest_pred)"
      ],
      "execution_count": 244,
      "outputs": [
        {
          "output_type": "stream",
          "text": [
            "Accuracy score: 0.006\n",
            "Average Precision score 0.1307949293332874\n",
            "Recall score 0.3443333333333333\n",
            "F1 score:  0.3116550072596308\n"
          ],
          "name": "stdout"
        }
      ]
    },
    {
      "cell_type": "markdown",
      "metadata": {
        "id": "v1v60c0V-Bi1"
      },
      "source": [
        "Precision is the ratio of true positives to the sum of true and false positives which is 12% here.\n",
        "\n",
        "Recall is ratio of true positives to the sum of true positives and false negatives which is slightly good 38%.\n",
        "\n",
        "The F1 score is a weighted harmonic mean of precision and recall. Here I F1 score should be used to compare classifier models which is 28%.\n",
        "\n",
        "I have lots of technique to clean the data but the data is very complecated."
      ]
    },
    {
      "cell_type": "markdown",
      "metadata": {
        "id": "N4uu8Mo-D1FV"
      },
      "source": [
        "# Q5. Print the true vs predicted labels for any 5 entries from the dataset"
      ]
    },
    {
      "cell_type": "code",
      "metadata": {
        "id": "5ZvXIZ3uMJfR"
      },
      "source": [
        "# Defining a function to clean the text\n",
        "def clean_text(text):\n",
        "    text = re.sub(\"\\'\", \"\", text) \n",
        "    text = re.sub(\"[^a-zA-Z]\",\" \",text) \n",
        "    text = ' '.join(text.split()) \n",
        "    text = text.lower() \n",
        "    return text"
      ],
      "execution_count": 245,
      "outputs": []
    },
    {
      "cell_type": "code",
      "metadata": {
        "id": "pPWh9DRugrVz"
      },
      "source": [
        "# remove stopwords, vetorization and label transformation\n",
        "def infer_tags(text):\n",
        "    text = clean_text(text)\n",
        "    text = remove_stopwords(text)\n",
        "    text_vec = tfidf.transform([text])\n",
        "    text_pred = classifier.predict(text_vec)\n",
        "    return mlb.inverse_transform(text_pred)"
      ],
      "execution_count": 246,
      "outputs": []
    },
    {
      "cell_type": "code",
      "metadata": {
        "colab": {
          "base_uri": "https://localhost:8080/"
        },
        "id": "oQD2tFWNYXZd",
        "outputId": "63570286-2fd6-4921-cda5-f1ffa97919d6"
      },
      "source": [
        "# Printing 5 prediction\n",
        "for i in range(5):\n",
        "  num = X_test.sample(1).index[0]\n",
        "  print('Actual label', ds['target'][num])\n",
        "  print('Model predicted', infer_tags(X_test[num]))\n",
        "  print('\\n')"
      ],
      "execution_count": 247,
      "outputs": [
        {
          "output_type": "stream",
          "text": [
            "Actual label ['male', '41', 'Technology', 'Scorpio']\n",
            "Model predicted [('27', 'Cancer', 'Pisces', 'female')]\n",
            "\n",
            "\n",
            "Actual label ['female', '25', 'indUnk', 'Gemini']\n",
            "Model predicted [('male',)]\n",
            "\n",
            "\n",
            "Actual label ['female', '17', 'indUnk', 'Taurus']\n",
            "Model predicted [('17', '23', 'Government', 'Libra', 'male')]\n",
            "\n",
            "\n",
            "Actual label ['male', '23', 'Student', 'Virgo']\n",
            "Model predicted [('23', '26', 'Arts', 'Libra', 'Non-Profit', 'female')]\n",
            "\n",
            "\n",
            "Actual label ['female', '13', 'indUnk', 'Leo']\n",
            "Model predicted [('Arts', 'Gemini', 'Non-Profit', 'female')]\n",
            "\n",
            "\n"
          ],
          "name": "stdout"
        }
      ]
    },
    {
      "cell_type": "markdown",
      "metadata": {
        "id": "eRkldx5JOacv"
      },
      "source": [
        "**After multiple hyperparameter tuning 31% f1 score is achieved.\n",
        "the model is giving better accuracy on the test data**\n",
        "\n",
        "**The other option to improve the f1 score is build the model seperately for each class and compare the reslt**"
      ]
    },
    {
      "cell_type": "markdown",
      "metadata": {
        "id": "MOjTmSoDQS8n"
      },
      "source": [
        "## Build the Tokenizer using tensorflow and keras"
      ]
    },
    {
      "cell_type": "code",
      "metadata": {
        "id": "qWQ4fMh2RgDm"
      },
      "source": [
        "import tensorflow as tf"
      ],
      "execution_count": 172,
      "outputs": []
    },
    {
      "cell_type": "code",
      "metadata": {
        "id": "5joT7-xCRkUg"
      },
      "source": [
        "desired_vocab_size = 5000 # Vocablury size\n",
        "t = tf.keras.preprocessing.text.Tokenizer(num_words=desired_vocab_size, oov_token='OOV')"
      ],
      "execution_count": 250,
      "outputs": []
    },
    {
      "cell_type": "code",
      "metadata": {
        "id": "_xCVvJfPSU3q"
      },
      "source": [
        "#Fit tokenizer with actual training data\n",
        "t.fit_on_texts(X_train.tolist())"
      ],
      "execution_count": 251,
      "outputs": []
    },
    {
      "cell_type": "code",
      "metadata": {
        "id": "-RI4z2y-SfPP"
      },
      "source": [
        "# t.index_word # Vocablury"
      ],
      "execution_count": 252,
      "outputs": []
    },
    {
      "cell_type": "markdown",
      "metadata": {
        "id": "UMs0GfVBS4e3"
      },
      "source": [
        "#### Prepare Training and Test Data"
      ]
    },
    {
      "cell_type": "code",
      "metadata": {
        "colab": {
          "base_uri": "https://localhost:8080/"
        },
        "id": "6UECIdSYTOAM",
        "outputId": "a7da9e2e-3f24-4937-bb1f-712330168256"
      },
      "source": [
        "print(X_train[1]) # Before Tokenization"
      ],
      "execution_count": 253,
      "outputs": [
        {
          "output_type": "stream",
          "text": [
            " oiciay clest fucking day ever blake brother ashley suivan went dixon res fish hour decide walk keys mile reay walk walked acro strt front lives open front time get driveway think sorta kinda suprised turn blake insane maybe blake fishing puing fun though kel wish could come would loved insanity also friday plan camping horsetth capacity\n"
          ],
          "name": "stdout"
        }
      ]
    },
    {
      "cell_type": "code",
      "metadata": {
        "id": "kJobrb3hTkf9"
      },
      "source": [
        "X_train = t.texts_to_sequences(X_train)"
      ],
      "execution_count": 254,
      "outputs": []
    },
    {
      "cell_type": "code",
      "metadata": {
        "colab": {
          "base_uri": "https://localhost:8080/"
        },
        "id": "Olde_v1iTxDr",
        "outputId": "29473130-81df-4404-dce4-073931a1c194"
      },
      "source": [
        "print(X_train[0]) # After Tokenization"
      ],
      "execution_count": 255,
      "outputs": [
        {
          "output_type": "stream",
          "text": [
            "[262, 88, 147, 20, 10, 519, 54, 11, 149, 54, 1383, 1, 1316, 13, 236, 90, 1335, 837, 109, 3565, 196, 12, 282, 121, 1229, 168, 2827, 1, 109, 2702, 1522, 1, 54, 1310, 121, 1]\n"
          ],
          "name": "stdout"
        }
      ]
    },
    {
      "cell_type": "code",
      "metadata": {
        "colab": {
          "base_uri": "https://localhost:8080/"
        },
        "id": "EaidDf22T_EU",
        "outputId": "33d655a1-6513-49cc-eb64-2d5a447bd9fe"
      },
      "source": [
        "X_test = t.texts_to_sequences(X_test)\n",
        "print(X_test[0])"
      ],
      "execution_count": 256,
      "outputs": [
        {
          "output_type": "stream",
          "text": [
            "[409, 70, 226, 4999, 456, 859, 78, 42, 227, 1075, 282, 313, 428, 79, 7, 10]\n"
          ],
          "name": "stdout"
        }
      ]
    },
    {
      "cell_type": "markdown",
      "metadata": {
        "id": "1iNRHU_DUWhg"
      },
      "source": [
        "### Pad Sequences - for Train and Test"
      ]
    },
    {
      "cell_type": "code",
      "metadata": {
        "id": "SYtmxLI0UttS"
      },
      "source": [
        "#Define maximum number of words to consider in each text\n",
        "max_review_length = 50"
      ],
      "execution_count": 257,
      "outputs": []
    },
    {
      "cell_type": "code",
      "metadata": {
        "id": "vLyTSchxU3au"
      },
      "source": [
        "#Pad training text\n",
        "X_train = tf.keras.preprocessing.sequence.pad_sequences(X_train, maxlen=max_review_length, padding='pre', truncating='post')\n",
        "#Pad test text\n",
        "X_test = tf.keras.preprocessing.sequence.pad_sequences(X_test, maxlen=max_review_length, padding='pre', truncating='post')"
      ],
      "execution_count": 258,
      "outputs": []
    },
    {
      "cell_type": "code",
      "metadata": {
        "colab": {
          "base_uri": "https://localhost:8080/"
        },
        "id": "1i-5GyTqVldh",
        "outputId": "2ab4630f-1bb8-484a-a876-08be2e559060"
      },
      "source": [
        "print(X_train.shape)\n",
        "print(X_test.shape)"
      ],
      "execution_count": 259,
      "outputs": [
        {
          "output_type": "stream",
          "text": [
            "(14000, 50)\n",
            "(6000, 50)\n"
          ],
          "name": "stdout"
        }
      ]
    },
    {
      "cell_type": "code",
      "metadata": {
        "colab": {
          "base_uri": "https://localhost:8080/"
        },
        "id": "KkgJB3a8Vtne",
        "outputId": "44f1c15d-4c5a-4708-8740-91e664899afa"
      },
      "source": [
        "# Random visualizatiom after padding\n",
        "num = np.random.randint(0, X_train.shape[0])\n",
        "print(X_train[num])"
      ],
      "execution_count": 260,
      "outputs": [
        {
          "output_type": "stream",
          "text": [
            "[   0    0    0    0    0    0    0    0    0    0    0    0    0    0\n",
            "    0    0    0    0    0    0    0    0  156    9   73  108   29   39\n",
            "  137  280   16    8 4615    1  637  435   10 3697 1570 3822    1 1886\n",
            " 3287    1   60 1167    1 3261   74  108]\n"
          ],
          "name": "stdout"
        }
      ]
    },
    {
      "cell_type": "markdown",
      "metadata": {
        "id": "cMULFrmKV4eW"
      },
      "source": [
        "## Loading Glove Word2Vec model for Embedding"
      ]
    },
    {
      "cell_type": "code",
      "metadata": {
        "id": "piIbPoSBSGkm"
      },
      "source": [
        "import gensim.downloader as api"
      ],
      "execution_count": 261,
      "outputs": []
    },
    {
      "cell_type": "code",
      "metadata": {
        "id": "jz2SLcxtSNy7"
      },
      "source": [
        "#Load Glove model (similar to Word2Vec)\n",
        "glove_model = api.load('glove-wiki-gigaword-50')"
      ],
      "execution_count": 262,
      "outputs": []
    },
    {
      "cell_type": "code",
      "metadata": {
        "id": "Zw2yPsfWGXvs"
      },
      "source": [
        "# glove_model.save('glove-wiki-gigaword-50.txt')"
      ],
      "execution_count": 263,
      "outputs": []
    },
    {
      "cell_type": "code",
      "metadata": {
        "id": "AKW8YoTiW66Z"
      },
      "source": [
        "# # Loading the saved model\n",
        "# import warnings\n",
        "# warnings.filterwarnings('ignore')\n",
        "# from sklearn.externals import joblib\n",
        "# filename = '/content/drive/MyDrive/AIML/NLP/Project/glove-wiki-gigaword-100.txt.vectors.npy'"
      ],
      "execution_count": null,
      "outputs": []
    },
    {
      "cell_type": "code",
      "metadata": {
        "id": "6TSkarSSXEXM"
      },
      "source": [
        "# glove_model = joblib.load(filename)"
      ],
      "execution_count": null,
      "outputs": []
    },
    {
      "cell_type": "code",
      "metadata": {
        "colab": {
          "base_uri": "https://localhost:8080/"
        },
        "id": "kPCTXdg9Xrzr",
        "outputId": "018e9f7d-042d-4fb5-d79b-0d8a548c0f06"
      },
      "source": [
        "# Top 10 similler and embedding for word education from pre trained model\n",
        "glove_model.most_similar('brother')"
      ],
      "execution_count": 265,
      "outputs": [
        {
          "output_type": "execute_result",
          "data": {
            "text/plain": [
              "[('son', 0.9449328184127808),\n",
              " ('cousin', 0.9340511560440063),\n",
              " ('father', 0.9322627782821655),\n",
              " ('nephew', 0.9301478266716003),\n",
              " ('uncle', 0.9147958755493164),\n",
              " ('friend', 0.8713178634643555),\n",
              " ('elder', 0.8581331968307495),\n",
              " ('grandson', 0.8516242504119873),\n",
              " ('sons', 0.8418696522712708),\n",
              " ('grandfather', 0.8392235040664673)]"
            ]
          },
          "metadata": {},
          "execution_count": 265
        }
      ]
    },
    {
      "cell_type": "code",
      "metadata": {
        "colab": {
          "base_uri": "https://localhost:8080/"
        },
        "id": "mcEBdfHSYjm-",
        "outputId": "eb10f02d-3f43-4551-f6ff-d9493445ba6b"
      },
      "source": [
        "# Size of the model\n",
        "glove_model.vectors.shape"
      ],
      "execution_count": 266,
      "outputs": [
        {
          "output_type": "execute_result",
          "data": {
            "text/plain": [
              "(400000, 50)"
            ]
          },
          "metadata": {},
          "execution_count": 266
        }
      ]
    },
    {
      "cell_type": "code",
      "metadata": {
        "id": "MWmB8xC-ZhX_"
      },
      "source": [
        "# #Model's vocab\n",
        "# glove_model.index2word"
      ],
      "execution_count": 267,
      "outputs": []
    },
    {
      "cell_type": "markdown",
      "metadata": {
        "id": "HtqgnhaTZx74"
      },
      "source": [
        "### Getting Pre-trained Embeddings"
      ]
    },
    {
      "cell_type": "code",
      "metadata": {
        "colab": {
          "base_uri": "https://localhost:8080/"
        },
        "id": "ZzRYOmiVaJs5",
        "outputId": "74c16ab3-8904-4710-efc7-aec3fbdce089"
      },
      "source": [
        "embedding_vector_lenght = glove_model.vector_size\n",
        "embedding_vector_lenght"
      ],
      "execution_count": 268,
      "outputs": [
        {
          "output_type": "execute_result",
          "data": {
            "text/plain": [
              "50"
            ]
          },
          "metadata": {},
          "execution_count": 268
        }
      ]
    },
    {
      "cell_type": "code",
      "metadata": {
        "id": "yYq3DazPaSKK"
      },
      "source": [
        "#Initialize embedding matrix for our dataset with 5000+1 rows (1 for padding word)\n",
        "#and 100 columns (as embedding size is 100)\n",
        "\n",
        "embedding_matrix = np.zeros((desired_vocab_size+1, embedding_vector_lenght))"
      ],
      "execution_count": 269,
      "outputs": []
    },
    {
      "cell_type": "code",
      "metadata": {
        "colab": {
          "base_uri": "https://localhost:8080/"
        },
        "id": "M3tPPr1APwxg",
        "outputId": "e3d47385-e180-479c-a39e-b48538050cd2"
      },
      "source": [
        "embedding_matrix.shape"
      ],
      "execution_count": 270,
      "outputs": [
        {
          "output_type": "execute_result",
          "data": {
            "text/plain": [
              "(5001, 50)"
            ]
          },
          "metadata": {},
          "execution_count": 270
        }
      ]
    },
    {
      "cell_type": "code",
      "metadata": {
        "colab": {
          "base_uri": "https://localhost:8080/"
        },
        "id": "dE-AxLz9aT50",
        "outputId": "c322693d-5cf7-4e0f-920a-083363c18877"
      },
      "source": [
        "embedding_matrix[0]"
      ],
      "execution_count": 271,
      "outputs": [
        {
          "output_type": "execute_result",
          "data": {
            "text/plain": [
              "array([0., 0., 0., 0., 0., 0., 0., 0., 0., 0., 0., 0., 0., 0., 0., 0., 0.,\n",
              "       0., 0., 0., 0., 0., 0., 0., 0., 0., 0., 0., 0., 0., 0., 0., 0., 0.,\n",
              "       0., 0., 0., 0., 0., 0., 0., 0., 0., 0., 0., 0., 0., 0., 0., 0.])"
            ]
          },
          "metadata": {},
          "execution_count": 271
        }
      ]
    },
    {
      "cell_type": "code",
      "metadata": {
        "id": "1JDskfBoasVj"
      },
      "source": [
        "#Loading word vectors for each word from glove Word2Vec model\n",
        "for word, i in sorted(t.word_index.items(), key= lambda x: x[1]):\n",
        "  if i > desired_vocab_size+1:\n",
        "    break\n",
        "  try:\n",
        "    embedding_vector = glove_model[word] # Reading word embedding from glove model\n",
        "    embedding_matrix[i] = embedding_vector\n",
        "  except:\n",
        "    pass"
      ],
      "execution_count": 272,
      "outputs": []
    },
    {
      "cell_type": "code",
      "metadata": {
        "colab": {
          "base_uri": "https://localhost:8080/"
        },
        "id": "tojd1bE2bqNN",
        "outputId": "64fcd1a0-3b5a-4fa3-eed8-fa1c6ad118b3"
      },
      "source": [
        "# Random visualizatiom after embedding\n",
        "num = np.random.randint(0, embedding_matrix.shape[0])\n",
        "print(embedding_matrix[num])"
      ],
      "execution_count": 273,
      "outputs": [
        {
          "output_type": "stream",
          "text": [
            "[ 0.099114   -0.26446     0.99615997 -0.13026001 -0.48561001  1.59379995\n",
            "  0.37364     0.099604   -2.06040001 -1.09909999  0.21199    -1.14209998\n",
            " -0.68616003  0.51450998 -1.00020003  0.15093     0.30307001  0.13790999\n",
            "  0.47323999  0.012662   -0.53834999 -0.78587002  0.16001     0.16743\n",
            "  0.25720999 -0.55347002 -0.079843   -0.10205    -1.58490002  0.93028998\n",
            "  0.75174999  1.07369995 -0.64042997  0.34994    -1.11150002 -1.02530003\n",
            " -0.23021001  0.96091002  0.78376001 -0.19215     0.049719   -0.23623\n",
            " -0.88006002 -0.27677    -0.33320999  0.043999   -0.74900001  0.32596001\n",
            "  0.84811002  0.041835  ]\n"
          ],
          "name": "stdout"
        }
      ]
    },
    {
      "cell_type": "code",
      "metadata": {
        "colab": {
          "base_uri": "https://localhost:8080/"
        },
        "id": "kjkxM8avb9vC",
        "outputId": "428fa7c9-1bcd-4859-c563-27e9d9ce02aa"
      },
      "source": [
        "# Shape of the embedding matrix \n",
        "embedding_matrix.shape"
      ],
      "execution_count": 274,
      "outputs": [
        {
          "output_type": "execute_result",
          "data": {
            "text/plain": [
              "(5001, 50)"
            ]
          },
          "metadata": {},
          "execution_count": 274
        }
      ]
    },
    {
      "cell_type": "code",
      "metadata": {
        "colab": {
          "base_uri": "https://localhost:8080/"
        },
        "id": "iL-DAhjlVeRy",
        "outputId": "1f49f6bd-4786-4ef7-c444-1d4f39b31ca8"
      },
      "source": [
        "print(y_train_mlb.shape)"
      ],
      "execution_count": 275,
      "outputs": [
        {
          "output_type": "stream",
          "text": [
            "(14000, 80)\n"
          ],
          "name": "stdout"
        }
      ]
    },
    {
      "cell_type": "markdown",
      "metadata": {
        "id": "s_HQc-okfuYH"
      },
      "source": [
        "## Build Model - Dense Layers"
      ]
    },
    {
      "cell_type": "code",
      "metadata": {
        "id": "34ZESRXsf_ZP"
      },
      "source": [
        "# Initializing the model\n",
        "tf.keras.backend.clear_session()\n",
        "model = tf.keras.Sequential()"
      ],
      "execution_count": 276,
      "outputs": []
    },
    {
      "cell_type": "code",
      "metadata": {
        "id": "iZWjCT22gRqs"
      },
      "source": [
        "# Embedding layer\n",
        "model.add(tf.keras.layers.Embedding(desired_vocab_size + 1, #Vocablury size\n",
        "                                    embedding_vector_lenght, #Embedding size\n",
        "                                    weights=[embedding_matrix], #Embeddings taken from pre-trained model\n",
        "                                    trainable=False, #As embeddings are already available, we will not train this layer. It will act as lookup layer.\n",
        "                                    input_length=max_review_length) #Number of words in each review\n",
        "          )"
      ],
      "execution_count": 277,
      "outputs": []
    },
    {
      "cell_type": "code",
      "metadata": {
        "colab": {
          "base_uri": "https://localhost:8080/"
        },
        "id": "e9zKLwn_ivpe",
        "outputId": "11521a37-6f65-4dd6-e3f2-d90a0bcd1144"
      },
      "source": [
        "model.output"
      ],
      "execution_count": 278,
      "outputs": [
        {
          "output_type": "execute_result",
          "data": {
            "text/plain": [
              "<KerasTensor: shape=(None, 50, 50) dtype=float32 (created by layer 'embedding')>"
            ]
          },
          "metadata": {},
          "execution_count": 278
        }
      ]
    },
    {
      "cell_type": "code",
      "metadata": {
        "id": "s13etCk3jKgT"
      },
      "source": [
        "# LSTM 1\n",
        "model.add(tf.keras.layers.Dropout(0.5))\n",
        "model.add(tf.keras.layers.Bidirectional(tf.keras.layers.LSTM(50)))"
      ],
      "execution_count": 279,
      "outputs": []
    },
    {
      "cell_type": "code",
      "metadata": {
        "colab": {
          "base_uri": "https://localhost:8080/"
        },
        "id": "ZHWVupYEaUdo",
        "outputId": "c896b5d0-ad96-49b4-b9ae-78641d9bfd50"
      },
      "source": [
        "model.output"
      ],
      "execution_count": 280,
      "outputs": [
        {
          "output_type": "execute_result",
          "data": {
            "text/plain": [
              "<KerasTensor: shape=(None, 100) dtype=float32 (created by layer 'bidirectional')>"
            ]
          },
          "metadata": {},
          "execution_count": 280
        }
      ]
    },
    {
      "cell_type": "code",
      "metadata": {
        "id": "1d0seRZ47E_G"
      },
      "source": [
        "# Dropout\n",
        "model.add(tf.keras.layers.Dropout(0.5))"
      ],
      "execution_count": 281,
      "outputs": []
    },
    {
      "cell_type": "code",
      "metadata": {
        "colab": {
          "base_uri": "https://localhost:8080/"
        },
        "id": "x1MOZET_qF7Y",
        "outputId": "53c4ac6d-f998-45d1-d527-b5b667899be6"
      },
      "source": [
        "model.output"
      ],
      "execution_count": 282,
      "outputs": [
        {
          "output_type": "execute_result",
          "data": {
            "text/plain": [
              "<KerasTensor: shape=(None, 100) dtype=float32 (created by layer 'dropout_1')>"
            ]
          },
          "metadata": {},
          "execution_count": 282
        }
      ]
    },
    {
      "cell_type": "code",
      "metadata": {
        "id": "9_49K-0HgeXG"
      },
      "source": [
        "model.add(tf.keras.layers.Dense(80, activation='sigmoid'))"
      ],
      "execution_count": 283,
      "outputs": []
    },
    {
      "cell_type": "code",
      "metadata": {
        "colab": {
          "base_uri": "https://localhost:8080/"
        },
        "id": "0nBIohCtEMBy",
        "outputId": "1ef7ac09-0e65-495a-c4fc-2268896288d9"
      },
      "source": [
        "model.summary()"
      ],
      "execution_count": 284,
      "outputs": [
        {
          "output_type": "stream",
          "text": [
            "Model: \"sequential\"\n",
            "_________________________________________________________________\n",
            "Layer (type)                 Output Shape              Param #   \n",
            "=================================================================\n",
            "embedding (Embedding)        (None, 50, 50)            250050    \n",
            "_________________________________________________________________\n",
            "dropout (Dropout)            (None, 50, 50)            0         \n",
            "_________________________________________________________________\n",
            "bidirectional (Bidirectional (None, 100)               40400     \n",
            "_________________________________________________________________\n",
            "dropout_1 (Dropout)          (None, 100)               0         \n",
            "_________________________________________________________________\n",
            "dense (Dense)                (None, 80)                8080      \n",
            "=================================================================\n",
            "Total params: 298,530\n",
            "Trainable params: 48,480\n",
            "Non-trainable params: 250,050\n",
            "_________________________________________________________________\n"
          ],
          "name": "stdout"
        }
      ]
    },
    {
      "cell_type": "code",
      "metadata": {
        "id": "nQkNOEwKFWv0"
      },
      "source": [
        "early =  tf.keras.callbacks.EarlyStopping(monitor='val_loss', patience=5, verbose=1, min_delta=0.0001, mode='auto')\n",
        "reduce_learning = tf.keras.callbacks.ReduceLROnPlateau(patience=5, verbose=1, min_lr=1e-6)\n",
        "claaback_list = [early, reduce_learning]"
      ],
      "execution_count": 285,
      "outputs": []
    },
    {
      "cell_type": "code",
      "metadata": {
        "id": "BDcKMMviEP_6"
      },
      "source": [
        "model.compile(optimizer='adam', loss='binary_crossentropy', metrics=['accuracy'])"
      ],
      "execution_count": 286,
      "outputs": []
    },
    {
      "cell_type": "code",
      "metadata": {
        "colab": {
          "base_uri": "https://localhost:8080/"
        },
        "id": "-wUp_4mzJztr",
        "outputId": "667433d7-2d0f-4c9e-8c3b-91a7ac554abc"
      },
      "source": [
        "model.fit(X_train, y_train_mlb, epochs=50, validation_data=(X_test, y_test_mlb), batch_size=32)"
      ],
      "execution_count": 287,
      "outputs": [
        {
          "metadata": {
            "tags": null
          },
          "name": "stdout",
          "output_type": "stream",
          "text": [
            "Epoch 1/50\n",
            "438/438 [==============================] - 24s 37ms/step - loss: 0.1881 - accuracy: 0.0014 - val_loss: 0.1465 - val_accuracy: 0.0000e+00\n",
            "Epoch 2/50\n",
            "438/438 [==============================] - 15s 35ms/step - loss: 0.1513 - accuracy: 0.0000e+00 - val_loss: 0.1462 - val_accuracy: 0.0000e+00\n",
            "Epoch 3/50\n",
            "438/438 [==============================] - 15s 35ms/step - loss: 0.1497 - accuracy: 0.0000e+00 - val_loss: 0.1459 - val_accuracy: 0.0000e+00\n",
            "Epoch 4/50\n",
            "438/438 [==============================] - 15s 35ms/step - loss: 0.1487 - accuracy: 0.0000e+00 - val_loss: 0.1452 - val_accuracy: 0.0000e+00\n",
            "Epoch 5/50\n",
            "438/438 [==============================] - 15s 35ms/step - loss: 0.1479 - accuracy: 0.0000e+00 - val_loss: 0.1450 - val_accuracy: 0.0000e+00\n",
            "Epoch 6/50\n",
            "438/438 [==============================] - 15s 35ms/step - loss: 0.1476 - accuracy: 0.0000e+00 - val_loss: 0.1447 - val_accuracy: 0.0000e+00\n",
            "Epoch 7/50\n",
            "438/438 [==============================] - 15s 34ms/step - loss: 0.1471 - accuracy: 0.0000e+00 - val_loss: 0.1445 - val_accuracy: 0.0000e+00\n",
            "Epoch 8/50\n",
            "438/438 [==============================] - 15s 34ms/step - loss: 0.1469 - accuracy: 0.0000e+00 - val_loss: 0.1443 - val_accuracy: 0.0000e+00\n",
            "Epoch 9/50\n",
            "438/438 [==============================] - 15s 34ms/step - loss: 0.1467 - accuracy: 0.0000e+00 - val_loss: 0.1446 - val_accuracy: 0.0000e+00\n",
            "Epoch 10/50\n",
            "438/438 [==============================] - 15s 34ms/step - loss: 0.1467 - accuracy: 0.0000e+00 - val_loss: 0.1442 - val_accuracy: 0.0000e+00\n",
            "Epoch 11/50\n",
            "438/438 [==============================] - 15s 34ms/step - loss: 0.1465 - accuracy: 0.0000e+00 - val_loss: 0.1443 - val_accuracy: 0.0000e+00\n",
            "Epoch 12/50\n",
            "438/438 [==============================] - 15s 34ms/step - loss: 0.1464 - accuracy: 0.0000e+00 - val_loss: 0.1441 - val_accuracy: 0.0000e+00\n",
            "Epoch 13/50\n",
            "438/438 [==============================] - 15s 34ms/step - loss: 0.1463 - accuracy: 0.0000e+00 - val_loss: 0.1442 - val_accuracy: 0.0000e+00\n",
            "Epoch 14/50\n",
            "438/438 [==============================] - 15s 34ms/step - loss: 0.1462 - accuracy: 0.0000e+00 - val_loss: 0.1441 - val_accuracy: 0.0000e+00\n",
            "Epoch 15/50\n",
            "438/438 [==============================] - 15s 34ms/step - loss: 0.1463 - accuracy: 0.0000e+00 - val_loss: 0.1439 - val_accuracy: 0.0000e+00\n",
            "Epoch 16/50\n",
            "438/438 [==============================] - 15s 34ms/step - loss: 0.1460 - accuracy: 0.0000e+00 - val_loss: 0.1438 - val_accuracy: 0.0000e+00\n",
            "Epoch 17/50\n",
            "438/438 [==============================] - 15s 34ms/step - loss: 0.1460 - accuracy: 0.0000e+00 - val_loss: 0.1439 - val_accuracy: 0.0000e+00\n",
            "Epoch 18/50\n",
            "438/438 [==============================] - 15s 34ms/step - loss: 0.1459 - accuracy: 0.0000e+00 - val_loss: 0.1439 - val_accuracy: 0.0000e+00\n",
            "Epoch 19/50\n",
            "438/438 [==============================] - 15s 34ms/step - loss: 0.1458 - accuracy: 0.0000e+00 - val_loss: 0.1437 - val_accuracy: 0.0000e+00\n",
            "Epoch 20/50\n",
            "438/438 [==============================] - 15s 34ms/step - loss: 0.1458 - accuracy: 0.0000e+00 - val_loss: 0.1437 - val_accuracy: 0.0000e+00\n",
            "Epoch 21/50\n",
            "438/438 [==============================] - 15s 34ms/step - loss: 0.1457 - accuracy: 0.0000e+00 - val_loss: 0.1437 - val_accuracy: 0.0000e+00\n",
            "Epoch 22/50\n",
            "438/438 [==============================] - 15s 34ms/step - loss: 0.1456 - accuracy: 0.0000e+00 - val_loss: 0.1437 - val_accuracy: 0.0000e+00\n",
            "Epoch 23/50\n",
            "438/438 [==============================] - 15s 34ms/step - loss: 0.1456 - accuracy: 0.0000e+00 - val_loss: 0.1437 - val_accuracy: 0.0000e+00\n",
            "Epoch 24/50\n",
            "438/438 [==============================] - 15s 34ms/step - loss: 0.1454 - accuracy: 0.0000e+00 - val_loss: 0.1441 - val_accuracy: 0.0000e+00\n",
            "Epoch 25/50\n",
            "438/438 [==============================] - 15s 34ms/step - loss: 0.1454 - accuracy: 0.0000e+00 - val_loss: 0.1438 - val_accuracy: 0.0000e+00\n",
            "Epoch 26/50\n",
            "438/438 [==============================] - 15s 34ms/step - loss: 0.1454 - accuracy: 7.1429e-05 - val_loss: 0.1435 - val_accuracy: 0.0000e+00\n",
            "Epoch 27/50\n",
            "438/438 [==============================] - 15s 34ms/step - loss: 0.1453 - accuracy: 0.0000e+00 - val_loss: 0.1434 - val_accuracy: 0.0000e+00\n",
            "Epoch 28/50\n",
            "438/438 [==============================] - 15s 34ms/step - loss: 0.1452 - accuracy: 2.1429e-04 - val_loss: 0.1435 - val_accuracy: 0.0000e+00\n",
            "Epoch 29/50\n",
            "438/438 [==============================] - 15s 34ms/step - loss: 0.1452 - accuracy: 7.1429e-05 - val_loss: 0.1434 - val_accuracy: 0.0000e+00\n",
            "Epoch 30/50\n",
            "438/438 [==============================] - 15s 34ms/step - loss: 0.1451 - accuracy: 3.5714e-04 - val_loss: 0.1436 - val_accuracy: 0.0000e+00\n",
            "Epoch 31/50\n",
            "438/438 [==============================] - 15s 34ms/step - loss: 0.1450 - accuracy: 5.0000e-04 - val_loss: 0.1434 - val_accuracy: 0.0000e+00\n",
            "Epoch 32/50\n",
            "438/438 [==============================] - 15s 34ms/step - loss: 0.1450 - accuracy: 2.1429e-04 - val_loss: 0.1434 - val_accuracy: 0.0000e+00\n",
            "Epoch 33/50\n",
            "438/438 [==============================] - 15s 34ms/step - loss: 0.1451 - accuracy: 1.4286e-04 - val_loss: 0.1436 - val_accuracy: 0.0000e+00\n",
            "Epoch 34/50\n",
            "438/438 [==============================] - 15s 34ms/step - loss: 0.1450 - accuracy: 3.5714e-04 - val_loss: 0.1435 - val_accuracy: 0.0000e+00\n",
            "Epoch 35/50\n",
            "438/438 [==============================] - 15s 34ms/step - loss: 0.1449 - accuracy: 3.5714e-04 - val_loss: 0.1433 - val_accuracy: 0.0000e+00\n",
            "Epoch 36/50\n",
            "438/438 [==============================] - 15s 34ms/step - loss: 0.1448 - accuracy: 4.2857e-04 - val_loss: 0.1433 - val_accuracy: 1.6667e-04\n",
            "Epoch 37/50\n",
            "438/438 [==============================] - 15s 34ms/step - loss: 0.1448 - accuracy: 5.0000e-04 - val_loss: 0.1434 - val_accuracy: 0.0000e+00\n",
            "Epoch 38/50\n",
            "438/438 [==============================] - 15s 33ms/step - loss: 0.1448 - accuracy: 4.2857e-04 - val_loss: 0.1432 - val_accuracy: 1.6667e-04\n",
            "Epoch 39/50\n",
            "438/438 [==============================] - 15s 33ms/step - loss: 0.1446 - accuracy: 5.7143e-04 - val_loss: 0.1435 - val_accuracy: 0.0000e+00\n",
            "Epoch 40/50\n",
            "438/438 [==============================] - 15s 34ms/step - loss: 0.1448 - accuracy: 7.8571e-04 - val_loss: 0.1433 - val_accuracy: 0.0000e+00\n",
            "Epoch 41/50\n",
            "438/438 [==============================] - 15s 34ms/step - loss: 0.1446 - accuracy: 3.5714e-04 - val_loss: 0.1434 - val_accuracy: 1.6667e-04\n",
            "Epoch 42/50\n",
            "438/438 [==============================] - 15s 33ms/step - loss: 0.1446 - accuracy: 5.0000e-04 - val_loss: 0.1435 - val_accuracy: 8.3333e-04\n",
            "Epoch 43/50\n",
            "438/438 [==============================] - 15s 34ms/step - loss: 0.1445 - accuracy: 4.2857e-04 - val_loss: 0.1432 - val_accuracy: 8.3333e-04\n",
            "Epoch 44/50\n",
            "438/438 [==============================] - 15s 34ms/step - loss: 0.1445 - accuracy: 6.4286e-04 - val_loss: 0.1434 - val_accuracy: 8.3333e-04\n",
            "Epoch 45/50\n",
            "438/438 [==============================] - 15s 34ms/step - loss: 0.1444 - accuracy: 8.5714e-04 - val_loss: 0.1435 - val_accuracy: 0.0010\n",
            "Epoch 46/50\n",
            "438/438 [==============================] - 15s 33ms/step - loss: 0.1445 - accuracy: 0.0011 - val_loss: 0.1434 - val_accuracy: 8.3333e-04\n",
            "Epoch 47/50\n",
            "438/438 [==============================] - 15s 34ms/step - loss: 0.1443 - accuracy: 6.4286e-04 - val_loss: 0.1433 - val_accuracy: 6.6667e-04\n",
            "Epoch 48/50\n",
            "438/438 [==============================] - 15s 33ms/step - loss: 0.1444 - accuracy: 5.7143e-04 - val_loss: 0.1432 - val_accuracy: 6.6667e-04\n",
            "Epoch 49/50\n",
            "438/438 [==============================] - 15s 34ms/step - loss: 0.1443 - accuracy: 6.4286e-04 - val_loss: 0.1434 - val_accuracy: 0.0010\n",
            "Epoch 50/50\n",
            "438/438 [==============================] - 15s 34ms/step - loss: 0.1444 - accuracy: 7.8571e-04 - val_loss: 0.1432 - val_accuracy: 0.0010\n"
          ]
        },
        {
          "output_type": "execute_result",
          "data": {
            "text/plain": [
              "<keras.callbacks.History at 0x7fd740f5bbd0>"
            ]
          },
          "metadata": {},
          "execution_count": 287
        }
      ]
    },
    {
      "cell_type": "markdown",
      "metadata": {
        "id": "I2wH_acnWcbH"
      },
      "source": [
        "**I tried improving model using Bidirectional LSTM but model is not able to learn.**"
      ]
    },
    {
      "cell_type": "code",
      "metadata": {
        "id": "9S-VbyQDTS5r"
      },
      "source": [
        "# Converting to html file\n",
        "!jupyter nbconvert --to html Part_2_Chatbot.ipynb"
      ],
      "execution_count": null,
      "outputs": []
    }
  ]
}