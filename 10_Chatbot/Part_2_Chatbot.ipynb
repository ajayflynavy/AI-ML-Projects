{
  "nbformat": 4,
  "nbformat_minor": 0,
  "metadata": {
    "colab": {
      "name": "Part_2_Chatbot.ipynb",
      "provenance": []
    },
    "kernelspec": {
      "name": "python3",
      "display_name": "Python 3"
    },
    "language_info": {
      "name": "python"
    }
  },
  "cells": [
    {
      "cell_type": "markdown",
      "metadata": {
        "id": "nrhz7K2WnqFc"
      },
      "source": [
        "## Project -1: Statistical NLP\n",
        "## PART 2 Chatbot\n",
        "#### By Ajay Kumar"
      ]
    },
    {
      "cell_type": "markdown",
      "metadata": {
        "id": "isQxl3N7uIn8"
      },
      "source": [
        "• DOMAIN: Customer support\n",
        "\n",
        "• CONTEXT: Great Learning has a an academic support department which receives numerous support requests every day throughout the \n",
        "year. Teams are spread across geographies and try to provide support round the year. Sometimes there are circumstances where due to \n",
        "heavy workload certain request resolutions are delayed, impacting company’s business. Some of the requests are very generic where a \n",
        "proper resolution procedure delivered to the user can solve the problem. Company is looking forward to design an automation which can \n",
        "interact with the user, understand the problem and display the resolution procedure [ if found as a generic request ] or redirect the request \n",
        "to an actual human support executive if the request is complex or not in it’s database.\n",
        "\n",
        "• DATA DESCRIPTION: A sample corpus is attached for your reference. Please enhance/add more data to the corpus using your linguistics \n",
        "skills.\n",
        "\n",
        "• PROJECT OBJECTIVE: Design a python based interactive semi - rule based chatbot which can do the following: \n",
        "\n",
        "1. Start chat session with greetings and ask what the user is looking for.\n",
        "\n",
        "2. Accept dynamic text based questions from the user. Reply back with relevant answer from the designed corpus. \n",
        "\n",
        "3. End the chat session only if the user requests to end else ask what the user is looking for. Loop continues till the user asks to end it.\n",
        "Please use the sample chatbot demo video for reference.\n",
        "\n",
        "• EVALUATION: GL evaluator will use linguistics to twist and turn sentences to ask questions on the topics described in DATA DESCRIPTION \n",
        "and check if the bot is giving relevant replies."
      ]
    },
    {
      "cell_type": "code",
      "metadata": {
        "colab": {
          "base_uri": "https://localhost:8080/"
        },
        "id": "cJrZQMQeunyV",
        "outputId": "8d3d5e45-7f13-4c84-dc9b-4982f42f4a92"
      },
      "source": [
        "# Mounting google colab\n",
        "from google.colab import drive\n",
        "drive.mount('/content/drive')"
      ],
      "execution_count": 203,
      "outputs": [
        {
          "output_type": "stream",
          "text": [
            "Drive already mounted at /content/drive; to attempt to forcibly remount, call drive.mount(\"/content/drive\", force_remount=True).\n"
          ],
          "name": "stdout"
        }
      ]
    },
    {
      "cell_type": "code",
      "metadata": {
        "id": "X6Lo9pf9wWfN"
      },
      "source": [
        "# Importing the the required library\n",
        "import pandas as pd\n",
        "import numpy as np\n",
        "import json"
      ],
      "execution_count": 204,
      "outputs": []
    },
    {
      "cell_type": "code",
      "metadata": {
        "id": "MRWWOPsQwyRx"
      },
      "source": [
        "# Loading GL Bot json file\n",
        "json_file = '/content/drive/MyDrive/AIML/NLP/Project/GL Bot.json'"
      ],
      "execution_count": 205,
      "outputs": []
    },
    {
      "cell_type": "code",
      "metadata": {
        "id": "t0DOWtDvxO1s"
      },
      "source": [
        "with open(json_file) as f:\n",
        "  corpus = json.load(f)"
      ],
      "execution_count": 206,
      "outputs": []
    },
    {
      "cell_type": "code",
      "metadata": {
        "colab": {
          "base_uri": "https://localhost:8080/",
          "height": 1000
        },
        "id": "31fzR3rDyE0u",
        "outputId": "f6e13799-216d-4924-c5f7-71622206d5d0"
      },
      "source": [
        "display(corpus)"
      ],
      "execution_count": 207,
      "outputs": [
        {
          "output_type": "display_data",
          "data": {
            "text/plain": [
              "{'intents': [{'context_set': '',\n",
              "   'patterns': ['hi',\n",
              "    'how are you',\n",
              "    'is anyone there',\n",
              "    'hello',\n",
              "    'whats up',\n",
              "    'hey',\n",
              "    'yo',\n",
              "    'listen',\n",
              "    'please help me',\n",
              "    'i am learner from',\n",
              "    'i belong to',\n",
              "    'aiml batch',\n",
              "    'aifl batch',\n",
              "    'i am from',\n",
              "    'my pm is',\n",
              "    'blended',\n",
              "    'online',\n",
              "    'i am from',\n",
              "    'hey ya',\n",
              "    'talking to you for first time'],\n",
              "   'responses': ['Hello! how can i help you ?'],\n",
              "   'tag': 'Intro'},\n",
              "  {'context_set': '',\n",
              "   'patterns': ['thank you',\n",
              "    'thanks',\n",
              "    'cya',\n",
              "    'see you',\n",
              "    'later',\n",
              "    'see you later',\n",
              "    'goodbye',\n",
              "    'i am leaving',\n",
              "    'have a Good day',\n",
              "    'you helped me',\n",
              "    'thanks a lot',\n",
              "    'thanks a ton',\n",
              "    'you are the best',\n",
              "    'great help',\n",
              "    'too good',\n",
              "    'you are a good learning buddy'],\n",
              "   'responses': ['I hope I was able to assist you, Good Bye'],\n",
              "   'tag': 'Exit'},\n",
              "  {'context_set': '',\n",
              "   'patterns': ['olympus',\n",
              "    'explain me how olympus works',\n",
              "    'I am not able to understand olympus',\n",
              "    'olympus window not working',\n",
              "    'no access to olympus',\n",
              "    'unable to see link in olympus',\n",
              "    'no link visible on olympus',\n",
              "    'whom to contact for olympus',\n",
              "    'lot of problem with olympus',\n",
              "    'olypus is not a good tool',\n",
              "    'lot of problems with olympus',\n",
              "    'how to use olympus',\n",
              "    'teach me olympus'],\n",
              "   'responses': ['Link: Olympus wiki'],\n",
              "   'tag': 'Olympus'},\n",
              "  {'context_set': '',\n",
              "   'patterns': ['i am not able to understand svm',\n",
              "    'explain me how machine learning works',\n",
              "    'i am not able to understand naive bayes',\n",
              "    'i am not able to understand logistic regression',\n",
              "    'i am not able to understand ensemble techb=niques',\n",
              "    'i am not able to understand knn',\n",
              "    'i am not able to understand knn imputer',\n",
              "    'i am not able to understand cross validation',\n",
              "    'i am not able to understand boosting',\n",
              "    'i am not able to understand random forest',\n",
              "    'i am not able to understand ada boosting',\n",
              "    'i am not able to understand gradient boosting',\n",
              "    'machine learning',\n",
              "    'ML',\n",
              "    'SL',\n",
              "    'supervised learning',\n",
              "    'knn',\n",
              "    'logistic regression',\n",
              "    'regression',\n",
              "    'classification',\n",
              "    'naive bayes',\n",
              "    'nb',\n",
              "    'ensemble techniques',\n",
              "    'bagging',\n",
              "    'boosting',\n",
              "    'ada boosting',\n",
              "    'ada',\n",
              "    'gradient boosting',\n",
              "    'hyper parameters'],\n",
              "   'responses': ['Link: Machine Learning wiki '],\n",
              "   'tag': 'SL'},\n",
              "  {'context_set': '',\n",
              "   'patterns': ['what is deep learning',\n",
              "    'unable to understand deep learning',\n",
              "    'explain me how deep learning works',\n",
              "    'i am not able to understand deep learning',\n",
              "    'not able to understand neural nets',\n",
              "    'very diffult to understand neural nets',\n",
              "    'unable to understand neural nets',\n",
              "    'ann',\n",
              "    'artificial intelligence',\n",
              "    'artificial neural networks',\n",
              "    'weights',\n",
              "    'activation function',\n",
              "    'hidden layers',\n",
              "    'softmax',\n",
              "    'sigmoid',\n",
              "    'relu',\n",
              "    'otimizer',\n",
              "    'forward propagation',\n",
              "    'backward propagation',\n",
              "    'epochs',\n",
              "    'epoch',\n",
              "    'what is an epoch',\n",
              "    'adam',\n",
              "    'sgd'],\n",
              "   'responses': ['Link: Neural Nets wiki'],\n",
              "   'tag': 'NN'},\n",
              "  {'context_set': '',\n",
              "   'patterns': ['what is your name',\n",
              "    'who are you',\n",
              "    'name please',\n",
              "    'when are your hours of opertions',\n",
              "    'what are your working hours',\n",
              "    'hours of operation',\n",
              "    'working hours',\n",
              "    'hours'],\n",
              "   'responses': ['I am your virtual learning assistant'],\n",
              "   'tag': 'Bot'},\n",
              "  {'context_set': '',\n",
              "   'patterns': ['what the hell',\n",
              "    'bloody stupid bot',\n",
              "    'do you think you are very smart',\n",
              "    'screw you',\n",
              "    'i hate you',\n",
              "    'you are stupid',\n",
              "    'jerk',\n",
              "    'you are a joke',\n",
              "    'useless piece of shit'],\n",
              "   'responses': ['Please use respectful words'],\n",
              "   'tag': 'Profane'},\n",
              "  {'context_set': '',\n",
              "   'patterns': ['my problem is not solved',\n",
              "    'you did not help me',\n",
              "    'not a good solution',\n",
              "    'bad solution',\n",
              "    'not good solution',\n",
              "    'no help',\n",
              "    'wasted my time',\n",
              "    'useless bot',\n",
              "    'create a ticket'],\n",
              "   'responses': ['Tarnsferring the request to your PM'],\n",
              "   'tag': 'Ticket'}]}"
            ]
          },
          "metadata": {}
        }
      ]
    },
    {
      "cell_type": "markdown",
      "metadata": {
        "id": "OVb8hFSUR9vt"
      },
      "source": [
        "## Data pre-processing"
      ]
    },
    {
      "cell_type": "code",
      "metadata": {
        "id": "eIomWqghZcE5"
      },
      "source": [
        "# Extracting the data from the corpus\n",
        "X_train = []\n",
        "y_train = []\n",
        "\n",
        "labels = []\n",
        "responces = []\n",
        "\n",
        "for intent in corpus['intents']:\n",
        "  for pattern in intent['patterns']:\n",
        "    X_train.append(pattern)\n",
        "    y_train.append(intent['tag'])\n",
        "    responces.append(intent['responses'])\n",
        "  \n",
        "  # Adding missing tag if any\n",
        "  if intent['tag'] not in labels:\n",
        "    labels.append(intent['tag'])"
      ],
      "execution_count": 208,
      "outputs": []
    },
    {
      "cell_type": "markdown",
      "metadata": {
        "id": "3-3lBHc5LhoI"
      },
      "source": [
        "**I have extracted the training documents in X_train and labels in y_train**"
      ]
    },
    {
      "cell_type": "code",
      "metadata": {
        "colab": {
          "base_uri": "https://localhost:8080/"
        },
        "id": "QA28hyzRsEV0",
        "outputId": "de00b19f-d241-440f-e9ea-9ce2a3d9edea"
      },
      "source": [
        "# No of classes\n",
        "num_classes = len(labels)\n",
        "print(num_classes)"
      ],
      "execution_count": 209,
      "outputs": [
        {
          "output_type": "stream",
          "text": [
            "8\n"
          ],
          "name": "stdout"
        }
      ]
    },
    {
      "cell_type": "code",
      "metadata": {
        "colab": {
          "base_uri": "https://localhost:8080/"
        },
        "id": "PhkGbhHZgOd0",
        "outputId": "c96e54d3-ea4f-475c-eb64-ca45fa80c5c0"
      },
      "source": [
        "print(X_train)"
      ],
      "execution_count": 210,
      "outputs": [
        {
          "output_type": "stream",
          "text": [
            "['hi', 'how are you', 'is anyone there', 'hello', 'whats up', 'hey', 'yo', 'listen', 'please help me', 'i am learner from', 'i belong to', 'aiml batch', 'aifl batch', 'i am from', 'my pm is', 'blended', 'online', 'i am from', 'hey ya', 'talking to you for first time', 'thank you', 'thanks', 'cya', 'see you', 'later', 'see you later', 'goodbye', 'i am leaving', 'have a Good day', 'you helped me', 'thanks a lot', 'thanks a ton', 'you are the best', 'great help', 'too good', 'you are a good learning buddy', 'olympus', 'explain me how olympus works', 'I am not able to understand olympus', 'olympus window not working', 'no access to olympus', 'unable to see link in olympus', 'no link visible on olympus', 'whom to contact for olympus', 'lot of problem with olympus', 'olypus is not a good tool', 'lot of problems with olympus', 'how to use olympus', 'teach me olympus', 'i am not able to understand svm', 'explain me how machine learning works', 'i am not able to understand naive bayes', 'i am not able to understand logistic regression', 'i am not able to understand ensemble techb=niques', 'i am not able to understand knn', 'i am not able to understand knn imputer', 'i am not able to understand cross validation', 'i am not able to understand boosting', 'i am not able to understand random forest', 'i am not able to understand ada boosting', 'i am not able to understand gradient boosting', 'machine learning', 'ML', 'SL', 'supervised learning', 'knn', 'logistic regression', 'regression', 'classification', 'naive bayes', 'nb', 'ensemble techniques', 'bagging', 'boosting', 'ada boosting', 'ada', 'gradient boosting', 'hyper parameters', 'what is deep learning', 'unable to understand deep learning', 'explain me how deep learning works', 'i am not able to understand deep learning', 'not able to understand neural nets', 'very diffult to understand neural nets', 'unable to understand neural nets', 'ann', 'artificial intelligence', 'artificial neural networks', 'weights', 'activation function', 'hidden layers', 'softmax', 'sigmoid', 'relu', 'otimizer', 'forward propagation', 'backward propagation', 'epochs', 'epoch', 'what is an epoch', 'adam', 'sgd', 'what is your name', 'who are you', 'name please', 'when are your hours of opertions', 'what are your working hours', 'hours of operation', 'working hours', 'hours', 'what the hell', 'bloody stupid bot', 'do you think you are very smart', 'screw you', 'i hate you', 'you are stupid', 'jerk', 'you are a joke', 'useless piece of shit', 'my problem is not solved', 'you did not help me', 'not a good solution', 'bad solution', 'not good solution', 'no help', 'wasted my time', 'useless bot', 'create a ticket']\n"
          ],
          "name": "stdout"
        }
      ]
    },
    {
      "cell_type": "code",
      "metadata": {
        "colab": {
          "base_uri": "https://localhost:8080/"
        },
        "id": "RRbc1RZjgRgT",
        "outputId": "be32bb91-9736-4fc2-adb0-09fee70ab056"
      },
      "source": [
        "print(y_train)"
      ],
      "execution_count": 211,
      "outputs": [
        {
          "output_type": "stream",
          "text": [
            "['Intro', 'Intro', 'Intro', 'Intro', 'Intro', 'Intro', 'Intro', 'Intro', 'Intro', 'Intro', 'Intro', 'Intro', 'Intro', 'Intro', 'Intro', 'Intro', 'Intro', 'Intro', 'Intro', 'Intro', 'Exit', 'Exit', 'Exit', 'Exit', 'Exit', 'Exit', 'Exit', 'Exit', 'Exit', 'Exit', 'Exit', 'Exit', 'Exit', 'Exit', 'Exit', 'Exit', 'Olympus', 'Olympus', 'Olympus', 'Olympus', 'Olympus', 'Olympus', 'Olympus', 'Olympus', 'Olympus', 'Olympus', 'Olympus', 'Olympus', 'Olympus', 'SL', 'SL', 'SL', 'SL', 'SL', 'SL', 'SL', 'SL', 'SL', 'SL', 'SL', 'SL', 'SL', 'SL', 'SL', 'SL', 'SL', 'SL', 'SL', 'SL', 'SL', 'SL', 'SL', 'SL', 'SL', 'SL', 'SL', 'SL', 'SL', 'NN', 'NN', 'NN', 'NN', 'NN', 'NN', 'NN', 'NN', 'NN', 'NN', 'NN', 'NN', 'NN', 'NN', 'NN', 'NN', 'NN', 'NN', 'NN', 'NN', 'NN', 'NN', 'NN', 'NN', 'Bot', 'Bot', 'Bot', 'Bot', 'Bot', 'Bot', 'Bot', 'Bot', 'Profane', 'Profane', 'Profane', 'Profane', 'Profane', 'Profane', 'Profane', 'Profane', 'Profane', 'Ticket', 'Ticket', 'Ticket', 'Ticket', 'Ticket', 'Ticket', 'Ticket', 'Ticket', 'Ticket']\n"
          ],
          "name": "stdout"
        }
      ]
    },
    {
      "cell_type": "code",
      "metadata": {
        "colab": {
          "base_uri": "https://localhost:8080/"
        },
        "id": "w_qWD_qRgTq2",
        "outputId": "b7ebb396-92e7-47d7-9711-081f8d1bea5a"
      },
      "source": [
        "print(labels)"
      ],
      "execution_count": 212,
      "outputs": [
        {
          "output_type": "stream",
          "text": [
            "['Intro', 'Exit', 'Olympus', 'SL', 'NN', 'Bot', 'Profane', 'Ticket']\n"
          ],
          "name": "stdout"
        }
      ]
    },
    {
      "cell_type": "markdown",
      "metadata": {
        "id": "H6SBHAM7L490"
      },
      "source": [
        "**There are total 8 labels in target variable**"
      ]
    },
    {
      "cell_type": "code",
      "metadata": {
        "colab": {
          "base_uri": "https://localhost:8080/"
        },
        "id": "6oL4RLQJgixP",
        "outputId": "afc9f04d-ae46-4cde-99a9-5fc9ef06aa66"
      },
      "source": [
        "print(responces)"
      ],
      "execution_count": 213,
      "outputs": [
        {
          "output_type": "stream",
          "text": [
            "[['Hello! how can i help you ?'], ['Hello! how can i help you ?'], ['Hello! how can i help you ?'], ['Hello! how can i help you ?'], ['Hello! how can i help you ?'], ['Hello! how can i help you ?'], ['Hello! how can i help you ?'], ['Hello! how can i help you ?'], ['Hello! how can i help you ?'], ['Hello! how can i help you ?'], ['Hello! how can i help you ?'], ['Hello! how can i help you ?'], ['Hello! how can i help you ?'], ['Hello! how can i help you ?'], ['Hello! how can i help you ?'], ['Hello! how can i help you ?'], ['Hello! how can i help you ?'], ['Hello! how can i help you ?'], ['Hello! how can i help you ?'], ['Hello! how can i help you ?'], ['I hope I was able to assist you, Good Bye'], ['I hope I was able to assist you, Good Bye'], ['I hope I was able to assist you, Good Bye'], ['I hope I was able to assist you, Good Bye'], ['I hope I was able to assist you, Good Bye'], ['I hope I was able to assist you, Good Bye'], ['I hope I was able to assist you, Good Bye'], ['I hope I was able to assist you, Good Bye'], ['I hope I was able to assist you, Good Bye'], ['I hope I was able to assist you, Good Bye'], ['I hope I was able to assist you, Good Bye'], ['I hope I was able to assist you, Good Bye'], ['I hope I was able to assist you, Good Bye'], ['I hope I was able to assist you, Good Bye'], ['I hope I was able to assist you, Good Bye'], ['I hope I was able to assist you, Good Bye'], ['Link: Olympus wiki'], ['Link: Olympus wiki'], ['Link: Olympus wiki'], ['Link: Olympus wiki'], ['Link: Olympus wiki'], ['Link: Olympus wiki'], ['Link: Olympus wiki'], ['Link: Olympus wiki'], ['Link: Olympus wiki'], ['Link: Olympus wiki'], ['Link: Olympus wiki'], ['Link: Olympus wiki'], ['Link: Olympus wiki'], ['Link: Machine Learning wiki '], ['Link: Machine Learning wiki '], ['Link: Machine Learning wiki '], ['Link: Machine Learning wiki '], ['Link: Machine Learning wiki '], ['Link: Machine Learning wiki '], ['Link: Machine Learning wiki '], ['Link: Machine Learning wiki '], ['Link: Machine Learning wiki '], ['Link: Machine Learning wiki '], ['Link: Machine Learning wiki '], ['Link: Machine Learning wiki '], ['Link: Machine Learning wiki '], ['Link: Machine Learning wiki '], ['Link: Machine Learning wiki '], ['Link: Machine Learning wiki '], ['Link: Machine Learning wiki '], ['Link: Machine Learning wiki '], ['Link: Machine Learning wiki '], ['Link: Machine Learning wiki '], ['Link: Machine Learning wiki '], ['Link: Machine Learning wiki '], ['Link: Machine Learning wiki '], ['Link: Machine Learning wiki '], ['Link: Machine Learning wiki '], ['Link: Machine Learning wiki '], ['Link: Machine Learning wiki '], ['Link: Machine Learning wiki '], ['Link: Machine Learning wiki '], ['Link: Neural Nets wiki'], ['Link: Neural Nets wiki'], ['Link: Neural Nets wiki'], ['Link: Neural Nets wiki'], ['Link: Neural Nets wiki'], ['Link: Neural Nets wiki'], ['Link: Neural Nets wiki'], ['Link: Neural Nets wiki'], ['Link: Neural Nets wiki'], ['Link: Neural Nets wiki'], ['Link: Neural Nets wiki'], ['Link: Neural Nets wiki'], ['Link: Neural Nets wiki'], ['Link: Neural Nets wiki'], ['Link: Neural Nets wiki'], ['Link: Neural Nets wiki'], ['Link: Neural Nets wiki'], ['Link: Neural Nets wiki'], ['Link: Neural Nets wiki'], ['Link: Neural Nets wiki'], ['Link: Neural Nets wiki'], ['Link: Neural Nets wiki'], ['Link: Neural Nets wiki'], ['Link: Neural Nets wiki'], ['I am your virtual learning assistant'], ['I am your virtual learning assistant'], ['I am your virtual learning assistant'], ['I am your virtual learning assistant'], ['I am your virtual learning assistant'], ['I am your virtual learning assistant'], ['I am your virtual learning assistant'], ['I am your virtual learning assistant'], ['Please use respectful words'], ['Please use respectful words'], ['Please use respectful words'], ['Please use respectful words'], ['Please use respectful words'], ['Please use respectful words'], ['Please use respectful words'], ['Please use respectful words'], ['Please use respectful words'], ['Tarnsferring the request to your PM'], ['Tarnsferring the request to your PM'], ['Tarnsferring the request to your PM'], ['Tarnsferring the request to your PM'], ['Tarnsferring the request to your PM'], ['Tarnsferring the request to your PM'], ['Tarnsferring the request to your PM'], ['Tarnsferring the request to your PM'], ['Tarnsferring the request to your PM']]\n"
          ],
          "name": "stdout"
        }
      ]
    },
    {
      "cell_type": "code",
      "metadata": {
        "id": "jwrbxJGQgm9T"
      },
      "source": [
        "# Using labelEncoder to label the target variable\n",
        "from sklearn.preprocessing import LabelEncoder\n",
        "encoder = LabelEncoder()"
      ],
      "execution_count": 214,
      "outputs": []
    },
    {
      "cell_type": "code",
      "metadata": {
        "colab": {
          "base_uri": "https://localhost:8080/"
        },
        "id": "IYe9wqmCh0zR",
        "outputId": "da440fcb-dad3-4d61-8e12-08675f05a09c"
      },
      "source": [
        "y_train = encoder.fit_transform(y_train)\n",
        "print(y_train)"
      ],
      "execution_count": 215,
      "outputs": [
        {
          "output_type": "stream",
          "text": [
            "[2 2 2 2 2 2 2 2 2 2 2 2 2 2 2 2 2 2 2 2 1 1 1 1 1 1 1 1 1 1 1 1 1 1 1 1 4\n",
            " 4 4 4 4 4 4 4 4 4 4 4 4 6 6 6 6 6 6 6 6 6 6 6 6 6 6 6 6 6 6 6 6 6 6 6 6 6\n",
            " 6 6 6 6 3 3 3 3 3 3 3 3 3 3 3 3 3 3 3 3 3 3 3 3 3 3 3 3 0 0 0 0 0 0 0 0 5\n",
            " 5 5 5 5 5 5 5 5 7 7 7 7 7 7 7 7 7]\n"
          ],
          "name": "stdout"
        }
      ]
    },
    {
      "cell_type": "markdown",
      "metadata": {
        "id": "uJO-2Ud-h_fz"
      },
      "source": [
        "## Build the Tokenizer using tensorflow and keras"
      ]
    },
    {
      "cell_type": "code",
      "metadata": {
        "id": "yStn-9uEkM7b"
      },
      "source": [
        "import tensorflow as tf"
      ],
      "execution_count": 216,
      "outputs": []
    },
    {
      "cell_type": "code",
      "metadata": {
        "id": "msoIfJB3kP_g"
      },
      "source": [
        "desired_vocab_size = 100000 # Vocablury size\n",
        "tokenizer = tf.keras.preprocessing.text.Tokenizer(num_words=desired_vocab_size, oov_token='<OOV>')"
      ],
      "execution_count": 217,
      "outputs": []
    },
    {
      "cell_type": "code",
      "metadata": {
        "id": "lVaQ37bmmjkq"
      },
      "source": [
        "tokenizer.fit_on_texts(X_train)"
      ],
      "execution_count": 218,
      "outputs": []
    },
    {
      "cell_type": "code",
      "metadata": {
        "colab": {
          "base_uri": "https://localhost:8080/"
        },
        "id": "VGVZ-A5Dm25O",
        "outputId": "f22b0b62-a2f9-4c03-9c85-d9ba4fb232fd"
      },
      "source": [
        "print(tokenizer.word_index)"
      ],
      "execution_count": 219,
      "outputs": [
        {
          "output_type": "stream",
          "text": [
            "{'<OOV>': 1, 'to': 2, 'not': 3, 'i': 4, 'am': 5, 'understand': 6, 'you': 7, 'able': 8, 'olympus': 9, 'are': 10, 'a': 11, 'learning': 12, 'is': 13, 'me': 14, 'good': 15, 'boosting': 16, 'how': 17, 'of': 18, 'what': 19, 'hours': 20, 'help': 21, 'deep': 22, 'neural': 23, 'from': 24, 'my': 25, 'thanks': 26, 'see': 27, 'lot': 28, 'explain': 29, 'works': 30, 'working': 31, 'no': 32, 'unable': 33, 'regression': 34, 'knn': 35, 'ada': 36, 'nets': 37, 'your': 38, 'solution': 39, 'hey': 40, 'please': 41, 'batch': 42, 'for': 43, 'time': 44, 'later': 45, 'the': 46, 'link': 47, 'problem': 48, 'with': 49, 'machine': 50, 'naive': 51, 'bayes': 52, 'logistic': 53, 'ensemble': 54, 'gradient': 55, 'very': 56, 'artificial': 57, 'propagation': 58, 'epoch': 59, 'name': 60, 'stupid': 61, 'bot': 62, 'useless': 63, 'hi': 64, 'anyone': 65, 'there': 66, 'hello': 67, 'whats': 68, 'up': 69, 'yo': 70, 'listen': 71, 'learner': 72, 'belong': 73, 'aiml': 74, 'aifl': 75, 'pm': 76, 'blended': 77, 'online': 78, 'ya': 79, 'talking': 80, 'first': 81, 'thank': 82, 'cya': 83, 'goodbye': 84, 'leaving': 85, 'have': 86, 'day': 87, 'helped': 88, 'ton': 89, 'best': 90, 'great': 91, 'too': 92, 'buddy': 93, 'window': 94, 'access': 95, 'in': 96, 'visible': 97, 'on': 98, 'whom': 99, 'contact': 100, 'olypus': 101, 'tool': 102, 'problems': 103, 'use': 104, 'teach': 105, 'svm': 106, 'techb': 107, 'niques': 108, 'imputer': 109, 'cross': 110, 'validation': 111, 'random': 112, 'forest': 113, 'ml': 114, 'sl': 115, 'supervised': 116, 'classification': 117, 'nb': 118, 'techniques': 119, 'bagging': 120, 'hyper': 121, 'parameters': 122, 'diffult': 123, 'ann': 124, 'intelligence': 125, 'networks': 126, 'weights': 127, 'activation': 128, 'function': 129, 'hidden': 130, 'layers': 131, 'softmax': 132, 'sigmoid': 133, 'relu': 134, 'otimizer': 135, 'forward': 136, 'backward': 137, 'epochs': 138, 'an': 139, 'adam': 140, 'sgd': 141, 'who': 142, 'when': 143, 'opertions': 144, 'operation': 145, 'hell': 146, 'bloody': 147, 'do': 148, 'think': 149, 'smart': 150, 'screw': 151, 'hate': 152, 'jerk': 153, 'joke': 154, 'piece': 155, 'shit': 156, 'solved': 157, 'did': 158, 'bad': 159, 'wasted': 160, 'create': 161, 'ticket': 162}\n"
          ],
          "name": "stdout"
        }
      ]
    },
    {
      "cell_type": "code",
      "metadata": {
        "colab": {
          "base_uri": "https://localhost:8080/",
          "height": 35
        },
        "id": "OuAFfevam7TZ",
        "outputId": "abf6100b-5557-4778-f91b-8822bba97c9a"
      },
      "source": [
        "X_train[0] # Before tokenizer"
      ],
      "execution_count": 220,
      "outputs": [
        {
          "output_type": "execute_result",
          "data": {
            "application/vnd.google.colaboratory.intrinsic+json": {
              "type": "string"
            },
            "text/plain": [
              "'hi'"
            ]
          },
          "metadata": {},
          "execution_count": 220
        }
      ]
    },
    {
      "cell_type": "code",
      "metadata": {
        "id": "PXqihDXuniCC"
      },
      "source": [
        "X_train = tokenizer.texts_to_sequences(X_train)"
      ],
      "execution_count": 221,
      "outputs": []
    },
    {
      "cell_type": "code",
      "metadata": {
        "colab": {
          "base_uri": "https://localhost:8080/"
        },
        "id": "1Uh7912jn-tZ",
        "outputId": "29983aee-4047-4ff9-a40e-44170b8f843f"
      },
      "source": [
        "X_train[0] # After Tokenizer"
      ],
      "execution_count": 222,
      "outputs": [
        {
          "output_type": "execute_result",
          "data": {
            "text/plain": [
              "[64]"
            ]
          },
          "metadata": {},
          "execution_count": 222
        }
      ]
    },
    {
      "cell_type": "markdown",
      "metadata": {
        "id": "2Gck9KnGoDzg"
      },
      "source": [
        "## Pad Sequences - for Train"
      ]
    },
    {
      "cell_type": "code",
      "metadata": {
        "id": "GUlXbYDJoNq9"
      },
      "source": [
        "#Define maximum number of words to consider in each text\n",
        "max_review_length = 20"
      ],
      "execution_count": 223,
      "outputs": []
    },
    {
      "cell_type": "code",
      "metadata": {
        "id": "KpLy8iZGoXZW"
      },
      "source": [
        "# Using pad sequences for equal length of documents\n",
        "X_train = tf.keras.preprocessing.sequence.pad_sequences(X_train, maxlen=max_review_length, padding='pre', truncating='post')"
      ],
      "execution_count": 224,
      "outputs": []
    },
    {
      "cell_type": "code",
      "metadata": {
        "colab": {
          "base_uri": "https://localhost:8080/"
        },
        "id": "c-r7sJYGp_OV",
        "outputId": "6535c0fe-b665-4040-e20e-60351dc80b1b"
      },
      "source": [
        "# Random visualization of train data\n",
        "num = np.random.randint(0, X_train.shape[1])\n",
        "X_train[num]"
      ],
      "execution_count": 225,
      "outputs": [
        {
          "output_type": "execute_result",
          "data": {
            "text/plain": [
              "array([ 0,  0,  0,  0,  0,  0,  0,  0,  0,  0,  0,  0,  0,  0,  0,  0,  0,\n",
              "        0, 75, 42], dtype=int32)"
            ]
          },
          "metadata": {},
          "execution_count": 225
        }
      ]
    },
    {
      "cell_type": "markdown",
      "metadata": {
        "id": "K7fv--KTqBDP"
      },
      "source": [
        "## Building the Model"
      ]
    },
    {
      "cell_type": "code",
      "metadata": {
        "id": "OhBc9xnJqQyx"
      },
      "source": [
        "# Initializing the model\n",
        "embedding_dim = 16\n",
        "tf.keras.backend.clear_session()\n",
        "model = tf.keras.Sequential()"
      ],
      "execution_count": 226,
      "outputs": []
    },
    {
      "cell_type": "code",
      "metadata": {
        "id": "C1Kvoswlrxhs"
      },
      "source": [
        "model .add(tf.keras.layers.Embedding(input_dim=desired_vocab_size, output_dim=embedding_dim, input_length=max_review_length))\n",
        "model.add(tf.keras.layers.GlobalAveragePooling1D())\n",
        "model.add(tf.keras.layers.Dense(16, activation='relu'))\n",
        "model.add(tf.keras.layers.Dense(16, activation='relu'))\n",
        "model.add(tf.keras.layers.Dense(num_classes, activation='softmax'))"
      ],
      "execution_count": 227,
      "outputs": []
    },
    {
      "cell_type": "code",
      "metadata": {
        "colab": {
          "base_uri": "https://localhost:8080/"
        },
        "id": "06Nr86NPuN_y",
        "outputId": "8c2fa674-271f-4e0b-9d09-d1b8f2a31915"
      },
      "source": [
        "model.summary()"
      ],
      "execution_count": 228,
      "outputs": [
        {
          "output_type": "stream",
          "text": [
            "Model: \"sequential\"\n",
            "_________________________________________________________________\n",
            "Layer (type)                 Output Shape              Param #   \n",
            "=================================================================\n",
            "embedding (Embedding)        (None, 20, 16)            1600000   \n",
            "_________________________________________________________________\n",
            "global_average_pooling1d (Gl (None, 16)                0         \n",
            "_________________________________________________________________\n",
            "dense (Dense)                (None, 16)                272       \n",
            "_________________________________________________________________\n",
            "dense_1 (Dense)              (None, 16)                272       \n",
            "_________________________________________________________________\n",
            "dense_2 (Dense)              (None, 8)                 136       \n",
            "=================================================================\n",
            "Total params: 1,600,680\n",
            "Trainable params: 1,600,680\n",
            "Non-trainable params: 0\n",
            "_________________________________________________________________\n"
          ],
          "name": "stdout"
        }
      ]
    },
    {
      "cell_type": "code",
      "metadata": {
        "id": "UfbrEDqnuQPb"
      },
      "source": [
        "model.compile(optimizer='adam', loss='sparse_categorical_crossentropy', metrics=['accuracy'])"
      ],
      "execution_count": 229,
      "outputs": []
    },
    {
      "cell_type": "code",
      "metadata": {
        "id": "J3U0jbExvAoX"
      },
      "source": [
        "early = tf.keras.callbacks.EarlyStopping(monitor='loss', patience=5, verbose=1) # Early stoping to check the loss"
      ],
      "execution_count": 230,
      "outputs": []
    },
    {
      "cell_type": "code",
      "metadata": {
        "colab": {
          "base_uri": "https://localhost:8080/"
        },
        "id": "sgEKG34LunZX",
        "outputId": "47f54703-cfe1-4bb7-b0e8-7685082c9f99"
      },
      "source": [
        "model.fit(X_train, np.array(y_train), epochs=400, callbacks=early)"
      ],
      "execution_count": 231,
      "outputs": [
        {
          "output_type": "stream",
          "text": [
            "Epoch 1/400\n",
            "4/4 [==============================] - 1s 21ms/step - loss: 2.0782 - accuracy: 0.1250\n",
            "Epoch 2/400\n",
            "4/4 [==============================] - 0s 19ms/step - loss: 2.0728 - accuracy: 0.2500\n",
            "Epoch 3/400\n",
            "4/4 [==============================] - 0s 22ms/step - loss: 2.0689 - accuracy: 0.2266\n",
            "Epoch 4/400\n",
            "4/4 [==============================] - 0s 25ms/step - loss: 2.0658 - accuracy: 0.2266\n",
            "Epoch 5/400\n",
            "4/4 [==============================] - 0s 20ms/step - loss: 2.0623 - accuracy: 0.2266\n",
            "Epoch 6/400\n",
            "4/4 [==============================] - 0s 21ms/step - loss: 2.0589 - accuracy: 0.2266\n",
            "Epoch 7/400\n",
            "4/4 [==============================] - 0s 19ms/step - loss: 2.0552 - accuracy: 0.2266\n",
            "Epoch 8/400\n",
            "4/4 [==============================] - 0s 19ms/step - loss: 2.0507 - accuracy: 0.2266\n",
            "Epoch 9/400\n",
            "4/4 [==============================] - 0s 20ms/step - loss: 2.0464 - accuracy: 0.2266\n",
            "Epoch 10/400\n",
            "4/4 [==============================] - 0s 18ms/step - loss: 2.0414 - accuracy: 0.2266\n",
            "Epoch 11/400\n",
            "4/4 [==============================] - 0s 23ms/step - loss: 2.0370 - accuracy: 0.2266\n",
            "Epoch 12/400\n",
            "4/4 [==============================] - 0s 20ms/step - loss: 2.0319 - accuracy: 0.2266\n",
            "Epoch 13/400\n",
            "4/4 [==============================] - 0s 18ms/step - loss: 2.0269 - accuracy: 0.2266\n",
            "Epoch 14/400\n",
            "4/4 [==============================] - 0s 19ms/step - loss: 2.0211 - accuracy: 0.2266\n",
            "Epoch 15/400\n",
            "4/4 [==============================] - 0s 20ms/step - loss: 2.0153 - accuracy: 0.2266\n",
            "Epoch 16/400\n",
            "4/4 [==============================] - 0s 19ms/step - loss: 2.0100 - accuracy: 0.2266\n",
            "Epoch 17/400\n",
            "4/4 [==============================] - 0s 20ms/step - loss: 2.0053 - accuracy: 0.2266\n",
            "Epoch 18/400\n",
            "4/4 [==============================] - 0s 19ms/step - loss: 2.0001 - accuracy: 0.2266\n",
            "Epoch 19/400\n",
            "4/4 [==============================] - 0s 23ms/step - loss: 1.9944 - accuracy: 0.2266\n",
            "Epoch 20/400\n",
            "4/4 [==============================] - 0s 20ms/step - loss: 1.9886 - accuracy: 0.2266\n",
            "Epoch 21/400\n",
            "4/4 [==============================] - 0s 18ms/step - loss: 1.9844 - accuracy: 0.2266\n",
            "Epoch 22/400\n",
            "4/4 [==============================] - 0s 19ms/step - loss: 1.9795 - accuracy: 0.2266\n",
            "Epoch 23/400\n",
            "4/4 [==============================] - 0s 27ms/step - loss: 1.9765 - accuracy: 0.2266\n",
            "Epoch 24/400\n",
            "4/4 [==============================] - 0s 18ms/step - loss: 1.9717 - accuracy: 0.2266\n",
            "Epoch 25/400\n",
            "4/4 [==============================] - 0s 21ms/step - loss: 1.9682 - accuracy: 0.2266\n",
            "Epoch 26/400\n",
            "4/4 [==============================] - 0s 20ms/step - loss: 1.9654 - accuracy: 0.2266\n",
            "Epoch 27/400\n",
            "4/4 [==============================] - 0s 21ms/step - loss: 1.9625 - accuracy: 0.2266\n",
            "Epoch 28/400\n",
            "4/4 [==============================] - 0s 21ms/step - loss: 1.9599 - accuracy: 0.2266\n",
            "Epoch 29/400\n",
            "4/4 [==============================] - 0s 20ms/step - loss: 1.9575 - accuracy: 0.2266\n",
            "Epoch 30/400\n",
            "4/4 [==============================] - 0s 25ms/step - loss: 1.9541 - accuracy: 0.2266\n",
            "Epoch 31/400\n",
            "4/4 [==============================] - 0s 20ms/step - loss: 1.9519 - accuracy: 0.2266\n",
            "Epoch 32/400\n",
            "4/4 [==============================] - 0s 19ms/step - loss: 1.9493 - accuracy: 0.2266\n",
            "Epoch 33/400\n",
            "4/4 [==============================] - 0s 18ms/step - loss: 1.9465 - accuracy: 0.2266\n",
            "Epoch 34/400\n",
            "4/4 [==============================] - 0s 19ms/step - loss: 1.9442 - accuracy: 0.2266\n",
            "Epoch 35/400\n",
            "4/4 [==============================] - 0s 18ms/step - loss: 1.9410 - accuracy: 0.2266\n",
            "Epoch 36/400\n",
            "4/4 [==============================] - 0s 19ms/step - loss: 1.9383 - accuracy: 0.2266\n",
            "Epoch 37/400\n",
            "4/4 [==============================] - 0s 20ms/step - loss: 1.9348 - accuracy: 0.2266\n",
            "Epoch 38/400\n",
            "4/4 [==============================] - 0s 22ms/step - loss: 1.9304 - accuracy: 0.2266\n",
            "Epoch 39/400\n",
            "4/4 [==============================] - 0s 20ms/step - loss: 1.9252 - accuracy: 0.2266\n",
            "Epoch 40/400\n",
            "4/4 [==============================] - 0s 26ms/step - loss: 1.9219 - accuracy: 0.2266\n",
            "Epoch 41/400\n",
            "4/4 [==============================] - 0s 21ms/step - loss: 1.9180 - accuracy: 0.2266\n",
            "Epoch 42/400\n",
            "4/4 [==============================] - 0s 18ms/step - loss: 1.9137 - accuracy: 0.2266\n",
            "Epoch 43/400\n",
            "4/4 [==============================] - 0s 21ms/step - loss: 1.9093 - accuracy: 0.2266\n",
            "Epoch 44/400\n",
            "4/4 [==============================] - 0s 20ms/step - loss: 1.9045 - accuracy: 0.2266\n",
            "Epoch 45/400\n",
            "4/4 [==============================] - 0s 21ms/step - loss: 1.8996 - accuracy: 0.2266\n",
            "Epoch 46/400\n",
            "4/4 [==============================] - 0s 21ms/step - loss: 1.8942 - accuracy: 0.2266\n",
            "Epoch 47/400\n",
            "4/4 [==============================] - 0s 22ms/step - loss: 1.8878 - accuracy: 0.2266\n",
            "Epoch 48/400\n",
            "4/4 [==============================] - 0s 21ms/step - loss: 1.8803 - accuracy: 0.2266\n",
            "Epoch 49/400\n",
            "4/4 [==============================] - 0s 22ms/step - loss: 1.8741 - accuracy: 0.2266\n",
            "Epoch 50/400\n",
            "4/4 [==============================] - 0s 19ms/step - loss: 1.8668 - accuracy: 0.2266\n",
            "Epoch 51/400\n",
            "4/4 [==============================] - 0s 20ms/step - loss: 1.8600 - accuracy: 0.2266\n",
            "Epoch 52/400\n",
            "4/4 [==============================] - 0s 19ms/step - loss: 1.8522 - accuracy: 0.2266\n",
            "Epoch 53/400\n",
            "4/4 [==============================] - 0s 18ms/step - loss: 1.8440 - accuracy: 0.2266\n",
            "Epoch 54/400\n",
            "4/4 [==============================] - 0s 19ms/step - loss: 1.8353 - accuracy: 0.2266\n",
            "Epoch 55/400\n",
            "4/4 [==============================] - 0s 18ms/step - loss: 1.8258 - accuracy: 0.2344\n",
            "Epoch 56/400\n",
            "4/4 [==============================] - 0s 19ms/step - loss: 1.8161 - accuracy: 0.2422\n",
            "Epoch 57/400\n",
            "4/4 [==============================] - 0s 21ms/step - loss: 1.8058 - accuracy: 0.2422\n",
            "Epoch 58/400\n",
            "4/4 [==============================] - 0s 19ms/step - loss: 1.7950 - accuracy: 0.2500\n",
            "Epoch 59/400\n",
            "4/4 [==============================] - 0s 20ms/step - loss: 1.7849 - accuracy: 0.2578\n",
            "Epoch 60/400\n",
            "4/4 [==============================] - 0s 19ms/step - loss: 1.7734 - accuracy: 0.2656\n",
            "Epoch 61/400\n",
            "4/4 [==============================] - 0s 20ms/step - loss: 1.7628 - accuracy: 0.2578\n",
            "Epoch 62/400\n",
            "4/4 [==============================] - 0s 18ms/step - loss: 1.7512 - accuracy: 0.2656\n",
            "Epoch 63/400\n",
            "4/4 [==============================] - 0s 18ms/step - loss: 1.7393 - accuracy: 0.3125\n",
            "Epoch 64/400\n",
            "4/4 [==============================] - 0s 19ms/step - loss: 1.7288 - accuracy: 0.3516\n",
            "Epoch 65/400\n",
            "4/4 [==============================] - 0s 20ms/step - loss: 1.7161 - accuracy: 0.3828\n",
            "Epoch 66/400\n",
            "4/4 [==============================] - 0s 19ms/step - loss: 1.7039 - accuracy: 0.3828\n",
            "Epoch 67/400\n",
            "4/4 [==============================] - 0s 19ms/step - loss: 1.6925 - accuracy: 0.3906\n",
            "Epoch 68/400\n",
            "4/4 [==============================] - 0s 18ms/step - loss: 1.6808 - accuracy: 0.3906\n",
            "Epoch 69/400\n",
            "4/4 [==============================] - 0s 18ms/step - loss: 1.6670 - accuracy: 0.4141\n",
            "Epoch 70/400\n",
            "4/4 [==============================] - 0s 21ms/step - loss: 1.6558 - accuracy: 0.4219\n",
            "Epoch 71/400\n",
            "4/4 [==============================] - 0s 20ms/step - loss: 1.6412 - accuracy: 0.4531\n",
            "Epoch 72/400\n",
            "4/4 [==============================] - 0s 22ms/step - loss: 1.6264 - accuracy: 0.4609\n",
            "Epoch 73/400\n",
            "4/4 [==============================] - 0s 20ms/step - loss: 1.6137 - accuracy: 0.4531\n",
            "Epoch 74/400\n",
            "4/4 [==============================] - 0s 20ms/step - loss: 1.5986 - accuracy: 0.4688\n",
            "Epoch 75/400\n",
            "4/4 [==============================] - 0s 19ms/step - loss: 1.5842 - accuracy: 0.4766\n",
            "Epoch 76/400\n",
            "4/4 [==============================] - 0s 19ms/step - loss: 1.5693 - accuracy: 0.4688\n",
            "Epoch 77/400\n",
            "4/4 [==============================] - 0s 23ms/step - loss: 1.5545 - accuracy: 0.4688\n",
            "Epoch 78/400\n",
            "4/4 [==============================] - 0s 20ms/step - loss: 1.5384 - accuracy: 0.4688\n",
            "Epoch 79/400\n",
            "4/4 [==============================] - 0s 19ms/step - loss: 1.5230 - accuracy: 0.4766\n",
            "Epoch 80/400\n",
            "4/4 [==============================] - 0s 19ms/step - loss: 1.5081 - accuracy: 0.4922\n",
            "Epoch 81/400\n",
            "4/4 [==============================] - 0s 19ms/step - loss: 1.4929 - accuracy: 0.4922\n",
            "Epoch 82/400\n",
            "4/4 [==============================] - 0s 20ms/step - loss: 1.4777 - accuracy: 0.4922\n",
            "Epoch 83/400\n",
            "4/4 [==============================] - 0s 18ms/step - loss: 1.4631 - accuracy: 0.5000\n",
            "Epoch 84/400\n",
            "4/4 [==============================] - 0s 22ms/step - loss: 1.4471 - accuracy: 0.5156\n",
            "Epoch 85/400\n",
            "4/4 [==============================] - 0s 18ms/step - loss: 1.4341 - accuracy: 0.4922\n",
            "Epoch 86/400\n",
            "4/4 [==============================] - 0s 25ms/step - loss: 1.4178 - accuracy: 0.5078\n",
            "Epoch 87/400\n",
            "4/4 [==============================] - 0s 20ms/step - loss: 1.4025 - accuracy: 0.5234\n",
            "Epoch 88/400\n",
            "4/4 [==============================] - 0s 19ms/step - loss: 1.3870 - accuracy: 0.5156\n",
            "Epoch 89/400\n",
            "4/4 [==============================] - 0s 19ms/step - loss: 1.3729 - accuracy: 0.5156\n",
            "Epoch 90/400\n",
            "4/4 [==============================] - 0s 19ms/step - loss: 1.3574 - accuracy: 0.5156\n",
            "Epoch 91/400\n",
            "4/4 [==============================] - 0s 21ms/step - loss: 1.3419 - accuracy: 0.5156\n",
            "Epoch 92/400\n",
            "4/4 [==============================] - 0s 18ms/step - loss: 1.3279 - accuracy: 0.5156\n",
            "Epoch 93/400\n",
            "4/4 [==============================] - 0s 20ms/step - loss: 1.3134 - accuracy: 0.5234\n",
            "Epoch 94/400\n",
            "4/4 [==============================] - 0s 20ms/step - loss: 1.2995 - accuracy: 0.5156\n",
            "Epoch 95/400\n",
            "4/4 [==============================] - 0s 24ms/step - loss: 1.2844 - accuracy: 0.5312\n",
            "Epoch 96/400\n",
            "4/4 [==============================] - 0s 20ms/step - loss: 1.2669 - accuracy: 0.5703\n",
            "Epoch 97/400\n",
            "4/4 [==============================] - 0s 21ms/step - loss: 1.2511 - accuracy: 0.5625\n",
            "Epoch 98/400\n",
            "4/4 [==============================] - 0s 21ms/step - loss: 1.2360 - accuracy: 0.5625\n",
            "Epoch 99/400\n",
            "4/4 [==============================] - 0s 18ms/step - loss: 1.2206 - accuracy: 0.6094\n",
            "Epoch 100/400\n",
            "4/4 [==============================] - 0s 18ms/step - loss: 1.2041 - accuracy: 0.6250\n",
            "Epoch 101/400\n",
            "4/4 [==============================] - 0s 20ms/step - loss: 1.1873 - accuracy: 0.6172\n",
            "Epoch 102/400\n",
            "4/4 [==============================] - 0s 21ms/step - loss: 1.1722 - accuracy: 0.6250\n",
            "Epoch 103/400\n",
            "4/4 [==============================] - 0s 20ms/step - loss: 1.1567 - accuracy: 0.6406\n",
            "Epoch 104/400\n",
            "4/4 [==============================] - 0s 20ms/step - loss: 1.1404 - accuracy: 0.6562\n",
            "Epoch 105/400\n",
            "4/4 [==============================] - 0s 19ms/step - loss: 1.1234 - accuracy: 0.6875\n",
            "Epoch 106/400\n",
            "4/4 [==============================] - 0s 20ms/step - loss: 1.1062 - accuracy: 0.6562\n",
            "Epoch 107/400\n",
            "4/4 [==============================] - 0s 21ms/step - loss: 1.0896 - accuracy: 0.6562\n",
            "Epoch 108/400\n",
            "4/4 [==============================] - 0s 20ms/step - loss: 1.0704 - accuracy: 0.7422\n",
            "Epoch 109/400\n",
            "4/4 [==============================] - 0s 20ms/step - loss: 1.0533 - accuracy: 0.7500\n",
            "Epoch 110/400\n",
            "4/4 [==============================] - 0s 19ms/step - loss: 1.0350 - accuracy: 0.7500\n",
            "Epoch 111/400\n",
            "4/4 [==============================] - 0s 23ms/step - loss: 1.0178 - accuracy: 0.7734\n",
            "Epoch 112/400\n",
            "4/4 [==============================] - 0s 21ms/step - loss: 0.9989 - accuracy: 0.8047\n",
            "Epoch 113/400\n",
            "4/4 [==============================] - 0s 20ms/step - loss: 0.9815 - accuracy: 0.8125\n",
            "Epoch 114/400\n",
            "4/4 [==============================] - 0s 21ms/step - loss: 0.9630 - accuracy: 0.8281\n",
            "Epoch 115/400\n",
            "4/4 [==============================] - 0s 20ms/step - loss: 0.9421 - accuracy: 0.8203\n",
            "Epoch 116/400\n",
            "4/4 [==============================] - 0s 19ms/step - loss: 0.9218 - accuracy: 0.8281\n",
            "Epoch 117/400\n",
            "4/4 [==============================] - 0s 19ms/step - loss: 0.9039 - accuracy: 0.8125\n",
            "Epoch 118/400\n",
            "4/4 [==============================] - 0s 25ms/step - loss: 0.8850 - accuracy: 0.8281\n",
            "Epoch 119/400\n",
            "4/4 [==============================] - 0s 20ms/step - loss: 0.8667 - accuracy: 0.8281\n",
            "Epoch 120/400\n",
            "4/4 [==============================] - 0s 20ms/step - loss: 0.8440 - accuracy: 0.8281\n",
            "Epoch 121/400\n",
            "4/4 [==============================] - 0s 19ms/step - loss: 0.8276 - accuracy: 0.8203\n",
            "Epoch 122/400\n",
            "4/4 [==============================] - 0s 20ms/step - loss: 0.8090 - accuracy: 0.8516\n",
            "Epoch 123/400\n",
            "4/4 [==============================] - 0s 18ms/step - loss: 0.7901 - accuracy: 0.8672\n",
            "Epoch 124/400\n",
            "4/4 [==============================] - 0s 17ms/step - loss: 0.7750 - accuracy: 0.8438\n",
            "Epoch 125/400\n",
            "4/4 [==============================] - 0s 20ms/step - loss: 0.7547 - accuracy: 0.8438\n",
            "Epoch 126/400\n",
            "4/4 [==============================] - 0s 21ms/step - loss: 0.7355 - accuracy: 0.8750\n",
            "Epoch 127/400\n",
            "4/4 [==============================] - 0s 18ms/step - loss: 0.7212 - accuracy: 0.9062\n",
            "Epoch 128/400\n",
            "4/4 [==============================] - 0s 19ms/step - loss: 0.7042 - accuracy: 0.8984\n",
            "Epoch 129/400\n",
            "4/4 [==============================] - 0s 18ms/step - loss: 0.6874 - accuracy: 0.8672\n",
            "Epoch 130/400\n",
            "4/4 [==============================] - 0s 20ms/step - loss: 0.6703 - accuracy: 0.8906\n",
            "Epoch 131/400\n",
            "4/4 [==============================] - 0s 22ms/step - loss: 0.6556 - accuracy: 0.9219\n",
            "Epoch 132/400\n",
            "4/4 [==============================] - 0s 19ms/step - loss: 0.6406 - accuracy: 0.9297\n",
            "Epoch 133/400\n",
            "4/4 [==============================] - 0s 20ms/step - loss: 0.6261 - accuracy: 0.9219\n",
            "Epoch 134/400\n",
            "4/4 [==============================] - 0s 22ms/step - loss: 0.6094 - accuracy: 0.9219\n",
            "Epoch 135/400\n",
            "4/4 [==============================] - 0s 21ms/step - loss: 0.5949 - accuracy: 0.9375\n",
            "Epoch 136/400\n",
            "4/4 [==============================] - 0s 19ms/step - loss: 0.5812 - accuracy: 0.9375\n",
            "Epoch 137/400\n",
            "4/4 [==============================] - 0s 20ms/step - loss: 0.5672 - accuracy: 0.9297\n",
            "Epoch 138/400\n",
            "4/4 [==============================] - 0s 20ms/step - loss: 0.5538 - accuracy: 0.9375\n",
            "Epoch 139/400\n",
            "4/4 [==============================] - 0s 20ms/step - loss: 0.5417 - accuracy: 0.9375\n",
            "Epoch 140/400\n",
            "4/4 [==============================] - 0s 21ms/step - loss: 0.5276 - accuracy: 0.9531\n",
            "Epoch 141/400\n",
            "4/4 [==============================] - 0s 21ms/step - loss: 0.5147 - accuracy: 0.9531\n",
            "Epoch 142/400\n",
            "4/4 [==============================] - 0s 21ms/step - loss: 0.5026 - accuracy: 0.9609\n",
            "Epoch 143/400\n",
            "4/4 [==============================] - 0s 20ms/step - loss: 0.4910 - accuracy: 0.9609\n",
            "Epoch 144/400\n",
            "4/4 [==============================] - 0s 19ms/step - loss: 0.4791 - accuracy: 0.9609\n",
            "Epoch 145/400\n",
            "4/4 [==============================] - 0s 23ms/step - loss: 0.4677 - accuracy: 0.9609\n",
            "Epoch 146/400\n",
            "4/4 [==============================] - 0s 19ms/step - loss: 0.4562 - accuracy: 0.9609\n",
            "Epoch 147/400\n",
            "4/4 [==============================] - 0s 19ms/step - loss: 0.4461 - accuracy: 0.9609\n",
            "Epoch 148/400\n",
            "4/4 [==============================] - 0s 19ms/step - loss: 0.4351 - accuracy: 0.9688\n",
            "Epoch 149/400\n",
            "4/4 [==============================] - 0s 22ms/step - loss: 0.4255 - accuracy: 0.9609\n",
            "Epoch 150/400\n",
            "4/4 [==============================] - 0s 21ms/step - loss: 0.4159 - accuracy: 0.9688\n",
            "Epoch 151/400\n",
            "4/4 [==============================] - 0s 24ms/step - loss: 0.4050 - accuracy: 0.9688\n",
            "Epoch 152/400\n",
            "4/4 [==============================] - 0s 20ms/step - loss: 0.3951 - accuracy: 0.9688\n",
            "Epoch 153/400\n",
            "4/4 [==============================] - 0s 20ms/step - loss: 0.3857 - accuracy: 0.9688\n",
            "Epoch 154/400\n",
            "4/4 [==============================] - 0s 23ms/step - loss: 0.3775 - accuracy: 0.9688\n",
            "Epoch 155/400\n",
            "4/4 [==============================] - 0s 20ms/step - loss: 0.3670 - accuracy: 0.9688\n",
            "Epoch 156/400\n",
            "4/4 [==============================] - 0s 20ms/step - loss: 0.3614 - accuracy: 0.9688\n",
            "Epoch 157/400\n",
            "4/4 [==============================] - 0s 19ms/step - loss: 0.3511 - accuracy: 0.9688\n",
            "Epoch 158/400\n",
            "4/4 [==============================] - 0s 24ms/step - loss: 0.3419 - accuracy: 0.9688\n",
            "Epoch 159/400\n",
            "4/4 [==============================] - 0s 21ms/step - loss: 0.3349 - accuracy: 0.9766\n",
            "Epoch 160/400\n",
            "4/4 [==============================] - 0s 19ms/step - loss: 0.3279 - accuracy: 0.9688\n",
            "Epoch 161/400\n",
            "4/4 [==============================] - 0s 19ms/step - loss: 0.3186 - accuracy: 0.9688\n",
            "Epoch 162/400\n",
            "4/4 [==============================] - 0s 21ms/step - loss: 0.3112 - accuracy: 0.9688\n",
            "Epoch 163/400\n",
            "4/4 [==============================] - 0s 19ms/step - loss: 0.3045 - accuracy: 0.9766\n",
            "Epoch 164/400\n",
            "4/4 [==============================] - 0s 21ms/step - loss: 0.2971 - accuracy: 0.9766\n",
            "Epoch 165/400\n",
            "4/4 [==============================] - 0s 18ms/step - loss: 0.2906 - accuracy: 0.9766\n",
            "Epoch 166/400\n",
            "4/4 [==============================] - 0s 18ms/step - loss: 0.2827 - accuracy: 0.9766\n",
            "Epoch 167/400\n",
            "4/4 [==============================] - 0s 20ms/step - loss: 0.2767 - accuracy: 0.9766\n",
            "Epoch 168/400\n",
            "4/4 [==============================] - 0s 19ms/step - loss: 0.2699 - accuracy: 0.9766\n",
            "Epoch 169/400\n",
            "4/4 [==============================] - 0s 20ms/step - loss: 0.2635 - accuracy: 0.9766\n",
            "Epoch 170/400\n",
            "4/4 [==============================] - 0s 23ms/step - loss: 0.2581 - accuracy: 0.9766\n",
            "Epoch 171/400\n",
            "4/4 [==============================] - 0s 21ms/step - loss: 0.2516 - accuracy: 0.9766\n",
            "Epoch 172/400\n",
            "4/4 [==============================] - 0s 19ms/step - loss: 0.2462 - accuracy: 0.9766\n",
            "Epoch 173/400\n",
            "4/4 [==============================] - 0s 21ms/step - loss: 0.2403 - accuracy: 0.9766\n",
            "Epoch 174/400\n",
            "4/4 [==============================] - 0s 20ms/step - loss: 0.2347 - accuracy: 0.9766\n",
            "Epoch 175/400\n",
            "4/4 [==============================] - 0s 20ms/step - loss: 0.2300 - accuracy: 0.9766\n",
            "Epoch 176/400\n",
            "4/4 [==============================] - 0s 20ms/step - loss: 0.2242 - accuracy: 0.9766\n",
            "Epoch 177/400\n",
            "4/4 [==============================] - 0s 21ms/step - loss: 0.2192 - accuracy: 0.9766\n",
            "Epoch 178/400\n",
            "4/4 [==============================] - 0s 21ms/step - loss: 0.2148 - accuracy: 0.9766\n",
            "Epoch 179/400\n",
            "4/4 [==============================] - 0s 20ms/step - loss: 0.2097 - accuracy: 0.9766\n",
            "Epoch 180/400\n",
            "4/4 [==============================] - 0s 21ms/step - loss: 0.2050 - accuracy: 0.9766\n",
            "Epoch 181/400\n",
            "4/4 [==============================] - 0s 22ms/step - loss: 0.2011 - accuracy: 0.9766\n",
            "Epoch 182/400\n",
            "4/4 [==============================] - 0s 22ms/step - loss: 0.1971 - accuracy: 0.9766\n",
            "Epoch 183/400\n",
            "4/4 [==============================] - 0s 21ms/step - loss: 0.1915 - accuracy: 0.9766\n",
            "Epoch 184/400\n",
            "4/4 [==============================] - 0s 23ms/step - loss: 0.1879 - accuracy: 0.9766\n",
            "Epoch 185/400\n",
            "4/4 [==============================] - 0s 18ms/step - loss: 0.1840 - accuracy: 0.9766\n",
            "Epoch 186/400\n",
            "4/4 [==============================] - 0s 22ms/step - loss: 0.1800 - accuracy: 0.9766\n",
            "Epoch 187/400\n",
            "4/4 [==============================] - 0s 21ms/step - loss: 0.1759 - accuracy: 0.9766\n",
            "Epoch 188/400\n",
            "4/4 [==============================] - 0s 19ms/step - loss: 0.1722 - accuracy: 0.9766\n",
            "Epoch 189/400\n",
            "4/4 [==============================] - 0s 19ms/step - loss: 0.1687 - accuracy: 0.9766\n",
            "Epoch 190/400\n",
            "4/4 [==============================] - 0s 21ms/step - loss: 0.1649 - accuracy: 0.9766\n",
            "Epoch 191/400\n",
            "4/4 [==============================] - 0s 20ms/step - loss: 0.1618 - accuracy: 0.9766\n",
            "Epoch 192/400\n",
            "4/4 [==============================] - 0s 20ms/step - loss: 0.1587 - accuracy: 0.9844\n",
            "Epoch 193/400\n",
            "4/4 [==============================] - 0s 19ms/step - loss: 0.1550 - accuracy: 0.9844\n",
            "Epoch 194/400\n",
            "4/4 [==============================] - 0s 20ms/step - loss: 0.1515 - accuracy: 0.9844\n",
            "Epoch 195/400\n",
            "4/4 [==============================] - 0s 23ms/step - loss: 0.1484 - accuracy: 0.9844\n",
            "Epoch 196/400\n",
            "4/4 [==============================] - 0s 22ms/step - loss: 0.1453 - accuracy: 0.9844\n",
            "Epoch 197/400\n",
            "4/4 [==============================] - 0s 20ms/step - loss: 0.1427 - accuracy: 0.9844\n",
            "Epoch 198/400\n",
            "4/4 [==============================] - 0s 20ms/step - loss: 0.1398 - accuracy: 0.9844\n",
            "Epoch 199/400\n",
            "4/4 [==============================] - 0s 19ms/step - loss: 0.1367 - accuracy: 0.9844\n",
            "Epoch 200/400\n",
            "4/4 [==============================] - 0s 22ms/step - loss: 0.1347 - accuracy: 0.9844\n",
            "Epoch 201/400\n",
            "4/4 [==============================] - 0s 22ms/step - loss: 0.1326 - accuracy: 0.9844\n",
            "Epoch 202/400\n",
            "4/4 [==============================] - 0s 19ms/step - loss: 0.1287 - accuracy: 0.9844\n",
            "Epoch 203/400\n",
            "4/4 [==============================] - 0s 22ms/step - loss: 0.1260 - accuracy: 0.9844\n",
            "Epoch 204/400\n",
            "4/4 [==============================] - 0s 19ms/step - loss: 0.1237 - accuracy: 0.9844\n",
            "Epoch 205/400\n",
            "4/4 [==============================] - 0s 19ms/step - loss: 0.1213 - accuracy: 0.9844\n",
            "Epoch 206/400\n",
            "4/4 [==============================] - 0s 22ms/step - loss: 0.1191 - accuracy: 0.9844\n",
            "Epoch 207/400\n",
            "4/4 [==============================] - 0s 24ms/step - loss: 0.1166 - accuracy: 0.9844\n",
            "Epoch 208/400\n",
            "4/4 [==============================] - 0s 21ms/step - loss: 0.1142 - accuracy: 0.9844\n",
            "Epoch 209/400\n",
            "4/4 [==============================] - 0s 25ms/step - loss: 0.1119 - accuracy: 0.9844\n",
            "Epoch 210/400\n",
            "4/4 [==============================] - 0s 25ms/step - loss: 0.1100 - accuracy: 0.9844\n",
            "Epoch 211/400\n",
            "4/4 [==============================] - 0s 22ms/step - loss: 0.1078 - accuracy: 0.9844\n",
            "Epoch 212/400\n",
            "4/4 [==============================] - 0s 20ms/step - loss: 0.1057 - accuracy: 0.9844\n",
            "Epoch 213/400\n",
            "4/4 [==============================] - 0s 19ms/step - loss: 0.1037 - accuracy: 0.9844\n",
            "Epoch 214/400\n",
            "4/4 [==============================] - 0s 19ms/step - loss: 0.1017 - accuracy: 0.9844\n",
            "Epoch 215/400\n",
            "4/4 [==============================] - 0s 22ms/step - loss: 0.0998 - accuracy: 0.9844\n",
            "Epoch 216/400\n",
            "4/4 [==============================] - 0s 23ms/step - loss: 0.0977 - accuracy: 0.9844\n",
            "Epoch 217/400\n",
            "4/4 [==============================] - 0s 20ms/step - loss: 0.0958 - accuracy: 0.9844\n",
            "Epoch 218/400\n",
            "4/4 [==============================] - 0s 21ms/step - loss: 0.0944 - accuracy: 0.9844\n",
            "Epoch 219/400\n",
            "4/4 [==============================] - 0s 21ms/step - loss: 0.0922 - accuracy: 0.9844\n",
            "Epoch 220/400\n",
            "4/4 [==============================] - 0s 20ms/step - loss: 0.0904 - accuracy: 0.9922\n",
            "Epoch 221/400\n",
            "4/4 [==============================] - 0s 23ms/step - loss: 0.0888 - accuracy: 0.9922\n",
            "Epoch 222/400\n",
            "4/4 [==============================] - 0s 21ms/step - loss: 0.0874 - accuracy: 0.9922\n",
            "Epoch 223/400\n",
            "4/4 [==============================] - 0s 22ms/step - loss: 0.0855 - accuracy: 0.9922\n",
            "Epoch 224/400\n",
            "4/4 [==============================] - 0s 22ms/step - loss: 0.0841 - accuracy: 0.9922\n",
            "Epoch 225/400\n",
            "4/4 [==============================] - 0s 22ms/step - loss: 0.0824 - accuracy: 0.9922\n",
            "Epoch 226/400\n",
            "4/4 [==============================] - 0s 21ms/step - loss: 0.0811 - accuracy: 0.9922\n",
            "Epoch 227/400\n",
            "4/4 [==============================] - 0s 24ms/step - loss: 0.0795 - accuracy: 0.9922\n",
            "Epoch 228/400\n",
            "4/4 [==============================] - 0s 20ms/step - loss: 0.0782 - accuracy: 0.9922\n",
            "Epoch 229/400\n",
            "4/4 [==============================] - 0s 21ms/step - loss: 0.0768 - accuracy: 0.9922\n",
            "Epoch 230/400\n",
            "4/4 [==============================] - 0s 19ms/step - loss: 0.0755 - accuracy: 0.9922\n",
            "Epoch 231/400\n",
            "4/4 [==============================] - 0s 20ms/step - loss: 0.0741 - accuracy: 1.0000\n",
            "Epoch 232/400\n",
            "4/4 [==============================] - 0s 21ms/step - loss: 0.0729 - accuracy: 0.9922\n",
            "Epoch 233/400\n",
            "4/4 [==============================] - 0s 21ms/step - loss: 0.0716 - accuracy: 1.0000\n",
            "Epoch 234/400\n",
            "4/4 [==============================] - 0s 25ms/step - loss: 0.0702 - accuracy: 1.0000\n",
            "Epoch 235/400\n",
            "4/4 [==============================] - 0s 20ms/step - loss: 0.0690 - accuracy: 1.0000\n",
            "Epoch 236/400\n",
            "4/4 [==============================] - 0s 21ms/step - loss: 0.0679 - accuracy: 1.0000\n",
            "Epoch 237/400\n",
            "4/4 [==============================] - 0s 19ms/step - loss: 0.0666 - accuracy: 1.0000\n",
            "Epoch 238/400\n",
            "4/4 [==============================] - 0s 21ms/step - loss: 0.0655 - accuracy: 1.0000\n",
            "Epoch 239/400\n",
            "4/4 [==============================] - 0s 19ms/step - loss: 0.0644 - accuracy: 1.0000\n",
            "Epoch 240/400\n",
            "4/4 [==============================] - 0s 22ms/step - loss: 0.0636 - accuracy: 1.0000\n",
            "Epoch 241/400\n",
            "4/4 [==============================] - 0s 21ms/step - loss: 0.0623 - accuracy: 1.0000\n",
            "Epoch 242/400\n",
            "4/4 [==============================] - 0s 20ms/step - loss: 0.0612 - accuracy: 1.0000\n",
            "Epoch 243/400\n",
            "4/4 [==============================] - 0s 20ms/step - loss: 0.0602 - accuracy: 1.0000\n",
            "Epoch 244/400\n",
            "4/4 [==============================] - 0s 20ms/step - loss: 0.0592 - accuracy: 1.0000\n",
            "Epoch 245/400\n",
            "4/4 [==============================] - 0s 19ms/step - loss: 0.0582 - accuracy: 1.0000\n",
            "Epoch 246/400\n",
            "4/4 [==============================] - 0s 19ms/step - loss: 0.0571 - accuracy: 1.0000\n",
            "Epoch 247/400\n",
            "4/4 [==============================] - 0s 22ms/step - loss: 0.0564 - accuracy: 1.0000\n",
            "Epoch 248/400\n",
            "4/4 [==============================] - 0s 19ms/step - loss: 0.0553 - accuracy: 1.0000\n",
            "Epoch 249/400\n",
            "4/4 [==============================] - 0s 21ms/step - loss: 0.0543 - accuracy: 1.0000\n",
            "Epoch 250/400\n",
            "4/4 [==============================] - 0s 21ms/step - loss: 0.0534 - accuracy: 1.0000\n",
            "Epoch 251/400\n",
            "4/4 [==============================] - 0s 21ms/step - loss: 0.0526 - accuracy: 1.0000\n",
            "Epoch 252/400\n",
            "4/4 [==============================] - 0s 19ms/step - loss: 0.0517 - accuracy: 1.0000\n",
            "Epoch 253/400\n",
            "4/4 [==============================] - 0s 19ms/step - loss: 0.0509 - accuracy: 1.0000\n",
            "Epoch 254/400\n",
            "4/4 [==============================] - 0s 20ms/step - loss: 0.0500 - accuracy: 1.0000\n",
            "Epoch 255/400\n",
            "4/4 [==============================] - 0s 21ms/step - loss: 0.0493 - accuracy: 1.0000\n",
            "Epoch 256/400\n",
            "4/4 [==============================] - 0s 22ms/step - loss: 0.0485 - accuracy: 1.0000\n",
            "Epoch 257/400\n",
            "4/4 [==============================] - 0s 19ms/step - loss: 0.0478 - accuracy: 1.0000\n",
            "Epoch 258/400\n",
            "4/4 [==============================] - 0s 19ms/step - loss: 0.0470 - accuracy: 1.0000\n",
            "Epoch 259/400\n",
            "4/4 [==============================] - 0s 23ms/step - loss: 0.0464 - accuracy: 1.0000\n",
            "Epoch 260/400\n",
            "4/4 [==============================] - 0s 20ms/step - loss: 0.0455 - accuracy: 1.0000\n",
            "Epoch 261/400\n",
            "4/4 [==============================] - 0s 22ms/step - loss: 0.0450 - accuracy: 1.0000\n",
            "Epoch 262/400\n",
            "4/4 [==============================] - 0s 22ms/step - loss: 0.0442 - accuracy: 1.0000\n",
            "Epoch 263/400\n",
            "4/4 [==============================] - 0s 21ms/step - loss: 0.0434 - accuracy: 1.0000\n",
            "Epoch 264/400\n",
            "4/4 [==============================] - 0s 22ms/step - loss: 0.0428 - accuracy: 1.0000\n",
            "Epoch 265/400\n",
            "4/4 [==============================] - 0s 19ms/step - loss: 0.0421 - accuracy: 1.0000\n",
            "Epoch 266/400\n",
            "4/4 [==============================] - 0s 22ms/step - loss: 0.0414 - accuracy: 1.0000\n",
            "Epoch 267/400\n",
            "4/4 [==============================] - 0s 21ms/step - loss: 0.0409 - accuracy: 1.0000\n",
            "Epoch 268/400\n",
            "4/4 [==============================] - 0s 21ms/step - loss: 0.0402 - accuracy: 1.0000\n",
            "Epoch 269/400\n",
            "4/4 [==============================] - 0s 19ms/step - loss: 0.0396 - accuracy: 1.0000\n",
            "Epoch 270/400\n",
            "4/4 [==============================] - 0s 18ms/step - loss: 0.0390 - accuracy: 1.0000\n",
            "Epoch 271/400\n",
            "4/4 [==============================] - 0s 21ms/step - loss: 0.0384 - accuracy: 1.0000\n",
            "Epoch 272/400\n",
            "4/4 [==============================] - 0s 20ms/step - loss: 0.0379 - accuracy: 1.0000\n",
            "Epoch 273/400\n",
            "4/4 [==============================] - 0s 19ms/step - loss: 0.0373 - accuracy: 1.0000\n",
            "Epoch 274/400\n",
            "4/4 [==============================] - 0s 20ms/step - loss: 0.0368 - accuracy: 1.0000\n",
            "Epoch 275/400\n",
            "4/4 [==============================] - 0s 22ms/step - loss: 0.0362 - accuracy: 1.0000\n",
            "Epoch 276/400\n",
            "4/4 [==============================] - 0s 21ms/step - loss: 0.0357 - accuracy: 1.0000\n",
            "Epoch 277/400\n",
            "4/4 [==============================] - 0s 19ms/step - loss: 0.0354 - accuracy: 1.0000\n",
            "Epoch 278/400\n",
            "4/4 [==============================] - 0s 22ms/step - loss: 0.0346 - accuracy: 1.0000\n",
            "Epoch 279/400\n",
            "4/4 [==============================] - 0s 22ms/step - loss: 0.0342 - accuracy: 1.0000\n",
            "Epoch 280/400\n",
            "4/4 [==============================] - 0s 21ms/step - loss: 0.0337 - accuracy: 1.0000\n",
            "Epoch 281/400\n",
            "4/4 [==============================] - 0s 25ms/step - loss: 0.0331 - accuracy: 1.0000\n",
            "Epoch 282/400\n",
            "4/4 [==============================] - 0s 20ms/step - loss: 0.0330 - accuracy: 1.0000\n",
            "Epoch 283/400\n",
            "4/4 [==============================] - 0s 21ms/step - loss: 0.0323 - accuracy: 1.0000\n",
            "Epoch 284/400\n",
            "4/4 [==============================] - 0s 20ms/step - loss: 0.0318 - accuracy: 1.0000\n",
            "Epoch 285/400\n",
            "4/4 [==============================] - 0s 19ms/step - loss: 0.0314 - accuracy: 1.0000\n",
            "Epoch 286/400\n",
            "4/4 [==============================] - 0s 19ms/step - loss: 0.0309 - accuracy: 1.0000\n",
            "Epoch 287/400\n",
            "4/4 [==============================] - 0s 22ms/step - loss: 0.0304 - accuracy: 1.0000\n",
            "Epoch 288/400\n",
            "4/4 [==============================] - 0s 24ms/step - loss: 0.0300 - accuracy: 1.0000\n",
            "Epoch 289/400\n",
            "4/4 [==============================] - 0s 19ms/step - loss: 0.0297 - accuracy: 1.0000\n",
            "Epoch 290/400\n",
            "4/4 [==============================] - 0s 20ms/step - loss: 0.0293 - accuracy: 1.0000\n",
            "Epoch 291/400\n",
            "4/4 [==============================] - 0s 22ms/step - loss: 0.0289 - accuracy: 1.0000\n",
            "Epoch 292/400\n",
            "4/4 [==============================] - 0s 21ms/step - loss: 0.0284 - accuracy: 1.0000\n",
            "Epoch 293/400\n",
            "4/4 [==============================] - 0s 22ms/step - loss: 0.0280 - accuracy: 1.0000\n",
            "Epoch 294/400\n",
            "4/4 [==============================] - 0s 25ms/step - loss: 0.0277 - accuracy: 1.0000\n",
            "Epoch 295/400\n",
            "4/4 [==============================] - 0s 20ms/step - loss: 0.0273 - accuracy: 1.0000\n",
            "Epoch 296/400\n",
            "4/4 [==============================] - 0s 20ms/step - loss: 0.0270 - accuracy: 1.0000\n",
            "Epoch 297/400\n",
            "4/4 [==============================] - 0s 20ms/step - loss: 0.0266 - accuracy: 1.0000\n",
            "Epoch 298/400\n",
            "4/4 [==============================] - 0s 21ms/step - loss: 0.0263 - accuracy: 1.0000\n",
            "Epoch 299/400\n",
            "4/4 [==============================] - 0s 22ms/step - loss: 0.0259 - accuracy: 1.0000\n",
            "Epoch 300/400\n",
            "4/4 [==============================] - 0s 20ms/step - loss: 0.0256 - accuracy: 1.0000\n",
            "Epoch 301/400\n",
            "4/4 [==============================] - 0s 19ms/step - loss: 0.0253 - accuracy: 1.0000\n",
            "Epoch 302/400\n",
            "4/4 [==============================] - 0s 26ms/step - loss: 0.0249 - accuracy: 1.0000\n",
            "Epoch 303/400\n",
            "4/4 [==============================] - 0s 20ms/step - loss: 0.0246 - accuracy: 1.0000\n",
            "Epoch 304/400\n",
            "4/4 [==============================] - 0s 20ms/step - loss: 0.0243 - accuracy: 1.0000\n",
            "Epoch 305/400\n",
            "4/4 [==============================] - 0s 20ms/step - loss: 0.0240 - accuracy: 1.0000\n",
            "Epoch 306/400\n",
            "4/4 [==============================] - 0s 19ms/step - loss: 0.0236 - accuracy: 1.0000\n",
            "Epoch 307/400\n",
            "4/4 [==============================] - 0s 20ms/step - loss: 0.0234 - accuracy: 1.0000\n",
            "Epoch 308/400\n",
            "4/4 [==============================] - 0s 21ms/step - loss: 0.0231 - accuracy: 1.0000\n",
            "Epoch 309/400\n",
            "4/4 [==============================] - 0s 20ms/step - loss: 0.0228 - accuracy: 1.0000\n",
            "Epoch 310/400\n",
            "4/4 [==============================] - 0s 19ms/step - loss: 0.0225 - accuracy: 1.0000\n",
            "Epoch 311/400\n",
            "4/4 [==============================] - 0s 22ms/step - loss: 0.0223 - accuracy: 1.0000\n",
            "Epoch 312/400\n",
            "4/4 [==============================] - 0s 21ms/step - loss: 0.0220 - accuracy: 1.0000\n",
            "Epoch 313/400\n",
            "4/4 [==============================] - 0s 23ms/step - loss: 0.0216 - accuracy: 1.0000\n",
            "Epoch 314/400\n",
            "4/4 [==============================] - 0s 20ms/step - loss: 0.0214 - accuracy: 1.0000\n",
            "Epoch 315/400\n",
            "4/4 [==============================] - 0s 20ms/step - loss: 0.0212 - accuracy: 1.0000\n",
            "Epoch 316/400\n",
            "4/4 [==============================] - 0s 20ms/step - loss: 0.0209 - accuracy: 1.0000\n",
            "Epoch 317/400\n",
            "4/4 [==============================] - 0s 19ms/step - loss: 0.0206 - accuracy: 1.0000\n",
            "Epoch 318/400\n",
            "4/4 [==============================] - 0s 22ms/step - loss: 0.0204 - accuracy: 1.0000\n",
            "Epoch 319/400\n",
            "4/4 [==============================] - 0s 21ms/step - loss: 0.0202 - accuracy: 1.0000\n",
            "Epoch 320/400\n",
            "4/4 [==============================] - 0s 26ms/step - loss: 0.0199 - accuracy: 1.0000\n",
            "Epoch 321/400\n",
            "4/4 [==============================] - 0s 22ms/step - loss: 0.0197 - accuracy: 1.0000\n",
            "Epoch 322/400\n",
            "4/4 [==============================] - 0s 20ms/step - loss: 0.0194 - accuracy: 1.0000\n",
            "Epoch 323/400\n",
            "4/4 [==============================] - 0s 19ms/step - loss: 0.0192 - accuracy: 1.0000\n",
            "Epoch 324/400\n",
            "4/4 [==============================] - 0s 20ms/step - loss: 0.0190 - accuracy: 1.0000\n",
            "Epoch 325/400\n",
            "4/4 [==============================] - 0s 19ms/step - loss: 0.0188 - accuracy: 1.0000\n",
            "Epoch 326/400\n",
            "4/4 [==============================] - 0s 19ms/step - loss: 0.0185 - accuracy: 1.0000\n",
            "Epoch 327/400\n",
            "4/4 [==============================] - 0s 19ms/step - loss: 0.0183 - accuracy: 1.0000\n",
            "Epoch 328/400\n",
            "4/4 [==============================] - 0s 20ms/step - loss: 0.0182 - accuracy: 1.0000\n",
            "Epoch 329/400\n",
            "4/4 [==============================] - 0s 22ms/step - loss: 0.0179 - accuracy: 1.0000\n",
            "Epoch 330/400\n",
            "4/4 [==============================] - 0s 22ms/step - loss: 0.0177 - accuracy: 1.0000\n",
            "Epoch 331/400\n",
            "4/4 [==============================] - 0s 22ms/step - loss: 0.0175 - accuracy: 1.0000\n",
            "Epoch 332/400\n",
            "4/4 [==============================] - 0s 20ms/step - loss: 0.0173 - accuracy: 1.0000\n",
            "Epoch 333/400\n",
            "4/4 [==============================] - 0s 21ms/step - loss: 0.0171 - accuracy: 1.0000\n",
            "Epoch 334/400\n",
            "4/4 [==============================] - 0s 23ms/step - loss: 0.0170 - accuracy: 1.0000\n",
            "Epoch 335/400\n",
            "4/4 [==============================] - 0s 21ms/step - loss: 0.0168 - accuracy: 1.0000\n",
            "Epoch 336/400\n",
            "4/4 [==============================] - 0s 20ms/step - loss: 0.0166 - accuracy: 1.0000\n",
            "Epoch 337/400\n",
            "4/4 [==============================] - 0s 21ms/step - loss: 0.0164 - accuracy: 1.0000\n",
            "Epoch 338/400\n",
            "4/4 [==============================] - 0s 21ms/step - loss: 0.0162 - accuracy: 1.0000\n",
            "Epoch 339/400\n",
            "4/4 [==============================] - 0s 20ms/step - loss: 0.0160 - accuracy: 1.0000\n",
            "Epoch 340/400\n",
            "4/4 [==============================] - 0s 19ms/step - loss: 0.0159 - accuracy: 1.0000\n",
            "Epoch 341/400\n",
            "4/4 [==============================] - 0s 21ms/step - loss: 0.0157 - accuracy: 1.0000\n",
            "Epoch 342/400\n",
            "4/4 [==============================] - 0s 21ms/step - loss: 0.0155 - accuracy: 1.0000\n",
            "Epoch 343/400\n",
            "4/4 [==============================] - 0s 21ms/step - loss: 0.0154 - accuracy: 1.0000\n",
            "Epoch 344/400\n",
            "4/4 [==============================] - 0s 20ms/step - loss: 0.0152 - accuracy: 1.0000\n",
            "Epoch 345/400\n",
            "4/4 [==============================] - 0s 25ms/step - loss: 0.0150 - accuracy: 1.0000\n",
            "Epoch 346/400\n",
            "4/4 [==============================] - 0s 19ms/step - loss: 0.0149 - accuracy: 1.0000\n",
            "Epoch 347/400\n",
            "4/4 [==============================] - 0s 18ms/step - loss: 0.0147 - accuracy: 1.0000\n",
            "Epoch 348/400\n",
            "4/4 [==============================] - 0s 20ms/step - loss: 0.0146 - accuracy: 1.0000\n",
            "Epoch 349/400\n",
            "4/4 [==============================] - 0s 22ms/step - loss: 0.0144 - accuracy: 1.0000\n",
            "Epoch 350/400\n",
            "4/4 [==============================] - 0s 22ms/step - loss: 0.0142 - accuracy: 1.0000\n",
            "Epoch 351/400\n",
            "4/4 [==============================] - 0s 20ms/step - loss: 0.0141 - accuracy: 1.0000\n",
            "Epoch 352/400\n",
            "4/4 [==============================] - 0s 21ms/step - loss: 0.0140 - accuracy: 1.0000\n",
            "Epoch 353/400\n",
            "4/4 [==============================] - 0s 23ms/step - loss: 0.0138 - accuracy: 1.0000\n",
            "Epoch 354/400\n",
            "4/4 [==============================] - 0s 23ms/step - loss: 0.0137 - accuracy: 1.0000\n",
            "Epoch 355/400\n",
            "4/4 [==============================] - 0s 21ms/step - loss: 0.0135 - accuracy: 1.0000\n",
            "Epoch 356/400\n",
            "4/4 [==============================] - 0s 20ms/step - loss: 0.0134 - accuracy: 1.0000\n",
            "Epoch 357/400\n",
            "4/4 [==============================] - 0s 20ms/step - loss: 0.0133 - accuracy: 1.0000\n",
            "Epoch 358/400\n",
            "4/4 [==============================] - 0s 20ms/step - loss: 0.0131 - accuracy: 1.0000\n",
            "Epoch 359/400\n",
            "4/4 [==============================] - 0s 19ms/step - loss: 0.0130 - accuracy: 1.0000\n",
            "Epoch 360/400\n",
            "4/4 [==============================] - 0s 21ms/step - loss: 0.0129 - accuracy: 1.0000\n",
            "Epoch 361/400\n",
            "4/4 [==============================] - 0s 20ms/step - loss: 0.0127 - accuracy: 1.0000\n",
            "Epoch 362/400\n",
            "4/4 [==============================] - 0s 21ms/step - loss: 0.0126 - accuracy: 1.0000\n",
            "Epoch 363/400\n",
            "4/4 [==============================] - 0s 21ms/step - loss: 0.0125 - accuracy: 1.0000\n",
            "Epoch 364/400\n",
            "4/4 [==============================] - 0s 20ms/step - loss: 0.0124 - accuracy: 1.0000\n",
            "Epoch 365/400\n",
            "4/4 [==============================] - 0s 22ms/step - loss: 0.0122 - accuracy: 1.0000\n",
            "Epoch 366/400\n",
            "4/4 [==============================] - 0s 29ms/step - loss: 0.0121 - accuracy: 1.0000\n",
            "Epoch 367/400\n",
            "4/4 [==============================] - 0s 21ms/step - loss: 0.0120 - accuracy: 1.0000\n",
            "Epoch 368/400\n",
            "4/4 [==============================] - 0s 21ms/step - loss: 0.0119 - accuracy: 1.0000\n",
            "Epoch 369/400\n",
            "4/4 [==============================] - 0s 21ms/step - loss: 0.0118 - accuracy: 1.0000\n",
            "Epoch 370/400\n",
            "4/4 [==============================] - 0s 22ms/step - loss: 0.0116 - accuracy: 1.0000\n",
            "Epoch 371/400\n",
            "4/4 [==============================] - 0s 20ms/step - loss: 0.0115 - accuracy: 1.0000\n",
            "Epoch 372/400\n",
            "4/4 [==============================] - 0s 20ms/step - loss: 0.0114 - accuracy: 1.0000\n",
            "Epoch 373/400\n",
            "4/4 [==============================] - 0s 22ms/step - loss: 0.0114 - accuracy: 1.0000\n",
            "Epoch 374/400\n",
            "4/4 [==============================] - 0s 20ms/step - loss: 0.0112 - accuracy: 1.0000\n",
            "Epoch 375/400\n",
            "4/4 [==============================] - 0s 21ms/step - loss: 0.0111 - accuracy: 1.0000\n",
            "Epoch 376/400\n",
            "4/4 [==============================] - 0s 24ms/step - loss: 0.0110 - accuracy: 1.0000\n",
            "Epoch 377/400\n",
            "4/4 [==============================] - 0s 19ms/step - loss: 0.0109 - accuracy: 1.0000\n",
            "Epoch 378/400\n",
            "4/4 [==============================] - 0s 20ms/step - loss: 0.0108 - accuracy: 1.0000\n",
            "Epoch 379/400\n",
            "4/4 [==============================] - 0s 21ms/step - loss: 0.0108 - accuracy: 1.0000\n",
            "Epoch 380/400\n",
            "4/4 [==============================] - 0s 21ms/step - loss: 0.0106 - accuracy: 1.0000\n",
            "Epoch 381/400\n",
            "4/4 [==============================] - 0s 21ms/step - loss: 0.0105 - accuracy: 1.0000\n",
            "Epoch 382/400\n",
            "4/4 [==============================] - 0s 22ms/step - loss: 0.0104 - accuracy: 1.0000\n",
            "Epoch 383/400\n",
            "4/4 [==============================] - 0s 20ms/step - loss: 0.0103 - accuracy: 1.0000\n",
            "Epoch 384/400\n",
            "4/4 [==============================] - 0s 21ms/step - loss: 0.0102 - accuracy: 1.0000\n",
            "Epoch 385/400\n",
            "4/4 [==============================] - 0s 21ms/step - loss: 0.0101 - accuracy: 1.0000\n",
            "Epoch 386/400\n",
            "4/4 [==============================] - 0s 22ms/step - loss: 0.0100 - accuracy: 1.0000\n",
            "Epoch 387/400\n",
            "4/4 [==============================] - 0s 20ms/step - loss: 0.0099 - accuracy: 1.0000\n",
            "Epoch 388/400\n",
            "4/4 [==============================] - 0s 21ms/step - loss: 0.0099 - accuracy: 1.0000\n",
            "Epoch 389/400\n",
            "4/4 [==============================] - 0s 21ms/step - loss: 0.0098 - accuracy: 1.0000\n",
            "Epoch 390/400\n",
            "4/4 [==============================] - 0s 21ms/step - loss: 0.0097 - accuracy: 1.0000\n",
            "Epoch 391/400\n",
            "4/4 [==============================] - 0s 23ms/step - loss: 0.0096 - accuracy: 1.0000\n",
            "Epoch 392/400\n",
            "4/4 [==============================] - 0s 21ms/step - loss: 0.0095 - accuracy: 1.0000\n",
            "Epoch 393/400\n",
            "4/4 [==============================] - 0s 23ms/step - loss: 0.0094 - accuracy: 1.0000\n",
            "Epoch 394/400\n",
            "4/4 [==============================] - 0s 20ms/step - loss: 0.0094 - accuracy: 1.0000\n",
            "Epoch 395/400\n",
            "4/4 [==============================] - 0s 20ms/step - loss: 0.0093 - accuracy: 1.0000\n",
            "Epoch 396/400\n",
            "4/4 [==============================] - 0s 20ms/step - loss: 0.0092 - accuracy: 1.0000\n",
            "Epoch 397/400\n",
            "4/4 [==============================] - 0s 23ms/step - loss: 0.0091 - accuracy: 1.0000\n",
            "Epoch 398/400\n",
            "4/4 [==============================] - 0s 19ms/step - loss: 0.0090 - accuracy: 1.0000\n",
            "Epoch 399/400\n",
            "4/4 [==============================] - 0s 21ms/step - loss: 0.0090 - accuracy: 1.0000\n",
            "Epoch 400/400\n",
            "4/4 [==============================] - 0s 22ms/step - loss: 0.0089 - accuracy: 1.0000\n"
          ],
          "name": "stdout"
        },
        {
          "output_type": "execute_result",
          "data": {
            "text/plain": [
              "<keras.callbacks.History at 0x7f0b26d63710>"
            ]
          },
          "metadata": {},
          "execution_count": 231
        }
      ]
    },
    {
      "cell_type": "code",
      "metadata": {
        "colab": {
          "base_uri": "https://localhost:8080/",
          "height": 265
        },
        "id": "4Eab0zdzvXhD",
        "outputId": "8564b1e9-3e21-43d5-a4ef-b76a9a6964dc"
      },
      "source": [
        "import matplotlib.pyplot as plt\n",
        "plt.plot(model.history.history['loss']);"
      ],
      "execution_count": 232,
      "outputs": [
        {
          "output_type": "display_data",
          "data": {
            "image/png": "[encoded data removed]",
            "text/plain": [
              "<Figure size 432x288 with 1 Axes>"
            ]
          },
          "metadata": {
            "needs_background": "light"
          }
        }
      ]
    },
    {
      "cell_type": "markdown",
      "metadata": {
        "id": "LLpC7INpNhKr"
      },
      "source": [
        "**The Training loss is gradually decreasing**"
      ]
    },
    {
      "cell_type": "code",
      "metadata": {
        "colab": {
          "base_uri": "https://localhost:8080/",
          "height": 265
        },
        "id": "MKs8UlFBwizn",
        "outputId": "51cec216-0bf1-461a-b60d-1c9168db1912"
      },
      "source": [
        "plt.plot(model.history.history['accuracy']);"
      ],
      "execution_count": 233,
      "outputs": [
        {
          "output_type": "display_data",
          "data": {
            "image/png": "[encoded data removed]",
            "text/plain": [
              "<Figure size 432x288 with 1 Axes>"
            ]
          },
          "metadata": {
            "needs_background": "light"
          }
        }
      ]
    },
    {
      "cell_type": "markdown",
      "metadata": {
        "id": "UJ-_Oh-yNrIU"
      },
      "source": [
        "**Accuracy is also gradually increasing**"
      ]
    },
    {
      "cell_type": "markdown",
      "metadata": {
        "id": "NY1ngER9w9rd"
      },
      "source": [
        "## Saving the model"
      ]
    },
    {
      "cell_type": "code",
      "metadata": {
        "id": "TDEL2IuzxmtR"
      },
      "source": [
        "import pickle"
      ],
      "execution_count": 234,
      "outputs": []
    },
    {
      "cell_type": "code",
      "metadata": {
        "colab": {
          "base_uri": "https://localhost:8080/"
        },
        "id": "6vVNIQVBxoRr",
        "outputId": "5850cc2a-54b0-45b1-8521-d330196cbeb1"
      },
      "source": [
        "# Changing the directory\n",
        "%cd '/content/drive/MyDrive/AIML/NLP/Project'"
      ],
      "execution_count": 235,
      "outputs": [
        {
          "output_type": "stream",
          "text": [
            "/content/drive/MyDrive/AIML/NLP/Project\n"
          ],
          "name": "stdout"
        }
      ]
    },
    {
      "cell_type": "code",
      "metadata": {
        "colab": {
          "base_uri": "https://localhost:8080/"
        },
        "id": "MEI2hxSPyI_u",
        "outputId": "4a573707-7b6b-4734-f93b-ea453de8f2a9"
      },
      "source": [
        "!ls -l "
      ],
      "execution_count": 236,
      "outputs": [
        {
          "output_type": "stream",
          "text": [
            "total 1074744\n",
            "-rw------- 1 root root 800419647 Aug 19 10:25  blogtext.csv\n",
            "-rw------- 1 root root 299119618 Aug 18 14:07  blogtext.csv.zip\n",
            "-rw------- 1 root root    800526 Aug 25 11:49  Copy_of_Project_1_Statistical_NLP.ipynb\n",
            "-rw------- 1 root root      6520 Aug 25 05:14 'GL Bot.json'\n",
            "drwx------ 4 root root      4096 Aug 25 16:24  GL_Support_Chatbot\n",
            "-rw------- 1 root root       466 Aug 25 16:24  label_encoder.pickel\n",
            "-rw------- 1 root root     68072 Aug 25 16:50  Part_2_Chatbot.ipynb\n",
            "-rw------- 1 root root    112967 Aug 19 10:15 'Project -1: Statistical NLP.ipynb'\n",
            "-rw------- 1 root root      4582 Aug 25 16:24  tokenizer.pickel\n"
          ],
          "name": "stdout"
        }
      ]
    },
    {
      "cell_type": "code",
      "metadata": {
        "colab": {
          "base_uri": "https://localhost:8080/"
        },
        "id": "ajyR_plJyKyq",
        "outputId": "0dc8aea3-a469-43a5-ba9f-0c9823e57f09"
      },
      "source": [
        "# Saving the trained model\n",
        "model.save('GL_Support_Chatbot')\n",
        "\n",
        "# Saving the fitted tokenizer\n",
        "with open('tokenizer.pickel', 'wb') as token:\n",
        "  pickle.dump(tokenizer, token, protocol=pickle.HIGHEST_PROTOCOL)\n",
        "\n",
        "# Saving the fitted label encoder\n",
        "with open('label_encoder.pickel', 'wb') as encoded_file:\n",
        "  pickle.dump(encoder, encoded_file, protocol=pickle.HIGHEST_PROTOCOL)\n"
      ],
      "execution_count": 237,
      "outputs": [
        {
          "output_type": "stream",
          "text": [
            "INFO:tensorflow:Assets written to: GL_Support_Chatbot/assets\n"
          ],
          "name": "stdout"
        }
      ]
    },
    {
      "cell_type": "markdown",
      "metadata": {
        "id": "7SriTyMv4EwZ"
      },
      "source": [
        "## Evaluate or test the chatbot"
      ]
    },
    {
      "cell_type": "code",
      "metadata": {
        "id": "2n0QvUy84reL"
      },
      "source": [
        "# Function to check the chatbot\n",
        "def chat():\n",
        "\n",
        "  # Loading the trained model\n",
        "  model = tf.keras.models.load_model('GL_Support_Chatbot')\n",
        "\n",
        "  # Loading the tokenizer object\n",
        "  with open('tokenizer.pickel', 'rb') as f:\n",
        "    tokenizer = pickle.load(f)\n",
        "\n",
        "  # Loading the encoder object\n",
        "  with open('label_encoder.pickel', 'rb') as f:\n",
        "    lbl_encoder = pickle.load(f)\n",
        "\n",
        "  max_len =20\n",
        "  print (\"Welcome to Great Learning.\")\n",
        "  print (\"I'm Sparta, your GL virtual assitant. How may I help you?\")\n",
        "  print (\"Note: You can type 'quit' to end the session\")\n",
        "  print('If you want to talk to customer care. Dial on 1800505050')\n",
        "\n",
        "  # Initiating the While loop to run the chatbot indefinetely\n",
        "  while True:\n",
        "    print('')\n",
        "    print('User:', end='')\n",
        "\n",
        "    # Takes the user input and converts all characters to lowercase \n",
        "    inp = input()\n",
        "\n",
        "    # Defining the chatbot exit condition\n",
        "    if inp.lower() =='quit':\n",
        "      print(\"Sparta: Thank you for visiting Great Learning support. Stay safe.\")\n",
        "      break\n",
        "    result = model.predict(tf.keras.preprocessing.sequence.pad_sequences(tokenizer.texts_to_sequences([inp]),\n",
        "                                             truncating='post', maxlen=max_review_length))\n",
        "    tag = lbl_encoder.inverse_transform([np.argmax(result)])\n",
        "\n",
        "    count = 0\n",
        "    matched_intent = None\n",
        "        \n",
        "    for i in corpus['intents']:\n",
        "      if i['tag'] == tag:\n",
        "        print(\"Sparta:\", np.random.choice(i['responses']))      "
      ],
      "execution_count": 238,
      "outputs": []
    },
    {
      "cell_type": "code",
      "metadata": {
        "colab": {
          "base_uri": "https://localhost:8080/"
        },
        "id": "gTM-lzHQ-3f0",
        "outputId": "2aa7cbd1-00ee-49b0-e617-d0718333ecc0"
      },
      "source": [
        "chat()"
      ],
      "execution_count": 239,
      "outputs": [
        {
          "output_type": "stream",
          "text": [
            "Welcome to Great Learning.\n",
            "I'm Sparta, your GL virtual assitant. How may I help you?\n",
            "Note: You can type 'quit' to end the session\n",
            "If you want to talk to customer care. Dial on 1800505050\n",
            "\n",
            "User:good morning\n",
            "Sparta: I hope I was able to assist you, Good Bye\n",
            "\n",
            "User:hey i still here\n",
            "Sparta: Hello! how can i help you ?\n",
            "\n",
            "User:what is your name\n",
            "Sparta: I am your virtual learning assistant\n",
            "\n",
            "User:i want real man\n",
            "Sparta: Hello! how can i help you ?\n",
            "\n",
            "User:real man\n",
            "Sparta: Hello! how can i help you ?\n",
            "\n",
            "User:you stupid call your boss\n",
            "Sparta: Please use respectful words\n",
            "\n",
            "User:i will kick you\n",
            "Sparta: I hope I was able to assist you, Good Bye\n",
            "\n",
            "User:you monkey talk to me\n",
            "Sparta: Hello! how can i help you ?\n",
            "\n",
            "User:i want help in deep learning\n",
            "Sparta: Link: Neural Nets wiki\n",
            "\n",
            "User:great\n",
            "Sparta: I hope I was able to assist you, Good Bye\n",
            "\n",
            "User:thank you\n",
            "Sparta: I hope I was able to assist you, Good Bye\n",
            "\n",
            "User:quit\n",
            "Sparta: Thank you for visiting Great Learning support. Stay safe.\n"
          ],
          "name": "stdout"
        }
      ]
    },
    {
      "cell_type": "code",
      "metadata": {
        "id": "5EU0X-AqIaGN"
      },
      "source": [
        ""
      ],
      "execution_count": 239,
      "outputs": []
    }
  ]
}