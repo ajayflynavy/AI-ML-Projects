{
  "nbformat": 4,
  "nbformat_minor": 0,
  "metadata": {
    "kernelspec": {
      "display_name": "Python 3",
      "language": "python",
      "name": "python3"
    },
    "language_info": {
      "codemirror_mode": {
        "name": "ipython",
        "version": 3
      },
      "file_extension": ".py",
      "mimetype": "text/x-python",
      "name": "python",
      "nbconvert_exporter": "python",
      "pygments_lexer": "ipython3",
      "version": "3.8.5"
    },
    "latex_envs": {
      "LaTeX_envs_menu_present": true,
      "autoclose": false,
      "autocomplete": true,
      "bibliofile": "biblio.bib",
      "cite_by": "apalike",
      "current_citInitial": 1,
      "eqLabelWithNumbers": true,
      "eqNumInitial": 1,
      "hotkeys": {
        "equation": "Ctrl-E",
        "itemize": "Ctrl-I"
      },
      "labels_anchors": false,
      "latex_user_defs": false,
      "report_style_numbering": false,
      "user_envs_cfg": false
    },
    "toc": {
      "base_numbering": 1,
      "nav_menu": {},
      "number_sections": true,
      "sideBar": true,
      "skip_h1_title": false,
      "title_cell": "Table of Contents",
      "title_sidebar": "Contents",
      "toc_cell": false,
      "toc_position": {
        "height": "calc(100% - 180px)",
        "left": "10px",
        "top": "150px",
        "width": "340px"
      },
      "toc_section_display": true,
      "toc_window_display": false
    },
    "varInspector": {
      "cols": {
        "lenName": 16,
        "lenType": 16,
        "lenVar": 40
      },
      "kernels_config": {
        "python": {
          "delete_cmd_postfix": "",
          "delete_cmd_prefix": "del ",
          "library": "var_list.py",
          "varRefreshCmd": "print(var_dic_list())"
        },
        "r": {
          "delete_cmd_postfix": ") ",
          "delete_cmd_prefix": "rm(",
          "library": "var_list.r",
          "varRefreshCmd": "cat(var_dic_list()) "
        }
      },
      "types_to_exclude": [
        "module",
        "function",
        "builtin_function_or_method",
        "instance",
        "_Feature"
      ],
      "window_display": false
    },
    "colab": {
      "name": "Predictive Modelling - Linear Discriminant Analysis.ipynb",
      "provenance": []
    }
  },
  "cells": [
    {
      "cell_type": "markdown",
      "metadata": {
        "id": "_tsKoX1J-E16"
      },
      "source": [
        "# Problem Statement"
      ]
    },
    {
      "cell_type": "markdown",
      "metadata": {
        "id": "iMw8AlRX-E1_"
      },
      "source": [
        "Customer Churn is a burning problem for Telecom companies. Almost every telecom company pays a premium to get a customer on-board. Customer churn directly impacts company’s revenue.\n",
        "  \n",
        "In this case-study, we simulate one such case of customer churn where we work on a data of post-paid customers with a contract. The data has information about customer usage behaviour, contract details, and payment details. The data also indicates which were the customers who cancelled their service.  \n",
        "  \n",
        "Based on this past data, Perform an EDA and build a model which can predict whether a customer will cancel their service in the future or not."
      ]
    },
    {
      "cell_type": "markdown",
      "metadata": {
        "id": "NHr3jYPk-E2P"
      },
      "source": [
        "# Data Dictionary"
      ]
    },
    {
      "cell_type": "markdown",
      "metadata": {
        "id": "h9UM4sV7-E2Q"
      },
      "source": [
        "* <b>Churn</b> - 1 if customer cancelled service, 0 if not\n",
        "\n",
        "* <b>AccountWeeks</b> - number of weeks customer has had active account\n",
        "\n",
        "* <b>ContractRenewal</b> - 1 if customer recently renewed contract, 0 if not\n",
        "\n",
        "* <b>DataPlan</b> - 1 if customer has data plan, 0 if not\n",
        "\n",
        "* <b>DataUsage</b> - gigabytes of monthly data usage\n",
        "\n",
        "* <b>CustServCalls</b> - number of calls into customer service\n",
        "\n",
        "* <b>DayMins</b> - average daytime minutes per month\n",
        "\n",
        "* <b>DayCalls</b> - average number of daytime calls\n",
        "\n",
        "* <b>MonthlyCharge</b> - average monthly bill\n",
        "\n",
        "* <b>OverageFee</b> - largest overage fee in last 12 months\n",
        "\n",
        "* <b>RoamMins</b> - average number of roaming minutes\n"
      ]
    },
    {
      "cell_type": "markdown",
      "metadata": {
        "id": "i_cIWD5X-E2R"
      },
      "source": [
        "# Import Libraries"
      ]
    },
    {
      "cell_type": "code",
      "metadata": {
        "ExecuteTime": {
          "end_time": "2021-03-28T11:12:31.285542Z",
          "start_time": "2021-03-28T11:12:28.636208Z"
        },
        "id": "C_YM_wUb-E2S"
      },
      "source": [
        "#Import all necessary modules\n",
        "import pandas as pd  \n",
        "import numpy as np \n",
        "import matplotlib.pyplot as plt \n",
        "import seaborn as sns\n",
        "from sklearn.discriminant_analysis import LinearDiscriminantAnalysis\n",
        "from sklearn.metrics import accuracy_score,f1_score, recall_score\n",
        "from sklearn.model_selection import train_test_split\n",
        "from sklearn.preprocessing import scale\n",
        "import warnings\n",
        "warnings.filterwarnings('ignore')"
      ],
      "execution_count": null,
      "outputs": []
    },
    {
      "cell_type": "code",
      "metadata": {
        "ExecuteTime": {
          "end_time": "2021-03-28T11:12:33.100534Z",
          "start_time": "2021-03-28T11:12:31.966517Z"
        },
        "id": "kTDBDnQm-E2T"
      },
      "source": [
        "cell_df = pd.read_excel('Cellphone.xlsx')"
      ],
      "execution_count": null,
      "outputs": []
    },
    {
      "cell_type": "markdown",
      "metadata": {
        "id": "znd0_lvW-E2U"
      },
      "source": [
        "# EDA"
      ]
    },
    {
      "cell_type": "markdown",
      "metadata": {
        "id": "2KynUSqg-E2U"
      },
      "source": [
        "## Head"
      ]
    },
    {
      "cell_type": "code",
      "metadata": {
        "ExecuteTime": {
          "end_time": "2021-03-28T11:12:41.225386Z",
          "start_time": "2021-03-28T11:12:41.186491Z"
        },
        "scrolled": true,
        "id": "Zs2dDz33-E2V",
        "outputId": "b3b23582-58eb-4fbf-86f8-4a761313765d"
      },
      "source": [
        "cell_df.head()"
      ],
      "execution_count": null,
      "outputs": [
        {
          "output_type": "execute_result",
          "data": {
            "text/html": [
              "<div>\n",
              "<style scoped>\n",
              "    .dataframe tbody tr th:only-of-type {\n",
              "        vertical-align: middle;\n",
              "    }\n",
              "\n",
              "    .dataframe tbody tr th {\n",
              "        vertical-align: top;\n",
              "    }\n",
              "\n",
              "    .dataframe thead th {\n",
              "        text-align: right;\n",
              "    }\n",
              "</style>\n",
              "<table border=\"1\" class=\"dataframe\">\n",
              "  <thead>\n",
              "    <tr style=\"text-align: right;\">\n",
              "      <th></th>\n",
              "      <th>Churn</th>\n",
              "      <th>AccountWeeks</th>\n",
              "      <th>ContractRenewal</th>\n",
              "      <th>DataPlan</th>\n",
              "      <th>DataUsage</th>\n",
              "      <th>CustServCalls</th>\n",
              "      <th>DayMins</th>\n",
              "      <th>DayCalls</th>\n",
              "      <th>MonthlyCharge</th>\n",
              "      <th>OverageFee</th>\n",
              "      <th>RoamMins</th>\n",
              "    </tr>\n",
              "  </thead>\n",
              "  <tbody>\n",
              "    <tr>\n",
              "      <th>0</th>\n",
              "      <td>1</td>\n",
              "      <td>108.0</td>\n",
              "      <td>0.0</td>\n",
              "      <td>0.0</td>\n",
              "      <td>0.38</td>\n",
              "      <td>2.0</td>\n",
              "      <td>115.1</td>\n",
              "      <td>114.0</td>\n",
              "      <td>41.8</td>\n",
              "      <td>10.57</td>\n",
              "      <td>13.8</td>\n",
              "    </tr>\n",
              "    <tr>\n",
              "      <th>1</th>\n",
              "      <td>0</td>\n",
              "      <td>113.0</td>\n",
              "      <td>1.0</td>\n",
              "      <td>1.0</td>\n",
              "      <td>3.59</td>\n",
              "      <td>1.0</td>\n",
              "      <td>44.9</td>\n",
              "      <td>63.0</td>\n",
              "      <td>55.9</td>\n",
              "      <td>6.71</td>\n",
              "      <td>13.3</td>\n",
              "    </tr>\n",
              "    <tr>\n",
              "      <th>2</th>\n",
              "      <td>0</td>\n",
              "      <td>101.0</td>\n",
              "      <td>1.0</td>\n",
              "      <td>0.0</td>\n",
              "      <td>0.00</td>\n",
              "      <td>0.0</td>\n",
              "      <td>257.3</td>\n",
              "      <td>84.0</td>\n",
              "      <td>60.0</td>\n",
              "      <td>9.24</td>\n",
              "      <td>13.5</td>\n",
              "    </tr>\n",
              "    <tr>\n",
              "      <th>3</th>\n",
              "      <td>0</td>\n",
              "      <td>80.0</td>\n",
              "      <td>1.0</td>\n",
              "      <td>1.0</td>\n",
              "      <td>2.89</td>\n",
              "      <td>4.0</td>\n",
              "      <td>166.4</td>\n",
              "      <td>92.0</td>\n",
              "      <td>77.9</td>\n",
              "      <td>11.92</td>\n",
              "      <td>10.7</td>\n",
              "    </tr>\n",
              "    <tr>\n",
              "      <th>4</th>\n",
              "      <td>0</td>\n",
              "      <td>70.0</td>\n",
              "      <td>1.0</td>\n",
              "      <td>0.0</td>\n",
              "      <td>0.00</td>\n",
              "      <td>0.0</td>\n",
              "      <td>175.4</td>\n",
              "      <td>130.0</td>\n",
              "      <td>44.0</td>\n",
              "      <td>7.98</td>\n",
              "      <td>11.6</td>\n",
              "    </tr>\n",
              "  </tbody>\n",
              "</table>\n",
              "</div>"
            ],
            "text/plain": [
              "   Churn  AccountWeeks  ContractRenewal  DataPlan  DataUsage  CustServCalls  \\\n",
              "0      1         108.0              0.0       0.0       0.38            2.0   \n",
              "1      0         113.0              1.0       1.0       3.59            1.0   \n",
              "2      0         101.0              1.0       0.0       0.00            0.0   \n",
              "3      0          80.0              1.0       1.0       2.89            4.0   \n",
              "4      0          70.0              1.0       0.0       0.00            0.0   \n",
              "\n",
              "   DayMins  DayCalls  MonthlyCharge  OverageFee  RoamMins  \n",
              "0    115.1     114.0           41.8       10.57      13.8  \n",
              "1     44.9      63.0           55.9        6.71      13.3  \n",
              "2    257.3      84.0           60.0        9.24      13.5  \n",
              "3    166.4      92.0           77.9       11.92      10.7  \n",
              "4    175.4     130.0           44.0        7.98      11.6  "
            ]
          },
          "metadata": {
            "tags": []
          },
          "execution_count": 4
        }
      ]
    },
    {
      "cell_type": "markdown",
      "metadata": {
        "id": "dq8hTnZz-E2X"
      },
      "source": [
        "## Data Types"
      ]
    },
    {
      "cell_type": "code",
      "metadata": {
        "ExecuteTime": {
          "end_time": "2021-03-28T11:12:56.558568Z",
          "start_time": "2021-03-28T11:12:56.530640Z"
        },
        "id": "wxhmR8AI-E2X",
        "outputId": "752a0867-c863-4c56-8587-260f47e2fa0b"
      },
      "source": [
        "cell_df.info()"
      ],
      "execution_count": null,
      "outputs": [
        {
          "output_type": "stream",
          "text": [
            "<class 'pandas.core.frame.DataFrame'>\n",
            "RangeIndex: 3333 entries, 0 to 3332\n",
            "Data columns (total 11 columns):\n",
            " #   Column           Non-Null Count  Dtype  \n",
            "---  ------           --------------  -----  \n",
            " 0   Churn            3333 non-null   int64  \n",
            " 1   AccountWeeks     3303 non-null   float64\n",
            " 2   ContractRenewal  3315 non-null   float64\n",
            " 3   DataPlan         3324 non-null   float64\n",
            " 4   DataUsage        3317 non-null   float64\n",
            " 5   CustServCalls    3281 non-null   float64\n",
            " 6   DayMins          3298 non-null   float64\n",
            " 7   DayCalls         3322 non-null   float64\n",
            " 8   MonthlyCharge    3320 non-null   float64\n",
            " 9   OverageFee       3309 non-null   float64\n",
            " 10  RoamMins         3326 non-null   float64\n",
            "dtypes: float64(10), int64(1)\n",
            "memory usage: 286.6 KB\n"
          ],
          "name": "stdout"
        }
      ]
    },
    {
      "cell_type": "markdown",
      "metadata": {
        "id": "FgoFU_ih-E2Y"
      },
      "source": [
        "There are missing values in some coumns.  \n",
        "All variables are of numeric type and does not contain any data inconsistencies (causing numeric variables to be object due to some special characters present in the data).  \n",
        "Churn is the target variable.   \n",
        "Churn, ContractRenewal and DataPlan are binary variables."
      ]
    },
    {
      "cell_type": "markdown",
      "metadata": {
        "id": "fzJoYb5F-E2Z"
      },
      "source": [
        "## Statistical Summary"
      ]
    },
    {
      "cell_type": "code",
      "metadata": {
        "ExecuteTime": {
          "end_time": "2021-03-28T11:14:55.770218Z",
          "start_time": "2021-03-28T11:14:55.700406Z"
        },
        "id": "moI9lzSa-E2Z",
        "outputId": "64dfc323-6673-4288-c4af-bf01e2563802"
      },
      "source": [
        "cell_df[['AccountWeeks','DataUsage','CustServCalls','DayMins','DayCalls','MonthlyCharge','OverageFee','RoamMins']].describe().T.round(0)"
      ],
      "execution_count": null,
      "outputs": [
        {
          "output_type": "execute_result",
          "data": {
            "text/html": [
              "<div>\n",
              "<style scoped>\n",
              "    .dataframe tbody tr th:only-of-type {\n",
              "        vertical-align: middle;\n",
              "    }\n",
              "\n",
              "    .dataframe tbody tr th {\n",
              "        vertical-align: top;\n",
              "    }\n",
              "\n",
              "    .dataframe thead th {\n",
              "        text-align: right;\n",
              "    }\n",
              "</style>\n",
              "<table border=\"1\" class=\"dataframe\">\n",
              "  <thead>\n",
              "    <tr style=\"text-align: right;\">\n",
              "      <th></th>\n",
              "      <th>count</th>\n",
              "      <th>mean</th>\n",
              "      <th>std</th>\n",
              "      <th>min</th>\n",
              "      <th>25%</th>\n",
              "      <th>50%</th>\n",
              "      <th>75%</th>\n",
              "      <th>max</th>\n",
              "    </tr>\n",
              "  </thead>\n",
              "  <tbody>\n",
              "    <tr>\n",
              "      <th>AccountWeeks</th>\n",
              "      <td>3303.0</td>\n",
              "      <td>101.0</td>\n",
              "      <td>40.0</td>\n",
              "      <td>1.0</td>\n",
              "      <td>74.0</td>\n",
              "      <td>101.0</td>\n",
              "      <td>127.0</td>\n",
              "      <td>243.0</td>\n",
              "    </tr>\n",
              "    <tr>\n",
              "      <th>DataUsage</th>\n",
              "      <td>3317.0</td>\n",
              "      <td>1.0</td>\n",
              "      <td>1.0</td>\n",
              "      <td>0.0</td>\n",
              "      <td>0.0</td>\n",
              "      <td>0.0</td>\n",
              "      <td>2.0</td>\n",
              "      <td>5.0</td>\n",
              "    </tr>\n",
              "    <tr>\n",
              "      <th>CustServCalls</th>\n",
              "      <td>3281.0</td>\n",
              "      <td>2.0</td>\n",
              "      <td>1.0</td>\n",
              "      <td>0.0</td>\n",
              "      <td>1.0</td>\n",
              "      <td>1.0</td>\n",
              "      <td>2.0</td>\n",
              "      <td>9.0</td>\n",
              "    </tr>\n",
              "    <tr>\n",
              "      <th>DayMins</th>\n",
              "      <td>3298.0</td>\n",
              "      <td>180.0</td>\n",
              "      <td>55.0</td>\n",
              "      <td>0.0</td>\n",
              "      <td>144.0</td>\n",
              "      <td>180.0</td>\n",
              "      <td>217.0</td>\n",
              "      <td>351.0</td>\n",
              "    </tr>\n",
              "    <tr>\n",
              "      <th>DayCalls</th>\n",
              "      <td>3322.0</td>\n",
              "      <td>100.0</td>\n",
              "      <td>20.0</td>\n",
              "      <td>0.0</td>\n",
              "      <td>87.0</td>\n",
              "      <td>101.0</td>\n",
              "      <td>114.0</td>\n",
              "      <td>165.0</td>\n",
              "    </tr>\n",
              "    <tr>\n",
              "      <th>MonthlyCharge</th>\n",
              "      <td>3320.0</td>\n",
              "      <td>56.0</td>\n",
              "      <td>16.0</td>\n",
              "      <td>14.0</td>\n",
              "      <td>45.0</td>\n",
              "      <td>54.0</td>\n",
              "      <td>66.0</td>\n",
              "      <td>111.0</td>\n",
              "    </tr>\n",
              "    <tr>\n",
              "      <th>OverageFee</th>\n",
              "      <td>3309.0</td>\n",
              "      <td>10.0</td>\n",
              "      <td>3.0</td>\n",
              "      <td>0.0</td>\n",
              "      <td>8.0</td>\n",
              "      <td>10.0</td>\n",
              "      <td>12.0</td>\n",
              "      <td>18.0</td>\n",
              "    </tr>\n",
              "    <tr>\n",
              "      <th>RoamMins</th>\n",
              "      <td>3326.0</td>\n",
              "      <td>10.0</td>\n",
              "      <td>3.0</td>\n",
              "      <td>0.0</td>\n",
              "      <td>8.0</td>\n",
              "      <td>10.0</td>\n",
              "      <td>12.0</td>\n",
              "      <td>20.0</td>\n",
              "    </tr>\n",
              "  </tbody>\n",
              "</table>\n",
              "</div>"
            ],
            "text/plain": [
              "                count   mean   std   min    25%    50%    75%    max\n",
              "AccountWeeks   3303.0  101.0  40.0   1.0   74.0  101.0  127.0  243.0\n",
              "DataUsage      3317.0    1.0   1.0   0.0    0.0    0.0    2.0    5.0\n",
              "CustServCalls  3281.0    2.0   1.0   0.0    1.0    1.0    2.0    9.0\n",
              "DayMins        3298.0  180.0  55.0   0.0  144.0  180.0  217.0  351.0\n",
              "DayCalls       3322.0  100.0  20.0   0.0   87.0  101.0  114.0  165.0\n",
              "MonthlyCharge  3320.0   56.0  16.0  14.0   45.0   54.0   66.0  111.0\n",
              "OverageFee     3309.0   10.0   3.0   0.0    8.0   10.0   12.0   18.0\n",
              "RoamMins       3326.0   10.0   3.0   0.0    8.0   10.0   12.0   20.0"
            ]
          },
          "metadata": {
            "tags": []
          },
          "execution_count": 6
        }
      ]
    },
    {
      "cell_type": "markdown",
      "metadata": {
        "id": "cPGZZ1Bb-E2a"
      },
      "source": [
        "## Check for Missing values"
      ]
    },
    {
      "cell_type": "code",
      "metadata": {
        "ExecuteTime": {
          "end_time": "2021-03-28T11:15:50.892698Z",
          "start_time": "2021-03-28T11:15:50.880733Z"
        },
        "id": "br5HH9f--E2a",
        "outputId": "286fca52-73ce-4ccd-e377-a2209bbd1586"
      },
      "source": [
        "cell_df.isnull().sum()"
      ],
      "execution_count": null,
      "outputs": [
        {
          "output_type": "execute_result",
          "data": {
            "text/plain": [
              "Churn               0\n",
              "AccountWeeks       30\n",
              "ContractRenewal    18\n",
              "DataPlan            9\n",
              "DataUsage          16\n",
              "CustServCalls      52\n",
              "DayMins            35\n",
              "DayCalls           11\n",
              "MonthlyCharge      13\n",
              "OverageFee         24\n",
              "RoamMins            7\n",
              "dtype: int64"
            ]
          },
          "metadata": {
            "tags": []
          },
          "execution_count": 7
        }
      ]
    },
    {
      "cell_type": "markdown",
      "metadata": {
        "id": "aeDD4s_P-E2b"
      },
      "source": [
        "### Imputing missing values"
      ]
    },
    {
      "cell_type": "markdown",
      "metadata": {
        "id": "BX3iqhCz-E2b"
      },
      "source": [
        "Since, ContractRenewal and DataPlan are binary, we cannot substitute with mean values for these 2 variables. We will impute these two variables with their respective modal values."
      ]
    },
    {
      "cell_type": "code",
      "metadata": {
        "ExecuteTime": {
          "end_time": "2021-03-28T11:16:51.431707Z",
          "start_time": "2021-03-28T11:16:51.411765Z"
        },
        "id": "4MJOUejF-E2c",
        "outputId": "599b463f-a22d-44c0-b8a4-6567fe2b8d61"
      },
      "source": [
        "cell_df['ContractRenewal'].mode()"
      ],
      "execution_count": null,
      "outputs": [
        {
          "output_type": "execute_result",
          "data": {
            "text/plain": [
              "0    1.0\n",
              "dtype: float64"
            ]
          },
          "metadata": {
            "tags": []
          },
          "execution_count": 8
        }
      ]
    },
    {
      "cell_type": "code",
      "metadata": {
        "ExecuteTime": {
          "end_time": "2021-03-28T11:18:11.898602Z",
          "start_time": "2021-03-28T11:18:11.880649Z"
        },
        "id": "SI8Ux0vL-E2c",
        "outputId": "e9f85d06-796b-4b80-9635-5e64267a04f5"
      },
      "source": [
        "cols = ['ContractRenewal','DataPlan']\n",
        "for column in cols:\n",
        "    print(column)\n",
        "    mode_1 = cell_df[column].mode()[0]\n",
        "    print(mode_1)\n",
        "    cell_df[column].fillna(value=mode_1,inplace=True)\n",
        "    \n",
        "cell_df.isnull().sum()"
      ],
      "execution_count": null,
      "outputs": [
        {
          "output_type": "stream",
          "text": [
            "ContractRenewal\n",
            "1.0\n",
            "DataPlan\n",
            "0.0\n"
          ],
          "name": "stdout"
        },
        {
          "output_type": "execute_result",
          "data": {
            "text/plain": [
              "Churn               0\n",
              "AccountWeeks       30\n",
              "ContractRenewal     0\n",
              "DataPlan            0\n",
              "DataUsage          16\n",
              "CustServCalls      52\n",
              "DayMins            35\n",
              "DayCalls           11\n",
              "MonthlyCharge      13\n",
              "OverageFee         24\n",
              "RoamMins            7\n",
              "dtype: int64"
            ]
          },
          "metadata": {
            "tags": []
          },
          "execution_count": 9
        }
      ]
    },
    {
      "cell_type": "markdown",
      "metadata": {
        "id": "aoKDMzAy-E2d"
      },
      "source": [
        "Now let us impute the rest of the continuous variables with the median. For that we are going to use the SimpleImputer sub module from sklearn."
      ]
    },
    {
      "cell_type": "code",
      "metadata": {
        "ExecuteTime": {
          "end_time": "2021-03-28T11:19:17.279686Z",
          "start_time": "2021-03-28T11:19:17.173970Z"
        },
        "id": "01CxAaHs-E2e"
      },
      "source": [
        "from sklearn.impute import SimpleImputer"
      ],
      "execution_count": null,
      "outputs": []
    },
    {
      "cell_type": "code",
      "metadata": {
        "ExecuteTime": {
          "end_time": "2021-03-28T11:19:39.914534Z",
          "start_time": "2021-03-28T11:19:39.899574Z"
        },
        "id": "8sAPnMEY-E2e"
      },
      "source": [
        "SI = SimpleImputer(strategy='median')"
      ],
      "execution_count": null,
      "outputs": []
    },
    {
      "cell_type": "code",
      "metadata": {
        "ExecuteTime": {
          "end_time": "2021-03-28T11:21:18.908604Z",
          "start_time": "2021-03-28T11:21:18.887630Z"
        },
        "id": "keXxJWbd-E2f"
      },
      "source": [
        "# after imputing, the SimpleImputer returns an array of the values\n",
        "# so we put it back in the form of a dataframe with original col names\n",
        "cell_df = pd.DataFrame(SI.fit_transform(cell_df),\n",
        "                       columns=cell_df.columns)"
      ],
      "execution_count": null,
      "outputs": []
    },
    {
      "cell_type": "code",
      "metadata": {
        "ExecuteTime": {
          "end_time": "2021-03-28T11:21:24.852801Z",
          "start_time": "2021-03-28T11:21:24.822882Z"
        },
        "id": "knJPGirJ-E2f",
        "outputId": "0619ee31-535d-4255-f04c-add6ae1153fa"
      },
      "source": [
        "cell_df.head()"
      ],
      "execution_count": null,
      "outputs": [
        {
          "output_type": "execute_result",
          "data": {
            "text/html": [
              "<div>\n",
              "<style scoped>\n",
              "    .dataframe tbody tr th:only-of-type {\n",
              "        vertical-align: middle;\n",
              "    }\n",
              "\n",
              "    .dataframe tbody tr th {\n",
              "        vertical-align: top;\n",
              "    }\n",
              "\n",
              "    .dataframe thead th {\n",
              "        text-align: right;\n",
              "    }\n",
              "</style>\n",
              "<table border=\"1\" class=\"dataframe\">\n",
              "  <thead>\n",
              "    <tr style=\"text-align: right;\">\n",
              "      <th></th>\n",
              "      <th>Churn</th>\n",
              "      <th>AccountWeeks</th>\n",
              "      <th>ContractRenewal</th>\n",
              "      <th>DataPlan</th>\n",
              "      <th>DataUsage</th>\n",
              "      <th>CustServCalls</th>\n",
              "      <th>DayMins</th>\n",
              "      <th>DayCalls</th>\n",
              "      <th>MonthlyCharge</th>\n",
              "      <th>OverageFee</th>\n",
              "      <th>RoamMins</th>\n",
              "    </tr>\n",
              "  </thead>\n",
              "  <tbody>\n",
              "    <tr>\n",
              "      <th>0</th>\n",
              "      <td>1.0</td>\n",
              "      <td>108.0</td>\n",
              "      <td>0.0</td>\n",
              "      <td>0.0</td>\n",
              "      <td>0.38</td>\n",
              "      <td>2.0</td>\n",
              "      <td>115.1</td>\n",
              "      <td>114.0</td>\n",
              "      <td>41.8</td>\n",
              "      <td>10.57</td>\n",
              "      <td>13.8</td>\n",
              "    </tr>\n",
              "    <tr>\n",
              "      <th>1</th>\n",
              "      <td>0.0</td>\n",
              "      <td>113.0</td>\n",
              "      <td>1.0</td>\n",
              "      <td>1.0</td>\n",
              "      <td>3.59</td>\n",
              "      <td>1.0</td>\n",
              "      <td>44.9</td>\n",
              "      <td>63.0</td>\n",
              "      <td>55.9</td>\n",
              "      <td>6.71</td>\n",
              "      <td>13.3</td>\n",
              "    </tr>\n",
              "    <tr>\n",
              "      <th>2</th>\n",
              "      <td>0.0</td>\n",
              "      <td>101.0</td>\n",
              "      <td>1.0</td>\n",
              "      <td>0.0</td>\n",
              "      <td>0.00</td>\n",
              "      <td>0.0</td>\n",
              "      <td>257.3</td>\n",
              "      <td>84.0</td>\n",
              "      <td>60.0</td>\n",
              "      <td>9.24</td>\n",
              "      <td>13.5</td>\n",
              "    </tr>\n",
              "    <tr>\n",
              "      <th>3</th>\n",
              "      <td>0.0</td>\n",
              "      <td>80.0</td>\n",
              "      <td>1.0</td>\n",
              "      <td>1.0</td>\n",
              "      <td>2.89</td>\n",
              "      <td>4.0</td>\n",
              "      <td>166.4</td>\n",
              "      <td>92.0</td>\n",
              "      <td>77.9</td>\n",
              "      <td>11.92</td>\n",
              "      <td>10.7</td>\n",
              "    </tr>\n",
              "    <tr>\n",
              "      <th>4</th>\n",
              "      <td>0.0</td>\n",
              "      <td>70.0</td>\n",
              "      <td>1.0</td>\n",
              "      <td>0.0</td>\n",
              "      <td>0.00</td>\n",
              "      <td>0.0</td>\n",
              "      <td>175.4</td>\n",
              "      <td>130.0</td>\n",
              "      <td>44.0</td>\n",
              "      <td>7.98</td>\n",
              "      <td>11.6</td>\n",
              "    </tr>\n",
              "  </tbody>\n",
              "</table>\n",
              "</div>"
            ],
            "text/plain": [
              "   Churn  AccountWeeks  ContractRenewal  DataPlan  DataUsage  CustServCalls  \\\n",
              "0    1.0         108.0              0.0       0.0       0.38            2.0   \n",
              "1    0.0         113.0              1.0       1.0       3.59            1.0   \n",
              "2    0.0         101.0              1.0       0.0       0.00            0.0   \n",
              "3    0.0          80.0              1.0       1.0       2.89            4.0   \n",
              "4    0.0          70.0              1.0       0.0       0.00            0.0   \n",
              "\n",
              "   DayMins  DayCalls  MonthlyCharge  OverageFee  RoamMins  \n",
              "0    115.1     114.0           41.8       10.57      13.8  \n",
              "1     44.9      63.0           55.9        6.71      13.3  \n",
              "2    257.3      84.0           60.0        9.24      13.5  \n",
              "3    166.4      92.0           77.9       11.92      10.7  \n",
              "4    175.4     130.0           44.0        7.98      11.6  "
            ]
          },
          "metadata": {
            "tags": []
          },
          "execution_count": 13
        }
      ]
    },
    {
      "cell_type": "code",
      "metadata": {
        "ExecuteTime": {
          "end_time": "2021-03-28T11:21:50.190558Z",
          "start_time": "2021-03-28T11:21:50.176592Z"
        },
        "id": "rtR8q0iC-E2g",
        "outputId": "1101d9c0-4eac-42ce-fe2b-7b55303cf006"
      },
      "source": [
        "cell_df.isnull().sum()"
      ],
      "execution_count": null,
      "outputs": [
        {
          "output_type": "execute_result",
          "data": {
            "text/plain": [
              "Churn              0\n",
              "AccountWeeks       0\n",
              "ContractRenewal    0\n",
              "DataPlan           0\n",
              "DataUsage          0\n",
              "CustServCalls      0\n",
              "DayMins            0\n",
              "DayCalls           0\n",
              "MonthlyCharge      0\n",
              "OverageFee         0\n",
              "RoamMins           0\n",
              "dtype: int64"
            ]
          },
          "metadata": {
            "tags": []
          },
          "execution_count": 14
        }
      ]
    },
    {
      "cell_type": "markdown",
      "metadata": {
        "id": "yWDIROTD-E2g"
      },
      "source": [
        "## Checking for Duplicates"
      ]
    },
    {
      "cell_type": "code",
      "metadata": {
        "ExecuteTime": {
          "end_time": "2021-03-28T11:23:00.054912Z",
          "start_time": "2021-03-28T11:23:00.030976Z"
        },
        "id": "CmtLAGqP-E2h",
        "outputId": "c2f62e55-92ea-49c6-a0ea-4d2c20279da2"
      },
      "source": [
        "# Are there any duplicates ?\n",
        "dups = cell_df.duplicated()\n",
        "dups.sum()"
      ],
      "execution_count": null,
      "outputs": [
        {
          "output_type": "execute_result",
          "data": {
            "text/plain": [
              "0"
            ]
          },
          "metadata": {
            "tags": []
          },
          "execution_count": 15
        }
      ]
    },
    {
      "cell_type": "markdown",
      "metadata": {
        "id": "TtmJEr4E-E2h"
      },
      "source": [
        "## Proportion of the Target classes"
      ]
    },
    {
      "cell_type": "code",
      "metadata": {
        "ExecuteTime": {
          "end_time": "2021-03-28T11:23:25.792600Z",
          "start_time": "2021-03-28T11:23:25.725776Z"
        },
        "id": "Ye98C077-E2i",
        "outputId": "d45308a4-e584-48cc-845e-3b081640cd39"
      },
      "source": [
        "cell_df.Churn.value_counts(normalize=True)"
      ],
      "execution_count": null,
      "outputs": [
        {
          "output_type": "execute_result",
          "data": {
            "text/plain": [
              "0.0    0.855086\n",
              "1.0    0.144914\n",
              "Name: Churn, dtype: float64"
            ]
          },
          "metadata": {
            "tags": []
          },
          "execution_count": 16
        }
      ]
    },
    {
      "cell_type": "markdown",
      "metadata": {
        "id": "yklkIVMc-E2i"
      },
      "source": [
        "## Univariate Analysis"
      ]
    },
    {
      "cell_type": "code",
      "metadata": {
        "ExecuteTime": {
          "end_time": "2021-03-28T11:27:20.786026Z",
          "start_time": "2021-03-28T11:27:20.762091Z"
        },
        "id": "SW5mfgkc-E2i"
      },
      "source": [
        "from pylab import rcParams"
      ],
      "execution_count": null,
      "outputs": []
    },
    {
      "cell_type": "code",
      "metadata": {
        "ExecuteTime": {
          "end_time": "2021-03-28T11:27:21.975652Z",
          "start_time": "2021-03-28T11:27:21.957702Z"
        },
        "id": "aaNAdbjJ-E2j"
      },
      "source": [
        "rcParams['figure.figsize'] = 15,8"
      ],
      "execution_count": null,
      "outputs": []
    },
    {
      "cell_type": "code",
      "metadata": {
        "ExecuteTime": {
          "end_time": "2021-03-28T11:28:15.027294Z",
          "start_time": "2021-03-28T11:28:15.009340Z"
        },
        "id": "ebF8xTJa-E2j"
      },
      "source": [
        "# create a list of numeric variables\n",
        "# exclude variables which are categorical in nature having \n",
        "# numeric values\n",
        "cols=['AccountWeeks','DataUsage','CustServCalls',\n",
        "      'DayMins','DayCalls','MonthlyCharge','OverageFee','RoamMins']"
      ],
      "execution_count": null,
      "outputs": []
    },
    {
      "cell_type": "code",
      "metadata": {
        "ExecuteTime": {
          "end_time": "2021-03-28T11:28:42.104356Z",
          "start_time": "2021-03-28T11:28:40.546737Z"
        },
        "id": "4s2o8QQ0-E2j",
        "outputId": "1334e832-6daa-4f92-859b-9446e1f832a1"
      },
      "source": [
        "cell_df[cols].hist();"
      ],
      "execution_count": null,
      "outputs": [
        {
          "output_type": "display_data",
          "data": {
            "image/png": "[encoded data removed]",
            "text/plain": [
              "<Figure size 1080x576 with 9 Axes>"
            ]
          },
          "metadata": {
            "tags": [],
            "needs_background": "light"
          }
        }
      ]
    },
    {
      "cell_type": "markdown",
      "metadata": {
        "id": "VElhe5w7-E2k"
      },
      "source": [
        "## Outlier Checks"
      ]
    },
    {
      "cell_type": "code",
      "metadata": {
        "ExecuteTime": {
          "end_time": "2021-03-28T11:33:14.299039Z",
          "start_time": "2021-03-28T11:33:12.886153Z"
        },
        "id": "dL3G6SV1-E2k",
        "outputId": "80fd886e-1d26-4efc-fb84-12fd8a8944bb"
      },
      "source": [
        "cell_df[cols].plot(kind = 'box', subplots = True)\n",
        "# plt.xticks(rotation =45)\n",
        "plt.tight_layout();"
      ],
      "execution_count": null,
      "outputs": [
        {
          "output_type": "display_data",
          "data": {
            "image/png": "[encoded data removed]",
            "text/plain": [
              "<Figure size 1080x576 with 8 Axes>"
            ]
          },
          "metadata": {
            "tags": [],
            "needs_background": "light"
          }
        }
      ]
    },
    {
      "cell_type": "code",
      "metadata": {
        "ExecuteTime": {
          "end_time": "2021-03-27T05:59:34.566630Z",
          "start_time": "2021-03-27T05:59:34.558651Z"
        },
        "scrolled": true,
        "id": "VM-KXeca-E2k"
      },
      "source": [
        "# Alternate way... plotting the boxplots one by one\n",
        "# for i in cols:\n",
        "#     sns.boxplot(cell_df[i])\n",
        "#     plt.show()"
      ],
      "execution_count": null,
      "outputs": []
    },
    {
      "cell_type": "markdown",
      "metadata": {
        "id": "gsAP8AEG-E2k"
      },
      "source": [
        "## Bi-Variate Analysis with Target variable"
      ]
    },
    {
      "cell_type": "markdown",
      "metadata": {
        "id": "d94RP8BI-E2l"
      },
      "source": [
        "### Account Weeks and Churn"
      ]
    },
    {
      "cell_type": "code",
      "metadata": {
        "ExecuteTime": {
          "end_time": "2021-03-28T11:37:32.987300Z",
          "start_time": "2021-03-28T11:37:32.577400Z"
        },
        "id": "qu3uUS0p-E2l",
        "outputId": "cee4998f-43e9-46f2-f5b6-897c2c65b46c"
      },
      "source": [
        "sns.catplot(data = cell_df, x='Churn',y='AccountWeeks',\n",
        "           kind = 'box');"
      ],
      "execution_count": null,
      "outputs": [
        {
          "output_type": "display_data",
          "data": {
            "image/png": "[encoded data removed]",
            "text/plain": [
              "<Figure size 360x360 with 1 Axes>"
            ]
          },
          "metadata": {
            "tags": [],
            "needs_background": "light"
          }
        }
      ]
    },
    {
      "cell_type": "markdown",
      "metadata": {
        "id": "BYvu4OUC-E2l"
      },
      "source": [
        "AccountWeeks shows similar distribution between churn and no churn, and is normally distributed"
      ]
    },
    {
      "cell_type": "markdown",
      "metadata": {
        "id": "Ep4qcoai-E2l"
      },
      "source": [
        "### Data Usage against Churn"
      ]
    },
    {
      "cell_type": "code",
      "metadata": {
        "ExecuteTime": {
          "end_time": "2021-03-28T11:38:10.494197Z",
          "start_time": "2021-03-28T11:38:10.079311Z"
        },
        "id": "cCpq1w18-E2m",
        "outputId": "09a546eb-7f43-4c31-9ee8-d5a8a8eb895c"
      },
      "source": [
        "sns.catplot(data = cell_df, x = 'Churn', y = 'DataUsage',\n",
        "           kind = 'box');"
      ],
      "execution_count": null,
      "outputs": [
        {
          "output_type": "display_data",
          "data": {
            "image/png": "[encoded data removed]",
            "text/plain": [
              "<Figure size 360x360 with 1 Axes>"
            ]
          },
          "metadata": {
            "tags": [],
            "needs_background": "light"
          }
        }
      ]
    },
    {
      "cell_type": "markdown",
      "metadata": {
        "id": "iXMglt_c-E2m"
      },
      "source": [
        "DataUsage shows clear distinction between churn and no churn. Customers who has not churned shows a wider distribution indicating more data usage. Whereas customers who has churned has smaller distribution (mostly near data usage 0) with many outliers indicating few customers who has more data usage still has churned"
      ]
    },
    {
      "cell_type": "markdown",
      "metadata": {
        "id": "NAcu2ZU2-E2m"
      },
      "source": [
        "### DayMins against Churn"
      ]
    },
    {
      "cell_type": "code",
      "metadata": {
        "ExecuteTime": {
          "end_time": "2021-03-28T11:38:59.329885Z",
          "start_time": "2021-03-28T11:38:58.909501Z"
        },
        "id": "3xdOCjQX-E2n",
        "outputId": "ed44bd65-51f2-4bbb-f106-99ecc50db8ed"
      },
      "source": [
        "sns.catplot(data = cell_df, x = 'Churn', y = 'DayMins',\n",
        "           kind = 'box');"
      ],
      "execution_count": null,
      "outputs": [
        {
          "output_type": "display_data",
          "data": {
            "image/png": "[encoded data removed]",
            "text/plain": [
              "<Figure size 360x360 with 1 Axes>"
            ]
          },
          "metadata": {
            "tags": [],
            "needs_background": "light"
          }
        }
      ]
    },
    {
      "cell_type": "markdown",
      "metadata": {
        "id": "uSa7BtS_-E2n"
      },
      "source": [
        "DayMins shows distinction between churn and no churn, and both are normally distributed with little skewness. Distribution is much wider for churn than no churn"
      ]
    },
    {
      "cell_type": "markdown",
      "metadata": {
        "id": "JrNFMmAs-E2n"
      },
      "source": [
        "### DayCalls against Churn"
      ]
    },
    {
      "cell_type": "code",
      "metadata": {
        "ExecuteTime": {
          "end_time": "2021-03-28T11:39:22.136264Z",
          "start_time": "2021-03-28T11:39:21.723549Z"
        },
        "id": "tihh2A3S-E2n",
        "outputId": "7beab315-fa36-4c04-b5f4-df98c87dbcf1"
      },
      "source": [
        "sns.catplot(data = cell_df, x = 'Churn', y = 'DayCalls',\n",
        "           kind = 'box');"
      ],
      "execution_count": null,
      "outputs": [
        {
          "output_type": "display_data",
          "data": {
            "image/png": "[encoded data removed]",
            "text/plain": [
              "<Figure size 360x360 with 1 Axes>"
            ]
          },
          "metadata": {
            "tags": [],
            "needs_background": "light"
          }
        }
      ]
    },
    {
      "cell_type": "markdown",
      "metadata": {
        "id": "qSoHrsUw-E2o"
      },
      "source": [
        "## Bi-Variate Analysis with Target variable"
      ]
    },
    {
      "cell_type": "markdown",
      "metadata": {
        "id": "zDZcfPYx-E2o"
      },
      "source": [
        "### MonthlyCharge against Churn"
      ]
    },
    {
      "cell_type": "code",
      "metadata": {
        "ExecuteTime": {
          "end_time": "2021-03-28T11:39:35.180372Z",
          "start_time": "2021-03-28T11:39:34.786428Z"
        },
        "id": "F2T1VInR-E2o",
        "outputId": "d4662e20-d0f6-46cb-f0ec-75185d70d40b"
      },
      "source": [
        "sns.catplot(data = cell_df, x = 'Churn', y = 'MonthlyCharge',\n",
        "           kind = 'box');"
      ],
      "execution_count": null,
      "outputs": [
        {
          "output_type": "display_data",
          "data": {
            "image/png": "[encoded data removed]",
            "text/plain": [
              "<Figure size 360x360 with 1 Axes>"
            ]
          },
          "metadata": {
            "tags": [],
            "needs_background": "light"
          }
        }
      ]
    },
    {
      "cell_type": "markdown",
      "metadata": {
        "id": "COvdDYB2-E2o"
      },
      "source": [
        "MonthlyCharge shows some skewness in the distribution between churn and no churn. Distribution is much wider for churn indicating more monthly charge means more churn. Median of churn is higher than no churn"
      ]
    },
    {
      "cell_type": "markdown",
      "metadata": {
        "id": "owAPrkMo-E2p"
      },
      "source": [
        "### OverageFee against Churn"
      ]
    },
    {
      "cell_type": "code",
      "metadata": {
        "ExecuteTime": {
          "end_time": "2021-03-28T11:40:33.585258Z",
          "start_time": "2021-03-28T11:40:33.148428Z"
        },
        "id": "CYtFT6j8-E2p",
        "outputId": "0d4cec4d-d218-4354-a11c-be24e9965df0"
      },
      "source": [
        "sns.catplot(data = cell_df, x = 'Churn', y = 'OverageFee',\n",
        "           kind = 'box');"
      ],
      "execution_count": null,
      "outputs": [
        {
          "output_type": "display_data",
          "data": {
            "image/png": "[encoded data removed]",
            "text/plain": [
              "<Figure size 360x360 with 1 Axes>"
            ]
          },
          "metadata": {
            "tags": [],
            "needs_background": "light"
          }
        }
      ]
    },
    {
      "cell_type": "markdown",
      "metadata": {
        "id": "F3UmVbf7-E2q"
      },
      "source": [
        "Distribution is almost similar between churn and no churn"
      ]
    },
    {
      "cell_type": "markdown",
      "metadata": {
        "id": "nuRMkk21-E2q"
      },
      "source": [
        "### RoamMins against Churn"
      ]
    },
    {
      "cell_type": "code",
      "metadata": {
        "ExecuteTime": {
          "end_time": "2021-03-28T11:40:59.692344Z",
          "start_time": "2021-03-28T11:40:59.255122Z"
        },
        "id": "yiBQsNgA-E2q",
        "outputId": "7f24ec25-f121-4f06-9693-e3105f82db59"
      },
      "source": [
        "sns.catplot(data = cell_df, x = 'Churn', y = 'RoamMins',\n",
        "           kind = 'box');"
      ],
      "execution_count": null,
      "outputs": [
        {
          "output_type": "display_data",
          "data": {
            "image/png": "[encoded data removed]",
            "text/plain": [
              "<Figure size 360x360 with 1 Axes>"
            ]
          },
          "metadata": {
            "tags": [],
            "needs_background": "light"
          }
        }
      ]
    },
    {
      "cell_type": "markdown",
      "metadata": {
        "id": "B-DDCPcL-E2q"
      },
      "source": [
        "Distribution is almost similar between churn and no churn. Medians are almost same"
      ]
    },
    {
      "cell_type": "markdown",
      "metadata": {
        "id": "MaQYq3b4-E2r"
      },
      "source": [
        "### CustServCalls against Churn"
      ]
    },
    {
      "cell_type": "code",
      "metadata": {
        "ExecuteTime": {
          "end_time": "2021-03-28T11:41:22.097692Z",
          "start_time": "2021-03-28T11:41:21.687790Z"
        },
        "id": "OvmTssNM-E2r",
        "outputId": "37ed4f0c-27e6-4f1b-b3fe-9fae407a16dd"
      },
      "source": [
        "sns.catplot(data = cell_df, x = 'Churn', y = 'CustServCalls',\n",
        "           kind = 'box');"
      ],
      "execution_count": null,
      "outputs": [
        {
          "output_type": "display_data",
          "data": {
            "image/png": "[encoded data removed]",
            "text/plain": [
              "<Figure size 360x360 with 1 Axes>"
            ]
          },
          "metadata": {
            "tags": [],
            "needs_background": "light"
          }
        }
      ]
    },
    {
      "cell_type": "markdown",
      "metadata": {
        "id": "lPA-HUMT-E2r"
      },
      "source": [
        "Distribution much wider for churn and lesser for no churn. More CustServCalls indicates more churn."
      ]
    },
    {
      "cell_type": "markdown",
      "metadata": {
        "id": "NI9Ukrii-E2r"
      },
      "source": [
        "### Contract Renewal against Churn"
      ]
    },
    {
      "cell_type": "code",
      "metadata": {
        "ExecuteTime": {
          "end_time": "2021-03-28T11:44:54.213229Z",
          "start_time": "2021-03-28T11:44:54.162330Z"
        },
        "id": "TP-W9Ah1-E2s",
        "outputId": "16569f20-b2ca-48d0-ef51-79fcaef9e8ca"
      },
      "source": [
        "# cross tabulation\n",
        "tab = pd.crosstab(cell_df['ContractRenewal'], \n",
        "                  cell_df['Churn'])\n",
        "tab"
      ],
      "execution_count": null,
      "outputs": [
        {
          "output_type": "execute_result",
          "data": {
            "text/html": [
              "<div>\n",
              "<style scoped>\n",
              "    .dataframe tbody tr th:only-of-type {\n",
              "        vertical-align: middle;\n",
              "    }\n",
              "\n",
              "    .dataframe tbody tr th {\n",
              "        vertical-align: top;\n",
              "    }\n",
              "\n",
              "    .dataframe thead th {\n",
              "        text-align: right;\n",
              "    }\n",
              "</style>\n",
              "<table border=\"1\" class=\"dataframe\">\n",
              "  <thead>\n",
              "    <tr style=\"text-align: right;\">\n",
              "      <th>Churn</th>\n",
              "      <th>0.0</th>\n",
              "      <th>1.0</th>\n",
              "    </tr>\n",
              "    <tr>\n",
              "      <th>ContractRenewal</th>\n",
              "      <th></th>\n",
              "      <th></th>\n",
              "    </tr>\n",
              "  </thead>\n",
              "  <tbody>\n",
              "    <tr>\n",
              "      <th>0.0</th>\n",
              "      <td>185</td>\n",
              "      <td>137</td>\n",
              "    </tr>\n",
              "    <tr>\n",
              "      <th>1.0</th>\n",
              "      <td>2665</td>\n",
              "      <td>346</td>\n",
              "    </tr>\n",
              "  </tbody>\n",
              "</table>\n",
              "</div>"
            ],
            "text/plain": [
              "Churn             0.0  1.0\n",
              "ContractRenewal           \n",
              "0.0               185  137\n",
              "1.0              2665  346"
            ]
          },
          "metadata": {
            "tags": []
          },
          "execution_count": 32
        }
      ]
    },
    {
      "cell_type": "code",
      "metadata": {
        "ExecuteTime": {
          "end_time": "2021-03-28T11:46:50.358951Z",
          "start_time": "2021-03-28T11:46:49.983350Z"
        },
        "id": "NOZX5Cu--E2s",
        "outputId": "a35d0e85-7bf9-4fd6-f175-cc8951ef6665"
      },
      "source": [
        "# dividing each value in the dataframe with the row total &\n",
        "# calculate the % & plot a 100% stacked bar plot\n",
        "(tab.div(tab.sum(1), axis = 0)*100).plot(kind = 'bar',stacked = True,\n",
        "                                        figsize = (5,3));\n",
        "# set the legend position\n",
        "plt.legend(loc = 'upper right', \n",
        "           bbox_to_anchor = (1.4,1),\n",
        "           labels = ['No Churn','Churn']);\n",
        "\n",
        "plt.ylabel('%');"
      ],
      "execution_count": null,
      "outputs": [
        {
          "output_type": "display_data",
          "data": {
            "image/png": "[encoded data removed]",
            "text/plain": [
              "<Figure size 360x216 with 1 Axes>"
            ]
          },
          "metadata": {
            "tags": [],
            "needs_background": "light"
          }
        }
      ]
    },
    {
      "cell_type": "markdown",
      "metadata": {
        "id": "sVQlJ7jQ-E2s"
      },
      "source": [
        "The contract renewal is totally opposite to the churn as the churn value of 0 shows that the user not cancelled the service whereas the contract renewal of value 0 shows that user has not renewed the contract.  \n",
        "When customers has not renewed the contract, count of churn and no churn is almost same.  \n",
        "More customers who has renewed the contract has not churned."
      ]
    },
    {
      "cell_type": "markdown",
      "metadata": {
        "id": "Q7HYpXPE-E2t"
      },
      "source": [
        "### Data Plan against Churn"
      ]
    },
    {
      "cell_type": "code",
      "metadata": {
        "ExecuteTime": {
          "end_time": "2021-03-28T11:49:02.708846Z",
          "start_time": "2021-03-28T11:49:02.318342Z"
        },
        "id": "SusnxBni-E2t",
        "outputId": "bf66f485-df12-4261-daff-e57457bc8536"
      },
      "source": [
        "tab = pd.crosstab(cell_df['DataPlan'], cell_df['Churn']) # x an indep var & &y = tgt var\n",
        "\n",
        "tab.div(tab.sum(1)/100, axis = 0).plot(kind = 'bar', \n",
        "                                                 stacked = True,\n",
        "                                      figsize = (5,3));\n",
        "plt.legend(loc = 'upper right', \n",
        "           bbox_to_anchor = (1.4,1),\n",
        "          labels = ['No Churn','Churn']);\n",
        "plt.ylabel('Percentage %');"
      ],
      "execution_count": null,
      "outputs": [
        {
          "output_type": "display_data",
          "data": {
            "image/png": "[encoded data removed]",
            "text/plain": [
              "<Figure size 360x216 with 1 Axes>"
            ]
          },
          "metadata": {
            "tags": [],
            "needs_background": "light"
          }
        }
      ]
    },
    {
      "cell_type": "markdown",
      "metadata": {
        "id": "Mfe4qr5s-E2t"
      },
      "source": [
        "Very few people have opted for having a data plan. Almost one-fifth of the customers have churned irrespective of having a data plan nor not. There isn't any significant difference between churn and no churn here."
      ]
    },
    {
      "cell_type": "markdown",
      "metadata": {
        "id": "ldPAWibC-E2u"
      },
      "source": [
        "# Train - Test Split"
      ]
    },
    {
      "cell_type": "code",
      "metadata": {
        "ExecuteTime": {
          "end_time": "2021-03-28T11:50:55.466940Z",
          "start_time": "2021-03-28T11:50:55.451982Z"
        },
        "id": "aKxCA983-E2u"
      },
      "source": [
        "# Creating a copy of the original data frame\n",
        "df = cell_df.copy()"
      ],
      "execution_count": null,
      "outputs": []
    },
    {
      "cell_type": "code",
      "metadata": {
        "ExecuteTime": {
          "end_time": "2021-03-28T11:51:04.629112Z",
          "start_time": "2021-03-28T11:51:04.595204Z"
        },
        "id": "bTuvS_-K-E2u",
        "outputId": "307af9f9-a01d-448f-c009-99c1feb3e914"
      },
      "source": [
        "df.head()"
      ],
      "execution_count": null,
      "outputs": [
        {
          "output_type": "execute_result",
          "data": {
            "text/html": [
              "<div>\n",
              "<style scoped>\n",
              "    .dataframe tbody tr th:only-of-type {\n",
              "        vertical-align: middle;\n",
              "    }\n",
              "\n",
              "    .dataframe tbody tr th {\n",
              "        vertical-align: top;\n",
              "    }\n",
              "\n",
              "    .dataframe thead th {\n",
              "        text-align: right;\n",
              "    }\n",
              "</style>\n",
              "<table border=\"1\" class=\"dataframe\">\n",
              "  <thead>\n",
              "    <tr style=\"text-align: right;\">\n",
              "      <th></th>\n",
              "      <th>Churn</th>\n",
              "      <th>AccountWeeks</th>\n",
              "      <th>ContractRenewal</th>\n",
              "      <th>DataPlan</th>\n",
              "      <th>DataUsage</th>\n",
              "      <th>CustServCalls</th>\n",
              "      <th>DayMins</th>\n",
              "      <th>DayCalls</th>\n",
              "      <th>MonthlyCharge</th>\n",
              "      <th>OverageFee</th>\n",
              "      <th>RoamMins</th>\n",
              "    </tr>\n",
              "  </thead>\n",
              "  <tbody>\n",
              "    <tr>\n",
              "      <th>0</th>\n",
              "      <td>1.0</td>\n",
              "      <td>108.0</td>\n",
              "      <td>0.0</td>\n",
              "      <td>0.0</td>\n",
              "      <td>0.38</td>\n",
              "      <td>2.0</td>\n",
              "      <td>115.1</td>\n",
              "      <td>114.0</td>\n",
              "      <td>41.8</td>\n",
              "      <td>10.57</td>\n",
              "      <td>13.8</td>\n",
              "    </tr>\n",
              "    <tr>\n",
              "      <th>1</th>\n",
              "      <td>0.0</td>\n",
              "      <td>113.0</td>\n",
              "      <td>1.0</td>\n",
              "      <td>1.0</td>\n",
              "      <td>3.59</td>\n",
              "      <td>1.0</td>\n",
              "      <td>44.9</td>\n",
              "      <td>63.0</td>\n",
              "      <td>55.9</td>\n",
              "      <td>6.71</td>\n",
              "      <td>13.3</td>\n",
              "    </tr>\n",
              "    <tr>\n",
              "      <th>2</th>\n",
              "      <td>0.0</td>\n",
              "      <td>101.0</td>\n",
              "      <td>1.0</td>\n",
              "      <td>0.0</td>\n",
              "      <td>0.00</td>\n",
              "      <td>0.0</td>\n",
              "      <td>257.3</td>\n",
              "      <td>84.0</td>\n",
              "      <td>60.0</td>\n",
              "      <td>9.24</td>\n",
              "      <td>13.5</td>\n",
              "    </tr>\n",
              "    <tr>\n",
              "      <th>3</th>\n",
              "      <td>0.0</td>\n",
              "      <td>80.0</td>\n",
              "      <td>1.0</td>\n",
              "      <td>1.0</td>\n",
              "      <td>2.89</td>\n",
              "      <td>4.0</td>\n",
              "      <td>166.4</td>\n",
              "      <td>92.0</td>\n",
              "      <td>77.9</td>\n",
              "      <td>11.92</td>\n",
              "      <td>10.7</td>\n",
              "    </tr>\n",
              "    <tr>\n",
              "      <th>4</th>\n",
              "      <td>0.0</td>\n",
              "      <td>70.0</td>\n",
              "      <td>1.0</td>\n",
              "      <td>0.0</td>\n",
              "      <td>0.00</td>\n",
              "      <td>0.0</td>\n",
              "      <td>175.4</td>\n",
              "      <td>130.0</td>\n",
              "      <td>44.0</td>\n",
              "      <td>7.98</td>\n",
              "      <td>11.6</td>\n",
              "    </tr>\n",
              "  </tbody>\n",
              "</table>\n",
              "</div>"
            ],
            "text/plain": [
              "   Churn  AccountWeeks  ContractRenewal  DataPlan  DataUsage  CustServCalls  \\\n",
              "0    1.0         108.0              0.0       0.0       0.38            2.0   \n",
              "1    0.0         113.0              1.0       1.0       3.59            1.0   \n",
              "2    0.0         101.0              1.0       0.0       0.00            0.0   \n",
              "3    0.0          80.0              1.0       1.0       2.89            4.0   \n",
              "4    0.0          70.0              1.0       0.0       0.00            0.0   \n",
              "\n",
              "   DayMins  DayCalls  MonthlyCharge  OverageFee  RoamMins  \n",
              "0    115.1     114.0           41.8       10.57      13.8  \n",
              "1     44.9      63.0           55.9        6.71      13.3  \n",
              "2    257.3      84.0           60.0        9.24      13.5  \n",
              "3    166.4      92.0           77.9       11.92      10.7  \n",
              "4    175.4     130.0           44.0        7.98      11.6  "
            ]
          },
          "metadata": {
            "tags": []
          },
          "execution_count": 36
        }
      ]
    },
    {
      "cell_type": "code",
      "metadata": {
        "ExecuteTime": {
          "end_time": "2021-03-28T11:51:30.820209Z",
          "start_time": "2021-03-28T11:51:30.813225Z"
        },
        "id": "c9jhiV6D-E2v"
      },
      "source": [
        "X = df.drop('Churn',axis=1)\n",
        "y = df.pop('Churn')"
      ],
      "execution_count": null,
      "outputs": []
    },
    {
      "cell_type": "code",
      "metadata": {
        "ExecuteTime": {
          "end_time": "2021-03-28T11:53:55.164779Z",
          "start_time": "2021-03-28T11:53:55.138883Z"
        },
        "id": "dGRwTeIF-E2v"
      },
      "source": [
        "X_train,X_test,y_train,y_test=train_test_split(X,\n",
        "                                               y,\n",
        "                                               test_size=0.30,\n",
        "                                               random_state=1,\n",
        "                                               stratify = y)"
      ],
      "execution_count": null,
      "outputs": []
    },
    {
      "cell_type": "code",
      "metadata": {
        "ExecuteTime": {
          "end_time": "2021-03-28T11:57:56.678694Z",
          "start_time": "2021-03-28T11:57:56.665728Z"
        },
        "id": "VO1ZXTef-E2v",
        "outputId": "50f0ea34-e392-4f1c-fefd-60d8de624e22"
      },
      "source": [
        "X_train.shape, X_test.shape"
      ],
      "execution_count": null,
      "outputs": [
        {
          "output_type": "execute_result",
          "data": {
            "text/plain": [
              "((2333, 10), (1000, 10))"
            ]
          },
          "metadata": {
            "tags": []
          },
          "execution_count": 39
        }
      ]
    },
    {
      "cell_type": "code",
      "metadata": {
        "ExecuteTime": {
          "end_time": "2021-03-28T11:58:10.986099Z",
          "start_time": "2021-03-28T11:58:10.976137Z"
        },
        "id": "cpGDifhW-E2v",
        "outputId": "bdb9a661-8e18-4db6-c3c7-495c4d9dd30c"
      },
      "source": [
        "y_train.shape,y_test.shape"
      ],
      "execution_count": null,
      "outputs": [
        {
          "output_type": "execute_result",
          "data": {
            "text/plain": [
              "((2333,), (1000,))"
            ]
          },
          "metadata": {
            "tags": []
          },
          "execution_count": 40
        }
      ]
    },
    {
      "cell_type": "code",
      "metadata": {
        "ExecuteTime": {
          "end_time": "2021-03-28T11:58:35.813246Z",
          "start_time": "2021-03-28T11:58:35.795293Z"
        },
        "id": "jw8rA-mT-E2v",
        "outputId": "a870dac9-2fa5-481b-d14a-483b788d5484"
      },
      "source": [
        "y_train.value_counts(1)"
      ],
      "execution_count": null,
      "outputs": [
        {
          "output_type": "execute_result",
          "data": {
            "text/plain": [
              "0.0    0.855122\n",
              "1.0    0.144878\n",
              "Name: Churn, dtype: float64"
            ]
          },
          "metadata": {
            "tags": []
          },
          "execution_count": 41
        }
      ]
    },
    {
      "cell_type": "code",
      "metadata": {
        "ExecuteTime": {
          "end_time": "2021-03-28T11:58:48.449135Z",
          "start_time": "2021-03-28T11:58:48.430184Z"
        },
        "id": "eNZcEUb4-E2w",
        "outputId": "c4318484-b376-4bf2-9695-1b1c192fd718"
      },
      "source": [
        "y_test.value_counts(1)"
      ],
      "execution_count": null,
      "outputs": [
        {
          "output_type": "execute_result",
          "data": {
            "text/plain": [
              "0.0    0.855\n",
              "1.0    0.145\n",
              "Name: Churn, dtype: float64"
            ]
          },
          "metadata": {
            "tags": []
          },
          "execution_count": 42
        }
      ]
    },
    {
      "cell_type": "markdown",
      "metadata": {
        "id": "EZlc0xWO-E2w"
      },
      "source": [
        "# Linear Discriminant Analysis"
      ]
    },
    {
      "cell_type": "code",
      "metadata": {
        "ExecuteTime": {
          "end_time": "2021-03-28T12:00:19.118565Z",
          "start_time": "2021-03-28T12:00:18.962984Z"
        },
        "id": "X6Z3TxNF-E2w"
      },
      "source": [
        "#Build LDA Model & Train\n",
        "clf = LinearDiscriminantAnalysis()\n",
        "model=clf.fit(X_train,y_train)"
      ],
      "execution_count": null,
      "outputs": []
    },
    {
      "cell_type": "markdown",
      "metadata": {
        "id": "Wsv7FP9Z-E2x"
      },
      "source": [
        "## Prediction"
      ]
    },
    {
      "cell_type": "code",
      "metadata": {
        "ExecuteTime": {
          "end_time": "2021-03-28T12:00:56.203452Z",
          "start_time": "2021-03-28T12:00:56.190487Z"
        },
        "id": "pzUgl4fi-E2x"
      },
      "source": [
        "# Training Data Class Prediction with a cut-off value of 0.5\n",
        "pred_class_train = model.predict(X_train)\n",
        "      \n",
        "# Test Data Class Prediction with a cut-off value of 0.5\n",
        "pred_class_test = model.predict(X_test)"
      ],
      "execution_count": null,
      "outputs": []
    },
    {
      "cell_type": "markdown",
      "metadata": {
        "id": "UypAx0WK-E2x"
      },
      "source": [
        "## Confusion Matrix Comparison"
      ]
    },
    {
      "cell_type": "code",
      "metadata": {
        "ExecuteTime": {
          "end_time": "2021-03-28T12:02:04.090335Z",
          "start_time": "2021-03-28T12:02:04.072383Z"
        },
        "id": "YWh5MNli-E2x"
      },
      "source": [
        "from sklearn.metrics import plot_confusion_matrix,\\\n",
        "classification_report,plot_roc_curve"
      ],
      "execution_count": null,
      "outputs": []
    },
    {
      "cell_type": "markdown",
      "metadata": {
        "id": "i0dxnt1n-E2y"
      },
      "source": [
        "### Train Data"
      ]
    },
    {
      "cell_type": "code",
      "metadata": {
        "ExecuteTime": {
          "end_time": "2021-03-28T12:02:18.051581Z",
          "start_time": "2021-03-28T12:02:17.767831Z"
        },
        "id": "zLtt6fLR-E2y",
        "outputId": "b51bc72b-a339-4cea-af0e-cd8e9f462d37"
      },
      "source": [
        "plot_confusion_matrix(model,X_train,y_train,colorbar = False);"
      ],
      "execution_count": null,
      "outputs": [
        {
          "output_type": "display_data",
          "data": {
            "image/png": "[encoded data removed]",
            "text/plain": [
              "<Figure size 1080x576 with 1 Axes>"
            ]
          },
          "metadata": {
            "tags": [],
            "needs_background": "light"
          }
        }
      ]
    },
    {
      "cell_type": "markdown",
      "metadata": {
        "id": "OgFOX8Gt-E2y"
      },
      "source": [
        "### Test Data"
      ]
    },
    {
      "cell_type": "code",
      "metadata": {
        "ExecuteTime": {
          "end_time": "2021-03-28T12:03:26.487658Z",
          "start_time": "2021-03-28T12:03:26.182474Z"
        },
        "id": "aUZus-Hf-E2y",
        "outputId": "d3a2a0ae-93b2-427f-90c3-71a22c3ecca7"
      },
      "source": [
        "plot_confusion_matrix(model,X_test,y_test, colorbar=False);"
      ],
      "execution_count": null,
      "outputs": [
        {
          "output_type": "display_data",
          "data": {
            "image/png": "[encoded data removed]",
            "text/plain": [
              "<Figure size 1080x576 with 1 Axes>"
            ]
          },
          "metadata": {
            "tags": [],
            "needs_background": "light"
          }
        }
      ]
    },
    {
      "cell_type": "markdown",
      "metadata": {
        "id": "wCZizK4T-E2z"
      },
      "source": [
        "## Classification Report Comparison"
      ]
    },
    {
      "cell_type": "code",
      "metadata": {
        "ExecuteTime": {
          "end_time": "2021-03-28T12:03:53.524861Z",
          "start_time": "2021-03-28T12:03:53.491920Z"
        },
        "id": "2pdreMSc-E2z",
        "outputId": "dfce6603-2b98-4933-85a8-0c804117d80b"
      },
      "source": [
        "print(classification_report(y_train,pred_class_train))"
      ],
      "execution_count": null,
      "outputs": [
        {
          "output_type": "stream",
          "text": [
            "              precision    recall  f1-score   support\n",
            "\n",
            "         0.0       0.88      0.95      0.92      1995\n",
            "         1.0       0.47      0.24      0.32       338\n",
            "\n",
            "    accuracy                           0.85      2333\n",
            "   macro avg       0.67      0.60      0.62      2333\n",
            "weighted avg       0.82      0.85      0.83      2333\n",
            "\n"
          ],
          "name": "stdout"
        }
      ]
    },
    {
      "cell_type": "code",
      "metadata": {
        "ExecuteTime": {
          "end_time": "2021-03-28T12:05:20.365294Z",
          "start_time": "2021-03-28T12:05:20.342356Z"
        },
        "id": "FUJHCZw6-E2z",
        "outputId": "0d2a20f2-c0a5-43a6-c322-0c91f2783ba0"
      },
      "source": [
        "print(classification_report(y_test,pred_class_test))"
      ],
      "execution_count": null,
      "outputs": [
        {
          "output_type": "stream",
          "text": [
            "              precision    recall  f1-score   support\n",
            "\n",
            "         0.0       0.89      0.95      0.92       855\n",
            "         1.0       0.48      0.28      0.35       145\n",
            "\n",
            "    accuracy                           0.85      1000\n",
            "   macro avg       0.68      0.61      0.63      1000\n",
            "weighted avg       0.83      0.85      0.83      1000\n",
            "\n"
          ],
          "name": "stdout"
        }
      ]
    },
    {
      "cell_type": "markdown",
      "metadata": {
        "id": "auiPWRmI-E20"
      },
      "source": [
        "## Probability prediction for the training and test data"
      ]
    },
    {
      "cell_type": "code",
      "metadata": {
        "ExecuteTime": {
          "end_time": "2021-03-28T12:06:30.032997Z",
          "start_time": "2021-03-28T12:06:30.028010Z"
        },
        "id": "hMGbNJaq-E20"
      },
      "source": [
        "from sklearn.metrics import roc_auc_score"
      ],
      "execution_count": null,
      "outputs": []
    },
    {
      "cell_type": "code",
      "metadata": {
        "ExecuteTime": {
          "end_time": "2021-03-28T12:07:27.060775Z",
          "start_time": "2021-03-28T12:07:27.022879Z"
        },
        "id": "rGWeckIU-E20"
      },
      "source": [
        "pred_train_prob = model.predict_proba(X_train)\n",
        "pred_test_prob = model.predict_proba(X_test)\n",
        "\n",
        "auc_train = roc_auc_score(y_train,pred_train_prob[:,1])\n",
        "auc_test = roc_auc_score(y_test,pred_test_prob[:,1])"
      ],
      "execution_count": null,
      "outputs": []
    },
    {
      "cell_type": "code",
      "metadata": {
        "ExecuteTime": {
          "end_time": "2021-03-28T12:07:40.931587Z",
          "start_time": "2021-03-28T12:07:40.916633Z"
        },
        "id": "HAuK5qY--E20",
        "outputId": "19d4c4e2-578c-44b8-b97b-7e065618026a"
      },
      "source": [
        "pred_train_prob \n",
        "# we are interested in the probability of the class being 1\n",
        "# hence we will be extracting the second column in the output below\n",
        "# using pred_train_prob[:,1]\n",
        "# using pred_train_prob[:,1][0] gives the prob prediction for the first\n",
        "# row, pred_train_prob[:,1][1] gives the prob prediction for the second\n",
        "#row and so on. "
      ],
      "execution_count": null,
      "outputs": [
        {
          "output_type": "execute_result",
          "data": {
            "text/plain": [
              "array([[0.97930068, 0.02069932],\n",
              "       [0.79820584, 0.20179416],\n",
              "       [0.84577452, 0.15422548],\n",
              "       ...,\n",
              "       [0.89941904, 0.10058096],\n",
              "       [0.83266024, 0.16733976],\n",
              "       [0.9471653 , 0.0528347 ]])"
            ]
          },
          "metadata": {
            "tags": []
          },
          "execution_count": 52
        }
      ]
    },
    {
      "cell_type": "code",
      "metadata": {
        "ExecuteTime": {
          "end_time": "2021-03-28T12:08:54.109767Z",
          "start_time": "2021-03-28T12:08:53.614540Z"
        },
        "id": "BsOqqfJV-E21",
        "outputId": "984273d4-136c-4471-9ef2-7ba6cccda281"
      },
      "source": [
        "fig,ax = plt.subplots()\n",
        "plot_roc_curve(model, X_train,y_train,ax=ax, \n",
        "               label = 'Train Curve : AUC: '+str(round(auc_train,2)));\n",
        "plot_roc_curve(model, X_test, y_test, ax=ax,\n",
        "              label = 'Test Curve : AUC: '+ str(round(auc_test,2)));\n",
        "plt.plot([0,1],[0,1], linestyle='--', color = 'grey');"
      ],
      "execution_count": null,
      "outputs": [
        {
          "output_type": "display_data",
          "data": {
            "image/png": "[encoded data removed]",
            "text/plain": [
              "<Figure size 1080x576 with 1 Axes>"
            ]
          },
          "metadata": {
            "tags": [],
            "needs_background": "light"
          }
        }
      ]
    },
    {
      "cell_type": "code",
      "metadata": {
        "ExecuteTime": {
          "end_time": "2021-02-22T15:18:36.670888Z",
          "start_time": "2021-02-22T15:18:36.314843Z"
        },
        "id": "Y_g5abde-E21"
      },
      "source": [
        "# # AUC and ROC for the training data\n",
        "\n",
        "# # calculate AUC\n",
        "# auc = metrics.roc_auc_score(Y_train,pred_prob_train[:,1])\n",
        "# print('AUC for the Training Data: %.3f' % auc)\n",
        "\n",
        "# #  calculate roc curve\n",
        "# fpr, tpr, thresholds = metrics.roc_curve(Y_train,pred_prob_train[:,1])\n",
        "# plt.plot([0, 1], [0, 1], linestyle='--')\n",
        "# # plot the roc curve for the model\n",
        "# plt.plot(fpr, tpr, marker='.',label = 'Training Data')\n",
        "\n",
        "\n",
        "# # AUC and ROC for the test data\n",
        "\n",
        "# # calculate AUC\n",
        "# auc = metrics.roc_auc_score(Y_test,pred_prob_test[:,1])\n",
        "# print('AUC for the Test Data: %.3f' % auc)\n",
        "\n",
        "# #  calculate roc curve\n",
        "# fpr, tpr, thresholds = metrics.roc_curve(Y_test,pred_prob_test[:,1])\n",
        "# plt.plot([0, 1], [0, 1], linestyle='--')\n",
        "# # plot the roc curve for the model\n",
        "# plt.plot(fpr, tpr, marker='.',label='Test Data')\n",
        "# # show the plot\n",
        "# plt.legend(loc='best')\n",
        "# plt.show()"
      ],
      "execution_count": null,
      "outputs": []
    },
    {
      "cell_type": "markdown",
      "metadata": {
        "id": "_IAgUoEW-E21"
      },
      "source": [
        "# Conclusion"
      ]
    },
    {
      "cell_type": "markdown",
      "metadata": {
        "id": "xhRufFQd-E21"
      },
      "source": [
        "The model accuracy on the training as well as the test set is about 85%, which is roughly the same proportion as the class 0 observations in the dataset. \n",
        "This model is affected by a class imbalance problem.\n",
        "Since we only have 3333 observations, if re-build the same LDA model with more number of data points, an even better model could be built.\n",
        "\n",
        "We will learn about how to address the class imbalance problem in the Machine Learning module week 2.\n",
        "\n",
        "Please do go ahead ad try to build other classification algorithms learnt so far in the course and compare the performances of those."
      ]
    },
    {
      "cell_type": "markdown",
      "metadata": {
        "id": "Hx8U9ErY-E22"
      },
      "source": [
        "# Changing Default Threshold Probability"
      ]
    },
    {
      "cell_type": "markdown",
      "metadata": {
        "id": "tNT0CSc3-E22"
      },
      "source": [
        "We will do this exercise only on the training data and take the best cut off value for whatever evaluation metric we choose. Then this selected threshold(cut-off) probability is used to work out the classification predictions from the test data probability predictions."
      ]
    },
    {
      "cell_type": "code",
      "metadata": {
        "ExecuteTime": {
          "end_time": "2021-03-28T12:21:12.425994Z",
          "start_time": "2021-03-28T12:21:12.413031Z"
        },
        "id": "jBAT6RYj-E22"
      },
      "source": [
        "# function to evaluate accuracy,f1,recall for each threshold prob\n",
        "# and return a data frame with all these metrics\n",
        "# it takes the train data probability predictions as input\n",
        "\n",
        "def custom_threshold_metrics(pred_train_prob):\n",
        "    thresh = [] # empty list to store threshold prob values\n",
        "    acc = [] # empty list to store accuracy for various threshold values\n",
        "    f1_scr = [] # empty list to store F1 score for various...\n",
        "    rec = [] # empty list to store recall score for various...\n",
        "\n",
        "    for thresh_prob in np.arange(0.1,1,0.1):\n",
        "        thresh.append(thresh_prob)\n",
        "        custom_cutoff_data=[]#defining an empty list to store category pred\n",
        "        #defining a loop for the length of the test data\n",
        "        for i in range(0,len(y_train)):\n",
        "            #checking the condition for our probability values to be greater                 than the custom cutoff/threshold probability value\n",
        "            if pred_train_prob[:,1][i] > thresh_prob:\n",
        "                a=1 # if predicted prob > threshold then predict category 1\n",
        "            else:\n",
        "                a=0 # else predict 0\n",
        "            # add category predictions of train data for given threshold\n",
        "            custom_cutoff_data.append(a)\n",
        "        acc.append(np.round(accuracy_score(y_train,custom_cutoff_data),3))\n",
        "        f1_scr.append(np.round(f1_score(y_train,custom_cutoff_data),3))\n",
        "        rec.append(np.round(recall_score(y_train,custom_cutoff_data),3))\n",
        "    # put it all in a dataframe for easy comparison\n",
        "    df_eval = pd.DataFrame({'threshold_prob':thresh,\n",
        "                           'Acc':acc,\n",
        "                           'f1':f1_scr,\n",
        "                           'recall':rec})\n",
        "    return df_eval\n"
      ],
      "execution_count": null,
      "outputs": []
    },
    {
      "cell_type": "code",
      "metadata": {
        "ExecuteTime": {
          "end_time": "2021-03-28T12:21:44.357584Z",
          "start_time": "2021-03-28T12:21:44.169082Z"
        },
        "id": "yD4gS_Q--E22",
        "outputId": "fc1b03e9-7472-4e52-d8fa-1100a89e2fb3"
      },
      "source": [
        "custom_threshold_metrics(pred_train_prob)"
      ],
      "execution_count": null,
      "outputs": [
        {
          "output_type": "execute_result",
          "data": {
            "text/html": [
              "<div>\n",
              "<style scoped>\n",
              "    .dataframe tbody tr th:only-of-type {\n",
              "        vertical-align: middle;\n",
              "    }\n",
              "\n",
              "    .dataframe tbody tr th {\n",
              "        vertical-align: top;\n",
              "    }\n",
              "\n",
              "    .dataframe thead th {\n",
              "        text-align: right;\n",
              "    }\n",
              "</style>\n",
              "<table border=\"1\" class=\"dataframe\">\n",
              "  <thead>\n",
              "    <tr style=\"text-align: right;\">\n",
              "      <th></th>\n",
              "      <th>threshold_prob</th>\n",
              "      <th>Acc</th>\n",
              "      <th>f1</th>\n",
              "      <th>recall</th>\n",
              "    </tr>\n",
              "  </thead>\n",
              "  <tbody>\n",
              "    <tr>\n",
              "      <th>0</th>\n",
              "      <td>0.1</td>\n",
              "      <td>0.717</td>\n",
              "      <td>0.455</td>\n",
              "      <td>0.817</td>\n",
              "    </tr>\n",
              "    <tr>\n",
              "      <th>1</th>\n",
              "      <td>0.2</td>\n",
              "      <td>0.819</td>\n",
              "      <td>0.495</td>\n",
              "      <td>0.612</td>\n",
              "    </tr>\n",
              "    <tr>\n",
              "      <th>2</th>\n",
              "      <td>0.3</td>\n",
              "      <td>0.843</td>\n",
              "      <td>0.440</td>\n",
              "      <td>0.426</td>\n",
              "    </tr>\n",
              "    <tr>\n",
              "      <th>3</th>\n",
              "      <td>0.4</td>\n",
              "      <td>0.845</td>\n",
              "      <td>0.365</td>\n",
              "      <td>0.308</td>\n",
              "    </tr>\n",
              "    <tr>\n",
              "      <th>4</th>\n",
              "      <td>0.5</td>\n",
              "      <td>0.850</td>\n",
              "      <td>0.317</td>\n",
              "      <td>0.240</td>\n",
              "    </tr>\n",
              "    <tr>\n",
              "      <th>5</th>\n",
              "      <td>0.6</td>\n",
              "      <td>0.857</td>\n",
              "      <td>0.281</td>\n",
              "      <td>0.192</td>\n",
              "    </tr>\n",
              "    <tr>\n",
              "      <th>6</th>\n",
              "      <td>0.7</td>\n",
              "      <td>0.861</td>\n",
              "      <td>0.221</td>\n",
              "      <td>0.136</td>\n",
              "    </tr>\n",
              "    <tr>\n",
              "      <th>7</th>\n",
              "      <td>0.8</td>\n",
              "      <td>0.860</td>\n",
              "      <td>0.138</td>\n",
              "      <td>0.077</td>\n",
              "    </tr>\n",
              "    <tr>\n",
              "      <th>8</th>\n",
              "      <td>0.9</td>\n",
              "      <td>0.856</td>\n",
              "      <td>0.035</td>\n",
              "      <td>0.018</td>\n",
              "    </tr>\n",
              "  </tbody>\n",
              "</table>\n",
              "</div>"
            ],
            "text/plain": [
              "   threshold_prob    Acc     f1  recall\n",
              "0             0.1  0.717  0.455   0.817\n",
              "1             0.2  0.819  0.495   0.612\n",
              "2             0.3  0.843  0.440   0.426\n",
              "3             0.4  0.845  0.365   0.308\n",
              "4             0.5  0.850  0.317   0.240\n",
              "5             0.6  0.857  0.281   0.192\n",
              "6             0.7  0.861  0.221   0.136\n",
              "7             0.8  0.860  0.138   0.077\n",
              "8             0.9  0.856  0.035   0.018"
            ]
          },
          "metadata": {
            "tags": []
          },
          "execution_count": 55
        }
      ]
    },
    {
      "cell_type": "markdown",
      "metadata": {
        "id": "s5mcAiJa-E22"
      },
      "source": [
        "We see that <b>0.7 and 0.8 gives better accuracy</b> than the rest of the custom cut-off values. But <b>0.2 cut-off gives us the best 'f1-score'</b>. <b>0.1 gives the best recall score</b>. Here, assuming we want a model that performs best on F1 Score, we will take the cut-off as 0.2 to get the optimum 'f1' score. \n",
        "\n",
        "The selection of the preferred threshold probability should be done based on training data preductions only.\n",
        "Let us evaluate the predictions of the test data made using these cut-off values."
      ]
    },
    {
      "cell_type": "code",
      "metadata": {
        "ExecuteTime": {
          "end_time": "2021-03-28T12:28:21.073903Z",
          "start_time": "2021-03-28T12:28:21.065958Z"
        },
        "id": "I-TjOX1B-E23"
      },
      "source": [
        "#Predicting the classes on the test data\n",
        "\n",
        "data_pred_custom_cutoff=[]\n",
        "for i in range(len(pred_test_prob)):\n",
        "    if pred_test_prob[:,1][i] > 0.1: # for best recall performace\n",
        "        a = 1\n",
        "    else:\n",
        "        a = 0\n",
        "    data_pred_custom_cutoff.append(a)\n"
      ],
      "execution_count": null,
      "outputs": []
    },
    {
      "cell_type": "code",
      "metadata": {
        "ExecuteTime": {
          "end_time": "2021-03-28T12:28:30.368272Z",
          "start_time": "2021-03-28T12:28:30.359296Z"
        },
        "id": "dtjw-_Fj-E23",
        "outputId": "465efcbf-3a70-413d-f82e-f206e40762d4"
      },
      "source": [
        "data_pred_custom_cutoff[:10]"
      ],
      "execution_count": null,
      "outputs": [
        {
          "output_type": "execute_result",
          "data": {
            "text/plain": [
              "[0, 0, 0, 1, 1, 0, 1, 1, 0, 0]"
            ]
          },
          "metadata": {
            "tags": []
          },
          "execution_count": 57
        }
      ]
    },
    {
      "cell_type": "code",
      "metadata": {
        "ExecuteTime": {
          "end_time": "2021-03-28T12:29:36.931897Z",
          "start_time": "2021-03-28T12:29:36.902975Z"
        },
        "id": "OK649wth-E23",
        "outputId": "07cc43a0-bdc0-45de-d253-ab7cc3b003d4"
      },
      "source": [
        "print('Classification Report of the default cut-off test data:\\n\\n',\n",
        "      classification_report(y_test,pred_class_test),'\\n\\n\\n')\n",
        "\n",
        "print('Classification Report of the custom cut-off test data:\\n\\n',\n",
        "      classification_report(y_test,data_pred_custom_cutoff),'\\n')"
      ],
      "execution_count": null,
      "outputs": [
        {
          "output_type": "stream",
          "text": [
            "Classification Report of the default cut-off test data:\n",
            "\n",
            "               precision    recall  f1-score   support\n",
            "\n",
            "         0.0       0.89      0.95      0.92       855\n",
            "         1.0       0.48      0.28      0.35       145\n",
            "\n",
            "    accuracy                           0.85      1000\n",
            "   macro avg       0.68      0.61      0.63      1000\n",
            "weighted avg       0.83      0.85      0.83      1000\n",
            " \n",
            "\n",
            "\n",
            "\n",
            "Classification Report of the custom cut-off test data:\n",
            "\n",
            "               precision    recall  f1-score   support\n",
            "\n",
            "         0.0       0.96      0.70      0.81       855\n",
            "         1.0       0.32      0.84      0.46       145\n",
            "\n",
            "    accuracy                           0.72      1000\n",
            "   macro avg       0.64      0.77      0.64      1000\n",
            "weighted avg       0.87      0.72      0.76      1000\n",
            " \n",
            "\n"
          ],
          "name": "stdout"
        }
      ]
    },
    {
      "cell_type": "markdown",
      "metadata": {
        "id": "70wf1Mys-E23"
      },
      "source": [
        "As a practice, You can try comparing the classification report of train and test predictions by taking the best threshold probability (0.7 or 0.8) for Accuracy Score  and repeat the exercise for f1 (threshold probaility = 0.2)."
      ]
    },
    {
      "cell_type": "markdown",
      "metadata": {
        "id": "rOzheoZ5-E24"
      },
      "source": [
        "<p style = 'color:red'><b> HAPPY LEARNING </b> </p>"
      ]
    },
    {
      "cell_type": "code",
      "metadata": {
        "id": "h4AAHpz_-E24"
      },
      "source": [
        ""
      ],
      "execution_count": null,
      "outputs": []
    }
  ]
}