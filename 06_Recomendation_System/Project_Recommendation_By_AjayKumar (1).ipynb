{
  "nbformat": 4,
  "nbformat_minor": 0,
  "metadata": {
    "colab": {
      "name": "Project_Recommendation_By_AjayKumar.ipynb",
      "provenance": [],
      "collapsed_sections": [
        "fAfHt4IyLGFT",
        "OdsVpFX01YXN",
        "y0btiHXptrnq",
        "qIi8p7xaGGRp"
      ],
      "toc_visible": true
    },
    "kernelspec": {
      "display_name": "Python 3",
      "name": "python3"
    },
    "language_info": {
      "name": "python"
    }
  },
  "cells": [
    {
      "cell_type": "markdown",
      "metadata": {
        "id": "UGSmEq05hJ7t"
      },
      "source": [
        "#### Project Recomendation System\n",
        "By Ajay Kumar"
      ]
    },
    {
      "cell_type": "markdown",
      "metadata": {
        "id": "BNWxsO9ekuni"
      },
      "source": [
        "### Problem Statement"
      ]
    },
    {
      "cell_type": "markdown",
      "metadata": {
        "id": "FmFenN9Pk0jP"
      },
      "source": [
        "India is the second largest market globally for smartphones after China. About 134 million smartphones were sold across India \n",
        "in the year 2017 and is estimated to increase to about 442 million in 2022. India ranked second in the average time spent on mobile web by \n",
        "smartphone users across Asia Pacific. The combination of very high sales volumes and the average smartphone consumer behaviour has \n",
        "made India a very attractive market for foreign vendors. As per Consumer behaviour, 97% of consumers turn to a search engine when they \n",
        "are buying a product vs. 15% who turn to social media. If a seller succeeds to publish smartphones based on user’s behaviour/choice at the \n",
        "right place, there are 90% chances that user will enquire for the same. This Case Study is targeted to build a recommendation system \n",
        "based on individual consumer’s behaviour or choice."
      ]
    },
    {
      "cell_type": "markdown",
      "metadata": {
        "id": "cofSszVkk9Eg"
      },
      "source": [
        "### Data Dictionary"
      ]
    },
    {
      "cell_type": "markdown",
      "metadata": {
        "id": "3x3whrQYonvT"
      },
      "source": [
        "# New Section"
      ]
    },
    {
      "cell_type": "markdown",
      "metadata": {
        "id": "txs3PJjJmMo8"
      },
      "source": [
        "DATA DESCRIPTION: \n",
        "\n",
        "• author : name of the person who gave the rating\n",
        "\n",
        "• country : country the person who gave the rating belongs to\n",
        "\n",
        "• data : date of the rating\n",
        "\n",
        "• domain: website from which the rating was taken from\n",
        "\n",
        "• extract: rating content\n",
        "\n",
        "• language: language in which the rating was given\n",
        "\n",
        "• product: name of the product/mobile phone for which the rating was given\n",
        "\n",
        "• score: average rating for the phone\n",
        "\n",
        "• score_max: highest rating given for the phone\n",
        "\n",
        "• source: source from where the rating was taken"
      ]
    },
    {
      "cell_type": "code",
      "metadata": {
        "colab": {
          "base_uri": "https://localhost:8080/"
        },
        "id": "VsY2D0bmpgWQ",
        "outputId": "208ea625-25f5-47d3-c75a-f020bd463e6a"
      },
      "source": [
        "from google.colab import drive\n",
        "drive.mount('/content/drive')"
      ],
      "execution_count": 2,
      "outputs": [
        {
          "output_type": "stream",
          "text": [
            "Mounted at /content/drive\n"
          ],
          "name": "stdout"
        }
      ]
    },
    {
      "cell_type": "markdown",
      "metadata": {
        "id": "ldSJI8xbmbHn"
      },
      "source": [
        "## Importing the Libraries"
      ]
    },
    {
      "cell_type": "code",
      "metadata": {
        "id": "3sEpPukWmoWU"
      },
      "source": [
        "#Import all necessary modules\n",
        "import pandas as pd  \n",
        "import numpy as np \n",
        "import matplotlib.pyplot as plt \n",
        "import seaborn as sns\n",
        "import warnings\n",
        "warnings.filterwarnings('ignore')\n",
        "%matplotlib inline"
      ],
      "execution_count": 3,
      "outputs": []
    },
    {
      "cell_type": "markdown",
      "metadata": {
        "id": "XLkL5D20no7n"
      },
      "source": [
        "# Q1. Import the necessary libraries and read the provided CSVs as a data frame and perform the below steps. \n",
        "#### 1(a) Merge the provided CSVs into one data-frame."
      ]
    },
    {
      "cell_type": "code",
      "metadata": {
        "id": "BuuLdI6ybkCq"
      },
      "source": [
        "import os\n",
        "import glob\n",
        "import pandas as pd\n",
        "os.chdir(\"/content/drive/MyDrive/AIML PROJECT/RECOMENDATION/Data.csv\")\n",
        "\n",
        "extension = 'csv'\n",
        "all_filenames = [i for i in glob.glob('*.{}'.format(extension))]\n",
        "\n",
        "#combine all files in the list\n",
        "combined_df = pd.concat([pd.read_csv(f) for f in all_filenames ])"
      ],
      "execution_count": 4,
      "outputs": []
    },
    {
      "cell_type": "markdown",
      "metadata": {
        "id": "VYBlIh8r4oyj"
      },
      "source": [
        "Merged all the csv files using glob library"
      ]
    },
    {
      "cell_type": "code",
      "metadata": {
        "colab": {
          "base_uri": "https://localhost:8080/",
          "height": 296
        },
        "id": "e6qOu84LrIPW",
        "outputId": "80222226-9eca-4b6a-b6c4-2967c3b3ce06"
      },
      "source": [
        "print(combined_df.shape)\n",
        "combined_df.head()"
      ],
      "execution_count": 5,
      "outputs": [
        {
          "output_type": "stream",
          "text": [
            "(1415133, 11)\n"
          ],
          "name": "stdout"
        },
        {
          "output_type": "execute_result",
          "data": {
            "text/html": [
              "<div>\n",
              "<style scoped>\n",
              "    .dataframe tbody tr th:only-of-type {\n",
              "        vertical-align: middle;\n",
              "    }\n",
              "\n",
              "    .dataframe tbody tr th {\n",
              "        vertical-align: top;\n",
              "    }\n",
              "\n",
              "    .dataframe thead th {\n",
              "        text-align: right;\n",
              "    }\n",
              "</style>\n",
              "<table border=\"1\" class=\"dataframe\">\n",
              "  <thead>\n",
              "    <tr style=\"text-align: right;\">\n",
              "      <th></th>\n",
              "      <th>phone_url</th>\n",
              "      <th>date</th>\n",
              "      <th>lang</th>\n",
              "      <th>country</th>\n",
              "      <th>source</th>\n",
              "      <th>domain</th>\n",
              "      <th>score</th>\n",
              "      <th>score_max</th>\n",
              "      <th>extract</th>\n",
              "      <th>author</th>\n",
              "      <th>product</th>\n",
              "    </tr>\n",
              "  </thead>\n",
              "  <tbody>\n",
              "    <tr>\n",
              "      <th>0</th>\n",
              "      <td>/cellphones/samsung-galaxy-s8/</td>\n",
              "      <td>05-02-2017</td>\n",
              "      <td>en</td>\n",
              "      <td>us</td>\n",
              "      <td>Verizon Wireless</td>\n",
              "      <td>verizonwireless.com</td>\n",
              "      <td>10.0</td>\n",
              "      <td>10.0</td>\n",
              "      <td>As a diehard Samsung fan who has had every Sam...</td>\n",
              "      <td>CarolAnn35</td>\n",
              "      <td>Samsung Galaxy S8</td>\n",
              "    </tr>\n",
              "    <tr>\n",
              "      <th>1</th>\n",
              "      <td>/cellphones/samsung-galaxy-s8/</td>\n",
              "      <td>4/28/2017</td>\n",
              "      <td>en</td>\n",
              "      <td>us</td>\n",
              "      <td>Phone Arena</td>\n",
              "      <td>phonearena.com</td>\n",
              "      <td>10.0</td>\n",
              "      <td>10.0</td>\n",
              "      <td>Love the phone. the phone is sleek and smooth ...</td>\n",
              "      <td>james0923</td>\n",
              "      <td>Samsung Galaxy S8</td>\n",
              "    </tr>\n",
              "    <tr>\n",
              "      <th>2</th>\n",
              "      <td>/cellphones/samsung-galaxy-s8/</td>\n",
              "      <td>05-04-2017</td>\n",
              "      <td>en</td>\n",
              "      <td>us</td>\n",
              "      <td>Amazon</td>\n",
              "      <td>amazon.com</td>\n",
              "      <td>6.0</td>\n",
              "      <td>10.0</td>\n",
              "      <td>Adequate feel. Nice heft. Processor's still sl...</td>\n",
              "      <td>R. Craig</td>\n",
              "      <td>Samsung Galaxy S8 (64GB) G950U 5.8\" 4G LTE Unl...</td>\n",
              "    </tr>\n",
              "    <tr>\n",
              "      <th>3</th>\n",
              "      <td>/cellphones/samsung-galaxy-s8/</td>\n",
              "      <td>05-02-2017</td>\n",
              "      <td>en</td>\n",
              "      <td>us</td>\n",
              "      <td>Samsung</td>\n",
              "      <td>samsung.com</td>\n",
              "      <td>9.2</td>\n",
              "      <td>10.0</td>\n",
              "      <td>Never disappointed. One of the reasons I've be...</td>\n",
              "      <td>Buster2020</td>\n",
              "      <td>Samsung Galaxy S8 64GB (AT&amp;T)</td>\n",
              "    </tr>\n",
              "    <tr>\n",
              "      <th>4</th>\n",
              "      <td>/cellphones/samsung-galaxy-s8/</td>\n",
              "      <td>05-11-2017</td>\n",
              "      <td>en</td>\n",
              "      <td>us</td>\n",
              "      <td>Verizon Wireless</td>\n",
              "      <td>verizonwireless.com</td>\n",
              "      <td>4.0</td>\n",
              "      <td>10.0</td>\n",
              "      <td>I've now found that i'm in a group of people t...</td>\n",
              "      <td>S Ate Mine</td>\n",
              "      <td>Samsung Galaxy S8</td>\n",
              "    </tr>\n",
              "  </tbody>\n",
              "</table>\n",
              "</div>"
            ],
            "text/plain": [
              "                        phone_url  ...                                            product\n",
              "0  /cellphones/samsung-galaxy-s8/  ...                                  Samsung Galaxy S8\n",
              "1  /cellphones/samsung-galaxy-s8/  ...                                  Samsung Galaxy S8\n",
              "2  /cellphones/samsung-galaxy-s8/  ...  Samsung Galaxy S8 (64GB) G950U 5.8\" 4G LTE Unl...\n",
              "3  /cellphones/samsung-galaxy-s8/  ...                      Samsung Galaxy S8 64GB (AT&T)\n",
              "4  /cellphones/samsung-galaxy-s8/  ...                                  Samsung Galaxy S8\n",
              "\n",
              "[5 rows x 11 columns]"
            ]
          },
          "metadata": {
            "tags": []
          },
          "execution_count": 5
        }
      ]
    },
    {
      "cell_type": "markdown",
      "metadata": {
        "id": "mA3gRcZL436y"
      },
      "source": [
        "There are 1415133 entries and 11 columns in the Dataset"
      ]
    },
    {
      "cell_type": "markdown",
      "metadata": {
        "id": "KPaFrUaXrccW"
      },
      "source": [
        "#### 1(b) Check a few observations and shape of the data-frame."
      ]
    },
    {
      "cell_type": "code",
      "metadata": {
        "colab": {
          "base_uri": "https://localhost:8080/",
          "height": 94
        },
        "id": "0jxdWfZMrmgw",
        "outputId": "55400518-e284-46f2-b7de-594d4217a710"
      },
      "source": [
        "print(combined_df.shape)\n",
        "combined_df.head(1)"
      ],
      "execution_count": 6,
      "outputs": [
        {
          "output_type": "stream",
          "text": [
            "(1415133, 11)\n"
          ],
          "name": "stdout"
        },
        {
          "output_type": "execute_result",
          "data": {
            "text/html": [
              "<div>\n",
              "<style scoped>\n",
              "    .dataframe tbody tr th:only-of-type {\n",
              "        vertical-align: middle;\n",
              "    }\n",
              "\n",
              "    .dataframe tbody tr th {\n",
              "        vertical-align: top;\n",
              "    }\n",
              "\n",
              "    .dataframe thead th {\n",
              "        text-align: right;\n",
              "    }\n",
              "</style>\n",
              "<table border=\"1\" class=\"dataframe\">\n",
              "  <thead>\n",
              "    <tr style=\"text-align: right;\">\n",
              "      <th></th>\n",
              "      <th>phone_url</th>\n",
              "      <th>date</th>\n",
              "      <th>lang</th>\n",
              "      <th>country</th>\n",
              "      <th>source</th>\n",
              "      <th>domain</th>\n",
              "      <th>score</th>\n",
              "      <th>score_max</th>\n",
              "      <th>extract</th>\n",
              "      <th>author</th>\n",
              "      <th>product</th>\n",
              "    </tr>\n",
              "  </thead>\n",
              "  <tbody>\n",
              "    <tr>\n",
              "      <th>0</th>\n",
              "      <td>/cellphones/samsung-galaxy-s8/</td>\n",
              "      <td>05-02-2017</td>\n",
              "      <td>en</td>\n",
              "      <td>us</td>\n",
              "      <td>Verizon Wireless</td>\n",
              "      <td>verizonwireless.com</td>\n",
              "      <td>10.0</td>\n",
              "      <td>10.0</td>\n",
              "      <td>As a diehard Samsung fan who has had every Sam...</td>\n",
              "      <td>CarolAnn35</td>\n",
              "      <td>Samsung Galaxy S8</td>\n",
              "    </tr>\n",
              "  </tbody>\n",
              "</table>\n",
              "</div>"
            ],
            "text/plain": [
              "                        phone_url        date  ...      author            product\n",
              "0  /cellphones/samsung-galaxy-s8/  05-02-2017  ...  CarolAnn35  Samsung Galaxy S8\n",
              "\n",
              "[1 rows x 11 columns]"
            ]
          },
          "metadata": {
            "tags": []
          },
          "execution_count": 6
        }
      ]
    },
    {
      "cell_type": "code",
      "metadata": {
        "colab": {
          "base_uri": "https://localhost:8080/"
        },
        "id": "ST07_CzFyeXt",
        "outputId": "186535ab-3672-45b1-b7fe-26ac76ab21b9"
      },
      "source": [
        "combined_df.info()"
      ],
      "execution_count": 7,
      "outputs": [
        {
          "output_type": "stream",
          "text": [
            "<class 'pandas.core.frame.DataFrame'>\n",
            "Int64Index: 1415133 entries, 0 to 163836\n",
            "Data columns (total 11 columns):\n",
            " #   Column     Non-Null Count    Dtype  \n",
            "---  ------     --------------    -----  \n",
            " 0   phone_url  1415133 non-null  object \n",
            " 1   date       1415133 non-null  object \n",
            " 2   lang       1415133 non-null  object \n",
            " 3   country    1415133 non-null  object \n",
            " 4   source     1415133 non-null  object \n",
            " 5   domain     1415133 non-null  object \n",
            " 6   score      1351644 non-null  float64\n",
            " 7   score_max  1351644 non-null  float64\n",
            " 8   extract    1395772 non-null  object \n",
            " 9   author     1351931 non-null  object \n",
            " 10  product    1415132 non-null  object \n",
            "dtypes: float64(2), object(9)\n",
            "memory usage: 129.6+ MB\n"
          ],
          "name": "stdout"
        }
      ]
    },
    {
      "cell_type": "markdown",
      "metadata": {
        "id": "9i1-iSvh5Di9"
      },
      "source": [
        "The information command is describing the presence of null values, data types and 1415133 entries, 0 to 163836 and total 11 columns"
      ]
    },
    {
      "cell_type": "code",
      "metadata": {
        "colab": {
          "base_uri": "https://localhost:8080/"
        },
        "id": "cKPQpITVvn_a",
        "outputId": "5b71fdaa-fe1b-4d98-a5ee-c185705d03b4"
      },
      "source": [
        "# Checking the value counts of the varibles to check the presence of niosy data\n",
        "col = ['lang', 'country', 'source', 'domain', 'score','score_max', 'product']\n",
        "for feature in combined_df[col]:\n",
        "  print(feature, 'Number of levels', combined_df[feature].nunique())\n",
        "  print(combined_df[feature].value_counts())\n",
        "  print('\\n')"
      ],
      "execution_count": 8,
      "outputs": [
        {
          "output_type": "stream",
          "text": [
            "lang Number of levels 22\n",
            "en    554746\n",
            "ru    207443\n",
            "de    176600\n",
            "it    116120\n",
            "es     99739\n",
            "fr     95080\n",
            "pt     67155\n",
            "nl     38375\n",
            "tr     28359\n",
            "sv     17149\n",
            "fi      6953\n",
            "cs      2533\n",
            "no      1918\n",
            "he      1370\n",
            "pl       493\n",
            "da       418\n",
            "hu       346\n",
            "id       271\n",
            "ja        33\n",
            "zh        19\n",
            "ar        12\n",
            "ko         1\n",
            "Name: lang, dtype: int64\n",
            "\n",
            "\n",
            "country Number of levels 42\n",
            "us    318435\n",
            "de    176525\n",
            "ru    174945\n",
            "in    127876\n",
            "it    116120\n",
            "gb     95795\n",
            "fr     95080\n",
            "es     76271\n",
            "br     63975\n",
            "ua     32498\n",
            "tr     28359\n",
            "nl     25716\n",
            "se     17149\n",
            "ar     15636\n",
            "be     12659\n",
            "ca     11118\n",
            "fi      6953\n",
            "pt      3180\n",
            "mx      3142\n",
            "cz      2533\n",
            "no      1918\n",
            "ec      1478\n",
            "au      1413\n",
            "il      1370\n",
            "co      1350\n",
            "uy       725\n",
            "cl       603\n",
            "pl       493\n",
            "dk       418\n",
            "ve       389\n",
            "hu       346\n",
            "id       271\n",
            "pe       145\n",
            "ch        75\n",
            "nz        74\n",
            "jp        33\n",
            "za        25\n",
            "tw        14\n",
            "ae        12\n",
            "sg        10\n",
            "cn         5\n",
            "kr         1\n",
            "Name: country, dtype: int64\n",
            "\n",
            "\n",
            "source Number of levels 331\n",
            "Amazon           728471\n",
            "Yandex           123066\n",
            "Ciao              59425\n",
            "Samsung           45585\n",
            "MercadoLibre      33531\n",
            "                  ...  \n",
            "TechnikDirekt         1\n",
            "Foto.no               1\n",
            "Homeshop18            1\n",
            "Verdicts              1\n",
            "Shop Your Way         1\n",
            "Name: source, Length: 331, dtype: int64\n",
            "\n",
            "\n",
            "domain Number of levels 384\n",
            "amazon.com          214776\n",
            "amazon.de           132720\n",
            "market.yandex.ru    123066\n",
            "amazon.in           112880\n",
            "amazon.it            89533\n",
            "                     ...  \n",
            "skapiec.pl               1\n",
            "staples.nl               1\n",
            "homeshop18.com           1\n",
            "shop.ca                  1\n",
            "quelle.de                1\n",
            "Name: domain, Length: 384, dtype: int64\n",
            "\n",
            "\n",
            "score Number of levels 86\n",
            "10.0    656239\n",
            "8.0     296018\n",
            "2.0     128485\n",
            "6.0     116616\n",
            "4.0      72462\n",
            "         ...  \n",
            "0.4          2\n",
            "4.9          1\n",
            "1.5          1\n",
            "8.9          1\n",
            "6.1          1\n",
            "Name: score, Length: 86, dtype: int64\n",
            "\n",
            "\n",
            "score_max Number of levels 1\n",
            "10.0    1351644\n",
            "Name: score_max, dtype: int64\n",
            "\n",
            "\n",
            "product Number of levels 61313\n",
            "Lenovo Vibe K4 Note (White,16GB)                                                    5226\n",
            "Lenovo Vibe K4 Note (Black, 16GB)                                                   4390\n",
            "OnePlus 3 (Graphite, 64 GB)                                                         4103\n",
            "OnePlus 3 (Soft Gold, 64 GB)                                                        3563\n",
            "Huawei P8lite zwart / 16 GB                                                         2707\n",
            "                                                                                    ... \n",
            "Coque Nokia Lumia 1520 Etui Noir RÃ©el VÃ©ritable Cuir Clapet Housse                   1\n",
            "æ‘©æ‰˜ç½—æ‹‰ C168i                                                                     1\n",
            "???????€???????? Asus PadFone Infinity                                                 1\n",
            "HTC Desire C - Android Phone - GSM / UMTS - Schwarz - T-Mobile                         1\n",
            "CUBOT GT72 4\" Smartphone Dual SIM Android Schwarz Touchscreen Handy ohne Vertrag       1\n",
            "Name: product, Length: 61313, dtype: int64\n",
            "\n",
            "\n"
          ],
          "name": "stdout"
        }
      ]
    },
    {
      "cell_type": "markdown",
      "metadata": {
        "id": "_oQb0PEfw4FQ"
      },
      "source": [
        "#### 1(c) Round off scores to the nearest integers."
      ]
    },
    {
      "cell_type": "code",
      "metadata": {
        "colab": {
          "base_uri": "https://localhost:8080/"
        },
        "id": "9d2jFMIx0GOp",
        "outputId": "9c0a94d8-5452-4e71-fb6d-e8287a33897d"
      },
      "source": [
        "combined_df['score'].unique()"
      ],
      "execution_count": 9,
      "outputs": [
        {
          "output_type": "execute_result",
          "data": {
            "text/plain": [
              "array([10. ,  6. ,  9.2,  4. ,  8. ,  2. ,  9.6,  7.2,  6.8,  9. ,  8.3,\n",
              "        8.8,  8.4,  5.3,  7. ,  6.4,  7.6,  nan,  5.2,  3.2,  4.4,  2.8,\n",
              "        5.6,  3.6,  4.8,  1. ,  5. ,  3. ,  2.4,  9.3,  8.5,  9.5,  6.5,\n",
              "        5.5,  9.8,  8.2,  8.6,  7.8,  9.4,  6.6,  6.2,  7.5,  9.9,  2.7,\n",
              "        8.7,  6.7,  3.3,  7.7,  7.3,  9.7,  6.3,  7.4,  5.7,  4.7,  4.3,\n",
              "        5.8,  4.2,  4.5,  2.2,  5.4,  7.9,  3.5,  4.6,  3.7,  2.5,  3.4,\n",
              "        7.1,  8.1,  1.2,  1.4,  3.8,  9.1,  2.6,  1.6,  1.7,  1.5,  1.8,\n",
              "        2.3,  6.1,  5.9,  1.3,  0.2,  0.4,  8.9,  6.9,  0.6,  4.9])"
            ]
          },
          "metadata": {
            "tags": []
          },
          "execution_count": 9
        }
      ]
    },
    {
      "cell_type": "code",
      "metadata": {
        "colab": {
          "base_uri": "https://localhost:8080/"
        },
        "id": "xuEAazeO0S4P",
        "outputId": "12ee30ac-2796-40b0-d035-71f964ba6f3b"
      },
      "source": [
        "combined_df['score'] = combined_df['score'].round()\n",
        "combined_df['score'].unique()"
      ],
      "execution_count": 10,
      "outputs": [
        {
          "output_type": "execute_result",
          "data": {
            "text/plain": [
              "array([10.,  6.,  9.,  4.,  8.,  2.,  7.,  5., nan,  3.,  1.,  0.])"
            ]
          },
          "metadata": {
            "tags": []
          },
          "execution_count": 10
        }
      ]
    },
    {
      "cell_type": "markdown",
      "metadata": {
        "id": "EGuhtb5058IZ"
      },
      "source": [
        "Varible score rounded to the nearest integer ranging from 0 to 10"
      ]
    },
    {
      "cell_type": "code",
      "metadata": {
        "colab": {
          "base_uri": "https://localhost:8080/",
          "height": 383
        },
        "id": "fFZfsKB9MbbQ",
        "outputId": "46dfbe7c-2547-4e8e-bca5-f3a65181de46"
      },
      "source": [
        "with sns.axes_style('darkgrid', ):\n",
        "  g = sns.factorplot('score', data=combined_df, aspect =2.0, kind = 'count')\n",
        "  g.set_ylabels('Total No. of scores')"
      ],
      "execution_count": 11,
      "outputs": [
        {
          "output_type": "display_data",
          "data": {
            "image/png": "[encoded data removed]",
            "text/plain": [
              "<Figure size 720x360 with 1 Axes>"
            ]
          },
          "metadata": {
            "tags": []
          }
        }
      ]
    },
    {
      "cell_type": "markdown",
      "metadata": {
        "id": "VQh7IVjG6Mr8"
      },
      "source": [
        "The factorplot of the score variable gives us the no. of counts for each scores. The maximum scores is 10 and minimum is 0."
      ]
    },
    {
      "cell_type": "code",
      "metadata": {
        "colab": {
          "base_uri": "https://localhost:8080/"
        },
        "id": "XnUPe7YXzclt",
        "outputId": "f095ea9f-ae3b-4af6-b46a-c067acbf4580"
      },
      "source": [
        "combined_df['score'].describe().round().T"
      ],
      "execution_count": 12,
      "outputs": [
        {
          "output_type": "execute_result",
          "data": {
            "text/plain": [
              "count    1351644.0\n",
              "mean           8.0\n",
              "std            3.0\n",
              "min            0.0\n",
              "25%            7.0\n",
              "50%            9.0\n",
              "75%           10.0\n",
              "max           10.0\n",
              "Name: score, dtype: float64"
            ]
          },
          "metadata": {
            "tags": []
          },
          "execution_count": 12
        }
      ]
    },
    {
      "cell_type": "markdown",
      "metadata": {
        "id": "8l-lhTDP0jCj"
      },
      "source": [
        "#### 1 (d) Check for missing values. Impute the missing values if there is any"
      ]
    },
    {
      "cell_type": "code",
      "metadata": {
        "colab": {
          "base_uri": "https://localhost:8080/"
        },
        "id": "xu2-CmRw1INs",
        "outputId": "c53c7d44-923d-402f-bd94-f69a61b9c9eb"
      },
      "source": [
        "combined_df.isnull().sum()"
      ],
      "execution_count": 13,
      "outputs": [
        {
          "output_type": "execute_result",
          "data": {
            "text/plain": [
              "phone_url        0\n",
              "date             0\n",
              "lang             0\n",
              "country          0\n",
              "source           0\n",
              "domain           0\n",
              "score        63489\n",
              "score_max    63489\n",
              "extract      19361\n",
              "author       63202\n",
              "product          1\n",
              "dtype: int64"
            ]
          },
          "metadata": {
            "tags": []
          },
          "execution_count": 13
        }
      ]
    },
    {
      "cell_type": "markdown",
      "metadata": {
        "id": "Zp9yDDCzA836"
      },
      "source": [
        "Ther are five variables which have null values. Imputing the null values by mean of the variables.  "
      ]
    },
    {
      "cell_type": "code",
      "metadata": {
        "id": "uFQMbC6I1MTj"
      },
      "source": [
        "# Replacing the nan value of score and score_max variable with their mean value.\n",
        "combined_df['score'] = combined_df['score'].replace(np.nan ,combined_df['score'].mean() )\n",
        "combined_df['score_max'] = combined_df['score_max'].replace(np.nan ,combined_df['score_max'].mean() )"
      ],
      "execution_count": 14,
      "outputs": []
    },
    {
      "cell_type": "code",
      "metadata": {
        "colab": {
          "base_uri": "https://localhost:8080/"
        },
        "id": "yRLW2B2y1ff5",
        "outputId": "9913a14c-a936-4418-814a-9c52d07dead3"
      },
      "source": [
        "# Droping the nan value of extract and author variable\n",
        "combined_df.isnull().sum()\n",
        "combined_df.dropna(inplace=True)\n",
        "combined_df.isnull().sum().any()"
      ],
      "execution_count": 15,
      "outputs": [
        {
          "output_type": "execute_result",
          "data": {
            "text/plain": [
              "False"
            ]
          },
          "metadata": {
            "tags": []
          },
          "execution_count": 15
        }
      ]
    },
    {
      "cell_type": "markdown",
      "metadata": {
        "id": "TNHcEMaK6XKb"
      },
      "source": [
        "1 (e) Check for duplicate values and remove them if there is any."
      ]
    },
    {
      "cell_type": "code",
      "metadata": {
        "colab": {
          "base_uri": "https://localhost:8080/"
        },
        "id": "CUcvdyAF8saw",
        "outputId": "a49b12a5-3c74-4980-ec0c-22cce5f8e58c"
      },
      "source": [
        "combined_df.duplicated().sum()"
      ],
      "execution_count": 16,
      "outputs": [
        {
          "output_type": "execute_result",
          "data": {
            "text/plain": [
              "4823"
            ]
          },
          "metadata": {
            "tags": []
          },
          "execution_count": 16
        }
      ]
    },
    {
      "cell_type": "code",
      "metadata": {
        "colab": {
          "base_uri": "https://localhost:8080/"
        },
        "id": "JH_MB8mOM7Dz",
        "outputId": "8d136895-4e42-40c3-c3de-e1d0e400a6fd"
      },
      "source": [
        "combined_df.drop_duplicates(inplace=True)\n",
        "combined_df.duplicated().sum()"
      ],
      "execution_count": 17,
      "outputs": [
        {
          "output_type": "execute_result",
          "data": {
            "text/plain": [
              "0"
            ]
          },
          "metadata": {
            "tags": []
          },
          "execution_count": 17
        }
      ]
    },
    {
      "cell_type": "markdown",
      "metadata": {
        "id": "YRyPOka0Bgfp"
      },
      "source": [
        "There are 4823 duplcate values in the dataset. Droping all the by using python command drop_duplicated "
      ]
    },
    {
      "cell_type": "markdown",
      "metadata": {
        "id": "tLJwXJoYNPRy"
      },
      "source": [
        "#### 1(f) Keep only 1000000 data samples. Use random state=612."
      ]
    },
    {
      "cell_type": "code",
      "metadata": {
        "colab": {
          "base_uri": "https://localhost:8080/"
        },
        "id": "il3ExcbwNhoF",
        "outputId": "93ffcb33-e500-42de-e53d-babaf3fecbdb"
      },
      "source": [
        "df = combined_df.sample(n = 1000000, random_state=612)\n",
        "print(df.shape)"
      ],
      "execution_count": 18,
      "outputs": [
        {
          "output_type": "stream",
          "text": [
            "(1000000, 11)\n"
          ],
          "name": "stdout"
        }
      ]
    },
    {
      "cell_type": "markdown",
      "metadata": {
        "id": "zrNTbr0aPZUs"
      },
      "source": [
        "#### 1(g) Drop irrelevant features. Keep features like Author, Product, and Score"
      ]
    },
    {
      "cell_type": "code",
      "metadata": {
        "colab": {
          "base_uri": "https://localhost:8080/",
          "height": 212
        },
        "id": "6d06ICmiPkr_",
        "outputId": "3975a592-a8cd-48c2-faba-659575d64819"
      },
      "source": [
        "df = df[['author', 'product', 'score']]\n",
        "# df.reset_index(level=None, drop=False, inplace=True, col_level=0, col_fill='')\n",
        "print(df.shape)\n",
        "df.head()"
      ],
      "execution_count": 19,
      "outputs": [
        {
          "output_type": "stream",
          "text": [
            "(1000000, 3)\n"
          ],
          "name": "stdout"
        },
        {
          "output_type": "execute_result",
          "data": {
            "text/html": [
              "<div>\n",
              "<style scoped>\n",
              "    .dataframe tbody tr th:only-of-type {\n",
              "        vertical-align: middle;\n",
              "    }\n",
              "\n",
              "    .dataframe tbody tr th {\n",
              "        vertical-align: top;\n",
              "    }\n",
              "\n",
              "    .dataframe thead th {\n",
              "        text-align: right;\n",
              "    }\n",
              "</style>\n",
              "<table border=\"1\" class=\"dataframe\">\n",
              "  <thead>\n",
              "    <tr style=\"text-align: right;\">\n",
              "      <th></th>\n",
              "      <th>author</th>\n",
              "      <th>product</th>\n",
              "      <th>score</th>\n",
              "    </tr>\n",
              "  </thead>\n",
              "  <tbody>\n",
              "    <tr>\n",
              "      <th>8765</th>\n",
              "      <td>Kdotj15</td>\n",
              "      <td>Samsung Galaxy S7 edge 32GB (Sprint)</td>\n",
              "      <td>10.0</td>\n",
              "    </tr>\n",
              "    <tr>\n",
              "      <th>233365</th>\n",
              "      <td>Cliente Amazon</td>\n",
              "      <td>Asus ZE551ML-2A760WW Smartphone ZenFone 2 Delu...</td>\n",
              "      <td>10.0</td>\n",
              "    </tr>\n",
              "    <tr>\n",
              "      <th>145859</th>\n",
              "      <td>ron</td>\n",
              "      <td>×˜×œ×¤×•×Ÿ ×¡×œ×•×œ×¨×™ Huawei Mate S 32GB</td>\n",
              "      <td>10.0</td>\n",
              "    </tr>\n",
              "    <tr>\n",
              "      <th>302180</th>\n",
              "      <td>katha_maria93</td>\n",
              "      <td>Sony Ericsson W395 blush titanium Handy</td>\n",
              "      <td>8.0</td>\n",
              "    </tr>\n",
              "    <tr>\n",
              "      <th>304586</th>\n",
              "      <td>paul george</td>\n",
              "      <td>Apple iPhone 3G 8GB SIM-Free - Black</td>\n",
              "      <td>2.0</td>\n",
              "    </tr>\n",
              "  </tbody>\n",
              "</table>\n",
              "</div>"
            ],
            "text/plain": [
              "                author  ... score\n",
              "8765          Kdotj15   ...  10.0\n",
              "233365  Cliente Amazon  ...  10.0\n",
              "145859             ron  ...  10.0\n",
              "302180   katha_maria93  ...   8.0\n",
              "304586     paul george  ...   2.0\n",
              "\n",
              "[5 rows x 3 columns]"
            ]
          },
          "metadata": {
            "tags": []
          },
          "execution_count": 19
        }
      ]
    },
    {
      "cell_type": "markdown",
      "metadata": {
        "id": "sK-kBYoWP4J3"
      },
      "source": [
        "# 2 Answer the following questions\n",
        "#### 2(a) Identify the most rated features"
      ]
    },
    {
      "cell_type": "code",
      "metadata": {
        "colab": {
          "base_uri": "https://localhost:8080/",
          "height": 621
        },
        "id": "tjrUyB6IQ98Q",
        "outputId": "aad5d1c4-2fc6-4ba1-b290-d95d91662acf"
      },
      "source": [
        "df.groupby('product')['score'].count().sort_values(ascending=False).head(10).plot(kind='bar', figsize=(14,6));"
      ],
      "execution_count": 20,
      "outputs": [
        {
          "output_type": "display_data",
          "data": {
            "image/png": "[encoded data removed]",
            "text/plain": [
              "<Figure size 1008x432 with 1 Axes>"
            ]
          },
          "metadata": {
            "tags": [],
            "needs_background": "light"
          }
        }
      ]
    },
    {
      "cell_type": "markdown",
      "metadata": {
        "id": "-hVWh7TACaJI"
      },
      "source": [
        "The most rated product is Lenovo Vibe K4 Note (white, 16 GB) and so on so forth as shown in the figure above"
      ]
    },
    {
      "cell_type": "markdown",
      "metadata": {
        "id": "xnwcLPaLTpu9"
      },
      "source": [
        "#### 2 (b) Identify the users with most number of reviews."
      ]
    },
    {
      "cell_type": "code",
      "metadata": {
        "colab": {
          "base_uri": "https://localhost:8080/",
          "height": 470
        },
        "id": "yCyYxPkmVUxV",
        "outputId": "713c4c00-790f-48f3-ba77-196e0751208f"
      },
      "source": [
        "df.groupby('author')['score'].count().sort_values(ascending=False).head(10).plot(kind='bar', figsize=(14,6));"
      ],
      "execution_count": 21,
      "outputs": [
        {
          "output_type": "display_data",
          "data": {
            "image/png": "[encoded data removed]",
            "text/plain": [
              "<Figure size 1008x432 with 1 Axes>"
            ]
          },
          "metadata": {
            "tags": [],
            "needs_background": "light"
          }
        }
      ]
    },
    {
      "cell_type": "markdown",
      "metadata": {
        "id": "kvHmehISEBkf"
      },
      "source": [
        "The user which has given most scores is Amazon customer  and so on so forth as shown in the figure above"
      ]
    },
    {
      "cell_type": "markdown",
      "metadata": {
        "id": "O2FNC0l7V6dw"
      },
      "source": [
        "#### 2 (c) Select the data with products having more than 50 ratings and users who have given more than 50 ratings. Report the shape of the final dataset."
      ]
    },
    {
      "cell_type": "code",
      "metadata": {
        "id": "l4FLCBi9WeJD"
      },
      "source": [
        "df1 = df.groupby('product').filter(lambda x:x['score'].count() > 50)"
      ],
      "execution_count": 22,
      "outputs": []
    },
    {
      "cell_type": "code",
      "metadata": {
        "colab": {
          "base_uri": "https://localhost:8080/",
          "height": 212
        },
        "id": "6utMLQ2npPDf",
        "outputId": "605ad6e5-cd4c-4d37-9eb8-a1a40d2b763a"
      },
      "source": [
        "print(df1.shape)\n",
        "df1.head()"
      ],
      "execution_count": 23,
      "outputs": [
        {
          "output_type": "stream",
          "text": [
            "(559498, 3)\n"
          ],
          "name": "stdout"
        },
        {
          "output_type": "execute_result",
          "data": {
            "text/html": [
              "<div>\n",
              "<style scoped>\n",
              "    .dataframe tbody tr th:only-of-type {\n",
              "        vertical-align: middle;\n",
              "    }\n",
              "\n",
              "    .dataframe tbody tr th {\n",
              "        vertical-align: top;\n",
              "    }\n",
              "\n",
              "    .dataframe thead th {\n",
              "        text-align: right;\n",
              "    }\n",
              "</style>\n",
              "<table border=\"1\" class=\"dataframe\">\n",
              "  <thead>\n",
              "    <tr style=\"text-align: right;\">\n",
              "      <th></th>\n",
              "      <th>author</th>\n",
              "      <th>product</th>\n",
              "      <th>score</th>\n",
              "    </tr>\n",
              "  </thead>\n",
              "  <tbody>\n",
              "    <tr>\n",
              "      <th>8765</th>\n",
              "      <td>Kdotj15</td>\n",
              "      <td>Samsung Galaxy S7 edge 32GB (Sprint)</td>\n",
              "      <td>10.0</td>\n",
              "    </tr>\n",
              "    <tr>\n",
              "      <th>233365</th>\n",
              "      <td>Cliente Amazon</td>\n",
              "      <td>Asus ZE551ML-2A760WW Smartphone ZenFone 2 Delu...</td>\n",
              "      <td>10.0</td>\n",
              "    </tr>\n",
              "    <tr>\n",
              "      <th>28860</th>\n",
              "      <td>stephensca</td>\n",
              "      <td>Samsung Galaxy S7 32GB (Verizon)</td>\n",
              "      <td>10.0</td>\n",
              "    </tr>\n",
              "    <tr>\n",
              "      <th>183941</th>\n",
              "      <td>martinsa</td>\n",
              "      <td>Sony Xperia Z C6603</td>\n",
              "      <td>8.0</td>\n",
              "    </tr>\n",
              "    <tr>\n",
              "      <th>197969</th>\n",
              "      <td>MoneyMike</td>\n",
              "      <td>Samsung Galaxy S4 16GB (T-Mobile)</td>\n",
              "      <td>10.0</td>\n",
              "    </tr>\n",
              "  </tbody>\n",
              "</table>\n",
              "</div>"
            ],
            "text/plain": [
              "                author  ... score\n",
              "8765          Kdotj15   ...  10.0\n",
              "233365  Cliente Amazon  ...  10.0\n",
              "28860      stephensca   ...  10.0\n",
              "183941        martinsa  ...   8.0\n",
              "197969      MoneyMike   ...  10.0\n",
              "\n",
              "[5 rows x 3 columns]"
            ]
          },
          "metadata": {
            "tags": []
          },
          "execution_count": 23
        }
      ]
    },
    {
      "cell_type": "code",
      "metadata": {
        "colab": {
          "base_uri": "https://localhost:8080/"
        },
        "id": "s0u3tmdwRfgc",
        "outputId": "3376e799-2e60-483c-bb5e-9beea08e2e81"
      },
      "source": [
        "df1['product'].value_counts()"
      ],
      "execution_count": 24,
      "outputs": [
        {
          "output_type": "execute_result",
          "data": {
            "text/plain": [
              "Lenovo Vibe K4 Note (White,16GB)                                                                                 3913\n",
              "Lenovo Vibe K4 Note (Black, 16GB)                                                                                3228\n",
              "OnePlus 3 (Graphite, 64 GB)                                                                                      3127\n",
              "OnePlus 3 (Soft Gold, 64 GB)                                                                                     2643\n",
              "Huawei P8lite zwart / 16 GB                                                                                      1994\n",
              "                                                                                                                 ... \n",
              "Wiko Fever Smartphone dÃ©bloquÃ© 4G (Ecran: 5,2 pouces - 16 Go - Double SIM - Android 5.1 Lollipop) Noir/Gris      51\n",
              "Samsung S380C Prepaid Phone (Net10)                                                                                51\n",
              "Huawei Ascend G300                                                                                                 51\n",
              "Buyus Etui Housse Luxe Portefeuille Samsung Galaxy J3 (2016) SM-J320F avec Stylet et 3 Films Inclus                51\n",
              "Samsung Galaxy S5 SM-G900H 16GB Factory Unlocked, No Warranty - International Version (Black)                      51\n",
              "Name: product, Length: 4376, dtype: int64"
            ]
          },
          "metadata": {
            "tags": []
          },
          "execution_count": 24
        }
      ]
    },
    {
      "cell_type": "code",
      "metadata": {
        "colab": {
          "base_uri": "https://localhost:8080/"
        },
        "id": "CFZUZ4Vn2rOS",
        "outputId": "e7f830d3-23b3-426c-9c02-2952ec7fab90"
      },
      "source": [
        "df2 = df1.groupby('author').filter(lambda x:x['score'].count() > 50)\n",
        "df2['author'].value_counts()"
      ],
      "execution_count": 25,
      "outputs": [
        {
          "output_type": "execute_result",
          "data": {
            "text/plain": [
              "Amazon Customer    43662\n",
              "Cliente Amazon      7504\n",
              "e-bit               5049\n",
              "Client d'Amazon     2758\n",
              "Amazon Kunde        2312\n",
              "                   ...  \n",
              "giovanni              52\n",
              "bumudur               51\n",
              "michele               51\n",
              "laura                 51\n",
              "Ricardo               51\n",
              "Name: author, Length: 286, dtype: int64"
            ]
          },
          "metadata": {
            "tags": []
          },
          "execution_count": 25
        }
      ]
    },
    {
      "cell_type": "code",
      "metadata": {
        "colab": {
          "base_uri": "https://localhost:8080/"
        },
        "id": "V-6RAScORwBz",
        "outputId": "7e44cdac-7237-4bd2-adc7-208e1098ffcd"
      },
      "source": [
        "# Final shape of the Dataset with products having more than 50 ratings and users who have given more than 50 ratings. \n",
        "df2.shape"
      ],
      "execution_count": 26,
      "outputs": [
        {
          "output_type": "execute_result",
          "data": {
            "text/plain": [
              "(96150, 3)"
            ]
          },
          "metadata": {
            "tags": []
          },
          "execution_count": 26
        }
      ]
    },
    {
      "cell_type": "markdown",
      "metadata": {
        "id": "jttWdkYr2sBy"
      },
      "source": [
        "I have used lambda funtion to extract the information. The final shape is (96150, 3)"
      ]
    },
    {
      "cell_type": "markdown",
      "metadata": {
        "id": "W3QxuYkzjjYW"
      },
      "source": [
        "# 3. Build a popularity based model and recommend top 5 mobile phones"
      ]
    },
    {
      "cell_type": "code",
      "metadata": {
        "colab": {
          "base_uri": "https://localhost:8080/",
          "height": 1000
        },
        "id": "V2_05Fx0bF9N",
        "outputId": "1b6a8e01-a13f-4c4a-e1fe-084dc16ed61d"
      },
      "source": [
        "# Top 5 recomendation by mean score of the product \n",
        "df2.groupby('product')['score'].mean().sort_values(ascending=False).head().plot(kind='bar',figsize=(14,7));"
      ],
      "execution_count": 64,
      "outputs": [
        {
          "output_type": "display_data",
          "data": {
            "image/png": "[encoded data removed]",
            "text/plain": [
              "<Figure size 1008x504 with 1 Axes>"
            ]
          },
          "metadata": {
            "tags": [],
            "needs_background": "light"
          }
        }
      ]
    },
    {
      "cell_type": "markdown",
      "metadata": {
        "id": "ixpeKQ0pFrUF"
      },
      "source": [
        "Top 5 recomendation by mean score of the product is shown in above figure"
      ]
    },
    {
      "cell_type": "code",
      "metadata": {
        "id": "1HIQIwUTLDiN"
      },
      "source": [
        "score_mean_count = pd.DataFrame(df2.groupby('product')['score'].mean()).sort_values('score',ascending=False)"
      ],
      "execution_count": 28,
      "outputs": []
    },
    {
      "cell_type": "code",
      "metadata": {
        "colab": {
          "base_uri": "https://localhost:8080/",
          "height": 242
        },
        "id": "QP94YJ7XIrYq",
        "outputId": "ff829f14-2734-41df-d23d-bebc0fe33d9a"
      },
      "source": [
        "# Top 5 recomendation by top count of the product \n",
        "score_mean_count['score_counts'] = pd.DataFrame(df2.groupby('product')['score'].count()).sort_values('score',ascending=False)\n",
        "print(score_mean_count.shape)\n",
        "score_mean_count.head()"
      ],
      "execution_count": 29,
      "outputs": [
        {
          "output_type": "stream",
          "text": [
            "(3879, 2)\n"
          ],
          "name": "stdout"
        },
        {
          "output_type": "execute_result",
          "data": {
            "text/html": [
              "<div>\n",
              "<style scoped>\n",
              "    .dataframe tbody tr th:only-of-type {\n",
              "        vertical-align: middle;\n",
              "    }\n",
              "\n",
              "    .dataframe tbody tr th {\n",
              "        vertical-align: top;\n",
              "    }\n",
              "\n",
              "    .dataframe thead th {\n",
              "        text-align: right;\n",
              "    }\n",
              "</style>\n",
              "<table border=\"1\" class=\"dataframe\">\n",
              "  <thead>\n",
              "    <tr style=\"text-align: right;\">\n",
              "      <th></th>\n",
              "      <th>score</th>\n",
              "      <th>score_counts</th>\n",
              "    </tr>\n",
              "    <tr>\n",
              "      <th>product</th>\n",
              "      <th></th>\n",
              "      <th></th>\n",
              "    </tr>\n",
              "  </thead>\n",
              "  <tbody>\n",
              "    <tr>\n",
              "      <th>Microsoft Nokia A00014805 108 Handy (4,6 cm (1,8 Zoll) QQVGA-Display, 160 x 128 Pixel, UKW-Radio, VGA Kamera ohne Blitz, Dual-SIM) schwarz</th>\n",
              "      <td>10.0</td>\n",
              "      <td>4</td>\n",
              "    </tr>\n",
              "    <tr>\n",
              "      <th>Samsung Galaxy S III 16GB (Verizon)</th>\n",
              "      <td>10.0</td>\n",
              "      <td>6</td>\n",
              "    </tr>\n",
              "    <tr>\n",
              "      <th>BlackBerry Bold 9780</th>\n",
              "      <td>10.0</td>\n",
              "      <td>1</td>\n",
              "    </tr>\n",
              "    <tr>\n",
              "      <th>Samsung Galaxy Nexus i9250 Smartphone (11,8 cm (4,65 Zoll) Touchscreen, 16GB interner Speicher, 5 Megapixel Kamera, Android 4.0) chic-white</th>\n",
              "      <td>10.0</td>\n",
              "      <td>2</td>\n",
              "    </tr>\n",
              "    <tr>\n",
              "      <th>Huawei Ascend P1 XL</th>\n",
              "      <td>10.0</td>\n",
              "      <td>1</td>\n",
              "    </tr>\n",
              "  </tbody>\n",
              "</table>\n",
              "</div>"
            ],
            "text/plain": [
              "                                                    score  score_counts\n",
              "product                                                                \n",
              "Microsoft Nokia A00014805 108 Handy (4,6 cm (1,...   10.0             4\n",
              "Samsung Galaxy S III 16GB (Verizon)                  10.0             6\n",
              "BlackBerry Bold 9780                                 10.0             1\n",
              "Samsung Galaxy Nexus i9250 Smartphone (11,8 cm ...   10.0             2\n",
              "Huawei Ascend P1 XL                                  10.0             1"
            ]
          },
          "metadata": {
            "tags": []
          },
          "execution_count": 29
        }
      ]
    },
    {
      "cell_type": "markdown",
      "metadata": {
        "id": "-63g3qcSexVj"
      },
      "source": [
        "Top 5 recomendation by mean count of the product is shown in above figure"
      ]
    },
    {
      "cell_type": "code",
      "metadata": {
        "colab": {
          "base_uri": "https://localhost:8080/",
          "height": 1000
        },
        "id": "t7Fngq7foMNB",
        "outputId": "7c143806-3c26-4104-8eed-d6256c61ecb4"
      },
      "source": [
        "df2.groupby('product')['score'].count().head().sort_values(ascending=False).plot(kind='bar',figsize=(14,7));"
      ],
      "execution_count": 30,
      "outputs": [
        {
          "output_type": "display_data",
          "data": {
            "image/png": "[encoded data removed]",
            "text/plain": [
              "<Figure size 1008x504 with 1 Axes>"
            ]
          },
          "metadata": {
            "tags": [],
            "needs_background": "light"
          }
        }
      ]
    },
    {
      "cell_type": "code",
      "metadata": {
        "colab": {
          "base_uri": "https://localhost:8080/",
          "height": 458
        },
        "id": "CJjQEp0Ylq51",
        "outputId": "653b6093-4065-43e2-f098-040a9a157db0"
      },
      "source": [
        "plt.figure(figsize=(8,6))\n",
        "plt.rcParams['patch.force_edgecolor'] = True\n",
        "sns.jointplot(x='score', y='score_counts', data=score_mean_count, alpha=0.4);"
      ],
      "execution_count": 31,
      "outputs": [
        {
          "output_type": "display_data",
          "data": {
            "text/plain": [
              "<Figure size 576x432 with 0 Axes>"
            ]
          },
          "metadata": {
            "tags": []
          }
        },
        {
          "output_type": "display_data",
          "data": {
            "image/png": "[encoded data removed]",
            "text/plain": [
              "<Figure size 432x432 with 3 Axes>"
            ]
          },
          "metadata": {
            "tags": [],
            "needs_background": "light"
          }
        }
      ]
    },
    {
      "cell_type": "code",
      "metadata": {
        "colab": {
          "base_uri": "https://localhost:8080/",
          "height": 374
        },
        "id": "_7peDk72zlfh",
        "outputId": "14719b62-8167-4296-ef2a-50d6d7cfd0b4"
      },
      "source": [
        "plt.figure(figsize=(8,6))\n",
        "plt.rcParams['patch.force_edgecolor'] = True\n",
        "score_mean_count['score'].hist(bins=50);"
      ],
      "execution_count": 32,
      "outputs": [
        {
          "output_type": "display_data",
          "data": {
            "image/png": "[encoded data removed]",
            "text/plain": [
              "<Figure size 576x432 with 1 Axes>"
            ]
          },
          "metadata": {
            "tags": [],
            "needs_background": "light"
          }
        }
      ]
    },
    {
      "cell_type": "markdown",
      "metadata": {
        "id": "fAfHt4IyLGFT"
      },
      "source": [
        "## 4. Build a collaborative filtering model using SVD. You can use SVD from surprise or build it from scratch(Note: Incase you’re building it from scratch you can limit your data points to 5000 samples if you face memory issues). Build a collaborative filtering model using kNNWithMeans from surprise. You can try both user-based and item-based model."
      ]
    },
    {
      "cell_type": "code",
      "metadata": {
        "colab": {
          "base_uri": "https://localhost:8080/",
          "height": 212
        },
        "id": "r3KyEo12mbkK",
        "outputId": "e23dfd03-6563-44dc-d194-1a598858fe8e"
      },
      "source": [
        "# Using filtered datset that is products having more than 50 ratings and users who have given more than 50 ratings\n",
        "print(df2.shape)\n",
        "df2.head()"
      ],
      "execution_count": 33,
      "outputs": [
        {
          "output_type": "stream",
          "text": [
            "(96150, 3)\n"
          ],
          "name": "stdout"
        },
        {
          "output_type": "execute_result",
          "data": {
            "text/html": [
              "<div>\n",
              "<style scoped>\n",
              "    .dataframe tbody tr th:only-of-type {\n",
              "        vertical-align: middle;\n",
              "    }\n",
              "\n",
              "    .dataframe tbody tr th {\n",
              "        vertical-align: top;\n",
              "    }\n",
              "\n",
              "    .dataframe thead th {\n",
              "        text-align: right;\n",
              "    }\n",
              "</style>\n",
              "<table border=\"1\" class=\"dataframe\">\n",
              "  <thead>\n",
              "    <tr style=\"text-align: right;\">\n",
              "      <th></th>\n",
              "      <th>author</th>\n",
              "      <th>product</th>\n",
              "      <th>score</th>\n",
              "    </tr>\n",
              "  </thead>\n",
              "  <tbody>\n",
              "    <tr>\n",
              "      <th>233365</th>\n",
              "      <td>Cliente Amazon</td>\n",
              "      <td>Asus ZE551ML-2A760WW Smartphone ZenFone 2 Delu...</td>\n",
              "      <td>10.0</td>\n",
              "    </tr>\n",
              "    <tr>\n",
              "      <th>47652</th>\n",
              "      <td>Amazon Customer</td>\n",
              "      <td>Apple iPhone 5s (Silver, 16GB)</td>\n",
              "      <td>2.0</td>\n",
              "    </tr>\n",
              "    <tr>\n",
              "      <th>28936</th>\n",
              "      <td>einem Kunden</td>\n",
              "      <td>ZTE Blade A452 Smartphone, 12,7 cm (5 Zoll) Di...</td>\n",
              "      <td>10.0</td>\n",
              "    </tr>\n",
              "    <tr>\n",
              "      <th>353663</th>\n",
              "      <td>Client d'Amazon</td>\n",
              "      <td>Aukru Chargeur de batterie adaptateur Pour Sam...</td>\n",
              "      <td>8.0</td>\n",
              "    </tr>\n",
              "    <tr>\n",
              "      <th>224123</th>\n",
              "      <td>Amazon Customer</td>\n",
              "      <td>Motorola Moto G 3rd Generation (Black, 16GB)</td>\n",
              "      <td>8.0</td>\n",
              "    </tr>\n",
              "  </tbody>\n",
              "</table>\n",
              "</div>"
            ],
            "text/plain": [
              "                 author  ... score\n",
              "233365   Cliente Amazon  ...  10.0\n",
              "47652   Amazon Customer  ...   2.0\n",
              "28936      einem Kunden  ...  10.0\n",
              "353663  Client d'Amazon  ...   8.0\n",
              "224123  Amazon Customer  ...   8.0\n",
              "\n",
              "[5 rows x 3 columns]"
            ]
          },
          "metadata": {
            "tags": []
          },
          "execution_count": 33
        }
      ]
    },
    {
      "cell_type": "code",
      "metadata": {
        "colab": {
          "base_uri": "https://localhost:8080/"
        },
        "id": "-atJFQhTwsuo",
        "outputId": "7c796806-41e9-4935-b15a-fdc00a8eb4ec"
      },
      "source": [
        "pip install surprise"
      ],
      "execution_count": 34,
      "outputs": [
        {
          "output_type": "stream",
          "text": [
            "Collecting surprise\n",
            "  Downloading https://files.pythonhosted.org/packages/61/de/e5cba8682201fcf9c3719a6fdda95693468ed061945493dea2dd37c5618b/surprise-0.1-py2.py3-none-any.whl\n",
            "Collecting scikit-surprise\n",
            "\u001b[?25l  Downloading https://files.pythonhosted.org/packages/97/37/5d334adaf5ddd65da99fc65f6507e0e4599d092ba048f4302fe8775619e8/scikit-surprise-1.1.1.tar.gz (11.8MB)\n",
            "\u001b[K     |████████████████████████████████| 11.8MB 363kB/s \n",
            "\u001b[?25hRequirement already satisfied: joblib>=0.11 in /usr/local/lib/python3.7/dist-packages (from scikit-surprise->surprise) (1.0.1)\n",
            "Requirement already satisfied: numpy>=1.11.2 in /usr/local/lib/python3.7/dist-packages (from scikit-surprise->surprise) (1.19.5)\n",
            "Requirement already satisfied: scipy>=1.0.0 in /usr/local/lib/python3.7/dist-packages (from scikit-surprise->surprise) (1.4.1)\n",
            "Requirement already satisfied: six>=1.10.0 in /usr/local/lib/python3.7/dist-packages (from scikit-surprise->surprise) (1.15.0)\n",
            "Building wheels for collected packages: scikit-surprise\n",
            "  Building wheel for scikit-surprise (setup.py) ... \u001b[?25l\u001b[?25hdone\n",
            "  Created wheel for scikit-surprise: filename=scikit_surprise-1.1.1-cp37-cp37m-linux_x86_64.whl size=1617594 sha256=e4c22efa30cb847a9b5bad53534a25f06f6b6b406766cce75702709719f8779c\n",
            "  Stored in directory: /root/.cache/pip/wheels/78/9c/3d/41b419c9d2aff5b6e2b4c0fc8d25c538202834058f9ed110d0\n",
            "Successfully built scikit-surprise\n",
            "Installing collected packages: scikit-surprise, surprise\n",
            "Successfully installed scikit-surprise-1.1.1 surprise-0.1\n"
          ],
          "name": "stdout"
        }
      ]
    },
    {
      "cell_type": "code",
      "metadata": {
        "id": "iS-DRjJvx_LN"
      },
      "source": [
        "# takign the sample of the data from main dataframe\n",
        "data = df2.copy(deep=True)"
      ],
      "execution_count": 35,
      "outputs": []
    },
    {
      "cell_type": "code",
      "metadata": {
        "colab": {
          "base_uri": "https://localhost:8080/"
        },
        "id": "mYoD-lLD0_lu",
        "outputId": "40375c83-2c75-4a07-a320-1cec4a7bcd12"
      },
      "source": [
        "print(data.shape)"
      ],
      "execution_count": 36,
      "outputs": [
        {
          "output_type": "stream",
          "text": [
            "(96150, 3)\n"
          ],
          "name": "stdout"
        }
      ]
    },
    {
      "cell_type": "code",
      "metadata": {
        "colab": {
          "base_uri": "https://localhost:8080/",
          "height": 195
        },
        "id": "ibjwggkF1Qti",
        "outputId": "228e1fd3-192f-4efd-ff27-be1d8aea1471"
      },
      "source": [
        "data.head()"
      ],
      "execution_count": 37,
      "outputs": [
        {
          "output_type": "execute_result",
          "data": {
            "text/html": [
              "<div>\n",
              "<style scoped>\n",
              "    .dataframe tbody tr th:only-of-type {\n",
              "        vertical-align: middle;\n",
              "    }\n",
              "\n",
              "    .dataframe tbody tr th {\n",
              "        vertical-align: top;\n",
              "    }\n",
              "\n",
              "    .dataframe thead th {\n",
              "        text-align: right;\n",
              "    }\n",
              "</style>\n",
              "<table border=\"1\" class=\"dataframe\">\n",
              "  <thead>\n",
              "    <tr style=\"text-align: right;\">\n",
              "      <th></th>\n",
              "      <th>author</th>\n",
              "      <th>product</th>\n",
              "      <th>score</th>\n",
              "    </tr>\n",
              "  </thead>\n",
              "  <tbody>\n",
              "    <tr>\n",
              "      <th>233365</th>\n",
              "      <td>Cliente Amazon</td>\n",
              "      <td>Asus ZE551ML-2A760WW Smartphone ZenFone 2 Delu...</td>\n",
              "      <td>10.0</td>\n",
              "    </tr>\n",
              "    <tr>\n",
              "      <th>47652</th>\n",
              "      <td>Amazon Customer</td>\n",
              "      <td>Apple iPhone 5s (Silver, 16GB)</td>\n",
              "      <td>2.0</td>\n",
              "    </tr>\n",
              "    <tr>\n",
              "      <th>28936</th>\n",
              "      <td>einem Kunden</td>\n",
              "      <td>ZTE Blade A452 Smartphone, 12,7 cm (5 Zoll) Di...</td>\n",
              "      <td>10.0</td>\n",
              "    </tr>\n",
              "    <tr>\n",
              "      <th>353663</th>\n",
              "      <td>Client d'Amazon</td>\n",
              "      <td>Aukru Chargeur de batterie adaptateur Pour Sam...</td>\n",
              "      <td>8.0</td>\n",
              "    </tr>\n",
              "    <tr>\n",
              "      <th>224123</th>\n",
              "      <td>Amazon Customer</td>\n",
              "      <td>Motorola Moto G 3rd Generation (Black, 16GB)</td>\n",
              "      <td>8.0</td>\n",
              "    </tr>\n",
              "  </tbody>\n",
              "</table>\n",
              "</div>"
            ],
            "text/plain": [
              "                 author  ... score\n",
              "233365   Cliente Amazon  ...  10.0\n",
              "47652   Amazon Customer  ...   2.0\n",
              "28936      einem Kunden  ...  10.0\n",
              "353663  Client d'Amazon  ...   8.0\n",
              "224123  Amazon Customer  ...   8.0\n",
              "\n",
              "[5 rows x 3 columns]"
            ]
          },
          "metadata": {
            "tags": []
          },
          "execution_count": 37
        }
      ]
    },
    {
      "cell_type": "markdown",
      "metadata": {
        "id": "OdsVpFX01YXN"
      },
      "source": [
        "## SVD Based Recommendation System"
      ]
    },
    {
      "cell_type": "code",
      "metadata": {
        "id": "JNUv4psX1tM4"
      },
      "source": [
        "#Importing the surprise library \n",
        "from surprise import Dataset, Reader\n",
        "\n",
        "reader = Reader(rating_scale=(1,10))\n",
        "data = Dataset.load_from_df(df2[['author', 'product','score']], reader)"
      ],
      "execution_count": 38,
      "outputs": []
    },
    {
      "cell_type": "code",
      "metadata": {
        "id": "33iuCHrRgrQN"
      },
      "source": [
        "# Spliting the data into training and testing set\n",
        "from surprise.model_selection import train_test_split\n",
        "trainset, testset = train_test_split(data, test_size=0.25, random_state=612)"
      ],
      "execution_count": 39,
      "outputs": []
    },
    {
      "cell_type": "code",
      "metadata": {
        "colab": {
          "base_uri": "https://localhost:8080/"
        },
        "id": "Nec2aniPhy1R",
        "outputId": "6c0186e6-8de7-4911-a23d-b6fa891ec3b2"
      },
      "source": [
        "trainset.all_ratings()"
      ],
      "execution_count": 40,
      "outputs": [
        {
          "output_type": "execute_result",
          "data": {
            "text/plain": [
              "<generator object Trainset.all_ratings at 0x7fe778354850>"
            ]
          },
          "metadata": {
            "tags": []
          },
          "execution_count": 40
        }
      ]
    },
    {
      "cell_type": "code",
      "metadata": {
        "colab": {
          "base_uri": "https://localhost:8080/"
        },
        "id": "iS_81Fimilwh",
        "outputId": "5330eb8f-c210-4ed6-c520-2753408981a5"
      },
      "source": [
        "print(trainset.to_raw_uid(0))\n",
        "print(trainset.to_raw_iid(0))"
      ],
      "execution_count": 41,
      "outputs": [
        {
          "output_type": "stream",
          "text": [
            "Client d'Amazon\n",
            "LG - G3 - Smartphone DÃ©bloquÃ© 4G (Ecran 5,5 Pouces - 32 Go - Android 4.4.2 KitKat) - Gris\n"
          ],
          "name": "stdout"
        }
      ]
    },
    {
      "cell_type": "code",
      "metadata": {
        "id": "dBZ-PyvojAF5"
      },
      "source": [
        "# Importing the SVD, KNNWithMeans for model building \n",
        "from surprise import SVD, KNNWithMeans\n",
        "from surprise import accuracy"
      ],
      "execution_count": 42,
      "outputs": []
    },
    {
      "cell_type": "code",
      "metadata": {
        "id": "XRTbh5BQj7Mw"
      },
      "source": [
        "# Fitting the model for prediction \n",
        "svd_model = SVD(n_factors=5, biased=False)"
      ],
      "execution_count": 43,
      "outputs": []
    },
    {
      "cell_type": "code",
      "metadata": {
        "colab": {
          "base_uri": "https://localhost:8080/"
        },
        "id": "yKyZaELXkH-C",
        "outputId": "1f9895d8-0b1b-45d2-de60-d1a84240f0ac"
      },
      "source": [
        "# Fiting training set to SVD model\n",
        "svd_model.fit(trainset)"
      ],
      "execution_count": 44,
      "outputs": [
        {
          "output_type": "execute_result",
          "data": {
            "text/plain": [
              "<surprise.prediction_algorithms.matrix_factorization.SVD at 0x7fe7787b9c10>"
            ]
          },
          "metadata": {
            "tags": []
          },
          "execution_count": 44
        }
      ]
    },
    {
      "cell_type": "code",
      "metadata": {
        "colab": {
          "base_uri": "https://localhost:8080/"
        },
        "id": "X2R3hLAxkbbs",
        "outputId": "b7fb9cd2-a953-4e87-b541-b3ec4118b091"
      },
      "source": [
        "# Test Data sample\n",
        "testset[1]"
      ],
      "execution_count": 45,
      "outputs": [
        {
          "output_type": "execute_result",
          "data": {
            "text/plain": [
              "('Amazon Customer', 'Lenovo Used Lenovo Zuk Z1 (Space Grey, 64GB)', 10.0)"
            ]
          },
          "metadata": {
            "tags": []
          },
          "execution_count": 45
        }
      ]
    },
    {
      "cell_type": "code",
      "metadata": {
        "id": "cEi2engVkgtd"
      },
      "source": [
        "# Testing on test data\n",
        "test_predict = svd_model.test(testset)"
      ],
      "execution_count": 46,
      "outputs": []
    },
    {
      "cell_type": "code",
      "metadata": {
        "colab": {
          "base_uri": "https://localhost:8080/"
        },
        "id": "hw1mqyMIlNS-",
        "outputId": "03790a82-5702-478c-8da5-50fc0c308f41"
      },
      "source": [
        "# Computing the RMSE\n",
        "accuracy.rmse(test_predict)"
      ],
      "execution_count": 47,
      "outputs": [
        {
          "output_type": "stream",
          "text": [
            "RMSE: 2.7880\n"
          ],
          "name": "stdout"
        },
        {
          "output_type": "execute_result",
          "data": {
            "text/plain": [
              "2.7879691945934733"
            ]
          },
          "metadata": {
            "tags": []
          },
          "execution_count": 47
        }
      ]
    },
    {
      "cell_type": "markdown",
      "metadata": {
        "id": "OADN6r3mg_Sl"
      },
      "source": [
        "Since the errors are squared before they are averaged, the RMSE gives a relatively high weight to large errors. This means the RMSE is most useful when large errors are particularly undesirable. Both the MAE and RMSE can range from 0 to ∞. They are negatively-oriented scores: Lower values are better"
      ]
    },
    {
      "cell_type": "code",
      "metadata": {
        "colab": {
          "base_uri": "https://localhost:8080/"
        },
        "id": "-NA-TeyUm2jY",
        "outputId": "c3c014d5-df4d-46ac-a579-fc93681c6f8e"
      },
      "source": [
        "test_predict[0:10]"
      ],
      "execution_count": 48,
      "outputs": [
        {
          "output_type": "execute_result",
          "data": {
            "text/plain": [
              "[Prediction(uid='ÐœÐ°ÐºÑ\\x81Ð¸Ð¼', iid='Samsung Galaxy S5 SM-G900F 16GB (Ð·Ð¾Ð»Ð¾Ñ‚Ð¸Ñ\\x81Ñ‚Ñ‹Ð¹)', r_ui=5.0, est=8.11915369229447, details={'was_impossible': False}),\n",
              " Prediction(uid='Amazon Customer', iid='Lenovo Used Lenovo Zuk Z1 (Space Grey, 64GB)', r_ui=10.0, est=5.462703437536058, details={'was_impossible': False}),\n",
              " Prediction(uid='Cliente Amazon', iid='Honor 7 - Smartphone libre de 5.2\" (4G, WiFi, Bluetooth, Dual Nano SIM, HiSilicon Kirin 935, 64 bit Super 8+1 Core, 2.2 GHz, 3 GB de RAM, 16 GB ROM, cÃ¡mara de 20 MP/8 MP, Android 5.0 con EMUI 3.1), color gris', r_ui=10.0, est=8.643111626773846, details={'was_impossible': False}),\n",
              " Prediction(uid='e-bit', iid='Smartphone LG L90 D410', r_ui=8.0, est=9.162985278206488, details={'was_impossible': False}),\n",
              " Prediction(uid='e-bit', iid='Smartphone Nokia Lumia 530', r_ui=8.0, est=8.581055303863442, details={'was_impossible': False}),\n",
              " Prediction(uid='e-bit', iid='Celular Motorola EX115', r_ui=8.0, est=7.614992146863513, details={'was_impossible': False}),\n",
              " Prediction(uid='Ana', iid='Huawei P8 grijs / 16 GB', r_ui=10.0, est=9.46875853066263, details={'was_impossible': False}),\n",
              " Prediction(uid='AnÃ´nimo', iid='Sony Smartphone Sony Xperia L Preto Android 4.1 3G CÃ¢mera 8MP 8GB NFC', r_ui=10.0, est=10, details={'was_impossible': False}),\n",
              " Prediction(uid='Amazon Customer', iid='Samsung Galaxy A5 SM-A500FU 16GB 4G Gold - smartphones (Single SIM, Android, NanoSIM, GSM, UMTS, LTE)', r_ui=10.0, est=8.335914045817344, details={'was_impossible': False}),\n",
              " Prediction(uid='Amazon Customer', iid='Apple iPhone 5s (Space Grey, 32GB)', r_ui=10.0, est=6.727683675351107, details={'was_impossible': False})]"
            ]
          },
          "metadata": {
            "tags": []
          },
          "execution_count": 48
        }
      ]
    },
    {
      "cell_type": "markdown",
      "metadata": {
        "id": "HKvhhB9a9Qui"
      },
      "source": [
        "## Generating top 5 recommendations"
      ]
    },
    {
      "cell_type": "code",
      "metadata": {
        "colab": {
          "base_uri": "https://localhost:8080/",
          "height": 195
        },
        "id": "QgpsQ1Kr9UO1",
        "outputId": "0d8caab0-7f61-4d33-feff-dec59313d824"
      },
      "source": [
        "prediction = pd.DataFrame(test_predict)\n",
        "prediction[prediction['uid']== 'Amazon Customer'][['iid', 'r_ui', 'est']].sort_values('r_ui',ascending=False).head()"
      ],
      "execution_count": 49,
      "outputs": [
        {
          "output_type": "execute_result",
          "data": {
            "text/html": [
              "<div>\n",
              "<style scoped>\n",
              "    .dataframe tbody tr th:only-of-type {\n",
              "        vertical-align: middle;\n",
              "    }\n",
              "\n",
              "    .dataframe tbody tr th {\n",
              "        vertical-align: top;\n",
              "    }\n",
              "\n",
              "    .dataframe thead th {\n",
              "        text-align: right;\n",
              "    }\n",
              "</style>\n",
              "<table border=\"1\" class=\"dataframe\">\n",
              "  <thead>\n",
              "    <tr style=\"text-align: right;\">\n",
              "      <th></th>\n",
              "      <th>iid</th>\n",
              "      <th>r_ui</th>\n",
              "      <th>est</th>\n",
              "    </tr>\n",
              "  </thead>\n",
              "  <tbody>\n",
              "    <tr>\n",
              "      <th>1</th>\n",
              "      <td>Lenovo Used Lenovo Zuk Z1 (Space Grey, 64GB)</td>\n",
              "      <td>10.0</td>\n",
              "      <td>5.462703</td>\n",
              "    </tr>\n",
              "    <tr>\n",
              "      <th>12478</th>\n",
              "      <td>Lenovo Phab 2 Plus Smartphone (Grey, JBL earph...</td>\n",
              "      <td>10.0</td>\n",
              "      <td>6.413872</td>\n",
              "    </tr>\n",
              "    <tr>\n",
              "      <th>12579</th>\n",
              "      <td>OnePlus X (Limited Edition Ceramic)</td>\n",
              "      <td>10.0</td>\n",
              "      <td>7.054094</td>\n",
              "    </tr>\n",
              "    <tr>\n",
              "      <th>12578</th>\n",
              "      <td>Samsung Galaxy Note 4, Frosted White 32GB (Spr...</td>\n",
              "      <td>10.0</td>\n",
              "      <td>6.966095</td>\n",
              "    </tr>\n",
              "    <tr>\n",
              "      <th>12577</th>\n",
              "      <td>Samsung Galaxy Mega I9152 5.8\" Android Smart P...</td>\n",
              "      <td>10.0</td>\n",
              "      <td>4.109582</td>\n",
              "    </tr>\n",
              "  </tbody>\n",
              "</table>\n",
              "</div>"
            ],
            "text/plain": [
              "                                                     iid  r_ui       est\n",
              "1           Lenovo Used Lenovo Zuk Z1 (Space Grey, 64GB)  10.0  5.462703\n",
              "12478  Lenovo Phab 2 Plus Smartphone (Grey, JBL earph...  10.0  6.413872\n",
              "12579                OnePlus X (Limited Edition Ceramic)  10.0  7.054094\n",
              "12578  Samsung Galaxy Note 4, Frosted White 32GB (Spr...  10.0  6.966095\n",
              "12577  Samsung Galaxy Mega I9152 5.8\" Android Smart P...  10.0  4.109582"
            ]
          },
          "metadata": {
            "tags": []
          },
          "execution_count": 49
        }
      ]
    },
    {
      "cell_type": "markdown",
      "metadata": {
        "id": "F7pyT6PWxHZM"
      },
      "source": [
        "# KNNWithMeans Recommendation System (Item Based)"
      ]
    },
    {
      "cell_type": "code",
      "metadata": {
        "id": "rF3VQlB2q09H"
      },
      "source": [
        "# Importing the KNNWithMeans for model building\n",
        "from surprise import KNNWithMeans\n",
        "from surprise import accuracy"
      ],
      "execution_count": 50,
      "outputs": []
    },
    {
      "cell_type": "code",
      "metadata": {
        "id": "V4_Uae-Eq8d_"
      },
      "source": [
        "# Fitting the model \n",
        "algo_i = KNNWithMeans(k=10, sim_options={'user based':False})"
      ],
      "execution_count": 51,
      "outputs": []
    },
    {
      "cell_type": "code",
      "metadata": {
        "colab": {
          "base_uri": "https://localhost:8080/"
        },
        "id": "X6aRZg-Yrdn1",
        "outputId": "a65eccfc-e43e-4c5f-9266-cbeb659374aa"
      },
      "source": [
        "algo_i.fit(trainset)"
      ],
      "execution_count": 52,
      "outputs": [
        {
          "output_type": "stream",
          "text": [
            "Computing the msd similarity matrix...\n",
            "Done computing similarity matrix.\n"
          ],
          "name": "stdout"
        },
        {
          "output_type": "execute_result",
          "data": {
            "text/plain": [
              "<surprise.prediction_algorithms.knns.KNNWithMeans at 0x7fe7788ccc90>"
            ]
          },
          "metadata": {
            "tags": []
          },
          "execution_count": 52
        }
      ]
    },
    {
      "cell_type": "code",
      "metadata": {
        "colab": {
          "base_uri": "https://localhost:8080/"
        },
        "id": "uSB7AJdvriMc",
        "outputId": "e9604611-6fd8-4f80-bd41-00a4370ca0e8"
      },
      "source": [
        "# Predicting on testing Data\n",
        "test_predict1 = algo_i.test(testset)\n",
        "print(accuracy.rmse(test_predict1))"
      ],
      "execution_count": 65,
      "outputs": [
        {
          "output_type": "stream",
          "text": [
            "RMSE: 2.7928\n",
            "2.7927972018989866\n"
          ],
          "name": "stdout"
        }
      ]
    },
    {
      "cell_type": "code",
      "metadata": {
        "id": "VnNKNgcrAf5m"
      },
      "source": [
        ""
      ],
      "execution_count": null,
      "outputs": []
    },
    {
      "cell_type": "code",
      "metadata": {
        "colab": {
          "base_uri": "https://localhost:8080/"
        },
        "id": "7A0nlhP3tfoD",
        "outputId": "ceecd727-eab4-46db-90b0-ff27869f086e"
      },
      "source": [
        "test_predict1[0:10]"
      ],
      "execution_count": 54,
      "outputs": [
        {
          "output_type": "execute_result",
          "data": {
            "text/plain": [
              "[Prediction(uid='ÐœÐ°ÐºÑ\\x81Ð¸Ð¼', iid='Samsung Galaxy S5 SM-G900F 16GB (Ð·Ð¾Ð»Ð¾Ñ‚Ð¸Ñ\\x81Ñ‚Ñ‹Ð¹)', r_ui=5.0, est=7.931962435887415, details={'actual_k': 10, 'was_impossible': False}),\n",
              " Prediction(uid='Amazon Customer', iid='Lenovo Used Lenovo Zuk Z1 (Space Grey, 64GB)', r_ui=10.0, est=6.4, details={'actual_k': 10, 'was_impossible': False}),\n",
              " Prediction(uid='Cliente Amazon', iid='Honor 7 - Smartphone libre de 5.2\" (4G, WiFi, Bluetooth, Dual Nano SIM, HiSilicon Kirin 935, 64 bit Super 8+1 Core, 2.2 GHz, 3 GB de RAM, 16 GB ROM, cÃ¡mara de 20 MP/8 MP, Android 5.0 con EMUI 3.1), color gris', r_ui=10.0, est=8.6, details={'actual_k': 10, 'was_impossible': False}),\n",
              " Prediction(uid='e-bit', iid='Smartphone LG L90 D410', r_ui=8.0, est=9.8, details={'actual_k': 10, 'was_impossible': False}),\n",
              " Prediction(uid='e-bit', iid='Smartphone Nokia Lumia 530', r_ui=8.0, est=7.8, details={'actual_k': 10, 'was_impossible': False}),\n",
              " Prediction(uid='e-bit', iid='Celular Motorola EX115', r_ui=8.0, est=7.0, details={'actual_k': 10, 'was_impossible': False}),\n",
              " Prediction(uid='Ana', iid='Huawei P8 grijs / 16 GB', r_ui=10.0, est=8.726827894053368, details={'actual_k': 10, 'was_impossible': False}),\n",
              " Prediction(uid='AnÃ´nimo', iid='Sony Smartphone Sony Xperia L Preto Android 4.1 3G CÃ¢mera 8MP 8GB NFC', r_ui=10.0, est=10, details={'actual_k': 7, 'was_impossible': False}),\n",
              " Prediction(uid='Amazon Customer', iid='Samsung Galaxy A5 SM-A500FU 16GB 4G Gold - smartphones (Single SIM, Android, NanoSIM, GSM, UMTS, LTE)', r_ui=10.0, est=8.801917775225396, details={'actual_k': 6, 'was_impossible': False}),\n",
              " Prediction(uid='Amazon Customer', iid='Apple iPhone 5s (Space Grey, 32GB)', r_ui=10.0, est=6.0, details={'actual_k': 10, 'was_impossible': False})]"
            ]
          },
          "metadata": {
            "tags": []
          },
          "execution_count": 54
        }
      ]
    },
    {
      "cell_type": "markdown",
      "metadata": {
        "id": "y0btiHXptrnq"
      },
      "source": [
        "#### Generating top 5 recommendations¶"
      ]
    },
    {
      "cell_type": "code",
      "metadata": {
        "id": "sIsLcHU1uUaI"
      },
      "source": [
        "predict = pd.DataFrame(test_predict1)"
      ],
      "execution_count": 55,
      "outputs": []
    },
    {
      "cell_type": "code",
      "metadata": {
        "colab": {
          "base_uri": "https://localhost:8080/",
          "height": 195
        },
        "id": "teh2nHKhu3yQ",
        "outputId": "b1a4273a-abfb-430b-8946-15700ff62f7e"
      },
      "source": [
        "predict[predict['uid']=='Ana'][['iid', 'r_ui','est']].sort_values(by='r_ui', ascending=False).head()"
      ],
      "execution_count": 56,
      "outputs": [
        {
          "output_type": "execute_result",
          "data": {
            "text/html": [
              "<div>\n",
              "<style scoped>\n",
              "    .dataframe tbody tr th:only-of-type {\n",
              "        vertical-align: middle;\n",
              "    }\n",
              "\n",
              "    .dataframe tbody tr th {\n",
              "        vertical-align: top;\n",
              "    }\n",
              "\n",
              "    .dataframe thead th {\n",
              "        text-align: right;\n",
              "    }\n",
              "</style>\n",
              "<table border=\"1\" class=\"dataframe\">\n",
              "  <thead>\n",
              "    <tr style=\"text-align: right;\">\n",
              "      <th></th>\n",
              "      <th>iid</th>\n",
              "      <th>r_ui</th>\n",
              "      <th>est</th>\n",
              "    </tr>\n",
              "  </thead>\n",
              "  <tbody>\n",
              "    <tr>\n",
              "      <th>6</th>\n",
              "      <td>Huawei P8 grijs / 16 GB</td>\n",
              "      <td>10.0</td>\n",
              "      <td>8.726828</td>\n",
              "    </tr>\n",
              "    <tr>\n",
              "      <th>3932</th>\n",
              "      <td>LG Nexus 5 - Smartphone libre Android (pantall...</td>\n",
              "      <td>10.0</td>\n",
              "      <td>9.322837</td>\n",
              "    </tr>\n",
              "    <tr>\n",
              "      <th>6769</th>\n",
              "      <td>Samsung Galaxy S7 edge SM-G935F 32GB Smartphon...</td>\n",
              "      <td>10.0</td>\n",
              "      <td>9.659403</td>\n",
              "    </tr>\n",
              "    <tr>\n",
              "      <th>8044</th>\n",
              "      <td>Samsung Galaxy S III mini (I8190) - Smartphone...</td>\n",
              "      <td>10.0</td>\n",
              "      <td>6.950748</td>\n",
              "    </tr>\n",
              "    <tr>\n",
              "      <th>9171</th>\n",
              "      <td>Smartphone Samsung Galaxy Core Plus Preto com ...</td>\n",
              "      <td>10.0</td>\n",
              "      <td>10.000000</td>\n",
              "    </tr>\n",
              "  </tbody>\n",
              "</table>\n",
              "</div>"
            ],
            "text/plain": [
              "                                                    iid  r_ui        est\n",
              "6                               Huawei P8 grijs / 16 GB  10.0   8.726828\n",
              "3932  LG Nexus 5 - Smartphone libre Android (pantall...  10.0   9.322837\n",
              "6769  Samsung Galaxy S7 edge SM-G935F 32GB Smartphon...  10.0   9.659403\n",
              "8044  Samsung Galaxy S III mini (I8190) - Smartphone...  10.0   6.950748\n",
              "9171  Smartphone Samsung Galaxy Core Plus Preto com ...  10.0  10.000000"
            ]
          },
          "metadata": {
            "tags": []
          },
          "execution_count": 56
        }
      ]
    },
    {
      "cell_type": "markdown",
      "metadata": {
        "id": "1MfX3dT6vuFE"
      },
      "source": [
        " # KNNWithMeans Recommendation System (User Based)"
      ]
    },
    {
      "cell_type": "code",
      "metadata": {
        "id": "z8s5y0srE3KY"
      },
      "source": [
        "algo_ii = KNNWithMeans(k=10, sim_options={'user based':True})"
      ],
      "execution_count": 57,
      "outputs": []
    },
    {
      "cell_type": "code",
      "metadata": {
        "colab": {
          "base_uri": "https://localhost:8080/"
        },
        "id": "eCIFPYvrFZMD",
        "outputId": "c94da56e-3985-4738-846f-4ad1dddc6144"
      },
      "source": [
        "algo_ii.fit(trainset)"
      ],
      "execution_count": 58,
      "outputs": [
        {
          "output_type": "stream",
          "text": [
            "Computing the msd similarity matrix...\n",
            "Done computing similarity matrix.\n"
          ],
          "name": "stdout"
        },
        {
          "output_type": "execute_result",
          "data": {
            "text/plain": [
              "<surprise.prediction_algorithms.knns.KNNWithMeans at 0x7fe77871fd10>"
            ]
          },
          "metadata": {
            "tags": []
          },
          "execution_count": 58
        }
      ]
    },
    {
      "cell_type": "code",
      "metadata": {
        "colab": {
          "base_uri": "https://localhost:8080/"
        },
        "id": "rEOANl6RFdTq",
        "outputId": "a5bd5e49-a370-4705-a96d-84cc71382182"
      },
      "source": [
        "test_predict2 = algo_ii.test(testset)\n",
        "print(accuracy.rmse(test_predict2))"
      ],
      "execution_count": 66,
      "outputs": [
        {
          "output_type": "stream",
          "text": [
            "RMSE: 2.7928\n",
            "2.7927972018989866\n"
          ],
          "name": "stdout"
        }
      ]
    },
    {
      "cell_type": "markdown",
      "metadata": {
        "id": "1Skwe8LxCSfH"
      },
      "source": [
        "RMSE is calculated by looking at predicted ratings versus their hidden ground-truth. So a sparse dataset may only have very few hidden ratings to predict, or your algorithm may not be able to predict for many hidden ratings because there's no correlation to other ratings."
      ]
    },
    {
      "cell_type": "markdown",
      "metadata": {
        "id": "qIi8p7xaGGRp"
      },
      "source": [
        "#### Generating top 5 recommendations"
      ]
    },
    {
      "cell_type": "code",
      "metadata": {
        "id": "wc2-NOWlGrot"
      },
      "source": [
        "predict2 = pd.DataFrame(test_predict2)"
      ],
      "execution_count": 60,
      "outputs": []
    },
    {
      "cell_type": "code",
      "metadata": {
        "colab": {
          "base_uri": "https://localhost:8080/",
          "height": 195
        },
        "id": "isMaV_qOA5Ci",
        "outputId": "bdb2e035-3c93-40b1-8e88-36d1135a4840"
      },
      "source": [
        "predict2[predict2['uid'] == 'Amazon Customer'][['iid', 'r_ui','est']].sort_values(by='r_ui', ascending=False).head()"
      ],
      "execution_count": 61,
      "outputs": [
        {
          "output_type": "execute_result",
          "data": {
            "text/html": [
              "<div>\n",
              "<style scoped>\n",
              "    .dataframe tbody tr th:only-of-type {\n",
              "        vertical-align: middle;\n",
              "    }\n",
              "\n",
              "    .dataframe tbody tr th {\n",
              "        vertical-align: top;\n",
              "    }\n",
              "\n",
              "    .dataframe thead th {\n",
              "        text-align: right;\n",
              "    }\n",
              "</style>\n",
              "<table border=\"1\" class=\"dataframe\">\n",
              "  <thead>\n",
              "    <tr style=\"text-align: right;\">\n",
              "      <th></th>\n",
              "      <th>iid</th>\n",
              "      <th>r_ui</th>\n",
              "      <th>est</th>\n",
              "    </tr>\n",
              "  </thead>\n",
              "  <tbody>\n",
              "    <tr>\n",
              "      <th>1</th>\n",
              "      <td>Lenovo Used Lenovo Zuk Z1 (Space Grey, 64GB)</td>\n",
              "      <td>10.0</td>\n",
              "      <td>6.400000</td>\n",
              "    </tr>\n",
              "    <tr>\n",
              "      <th>12478</th>\n",
              "      <td>Lenovo Phab 2 Plus Smartphone (Grey, JBL earph...</td>\n",
              "      <td>10.0</td>\n",
              "      <td>8.000000</td>\n",
              "    </tr>\n",
              "    <tr>\n",
              "      <th>12579</th>\n",
              "      <td>OnePlus X (Limited Edition Ceramic)</td>\n",
              "      <td>10.0</td>\n",
              "      <td>7.600000</td>\n",
              "    </tr>\n",
              "    <tr>\n",
              "      <th>12578</th>\n",
              "      <td>Samsung Galaxy Note 4, Frosted White 32GB (Spr...</td>\n",
              "      <td>10.0</td>\n",
              "      <td>6.000000</td>\n",
              "    </tr>\n",
              "    <tr>\n",
              "      <th>12577</th>\n",
              "      <td>Samsung Galaxy Mega I9152 5.8\" Android Smart P...</td>\n",
              "      <td>10.0</td>\n",
              "      <td>2.227299</td>\n",
              "    </tr>\n",
              "  </tbody>\n",
              "</table>\n",
              "</div>"
            ],
            "text/plain": [
              "                                                     iid  r_ui       est\n",
              "1           Lenovo Used Lenovo Zuk Z1 (Space Grey, 64GB)  10.0  6.400000\n",
              "12478  Lenovo Phab 2 Plus Smartphone (Grey, JBL earph...  10.0  8.000000\n",
              "12579                OnePlus X (Limited Edition Ceramic)  10.0  7.600000\n",
              "12578  Samsung Galaxy Note 4, Frosted White 32GB (Spr...  10.0  6.000000\n",
              "12577  Samsung Galaxy Mega I9152 5.8\" Android Smart P...  10.0  2.227299"
            ]
          },
          "metadata": {
            "tags": []
          },
          "execution_count": 61
        }
      ]
    },
    {
      "cell_type": "markdown",
      "metadata": {
        "id": "JbjBQ68TG9pb"
      },
      "source": [
        "## 9. Try cross validation techniques to get better results"
      ]
    },
    {
      "cell_type": "code",
      "metadata": {
        "id": "Lqp7e2F4INvq"
      },
      "source": [
        "from surprise.model_selection import cross_validate"
      ],
      "execution_count": 62,
      "outputs": []
    },
    {
      "cell_type": "code",
      "metadata": {
        "colab": {
          "base_uri": "https://localhost:8080/"
        },
        "id": "2IcY_hV3IZQR",
        "outputId": "47273a7b-b082-4f38-aaf9-768e6bd92322"
      },
      "source": [
        "svd = SVD()\n",
        "print(cross_validate(svd, data ,measures=['RMSE', 'MAE'], cv=5, verbose=True  ))"
      ],
      "execution_count": 67,
      "outputs": [
        {
          "output_type": "stream",
          "text": [
            "Evaluating RMSE, MAE of algorithm SVD on 5 split(s).\n",
            "\n",
            "                  Fold 1  Fold 2  Fold 3  Fold 4  Fold 5  Mean    Std     \n",
            "RMSE (testset)    2.7239  2.6902  2.7146  2.7139  2.6941  2.7073  0.0130  \n",
            "MAE (testset)     2.1378  2.1122  2.1222  2.1254  2.0971  2.1189  0.0136  \n",
            "Fit time          4.81    4.92    4.82    4.82    4.86    4.84    0.04    \n",
            "Test time         0.23    0.41    0.22    0.20    0.30    0.27    0.08    \n",
            "{'test_rmse': array([2.72386103, 2.69017382, 2.71457417, 2.71386094, 2.69405867]), 'test_mae': array([2.13784652, 2.11218141, 2.12220144, 2.12536205, 2.09714515]), 'fit_time': (4.808341979980469, 4.915910243988037, 4.819014549255371, 4.820674180984497, 4.858044147491455), 'test_time': (0.23222804069519043, 0.4148721694946289, 0.219282865524292, 0.19899654388427734, 0.30443429946899414)}\n"
          ],
          "name": "stdout"
        }
      ]
    },
    {
      "cell_type": "markdown",
      "metadata": {
        "id": "9FjRET_8DLcl"
      },
      "source": [
        "Cross-validation procedures can be run very easily using powerful CV iterators (inspired by scikit-learn excellent tools), as well as exhaustive search over a set of parameters \n"
      ]
    },
    {
      "cell_type": "markdown",
      "metadata": {
        "id": "ntQbFfm4Jnnq"
      },
      "source": [
        "## 10. In what business scenario you should use popularity based Recommendation Systems ?"
      ]
    },
    {
      "cell_type": "markdown",
      "metadata": {
        "id": "ekIKw5nMGliZ"
      },
      "source": [
        "It is a type of recommendation system which works on the principle of popularity and or anything which is in trend. These systems check about the product or movie which are in trend or are most popular among the users and directly recommend those. It is recomended for specific topics like restaurants and online dating."
      ]
    },
    {
      "cell_type": "markdown",
      "metadata": {
        "id": "2lvUNO1RHuCM"
      },
      "source": [
        "## 11. In what business scenario you should use CF based Recommendation Systems ?"
      ]
    },
    {
      "cell_type": "markdown",
      "metadata": {
        "id": "HK3SphxRH111"
      },
      "source": [
        "There are two types of Collaborative filtering:\n",
        "\n",
        "User based: It is a technique that can filter out items that a user might like on the basis of reactions by similar users. It works by searching a large group of people and finding a smaller set of users with tastes similar to a particular user.\n",
        "\n",
        "Item Based: Item-item collaborative filtering, or item-based, or item-to-item, is a form of collaborative filtering for recommender systems based on the similarity between items calculated using people's ratings of those items.\n",
        "\n",
        "Most websites like Amazon, YouTube, and Netflix use collaborative filtering as a part of their sophisticated recommendation systems. We can use this technique to build recommenders that give suggestions to a user on the basis of the likes and dislikes of similar users."
      ]
    },
    {
      "cell_type": "markdown",
      "metadata": {
        "id": "ncqPKtFVjn30"
      },
      "source": [
        "## 12. What other possible methods can you think of which can further improve the recommendation for different users "
      ]
    },
    {
      "cell_type": "markdown",
      "metadata": {
        "id": "ERL-ojtfkn9L"
      },
      "source": [
        "The following other methods are for Recommendation system:\n",
        "\n",
        "a)  Hybrid filtering: Hybrid filtering technique combines different recommendation techniques in order to gain better system optimization to avoid some limitations and problems of pure recommendation systems. The idea behind hybrid techniques is that a combination of algorithms will provide more accurate and effective recommendations than a single algorithm as the disadvantages of one algorithm can be overcome by another algorithm. Using multiple recommendation techniques can suppress the weaknesses of an individual technique in a combined model. The combination of approaches can be done in any of the following ways: separate implementation of algorithms and combining the result, utilizing some content-based filtering in collaborative approach, utilizing some collaborative filtering in content-based approach, creating a unified recommendation system that brings together both approaches. "
      ]
    },
    {
      "cell_type": "code",
      "metadata": {
        "id": "MKtdZpvfnkR4"
      },
      "source": [
        "! jupyter nbconvert --to html Project_Recommendation_By_AjayKumar.ipynb"
      ],
      "execution_count": 63,
      "outputs": []
    }
  ]
}