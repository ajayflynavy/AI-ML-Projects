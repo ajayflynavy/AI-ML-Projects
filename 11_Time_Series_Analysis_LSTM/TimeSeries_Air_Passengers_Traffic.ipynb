{
  "nbformat": 4,
  "nbformat_minor": 0,
  "metadata": {
    "colab": {
      "name": "TimeSeries - Air Passengers Traffic.ipynb",
      "provenance": []
    },
    "kernelspec": {
      "name": "python3",
      "display_name": "Python 3"
    }
  },
  "cells": [
    {
      "cell_type": "markdown",
      "metadata": {
        "id": "1u1cMYc24S7o"
      },
      "source": [
        "### Load Data"
      ]
    },
    {
      "cell_type": "code",
      "metadata": {
        "id": "HV8rXQ8H4N09",
        "colab": {
          "base_uri": "https://localhost:8080/"
        },
        "outputId": "af3ff4c6-3060-4b7c-ca5f-7d1120da614e"
      },
      "source": [
        "#Connect to Google Drive\n",
        "from google.colab import drive\n",
        "drive.mount('/content/drive')"
      ],
      "execution_count": 10,
      "outputs": [
        {
          "output_type": "stream",
          "name": "stdout",
          "text": [
            "Drive already mounted at /content/drive; to attempt to forcibly remount, call drive.mount(\"/content/drive\", force_remount=True).\n"
          ]
        }
      ]
    },
    {
      "cell_type": "code",
      "metadata": {
        "id": "VH_j1bUA4f2l"
      },
      "source": [
        "import pandas as pd\n",
        "import numpy as np"
      ],
      "execution_count": 11,
      "outputs": []
    },
    {
      "cell_type": "code",
      "metadata": {
        "id": "ETNQUo5J46ob",
        "colab": {
          "base_uri": "https://localhost:8080/",
          "height": 234
        },
        "outputId": "0b0af1e0-554a-41a4-cb7e-d6808f69bcdb"
      },
      "source": [
        "#Read Air traffc data\n",
        "df = pd.read_csv('/content/drive/MyDrive/AIML/NLP/Rajeev Sir/Sequential NLP-20210412T100839Z-001.zip (Unzipped Files)/Sequential NLP/Notebooks/2. Time Series with RNN/International-airline-passengers.csv', index_col='Month')\n",
        "df.sort_index(inplace=True)\n",
        "df.head()"
      ],
      "execution_count": 12,
      "outputs": [
        {
          "output_type": "execute_result",
          "data": {
            "text/html": [
              "<div>\n",
              "<style scoped>\n",
              "    .dataframe tbody tr th:only-of-type {\n",
              "        vertical-align: middle;\n",
              "    }\n",
              "\n",
              "    .dataframe tbody tr th {\n",
              "        vertical-align: top;\n",
              "    }\n",
              "\n",
              "    .dataframe thead th {\n",
              "        text-align: right;\n",
              "    }\n",
              "</style>\n",
              "<table border=\"1\" class=\"dataframe\">\n",
              "  <thead>\n",
              "    <tr style=\"text-align: right;\">\n",
              "      <th></th>\n",
              "      <th>Passengers</th>\n",
              "    </tr>\n",
              "    <tr>\n",
              "      <th>Month</th>\n",
              "      <th></th>\n",
              "    </tr>\n",
              "  </thead>\n",
              "  <tbody>\n",
              "    <tr>\n",
              "      <th>1949-01</th>\n",
              "      <td>112.0</td>\n",
              "    </tr>\n",
              "    <tr>\n",
              "      <th>1949-02</th>\n",
              "      <td>118.0</td>\n",
              "    </tr>\n",
              "    <tr>\n",
              "      <th>1949-03</th>\n",
              "      <td>132.0</td>\n",
              "    </tr>\n",
              "    <tr>\n",
              "      <th>1949-04</th>\n",
              "      <td>129.0</td>\n",
              "    </tr>\n",
              "    <tr>\n",
              "      <th>1949-05</th>\n",
              "      <td>121.0</td>\n",
              "    </tr>\n",
              "  </tbody>\n",
              "</table>\n",
              "</div>"
            ],
            "text/plain": [
              "         Passengers\n",
              "Month              \n",
              "1949-01       112.0\n",
              "1949-02       118.0\n",
              "1949-03       132.0\n",
              "1949-04       129.0\n",
              "1949-05       121.0"
            ]
          },
          "metadata": {},
          "execution_count": 12
        }
      ]
    },
    {
      "cell_type": "code",
      "metadata": {
        "id": "OxTwxmCO5K-o",
        "colab": {
          "base_uri": "https://localhost:8080/"
        },
        "outputId": "7b50fe17-0823-49b7-8a9d-8370ccfae8cb"
      },
      "source": [
        "#Number of records\n",
        "df.shape"
      ],
      "execution_count": 13,
      "outputs": [
        {
          "output_type": "execute_result",
          "data": {
            "text/plain": [
              "(146, 1)"
            ]
          },
          "metadata": {},
          "execution_count": 13
        }
      ]
    },
    {
      "cell_type": "code",
      "metadata": {
        "id": "_oeLuWxj6BVd",
        "colab": {
          "base_uri": "https://localhost:8080/",
          "height": 296
        },
        "outputId": "77773274-d881-4a36-b9a0-dadb61f7b0ff"
      },
      "source": [
        "#Plot data\n",
        "df.plot()"
      ],
      "execution_count": 14,
      "outputs": [
        {
          "output_type": "execute_result",
          "data": {
            "text/plain": [
              "<matplotlib.axes._subplots.AxesSubplot at 0x7f564a1bd450>"
            ]
          },
          "metadata": {},
          "execution_count": 14
        },
        {
          "output_type": "display_data",
          "data": {
            "image/png": "[encoded data removed]",
            "text/plain": [
              "<Figure size 432x288 with 1 Axes>"
            ]
          },
          "metadata": {
            "needs_background": "light"
          }
        }
      ]
    },
    {
      "cell_type": "markdown",
      "metadata": {
        "id": "TVCOoLA4D6b0"
      },
      "source": [
        "### Data Preprocessing"
      ]
    },
    {
      "cell_type": "code",
      "metadata": {
        "id": "J-WVOcVW8IAD",
        "colab": {
          "base_uri": "https://localhost:8080/"
        },
        "outputId": "25ddf14c-58b6-4668-90b9-20bc0f236170"
      },
      "source": [
        "#Check for null values\n",
        "df.isnull().sum()"
      ],
      "execution_count": 15,
      "outputs": [
        {
          "output_type": "execute_result",
          "data": {
            "text/plain": [
              "Passengers    2\n",
              "dtype: int64"
            ]
          },
          "metadata": {},
          "execution_count": 15
        }
      ]
    },
    {
      "cell_type": "code",
      "metadata": {
        "id": "bhITiSjs8TRn"
      },
      "source": [
        "#Drop NA\n",
        "df.dropna(inplace=True)"
      ],
      "execution_count": 16,
      "outputs": []
    },
    {
      "cell_type": "code",
      "metadata": {
        "id": "-gjIPy2D-860",
        "colab": {
          "base_uri": "https://localhost:8080/"
        },
        "outputId": "48c6f14f-8a71-4280-c39f-d40fc0c5b481"
      },
      "source": [
        "#Check Data Range\n",
        "print('Min', np.min(df))\n",
        "print('Max', np.max(df))"
      ],
      "execution_count": 17,
      "outputs": [
        {
          "output_type": "stream",
          "name": "stdout",
          "text": [
            "Min Passengers    104.0\n",
            "dtype: float64\n",
            "Max Passengers    622.0\n",
            "dtype: float64\n"
          ]
        }
      ]
    },
    {
      "cell_type": "markdown",
      "metadata": {
        "id": "q-KTCGv23l53"
      },
      "source": [
        "Let's Normalize data"
      ]
    },
    {
      "cell_type": "code",
      "metadata": {
        "id": "Qg_xsreE_o5x"
      },
      "source": [
        "from sklearn.preprocessing import MinMaxScaler"
      ],
      "execution_count": 18,
      "outputs": []
    },
    {
      "cell_type": "code",
      "metadata": {
        "id": "OiItgmY9_RFv"
      },
      "source": [
        "#Normalize the data\n",
        "scaler = MinMaxScaler(feature_range=(0, 1))\n",
        "scaled = scaler.fit_transform(df)"
      ],
      "execution_count": 19,
      "outputs": []
    },
    {
      "cell_type": "code",
      "metadata": {
        "id": "vmvaGIuYhwJU",
        "colab": {
          "base_uri": "https://localhost:8080/"
        },
        "outputId": "117b0a45-39c8-478d-c11e-157bb4c42dd8"
      },
      "source": [
        "#Check data now\n",
        "scaled"
      ],
      "execution_count": 20,
      "outputs": [
        {
          "output_type": "execute_result",
          "data": {
            "text/plain": [
              "array([[0.01544402],\n",
              "       [0.02702703],\n",
              "       [0.05405405],\n",
              "       [0.04826255],\n",
              "       [0.03281853],\n",
              "       [0.05984556],\n",
              "       [0.08494208],\n",
              "       [0.08494208],\n",
              "       [0.06177606],\n",
              "       [0.02895753],\n",
              "       [0.        ],\n",
              "       [0.02702703],\n",
              "       [0.02123552],\n",
              "       [0.04247104],\n",
              "       [0.07142857],\n",
              "       [0.05984556],\n",
              "       [0.04054054],\n",
              "       [0.08687259],\n",
              "       [0.12741313],\n",
              "       [0.12741313],\n",
              "       [0.1042471 ],\n",
              "       [0.05598456],\n",
              "       [0.01930502],\n",
              "       [0.06949807],\n",
              "       [0.07915058],\n",
              "       [0.08880309],\n",
              "       [0.14285714],\n",
              "       [0.11389961],\n",
              "       [0.13127413],\n",
              "       [0.14285714],\n",
              "       [0.18339768],\n",
              "       [0.18339768],\n",
              "       [0.15444015],\n",
              "       [0.11196911],\n",
              "       [0.08108108],\n",
              "       [0.11969112],\n",
              "       [0.12934363],\n",
              "       [0.14671815],\n",
              "       [0.17181467],\n",
              "       [0.14864865],\n",
              "       [0.15250965],\n",
              "       [0.22007722],\n",
              "       [0.24324324],\n",
              "       [0.26640927],\n",
              "       [0.2027027 ],\n",
              "       [0.16795367],\n",
              "       [0.13127413],\n",
              "       [0.17374517],\n",
              "       [0.17760618],\n",
              "       [0.17760618],\n",
              "       [0.25482625],\n",
              "       [0.25289575],\n",
              "       [0.24131274],\n",
              "       [0.26833977],\n",
              "       [0.30888031],\n",
              "       [0.32432432],\n",
              "       [0.25675676],\n",
              "       [0.20656371],\n",
              "       [0.14671815],\n",
              "       [0.18725869],\n",
              "       [0.19305019],\n",
              "       [0.16216216],\n",
              "       [0.25289575],\n",
              "       [0.23745174],\n",
              "       [0.25096525],\n",
              "       [0.30888031],\n",
              "       [0.38223938],\n",
              "       [0.36486486],\n",
              "       [0.2992278 ],\n",
              "       [0.24131274],\n",
              "       [0.19111969],\n",
              "       [0.24131274],\n",
              "       [0.26640927],\n",
              "       [0.24903475],\n",
              "       [0.31467181],\n",
              "       [0.31853282],\n",
              "       [0.32046332],\n",
              "       [0.40733591],\n",
              "       [0.5019305 ],\n",
              "       [0.46911197],\n",
              "       [0.4015444 ],\n",
              "       [0.32818533],\n",
              "       [0.25675676],\n",
              "       [0.33590734],\n",
              "       [0.34749035],\n",
              "       [0.33397683],\n",
              "       [0.41119691],\n",
              "       [0.4034749 ],\n",
              "       [0.41312741],\n",
              "       [0.52123552],\n",
              "       [0.5965251 ],\n",
              "       [0.58108108],\n",
              "       [0.48455598],\n",
              "       [0.38996139],\n",
              "       [0.32239382],\n",
              "       [0.38996139],\n",
              "       [0.40733591],\n",
              "       [0.38030888],\n",
              "       [0.48648649],\n",
              "       [0.47104247],\n",
              "       [0.48455598],\n",
              "       [0.61389961],\n",
              "       [0.6969112 ],\n",
              "       [0.7007722 ],\n",
              "       [0.57915058],\n",
              "       [0.46911197],\n",
              "       [0.38803089],\n",
              "       [0.44787645],\n",
              "       [0.45559846],\n",
              "       [0.41312741],\n",
              "       [0.4980695 ],\n",
              "       [0.47104247],\n",
              "       [0.5       ],\n",
              "       [0.63899614],\n",
              "       [0.74710425],\n",
              "       [0.77413127],\n",
              "       [0.57915058],\n",
              "       [0.49227799],\n",
              "       [0.3976834 ],\n",
              "       [0.44980695],\n",
              "       [0.49420849],\n",
              "       [0.45945946],\n",
              "       [0.58301158],\n",
              "       [0.56370656],\n",
              "       [0.61003861],\n",
              "       [0.71042471],\n",
              "       [0.85714286],\n",
              "       [0.87837838],\n",
              "       [0.69305019],\n",
              "       [0.58494208],\n",
              "       [0.4980695 ],\n",
              "       [0.58108108],\n",
              "       [0.6042471 ],\n",
              "       [0.55405405],\n",
              "       [0.60810811],\n",
              "       [0.68918919],\n",
              "       [0.71042471],\n",
              "       [0.83204633],\n",
              "       [1.        ],\n",
              "       [0.96911197],\n",
              "       [0.77992278],\n",
              "       [0.68918919],\n",
              "       [0.55212355],\n",
              "       [0.63320463]])"
            ]
          },
          "metadata": {},
          "execution_count": 20
        }
      ]
    },
    {
      "cell_type": "markdown",
      "metadata": {
        "id": "WGuVM7CaEQCH"
      },
      "source": [
        "### Split Data"
      ]
    },
    {
      "cell_type": "code",
      "metadata": {
        "id": "qwxiqnh-_n5V",
        "colab": {
          "base_uri": "https://localhost:8080/"
        },
        "outputId": "4eba463c-7899-49e5-a8bc-e7ef8b2f41e8"
      },
      "source": [
        "#First 70% examples will used for training (in the begining)\n",
        "train_size = int(len(scaled) * 0.70)\n",
        "\n",
        "#Last 30% will be used for Test\n",
        "test_size = len(scaled - train_size)\n",
        "\n",
        "#Split the data\n",
        "train, test = scaled[0:train_size, :], scaled[train_size: len(scaled), :]\n",
        "print('train: {}\\ntest: {}'.format(len(train), len(test)))"
      ],
      "execution_count": 21,
      "outputs": [
        {
          "output_type": "stream",
          "name": "stdout",
          "text": [
            "train: 100\n",
            "test: 44\n"
          ]
        }
      ]
    },
    {
      "cell_type": "code",
      "metadata": {
        "id": "ckMTxpMdAfs9",
        "colab": {
          "base_uri": "https://localhost:8080/"
        },
        "outputId": "2a8190ee-0ace-49ec-b67f-384218718331"
      },
      "source": [
        "#Training data size\n",
        "train.shape"
      ],
      "execution_count": 22,
      "outputs": [
        {
          "output_type": "execute_result",
          "data": {
            "text/plain": [
              "(100, 1)"
            ]
          },
          "metadata": {},
          "execution_count": 22
        }
      ]
    },
    {
      "cell_type": "markdown",
      "metadata": {
        "id": "u5FXkkgiEltJ"
      },
      "source": [
        "### Build Input and Output data\n",
        "for both Training and Test"
      ]
    },
    {
      "cell_type": "code",
      "metadata": {
        "id": "7hBy3xWnAA_g"
      },
      "source": [
        "#window - how long the sequence will be\n",
        "def create_dataset(dataset, window=1):\n",
        "    \n",
        "    dataX, dataY = [], []\n",
        "    \n",
        "    for i in range(len(dataset)-window):\n",
        "        \n",
        "        a = dataset[i:(i+window), 0]        \n",
        "        dataX.append(a)\n",
        "        dataY.append(dataset[i + window, 0])\n",
        "    \n",
        "    return np.array(dataX), np.array(dataY)"
      ],
      "execution_count": 23,
      "outputs": []
    },
    {
      "cell_type": "code",
      "metadata": {
        "id": "79InAPerA08X"
      },
      "source": [
        "#Create Input features and targets\n",
        "window_size = 12\n",
        "X_train, y_train = create_dataset(train, window_size)\n",
        "X_test, y_test = create_dataset(test, window_size)"
      ],
      "execution_count": 24,
      "outputs": []
    },
    {
      "cell_type": "code",
      "metadata": {
        "id": "2yYGTqw_A13U",
        "colab": {
          "base_uri": "https://localhost:8080/"
        },
        "outputId": "70e261f0-29cc-4c6a-bc0a-5df801c3fcfa"
      },
      "source": [
        "X_train.shape"
      ],
      "execution_count": 25,
      "outputs": [
        {
          "output_type": "execute_result",
          "data": {
            "text/plain": [
              "(88, 12)"
            ]
          },
          "metadata": {},
          "execution_count": 25
        }
      ]
    },
    {
      "cell_type": "code",
      "metadata": {
        "id": "T4xD40xYYpzh",
        "colab": {
          "base_uri": "https://localhost:8080/"
        },
        "outputId": "8fe458b4-f41d-4b7d-c50e-5a374191b330"
      },
      "source": [
        "X_train[0]"
      ],
      "execution_count": 26,
      "outputs": [
        {
          "output_type": "execute_result",
          "data": {
            "text/plain": [
              "array([0.01544402, 0.02702703, 0.05405405, 0.04826255, 0.03281853,\n",
              "       0.05984556, 0.08494208, 0.08494208, 0.06177606, 0.02895753,\n",
              "       0.        , 0.02702703])"
            ]
          },
          "metadata": {},
          "execution_count": 26
        }
      ]
    },
    {
      "cell_type": "code",
      "metadata": {
        "id": "AFk6_05JY013",
        "colab": {
          "base_uri": "https://localhost:8080/"
        },
        "outputId": "00813845-3e67-482f-df99-2e297a2fcd83"
      },
      "source": [
        "y_train.shape"
      ],
      "execution_count": 27,
      "outputs": [
        {
          "output_type": "execute_result",
          "data": {
            "text/plain": [
              "(88,)"
            ]
          },
          "metadata": {},
          "execution_count": 27
        }
      ]
    },
    {
      "cell_type": "code",
      "metadata": {
        "id": "4EC99fDIY60c",
        "colab": {
          "base_uri": "https://localhost:8080/"
        },
        "outputId": "ca9354eb-2826-45e5-ae1c-7285174f498d"
      },
      "source": [
        "X_test.shape"
      ],
      "execution_count": 28,
      "outputs": [
        {
          "output_type": "execute_result",
          "data": {
            "text/plain": [
              "(32, 12)"
            ]
          },
          "metadata": {},
          "execution_count": 28
        }
      ]
    },
    {
      "cell_type": "code",
      "metadata": {
        "id": "vIhnWN4oBAnn"
      },
      "source": [
        "#Make it 3 Dimensional Data - needed for LSTM\n",
        "X_train = np.reshape(X_train, (X_train.shape[0], X_train.shape[1], 1))\n",
        "X_test = np.reshape(X_test, (X_test.shape[0], X_test.shape[1], 1))"
      ],
      "execution_count": 29,
      "outputs": []
    },
    {
      "cell_type": "code",
      "metadata": {
        "id": "_-gQTmyQ55Si",
        "colab": {
          "base_uri": "https://localhost:8080/"
        },
        "outputId": "2074439a-f5a2-4809-93d6-2a139b650681"
      },
      "source": [
        "#Check feature shape now for training and test\n",
        "print(X_train.shape)\n",
        "print(X_test.shape)"
      ],
      "execution_count": 30,
      "outputs": [
        {
          "output_type": "stream",
          "name": "stdout",
          "text": [
            "(88, 12, 1)\n",
            "(32, 12, 1)\n"
          ]
        }
      ]
    },
    {
      "cell_type": "markdown",
      "metadata": {
        "id": "Skvl989eFM3m"
      },
      "source": [
        "### Build the Model"
      ]
    },
    {
      "cell_type": "code",
      "metadata": {
        "id": "WgkqhhbsBFuD"
      },
      "source": [
        "import tensorflow as tf"
      ],
      "execution_count": 31,
      "outputs": []
    },
    {
      "cell_type": "code",
      "metadata": {
        "id": "4KBmbat4BTLX"
      },
      "source": [
        "#Define a model with LSTM layer\n",
        "tf.keras.backend.clear_session()\n",
        "model = tf.keras.Sequential()"
      ],
      "execution_count": 32,
      "outputs": []
    },
    {
      "cell_type": "code",
      "metadata": {
        "id": "zVpSjm0ZU67P"
      },
      "source": [
        "model.add(tf.keras.layers.LSTM(32, input_shape=(window_size, 1)))"
      ],
      "execution_count": 33,
      "outputs": []
    },
    {
      "cell_type": "code",
      "metadata": {
        "id": "a3aaiuapBoH8",
        "colab": {
          "base_uri": "https://localhost:8080/"
        },
        "outputId": "c5d60120-77e7-4d15-c4c1-83b628c0bc81"
      },
      "source": [
        "model.output"
      ],
      "execution_count": 34,
      "outputs": [
        {
          "output_type": "execute_result",
          "data": {
            "text/plain": [
              "<KerasTensor: shape=(None, 32) dtype=float32 (created by layer 'lstm')>"
            ]
          },
          "metadata": {},
          "execution_count": 34
        }
      ]
    },
    {
      "cell_type": "code",
      "metadata": {
        "id": "4PNh8xIFBogJ"
      },
      "source": [
        "model.add(tf.keras.layers.BatchNormalization())\n",
        "model.add(tf.keras.layers.Dense(1, activation='sigmoid'))\n",
        "model.compile(optimizer='adam', loss='mse')"
      ],
      "execution_count": 35,
      "outputs": []
    },
    {
      "cell_type": "code",
      "metadata": {
        "id": "piiWKnM0B3XS",
        "colab": {
          "base_uri": "https://localhost:8080/"
        },
        "outputId": "835b483e-f18c-4939-f2df-692e1a35abde"
      },
      "source": [
        "model.fit(X_train, y_train, \n",
        "          epochs=200, \n",
        "          validation_data=(X_test, y_test), \n",
        "          batch_size=32)"
      ],
      "execution_count": 36,
      "outputs": [
        {
          "output_type": "stream",
          "name": "stdout",
          "text": [
            "Epoch 1/200\n",
            "3/3 [==============================] - 3s 257ms/step - loss: 0.0809 - val_loss: 0.0412\n",
            "Epoch 2/200\n",
            "3/3 [==============================] - 0s 19ms/step - loss: 0.0670 - val_loss: 0.0389\n",
            "Epoch 3/200\n",
            "3/3 [==============================] - 0s 15ms/step - loss: 0.0628 - val_loss: 0.0381\n",
            "Epoch 4/200\n",
            "3/3 [==============================] - 0s 18ms/step - loss: 0.0623 - val_loss: 0.0393\n",
            "Epoch 5/200\n",
            "3/3 [==============================] - 0s 15ms/step - loss: 0.0603 - val_loss: 0.0416\n",
            "Epoch 6/200\n",
            "3/3 [==============================] - 0s 16ms/step - loss: 0.0560 - val_loss: 0.0450\n",
            "Epoch 7/200\n",
            "3/3 [==============================] - 0s 15ms/step - loss: 0.0526 - val_loss: 0.0487\n",
            "Epoch 8/200\n",
            "3/3 [==============================] - 0s 15ms/step - loss: 0.0494 - val_loss: 0.0523\n",
            "Epoch 9/200\n",
            "3/3 [==============================] - 0s 15ms/step - loss: 0.0481 - val_loss: 0.0554\n",
            "Epoch 10/200\n",
            "3/3 [==============================] - 0s 16ms/step - loss: 0.0452 - val_loss: 0.0575\n",
            "Epoch 11/200\n",
            "3/3 [==============================] - 0s 16ms/step - loss: 0.0428 - val_loss: 0.0591\n",
            "Epoch 12/200\n",
            "3/3 [==============================] - 0s 15ms/step - loss: 0.0410 - val_loss: 0.0605\n",
            "Epoch 13/200\n",
            "3/3 [==============================] - 0s 15ms/step - loss: 0.0377 - val_loss: 0.0619\n",
            "Epoch 14/200\n",
            "3/3 [==============================] - 0s 15ms/step - loss: 0.0363 - val_loss: 0.0638\n",
            "Epoch 15/200\n",
            "3/3 [==============================] - 0s 15ms/step - loss: 0.0339 - val_loss: 0.0663\n",
            "Epoch 16/200\n",
            "3/3 [==============================] - 0s 18ms/step - loss: 0.0321 - val_loss: 0.0694\n",
            "Epoch 17/200\n",
            "3/3 [==============================] - 0s 19ms/step - loss: 0.0299 - val_loss: 0.0726\n",
            "Epoch 18/200\n",
            "3/3 [==============================] - 0s 18ms/step - loss: 0.0279 - val_loss: 0.0757\n",
            "Epoch 19/200\n",
            "3/3 [==============================] - 0s 17ms/step - loss: 0.0262 - val_loss: 0.0786\n",
            "Epoch 20/200\n",
            "3/3 [==============================] - 0s 15ms/step - loss: 0.0250 - val_loss: 0.0810\n",
            "Epoch 21/200\n",
            "3/3 [==============================] - 0s 16ms/step - loss: 0.0228 - val_loss: 0.0827\n",
            "Epoch 22/200\n",
            "3/3 [==============================] - 0s 15ms/step - loss: 0.0213 - val_loss: 0.0851\n",
            "Epoch 23/200\n",
            "3/3 [==============================] - 0s 15ms/step - loss: 0.0198 - val_loss: 0.0876\n",
            "Epoch 24/200\n",
            "3/3 [==============================] - 0s 15ms/step - loss: 0.0183 - val_loss: 0.0907\n",
            "Epoch 25/200\n",
            "3/3 [==============================] - 0s 15ms/step - loss: 0.0177 - val_loss: 0.0938\n",
            "Epoch 26/200\n",
            "3/3 [==============================] - 0s 15ms/step - loss: 0.0169 - val_loss: 0.0970\n",
            "Epoch 27/200\n",
            "3/3 [==============================] - 0s 16ms/step - loss: 0.0144 - val_loss: 0.0987\n",
            "Epoch 28/200\n",
            "3/3 [==============================] - 0s 15ms/step - loss: 0.0134 - val_loss: 0.1003\n",
            "Epoch 29/200\n",
            "3/3 [==============================] - 0s 20ms/step - loss: 0.0123 - val_loss: 0.1026\n",
            "Epoch 30/200\n",
            "3/3 [==============================] - 0s 16ms/step - loss: 0.0119 - val_loss: 0.1052\n",
            "Epoch 31/200\n",
            "3/3 [==============================] - 0s 16ms/step - loss: 0.0106 - val_loss: 0.1087\n",
            "Epoch 32/200\n",
            "3/3 [==============================] - 0s 15ms/step - loss: 0.0100 - val_loss: 0.1113\n",
            "Epoch 33/200\n",
            "3/3 [==============================] - 0s 16ms/step - loss: 0.0090 - val_loss: 0.1128\n",
            "Epoch 34/200\n",
            "3/3 [==============================] - 0s 16ms/step - loss: 0.0081 - val_loss: 0.1136\n",
            "Epoch 35/200\n",
            "3/3 [==============================] - 0s 16ms/step - loss: 0.0079 - val_loss: 0.1153\n",
            "Epoch 36/200\n",
            "3/3 [==============================] - 0s 15ms/step - loss: 0.0076 - val_loss: 0.1184\n",
            "Epoch 37/200\n",
            "3/3 [==============================] - 0s 18ms/step - loss: 0.0064 - val_loss: 0.1207\n",
            "Epoch 38/200\n",
            "3/3 [==============================] - 0s 15ms/step - loss: 0.0060 - val_loss: 0.1213\n",
            "Epoch 39/200\n",
            "3/3 [==============================] - 0s 15ms/step - loss: 0.0058 - val_loss: 0.1222\n",
            "Epoch 40/200\n",
            "3/3 [==============================] - 0s 15ms/step - loss: 0.0051 - val_loss: 0.1242\n",
            "Epoch 41/200\n",
            "3/3 [==============================] - 0s 15ms/step - loss: 0.0045 - val_loss: 0.1265\n",
            "Epoch 42/200\n",
            "3/3 [==============================] - 0s 16ms/step - loss: 0.0046 - val_loss: 0.1275\n",
            "Epoch 43/200\n",
            "3/3 [==============================] - 0s 15ms/step - loss: 0.0048 - val_loss: 0.1271\n",
            "Epoch 44/200\n",
            "3/3 [==============================] - 0s 14ms/step - loss: 0.0036 - val_loss: 0.1275\n",
            "Epoch 45/200\n",
            "3/3 [==============================] - 0s 15ms/step - loss: 0.0035 - val_loss: 0.1290\n",
            "Epoch 46/200\n",
            "3/3 [==============================] - 0s 15ms/step - loss: 0.0034 - val_loss: 0.1308\n",
            "Epoch 47/200\n",
            "3/3 [==============================] - 0s 15ms/step - loss: 0.0036 - val_loss: 0.1314\n",
            "Epoch 48/200\n",
            "3/3 [==============================] - 0s 17ms/step - loss: 0.0037 - val_loss: 0.1303\n",
            "Epoch 49/200\n",
            "3/3 [==============================] - 0s 15ms/step - loss: 0.0029 - val_loss: 0.1310\n",
            "Epoch 50/200\n",
            "3/3 [==============================] - 0s 14ms/step - loss: 0.0041 - val_loss: 0.1307\n",
            "Epoch 51/200\n",
            "3/3 [==============================] - 0s 16ms/step - loss: 0.0024 - val_loss: 0.1322\n",
            "Epoch 52/200\n",
            "3/3 [==============================] - 0s 15ms/step - loss: 0.0024 - val_loss: 0.1326\n",
            "Epoch 53/200\n",
            "3/3 [==============================] - 0s 15ms/step - loss: 0.0028 - val_loss: 0.1318\n",
            "Epoch 54/200\n",
            "3/3 [==============================] - 0s 15ms/step - loss: 0.0022 - val_loss: 0.1324\n",
            "Epoch 55/200\n",
            "3/3 [==============================] - 0s 15ms/step - loss: 0.0026 - val_loss: 0.1326\n",
            "Epoch 56/200\n",
            "3/3 [==============================] - 0s 18ms/step - loss: 0.0024 - val_loss: 0.1309\n",
            "Epoch 57/200\n",
            "3/3 [==============================] - 0s 19ms/step - loss: 0.0020 - val_loss: 0.1302\n",
            "Epoch 58/200\n",
            "3/3 [==============================] - 0s 19ms/step - loss: 0.0020 - val_loss: 0.1308\n",
            "Epoch 59/200\n",
            "3/3 [==============================] - 0s 17ms/step - loss: 0.0028 - val_loss: 0.1315\n",
            "Epoch 60/200\n",
            "3/3 [==============================] - 0s 15ms/step - loss: 0.0017 - val_loss: 0.1296\n",
            "Epoch 61/200\n",
            "3/3 [==============================] - 0s 14ms/step - loss: 0.0027 - val_loss: 0.1286\n",
            "Epoch 62/200\n",
            "3/3 [==============================] - 0s 15ms/step - loss: 0.0021 - val_loss: 0.1274\n",
            "Epoch 63/200\n",
            "3/3 [==============================] - 0s 18ms/step - loss: 0.0021 - val_loss: 0.1283\n",
            "Epoch 64/200\n",
            "3/3 [==============================] - 0s 15ms/step - loss: 0.0023 - val_loss: 0.1280\n",
            "Epoch 65/200\n",
            "3/3 [==============================] - 0s 15ms/step - loss: 0.0018 - val_loss: 0.1259\n",
            "Epoch 66/200\n",
            "3/3 [==============================] - 0s 15ms/step - loss: 0.0028 - val_loss: 0.1250\n",
            "Epoch 67/200\n",
            "3/3 [==============================] - 0s 17ms/step - loss: 0.0015 - val_loss: 0.1264\n",
            "Epoch 68/200\n",
            "3/3 [==============================] - 0s 15ms/step - loss: 0.0024 - val_loss: 0.1264\n",
            "Epoch 69/200\n",
            "3/3 [==============================] - 0s 15ms/step - loss: 0.0021 - val_loss: 0.1250\n",
            "Epoch 70/200\n",
            "3/3 [==============================] - 0s 17ms/step - loss: 0.0020 - val_loss: 0.1240\n",
            "Epoch 71/200\n",
            "3/3 [==============================] - 0s 14ms/step - loss: 0.0026 - val_loss: 0.1234\n",
            "Epoch 72/200\n",
            "3/3 [==============================] - 0s 19ms/step - loss: 0.0014 - val_loss: 0.1213\n",
            "Epoch 73/200\n",
            "3/3 [==============================] - 0s 15ms/step - loss: 0.0018 - val_loss: 0.1223\n",
            "Epoch 74/200\n",
            "3/3 [==============================] - 0s 19ms/step - loss: 0.0016 - val_loss: 0.1231\n",
            "Epoch 75/200\n",
            "3/3 [==============================] - 0s 15ms/step - loss: 0.0017 - val_loss: 0.1198\n",
            "Epoch 76/200\n",
            "3/3 [==============================] - 0s 15ms/step - loss: 0.0034 - val_loss: 0.1155\n",
            "Epoch 77/200\n",
            "3/3 [==============================] - 0s 15ms/step - loss: 0.0020 - val_loss: 0.1210\n",
            "Epoch 78/200\n",
            "3/3 [==============================] - 0s 15ms/step - loss: 0.0017 - val_loss: 0.1233\n",
            "Epoch 79/200\n",
            "3/3 [==============================] - 0s 15ms/step - loss: 0.0020 - val_loss: 0.1186\n",
            "Epoch 80/200\n",
            "3/3 [==============================] - 0s 17ms/step - loss: 0.0015 - val_loss: 0.1177\n",
            "Epoch 81/200\n",
            "3/3 [==============================] - 0s 16ms/step - loss: 0.0015 - val_loss: 0.1206\n",
            "Epoch 82/200\n",
            "3/3 [==============================] - 0s 16ms/step - loss: 0.0025 - val_loss: 0.1181\n",
            "Epoch 83/200\n",
            "3/3 [==============================] - 0s 16ms/step - loss: 0.0016 - val_loss: 0.1211\n",
            "Epoch 84/200\n",
            "3/3 [==============================] - 0s 18ms/step - loss: 0.0020 - val_loss: 0.1222\n",
            "Epoch 85/200\n",
            "3/3 [==============================] - 0s 16ms/step - loss: 0.0015 - val_loss: 0.1158\n",
            "Epoch 86/200\n",
            "3/3 [==============================] - 0s 16ms/step - loss: 0.0014 - val_loss: 0.1154\n",
            "Epoch 87/200\n",
            "3/3 [==============================] - 0s 15ms/step - loss: 0.0019 - val_loss: 0.1214\n",
            "Epoch 88/200\n",
            "3/3 [==============================] - 0s 15ms/step - loss: 0.0017 - val_loss: 0.1188\n",
            "Epoch 89/200\n",
            "3/3 [==============================] - 0s 15ms/step - loss: 0.0013 - val_loss: 0.1148\n",
            "Epoch 90/200\n",
            "3/3 [==============================] - 0s 15ms/step - loss: 0.0018 - val_loss: 0.1135\n",
            "Epoch 91/200\n",
            "3/3 [==============================] - 0s 14ms/step - loss: 0.0015 - val_loss: 0.1177\n",
            "Epoch 92/200\n",
            "3/3 [==============================] - 0s 16ms/step - loss: 0.0022 - val_loss: 0.1179\n",
            "Epoch 93/200\n",
            "3/3 [==============================] - 0s 15ms/step - loss: 0.0028 - val_loss: 0.1175\n",
            "Epoch 94/200\n",
            "3/3 [==============================] - 0s 16ms/step - loss: 0.0016 - val_loss: 0.1069\n",
            "Epoch 95/200\n",
            "3/3 [==============================] - 0s 16ms/step - loss: 0.0023 - val_loss: 0.1129\n",
            "Epoch 96/200\n",
            "3/3 [==============================] - 0s 14ms/step - loss: 0.0022 - val_loss: 0.1187\n",
            "Epoch 97/200\n",
            "3/3 [==============================] - 0s 18ms/step - loss: 0.0029 - val_loss: 0.1139\n",
            "Epoch 98/200\n",
            "3/3 [==============================] - 0s 16ms/step - loss: 0.0013 - val_loss: 0.1105\n",
            "Epoch 99/200\n",
            "3/3 [==============================] - 0s 15ms/step - loss: 0.0020 - val_loss: 0.1097\n",
            "Epoch 100/200\n",
            "3/3 [==============================] - 0s 16ms/step - loss: 0.0021 - val_loss: 0.1145\n",
            "Epoch 101/200\n",
            "3/3 [==============================] - 0s 16ms/step - loss: 0.0025 - val_loss: 0.1188\n",
            "Epoch 102/200\n",
            "3/3 [==============================] - 0s 15ms/step - loss: 0.0016 - val_loss: 0.1103\n",
            "Epoch 103/200\n",
            "3/3 [==============================] - 0s 16ms/step - loss: 0.0018 - val_loss: 0.1036\n",
            "Epoch 104/200\n",
            "3/3 [==============================] - 0s 24ms/step - loss: 0.0015 - val_loss: 0.1144\n",
            "Epoch 105/200\n",
            "3/3 [==============================] - 0s 15ms/step - loss: 0.0017 - val_loss: 0.1154\n",
            "Epoch 106/200\n",
            "3/3 [==============================] - 0s 15ms/step - loss: 0.0015 - val_loss: 0.1088\n",
            "Epoch 107/200\n",
            "3/3 [==============================] - 0s 15ms/step - loss: 0.0018 - val_loss: 0.1060\n",
            "Epoch 108/200\n",
            "3/3 [==============================] - 0s 15ms/step - loss: 0.0020 - val_loss: 0.1055\n",
            "Epoch 109/200\n",
            "3/3 [==============================] - 0s 15ms/step - loss: 0.0014 - val_loss: 0.1110\n",
            "Epoch 110/200\n",
            "3/3 [==============================] - 0s 17ms/step - loss: 0.0031 - val_loss: 0.1118\n",
            "Epoch 111/200\n",
            "3/3 [==============================] - 0s 16ms/step - loss: 0.0016 - val_loss: 0.1079\n",
            "Epoch 112/200\n",
            "3/3 [==============================] - 0s 16ms/step - loss: 0.0016 - val_loss: 0.1014\n",
            "Epoch 113/200\n",
            "3/3 [==============================] - 0s 15ms/step - loss: 0.0015 - val_loss: 0.1051\n",
            "Epoch 114/200\n",
            "3/3 [==============================] - 0s 15ms/step - loss: 0.0020 - val_loss: 0.1087\n",
            "Epoch 115/200\n",
            "3/3 [==============================] - 0s 16ms/step - loss: 0.0023 - val_loss: 0.1098\n",
            "Epoch 116/200\n",
            "3/3 [==============================] - 0s 15ms/step - loss: 0.0014 - val_loss: 0.1004\n",
            "Epoch 117/200\n",
            "3/3 [==============================] - 0s 15ms/step - loss: 0.0017 - val_loss: 0.0976\n",
            "Epoch 118/200\n",
            "3/3 [==============================] - 0s 15ms/step - loss: 0.0018 - val_loss: 0.1054\n",
            "Epoch 119/200\n",
            "3/3 [==============================] - 0s 16ms/step - loss: 0.0015 - val_loss: 0.1031\n",
            "Epoch 120/200\n",
            "3/3 [==============================] - 0s 17ms/step - loss: 0.0014 - val_loss: 0.1013\n",
            "Epoch 121/200\n",
            "3/3 [==============================] - 0s 16ms/step - loss: 0.0017 - val_loss: 0.0952\n",
            "Epoch 122/200\n",
            "3/3 [==============================] - 0s 17ms/step - loss: 0.0022 - val_loss: 0.1021\n",
            "Epoch 123/200\n",
            "3/3 [==============================] - 0s 17ms/step - loss: 0.0013 - val_loss: 0.0987\n",
            "Epoch 124/200\n",
            "3/3 [==============================] - 0s 16ms/step - loss: 0.0033 - val_loss: 0.0950\n",
            "Epoch 125/200\n",
            "3/3 [==============================] - 0s 15ms/step - loss: 0.0012 - val_loss: 0.0997\n",
            "Epoch 126/200\n",
            "3/3 [==============================] - 0s 17ms/step - loss: 0.0017 - val_loss: 0.0984\n",
            "Epoch 127/200\n",
            "3/3 [==============================] - 0s 15ms/step - loss: 0.0017 - val_loss: 0.0982\n",
            "Epoch 128/200\n",
            "3/3 [==============================] - 0s 18ms/step - loss: 0.0019 - val_loss: 0.0916\n",
            "Epoch 129/200\n",
            "3/3 [==============================] - 0s 16ms/step - loss: 0.0017 - val_loss: 0.0937\n",
            "Epoch 130/200\n",
            "3/3 [==============================] - 0s 17ms/step - loss: 0.0014 - val_loss: 0.1013\n",
            "Epoch 131/200\n",
            "3/3 [==============================] - 0s 16ms/step - loss: 0.0016 - val_loss: 0.0950\n",
            "Epoch 132/200\n",
            "3/3 [==============================] - 0s 16ms/step - loss: 0.0014 - val_loss: 0.0908\n",
            "Epoch 133/200\n",
            "3/3 [==============================] - 0s 15ms/step - loss: 0.0014 - val_loss: 0.0935\n",
            "Epoch 134/200\n",
            "3/3 [==============================] - 0s 16ms/step - loss: 0.0026 - val_loss: 0.0955\n",
            "Epoch 135/200\n",
            "3/3 [==============================] - 0s 16ms/step - loss: 0.0015 - val_loss: 0.0866\n",
            "Epoch 136/200\n",
            "3/3 [==============================] - 0s 17ms/step - loss: 0.0016 - val_loss: 0.0871\n",
            "Epoch 137/200\n",
            "3/3 [==============================] - 0s 16ms/step - loss: 0.0015 - val_loss: 0.0888\n",
            "Epoch 138/200\n",
            "3/3 [==============================] - 0s 23ms/step - loss: 0.0011 - val_loss: 0.0953\n",
            "Epoch 139/200\n",
            "3/3 [==============================] - 0s 21ms/step - loss: 0.0015 - val_loss: 0.0917\n",
            "Epoch 140/200\n",
            "3/3 [==============================] - 0s 16ms/step - loss: 0.0022 - val_loss: 0.0857\n",
            "Epoch 141/200\n",
            "3/3 [==============================] - 0s 18ms/step - loss: 0.0022 - val_loss: 0.0776\n",
            "Epoch 142/200\n",
            "3/3 [==============================] - 0s 16ms/step - loss: 0.0018 - val_loss: 0.0923\n",
            "Epoch 143/200\n",
            "3/3 [==============================] - 0s 24ms/step - loss: 0.0016 - val_loss: 0.0846\n",
            "Epoch 144/200\n",
            "3/3 [==============================] - 0s 17ms/step - loss: 0.0014 - val_loss: 0.0815\n",
            "Epoch 145/200\n",
            "3/3 [==============================] - 0s 18ms/step - loss: 0.0029 - val_loss: 0.0879\n",
            "Epoch 146/200\n",
            "3/3 [==============================] - 0s 16ms/step - loss: 0.0019 - val_loss: 0.0948\n",
            "Epoch 147/200\n",
            "3/3 [==============================] - 0s 17ms/step - loss: 0.0024 - val_loss: 0.0837\n",
            "Epoch 148/200\n",
            "3/3 [==============================] - 0s 20ms/step - loss: 0.0013 - val_loss: 0.0656\n",
            "Epoch 149/200\n",
            "3/3 [==============================] - 0s 15ms/step - loss: 0.0019 - val_loss: 0.0754\n",
            "Epoch 150/200\n",
            "3/3 [==============================] - 0s 16ms/step - loss: 0.0013 - val_loss: 0.0925\n",
            "Epoch 151/200\n",
            "3/3 [==============================] - 0s 20ms/step - loss: 0.0016 - val_loss: 0.0811\n",
            "Epoch 152/200\n",
            "3/3 [==============================] - 0s 16ms/step - loss: 0.0023 - val_loss: 0.0697\n",
            "Epoch 153/200\n",
            "3/3 [==============================] - 0s 27ms/step - loss: 0.0016 - val_loss: 0.0801\n",
            "Epoch 154/200\n",
            "3/3 [==============================] - 0s 18ms/step - loss: 0.0014 - val_loss: 0.0851\n",
            "Epoch 155/200\n",
            "3/3 [==============================] - 0s 17ms/step - loss: 0.0014 - val_loss: 0.0750\n",
            "Epoch 156/200\n",
            "3/3 [==============================] - 0s 16ms/step - loss: 0.0012 - val_loss: 0.0693\n",
            "Epoch 157/200\n",
            "3/3 [==============================] - 0s 15ms/step - loss: 0.0016 - val_loss: 0.0716\n",
            "Epoch 158/200\n",
            "3/3 [==============================] - 0s 14ms/step - loss: 0.0019 - val_loss: 0.0728\n",
            "Epoch 159/200\n",
            "3/3 [==============================] - 0s 16ms/step - loss: 0.0015 - val_loss: 0.0681\n",
            "Epoch 160/200\n",
            "3/3 [==============================] - 0s 18ms/step - loss: 0.0015 - val_loss: 0.0648\n",
            "Epoch 161/200\n",
            "3/3 [==============================] - 0s 22ms/step - loss: 0.0014 - val_loss: 0.0679\n",
            "Epoch 162/200\n",
            "3/3 [==============================] - 0s 18ms/step - loss: 0.0016 - val_loss: 0.0654\n",
            "Epoch 163/200\n",
            "3/3 [==============================] - 0s 19ms/step - loss: 0.0014 - val_loss: 0.0654\n",
            "Epoch 164/200\n",
            "3/3 [==============================] - 0s 21ms/step - loss: 0.0021 - val_loss: 0.0609\n",
            "Epoch 165/200\n",
            "3/3 [==============================] - 0s 19ms/step - loss: 0.0015 - val_loss: 0.0660\n",
            "Epoch 166/200\n",
            "3/3 [==============================] - 0s 23ms/step - loss: 0.0012 - val_loss: 0.0632\n",
            "Epoch 167/200\n",
            "3/3 [==============================] - 0s 16ms/step - loss: 0.0013 - val_loss: 0.0540\n",
            "Epoch 168/200\n",
            "3/3 [==============================] - 0s 17ms/step - loss: 0.0017 - val_loss: 0.0571\n",
            "Epoch 169/200\n",
            "3/3 [==============================] - 0s 15ms/step - loss: 0.0012 - val_loss: 0.0560\n",
            "Epoch 170/200\n",
            "3/3 [==============================] - 0s 15ms/step - loss: 0.0013 - val_loss: 0.0517\n",
            "Epoch 171/200\n",
            "3/3 [==============================] - 0s 19ms/step - loss: 0.0012 - val_loss: 0.0484\n",
            "Epoch 172/200\n",
            "3/3 [==============================] - 0s 20ms/step - loss: 0.0018 - val_loss: 0.0471\n",
            "Epoch 173/200\n",
            "3/3 [==============================] - 0s 19ms/step - loss: 0.0015 - val_loss: 0.0524\n",
            "Epoch 174/200\n",
            "3/3 [==============================] - 0s 17ms/step - loss: 0.0014 - val_loss: 0.0469\n",
            "Epoch 175/200\n",
            "3/3 [==============================] - 0s 16ms/step - loss: 0.0012 - val_loss: 0.0412\n",
            "Epoch 176/200\n",
            "3/3 [==============================] - 0s 19ms/step - loss: 0.0012 - val_loss: 0.0425\n",
            "Epoch 177/200\n",
            "3/3 [==============================] - 0s 17ms/step - loss: 0.0014 - val_loss: 0.0394\n",
            "Epoch 178/200\n",
            "3/3 [==============================] - 0s 16ms/step - loss: 0.0011 - val_loss: 0.0425\n",
            "Epoch 179/200\n",
            "3/3 [==============================] - 0s 20ms/step - loss: 0.0013 - val_loss: 0.0371\n",
            "Epoch 180/200\n",
            "3/3 [==============================] - 0s 18ms/step - loss: 0.0012 - val_loss: 0.0351\n",
            "Epoch 181/200\n",
            "3/3 [==============================] - 0s 16ms/step - loss: 0.0012 - val_loss: 0.0295\n",
            "Epoch 182/200\n",
            "3/3 [==============================] - 0s 18ms/step - loss: 0.0016 - val_loss: 0.0310\n",
            "Epoch 183/200\n",
            "3/3 [==============================] - 0s 17ms/step - loss: 0.0015 - val_loss: 0.0317\n",
            "Epoch 184/200\n",
            "3/3 [==============================] - 0s 19ms/step - loss: 0.0013 - val_loss: 0.0283\n",
            "Epoch 185/200\n",
            "3/3 [==============================] - 0s 15ms/step - loss: 0.0020 - val_loss: 0.0265\n",
            "Epoch 186/200\n",
            "3/3 [==============================] - 0s 16ms/step - loss: 0.0010 - val_loss: 0.0216\n",
            "Epoch 187/200\n",
            "3/3 [==============================] - 0s 16ms/step - loss: 0.0013 - val_loss: 0.0261\n",
            "Epoch 188/200\n",
            "3/3 [==============================] - 0s 18ms/step - loss: 0.0013 - val_loss: 0.0293\n",
            "Epoch 189/200\n",
            "3/3 [==============================] - 0s 17ms/step - loss: 0.0013 - val_loss: 0.0260\n",
            "Epoch 190/200\n",
            "3/3 [==============================] - 0s 20ms/step - loss: 0.0012 - val_loss: 0.0176\n",
            "Epoch 191/200\n",
            "3/3 [==============================] - 0s 15ms/step - loss: 0.0013 - val_loss: 0.0254\n",
            "Epoch 192/200\n",
            "3/3 [==============================] - 0s 15ms/step - loss: 0.0018 - val_loss: 0.0263\n",
            "Epoch 193/200\n",
            "3/3 [==============================] - 0s 17ms/step - loss: 0.0011 - val_loss: 0.0268\n",
            "Epoch 194/200\n",
            "3/3 [==============================] - 0s 16ms/step - loss: 0.0015 - val_loss: 0.0191\n",
            "Epoch 195/200\n",
            "3/3 [==============================] - 0s 16ms/step - loss: 0.0018 - val_loss: 0.0173\n",
            "Epoch 196/200\n",
            "3/3 [==============================] - 0s 19ms/step - loss: 0.0012 - val_loss: 0.0262\n",
            "Epoch 197/200\n",
            "3/3 [==============================] - 0s 17ms/step - loss: 0.0012 - val_loss: 0.0212\n",
            "Epoch 198/200\n",
            "3/3 [==============================] - 0s 27ms/step - loss: 0.0018 - val_loss: 0.0174\n",
            "Epoch 199/200\n",
            "3/3 [==============================] - 0s 16ms/step - loss: 0.0020 - val_loss: 0.0175\n",
            "Epoch 200/200\n",
            "3/3 [==============================] - 0s 15ms/step - loss: 0.0016 - val_loss: 0.0288\n"
          ]
        },
        {
          "output_type": "execute_result",
          "data": {
            "text/plain": [
              "<keras.callbacks.History at 0x7f55eeae8110>"
            ]
          },
          "metadata": {},
          "execution_count": 36
        }
      ]
    },
    {
      "cell_type": "markdown",
      "metadata": {
        "id": "TBFkPx2YFTb3"
      },
      "source": [
        "### Visualize Prediction\n",
        "For both training and Test Data"
      ]
    },
    {
      "cell_type": "code",
      "metadata": {
        "id": "yvKlpZ7fCBHT"
      },
      "source": [
        "#Get prediction for both Training and Test Data\n",
        "trainPredict = model.predict(X_train)\n",
        "testPredict = model.predict(X_test)"
      ],
      "execution_count": 37,
      "outputs": []
    },
    {
      "cell_type": "code",
      "metadata": {
        "id": "dfX2v05jCHxS",
        "colab": {
          "base_uri": "https://localhost:8080/"
        },
        "outputId": "888dabde-471b-44b7-9fa5-9d90c965c8c7"
      },
      "source": [
        "trainPredict[0]"
      ],
      "execution_count": 38,
      "outputs": [
        {
          "output_type": "execute_result",
          "data": {
            "text/plain": [
              "array([0.21776316], dtype=float32)"
            ]
          },
          "metadata": {},
          "execution_count": 38
        }
      ]
    },
    {
      "cell_type": "code",
      "metadata": {
        "id": "agBjV-LvC-rG"
      },
      "source": [
        "#Un-normalize the predited data\n",
        "trainPredict = scaler.inverse_transform(trainPredict)\n",
        "testPredict = scaler.inverse_transform(testPredict)"
      ],
      "execution_count": 39,
      "outputs": []
    },
    {
      "cell_type": "code",
      "metadata": {
        "id": "QI4DKszkCPz0",
        "colab": {
          "base_uri": "https://localhost:8080/"
        },
        "outputId": "9ef4b3c0-be49-486a-985a-2ed2ec26933b"
      },
      "source": [
        "trainPredict[0]"
      ],
      "execution_count": 40,
      "outputs": [
        {
          "output_type": "execute_result",
          "data": {
            "text/plain": [
              "array([216.80132], dtype=float32)"
            ]
          },
          "metadata": {},
          "execution_count": 40
        }
      ]
    },
    {
      "cell_type": "markdown",
      "metadata": {
        "id": "9_sBhHR04gn8"
      },
      "source": [
        "Display Predicted vs Actual values"
      ]
    },
    {
      "cell_type": "code",
      "metadata": {
        "id": "n3Lky2q7Dmzt"
      },
      "source": [
        "import matplotlib.pyplot as plt"
      ],
      "execution_count": 41,
      "outputs": []
    },
    {
      "cell_type": "code",
      "metadata": {
        "id": "z0V0UbXiDGrT",
        "colab": {
          "base_uri": "https://localhost:8080/",
          "height": 592
        },
        "outputId": "4c2a8477-b0eb-4410-bcd0-ca53f29c6c1c"
      },
      "source": [
        "#Shift training prediction by window size\n",
        "trainPredictPlot = np.empty_like(scaled)\n",
        "trainPredictPlot[:, :] = np.nan\n",
        "trainPredictPlot[window_size:len(trainPredict)+window_size, :] = trainPredict\n",
        "\n",
        "#shift test predictions for plotting\n",
        "testPredictPlot = np.empty_like(scaled)\n",
        "testPredictPlot[:, :] = np.nan\n",
        "testPredictPlot[len(trainPredict)+(window_size*2):len(scaled), :] = testPredict\n",
        "\n",
        "# plot baseline and predictions\n",
        "plt.figure(figsize=(20,10))\n",
        "plt.plot(scaler.inverse_transform(scaled)) #Original\n",
        "plt.plot(trainPredictPlot) #Prediction on training data\n",
        "plt.plot(testPredictPlot)  #Prediction on test data\n",
        "plt.show()"
      ],
      "execution_count": 42,
      "outputs": [
        {
          "output_type": "display_data",
          "data": {
            "image/png": "[encoded data removed]",
            "text/plain": [
              "<Figure size 1440x720 with 1 Axes>"
            ]
          },
          "metadata": {
            "needs_background": "light"
          }
        }
      ]
    },
    {
      "cell_type": "markdown",
      "metadata": {
        "id": "Pfbvg0oG5-UT"
      },
      "source": [
        "Build model with different window-size to see if it learns better!"
      ]
    }
  ]
}