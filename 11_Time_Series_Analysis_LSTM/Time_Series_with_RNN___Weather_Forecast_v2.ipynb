{
  "nbformat": 4,
  "nbformat_minor": 0,
  "metadata": {
    "colab": {
      "name": "Time-Series with RNN _ Weather Forecast v2.ipynb",
      "provenance": [],
      "collapsed_sections": [
        "b8ewHTEJUO-0",
        "lwKs9c39VLNJ",
        "dJi2VdvRYowB",
        "mvm_3cypaexT",
        "XOrQuVVNoZVs",
        "VdN3qW-G9y4M",
        "w_Ry7JKCFHya",
        "vD8_Mbr0Gm-M"
      ]
    },
    "kernelspec": {
      "name": "python3",
      "display_name": "Python 3"
    }
  },
  "cells": [
    {
      "cell_type": "markdown",
      "metadata": {
        "id": "b8ewHTEJUO-0"
      },
      "source": [
        "#### Download data "
      ]
    },
    {
      "cell_type": "markdown",
      "metadata": {
        "id": "HPLC4rjgUYcu"
      },
      "source": [
        "We will use [weather data](https://www.bgc-jena.mpg.de/wetter/) provided by [Max Plank Institute for BiogeoChemistry](https://www.bgc-jena.mpg.de)."
      ]
    },
    {
      "cell_type": "code",
      "metadata": {
        "id": "_gJFl3t7T9mH"
      },
      "source": [
        "#Download the data\n",
        "!wget https://storage.googleapis.com/tensorflow/tf-keras-datasets/jena_climate_2009_2016.csv.zip --quiet"
      ],
      "execution_count": 1,
      "outputs": []
    },
    {
      "cell_type": "code",
      "metadata": {
        "id": "QA1E1n_dU-s2",
        "colab": {
          "base_uri": "https://localhost:8080/"
        },
        "outputId": "91666e60-b3f4-425e-ec91-9f4ff0a214d7"
      },
      "source": [
        "!ls -l"
      ],
      "execution_count": 2,
      "outputs": [
        {
          "output_type": "stream",
          "name": "stdout",
          "text": [
            "total 13256\n",
            "-rw-r--r-- 1 root root 13568290 Jul 24  2019 jena_climate_2009_2016.csv.zip\n",
            "drwxr-xr-x 1 root root     4096 Sep 30 17:12 sample_data\n"
          ]
        }
      ]
    },
    {
      "cell_type": "code",
      "metadata": {
        "id": "_dYjJ0fjVCaa",
        "colab": {
          "base_uri": "https://localhost:8080/"
        },
        "outputId": "e3dc8cb2-5657-4a28-f743-be54cf7f85de"
      },
      "source": [
        "#Unzip the file\n",
        "!unzip jena_climate_2009_2016.csv.zip"
      ],
      "execution_count": 3,
      "outputs": [
        {
          "output_type": "stream",
          "name": "stdout",
          "text": [
            "Archive:  jena_climate_2009_2016.csv.zip\n",
            "  inflating: jena_climate_2009_2016.csv  \n"
          ]
        }
      ]
    },
    {
      "cell_type": "code",
      "metadata": {
        "id": "Tn0OHK5fVHUM",
        "colab": {
          "base_uri": "https://localhost:8080/"
        },
        "outputId": "bf043b40-0902-4645-8e9b-058cc8b07899"
      },
      "source": [
        "!ls -l"
      ],
      "execution_count": 4,
      "outputs": [
        {
          "output_type": "stream",
          "name": "stdout",
          "text": [
            "total 55412\n",
            "-rw-r--r-- 1 root root 43164220 Mar 19  2017 jena_climate_2009_2016.csv\n",
            "-rw-r--r-- 1 root root 13568290 Jul 24  2019 jena_climate_2009_2016.csv.zip\n",
            "drwxr-xr-x 1 root root     4096 Sep 30 17:12 sample_data\n"
          ]
        }
      ]
    },
    {
      "cell_type": "markdown",
      "metadata": {
        "id": "lwKs9c39VLNJ"
      },
      "source": [
        "#### Data Exploration"
      ]
    },
    {
      "cell_type": "code",
      "metadata": {
        "id": "P9PWH3qvqW1K",
        "colab": {
          "base_uri": "https://localhost:8080/"
        },
        "outputId": "42face0f-90d6-40d4-8f4b-6ac9a652b16c"
      },
      "source": [
        "from google.colab import drive\n",
        "drive.mount('/content/drive')"
      ],
      "execution_count": 5,
      "outputs": [
        {
          "output_type": "stream",
          "name": "stdout",
          "text": [
            "Mounted at /content/drive\n"
          ]
        }
      ]
    },
    {
      "cell_type": "code",
      "metadata": {
        "id": "IBvW375wqsJ7",
        "colab": {
          "base_uri": "https://localhost:8080/"
        },
        "outputId": "6a50a5e4-d3df-4a8a-b0f4-55b24f76a848"
      },
      "source": [
        "%cd /content/drive/MyDrive/AIML/NLP/Time Series"
      ],
      "execution_count": 6,
      "outputs": [
        {
          "output_type": "stream",
          "name": "stdout",
          "text": [
            "/content/drive/MyDrive/AIML/NLP/Time Series\n"
          ]
        }
      ]
    },
    {
      "cell_type": "code",
      "metadata": {
        "id": "xVJNv5ZBVJB6"
      },
      "source": [
        "import pandas as pd\n",
        "from matplotlib import pyplot as plt\n",
        "import numpy as np"
      ],
      "execution_count": 7,
      "outputs": []
    },
    {
      "cell_type": "code",
      "metadata": {
        "id": "jjOhCyNyVfTx"
      },
      "source": [
        "#Read dataset\n",
        "df = pd.read_csv('jena_climate_2009_2016.csv')"
      ],
      "execution_count": 8,
      "outputs": []
    },
    {
      "cell_type": "code",
      "metadata": {
        "id": "vby_QvApVr_9",
        "colab": {
          "base_uri": "https://localhost:8080/",
          "height": 304
        },
        "outputId": "d8750911-0100-49b2-abc0-bde4b19867b5"
      },
      "source": [
        "#Let's check the dataset contents\n",
        "df.head(n=5)"
      ],
      "execution_count": 9,
      "outputs": [
        {
          "output_type": "execute_result",
          "data": {
            "text/html": [
              "<div>\n",
              "<style scoped>\n",
              "    .dataframe tbody tr th:only-of-type {\n",
              "        vertical-align: middle;\n",
              "    }\n",
              "\n",
              "    .dataframe tbody tr th {\n",
              "        vertical-align: top;\n",
              "    }\n",
              "\n",
              "    .dataframe thead th {\n",
              "        text-align: right;\n",
              "    }\n",
              "</style>\n",
              "<table border=\"1\" class=\"dataframe\">\n",
              "  <thead>\n",
              "    <tr style=\"text-align: right;\">\n",
              "      <th></th>\n",
              "      <th>Date Time</th>\n",
              "      <th>p (mbar)</th>\n",
              "      <th>T (degC)</th>\n",
              "      <th>Tpot (K)</th>\n",
              "      <th>Tdew (degC)</th>\n",
              "      <th>rh (%)</th>\n",
              "      <th>VPmax (mbar)</th>\n",
              "      <th>VPact (mbar)</th>\n",
              "      <th>VPdef (mbar)</th>\n",
              "      <th>sh (g/kg)</th>\n",
              "      <th>H2OC (mmol/mol)</th>\n",
              "      <th>rho (g/m**3)</th>\n",
              "      <th>wv (m/s)</th>\n",
              "      <th>max. wv (m/s)</th>\n",
              "      <th>wd (deg)</th>\n",
              "    </tr>\n",
              "  </thead>\n",
              "  <tbody>\n",
              "    <tr>\n",
              "      <th>0</th>\n",
              "      <td>01.01.2009 00:10:00</td>\n",
              "      <td>996.52</td>\n",
              "      <td>-8.02</td>\n",
              "      <td>265.40</td>\n",
              "      <td>-8.90</td>\n",
              "      <td>93.3</td>\n",
              "      <td>3.33</td>\n",
              "      <td>3.11</td>\n",
              "      <td>0.22</td>\n",
              "      <td>1.94</td>\n",
              "      <td>3.12</td>\n",
              "      <td>1307.75</td>\n",
              "      <td>1.03</td>\n",
              "      <td>1.75</td>\n",
              "      <td>152.3</td>\n",
              "    </tr>\n",
              "    <tr>\n",
              "      <th>1</th>\n",
              "      <td>01.01.2009 00:20:00</td>\n",
              "      <td>996.57</td>\n",
              "      <td>-8.41</td>\n",
              "      <td>265.01</td>\n",
              "      <td>-9.28</td>\n",
              "      <td>93.4</td>\n",
              "      <td>3.23</td>\n",
              "      <td>3.02</td>\n",
              "      <td>0.21</td>\n",
              "      <td>1.89</td>\n",
              "      <td>3.03</td>\n",
              "      <td>1309.80</td>\n",
              "      <td>0.72</td>\n",
              "      <td>1.50</td>\n",
              "      <td>136.1</td>\n",
              "    </tr>\n",
              "    <tr>\n",
              "      <th>2</th>\n",
              "      <td>01.01.2009 00:30:00</td>\n",
              "      <td>996.53</td>\n",
              "      <td>-8.51</td>\n",
              "      <td>264.91</td>\n",
              "      <td>-9.31</td>\n",
              "      <td>93.9</td>\n",
              "      <td>3.21</td>\n",
              "      <td>3.01</td>\n",
              "      <td>0.20</td>\n",
              "      <td>1.88</td>\n",
              "      <td>3.02</td>\n",
              "      <td>1310.24</td>\n",
              "      <td>0.19</td>\n",
              "      <td>0.63</td>\n",
              "      <td>171.6</td>\n",
              "    </tr>\n",
              "    <tr>\n",
              "      <th>3</th>\n",
              "      <td>01.01.2009 00:40:00</td>\n",
              "      <td>996.51</td>\n",
              "      <td>-8.31</td>\n",
              "      <td>265.12</td>\n",
              "      <td>-9.07</td>\n",
              "      <td>94.2</td>\n",
              "      <td>3.26</td>\n",
              "      <td>3.07</td>\n",
              "      <td>0.19</td>\n",
              "      <td>1.92</td>\n",
              "      <td>3.08</td>\n",
              "      <td>1309.19</td>\n",
              "      <td>0.34</td>\n",
              "      <td>0.50</td>\n",
              "      <td>198.0</td>\n",
              "    </tr>\n",
              "    <tr>\n",
              "      <th>4</th>\n",
              "      <td>01.01.2009 00:50:00</td>\n",
              "      <td>996.51</td>\n",
              "      <td>-8.27</td>\n",
              "      <td>265.15</td>\n",
              "      <td>-9.04</td>\n",
              "      <td>94.1</td>\n",
              "      <td>3.27</td>\n",
              "      <td>3.08</td>\n",
              "      <td>0.19</td>\n",
              "      <td>1.92</td>\n",
              "      <td>3.09</td>\n",
              "      <td>1309.00</td>\n",
              "      <td>0.32</td>\n",
              "      <td>0.63</td>\n",
              "      <td>214.3</td>\n",
              "    </tr>\n",
              "  </tbody>\n",
              "</table>\n",
              "</div>"
            ],
            "text/plain": [
              "             Date Time  p (mbar)  T (degC)  ...  wv (m/s)  max. wv (m/s)  wd (deg)\n",
              "0  01.01.2009 00:10:00    996.52     -8.02  ...      1.03           1.75     152.3\n",
              "1  01.01.2009 00:20:00    996.57     -8.41  ...      0.72           1.50     136.1\n",
              "2  01.01.2009 00:30:00    996.53     -8.51  ...      0.19           0.63     171.6\n",
              "3  01.01.2009 00:40:00    996.51     -8.31  ...      0.34           0.50     198.0\n",
              "4  01.01.2009 00:50:00    996.51     -8.27  ...      0.32           0.63     214.3\n",
              "\n",
              "[5 rows x 15 columns]"
            ]
          },
          "metadata": {},
          "execution_count": 9
        }
      ]
    },
    {
      "cell_type": "code",
      "metadata": {
        "id": "EyHeCXsmV50u",
        "colab": {
          "base_uri": "https://localhost:8080/"
        },
        "outputId": "d3bbb269-8d00-4f16-a904-9cc40996c198"
      },
      "source": [
        "#Columns\n",
        "df.columns"
      ],
      "execution_count": 10,
      "outputs": [
        {
          "output_type": "execute_result",
          "data": {
            "text/plain": [
              "Index(['Date Time', 'p (mbar)', 'T (degC)', 'Tpot (K)', 'Tdew (degC)',\n",
              "       'rh (%)', 'VPmax (mbar)', 'VPact (mbar)', 'VPdef (mbar)', 'sh (g/kg)',\n",
              "       'H2OC (mmol/mol)', 'rho (g/m**3)', 'wv (m/s)', 'max. wv (m/s)',\n",
              "       'wd (deg)'],\n",
              "      dtype='object')"
            ]
          },
          "metadata": {},
          "execution_count": 10
        }
      ]
    },
    {
      "cell_type": "code",
      "metadata": {
        "id": "7mNp7FPGygW3",
        "colab": {
          "base_uri": "https://localhost:8080/",
          "height": 304
        },
        "outputId": "0b132c95-3729-471d-d6de-e6b97199658e"
      },
      "source": [
        "df.tail()"
      ],
      "execution_count": 11,
      "outputs": [
        {
          "output_type": "execute_result",
          "data": {
            "text/html": [
              "<div>\n",
              "<style scoped>\n",
              "    .dataframe tbody tr th:only-of-type {\n",
              "        vertical-align: middle;\n",
              "    }\n",
              "\n",
              "    .dataframe tbody tr th {\n",
              "        vertical-align: top;\n",
              "    }\n",
              "\n",
              "    .dataframe thead th {\n",
              "        text-align: right;\n",
              "    }\n",
              "</style>\n",
              "<table border=\"1\" class=\"dataframe\">\n",
              "  <thead>\n",
              "    <tr style=\"text-align: right;\">\n",
              "      <th></th>\n",
              "      <th>Date Time</th>\n",
              "      <th>p (mbar)</th>\n",
              "      <th>T (degC)</th>\n",
              "      <th>Tpot (K)</th>\n",
              "      <th>Tdew (degC)</th>\n",
              "      <th>rh (%)</th>\n",
              "      <th>VPmax (mbar)</th>\n",
              "      <th>VPact (mbar)</th>\n",
              "      <th>VPdef (mbar)</th>\n",
              "      <th>sh (g/kg)</th>\n",
              "      <th>H2OC (mmol/mol)</th>\n",
              "      <th>rho (g/m**3)</th>\n",
              "      <th>wv (m/s)</th>\n",
              "      <th>max. wv (m/s)</th>\n",
              "      <th>wd (deg)</th>\n",
              "    </tr>\n",
              "  </thead>\n",
              "  <tbody>\n",
              "    <tr>\n",
              "      <th>420546</th>\n",
              "      <td>31.12.2016 23:20:00</td>\n",
              "      <td>1000.07</td>\n",
              "      <td>-4.05</td>\n",
              "      <td>269.10</td>\n",
              "      <td>-8.13</td>\n",
              "      <td>73.10</td>\n",
              "      <td>4.52</td>\n",
              "      <td>3.30</td>\n",
              "      <td>1.22</td>\n",
              "      <td>2.06</td>\n",
              "      <td>3.30</td>\n",
              "      <td>1292.98</td>\n",
              "      <td>0.67</td>\n",
              "      <td>1.52</td>\n",
              "      <td>240.0</td>\n",
              "    </tr>\n",
              "    <tr>\n",
              "      <th>420547</th>\n",
              "      <td>31.12.2016 23:30:00</td>\n",
              "      <td>999.93</td>\n",
              "      <td>-3.35</td>\n",
              "      <td>269.81</td>\n",
              "      <td>-8.06</td>\n",
              "      <td>69.71</td>\n",
              "      <td>4.77</td>\n",
              "      <td>3.32</td>\n",
              "      <td>1.44</td>\n",
              "      <td>2.07</td>\n",
              "      <td>3.32</td>\n",
              "      <td>1289.44</td>\n",
              "      <td>1.14</td>\n",
              "      <td>1.92</td>\n",
              "      <td>234.3</td>\n",
              "    </tr>\n",
              "    <tr>\n",
              "      <th>420548</th>\n",
              "      <td>31.12.2016 23:40:00</td>\n",
              "      <td>999.82</td>\n",
              "      <td>-3.16</td>\n",
              "      <td>270.01</td>\n",
              "      <td>-8.21</td>\n",
              "      <td>67.91</td>\n",
              "      <td>4.84</td>\n",
              "      <td>3.28</td>\n",
              "      <td>1.55</td>\n",
              "      <td>2.05</td>\n",
              "      <td>3.28</td>\n",
              "      <td>1288.39</td>\n",
              "      <td>1.08</td>\n",
              "      <td>2.00</td>\n",
              "      <td>215.2</td>\n",
              "    </tr>\n",
              "    <tr>\n",
              "      <th>420549</th>\n",
              "      <td>31.12.2016 23:50:00</td>\n",
              "      <td>999.81</td>\n",
              "      <td>-4.23</td>\n",
              "      <td>268.94</td>\n",
              "      <td>-8.53</td>\n",
              "      <td>71.80</td>\n",
              "      <td>4.46</td>\n",
              "      <td>3.20</td>\n",
              "      <td>1.26</td>\n",
              "      <td>1.99</td>\n",
              "      <td>3.20</td>\n",
              "      <td>1293.56</td>\n",
              "      <td>1.49</td>\n",
              "      <td>2.16</td>\n",
              "      <td>225.8</td>\n",
              "    </tr>\n",
              "    <tr>\n",
              "      <th>420550</th>\n",
              "      <td>01.01.2017 00:00:00</td>\n",
              "      <td>999.82</td>\n",
              "      <td>-4.82</td>\n",
              "      <td>268.36</td>\n",
              "      <td>-8.42</td>\n",
              "      <td>75.70</td>\n",
              "      <td>4.27</td>\n",
              "      <td>3.23</td>\n",
              "      <td>1.04</td>\n",
              "      <td>2.01</td>\n",
              "      <td>3.23</td>\n",
              "      <td>1296.38</td>\n",
              "      <td>1.23</td>\n",
              "      <td>1.96</td>\n",
              "      <td>184.9</td>\n",
              "    </tr>\n",
              "  </tbody>\n",
              "</table>\n",
              "</div>"
            ],
            "text/plain": [
              "                  Date Time  p (mbar)  ...  max. wv (m/s)  wd (deg)\n",
              "420546  31.12.2016 23:20:00   1000.07  ...           1.52     240.0\n",
              "420547  31.12.2016 23:30:00    999.93  ...           1.92     234.3\n",
              "420548  31.12.2016 23:40:00    999.82  ...           2.00     215.2\n",
              "420549  31.12.2016 23:50:00    999.81  ...           2.16     225.8\n",
              "420550  01.01.2017 00:00:00    999.82  ...           1.96     184.9\n",
              "\n",
              "[5 rows x 15 columns]"
            ]
          },
          "metadata": {},
          "execution_count": 11
        }
      ]
    },
    {
      "cell_type": "code",
      "metadata": {
        "id": "hmxiZdWhVxJP",
        "colab": {
          "base_uri": "https://localhost:8080/"
        },
        "outputId": "f878d736-3ec1-42ee-f7b3-e050477951cd"
      },
      "source": [
        "#Check number of records\n",
        "df.shape"
      ],
      "execution_count": 12,
      "outputs": [
        {
          "output_type": "execute_result",
          "data": {
            "text/plain": [
              "(420551, 15)"
            ]
          },
          "metadata": {},
          "execution_count": 12
        }
      ]
    },
    {
      "cell_type": "markdown",
      "metadata": {
        "id": "Pj8PLml0XIbq"
      },
      "source": [
        "What is the Frequency of this Time-Series data?"
      ]
    },
    {
      "cell_type": "code",
      "metadata": {
        "id": "fR-KNtgIXMEZ",
        "colab": {
          "base_uri": "https://localhost:8080/",
          "height": 542
        },
        "outputId": "5cc5d58f-be95-4531-ae44-b727e4f47743"
      },
      "source": [
        "df.head(n=10)"
      ],
      "execution_count": 13,
      "outputs": [
        {
          "output_type": "execute_result",
          "data": {
            "text/html": [
              "<div>\n",
              "<style scoped>\n",
              "    .dataframe tbody tr th:only-of-type {\n",
              "        vertical-align: middle;\n",
              "    }\n",
              "\n",
              "    .dataframe tbody tr th {\n",
              "        vertical-align: top;\n",
              "    }\n",
              "\n",
              "    .dataframe thead th {\n",
              "        text-align: right;\n",
              "    }\n",
              "</style>\n",
              "<table border=\"1\" class=\"dataframe\">\n",
              "  <thead>\n",
              "    <tr style=\"text-align: right;\">\n",
              "      <th></th>\n",
              "      <th>Date Time</th>\n",
              "      <th>p (mbar)</th>\n",
              "      <th>T (degC)</th>\n",
              "      <th>Tpot (K)</th>\n",
              "      <th>Tdew (degC)</th>\n",
              "      <th>rh (%)</th>\n",
              "      <th>VPmax (mbar)</th>\n",
              "      <th>VPact (mbar)</th>\n",
              "      <th>VPdef (mbar)</th>\n",
              "      <th>sh (g/kg)</th>\n",
              "      <th>H2OC (mmol/mol)</th>\n",
              "      <th>rho (g/m**3)</th>\n",
              "      <th>wv (m/s)</th>\n",
              "      <th>max. wv (m/s)</th>\n",
              "      <th>wd (deg)</th>\n",
              "    </tr>\n",
              "  </thead>\n",
              "  <tbody>\n",
              "    <tr>\n",
              "      <th>0</th>\n",
              "      <td>01.01.2009 00:10:00</td>\n",
              "      <td>996.52</td>\n",
              "      <td>-8.02</td>\n",
              "      <td>265.40</td>\n",
              "      <td>-8.90</td>\n",
              "      <td>93.3</td>\n",
              "      <td>3.33</td>\n",
              "      <td>3.11</td>\n",
              "      <td>0.22</td>\n",
              "      <td>1.94</td>\n",
              "      <td>3.12</td>\n",
              "      <td>1307.75</td>\n",
              "      <td>1.03</td>\n",
              "      <td>1.75</td>\n",
              "      <td>152.3</td>\n",
              "    </tr>\n",
              "    <tr>\n",
              "      <th>1</th>\n",
              "      <td>01.01.2009 00:20:00</td>\n",
              "      <td>996.57</td>\n",
              "      <td>-8.41</td>\n",
              "      <td>265.01</td>\n",
              "      <td>-9.28</td>\n",
              "      <td>93.4</td>\n",
              "      <td>3.23</td>\n",
              "      <td>3.02</td>\n",
              "      <td>0.21</td>\n",
              "      <td>1.89</td>\n",
              "      <td>3.03</td>\n",
              "      <td>1309.80</td>\n",
              "      <td>0.72</td>\n",
              "      <td>1.50</td>\n",
              "      <td>136.1</td>\n",
              "    </tr>\n",
              "    <tr>\n",
              "      <th>2</th>\n",
              "      <td>01.01.2009 00:30:00</td>\n",
              "      <td>996.53</td>\n",
              "      <td>-8.51</td>\n",
              "      <td>264.91</td>\n",
              "      <td>-9.31</td>\n",
              "      <td>93.9</td>\n",
              "      <td>3.21</td>\n",
              "      <td>3.01</td>\n",
              "      <td>0.20</td>\n",
              "      <td>1.88</td>\n",
              "      <td>3.02</td>\n",
              "      <td>1310.24</td>\n",
              "      <td>0.19</td>\n",
              "      <td>0.63</td>\n",
              "      <td>171.6</td>\n",
              "    </tr>\n",
              "    <tr>\n",
              "      <th>3</th>\n",
              "      <td>01.01.2009 00:40:00</td>\n",
              "      <td>996.51</td>\n",
              "      <td>-8.31</td>\n",
              "      <td>265.12</td>\n",
              "      <td>-9.07</td>\n",
              "      <td>94.2</td>\n",
              "      <td>3.26</td>\n",
              "      <td>3.07</td>\n",
              "      <td>0.19</td>\n",
              "      <td>1.92</td>\n",
              "      <td>3.08</td>\n",
              "      <td>1309.19</td>\n",
              "      <td>0.34</td>\n",
              "      <td>0.50</td>\n",
              "      <td>198.0</td>\n",
              "    </tr>\n",
              "    <tr>\n",
              "      <th>4</th>\n",
              "      <td>01.01.2009 00:50:00</td>\n",
              "      <td>996.51</td>\n",
              "      <td>-8.27</td>\n",
              "      <td>265.15</td>\n",
              "      <td>-9.04</td>\n",
              "      <td>94.1</td>\n",
              "      <td>3.27</td>\n",
              "      <td>3.08</td>\n",
              "      <td>0.19</td>\n",
              "      <td>1.92</td>\n",
              "      <td>3.09</td>\n",
              "      <td>1309.00</td>\n",
              "      <td>0.32</td>\n",
              "      <td>0.63</td>\n",
              "      <td>214.3</td>\n",
              "    </tr>\n",
              "    <tr>\n",
              "      <th>5</th>\n",
              "      <td>01.01.2009 01:00:00</td>\n",
              "      <td>996.50</td>\n",
              "      <td>-8.05</td>\n",
              "      <td>265.38</td>\n",
              "      <td>-8.78</td>\n",
              "      <td>94.4</td>\n",
              "      <td>3.33</td>\n",
              "      <td>3.14</td>\n",
              "      <td>0.19</td>\n",
              "      <td>1.96</td>\n",
              "      <td>3.15</td>\n",
              "      <td>1307.86</td>\n",
              "      <td>0.21</td>\n",
              "      <td>0.63</td>\n",
              "      <td>192.7</td>\n",
              "    </tr>\n",
              "    <tr>\n",
              "      <th>6</th>\n",
              "      <td>01.01.2009 01:10:00</td>\n",
              "      <td>996.50</td>\n",
              "      <td>-7.62</td>\n",
              "      <td>265.81</td>\n",
              "      <td>-8.30</td>\n",
              "      <td>94.8</td>\n",
              "      <td>3.44</td>\n",
              "      <td>3.26</td>\n",
              "      <td>0.18</td>\n",
              "      <td>2.04</td>\n",
              "      <td>3.27</td>\n",
              "      <td>1305.68</td>\n",
              "      <td>0.18</td>\n",
              "      <td>0.63</td>\n",
              "      <td>166.5</td>\n",
              "    </tr>\n",
              "    <tr>\n",
              "      <th>7</th>\n",
              "      <td>01.01.2009 01:20:00</td>\n",
              "      <td>996.50</td>\n",
              "      <td>-7.62</td>\n",
              "      <td>265.81</td>\n",
              "      <td>-8.36</td>\n",
              "      <td>94.4</td>\n",
              "      <td>3.44</td>\n",
              "      <td>3.25</td>\n",
              "      <td>0.19</td>\n",
              "      <td>2.03</td>\n",
              "      <td>3.26</td>\n",
              "      <td>1305.69</td>\n",
              "      <td>0.19</td>\n",
              "      <td>0.50</td>\n",
              "      <td>118.6</td>\n",
              "    </tr>\n",
              "    <tr>\n",
              "      <th>8</th>\n",
              "      <td>01.01.2009 01:30:00</td>\n",
              "      <td>996.50</td>\n",
              "      <td>-7.91</td>\n",
              "      <td>265.52</td>\n",
              "      <td>-8.73</td>\n",
              "      <td>93.8</td>\n",
              "      <td>3.36</td>\n",
              "      <td>3.15</td>\n",
              "      <td>0.21</td>\n",
              "      <td>1.97</td>\n",
              "      <td>3.16</td>\n",
              "      <td>1307.17</td>\n",
              "      <td>0.28</td>\n",
              "      <td>0.75</td>\n",
              "      <td>188.5</td>\n",
              "    </tr>\n",
              "    <tr>\n",
              "      <th>9</th>\n",
              "      <td>01.01.2009 01:40:00</td>\n",
              "      <td>996.53</td>\n",
              "      <td>-8.43</td>\n",
              "      <td>264.99</td>\n",
              "      <td>-9.34</td>\n",
              "      <td>93.1</td>\n",
              "      <td>3.23</td>\n",
              "      <td>3.00</td>\n",
              "      <td>0.22</td>\n",
              "      <td>1.88</td>\n",
              "      <td>3.02</td>\n",
              "      <td>1309.85</td>\n",
              "      <td>0.59</td>\n",
              "      <td>0.88</td>\n",
              "      <td>185.0</td>\n",
              "    </tr>\n",
              "  </tbody>\n",
              "</table>\n",
              "</div>"
            ],
            "text/plain": [
              "             Date Time  p (mbar)  T (degC)  ...  wv (m/s)  max. wv (m/s)  wd (deg)\n",
              "0  01.01.2009 00:10:00    996.52     -8.02  ...      1.03           1.75     152.3\n",
              "1  01.01.2009 00:20:00    996.57     -8.41  ...      0.72           1.50     136.1\n",
              "2  01.01.2009 00:30:00    996.53     -8.51  ...      0.19           0.63     171.6\n",
              "3  01.01.2009 00:40:00    996.51     -8.31  ...      0.34           0.50     198.0\n",
              "4  01.01.2009 00:50:00    996.51     -8.27  ...      0.32           0.63     214.3\n",
              "5  01.01.2009 01:00:00    996.50     -8.05  ...      0.21           0.63     192.7\n",
              "6  01.01.2009 01:10:00    996.50     -7.62  ...      0.18           0.63     166.5\n",
              "7  01.01.2009 01:20:00    996.50     -7.62  ...      0.19           0.50     118.6\n",
              "8  01.01.2009 01:30:00    996.50     -7.91  ...      0.28           0.75     188.5\n",
              "9  01.01.2009 01:40:00    996.53     -8.43  ...      0.59           0.88     185.0\n",
              "\n",
              "[10 rows x 15 columns]"
            ]
          },
          "metadata": {},
          "execution_count": 13
        }
      ]
    },
    {
      "cell_type": "code",
      "metadata": {
        "id": "oN5gSrB5Znty",
        "colab": {
          "base_uri": "https://localhost:8080/"
        },
        "outputId": "70c96095-ecbf-46c0-9fee-2629b9f5edbc"
      },
      "source": [
        "#Check if null values\n",
        "df.isnull().sum()"
      ],
      "execution_count": 14,
      "outputs": [
        {
          "output_type": "execute_result",
          "data": {
            "text/plain": [
              "Date Time          0\n",
              "p (mbar)           0\n",
              "T (degC)           0\n",
              "Tpot (K)           0\n",
              "Tdew (degC)        0\n",
              "rh (%)             0\n",
              "VPmax (mbar)       0\n",
              "VPact (mbar)       0\n",
              "VPdef (mbar)       0\n",
              "sh (g/kg)          0\n",
              "H2OC (mmol/mol)    0\n",
              "rho (g/m**3)       0\n",
              "wv (m/s)           0\n",
              "max. wv (m/s)      0\n",
              "wd (deg)           0\n",
              "dtype: int64"
            ]
          },
          "metadata": {},
          "execution_count": 14
        }
      ]
    },
    {
      "cell_type": "markdown",
      "metadata": {
        "id": "Bqf4o4tNZ1-E"
      },
      "source": [
        "How should we deal missing values in Time Series data?"
      ]
    },
    {
      "cell_type": "markdown",
      "metadata": {
        "id": "dJi2VdvRYowB"
      },
      "source": [
        "#### Data for Air Tempreture"
      ]
    },
    {
      "cell_type": "markdown",
      "metadata": {
        "id": "Mn2-tk99Yrcy"
      },
      "source": [
        "Excercise #1 : Build a model which will predict future 'Air Tempreture' based on the past data."
      ]
    },
    {
      "cell_type": "code",
      "metadata": {
        "id": "lAmR0OUjY3xb"
      },
      "source": [
        "#Get data for Air Tempreture\n",
        "temp_df = df['T (degC)']"
      ],
      "execution_count": 15,
      "outputs": []
    },
    {
      "cell_type": "code",
      "metadata": {
        "id": "iuwqimSdY_5X"
      },
      "source": [
        "#Make Date time column as index to make sure data is sorted\n",
        "temp_df.index = df['Date Time']"
      ],
      "execution_count": 16,
      "outputs": []
    },
    {
      "cell_type": "code",
      "metadata": {
        "id": "dLAKBS8tZI37",
        "colab": {
          "base_uri": "https://localhost:8080/"
        },
        "outputId": "62c986c8-7896-4274-c834-f3a2f60d62b0"
      },
      "source": [
        "#Check data\n",
        "temp_df.head(n=50)"
      ],
      "execution_count": 17,
      "outputs": [
        {
          "output_type": "execute_result",
          "data": {
            "text/plain": [
              "Date Time\n",
              "01.01.2009 00:10:00   -8.02\n",
              "01.01.2009 00:20:00   -8.41\n",
              "01.01.2009 00:30:00   -8.51\n",
              "01.01.2009 00:40:00   -8.31\n",
              "01.01.2009 00:50:00   -8.27\n",
              "01.01.2009 01:00:00   -8.05\n",
              "01.01.2009 01:10:00   -7.62\n",
              "01.01.2009 01:20:00   -7.62\n",
              "01.01.2009 01:30:00   -7.91\n",
              "01.01.2009 01:40:00   -8.43\n",
              "01.01.2009 01:50:00   -8.76\n",
              "01.01.2009 02:00:00   -8.88\n",
              "01.01.2009 02:10:00   -8.85\n",
              "01.01.2009 02:20:00   -8.83\n",
              "01.01.2009 02:30:00   -8.66\n",
              "01.01.2009 02:40:00   -8.66\n",
              "01.01.2009 02:50:00   -8.70\n",
              "01.01.2009 03:00:00   -8.81\n",
              "01.01.2009 03:10:00   -8.84\n",
              "01.01.2009 03:20:00   -8.94\n",
              "01.01.2009 03:30:00   -8.94\n",
              "01.01.2009 03:40:00   -8.86\n",
              "01.01.2009 03:50:00   -8.99\n",
              "01.01.2009 04:00:00   -9.05\n",
              "01.01.2009 04:10:00   -9.23\n",
              "01.01.2009 04:20:00   -9.49\n",
              "01.01.2009 04:30:00   -9.50\n",
              "01.01.2009 04:40:00   -9.35\n",
              "01.01.2009 04:50:00   -9.47\n",
              "01.01.2009 05:00:00   -9.63\n",
              "01.01.2009 05:10:00   -9.67\n",
              "01.01.2009 05:20:00   -9.68\n",
              "01.01.2009 05:30:00   -9.90\n",
              "01.01.2009 05:40:00   -9.91\n",
              "01.01.2009 05:50:00   -9.51\n",
              "01.01.2009 06:00:00   -9.67\n",
              "01.01.2009 06:10:00   -9.59\n",
              "01.01.2009 06:20:00   -9.15\n",
              "01.01.2009 06:30:00   -8.91\n",
              "01.01.2009 06:40:00   -9.04\n",
              "01.01.2009 06:50:00   -9.43\n",
              "01.01.2009 07:00:00   -9.17\n",
              "01.01.2009 07:10:00   -8.71\n",
              "01.01.2009 07:20:00   -8.55\n",
              "01.01.2009 07:30:00   -8.40\n",
              "01.01.2009 07:40:00   -8.30\n",
              "01.01.2009 07:50:00   -8.13\n",
              "01.01.2009 08:00:00   -8.10\n",
              "01.01.2009 08:10:00   -8.14\n",
              "01.01.2009 08:20:00   -8.06\n",
              "Name: T (degC), dtype: float64"
            ]
          },
          "metadata": {},
          "execution_count": 17
        }
      ]
    },
    {
      "cell_type": "code",
      "metadata": {
        "id": "2Q1hqMTk3X-f",
        "colab": {
          "base_uri": "https://localhost:8080/"
        },
        "outputId": "add2951a-ad03-4895-8c3e-45abf2fabf1a"
      },
      "source": [
        "temp_df.tail(n=50)"
      ],
      "execution_count": 18,
      "outputs": [
        {
          "output_type": "execute_result",
          "data": {
            "text/plain": [
              "Date Time\n",
              "31.12.2016 15:50:00    3.56\n",
              "31.12.2016 16:00:00    2.87\n",
              "31.12.2016 16:10:00    2.44\n",
              "31.12.2016 16:20:00    2.13\n",
              "31.12.2016 16:30:00    1.98\n",
              "31.12.2016 16:40:00    1.67\n",
              "31.12.2016 16:50:00    1.61\n",
              "31.12.2016 17:00:00    1.41\n",
              "31.12.2016 17:10:00    1.29\n",
              "31.12.2016 17:20:00    0.79\n",
              "31.12.2016 17:30:00    0.44\n",
              "31.12.2016 17:40:00    0.24\n",
              "31.12.2016 17:50:00   -0.06\n",
              "31.12.2016 18:00:00   -0.08\n",
              "31.12.2016 18:10:00   -0.42\n",
              "31.12.2016 18:20:00   -0.95\n",
              "31.12.2016 18:30:00   -1.28\n",
              "31.12.2016 18:40:00   -1.67\n",
              "31.12.2016 18:50:00   -1.25\n",
              "31.12.2016 19:00:00   -1.03\n",
              "31.12.2016 19:10:00   -0.98\n",
              "31.12.2016 19:20:00   -1.40\n",
              "31.12.2016 19:30:00   -1.47\n",
              "31.12.2016 19:40:00   -1.61\n",
              "31.12.2016 19:50:00   -1.65\n",
              "31.12.2016 20:00:00   -1.52\n",
              "31.12.2016 20:10:00   -1.40\n",
              "31.12.2016 20:20:00   -2.15\n",
              "31.12.2016 20:30:00   -3.19\n",
              "31.12.2016 20:40:00   -3.30\n",
              "31.12.2016 20:50:00   -3.46\n",
              "31.12.2016 21:00:00   -3.09\n",
              "31.12.2016 21:10:00   -2.75\n",
              "31.12.2016 21:20:00   -2.61\n",
              "31.12.2016 21:30:00   -2.51\n",
              "31.12.2016 21:40:00   -2.48\n",
              "31.12.2016 21:50:00   -2.48\n",
              "31.12.2016 22:00:00   -2.59\n",
              "31.12.2016 22:10:00   -2.89\n",
              "31.12.2016 22:20:00   -3.22\n",
              "31.12.2016 22:30:00   -4.08\n",
              "31.12.2016 22:40:00   -4.45\n",
              "31.12.2016 22:50:00   -4.09\n",
              "31.12.2016 23:00:00   -3.76\n",
              "31.12.2016 23:10:00   -3.93\n",
              "31.12.2016 23:20:00   -4.05\n",
              "31.12.2016 23:30:00   -3.35\n",
              "31.12.2016 23:40:00   -3.16\n",
              "31.12.2016 23:50:00   -4.23\n",
              "01.01.2017 00:00:00   -4.82\n",
              "Name: T (degC), dtype: float64"
            ]
          },
          "metadata": {},
          "execution_count": 18
        }
      ]
    },
    {
      "cell_type": "code",
      "metadata": {
        "id": "7qL7jDrLZd6n",
        "colab": {
          "base_uri": "https://localhost:8080/",
          "height": 409
        },
        "outputId": "4f83fd7c-66cf-443c-8987-84aa1803db83"
      },
      "source": [
        "#Visualize data\n",
        "temp_df.plot(subplots=True, figsize=(10,6))\n",
        "plt.show()"
      ],
      "execution_count": 19,
      "outputs": [
        {
          "output_type": "display_data",
          "data": {
            "image/png": "[encoded data removed]",
            "text/plain": [
              "<Figure size 720x432 with 1 Axes>"
            ]
          },
          "metadata": {
            "needs_background": "light"
          }
        }
      ]
    },
    {
      "cell_type": "code",
      "metadata": {
        "id": "NpJ-_eeI0PTg",
        "colab": {
          "base_uri": "https://localhost:8080/"
        },
        "outputId": "e7312d84-dfbc-4261-aa7d-0cc5976c7153"
      },
      "source": [
        "temp_df.shape"
      ],
      "execution_count": 20,
      "outputs": [
        {
          "output_type": "execute_result",
          "data": {
            "text/plain": [
              "(420551,)"
            ]
          },
          "metadata": {},
          "execution_count": 20
        }
      ]
    },
    {
      "cell_type": "markdown",
      "metadata": {
        "id": "mvm_3cypaexT"
      },
      "source": [
        "#### Data Preparation"
      ]
    },
    {
      "cell_type": "markdown",
      "metadata": {
        "id": "A7fmyLEWaklE"
      },
      "source": [
        "Split data between Training and Test"
      ]
    },
    {
      "cell_type": "code",
      "metadata": {
        "id": "M1aZc988aiWM",
        "colab": {
          "base_uri": "https://localhost:8080/"
        },
        "outputId": "35eae720-c159-4a75-9d1b-96ba2abfd139"
      },
      "source": [
        "#Number of training examples - set to 80%\n",
        "num_training_examples = int(0.8 * temp_df.shape[0])\n",
        "num_training_examples"
      ],
      "execution_count": 21,
      "outputs": [
        {
          "output_type": "execute_result",
          "data": {
            "text/plain": [
              "336440"
            ]
          },
          "metadata": {},
          "execution_count": 21
        }
      ]
    },
    {
      "cell_type": "code",
      "metadata": {
        "id": "eD-WyRfmb_Kk"
      },
      "source": [
        "#Prepare training and test data\n",
        "train_data = temp_df.to_list()[:num_training_examples]\n",
        "test_data = temp_df.to_list()[num_training_examples:]"
      ],
      "execution_count": 22,
      "outputs": []
    },
    {
      "cell_type": "code",
      "metadata": {
        "id": "2EA4Nvtdcvui",
        "colab": {
          "base_uri": "https://localhost:8080/"
        },
        "outputId": "9c6ff971-39a5-4b31-ac11-75ff874127df"
      },
      "source": [
        "#Check the data\n",
        "print(train_data[:100])"
      ],
      "execution_count": 23,
      "outputs": [
        {
          "output_type": "stream",
          "name": "stdout",
          "text": [
            "[-8.02, -8.41, -8.51, -8.31, -8.27, -8.05, -7.62, -7.62, -7.91, -8.43, -8.76, -8.88, -8.85, -8.83, -8.66, -8.66, -8.7, -8.81, -8.84, -8.94, -8.94, -8.86, -8.99, -9.05, -9.23, -9.49, -9.5, -9.35, -9.47, -9.63, -9.67, -9.68, -9.9, -9.91, -9.51, -9.67, -9.59, -9.15, -8.91, -9.04, -9.43, -9.17, -8.71, -8.55, -8.4, -8.3, -8.13, -8.1, -8.14, -8.06, -7.95, -7.74, -7.57, -7.66, -7.71, -7.56, -7.29, -7.15, -7.02, -7.04, -7.03, -7.15, -7.26, -7.34, -7.35, -7.41, -7.48, -7.38, -7.21, -7.16, -7.03, -6.87, -6.77, -6.7, -6.61, -6.51, -6.21, -5.89, -5.83, -5.76, -5.9, -5.97, -5.88, -5.94, -5.84, -5.76, -5.75, -5.76, -5.73, -5.69, -5.53, -5.57, -5.43, -5.32, -5.36, -5.4, -5.31, -5.28, -5.32, -5.29]\n"
          ]
        }
      ]
    },
    {
      "cell_type": "code",
      "metadata": {
        "id": "5piS8roK48md"
      },
      "source": [
        "#Find the mean standard deviation\n",
        "mean = np.array(train_data).mean()\n",
        "std = np.array(train_data).std()"
      ],
      "execution_count": 24,
      "outputs": []
    },
    {
      "cell_type": "code",
      "metadata": {
        "id": "Yi07q2f6YI-Z",
        "colab": {
          "base_uri": "https://localhost:8080/"
        },
        "outputId": "bb20dc8d-684b-4b6e-d818-8df3aaf15929"
      },
      "source": [
        "mean, std"
      ],
      "execution_count": 25,
      "outputs": [
        {
          "output_type": "execute_result",
          "data": {
            "text/plain": [
              "(8.987612768992983, 8.440672143902399)"
            ]
          },
          "metadata": {},
          "execution_count": 25
        }
      ]
    },
    {
      "cell_type": "markdown",
      "metadata": {
        "id": "L91mvnS0ds_5"
      },
      "source": [
        "Normalize the data"
      ]
    },
    {
      "cell_type": "code",
      "metadata": {
        "id": "R0_n02Hcfb1X"
      },
      "source": [
        "#Normalize training and test data\n",
        "norm_train = (np.array(train_data) - mean)/std\n",
        "norm_test  = (np.array(test_data) - mean)/std"
      ],
      "execution_count": 26,
      "outputs": []
    },
    {
      "cell_type": "code",
      "metadata": {
        "id": "THzDm6xq5LH9",
        "colab": {
          "base_uri": "https://localhost:8080/"
        },
        "outputId": "00d37bcb-cb53-47c4-cf95-bee34010f848"
      },
      "source": [
        "norm_train[:100]"
      ],
      "execution_count": 27,
      "outputs": [
        {
          "output_type": "execute_result",
          "data": {
            "text/plain": [
              "array([-2.01495953, -2.06116438, -2.07301178, -2.04931698, -2.04457802,\n",
              "       -2.01851375, -1.96756994, -1.96756994, -2.00192739, -2.06353386,\n",
              "       -2.10263027, -2.11684715, -2.11329293, -2.11092345, -2.09078287,\n",
              "       -2.09078287, -2.09552183, -2.10855397, -2.11210819, -2.12395559,\n",
              "       -2.12395559, -2.11447767, -2.12987929, -2.13698773, -2.15831304,\n",
              "       -2.18911628, -2.19030102, -2.17252992, -2.1867468 , -2.20570263,\n",
              "       -2.21044159, -2.21162633, -2.23769061, -2.23887535, -2.19148576,\n",
              "       -2.21044159, -2.20096367, -2.14883512, -2.12040137, -2.13580299,\n",
              "       -2.18200784, -2.1512046 , -2.09670657, -2.07775074, -2.05997964,\n",
              "       -2.04813224, -2.02799167, -2.02443745, -2.02917641, -2.01969849,\n",
              "       -2.00666635, -1.98178682, -1.96164624, -1.9723089 , -1.9782326 ,\n",
              "       -1.9604615 , -1.92847353, -1.91188717, -1.89648555, -1.89885503,\n",
              "       -1.89767029, -1.91188717, -1.92491931, -1.93439722, -1.93558196,\n",
              "       -1.9426904 , -1.95098358, -1.93913618, -1.91899561, -1.91307191,\n",
              "       -1.89767029, -1.87871446, -1.86686706, -1.85857388, -1.84791122,\n",
              "       -1.83606382, -1.80052163, -1.76260996, -1.75550152, -1.74720834,\n",
              "       -1.7637947 , -1.77208788, -1.76142522, -1.76853366, -1.75668626,\n",
              "       -1.74720834, -1.7460236 , -1.74720834, -1.74365412, -1.73891516,\n",
              "       -1.71995933, -1.72469828, -1.70811193, -1.69507979, -1.69981875,\n",
              "       -1.70455771, -1.69389505, -1.69034083, -1.69507979, -1.69152557])"
            ]
          },
          "metadata": {},
          "execution_count": 27
        }
      ]
    },
    {
      "cell_type": "code",
      "metadata": {
        "id": "qf07_O2Vf-W2"
      },
      "source": [
        "def prepare_xy(dataset, window_size=20):\n",
        "\n",
        "    dataX, dataY = [], []\n",
        "    \n",
        "    for i in range(len(dataset)-window_size):\n",
        "        \n",
        "        #Prepare input features\n",
        "        input_features = dataset[i:(i+window_size)]        \n",
        "        dataX.append(input_features)\n",
        "\n",
        "        #Prepare Label\n",
        "        label = dataset[i + window_size]\n",
        "        dataY.append(label)\n",
        "    \n",
        "    return np.array(dataX), np.array(dataY)"
      ],
      "execution_count": 28,
      "outputs": []
    },
    {
      "cell_type": "code",
      "metadata": {
        "id": "8BosoDXyf2WQ"
      },
      "source": [
        "#Prepare x,y for train and test\n",
        "train_x, train_y = prepare_xy(norm_train)\n",
        "test_x, test_y = prepare_xy(norm_test)"
      ],
      "execution_count": 29,
      "outputs": []
    },
    {
      "cell_type": "markdown",
      "metadata": {
        "id": "H7AvEtT5f30e"
      },
      "source": [
        "Build X (Input features) and y (Label) for Model training"
      ]
    },
    {
      "cell_type": "code",
      "metadata": {
        "id": "FQspsvJvhjXt",
        "colab": {
          "base_uri": "https://localhost:8080/"
        },
        "outputId": "e26d89a9-d773-4921-c284-62ce5eb62204"
      },
      "source": [
        "train_x.shape"
      ],
      "execution_count": 30,
      "outputs": [
        {
          "output_type": "execute_result",
          "data": {
            "text/plain": [
              "(336420, 20)"
            ]
          },
          "metadata": {},
          "execution_count": 30
        }
      ]
    },
    {
      "cell_type": "code",
      "metadata": {
        "id": "3XtReVUlopn6",
        "colab": {
          "base_uri": "https://localhost:8080/"
        },
        "outputId": "4010c39c-6118-404e-a4ee-a5080bcd5735"
      },
      "source": [
        "train_y.shape"
      ],
      "execution_count": 31,
      "outputs": [
        {
          "output_type": "execute_result",
          "data": {
            "text/plain": [
              "(336420,)"
            ]
          },
          "metadata": {},
          "execution_count": 31
        }
      ]
    },
    {
      "cell_type": "code",
      "metadata": {
        "id": "VTzDIY_Shl-j",
        "colab": {
          "base_uri": "https://localhost:8080/"
        },
        "outputId": "dec3246c-834a-468c-add0-eb7026e70129"
      },
      "source": [
        "#First example input features (x) \n",
        "train_x[0]"
      ],
      "execution_count": 32,
      "outputs": [
        {
          "output_type": "execute_result",
          "data": {
            "text/plain": [
              "array([-2.01495953, -2.06116438, -2.07301178, -2.04931698, -2.04457802,\n",
              "       -2.01851375, -1.96756994, -1.96756994, -2.00192739, -2.06353386,\n",
              "       -2.10263027, -2.11684715, -2.11329293, -2.11092345, -2.09078287,\n",
              "       -2.09078287, -2.09552183, -2.10855397, -2.11210819, -2.12395559])"
            ]
          },
          "metadata": {},
          "execution_count": 32
        }
      ]
    },
    {
      "cell_type": "code",
      "metadata": {
        "id": "tkbT1ZQXhwYT",
        "colab": {
          "base_uri": "https://localhost:8080/"
        },
        "outputId": "6927cc0c-008b-424d-8035-8b3cf2bb33c0"
      },
      "source": [
        "#First example label (y)\n",
        "train_y[0]"
      ],
      "execution_count": 33,
      "outputs": [
        {
          "output_type": "execute_result",
          "data": {
            "text/plain": [
              "-2.1239555882932875"
            ]
          },
          "metadata": {},
          "execution_count": 33
        }
      ]
    },
    {
      "cell_type": "markdown",
      "metadata": {
        "id": "qNO-la5TjMau"
      },
      "source": [
        "Visualize single example"
      ]
    },
    {
      "cell_type": "code",
      "metadata": {
        "id": "ZaP0m6qQjPEA"
      },
      "source": [
        "def show_example(input_features, target, prediction=None):\n",
        "\n",
        "    #Plot historical values\n",
        "    plt.plot(list(range(input_features.shape[0])), input_features.flatten(), '.-', label='History' )\n",
        "    \n",
        "    #Plot target\n",
        "    plt.plot(input_features.shape[0]+1, target, 'rx', markersize=10, label='Actual')\n",
        "\n",
        "    #Plot prediction, if applicable\n",
        "    if prediction:\n",
        "        plt.plot(input_features.shape[0]+1, prediction, 'go', markersize=10, label='Prediction')\n",
        "\n",
        "    plt.legend()\n",
        "    plt.show()"
      ],
      "execution_count": 34,
      "outputs": []
    },
    {
      "cell_type": "code",
      "metadata": {
        "id": "DEWFwbnlmGTu",
        "colab": {
          "base_uri": "https://localhost:8080/",
          "height": 265
        },
        "outputId": "818a7c1c-5ff8-432e-a109-d7ffc00ffa50"
      },
      "source": [
        "#Display examples\n",
        "exp_num = np.random.randint(0, train_x.shape[0])\n",
        "show_example(train_x[exp_num], train_y[exp_num])"
      ],
      "execution_count": 35,
      "outputs": [
        {
          "output_type": "display_data",
          "data": {
            "image/png": "[encoded data removed]",
            "text/plain": [
              "<Figure size 432x288 with 1 Axes>"
            ]
          },
          "metadata": {
            "needs_background": "light"
          }
        }
      ]
    },
    {
      "cell_type": "markdown",
      "metadata": {
        "id": "2knlmVnpnw7o"
      },
      "source": [
        "Prediction using Average method"
      ]
    },
    {
      "cell_type": "code",
      "metadata": {
        "id": "pgTOSWW5nzy2",
        "colab": {
          "base_uri": "https://localhost:8080/",
          "height": 265
        },
        "outputId": "72c0cc6b-e510-4c5c-d7c8-acdd36331833"
      },
      "source": [
        "#Prediction is taken as average of all the points in sequence e.g 20\n",
        "exp_num = np.random.randint(0, train_x.shape[0])\n",
        "show_example(train_x[exp_num], train_y[exp_num], train_x[exp_num].mean())"
      ],
      "execution_count": 36,
      "outputs": [
        {
          "output_type": "display_data",
          "data": {
            "image/png": "[encoded data removed]",
            "text/plain": [
              "<Figure size 432x288 with 1 Axes>"
            ]
          },
          "metadata": {
            "needs_background": "light"
          }
        }
      ]
    },
    {
      "cell_type": "markdown",
      "metadata": {
        "id": "XOrQuVVNoZVs"
      },
      "source": [
        "#### Build Model"
      ]
    },
    {
      "cell_type": "code",
      "metadata": {
        "id": "rXCHSg0oobNB"
      },
      "source": [
        "import tensorflow as tf"
      ],
      "execution_count": 37,
      "outputs": []
    },
    {
      "cell_type": "code",
      "metadata": {
        "id": "IyVKIYeuouHj"
      },
      "source": [
        "#Random seed for reproducibility\n",
        "tf.random.set_seed(13)"
      ],
      "execution_count": 38,
      "outputs": []
    },
    {
      "cell_type": "code",
      "metadata": {
        "id": "cUOWIGahocrE"
      },
      "source": [
        "#Build Model\n",
        "tf.keras.backend.clear_session()\n",
        "model = tf.keras.Sequential()\n",
        "\n",
        "#Add LSTM layer\n",
        "model.add(tf.keras.layers.LSTM(8, input_shape=(train_x.shape[1], 1,)))\n",
        "\n",
        "#Add Output layer\n",
        "model.add(tf.keras.layers.Dense(1))"
      ],
      "execution_count": 39,
      "outputs": []
    },
    {
      "cell_type": "code",
      "metadata": {
        "id": "8WaACfASr3HX"
      },
      "source": [
        "#Compile the model\n",
        "model.compile(optimizer='adam', loss='mae')"
      ],
      "execution_count": 40,
      "outputs": []
    },
    {
      "cell_type": "code",
      "metadata": {
        "id": "rK1L2d6Mq3Dn",
        "colab": {
          "base_uri": "https://localhost:8080/"
        },
        "outputId": "1914b38a-e112-4179-caae-b7385a027a1d"
      },
      "source": [
        "model.summary()"
      ],
      "execution_count": 41,
      "outputs": [
        {
          "output_type": "stream",
          "name": "stdout",
          "text": [
            "Model: \"sequential\"\n",
            "_________________________________________________________________\n",
            "Layer (type)                 Output Shape              Param #   \n",
            "=================================================================\n",
            "lstm (LSTM)                  (None, 8)                 320       \n",
            "_________________________________________________________________\n",
            "dense (Dense)                (None, 1)                 9         \n",
            "=================================================================\n",
            "Total params: 329\n",
            "Trainable params: 329\n",
            "Non-trainable params: 0\n",
            "_________________________________________________________________\n"
          ]
        }
      ]
    },
    {
      "cell_type": "markdown",
      "metadata": {
        "id": "M09Jxr3-sMW_"
      },
      "source": [
        "Train the model\n",
        "\n",
        "- Convert batch to be 3 dimensional data : Batch size x Sequence length x 1"
      ]
    },
    {
      "cell_type": "code",
      "metadata": {
        "id": "DO2PxuC_q_9Y",
        "colab": {
          "base_uri": "https://localhost:8080/"
        },
        "outputId": "7fcad34e-6acd-4778-8c1a-b12526329290"
      },
      "source": [
        "train_x.shape"
      ],
      "execution_count": 42,
      "outputs": [
        {
          "output_type": "execute_result",
          "data": {
            "text/plain": [
              "(336420, 20)"
            ]
          },
          "metadata": {},
          "execution_count": 42
        }
      ]
    },
    {
      "cell_type": "code",
      "metadata": {
        "id": "G2uYp7lxuXK3"
      },
      "source": [
        "train_x = np.expand_dims(train_x, axis=2)\n",
        "test_x = np.expand_dims(test_x, axis=2)"
      ],
      "execution_count": 43,
      "outputs": []
    },
    {
      "cell_type": "code",
      "metadata": {
        "id": "TlbBZE79unrV",
        "colab": {
          "base_uri": "https://localhost:8080/"
        },
        "outputId": "deb4971b-b59d-472d-f0ff-22aa875e1377"
      },
      "source": [
        "train_x.shape"
      ],
      "execution_count": 44,
      "outputs": [
        {
          "output_type": "execute_result",
          "data": {
            "text/plain": [
              "(336420, 20, 1)"
            ]
          },
          "metadata": {},
          "execution_count": 44
        }
      ]
    },
    {
      "cell_type": "code",
      "metadata": {
        "id": "5bPyg3Y4uqMR",
        "colab": {
          "base_uri": "https://localhost:8080/"
        },
        "outputId": "a8a3dbdd-ae36-452b-b864-7b68ab807a2a"
      },
      "source": [
        "train_y.shape"
      ],
      "execution_count": 45,
      "outputs": [
        {
          "output_type": "execute_result",
          "data": {
            "text/plain": [
              "(336420,)"
            ]
          },
          "metadata": {},
          "execution_count": 45
        }
      ]
    },
    {
      "cell_type": "code",
      "metadata": {
        "id": "6XGlrnVdsNpY",
        "colab": {
          "base_uri": "https://localhost:8080/"
        },
        "outputId": "bbe5799b-8148-4a28-e0fb-4ca583c983d6"
      },
      "source": [
        "model.fit(train_x, train_y,\n",
        "          validation_data=(test_x, test_y),\n",
        "          epochs=20, \n",
        "          batch_size=256)"
      ],
      "execution_count": 46,
      "outputs": [
        {
          "output_type": "stream",
          "name": "stdout",
          "text": [
            "Epoch 1/20\n",
            "1315/1315 [==============================] - 16s 10ms/step - loss: 0.0652 - val_loss: 0.0226\n",
            "Epoch 2/20\n",
            "1315/1315 [==============================] - 13s 10ms/step - loss: 0.0192 - val_loss: 0.0178\n",
            "Epoch 3/20\n",
            "1315/1315 [==============================] - 13s 10ms/step - loss: 0.0168 - val_loss: 0.0164\n",
            "Epoch 4/20\n",
            "1315/1315 [==============================] - 13s 10ms/step - loss: 0.0159 - val_loss: 0.0162\n",
            "Epoch 5/20\n",
            "1315/1315 [==============================] - 13s 10ms/step - loss: 0.0155 - val_loss: 0.0157\n",
            "Epoch 6/20\n",
            "1315/1315 [==============================] - 13s 10ms/step - loss: 0.0153 - val_loss: 0.0159\n",
            "Epoch 7/20\n",
            "1315/1315 [==============================] - 13s 10ms/step - loss: 0.0153 - val_loss: 0.0157\n",
            "Epoch 8/20\n",
            "1315/1315 [==============================] - 13s 10ms/step - loss: 0.0153 - val_loss: 0.0158\n",
            "Epoch 9/20\n",
            "1315/1315 [==============================] - 13s 10ms/step - loss: 0.0153 - val_loss: 0.0158\n",
            "Epoch 10/20\n",
            "1315/1315 [==============================] - 13s 10ms/step - loss: 0.0153 - val_loss: 0.0158\n",
            "Epoch 11/20\n",
            "1315/1315 [==============================] - 13s 10ms/step - loss: 0.0153 - val_loss: 0.0158\n",
            "Epoch 12/20\n",
            "1315/1315 [==============================] - 13s 10ms/step - loss: 0.0152 - val_loss: 0.0157\n",
            "Epoch 13/20\n",
            "1315/1315 [==============================] - 13s 10ms/step - loss: 0.0152 - val_loss: 0.0156\n",
            "Epoch 14/20\n",
            "1315/1315 [==============================] - 13s 10ms/step - loss: 0.0152 - val_loss: 0.0156\n",
            "Epoch 15/20\n",
            "1315/1315 [==============================] - 13s 10ms/step - loss: 0.0152 - val_loss: 0.0155\n",
            "Epoch 16/20\n",
            "1315/1315 [==============================] - 13s 10ms/step - loss: 0.0152 - val_loss: 0.0155\n",
            "Epoch 17/20\n",
            "1315/1315 [==============================] - 13s 10ms/step - loss: 0.0152 - val_loss: 0.0161\n",
            "Epoch 18/20\n",
            "1315/1315 [==============================] - 13s 10ms/step - loss: 0.0152 - val_loss: 0.0156\n",
            "Epoch 19/20\n",
            "1315/1315 [==============================] - 13s 10ms/step - loss: 0.0152 - val_loss: 0.0156\n",
            "Epoch 20/20\n",
            "1315/1315 [==============================] - 13s 10ms/step - loss: 0.0151 - val_loss: 0.0156\n"
          ]
        },
        {
          "output_type": "execute_result",
          "data": {
            "text/plain": [
              "<keras.callbacks.History at 0x7f7eeb2af910>"
            ]
          },
          "metadata": {},
          "execution_count": 46
        }
      ]
    },
    {
      "cell_type": "code",
      "metadata": {
        "id": "9eQv25sVsLSE",
        "colab": {
          "base_uri": "https://localhost:8080/"
        },
        "outputId": "2c8c7d30-7d7f-43b2-d2e4-f569b25d8658"
      },
      "source": [
        "#Model Prediction on first example\n",
        "a = model.predict(test_x[0:1])\n",
        "print('Normalized Prediction', a)"
      ],
      "execution_count": 47,
      "outputs": [
        {
          "output_type": "stream",
          "name": "stdout",
          "text": [
            "Normalized Prediction [[0.63099504]]\n"
          ]
        }
      ]
    },
    {
      "cell_type": "code",
      "metadata": {
        "id": "Aye03H6gSTLy",
        "colab": {
          "base_uri": "https://localhost:8080/"
        },
        "outputId": "0dd08071-24f4-4b14-8823-5aa6f751562f"
      },
      "source": [
        "print('De-normalized Prediction', a * std + mean)"
      ],
      "execution_count": 48,
      "outputs": [
        {
          "output_type": "stream",
          "name": "stdout",
          "text": [
            "De-normalized Prediction [[14.313635]]\n"
          ]
        }
      ]
    },
    {
      "cell_type": "code",
      "metadata": {
        "id": "rKbmpOpLSbpw",
        "colab": {
          "base_uri": "https://localhost:8080/"
        },
        "outputId": "34075f5a-f726-41ae-942c-ccd978261fa4"
      },
      "source": [
        "#Actual \n",
        "test_y[0]*std+mean"
      ],
      "execution_count": 49,
      "outputs": [
        {
          "output_type": "execute_result",
          "data": {
            "text/plain": [
              "14.3"
            ]
          },
          "metadata": {},
          "execution_count": 49
        }
      ]
    },
    {
      "cell_type": "markdown",
      "metadata": {
        "id": "WwJRhkD6wEkC"
      },
      "source": [
        "Visualize Model prediction"
      ]
    },
    {
      "cell_type": "code",
      "metadata": {
        "id": "4AO6Ux1dvmC2",
        "colab": {
          "base_uri": "https://localhost:8080/",
          "height": 265
        },
        "outputId": "4c9b24a5-8dad-4c3d-dba3-7a2c7a57e59d"
      },
      "source": [
        "#Pick a test example\n",
        "exp_num = np.random.randint(0, test_x.shape[0])\n",
        "\n",
        "#Make input example a batch of 1\n",
        "prediction = model.predict(np.expand_dims(test_x[exp_num], axis=0))\n",
        "\n",
        "#Visualize\n",
        "show_example(test_x[exp_num], test_y[exp_num], prediction[0])"
      ],
      "execution_count": 50,
      "outputs": [
        {
          "output_type": "display_data",
          "data": {
            "image/png": "[encoded data removed]",
            "text/plain": [
              "<Figure size 432x288 with 1 Axes>"
            ]
          },
          "metadata": {
            "needs_background": "light"
          }
        }
      ]
    },
    {
      "cell_type": "markdown",
      "metadata": {
        "id": "VdN3qW-G9y4M"
      },
      "source": [
        "#### Mutiple Time Series - Data Preparation"
      ]
    },
    {
      "cell_type": "code",
      "metadata": {
        "id": "7dst_kHm91rc"
      },
      "source": [
        "#Air tempreture, pressure and air density\n",
        "features_to_include = ['T (degC)', 'p (mbar)', 'rho (g/m**3)']\n",
        "\n",
        "#Get data\n",
        "multi_df = df[features_to_include]\n",
        "multi_df.index = df['Date Time']"
      ],
      "execution_count": 51,
      "outputs": []
    },
    {
      "cell_type": "code",
      "metadata": {
        "id": "we_81mhYos_0",
        "colab": {
          "base_uri": "https://localhost:8080/",
          "height": 388
        },
        "outputId": "a2ac6879-7afc-4ebb-b45e-bdd94d71f0c8"
      },
      "source": [
        "multi_df.head(n=10)"
      ],
      "execution_count": 52,
      "outputs": [
        {
          "output_type": "execute_result",
          "data": {
            "text/html": [
              "<div>\n",
              "<style scoped>\n",
              "    .dataframe tbody tr th:only-of-type {\n",
              "        vertical-align: middle;\n",
              "    }\n",
              "\n",
              "    .dataframe tbody tr th {\n",
              "        vertical-align: top;\n",
              "    }\n",
              "\n",
              "    .dataframe thead th {\n",
              "        text-align: right;\n",
              "    }\n",
              "</style>\n",
              "<table border=\"1\" class=\"dataframe\">\n",
              "  <thead>\n",
              "    <tr style=\"text-align: right;\">\n",
              "      <th></th>\n",
              "      <th>T (degC)</th>\n",
              "      <th>p (mbar)</th>\n",
              "      <th>rho (g/m**3)</th>\n",
              "    </tr>\n",
              "    <tr>\n",
              "      <th>Date Time</th>\n",
              "      <th></th>\n",
              "      <th></th>\n",
              "      <th></th>\n",
              "    </tr>\n",
              "  </thead>\n",
              "  <tbody>\n",
              "    <tr>\n",
              "      <th>01.01.2009 00:10:00</th>\n",
              "      <td>-8.02</td>\n",
              "      <td>996.52</td>\n",
              "      <td>1307.75</td>\n",
              "    </tr>\n",
              "    <tr>\n",
              "      <th>01.01.2009 00:20:00</th>\n",
              "      <td>-8.41</td>\n",
              "      <td>996.57</td>\n",
              "      <td>1309.80</td>\n",
              "    </tr>\n",
              "    <tr>\n",
              "      <th>01.01.2009 00:30:00</th>\n",
              "      <td>-8.51</td>\n",
              "      <td>996.53</td>\n",
              "      <td>1310.24</td>\n",
              "    </tr>\n",
              "    <tr>\n",
              "      <th>01.01.2009 00:40:00</th>\n",
              "      <td>-8.31</td>\n",
              "      <td>996.51</td>\n",
              "      <td>1309.19</td>\n",
              "    </tr>\n",
              "    <tr>\n",
              "      <th>01.01.2009 00:50:00</th>\n",
              "      <td>-8.27</td>\n",
              "      <td>996.51</td>\n",
              "      <td>1309.00</td>\n",
              "    </tr>\n",
              "    <tr>\n",
              "      <th>01.01.2009 01:00:00</th>\n",
              "      <td>-8.05</td>\n",
              "      <td>996.50</td>\n",
              "      <td>1307.86</td>\n",
              "    </tr>\n",
              "    <tr>\n",
              "      <th>01.01.2009 01:10:00</th>\n",
              "      <td>-7.62</td>\n",
              "      <td>996.50</td>\n",
              "      <td>1305.68</td>\n",
              "    </tr>\n",
              "    <tr>\n",
              "      <th>01.01.2009 01:20:00</th>\n",
              "      <td>-7.62</td>\n",
              "      <td>996.50</td>\n",
              "      <td>1305.69</td>\n",
              "    </tr>\n",
              "    <tr>\n",
              "      <th>01.01.2009 01:30:00</th>\n",
              "      <td>-7.91</td>\n",
              "      <td>996.50</td>\n",
              "      <td>1307.17</td>\n",
              "    </tr>\n",
              "    <tr>\n",
              "      <th>01.01.2009 01:40:00</th>\n",
              "      <td>-8.43</td>\n",
              "      <td>996.53</td>\n",
              "      <td>1309.85</td>\n",
              "    </tr>\n",
              "  </tbody>\n",
              "</table>\n",
              "</div>"
            ],
            "text/plain": [
              "                     T (degC)  p (mbar)  rho (g/m**3)\n",
              "Date Time                                            \n",
              "01.01.2009 00:10:00     -8.02    996.52       1307.75\n",
              "01.01.2009 00:20:00     -8.41    996.57       1309.80\n",
              "01.01.2009 00:30:00     -8.51    996.53       1310.24\n",
              "01.01.2009 00:40:00     -8.31    996.51       1309.19\n",
              "01.01.2009 00:50:00     -8.27    996.51       1309.00\n",
              "01.01.2009 01:00:00     -8.05    996.50       1307.86\n",
              "01.01.2009 01:10:00     -7.62    996.50       1305.68\n",
              "01.01.2009 01:20:00     -7.62    996.50       1305.69\n",
              "01.01.2009 01:30:00     -7.91    996.50       1307.17\n",
              "01.01.2009 01:40:00     -8.43    996.53       1309.85"
            ]
          },
          "metadata": {},
          "execution_count": 52
        }
      ]
    },
    {
      "cell_type": "code",
      "metadata": {
        "id": "ij9w7cPBo8Pl"
      },
      "source": [
        "num_training_examples = int(0.8 * multi_df.shape[0])"
      ],
      "execution_count": 53,
      "outputs": []
    },
    {
      "cell_type": "code",
      "metadata": {
        "id": "61vQBnLD-aXU"
      },
      "source": [
        "#Train and Test data\n",
        "train_df = multi_df.iloc[:num_training_examples,:]\n",
        "test_df = multi_df.iloc[num_training_examples:,:]"
      ],
      "execution_count": 54,
      "outputs": []
    },
    {
      "cell_type": "code",
      "metadata": {
        "id": "GCx-6RA1-uoC",
        "colab": {
          "base_uri": "https://localhost:8080/"
        },
        "outputId": "ee429102-461d-4bf5-c670-55a4d0f5a4d7"
      },
      "source": [
        "train_df.shape"
      ],
      "execution_count": 55,
      "outputs": [
        {
          "output_type": "execute_result",
          "data": {
            "text/plain": [
              "(336440, 3)"
            ]
          },
          "metadata": {},
          "execution_count": 55
        }
      ]
    },
    {
      "cell_type": "markdown",
      "metadata": {
        "id": "Nep8UWLT-0r6"
      },
      "source": [
        "Normalize data"
      ]
    },
    {
      "cell_type": "code",
      "metadata": {
        "id": "c14c2zq6-xu1"
      },
      "source": [
        "#Find mean and standard deviation\n",
        "mean_multi = train_df.mean()\n",
        "std_multi = train_df.std()"
      ],
      "execution_count": 56,
      "outputs": []
    },
    {
      "cell_type": "code",
      "metadata": {
        "id": "iKq2CKdl-5ya",
        "colab": {
          "base_uri": "https://localhost:8080/"
        },
        "outputId": "4aea7234-eb35-41cf-bdcb-992194732c0c"
      },
      "source": [
        "mean_multi"
      ],
      "execution_count": 57,
      "outputs": [
        {
          "output_type": "execute_result",
          "data": {
            "text/plain": [
              "T (degC)           8.987613\n",
              "p (mbar)         988.832741\n",
              "rho (g/m**3)    1217.704598\n",
              "dtype: float64"
            ]
          },
          "metadata": {},
          "execution_count": 57
        }
      ]
    },
    {
      "cell_type": "code",
      "metadata": {
        "id": "c1wWrLep_JTW",
        "colab": {
          "base_uri": "https://localhost:8080/"
        },
        "outputId": "ed376d28-3384-4c63-c5ac-921a77480801"
      },
      "source": [
        "std_multi"
      ],
      "execution_count": 58,
      "outputs": [
        {
          "output_type": "execute_result",
          "data": {
            "text/plain": [
              "T (degC)         8.440685\n",
              "p (mbar)         8.349543\n",
              "rho (g/m**3)    40.129560\n",
              "dtype: float64"
            ]
          },
          "metadata": {},
          "execution_count": 58
        }
      ]
    },
    {
      "cell_type": "code",
      "metadata": {
        "id": "hsNUiFSv_NMV"
      },
      "source": [
        "#Normalize Train and Test data\n",
        "norm_train_df = (train_df - mean_multi)/std_multi\n",
        "norm_test_df = (test_df - mean_multi)/std_multi"
      ],
      "execution_count": 59,
      "outputs": []
    },
    {
      "cell_type": "code",
      "metadata": {
        "id": "w87oPIdL_VCB",
        "colab": {
          "base_uri": "https://localhost:8080/",
          "height": 234
        },
        "outputId": "2b2f5c1b-fcaa-461f-f4ed-063dad0d893e"
      },
      "source": [
        "norm_train_df.sample(n=5)"
      ],
      "execution_count": 60,
      "outputs": [
        {
          "output_type": "execute_result",
          "data": {
            "text/html": [
              "<div>\n",
              "<style scoped>\n",
              "    .dataframe tbody tr th:only-of-type {\n",
              "        vertical-align: middle;\n",
              "    }\n",
              "\n",
              "    .dataframe tbody tr th {\n",
              "        vertical-align: top;\n",
              "    }\n",
              "\n",
              "    .dataframe thead th {\n",
              "        text-align: right;\n",
              "    }\n",
              "</style>\n",
              "<table border=\"1\" class=\"dataframe\">\n",
              "  <thead>\n",
              "    <tr style=\"text-align: right;\">\n",
              "      <th></th>\n",
              "      <th>T (degC)</th>\n",
              "      <th>p (mbar)</th>\n",
              "      <th>rho (g/m**3)</th>\n",
              "    </tr>\n",
              "    <tr>\n",
              "      <th>Date Time</th>\n",
              "      <th></th>\n",
              "      <th></th>\n",
              "      <th></th>\n",
              "    </tr>\n",
              "  </thead>\n",
              "  <tbody>\n",
              "    <tr>\n",
              "      <th>08.03.2009 13:00:00</th>\n",
              "      <td>-0.314857</td>\n",
              "      <td>-1.214766</td>\n",
              "      <td>-0.028772</td>\n",
              "    </tr>\n",
              "    <tr>\n",
              "      <th>13.10.2009 13:30:00</th>\n",
              "      <td>-0.197568</td>\n",
              "      <td>0.828460</td>\n",
              "      <td>0.404575</td>\n",
              "    </tr>\n",
              "    <tr>\n",
              "      <th>05.06.2009 20:50:00</th>\n",
              "      <td>0.013315</td>\n",
              "      <td>-0.685396</td>\n",
              "      <td>-0.197725</td>\n",
              "    </tr>\n",
              "    <tr>\n",
              "      <th>21.01.2009 22:00:00</th>\n",
              "      <td>-1.323070</td>\n",
              "      <td>-0.700965</td>\n",
              "      <td>1.085868</td>\n",
              "    </tr>\n",
              "    <tr>\n",
              "      <th>28.09.2012 05:30:00</th>\n",
              "      <td>0.388877</td>\n",
              "      <td>0.087102</td>\n",
              "      <td>-0.377393</td>\n",
              "    </tr>\n",
              "  </tbody>\n",
              "</table>\n",
              "</div>"
            ],
            "text/plain": [
              "                     T (degC)  p (mbar)  rho (g/m**3)\n",
              "Date Time                                            \n",
              "08.03.2009 13:00:00 -0.314857 -1.214766     -0.028772\n",
              "13.10.2009 13:30:00 -0.197568  0.828460      0.404575\n",
              "05.06.2009 20:50:00  0.013315 -0.685396     -0.197725\n",
              "21.01.2009 22:00:00 -1.323070 -0.700965      1.085868\n",
              "28.09.2012 05:30:00  0.388877  0.087102     -0.377393"
            ]
          },
          "metadata": {},
          "execution_count": 60
        }
      ]
    },
    {
      "cell_type": "markdown",
      "metadata": {
        "id": "OfCG9Sbf_nsj"
      },
      "source": [
        "Prepare X and Y"
      ]
    },
    {
      "cell_type": "code",
      "metadata": {
        "id": "4KQYs3Ti_iJN"
      },
      "source": [
        "def prepare_xy_multi(dataset, num_time_series=3, window_size=[20,15,10], target_series=0):\n",
        "\n",
        "    dataX, dataY = [], []\n",
        "\n",
        "    act_data = []\n",
        "\n",
        "    for i in range(num_time_series):\n",
        "        dataX.append([]) #Initialize an empty list for each time series\n",
        "        act_data.append(dataset.iloc[:,i].to_list())\n",
        "\n",
        "    #Get max window size\n",
        "    max_window_size = max(window_size)\n",
        "\n",
        "    for i in range(len(dataset)-max_window_size):\n",
        "        \n",
        "        #Prepare input for each time series\n",
        "        for j in range(num_time_series):\n",
        "\n",
        "            #Prepare input features\n",
        "            input_features = act_data[j][(i+max_window_size-window_size[j]):(i+max_window_size)]\n",
        "            dataX[j].append(input_features)\n",
        "\n",
        "        #Prepare Label\n",
        "        label = act_data[target_series][i + max_window_size]\n",
        "        dataY.append(label)\n",
        "    \n",
        "    return dataX, dataY"
      ],
      "execution_count": 61,
      "outputs": []
    },
    {
      "cell_type": "code",
      "metadata": {
        "id": "27_Na2_jBQLW"
      },
      "source": [
        "#Prepare Training and Test X, y\n",
        "train_x_multi, train_y_multi = prepare_xy_multi(norm_train_df)\n",
        "test_x_multi, test_y_multi = prepare_xy_multi(norm_test_df)"
      ],
      "execution_count": 62,
      "outputs": []
    },
    {
      "cell_type": "code",
      "metadata": {
        "id": "NOUi2pTXBwMx",
        "colab": {
          "base_uri": "https://localhost:8080/"
        },
        "outputId": "145f06cb-a4bc-46cb-e14e-b96260061bde"
      },
      "source": [
        "len(train_x_multi)"
      ],
      "execution_count": 63,
      "outputs": [
        {
          "output_type": "execute_result",
          "data": {
            "text/plain": [
              "3"
            ]
          },
          "metadata": {},
          "execution_count": 63
        }
      ]
    },
    {
      "cell_type": "code",
      "metadata": {
        "id": "WiskaI1g-UyP",
        "colab": {
          "base_uri": "https://localhost:8080/"
        },
        "outputId": "eb091f61-c16f-44fc-b778-de1891047faf"
      },
      "source": [
        "train_x_multi[2][0]"
      ],
      "execution_count": 64,
      "outputs": [
        {
          "output_type": "execute_result",
          "data": {
            "text/plain": [
              "[2.3408032109509063,\n",
              " 2.3560039758001605,\n",
              " 2.3525152756708203,\n",
              " 2.35351204713635,\n",
              " 2.334075003558607,\n",
              " 2.3343241964249937,\n",
              " 2.3408032109509063,\n",
              " 2.354259625735493,\n",
              " 2.358994290196733,\n",
              " 2.374942633645136]"
            ]
          },
          "metadata": {},
          "execution_count": 64
        }
      ]
    },
    {
      "cell_type": "markdown",
      "metadata": {
        "id": "w_Ry7JKCFHya"
      },
      "source": [
        "#### Build Model II"
      ]
    },
    {
      "cell_type": "code",
      "metadata": {
        "id": "8AFWVP3kp_sq"
      },
      "source": [
        "import tensorflow as tf"
      ],
      "execution_count": 65,
      "outputs": []
    },
    {
      "cell_type": "code",
      "metadata": {
        "id": "Ycup7zqKFK5P"
      },
      "source": [
        "#Build 3 input layers - one for each time series\n",
        "input_1 = tf.keras.layers.Input(shape=(20,1)) #Tempreture\n",
        "input_2 = tf.keras.layers.Input(shape=(15,1)) #Pressure\n",
        "input_3 = tf.keras.layers.Input(shape=(10,1)) #Relative humidity"
      ],
      "execution_count": 66,
      "outputs": []
    },
    {
      "cell_type": "code",
      "metadata": {
        "id": "Er732Ic1Fm5u"
      },
      "source": [
        "#Build 3 LSTM Layers - One for each time series\n",
        "lstm_1 = tf.keras.layers.LSTM(8)(input_1)\n",
        "lstm_2 = tf.keras.layers.LSTM(6)(input_2)\n",
        "lstm_3 = tf.keras.layers.LSTM(5)(input_3)"
      ],
      "execution_count": 67,
      "outputs": []
    },
    {
      "cell_type": "code",
      "metadata": {
        "id": "EhaC3-Csuakd",
        "colab": {
          "base_uri": "https://localhost:8080/"
        },
        "outputId": "77cb8cdc-ce93-4853-88c8-d3247264c3e4"
      },
      "source": [
        "lstm_1"
      ],
      "execution_count": 68,
      "outputs": [
        {
          "output_type": "execute_result",
          "data": {
            "text/plain": [
              "<KerasTensor: shape=(None, 8) dtype=float32 (created by layer 'lstm_1')>"
            ]
          },
          "metadata": {},
          "execution_count": 68
        }
      ]
    },
    {
      "cell_type": "code",
      "metadata": {
        "id": "255NHjJCDeKX",
        "colab": {
          "base_uri": "https://localhost:8080/"
        },
        "outputId": "57e0c0e7-1313-43c2-bf9c-dfa067f777cb"
      },
      "source": [
        "lstm_2"
      ],
      "execution_count": 69,
      "outputs": [
        {
          "output_type": "execute_result",
          "data": {
            "text/plain": [
              "<KerasTensor: shape=(None, 6) dtype=float32 (created by layer 'lstm_2')>"
            ]
          },
          "metadata": {},
          "execution_count": 69
        }
      ]
    },
    {
      "cell_type": "code",
      "metadata": {
        "id": "cLi7SmPuBWOr",
        "colab": {
          "base_uri": "https://localhost:8080/"
        },
        "outputId": "4caf8394-34f8-4870-ed9d-fb2eac96190a"
      },
      "source": [
        "lstm_3"
      ],
      "execution_count": 70,
      "outputs": [
        {
          "output_type": "execute_result",
          "data": {
            "text/plain": [
              "<KerasTensor: shape=(None, 5) dtype=float32 (created by layer 'lstm_3')>"
            ]
          },
          "metadata": {},
          "execution_count": 70
        }
      ]
    },
    {
      "cell_type": "code",
      "metadata": {
        "id": "JqPAeGmOF48D"
      },
      "source": [
        "#Concatenate LSTM layers output\n",
        "cat = tf.keras.layers.concatenate([lstm_1, lstm_2, lstm_3])"
      ],
      "execution_count": 71,
      "outputs": []
    },
    {
      "cell_type": "code",
      "metadata": {
        "id": "EZ62gahlGFv6",
        "colab": {
          "base_uri": "https://localhost:8080/"
        },
        "outputId": "86c1af35-92d8-48aa-a86e-614006a956be"
      },
      "source": [
        "cat"
      ],
      "execution_count": 72,
      "outputs": [
        {
          "output_type": "execute_result",
          "data": {
            "text/plain": [
              "<KerasTensor: shape=(None, 19) dtype=float32 (created by layer 'concatenate')>"
            ]
          },
          "metadata": {},
          "execution_count": 72
        }
      ]
    },
    {
      "cell_type": "code",
      "metadata": {
        "id": "cSZOsGivGHYP"
      },
      "source": [
        "#Output Layer\n",
        "op = tf.keras.layers.Dense(1)(cat)"
      ],
      "execution_count": 73,
      "outputs": []
    },
    {
      "cell_type": "code",
      "metadata": {
        "id": "Brq7M7mTqk2h",
        "colab": {
          "base_uri": "https://localhost:8080/"
        },
        "outputId": "1642582d-6f2f-4bb4-9377-2489b3eca6b3"
      },
      "source": [
        "op"
      ],
      "execution_count": 74,
      "outputs": [
        {
          "output_type": "execute_result",
          "data": {
            "text/plain": [
              "<KerasTensor: shape=(None, 1) dtype=float32 (created by layer 'dense_1')>"
            ]
          },
          "metadata": {},
          "execution_count": 74
        }
      ]
    },
    {
      "cell_type": "code",
      "metadata": {
        "id": "XpxgSvz1GNUu"
      },
      "source": [
        "#Build Non-Sequential Model\n",
        "model_multi = tf.keras.Model([input_1, input_2, input_3], #3 Inputs\n",
        "                             op) #Output"
      ],
      "execution_count": 75,
      "outputs": []
    },
    {
      "cell_type": "code",
      "metadata": {
        "id": "tFKmR18FGdO0"
      },
      "source": [
        "#compile model \n",
        "model_multi.compile(optimizer='adam', loss='mae')"
      ],
      "execution_count": 76,
      "outputs": []
    },
    {
      "cell_type": "code",
      "metadata": {
        "id": "thT_tSImqtVN",
        "colab": {
          "base_uri": "https://localhost:8080/"
        },
        "outputId": "5cf9c1ad-d2aa-4257-c786-77528d8a23b4"
      },
      "source": [
        "model_multi.summary()"
      ],
      "execution_count": 77,
      "outputs": [
        {
          "output_type": "stream",
          "name": "stdout",
          "text": [
            "Model: \"model\"\n",
            "__________________________________________________________________________________________________\n",
            "Layer (type)                    Output Shape         Param #     Connected to                     \n",
            "==================================================================================================\n",
            "input_1 (InputLayer)            [(None, 20, 1)]      0                                            \n",
            "__________________________________________________________________________________________________\n",
            "input_2 (InputLayer)            [(None, 15, 1)]      0                                            \n",
            "__________________________________________________________________________________________________\n",
            "input_3 (InputLayer)            [(None, 10, 1)]      0                                            \n",
            "__________________________________________________________________________________________________\n",
            "lstm_1 (LSTM)                   (None, 8)            320         input_1[0][0]                    \n",
            "__________________________________________________________________________________________________\n",
            "lstm_2 (LSTM)                   (None, 6)            192         input_2[0][0]                    \n",
            "__________________________________________________________________________________________________\n",
            "lstm_3 (LSTM)                   (None, 5)            140         input_3[0][0]                    \n",
            "__________________________________________________________________________________________________\n",
            "concatenate (Concatenate)       (None, 19)           0           lstm_1[0][0]                     \n",
            "                                                                 lstm_2[0][0]                     \n",
            "                                                                 lstm_3[0][0]                     \n",
            "__________________________________________________________________________________________________\n",
            "dense_1 (Dense)                 (None, 1)            20          concatenate[0][0]                \n",
            "==================================================================================================\n",
            "Total params: 672\n",
            "Trainable params: 672\n",
            "Non-trainable params: 0\n",
            "__________________________________________________________________________________________________\n"
          ]
        }
      ]
    },
    {
      "cell_type": "markdown",
      "metadata": {
        "id": "vD8_Mbr0Gm-M"
      },
      "source": [
        "##### Model Training"
      ]
    },
    {
      "cell_type": "markdown",
      "metadata": {
        "id": "M__bvuk0GySk"
      },
      "source": [
        "We need to feed 3 inputs. Each input will be 3 dimensional"
      ]
    },
    {
      "cell_type": "code",
      "metadata": {
        "id": "_SWP2u8KG3Gd"
      },
      "source": [
        "#Build data for training\n",
        "train_x_multi_1 = np.reshape(np.array(train_x_multi[0]), (len(train_x_multi[0]),len(train_x_multi[0][1]),1 ))\n",
        "train_x_multi_2 = np.reshape(np.array(train_x_multi[1]), (len(train_x_multi[1]),len(train_x_multi[1][1]),1 ))\n",
        "train_x_multi_3 = np.reshape(np.array(train_x_multi[2]), (len(train_x_multi[2]),len(train_x_multi[2][1]),1 ))"
      ],
      "execution_count": 78,
      "outputs": []
    },
    {
      "cell_type": "code",
      "metadata": {
        "id": "6bdjkAeQH1WN",
        "colab": {
          "base_uri": "https://localhost:8080/"
        },
        "outputId": "c02cc482-6a58-4156-a7ba-f09c6d0847dd"
      },
      "source": [
        "train_x_multi_1.shape"
      ],
      "execution_count": 79,
      "outputs": [
        {
          "output_type": "execute_result",
          "data": {
            "text/plain": [
              "(336420, 20, 1)"
            ]
          },
          "metadata": {},
          "execution_count": 79
        }
      ]
    },
    {
      "cell_type": "code",
      "metadata": {
        "id": "RcU5QwTVIHi-"
      },
      "source": [
        "#Build data for test\n",
        "test_x_multi_1 = np.reshape(np.array(test_x_multi[0]), (len(test_x_multi[0]),len(test_x_multi[0][1]),1 ))\n",
        "test_x_multi_2 = np.reshape(np.array(test_x_multi[1]), (len(test_x_multi[1]),len(test_x_multi[1][1]),1 ))\n",
        "test_x_multi_3 = np.reshape(np.array(test_x_multi[2]), (len(test_x_multi[2]),len(test_x_multi[2][1]),1 ))"
      ],
      "execution_count": 80,
      "outputs": []
    },
    {
      "cell_type": "code",
      "metadata": {
        "id": "L2mB5ACHvQN7",
        "colab": {
          "base_uri": "https://localhost:8080/"
        },
        "outputId": "e1341412-f1fb-41ef-f39d-afcd0c733042"
      },
      "source": [
        "test_x_multi_1.shape"
      ],
      "execution_count": 81,
      "outputs": [
        {
          "output_type": "execute_result",
          "data": {
            "text/plain": [
              "(84091, 20, 1)"
            ]
          },
          "metadata": {},
          "execution_count": 81
        }
      ]
    },
    {
      "cell_type": "code",
      "metadata": {
        "id": "Z6JaRoa-Gri6",
        "colab": {
          "base_uri": "https://localhost:8080/"
        },
        "outputId": "dff2fc55-8fe9-445f-80cd-7bbfe05e4ba7"
      },
      "source": [
        "#Model training\n",
        "model_multi.fit([train_x_multi_1, train_x_multi_2, train_x_multi_3], np.array(train_y_multi), \n",
        "                validation_data=([test_x_multi_1, test_x_multi_2, test_x_multi_3], np.array(test_y_multi)), \n",
        "                epochs=10, \n",
        "                batch_size=256)"
      ],
      "execution_count": 82,
      "outputs": [
        {
          "output_type": "stream",
          "name": "stdout",
          "text": [
            "Epoch 1/10\n",
            "1315/1315 [==============================] - 28s 18ms/step - loss: 0.0914 - val_loss: 0.0252\n",
            "Epoch 2/10\n",
            "1315/1315 [==============================] - 23s 18ms/step - loss: 0.0211 - val_loss: 0.0190\n",
            "Epoch 3/10\n",
            "1315/1315 [==============================] - 23s 18ms/step - loss: 0.0178 - val_loss: 0.0179\n",
            "Epoch 4/10\n",
            "1315/1315 [==============================] - 23s 17ms/step - loss: 0.0165 - val_loss: 0.0172\n",
            "Epoch 5/10\n",
            "1315/1315 [==============================] - 23s 17ms/step - loss: 0.0159 - val_loss: 0.0165\n",
            "Epoch 6/10\n",
            "1315/1315 [==============================] - 23s 17ms/step - loss: 0.0156 - val_loss: 0.0163\n",
            "Epoch 7/10\n",
            "1315/1315 [==============================] - 23s 18ms/step - loss: 0.0155 - val_loss: 0.0166\n",
            "Epoch 8/10\n",
            "1315/1315 [==============================] - 23s 17ms/step - loss: 0.0154 - val_loss: 0.0160\n",
            "Epoch 9/10\n",
            "1315/1315 [==============================] - 23s 18ms/step - loss: 0.0154 - val_loss: 0.0165\n",
            "Epoch 10/10\n",
            "1315/1315 [==============================] - 23s 18ms/step - loss: 0.0153 - val_loss: 0.0157\n"
          ]
        },
        {
          "output_type": "execute_result",
          "data": {
            "text/plain": [
              "<keras.callbacks.History at 0x7f7ed4803a50>"
            ]
          },
          "metadata": {},
          "execution_count": 82
        }
      ]
    },
    {
      "cell_type": "markdown",
      "metadata": {
        "id": "6ZIjnsQwJoWb"
      },
      "source": [
        "Visualize Model Prediction"
      ]
    },
    {
      "cell_type": "code",
      "metadata": {
        "id": "Yw3a_7jvIke3",
        "colab": {
          "base_uri": "https://localhost:8080/",
          "height": 265
        },
        "outputId": "34857b42-1a1b-450c-caef-9d0bce8edefb"
      },
      "source": [
        "#Pick a test example\n",
        "exp_num = np.random.randint(0, len(test_y_multi))\n",
        "\n",
        "#Prepare 3 batch inputs - each 3 dimensional\n",
        "in_1 = np.expand_dims(np.array(test_x_multi[0][exp_num]), axis=0)\n",
        "in_2 = np.expand_dims(np.array(test_x_multi[1][exp_num]), axis=0)\n",
        "in_3 = np.expand_dims(np.array(test_x_multi[2][exp_num]), axis=0)\n",
        "\n",
        "#print(in_1.shape, in_2.shape)\n",
        "#Make prediction\n",
        "prediction = model_multi.predict([in_1, in_2, in_3])\n",
        "\n",
        "#Visualize\n",
        "show_example(in_1[0], test_y_multi[exp_num], prediction[0])"
      ],
      "execution_count": 83,
      "outputs": [
        {
          "output_type": "display_data",
          "data": {
            "image/png": "[encoded data removed]",
            "text/plain": [
              "<Figure size 432x288 with 1 Axes>"
            ]
          },
          "metadata": {
            "needs_background": "light"
          }
        }
      ]
    },
    {
      "cell_type": "markdown",
      "metadata": {
        "id": "DwU_2jfCjv49"
      },
      "source": [
        "Using Single LSTM with same time window for multiple time series"
      ]
    },
    {
      "cell_type": "code",
      "metadata": {
        "id": "qo1DUq3pjn1J"
      },
      "source": [
        "train_x_multi, train_y_multi = prepare_xy_multi(norm_train_df, window_size=(20,20,20))\n",
        "test_x_multi, test_y_multi = prepare_xy_multi(norm_test_df, window_size=(20,20,20))"
      ],
      "execution_count": 84,
      "outputs": []
    },
    {
      "cell_type": "code",
      "metadata": {
        "id": "Sr9VopvDGXam"
      },
      "source": [
        "train_x = np.concatenate([np.reshape(train_x_multi[0], (-1, 20,1)), \n",
        "                          np.reshape(train_x_multi[1], (-1, 20,1)), \n",
        "                          np.reshape(train_x_multi[2], (-1, 20,1))], axis=2) "
      ],
      "execution_count": 85,
      "outputs": []
    },
    {
      "cell_type": "code",
      "metadata": {
        "id": "MH7Sw1gTGwvg",
        "colab": {
          "base_uri": "https://localhost:8080/"
        },
        "outputId": "ba962329-3985-4e29-efc3-f6ac014cdc40"
      },
      "source": [
        "train_x.shape"
      ],
      "execution_count": 86,
      "outputs": [
        {
          "output_type": "execute_result",
          "data": {
            "text/plain": [
              "(336420, 20, 3)"
            ]
          },
          "metadata": {},
          "execution_count": 86
        }
      ]
    },
    {
      "cell_type": "code",
      "metadata": {
        "id": "JWwZfTAyHjNK"
      },
      "source": [
        "test_x = np.concatenate([np.reshape(test_x_multi[0], (-1, 20,1)), \n",
        "                          np.reshape(test_x_multi[1], (-1, 20,1)), \n",
        "                          np.reshape(test_x_multi[2], (-1, 20,1))], axis=2) "
      ],
      "execution_count": 87,
      "outputs": []
    },
    {
      "cell_type": "code",
      "metadata": {
        "id": "CCWRE_aKHoBx",
        "colab": {
          "base_uri": "https://localhost:8080/"
        },
        "outputId": "00ef43a2-a565-493f-c150-239811e484be"
      },
      "source": [
        "test_x.shape"
      ],
      "execution_count": 88,
      "outputs": [
        {
          "output_type": "execute_result",
          "data": {
            "text/plain": [
              "(84091, 20, 3)"
            ]
          },
          "metadata": {},
          "execution_count": 88
        }
      ]
    },
    {
      "cell_type": "code",
      "metadata": {
        "id": "C8VLmiRRHpUN"
      },
      "source": [
        "model1 = tf.keras.Sequential()"
      ],
      "execution_count": 89,
      "outputs": []
    },
    {
      "cell_type": "code",
      "metadata": {
        "id": "D-OtiKaXHsZB"
      },
      "source": [
        "model1.add(tf.keras.layers.LSTM(8, input_shape=(20,3,)))"
      ],
      "execution_count": 90,
      "outputs": []
    },
    {
      "cell_type": "code",
      "metadata": {
        "id": "uRhgKqCvH0y3"
      },
      "source": [
        "model1.add(tf.keras.layers.Dense(1))"
      ],
      "execution_count": 91,
      "outputs": []
    },
    {
      "cell_type": "code",
      "metadata": {
        "id": "bBmEG_fnH7b4"
      },
      "source": [
        "model1.compile(optimizer='adam', loss='mae')"
      ],
      "execution_count": 92,
      "outputs": []
    },
    {
      "cell_type": "code",
      "metadata": {
        "id": "ptttB1hRIAwK",
        "colab": {
          "base_uri": "https://localhost:8080/"
        },
        "outputId": "8a0de29a-c720-4207-93cc-f36bb07fde7e"
      },
      "source": [
        "model1.summary()"
      ],
      "execution_count": 93,
      "outputs": [
        {
          "output_type": "stream",
          "name": "stdout",
          "text": [
            "Model: \"sequential_1\"\n",
            "_________________________________________________________________\n",
            "Layer (type)                 Output Shape              Param #   \n",
            "=================================================================\n",
            "lstm_4 (LSTM)                (None, 8)                 384       \n",
            "_________________________________________________________________\n",
            "dense_2 (Dense)              (None, 1)                 9         \n",
            "=================================================================\n",
            "Total params: 393\n",
            "Trainable params: 393\n",
            "Non-trainable params: 0\n",
            "_________________________________________________________________\n"
          ]
        }
      ]
    },
    {
      "cell_type": "code",
      "metadata": {
        "id": "6vDlRpsUICdd",
        "colab": {
          "base_uri": "https://localhost:8080/"
        },
        "outputId": "1e74de92-f7dd-4b73-bc19-debafb4b981e"
      },
      "source": [
        "model1.fit(train_x, np.array(train_y_multi), epochs=5, batch_size=200)"
      ],
      "execution_count": 94,
      "outputs": [
        {
          "output_type": "stream",
          "name": "stdout",
          "text": [
            "Epoch 1/5\n",
            "1683/1683 [==============================] - 18s 10ms/step - loss: 0.0845\n",
            "Epoch 2/5\n",
            "1683/1683 [==============================] - 16s 9ms/step - loss: 0.0191\n",
            "Epoch 3/5\n",
            "1683/1683 [==============================] - 16s 10ms/step - loss: 0.0167\n",
            "Epoch 4/5\n",
            "1683/1683 [==============================] - 16s 10ms/step - loss: 0.0159\n",
            "Epoch 5/5\n",
            "1683/1683 [==============================] - 16s 9ms/step - loss: 0.0155\n"
          ]
        },
        {
          "output_type": "execute_result",
          "data": {
            "text/plain": [
              "<keras.callbacks.History at 0x7f7ee679f7d0>"
            ]
          },
          "metadata": {},
          "execution_count": 94
        }
      ]
    },
    {
      "cell_type": "code",
      "metadata": {
        "id": "xdLWLjkwkphD",
        "colab": {
          "base_uri": "https://localhost:8080/"
        },
        "outputId": "0bf61d9d-4f0f-43f9-e9c5-10d991b0a0af"
      },
      "source": [
        "#Pick a test example\n",
        "exp_num = np.random.randint(0, test_x.shape[0])\n",
        "\n",
        "#Prepare 3 batch inputs - each 3 dimensional\n",
        "in_1 = np.expand_dims(test_x[exp_num], axis=0)\n",
        "\n",
        "#Make prediction\n",
        "prediction = model1.predict(in_1)\n",
        "\n",
        "#Visualize\n",
        "#show_example(in_1[0], test_y_multi[exp_num], prediction[0])\n",
        "prediction"
      ],
      "execution_count": 95,
      "outputs": [
        {
          "output_type": "execute_result",
          "data": {
            "text/plain": [
              "array([[2.0039876]], dtype=float32)"
            ]
          },
          "metadata": {},
          "execution_count": 95
        }
      ]
    },
    {
      "cell_type": "code",
      "metadata": {
        "id": "gNG7f2dmR00o"
      },
      "source": [
        ""
      ],
      "execution_count": 95,
      "outputs": []
    }
  ]
}