{
  "nbformat": 4,
  "nbformat_minor": 0,
  "metadata": {
    "colab": {
      "name": "Working with Multiple Time Series and Non-Time Series data.ipynb",
      "provenance": [],
      "collapsed_sections": []
    },
    "kernelspec": {
      "name": "python3",
      "display_name": "Python 3"
    }
  },
  "cells": [
    {
      "cell_type": "markdown",
      "metadata": {
        "id": "wMjfcMeXDyb1"
      },
      "source": [
        "For this example, following are the **assumptions**.\n",
        "\n",
        "\n",
        "1.   **Time Series** data: we have two time series data points\n",
        "- a. Inpatient data i.e number of patients requiring hospitalization on daily basis.\n",
        "- b. Outpatient data i.e number of patients who just need to consult doctor (no hospitalization) on daily basis.\n",
        "\n",
        "2.   **Non-Time Series** data: We also have two type of non time-series data as well.\n",
        "- Day of the week (value can be 0 to 6)\n",
        "- Holiday (value can be 0 or 1)\n",
        "\n",
        "In the code below, \n",
        "\n",
        "1. we will use **two LSTMs** (one each for Inpatient and outpatient data) to understand two time series data features. To each LSTM, we will feed a sequence of information (last few days of inpatient/outpatient data).\n",
        "\n",
        "2. The output of LSTMs will be **concatenated** with non-time series data features and then passed through other hidden layer(s) and output layer.\n",
        "\n",
        "\n",
        "As we are working with multiple inputs, this will be a non-sequential model. In non-sequential model, we build model layer by layer starting with 'InputLayer' for each input.\n"
      ]
    },
    {
      "cell_type": "code",
      "metadata": {
        "id": "3QtkQTWe5xzK"
      },
      "source": [
        "import tensorflow as tf"
      ],
      "execution_count": 1,
      "outputs": []
    },
    {
      "cell_type": "markdown",
      "metadata": {
        "id": "zbpxUfb7FzD-"
      },
      "source": [
        "Working with inpatient data:\n",
        "\n",
        "1. Create input layer to feed inpatient data. Assuming that last 5 days data is being used to prepare a sequence i.e **window size is 5**. \n",
        "2. Input layer data is first reshaped to **3D** (for LSTM) and then fed to LSTM. \n",
        "3. LSTM ouput will be **hidden state** at last time step (after working with all 5 data elements in the sequence)."
      ]
    },
    {
      "cell_type": "code",
      "metadata": {
        "id": "djbOXq5o6DSQ"
      },
      "source": [
        "#Inpatient\n",
        "input_1 = tf.keras.layers.Input(shape=(5,))"
      ],
      "execution_count": 2,
      "outputs": []
    },
    {
      "cell_type": "code",
      "metadata": {
        "id": "WitVQ0326iiu"
      },
      "source": [
        "#lstm for inpatient\n",
        "x1 = tf.keras.layers.Reshape((5,1,))(input_1)\n",
        "lstm1 = tf.keras.layers.LSTM(60)(x1)"
      ],
      "execution_count": 3,
      "outputs": []
    },
    {
      "cell_type": "code",
      "metadata": {
        "id": "0Sh4YUlX-SKu",
        "colab": {
          "base_uri": "https://localhost:8080/"
        },
        "outputId": "693e015c-7cb6-4a0f-b84b-54c4e082c90d"
      },
      "source": [
        "lstm1"
      ],
      "execution_count": 4,
      "outputs": [
        {
          "output_type": "execute_result",
          "data": {
            "text/plain": [
              "<KerasTensor: shape=(None, 60) dtype=float32 (created by layer 'lstm')>"
            ]
          },
          "metadata": {},
          "execution_count": 4
        }
      ]
    },
    {
      "cell_type": "code",
      "metadata": {
        "id": "hRbsLqEs_WAT",
        "colab": {
          "base_uri": "https://localhost:8080/"
        },
        "outputId": "b4abd623-0ea9-4a75-d4ad-60c1eb0f3454"
      },
      "source": [
        "x1"
      ],
      "execution_count": 5,
      "outputs": [
        {
          "output_type": "execute_result",
          "data": {
            "text/plain": [
              "<KerasTensor: shape=(None, 5, 1) dtype=float32 (created by layer 'reshape')>"
            ]
          },
          "metadata": {},
          "execution_count": 5
        }
      ]
    },
    {
      "cell_type": "markdown",
      "metadata": {
        "id": "-Fl20GyHGUC1"
      },
      "source": [
        "Here we will process Outpatient time series data\n",
        "1. Input layer where a sequence of 3 data elements (**window size = 3**) is fed.\n",
        "2. Reshape layer to make it 3D for LSTM\n",
        "3. LSTM layer which will provide last hidden state as output"
      ]
    },
    {
      "cell_type": "code",
      "metadata": {
        "id": "Rx9Cr9gG6TQ_"
      },
      "source": [
        "#outatient\n",
        "input_2 = tf.keras.layers.Input(shape=(3,))"
      ],
      "execution_count": 6,
      "outputs": []
    },
    {
      "cell_type": "code",
      "metadata": {
        "id": "_YZn0zRM7EOg"
      },
      "source": [
        "#lstm for outpatient\n",
        "x2 = tf.keras.layers.Reshape((3,1,))(input_2)\n",
        "lstm2 = tf.keras.layers.LSTM(30)(x2)"
      ],
      "execution_count": 7,
      "outputs": []
    },
    {
      "cell_type": "code",
      "metadata": {
        "id": "wfRDZb4f-bye",
        "colab": {
          "base_uri": "https://localhost:8080/"
        },
        "outputId": "b9e46152-6d5e-478a-eef8-d06b7210ebfb"
      },
      "source": [
        "lstm2"
      ],
      "execution_count": 8,
      "outputs": [
        {
          "output_type": "execute_result",
          "data": {
            "text/plain": [
              "<KerasTensor: shape=(None, 30) dtype=float32 (created by layer 'lstm_1')>"
            ]
          },
          "metadata": {},
          "execution_count": 8
        }
      ]
    },
    {
      "cell_type": "markdown",
      "metadata": {
        "id": "JD3BqnZKGzE9"
      },
      "source": [
        "Input layer for\n",
        "1. **Weekday** data: for each example, we will feed 7 numbers (**One hot encoding**)\n",
        "2. **Holiday**: Feed one number per example (either 0 or 1)"
      ]
    },
    {
      "cell_type": "code",
      "metadata": {
        "id": "klcWoeJ76bEu"
      },
      "source": [
        "#Weekday\n",
        "input_3 = tf.keras.layers.Input(shape=(7,))"
      ],
      "execution_count": 9,
      "outputs": []
    },
    {
      "cell_type": "code",
      "metadata": {
        "id": "DSk_EMjG6foO"
      },
      "source": [
        "#Holiday\n",
        "input_4 = tf.keras.layers.Input(shape=(1,))"
      ],
      "execution_count": 10,
      "outputs": []
    },
    {
      "cell_type": "markdown",
      "metadata": {
        "id": "lRj7Onh3HAJE"
      },
      "source": [
        "**Concatenate** output of two LSTMs with two non time-series features"
      ]
    },
    {
      "cell_type": "code",
      "metadata": {
        "id": "QgZJoOZk7MYu"
      },
      "source": [
        "concat = tf.keras.layers.concatenate([lstm1, lstm2, input_3, input_4])"
      ],
      "execution_count": 11,
      "outputs": []
    },
    {
      "cell_type": "code",
      "metadata": {
        "id": "7KhjzMoy-rOm",
        "colab": {
          "base_uri": "https://localhost:8080/"
        },
        "outputId": "e86f5847-9c01-4a30-dbf0-eff3893f52d6"
      },
      "source": [
        "concat"
      ],
      "execution_count": 12,
      "outputs": [
        {
          "output_type": "execute_result",
          "data": {
            "text/plain": [
              "<KerasTensor: shape=(None, 98) dtype=float32 (created by layer 'concatenate')>"
            ]
          },
          "metadata": {},
          "execution_count": 12
        }
      ]
    },
    {
      "cell_type": "markdown",
      "metadata": {
        "id": "bOQ5oI0vHGE4"
      },
      "source": [
        "**Output layer** (you can have other hidden layers before output layer)"
      ]
    },
    {
      "cell_type": "code",
      "metadata": {
        "id": "5amhfDeZ7Zl-"
      },
      "source": [
        "output_layer = tf.keras.layers.Dense(1, activation='sigmoid')(concat)"
      ],
      "execution_count": 13,
      "outputs": []
    },
    {
      "cell_type": "code",
      "metadata": {
        "id": "VLyrmVRC-3mb",
        "colab": {
          "base_uri": "https://localhost:8080/"
        },
        "outputId": "4ca57e3b-dc1a-45cb-a4a0-778404e3cdd6"
      },
      "source": [
        "output_layer"
      ],
      "execution_count": 14,
      "outputs": [
        {
          "output_type": "execute_result",
          "data": {
            "text/plain": [
              "<KerasTensor: shape=(None, 1) dtype=float32 (created by layer 'dense')>"
            ]
          },
          "metadata": {},
          "execution_count": 14
        }
      ]
    },
    {
      "cell_type": "markdown",
      "metadata": {
        "id": "5ubaWCgrHNoI"
      },
      "source": [
        "Build **non-sequential model** by indicating all inputs and output layers."
      ]
    },
    {
      "cell_type": "code",
      "metadata": {
        "id": "0Qa1waTX7nSu"
      },
      "source": [
        "#4 input layers and 1 output layer\n",
        "model = tf.keras.Model([input_1, input_2, input_3, input_4], output_layer)"
      ],
      "execution_count": 15,
      "outputs": []
    },
    {
      "cell_type": "code",
      "metadata": {
        "id": "kFLtl76G75SQ"
      },
      "source": [
        "#Compile the model\n",
        "model.compile(optimizer='adam', loss='mse')"
      ],
      "execution_count": 16,
      "outputs": []
    },
    {
      "cell_type": "code",
      "metadata": {
        "id": "fgEfaQv_8CNA",
        "colab": {
          "base_uri": "https://localhost:8080/"
        },
        "outputId": "63dfe011-b6d2-4e1e-e891-b830c1e32723"
      },
      "source": [
        "#Model summary\n",
        "model.summary()"
      ],
      "execution_count": 17,
      "outputs": [
        {
          "output_type": "stream",
          "name": "stdout",
          "text": [
            "Model: \"model\"\n",
            "__________________________________________________________________________________________________\n",
            "Layer (type)                    Output Shape         Param #     Connected to                     \n",
            "==================================================================================================\n",
            "input_1 (InputLayer)            [(None, 5)]          0                                            \n",
            "__________________________________________________________________________________________________\n",
            "input_2 (InputLayer)            [(None, 3)]          0                                            \n",
            "__________________________________________________________________________________________________\n",
            "reshape (Reshape)               (None, 5, 1)         0           input_1[0][0]                    \n",
            "__________________________________________________________________________________________________\n",
            "reshape_1 (Reshape)             (None, 3, 1)         0           input_2[0][0]                    \n",
            "__________________________________________________________________________________________________\n",
            "lstm (LSTM)                     (None, 60)           14880       reshape[0][0]                    \n",
            "__________________________________________________________________________________________________\n",
            "lstm_1 (LSTM)                   (None, 30)           3840        reshape_1[0][0]                  \n",
            "__________________________________________________________________________________________________\n",
            "input_3 (InputLayer)            [(None, 7)]          0                                            \n",
            "__________________________________________________________________________________________________\n",
            "input_4 (InputLayer)            [(None, 1)]          0                                            \n",
            "__________________________________________________________________________________________________\n",
            "concatenate (Concatenate)       (None, 98)           0           lstm[0][0]                       \n",
            "                                                                 lstm_1[0][0]                     \n",
            "                                                                 input_3[0][0]                    \n",
            "                                                                 input_4[0][0]                    \n",
            "__________________________________________________________________________________________________\n",
            "dense (Dense)                   (None, 1)            99          concatenate[0][0]                \n",
            "==================================================================================================\n",
            "Total params: 18,819\n",
            "Trainable params: 18,819\n",
            "Non-trainable params: 0\n",
            "__________________________________________________________________________________________________\n"
          ]
        }
      ]
    }
  ]
}